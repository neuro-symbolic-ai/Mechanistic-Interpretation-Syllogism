{
  "cells": [
    {
      "cell_type": "markdown",
      "metadata": {
        "id": "upSc7b_GabVR"
      },
      "source": [
        "# Main Demo\n",
        "## Introduction\n",
        "\n",
        "This Jupyter Notebook contains the code to reproduce the results presented in our paper \"A Mechanistic Interpretation of Syllogistic Reasoning in Auto-Regressive Language Models\".\n",
        "\n",
        "### Contents:\n",
        "1. Setup\n",
        "2. Dataset\n",
        "3. Intervention (Figure 4)\n",
        "4. Evaluation (Figure 5)\n",
        "5. Transferability (Figure 6, Table 2, Figure 3)\n",
        "\n",
        "Note: This demo is provided to ensure transparency and reproducibility of our research. If you encounter any issues or have questions, please contact the authors."
      ]
    },
    {
      "cell_type": "markdown",
      "metadata": {
        "id": "yqrK5YtiabVT"
      },
      "source": [
        "# 1. Setup"
      ]
    },
    {
      "cell_type": "markdown",
      "metadata": {
        "id": "9Xkk-cPjabVT"
      },
      "source": [
        "+ python >= 3.9.18\n",
        "+ pytorch >= 2.2.0\n",
        "+ plotly >= 5.19.0"
      ]
    },
    {
      "cell_type": "code",
      "execution_count": null,
      "metadata": {
        "colab": {
          "base_uri": "https://localhost:8080/"
        },
        "id": "oS1seCQnabVU",
        "outputId": "f6c7ef59-5ac4-4093-8bb6-60b6c40d4219"
      },
      "outputs": [],
      "source": [
        "# Installation of transformer_lens\n",
        "!pip install transformer_lens\n",
        "!pip install circuitsvis"
      ]
    },
    {
      "cell_type": "code",
      "execution_count": 1,
      "metadata": {
        "colab": {
          "base_uri": "https://localhost:8080/"
        },
        "id": "cCzKBMxqabVU",
        "outputId": "dc6e2967-dd5f-4995-a330-3247c547e0c3"
      },
      "outputs": [
        {
          "name": "stderr",
          "output_type": "stream",
          "text": [
            "/Users/geonhee/miniconda3/envs/textmining/lib/python3.9/site-packages/tqdm/auto.py:21: TqdmWarning: IProgress not found. Please update jupyter and ipywidgets. See https://ipywidgets.readthedocs.io/en/stable/user_install.html\n",
            "  from .autonotebook import tqdm as notebook_tqdm\n"
          ]
        },
        {
          "data": {
            "text/plain": [
              "<torch.autograd.grad_mode.set_grad_enabled at 0x10f8b7ac0>"
            ]
          },
          "execution_count": 1,
          "metadata": {},
          "output_type": "execute_result"
        }
      ],
      "source": [
        "# Import libraries\n",
        "import torch as t\n",
        "from torch import Tensor\n",
        "import random\n",
        "from functools import partial\n",
        "import importlib\n",
        "import circuitsvis as cv\n",
        "from transformer_lens.hook_points import HookPoint\n",
        "from transformer_lens import utils, HookedTransformer, HookedTransformerConfig, FactoredMatrix, ActivationCache\n",
        "\n",
        "from prepare_dataset import SyllogismDataset\n",
        "import helper_functions as h\n",
        "t.set_grad_enabled(False)"
      ]
    },
    {
      "cell_type": "code",
      "execution_count": 2,
      "metadata": {
        "id": "HR5D5WR7abVV"
      },
      "outputs": [],
      "source": [
        "# Device Setup\n",
        "device = t.device(\"cuda\" if t.cuda.is_available() else \"cpu\")\n",
        "device = t.device(\"mps\") # if machine has mps setup"
      ]
    },
    {
      "cell_type": "code",
      "execution_count": 3,
      "metadata": {
        "colab": {
          "base_uri": "https://localhost:8080/",
          "height": 386,
          "referenced_widgets": [
            "58ebdce076cf468fa948d6dd7ff78232",
            "d2f07839e6c4415eb7a799e436a25410",
            "e8263c1da2bd4b51aa2504ba63d9d19e",
            "6c72a02d62be45dbae42bc5d9153094a",
            "ec7d616c83594d0a862dc055c57fd28e",
            "ad4ab812967846448fdfce651ccb7063",
            "c4f9ee72b5334cb7ac457ee2a6736b82",
            "728352875c3649baa6cf7f0d6d89976a",
            "10e9b5626eba404588d5d349909ec486",
            "df5844b17e104330a194d81827e4794d",
            "6f87853b23f3435baf6e6e970d5cf8be",
            "ebed73a5ca29444f99d2ddc0e46d0949",
            "d2aad0ee2e2d48fa91c1f9540e24b89e",
            "b44ba17001474d0eb94a10aa703ae23e",
            "ff5a1c3848dc40689725f0ad4e0c3012",
            "1475f0f84cad4d02aaac885f104e48d9",
            "fcf18127c0fa4aee8994b6a351c8c6c0",
            "fd7144e07cb4411785ecfa7d06c68b45",
            "97ddff9129b34fbca679aeee70a6310c",
            "6d384726355140329f3c9cec99f2b395",
            "33cecec46ab14182840d3396303f229c",
            "fed923aad3244c69b1a17ec51d8380cf",
            "b1fbf0dc5b6b4ca1ba4303f330112122",
            "b42a8c1873cd41ca84c74775f3bc3014",
            "1810e9bf39a64d6e8bd795153bdab947",
            "df2280b11cca4ae3a44ece30aa85fe8a",
            "ff3e10a64e7c4fa690fbd4e1c62221c8",
            "4ce72097fd2d414bae15d314e84c1601",
            "0549de5fea7f43c5bae919e42514e88f",
            "cea3622a112048889abf9790a36a3430",
            "2e4d1feb03464831a39690cca8418e7b",
            "ddfe0041c56d424492e4bdccacb17fe5",
            "8f84e67ce76a4f009dc53961229a3f40",
            "b230a0231c3349b3b78463283b78cbaa",
            "9019b75f46004013ac4c502878108597",
            "cda198e4dca048a283ba5a0db23ffe5f",
            "0a5ac1ac6c55452783252a7a5b3665eb",
            "b3103efc6a9a40df997b20da2c23488c",
            "25c788619b2c497d88e32e6e74697ef3",
            "d9e547160a0d4be1be8cc9af0baa5a0c",
            "d372cc34d5ce40c7ae3aeb53bf56e410",
            "9c83aa96318445b3a705a27a4bf4f7b5",
            "7489ebacd06f46d8a81396c503e86db7",
            "04ef4130edac4e19805114902c6f047d",
            "179347415dc84f1ba67267d2cf808a3b",
            "40d1f18f0ac240dab72ed6c921f93e17",
            "9782344c7d1e4287be6ede79db520a88",
            "da1fa4aa225b48778d1e0f6196ce0323",
            "7070592c7f694442aeb72acc40a4105e",
            "af2f08e8e62d46648d2936fbdbd27f92",
            "aa966b9d9b4d41528b60ccffd9e5ecf4",
            "e7abbf03372d40af9ea192479e73603a",
            "31733f0e8a6c41848b0fe6235bae9195",
            "a0e2039b234c45d0a15f7c7dc2119288",
            "8a1b8930a65d47a2bda487042d92d54b",
            "3f751c0c58404c4c9157a41f6d4c6aa3",
            "1fabef23d47443efbc63e689389bf2f6",
            "2086182957284546aa4866bbf38cb622",
            "61f65572174e4fe58bee89e54804b9fb",
            "2c035786cb5f43cab56db915ebde9cea",
            "622fcaa686cf4c0f8b6fdf6e0ab4fc06",
            "5dc6671fcf844de5b5922a918fd064f2",
            "5547eb66254747ba97fa9ca97a6058de",
            "e7837e02d9ef4f8abf76415df685a193",
            "fc0e190fef7f4f0cbf512f6b66274ce0",
            "50efcb39d43747c6a6b75d4f1a82a905",
            "92cc046da26347febf724c4e777a4d5d",
            "1efe288b09044c59a1a61567fea01381",
            "5122e29250c14689b0e3798d301bd8d9",
            "21a1664eed0a43699dd839eef5dfcdef",
            "3cb013ab69c74952af3fe8ec62e9240d",
            "f0fe9f8a17e74f54924bc7daafc0e890",
            "4aece1edc32649f7be3a032f09bec1d9",
            "162defd82a544996a9246503f1d87d8e",
            "ed7d15352a7a4ff5acc67e2a70712074",
            "f3ec5fb56caf4ba3a99e209736014428",
            "1d8fa38139fd46a1b907e58c8f492cee"
          ]
        },
        "id": "t9VL-KKbabVV",
        "outputId": "9e0c8905-56eb-4e4a-a3fa-51a982fbc194"
      },
      "outputs": [
        {
          "name": "stdout",
          "output_type": "stream",
          "text": [
            "Loaded pretrained model gpt2-medium into HookedTransformer\n"
          ]
        }
      ],
      "source": [
        "# Import the model-medium Through HookedTransformer\n",
        "model_size = [\"gpt2-small\", \"gpt2-medium\", \"gpt2-large\", \"gpt2-xl\"]\n",
        "current_model = model_size[1] # medium\n",
        "\n",
        "model = HookedTransformer.from_pretrained(\n",
        "    current_model,\n",
        "    fold_ln=False,\n",
        "    device = device\n",
        ")"
      ]
    },
    {
      "cell_type": "code",
      "execution_count": 4,
      "metadata": {
        "id": "rN5_robqabVV"
      },
      "outputs": [],
      "source": [
        "# label setup for sequence\n",
        "labels = [\n",
        "    \"BEGIN\",\n",
        "    \"s_1\",\n",
        "    \"s_1 -> m_1\",\n",
        "    \"m_1\",\n",
        "    \"m_1 -> m_2\",\n",
        "    \"m_2\",\n",
        "    \"m_2 -> p\",\n",
        "    \"p\",\n",
        "    \"p -> s_2\",\n",
        "    \"s_2\",\n",
        "    \"END\"\n",
        "]"
      ]
    },
    {
      "cell_type": "markdown",
      "metadata": {
        "id": "UoHnar8YabVW"
      },
      "source": [
        "# 2. Dataset"
      ]
    },
    {
      "cell_type": "code",
      "execution_count": 5,
      "metadata": {
        "id": "i13vhimWabVW"
      },
      "outputs": [],
      "source": [
        "from prepare_dataset import SyllogismDataset\n",
        "import helper_functions as h"
      ]
    },
    {
      "cell_type": "code",
      "execution_count": 6,
      "metadata": {
        "id": "tEucO8PWabVW"
      },
      "outputs": [],
      "source": [
        "# Ensure the Dataset folder and dataset_generator.py file is in the same directory as this notebook\n",
        "# This file contains the custom data generation functions used in our experiments\n",
        "# 90 samples for each dataset, seed is set to 317 for reproducibility\n",
        "N = 90\n",
        "seed = 317"
      ]
    },
    {
      "cell_type": "code",
      "execution_count": 7,
      "metadata": {
        "colab": {
          "base_uri": "https://localhost:8080/"
        },
        "id": "O31NI6OHabVW",
        "outputId": "22a871e0-5139-4662-c330-ec989b760e69"
      },
      "outputs": [
        {
          "name": "stdout",
          "output_type": "stream",
          "text": [
            "All O are A. All A are W. Therefore, all O are =>  W\n",
            "All O are W. All W are A. Therefore, all O are =>  A\n",
            "All A are O. All O are W. Therefore, all A are =>  W\n",
            "All A are W. All W are O. Therefore, all A are =>  O\n",
            "All W are O. All O are A. Therefore, all W are =>  A\n",
            "All W are A. All A are O. Therefore, all W are =>  O\n"
          ]
        }
      ],
      "source": [
        "# Symbolic\n",
        "\n",
        "s_dataset = SyllogismDataset(\n",
        "            N=N/6, # because of permutation\n",
        "            seed=seed,\n",
        "            device=device,\n",
        "            type='symbolic',\n",
        "            template_type='AAA1'\n",
        "        )\n",
        "for s, l in zip(s_dataset.sentences[:6], s_dataset.labels[:6]):\n",
        "    print(f'{s} => {l}')"
      ]
    },
    {
      "cell_type": "code",
      "execution_count": 8,
      "metadata": {
        "colab": {
          "base_uri": "https://localhost:8080/"
        },
        "id": "q21_0M8kabVW",
        "outputId": "a0aa2d32-ae5f-4b15-adb0-63180df873c1"
      },
      "outputs": [
        {
          "data": {
            "text/plain": [
              "90"
            ]
          },
          "execution_count": 8,
          "metadata": {},
          "output_type": "execute_result"
        }
      ],
      "source": [
        "len(s_dataset.sentences)"
      ]
    },
    {
      "cell_type": "code",
      "execution_count": 9,
      "metadata": {
        "colab": {
          "base_uri": "https://localhost:8080/"
        },
        "id": "GQQQqZtRabVX",
        "outputId": "02d515dd-f45f-4434-8423-e74f7d5db4dc"
      },
      "outputs": [
        {
          "name": "stdout",
          "output_type": "stream",
          "text": [
            "All men are humans. All humans are mortal. Therefore, all men are =>  mortal\n",
            "All dens are units. All units are parts. Therefore, all dens are =>  parts\n",
            "All pets are animals. All animals are organisms. Therefore, all pets are =>  organisms\n",
            "All openings are starts. All starts are beginnings. Therefore, all openings are =>  beginnings\n",
            "All fronts are sides. All sides are surfaces. Therefore, all fronts are =>  surfaces\n",
            "All fences are boundaries. All boundaries are lines. Therefore, all fences are =>  lines\n"
          ]
        }
      ],
      "source": [
        "# Belief-Consistent\n",
        "bc_dataset = SyllogismDataset(\n",
        "            N=N,\n",
        "            seed=seed,\n",
        "            device=device,\n",
        "            type='consistent',\n",
        "            template_type='AAA1'\n",
        "        )\n",
        "for s, l in zip(bc_dataset.sentences[:6], bc_dataset.labels[:6]):\n",
        "    print(f'{s} => {l}')"
      ]
    },
    {
      "cell_type": "code",
      "execution_count": 10,
      "metadata": {
        "colab": {
          "base_uri": "https://localhost:8080/"
        },
        "id": "ht-U-pU0abVX",
        "outputId": "7373088c-ecf2-4534-cfb3-5f300dcebed6"
      },
      "outputs": [
        {
          "name": "stdout",
          "output_type": "stream",
          "text": [
            "All patients are cases. All cases are arguments. Therefore, all patients are =>  arguments\n",
            "All allegations are claims. All claims are rights. Therefore, all allegations are =>  rights\n",
            "All wards are people. All people are judges. Therefore, all wards are =>  judges\n",
            "All losers are people. All people are racists. Therefore, all losers are =>  racists\n",
            "All aliens are people. All people are parents. Therefore, all aliens are =>  parents\n",
            "All expectations are feelings. All feelings are sensitivity. Therefore, all expectations are =>  sensitivity\n"
          ]
        }
      ],
      "source": [
        "# Belief-Inconsistent\n",
        "bi_dataset = SyllogismDataset(\n",
        "            N=N,\n",
        "            seed=seed,\n",
        "            device=device,\n",
        "            type='inconsistent',\n",
        "            template_type='AAA1'\n",
        "        )\n",
        "for s, l in zip(bi_dataset.sentences[:6], bi_dataset.labels[:6]):\n",
        "    print(f'{s} => {l}')"
      ]
    },
    {
      "cell_type": "markdown",
      "metadata": {
        "id": "WnwBaIfXabVX"
      },
      "source": [
        "# 3. Empirical Evaluation Part"
      ]
    },
    {
      "cell_type": "markdown",
      "metadata": {
        "id": "oDL0yrbNabVX"
      },
      "source": [
        "## Localization of Transitive Reasoning Mechanisms"
      ]
    },
    {
      "cell_type": "code",
      "execution_count": 11,
      "metadata": {
        "id": "Ri84ktKTabVX"
      },
      "outputs": [],
      "source": [
        "# corruption function setup\n",
        "ALPHABET_LIST = [' A', ' B', ' C', ' D', ' E', ' F', ' G', ' H', ' I', ' J', ' K', ' L', ' M', ' N', ' O', ' P', ' Q', ' R', ' S', ' T', ' U', ' V', ' W', ' X', ' Y', ' Z']\n",
        "NUMBER_LIST = [' 1', ' 2', ' 3', ' 4', ' 5',' 6',' 7',' 8',' 9']\n",
        "def middle_term_corrupt(prompts, As, Bs, labels, prompt_type):\n",
        "    if prompt_type == 'symbolic':\n",
        "        candidates = ALPHABET_LIST\n",
        "    elif prompt_type == 'numeric':\n",
        "        candidates = NUMBER_LIST\n",
        "    elif prompt_type == 'non-symbolic':\n",
        "        candidates = bc_dataset.A + bc_dataset.B\n",
        "\n",
        "    corrupted_prompts = []\n",
        "\n",
        "    for i in range(len(prompts)):\n",
        "        prompt = prompts[i]\n",
        "        label = labels[i]\n",
        "        corrupted_labels = []\n",
        "        A = As[i]\n",
        "        B = Bs[i]\n",
        "\n",
        "        new_list = list(filter(lambda x: x not in [A, B, label], candidates))\n",
        "        target = random.choice(new_list)\n",
        "        corrupted_prompt = prompt.replace('All' + B , 'All'+ target)\n",
        "        corrupted_prompts.append(corrupted_prompt)\n",
        "        corrupted_labels.append(target)\n",
        "\n",
        "    return corrupted_prompts\n",
        "\n",
        "\n",
        "def all_term_corrupt(prompts, As, Bs, labels, prompt_type):\n",
        "    if prompt_type == 'symbolic':\n",
        "        candidates = ALPHABET_LIST\n",
        "    elif prompt_type == 'numeric':\n",
        "        candidates = NUMBER_LIST\n",
        "    elif prompt_type == 'non-symbolic':\n",
        "        candidates = bc_dataset.A + bc_dataset.B\n",
        "\n",
        "    corrupted_prompts = []\n",
        "    for i in range(len(prompts)):\n",
        "        prompt = prompts[i]\n",
        "        label = labels[i]\n",
        "        A = As[i]\n",
        "        B = Bs[i]\n",
        "        new_list = list(filter(lambda x: x not in [A, B, label], candidates))\n",
        "        target = random.sample(new_list, 3)\n",
        "        corrupted_prompt = 'All' + target[0] + ' are' + target[1] + '. All' + target[1] + ' are' + target[2] + '. Therefore, all' + target[0] + ' are'\n",
        "        corrupted_prompts.append(corrupted_prompt)\n",
        "    return corrupted_prompts\n",
        "\n"
      ]
    },
    {
      "cell_type": "code",
      "execution_count": 12,
      "metadata": {
        "colab": {
          "base_uri": "https://localhost:8080/"
        },
        "id": "JTSNV9e6abVX",
        "outputId": "f672d085-0f71-4c37-9bcd-8c5e86bf4a9b"
      },
      "outputs": [
        {
          "name": "stdout",
          "output_type": "stream",
          "text": [
            "All O are A. All A are W. Therefore, all O are  W  A\n",
            "All O are W. All W are A. Therefore, all O are  A  W\n",
            "All A are O. All O are W. Therefore, all A are  W  O\n",
            "All A are W. All W are O. Therefore, all A are  O  W\n",
            "All W are O. All O are A. Therefore, all W are  A  O\n",
            "All W are A. All A are O. Therefore, all W are  O  A\n"
          ]
        }
      ],
      "source": [
        "# answer pair setting (p, m)\n",
        "s_prompts = s_dataset.sentences\n",
        "s_labels = s_dataset.labels\n",
        "s_second_labels = s_dataset.B\n",
        "s_As = s_dataset.A\n",
        "s_Bs = s_dataset.B\n",
        "\n",
        "s_answers = list(zip(s_labels, s_second_labels))\n",
        "s_answer_tokens = t.concat([\n",
        "    model.to_tokens(names, prepend_bos=False).T for names in s_answers\n",
        "])\n",
        "for prompt, (p, m) in zip(s_prompts[:6], s_answers):\n",
        "    print(prompt, p, m)"
      ]
    },
    {
      "cell_type": "code",
      "execution_count": 13,
      "metadata": {
        "id": "KOgRhqo5abVX"
      },
      "outputs": [],
      "source": [
        "# Corruption and tokenization\n",
        "s_corrupted_prompts = middle_term_corrupt(s_prompts, s_As, s_Bs, s_labels, 'symbolic')\n",
        "\n",
        "s_tokens = model.to_tokens(s_prompts, prepend_bos=False).to(device)\n",
        "s_corrupted_tokens = model.to_tokens(s_corrupted_prompts, prepend_bos=False).to(device)"
      ]
    },
    {
      "cell_type": "code",
      "execution_count": 14,
      "metadata": {
        "colab": {
          "base_uri": "https://localhost:8080/"
        },
        "id": "JRSKR79babVX",
        "outputId": "bf80002d-fa03-47e5-e8d3-9246c612c334"
      },
      "outputs": [
        {
          "name": "stdout",
          "output_type": "stream",
          "text": [
            "Clean logit diff: 0.3691\n",
            "Corrupted logit diff: -0.4470\n"
          ]
        }
      ],
      "source": [
        "# Compute logits for interventions\n",
        "s_clean_logits, s_clean_cache = model.run_with_cache(s_tokens)\n",
        "s_corrupted_logits, s_corrupted_cache = model.run_with_cache(s_corrupted_tokens)\n",
        "\n",
        "s_clean_logit_diff = h.compute_logit_diff(s_clean_logits, s_answer_tokens)\n",
        "print(f\"Clean logit diff: {s_clean_logit_diff:.4f}\")\n",
        "\n",
        "s_corrupted_logit_diff = h.compute_logit_diff(s_corrupted_logits, s_answer_tokens)\n",
        "print(f\"Corrupted logit diff: {s_corrupted_logit_diff:.4f}\")"
      ]
    },
    {
      "cell_type": "markdown",
      "metadata": {
        "id": "6hQJhmk-abVY"
      },
      "source": [
        "### Figure 4(a) attention head output patching"
      ]
    },
    {
      "cell_type": "code",
      "execution_count": 26,
      "metadata": {
        "colab": {
          "base_uri": "https://localhost:8080/"
        },
        "id": "wUBgplJ2abVY",
        "outputId": "4464eaf7-0f30-4d23-8637-ff36646dd570"
      },
      "outputs": [
        {
          "name": "stderr",
          "output_type": "stream",
          "text": [
            "100%|██████████| 24/24 [00:53<00:00,  2.23s/it]\n"
          ]
        }
      ],
      "source": [
        "s_attn_denoising = h.patching_attention(model, s_corrupted_tokens, s_clean_cache, h.metric_denoising, s_answer_tokens, s_clean_logit_diff, s_corrupted_logit_diff, 'z', device)"
      ]
    },
    {
      "cell_type": "code",
      "execution_count": 28,
      "metadata": {
        "colab": {
          "base_uri": "https://localhost:8080/",
          "height": 317
        },
        "id": "FwiTxSDTabVY",
        "outputId": "30dd5f8f-afc7-49ac-a22c-3b952301d9f3"
      },
      "outputs": [
        {
          "data": {
            "text/html": [
              "<html>\n",
              "<head><meta charset=\"utf-8\" /></head>\n",
              "<body>\n",
              "    <div>            <script src=\"https://cdnjs.cloudflare.com/ajax/libs/mathjax/2.7.5/MathJax.js?config=TeX-AMS-MML_SVG\"></script><script type=\"text/javascript\">if (window.MathJax && window.MathJax.Hub && window.MathJax.Hub.Config) {window.MathJax.Hub.Config({SVG: {font: \"STIX-Web\"}});}</script>                <script type=\"text/javascript\">window.PlotlyConfig = {MathJaxConfig: 'local'};</script>\n",
              "        <script charset=\"utf-8\" src=\"https://cdn.plot.ly/plotly-2.24.1.min.js\"></script>                <div id=\"b8de2249-5717-4c0c-8b37-d113774b2ed4\" class=\"plotly-graph-div\" style=\"height:300px; width:300px;\"></div>            <script type=\"text/javascript\">                                    window.PLOTLYENV=window.PLOTLYENV || {};                                    if (document.getElementById(\"b8de2249-5717-4c0c-8b37-d113774b2ed4\")) {                    Plotly.newPlot(                        \"b8de2249-5717-4c0c-8b37-d113774b2ed4\",                        [{\"coloraxis\":\"coloraxis\",\"name\":\"0\",\"z\":[[0.002851473167538643,0.0035455815959721804,-0.0017145267920568585,-0.00019608158618211746,-0.0047758594155311584,-0.009257168509066105,-0.0038414555601775646,0.001301113050431013,0.003788134315982461,0.005278401542454958,-0.007755303755402565,-0.002487488556653261,0.00022721801360603422,-0.00021203899814281613,-0.0003569790569599718,-0.002033286029472947],[0.00015326900756917894,-0.0005660600727424026,0.0011749326949939132,0.0004179285606369376,0.016243401914834976,0.0020667575299739838,0.00011302519851597026,-0.00027446754393167794,0.0015572879929095507,-0.010065547190606594,3.316028232802637e-05,0.00489635718986392,3.02801654470386e-05,0.001746675232425332,-0.0039672465063631535,-0.00016704689187463373],[0.0013815228594467044,5.293190952215809e-06,0.002855676459148526,4.94290616188664e-05,0.0009407869074493647,6.491943349828944e-05,0.0006327698938548565,0.004293556325137615,0.0029770308174192905,-0.0008413059986196458,-0.00037324780714698136,-4.14114365412388e-05,-2.7711412258213386e-05,0.001999035943299532,0.010286149568855762,-0.009217625483870506],[0.006818953435868025,0.002307753311470151,-0.0021912252996116877,-0.008058727718889713,-0.008658337406814098,0.00038554667844437063,0.004155777860432863,0.0013955342583358288,0.0022142664529383183,-0.002833725418895483,-0.012866346165537834,-0.0009890483925119042,-0.007370613049715757,-0.002602537628263235,0.0007475853781215847,-0.0032596716191619635],[-0.0014871531166136265,-0.015257234685122967,-0.0002627135254442692,-0.0012794731883332133,-0.009942014701664448,-0.004007179290056229,0.03778357431292534,-0.0004107672139070928,0.0025507730897516012,-0.0029943115077912807,0.012034380808472633,0.005546874832361937,0.006298196967691183,-0.0012887362390756607,-0.002092756563797593,-0.0023807683028280735],[-0.002422646852210164,0.0047409869730472565,-0.0009474811959080398,-0.010303352028131485,0.0005613896646536887,-0.005080685019493103,-0.00035503300023265183,-0.0002592106757219881,0.09957706928253174,0.0010341182351112366,0.0034727223683148623,0.015617482364177704,-0.003076667431741953,-0.02730632573366165,-0.0014947038143873215,-0.011032567359507084],[-0.0039601633325219154,0.034771595150232315,0.0008779691415838897,-0.000428592786192894,0.02790874056518078,-0.02604421228170395,-0.00893085915595293,0.03151099011301994,-0.011355296708643436,-0.007446897216141224,-0.02099723368883133,0.015456896275281906,-0.0008811606094241142,0.0002097816177411005,0.027677007019519806,0.1832386702299118],[0.042229779064655304,0.007694664876908064,0.06890100240707397,-0.006009017117321491,-0.034452058374881744,0.0044465139508247375,0.01893499121069908,-0.016762135550379753,-0.003452406032010913,-0.01582329533994198,-0.0048032598569989204,0.01995377242565155,0.05397941917181015,0.03510771319270134,0.0025740477722138166,-0.008459375239908695],[0.01027750875800848,0.07078810036182404,0.0011833395110443234,-0.0029077520594000816,-0.017129000276327133,-0.03159918263554573,-0.001992652891203761,-0.0028776279650628567,-0.0019352841190993786,0.020997388288378716,0.02781260572373867,-0.010037758387625217,0.009617416188120842,0.015218313783407211,-0.025072133168578148,0.04660343378782272],[-0.013680018484592438,-0.0029237098060548306,-0.008298322558403015,0.09398543834686279,-0.002006897935643792,0.015210296027362347,0.03317507356405258,0.04050334170460701,-0.005741633474826813,-0.006006526295095682,0.0015610242262482643,0.00964567344635725,0.0019380863523110747,-0.025911414995789528,0.014146910049021244,0.0023690923117101192],[0.08249882608652115,0.10428232699632645,0.03144427761435509,0.01956869289278984,0.1771290898323059,0.0001322519383393228,0.05520268902182579,-0.003884190460667014,0.0561588890850544,0.016991455107927322,0.022599902004003525,-0.03916696831583977,-0.027888188138604164,-0.06919492781162262,0.09796786308288574,-0.024144267663359642],[-0.019266048446297646,-0.06125809997320175,-0.008259324356913567,0.03860589116811752,-0.03164362907409668,-0.008465446531772614,-0.14750410616397858,0.002485464559867978,-0.006395731586962938,-0.038804151117801666,0.8730418682098389,-0.011209343560039997,0.007551515940576792,0.011399354785680771,0.02786281332373619,0.006795990280807018],[-0.016277963295578957,-0.0036115131806582212,0.043467532843351364,0.13363595306873322,-0.026028098538517952,-0.06510010361671448,0.020879460498690605,-0.010650289244949818,0.12078968435525894,-0.04337723180651665,0.03291026130318642,-0.006917811464518309,0.04625711962580681,0.06859975308179855,-0.02521216869354248,0.15548592805862427],[0.012220188044011593,-0.011577143333852291,0.0355805978178978,0.01245853677392006,0.03139609843492508,0.14434953033924103,-0.0045853047631680965,-0.11002986878156662,-0.003625368932262063,-0.043601103127002716,0.01931142993271351,0.0035775743890553713,0.06994757056236267,0.015296855941414833,-0.0025173015892505646,-0.0021995543502271175],[-0.0036762768868356943,-0.012509055435657501,-0.006344434339553118,0.0021962851751595736,-0.017675211653113365,0.027271687984466553,-0.002360062673687935,-0.005655541084706783,-0.00864627119153738,-0.029465327039361,-0.008041913621127605,0.04091216251254082,0.03649406135082245,-0.03439071774482727,0.06564358621835709,-0.0035876159090548754],[-0.000785493990406394,0.03240717202425003,-0.0006625051028095186,-0.001760842395015061,-0.0025820652954280376,0.006683354265987873,0.002636943245306611,-0.01130625605583191,0.18065139651298523,-0.00466952845454216,0.0322532020509243,-0.0021392276976257563,-0.007068356033414602,0.012070266529917717,0.22366495430469513,-0.017638469114899635],[0.014133754186332226,-0.0047300891019403934,-0.0020538358949124813,0.0007405018550343812,0.0007695365929976106,-0.019355876371264458,0.050659261643886566,0.02193506248295307,0.000613153912127018,0.001326100085861981,0.0016278898110613227,0.002524852054193616,0.0036299615167081356,-0.0013654098147526383,-0.015651265159249306,0.010692400857806206],[0.005006502382457256,0.0009630494168959558,0.019326452165842056,0.0017014495097100735,-0.09367640316486359,-0.002275605220347643,0.005569837987422943,0.02671893872320652,0.022884566336870193,0.0057810209691524506,-0.0103683490306139,-0.018769266083836555,0.19550821185112,-0.004736627452075481,-0.0014315746957436204,-0.010185656137764454],[-0.0017003597458824515,-0.0009899823926389217,-0.0006543318158946931,-0.029458243399858475,-0.0014140604762360454,0.002590550109744072,0.0047645727172493935,-0.0009740249952301383,-0.021785762161016464,-0.026913074776530266,0.0069341580383479595,-0.060454078018665314,0.05518198385834694,-0.005328219849616289,0.004542647395282984,-0.0011986742028966546],[-0.0072140744887292385,1.0,-0.005378971807658672,0.003851886373013258,0.0008929146570153534,-0.001035052351653576,0.0025884483475238085,0.009095803834497929,-0.0007054733578115702,-0.02764882892370224,0.0003913069376721978,0.004465273581445217,0.02103724330663681,-0.16648565232753754,-0.0019213504856452346,0.00010788768850034103],[0.0019266437739133835,0.0028780170250684023,0.0058578504249453545,-0.0008445753483101726,0.002135257702320814,0.007514307741075754,-0.0006410988280549645,0.07454728335142136,-0.0018196123419329524,0.0020426269620656967,0.05096595734357834,0.001698569394648075,-0.003975419793277979,0.0003314471978228539,0.009034776128828526,0.006824091076850891],[0.002616315381601453,0.003800199832767248,0.0012481033336371183,0.0006162675563246012,-0.08246386796236038,-0.04421760514378548,0.007010208908468485,0.16425643861293793,-0.0017320410115644336,-0.004691012669354677,0.031552791595458984,0.06562778353691101,-0.003016885370016098,-0.000706251768860966,-0.0004925781395286322,0.000994263682514429],[-0.01938125304877758,-0.0003435903927311301,0.001687671639956534,0.0002908919705078006,0.001005083555355668,-0.03277769684791565,-0.00025220500538125634,0.041338421404361725,0.004333644174039364,0.0034229042939841747,0.0014065097784623504,0.0041593583300709724,0.0018608680693432689,0.004381205420941114,-0.1416853368282318,0.00705278804525733],[0.002933829091489315,2.7789254090748727e-05,0.001641901209950447,0.048988793045282364,0.0032112544868141413,-0.0028194026090204716,0.004080505575984716,-0.020025543868541718,0.022472243756055832,0.0029199733398854733,-0.5430524349212646,0.009382103569805622,0.00075521384133026,0.05834567919373512,-0.0015288760187104344,0.0005271395784802735]],\"type\":\"heatmap\",\"xaxis\":\"x\",\"yaxis\":\"y\",\"hovertemplate\":\"Head: %{x}\\u003cbr\\u003eLayer: %{y}\\u003cbr\\u003ecolor: %{z}\\u003cextra\\u003e\\u003c\\u002fextra\\u003e\"}],                        {\"template\":{\"data\":{\"histogram2dcontour\":[{\"type\":\"histogram2dcontour\",\"colorbar\":{\"outlinewidth\":0,\"ticks\":\"\"},\"colorscale\":[[0.0,\"#0d0887\"],[0.1111111111111111,\"#46039f\"],[0.2222222222222222,\"#7201a8\"],[0.3333333333333333,\"#9c179e\"],[0.4444444444444444,\"#bd3786\"],[0.5555555555555556,\"#d8576b\"],[0.6666666666666666,\"#ed7953\"],[0.7777777777777778,\"#fb9f3a\"],[0.8888888888888888,\"#fdca26\"],[1.0,\"#f0f921\"]]}],\"choropleth\":[{\"type\":\"choropleth\",\"colorbar\":{\"outlinewidth\":0,\"ticks\":\"\"}}],\"histogram2d\":[{\"type\":\"histogram2d\",\"colorbar\":{\"outlinewidth\":0,\"ticks\":\"\"},\"colorscale\":[[0.0,\"#0d0887\"],[0.1111111111111111,\"#46039f\"],[0.2222222222222222,\"#7201a8\"],[0.3333333333333333,\"#9c179e\"],[0.4444444444444444,\"#bd3786\"],[0.5555555555555556,\"#d8576b\"],[0.6666666666666666,\"#ed7953\"],[0.7777777777777778,\"#fb9f3a\"],[0.8888888888888888,\"#fdca26\"],[1.0,\"#f0f921\"]]}],\"heatmap\":[{\"type\":\"heatmap\",\"colorbar\":{\"outlinewidth\":0,\"ticks\":\"\"},\"colorscale\":[[0.0,\"#0d0887\"],[0.1111111111111111,\"#46039f\"],[0.2222222222222222,\"#7201a8\"],[0.3333333333333333,\"#9c179e\"],[0.4444444444444444,\"#bd3786\"],[0.5555555555555556,\"#d8576b\"],[0.6666666666666666,\"#ed7953\"],[0.7777777777777778,\"#fb9f3a\"],[0.8888888888888888,\"#fdca26\"],[1.0,\"#f0f921\"]]}],\"heatmapgl\":[{\"type\":\"heatmapgl\",\"colorbar\":{\"outlinewidth\":0,\"ticks\":\"\"},\"colorscale\":[[0.0,\"#0d0887\"],[0.1111111111111111,\"#46039f\"],[0.2222222222222222,\"#7201a8\"],[0.3333333333333333,\"#9c179e\"],[0.4444444444444444,\"#bd3786\"],[0.5555555555555556,\"#d8576b\"],[0.6666666666666666,\"#ed7953\"],[0.7777777777777778,\"#fb9f3a\"],[0.8888888888888888,\"#fdca26\"],[1.0,\"#f0f921\"]]}],\"contourcarpet\":[{\"type\":\"contourcarpet\",\"colorbar\":{\"outlinewidth\":0,\"ticks\":\"\"}}],\"contour\":[{\"type\":\"contour\",\"colorbar\":{\"outlinewidth\":0,\"ticks\":\"\"},\"colorscale\":[[0.0,\"#0d0887\"],[0.1111111111111111,\"#46039f\"],[0.2222222222222222,\"#7201a8\"],[0.3333333333333333,\"#9c179e\"],[0.4444444444444444,\"#bd3786\"],[0.5555555555555556,\"#d8576b\"],[0.6666666666666666,\"#ed7953\"],[0.7777777777777778,\"#fb9f3a\"],[0.8888888888888888,\"#fdca26\"],[1.0,\"#f0f921\"]]}],\"surface\":[{\"type\":\"surface\",\"colorbar\":{\"outlinewidth\":0,\"ticks\":\"\"},\"colorscale\":[[0.0,\"#0d0887\"],[0.1111111111111111,\"#46039f\"],[0.2222222222222222,\"#7201a8\"],[0.3333333333333333,\"#9c179e\"],[0.4444444444444444,\"#bd3786\"],[0.5555555555555556,\"#d8576b\"],[0.6666666666666666,\"#ed7953\"],[0.7777777777777778,\"#fb9f3a\"],[0.8888888888888888,\"#fdca26\"],[1.0,\"#f0f921\"]]}],\"mesh3d\":[{\"type\":\"mesh3d\",\"colorbar\":{\"outlinewidth\":0,\"ticks\":\"\"}}],\"scatter\":[{\"fillpattern\":{\"fillmode\":\"overlay\",\"size\":10,\"solidity\":0.2},\"type\":\"scatter\"}],\"parcoords\":[{\"type\":\"parcoords\",\"line\":{\"colorbar\":{\"outlinewidth\":0,\"ticks\":\"\"}}}],\"scatterpolargl\":[{\"type\":\"scatterpolargl\",\"marker\":{\"colorbar\":{\"outlinewidth\":0,\"ticks\":\"\"}}}],\"bar\":[{\"error_x\":{\"color\":\"#2a3f5f\"},\"error_y\":{\"color\":\"#2a3f5f\"},\"marker\":{\"line\":{\"color\":\"#E5ECF6\",\"width\":0.5},\"pattern\":{\"fillmode\":\"overlay\",\"size\":10,\"solidity\":0.2}},\"type\":\"bar\"}],\"scattergeo\":[{\"type\":\"scattergeo\",\"marker\":{\"colorbar\":{\"outlinewidth\":0,\"ticks\":\"\"}}}],\"scatterpolar\":[{\"type\":\"scatterpolar\",\"marker\":{\"colorbar\":{\"outlinewidth\":0,\"ticks\":\"\"}}}],\"histogram\":[{\"marker\":{\"pattern\":{\"fillmode\":\"overlay\",\"size\":10,\"solidity\":0.2}},\"type\":\"histogram\"}],\"scattergl\":[{\"type\":\"scattergl\",\"marker\":{\"colorbar\":{\"outlinewidth\":0,\"ticks\":\"\"}}}],\"scatter3d\":[{\"type\":\"scatter3d\",\"line\":{\"colorbar\":{\"outlinewidth\":0,\"ticks\":\"\"}},\"marker\":{\"colorbar\":{\"outlinewidth\":0,\"ticks\":\"\"}}}],\"scattermapbox\":[{\"type\":\"scattermapbox\",\"marker\":{\"colorbar\":{\"outlinewidth\":0,\"ticks\":\"\"}}}],\"scatterternary\":[{\"type\":\"scatterternary\",\"marker\":{\"colorbar\":{\"outlinewidth\":0,\"ticks\":\"\"}}}],\"scattercarpet\":[{\"type\":\"scattercarpet\",\"marker\":{\"colorbar\":{\"outlinewidth\":0,\"ticks\":\"\"}}}],\"carpet\":[{\"aaxis\":{\"endlinecolor\":\"#2a3f5f\",\"gridcolor\":\"white\",\"linecolor\":\"white\",\"minorgridcolor\":\"white\",\"startlinecolor\":\"#2a3f5f\"},\"baxis\":{\"endlinecolor\":\"#2a3f5f\",\"gridcolor\":\"white\",\"linecolor\":\"white\",\"minorgridcolor\":\"white\",\"startlinecolor\":\"#2a3f5f\"},\"type\":\"carpet\"}],\"table\":[{\"cells\":{\"fill\":{\"color\":\"#EBF0F8\"},\"line\":{\"color\":\"white\"}},\"header\":{\"fill\":{\"color\":\"#C8D4E3\"},\"line\":{\"color\":\"white\"}},\"type\":\"table\"}],\"barpolar\":[{\"marker\":{\"line\":{\"color\":\"#E5ECF6\",\"width\":0.5},\"pattern\":{\"fillmode\":\"overlay\",\"size\":10,\"solidity\":0.2}},\"type\":\"barpolar\"}],\"pie\":[{\"automargin\":true,\"type\":\"pie\"}]},\"layout\":{\"autotypenumbers\":\"strict\",\"colorway\":[\"#636efa\",\"#EF553B\",\"#00cc96\",\"#ab63fa\",\"#FFA15A\",\"#19d3f3\",\"#FF6692\",\"#B6E880\",\"#FF97FF\",\"#FECB52\"],\"font\":{\"color\":\"#2a3f5f\"},\"hovermode\":\"closest\",\"hoverlabel\":{\"align\":\"left\"},\"paper_bgcolor\":\"white\",\"plot_bgcolor\":\"#E5ECF6\",\"polar\":{\"bgcolor\":\"#E5ECF6\",\"angularaxis\":{\"gridcolor\":\"white\",\"linecolor\":\"white\",\"ticks\":\"\"},\"radialaxis\":{\"gridcolor\":\"white\",\"linecolor\":\"white\",\"ticks\":\"\"}},\"ternary\":{\"bgcolor\":\"#E5ECF6\",\"aaxis\":{\"gridcolor\":\"white\",\"linecolor\":\"white\",\"ticks\":\"\"},\"baxis\":{\"gridcolor\":\"white\",\"linecolor\":\"white\",\"ticks\":\"\"},\"caxis\":{\"gridcolor\":\"white\",\"linecolor\":\"white\",\"ticks\":\"\"}},\"coloraxis\":{\"colorbar\":{\"outlinewidth\":0,\"ticks\":\"\"}},\"colorscale\":{\"sequential\":[[0.0,\"#0d0887\"],[0.1111111111111111,\"#46039f\"],[0.2222222222222222,\"#7201a8\"],[0.3333333333333333,\"#9c179e\"],[0.4444444444444444,\"#bd3786\"],[0.5555555555555556,\"#d8576b\"],[0.6666666666666666,\"#ed7953\"],[0.7777777777777778,\"#fb9f3a\"],[0.8888888888888888,\"#fdca26\"],[1.0,\"#f0f921\"]],\"sequentialminus\":[[0.0,\"#0d0887\"],[0.1111111111111111,\"#46039f\"],[0.2222222222222222,\"#7201a8\"],[0.3333333333333333,\"#9c179e\"],[0.4444444444444444,\"#bd3786\"],[0.5555555555555556,\"#d8576b\"],[0.6666666666666666,\"#ed7953\"],[0.7777777777777778,\"#fb9f3a\"],[0.8888888888888888,\"#fdca26\"],[1.0,\"#f0f921\"]],\"diverging\":[[0,\"#8e0152\"],[0.1,\"#c51b7d\"],[0.2,\"#de77ae\"],[0.3,\"#f1b6da\"],[0.4,\"#fde0ef\"],[0.5,\"#f7f7f7\"],[0.6,\"#e6f5d0\"],[0.7,\"#b8e186\"],[0.8,\"#7fbc41\"],[0.9,\"#4d9221\"],[1,\"#276419\"]]},\"xaxis\":{\"gridcolor\":\"white\",\"linecolor\":\"white\",\"ticks\":\"\",\"title\":{\"standoff\":15},\"zerolinecolor\":\"white\",\"automargin\":true,\"zerolinewidth\":2},\"yaxis\":{\"gridcolor\":\"white\",\"linecolor\":\"white\",\"ticks\":\"\",\"title\":{\"standoff\":15},\"zerolinecolor\":\"white\",\"automargin\":true,\"zerolinewidth\":2},\"scene\":{\"xaxis\":{\"backgroundcolor\":\"#E5ECF6\",\"gridcolor\":\"white\",\"linecolor\":\"white\",\"showbackground\":true,\"ticks\":\"\",\"zerolinecolor\":\"white\",\"gridwidth\":2},\"yaxis\":{\"backgroundcolor\":\"#E5ECF6\",\"gridcolor\":\"white\",\"linecolor\":\"white\",\"showbackground\":true,\"ticks\":\"\",\"zerolinecolor\":\"white\",\"gridwidth\":2},\"zaxis\":{\"backgroundcolor\":\"#E5ECF6\",\"gridcolor\":\"white\",\"linecolor\":\"white\",\"showbackground\":true,\"ticks\":\"\",\"zerolinecolor\":\"white\",\"gridwidth\":2}},\"shapedefaults\":{\"line\":{\"color\":\"#2a3f5f\"}},\"annotationdefaults\":{\"arrowcolor\":\"#2a3f5f\",\"arrowhead\":0,\"arrowwidth\":1},\"geo\":{\"bgcolor\":\"white\",\"landcolor\":\"#E5ECF6\",\"subunitcolor\":\"white\",\"showland\":true,\"showlakes\":true,\"lakecolor\":\"white\"},\"title\":{\"x\":0.05},\"mapbox\":{\"style\":\"light\"}}},\"xaxis\":{\"anchor\":\"y\",\"domain\":[0.0,1.0],\"scaleanchor\":\"y\",\"constrain\":\"domain\",\"title\":{},\"showline\":true,\"linewidth\":1,\"linecolor\":\"black\",\"mirror\":true,\"ticks\":\"outside\",\"tickwidth\":1,\"tickcolor\":\"black\"},\"yaxis\":{\"anchor\":\"x\",\"domain\":[0.0,1.0],\"autorange\":\"reversed\",\"constrain\":\"domain\",\"title\":{},\"showline\":true,\"linewidth\":1,\"linecolor\":\"black\",\"mirror\":true,\"ticks\":\"outside\",\"tickwidth\":1,\"tickcolor\":\"black\"},\"coloraxis\":{\"colorscale\":[[0.0,\"rgb(103,0,31)\"],[0.1,\"rgb(178,24,43)\"],[0.2,\"rgb(214,96,77)\"],[0.3,\"rgb(244,165,130)\"],[0.4,\"rgb(253,219,199)\"],[0.5,\"rgb(247,247,247)\"],[0.6,\"rgb(209,229,240)\"],[0.7,\"rgb(146,197,222)\"],[0.8,\"rgb(67,147,195)\"],[0.9,\"rgb(33,102,172)\"],[1.0,\"rgb(5,48,97)\"]],\"cmid\":0.0,\"colorbar\":{\"title\":{\"text\":\"\\ud835\\udc46\"},\"thicknessmode\":\"pixels\",\"thickness\":10,\"lenmode\":\"fraction\",\"len\":1}},\"margin\":{\"t\":10,\"l\":10,\"r\":10,\"b\":10},\"title\":{\"font\":{\"size\":14}},\"font\":{\"size\":12,\"color\":\"black\"},\"width\":300,\"height\":300},                        {\"responsive\": true}                    ).then(function(){\n",
              "                            \n",
              "var gd = document.getElementById('b8de2249-5717-4c0c-8b37-d113774b2ed4');\n",
              "var x = new MutationObserver(function (mutations, observer) {{\n",
              "        var display = window.getComputedStyle(gd).display;\n",
              "        if (!display || display === 'none') {{\n",
              "            console.log([gd, 'removed!']);\n",
              "            Plotly.purge(gd);\n",
              "            observer.disconnect();\n",
              "        }}\n",
              "}});\n",
              "\n",
              "// Listen for the removal of the full notebook cells\n",
              "var notebookContainer = gd.closest('#notebook-container');\n",
              "if (notebookContainer) {{\n",
              "    x.observe(notebookContainer, {childList: true});\n",
              "}}\n",
              "\n",
              "// Listen for the clearing of the current output cell\n",
              "var outputEl = gd.closest('.output');\n",
              "if (outputEl) {{\n",
              "    x.observe(outputEl, {childList: true});\n",
              "}}\n",
              "\n",
              "                        })                };                            </script>        </div>\n",
              "</body>\n",
              "</html>"
            ]
          },
          "metadata": {},
          "output_type": "display_data"
        }
      ],
      "source": [
        "h.plot_attn(h.normalise_tensor(s_attn_denoising), labels)"
      ]
    },
    {
      "cell_type": "markdown",
      "metadata": {
        "id": "-FyRI_VDabVY"
      },
      "source": [
        "### Figure 4(b) residual stream patching"
      ]
    },
    {
      "cell_type": "code",
      "execution_count": 29,
      "metadata": {
        "colab": {
          "base_uri": "https://localhost:8080/"
        },
        "id": "gQRB1BIxabVY",
        "outputId": "19b5d278-641d-477c-fe85-01358b16114d"
      },
      "outputs": [
        {
          "name": "stderr",
          "output_type": "stream",
          "text": [
            "100%|██████████| 24/24 [00:50<00:00,  2.10s/it]\n"
          ]
        }
      ],
      "source": [
        "s_resid_denoising = h.patching_residual(model, s_corrupted_tokens, s_clean_cache, h.metric_denoising, s_answer_tokens, s_clean_logit_diff, s_corrupted_logit_diff, device)"
      ]
    },
    {
      "cell_type": "code",
      "execution_count": 30,
      "metadata": {
        "colab": {
          "base_uri": "https://localhost:8080/",
          "height": 317
        },
        "id": "wy79ji4oabVY",
        "outputId": "52dc49ef-0bef-4af6-a269-d2661f87d739"
      },
      "outputs": [
        {
          "data": {
            "text/html": [
              "<html>\n",
              "<head><meta charset=\"utf-8\" /></head>\n",
              "<body>\n",
              "    <div>            <script src=\"https://cdnjs.cloudflare.com/ajax/libs/mathjax/2.7.5/MathJax.js?config=TeX-AMS-MML_SVG\"></script><script type=\"text/javascript\">if (window.MathJax && window.MathJax.Hub && window.MathJax.Hub.Config) {window.MathJax.Hub.Config({SVG: {font: \"STIX-Web\"}});}</script>                <script type=\"text/javascript\">window.PlotlyConfig = {MathJaxConfig: 'local'};</script>\n",
              "        <script charset=\"utf-8\" src=\"https://cdn.plot.ly/plotly-2.24.1.min.js\"></script>                <div id=\"e9c7feb9-e178-4da4-a68f-5c11b54221fc\" class=\"plotly-graph-div\" style=\"height:300px; width:400px;\"></div>            <script type=\"text/javascript\">                                    window.PLOTLYENV=window.PLOTLYENV || {};                                    if (document.getElementById(\"e9c7feb9-e178-4da4-a68f-5c11b54221fc\")) {                    Plotly.newPlot(                        \"e9c7feb9-e178-4da4-a68f-5c11b54221fc\",                        [{\"coloraxis\":\"coloraxis\",\"name\":\"0\",\"y\":[\"BEGIN\",\"s_1\",\"s_1 -\\u003e m_1\",\"m_1\",\"m_1 -\\u003e m_2\",\"m_2\",\"m_2 -\\u003e p\",\"p\",\"p -\\u003e s_2\",\"s_2\",\"END\"],\"z\":[[0.0,0.0,0.0,0.0,0.0,0.0,0.0,0.0,0.0,0.0,0.0,0.0,0.0,0.0,0.0,0.0,0.0,0.0,0.0,0.0,0.0,0.0,0.0,0.0],[0.0,0.0,0.0,0.0,0.0,0.0,0.0,0.0,0.0,0.0,0.0,0.0,0.0,0.0,0.0,0.0,0.0,0.0,0.0,0.0,0.0,0.0,0.0,0.0],[0.0,0.0,0.0,0.0,0.0,0.0,0.0,0.0,0.0,0.0,0.0,0.0,0.0,0.0,0.0,0.0,0.0,0.0,0.0,0.0,0.0,0.0,0.0,0.0],[0.0,0.0,0.0,0.0,0.0,0.0,0.0,0.0,0.0,0.0,0.0,0.0,0.0,0.0,0.0,0.0,0.0,0.0,0.0,0.0,0.0,0.0,0.0,0.0],[0.0,0.0,0.0,0.0,0.0,0.0,0.0,0.0,0.0,0.0,0.0,0.0,0.0,0.0,0.0,0.0,0.0,0.0,0.0,0.0,0.0,0.0,0.0,0.0],[0.9137324094772339,0.9116407632827759,0.9361847639083862,0.9742546677589417,1.0,0.9932242631912231,0.9467673897743225,0.8274979591369629,0.7788181900978088,0.806334376335144,0.7406435608863831,0.5365613698959351,0.39793631434440613,0.42400693893432617,0.4176469147205353,0.3483133614063263,0.3522869944572449,0.18853552639484406,0.234656423330307,-0.07952914386987686,-0.04682822898030281,-0.027100643143057823,-0.13066968321800232,0.0],[0.0002935713855549693,-0.0005590668879449368,-0.001423889072611928,0.010853566229343414,0.029589790850877762,0.052783817052841187,0.013227432034909725,0.07482127100229263,0.11758091300725937,0.1325242966413498,0.14334702491760254,0.11688216775655746,0.0841590017080307,0.01889120414853096,0.02021043933928013,-0.009560289792716503,-0.035268329083919525,-0.015489457175135612,-0.00026201916625723243,0.013249482028186321,0.00893119815737009,0.0061900620348751545,-0.00197782414034009,0.0],[-0.006785250268876553,-0.004468661732971668,-0.005437377840280533,-0.00801386684179306,-0.008942753076553345,-0.011204018257558346,0.0118850227445364,0.010864491574466228,-0.002789342077448964,-0.019721560180187225,0.05610491335391998,0.2895457446575165,0.36243680119514465,0.37227028608322144,0.3748912811279297,0.2323903888463974,0.25299742817878723,0.16274870932102203,0.1275199055671692,0.07962280511856079,0.06420320272445679,0.04889239743351936,0.024037228897213936,0.0],[0.00017196456610690802,-0.00024361094983760267,-0.0009704376570880413,-0.0011830923613160849,-0.0014451778260990977,-0.0009352104389108717,-0.0003506170178297907,0.0040796720422804356,0.0008828330901451409,0.009472784586250782,0.0056984699331223965,0.00638132868334651,0.004924629349261522,-0.00026162186986766756,-0.0006174368318170309,0.0006278660148382187,0.0006276011117734015,0.004287989344447851,0.0008172455127350986,0.010770861990749836,0.010199147276580334,0.004674761090427637,0.005453501362353563,0.0],[-0.0013227100716903806,-0.0031356550753116608,-0.00426693307235837,-0.005247568245977163,-0.00575879355892539,-0.007660666946321726,-0.012079070322215557,0.026079250499606133,0.014934232458472252,0.017887691035866737,0.022331323474645615,0.015829909592866898,-0.0026317795272916555,-0.016093287616968155,-0.01945735700428486,-0.023285042494535446,-0.022034872323274612,-0.012176905758678913,-0.012365126051008701,-0.003121749497950077,-0.004290373530238867,-0.006730555556714535,-0.003851225133985281,0.0],[-0.00034277033410035074,0.0002939686819445342,0.00031654853955842555,-0.0005317856557667255,-0.0034720352850854397,-0.003055830718949437,-0.0024001537822186947,0.011950378306210041,0.010411669500172138,0.004660888575017452,0.013041826896369457,0.02081979624927044,0.0649987980723381,0.08803972601890564,0.08550485968589783,0.3202040493488312,0.3064728379249573,0.5086416006088257,0.4959210455417633,0.8556593656539917,0.8496431708335876,0.8853907585144043,0.9949984550476074,0.9065848588943481]],\"type\":\"heatmap\",\"xaxis\":\"x\",\"yaxis\":\"y\",\"hovertemplate\":\"Layer: %{x}\\u003cbr\\u003eSequence Position: %{y}\\u003cbr\\u003ecolor: %{z}\\u003cextra\\u003e\\u003c\\u002fextra\\u003e\"}],                        {\"template\":{\"data\":{\"histogram2dcontour\":[{\"type\":\"histogram2dcontour\",\"colorbar\":{\"outlinewidth\":0,\"ticks\":\"\"},\"colorscale\":[[0.0,\"#0d0887\"],[0.1111111111111111,\"#46039f\"],[0.2222222222222222,\"#7201a8\"],[0.3333333333333333,\"#9c179e\"],[0.4444444444444444,\"#bd3786\"],[0.5555555555555556,\"#d8576b\"],[0.6666666666666666,\"#ed7953\"],[0.7777777777777778,\"#fb9f3a\"],[0.8888888888888888,\"#fdca26\"],[1.0,\"#f0f921\"]]}],\"choropleth\":[{\"type\":\"choropleth\",\"colorbar\":{\"outlinewidth\":0,\"ticks\":\"\"}}],\"histogram2d\":[{\"type\":\"histogram2d\",\"colorbar\":{\"outlinewidth\":0,\"ticks\":\"\"},\"colorscale\":[[0.0,\"#0d0887\"],[0.1111111111111111,\"#46039f\"],[0.2222222222222222,\"#7201a8\"],[0.3333333333333333,\"#9c179e\"],[0.4444444444444444,\"#bd3786\"],[0.5555555555555556,\"#d8576b\"],[0.6666666666666666,\"#ed7953\"],[0.7777777777777778,\"#fb9f3a\"],[0.8888888888888888,\"#fdca26\"],[1.0,\"#f0f921\"]]}],\"heatmap\":[{\"type\":\"heatmap\",\"colorbar\":{\"outlinewidth\":0,\"ticks\":\"\"},\"colorscale\":[[0.0,\"#0d0887\"],[0.1111111111111111,\"#46039f\"],[0.2222222222222222,\"#7201a8\"],[0.3333333333333333,\"#9c179e\"],[0.4444444444444444,\"#bd3786\"],[0.5555555555555556,\"#d8576b\"],[0.6666666666666666,\"#ed7953\"],[0.7777777777777778,\"#fb9f3a\"],[0.8888888888888888,\"#fdca26\"],[1.0,\"#f0f921\"]]}],\"heatmapgl\":[{\"type\":\"heatmapgl\",\"colorbar\":{\"outlinewidth\":0,\"ticks\":\"\"},\"colorscale\":[[0.0,\"#0d0887\"],[0.1111111111111111,\"#46039f\"],[0.2222222222222222,\"#7201a8\"],[0.3333333333333333,\"#9c179e\"],[0.4444444444444444,\"#bd3786\"],[0.5555555555555556,\"#d8576b\"],[0.6666666666666666,\"#ed7953\"],[0.7777777777777778,\"#fb9f3a\"],[0.8888888888888888,\"#fdca26\"],[1.0,\"#f0f921\"]]}],\"contourcarpet\":[{\"type\":\"contourcarpet\",\"colorbar\":{\"outlinewidth\":0,\"ticks\":\"\"}}],\"contour\":[{\"type\":\"contour\",\"colorbar\":{\"outlinewidth\":0,\"ticks\":\"\"},\"colorscale\":[[0.0,\"#0d0887\"],[0.1111111111111111,\"#46039f\"],[0.2222222222222222,\"#7201a8\"],[0.3333333333333333,\"#9c179e\"],[0.4444444444444444,\"#bd3786\"],[0.5555555555555556,\"#d8576b\"],[0.6666666666666666,\"#ed7953\"],[0.7777777777777778,\"#fb9f3a\"],[0.8888888888888888,\"#fdca26\"],[1.0,\"#f0f921\"]]}],\"surface\":[{\"type\":\"surface\",\"colorbar\":{\"outlinewidth\":0,\"ticks\":\"\"},\"colorscale\":[[0.0,\"#0d0887\"],[0.1111111111111111,\"#46039f\"],[0.2222222222222222,\"#7201a8\"],[0.3333333333333333,\"#9c179e\"],[0.4444444444444444,\"#bd3786\"],[0.5555555555555556,\"#d8576b\"],[0.6666666666666666,\"#ed7953\"],[0.7777777777777778,\"#fb9f3a\"],[0.8888888888888888,\"#fdca26\"],[1.0,\"#f0f921\"]]}],\"mesh3d\":[{\"type\":\"mesh3d\",\"colorbar\":{\"outlinewidth\":0,\"ticks\":\"\"}}],\"scatter\":[{\"fillpattern\":{\"fillmode\":\"overlay\",\"size\":10,\"solidity\":0.2},\"type\":\"scatter\"}],\"parcoords\":[{\"type\":\"parcoords\",\"line\":{\"colorbar\":{\"outlinewidth\":0,\"ticks\":\"\"}}}],\"scatterpolargl\":[{\"type\":\"scatterpolargl\",\"marker\":{\"colorbar\":{\"outlinewidth\":0,\"ticks\":\"\"}}}],\"bar\":[{\"error_x\":{\"color\":\"#2a3f5f\"},\"error_y\":{\"color\":\"#2a3f5f\"},\"marker\":{\"line\":{\"color\":\"#E5ECF6\",\"width\":0.5},\"pattern\":{\"fillmode\":\"overlay\",\"size\":10,\"solidity\":0.2}},\"type\":\"bar\"}],\"scattergeo\":[{\"type\":\"scattergeo\",\"marker\":{\"colorbar\":{\"outlinewidth\":0,\"ticks\":\"\"}}}],\"scatterpolar\":[{\"type\":\"scatterpolar\",\"marker\":{\"colorbar\":{\"outlinewidth\":0,\"ticks\":\"\"}}}],\"histogram\":[{\"marker\":{\"pattern\":{\"fillmode\":\"overlay\",\"size\":10,\"solidity\":0.2}},\"type\":\"histogram\"}],\"scattergl\":[{\"type\":\"scattergl\",\"marker\":{\"colorbar\":{\"outlinewidth\":0,\"ticks\":\"\"}}}],\"scatter3d\":[{\"type\":\"scatter3d\",\"line\":{\"colorbar\":{\"outlinewidth\":0,\"ticks\":\"\"}},\"marker\":{\"colorbar\":{\"outlinewidth\":0,\"ticks\":\"\"}}}],\"scattermapbox\":[{\"type\":\"scattermapbox\",\"marker\":{\"colorbar\":{\"outlinewidth\":0,\"ticks\":\"\"}}}],\"scatterternary\":[{\"type\":\"scatterternary\",\"marker\":{\"colorbar\":{\"outlinewidth\":0,\"ticks\":\"\"}}}],\"scattercarpet\":[{\"type\":\"scattercarpet\",\"marker\":{\"colorbar\":{\"outlinewidth\":0,\"ticks\":\"\"}}}],\"carpet\":[{\"aaxis\":{\"endlinecolor\":\"#2a3f5f\",\"gridcolor\":\"white\",\"linecolor\":\"white\",\"minorgridcolor\":\"white\",\"startlinecolor\":\"#2a3f5f\"},\"baxis\":{\"endlinecolor\":\"#2a3f5f\",\"gridcolor\":\"white\",\"linecolor\":\"white\",\"minorgridcolor\":\"white\",\"startlinecolor\":\"#2a3f5f\"},\"type\":\"carpet\"}],\"table\":[{\"cells\":{\"fill\":{\"color\":\"#EBF0F8\"},\"line\":{\"color\":\"white\"}},\"header\":{\"fill\":{\"color\":\"#C8D4E3\"},\"line\":{\"color\":\"white\"}},\"type\":\"table\"}],\"barpolar\":[{\"marker\":{\"line\":{\"color\":\"#E5ECF6\",\"width\":0.5},\"pattern\":{\"fillmode\":\"overlay\",\"size\":10,\"solidity\":0.2}},\"type\":\"barpolar\"}],\"pie\":[{\"automargin\":true,\"type\":\"pie\"}]},\"layout\":{\"autotypenumbers\":\"strict\",\"colorway\":[\"#636efa\",\"#EF553B\",\"#00cc96\",\"#ab63fa\",\"#FFA15A\",\"#19d3f3\",\"#FF6692\",\"#B6E880\",\"#FF97FF\",\"#FECB52\"],\"font\":{\"color\":\"#2a3f5f\"},\"hovermode\":\"closest\",\"hoverlabel\":{\"align\":\"left\"},\"paper_bgcolor\":\"white\",\"plot_bgcolor\":\"#E5ECF6\",\"polar\":{\"bgcolor\":\"#E5ECF6\",\"angularaxis\":{\"gridcolor\":\"white\",\"linecolor\":\"white\",\"ticks\":\"\"},\"radialaxis\":{\"gridcolor\":\"white\",\"linecolor\":\"white\",\"ticks\":\"\"}},\"ternary\":{\"bgcolor\":\"#E5ECF6\",\"aaxis\":{\"gridcolor\":\"white\",\"linecolor\":\"white\",\"ticks\":\"\"},\"baxis\":{\"gridcolor\":\"white\",\"linecolor\":\"white\",\"ticks\":\"\"},\"caxis\":{\"gridcolor\":\"white\",\"linecolor\":\"white\",\"ticks\":\"\"}},\"coloraxis\":{\"colorbar\":{\"outlinewidth\":0,\"ticks\":\"\"}},\"colorscale\":{\"sequential\":[[0.0,\"#0d0887\"],[0.1111111111111111,\"#46039f\"],[0.2222222222222222,\"#7201a8\"],[0.3333333333333333,\"#9c179e\"],[0.4444444444444444,\"#bd3786\"],[0.5555555555555556,\"#d8576b\"],[0.6666666666666666,\"#ed7953\"],[0.7777777777777778,\"#fb9f3a\"],[0.8888888888888888,\"#fdca26\"],[1.0,\"#f0f921\"]],\"sequentialminus\":[[0.0,\"#0d0887\"],[0.1111111111111111,\"#46039f\"],[0.2222222222222222,\"#7201a8\"],[0.3333333333333333,\"#9c179e\"],[0.4444444444444444,\"#bd3786\"],[0.5555555555555556,\"#d8576b\"],[0.6666666666666666,\"#ed7953\"],[0.7777777777777778,\"#fb9f3a\"],[0.8888888888888888,\"#fdca26\"],[1.0,\"#f0f921\"]],\"diverging\":[[0,\"#8e0152\"],[0.1,\"#c51b7d\"],[0.2,\"#de77ae\"],[0.3,\"#f1b6da\"],[0.4,\"#fde0ef\"],[0.5,\"#f7f7f7\"],[0.6,\"#e6f5d0\"],[0.7,\"#b8e186\"],[0.8,\"#7fbc41\"],[0.9,\"#4d9221\"],[1,\"#276419\"]]},\"xaxis\":{\"gridcolor\":\"white\",\"linecolor\":\"white\",\"ticks\":\"\",\"title\":{\"standoff\":15},\"zerolinecolor\":\"white\",\"automargin\":true,\"zerolinewidth\":2},\"yaxis\":{\"gridcolor\":\"white\",\"linecolor\":\"white\",\"ticks\":\"\",\"title\":{\"standoff\":15},\"zerolinecolor\":\"white\",\"automargin\":true,\"zerolinewidth\":2},\"scene\":{\"xaxis\":{\"backgroundcolor\":\"#E5ECF6\",\"gridcolor\":\"white\",\"linecolor\":\"white\",\"showbackground\":true,\"ticks\":\"\",\"zerolinecolor\":\"white\",\"gridwidth\":2},\"yaxis\":{\"backgroundcolor\":\"#E5ECF6\",\"gridcolor\":\"white\",\"linecolor\":\"white\",\"showbackground\":true,\"ticks\":\"\",\"zerolinecolor\":\"white\",\"gridwidth\":2},\"zaxis\":{\"backgroundcolor\":\"#E5ECF6\",\"gridcolor\":\"white\",\"linecolor\":\"white\",\"showbackground\":true,\"ticks\":\"\",\"zerolinecolor\":\"white\",\"gridwidth\":2}},\"shapedefaults\":{\"line\":{\"color\":\"#2a3f5f\"}},\"annotationdefaults\":{\"arrowcolor\":\"#2a3f5f\",\"arrowhead\":0,\"arrowwidth\":1},\"geo\":{\"bgcolor\":\"white\",\"landcolor\":\"#E5ECF6\",\"subunitcolor\":\"white\",\"showland\":true,\"showlakes\":true,\"lakecolor\":\"white\"},\"title\":{\"x\":0.05},\"mapbox\":{\"style\":\"light\"}}},\"xaxis\":{\"anchor\":\"y\",\"domain\":[0.0,1.0],\"scaleanchor\":\"y\",\"constrain\":\"domain\",\"title\":{},\"tickmode\":\"array\",\"showticklabels\":true,\"showline\":true,\"linewidth\":1,\"linecolor\":\"black\",\"mirror\":true,\"ticks\":\"\"},\"yaxis\":{\"anchor\":\"x\",\"domain\":[0.0,1.0],\"autorange\":\"reversed\",\"constrain\":\"domain\",\"title\":{},\"tickmode\":\"array\",\"tickvals\":[0,1,2,3,4,5,6,7,8,9,10],\"ticktext\":[\"BEGIN\",\"s_1\",\"s_1 -\\u003e m_1\",\"m_1\",\"m_1 -\\u003e m_2\",\"m_2\",\"m_2 -\\u003e p\",\"p\",\"p -\\u003e s_2\",\"s_2\",\"END\"],\"showticklabels\":true,\"showline\":true,\"linewidth\":1,\"linecolor\":\"black\",\"mirror\":true,\"ticks\":\"\"},\"coloraxis\":{\"colorscale\":[[0.0,\"rgb(103,0,31)\"],[0.1,\"rgb(178,24,43)\"],[0.2,\"rgb(214,96,77)\"],[0.3,\"rgb(244,165,130)\"],[0.4,\"rgb(253,219,199)\"],[0.5,\"rgb(247,247,247)\"],[0.6,\"rgb(209,229,240)\"],[0.7,\"rgb(146,197,222)\"],[0.8,\"rgb(67,147,195)\"],[0.9,\"rgb(33,102,172)\"],[1.0,\"rgb(5,48,97)\"]],\"cmid\":0.0,\"colorbar\":{\"title\":{},\"thicknessmode\":\"pixels\",\"thickness\":10,\"lenmode\":\"fraction\",\"len\":1}},\"margin\":{\"t\":20,\"l\":10,\"r\":10,\"b\":20},\"title\":{\"font\":{\"size\":14}},\"font\":{\"size\":12,\"color\":\"black\"},\"width\":400,\"height\":300},                        {\"responsive\": true}                    ).then(function(){\n",
              "                            \n",
              "var gd = document.getElementById('e9c7feb9-e178-4da4-a68f-5c11b54221fc');\n",
              "var x = new MutationObserver(function (mutations, observer) {{\n",
              "        var display = window.getComputedStyle(gd).display;\n",
              "        if (!display || display === 'none') {{\n",
              "            console.log([gd, 'removed!']);\n",
              "            Plotly.purge(gd);\n",
              "            observer.disconnect();\n",
              "        }}\n",
              "}});\n",
              "\n",
              "// Listen for the removal of the full notebook cells\n",
              "var notebookContainer = gd.closest('#notebook-container');\n",
              "if (notebookContainer) {{\n",
              "    x.observe(notebookContainer, {childList: true});\n",
              "}}\n",
              "\n",
              "// Listen for the clearing of the current output cell\n",
              "var outputEl = gd.closest('.output');\n",
              "if (outputEl) {{\n",
              "    x.observe(outputEl, {childList: true});\n",
              "}}\n",
              "\n",
              "                        })                };                            </script>        </div>\n",
              "</body>\n",
              "</html>"
            ]
          },
          "metadata": {},
          "output_type": "display_data"
        }
      ],
      "source": [
        "h.plot_residual(h.normalise_tensor(h.resize_all(s_resid_denoising)), labels)"
      ]
    },
    {
      "cell_type": "markdown",
      "metadata": {
        "id": "4apldPBlabVY"
      },
      "source": [
        "### Figure 4(c) OV logit lens"
      ]
    },
    {
      "cell_type": "code",
      "execution_count": 32,
      "metadata": {
        "id": "KJT50iL3abVY"
      },
      "outputs": [],
      "source": [
        "token_alpha = model.to_tokens(ALPHABET_LIST, prepend_bos=False).to(device)\n",
        "token_alpha = [ element[0].item() for element in token_alpha ]"
      ]
    },
    {
      "cell_type": "code",
      "execution_count": 33,
      "metadata": {
        "id": "n2_prGlwabVY"
      },
      "outputs": [],
      "source": [
        "deductive_head_ov = model.OV\n",
        "ev = model.W_E\n",
        "uev = model.W_U\n",
        "ov_circuit = ev.cpu()[token_alpha, : ] @ deductive_head_ov.AB.cpu() @ uev.cpu()[:, token_alpha]"
      ]
    },
    {
      "cell_type": "code",
      "execution_count": 34,
      "metadata": {
        "colab": {
          "base_uri": "https://localhost:8080/",
          "height": 317
        },
        "id": "ecTqHJM-abVY",
        "outputId": "0b9d0bc6-c4e8-43fd-8411-80b8f8da4e23"
      },
      "outputs": [
        {
          "data": {
            "text/html": [
              "<html>\n",
              "<head><meta charset=\"utf-8\" /></head>\n",
              "<body>\n",
              "    <div>            <script src=\"https://cdnjs.cloudflare.com/ajax/libs/mathjax/2.7.5/MathJax.js?config=TeX-AMS-MML_SVG\"></script><script type=\"text/javascript\">if (window.MathJax && window.MathJax.Hub && window.MathJax.Hub.Config) {window.MathJax.Hub.Config({SVG: {font: \"STIX-Web\"}});}</script>                <script type=\"text/javascript\">window.PlotlyConfig = {MathJaxConfig: 'local'};</script>\n",
              "        <script charset=\"utf-8\" src=\"https://cdn.plot.ly/plotly-2.24.1.min.js\"></script>                <div id=\"d43d33ce-49c5-48cf-8938-4b6cef728b7e\" class=\"plotly-graph-div\" style=\"height:300px; width:300px;\"></div>            <script type=\"text/javascript\">                                    window.PLOTLYENV=window.PLOTLYENV || {};                                    if (document.getElementById(\"d43d33ce-49c5-48cf-8938-4b6cef728b7e\")) {                    Plotly.newPlot(                        \"d43d33ce-49c5-48cf-8938-4b6cef728b7e\",                        [{\"coloraxis\":\"coloraxis\",\"name\":\"0\",\"z\":[[-0.5892306566238403,-0.2776719033718109,-0.18693509697914124,-0.12032489478588104,-0.3637293577194214,-0.12990382313728333,-0.06171821802854538,-0.1114167794585228,-0.3185221254825592,-0.15444225072860718,-0.28383973240852356,-0.29706278443336487,-0.0961262583732605,-0.18873219192028046,-0.5685943961143494,0.010700146667659283,-0.07099085301160812,-0.08552376925945282,0.011126291006803513,-0.25821658968925476,-0.15585865080356598,-0.23498567938804626,-0.14328187704086304,-0.3312106728553772,-0.03773872181773186,-0.0024697771295905113],[-0.21708455681800842,-0.558666467666626,-0.27515265345573425,-0.23775795102119446,-0.17398664355278015,-0.12434574961662292,0.10623928159475327,-0.051773566752672195,-0.17785809934139252,0.023468131199479103,0.0294828899204731,-0.16271209716796875,-0.11104854196310043,-0.20929822325706482,-0.06539805978536606,-0.23359878361225128,0.265256404876709,-0.1146717220544815,-0.05172453075647354,-0.18848274648189545,-0.2803751826286316,0.05281301215291023,0.056869782507419586,0.0017568905605003238,-0.22599592804908752,0.004038006998598576],[-0.3698452413082123,-0.3899158835411072,-0.8221234083175659,-0.3749328553676605,-0.29864442348480225,-0.3886629641056061,-0.3054482936859131,-0.3274592161178589,-0.3823782801628113,-0.1383509784936905,-0.19911442697048187,-0.1017572283744812,-0.2134087085723877,-0.3117777109146118,-0.3226281702518463,-0.13602113723754883,0.09085419774055481,-0.1777406483888626,-0.18625584244728088,-0.35245153307914734,-0.5036786198616028,-0.4194360673427582,-0.24502316117286682,-0.22101369500160217,-0.2690140902996063,-0.17496465146541595],[0.23548629879951477,-0.14417631924152374,-0.16240280866622925,-0.48742935061454773,-0.37585026025772095,-0.17081567645072937,-0.16714978218078613,-0.12849849462509155,-0.4348892867565155,-0.14482225477695465,-0.2962648570537567,-0.15798309445381165,-0.08268065005540848,-0.14364668726921082,0.024425454437732697,-0.08894630521535873,-0.21631230413913727,-0.3646353781223297,-0.27445515990257263,-0.25599420070648193,-0.17460788786411285,-0.4094155430793762,0.040070537477731705,-0.018931236118078232,-0.011742787435650826,-0.23715947568416595],[-0.034781552851200104,-0.3513699769973755,-0.04104287549853325,-0.09470285475254059,-0.5518190264701843,-0.07374358177185059,0.015001432038843632,-0.08316092193126678,-0.21651040017604828,-0.03609279915690422,-0.2964475154876709,-0.24244780838489532,0.04999326169490814,-0.18885153532028198,-0.0891306921839714,-0.12089399248361588,-0.07830829918384552,-0.1362128108739853,-0.02102394588291645,-0.13161274790763855,-0.1177840381860733,-0.27676689624786377,0.21899673342704773,-0.22303245961666107,-0.1361958086490631,0.026187554001808167],[-0.04065796732902527,-0.3664778470993042,-0.3279368579387665,-0.28207236528396606,-0.5526485443115234,-0.652970552444458,-0.2608669102191925,-0.39398545026779175,-0.18062104284763336,-0.25617167353630066,-0.38860753178596497,-0.3327862322330475,-0.24636119604110718,-0.4168913662433624,-0.1864318549633026,-0.13428658246994019,-0.2328936904668808,-0.11149658262729645,-0.26382702589035034,-0.23492437601089478,-0.22280974686145782,-0.2801534831523895,-0.17569346725940704,-0.20384611189365387,-0.42268022894859314,-0.2832714021205902],[0.14651554822921753,-0.13835741579532623,-0.053142864257097244,0.0927715003490448,-0.29317858815193176,-0.03836499899625778,-0.2997945547103882,-0.02185152843594551,-0.2158409208059311,-0.11674410849809647,-0.16085185110569,-0.0827193334698677,-0.11583465337753296,-0.1196524053812027,0.01813245192170143,0.141685351729393,0.18012529611587524,-0.17694613337516785,-0.04749829322099686,-0.010490719228982925,-0.05089676380157471,-0.07494647055864334,0.25582581758499146,0.20121900737285614,0.06559447199106216,-0.0725013017654419],[-0.09031357616186142,-0.25632715225219727,-0.3941781520843506,-0.17796814441680908,-0.28579872846603394,-0.13862119615077972,-0.2236040085554123,-0.5070414543151855,-0.2757836878299713,-0.20708894729614258,-0.23793727159500122,-0.2362736016511917,-0.09795047342777252,-0.1342567503452301,-0.030651558190584183,-0.17505644261837006,0.14267036318778992,-0.09766282141208649,-0.10673031210899353,-0.22483353316783905,-0.16028401255607605,-0.25148946046829224,0.10780063271522522,0.19828160107135773,-0.11441401392221451,-0.12943677604198456],[0.07284458726644516,-0.027718693017959595,0.1127045676112175,0.08819907158613205,-0.15684610605239868,0.2397465854883194,0.07766823470592499,0.1564890742301941,-0.46380460262298584,0.14738060534000397,-0.03165705129504204,-0.005039256066083908,0.12471061944961548,0.08017925173044205,0.06484043598175049,0.3302862048149109,0.18636491894721985,0.1114274114370346,0.2255348563194275,0.07818387448787689,0.15072880685329437,0.11641878634691238,0.22691375017166138,-0.17056800425052643,0.06311553716659546,0.2659934461116791],[0.22636009752750397,0.06255537271499634,0.044951342046260834,-0.04487258195877075,-0.014811205677688122,0.22074711322784424,0.051831524819135666,-0.0763448104262352,0.055276863276958466,-0.33417508006095886,0.06644978374242783,0.04249955713748932,0.08501999080181122,0.28540611267089844,0.01628902554512024,-0.1170826107263565,0.25547850131988525,-0.1845361292362213,0.06817808747291565,-0.1129106879234314,-0.060578491538763046,-0.035366613417863846,0.3739452064037323,-0.09819167852401733,-0.03349045291543007,0.1077091246843338],[0.3963639736175537,-0.013823158107697964,0.20643338561058044,-0.04656117781996727,-0.33379167318344116,0.12242814898490906,0.06008962169289589,-0.021982617676258087,-0.09989675879478455,0.029376644641160965,-0.3503187894821167,0.024965325370430946,0.16741719841957092,0.130292609333992,0.1706630438566208,0.04839983209967613,0.08605621010065079,-0.206893190741539,-0.08911799639463425,0.009016691707074642,-0.16235989332199097,-0.19679445028305054,0.3264963924884796,-0.01796049438416958,-0.11365365236997604,-0.09630703181028366],[0.2933928966522217,-0.03399093076586723,-0.010631297715008259,0.002788771642372012,-0.27698662877082825,0.15200211107730865,-0.06093529611825943,0.07079336792230606,-0.16374163329601288,0.06169642135500908,-0.028979996219277382,-0.3442305326461792,0.01057752687484026,-0.009672770276665688,0.11825443804264069,-0.03152846172451973,0.34013861417770386,-0.2121838480234146,-0.039355985820293427,-0.042315319180488586,-0.06965696066617966,-0.005062667652964592,0.3464498519897461,0.06747781485319138,0.10020337998867035,0.06941203027963638],[0.1068144217133522,-0.17940089106559753,-0.20497693121433258,-0.03280198201537132,-0.25561389327049255,-0.05470830947160721,-0.050961725413799286,-0.06597575545310974,-0.03779475763440132,0.031077487394213676,-0.11912229657173157,-0.04808942601084709,-0.07185360789299011,-0.1461118459701538,-0.030609896406531334,-0.08420933037996292,0.16837996244430542,-0.2006399929523468,-0.060591910034418106,-0.13867740333080292,-0.028446540236473083,-0.09841735661029816,0.10943949967622757,0.13025657832622528,0.049333762377500534,-0.011947889812290668],[-0.2798258066177368,-0.38870522379875183,-0.3726428747177124,-0.23216812312602997,-0.4024585783481598,-0.31232619285583496,-0.189239963889122,-0.3024003803730011,-0.5422078967094421,-0.3081444501876831,-0.195137158036232,-0.3241860866546631,-0.2431664764881134,-0.6313720941543579,-0.5370141267776489,-0.1025603860616684,0.04883550480008125,-0.2639992833137512,-0.25934135913848877,-0.4234353005886078,-0.39826875925064087,-0.5147669315338135,-0.20429685711860657,-0.22576215863227844,-0.1669263392686844,-0.320522665977478],[-0.01640487276017666,0.0016670675249770284,0.19698408246040344,0.2952468991279602,0.05501977354288101,-0.0027465419843792915,0.2010715752840042,0.2237103432416916,-0.12194892764091492,0.0873057171702385,0.1988711655139923,0.12162011861801147,0.019595889374613762,0.0054802242666482925,-0.5653303265571594,0.19839201867580414,0.08188042044639587,-0.020723829045891762,0.1371845304965973,0.04611169174313545,0.020329423248767853,0.017390435561537743,0.18547466397285461,-0.03555479273200035,0.18172533810138702,0.1372068077325821],[0.29783138632774353,-0.07713327556848526,0.0014109169133007526,-0.13685132563114166,0.044776901602745056,0.15488894283771515,0.0453026220202446,-0.010620391927659512,0.15175861120224,0.007014233153313398,-0.175007164478302,0.02220539003610611,0.0995277464389801,-0.006984513718634844,0.16471099853515625,-0.21874944865703583,0.23326361179351807,-0.07461269944906235,-0.006465265993028879,-0.003981724381446838,0.05482348054647446,0.1346670687198639,0.25773730874061584,0.1549147516489029,-0.07895888388156891,0.026545284315943718],[-0.16086651384830475,-0.2521876394748688,-0.007506045047193766,-0.13904808461666107,-0.22592684626579285,-0.14400583505630493,0.04387115687131882,-0.04068353772163391,-0.2980368435382843,0.0281083881855011,-0.06298037618398666,0.013635735027492046,-0.03513658046722412,0.09799595177173615,-0.3017268180847168,-0.0384226031601429,-0.8670154213905334,-0.19500164687633514,-0.05491023510694504,-0.1714448779821396,-0.08063734322786331,-0.2510415017604828,-0.038365527987480164,-0.313723623752594,-0.2287733107805252,-0.2465808093547821],[0.1564072072505951,-0.10934910923242569,-0.1500137895345688,-0.2628766596317291,-0.1698283851146698,0.2744430601596832,0.03221423551440239,-0.08231042325496674,-0.19415543973445892,0.026791732758283615,-0.1781580150127411,-0.2698090076446533,-0.025038793683052063,-0.16397155821323395,-0.041127536445856094,-0.12778286635875702,0.02542547881603241,-0.4200400710105896,-0.06196879222989082,-0.23496347665786743,-0.09499619901180267,-0.09594301134347916,0.16274739801883698,-0.13675810396671295,-0.011469868011772633,0.18879368901252747],[0.13132084906101227,-0.22929167747497559,-0.1520426720380783,-0.24624456465244293,-0.1587640941143036,-0.044745028018951416,-0.039646606892347336,0.05445701256394386,-0.10536418855190277,-0.09005282819271088,-0.1395149827003479,-0.07005217671394348,0.10872314125299454,-0.02007659524679184,-0.10104821622371674,-0.037822410464286804,0.09933745115995407,-0.09442845731973648,-0.3066563904285431,-0.09575991332530975,-0.1383986920118332,-0.16795827448368073,0.09514442831277847,-0.003878180403262377,0.09731150418519974,-0.14766427874565125],[-0.03258839249610901,-0.33464255928993225,-0.16061560809612274,-0.21448440849781036,-0.392816960811615,-0.27046817541122437,-0.12861548364162445,-0.19246326386928558,-0.13746346533298492,-0.08267401158809662,-0.22284801304340363,-0.2387365847826004,-0.032009173184633255,-0.22648882865905762,-0.23195567727088928,-0.12198381870985031,-0.0912514179944992,-0.22336432337760925,-0.1652744859457016,-0.6112541556358337,-0.2979576289653778,-0.345265656709671,-0.09823844581842422,-0.18607135117053986,-0.012754637748003006,-0.3074813187122345],[-0.09645339101552963,-0.32153165340423584,-0.35186299681663513,-0.21800090372562408,-0.1986207813024521,-0.263182133436203,-0.10487353056669235,-0.2743024230003357,-0.2634766399860382,-0.2658672034740448,-0.18403837084770203,-0.2502441704273224,-0.1598433405160904,-0.31866881251335144,-0.145268052816391,-0.02228541299700737,0.048494115471839905,-0.2584969401359558,-0.1632903516292572,-0.2751574218273163,-0.681672215461731,-0.29057690501213074,-0.18331433832645416,0.0003047520003747195,-0.1110018864274025,-0.24284033477306366],[0.019159765914082527,-0.2546128034591675,-0.22648410499095917,-0.09378598630428314,-0.4278748035430908,-0.2324347048997879,-0.12054002285003662,-0.10112351924180984,-0.318352609872818,-0.014000847004354,-0.09809340536594391,-0.1879437267780304,-0.012250818312168121,-0.2841261923313141,-0.17899572849273682,0.039120592176914215,-0.22824370861053467,-0.22461320459842682,-0.2454088181257248,-0.46139204502105713,-0.22467447817325592,-0.6303436160087585,-0.20492567121982574,-0.18074318766593933,-0.08594907075166702,-0.17826513946056366],[-0.2364392727613449,-0.20942310988903046,-0.15918979048728943,-0.09633137285709381,-0.17448236048221588,-0.2316398322582245,-0.027512961998581886,-0.07291094958782196,-0.27990806102752686,-0.02984539419412613,-0.11574433743953705,-0.024020247161388397,0.15560942888259888,-0.19926796853542328,-0.22870999574661255,0.19113560020923615,0.1774318665266037,0.15348733961582184,-0.08499060571193695,-0.2798261046409607,-0.2545800507068634,-0.3431374132633209,-0.3603190779685974,-0.04752817749977112,-0.045221541076898575,-0.14373044669628143],[-0.12638767063617706,-0.13712160289287567,0.10983189940452576,-0.18370862305164337,-0.22670650482177734,-0.034759342670440674,-0.008217775262892246,-0.018869508057832718,-0.3640875220298767,-0.11770747601985931,-0.2538215219974518,-0.24926352500915527,0.01047548372298479,-0.0013526353286579251,-0.35673537850379944,0.11636227369308472,-0.13098731637001038,-0.22558726370334625,-0.04478275775909424,-0.14330284297466278,-0.14342837035655975,-0.30268239974975586,-0.020349765196442604,-1.0,-0.3689601421356201,-0.023714939132332802],[0.3089543581008911,-0.11246279627084732,0.3081013262271881,0.13016311824321747,-0.13555505871772766,0.14174775779247284,0.08210477977991104,0.04168340936303139,-0.16616864502429962,0.10463573038578033,0.020801331847906113,0.04634728282690048,0.07297196984291077,0.06665389239788055,0.033410049974918365,0.11802881211042404,0.11678988486528397,0.03282476216554642,0.03711710497736931,0.028298046439886093,0.06724198162555695,0.09274126589298248,0.27978941798210144,-0.1421763002872467,-0.5463102459907532,-0.11954110860824585],[0.049291957169771194,-0.34640711545944214,-0.0895504429936409,-0.2549939453601837,-0.3801749348640442,-0.16612543165683746,-0.02495485544204712,-0.10490560531616211,-0.3700120747089386,-0.11094317585229874,-0.17543041706085205,-0.1900133639574051,-0.07701286673545837,-0.06416653096675873,-0.11665951460599899,-0.05572072044014931,-0.14007960259914398,-0.12819716334342957,-0.27392953634262085,-0.34479233622550964,-0.24930161237716675,-0.4047238826751709,-0.09616279602050781,-0.17831973731517792,-0.33524560928344727,-0.45970669388771057]],\"type\":\"heatmap\",\"xaxis\":\"x\",\"yaxis\":\"y\",\"hovertemplate\":\"Head: %{x}\\u003cbr\\u003eLayer: %{y}\\u003cbr\\u003ecolor: %{z}\\u003cextra\\u003e\\u003c\\u002fextra\\u003e\"}],                        {\"template\":{\"data\":{\"histogram2dcontour\":[{\"type\":\"histogram2dcontour\",\"colorbar\":{\"outlinewidth\":0,\"ticks\":\"\"},\"colorscale\":[[0.0,\"#0d0887\"],[0.1111111111111111,\"#46039f\"],[0.2222222222222222,\"#7201a8\"],[0.3333333333333333,\"#9c179e\"],[0.4444444444444444,\"#bd3786\"],[0.5555555555555556,\"#d8576b\"],[0.6666666666666666,\"#ed7953\"],[0.7777777777777778,\"#fb9f3a\"],[0.8888888888888888,\"#fdca26\"],[1.0,\"#f0f921\"]]}],\"choropleth\":[{\"type\":\"choropleth\",\"colorbar\":{\"outlinewidth\":0,\"ticks\":\"\"}}],\"histogram2d\":[{\"type\":\"histogram2d\",\"colorbar\":{\"outlinewidth\":0,\"ticks\":\"\"},\"colorscale\":[[0.0,\"#0d0887\"],[0.1111111111111111,\"#46039f\"],[0.2222222222222222,\"#7201a8\"],[0.3333333333333333,\"#9c179e\"],[0.4444444444444444,\"#bd3786\"],[0.5555555555555556,\"#d8576b\"],[0.6666666666666666,\"#ed7953\"],[0.7777777777777778,\"#fb9f3a\"],[0.8888888888888888,\"#fdca26\"],[1.0,\"#f0f921\"]]}],\"heatmap\":[{\"type\":\"heatmap\",\"colorbar\":{\"outlinewidth\":0,\"ticks\":\"\"},\"colorscale\":[[0.0,\"#0d0887\"],[0.1111111111111111,\"#46039f\"],[0.2222222222222222,\"#7201a8\"],[0.3333333333333333,\"#9c179e\"],[0.4444444444444444,\"#bd3786\"],[0.5555555555555556,\"#d8576b\"],[0.6666666666666666,\"#ed7953\"],[0.7777777777777778,\"#fb9f3a\"],[0.8888888888888888,\"#fdca26\"],[1.0,\"#f0f921\"]]}],\"heatmapgl\":[{\"type\":\"heatmapgl\",\"colorbar\":{\"outlinewidth\":0,\"ticks\":\"\"},\"colorscale\":[[0.0,\"#0d0887\"],[0.1111111111111111,\"#46039f\"],[0.2222222222222222,\"#7201a8\"],[0.3333333333333333,\"#9c179e\"],[0.4444444444444444,\"#bd3786\"],[0.5555555555555556,\"#d8576b\"],[0.6666666666666666,\"#ed7953\"],[0.7777777777777778,\"#fb9f3a\"],[0.8888888888888888,\"#fdca26\"],[1.0,\"#f0f921\"]]}],\"contourcarpet\":[{\"type\":\"contourcarpet\",\"colorbar\":{\"outlinewidth\":0,\"ticks\":\"\"}}],\"contour\":[{\"type\":\"contour\",\"colorbar\":{\"outlinewidth\":0,\"ticks\":\"\"},\"colorscale\":[[0.0,\"#0d0887\"],[0.1111111111111111,\"#46039f\"],[0.2222222222222222,\"#7201a8\"],[0.3333333333333333,\"#9c179e\"],[0.4444444444444444,\"#bd3786\"],[0.5555555555555556,\"#d8576b\"],[0.6666666666666666,\"#ed7953\"],[0.7777777777777778,\"#fb9f3a\"],[0.8888888888888888,\"#fdca26\"],[1.0,\"#f0f921\"]]}],\"surface\":[{\"type\":\"surface\",\"colorbar\":{\"outlinewidth\":0,\"ticks\":\"\"},\"colorscale\":[[0.0,\"#0d0887\"],[0.1111111111111111,\"#46039f\"],[0.2222222222222222,\"#7201a8\"],[0.3333333333333333,\"#9c179e\"],[0.4444444444444444,\"#bd3786\"],[0.5555555555555556,\"#d8576b\"],[0.6666666666666666,\"#ed7953\"],[0.7777777777777778,\"#fb9f3a\"],[0.8888888888888888,\"#fdca26\"],[1.0,\"#f0f921\"]]}],\"mesh3d\":[{\"type\":\"mesh3d\",\"colorbar\":{\"outlinewidth\":0,\"ticks\":\"\"}}],\"scatter\":[{\"fillpattern\":{\"fillmode\":\"overlay\",\"size\":10,\"solidity\":0.2},\"type\":\"scatter\"}],\"parcoords\":[{\"type\":\"parcoords\",\"line\":{\"colorbar\":{\"outlinewidth\":0,\"ticks\":\"\"}}}],\"scatterpolargl\":[{\"type\":\"scatterpolargl\",\"marker\":{\"colorbar\":{\"outlinewidth\":0,\"ticks\":\"\"}}}],\"bar\":[{\"error_x\":{\"color\":\"#2a3f5f\"},\"error_y\":{\"color\":\"#2a3f5f\"},\"marker\":{\"line\":{\"color\":\"#E5ECF6\",\"width\":0.5},\"pattern\":{\"fillmode\":\"overlay\",\"size\":10,\"solidity\":0.2}},\"type\":\"bar\"}],\"scattergeo\":[{\"type\":\"scattergeo\",\"marker\":{\"colorbar\":{\"outlinewidth\":0,\"ticks\":\"\"}}}],\"scatterpolar\":[{\"type\":\"scatterpolar\",\"marker\":{\"colorbar\":{\"outlinewidth\":0,\"ticks\":\"\"}}}],\"histogram\":[{\"marker\":{\"pattern\":{\"fillmode\":\"overlay\",\"size\":10,\"solidity\":0.2}},\"type\":\"histogram\"}],\"scattergl\":[{\"type\":\"scattergl\",\"marker\":{\"colorbar\":{\"outlinewidth\":0,\"ticks\":\"\"}}}],\"scatter3d\":[{\"type\":\"scatter3d\",\"line\":{\"colorbar\":{\"outlinewidth\":0,\"ticks\":\"\"}},\"marker\":{\"colorbar\":{\"outlinewidth\":0,\"ticks\":\"\"}}}],\"scattermapbox\":[{\"type\":\"scattermapbox\",\"marker\":{\"colorbar\":{\"outlinewidth\":0,\"ticks\":\"\"}}}],\"scatterternary\":[{\"type\":\"scatterternary\",\"marker\":{\"colorbar\":{\"outlinewidth\":0,\"ticks\":\"\"}}}],\"scattercarpet\":[{\"type\":\"scattercarpet\",\"marker\":{\"colorbar\":{\"outlinewidth\":0,\"ticks\":\"\"}}}],\"carpet\":[{\"aaxis\":{\"endlinecolor\":\"#2a3f5f\",\"gridcolor\":\"white\",\"linecolor\":\"white\",\"minorgridcolor\":\"white\",\"startlinecolor\":\"#2a3f5f\"},\"baxis\":{\"endlinecolor\":\"#2a3f5f\",\"gridcolor\":\"white\",\"linecolor\":\"white\",\"minorgridcolor\":\"white\",\"startlinecolor\":\"#2a3f5f\"},\"type\":\"carpet\"}],\"table\":[{\"cells\":{\"fill\":{\"color\":\"#EBF0F8\"},\"line\":{\"color\":\"white\"}},\"header\":{\"fill\":{\"color\":\"#C8D4E3\"},\"line\":{\"color\":\"white\"}},\"type\":\"table\"}],\"barpolar\":[{\"marker\":{\"line\":{\"color\":\"#E5ECF6\",\"width\":0.5},\"pattern\":{\"fillmode\":\"overlay\",\"size\":10,\"solidity\":0.2}},\"type\":\"barpolar\"}],\"pie\":[{\"automargin\":true,\"type\":\"pie\"}]},\"layout\":{\"autotypenumbers\":\"strict\",\"colorway\":[\"#636efa\",\"#EF553B\",\"#00cc96\",\"#ab63fa\",\"#FFA15A\",\"#19d3f3\",\"#FF6692\",\"#B6E880\",\"#FF97FF\",\"#FECB52\"],\"font\":{\"color\":\"#2a3f5f\"},\"hovermode\":\"closest\",\"hoverlabel\":{\"align\":\"left\"},\"paper_bgcolor\":\"white\",\"plot_bgcolor\":\"#E5ECF6\",\"polar\":{\"bgcolor\":\"#E5ECF6\",\"angularaxis\":{\"gridcolor\":\"white\",\"linecolor\":\"white\",\"ticks\":\"\"},\"radialaxis\":{\"gridcolor\":\"white\",\"linecolor\":\"white\",\"ticks\":\"\"}},\"ternary\":{\"bgcolor\":\"#E5ECF6\",\"aaxis\":{\"gridcolor\":\"white\",\"linecolor\":\"white\",\"ticks\":\"\"},\"baxis\":{\"gridcolor\":\"white\",\"linecolor\":\"white\",\"ticks\":\"\"},\"caxis\":{\"gridcolor\":\"white\",\"linecolor\":\"white\",\"ticks\":\"\"}},\"coloraxis\":{\"colorbar\":{\"outlinewidth\":0,\"ticks\":\"\"}},\"colorscale\":{\"sequential\":[[0.0,\"#0d0887\"],[0.1111111111111111,\"#46039f\"],[0.2222222222222222,\"#7201a8\"],[0.3333333333333333,\"#9c179e\"],[0.4444444444444444,\"#bd3786\"],[0.5555555555555556,\"#d8576b\"],[0.6666666666666666,\"#ed7953\"],[0.7777777777777778,\"#fb9f3a\"],[0.8888888888888888,\"#fdca26\"],[1.0,\"#f0f921\"]],\"sequentialminus\":[[0.0,\"#0d0887\"],[0.1111111111111111,\"#46039f\"],[0.2222222222222222,\"#7201a8\"],[0.3333333333333333,\"#9c179e\"],[0.4444444444444444,\"#bd3786\"],[0.5555555555555556,\"#d8576b\"],[0.6666666666666666,\"#ed7953\"],[0.7777777777777778,\"#fb9f3a\"],[0.8888888888888888,\"#fdca26\"],[1.0,\"#f0f921\"]],\"diverging\":[[0,\"#8e0152\"],[0.1,\"#c51b7d\"],[0.2,\"#de77ae\"],[0.3,\"#f1b6da\"],[0.4,\"#fde0ef\"],[0.5,\"#f7f7f7\"],[0.6,\"#e6f5d0\"],[0.7,\"#b8e186\"],[0.8,\"#7fbc41\"],[0.9,\"#4d9221\"],[1,\"#276419\"]]},\"xaxis\":{\"gridcolor\":\"white\",\"linecolor\":\"white\",\"ticks\":\"\",\"title\":{\"standoff\":15},\"zerolinecolor\":\"white\",\"automargin\":true,\"zerolinewidth\":2},\"yaxis\":{\"gridcolor\":\"white\",\"linecolor\":\"white\",\"ticks\":\"\",\"title\":{\"standoff\":15},\"zerolinecolor\":\"white\",\"automargin\":true,\"zerolinewidth\":2},\"scene\":{\"xaxis\":{\"backgroundcolor\":\"#E5ECF6\",\"gridcolor\":\"white\",\"linecolor\":\"white\",\"showbackground\":true,\"ticks\":\"\",\"zerolinecolor\":\"white\",\"gridwidth\":2},\"yaxis\":{\"backgroundcolor\":\"#E5ECF6\",\"gridcolor\":\"white\",\"linecolor\":\"white\",\"showbackground\":true,\"ticks\":\"\",\"zerolinecolor\":\"white\",\"gridwidth\":2},\"zaxis\":{\"backgroundcolor\":\"#E5ECF6\",\"gridcolor\":\"white\",\"linecolor\":\"white\",\"showbackground\":true,\"ticks\":\"\",\"zerolinecolor\":\"white\",\"gridwidth\":2}},\"shapedefaults\":{\"line\":{\"color\":\"#2a3f5f\"}},\"annotationdefaults\":{\"arrowcolor\":\"#2a3f5f\",\"arrowhead\":0,\"arrowwidth\":1},\"geo\":{\"bgcolor\":\"white\",\"landcolor\":\"#E5ECF6\",\"subunitcolor\":\"white\",\"showland\":true,\"showlakes\":true,\"lakecolor\":\"white\"},\"title\":{\"x\":0.05},\"mapbox\":{\"style\":\"light\"}}},\"xaxis\":{\"anchor\":\"y\",\"domain\":[0.0,1.0],\"scaleanchor\":\"y\",\"constrain\":\"domain\",\"title\":{},\"showline\":true,\"linewidth\":1,\"linecolor\":\"black\",\"mirror\":true,\"ticks\":\"outside\",\"tickwidth\":1,\"tickcolor\":\"black\"},\"yaxis\":{\"anchor\":\"x\",\"domain\":[0.0,1.0],\"autorange\":\"reversed\",\"constrain\":\"domain\",\"title\":{},\"showline\":true,\"linewidth\":1,\"linecolor\":\"black\",\"mirror\":true,\"ticks\":\"outside\",\"tickwidth\":1,\"tickcolor\":\"black\"},\"coloraxis\":{\"colorscale\":[[0.0,\"rgb(103,0,31)\"],[0.1,\"rgb(178,24,43)\"],[0.2,\"rgb(214,96,77)\"],[0.3,\"rgb(244,165,130)\"],[0.4,\"rgb(253,219,199)\"],[0.5,\"rgb(247,247,247)\"],[0.6,\"rgb(209,229,240)\"],[0.7,\"rgb(146,197,222)\"],[0.8,\"rgb(67,147,195)\"],[0.9,\"rgb(33,102,172)\"],[1.0,\"rgb(5,48,97)\"]],\"cmid\":0.0,\"colorbar\":{\"title\":{\"text\":\"\\ud835\\udc46\"},\"thicknessmode\":\"pixels\",\"thickness\":10,\"lenmode\":\"fraction\",\"len\":1}},\"margin\":{\"t\":10,\"l\":10,\"r\":10,\"b\":10},\"title\":{\"font\":{\"size\":14}},\"font\":{\"size\":12,\"color\":\"black\"},\"width\":300,\"height\":300},                        {\"responsive\": true}                    ).then(function(){\n",
              "                            \n",
              "var gd = document.getElementById('d43d33ce-49c5-48cf-8938-4b6cef728b7e');\n",
              "var x = new MutationObserver(function (mutations, observer) {{\n",
              "        var display = window.getComputedStyle(gd).display;\n",
              "        if (!display || display === 'none') {{\n",
              "            console.log([gd, 'removed!']);\n",
              "            Plotly.purge(gd);\n",
              "            observer.disconnect();\n",
              "        }}\n",
              "}});\n",
              "\n",
              "// Listen for the removal of the full notebook cells\n",
              "var notebookContainer = gd.closest('#notebook-container');\n",
              "if (notebookContainer) {{\n",
              "    x.observe(notebookContainer, {childList: true});\n",
              "}}\n",
              "\n",
              "// Listen for the clearing of the current output cell\n",
              "var outputEl = gd.closest('.output');\n",
              "if (outputEl) {{\n",
              "    x.observe(outputEl, {childList: true});\n",
              "}}\n",
              "\n",
              "                        })                };                            </script>        </div>\n",
              "</body>\n",
              "</html>"
            ]
          },
          "metadata": {},
          "output_type": "display_data"
        }
      ],
      "source": [
        "# OV circuit for head 11.10\n",
        "h.plot_attn(h.normalise_tensor(ov_circuit[11, 10, : , :]), ALPHABET_LIST)"
      ]
    },
    {
      "cell_type": "markdown",
      "metadata": {
        "id": "zSccDrGfabVZ"
      },
      "source": [
        "## Localization of Term-Related Information Flow"
      ]
    },
    {
      "cell_type": "code",
      "execution_count": 35,
      "metadata": {
        "id": "qI5EKogEabVZ"
      },
      "outputs": [],
      "source": [
        "# Corruption and tokenization\n",
        "s_corrupted_prompts = all_term_corrupt(s_prompts, s_As, s_Bs, s_labels, 'symbolic')\n",
        "\n",
        "s_tokens = model.to_tokens(s_prompts, prepend_bos=False).to(device)\n",
        "s_corrupted_tokens = model.to_tokens(s_corrupted_prompts, prepend_bos=False).to(device)"
      ]
    },
    {
      "cell_type": "code",
      "execution_count": 36,
      "metadata": {
        "colab": {
          "base_uri": "https://localhost:8080/"
        },
        "id": "7VHb6Mx5abVZ",
        "outputId": "527445a2-b462-49d2-f0c8-4daae6a3a9bc"
      },
      "outputs": [
        {
          "name": "stdout",
          "output_type": "stream",
          "text": [
            "Clean logit diff: 0.3691\n",
            "Corrupted logit diff: 0.0244\n"
          ]
        }
      ],
      "source": [
        "# Compute logits for interventions\n",
        "s_clean_logits, s_clean_cache = model.run_with_cache(s_tokens)\n",
        "s_corrupted_logits, s_corrupted_cache = model.run_with_cache(s_corrupted_tokens)\n",
        "\n",
        "s_clean_logit_diff = h.compute_logit_diff(s_clean_logits, s_answer_tokens)\n",
        "print(f\"Clean logit diff: {s_clean_logit_diff:.4f}\")\n",
        "\n",
        "s_corrupted_logit_diff = h.compute_logit_diff(s_corrupted_logits, s_answer_tokens)\n",
        "print(f\"Corrupted logit diff: {s_corrupted_logit_diff:.4f}\")"
      ]
    },
    {
      "cell_type": "markdown",
      "metadata": {
        "id": "wNdDx92-abVZ"
      },
      "source": [
        "### Figure 4(d) residual stream patching"
      ]
    },
    {
      "cell_type": "code",
      "execution_count": 37,
      "metadata": {
        "colab": {
          "base_uri": "https://localhost:8080/"
        },
        "id": "e95chG3LabVZ",
        "outputId": "ff302971-a526-4501-f9be-e2fae8887613"
      },
      "outputs": [
        {
          "name": "stderr",
          "output_type": "stream",
          "text": [
            "100%|██████████| 24/24 [00:50<00:00,  2.10s/it]\n"
          ]
        }
      ],
      "source": [
        "s_resid_denoising2 = h.patching_residual(model, s_corrupted_tokens, s_clean_cache, h.metric_denoising, s_answer_tokens, s_clean_logit_diff, s_corrupted_logit_diff, device)"
      ]
    },
    {
      "cell_type": "code",
      "execution_count": 38,
      "metadata": {
        "colab": {
          "base_uri": "https://localhost:8080/",
          "height": 317
        },
        "id": "IdapQYW2abVa",
        "outputId": "4c1a4615-6ff3-4dea-886f-87eeb5f2badd"
      },
      "outputs": [
        {
          "data": {
            "text/html": [
              "<html>\n",
              "<head><meta charset=\"utf-8\" /></head>\n",
              "<body>\n",
              "    <div>            <script src=\"https://cdnjs.cloudflare.com/ajax/libs/mathjax/2.7.5/MathJax.js?config=TeX-AMS-MML_SVG\"></script><script type=\"text/javascript\">if (window.MathJax && window.MathJax.Hub && window.MathJax.Hub.Config) {window.MathJax.Hub.Config({SVG: {font: \"STIX-Web\"}});}</script>                <script type=\"text/javascript\">window.PlotlyConfig = {MathJaxConfig: 'local'};</script>\n",
              "        <script charset=\"utf-8\" src=\"https://cdn.plot.ly/plotly-2.24.1.min.js\"></script>                <div id=\"a3a970ef-0a47-4ace-879c-f90886a1dc27\" class=\"plotly-graph-div\" style=\"height:300px; width:400px;\"></div>            <script type=\"text/javascript\">                                    window.PLOTLYENV=window.PLOTLYENV || {};                                    if (document.getElementById(\"a3a970ef-0a47-4ace-879c-f90886a1dc27\")) {                    Plotly.newPlot(                        \"a3a970ef-0a47-4ace-879c-f90886a1dc27\",                        [{\"coloraxis\":\"coloraxis\",\"name\":\"0\",\"y\":[\"BEGIN\",\"s_1\",\"s_1 -\\u003e m_1\",\"m_1\",\"m_1 -\\u003e m_2\",\"m_2\",\"m_2 -\\u003e p\",\"p\",\"p -\\u003e s_2\",\"s_2\",\"END\"],\"z\":[[0.0,0.0,0.0,0.0,0.0,0.0,0.0,0.0,0.0,0.0,0.0,0.0,0.0,0.0,0.0,0.0,0.0,0.0,0.0,0.0,0.0,0.0,0.0,0.0],[-0.016567226499319077,-0.018617935478687286,-0.019912952557206154,-0.0201075728982687,-0.009320227429270744,-0.005556757096201181,-0.0024649754632264376,-0.0019008327508345246,-0.0011830278672277927,-0.0016520573990419507,-0.0018297991482540965,-0.001864352379925549,-0.001570937572978437,-0.0016238276148214936,-0.0015236587496474385,-0.0014512871857732534,-0.0012995601864531636,-0.0016026634257286787,-0.002021792810410261,-0.0031563027296215296,-0.0026800089981406927,-0.002861771732568741,-0.002108572516590357,0.0],[-6.030452641425654e-05,0.0007545469561591744,0.0012076860293745995,0.0017855726182460785,0.004985526204109192,-0.0008382860105484724,0.0032323296181857586,0.002057380508631468,0.001179525163024664,0.000976662035100162,-0.00023190556385088712,-0.0012645997339859605,-0.0010381073225289583,-0.00118924374692142,-0.0016403119079768658,-0.0009432955994270742,-0.0008453318732790649,-0.0005336857284419239,-0.00012546920333988965,0.00019251875346526504,-0.00018191854178439826,-0.00027692760340869427,-0.0003069514932576567,0.0],[-0.9407100081443787,-0.9398508071899414,-0.9374362826347351,-0.9309991002082825,-0.9146022796630859,-0.9246376156806946,-0.9207107424736023,-0.9271576404571533,-0.9199732542037964,-0.9000793099403381,-0.8781012296676636,-0.82667475938797,-0.8081995248794556,-0.7893599271774292,-0.7328927516937256,-0.674774706363678,-0.654292106628418,-0.594575047492981,-0.5446670651435852,-0.4641501009464264,-0.41283270716667175,-0.33612990379333496,-0.2983284592628479,0.0],[-0.0001805825886549428,-8.367296686628833e-05,-0.0002469519677106291,-0.0003647471312433481,0.00016331407823599875,-0.0007048806292004883,-0.0026784888468682766,-0.0027034750673919916,-0.004472536500543356,-0.00580682372674346,-0.005399176850914955,-0.0062905726954340935,-0.007014365866780281,-0.007493840530514717,-0.008008144795894623,-0.007469985634088516,-0.008053313009440899,-0.007805892266333103,-0.009812241420149803,-0.009426776319742203,-0.009633208625018597,-0.008530634455382824,-0.0030772900208830833,0.0],[-0.540134608745575,-0.5358259677886963,-0.5298699736595154,-0.5170948505401611,-0.4996773302555084,-0.4805414080619812,-0.4237562119960785,-0.2905671298503876,-0.2814786732196808,-0.21839137375354767,-0.18608060479164124,-0.1840621680021286,-0.200037881731987,-0.19769445061683655,-0.18677738308906555,-0.18581442534923553,-0.17685702443122864,-0.16019681096076965,-0.12998118996620178,-0.14361321926116943,-0.11981970816850662,-0.09229344129562378,-0.07908504456281662,0.0],[-0.00016478377801831812,-2.844815571734216e-05,-0.0005536170792765915,-0.002676174743101001,-0.004838828928768635,-0.0032671692315489054,-0.005546418018639088,-0.005136710591614246,-0.0048015727661550045,-0.004282915499061346,-0.0024440402630716562,-0.003210215363651514,-0.00433889077976346,-0.006118470802903175,-0.007083624601364136,-0.008605747483670712,-0.009341096505522728,-0.007414568215608597,-0.01557863038033247,-0.0057749622501432896,-0.007166236639022827,-0.006170465145260096,-0.002359127625823021,0.0],[0.9989568591117859,0.9985840916633606,0.9959778785705566,0.9914122223854065,0.9930798411369324,1.0,0.9969355463981628,0.9914263486862183,0.9886237978935242,0.984664797782898,0.9794468283653259,0.9711251258850098,0.9815280437469482,0.9690840244293213,0.8803901076316833,0.7097975015640259,0.6899731755256653,0.6395388841629028,0.5467447638511658,0.41121408343315125,0.36188119649887085,0.2782452404499054,0.2265908420085907,0.0],[-2.785549258987885e-05,-0.00013904468505643308,3.602398282964714e-05,0.0001081421141861938,6.791213672840968e-05,5.668087032972835e-05,0.0006180998752824962,0.00013988580030854791,5.226438588579185e-05,-0.00011186440679011866,-0.00011463497503427789,-0.00012084389163646847,0.00013983173994347453,-0.00024120323359966278,-0.0002979518030770123,-0.0003538798773661256,-0.0007277302793227136,-0.0014032598119229078,-0.0028342765290290117,0.000939750752877444,0.0012001184513792396,0.0003101859474554658,0.00038289467920549214,0.0],[-0.0018243402009829879,-0.003071753541007638,-0.0024725813418626785,-0.00039859444950707257,0.001229274901561439,0.0016606167191639543,0.001404659589752555,0.0017875857884064317,0.0017542274435982108,0.001181605621241033,-0.0003995655570179224,0.00016408793453592807,0.0014729424146935344,-2.6254150725435466e-05,-0.0018551764078438282,-0.002133712638169527,-0.0024437925312668085,-0.002708332845941186,-0.004200953058898449,-0.00485862884670496,-0.0054931133054196835,-0.00609090318903327,-0.004462331999093294,0.0],[0.00012883779709227383,0.00030599028104916215,0.0004440337070263922,0.0001979633088922128,-0.0011365229729562998,-0.0014510559849441051,-0.005507542751729488,-0.008780858479440212,-0.008859658613801003,-0.04370836168527603,-0.059621118009090424,-0.12764862179756165,-0.1444394290447235,-0.15082161128520966,-0.05001075938344002,0.1426042765378952,0.12813571095466614,0.07940253615379333,0.13647352159023285,0.205463245511055,0.18365734815597534,0.17536652088165283,0.14518339931964874,0.07636755704879761]],\"type\":\"heatmap\",\"xaxis\":\"x\",\"yaxis\":\"y\",\"hovertemplate\":\"Layer: %{x}\\u003cbr\\u003eSequence Position: %{y}\\u003cbr\\u003ecolor: %{z}\\u003cextra\\u003e\\u003c\\u002fextra\\u003e\"}],                        {\"template\":{\"data\":{\"histogram2dcontour\":[{\"type\":\"histogram2dcontour\",\"colorbar\":{\"outlinewidth\":0,\"ticks\":\"\"},\"colorscale\":[[0.0,\"#0d0887\"],[0.1111111111111111,\"#46039f\"],[0.2222222222222222,\"#7201a8\"],[0.3333333333333333,\"#9c179e\"],[0.4444444444444444,\"#bd3786\"],[0.5555555555555556,\"#d8576b\"],[0.6666666666666666,\"#ed7953\"],[0.7777777777777778,\"#fb9f3a\"],[0.8888888888888888,\"#fdca26\"],[1.0,\"#f0f921\"]]}],\"choropleth\":[{\"type\":\"choropleth\",\"colorbar\":{\"outlinewidth\":0,\"ticks\":\"\"}}],\"histogram2d\":[{\"type\":\"histogram2d\",\"colorbar\":{\"outlinewidth\":0,\"ticks\":\"\"},\"colorscale\":[[0.0,\"#0d0887\"],[0.1111111111111111,\"#46039f\"],[0.2222222222222222,\"#7201a8\"],[0.3333333333333333,\"#9c179e\"],[0.4444444444444444,\"#bd3786\"],[0.5555555555555556,\"#d8576b\"],[0.6666666666666666,\"#ed7953\"],[0.7777777777777778,\"#fb9f3a\"],[0.8888888888888888,\"#fdca26\"],[1.0,\"#f0f921\"]]}],\"heatmap\":[{\"type\":\"heatmap\",\"colorbar\":{\"outlinewidth\":0,\"ticks\":\"\"},\"colorscale\":[[0.0,\"#0d0887\"],[0.1111111111111111,\"#46039f\"],[0.2222222222222222,\"#7201a8\"],[0.3333333333333333,\"#9c179e\"],[0.4444444444444444,\"#bd3786\"],[0.5555555555555556,\"#d8576b\"],[0.6666666666666666,\"#ed7953\"],[0.7777777777777778,\"#fb9f3a\"],[0.8888888888888888,\"#fdca26\"],[1.0,\"#f0f921\"]]}],\"heatmapgl\":[{\"type\":\"heatmapgl\",\"colorbar\":{\"outlinewidth\":0,\"ticks\":\"\"},\"colorscale\":[[0.0,\"#0d0887\"],[0.1111111111111111,\"#46039f\"],[0.2222222222222222,\"#7201a8\"],[0.3333333333333333,\"#9c179e\"],[0.4444444444444444,\"#bd3786\"],[0.5555555555555556,\"#d8576b\"],[0.6666666666666666,\"#ed7953\"],[0.7777777777777778,\"#fb9f3a\"],[0.8888888888888888,\"#fdca26\"],[1.0,\"#f0f921\"]]}],\"contourcarpet\":[{\"type\":\"contourcarpet\",\"colorbar\":{\"outlinewidth\":0,\"ticks\":\"\"}}],\"contour\":[{\"type\":\"contour\",\"colorbar\":{\"outlinewidth\":0,\"ticks\":\"\"},\"colorscale\":[[0.0,\"#0d0887\"],[0.1111111111111111,\"#46039f\"],[0.2222222222222222,\"#7201a8\"],[0.3333333333333333,\"#9c179e\"],[0.4444444444444444,\"#bd3786\"],[0.5555555555555556,\"#d8576b\"],[0.6666666666666666,\"#ed7953\"],[0.7777777777777778,\"#fb9f3a\"],[0.8888888888888888,\"#fdca26\"],[1.0,\"#f0f921\"]]}],\"surface\":[{\"type\":\"surface\",\"colorbar\":{\"outlinewidth\":0,\"ticks\":\"\"},\"colorscale\":[[0.0,\"#0d0887\"],[0.1111111111111111,\"#46039f\"],[0.2222222222222222,\"#7201a8\"],[0.3333333333333333,\"#9c179e\"],[0.4444444444444444,\"#bd3786\"],[0.5555555555555556,\"#d8576b\"],[0.6666666666666666,\"#ed7953\"],[0.7777777777777778,\"#fb9f3a\"],[0.8888888888888888,\"#fdca26\"],[1.0,\"#f0f921\"]]}],\"mesh3d\":[{\"type\":\"mesh3d\",\"colorbar\":{\"outlinewidth\":0,\"ticks\":\"\"}}],\"scatter\":[{\"fillpattern\":{\"fillmode\":\"overlay\",\"size\":10,\"solidity\":0.2},\"type\":\"scatter\"}],\"parcoords\":[{\"type\":\"parcoords\",\"line\":{\"colorbar\":{\"outlinewidth\":0,\"ticks\":\"\"}}}],\"scatterpolargl\":[{\"type\":\"scatterpolargl\",\"marker\":{\"colorbar\":{\"outlinewidth\":0,\"ticks\":\"\"}}}],\"bar\":[{\"error_x\":{\"color\":\"#2a3f5f\"},\"error_y\":{\"color\":\"#2a3f5f\"},\"marker\":{\"line\":{\"color\":\"#E5ECF6\",\"width\":0.5},\"pattern\":{\"fillmode\":\"overlay\",\"size\":10,\"solidity\":0.2}},\"type\":\"bar\"}],\"scattergeo\":[{\"type\":\"scattergeo\",\"marker\":{\"colorbar\":{\"outlinewidth\":0,\"ticks\":\"\"}}}],\"scatterpolar\":[{\"type\":\"scatterpolar\",\"marker\":{\"colorbar\":{\"outlinewidth\":0,\"ticks\":\"\"}}}],\"histogram\":[{\"marker\":{\"pattern\":{\"fillmode\":\"overlay\",\"size\":10,\"solidity\":0.2}},\"type\":\"histogram\"}],\"scattergl\":[{\"type\":\"scattergl\",\"marker\":{\"colorbar\":{\"outlinewidth\":0,\"ticks\":\"\"}}}],\"scatter3d\":[{\"type\":\"scatter3d\",\"line\":{\"colorbar\":{\"outlinewidth\":0,\"ticks\":\"\"}},\"marker\":{\"colorbar\":{\"outlinewidth\":0,\"ticks\":\"\"}}}],\"scattermapbox\":[{\"type\":\"scattermapbox\",\"marker\":{\"colorbar\":{\"outlinewidth\":0,\"ticks\":\"\"}}}],\"scatterternary\":[{\"type\":\"scatterternary\",\"marker\":{\"colorbar\":{\"outlinewidth\":0,\"ticks\":\"\"}}}],\"scattercarpet\":[{\"type\":\"scattercarpet\",\"marker\":{\"colorbar\":{\"outlinewidth\":0,\"ticks\":\"\"}}}],\"carpet\":[{\"aaxis\":{\"endlinecolor\":\"#2a3f5f\",\"gridcolor\":\"white\",\"linecolor\":\"white\",\"minorgridcolor\":\"white\",\"startlinecolor\":\"#2a3f5f\"},\"baxis\":{\"endlinecolor\":\"#2a3f5f\",\"gridcolor\":\"white\",\"linecolor\":\"white\",\"minorgridcolor\":\"white\",\"startlinecolor\":\"#2a3f5f\"},\"type\":\"carpet\"}],\"table\":[{\"cells\":{\"fill\":{\"color\":\"#EBF0F8\"},\"line\":{\"color\":\"white\"}},\"header\":{\"fill\":{\"color\":\"#C8D4E3\"},\"line\":{\"color\":\"white\"}},\"type\":\"table\"}],\"barpolar\":[{\"marker\":{\"line\":{\"color\":\"#E5ECF6\",\"width\":0.5},\"pattern\":{\"fillmode\":\"overlay\",\"size\":10,\"solidity\":0.2}},\"type\":\"barpolar\"}],\"pie\":[{\"automargin\":true,\"type\":\"pie\"}]},\"layout\":{\"autotypenumbers\":\"strict\",\"colorway\":[\"#636efa\",\"#EF553B\",\"#00cc96\",\"#ab63fa\",\"#FFA15A\",\"#19d3f3\",\"#FF6692\",\"#B6E880\",\"#FF97FF\",\"#FECB52\"],\"font\":{\"color\":\"#2a3f5f\"},\"hovermode\":\"closest\",\"hoverlabel\":{\"align\":\"left\"},\"paper_bgcolor\":\"white\",\"plot_bgcolor\":\"#E5ECF6\",\"polar\":{\"bgcolor\":\"#E5ECF6\",\"angularaxis\":{\"gridcolor\":\"white\",\"linecolor\":\"white\",\"ticks\":\"\"},\"radialaxis\":{\"gridcolor\":\"white\",\"linecolor\":\"white\",\"ticks\":\"\"}},\"ternary\":{\"bgcolor\":\"#E5ECF6\",\"aaxis\":{\"gridcolor\":\"white\",\"linecolor\":\"white\",\"ticks\":\"\"},\"baxis\":{\"gridcolor\":\"white\",\"linecolor\":\"white\",\"ticks\":\"\"},\"caxis\":{\"gridcolor\":\"white\",\"linecolor\":\"white\",\"ticks\":\"\"}},\"coloraxis\":{\"colorbar\":{\"outlinewidth\":0,\"ticks\":\"\"}},\"colorscale\":{\"sequential\":[[0.0,\"#0d0887\"],[0.1111111111111111,\"#46039f\"],[0.2222222222222222,\"#7201a8\"],[0.3333333333333333,\"#9c179e\"],[0.4444444444444444,\"#bd3786\"],[0.5555555555555556,\"#d8576b\"],[0.6666666666666666,\"#ed7953\"],[0.7777777777777778,\"#fb9f3a\"],[0.8888888888888888,\"#fdca26\"],[1.0,\"#f0f921\"]],\"sequentialminus\":[[0.0,\"#0d0887\"],[0.1111111111111111,\"#46039f\"],[0.2222222222222222,\"#7201a8\"],[0.3333333333333333,\"#9c179e\"],[0.4444444444444444,\"#bd3786\"],[0.5555555555555556,\"#d8576b\"],[0.6666666666666666,\"#ed7953\"],[0.7777777777777778,\"#fb9f3a\"],[0.8888888888888888,\"#fdca26\"],[1.0,\"#f0f921\"]],\"diverging\":[[0,\"#8e0152\"],[0.1,\"#c51b7d\"],[0.2,\"#de77ae\"],[0.3,\"#f1b6da\"],[0.4,\"#fde0ef\"],[0.5,\"#f7f7f7\"],[0.6,\"#e6f5d0\"],[0.7,\"#b8e186\"],[0.8,\"#7fbc41\"],[0.9,\"#4d9221\"],[1,\"#276419\"]]},\"xaxis\":{\"gridcolor\":\"white\",\"linecolor\":\"white\",\"ticks\":\"\",\"title\":{\"standoff\":15},\"zerolinecolor\":\"white\",\"automargin\":true,\"zerolinewidth\":2},\"yaxis\":{\"gridcolor\":\"white\",\"linecolor\":\"white\",\"ticks\":\"\",\"title\":{\"standoff\":15},\"zerolinecolor\":\"white\",\"automargin\":true,\"zerolinewidth\":2},\"scene\":{\"xaxis\":{\"backgroundcolor\":\"#E5ECF6\",\"gridcolor\":\"white\",\"linecolor\":\"white\",\"showbackground\":true,\"ticks\":\"\",\"zerolinecolor\":\"white\",\"gridwidth\":2},\"yaxis\":{\"backgroundcolor\":\"#E5ECF6\",\"gridcolor\":\"white\",\"linecolor\":\"white\",\"showbackground\":true,\"ticks\":\"\",\"zerolinecolor\":\"white\",\"gridwidth\":2},\"zaxis\":{\"backgroundcolor\":\"#E5ECF6\",\"gridcolor\":\"white\",\"linecolor\":\"white\",\"showbackground\":true,\"ticks\":\"\",\"zerolinecolor\":\"white\",\"gridwidth\":2}},\"shapedefaults\":{\"line\":{\"color\":\"#2a3f5f\"}},\"annotationdefaults\":{\"arrowcolor\":\"#2a3f5f\",\"arrowhead\":0,\"arrowwidth\":1},\"geo\":{\"bgcolor\":\"white\",\"landcolor\":\"#E5ECF6\",\"subunitcolor\":\"white\",\"showland\":true,\"showlakes\":true,\"lakecolor\":\"white\"},\"title\":{\"x\":0.05},\"mapbox\":{\"style\":\"light\"}}},\"xaxis\":{\"anchor\":\"y\",\"domain\":[0.0,1.0],\"scaleanchor\":\"y\",\"constrain\":\"domain\",\"title\":{},\"tickmode\":\"array\",\"showticklabels\":true,\"showline\":true,\"linewidth\":1,\"linecolor\":\"black\",\"mirror\":true,\"ticks\":\"\"},\"yaxis\":{\"anchor\":\"x\",\"domain\":[0.0,1.0],\"autorange\":\"reversed\",\"constrain\":\"domain\",\"title\":{},\"tickmode\":\"array\",\"tickvals\":[0,1,2,3,4,5,6,7,8,9,10],\"ticktext\":[\"BEGIN\",\"s_1\",\"s_1 -\\u003e m_1\",\"m_1\",\"m_1 -\\u003e m_2\",\"m_2\",\"m_2 -\\u003e p\",\"p\",\"p -\\u003e s_2\",\"s_2\",\"END\"],\"showticklabels\":true,\"showline\":true,\"linewidth\":1,\"linecolor\":\"black\",\"mirror\":true,\"ticks\":\"\"},\"coloraxis\":{\"colorscale\":[[0.0,\"rgb(103,0,31)\"],[0.1,\"rgb(178,24,43)\"],[0.2,\"rgb(214,96,77)\"],[0.3,\"rgb(244,165,130)\"],[0.4,\"rgb(253,219,199)\"],[0.5,\"rgb(247,247,247)\"],[0.6,\"rgb(209,229,240)\"],[0.7,\"rgb(146,197,222)\"],[0.8,\"rgb(67,147,195)\"],[0.9,\"rgb(33,102,172)\"],[1.0,\"rgb(5,48,97)\"]],\"cmid\":0.0,\"colorbar\":{\"title\":{},\"thicknessmode\":\"pixels\",\"thickness\":10,\"lenmode\":\"fraction\",\"len\":1}},\"margin\":{\"t\":20,\"l\":10,\"r\":10,\"b\":20},\"title\":{\"font\":{\"size\":14}},\"font\":{\"size\":12,\"color\":\"black\"},\"width\":400,\"height\":300},                        {\"responsive\": true}                    ).then(function(){\n",
              "                            \n",
              "var gd = document.getElementById('a3a970ef-0a47-4ace-879c-f90886a1dc27');\n",
              "var x = new MutationObserver(function (mutations, observer) {{\n",
              "        var display = window.getComputedStyle(gd).display;\n",
              "        if (!display || display === 'none') {{\n",
              "            console.log([gd, 'removed!']);\n",
              "            Plotly.purge(gd);\n",
              "            observer.disconnect();\n",
              "        }}\n",
              "}});\n",
              "\n",
              "// Listen for the removal of the full notebook cells\n",
              "var notebookContainer = gd.closest('#notebook-container');\n",
              "if (notebookContainer) {{\n",
              "    x.observe(notebookContainer, {childList: true});\n",
              "}}\n",
              "\n",
              "// Listen for the clearing of the current output cell\n",
              "var outputEl = gd.closest('.output');\n",
              "if (outputEl) {{\n",
              "    x.observe(outputEl, {childList: true});\n",
              "}}\n",
              "\n",
              "                        })                };                            </script>        </div>\n",
              "</body>\n",
              "</html>"
            ]
          },
          "metadata": {},
          "output_type": "display_data"
        }
      ],
      "source": [
        "h.plot_residual(h.normalise_tensor(h.resize_all(s_resid_denoising2)), labels)"
      ]
    },
    {
      "cell_type": "markdown",
      "metadata": {
        "id": "1XJXJBuGabVa"
      },
      "source": [
        "# 4. Circuit Evaluation"
      ]
    },
    {
      "cell_type": "markdown",
      "metadata": {
        "id": "t1c8WJJEabVa"
      },
      "source": [
        "### Figure 5(a) correctness of the circuit"
      ]
    },
    {
      "cell_type": "code",
      "execution_count": 39,
      "metadata": {
        "colab": {
          "base_uri": "https://localhost:8080/"
        },
        "id": "5qbGqXK3abVa",
        "outputId": "28ee71da-c70f-4b5e-ec2d-f228ceb4bd32"
      },
      "outputs": [
        {
          "name": "stderr",
          "output_type": "stream",
          "text": [
            "100%|██████████| 11/11 [00:01<00:00,  7.15it/s]\n",
            "100%|██████████| 11/11 [00:01<00:00,  6.85it/s]\n"
          ]
        }
      ],
      "source": [
        "# necessity of symbolic\n",
        "necessity_score = h.necessity_check(model, s_labels, s_tokens, s_answer_tokens, s_clean_logit_diff, 'mean', device)\n",
        "sufficiency_score = h.sufficiency_check(model, s_labels, s_tokens, s_answer_tokens, s_clean_logit_diff, 'mean', device)"
      ]
    },
    {
      "cell_type": "code",
      "execution_count": 40,
      "metadata": {
        "colab": {
          "base_uri": "https://localhost:8080/",
          "height": 517
        },
        "id": "5c2JFfVGabVa",
        "outputId": "440b44b1-b709-4a19-f9f6-5cb5d11374d7"
      },
      "outputs": [
        {
          "data": {
            "text/html": [
              "<html>\n",
              "<head><meta charset=\"utf-8\" /></head>\n",
              "<body>\n",
              "    <div>            <script src=\"https://cdnjs.cloudflare.com/ajax/libs/mathjax/2.7.5/MathJax.js?config=TeX-AMS-MML_SVG\"></script><script type=\"text/javascript\">if (window.MathJax && window.MathJax.Hub && window.MathJax.Hub.Config) {window.MathJax.Hub.Config({SVG: {font: \"STIX-Web\"}});}</script>                <script type=\"text/javascript\">window.PlotlyConfig = {MathJaxConfig: 'local'};</script>\n",
              "        <script charset=\"utf-8\" src=\"https://cdn.plot.ly/plotly-2.24.1.min.js\"></script>                <div id=\"9096bdf9-8de0-4748-880a-c5a2b4c9aa5b\" class=\"plotly-graph-div\" style=\"height:500px; width:500px;\"></div>            <script type=\"text/javascript\">                                    window.PLOTLYENV=window.PLOTLYENV || {};                                    if (document.getElementById(\"9096bdf9-8de0-4748-880a-c5a2b4c9aa5b\")) {                    Plotly.newPlot(                        \"9096bdf9-8de0-4748-880a-c5a2b4c9aa5b\",                        [{\"line\":{\"color\":\"#bcbd22\",\"width\":3},\"marker\":{\"size\":8,\"symbol\":\"circle\"},\"mode\":\"lines+markers\",\"name\":\"Necessity\",\"x\":[0,1,2,3,4,5,6,7,8,9,10,11],\"y\":[0.369104266166687,0.6583921313285828,0.28842028975486755,0.16106760501861572,0.30461859703063965,-0.20823225378990173,-0.6095309257507324,-0.6057934761047363,-0.5927442312240601,-0.5838301181793213,-0.5427191853523254,-0.5364887714385986],\"type\":\"scatter\"},{\"line\":{\"color\":\"#9467bd\",\"width\":3},\"marker\":{\"size\":8,\"symbol\":\"square\"},\"mode\":\"lines+markers\",\"name\":\"Sufficiency\",\"x\":[0,1,2,3,4,5,6,7,8,9,10,11],\"y\":[0.0,0.0002724117657635361,0.003794214455410838,0.006688329856842756,0.007413186132907867,0.009243180975317955,0.8025339841842651,1.8412964344024658,1.6090328693389893,1.951883316040039,1.8317790031433105,1.093634009361267],\"type\":\"scatter\"}],                        {\"template\":{\"data\":{\"histogram2dcontour\":[{\"type\":\"histogram2dcontour\",\"colorbar\":{\"outlinewidth\":0,\"ticks\":\"\"},\"colorscale\":[[0.0,\"#0d0887\"],[0.1111111111111111,\"#46039f\"],[0.2222222222222222,\"#7201a8\"],[0.3333333333333333,\"#9c179e\"],[0.4444444444444444,\"#bd3786\"],[0.5555555555555556,\"#d8576b\"],[0.6666666666666666,\"#ed7953\"],[0.7777777777777778,\"#fb9f3a\"],[0.8888888888888888,\"#fdca26\"],[1.0,\"#f0f921\"]]}],\"choropleth\":[{\"type\":\"choropleth\",\"colorbar\":{\"outlinewidth\":0,\"ticks\":\"\"}}],\"histogram2d\":[{\"type\":\"histogram2d\",\"colorbar\":{\"outlinewidth\":0,\"ticks\":\"\"},\"colorscale\":[[0.0,\"#0d0887\"],[0.1111111111111111,\"#46039f\"],[0.2222222222222222,\"#7201a8\"],[0.3333333333333333,\"#9c179e\"],[0.4444444444444444,\"#bd3786\"],[0.5555555555555556,\"#d8576b\"],[0.6666666666666666,\"#ed7953\"],[0.7777777777777778,\"#fb9f3a\"],[0.8888888888888888,\"#fdca26\"],[1.0,\"#f0f921\"]]}],\"heatmap\":[{\"type\":\"heatmap\",\"colorbar\":{\"outlinewidth\":0,\"ticks\":\"\"},\"colorscale\":[[0.0,\"#0d0887\"],[0.1111111111111111,\"#46039f\"],[0.2222222222222222,\"#7201a8\"],[0.3333333333333333,\"#9c179e\"],[0.4444444444444444,\"#bd3786\"],[0.5555555555555556,\"#d8576b\"],[0.6666666666666666,\"#ed7953\"],[0.7777777777777778,\"#fb9f3a\"],[0.8888888888888888,\"#fdca26\"],[1.0,\"#f0f921\"]]}],\"heatmapgl\":[{\"type\":\"heatmapgl\",\"colorbar\":{\"outlinewidth\":0,\"ticks\":\"\"},\"colorscale\":[[0.0,\"#0d0887\"],[0.1111111111111111,\"#46039f\"],[0.2222222222222222,\"#7201a8\"],[0.3333333333333333,\"#9c179e\"],[0.4444444444444444,\"#bd3786\"],[0.5555555555555556,\"#d8576b\"],[0.6666666666666666,\"#ed7953\"],[0.7777777777777778,\"#fb9f3a\"],[0.8888888888888888,\"#fdca26\"],[1.0,\"#f0f921\"]]}],\"contourcarpet\":[{\"type\":\"contourcarpet\",\"colorbar\":{\"outlinewidth\":0,\"ticks\":\"\"}}],\"contour\":[{\"type\":\"contour\",\"colorbar\":{\"outlinewidth\":0,\"ticks\":\"\"},\"colorscale\":[[0.0,\"#0d0887\"],[0.1111111111111111,\"#46039f\"],[0.2222222222222222,\"#7201a8\"],[0.3333333333333333,\"#9c179e\"],[0.4444444444444444,\"#bd3786\"],[0.5555555555555556,\"#d8576b\"],[0.6666666666666666,\"#ed7953\"],[0.7777777777777778,\"#fb9f3a\"],[0.8888888888888888,\"#fdca26\"],[1.0,\"#f0f921\"]]}],\"surface\":[{\"type\":\"surface\",\"colorbar\":{\"outlinewidth\":0,\"ticks\":\"\"},\"colorscale\":[[0.0,\"#0d0887\"],[0.1111111111111111,\"#46039f\"],[0.2222222222222222,\"#7201a8\"],[0.3333333333333333,\"#9c179e\"],[0.4444444444444444,\"#bd3786\"],[0.5555555555555556,\"#d8576b\"],[0.6666666666666666,\"#ed7953\"],[0.7777777777777778,\"#fb9f3a\"],[0.8888888888888888,\"#fdca26\"],[1.0,\"#f0f921\"]]}],\"mesh3d\":[{\"type\":\"mesh3d\",\"colorbar\":{\"outlinewidth\":0,\"ticks\":\"\"}}],\"scatter\":[{\"fillpattern\":{\"fillmode\":\"overlay\",\"size\":10,\"solidity\":0.2},\"type\":\"scatter\"}],\"parcoords\":[{\"type\":\"parcoords\",\"line\":{\"colorbar\":{\"outlinewidth\":0,\"ticks\":\"\"}}}],\"scatterpolargl\":[{\"type\":\"scatterpolargl\",\"marker\":{\"colorbar\":{\"outlinewidth\":0,\"ticks\":\"\"}}}],\"bar\":[{\"error_x\":{\"color\":\"#2a3f5f\"},\"error_y\":{\"color\":\"#2a3f5f\"},\"marker\":{\"line\":{\"color\":\"#E5ECF6\",\"width\":0.5},\"pattern\":{\"fillmode\":\"overlay\",\"size\":10,\"solidity\":0.2}},\"type\":\"bar\"}],\"scattergeo\":[{\"type\":\"scattergeo\",\"marker\":{\"colorbar\":{\"outlinewidth\":0,\"ticks\":\"\"}}}],\"scatterpolar\":[{\"type\":\"scatterpolar\",\"marker\":{\"colorbar\":{\"outlinewidth\":0,\"ticks\":\"\"}}}],\"histogram\":[{\"marker\":{\"pattern\":{\"fillmode\":\"overlay\",\"size\":10,\"solidity\":0.2}},\"type\":\"histogram\"}],\"scattergl\":[{\"type\":\"scattergl\",\"marker\":{\"colorbar\":{\"outlinewidth\":0,\"ticks\":\"\"}}}],\"scatter3d\":[{\"type\":\"scatter3d\",\"line\":{\"colorbar\":{\"outlinewidth\":0,\"ticks\":\"\"}},\"marker\":{\"colorbar\":{\"outlinewidth\":0,\"ticks\":\"\"}}}],\"scattermapbox\":[{\"type\":\"scattermapbox\",\"marker\":{\"colorbar\":{\"outlinewidth\":0,\"ticks\":\"\"}}}],\"scatterternary\":[{\"type\":\"scatterternary\",\"marker\":{\"colorbar\":{\"outlinewidth\":0,\"ticks\":\"\"}}}],\"scattercarpet\":[{\"type\":\"scattercarpet\",\"marker\":{\"colorbar\":{\"outlinewidth\":0,\"ticks\":\"\"}}}],\"carpet\":[{\"aaxis\":{\"endlinecolor\":\"#2a3f5f\",\"gridcolor\":\"white\",\"linecolor\":\"white\",\"minorgridcolor\":\"white\",\"startlinecolor\":\"#2a3f5f\"},\"baxis\":{\"endlinecolor\":\"#2a3f5f\",\"gridcolor\":\"white\",\"linecolor\":\"white\",\"minorgridcolor\":\"white\",\"startlinecolor\":\"#2a3f5f\"},\"type\":\"carpet\"}],\"table\":[{\"cells\":{\"fill\":{\"color\":\"#EBF0F8\"},\"line\":{\"color\":\"white\"}},\"header\":{\"fill\":{\"color\":\"#C8D4E3\"},\"line\":{\"color\":\"white\"}},\"type\":\"table\"}],\"barpolar\":[{\"marker\":{\"line\":{\"color\":\"#E5ECF6\",\"width\":0.5},\"pattern\":{\"fillmode\":\"overlay\",\"size\":10,\"solidity\":0.2}},\"type\":\"barpolar\"}],\"pie\":[{\"automargin\":true,\"type\":\"pie\"}]},\"layout\":{\"autotypenumbers\":\"strict\",\"colorway\":[\"#636efa\",\"#EF553B\",\"#00cc96\",\"#ab63fa\",\"#FFA15A\",\"#19d3f3\",\"#FF6692\",\"#B6E880\",\"#FF97FF\",\"#FECB52\"],\"font\":{\"color\":\"#2a3f5f\"},\"hovermode\":\"closest\",\"hoverlabel\":{\"align\":\"left\"},\"paper_bgcolor\":\"white\",\"plot_bgcolor\":\"#E5ECF6\",\"polar\":{\"bgcolor\":\"#E5ECF6\",\"angularaxis\":{\"gridcolor\":\"white\",\"linecolor\":\"white\",\"ticks\":\"\"},\"radialaxis\":{\"gridcolor\":\"white\",\"linecolor\":\"white\",\"ticks\":\"\"}},\"ternary\":{\"bgcolor\":\"#E5ECF6\",\"aaxis\":{\"gridcolor\":\"white\",\"linecolor\":\"white\",\"ticks\":\"\"},\"baxis\":{\"gridcolor\":\"white\",\"linecolor\":\"white\",\"ticks\":\"\"},\"caxis\":{\"gridcolor\":\"white\",\"linecolor\":\"white\",\"ticks\":\"\"}},\"coloraxis\":{\"colorbar\":{\"outlinewidth\":0,\"ticks\":\"\"}},\"colorscale\":{\"sequential\":[[0.0,\"#0d0887\"],[0.1111111111111111,\"#46039f\"],[0.2222222222222222,\"#7201a8\"],[0.3333333333333333,\"#9c179e\"],[0.4444444444444444,\"#bd3786\"],[0.5555555555555556,\"#d8576b\"],[0.6666666666666666,\"#ed7953\"],[0.7777777777777778,\"#fb9f3a\"],[0.8888888888888888,\"#fdca26\"],[1.0,\"#f0f921\"]],\"sequentialminus\":[[0.0,\"#0d0887\"],[0.1111111111111111,\"#46039f\"],[0.2222222222222222,\"#7201a8\"],[0.3333333333333333,\"#9c179e\"],[0.4444444444444444,\"#bd3786\"],[0.5555555555555556,\"#d8576b\"],[0.6666666666666666,\"#ed7953\"],[0.7777777777777778,\"#fb9f3a\"],[0.8888888888888888,\"#fdca26\"],[1.0,\"#f0f921\"]],\"diverging\":[[0,\"#8e0152\"],[0.1,\"#c51b7d\"],[0.2,\"#de77ae\"],[0.3,\"#f1b6da\"],[0.4,\"#fde0ef\"],[0.5,\"#f7f7f7\"],[0.6,\"#e6f5d0\"],[0.7,\"#b8e186\"],[0.8,\"#7fbc41\"],[0.9,\"#4d9221\"],[1,\"#276419\"]]},\"xaxis\":{\"gridcolor\":\"white\",\"linecolor\":\"white\",\"ticks\":\"\",\"title\":{\"standoff\":15},\"zerolinecolor\":\"white\",\"automargin\":true,\"zerolinewidth\":2},\"yaxis\":{\"gridcolor\":\"white\",\"linecolor\":\"white\",\"ticks\":\"\",\"title\":{\"standoff\":15},\"zerolinecolor\":\"white\",\"automargin\":true,\"zerolinewidth\":2},\"scene\":{\"xaxis\":{\"backgroundcolor\":\"#E5ECF6\",\"gridcolor\":\"white\",\"linecolor\":\"white\",\"showbackground\":true,\"ticks\":\"\",\"zerolinecolor\":\"white\",\"gridwidth\":2},\"yaxis\":{\"backgroundcolor\":\"#E5ECF6\",\"gridcolor\":\"white\",\"linecolor\":\"white\",\"showbackground\":true,\"ticks\":\"\",\"zerolinecolor\":\"white\",\"gridwidth\":2},\"zaxis\":{\"backgroundcolor\":\"#E5ECF6\",\"gridcolor\":\"white\",\"linecolor\":\"white\",\"showbackground\":true,\"ticks\":\"\",\"zerolinecolor\":\"white\",\"gridwidth\":2}},\"shapedefaults\":{\"line\":{\"color\":\"#2a3f5f\"}},\"annotationdefaults\":{\"arrowcolor\":\"#2a3f5f\",\"arrowhead\":0,\"arrowwidth\":1},\"geo\":{\"bgcolor\":\"white\",\"landcolor\":\"#E5ECF6\",\"subunitcolor\":\"white\",\"showland\":true,\"showlakes\":true,\"lakecolor\":\"white\"},\"title\":{\"x\":0.05},\"mapbox\":{\"style\":\"light\"}}},\"shapes\":[{\"line\":{\"color\":\"#000000\",\"dash\":\"dash\",\"width\":3},\"type\":\"line\",\"x0\":0,\"x1\":1,\"xref\":\"x domain\",\"y0\":0.369104266166687,\"y1\":0.369104266166687,\"yref\":\"y\"}],\"margin\":{\"l\":0,\"r\":0,\"t\":10,\"b\":10},\"legend\":{\"font\":{\"size\":20},\"x\":0.02,\"y\":0.98,\"bgcolor\":\"rgba(255, 255, 255, 0.8)\"},\"title\":{\"text\":\"\"},\"width\":500,\"height\":500,\"plot_bgcolor\":\"white\",\"xaxis\":{\"title\":{\"text\":\"\"},\"showline\":true,\"linewidth\":1,\"linecolor\":\"black\",\"mirror\":true,\"showticklabels\":true},\"yaxis\":{\"title\":{\"text\":\"\"},\"showline\":true,\"linewidth\":1,\"linecolor\":\"black\",\"mirror\":true,\"showticklabels\":true}},                        {\"responsive\": true}                    ).then(function(){\n",
              "                            \n",
              "var gd = document.getElementById('9096bdf9-8de0-4748-880a-c5a2b4c9aa5b');\n",
              "var x = new MutationObserver(function (mutations, observer) {{\n",
              "        var display = window.getComputedStyle(gd).display;\n",
              "        if (!display || display === 'none') {{\n",
              "            console.log([gd, 'removed!']);\n",
              "            Plotly.purge(gd);\n",
              "            observer.disconnect();\n",
              "        }}\n",
              "}});\n",
              "\n",
              "// Listen for the removal of the full notebook cells\n",
              "var notebookContainer = gd.closest('#notebook-container');\n",
              "if (notebookContainer) {{\n",
              "    x.observe(notebookContainer, {childList: true});\n",
              "}}\n",
              "\n",
              "// Listen for the clearing of the current output cell\n",
              "var outputEl = gd.closest('.output');\n",
              "if (outputEl) {{\n",
              "    x.observe(outputEl, {childList: true});\n",
              "}}\n",
              "\n",
              "                        })                };                            </script>        </div>\n",
              "</body>\n",
              "</html>"
            ]
          },
          "metadata": {},
          "output_type": "display_data"
        }
      ],
      "source": [
        "h.plot_ablation(s_clean_logit_diff, necessity_score, sufficiency_score)"
      ]
    },
    {
      "cell_type": "markdown",
      "metadata": {
        "id": "WZ06rd7MabVa"
      },
      "source": [
        "### Figure 5(b) robustness of the circuit"
      ]
    },
    {
      "cell_type": "code",
      "execution_count": 41,
      "metadata": {
        "colab": {
          "base_uri": "https://localhost:8080/"
        },
        "id": "5tDXuxKfabVa",
        "outputId": "a6e88588-a81a-47c2-f285-6341735346b7"
      },
      "outputs": [
        {
          "name": "stdout",
          "output_type": "stream",
          "text": [
            "All 8 are 1. All 1 are 7. Therefore, all 8 are =>  7\n",
            "All 8 are 7. All 7 are 1. Therefore, all 8 are =>  1\n",
            "All 1 are 8. All 8 are 7. Therefore, all 1 are =>  7\n",
            "All 1 are 7. All 7 are 8. Therefore, all 1 are =>  8\n",
            "All 7 are 8. All 8 are 1. Therefore, all 7 are =>  1\n",
            "All 7 are 1. All 1 are 8. Therefore, all 7 are =>  8\n"
          ]
        }
      ],
      "source": [
        "# numeric perturbed dataset\n",
        "n_dataset = SyllogismDataset(\n",
        "            N=N/6, # because of permutation\n",
        "            seed=seed,\n",
        "            device=device,\n",
        "            type='numeric',\n",
        "            template_type='AAA1'\n",
        "        )\n",
        "for s, l in zip(n_dataset.sentences[:6], n_dataset.labels[:6]):\n",
        "    print(f'{s} => {l}')\n"
      ]
    },
    {
      "cell_type": "code",
      "execution_count": 42,
      "metadata": {
        "id": "ZhqqYbxVabVa"
      },
      "outputs": [],
      "source": [
        "# Corruption (option)\n",
        "def perturb_quantifier(prompts, As, Bs, labels):\n",
        "    candidates = [' Every', ' Every', ' Each', ' Each', ' All']\n",
        "    corrupted_prompts = []\n",
        "    for i in range(len(prompts)):\n",
        "        prompt = prompts[i]\n",
        "        label = labels[i]\n",
        "        corrupted_labels = []\n",
        "        A = As[i]\n",
        "        B = Bs[i]\n",
        "        new_list = list(filter(lambda x: x not in [A, B, label], candidates))\n",
        "        target = random.sample(new_list, 2)\n",
        "        a_be = ' are' if target[0] == ' All' else ' is'\n",
        "        b_be = ' are' if target[1] == ' All' else ' is'\n",
        "        corrupted_prompt = prompt.replace(' All' + B + ' are' , target[0] + B + a_be).replace('All' + A + ' are', target[1][1:] + A + b_be)\n",
        "        corrupted_prompts.append(corrupted_prompt)\n",
        "        corrupted_labels.append(target)\n",
        "\n",
        "    return corrupted_prompts, corrupted_labels\n"
      ]
    },
    {
      "cell_type": "code",
      "execution_count": 43,
      "metadata": {
        "id": "frc6mWZ_abVb"
      },
      "outputs": [],
      "source": [
        "n_prompts = n_dataset.sentences\n",
        "n_labels = n_dataset.labels\n",
        "n_second_labels = n_dataset.B\n",
        "\n",
        "n_answers = list(zip(n_labels, n_second_labels))\n",
        "n_answer_tokens = t.concat([\n",
        "    model.to_tokens(names, prepend_bos=False).T for names in n_answers\n",
        "])"
      ]
    },
    {
      "cell_type": "code",
      "execution_count": 45,
      "metadata": {
        "id": "74ckaPewabVb"
      },
      "outputs": [],
      "source": [
        "q_prompts = s_dataset.sentences\n",
        "q_labels = s_dataset.labels\n",
        "q_As = s_dataset.A\n",
        "q_Bs = s_dataset.B\n",
        "\n",
        "q_corrupted_prompts, _ = perturb_quantifier(q_prompts, q_As, q_Bs, q_labels)\n",
        "\n",
        "q_answers = list(zip(q_labels, q_Bs))\n",
        "q_answer_tokens = t.concat([\n",
        "    model.to_tokens(names, prepend_bos=False).T for names in q_answers\n",
        "])"
      ]
    },
    {
      "cell_type": "code",
      "execution_count": 46,
      "metadata": {
        "id": "XkJx18SeabVb"
      },
      "outputs": [],
      "source": [
        "# tokenisation\n",
        "n_tokens = model.to_tokens(n_prompts, prepend_bos=False).to(device)\n",
        "q_tokens = model.to_tokens(q_prompts, prepend_bos=False).to(device)"
      ]
    },
    {
      "cell_type": "code",
      "execution_count": 47,
      "metadata": {
        "colab": {
          "base_uri": "https://localhost:8080/"
        },
        "id": "VsmAG_KOabVb",
        "outputId": "72096c5c-42e5-4028-ee31-dfd499a54821"
      },
      "outputs": [
        {
          "name": "stdout",
          "output_type": "stream",
          "text": [
            "Clean logit diff: 0.1666\n",
            "Clean logit diff: 0.0065\n"
          ]
        }
      ],
      "source": [
        "# Compute logits for interventions\n",
        "n_clean_logits, n_clean_cache = model.run_with_cache(n_tokens)\n",
        "q_clean_logits, q_clean_cache = model.run_with_cache(n_tokens)\n",
        "\n",
        "n_clean_logit_diff = h.compute_logit_diff(n_clean_logits, n_answer_tokens)\n",
        "print(f\"Clean logit diff: {n_clean_logit_diff:.4f}\")\n",
        "\n",
        "q_clean_logit_diff = h.compute_logit_diff(q_clean_logits, q_answer_tokens)\n",
        "print(f\"Clean logit diff: {q_clean_logit_diff:.4f}\")"
      ]
    },
    {
      "cell_type": "code",
      "execution_count": 48,
      "metadata": {
        "colab": {
          "base_uri": "https://localhost:8080/"
        },
        "id": "-BrMe0siabVb",
        "outputId": "d650a313-948d-43f9-c5f2-13640686c8f6"
      },
      "outputs": [
        {
          "name": "stderr",
          "output_type": "stream",
          "text": [
            "100%|██████████| 11/11 [00:01<00:00,  7.18it/s]\n",
            "100%|██████████| 11/11 [00:01<00:00,  6.90it/s]\n"
          ]
        }
      ],
      "source": [
        "# necessity, sufficiency of numeric perturbation\n",
        "n_necessity_score = h.necessity_check(model, n_labels, n_tokens, n_answer_tokens, n_clean_logit_diff, 'mean', device)\n",
        "n_sufficiency_score = h.sufficiency_check(model, n_labels, n_tokens, n_answer_tokens, n_clean_logit_diff, 'mean', device)"
      ]
    },
    {
      "cell_type": "code",
      "execution_count": 49,
      "metadata": {
        "colab": {
          "base_uri": "https://localhost:8080/"
        },
        "id": "k9Y6z4XiabVb",
        "outputId": "ba4a6abb-3559-4f08-b8ac-ecdf6fa9628e"
      },
      "outputs": [
        {
          "name": "stderr",
          "output_type": "stream",
          "text": [
            "100%|██████████| 11/11 [00:01<00:00,  7.20it/s]\n",
            "100%|██████████| 11/11 [00:01<00:00,  6.89it/s]\n"
          ]
        }
      ],
      "source": [
        "# necessity, sufficiency of quantifier perturbation\n",
        "q_necessity_score = h.necessity_check(model, q_labels, q_tokens, q_answer_tokens, q_clean_logit_diff, 'mean', device)\n",
        "q_sufficiency_score = h.sufficiency_check(model, q_labels, q_tokens, q_answer_tokens, q_clean_logit_diff, 'mean', device)"
      ]
    },
    {
      "cell_type": "code",
      "execution_count": 50,
      "metadata": {
        "colab": {
          "base_uri": "https://localhost:8080/",
          "height": 517
        },
        "id": "-LHx3KMDabVb",
        "outputId": "a22a20e7-139b-48af-9c79-2242c2b8eeb7"
      },
      "outputs": [
        {
          "data": {
            "text/html": [
              "<html>\n",
              "<head><meta charset=\"utf-8\" /></head>\n",
              "<body>\n",
              "    <div>            <script src=\"https://cdnjs.cloudflare.com/ajax/libs/mathjax/2.7.5/MathJax.js?config=TeX-AMS-MML_SVG\"></script><script type=\"text/javascript\">if (window.MathJax && window.MathJax.Hub && window.MathJax.Hub.Config) {window.MathJax.Hub.Config({SVG: {font: \"STIX-Web\"}});}</script>                <script type=\"text/javascript\">window.PlotlyConfig = {MathJaxConfig: 'local'};</script>\n",
              "        <script charset=\"utf-8\" src=\"https://cdn.plot.ly/plotly-2.24.1.min.js\"></script>                <div id=\"e16768fe-9289-42c1-bbf6-760b7c059a88\" class=\"plotly-graph-div\" style=\"height:500px; width:500px;\"></div>            <script type=\"text/javascript\">                                    window.PLOTLYENV=window.PLOTLYENV || {};                                    if (document.getElementById(\"e16768fe-9289-42c1-bbf6-760b7c059a88\")) {                    Plotly.newPlot(                        \"e16768fe-9289-42c1-bbf6-760b7c059a88\",                        [{\"line\":{\"color\":\"#bcbd22\",\"dash\":\"solid\",\"width\":3},\"marker\":{\"symbol\":\"circle\"},\"name\":\"Necessity (N)\",\"x\":[0,1,2,3,4,5,6,7,8,9,10,11],\"y\":[0.1665719598531723,0.1666908711194992,0.08538775146007538,0.08513995260000229,0.0764399841427803,-0.13104566931724548,-0.22570683062076569,-0.23285722732543945,-0.2427409291267395,-0.24547328054904938,-0.2560220956802368,-0.2741367220878601],\"type\":\"scatter\"},{\"line\":{\"color\":\"#9467bd\",\"dash\":\"solid\",\"width\":3},\"marker\":{\"symbol\":\"square\"},\"name\":\"Sufficiency (N)\",\"x\":[0,1,2,3,4,5,6,7,8,9,10,11],\"y\":[0.0,-0.0007696575485169888,-9.912915265886113e-05,0.0032354991417378187,0.007073752116411924,0.006905492395162582,0.11009321361780167,0.3824721872806549,0.38216790556907654,0.38547343015670776,0.4461669325828552,0.4466586709022522],\"type\":\"scatter\"},{\"line\":{\"color\":\"#bcbd22\",\"dash\":\"dot\",\"width\":3},\"marker\":{\"symbol\":\"circle\"},\"name\":\"Necessity (Q)\",\"showlegend\":true,\"x\":[0,1,2,3,4,5,6,7,8,9,10,11],\"y\":[0.006455601658672094,0.6583921313285828,0.28842028975486755,0.16106760501861572,0.30461859703063965,-0.20823225378990173,-0.6095309257507324,-0.6057934761047363,-0.5927442312240601,-0.5838301181793213,-0.5427191853523254,-0.5364887714385986],\"type\":\"scatter\"},{\"line\":{\"color\":\"#9467bd\",\"dash\":\"dot\",\"width\":3},\"marker\":{\"symbol\":\"square\"},\"name\":\"Sufficiency (Q)\",\"showlegend\":true,\"x\":[0,1,2,3,4,5,6,7,8,9,10,11],\"y\":[0.0,0.0002724117657635361,0.003794214455410838,0.006688329856842756,0.007413186132907867,0.009243180975317955,0.8025339841842651,1.8412964344024658,1.6090328693389893,1.951883316040039,1.8317790031433105,1.093634009361267],\"type\":\"scatter\"}],                        {\"template\":{\"data\":{\"histogram2dcontour\":[{\"type\":\"histogram2dcontour\",\"colorbar\":{\"outlinewidth\":0,\"ticks\":\"\"},\"colorscale\":[[0.0,\"#0d0887\"],[0.1111111111111111,\"#46039f\"],[0.2222222222222222,\"#7201a8\"],[0.3333333333333333,\"#9c179e\"],[0.4444444444444444,\"#bd3786\"],[0.5555555555555556,\"#d8576b\"],[0.6666666666666666,\"#ed7953\"],[0.7777777777777778,\"#fb9f3a\"],[0.8888888888888888,\"#fdca26\"],[1.0,\"#f0f921\"]]}],\"choropleth\":[{\"type\":\"choropleth\",\"colorbar\":{\"outlinewidth\":0,\"ticks\":\"\"}}],\"histogram2d\":[{\"type\":\"histogram2d\",\"colorbar\":{\"outlinewidth\":0,\"ticks\":\"\"},\"colorscale\":[[0.0,\"#0d0887\"],[0.1111111111111111,\"#46039f\"],[0.2222222222222222,\"#7201a8\"],[0.3333333333333333,\"#9c179e\"],[0.4444444444444444,\"#bd3786\"],[0.5555555555555556,\"#d8576b\"],[0.6666666666666666,\"#ed7953\"],[0.7777777777777778,\"#fb9f3a\"],[0.8888888888888888,\"#fdca26\"],[1.0,\"#f0f921\"]]}],\"heatmap\":[{\"type\":\"heatmap\",\"colorbar\":{\"outlinewidth\":0,\"ticks\":\"\"},\"colorscale\":[[0.0,\"#0d0887\"],[0.1111111111111111,\"#46039f\"],[0.2222222222222222,\"#7201a8\"],[0.3333333333333333,\"#9c179e\"],[0.4444444444444444,\"#bd3786\"],[0.5555555555555556,\"#d8576b\"],[0.6666666666666666,\"#ed7953\"],[0.7777777777777778,\"#fb9f3a\"],[0.8888888888888888,\"#fdca26\"],[1.0,\"#f0f921\"]]}],\"heatmapgl\":[{\"type\":\"heatmapgl\",\"colorbar\":{\"outlinewidth\":0,\"ticks\":\"\"},\"colorscale\":[[0.0,\"#0d0887\"],[0.1111111111111111,\"#46039f\"],[0.2222222222222222,\"#7201a8\"],[0.3333333333333333,\"#9c179e\"],[0.4444444444444444,\"#bd3786\"],[0.5555555555555556,\"#d8576b\"],[0.6666666666666666,\"#ed7953\"],[0.7777777777777778,\"#fb9f3a\"],[0.8888888888888888,\"#fdca26\"],[1.0,\"#f0f921\"]]}],\"contourcarpet\":[{\"type\":\"contourcarpet\",\"colorbar\":{\"outlinewidth\":0,\"ticks\":\"\"}}],\"contour\":[{\"type\":\"contour\",\"colorbar\":{\"outlinewidth\":0,\"ticks\":\"\"},\"colorscale\":[[0.0,\"#0d0887\"],[0.1111111111111111,\"#46039f\"],[0.2222222222222222,\"#7201a8\"],[0.3333333333333333,\"#9c179e\"],[0.4444444444444444,\"#bd3786\"],[0.5555555555555556,\"#d8576b\"],[0.6666666666666666,\"#ed7953\"],[0.7777777777777778,\"#fb9f3a\"],[0.8888888888888888,\"#fdca26\"],[1.0,\"#f0f921\"]]}],\"surface\":[{\"type\":\"surface\",\"colorbar\":{\"outlinewidth\":0,\"ticks\":\"\"},\"colorscale\":[[0.0,\"#0d0887\"],[0.1111111111111111,\"#46039f\"],[0.2222222222222222,\"#7201a8\"],[0.3333333333333333,\"#9c179e\"],[0.4444444444444444,\"#bd3786\"],[0.5555555555555556,\"#d8576b\"],[0.6666666666666666,\"#ed7953\"],[0.7777777777777778,\"#fb9f3a\"],[0.8888888888888888,\"#fdca26\"],[1.0,\"#f0f921\"]]}],\"mesh3d\":[{\"type\":\"mesh3d\",\"colorbar\":{\"outlinewidth\":0,\"ticks\":\"\"}}],\"scatter\":[{\"fillpattern\":{\"fillmode\":\"overlay\",\"size\":10,\"solidity\":0.2},\"type\":\"scatter\"}],\"parcoords\":[{\"type\":\"parcoords\",\"line\":{\"colorbar\":{\"outlinewidth\":0,\"ticks\":\"\"}}}],\"scatterpolargl\":[{\"type\":\"scatterpolargl\",\"marker\":{\"colorbar\":{\"outlinewidth\":0,\"ticks\":\"\"}}}],\"bar\":[{\"error_x\":{\"color\":\"#2a3f5f\"},\"error_y\":{\"color\":\"#2a3f5f\"},\"marker\":{\"line\":{\"color\":\"#E5ECF6\",\"width\":0.5},\"pattern\":{\"fillmode\":\"overlay\",\"size\":10,\"solidity\":0.2}},\"type\":\"bar\"}],\"scattergeo\":[{\"type\":\"scattergeo\",\"marker\":{\"colorbar\":{\"outlinewidth\":0,\"ticks\":\"\"}}}],\"scatterpolar\":[{\"type\":\"scatterpolar\",\"marker\":{\"colorbar\":{\"outlinewidth\":0,\"ticks\":\"\"}}}],\"histogram\":[{\"marker\":{\"pattern\":{\"fillmode\":\"overlay\",\"size\":10,\"solidity\":0.2}},\"type\":\"histogram\"}],\"scattergl\":[{\"type\":\"scattergl\",\"marker\":{\"colorbar\":{\"outlinewidth\":0,\"ticks\":\"\"}}}],\"scatter3d\":[{\"type\":\"scatter3d\",\"line\":{\"colorbar\":{\"outlinewidth\":0,\"ticks\":\"\"}},\"marker\":{\"colorbar\":{\"outlinewidth\":0,\"ticks\":\"\"}}}],\"scattermapbox\":[{\"type\":\"scattermapbox\",\"marker\":{\"colorbar\":{\"outlinewidth\":0,\"ticks\":\"\"}}}],\"scatterternary\":[{\"type\":\"scatterternary\",\"marker\":{\"colorbar\":{\"outlinewidth\":0,\"ticks\":\"\"}}}],\"scattercarpet\":[{\"type\":\"scattercarpet\",\"marker\":{\"colorbar\":{\"outlinewidth\":0,\"ticks\":\"\"}}}],\"carpet\":[{\"aaxis\":{\"endlinecolor\":\"#2a3f5f\",\"gridcolor\":\"white\",\"linecolor\":\"white\",\"minorgridcolor\":\"white\",\"startlinecolor\":\"#2a3f5f\"},\"baxis\":{\"endlinecolor\":\"#2a3f5f\",\"gridcolor\":\"white\",\"linecolor\":\"white\",\"minorgridcolor\":\"white\",\"startlinecolor\":\"#2a3f5f\"},\"type\":\"carpet\"}],\"table\":[{\"cells\":{\"fill\":{\"color\":\"#EBF0F8\"},\"line\":{\"color\":\"white\"}},\"header\":{\"fill\":{\"color\":\"#C8D4E3\"},\"line\":{\"color\":\"white\"}},\"type\":\"table\"}],\"barpolar\":[{\"marker\":{\"line\":{\"color\":\"#E5ECF6\",\"width\":0.5},\"pattern\":{\"fillmode\":\"overlay\",\"size\":10,\"solidity\":0.2}},\"type\":\"barpolar\"}],\"pie\":[{\"automargin\":true,\"type\":\"pie\"}]},\"layout\":{\"autotypenumbers\":\"strict\",\"colorway\":[\"#636efa\",\"#EF553B\",\"#00cc96\",\"#ab63fa\",\"#FFA15A\",\"#19d3f3\",\"#FF6692\",\"#B6E880\",\"#FF97FF\",\"#FECB52\"],\"font\":{\"color\":\"#2a3f5f\"},\"hovermode\":\"closest\",\"hoverlabel\":{\"align\":\"left\"},\"paper_bgcolor\":\"white\",\"plot_bgcolor\":\"#E5ECF6\",\"polar\":{\"bgcolor\":\"#E5ECF6\",\"angularaxis\":{\"gridcolor\":\"white\",\"linecolor\":\"white\",\"ticks\":\"\"},\"radialaxis\":{\"gridcolor\":\"white\",\"linecolor\":\"white\",\"ticks\":\"\"}},\"ternary\":{\"bgcolor\":\"#E5ECF6\",\"aaxis\":{\"gridcolor\":\"white\",\"linecolor\":\"white\",\"ticks\":\"\"},\"baxis\":{\"gridcolor\":\"white\",\"linecolor\":\"white\",\"ticks\":\"\"},\"caxis\":{\"gridcolor\":\"white\",\"linecolor\":\"white\",\"ticks\":\"\"}},\"coloraxis\":{\"colorbar\":{\"outlinewidth\":0,\"ticks\":\"\"}},\"colorscale\":{\"sequential\":[[0.0,\"#0d0887\"],[0.1111111111111111,\"#46039f\"],[0.2222222222222222,\"#7201a8\"],[0.3333333333333333,\"#9c179e\"],[0.4444444444444444,\"#bd3786\"],[0.5555555555555556,\"#d8576b\"],[0.6666666666666666,\"#ed7953\"],[0.7777777777777778,\"#fb9f3a\"],[0.8888888888888888,\"#fdca26\"],[1.0,\"#f0f921\"]],\"sequentialminus\":[[0.0,\"#0d0887\"],[0.1111111111111111,\"#46039f\"],[0.2222222222222222,\"#7201a8\"],[0.3333333333333333,\"#9c179e\"],[0.4444444444444444,\"#bd3786\"],[0.5555555555555556,\"#d8576b\"],[0.6666666666666666,\"#ed7953\"],[0.7777777777777778,\"#fb9f3a\"],[0.8888888888888888,\"#fdca26\"],[1.0,\"#f0f921\"]],\"diverging\":[[0,\"#8e0152\"],[0.1,\"#c51b7d\"],[0.2,\"#de77ae\"],[0.3,\"#f1b6da\"],[0.4,\"#fde0ef\"],[0.5,\"#f7f7f7\"],[0.6,\"#e6f5d0\"],[0.7,\"#b8e186\"],[0.8,\"#7fbc41\"],[0.9,\"#4d9221\"],[1,\"#276419\"]]},\"xaxis\":{\"gridcolor\":\"white\",\"linecolor\":\"white\",\"ticks\":\"\",\"title\":{\"standoff\":15},\"zerolinecolor\":\"white\",\"automargin\":true,\"zerolinewidth\":2},\"yaxis\":{\"gridcolor\":\"white\",\"linecolor\":\"white\",\"ticks\":\"\",\"title\":{\"standoff\":15},\"zerolinecolor\":\"white\",\"automargin\":true,\"zerolinewidth\":2},\"scene\":{\"xaxis\":{\"backgroundcolor\":\"#E5ECF6\",\"gridcolor\":\"white\",\"linecolor\":\"white\",\"showbackground\":true,\"ticks\":\"\",\"zerolinecolor\":\"white\",\"gridwidth\":2},\"yaxis\":{\"backgroundcolor\":\"#E5ECF6\",\"gridcolor\":\"white\",\"linecolor\":\"white\",\"showbackground\":true,\"ticks\":\"\",\"zerolinecolor\":\"white\",\"gridwidth\":2},\"zaxis\":{\"backgroundcolor\":\"#E5ECF6\",\"gridcolor\":\"white\",\"linecolor\":\"white\",\"showbackground\":true,\"ticks\":\"\",\"zerolinecolor\":\"white\",\"gridwidth\":2}},\"shapedefaults\":{\"line\":{\"color\":\"#2a3f5f\"}},\"annotationdefaults\":{\"arrowcolor\":\"#2a3f5f\",\"arrowhead\":0,\"arrowwidth\":1},\"geo\":{\"bgcolor\":\"white\",\"landcolor\":\"#E5ECF6\",\"subunitcolor\":\"white\",\"showland\":true,\"showlakes\":true,\"lakecolor\":\"white\"},\"title\":{\"x\":0.05},\"mapbox\":{\"style\":\"light\"}}},\"shapes\":[{\"line\":{\"color\":\"#000000\",\"dash\":\"dash\",\"width\":3},\"name\":\"Baseline\",\"type\":\"line\",\"x0\":0,\"x1\":1,\"xref\":\"x domain\",\"y0\":0.1665719598531723,\"y1\":0.1665719598531723,\"yref\":\"y\"},{\"line\":{\"color\":\"#000000\",\"dash\":\"dash\",\"width\":3},\"type\":\"line\",\"x0\":0,\"x1\":1,\"xref\":\"x domain\",\"y0\":0.006455601658672094,\"y1\":0.006455601658672094,\"yref\":\"y\"}],\"margin\":{\"l\":0,\"r\":0,\"t\":10,\"b\":10},\"legend\":{\"font\":{\"size\":20},\"x\":0.02,\"y\":0.98,\"bgcolor\":\"rgba(255, 255, 255, 0.8)\"},\"title\":{\"text\":\"\"},\"width\":500,\"height\":500,\"plot_bgcolor\":\"white\",\"barmode\":\"group\",\"bargap\":0.1,\"bargroupgap\":0.1,\"xaxis\":{\"title\":{\"text\":\"\"},\"showline\":true,\"linewidth\":1,\"linecolor\":\"black\",\"mirror\":true,\"showticklabels\":true},\"yaxis\":{\"title\":{\"text\":\"\"},\"showline\":true,\"linewidth\":1,\"linecolor\":\"black\",\"mirror\":true,\"showticklabels\":true}},                        {\"responsive\": true}                    ).then(function(){\n",
              "                            \n",
              "var gd = document.getElementById('e16768fe-9289-42c1-bbf6-760b7c059a88');\n",
              "var x = new MutationObserver(function (mutations, observer) {{\n",
              "        var display = window.getComputedStyle(gd).display;\n",
              "        if (!display || display === 'none') {{\n",
              "            console.log([gd, 'removed!']);\n",
              "            Plotly.purge(gd);\n",
              "            observer.disconnect();\n",
              "        }}\n",
              "}});\n",
              "\n",
              "// Listen for the removal of the full notebook cells\n",
              "var notebookContainer = gd.closest('#notebook-container');\n",
              "if (notebookContainer) {{\n",
              "    x.observe(notebookContainer, {childList: true});\n",
              "}}\n",
              "\n",
              "// Listen for the clearing of the current output cell\n",
              "var outputEl = gd.closest('.output');\n",
              "if (outputEl) {{\n",
              "    x.observe(outputEl, {childList: true});\n",
              "}}\n",
              "\n",
              "                        })                };                            </script>        </div>\n",
              "</body>\n",
              "</html>"
            ]
          },
          "metadata": {},
          "output_type": "display_data"
        }
      ],
      "source": [
        "h.plot_ablation_robust(y1=n_necessity_score, y2=n_sufficiency_score, y3=q_necessity_score, y4 = q_sufficiency_score,  baseline1= n_clean_logit_diff, baseline2=q_clean_logit_diff, title=\"\")\n"
      ]
    },
    {
      "cell_type": "markdown",
      "metadata": {
        "id": "HeBR9xpMabVb"
      },
      "source": [
        "# 5. Circuit Transferability"
      ]
    },
    {
      "cell_type": "code",
      "execution_count": 51,
      "metadata": {
        "id": "fDADQypcabVb"
      },
      "outputs": [],
      "source": [
        "# setup\n",
        "bc_prompts = bc_dataset.sentences\n",
        "bc_labels = bc_dataset.labels\n",
        "bc_second_labels = bc_dataset.B\n",
        "\n",
        "bc_answers = list(zip(bc_labels, bc_second_labels))\n",
        "bc_answer_tokens = t.concat([\n",
        "    model.to_tokens(names, prepend_bos=False).T for names in bc_answers\n",
        "])\n",
        "\n",
        "bi_prompts = bi_dataset.sentences\n",
        "bi_labels = bi_dataset.labels\n",
        "bi_second_labels = bi_dataset.B\n",
        "\n",
        "bi_answers = list(zip(bi_labels, bi_second_labels))\n",
        "bi_answer_tokens = t.concat([\n",
        "    model.to_tokens(names, prepend_bos=False).T for names in bi_answers\n",
        "])\n",
        "\n",
        "# tokenisation\n",
        "bc_tokens = model.to_tokens(bc_prompts, prepend_bos=False).to(device)\n",
        "bi_tokens = model.to_tokens(bi_prompts, prepend_bos=False).to(device)"
      ]
    },
    {
      "cell_type": "code",
      "execution_count": 52,
      "metadata": {
        "colab": {
          "base_uri": "https://localhost:8080/"
        },
        "id": "sO3u0DFAabVc",
        "outputId": "9943504e-5563-4b96-cdec-a69227eb5c6c"
      },
      "outputs": [
        {
          "name": "stdout",
          "output_type": "stream",
          "text": [
            "Clean logit diff: 0.2633\n",
            "Clean logit diff: 0.5935\n"
          ]
        }
      ],
      "source": [
        "# Compute logits for interventions\n",
        "bc_clean_logits, bc_clean_cache = model.run_with_cache(bc_tokens)\n",
        "bi_clean_logits, bi_clean_cache = model.run_with_cache(bi_tokens)\n",
        "\n",
        "bc_clean_logit_diff = h.compute_logit_diff(bc_clean_logits, bc_answer_tokens)\n",
        "print(f\"Clean logit diff: {bc_clean_logit_diff:.4f}\")\n",
        "\n",
        "bi_clean_logit_diff = h.compute_logit_diff(bi_clean_logits, bi_answer_tokens)\n",
        "print(f\"Clean logit diff: {bi_clean_logit_diff:.4f}\")"
      ]
    },
    {
      "cell_type": "code",
      "execution_count": 53,
      "metadata": {
        "colab": {
          "base_uri": "https://localhost:8080/"
        },
        "id": "i1jPnYERabVc",
        "outputId": "a19547d2-c3c1-4b8b-a518-e01db3e71547"
      },
      "outputs": [
        {
          "name": "stderr",
          "output_type": "stream",
          "text": [
            "100%|██████████| 11/11 [00:01<00:00,  7.18it/s]\n",
            "100%|██████████| 11/11 [00:01<00:00,  6.88it/s]\n"
          ]
        }
      ],
      "source": [
        "# belief-consistent\n",
        "bc_necessity_score = h.necessity_check(model, bc_labels, bc_tokens, bc_answer_tokens, bc_clean_logit_diff, 'mean', device)\n",
        "bc_sufficiency_score = h.sufficiency_check(model, bc_labels, bc_tokens, bc_answer_tokens, bc_clean_logit_diff, 'mean', device)"
      ]
    },
    {
      "cell_type": "code",
      "execution_count": 54,
      "metadata": {
        "colab": {
          "base_uri": "https://localhost:8080/"
        },
        "id": "AaL9Kz-2abVc",
        "outputId": "34e630fe-c116-496b-9a57-be1fb0369bb1"
      },
      "outputs": [
        {
          "name": "stderr",
          "output_type": "stream",
          "text": [
            "100%|██████████| 11/11 [00:01<00:00,  7.19it/s]\n",
            "100%|██████████| 11/11 [00:01<00:00,  6.86it/s]\n"
          ]
        }
      ],
      "source": [
        "# belief-inconsistent\n",
        "bi_necessity_score = h.necessity_check(model, bi_labels, bi_tokens, bi_answer_tokens, bi_clean_logit_diff, 'mean', device)\n",
        "bi_sufficiency_score = h.sufficiency_check(model, bi_labels, bi_tokens, bi_answer_tokens, bi_clean_logit_diff, 'mean', device)"
      ]
    },
    {
      "cell_type": "markdown",
      "metadata": {
        "id": "t9RLD2onabVc"
      },
      "source": [
        "### Figure 6(a) belief-consistent"
      ]
    },
    {
      "cell_type": "code",
      "execution_count": 55,
      "metadata": {
        "colab": {
          "base_uri": "https://localhost:8080/",
          "height": 517
        },
        "id": "oBbdTV3mabVc",
        "outputId": "9d313a71-d99a-4dfb-bbfc-76b975e7807d"
      },
      "outputs": [
        {
          "data": {
            "text/html": [
              "<html>\n",
              "<head><meta charset=\"utf-8\" /></head>\n",
              "<body>\n",
              "    <div>            <script src=\"https://cdnjs.cloudflare.com/ajax/libs/mathjax/2.7.5/MathJax.js?config=TeX-AMS-MML_SVG\"></script><script type=\"text/javascript\">if (window.MathJax && window.MathJax.Hub && window.MathJax.Hub.Config) {window.MathJax.Hub.Config({SVG: {font: \"STIX-Web\"}});}</script>                <script type=\"text/javascript\">window.PlotlyConfig = {MathJaxConfig: 'local'};</script>\n",
              "        <script charset=\"utf-8\" src=\"https://cdn.plot.ly/plotly-2.24.1.min.js\"></script>                <div id=\"94cf763c-ee6a-4f67-bf83-bedec9676668\" class=\"plotly-graph-div\" style=\"height:500px; width:500px;\"></div>            <script type=\"text/javascript\">                                    window.PLOTLYENV=window.PLOTLYENV || {};                                    if (document.getElementById(\"94cf763c-ee6a-4f67-bf83-bedec9676668\")) {                    Plotly.newPlot(                        \"94cf763c-ee6a-4f67-bf83-bedec9676668\",                        [{\"line\":{\"color\":\"#bcbd22\",\"width\":3},\"marker\":{\"size\":8,\"symbol\":\"circle\"},\"mode\":\"lines+markers\",\"name\":\"Necessity\",\"x\":[0,1,2,3,4,5,6,7,8,9,10,11],\"y\":[0.2633264660835266,0.26040488481521606,0.08781241625547409,0.09263058006763458,0.015016577206552029,-0.07305540889501572,-0.11164940148591995,-0.15111269056797028,-0.12474731355905533,-0.1360834538936615,-0.10004962235689163,-0.08696746826171875],\"type\":\"scatter\"},{\"line\":{\"color\":\"#9467bd\",\"width\":3},\"marker\":{\"size\":8,\"symbol\":\"square\"},\"mode\":\"lines+markers\",\"name\":\"Sufficiency\",\"x\":[0,1,2,3,4,5,6,7,8,9,10,11],\"y\":[0.1276581585407257,0.12396430969238281,0.11647532135248184,0.11620604246854782,0.11307685077190399,0.11582741141319275,0.12828846275806427,0.20865340530872345,0.2403392195701599,0.21938034892082214,0.38325950503349304,0.3843901753425598],\"type\":\"scatter\"}],                        {\"template\":{\"data\":{\"histogram2dcontour\":[{\"type\":\"histogram2dcontour\",\"colorbar\":{\"outlinewidth\":0,\"ticks\":\"\"},\"colorscale\":[[0.0,\"#0d0887\"],[0.1111111111111111,\"#46039f\"],[0.2222222222222222,\"#7201a8\"],[0.3333333333333333,\"#9c179e\"],[0.4444444444444444,\"#bd3786\"],[0.5555555555555556,\"#d8576b\"],[0.6666666666666666,\"#ed7953\"],[0.7777777777777778,\"#fb9f3a\"],[0.8888888888888888,\"#fdca26\"],[1.0,\"#f0f921\"]]}],\"choropleth\":[{\"type\":\"choropleth\",\"colorbar\":{\"outlinewidth\":0,\"ticks\":\"\"}}],\"histogram2d\":[{\"type\":\"histogram2d\",\"colorbar\":{\"outlinewidth\":0,\"ticks\":\"\"},\"colorscale\":[[0.0,\"#0d0887\"],[0.1111111111111111,\"#46039f\"],[0.2222222222222222,\"#7201a8\"],[0.3333333333333333,\"#9c179e\"],[0.4444444444444444,\"#bd3786\"],[0.5555555555555556,\"#d8576b\"],[0.6666666666666666,\"#ed7953\"],[0.7777777777777778,\"#fb9f3a\"],[0.8888888888888888,\"#fdca26\"],[1.0,\"#f0f921\"]]}],\"heatmap\":[{\"type\":\"heatmap\",\"colorbar\":{\"outlinewidth\":0,\"ticks\":\"\"},\"colorscale\":[[0.0,\"#0d0887\"],[0.1111111111111111,\"#46039f\"],[0.2222222222222222,\"#7201a8\"],[0.3333333333333333,\"#9c179e\"],[0.4444444444444444,\"#bd3786\"],[0.5555555555555556,\"#d8576b\"],[0.6666666666666666,\"#ed7953\"],[0.7777777777777778,\"#fb9f3a\"],[0.8888888888888888,\"#fdca26\"],[1.0,\"#f0f921\"]]}],\"heatmapgl\":[{\"type\":\"heatmapgl\",\"colorbar\":{\"outlinewidth\":0,\"ticks\":\"\"},\"colorscale\":[[0.0,\"#0d0887\"],[0.1111111111111111,\"#46039f\"],[0.2222222222222222,\"#7201a8\"],[0.3333333333333333,\"#9c179e\"],[0.4444444444444444,\"#bd3786\"],[0.5555555555555556,\"#d8576b\"],[0.6666666666666666,\"#ed7953\"],[0.7777777777777778,\"#fb9f3a\"],[0.8888888888888888,\"#fdca26\"],[1.0,\"#f0f921\"]]}],\"contourcarpet\":[{\"type\":\"contourcarpet\",\"colorbar\":{\"outlinewidth\":0,\"ticks\":\"\"}}],\"contour\":[{\"type\":\"contour\",\"colorbar\":{\"outlinewidth\":0,\"ticks\":\"\"},\"colorscale\":[[0.0,\"#0d0887\"],[0.1111111111111111,\"#46039f\"],[0.2222222222222222,\"#7201a8\"],[0.3333333333333333,\"#9c179e\"],[0.4444444444444444,\"#bd3786\"],[0.5555555555555556,\"#d8576b\"],[0.6666666666666666,\"#ed7953\"],[0.7777777777777778,\"#fb9f3a\"],[0.8888888888888888,\"#fdca26\"],[1.0,\"#f0f921\"]]}],\"surface\":[{\"type\":\"surface\",\"colorbar\":{\"outlinewidth\":0,\"ticks\":\"\"},\"colorscale\":[[0.0,\"#0d0887\"],[0.1111111111111111,\"#46039f\"],[0.2222222222222222,\"#7201a8\"],[0.3333333333333333,\"#9c179e\"],[0.4444444444444444,\"#bd3786\"],[0.5555555555555556,\"#d8576b\"],[0.6666666666666666,\"#ed7953\"],[0.7777777777777778,\"#fb9f3a\"],[0.8888888888888888,\"#fdca26\"],[1.0,\"#f0f921\"]]}],\"mesh3d\":[{\"type\":\"mesh3d\",\"colorbar\":{\"outlinewidth\":0,\"ticks\":\"\"}}],\"scatter\":[{\"fillpattern\":{\"fillmode\":\"overlay\",\"size\":10,\"solidity\":0.2},\"type\":\"scatter\"}],\"parcoords\":[{\"type\":\"parcoords\",\"line\":{\"colorbar\":{\"outlinewidth\":0,\"ticks\":\"\"}}}],\"scatterpolargl\":[{\"type\":\"scatterpolargl\",\"marker\":{\"colorbar\":{\"outlinewidth\":0,\"ticks\":\"\"}}}],\"bar\":[{\"error_x\":{\"color\":\"#2a3f5f\"},\"error_y\":{\"color\":\"#2a3f5f\"},\"marker\":{\"line\":{\"color\":\"#E5ECF6\",\"width\":0.5},\"pattern\":{\"fillmode\":\"overlay\",\"size\":10,\"solidity\":0.2}},\"type\":\"bar\"}],\"scattergeo\":[{\"type\":\"scattergeo\",\"marker\":{\"colorbar\":{\"outlinewidth\":0,\"ticks\":\"\"}}}],\"scatterpolar\":[{\"type\":\"scatterpolar\",\"marker\":{\"colorbar\":{\"outlinewidth\":0,\"ticks\":\"\"}}}],\"histogram\":[{\"marker\":{\"pattern\":{\"fillmode\":\"overlay\",\"size\":10,\"solidity\":0.2}},\"type\":\"histogram\"}],\"scattergl\":[{\"type\":\"scattergl\",\"marker\":{\"colorbar\":{\"outlinewidth\":0,\"ticks\":\"\"}}}],\"scatter3d\":[{\"type\":\"scatter3d\",\"line\":{\"colorbar\":{\"outlinewidth\":0,\"ticks\":\"\"}},\"marker\":{\"colorbar\":{\"outlinewidth\":0,\"ticks\":\"\"}}}],\"scattermapbox\":[{\"type\":\"scattermapbox\",\"marker\":{\"colorbar\":{\"outlinewidth\":0,\"ticks\":\"\"}}}],\"scatterternary\":[{\"type\":\"scatterternary\",\"marker\":{\"colorbar\":{\"outlinewidth\":0,\"ticks\":\"\"}}}],\"scattercarpet\":[{\"type\":\"scattercarpet\",\"marker\":{\"colorbar\":{\"outlinewidth\":0,\"ticks\":\"\"}}}],\"carpet\":[{\"aaxis\":{\"endlinecolor\":\"#2a3f5f\",\"gridcolor\":\"white\",\"linecolor\":\"white\",\"minorgridcolor\":\"white\",\"startlinecolor\":\"#2a3f5f\"},\"baxis\":{\"endlinecolor\":\"#2a3f5f\",\"gridcolor\":\"white\",\"linecolor\":\"white\",\"minorgridcolor\":\"white\",\"startlinecolor\":\"#2a3f5f\"},\"type\":\"carpet\"}],\"table\":[{\"cells\":{\"fill\":{\"color\":\"#EBF0F8\"},\"line\":{\"color\":\"white\"}},\"header\":{\"fill\":{\"color\":\"#C8D4E3\"},\"line\":{\"color\":\"white\"}},\"type\":\"table\"}],\"barpolar\":[{\"marker\":{\"line\":{\"color\":\"#E5ECF6\",\"width\":0.5},\"pattern\":{\"fillmode\":\"overlay\",\"size\":10,\"solidity\":0.2}},\"type\":\"barpolar\"}],\"pie\":[{\"automargin\":true,\"type\":\"pie\"}]},\"layout\":{\"autotypenumbers\":\"strict\",\"colorway\":[\"#636efa\",\"#EF553B\",\"#00cc96\",\"#ab63fa\",\"#FFA15A\",\"#19d3f3\",\"#FF6692\",\"#B6E880\",\"#FF97FF\",\"#FECB52\"],\"font\":{\"color\":\"#2a3f5f\"},\"hovermode\":\"closest\",\"hoverlabel\":{\"align\":\"left\"},\"paper_bgcolor\":\"white\",\"plot_bgcolor\":\"#E5ECF6\",\"polar\":{\"bgcolor\":\"#E5ECF6\",\"angularaxis\":{\"gridcolor\":\"white\",\"linecolor\":\"white\",\"ticks\":\"\"},\"radialaxis\":{\"gridcolor\":\"white\",\"linecolor\":\"white\",\"ticks\":\"\"}},\"ternary\":{\"bgcolor\":\"#E5ECF6\",\"aaxis\":{\"gridcolor\":\"white\",\"linecolor\":\"white\",\"ticks\":\"\"},\"baxis\":{\"gridcolor\":\"white\",\"linecolor\":\"white\",\"ticks\":\"\"},\"caxis\":{\"gridcolor\":\"white\",\"linecolor\":\"white\",\"ticks\":\"\"}},\"coloraxis\":{\"colorbar\":{\"outlinewidth\":0,\"ticks\":\"\"}},\"colorscale\":{\"sequential\":[[0.0,\"#0d0887\"],[0.1111111111111111,\"#46039f\"],[0.2222222222222222,\"#7201a8\"],[0.3333333333333333,\"#9c179e\"],[0.4444444444444444,\"#bd3786\"],[0.5555555555555556,\"#d8576b\"],[0.6666666666666666,\"#ed7953\"],[0.7777777777777778,\"#fb9f3a\"],[0.8888888888888888,\"#fdca26\"],[1.0,\"#f0f921\"]],\"sequentialminus\":[[0.0,\"#0d0887\"],[0.1111111111111111,\"#46039f\"],[0.2222222222222222,\"#7201a8\"],[0.3333333333333333,\"#9c179e\"],[0.4444444444444444,\"#bd3786\"],[0.5555555555555556,\"#d8576b\"],[0.6666666666666666,\"#ed7953\"],[0.7777777777777778,\"#fb9f3a\"],[0.8888888888888888,\"#fdca26\"],[1.0,\"#f0f921\"]],\"diverging\":[[0,\"#8e0152\"],[0.1,\"#c51b7d\"],[0.2,\"#de77ae\"],[0.3,\"#f1b6da\"],[0.4,\"#fde0ef\"],[0.5,\"#f7f7f7\"],[0.6,\"#e6f5d0\"],[0.7,\"#b8e186\"],[0.8,\"#7fbc41\"],[0.9,\"#4d9221\"],[1,\"#276419\"]]},\"xaxis\":{\"gridcolor\":\"white\",\"linecolor\":\"white\",\"ticks\":\"\",\"title\":{\"standoff\":15},\"zerolinecolor\":\"white\",\"automargin\":true,\"zerolinewidth\":2},\"yaxis\":{\"gridcolor\":\"white\",\"linecolor\":\"white\",\"ticks\":\"\",\"title\":{\"standoff\":15},\"zerolinecolor\":\"white\",\"automargin\":true,\"zerolinewidth\":2},\"scene\":{\"xaxis\":{\"backgroundcolor\":\"#E5ECF6\",\"gridcolor\":\"white\",\"linecolor\":\"white\",\"showbackground\":true,\"ticks\":\"\",\"zerolinecolor\":\"white\",\"gridwidth\":2},\"yaxis\":{\"backgroundcolor\":\"#E5ECF6\",\"gridcolor\":\"white\",\"linecolor\":\"white\",\"showbackground\":true,\"ticks\":\"\",\"zerolinecolor\":\"white\",\"gridwidth\":2},\"zaxis\":{\"backgroundcolor\":\"#E5ECF6\",\"gridcolor\":\"white\",\"linecolor\":\"white\",\"showbackground\":true,\"ticks\":\"\",\"zerolinecolor\":\"white\",\"gridwidth\":2}},\"shapedefaults\":{\"line\":{\"color\":\"#2a3f5f\"}},\"annotationdefaults\":{\"arrowcolor\":\"#2a3f5f\",\"arrowhead\":0,\"arrowwidth\":1},\"geo\":{\"bgcolor\":\"white\",\"landcolor\":\"#E5ECF6\",\"subunitcolor\":\"white\",\"showland\":true,\"showlakes\":true,\"lakecolor\":\"white\"},\"title\":{\"x\":0.05},\"mapbox\":{\"style\":\"light\"}}},\"shapes\":[{\"line\":{\"color\":\"#000000\",\"dash\":\"dash\",\"width\":3},\"type\":\"line\",\"x0\":0,\"x1\":1,\"xref\":\"x domain\",\"y0\":0.2633264660835266,\"y1\":0.2633264660835266,\"yref\":\"y\"}],\"margin\":{\"l\":0,\"r\":0,\"t\":10,\"b\":10},\"legend\":{\"font\":{\"size\":20},\"x\":0.02,\"y\":0.98,\"bgcolor\":\"rgba(255, 255, 255, 0.8)\"},\"title\":{\"text\":\"\"},\"width\":500,\"height\":500,\"plot_bgcolor\":\"white\",\"xaxis\":{\"title\":{\"text\":\"\"},\"showline\":true,\"linewidth\":1,\"linecolor\":\"black\",\"mirror\":true,\"showticklabels\":true},\"yaxis\":{\"title\":{\"text\":\"\"},\"showline\":true,\"linewidth\":1,\"linecolor\":\"black\",\"mirror\":true,\"showticklabels\":true}},                        {\"responsive\": true}                    ).then(function(){\n",
              "                            \n",
              "var gd = document.getElementById('94cf763c-ee6a-4f67-bf83-bedec9676668');\n",
              "var x = new MutationObserver(function (mutations, observer) {{\n",
              "        var display = window.getComputedStyle(gd).display;\n",
              "        if (!display || display === 'none') {{\n",
              "            console.log([gd, 'removed!']);\n",
              "            Plotly.purge(gd);\n",
              "            observer.disconnect();\n",
              "        }}\n",
              "}});\n",
              "\n",
              "// Listen for the removal of the full notebook cells\n",
              "var notebookContainer = gd.closest('#notebook-container');\n",
              "if (notebookContainer) {{\n",
              "    x.observe(notebookContainer, {childList: true});\n",
              "}}\n",
              "\n",
              "// Listen for the clearing of the current output cell\n",
              "var outputEl = gd.closest('.output');\n",
              "if (outputEl) {{\n",
              "    x.observe(outputEl, {childList: true});\n",
              "}}\n",
              "\n",
              "                        })                };                            </script>        </div>\n",
              "</body>\n",
              "</html>"
            ]
          },
          "metadata": {},
          "output_type": "display_data"
        }
      ],
      "source": [
        "h.plot_ablation(bc_clean_logit_diff, bc_necessity_score, bc_sufficiency_score)"
      ]
    },
    {
      "cell_type": "markdown",
      "metadata": {
        "id": "AoLGSC2HabVc"
      },
      "source": [
        "### Figure 6(b) belief-inconsistent"
      ]
    },
    {
      "cell_type": "code",
      "execution_count": 56,
      "metadata": {
        "colab": {
          "base_uri": "https://localhost:8080/",
          "height": 517
        },
        "id": "gEbDxdVlabVc",
        "outputId": "45c4b174-2b4b-441b-949d-13b6603abb77"
      },
      "outputs": [
        {
          "data": {
            "text/html": [
              "<html>\n",
              "<head><meta charset=\"utf-8\" /></head>\n",
              "<body>\n",
              "    <div>            <script src=\"https://cdnjs.cloudflare.com/ajax/libs/mathjax/2.7.5/MathJax.js?config=TeX-AMS-MML_SVG\"></script><script type=\"text/javascript\">if (window.MathJax && window.MathJax.Hub && window.MathJax.Hub.Config) {window.MathJax.Hub.Config({SVG: {font: \"STIX-Web\"}});}</script>                <script type=\"text/javascript\">window.PlotlyConfig = {MathJaxConfig: 'local'};</script>\n",
              "        <script charset=\"utf-8\" src=\"https://cdn.plot.ly/plotly-2.24.1.min.js\"></script>                <div id=\"d7398be3-ba68-4066-aa51-f94e04f5b01f\" class=\"plotly-graph-div\" style=\"height:500px; width:500px;\"></div>            <script type=\"text/javascript\">                                    window.PLOTLYENV=window.PLOTLYENV || {};                                    if (document.getElementById(\"d7398be3-ba68-4066-aa51-f94e04f5b01f\")) {                    Plotly.newPlot(                        \"d7398be3-ba68-4066-aa51-f94e04f5b01f\",                        [{\"line\":{\"color\":\"#bcbd22\",\"width\":3},\"marker\":{\"size\":8,\"symbol\":\"circle\"},\"mode\":\"lines+markers\",\"name\":\"Necessity\",\"x\":[0,1,2,3,4,5,6,7,8,9,10,11],\"y\":[0.593477725982666,0.5876952409744263,0.6219918727874756,0.6128108501434326,0.4950029253959656,0.29405009746551514,0.2451157569885254,0.2375563383102417,0.24664241075515747,0.24599319696426392,0.2567306160926819,0.2533608078956604],\"type\":\"scatter\"},{\"line\":{\"color\":\"#9467bd\",\"width\":3},\"marker\":{\"size\":8,\"symbol\":\"square\"},\"mode\":\"lines+markers\",\"name\":\"Sufficiency\",\"x\":[0,1,2,3,4,5,6,7,8,9,10,11],\"y\":[-3.4144978523254395,-3.3955206871032715,-3.4036736488342285,-3.375450372695923,-3.34780216217041,-3.3526272773742676,-3.274040699005127,-2.934359073638916,-2.747420310974121,-2.7031090259552,-2.6716623306274414,-2.666595935821533],\"type\":\"scatter\"}],                        {\"template\":{\"data\":{\"histogram2dcontour\":[{\"type\":\"histogram2dcontour\",\"colorbar\":{\"outlinewidth\":0,\"ticks\":\"\"},\"colorscale\":[[0.0,\"#0d0887\"],[0.1111111111111111,\"#46039f\"],[0.2222222222222222,\"#7201a8\"],[0.3333333333333333,\"#9c179e\"],[0.4444444444444444,\"#bd3786\"],[0.5555555555555556,\"#d8576b\"],[0.6666666666666666,\"#ed7953\"],[0.7777777777777778,\"#fb9f3a\"],[0.8888888888888888,\"#fdca26\"],[1.0,\"#f0f921\"]]}],\"choropleth\":[{\"type\":\"choropleth\",\"colorbar\":{\"outlinewidth\":0,\"ticks\":\"\"}}],\"histogram2d\":[{\"type\":\"histogram2d\",\"colorbar\":{\"outlinewidth\":0,\"ticks\":\"\"},\"colorscale\":[[0.0,\"#0d0887\"],[0.1111111111111111,\"#46039f\"],[0.2222222222222222,\"#7201a8\"],[0.3333333333333333,\"#9c179e\"],[0.4444444444444444,\"#bd3786\"],[0.5555555555555556,\"#d8576b\"],[0.6666666666666666,\"#ed7953\"],[0.7777777777777778,\"#fb9f3a\"],[0.8888888888888888,\"#fdca26\"],[1.0,\"#f0f921\"]]}],\"heatmap\":[{\"type\":\"heatmap\",\"colorbar\":{\"outlinewidth\":0,\"ticks\":\"\"},\"colorscale\":[[0.0,\"#0d0887\"],[0.1111111111111111,\"#46039f\"],[0.2222222222222222,\"#7201a8\"],[0.3333333333333333,\"#9c179e\"],[0.4444444444444444,\"#bd3786\"],[0.5555555555555556,\"#d8576b\"],[0.6666666666666666,\"#ed7953\"],[0.7777777777777778,\"#fb9f3a\"],[0.8888888888888888,\"#fdca26\"],[1.0,\"#f0f921\"]]}],\"heatmapgl\":[{\"type\":\"heatmapgl\",\"colorbar\":{\"outlinewidth\":0,\"ticks\":\"\"},\"colorscale\":[[0.0,\"#0d0887\"],[0.1111111111111111,\"#46039f\"],[0.2222222222222222,\"#7201a8\"],[0.3333333333333333,\"#9c179e\"],[0.4444444444444444,\"#bd3786\"],[0.5555555555555556,\"#d8576b\"],[0.6666666666666666,\"#ed7953\"],[0.7777777777777778,\"#fb9f3a\"],[0.8888888888888888,\"#fdca26\"],[1.0,\"#f0f921\"]]}],\"contourcarpet\":[{\"type\":\"contourcarpet\",\"colorbar\":{\"outlinewidth\":0,\"ticks\":\"\"}}],\"contour\":[{\"type\":\"contour\",\"colorbar\":{\"outlinewidth\":0,\"ticks\":\"\"},\"colorscale\":[[0.0,\"#0d0887\"],[0.1111111111111111,\"#46039f\"],[0.2222222222222222,\"#7201a8\"],[0.3333333333333333,\"#9c179e\"],[0.4444444444444444,\"#bd3786\"],[0.5555555555555556,\"#d8576b\"],[0.6666666666666666,\"#ed7953\"],[0.7777777777777778,\"#fb9f3a\"],[0.8888888888888888,\"#fdca26\"],[1.0,\"#f0f921\"]]}],\"surface\":[{\"type\":\"surface\",\"colorbar\":{\"outlinewidth\":0,\"ticks\":\"\"},\"colorscale\":[[0.0,\"#0d0887\"],[0.1111111111111111,\"#46039f\"],[0.2222222222222222,\"#7201a8\"],[0.3333333333333333,\"#9c179e\"],[0.4444444444444444,\"#bd3786\"],[0.5555555555555556,\"#d8576b\"],[0.6666666666666666,\"#ed7953\"],[0.7777777777777778,\"#fb9f3a\"],[0.8888888888888888,\"#fdca26\"],[1.0,\"#f0f921\"]]}],\"mesh3d\":[{\"type\":\"mesh3d\",\"colorbar\":{\"outlinewidth\":0,\"ticks\":\"\"}}],\"scatter\":[{\"fillpattern\":{\"fillmode\":\"overlay\",\"size\":10,\"solidity\":0.2},\"type\":\"scatter\"}],\"parcoords\":[{\"type\":\"parcoords\",\"line\":{\"colorbar\":{\"outlinewidth\":0,\"ticks\":\"\"}}}],\"scatterpolargl\":[{\"type\":\"scatterpolargl\",\"marker\":{\"colorbar\":{\"outlinewidth\":0,\"ticks\":\"\"}}}],\"bar\":[{\"error_x\":{\"color\":\"#2a3f5f\"},\"error_y\":{\"color\":\"#2a3f5f\"},\"marker\":{\"line\":{\"color\":\"#E5ECF6\",\"width\":0.5},\"pattern\":{\"fillmode\":\"overlay\",\"size\":10,\"solidity\":0.2}},\"type\":\"bar\"}],\"scattergeo\":[{\"type\":\"scattergeo\",\"marker\":{\"colorbar\":{\"outlinewidth\":0,\"ticks\":\"\"}}}],\"scatterpolar\":[{\"type\":\"scatterpolar\",\"marker\":{\"colorbar\":{\"outlinewidth\":0,\"ticks\":\"\"}}}],\"histogram\":[{\"marker\":{\"pattern\":{\"fillmode\":\"overlay\",\"size\":10,\"solidity\":0.2}},\"type\":\"histogram\"}],\"scattergl\":[{\"type\":\"scattergl\",\"marker\":{\"colorbar\":{\"outlinewidth\":0,\"ticks\":\"\"}}}],\"scatter3d\":[{\"type\":\"scatter3d\",\"line\":{\"colorbar\":{\"outlinewidth\":0,\"ticks\":\"\"}},\"marker\":{\"colorbar\":{\"outlinewidth\":0,\"ticks\":\"\"}}}],\"scattermapbox\":[{\"type\":\"scattermapbox\",\"marker\":{\"colorbar\":{\"outlinewidth\":0,\"ticks\":\"\"}}}],\"scatterternary\":[{\"type\":\"scatterternary\",\"marker\":{\"colorbar\":{\"outlinewidth\":0,\"ticks\":\"\"}}}],\"scattercarpet\":[{\"type\":\"scattercarpet\",\"marker\":{\"colorbar\":{\"outlinewidth\":0,\"ticks\":\"\"}}}],\"carpet\":[{\"aaxis\":{\"endlinecolor\":\"#2a3f5f\",\"gridcolor\":\"white\",\"linecolor\":\"white\",\"minorgridcolor\":\"white\",\"startlinecolor\":\"#2a3f5f\"},\"baxis\":{\"endlinecolor\":\"#2a3f5f\",\"gridcolor\":\"white\",\"linecolor\":\"white\",\"minorgridcolor\":\"white\",\"startlinecolor\":\"#2a3f5f\"},\"type\":\"carpet\"}],\"table\":[{\"cells\":{\"fill\":{\"color\":\"#EBF0F8\"},\"line\":{\"color\":\"white\"}},\"header\":{\"fill\":{\"color\":\"#C8D4E3\"},\"line\":{\"color\":\"white\"}},\"type\":\"table\"}],\"barpolar\":[{\"marker\":{\"line\":{\"color\":\"#E5ECF6\",\"width\":0.5},\"pattern\":{\"fillmode\":\"overlay\",\"size\":10,\"solidity\":0.2}},\"type\":\"barpolar\"}],\"pie\":[{\"automargin\":true,\"type\":\"pie\"}]},\"layout\":{\"autotypenumbers\":\"strict\",\"colorway\":[\"#636efa\",\"#EF553B\",\"#00cc96\",\"#ab63fa\",\"#FFA15A\",\"#19d3f3\",\"#FF6692\",\"#B6E880\",\"#FF97FF\",\"#FECB52\"],\"font\":{\"color\":\"#2a3f5f\"},\"hovermode\":\"closest\",\"hoverlabel\":{\"align\":\"left\"},\"paper_bgcolor\":\"white\",\"plot_bgcolor\":\"#E5ECF6\",\"polar\":{\"bgcolor\":\"#E5ECF6\",\"angularaxis\":{\"gridcolor\":\"white\",\"linecolor\":\"white\",\"ticks\":\"\"},\"radialaxis\":{\"gridcolor\":\"white\",\"linecolor\":\"white\",\"ticks\":\"\"}},\"ternary\":{\"bgcolor\":\"#E5ECF6\",\"aaxis\":{\"gridcolor\":\"white\",\"linecolor\":\"white\",\"ticks\":\"\"},\"baxis\":{\"gridcolor\":\"white\",\"linecolor\":\"white\",\"ticks\":\"\"},\"caxis\":{\"gridcolor\":\"white\",\"linecolor\":\"white\",\"ticks\":\"\"}},\"coloraxis\":{\"colorbar\":{\"outlinewidth\":0,\"ticks\":\"\"}},\"colorscale\":{\"sequential\":[[0.0,\"#0d0887\"],[0.1111111111111111,\"#46039f\"],[0.2222222222222222,\"#7201a8\"],[0.3333333333333333,\"#9c179e\"],[0.4444444444444444,\"#bd3786\"],[0.5555555555555556,\"#d8576b\"],[0.6666666666666666,\"#ed7953\"],[0.7777777777777778,\"#fb9f3a\"],[0.8888888888888888,\"#fdca26\"],[1.0,\"#f0f921\"]],\"sequentialminus\":[[0.0,\"#0d0887\"],[0.1111111111111111,\"#46039f\"],[0.2222222222222222,\"#7201a8\"],[0.3333333333333333,\"#9c179e\"],[0.4444444444444444,\"#bd3786\"],[0.5555555555555556,\"#d8576b\"],[0.6666666666666666,\"#ed7953\"],[0.7777777777777778,\"#fb9f3a\"],[0.8888888888888888,\"#fdca26\"],[1.0,\"#f0f921\"]],\"diverging\":[[0,\"#8e0152\"],[0.1,\"#c51b7d\"],[0.2,\"#de77ae\"],[0.3,\"#f1b6da\"],[0.4,\"#fde0ef\"],[0.5,\"#f7f7f7\"],[0.6,\"#e6f5d0\"],[0.7,\"#b8e186\"],[0.8,\"#7fbc41\"],[0.9,\"#4d9221\"],[1,\"#276419\"]]},\"xaxis\":{\"gridcolor\":\"white\",\"linecolor\":\"white\",\"ticks\":\"\",\"title\":{\"standoff\":15},\"zerolinecolor\":\"white\",\"automargin\":true,\"zerolinewidth\":2},\"yaxis\":{\"gridcolor\":\"white\",\"linecolor\":\"white\",\"ticks\":\"\",\"title\":{\"standoff\":15},\"zerolinecolor\":\"white\",\"automargin\":true,\"zerolinewidth\":2},\"scene\":{\"xaxis\":{\"backgroundcolor\":\"#E5ECF6\",\"gridcolor\":\"white\",\"linecolor\":\"white\",\"showbackground\":true,\"ticks\":\"\",\"zerolinecolor\":\"white\",\"gridwidth\":2},\"yaxis\":{\"backgroundcolor\":\"#E5ECF6\",\"gridcolor\":\"white\",\"linecolor\":\"white\",\"showbackground\":true,\"ticks\":\"\",\"zerolinecolor\":\"white\",\"gridwidth\":2},\"zaxis\":{\"backgroundcolor\":\"#E5ECF6\",\"gridcolor\":\"white\",\"linecolor\":\"white\",\"showbackground\":true,\"ticks\":\"\",\"zerolinecolor\":\"white\",\"gridwidth\":2}},\"shapedefaults\":{\"line\":{\"color\":\"#2a3f5f\"}},\"annotationdefaults\":{\"arrowcolor\":\"#2a3f5f\",\"arrowhead\":0,\"arrowwidth\":1},\"geo\":{\"bgcolor\":\"white\",\"landcolor\":\"#E5ECF6\",\"subunitcolor\":\"white\",\"showland\":true,\"showlakes\":true,\"lakecolor\":\"white\"},\"title\":{\"x\":0.05},\"mapbox\":{\"style\":\"light\"}}},\"shapes\":[{\"line\":{\"color\":\"#000000\",\"dash\":\"dash\",\"width\":3},\"type\":\"line\",\"x0\":0,\"x1\":1,\"xref\":\"x domain\",\"y0\":0.593477725982666,\"y1\":0.593477725982666,\"yref\":\"y\"}],\"margin\":{\"l\":0,\"r\":0,\"t\":10,\"b\":10},\"legend\":{\"font\":{\"size\":20},\"x\":0.02,\"y\":0.98,\"bgcolor\":\"rgba(255, 255, 255, 0.8)\"},\"title\":{\"text\":\"\"},\"width\":500,\"height\":500,\"plot_bgcolor\":\"white\",\"xaxis\":{\"title\":{\"text\":\"\"},\"showline\":true,\"linewidth\":1,\"linecolor\":\"black\",\"mirror\":true,\"showticklabels\":true},\"yaxis\":{\"title\":{\"text\":\"\"},\"showline\":true,\"linewidth\":1,\"linecolor\":\"black\",\"mirror\":true,\"showticklabels\":true}},                        {\"responsive\": true}                    ).then(function(){\n",
              "                            \n",
              "var gd = document.getElementById('d7398be3-ba68-4066-aa51-f94e04f5b01f');\n",
              "var x = new MutationObserver(function (mutations, observer) {{\n",
              "        var display = window.getComputedStyle(gd).display;\n",
              "        if (!display || display === 'none') {{\n",
              "            console.log([gd, 'removed!']);\n",
              "            Plotly.purge(gd);\n",
              "            observer.disconnect();\n",
              "        }}\n",
              "}});\n",
              "\n",
              "// Listen for the removal of the full notebook cells\n",
              "var notebookContainer = gd.closest('#notebook-container');\n",
              "if (notebookContainer) {{\n",
              "    x.observe(notebookContainer, {childList: true});\n",
              "}}\n",
              "\n",
              "// Listen for the clearing of the current output cell\n",
              "var outputEl = gd.closest('.output');\n",
              "if (outputEl) {{\n",
              "    x.observe(outputEl, {childList: true});\n",
              "}}\n",
              "\n",
              "                        })                };                            </script>        </div>\n",
              "</body>\n",
              "</html>"
            ]
          },
          "metadata": {},
          "output_type": "display_data"
        }
      ],
      "source": [
        "h.plot_ablation(bi_clean_logit_diff, bi_necessity_score, bi_sufficiency_score)"
      ]
    },
    {
      "cell_type": "markdown",
      "metadata": {
        "id": "YpkzOAIbabVc"
      },
      "source": [
        "### Table 2 all unconditionally valid syllogisms"
      ]
    },
    {
      "cell_type": "code",
      "execution_count": 57,
      "metadata": {
        "id": "HIWmqoJwabVc"
      },
      "outputs": [],
      "source": [
        "# ordered by accuracy\n",
        "moods_ordered = ['AII3', 'IAI3', 'IAI4', 'AAA1', 'EAE1', 'EIO4', 'EIO3', 'AII1', 'AOO2', 'AEE4', 'OAO3', 'EIO1', 'EIO2', 'EAE2', 'AEE2']"
      ]
    },
    {
      "cell_type": "code",
      "execution_count": 59,
      "metadata": {
        "id": "jOTVftBeabVc"
      },
      "outputs": [],
      "source": [
        "# all symbolic datasets import\n",
        "s_datasets = {}\n",
        "\n",
        "for template in moods_ordered:\n",
        "    s_dataset = SyllogismDataset(\n",
        "            N=N,\n",
        "            seed=seed,\n",
        "            device=device,\n",
        "            type='symbolic',\n",
        "            template_type=template\n",
        "        )\n",
        "    s_datasets[template] = s_dataset\n"
      ]
    },
    {
      "cell_type": "code",
      "execution_count": 60,
      "metadata": {
        "id": "NShCchAwabVc"
      },
      "outputs": [],
      "source": [
        "# setup\n",
        "mood_dics = []\n",
        "\n",
        "for template in moods_ordered:\n",
        "    mood_dic = {\n",
        "        'mood': template,\n",
        "        'prompts': s_datasets[template].sentences,\n",
        "        'labels': s_datasets[template].labels,\n",
        "        'second_labels': s_datasets[template].B\n",
        "\n",
        "    }\n",
        "    s_answers = list(zip(mood_dic['labels'], mood_dic['second_labels']))\n",
        "    mood_dic['answers'] = s_answers\n",
        "    s_answer_tokens = t.concat([\n",
        "        model.to_tokens(names, prepend_bos=False).T for names in s_answers\n",
        "    ])\n",
        "    mood_dic['answer_tokens'] = s_answer_tokens\n",
        "\n",
        "    mood_dics.append(mood_dic)"
      ]
    },
    {
      "cell_type": "code",
      "execution_count": 61,
      "metadata": {
        "colab": {
          "base_uri": "https://localhost:8080/"
        },
        "id": "hSpyK4zkabVc",
        "outputId": "a02bd88f-90c1-4b5b-c35b-f98b489f6b1b"
      },
      "outputs": [
        {
          "name": "stdout",
          "output_type": "stream",
          "text": [
            "tensor(1.1033, device='cuda:0') tensor(0., device='cuda:0')\n",
            "tensor(0.4639, device='cuda:0') tensor(0., device='cuda:0')\n",
            "tensor(0.4639, device='cuda:0') tensor(0., device='cuda:0')\n",
            "tensor(0.4049, device='cuda:0') tensor(0., device='cuda:0')\n",
            "tensor(0.1251, device='cuda:0') tensor(0., device='cuda:0')\n",
            "tensor(0.4447, device='cuda:0') tensor(0., device='cuda:0')\n",
            "tensor(0.4447, device='cuda:0') tensor(0., device='cuda:0')\n",
            "tensor(-0.0879, device='cuda:0') tensor(0., device='cuda:0')\n",
            "tensor(-0.8989, device='cuda:0') tensor(0., device='cuda:0')\n",
            "tensor(-0.4749, device='cuda:0') tensor(0., device='cuda:0')\n",
            "tensor(-0.4963, device='cuda:0') tensor(0., device='cuda:0')\n",
            "tensor(-0.9533, device='cuda:0') tensor(0., device='cuda:0')\n",
            "tensor(-1.2334, device='cuda:0') tensor(0., device='cuda:0')\n",
            "tensor(-1.3570, device='cuda:0') tensor(0., device='cuda:0')\n",
            "tensor(-1.4328, device='cuda:0') tensor(0., device='cuda:0')\n"
          ]
        }
      ],
      "source": [
        "# get base logit diff for 15 syllogisms\n",
        "for i, template in enumerate(moods_ordered):\n",
        "    tokens = model.to_tokens(mood_dics[i]['prompts'], prepend_bos=False).to(device)\n",
        "    clean_logit_diff = h.get_batched_logit_diff(5, tokens, mood_dics[i]['answer_tokens'], model)\n",
        "    mood_dics[i]['tokens'] = tokens\n",
        "    mood_dics[i]['clean_logit_diff'] = clean_logit_diff\n",
        "\n",
        "    bia_diff = 0\n",
        "    for correct, wrong in mood_dics[i]['answer_tokens']:\n",
        "        diff = model.unembed.b_U[correct.item()] - model.unembed.b_U[wrong.item()]\n",
        "        bia_diff += diff\n",
        "\n",
        "    bia_diff = bia_diff/len(mood_dics[i]['prompts'])\n",
        "    mood_dics[i]['bia_diff'] = bia_diff\n",
        "    print(mood_dics[i]['clean_logit_diff'], mood_dics[i]['bia_diff'])"
      ]
    },
    {
      "cell_type": "code",
      "execution_count": 62,
      "metadata": {
        "colab": {
          "base_uri": "https://localhost:8080/"
        },
        "id": "3JMEFrxDabVd",
        "outputId": "44e4d3a8-63f0-40b0-8b91-47e7f6e83387"
      },
      "outputs": [
        {
          "name": "stderr",
          "output_type": "stream",
          "text": [
            "100%|██████████| 11/11 [00:09<00:00,  1.11it/s]\n",
            "100%|██████████| 11/11 [00:10<00:00,  1.09it/s]\n",
            "100%|██████████| 11/11 [00:10<00:00,  1.10it/s]\n",
            "100%|██████████| 11/11 [00:10<00:00,  1.08it/s]\n",
            "100%|██████████| 11/11 [00:10<00:00,  1.09it/s]\n",
            "100%|██████████| 11/11 [00:10<00:00,  1.07it/s]\n",
            "100%|██████████| 11/11 [00:10<00:00,  1.09it/s]\n",
            "100%|██████████| 11/11 [00:10<00:00,  1.07it/s]\n",
            "100%|██████████| 11/11 [00:10<00:00,  1.09it/s]\n",
            "100%|██████████| 11/11 [00:10<00:00,  1.07it/s]\n",
            "100%|██████████| 11/11 [00:10<00:00,  1.01it/s]\n",
            "100%|██████████| 11/11 [00:11<00:00,  1.00s/it]\n",
            "100%|██████████| 11/11 [00:10<00:00,  1.01it/s]\n",
            "100%|██████████| 11/11 [00:11<00:00,  1.01s/it]\n",
            "100%|██████████| 11/11 [00:10<00:00,  1.07it/s]\n",
            "100%|██████████| 11/11 [00:10<00:00,  1.06it/s]\n",
            "100%|██████████| 11/11 [00:12<00:00,  1.11s/it]\n",
            "100%|██████████| 11/11 [00:12<00:00,  1.12s/it]\n",
            "100%|██████████| 11/11 [00:10<00:00,  1.07it/s]\n",
            "100%|██████████| 11/11 [00:10<00:00,  1.05it/s]\n",
            "100%|██████████| 11/11 [00:12<00:00,  1.10s/it]\n",
            "100%|██████████| 11/11 [00:12<00:00,  1.12s/it]\n",
            "100%|██████████| 11/11 [00:10<00:00,  1.00it/s]\n",
            "100%|██████████| 11/11 [00:11<00:00,  1.01s/it]\n",
            "100%|██████████| 11/11 [00:10<00:00,  1.00it/s]\n",
            "100%|██████████| 11/11 [00:11<00:00,  1.02s/it]\n",
            "100%|██████████| 11/11 [00:10<00:00,  1.07it/s]\n",
            "100%|██████████| 11/11 [00:10<00:00,  1.05it/s]\n",
            "100%|██████████| 11/11 [00:10<00:00,  1.07it/s]\n",
            "100%|██████████| 11/11 [00:10<00:00,  1.05it/s]\n"
          ]
        }
      ],
      "source": [
        "# ablation\n",
        "for i, template in enumerate(moods_ordered):\n",
        "    mean_scores = h.necessity_check(model, mood_dics[i]['labels'], mood_dics[i]['tokens'], mood_dics[i]['answer_tokens'], mood_dics[i]['clean_logit_diff'], 'mean', device)\n",
        "    sf_mean_scores = h.sufficiency_check(model, mood_dics[i]['labels'], mood_dics[i]['tokens'], mood_dics[i]['answer_tokens'], mood_dics[i]['clean_logit_diff'], 'mean',device)\n",
        "    mood_dics[i]['mean_scores'] = mean_scores\n",
        "    mood_dics[i]['sf_mean_score'] = sf_mean_scores"
      ]
    },
    {
      "cell_type": "code",
      "execution_count": 63,
      "metadata": {
        "colab": {
          "base_uri": "https://localhost:8080/",
          "height": 817
        },
        "id": "Thf1Nl8SabVd",
        "outputId": "09d6eb52-dd55-40bc-c503-138f979edf9f"
      },
      "outputs": [
        {
          "data": {
            "text/html": [
              "<html>\n",
              "<head><meta charset=\"utf-8\" /></head>\n",
              "<body>\n",
              "    <div>            <script src=\"https://cdnjs.cloudflare.com/ajax/libs/mathjax/2.7.5/MathJax.js?config=TeX-AMS-MML_SVG\"></script><script type=\"text/javascript\">if (window.MathJax && window.MathJax.Hub && window.MathJax.Hub.Config) {window.MathJax.Hub.Config({SVG: {font: \"STIX-Web\"}});}</script>                <script type=\"text/javascript\">window.PlotlyConfig = {MathJaxConfig: 'local'};</script>\n",
              "        <script charset=\"utf-8\" src=\"https://cdn.plot.ly/plotly-2.24.1.min.js\"></script>                <div id=\"7429380a-122c-4f82-b827-713abdd9e0c8\" class=\"plotly-graph-div\" style=\"height:800px; width:1000px;\"></div>            <script type=\"text/javascript\">                                    window.PLOTLYENV=window.PLOTLYENV || {};                                    if (document.getElementById(\"7429380a-122c-4f82-b827-713abdd9e0c8\")) {                    Plotly.newPlot(                        \"7429380a-122c-4f82-b827-713abdd9e0c8\",                        [{\"line\":{\"color\":\"#bcbd22\",\"width\":2},\"name\":\"Necessity\",\"showlegend\":true,\"x\":[0,1,2,3,4,5,6,7,8,9,10,11],\"y\":[1.1032754182815552,1.3486227989196777,1.2236660718917847,1.0002940893173218,0.9898319840431213,0.3469683527946472,0.0525699108839035,0.06263895332813263,0.05877496674656868,0.03265572711825371,0.009370587766170502,0.003312896704301238],\"type\":\"scatter\",\"xaxis\":\"x\",\"yaxis\":\"y\"},{\"line\":{\"color\":\"#9467bd\",\"width\":2},\"name\":\"Sufficiency\",\"showlegend\":true,\"x\":[0,1,2,3,4,5,6,7,8,9,10,11],\"y\":[0.0,0.004679225850850344,0.018398651853203773,0.023413073271512985,0.035220708698034286,0.03483491763472557,0.5016319155693054,1.2966068983078003,1.2795701026916504,1.7481733560562134,1.6332892179489136,1.366897702217102],\"type\":\"scatter\",\"xaxis\":\"x\",\"yaxis\":\"y\"},{\"line\":{\"color\":\"#bcbd22\",\"width\":2},\"name\":\"Necessity\",\"showlegend\":false,\"x\":[0,1,2,3,4,5,6,7,8,9,10,11],\"y\":[0.4638926684856415,0.7774450182914734,0.764504075050354,0.5940707921981812,0.6003252863883972,0.039676979184150696,-0.23410765826702118,-0.21353836357593536,-0.22635915875434875,-0.2453852891921997,-0.2836993634700775,-0.3066554367542267],\"type\":\"scatter\",\"xaxis\":\"x2\",\"yaxis\":\"y2\"},{\"line\":{\"color\":\"#9467bd\",\"width\":2},\"name\":\"Sufficiency\",\"showlegend\":false,\"x\":[0,1,2,3,4,5,6,7,8,9,10,11],\"y\":[0.0,0.005580319091677666,0.045093223452568054,0.050105154514312744,0.06978808343410492,0.06907057762145996,0.6159918904304504,1.0023912191390991,0.9732561707496643,1.135520577430725,1.0378929376602173,0.5652045011520386],\"type\":\"scatter\",\"xaxis\":\"x2\",\"yaxis\":\"y2\"},{\"line\":{\"color\":\"#bcbd22\",\"width\":2},\"name\":\"Necessity\",\"showlegend\":false,\"x\":[0,1,2,3,4,5,6,7,8,9,10,11],\"y\":[0.4638926684856415,0.7774450182914734,0.764504075050354,0.5940707921981812,0.6003252863883972,0.039676979184150696,-0.23410765826702118,-0.21353836357593536,-0.22635915875434875,-0.2453852891921997,-0.2836993634700775,-0.3066554367542267],\"type\":\"scatter\",\"xaxis\":\"x3\",\"yaxis\":\"y3\"},{\"line\":{\"color\":\"#9467bd\",\"width\":2},\"name\":\"Sufficiency\",\"showlegend\":false,\"x\":[0,1,2,3,4,5,6,7,8,9,10,11],\"y\":[0.0,0.005580319091677666,0.045093223452568054,0.050105154514312744,0.06978808343410492,0.06907057762145996,0.6159918904304504,1.0023912191390991,0.9732561707496643,1.135520577430725,1.0378929376602173,0.5652045011520386],\"type\":\"scatter\",\"xaxis\":\"x3\",\"yaxis\":\"y3\"},{\"line\":{\"color\":\"#bcbd22\",\"width\":2},\"name\":\"Necessity\",\"showlegend\":false,\"x\":[0,1,2,3,4,5,6,7,8,9,10,11],\"y\":[0.404859334230423,0.7065479755401611,0.34968069195747375,0.22877521812915802,0.36318230628967285,-0.1198204979300499,-0.5472897291183472,-0.5462692975997925,-0.527193009853363,-0.5101175904273987,-0.4738302528858185,-0.4630652368068695],\"type\":\"scatter\",\"xaxis\":\"x4\",\"yaxis\":\"y4\"},{\"line\":{\"color\":\"#9467bd\",\"width\":2},\"name\":\"Sufficiency\",\"showlegend\":false,\"x\":[0,1,2,3,4,5,6,7,8,9,10,11],\"y\":[0.0,0.0006501515745185316,0.004389654844999313,0.0069540939293801785,0.010346615687012672,0.012498201802372932,1.0082385540008545,2.1554737091064453,1.9343998432159424,2.3447513580322266,2.205673933029175,1.4973105192184448],\"type\":\"scatter\",\"xaxis\":\"x4\",\"yaxis\":\"y4\"},{\"line\":{\"color\":\"#bcbd22\",\"width\":2},\"name\":\"Necessity\",\"showlegend\":false,\"x\":[0,1,2,3,4,5,6,7,8,9,10,11],\"y\":[0.12514592707157135,0.4196225702762604,0.020188653841614723,-0.061498627066612244,0.09619318693876266,-0.1835399717092514,-0.4067665636539459,-0.4100235104560852,-0.39574772119522095,-0.38344115018844604,-0.37152764201164246,-0.3668389320373535],\"type\":\"scatter\",\"xaxis\":\"x5\",\"yaxis\":\"y5\"},{\"line\":{\"color\":\"#9467bd\",\"width\":2},\"name\":\"Sufficiency\",\"showlegend\":false,\"x\":[0,1,2,3,4,5,6,7,8,9,10,11],\"y\":[0.0,0.0035544042475521564,0.02963412180542946,0.03344971686601639,0.04898638278245926,0.04960671439766884,0.4391411244869232,0.7287448048591614,0.4588255286216736,0.6413556337356567,0.5818844437599182,-0.029334116727113724],\"type\":\"scatter\",\"xaxis\":\"x5\",\"yaxis\":\"y5\"},{\"line\":{\"color\":\"#bcbd22\",\"width\":2},\"name\":\"Necessity\",\"showlegend\":false,\"x\":[0,1,2,3,4,5,6,7,8,9,10,11],\"y\":[0.4447415769100189,0.7289280891418457,0.5371206402778625,0.2773701846599579,0.3205614387989044,-0.21284547448158264,-0.37457144260406494,-0.3639295697212219,-0.3661188781261444,-0.3923570215702057,-0.41765639185905457,-0.43298444151878357],\"type\":\"scatter\",\"xaxis\":\"x6\",\"yaxis\":\"y6\"},{\"line\":{\"color\":\"#9467bd\",\"width\":2},\"name\":\"Sufficiency\",\"showlegend\":false,\"x\":[0,1,2,3,4,5,6,7,8,9,10,11],\"y\":[0.0,0.00480544101446867,0.00967163871973753,0.011247131042182446,0.0194403063505888,0.01937798783183098,0.04100245237350464,-0.0867491289973259,-0.16455437242984772,-0.16996677219867706,-0.18042616546154022,-0.7713181972503662],\"type\":\"scatter\",\"xaxis\":\"x6\",\"yaxis\":\"y6\"},{\"line\":{\"color\":\"#bcbd22\",\"width\":2},\"name\":\"Necessity\",\"showlegend\":false,\"x\":[0,1,2,3,4,5,6,7,8,9,10,11],\"y\":[0.4447415769100189,0.7289280891418457,0.5371206402778625,0.2773701846599579,0.3205614387989044,-0.21284547448158264,-0.37457144260406494,-0.3639295697212219,-0.3661188781261444,-0.3923570215702057,-0.41765639185905457,-0.43298444151878357],\"type\":\"scatter\",\"xaxis\":\"x7\",\"yaxis\":\"y7\"},{\"line\":{\"color\":\"#9467bd\",\"width\":2},\"name\":\"Sufficiency\",\"showlegend\":false,\"x\":[0,1,2,3,4,5,6,7,8,9,10,11],\"y\":[0.0,0.00480544101446867,0.00967163871973753,0.011247131042182446,0.0194403063505888,0.01937798783183098,0.04100245237350464,-0.0867491289973259,-0.16455437242984772,-0.16996677219867706,-0.18042616546154022,-0.7713181972503662],\"type\":\"scatter\",\"xaxis\":\"x7\",\"yaxis\":\"y7\"},{\"line\":{\"color\":\"#bcbd22\",\"width\":2},\"name\":\"Necessity\",\"showlegend\":false,\"x\":[0,1,2,3,4,5,6,7,8,9,10,11],\"y\":[-0.08787621557712555,0.06410565227270126,-0.5858162045478821,-0.6271016597747803,-0.4687406122684479,-0.8171359300613403,-1.0591158866882324,-1.0526965856552124,-1.0419707298278809,-1.0437440872192383,-0.9980155229568481,-0.9951081275939941],\"type\":\"scatter\",\"xaxis\":\"x8\",\"yaxis\":\"y8\"},{\"line\":{\"color\":\"#9467bd\",\"width\":2},\"name\":\"Sufficiency\",\"showlegend\":false,\"x\":[0,1,2,3,4,5,6,7,8,9,10,11],\"y\":[0.0,0.0009432933875359595,-0.03351365402340889,-0.03026716411113739,-0.03781403973698616,-0.03454107046127319,0.21892116963863373,0.846034586429596,0.6299334168434143,1.0049993991851807,1.2651008367538452,0.662087082862854],\"type\":\"scatter\",\"xaxis\":\"x8\",\"yaxis\":\"y8\"},{\"line\":{\"color\":\"#bcbd22\",\"width\":2},\"name\":\"Necessity\",\"showlegend\":false,\"x\":[0,1,2,3,4,5,6,7,8,9,10,11],\"y\":[-0.8989332914352417,-0.7916491627693176,-1.155928611755371,-0.9795678853988647,-0.8034532070159912,-1.0540231466293335,-1.1538126468658447,-1.1680467128753662,-1.1229186058044434,-1.1240462064743042,-1.0861976146697998,-1.078344464302063],\"type\":\"scatter\",\"xaxis\":\"x9\",\"yaxis\":\"y9\"},{\"line\":{\"color\":\"#9467bd\",\"width\":2},\"name\":\"Sufficiency\",\"showlegend\":false,\"x\":[0,1,2,3,4,5,6,7,8,9,10,11],\"y\":[0.0,-0.009159001521766186,-0.057911474257707596,-0.06287995725870132,-0.10750914365053177,-0.10570412129163742,0.011056073009967804,0.17773519456386566,0.07936806231737137,-0.642535388469696,-0.5341225862503052,-0.9982128739356995],\"type\":\"scatter\",\"xaxis\":\"x9\",\"yaxis\":\"y9\"},{\"line\":{\"color\":\"#bcbd22\",\"width\":2},\"name\":\"Necessity\",\"showlegend\":false,\"x\":[0,1,2,3,4,5,6,7,8,9,10,11],\"y\":[-0.4749293923377991,-0.37006741762161255,-0.3844451904296875,-0.3692014217376709,-0.2964363992214203,-0.2185698300600052,-0.3305308520793915,-0.3371138274669647,-0.3027907907962799,-0.30341875553131104,-0.2718694508075714,-0.2596253752708435],\"type\":\"scatter\",\"xaxis\":\"x10\",\"yaxis\":\"y10\"},{\"line\":{\"color\":\"#9467bd\",\"width\":2},\"name\":\"Sufficiency\",\"showlegend\":false,\"x\":[0,1,2,3,4,5,6,7,8,9,10,11],\"y\":[0.0,-0.006355977617204189,-0.015552063472568989,-0.02207084931433201,-0.039275381714105606,-0.03877530246973038,-0.022330569103360176,-0.4148477017879486,-0.4201759397983551,-0.8982542157173157,-0.9123414158821106,-1.1447561979293823],\"type\":\"scatter\",\"xaxis\":\"x10\",\"yaxis\":\"y10\"},{\"line\":{\"color\":\"#bcbd22\",\"width\":2},\"name\":\"Necessity\",\"showlegend\":false,\"x\":[0,1,2,3,4,5,6,7,8,9,10,11],\"y\":[-0.4962707757949829,-0.3658282160758972,-0.5415359735488892,-0.5342205166816711,-0.49954572319984436,-0.6865100860595703,-0.7006219029426575,-0.6910099983215332,-0.7223489880561829,-0.756263017654419,-0.7932862639427185,-0.8211556673049927],\"type\":\"scatter\",\"xaxis\":\"x11\",\"yaxis\":\"y11\"},{\"line\":{\"color\":\"#9467bd\",\"width\":2},\"name\":\"Sufficiency\",\"showlegend\":false,\"x\":[0,1,2,3,4,5,6,7,8,9,10,11],\"y\":[0.0,0.005319611169397831,0.03284858167171478,0.03601820021867752,0.06859450042247772,0.06911002844572067,-0.0835200771689415,-0.2244807481765747,-0.2742297053337097,-0.3225020170211792,-0.33698582649230957,-0.8106682300567627],\"type\":\"scatter\",\"xaxis\":\"x11\",\"yaxis\":\"y11\"},{\"line\":{\"color\":\"#bcbd22\",\"width\":2},\"name\":\"Necessity\",\"showlegend\":false,\"x\":[0,1,2,3,4,5,6,7,8,9,10,11],\"y\":[-0.9532818794250488,-0.7834837436676025,-1.3651918172836304,-1.3828893899917603,-1.1978908777236938,-1.2866607904434204,-1.4288365840911865,-1.4350377321243286,-1.4429503679275513,-1.43821120262146,-1.4363967180252075,-1.446000099182129],\"type\":\"scatter\",\"xaxis\":\"x12\",\"yaxis\":\"y12\"},{\"line\":{\"color\":\"#9467bd\",\"width\":2},\"name\":\"Sufficiency\",\"showlegend\":false,\"x\":[0,1,2,3,4,5,6,7,8,9,10,11],\"y\":[0.0,0.002801165683194995,0.00483670411631465,0.004793064668774605,0.007873190566897392,0.009956227615475655,-0.04128475859761238,-0.3091835677623749,-0.5670903921127319,-0.771571159362793,-0.5246854424476624,-1.3008373975753784],\"type\":\"scatter\",\"xaxis\":\"x12\",\"yaxis\":\"y12\"},{\"line\":{\"color\":\"#bcbd22\",\"width\":2},\"name\":\"Necessity\",\"showlegend\":false,\"x\":[0,1,2,3,4,5,6,7,8,9,10,11],\"y\":[-1.2333656549453735,-1.1055465936660767,-1.4955315589904785,-1.423654317855835,-1.1672025918960571,-1.4413206577301025,-1.2994401454925537,-1.3060481548309326,-1.2911514043807983,-1.2907317876815796,-1.2714064121246338,-1.2716434001922607],\"type\":\"scatter\",\"xaxis\":\"x13\",\"yaxis\":\"y13\"},{\"line\":{\"color\":\"#9467bd\",\"width\":2},\"name\":\"Sufficiency\",\"showlegend\":false,\"x\":[0,1,2,3,4,5,6,7,8,9,10,11],\"y\":[0.0,-0.0071901073679327965,-0.014864635653793812,-0.017126664519309998,-0.029395518824458122,-0.025929082185029984,-0.18154802918434143,-0.30061259865760803,-0.5517058968544006,-1.2697066068649292,-0.918353259563446,-1.3098074197769165],\"type\":\"scatter\",\"xaxis\":\"x13\",\"yaxis\":\"y13\"},{\"line\":{\"color\":\"#bcbd22\",\"width\":2},\"name\":\"Necessity\",\"showlegend\":false,\"x\":[0,1,2,3,4,5,6,7,8,9,10,11],\"y\":[-1.356982946395874,-1.2753880023956299,-1.822778344154358,-1.6155937910079956,-1.3453588485717773,-1.2912321090698242,-1.0617456436157227,-1.0656256675720215,-1.0331950187683105,-1.0250294208526611,-0.971813976764679,-0.9598888158798218],\"type\":\"scatter\",\"xaxis\":\"x14\",\"yaxis\":\"y14\"},{\"line\":{\"color\":\"#9467bd\",\"width\":2},\"name\":\"Sufficiency\",\"showlegend\":false,\"x\":[0,1,2,3,4,5,6,7,8,9,10,11],\"y\":[0.0,-0.013241843320429325,-0.08687399327754974,-0.09574512392282486,-0.13658496737480164,-0.13462013006210327,-0.7121493816375732,-1.0845282077789307,-1.3877924680709839,-2.3467154502868652,-1.6303868293762207,-1.9107797145843506],\"type\":\"scatter\",\"xaxis\":\"x14\",\"yaxis\":\"y14\"},{\"line\":{\"color\":\"#bcbd22\",\"width\":2},\"name\":\"Necessity\",\"showlegend\":false,\"x\":[0,1,2,3,4,5,6,7,8,9,10,11],\"y\":[-1.4327707290649414,-1.414129614830017,-1.8299890756607056,-1.6403920650482178,-1.3926175832748413,-1.4196628332138062,-1.5156651735305786,-1.532665491104126,-1.5043812990188599,-1.5009057521820068,-1.4471795558929443,-1.4404423236846924],\"type\":\"scatter\",\"xaxis\":\"x15\",\"yaxis\":\"y15\"},{\"line\":{\"color\":\"#9467bd\",\"width\":2},\"name\":\"Sufficiency\",\"showlegend\":false,\"x\":[0,1,2,3,4,5,6,7,8,9,10,11],\"y\":[0.0,-0.013451219536364079,-0.09020259231328964,-0.09848418086767197,-0.13718187808990479,-0.13441821932792664,-0.2800784707069397,-1.1515263319015503,-1.4012727737426758,-2.4688379764556885,-1.9240831136703491,-2.1672353744506836],\"type\":\"scatter\",\"xaxis\":\"x15\",\"yaxis\":\"y15\"}],                        {\"template\":{\"data\":{\"histogram2dcontour\":[{\"type\":\"histogram2dcontour\",\"colorbar\":{\"outlinewidth\":0,\"ticks\":\"\"},\"colorscale\":[[0.0,\"#0d0887\"],[0.1111111111111111,\"#46039f\"],[0.2222222222222222,\"#7201a8\"],[0.3333333333333333,\"#9c179e\"],[0.4444444444444444,\"#bd3786\"],[0.5555555555555556,\"#d8576b\"],[0.6666666666666666,\"#ed7953\"],[0.7777777777777778,\"#fb9f3a\"],[0.8888888888888888,\"#fdca26\"],[1.0,\"#f0f921\"]]}],\"choropleth\":[{\"type\":\"choropleth\",\"colorbar\":{\"outlinewidth\":0,\"ticks\":\"\"}}],\"histogram2d\":[{\"type\":\"histogram2d\",\"colorbar\":{\"outlinewidth\":0,\"ticks\":\"\"},\"colorscale\":[[0.0,\"#0d0887\"],[0.1111111111111111,\"#46039f\"],[0.2222222222222222,\"#7201a8\"],[0.3333333333333333,\"#9c179e\"],[0.4444444444444444,\"#bd3786\"],[0.5555555555555556,\"#d8576b\"],[0.6666666666666666,\"#ed7953\"],[0.7777777777777778,\"#fb9f3a\"],[0.8888888888888888,\"#fdca26\"],[1.0,\"#f0f921\"]]}],\"heatmap\":[{\"type\":\"heatmap\",\"colorbar\":{\"outlinewidth\":0,\"ticks\":\"\"},\"colorscale\":[[0.0,\"#0d0887\"],[0.1111111111111111,\"#46039f\"],[0.2222222222222222,\"#7201a8\"],[0.3333333333333333,\"#9c179e\"],[0.4444444444444444,\"#bd3786\"],[0.5555555555555556,\"#d8576b\"],[0.6666666666666666,\"#ed7953\"],[0.7777777777777778,\"#fb9f3a\"],[0.8888888888888888,\"#fdca26\"],[1.0,\"#f0f921\"]]}],\"heatmapgl\":[{\"type\":\"heatmapgl\",\"colorbar\":{\"outlinewidth\":0,\"ticks\":\"\"},\"colorscale\":[[0.0,\"#0d0887\"],[0.1111111111111111,\"#46039f\"],[0.2222222222222222,\"#7201a8\"],[0.3333333333333333,\"#9c179e\"],[0.4444444444444444,\"#bd3786\"],[0.5555555555555556,\"#d8576b\"],[0.6666666666666666,\"#ed7953\"],[0.7777777777777778,\"#fb9f3a\"],[0.8888888888888888,\"#fdca26\"],[1.0,\"#f0f921\"]]}],\"contourcarpet\":[{\"type\":\"contourcarpet\",\"colorbar\":{\"outlinewidth\":0,\"ticks\":\"\"}}],\"contour\":[{\"type\":\"contour\",\"colorbar\":{\"outlinewidth\":0,\"ticks\":\"\"},\"colorscale\":[[0.0,\"#0d0887\"],[0.1111111111111111,\"#46039f\"],[0.2222222222222222,\"#7201a8\"],[0.3333333333333333,\"#9c179e\"],[0.4444444444444444,\"#bd3786\"],[0.5555555555555556,\"#d8576b\"],[0.6666666666666666,\"#ed7953\"],[0.7777777777777778,\"#fb9f3a\"],[0.8888888888888888,\"#fdca26\"],[1.0,\"#f0f921\"]]}],\"surface\":[{\"type\":\"surface\",\"colorbar\":{\"outlinewidth\":0,\"ticks\":\"\"},\"colorscale\":[[0.0,\"#0d0887\"],[0.1111111111111111,\"#46039f\"],[0.2222222222222222,\"#7201a8\"],[0.3333333333333333,\"#9c179e\"],[0.4444444444444444,\"#bd3786\"],[0.5555555555555556,\"#d8576b\"],[0.6666666666666666,\"#ed7953\"],[0.7777777777777778,\"#fb9f3a\"],[0.8888888888888888,\"#fdca26\"],[1.0,\"#f0f921\"]]}],\"mesh3d\":[{\"type\":\"mesh3d\",\"colorbar\":{\"outlinewidth\":0,\"ticks\":\"\"}}],\"scatter\":[{\"fillpattern\":{\"fillmode\":\"overlay\",\"size\":10,\"solidity\":0.2},\"type\":\"scatter\"}],\"parcoords\":[{\"type\":\"parcoords\",\"line\":{\"colorbar\":{\"outlinewidth\":0,\"ticks\":\"\"}}}],\"scatterpolargl\":[{\"type\":\"scatterpolargl\",\"marker\":{\"colorbar\":{\"outlinewidth\":0,\"ticks\":\"\"}}}],\"bar\":[{\"error_x\":{\"color\":\"#2a3f5f\"},\"error_y\":{\"color\":\"#2a3f5f\"},\"marker\":{\"line\":{\"color\":\"#E5ECF6\",\"width\":0.5},\"pattern\":{\"fillmode\":\"overlay\",\"size\":10,\"solidity\":0.2}},\"type\":\"bar\"}],\"scattergeo\":[{\"type\":\"scattergeo\",\"marker\":{\"colorbar\":{\"outlinewidth\":0,\"ticks\":\"\"}}}],\"scatterpolar\":[{\"type\":\"scatterpolar\",\"marker\":{\"colorbar\":{\"outlinewidth\":0,\"ticks\":\"\"}}}],\"histogram\":[{\"marker\":{\"pattern\":{\"fillmode\":\"overlay\",\"size\":10,\"solidity\":0.2}},\"type\":\"histogram\"}],\"scattergl\":[{\"type\":\"scattergl\",\"marker\":{\"colorbar\":{\"outlinewidth\":0,\"ticks\":\"\"}}}],\"scatter3d\":[{\"type\":\"scatter3d\",\"line\":{\"colorbar\":{\"outlinewidth\":0,\"ticks\":\"\"}},\"marker\":{\"colorbar\":{\"outlinewidth\":0,\"ticks\":\"\"}}}],\"scattermapbox\":[{\"type\":\"scattermapbox\",\"marker\":{\"colorbar\":{\"outlinewidth\":0,\"ticks\":\"\"}}}],\"scatterternary\":[{\"type\":\"scatterternary\",\"marker\":{\"colorbar\":{\"outlinewidth\":0,\"ticks\":\"\"}}}],\"scattercarpet\":[{\"type\":\"scattercarpet\",\"marker\":{\"colorbar\":{\"outlinewidth\":0,\"ticks\":\"\"}}}],\"carpet\":[{\"aaxis\":{\"endlinecolor\":\"#2a3f5f\",\"gridcolor\":\"white\",\"linecolor\":\"white\",\"minorgridcolor\":\"white\",\"startlinecolor\":\"#2a3f5f\"},\"baxis\":{\"endlinecolor\":\"#2a3f5f\",\"gridcolor\":\"white\",\"linecolor\":\"white\",\"minorgridcolor\":\"white\",\"startlinecolor\":\"#2a3f5f\"},\"type\":\"carpet\"}],\"table\":[{\"cells\":{\"fill\":{\"color\":\"#EBF0F8\"},\"line\":{\"color\":\"white\"}},\"header\":{\"fill\":{\"color\":\"#C8D4E3\"},\"line\":{\"color\":\"white\"}},\"type\":\"table\"}],\"barpolar\":[{\"marker\":{\"line\":{\"color\":\"#E5ECF6\",\"width\":0.5},\"pattern\":{\"fillmode\":\"overlay\",\"size\":10,\"solidity\":0.2}},\"type\":\"barpolar\"}],\"pie\":[{\"automargin\":true,\"type\":\"pie\"}]},\"layout\":{\"autotypenumbers\":\"strict\",\"colorway\":[\"#636efa\",\"#EF553B\",\"#00cc96\",\"#ab63fa\",\"#FFA15A\",\"#19d3f3\",\"#FF6692\",\"#B6E880\",\"#FF97FF\",\"#FECB52\"],\"font\":{\"color\":\"#2a3f5f\"},\"hovermode\":\"closest\",\"hoverlabel\":{\"align\":\"left\"},\"paper_bgcolor\":\"white\",\"plot_bgcolor\":\"#E5ECF6\",\"polar\":{\"bgcolor\":\"#E5ECF6\",\"angularaxis\":{\"gridcolor\":\"white\",\"linecolor\":\"white\",\"ticks\":\"\"},\"radialaxis\":{\"gridcolor\":\"white\",\"linecolor\":\"white\",\"ticks\":\"\"}},\"ternary\":{\"bgcolor\":\"#E5ECF6\",\"aaxis\":{\"gridcolor\":\"white\",\"linecolor\":\"white\",\"ticks\":\"\"},\"baxis\":{\"gridcolor\":\"white\",\"linecolor\":\"white\",\"ticks\":\"\"},\"caxis\":{\"gridcolor\":\"white\",\"linecolor\":\"white\",\"ticks\":\"\"}},\"coloraxis\":{\"colorbar\":{\"outlinewidth\":0,\"ticks\":\"\"}},\"colorscale\":{\"sequential\":[[0.0,\"#0d0887\"],[0.1111111111111111,\"#46039f\"],[0.2222222222222222,\"#7201a8\"],[0.3333333333333333,\"#9c179e\"],[0.4444444444444444,\"#bd3786\"],[0.5555555555555556,\"#d8576b\"],[0.6666666666666666,\"#ed7953\"],[0.7777777777777778,\"#fb9f3a\"],[0.8888888888888888,\"#fdca26\"],[1.0,\"#f0f921\"]],\"sequentialminus\":[[0.0,\"#0d0887\"],[0.1111111111111111,\"#46039f\"],[0.2222222222222222,\"#7201a8\"],[0.3333333333333333,\"#9c179e\"],[0.4444444444444444,\"#bd3786\"],[0.5555555555555556,\"#d8576b\"],[0.6666666666666666,\"#ed7953\"],[0.7777777777777778,\"#fb9f3a\"],[0.8888888888888888,\"#fdca26\"],[1.0,\"#f0f921\"]],\"diverging\":[[0,\"#8e0152\"],[0.1,\"#c51b7d\"],[0.2,\"#de77ae\"],[0.3,\"#f1b6da\"],[0.4,\"#fde0ef\"],[0.5,\"#f7f7f7\"],[0.6,\"#e6f5d0\"],[0.7,\"#b8e186\"],[0.8,\"#7fbc41\"],[0.9,\"#4d9221\"],[1,\"#276419\"]]},\"xaxis\":{\"gridcolor\":\"white\",\"linecolor\":\"white\",\"ticks\":\"\",\"title\":{\"standoff\":15},\"zerolinecolor\":\"white\",\"automargin\":true,\"zerolinewidth\":2},\"yaxis\":{\"gridcolor\":\"white\",\"linecolor\":\"white\",\"ticks\":\"\",\"title\":{\"standoff\":15},\"zerolinecolor\":\"white\",\"automargin\":true,\"zerolinewidth\":2},\"scene\":{\"xaxis\":{\"backgroundcolor\":\"#E5ECF6\",\"gridcolor\":\"white\",\"linecolor\":\"white\",\"showbackground\":true,\"ticks\":\"\",\"zerolinecolor\":\"white\",\"gridwidth\":2},\"yaxis\":{\"backgroundcolor\":\"#E5ECF6\",\"gridcolor\":\"white\",\"linecolor\":\"white\",\"showbackground\":true,\"ticks\":\"\",\"zerolinecolor\":\"white\",\"gridwidth\":2},\"zaxis\":{\"backgroundcolor\":\"#E5ECF6\",\"gridcolor\":\"white\",\"linecolor\":\"white\",\"showbackground\":true,\"ticks\":\"\",\"zerolinecolor\":\"white\",\"gridwidth\":2}},\"shapedefaults\":{\"line\":{\"color\":\"#2a3f5f\"}},\"annotationdefaults\":{\"arrowcolor\":\"#2a3f5f\",\"arrowhead\":0,\"arrowwidth\":1},\"geo\":{\"bgcolor\":\"white\",\"landcolor\":\"#E5ECF6\",\"subunitcolor\":\"white\",\"showland\":true,\"showlakes\":true,\"lakecolor\":\"white\"},\"title\":{\"x\":0.05},\"mapbox\":{\"style\":\"light\"}}},\"xaxis\":{\"anchor\":\"y\",\"domain\":[0.0,0.16],\"matches\":\"x11\",\"showticklabels\":false,\"title\":{\"font\":{\"size\":14}},\"tickfont\":{\"size\":12},\"showline\":true,\"linewidth\":1,\"linecolor\":\"black\",\"mirror\":true,\"tickmode\":\"linear\",\"dtick\":5},\"yaxis\":{\"anchor\":\"x\",\"domain\":[0.7,1.0],\"title\":{\"font\":{\"size\":14}},\"tickfont\":{\"size\":12},\"showline\":true,\"linewidth\":1,\"linecolor\":\"black\",\"mirror\":true},\"xaxis2\":{\"anchor\":\"y2\",\"domain\":[0.21000000000000002,0.37],\"matches\":\"x12\",\"showticklabels\":false,\"title\":{\"font\":{\"size\":14}},\"tickfont\":{\"size\":12},\"showline\":true,\"linewidth\":1,\"linecolor\":\"black\",\"mirror\":true,\"tickmode\":\"linear\",\"dtick\":5},\"yaxis2\":{\"anchor\":\"x2\",\"domain\":[0.7,1.0],\"matches\":\"y\",\"showticklabels\":false,\"title\":{\"font\":{\"size\":14}},\"tickfont\":{\"size\":12},\"showline\":true,\"linewidth\":1,\"linecolor\":\"black\",\"mirror\":true},\"xaxis3\":{\"anchor\":\"y3\",\"domain\":[0.42000000000000004,0.5800000000000001],\"matches\":\"x13\",\"showticklabels\":false,\"title\":{\"font\":{\"size\":14}},\"tickfont\":{\"size\":12},\"showline\":true,\"linewidth\":1,\"linecolor\":\"black\",\"mirror\":true,\"tickmode\":\"linear\",\"dtick\":5},\"yaxis3\":{\"anchor\":\"x3\",\"domain\":[0.7,1.0],\"matches\":\"y\",\"showticklabels\":false,\"title\":{\"font\":{\"size\":14}},\"tickfont\":{\"size\":12},\"showline\":true,\"linewidth\":1,\"linecolor\":\"black\",\"mirror\":true},\"xaxis4\":{\"anchor\":\"y4\",\"domain\":[0.63,0.79],\"matches\":\"x14\",\"showticklabels\":false,\"title\":{\"font\":{\"size\":14}},\"tickfont\":{\"size\":12},\"showline\":true,\"linewidth\":1,\"linecolor\":\"black\",\"mirror\":true,\"tickmode\":\"linear\",\"dtick\":5},\"yaxis4\":{\"anchor\":\"x4\",\"domain\":[0.7,1.0],\"matches\":\"y\",\"showticklabels\":false,\"title\":{\"font\":{\"size\":14}},\"tickfont\":{\"size\":12},\"showline\":true,\"linewidth\":1,\"linecolor\":\"black\",\"mirror\":true},\"xaxis5\":{\"anchor\":\"y5\",\"domain\":[0.8400000000000001,1.0],\"matches\":\"x15\",\"showticklabels\":false,\"title\":{\"font\":{\"size\":14}},\"tickfont\":{\"size\":12},\"showline\":true,\"linewidth\":1,\"linecolor\":\"black\",\"mirror\":true,\"tickmode\":\"linear\",\"dtick\":5},\"yaxis5\":{\"anchor\":\"x5\",\"domain\":[0.7,1.0],\"matches\":\"y\",\"showticklabels\":false,\"title\":{\"text\":\"Mean Scores\",\"font\":{\"size\":14}},\"tickfont\":{\"size\":12},\"showline\":true,\"linewidth\":1,\"linecolor\":\"black\",\"mirror\":true},\"xaxis6\":{\"anchor\":\"y6\",\"domain\":[0.0,0.16],\"matches\":\"x11\",\"showticklabels\":false,\"title\":{\"font\":{\"size\":14}},\"tickfont\":{\"size\":12},\"showline\":true,\"linewidth\":1,\"linecolor\":\"black\",\"mirror\":true,\"tickmode\":\"linear\",\"dtick\":5},\"yaxis6\":{\"anchor\":\"x6\",\"domain\":[0.35,0.6499999999999999],\"title\":{\"font\":{\"size\":14}},\"tickfont\":{\"size\":12},\"showline\":true,\"linewidth\":1,\"linecolor\":\"black\",\"mirror\":true},\"xaxis7\":{\"anchor\":\"y7\",\"domain\":[0.21000000000000002,0.37],\"matches\":\"x12\",\"showticklabels\":false,\"title\":{\"font\":{\"size\":14}},\"tickfont\":{\"size\":12},\"showline\":true,\"linewidth\":1,\"linecolor\":\"black\",\"mirror\":true,\"tickmode\":\"linear\",\"dtick\":5},\"yaxis7\":{\"anchor\":\"x7\",\"domain\":[0.35,0.6499999999999999],\"matches\":\"y6\",\"showticklabels\":false,\"title\":{\"font\":{\"size\":14}},\"tickfont\":{\"size\":12},\"showline\":true,\"linewidth\":1,\"linecolor\":\"black\",\"mirror\":true},\"xaxis8\":{\"anchor\":\"y8\",\"domain\":[0.42000000000000004,0.5800000000000001],\"matches\":\"x13\",\"showticklabels\":false,\"title\":{\"font\":{\"size\":14}},\"tickfont\":{\"size\":12},\"showline\":true,\"linewidth\":1,\"linecolor\":\"black\",\"mirror\":true,\"tickmode\":\"linear\",\"dtick\":5},\"yaxis8\":{\"anchor\":\"x8\",\"domain\":[0.35,0.6499999999999999],\"matches\":\"y6\",\"showticklabels\":false,\"title\":{\"font\":{\"size\":14}},\"tickfont\":{\"size\":12},\"showline\":true,\"linewidth\":1,\"linecolor\":\"black\",\"mirror\":true},\"xaxis9\":{\"anchor\":\"y9\",\"domain\":[0.63,0.79],\"matches\":\"x14\",\"showticklabels\":false,\"title\":{\"font\":{\"size\":14}},\"tickfont\":{\"size\":12},\"showline\":true,\"linewidth\":1,\"linecolor\":\"black\",\"mirror\":true,\"tickmode\":\"linear\",\"dtick\":5},\"yaxis9\":{\"anchor\":\"x9\",\"domain\":[0.35,0.6499999999999999],\"matches\":\"y6\",\"showticklabels\":false,\"title\":{\"font\":{\"size\":14}},\"tickfont\":{\"size\":12},\"showline\":true,\"linewidth\":1,\"linecolor\":\"black\",\"mirror\":true},\"xaxis10\":{\"anchor\":\"y10\",\"domain\":[0.8400000000000001,1.0],\"matches\":\"x15\",\"showticklabels\":false,\"title\":{\"font\":{\"size\":14}},\"tickfont\":{\"size\":12},\"showline\":true,\"linewidth\":1,\"linecolor\":\"black\",\"mirror\":true,\"tickmode\":\"linear\",\"dtick\":5},\"yaxis10\":{\"anchor\":\"x10\",\"domain\":[0.35,0.6499999999999999],\"matches\":\"y6\",\"showticklabels\":false,\"title\":{\"text\":\"Mean Scores\",\"font\":{\"size\":14}},\"tickfont\":{\"size\":12},\"showline\":true,\"linewidth\":1,\"linecolor\":\"black\",\"mirror\":true},\"xaxis11\":{\"anchor\":\"y11\",\"domain\":[0.0,0.16],\"title\":{\"text\":\"Ablated (Added) Heads\",\"font\":{\"size\":14}},\"tickfont\":{\"size\":12},\"showline\":true,\"linewidth\":1,\"linecolor\":\"black\",\"mirror\":true,\"tickmode\":\"linear\",\"dtick\":5},\"yaxis11\":{\"anchor\":\"x11\",\"domain\":[0.0,0.3],\"title\":{\"font\":{\"size\":14}},\"tickfont\":{\"size\":12},\"showline\":true,\"linewidth\":1,\"linecolor\":\"black\",\"mirror\":true},\"xaxis12\":{\"anchor\":\"y12\",\"domain\":[0.21000000000000002,0.37],\"title\":{\"text\":\"Ablated (Added) Heads\",\"font\":{\"size\":14}},\"tickfont\":{\"size\":12},\"showline\":true,\"linewidth\":1,\"linecolor\":\"black\",\"mirror\":true,\"tickmode\":\"linear\",\"dtick\":5},\"yaxis12\":{\"anchor\":\"x12\",\"domain\":[0.0,0.3],\"matches\":\"y11\",\"showticklabels\":false,\"title\":{\"font\":{\"size\":14}},\"tickfont\":{\"size\":12},\"showline\":true,\"linewidth\":1,\"linecolor\":\"black\",\"mirror\":true},\"xaxis13\":{\"anchor\":\"y13\",\"domain\":[0.42000000000000004,0.5800000000000001],\"title\":{\"text\":\"Ablated (Added) Heads\",\"font\":{\"size\":14}},\"tickfont\":{\"size\":12},\"showline\":true,\"linewidth\":1,\"linecolor\":\"black\",\"mirror\":true,\"tickmode\":\"linear\",\"dtick\":5},\"yaxis13\":{\"anchor\":\"x13\",\"domain\":[0.0,0.3],\"matches\":\"y11\",\"showticklabels\":false,\"title\":{\"font\":{\"size\":14}},\"tickfont\":{\"size\":12},\"showline\":true,\"linewidth\":1,\"linecolor\":\"black\",\"mirror\":true},\"xaxis14\":{\"anchor\":\"y14\",\"domain\":[0.63,0.79],\"title\":{\"text\":\"Ablated (Added) Heads\",\"font\":{\"size\":14}},\"tickfont\":{\"size\":12},\"showline\":true,\"linewidth\":1,\"linecolor\":\"black\",\"mirror\":true,\"tickmode\":\"linear\",\"dtick\":5},\"yaxis14\":{\"anchor\":\"x14\",\"domain\":[0.0,0.3],\"matches\":\"y11\",\"showticklabels\":false,\"title\":{\"font\":{\"size\":14}},\"tickfont\":{\"size\":12},\"showline\":true,\"linewidth\":1,\"linecolor\":\"black\",\"mirror\":true},\"xaxis15\":{\"anchor\":\"y15\",\"domain\":[0.8400000000000001,1.0],\"title\":{\"text\":\"Ablated (Added) Heads\",\"font\":{\"size\":14}},\"tickfont\":{\"size\":12},\"showline\":true,\"linewidth\":1,\"linecolor\":\"black\",\"mirror\":true,\"tickmode\":\"linear\",\"dtick\":5},\"yaxis15\":{\"anchor\":\"x15\",\"domain\":[0.0,0.3],\"matches\":\"y11\",\"showticklabels\":false,\"title\":{\"text\":\"Mean Scores\",\"font\":{\"size\":14}},\"tickfont\":{\"size\":12},\"showline\":true,\"linewidth\":1,\"linecolor\":\"black\",\"mirror\":true},\"annotations\":[{\"font\":{\"size\":16},\"showarrow\":false,\"text\":\"AII-3\",\"x\":0.08,\"xanchor\":\"center\",\"xref\":\"paper\",\"y\":1.0,\"yanchor\":\"bottom\",\"yref\":\"paper\"},{\"font\":{\"size\":16},\"showarrow\":false,\"text\":\"IAI-3\",\"x\":0.29000000000000004,\"xanchor\":\"center\",\"xref\":\"paper\",\"y\":1.0,\"yanchor\":\"bottom\",\"yref\":\"paper\"},{\"font\":{\"size\":16},\"showarrow\":false,\"text\":\"IAI-4\",\"x\":0.5,\"xanchor\":\"center\",\"xref\":\"paper\",\"y\":1.0,\"yanchor\":\"bottom\",\"yref\":\"paper\"},{\"font\":{\"size\":16},\"showarrow\":false,\"text\":\"AAA-1\",\"x\":0.71,\"xanchor\":\"center\",\"xref\":\"paper\",\"y\":1.0,\"yanchor\":\"bottom\",\"yref\":\"paper\"},{\"font\":{\"size\":16},\"showarrow\":false,\"text\":\"EAE-1\",\"x\":0.92,\"xanchor\":\"center\",\"xref\":\"paper\",\"y\":1.0,\"yanchor\":\"bottom\",\"yref\":\"paper\"},{\"font\":{\"size\":16},\"showarrow\":false,\"text\":\"EIO-4\",\"x\":0.08,\"xanchor\":\"center\",\"xref\":\"paper\",\"y\":0.6499999999999999,\"yanchor\":\"bottom\",\"yref\":\"paper\"},{\"font\":{\"size\":16},\"showarrow\":false,\"text\":\"EIO-3\",\"x\":0.29000000000000004,\"xanchor\":\"center\",\"xref\":\"paper\",\"y\":0.6499999999999999,\"yanchor\":\"bottom\",\"yref\":\"paper\"},{\"font\":{\"size\":16},\"showarrow\":false,\"text\":\"AII-1\",\"x\":0.5,\"xanchor\":\"center\",\"xref\":\"paper\",\"y\":0.6499999999999999,\"yanchor\":\"bottom\",\"yref\":\"paper\"},{\"font\":{\"size\":16},\"showarrow\":false,\"text\":\"AOO-2\",\"x\":0.71,\"xanchor\":\"center\",\"xref\":\"paper\",\"y\":0.6499999999999999,\"yanchor\":\"bottom\",\"yref\":\"paper\"},{\"font\":{\"size\":16},\"showarrow\":false,\"text\":\"AEE-4\",\"x\":0.92,\"xanchor\":\"center\",\"xref\":\"paper\",\"y\":0.6499999999999999,\"yanchor\":\"bottom\",\"yref\":\"paper\"},{\"font\":{\"size\":16},\"showarrow\":false,\"text\":\"OAO-3\",\"x\":0.08,\"xanchor\":\"center\",\"xref\":\"paper\",\"y\":0.3,\"yanchor\":\"bottom\",\"yref\":\"paper\"},{\"font\":{\"size\":16},\"showarrow\":false,\"text\":\"EIO-1\",\"x\":0.29000000000000004,\"xanchor\":\"center\",\"xref\":\"paper\",\"y\":0.3,\"yanchor\":\"bottom\",\"yref\":\"paper\"},{\"font\":{\"size\":16},\"showarrow\":false,\"text\":\"EIO-2\",\"x\":0.5,\"xanchor\":\"center\",\"xref\":\"paper\",\"y\":0.3,\"yanchor\":\"bottom\",\"yref\":\"paper\"},{\"font\":{\"size\":16},\"showarrow\":false,\"text\":\"EAE-2\",\"x\":0.71,\"xanchor\":\"center\",\"xref\":\"paper\",\"y\":0.3,\"yanchor\":\"bottom\",\"yref\":\"paper\"},{\"font\":{\"size\":16},\"showarrow\":false,\"text\":\"AEE-2\",\"x\":0.92,\"xanchor\":\"center\",\"xref\":\"paper\",\"y\":0.3,\"yanchor\":\"bottom\",\"yref\":\"paper\"}],\"shapes\":[{\"line\":{\"color\":\"#000000\",\"dash\":\"dash\",\"width\":1},\"name\":\"Baseline\",\"type\":\"line\",\"x0\":0,\"x1\":1,\"xref\":\"x domain\",\"y0\":1.1032754182815552,\"y1\":1.1032754182815552,\"yref\":\"y\"},{\"line\":{\"color\":\"#000000\",\"dash\":\"dash\",\"width\":1},\"type\":\"line\",\"x0\":0,\"x1\":1,\"xref\":\"x2 domain\",\"y0\":0.4638926684856415,\"y1\":0.4638926684856415,\"yref\":\"y2\"},{\"line\":{\"color\":\"#000000\",\"dash\":\"dash\",\"width\":1},\"type\":\"line\",\"x0\":0,\"x1\":1,\"xref\":\"x3 domain\",\"y0\":0.4638926684856415,\"y1\":0.4638926684856415,\"yref\":\"y3\"},{\"line\":{\"color\":\"#000000\",\"dash\":\"dash\",\"width\":1},\"type\":\"line\",\"x0\":0,\"x1\":1,\"xref\":\"x4 domain\",\"y0\":0.404859334230423,\"y1\":0.404859334230423,\"yref\":\"y4\"},{\"line\":{\"color\":\"#000000\",\"dash\":\"dash\",\"width\":1},\"type\":\"line\",\"x0\":0,\"x1\":1,\"xref\":\"x5 domain\",\"y0\":0.12514592707157135,\"y1\":0.12514592707157135,\"yref\":\"y5\"},{\"line\":{\"color\":\"#000000\",\"dash\":\"dash\",\"width\":1},\"type\":\"line\",\"x0\":0,\"x1\":1,\"xref\":\"x6 domain\",\"y0\":0.4447415769100189,\"y1\":0.4447415769100189,\"yref\":\"y6\"},{\"line\":{\"color\":\"#000000\",\"dash\":\"dash\",\"width\":1},\"type\":\"line\",\"x0\":0,\"x1\":1,\"xref\":\"x7 domain\",\"y0\":0.4447415769100189,\"y1\":0.4447415769100189,\"yref\":\"y7\"},{\"line\":{\"color\":\"#000000\",\"dash\":\"dash\",\"width\":1},\"type\":\"line\",\"x0\":0,\"x1\":1,\"xref\":\"x8 domain\",\"y0\":-0.08787621557712555,\"y1\":-0.08787621557712555,\"yref\":\"y8\"},{\"line\":{\"color\":\"#000000\",\"dash\":\"dash\",\"width\":1},\"type\":\"line\",\"x0\":0,\"x1\":1,\"xref\":\"x9 domain\",\"y0\":-0.8989332914352417,\"y1\":-0.8989332914352417,\"yref\":\"y9\"},{\"line\":{\"color\":\"#000000\",\"dash\":\"dash\",\"width\":1},\"type\":\"line\",\"x0\":0,\"x1\":1,\"xref\":\"x10 domain\",\"y0\":-0.4749293923377991,\"y1\":-0.4749293923377991,\"yref\":\"y10\"},{\"line\":{\"color\":\"#000000\",\"dash\":\"dash\",\"width\":1},\"type\":\"line\",\"x0\":0,\"x1\":1,\"xref\":\"x11 domain\",\"y0\":-0.4962707757949829,\"y1\":-0.4962707757949829,\"yref\":\"y11\"},{\"line\":{\"color\":\"#000000\",\"dash\":\"dash\",\"width\":1},\"type\":\"line\",\"x0\":0,\"x1\":1,\"xref\":\"x12 domain\",\"y0\":-0.9532818794250488,\"y1\":-0.9532818794250488,\"yref\":\"y12\"},{\"line\":{\"color\":\"#000000\",\"dash\":\"dash\",\"width\":1},\"type\":\"line\",\"x0\":0,\"x1\":1,\"xref\":\"x13 domain\",\"y0\":-1.2333656549453735,\"y1\":-1.2333656549453735,\"yref\":\"y13\"},{\"line\":{\"color\":\"#000000\",\"dash\":\"dash\",\"width\":1},\"type\":\"line\",\"x0\":0,\"x1\":1,\"xref\":\"x14 domain\",\"y0\":-1.356982946395874,\"y1\":-1.356982946395874,\"yref\":\"y14\"},{\"line\":{\"color\":\"#000000\",\"dash\":\"dash\",\"width\":1},\"type\":\"line\",\"x0\":0,\"x1\":1,\"xref\":\"x15 domain\",\"y0\":-1.4327707290649414,\"y1\":-1.4327707290649414,\"yref\":\"y15\"}],\"title\":{\"font\":{\"size\":24},\"text\":\"\",\"x\":0.5,\"xanchor\":\"center\"},\"legend\":{\"font\":{\"size\":20},\"orientation\":\"h\",\"yanchor\":\"bottom\",\"y\":-0.2,\"xanchor\":\"center\",\"x\":0.5},\"font\":{\"family\":\"Arial\",\"size\":20},\"height\":800,\"width\":1000,\"plot_bgcolor\":\"white\"},                        {\"responsive\": true}                    ).then(function(){\n",
              "                            \n",
              "var gd = document.getElementById('7429380a-122c-4f82-b827-713abdd9e0c8');\n",
              "var x = new MutationObserver(function (mutations, observer) {{\n",
              "        var display = window.getComputedStyle(gd).display;\n",
              "        if (!display || display === 'none') {{\n",
              "            console.log([gd, 'removed!']);\n",
              "            Plotly.purge(gd);\n",
              "            observer.disconnect();\n",
              "        }}\n",
              "}});\n",
              "\n",
              "// Listen for the removal of the full notebook cells\n",
              "var notebookContainer = gd.closest('#notebook-container');\n",
              "if (notebookContainer) {{\n",
              "    x.observe(notebookContainer, {childList: true});\n",
              "}}\n",
              "\n",
              "// Listen for the clearing of the current output cell\n",
              "var outputEl = gd.closest('.output');\n",
              "if (outputEl) {{\n",
              "    x.observe(outputEl, {childList: true});\n",
              "}}\n",
              "\n",
              "                        })                };                            </script>        </div>\n",
              "</body>\n",
              "</html>"
            ]
          },
          "metadata": {},
          "output_type": "display_data"
        }
      ],
      "source": [
        "h.plot_ablation_syllogisms(mood_dics = mood_dics, title=\"\")"
      ]
    }
  ],
  "metadata": {
    "accelerator": "GPU",
    "colab": {
      "gpuType": "L4",
      "machine_shape": "hm",
      "provenance": []
    },
    "kernelspec": {
      "display_name": "Python 3",
      "name": "python3"
    },
    "language_info": {
      "codemirror_mode": {
        "name": "ipython",
        "version": 3
      },
      "file_extension": ".py",
      "mimetype": "text/x-python",
      "name": "python",
      "nbconvert_exporter": "python",
      "pygments_lexer": "ipython3",
      "version": "3.9.18"
    },
    "widgets": {
      "application/vnd.jupyter.widget-state+json": {
        "04ef4130edac4e19805114902c6f047d": {
          "model_module": "@jupyter-widgets/controls",
          "model_module_version": "1.5.0",
          "model_name": "DescriptionStyleModel",
          "state": {
            "_model_module": "@jupyter-widgets/controls",
            "_model_module_version": "1.5.0",
            "_model_name": "DescriptionStyleModel",
            "_view_count": null,
            "_view_module": "@jupyter-widgets/base",
            "_view_module_version": "1.2.0",
            "_view_name": "StyleView",
            "description_width": ""
          }
        },
        "0549de5fea7f43c5bae919e42514e88f": {
          "model_module": "@jupyter-widgets/controls",
          "model_module_version": "1.5.0",
          "model_name": "DescriptionStyleModel",
          "state": {
            "_model_module": "@jupyter-widgets/controls",
            "_model_module_version": "1.5.0",
            "_model_name": "DescriptionStyleModel",
            "_view_count": null,
            "_view_module": "@jupyter-widgets/base",
            "_view_module_version": "1.2.0",
            "_view_name": "StyleView",
            "description_width": ""
          }
        },
        "0a5ac1ac6c55452783252a7a5b3665eb": {
          "model_module": "@jupyter-widgets/controls",
          "model_module_version": "1.5.0",
          "model_name": "HTMLModel",
          "state": {
            "_dom_classes": [],
            "_model_module": "@jupyter-widgets/controls",
            "_model_module_version": "1.5.0",
            "_model_name": "HTMLModel",
            "_view_count": null,
            "_view_module": "@jupyter-widgets/controls",
            "_view_module_version": "1.5.0",
            "_view_name": "HTMLView",
            "description": "",
            "description_tooltip": null,
            "layout": "IPY_MODEL_7489ebacd06f46d8a81396c503e86db7",
            "placeholder": "​",
            "style": "IPY_MODEL_04ef4130edac4e19805114902c6f047d",
            "value": " 26.0/26.0 [00:00&lt;00:00, 1.96kB/s]"
          }
        },
        "10e9b5626eba404588d5d349909ec486": {
          "model_module": "@jupyter-widgets/controls",
          "model_module_version": "1.5.0",
          "model_name": "ProgressStyleModel",
          "state": {
            "_model_module": "@jupyter-widgets/controls",
            "_model_module_version": "1.5.0",
            "_model_name": "ProgressStyleModel",
            "_view_count": null,
            "_view_module": "@jupyter-widgets/base",
            "_view_module_version": "1.2.0",
            "_view_name": "StyleView",
            "bar_color": null,
            "description_width": ""
          }
        },
        "1475f0f84cad4d02aaac885f104e48d9": {
          "model_module": "@jupyter-widgets/base",
          "model_module_version": "1.2.0",
          "model_name": "LayoutModel",
          "state": {
            "_model_module": "@jupyter-widgets/base",
            "_model_module_version": "1.2.0",
            "_model_name": "LayoutModel",
            "_view_count": null,
            "_view_module": "@jupyter-widgets/base",
            "_view_module_version": "1.2.0",
            "_view_name": "LayoutView",
            "align_content": null,
            "align_items": null,
            "align_self": null,
            "border": null,
            "bottom": null,
            "display": null,
            "flex": null,
            "flex_flow": null,
            "grid_area": null,
            "grid_auto_columns": null,
            "grid_auto_flow": null,
            "grid_auto_rows": null,
            "grid_column": null,
            "grid_gap": null,
            "grid_row": null,
            "grid_template_areas": null,
            "grid_template_columns": null,
            "grid_template_rows": null,
            "height": null,
            "justify_content": null,
            "justify_items": null,
            "left": null,
            "margin": null,
            "max_height": null,
            "max_width": null,
            "min_height": null,
            "min_width": null,
            "object_fit": null,
            "object_position": null,
            "order": null,
            "overflow": null,
            "overflow_x": null,
            "overflow_y": null,
            "padding": null,
            "right": null,
            "top": null,
            "visibility": null,
            "width": null
          }
        },
        "162defd82a544996a9246503f1d87d8e": {
          "model_module": "@jupyter-widgets/base",
          "model_module_version": "1.2.0",
          "model_name": "LayoutModel",
          "state": {
            "_model_module": "@jupyter-widgets/base",
            "_model_module_version": "1.2.0",
            "_model_name": "LayoutModel",
            "_view_count": null,
            "_view_module": "@jupyter-widgets/base",
            "_view_module_version": "1.2.0",
            "_view_name": "LayoutView",
            "align_content": null,
            "align_items": null,
            "align_self": null,
            "border": null,
            "bottom": null,
            "display": null,
            "flex": null,
            "flex_flow": null,
            "grid_area": null,
            "grid_auto_columns": null,
            "grid_auto_flow": null,
            "grid_auto_rows": null,
            "grid_column": null,
            "grid_gap": null,
            "grid_row": null,
            "grid_template_areas": null,
            "grid_template_columns": null,
            "grid_template_rows": null,
            "height": null,
            "justify_content": null,
            "justify_items": null,
            "left": null,
            "margin": null,
            "max_height": null,
            "max_width": null,
            "min_height": null,
            "min_width": null,
            "object_fit": null,
            "object_position": null,
            "order": null,
            "overflow": null,
            "overflow_x": null,
            "overflow_y": null,
            "padding": null,
            "right": null,
            "top": null,
            "visibility": null,
            "width": null
          }
        },
        "179347415dc84f1ba67267d2cf808a3b": {
          "model_module": "@jupyter-widgets/controls",
          "model_module_version": "1.5.0",
          "model_name": "HBoxModel",
          "state": {
            "_dom_classes": [],
            "_model_module": "@jupyter-widgets/controls",
            "_model_module_version": "1.5.0",
            "_model_name": "HBoxModel",
            "_view_count": null,
            "_view_module": "@jupyter-widgets/controls",
            "_view_module_version": "1.5.0",
            "_view_name": "HBoxView",
            "box_style": "",
            "children": [
              "IPY_MODEL_40d1f18f0ac240dab72ed6c921f93e17",
              "IPY_MODEL_9782344c7d1e4287be6ede79db520a88",
              "IPY_MODEL_da1fa4aa225b48778d1e0f6196ce0323"
            ],
            "layout": "IPY_MODEL_7070592c7f694442aeb72acc40a4105e"
          }
        },
        "1810e9bf39a64d6e8bd795153bdab947": {
          "model_module": "@jupyter-widgets/controls",
          "model_module_version": "1.5.0",
          "model_name": "FloatProgressModel",
          "state": {
            "_dom_classes": [],
            "_model_module": "@jupyter-widgets/controls",
            "_model_module_version": "1.5.0",
            "_model_name": "FloatProgressModel",
            "_view_count": null,
            "_view_module": "@jupyter-widgets/controls",
            "_view_module_version": "1.5.0",
            "_view_name": "ProgressView",
            "bar_style": "success",
            "description": "",
            "description_tooltip": null,
            "layout": "IPY_MODEL_cea3622a112048889abf9790a36a3430",
            "max": 124,
            "min": 0,
            "orientation": "horizontal",
            "style": "IPY_MODEL_2e4d1feb03464831a39690cca8418e7b",
            "value": 124
          }
        },
        "1d8fa38139fd46a1b907e58c8f492cee": {
          "model_module": "@jupyter-widgets/controls",
          "model_module_version": "1.5.0",
          "model_name": "DescriptionStyleModel",
          "state": {
            "_model_module": "@jupyter-widgets/controls",
            "_model_module_version": "1.5.0",
            "_model_name": "DescriptionStyleModel",
            "_view_count": null,
            "_view_module": "@jupyter-widgets/base",
            "_view_module_version": "1.2.0",
            "_view_name": "StyleView",
            "description_width": ""
          }
        },
        "1efe288b09044c59a1a61567fea01381": {
          "model_module": "@jupyter-widgets/controls",
          "model_module_version": "1.5.0",
          "model_name": "HTMLModel",
          "state": {
            "_dom_classes": [],
            "_model_module": "@jupyter-widgets/controls",
            "_model_module_version": "1.5.0",
            "_model_name": "HTMLModel",
            "_view_count": null,
            "_view_module": "@jupyter-widgets/controls",
            "_view_module_version": "1.5.0",
            "_view_name": "HTMLView",
            "description": "",
            "description_tooltip": null,
            "layout": "IPY_MODEL_f0fe9f8a17e74f54924bc7daafc0e890",
            "placeholder": "​",
            "style": "IPY_MODEL_4aece1edc32649f7be3a032f09bec1d9",
            "value": "tokenizer.json: 100%"
          }
        },
        "1fabef23d47443efbc63e689389bf2f6": {
          "model_module": "@jupyter-widgets/controls",
          "model_module_version": "1.5.0",
          "model_name": "HTMLModel",
          "state": {
            "_dom_classes": [],
            "_model_module": "@jupyter-widgets/controls",
            "_model_module_version": "1.5.0",
            "_model_name": "HTMLModel",
            "_view_count": null,
            "_view_module": "@jupyter-widgets/controls",
            "_view_module_version": "1.5.0",
            "_view_name": "HTMLView",
            "description": "",
            "description_tooltip": null,
            "layout": "IPY_MODEL_622fcaa686cf4c0f8b6fdf6e0ab4fc06",
            "placeholder": "​",
            "style": "IPY_MODEL_5dc6671fcf844de5b5922a918fd064f2",
            "value": "merges.txt: 100%"
          }
        },
        "2086182957284546aa4866bbf38cb622": {
          "model_module": "@jupyter-widgets/controls",
          "model_module_version": "1.5.0",
          "model_name": "FloatProgressModel",
          "state": {
            "_dom_classes": [],
            "_model_module": "@jupyter-widgets/controls",
            "_model_module_version": "1.5.0",
            "_model_name": "FloatProgressModel",
            "_view_count": null,
            "_view_module": "@jupyter-widgets/controls",
            "_view_module_version": "1.5.0",
            "_view_name": "ProgressView",
            "bar_style": "success",
            "description": "",
            "description_tooltip": null,
            "layout": "IPY_MODEL_5547eb66254747ba97fa9ca97a6058de",
            "max": 456318,
            "min": 0,
            "orientation": "horizontal",
            "style": "IPY_MODEL_e7837e02d9ef4f8abf76415df685a193",
            "value": 456318
          }
        },
        "21a1664eed0a43699dd839eef5dfcdef": {
          "model_module": "@jupyter-widgets/controls",
          "model_module_version": "1.5.0",
          "model_name": "HTMLModel",
          "state": {
            "_dom_classes": [],
            "_model_module": "@jupyter-widgets/controls",
            "_model_module_version": "1.5.0",
            "_model_name": "HTMLModel",
            "_view_count": null,
            "_view_module": "@jupyter-widgets/controls",
            "_view_module_version": "1.5.0",
            "_view_name": "HTMLView",
            "description": "",
            "description_tooltip": null,
            "layout": "IPY_MODEL_f3ec5fb56caf4ba3a99e209736014428",
            "placeholder": "​",
            "style": "IPY_MODEL_1d8fa38139fd46a1b907e58c8f492cee",
            "value": " 1.36M/1.36M [00:00&lt;00:00, 3.15MB/s]"
          }
        },
        "25c788619b2c497d88e32e6e74697ef3": {
          "model_module": "@jupyter-widgets/base",
          "model_module_version": "1.2.0",
          "model_name": "LayoutModel",
          "state": {
            "_model_module": "@jupyter-widgets/base",
            "_model_module_version": "1.2.0",
            "_model_name": "LayoutModel",
            "_view_count": null,
            "_view_module": "@jupyter-widgets/base",
            "_view_module_version": "1.2.0",
            "_view_name": "LayoutView",
            "align_content": null,
            "align_items": null,
            "align_self": null,
            "border": null,
            "bottom": null,
            "display": null,
            "flex": null,
            "flex_flow": null,
            "grid_area": null,
            "grid_auto_columns": null,
            "grid_auto_flow": null,
            "grid_auto_rows": null,
            "grid_column": null,
            "grid_gap": null,
            "grid_row": null,
            "grid_template_areas": null,
            "grid_template_columns": null,
            "grid_template_rows": null,
            "height": null,
            "justify_content": null,
            "justify_items": null,
            "left": null,
            "margin": null,
            "max_height": null,
            "max_width": null,
            "min_height": null,
            "min_width": null,
            "object_fit": null,
            "object_position": null,
            "order": null,
            "overflow": null,
            "overflow_x": null,
            "overflow_y": null,
            "padding": null,
            "right": null,
            "top": null,
            "visibility": null,
            "width": null
          }
        },
        "2c035786cb5f43cab56db915ebde9cea": {
          "model_module": "@jupyter-widgets/base",
          "model_module_version": "1.2.0",
          "model_name": "LayoutModel",
          "state": {
            "_model_module": "@jupyter-widgets/base",
            "_model_module_version": "1.2.0",
            "_model_name": "LayoutModel",
            "_view_count": null,
            "_view_module": "@jupyter-widgets/base",
            "_view_module_version": "1.2.0",
            "_view_name": "LayoutView",
            "align_content": null,
            "align_items": null,
            "align_self": null,
            "border": null,
            "bottom": null,
            "display": null,
            "flex": null,
            "flex_flow": null,
            "grid_area": null,
            "grid_auto_columns": null,
            "grid_auto_flow": null,
            "grid_auto_rows": null,
            "grid_column": null,
            "grid_gap": null,
            "grid_row": null,
            "grid_template_areas": null,
            "grid_template_columns": null,
            "grid_template_rows": null,
            "height": null,
            "justify_content": null,
            "justify_items": null,
            "left": null,
            "margin": null,
            "max_height": null,
            "max_width": null,
            "min_height": null,
            "min_width": null,
            "object_fit": null,
            "object_position": null,
            "order": null,
            "overflow": null,
            "overflow_x": null,
            "overflow_y": null,
            "padding": null,
            "right": null,
            "top": null,
            "visibility": null,
            "width": null
          }
        },
        "2e4d1feb03464831a39690cca8418e7b": {
          "model_module": "@jupyter-widgets/controls",
          "model_module_version": "1.5.0",
          "model_name": "ProgressStyleModel",
          "state": {
            "_model_module": "@jupyter-widgets/controls",
            "_model_module_version": "1.5.0",
            "_model_name": "ProgressStyleModel",
            "_view_count": null,
            "_view_module": "@jupyter-widgets/base",
            "_view_module_version": "1.2.0",
            "_view_name": "StyleView",
            "bar_color": null,
            "description_width": ""
          }
        },
        "31733f0e8a6c41848b0fe6235bae9195": {
          "model_module": "@jupyter-widgets/controls",
          "model_module_version": "1.5.0",
          "model_name": "ProgressStyleModel",
          "state": {
            "_model_module": "@jupyter-widgets/controls",
            "_model_module_version": "1.5.0",
            "_model_name": "ProgressStyleModel",
            "_view_count": null,
            "_view_module": "@jupyter-widgets/base",
            "_view_module_version": "1.2.0",
            "_view_name": "StyleView",
            "bar_color": null,
            "description_width": ""
          }
        },
        "33cecec46ab14182840d3396303f229c": {
          "model_module": "@jupyter-widgets/base",
          "model_module_version": "1.2.0",
          "model_name": "LayoutModel",
          "state": {
            "_model_module": "@jupyter-widgets/base",
            "_model_module_version": "1.2.0",
            "_model_name": "LayoutModel",
            "_view_count": null,
            "_view_module": "@jupyter-widgets/base",
            "_view_module_version": "1.2.0",
            "_view_name": "LayoutView",
            "align_content": null,
            "align_items": null,
            "align_self": null,
            "border": null,
            "bottom": null,
            "display": null,
            "flex": null,
            "flex_flow": null,
            "grid_area": null,
            "grid_auto_columns": null,
            "grid_auto_flow": null,
            "grid_auto_rows": null,
            "grid_column": null,
            "grid_gap": null,
            "grid_row": null,
            "grid_template_areas": null,
            "grid_template_columns": null,
            "grid_template_rows": null,
            "height": null,
            "justify_content": null,
            "justify_items": null,
            "left": null,
            "margin": null,
            "max_height": null,
            "max_width": null,
            "min_height": null,
            "min_width": null,
            "object_fit": null,
            "object_position": null,
            "order": null,
            "overflow": null,
            "overflow_x": null,
            "overflow_y": null,
            "padding": null,
            "right": null,
            "top": null,
            "visibility": null,
            "width": null
          }
        },
        "3cb013ab69c74952af3fe8ec62e9240d": {
          "model_module": "@jupyter-widgets/base",
          "model_module_version": "1.2.0",
          "model_name": "LayoutModel",
          "state": {
            "_model_module": "@jupyter-widgets/base",
            "_model_module_version": "1.2.0",
            "_model_name": "LayoutModel",
            "_view_count": null,
            "_view_module": "@jupyter-widgets/base",
            "_view_module_version": "1.2.0",
            "_view_name": "LayoutView",
            "align_content": null,
            "align_items": null,
            "align_self": null,
            "border": null,
            "bottom": null,
            "display": null,
            "flex": null,
            "flex_flow": null,
            "grid_area": null,
            "grid_auto_columns": null,
            "grid_auto_flow": null,
            "grid_auto_rows": null,
            "grid_column": null,
            "grid_gap": null,
            "grid_row": null,
            "grid_template_areas": null,
            "grid_template_columns": null,
            "grid_template_rows": null,
            "height": null,
            "justify_content": null,
            "justify_items": null,
            "left": null,
            "margin": null,
            "max_height": null,
            "max_width": null,
            "min_height": null,
            "min_width": null,
            "object_fit": null,
            "object_position": null,
            "order": null,
            "overflow": null,
            "overflow_x": null,
            "overflow_y": null,
            "padding": null,
            "right": null,
            "top": null,
            "visibility": null,
            "width": null
          }
        },
        "3f751c0c58404c4c9157a41f6d4c6aa3": {
          "model_module": "@jupyter-widgets/controls",
          "model_module_version": "1.5.0",
          "model_name": "HBoxModel",
          "state": {
            "_dom_classes": [],
            "_model_module": "@jupyter-widgets/controls",
            "_model_module_version": "1.5.0",
            "_model_name": "HBoxModel",
            "_view_count": null,
            "_view_module": "@jupyter-widgets/controls",
            "_view_module_version": "1.5.0",
            "_view_name": "HBoxView",
            "box_style": "",
            "children": [
              "IPY_MODEL_1fabef23d47443efbc63e689389bf2f6",
              "IPY_MODEL_2086182957284546aa4866bbf38cb622",
              "IPY_MODEL_61f65572174e4fe58bee89e54804b9fb"
            ],
            "layout": "IPY_MODEL_2c035786cb5f43cab56db915ebde9cea"
          }
        },
        "40d1f18f0ac240dab72ed6c921f93e17": {
          "model_module": "@jupyter-widgets/controls",
          "model_module_version": "1.5.0",
          "model_name": "HTMLModel",
          "state": {
            "_dom_classes": [],
            "_model_module": "@jupyter-widgets/controls",
            "_model_module_version": "1.5.0",
            "_model_name": "HTMLModel",
            "_view_count": null,
            "_view_module": "@jupyter-widgets/controls",
            "_view_module_version": "1.5.0",
            "_view_name": "HTMLView",
            "description": "",
            "description_tooltip": null,
            "layout": "IPY_MODEL_af2f08e8e62d46648d2936fbdbd27f92",
            "placeholder": "​",
            "style": "IPY_MODEL_aa966b9d9b4d41528b60ccffd9e5ecf4",
            "value": "vocab.json: 100%"
          }
        },
        "4aece1edc32649f7be3a032f09bec1d9": {
          "model_module": "@jupyter-widgets/controls",
          "model_module_version": "1.5.0",
          "model_name": "DescriptionStyleModel",
          "state": {
            "_model_module": "@jupyter-widgets/controls",
            "_model_module_version": "1.5.0",
            "_model_name": "DescriptionStyleModel",
            "_view_count": null,
            "_view_module": "@jupyter-widgets/base",
            "_view_module_version": "1.2.0",
            "_view_name": "StyleView",
            "description_width": ""
          }
        },
        "4ce72097fd2d414bae15d314e84c1601": {
          "model_module": "@jupyter-widgets/base",
          "model_module_version": "1.2.0",
          "model_name": "LayoutModel",
          "state": {
            "_model_module": "@jupyter-widgets/base",
            "_model_module_version": "1.2.0",
            "_model_name": "LayoutModel",
            "_view_count": null,
            "_view_module": "@jupyter-widgets/base",
            "_view_module_version": "1.2.0",
            "_view_name": "LayoutView",
            "align_content": null,
            "align_items": null,
            "align_self": null,
            "border": null,
            "bottom": null,
            "display": null,
            "flex": null,
            "flex_flow": null,
            "grid_area": null,
            "grid_auto_columns": null,
            "grid_auto_flow": null,
            "grid_auto_rows": null,
            "grid_column": null,
            "grid_gap": null,
            "grid_row": null,
            "grid_template_areas": null,
            "grid_template_columns": null,
            "grid_template_rows": null,
            "height": null,
            "justify_content": null,
            "justify_items": null,
            "left": null,
            "margin": null,
            "max_height": null,
            "max_width": null,
            "min_height": null,
            "min_width": null,
            "object_fit": null,
            "object_position": null,
            "order": null,
            "overflow": null,
            "overflow_x": null,
            "overflow_y": null,
            "padding": null,
            "right": null,
            "top": null,
            "visibility": null,
            "width": null
          }
        },
        "50efcb39d43747c6a6b75d4f1a82a905": {
          "model_module": "@jupyter-widgets/controls",
          "model_module_version": "1.5.0",
          "model_name": "DescriptionStyleModel",
          "state": {
            "_model_module": "@jupyter-widgets/controls",
            "_model_module_version": "1.5.0",
            "_model_name": "DescriptionStyleModel",
            "_view_count": null,
            "_view_module": "@jupyter-widgets/base",
            "_view_module_version": "1.2.0",
            "_view_name": "StyleView",
            "description_width": ""
          }
        },
        "5122e29250c14689b0e3798d301bd8d9": {
          "model_module": "@jupyter-widgets/controls",
          "model_module_version": "1.5.0",
          "model_name": "FloatProgressModel",
          "state": {
            "_dom_classes": [],
            "_model_module": "@jupyter-widgets/controls",
            "_model_module_version": "1.5.0",
            "_model_name": "FloatProgressModel",
            "_view_count": null,
            "_view_module": "@jupyter-widgets/controls",
            "_view_module_version": "1.5.0",
            "_view_name": "ProgressView",
            "bar_style": "success",
            "description": "",
            "description_tooltip": null,
            "layout": "IPY_MODEL_162defd82a544996a9246503f1d87d8e",
            "max": 1355256,
            "min": 0,
            "orientation": "horizontal",
            "style": "IPY_MODEL_ed7d15352a7a4ff5acc67e2a70712074",
            "value": 1355256
          }
        },
        "5547eb66254747ba97fa9ca97a6058de": {
          "model_module": "@jupyter-widgets/base",
          "model_module_version": "1.2.0",
          "model_name": "LayoutModel",
          "state": {
            "_model_module": "@jupyter-widgets/base",
            "_model_module_version": "1.2.0",
            "_model_name": "LayoutModel",
            "_view_count": null,
            "_view_module": "@jupyter-widgets/base",
            "_view_module_version": "1.2.0",
            "_view_name": "LayoutView",
            "align_content": null,
            "align_items": null,
            "align_self": null,
            "border": null,
            "bottom": null,
            "display": null,
            "flex": null,
            "flex_flow": null,
            "grid_area": null,
            "grid_auto_columns": null,
            "grid_auto_flow": null,
            "grid_auto_rows": null,
            "grid_column": null,
            "grid_gap": null,
            "grid_row": null,
            "grid_template_areas": null,
            "grid_template_columns": null,
            "grid_template_rows": null,
            "height": null,
            "justify_content": null,
            "justify_items": null,
            "left": null,
            "margin": null,
            "max_height": null,
            "max_width": null,
            "min_height": null,
            "min_width": null,
            "object_fit": null,
            "object_position": null,
            "order": null,
            "overflow": null,
            "overflow_x": null,
            "overflow_y": null,
            "padding": null,
            "right": null,
            "top": null,
            "visibility": null,
            "width": null
          }
        },
        "58ebdce076cf468fa948d6dd7ff78232": {
          "model_module": "@jupyter-widgets/controls",
          "model_module_version": "1.5.0",
          "model_name": "HBoxModel",
          "state": {
            "_dom_classes": [],
            "_model_module": "@jupyter-widgets/controls",
            "_model_module_version": "1.5.0",
            "_model_name": "HBoxModel",
            "_view_count": null,
            "_view_module": "@jupyter-widgets/controls",
            "_view_module_version": "1.5.0",
            "_view_name": "HBoxView",
            "box_style": "",
            "children": [
              "IPY_MODEL_d2f07839e6c4415eb7a799e436a25410",
              "IPY_MODEL_e8263c1da2bd4b51aa2504ba63d9d19e",
              "IPY_MODEL_6c72a02d62be45dbae42bc5d9153094a"
            ],
            "layout": "IPY_MODEL_ec7d616c83594d0a862dc055c57fd28e"
          }
        },
        "5dc6671fcf844de5b5922a918fd064f2": {
          "model_module": "@jupyter-widgets/controls",
          "model_module_version": "1.5.0",
          "model_name": "DescriptionStyleModel",
          "state": {
            "_model_module": "@jupyter-widgets/controls",
            "_model_module_version": "1.5.0",
            "_model_name": "DescriptionStyleModel",
            "_view_count": null,
            "_view_module": "@jupyter-widgets/base",
            "_view_module_version": "1.2.0",
            "_view_name": "StyleView",
            "description_width": ""
          }
        },
        "61f65572174e4fe58bee89e54804b9fb": {
          "model_module": "@jupyter-widgets/controls",
          "model_module_version": "1.5.0",
          "model_name": "HTMLModel",
          "state": {
            "_dom_classes": [],
            "_model_module": "@jupyter-widgets/controls",
            "_model_module_version": "1.5.0",
            "_model_name": "HTMLModel",
            "_view_count": null,
            "_view_module": "@jupyter-widgets/controls",
            "_view_module_version": "1.5.0",
            "_view_name": "HTMLView",
            "description": "",
            "description_tooltip": null,
            "layout": "IPY_MODEL_fc0e190fef7f4f0cbf512f6b66274ce0",
            "placeholder": "​",
            "style": "IPY_MODEL_50efcb39d43747c6a6b75d4f1a82a905",
            "value": " 456k/456k [00:00&lt;00:00, 2.09MB/s]"
          }
        },
        "622fcaa686cf4c0f8b6fdf6e0ab4fc06": {
          "model_module": "@jupyter-widgets/base",
          "model_module_version": "1.2.0",
          "model_name": "LayoutModel",
          "state": {
            "_model_module": "@jupyter-widgets/base",
            "_model_module_version": "1.2.0",
            "_model_name": "LayoutModel",
            "_view_count": null,
            "_view_module": "@jupyter-widgets/base",
            "_view_module_version": "1.2.0",
            "_view_name": "LayoutView",
            "align_content": null,
            "align_items": null,
            "align_self": null,
            "border": null,
            "bottom": null,
            "display": null,
            "flex": null,
            "flex_flow": null,
            "grid_area": null,
            "grid_auto_columns": null,
            "grid_auto_flow": null,
            "grid_auto_rows": null,
            "grid_column": null,
            "grid_gap": null,
            "grid_row": null,
            "grid_template_areas": null,
            "grid_template_columns": null,
            "grid_template_rows": null,
            "height": null,
            "justify_content": null,
            "justify_items": null,
            "left": null,
            "margin": null,
            "max_height": null,
            "max_width": null,
            "min_height": null,
            "min_width": null,
            "object_fit": null,
            "object_position": null,
            "order": null,
            "overflow": null,
            "overflow_x": null,
            "overflow_y": null,
            "padding": null,
            "right": null,
            "top": null,
            "visibility": null,
            "width": null
          }
        },
        "6c72a02d62be45dbae42bc5d9153094a": {
          "model_module": "@jupyter-widgets/controls",
          "model_module_version": "1.5.0",
          "model_name": "HTMLModel",
          "state": {
            "_dom_classes": [],
            "_model_module": "@jupyter-widgets/controls",
            "_model_module_version": "1.5.0",
            "_model_name": "HTMLModel",
            "_view_count": null,
            "_view_module": "@jupyter-widgets/controls",
            "_view_module_version": "1.5.0",
            "_view_name": "HTMLView",
            "description": "",
            "description_tooltip": null,
            "layout": "IPY_MODEL_df5844b17e104330a194d81827e4794d",
            "placeholder": "​",
            "style": "IPY_MODEL_6f87853b23f3435baf6e6e970d5cf8be",
            "value": " 718/718 [00:00&lt;00:00, 64.8kB/s]"
          }
        },
        "6d384726355140329f3c9cec99f2b395": {
          "model_module": "@jupyter-widgets/controls",
          "model_module_version": "1.5.0",
          "model_name": "ProgressStyleModel",
          "state": {
            "_model_module": "@jupyter-widgets/controls",
            "_model_module_version": "1.5.0",
            "_model_name": "ProgressStyleModel",
            "_view_count": null,
            "_view_module": "@jupyter-widgets/base",
            "_view_module_version": "1.2.0",
            "_view_name": "StyleView",
            "bar_color": null,
            "description_width": ""
          }
        },
        "6f87853b23f3435baf6e6e970d5cf8be": {
          "model_module": "@jupyter-widgets/controls",
          "model_module_version": "1.5.0",
          "model_name": "DescriptionStyleModel",
          "state": {
            "_model_module": "@jupyter-widgets/controls",
            "_model_module_version": "1.5.0",
            "_model_name": "DescriptionStyleModel",
            "_view_count": null,
            "_view_module": "@jupyter-widgets/base",
            "_view_module_version": "1.2.0",
            "_view_name": "StyleView",
            "description_width": ""
          }
        },
        "7070592c7f694442aeb72acc40a4105e": {
          "model_module": "@jupyter-widgets/base",
          "model_module_version": "1.2.0",
          "model_name": "LayoutModel",
          "state": {
            "_model_module": "@jupyter-widgets/base",
            "_model_module_version": "1.2.0",
            "_model_name": "LayoutModel",
            "_view_count": null,
            "_view_module": "@jupyter-widgets/base",
            "_view_module_version": "1.2.0",
            "_view_name": "LayoutView",
            "align_content": null,
            "align_items": null,
            "align_self": null,
            "border": null,
            "bottom": null,
            "display": null,
            "flex": null,
            "flex_flow": null,
            "grid_area": null,
            "grid_auto_columns": null,
            "grid_auto_flow": null,
            "grid_auto_rows": null,
            "grid_column": null,
            "grid_gap": null,
            "grid_row": null,
            "grid_template_areas": null,
            "grid_template_columns": null,
            "grid_template_rows": null,
            "height": null,
            "justify_content": null,
            "justify_items": null,
            "left": null,
            "margin": null,
            "max_height": null,
            "max_width": null,
            "min_height": null,
            "min_width": null,
            "object_fit": null,
            "object_position": null,
            "order": null,
            "overflow": null,
            "overflow_x": null,
            "overflow_y": null,
            "padding": null,
            "right": null,
            "top": null,
            "visibility": null,
            "width": null
          }
        },
        "728352875c3649baa6cf7f0d6d89976a": {
          "model_module": "@jupyter-widgets/base",
          "model_module_version": "1.2.0",
          "model_name": "LayoutModel",
          "state": {
            "_model_module": "@jupyter-widgets/base",
            "_model_module_version": "1.2.0",
            "_model_name": "LayoutModel",
            "_view_count": null,
            "_view_module": "@jupyter-widgets/base",
            "_view_module_version": "1.2.0",
            "_view_name": "LayoutView",
            "align_content": null,
            "align_items": null,
            "align_self": null,
            "border": null,
            "bottom": null,
            "display": null,
            "flex": null,
            "flex_flow": null,
            "grid_area": null,
            "grid_auto_columns": null,
            "grid_auto_flow": null,
            "grid_auto_rows": null,
            "grid_column": null,
            "grid_gap": null,
            "grid_row": null,
            "grid_template_areas": null,
            "grid_template_columns": null,
            "grid_template_rows": null,
            "height": null,
            "justify_content": null,
            "justify_items": null,
            "left": null,
            "margin": null,
            "max_height": null,
            "max_width": null,
            "min_height": null,
            "min_width": null,
            "object_fit": null,
            "object_position": null,
            "order": null,
            "overflow": null,
            "overflow_x": null,
            "overflow_y": null,
            "padding": null,
            "right": null,
            "top": null,
            "visibility": null,
            "width": null
          }
        },
        "7489ebacd06f46d8a81396c503e86db7": {
          "model_module": "@jupyter-widgets/base",
          "model_module_version": "1.2.0",
          "model_name": "LayoutModel",
          "state": {
            "_model_module": "@jupyter-widgets/base",
            "_model_module_version": "1.2.0",
            "_model_name": "LayoutModel",
            "_view_count": null,
            "_view_module": "@jupyter-widgets/base",
            "_view_module_version": "1.2.0",
            "_view_name": "LayoutView",
            "align_content": null,
            "align_items": null,
            "align_self": null,
            "border": null,
            "bottom": null,
            "display": null,
            "flex": null,
            "flex_flow": null,
            "grid_area": null,
            "grid_auto_columns": null,
            "grid_auto_flow": null,
            "grid_auto_rows": null,
            "grid_column": null,
            "grid_gap": null,
            "grid_row": null,
            "grid_template_areas": null,
            "grid_template_columns": null,
            "grid_template_rows": null,
            "height": null,
            "justify_content": null,
            "justify_items": null,
            "left": null,
            "margin": null,
            "max_height": null,
            "max_width": null,
            "min_height": null,
            "min_width": null,
            "object_fit": null,
            "object_position": null,
            "order": null,
            "overflow": null,
            "overflow_x": null,
            "overflow_y": null,
            "padding": null,
            "right": null,
            "top": null,
            "visibility": null,
            "width": null
          }
        },
        "8a1b8930a65d47a2bda487042d92d54b": {
          "model_module": "@jupyter-widgets/controls",
          "model_module_version": "1.5.0",
          "model_name": "DescriptionStyleModel",
          "state": {
            "_model_module": "@jupyter-widgets/controls",
            "_model_module_version": "1.5.0",
            "_model_name": "DescriptionStyleModel",
            "_view_count": null,
            "_view_module": "@jupyter-widgets/base",
            "_view_module_version": "1.2.0",
            "_view_name": "StyleView",
            "description_width": ""
          }
        },
        "8f84e67ce76a4f009dc53961229a3f40": {
          "model_module": "@jupyter-widgets/controls",
          "model_module_version": "1.5.0",
          "model_name": "DescriptionStyleModel",
          "state": {
            "_model_module": "@jupyter-widgets/controls",
            "_model_module_version": "1.5.0",
            "_model_name": "DescriptionStyleModel",
            "_view_count": null,
            "_view_module": "@jupyter-widgets/base",
            "_view_module_version": "1.2.0",
            "_view_name": "StyleView",
            "description_width": ""
          }
        },
        "9019b75f46004013ac4c502878108597": {
          "model_module": "@jupyter-widgets/controls",
          "model_module_version": "1.5.0",
          "model_name": "HTMLModel",
          "state": {
            "_dom_classes": [],
            "_model_module": "@jupyter-widgets/controls",
            "_model_module_version": "1.5.0",
            "_model_name": "HTMLModel",
            "_view_count": null,
            "_view_module": "@jupyter-widgets/controls",
            "_view_module_version": "1.5.0",
            "_view_name": "HTMLView",
            "description": "",
            "description_tooltip": null,
            "layout": "IPY_MODEL_25c788619b2c497d88e32e6e74697ef3",
            "placeholder": "​",
            "style": "IPY_MODEL_d9e547160a0d4be1be8cc9af0baa5a0c",
            "value": "tokenizer_config.json: 100%"
          }
        },
        "92cc046da26347febf724c4e777a4d5d": {
          "model_module": "@jupyter-widgets/controls",
          "model_module_version": "1.5.0",
          "model_name": "HBoxModel",
          "state": {
            "_dom_classes": [],
            "_model_module": "@jupyter-widgets/controls",
            "_model_module_version": "1.5.0",
            "_model_name": "HBoxModel",
            "_view_count": null,
            "_view_module": "@jupyter-widgets/controls",
            "_view_module_version": "1.5.0",
            "_view_name": "HBoxView",
            "box_style": "",
            "children": [
              "IPY_MODEL_1efe288b09044c59a1a61567fea01381",
              "IPY_MODEL_5122e29250c14689b0e3798d301bd8d9",
              "IPY_MODEL_21a1664eed0a43699dd839eef5dfcdef"
            ],
            "layout": "IPY_MODEL_3cb013ab69c74952af3fe8ec62e9240d"
          }
        },
        "9782344c7d1e4287be6ede79db520a88": {
          "model_module": "@jupyter-widgets/controls",
          "model_module_version": "1.5.0",
          "model_name": "FloatProgressModel",
          "state": {
            "_dom_classes": [],
            "_model_module": "@jupyter-widgets/controls",
            "_model_module_version": "1.5.0",
            "_model_name": "FloatProgressModel",
            "_view_count": null,
            "_view_module": "@jupyter-widgets/controls",
            "_view_module_version": "1.5.0",
            "_view_name": "ProgressView",
            "bar_style": "success",
            "description": "",
            "description_tooltip": null,
            "layout": "IPY_MODEL_e7abbf03372d40af9ea192479e73603a",
            "max": 1042301,
            "min": 0,
            "orientation": "horizontal",
            "style": "IPY_MODEL_31733f0e8a6c41848b0fe6235bae9195",
            "value": 1042301
          }
        },
        "97ddff9129b34fbca679aeee70a6310c": {
          "model_module": "@jupyter-widgets/base",
          "model_module_version": "1.2.0",
          "model_name": "LayoutModel",
          "state": {
            "_model_module": "@jupyter-widgets/base",
            "_model_module_version": "1.2.0",
            "_model_name": "LayoutModel",
            "_view_count": null,
            "_view_module": "@jupyter-widgets/base",
            "_view_module_version": "1.2.0",
            "_view_name": "LayoutView",
            "align_content": null,
            "align_items": null,
            "align_self": null,
            "border": null,
            "bottom": null,
            "display": null,
            "flex": null,
            "flex_flow": null,
            "grid_area": null,
            "grid_auto_columns": null,
            "grid_auto_flow": null,
            "grid_auto_rows": null,
            "grid_column": null,
            "grid_gap": null,
            "grid_row": null,
            "grid_template_areas": null,
            "grid_template_columns": null,
            "grid_template_rows": null,
            "height": null,
            "justify_content": null,
            "justify_items": null,
            "left": null,
            "margin": null,
            "max_height": null,
            "max_width": null,
            "min_height": null,
            "min_width": null,
            "object_fit": null,
            "object_position": null,
            "order": null,
            "overflow": null,
            "overflow_x": null,
            "overflow_y": null,
            "padding": null,
            "right": null,
            "top": null,
            "visibility": null,
            "width": null
          }
        },
        "9c83aa96318445b3a705a27a4bf4f7b5": {
          "model_module": "@jupyter-widgets/controls",
          "model_module_version": "1.5.0",
          "model_name": "ProgressStyleModel",
          "state": {
            "_model_module": "@jupyter-widgets/controls",
            "_model_module_version": "1.5.0",
            "_model_name": "ProgressStyleModel",
            "_view_count": null,
            "_view_module": "@jupyter-widgets/base",
            "_view_module_version": "1.2.0",
            "_view_name": "StyleView",
            "bar_color": null,
            "description_width": ""
          }
        },
        "a0e2039b234c45d0a15f7c7dc2119288": {
          "model_module": "@jupyter-widgets/base",
          "model_module_version": "1.2.0",
          "model_name": "LayoutModel",
          "state": {
            "_model_module": "@jupyter-widgets/base",
            "_model_module_version": "1.2.0",
            "_model_name": "LayoutModel",
            "_view_count": null,
            "_view_module": "@jupyter-widgets/base",
            "_view_module_version": "1.2.0",
            "_view_name": "LayoutView",
            "align_content": null,
            "align_items": null,
            "align_self": null,
            "border": null,
            "bottom": null,
            "display": null,
            "flex": null,
            "flex_flow": null,
            "grid_area": null,
            "grid_auto_columns": null,
            "grid_auto_flow": null,
            "grid_auto_rows": null,
            "grid_column": null,
            "grid_gap": null,
            "grid_row": null,
            "grid_template_areas": null,
            "grid_template_columns": null,
            "grid_template_rows": null,
            "height": null,
            "justify_content": null,
            "justify_items": null,
            "left": null,
            "margin": null,
            "max_height": null,
            "max_width": null,
            "min_height": null,
            "min_width": null,
            "object_fit": null,
            "object_position": null,
            "order": null,
            "overflow": null,
            "overflow_x": null,
            "overflow_y": null,
            "padding": null,
            "right": null,
            "top": null,
            "visibility": null,
            "width": null
          }
        },
        "aa966b9d9b4d41528b60ccffd9e5ecf4": {
          "model_module": "@jupyter-widgets/controls",
          "model_module_version": "1.5.0",
          "model_name": "DescriptionStyleModel",
          "state": {
            "_model_module": "@jupyter-widgets/controls",
            "_model_module_version": "1.5.0",
            "_model_name": "DescriptionStyleModel",
            "_view_count": null,
            "_view_module": "@jupyter-widgets/base",
            "_view_module_version": "1.2.0",
            "_view_name": "StyleView",
            "description_width": ""
          }
        },
        "ad4ab812967846448fdfce651ccb7063": {
          "model_module": "@jupyter-widgets/base",
          "model_module_version": "1.2.0",
          "model_name": "LayoutModel",
          "state": {
            "_model_module": "@jupyter-widgets/base",
            "_model_module_version": "1.2.0",
            "_model_name": "LayoutModel",
            "_view_count": null,
            "_view_module": "@jupyter-widgets/base",
            "_view_module_version": "1.2.0",
            "_view_name": "LayoutView",
            "align_content": null,
            "align_items": null,
            "align_self": null,
            "border": null,
            "bottom": null,
            "display": null,
            "flex": null,
            "flex_flow": null,
            "grid_area": null,
            "grid_auto_columns": null,
            "grid_auto_flow": null,
            "grid_auto_rows": null,
            "grid_column": null,
            "grid_gap": null,
            "grid_row": null,
            "grid_template_areas": null,
            "grid_template_columns": null,
            "grid_template_rows": null,
            "height": null,
            "justify_content": null,
            "justify_items": null,
            "left": null,
            "margin": null,
            "max_height": null,
            "max_width": null,
            "min_height": null,
            "min_width": null,
            "object_fit": null,
            "object_position": null,
            "order": null,
            "overflow": null,
            "overflow_x": null,
            "overflow_y": null,
            "padding": null,
            "right": null,
            "top": null,
            "visibility": null,
            "width": null
          }
        },
        "af2f08e8e62d46648d2936fbdbd27f92": {
          "model_module": "@jupyter-widgets/base",
          "model_module_version": "1.2.0",
          "model_name": "LayoutModel",
          "state": {
            "_model_module": "@jupyter-widgets/base",
            "_model_module_version": "1.2.0",
            "_model_name": "LayoutModel",
            "_view_count": null,
            "_view_module": "@jupyter-widgets/base",
            "_view_module_version": "1.2.0",
            "_view_name": "LayoutView",
            "align_content": null,
            "align_items": null,
            "align_self": null,
            "border": null,
            "bottom": null,
            "display": null,
            "flex": null,
            "flex_flow": null,
            "grid_area": null,
            "grid_auto_columns": null,
            "grid_auto_flow": null,
            "grid_auto_rows": null,
            "grid_column": null,
            "grid_gap": null,
            "grid_row": null,
            "grid_template_areas": null,
            "grid_template_columns": null,
            "grid_template_rows": null,
            "height": null,
            "justify_content": null,
            "justify_items": null,
            "left": null,
            "margin": null,
            "max_height": null,
            "max_width": null,
            "min_height": null,
            "min_width": null,
            "object_fit": null,
            "object_position": null,
            "order": null,
            "overflow": null,
            "overflow_x": null,
            "overflow_y": null,
            "padding": null,
            "right": null,
            "top": null,
            "visibility": null,
            "width": null
          }
        },
        "b1fbf0dc5b6b4ca1ba4303f330112122": {
          "model_module": "@jupyter-widgets/controls",
          "model_module_version": "1.5.0",
          "model_name": "HBoxModel",
          "state": {
            "_dom_classes": [],
            "_model_module": "@jupyter-widgets/controls",
            "_model_module_version": "1.5.0",
            "_model_name": "HBoxModel",
            "_view_count": null,
            "_view_module": "@jupyter-widgets/controls",
            "_view_module_version": "1.5.0",
            "_view_name": "HBoxView",
            "box_style": "",
            "children": [
              "IPY_MODEL_b42a8c1873cd41ca84c74775f3bc3014",
              "IPY_MODEL_1810e9bf39a64d6e8bd795153bdab947",
              "IPY_MODEL_df2280b11cca4ae3a44ece30aa85fe8a"
            ],
            "layout": "IPY_MODEL_ff3e10a64e7c4fa690fbd4e1c62221c8"
          }
        },
        "b230a0231c3349b3b78463283b78cbaa": {
          "model_module": "@jupyter-widgets/controls",
          "model_module_version": "1.5.0",
          "model_name": "HBoxModel",
          "state": {
            "_dom_classes": [],
            "_model_module": "@jupyter-widgets/controls",
            "_model_module_version": "1.5.0",
            "_model_name": "HBoxModel",
            "_view_count": null,
            "_view_module": "@jupyter-widgets/controls",
            "_view_module_version": "1.5.0",
            "_view_name": "HBoxView",
            "box_style": "",
            "children": [
              "IPY_MODEL_9019b75f46004013ac4c502878108597",
              "IPY_MODEL_cda198e4dca048a283ba5a0db23ffe5f",
              "IPY_MODEL_0a5ac1ac6c55452783252a7a5b3665eb"
            ],
            "layout": "IPY_MODEL_b3103efc6a9a40df997b20da2c23488c"
          }
        },
        "b3103efc6a9a40df997b20da2c23488c": {
          "model_module": "@jupyter-widgets/base",
          "model_module_version": "1.2.0",
          "model_name": "LayoutModel",
          "state": {
            "_model_module": "@jupyter-widgets/base",
            "_model_module_version": "1.2.0",
            "_model_name": "LayoutModel",
            "_view_count": null,
            "_view_module": "@jupyter-widgets/base",
            "_view_module_version": "1.2.0",
            "_view_name": "LayoutView",
            "align_content": null,
            "align_items": null,
            "align_self": null,
            "border": null,
            "bottom": null,
            "display": null,
            "flex": null,
            "flex_flow": null,
            "grid_area": null,
            "grid_auto_columns": null,
            "grid_auto_flow": null,
            "grid_auto_rows": null,
            "grid_column": null,
            "grid_gap": null,
            "grid_row": null,
            "grid_template_areas": null,
            "grid_template_columns": null,
            "grid_template_rows": null,
            "height": null,
            "justify_content": null,
            "justify_items": null,
            "left": null,
            "margin": null,
            "max_height": null,
            "max_width": null,
            "min_height": null,
            "min_width": null,
            "object_fit": null,
            "object_position": null,
            "order": null,
            "overflow": null,
            "overflow_x": null,
            "overflow_y": null,
            "padding": null,
            "right": null,
            "top": null,
            "visibility": null,
            "width": null
          }
        },
        "b42a8c1873cd41ca84c74775f3bc3014": {
          "model_module": "@jupyter-widgets/controls",
          "model_module_version": "1.5.0",
          "model_name": "HTMLModel",
          "state": {
            "_dom_classes": [],
            "_model_module": "@jupyter-widgets/controls",
            "_model_module_version": "1.5.0",
            "_model_name": "HTMLModel",
            "_view_count": null,
            "_view_module": "@jupyter-widgets/controls",
            "_view_module_version": "1.5.0",
            "_view_name": "HTMLView",
            "description": "",
            "description_tooltip": null,
            "layout": "IPY_MODEL_4ce72097fd2d414bae15d314e84c1601",
            "placeholder": "​",
            "style": "IPY_MODEL_0549de5fea7f43c5bae919e42514e88f",
            "value": "generation_config.json: 100%"
          }
        },
        "b44ba17001474d0eb94a10aa703ae23e": {
          "model_module": "@jupyter-widgets/controls",
          "model_module_version": "1.5.0",
          "model_name": "FloatProgressModel",
          "state": {
            "_dom_classes": [],
            "_model_module": "@jupyter-widgets/controls",
            "_model_module_version": "1.5.0",
            "_model_name": "FloatProgressModel",
            "_view_count": null,
            "_view_module": "@jupyter-widgets/controls",
            "_view_module_version": "1.5.0",
            "_view_name": "ProgressView",
            "bar_style": "success",
            "description": "",
            "description_tooltip": null,
            "layout": "IPY_MODEL_97ddff9129b34fbca679aeee70a6310c",
            "max": 1519984962,
            "min": 0,
            "orientation": "horizontal",
            "style": "IPY_MODEL_6d384726355140329f3c9cec99f2b395",
            "value": 1519984962
          }
        },
        "c4f9ee72b5334cb7ac457ee2a6736b82": {
          "model_module": "@jupyter-widgets/controls",
          "model_module_version": "1.5.0",
          "model_name": "DescriptionStyleModel",
          "state": {
            "_model_module": "@jupyter-widgets/controls",
            "_model_module_version": "1.5.0",
            "_model_name": "DescriptionStyleModel",
            "_view_count": null,
            "_view_module": "@jupyter-widgets/base",
            "_view_module_version": "1.2.0",
            "_view_name": "StyleView",
            "description_width": ""
          }
        },
        "cda198e4dca048a283ba5a0db23ffe5f": {
          "model_module": "@jupyter-widgets/controls",
          "model_module_version": "1.5.0",
          "model_name": "FloatProgressModel",
          "state": {
            "_dom_classes": [],
            "_model_module": "@jupyter-widgets/controls",
            "_model_module_version": "1.5.0",
            "_model_name": "FloatProgressModel",
            "_view_count": null,
            "_view_module": "@jupyter-widgets/controls",
            "_view_module_version": "1.5.0",
            "_view_name": "ProgressView",
            "bar_style": "success",
            "description": "",
            "description_tooltip": null,
            "layout": "IPY_MODEL_d372cc34d5ce40c7ae3aeb53bf56e410",
            "max": 26,
            "min": 0,
            "orientation": "horizontal",
            "style": "IPY_MODEL_9c83aa96318445b3a705a27a4bf4f7b5",
            "value": 26
          }
        },
        "cea3622a112048889abf9790a36a3430": {
          "model_module": "@jupyter-widgets/base",
          "model_module_version": "1.2.0",
          "model_name": "LayoutModel",
          "state": {
            "_model_module": "@jupyter-widgets/base",
            "_model_module_version": "1.2.0",
            "_model_name": "LayoutModel",
            "_view_count": null,
            "_view_module": "@jupyter-widgets/base",
            "_view_module_version": "1.2.0",
            "_view_name": "LayoutView",
            "align_content": null,
            "align_items": null,
            "align_self": null,
            "border": null,
            "bottom": null,
            "display": null,
            "flex": null,
            "flex_flow": null,
            "grid_area": null,
            "grid_auto_columns": null,
            "grid_auto_flow": null,
            "grid_auto_rows": null,
            "grid_column": null,
            "grid_gap": null,
            "grid_row": null,
            "grid_template_areas": null,
            "grid_template_columns": null,
            "grid_template_rows": null,
            "height": null,
            "justify_content": null,
            "justify_items": null,
            "left": null,
            "margin": null,
            "max_height": null,
            "max_width": null,
            "min_height": null,
            "min_width": null,
            "object_fit": null,
            "object_position": null,
            "order": null,
            "overflow": null,
            "overflow_x": null,
            "overflow_y": null,
            "padding": null,
            "right": null,
            "top": null,
            "visibility": null,
            "width": null
          }
        },
        "d2aad0ee2e2d48fa91c1f9540e24b89e": {
          "model_module": "@jupyter-widgets/controls",
          "model_module_version": "1.5.0",
          "model_name": "HTMLModel",
          "state": {
            "_dom_classes": [],
            "_model_module": "@jupyter-widgets/controls",
            "_model_module_version": "1.5.0",
            "_model_name": "HTMLModel",
            "_view_count": null,
            "_view_module": "@jupyter-widgets/controls",
            "_view_module_version": "1.5.0",
            "_view_name": "HTMLView",
            "description": "",
            "description_tooltip": null,
            "layout": "IPY_MODEL_fcf18127c0fa4aee8994b6a351c8c6c0",
            "placeholder": "​",
            "style": "IPY_MODEL_fd7144e07cb4411785ecfa7d06c68b45",
            "value": "model.safetensors: 100%"
          }
        },
        "d2f07839e6c4415eb7a799e436a25410": {
          "model_module": "@jupyter-widgets/controls",
          "model_module_version": "1.5.0",
          "model_name": "HTMLModel",
          "state": {
            "_dom_classes": [],
            "_model_module": "@jupyter-widgets/controls",
            "_model_module_version": "1.5.0",
            "_model_name": "HTMLModel",
            "_view_count": null,
            "_view_module": "@jupyter-widgets/controls",
            "_view_module_version": "1.5.0",
            "_view_name": "HTMLView",
            "description": "",
            "description_tooltip": null,
            "layout": "IPY_MODEL_ad4ab812967846448fdfce651ccb7063",
            "placeholder": "​",
            "style": "IPY_MODEL_c4f9ee72b5334cb7ac457ee2a6736b82",
            "value": "config.json: 100%"
          }
        },
        "d372cc34d5ce40c7ae3aeb53bf56e410": {
          "model_module": "@jupyter-widgets/base",
          "model_module_version": "1.2.0",
          "model_name": "LayoutModel",
          "state": {
            "_model_module": "@jupyter-widgets/base",
            "_model_module_version": "1.2.0",
            "_model_name": "LayoutModel",
            "_view_count": null,
            "_view_module": "@jupyter-widgets/base",
            "_view_module_version": "1.2.0",
            "_view_name": "LayoutView",
            "align_content": null,
            "align_items": null,
            "align_self": null,
            "border": null,
            "bottom": null,
            "display": null,
            "flex": null,
            "flex_flow": null,
            "grid_area": null,
            "grid_auto_columns": null,
            "grid_auto_flow": null,
            "grid_auto_rows": null,
            "grid_column": null,
            "grid_gap": null,
            "grid_row": null,
            "grid_template_areas": null,
            "grid_template_columns": null,
            "grid_template_rows": null,
            "height": null,
            "justify_content": null,
            "justify_items": null,
            "left": null,
            "margin": null,
            "max_height": null,
            "max_width": null,
            "min_height": null,
            "min_width": null,
            "object_fit": null,
            "object_position": null,
            "order": null,
            "overflow": null,
            "overflow_x": null,
            "overflow_y": null,
            "padding": null,
            "right": null,
            "top": null,
            "visibility": null,
            "width": null
          }
        },
        "d9e547160a0d4be1be8cc9af0baa5a0c": {
          "model_module": "@jupyter-widgets/controls",
          "model_module_version": "1.5.0",
          "model_name": "DescriptionStyleModel",
          "state": {
            "_model_module": "@jupyter-widgets/controls",
            "_model_module_version": "1.5.0",
            "_model_name": "DescriptionStyleModel",
            "_view_count": null,
            "_view_module": "@jupyter-widgets/base",
            "_view_module_version": "1.2.0",
            "_view_name": "StyleView",
            "description_width": ""
          }
        },
        "da1fa4aa225b48778d1e0f6196ce0323": {
          "model_module": "@jupyter-widgets/controls",
          "model_module_version": "1.5.0",
          "model_name": "HTMLModel",
          "state": {
            "_dom_classes": [],
            "_model_module": "@jupyter-widgets/controls",
            "_model_module_version": "1.5.0",
            "_model_name": "HTMLModel",
            "_view_count": null,
            "_view_module": "@jupyter-widgets/controls",
            "_view_module_version": "1.5.0",
            "_view_name": "HTMLView",
            "description": "",
            "description_tooltip": null,
            "layout": "IPY_MODEL_a0e2039b234c45d0a15f7c7dc2119288",
            "placeholder": "​",
            "style": "IPY_MODEL_8a1b8930a65d47a2bda487042d92d54b",
            "value": " 1.04M/1.04M [00:00&lt;00:00, 4.77MB/s]"
          }
        },
        "ddfe0041c56d424492e4bdccacb17fe5": {
          "model_module": "@jupyter-widgets/base",
          "model_module_version": "1.2.0",
          "model_name": "LayoutModel",
          "state": {
            "_model_module": "@jupyter-widgets/base",
            "_model_module_version": "1.2.0",
            "_model_name": "LayoutModel",
            "_view_count": null,
            "_view_module": "@jupyter-widgets/base",
            "_view_module_version": "1.2.0",
            "_view_name": "LayoutView",
            "align_content": null,
            "align_items": null,
            "align_self": null,
            "border": null,
            "bottom": null,
            "display": null,
            "flex": null,
            "flex_flow": null,
            "grid_area": null,
            "grid_auto_columns": null,
            "grid_auto_flow": null,
            "grid_auto_rows": null,
            "grid_column": null,
            "grid_gap": null,
            "grid_row": null,
            "grid_template_areas": null,
            "grid_template_columns": null,
            "grid_template_rows": null,
            "height": null,
            "justify_content": null,
            "justify_items": null,
            "left": null,
            "margin": null,
            "max_height": null,
            "max_width": null,
            "min_height": null,
            "min_width": null,
            "object_fit": null,
            "object_position": null,
            "order": null,
            "overflow": null,
            "overflow_x": null,
            "overflow_y": null,
            "padding": null,
            "right": null,
            "top": null,
            "visibility": null,
            "width": null
          }
        },
        "df2280b11cca4ae3a44ece30aa85fe8a": {
          "model_module": "@jupyter-widgets/controls",
          "model_module_version": "1.5.0",
          "model_name": "HTMLModel",
          "state": {
            "_dom_classes": [],
            "_model_module": "@jupyter-widgets/controls",
            "_model_module_version": "1.5.0",
            "_model_name": "HTMLModel",
            "_view_count": null,
            "_view_module": "@jupyter-widgets/controls",
            "_view_module_version": "1.5.0",
            "_view_name": "HTMLView",
            "description": "",
            "description_tooltip": null,
            "layout": "IPY_MODEL_ddfe0041c56d424492e4bdccacb17fe5",
            "placeholder": "​",
            "style": "IPY_MODEL_8f84e67ce76a4f009dc53961229a3f40",
            "value": " 124/124 [00:00&lt;00:00, 9.94kB/s]"
          }
        },
        "df5844b17e104330a194d81827e4794d": {
          "model_module": "@jupyter-widgets/base",
          "model_module_version": "1.2.0",
          "model_name": "LayoutModel",
          "state": {
            "_model_module": "@jupyter-widgets/base",
            "_model_module_version": "1.2.0",
            "_model_name": "LayoutModel",
            "_view_count": null,
            "_view_module": "@jupyter-widgets/base",
            "_view_module_version": "1.2.0",
            "_view_name": "LayoutView",
            "align_content": null,
            "align_items": null,
            "align_self": null,
            "border": null,
            "bottom": null,
            "display": null,
            "flex": null,
            "flex_flow": null,
            "grid_area": null,
            "grid_auto_columns": null,
            "grid_auto_flow": null,
            "grid_auto_rows": null,
            "grid_column": null,
            "grid_gap": null,
            "grid_row": null,
            "grid_template_areas": null,
            "grid_template_columns": null,
            "grid_template_rows": null,
            "height": null,
            "justify_content": null,
            "justify_items": null,
            "left": null,
            "margin": null,
            "max_height": null,
            "max_width": null,
            "min_height": null,
            "min_width": null,
            "object_fit": null,
            "object_position": null,
            "order": null,
            "overflow": null,
            "overflow_x": null,
            "overflow_y": null,
            "padding": null,
            "right": null,
            "top": null,
            "visibility": null,
            "width": null
          }
        },
        "e7837e02d9ef4f8abf76415df685a193": {
          "model_module": "@jupyter-widgets/controls",
          "model_module_version": "1.5.0",
          "model_name": "ProgressStyleModel",
          "state": {
            "_model_module": "@jupyter-widgets/controls",
            "_model_module_version": "1.5.0",
            "_model_name": "ProgressStyleModel",
            "_view_count": null,
            "_view_module": "@jupyter-widgets/base",
            "_view_module_version": "1.2.0",
            "_view_name": "StyleView",
            "bar_color": null,
            "description_width": ""
          }
        },
        "e7abbf03372d40af9ea192479e73603a": {
          "model_module": "@jupyter-widgets/base",
          "model_module_version": "1.2.0",
          "model_name": "LayoutModel",
          "state": {
            "_model_module": "@jupyter-widgets/base",
            "_model_module_version": "1.2.0",
            "_model_name": "LayoutModel",
            "_view_count": null,
            "_view_module": "@jupyter-widgets/base",
            "_view_module_version": "1.2.0",
            "_view_name": "LayoutView",
            "align_content": null,
            "align_items": null,
            "align_self": null,
            "border": null,
            "bottom": null,
            "display": null,
            "flex": null,
            "flex_flow": null,
            "grid_area": null,
            "grid_auto_columns": null,
            "grid_auto_flow": null,
            "grid_auto_rows": null,
            "grid_column": null,
            "grid_gap": null,
            "grid_row": null,
            "grid_template_areas": null,
            "grid_template_columns": null,
            "grid_template_rows": null,
            "height": null,
            "justify_content": null,
            "justify_items": null,
            "left": null,
            "margin": null,
            "max_height": null,
            "max_width": null,
            "min_height": null,
            "min_width": null,
            "object_fit": null,
            "object_position": null,
            "order": null,
            "overflow": null,
            "overflow_x": null,
            "overflow_y": null,
            "padding": null,
            "right": null,
            "top": null,
            "visibility": null,
            "width": null
          }
        },
        "e8263c1da2bd4b51aa2504ba63d9d19e": {
          "model_module": "@jupyter-widgets/controls",
          "model_module_version": "1.5.0",
          "model_name": "FloatProgressModel",
          "state": {
            "_dom_classes": [],
            "_model_module": "@jupyter-widgets/controls",
            "_model_module_version": "1.5.0",
            "_model_name": "FloatProgressModel",
            "_view_count": null,
            "_view_module": "@jupyter-widgets/controls",
            "_view_module_version": "1.5.0",
            "_view_name": "ProgressView",
            "bar_style": "success",
            "description": "",
            "description_tooltip": null,
            "layout": "IPY_MODEL_728352875c3649baa6cf7f0d6d89976a",
            "max": 718,
            "min": 0,
            "orientation": "horizontal",
            "style": "IPY_MODEL_10e9b5626eba404588d5d349909ec486",
            "value": 718
          }
        },
        "ebed73a5ca29444f99d2ddc0e46d0949": {
          "model_module": "@jupyter-widgets/controls",
          "model_module_version": "1.5.0",
          "model_name": "HBoxModel",
          "state": {
            "_dom_classes": [],
            "_model_module": "@jupyter-widgets/controls",
            "_model_module_version": "1.5.0",
            "_model_name": "HBoxModel",
            "_view_count": null,
            "_view_module": "@jupyter-widgets/controls",
            "_view_module_version": "1.5.0",
            "_view_name": "HBoxView",
            "box_style": "",
            "children": [
              "IPY_MODEL_d2aad0ee2e2d48fa91c1f9540e24b89e",
              "IPY_MODEL_b44ba17001474d0eb94a10aa703ae23e",
              "IPY_MODEL_ff5a1c3848dc40689725f0ad4e0c3012"
            ],
            "layout": "IPY_MODEL_1475f0f84cad4d02aaac885f104e48d9"
          }
        },
        "ec7d616c83594d0a862dc055c57fd28e": {
          "model_module": "@jupyter-widgets/base",
          "model_module_version": "1.2.0",
          "model_name": "LayoutModel",
          "state": {
            "_model_module": "@jupyter-widgets/base",
            "_model_module_version": "1.2.0",
            "_model_name": "LayoutModel",
            "_view_count": null,
            "_view_module": "@jupyter-widgets/base",
            "_view_module_version": "1.2.0",
            "_view_name": "LayoutView",
            "align_content": null,
            "align_items": null,
            "align_self": null,
            "border": null,
            "bottom": null,
            "display": null,
            "flex": null,
            "flex_flow": null,
            "grid_area": null,
            "grid_auto_columns": null,
            "grid_auto_flow": null,
            "grid_auto_rows": null,
            "grid_column": null,
            "grid_gap": null,
            "grid_row": null,
            "grid_template_areas": null,
            "grid_template_columns": null,
            "grid_template_rows": null,
            "height": null,
            "justify_content": null,
            "justify_items": null,
            "left": null,
            "margin": null,
            "max_height": null,
            "max_width": null,
            "min_height": null,
            "min_width": null,
            "object_fit": null,
            "object_position": null,
            "order": null,
            "overflow": null,
            "overflow_x": null,
            "overflow_y": null,
            "padding": null,
            "right": null,
            "top": null,
            "visibility": null,
            "width": null
          }
        },
        "ed7d15352a7a4ff5acc67e2a70712074": {
          "model_module": "@jupyter-widgets/controls",
          "model_module_version": "1.5.0",
          "model_name": "ProgressStyleModel",
          "state": {
            "_model_module": "@jupyter-widgets/controls",
            "_model_module_version": "1.5.0",
            "_model_name": "ProgressStyleModel",
            "_view_count": null,
            "_view_module": "@jupyter-widgets/base",
            "_view_module_version": "1.2.0",
            "_view_name": "StyleView",
            "bar_color": null,
            "description_width": ""
          }
        },
        "f0fe9f8a17e74f54924bc7daafc0e890": {
          "model_module": "@jupyter-widgets/base",
          "model_module_version": "1.2.0",
          "model_name": "LayoutModel",
          "state": {
            "_model_module": "@jupyter-widgets/base",
            "_model_module_version": "1.2.0",
            "_model_name": "LayoutModel",
            "_view_count": null,
            "_view_module": "@jupyter-widgets/base",
            "_view_module_version": "1.2.0",
            "_view_name": "LayoutView",
            "align_content": null,
            "align_items": null,
            "align_self": null,
            "border": null,
            "bottom": null,
            "display": null,
            "flex": null,
            "flex_flow": null,
            "grid_area": null,
            "grid_auto_columns": null,
            "grid_auto_flow": null,
            "grid_auto_rows": null,
            "grid_column": null,
            "grid_gap": null,
            "grid_row": null,
            "grid_template_areas": null,
            "grid_template_columns": null,
            "grid_template_rows": null,
            "height": null,
            "justify_content": null,
            "justify_items": null,
            "left": null,
            "margin": null,
            "max_height": null,
            "max_width": null,
            "min_height": null,
            "min_width": null,
            "object_fit": null,
            "object_position": null,
            "order": null,
            "overflow": null,
            "overflow_x": null,
            "overflow_y": null,
            "padding": null,
            "right": null,
            "top": null,
            "visibility": null,
            "width": null
          }
        },
        "f3ec5fb56caf4ba3a99e209736014428": {
          "model_module": "@jupyter-widgets/base",
          "model_module_version": "1.2.0",
          "model_name": "LayoutModel",
          "state": {
            "_model_module": "@jupyter-widgets/base",
            "_model_module_version": "1.2.0",
            "_model_name": "LayoutModel",
            "_view_count": null,
            "_view_module": "@jupyter-widgets/base",
            "_view_module_version": "1.2.0",
            "_view_name": "LayoutView",
            "align_content": null,
            "align_items": null,
            "align_self": null,
            "border": null,
            "bottom": null,
            "display": null,
            "flex": null,
            "flex_flow": null,
            "grid_area": null,
            "grid_auto_columns": null,
            "grid_auto_flow": null,
            "grid_auto_rows": null,
            "grid_column": null,
            "grid_gap": null,
            "grid_row": null,
            "grid_template_areas": null,
            "grid_template_columns": null,
            "grid_template_rows": null,
            "height": null,
            "justify_content": null,
            "justify_items": null,
            "left": null,
            "margin": null,
            "max_height": null,
            "max_width": null,
            "min_height": null,
            "min_width": null,
            "object_fit": null,
            "object_position": null,
            "order": null,
            "overflow": null,
            "overflow_x": null,
            "overflow_y": null,
            "padding": null,
            "right": null,
            "top": null,
            "visibility": null,
            "width": null
          }
        },
        "fc0e190fef7f4f0cbf512f6b66274ce0": {
          "model_module": "@jupyter-widgets/base",
          "model_module_version": "1.2.0",
          "model_name": "LayoutModel",
          "state": {
            "_model_module": "@jupyter-widgets/base",
            "_model_module_version": "1.2.0",
            "_model_name": "LayoutModel",
            "_view_count": null,
            "_view_module": "@jupyter-widgets/base",
            "_view_module_version": "1.2.0",
            "_view_name": "LayoutView",
            "align_content": null,
            "align_items": null,
            "align_self": null,
            "border": null,
            "bottom": null,
            "display": null,
            "flex": null,
            "flex_flow": null,
            "grid_area": null,
            "grid_auto_columns": null,
            "grid_auto_flow": null,
            "grid_auto_rows": null,
            "grid_column": null,
            "grid_gap": null,
            "grid_row": null,
            "grid_template_areas": null,
            "grid_template_columns": null,
            "grid_template_rows": null,
            "height": null,
            "justify_content": null,
            "justify_items": null,
            "left": null,
            "margin": null,
            "max_height": null,
            "max_width": null,
            "min_height": null,
            "min_width": null,
            "object_fit": null,
            "object_position": null,
            "order": null,
            "overflow": null,
            "overflow_x": null,
            "overflow_y": null,
            "padding": null,
            "right": null,
            "top": null,
            "visibility": null,
            "width": null
          }
        },
        "fcf18127c0fa4aee8994b6a351c8c6c0": {
          "model_module": "@jupyter-widgets/base",
          "model_module_version": "1.2.0",
          "model_name": "LayoutModel",
          "state": {
            "_model_module": "@jupyter-widgets/base",
            "_model_module_version": "1.2.0",
            "_model_name": "LayoutModel",
            "_view_count": null,
            "_view_module": "@jupyter-widgets/base",
            "_view_module_version": "1.2.0",
            "_view_name": "LayoutView",
            "align_content": null,
            "align_items": null,
            "align_self": null,
            "border": null,
            "bottom": null,
            "display": null,
            "flex": null,
            "flex_flow": null,
            "grid_area": null,
            "grid_auto_columns": null,
            "grid_auto_flow": null,
            "grid_auto_rows": null,
            "grid_column": null,
            "grid_gap": null,
            "grid_row": null,
            "grid_template_areas": null,
            "grid_template_columns": null,
            "grid_template_rows": null,
            "height": null,
            "justify_content": null,
            "justify_items": null,
            "left": null,
            "margin": null,
            "max_height": null,
            "max_width": null,
            "min_height": null,
            "min_width": null,
            "object_fit": null,
            "object_position": null,
            "order": null,
            "overflow": null,
            "overflow_x": null,
            "overflow_y": null,
            "padding": null,
            "right": null,
            "top": null,
            "visibility": null,
            "width": null
          }
        },
        "fd7144e07cb4411785ecfa7d06c68b45": {
          "model_module": "@jupyter-widgets/controls",
          "model_module_version": "1.5.0",
          "model_name": "DescriptionStyleModel",
          "state": {
            "_model_module": "@jupyter-widgets/controls",
            "_model_module_version": "1.5.0",
            "_model_name": "DescriptionStyleModel",
            "_view_count": null,
            "_view_module": "@jupyter-widgets/base",
            "_view_module_version": "1.2.0",
            "_view_name": "StyleView",
            "description_width": ""
          }
        },
        "fed923aad3244c69b1a17ec51d8380cf": {
          "model_module": "@jupyter-widgets/controls",
          "model_module_version": "1.5.0",
          "model_name": "DescriptionStyleModel",
          "state": {
            "_model_module": "@jupyter-widgets/controls",
            "_model_module_version": "1.5.0",
            "_model_name": "DescriptionStyleModel",
            "_view_count": null,
            "_view_module": "@jupyter-widgets/base",
            "_view_module_version": "1.2.0",
            "_view_name": "StyleView",
            "description_width": ""
          }
        },
        "ff3e10a64e7c4fa690fbd4e1c62221c8": {
          "model_module": "@jupyter-widgets/base",
          "model_module_version": "1.2.0",
          "model_name": "LayoutModel",
          "state": {
            "_model_module": "@jupyter-widgets/base",
            "_model_module_version": "1.2.0",
            "_model_name": "LayoutModel",
            "_view_count": null,
            "_view_module": "@jupyter-widgets/base",
            "_view_module_version": "1.2.0",
            "_view_name": "LayoutView",
            "align_content": null,
            "align_items": null,
            "align_self": null,
            "border": null,
            "bottom": null,
            "display": null,
            "flex": null,
            "flex_flow": null,
            "grid_area": null,
            "grid_auto_columns": null,
            "grid_auto_flow": null,
            "grid_auto_rows": null,
            "grid_column": null,
            "grid_gap": null,
            "grid_row": null,
            "grid_template_areas": null,
            "grid_template_columns": null,
            "grid_template_rows": null,
            "height": null,
            "justify_content": null,
            "justify_items": null,
            "left": null,
            "margin": null,
            "max_height": null,
            "max_width": null,
            "min_height": null,
            "min_width": null,
            "object_fit": null,
            "object_position": null,
            "order": null,
            "overflow": null,
            "overflow_x": null,
            "overflow_y": null,
            "padding": null,
            "right": null,
            "top": null,
            "visibility": null,
            "width": null
          }
        },
        "ff5a1c3848dc40689725f0ad4e0c3012": {
          "model_module": "@jupyter-widgets/controls",
          "model_module_version": "1.5.0",
          "model_name": "HTMLModel",
          "state": {
            "_dom_classes": [],
            "_model_module": "@jupyter-widgets/controls",
            "_model_module_version": "1.5.0",
            "_model_name": "HTMLModel",
            "_view_count": null,
            "_view_module": "@jupyter-widgets/controls",
            "_view_module_version": "1.5.0",
            "_view_name": "HTMLView",
            "description": "",
            "description_tooltip": null,
            "layout": "IPY_MODEL_33cecec46ab14182840d3396303f229c",
            "placeholder": "​",
            "style": "IPY_MODEL_fed923aad3244c69b1a17ec51d8380cf",
            "value": " 1.52G/1.52G [00:04&lt;00:00, 285MB/s]"
          }
        }
      }
    }
  },
  "nbformat": 4,
  "nbformat_minor": 0
}
