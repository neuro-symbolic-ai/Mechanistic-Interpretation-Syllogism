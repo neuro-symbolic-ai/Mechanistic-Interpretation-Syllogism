{
 "cells": [
  {
   "cell_type": "markdown",
   "metadata": {
    "id": "upSc7b_GabVR"
   },
   "source": [
    "# Main Demo\n",
    "## Introduction\n",
    "\n",
    "This Jupyter Notebook contains the code to reproduce the results presented in our paper \"A Mechanistic Interpretation of Syllogistic Reasoning in Auto-Regressive Language Models\".\n",
    "\n",
    "### Contents:\n",
    "1. Setup\n",
    "2. Dataset\n",
    "3. Intervention (Figure 4)\n",
    "4. Evaluation (Figure 5)\n",
    "5. Transferability (Figure 6, Table 2, Figure 3)\n",
    "\n",
    "Note: This demo is provided to ensure transparency and reproducibility of our research. If you encounter any issues or have questions, please contact the authors."
   ]
  },
  {
   "cell_type": "markdown",
   "metadata": {
    "id": "yqrK5YtiabVT"
   },
   "source": [
    "# 1. Setup"
   ]
  },
  {
   "cell_type": "code",
   "execution_count": 15,
   "metadata": {},
   "outputs": [
    {
     "name": "stderr",
     "output_type": "stream",
     "text": [
      "huggingface/tokenizers: The current process just got forked, after parallelism has already been used. Disabling parallelism to avoid deadlocks...\n",
      "To disable this warning, you can either:\n",
      "\t- Avoid using `tokenizers` before the fork if possible\n",
      "\t- Explicitly set the environment variable TOKENIZERS_PARALLELISM=(true | false)\n"
     ]
    },
    {
     "name": "stdout",
     "output_type": "stream",
     "text": [
      "Requirement already satisfied: torch==2.2.0 in /Users/geonhee/miniconda3/envs/mechsyllogism/lib/python3.9/site-packages (2.2.0)\n",
      "Requirement already satisfied: filelock in /Users/geonhee/miniconda3/envs/mechsyllogism/lib/python3.9/site-packages (from torch==2.2.0) (3.17.0)\n",
      "Requirement already satisfied: typing-extensions>=4.8.0 in /Users/geonhee/miniconda3/envs/mechsyllogism/lib/python3.9/site-packages (from torch==2.2.0) (4.12.2)\n",
      "Requirement already satisfied: sympy in /Users/geonhee/miniconda3/envs/mechsyllogism/lib/python3.9/site-packages (from torch==2.2.0) (1.13.1)\n",
      "Requirement already satisfied: networkx in /Users/geonhee/miniconda3/envs/mechsyllogism/lib/python3.9/site-packages (from torch==2.2.0) (3.2.1)\n",
      "Requirement already satisfied: jinja2 in /Users/geonhee/miniconda3/envs/mechsyllogism/lib/python3.9/site-packages (from torch==2.2.0) (3.1.5)\n",
      "Requirement already satisfied: fsspec in /Users/geonhee/miniconda3/envs/mechsyllogism/lib/python3.9/site-packages (from torch==2.2.0) (2024.9.0)\n",
      "Requirement already satisfied: MarkupSafe>=2.0 in /Users/geonhee/miniconda3/envs/mechsyllogism/lib/python3.9/site-packages (from jinja2->torch==2.2.0) (3.0.2)\n",
      "Requirement already satisfied: mpmath<1.4,>=1.1.0 in /Users/geonhee/miniconda3/envs/mechsyllogism/lib/python3.9/site-packages (from sympy->torch==2.2.0) (1.3.0)\n"
     ]
    },
    {
     "name": "stderr",
     "output_type": "stream",
     "text": [
      "huggingface/tokenizers: The current process just got forked, after parallelism has already been used. Disabling parallelism to avoid deadlocks...\n",
      "To disable this warning, you can either:\n",
      "\t- Avoid using `tokenizers` before the fork if possible\n",
      "\t- Explicitly set the environment variable TOKENIZERS_PARALLELISM=(true | false)\n"
     ]
    },
    {
     "name": "stdout",
     "output_type": "stream",
     "text": [
      "Requirement already satisfied: plotly==5.19.0 in /Users/geonhee/miniconda3/envs/mechsyllogism/lib/python3.9/site-packages (5.19.0)\n",
      "Requirement already satisfied: tenacity>=6.2.0 in /Users/geonhee/miniconda3/envs/mechsyllogism/lib/python3.9/site-packages (from plotly==5.19.0) (9.0.0)\n",
      "Requirement already satisfied: packaging in /Users/geonhee/miniconda3/envs/mechsyllogism/lib/python3.9/site-packages (from plotly==5.19.0) (24.2)\n"
     ]
    },
    {
     "name": "stderr",
     "output_type": "stream",
     "text": [
      "huggingface/tokenizers: The current process just got forked, after parallelism has already been used. Disabling parallelism to avoid deadlocks...\n",
      "To disable this warning, you can either:\n",
      "\t- Avoid using `tokenizers` before the fork if possible\n",
      "\t- Explicitly set the environment variable TOKENIZERS_PARALLELISM=(true | false)\n"
     ]
    },
    {
     "name": "stdout",
     "output_type": "stream",
     "text": [
      "Requirement already satisfied: numpy==1.26.4 in /Users/geonhee/miniconda3/envs/mechsyllogism/lib/python3.9/site-packages (1.26.4)\n"
     ]
    },
    {
     "name": "stderr",
     "output_type": "stream",
     "text": [
      "huggingface/tokenizers: The current process just got forked, after parallelism has already been used. Disabling parallelism to avoid deadlocks...\n",
      "To disable this warning, you can either:\n",
      "\t- Avoid using `tokenizers` before the fork if possible\n",
      "\t- Explicitly set the environment variable TOKENIZERS_PARALLELISM=(true | false)\n"
     ]
    },
    {
     "name": "stdout",
     "output_type": "stream",
     "text": [
      "Requirement already satisfied: nbformat==5.9.2 in /Users/geonhee/miniconda3/envs/mechsyllogism/lib/python3.9/site-packages (5.9.2)\n",
      "Requirement already satisfied: fastjsonschema in /Users/geonhee/miniconda3/envs/mechsyllogism/lib/python3.9/site-packages (from nbformat==5.9.2) (2.21.1)\n",
      "Requirement already satisfied: jsonschema>=2.6 in /Users/geonhee/miniconda3/envs/mechsyllogism/lib/python3.9/site-packages (from nbformat==5.9.2) (4.23.0)\n",
      "Requirement already satisfied: jupyter-core in /Users/geonhee/miniconda3/envs/mechsyllogism/lib/python3.9/site-packages (from nbformat==5.9.2) (5.7.2)\n",
      "Requirement already satisfied: traitlets>=5.1 in /Users/geonhee/miniconda3/envs/mechsyllogism/lib/python3.9/site-packages (from nbformat==5.9.2) (5.14.3)\n",
      "Requirement already satisfied: attrs>=22.2.0 in /Users/geonhee/miniconda3/envs/mechsyllogism/lib/python3.9/site-packages (from jsonschema>=2.6->nbformat==5.9.2) (24.3.0)\n",
      "Requirement already satisfied: jsonschema-specifications>=2023.03.6 in /Users/geonhee/miniconda3/envs/mechsyllogism/lib/python3.9/site-packages (from jsonschema>=2.6->nbformat==5.9.2) (2024.10.1)\n",
      "Requirement already satisfied: referencing>=0.28.4 in /Users/geonhee/miniconda3/envs/mechsyllogism/lib/python3.9/site-packages (from jsonschema>=2.6->nbformat==5.9.2) (0.36.1)\n",
      "Requirement already satisfied: rpds-py>=0.7.1 in /Users/geonhee/miniconda3/envs/mechsyllogism/lib/python3.9/site-packages (from jsonschema>=2.6->nbformat==5.9.2) (0.22.3)\n",
      "Requirement already satisfied: platformdirs>=2.5 in /Users/geonhee/miniconda3/envs/mechsyllogism/lib/python3.9/site-packages (from jupyter-core->nbformat==5.9.2) (4.3.6)\n",
      "Requirement already satisfied: typing-extensions>=4.4.0 in /Users/geonhee/miniconda3/envs/mechsyllogism/lib/python3.9/site-packages (from referencing>=0.28.4->jsonschema>=2.6->nbformat==5.9.2) (4.12.2)\n"
     ]
    },
    {
     "name": "stderr",
     "output_type": "stream",
     "text": [
      "huggingface/tokenizers: The current process just got forked, after parallelism has already been used. Disabling parallelism to avoid deadlocks...\n",
      "To disable this warning, you can either:\n",
      "\t- Avoid using `tokenizers` before the fork if possible\n",
      "\t- Explicitly set the environment variable TOKENIZERS_PARALLELISM=(true | false)\n"
     ]
    },
    {
     "name": "stdout",
     "output_type": "stream",
     "text": [
      "Requirement already satisfied: kaleido==0.2.1 in /Users/geonhee/miniconda3/envs/mechsyllogism/lib/python3.9/site-packages (0.2.1)\n"
     ]
    },
    {
     "name": "stderr",
     "output_type": "stream",
     "text": [
      "huggingface/tokenizers: The current process just got forked, after parallelism has already been used. Disabling parallelism to avoid deadlocks...\n",
      "To disable this warning, you can either:\n",
      "\t- Avoid using `tokenizers` before the fork if possible\n",
      "\t- Explicitly set the environment variable TOKENIZERS_PARALLELISM=(true | false)\n"
     ]
    },
    {
     "name": "stdout",
     "output_type": "stream",
     "text": [
      "Requirement already satisfied: scipy==1.13.1 in /Users/geonhee/miniconda3/envs/mechsyllogism/lib/python3.9/site-packages (1.13.1)\n",
      "Requirement already satisfied: numpy<2.3,>=1.22.4 in /Users/geonhee/miniconda3/envs/mechsyllogism/lib/python3.9/site-packages (from scipy==1.13.1) (1.26.4)\n"
     ]
    },
    {
     "name": "stderr",
     "output_type": "stream",
     "text": [
      "huggingface/tokenizers: The current process just got forked, after parallelism has already been used. Disabling parallelism to avoid deadlocks...\n",
      "To disable this warning, you can either:\n",
      "\t- Avoid using `tokenizers` before the fork if possible\n",
      "\t- Explicitly set the environment variable TOKENIZERS_PARALLELISM=(true | false)\n"
     ]
    },
    {
     "name": "stdout",
     "output_type": "stream",
     "text": [
      "Requirement already satisfied: transformer_lens in /Users/geonhee/miniconda3/envs/mechsyllogism/lib/python3.9/site-packages (2.11.0)\n",
      "Requirement already satisfied: accelerate>=0.23.0 in /Users/geonhee/miniconda3/envs/mechsyllogism/lib/python3.9/site-packages (from transformer_lens) (1.3.0)\n",
      "Requirement already satisfied: beartype<0.15.0,>=0.14.1 in /Users/geonhee/miniconda3/envs/mechsyllogism/lib/python3.9/site-packages (from transformer_lens) (0.14.1)\n",
      "Requirement already satisfied: better-abc<0.0.4,>=0.0.3 in /Users/geonhee/miniconda3/envs/mechsyllogism/lib/python3.9/site-packages (from transformer_lens) (0.0.3)\n",
      "Requirement already satisfied: datasets>=2.7.1 in /Users/geonhee/miniconda3/envs/mechsyllogism/lib/python3.9/site-packages (from transformer_lens) (3.2.0)\n",
      "Requirement already satisfied: einops>=0.6.0 in /Users/geonhee/miniconda3/envs/mechsyllogism/lib/python3.9/site-packages (from transformer_lens) (0.8.0)\n",
      "Requirement already satisfied: fancy-einsum>=0.0.3 in /Users/geonhee/miniconda3/envs/mechsyllogism/lib/python3.9/site-packages (from transformer_lens) (0.0.3)\n",
      "Requirement already satisfied: jaxtyping>=0.2.11 in /Users/geonhee/miniconda3/envs/mechsyllogism/lib/python3.9/site-packages (from transformer_lens) (0.2.36)\n",
      "Requirement already satisfied: numpy>=1.24 in /Users/geonhee/miniconda3/envs/mechsyllogism/lib/python3.9/site-packages (from transformer_lens) (1.26.4)\n",
      "Requirement already satisfied: pandas>=1.1.5 in /Users/geonhee/miniconda3/envs/mechsyllogism/lib/python3.9/site-packages (from transformer_lens) (2.2.3)\n",
      "Requirement already satisfied: rich>=12.6.0 in /Users/geonhee/miniconda3/envs/mechsyllogism/lib/python3.9/site-packages (from transformer_lens) (13.9.4)\n",
      "Requirement already satisfied: sentencepiece in /Users/geonhee/miniconda3/envs/mechsyllogism/lib/python3.9/site-packages (from transformer_lens) (0.2.0)\n",
      "Requirement already satisfied: torch!=2.0,!=2.1.0,>=1.10 in /Users/geonhee/miniconda3/envs/mechsyllogism/lib/python3.9/site-packages (from transformer_lens) (2.2.0)\n",
      "Requirement already satisfied: tqdm>=4.64.1 in /Users/geonhee/miniconda3/envs/mechsyllogism/lib/python3.9/site-packages (from transformer_lens) (4.67.1)\n",
      "Requirement already satisfied: transformers>=4.37.2 in /Users/geonhee/miniconda3/envs/mechsyllogism/lib/python3.9/site-packages (from transformer_lens) (4.48.1)\n",
      "Requirement already satisfied: typeguard<5.0,>=4.2 in /Users/geonhee/miniconda3/envs/mechsyllogism/lib/python3.9/site-packages (from transformer_lens) (4.4.1)\n",
      "Requirement already satisfied: typing-extensions in /Users/geonhee/miniconda3/envs/mechsyllogism/lib/python3.9/site-packages (from transformer_lens) (4.12.2)\n",
      "Requirement already satisfied: wandb>=0.13.5 in /Users/geonhee/miniconda3/envs/mechsyllogism/lib/python3.9/site-packages (from transformer_lens) (0.19.4)\n",
      "Requirement already satisfied: packaging>=20.0 in /Users/geonhee/miniconda3/envs/mechsyllogism/lib/python3.9/site-packages (from accelerate>=0.23.0->transformer_lens) (24.2)\n",
      "Requirement already satisfied: psutil in /Users/geonhee/miniconda3/envs/mechsyllogism/lib/python3.9/site-packages (from accelerate>=0.23.0->transformer_lens) (5.8.0)\n",
      "Requirement already satisfied: pyyaml in /Users/geonhee/miniconda3/envs/mechsyllogism/lib/python3.9/site-packages (from accelerate>=0.23.0->transformer_lens) (6.0.2)\n",
      "Requirement already satisfied: huggingface-hub>=0.21.0 in /Users/geonhee/miniconda3/envs/mechsyllogism/lib/python3.9/site-packages (from accelerate>=0.23.0->transformer_lens) (0.27.1)\n",
      "Requirement already satisfied: safetensors>=0.4.3 in /Users/geonhee/miniconda3/envs/mechsyllogism/lib/python3.9/site-packages (from accelerate>=0.23.0->transformer_lens) (0.5.2)\n",
      "Requirement already satisfied: filelock in /Users/geonhee/miniconda3/envs/mechsyllogism/lib/python3.9/site-packages (from datasets>=2.7.1->transformer_lens) (3.17.0)\n",
      "Requirement already satisfied: pyarrow>=15.0.0 in /Users/geonhee/miniconda3/envs/mechsyllogism/lib/python3.9/site-packages (from datasets>=2.7.1->transformer_lens) (19.0.0)\n",
      "Requirement already satisfied: dill<0.3.9,>=0.3.0 in /Users/geonhee/miniconda3/envs/mechsyllogism/lib/python3.9/site-packages (from datasets>=2.7.1->transformer_lens) (0.3.8)\n",
      "Requirement already satisfied: requests>=2.32.2 in /Users/geonhee/miniconda3/envs/mechsyllogism/lib/python3.9/site-packages (from datasets>=2.7.1->transformer_lens) (2.32.3)\n",
      "Requirement already satisfied: xxhash in /Users/geonhee/miniconda3/envs/mechsyllogism/lib/python3.9/site-packages (from datasets>=2.7.1->transformer_lens) (3.5.0)\n",
      "Requirement already satisfied: multiprocess<0.70.17 in /Users/geonhee/miniconda3/envs/mechsyllogism/lib/python3.9/site-packages (from datasets>=2.7.1->transformer_lens) (0.70.16)\n",
      "Requirement already satisfied: fsspec<=2024.9.0,>=2023.1.0 in /Users/geonhee/miniconda3/envs/mechsyllogism/lib/python3.9/site-packages (from fsspec[http]<=2024.9.0,>=2023.1.0->datasets>=2.7.1->transformer_lens) (2024.9.0)\n",
      "Requirement already satisfied: aiohttp in /Users/geonhee/miniconda3/envs/mechsyllogism/lib/python3.9/site-packages (from datasets>=2.7.1->transformer_lens) (3.11.11)\n",
      "Requirement already satisfied: python-dateutil>=2.8.2 in /Users/geonhee/miniconda3/envs/mechsyllogism/lib/python3.9/site-packages (from pandas>=1.1.5->transformer_lens) (2.9.0.post0)\n",
      "Requirement already satisfied: pytz>=2020.1 in /Users/geonhee/miniconda3/envs/mechsyllogism/lib/python3.9/site-packages (from pandas>=1.1.5->transformer_lens) (2024.2)\n",
      "Requirement already satisfied: tzdata>=2022.7 in /Users/geonhee/miniconda3/envs/mechsyllogism/lib/python3.9/site-packages (from pandas>=1.1.5->transformer_lens) (2025.1)\n",
      "Requirement already satisfied: markdown-it-py>=2.2.0 in /Users/geonhee/miniconda3/envs/mechsyllogism/lib/python3.9/site-packages (from rich>=12.6.0->transformer_lens) (3.0.0)\n",
      "Requirement already satisfied: pygments<3.0.0,>=2.13.0 in /Users/geonhee/miniconda3/envs/mechsyllogism/lib/python3.9/site-packages (from rich>=12.6.0->transformer_lens) (2.19.1)\n",
      "Requirement already satisfied: sympy in /Users/geonhee/miniconda3/envs/mechsyllogism/lib/python3.9/site-packages (from torch!=2.0,!=2.1.0,>=1.10->transformer_lens) (1.13.1)\n",
      "Requirement already satisfied: networkx in /Users/geonhee/miniconda3/envs/mechsyllogism/lib/python3.9/site-packages (from torch!=2.0,!=2.1.0,>=1.10->transformer_lens) (3.2.1)\n",
      "Requirement already satisfied: jinja2 in /Users/geonhee/miniconda3/envs/mechsyllogism/lib/python3.9/site-packages (from torch!=2.0,!=2.1.0,>=1.10->transformer_lens) (3.1.5)\n",
      "Requirement already satisfied: regex!=2019.12.17 in /Users/geonhee/miniconda3/envs/mechsyllogism/lib/python3.9/site-packages (from transformers>=4.37.2->transformer_lens) (2024.11.6)\n",
      "Requirement already satisfied: tokenizers<0.22,>=0.21 in /Users/geonhee/miniconda3/envs/mechsyllogism/lib/python3.9/site-packages (from transformers>=4.37.2->transformer_lens) (0.21.0)\n",
      "Requirement already satisfied: importlib-metadata>=3.6 in /Users/geonhee/miniconda3/envs/mechsyllogism/lib/python3.9/site-packages (from typeguard<5.0,>=4.2->transformer_lens) (8.6.1)\n",
      "Requirement already satisfied: click!=8.0.0,>=7.1 in /Users/geonhee/miniconda3/envs/mechsyllogism/lib/python3.9/site-packages (from wandb>=0.13.5->transformer_lens) (8.1.8)\n",
      "Requirement already satisfied: docker-pycreds>=0.4.0 in /Users/geonhee/miniconda3/envs/mechsyllogism/lib/python3.9/site-packages (from wandb>=0.13.5->transformer_lens) (0.4.0)\n",
      "Requirement already satisfied: eval-type-backport in /Users/geonhee/miniconda3/envs/mechsyllogism/lib/python3.9/site-packages (from wandb>=0.13.5->transformer_lens) (0.2.2)\n",
      "Requirement already satisfied: gitpython!=3.1.29,>=1.0.0 in /Users/geonhee/miniconda3/envs/mechsyllogism/lib/python3.9/site-packages (from wandb>=0.13.5->transformer_lens) (3.1.44)\n",
      "Requirement already satisfied: platformdirs in /Users/geonhee/miniconda3/envs/mechsyllogism/lib/python3.9/site-packages (from wandb>=0.13.5->transformer_lens) (4.3.6)\n",
      "Requirement already satisfied: protobuf!=4.21.0,!=5.28.0,<6,>=3.19.0 in /Users/geonhee/miniconda3/envs/mechsyllogism/lib/python3.9/site-packages (from wandb>=0.13.5->transformer_lens) (5.29.3)\n",
      "Requirement already satisfied: pydantic<3,>=2.6 in /Users/geonhee/miniconda3/envs/mechsyllogism/lib/python3.9/site-packages (from wandb>=0.13.5->transformer_lens) (2.10.6)\n",
      "Requirement already satisfied: sentry-sdk>=2.0.0 in /Users/geonhee/miniconda3/envs/mechsyllogism/lib/python3.9/site-packages (from wandb>=0.13.5->transformer_lens) (2.20.0)\n",
      "Requirement already satisfied: setproctitle in /Users/geonhee/miniconda3/envs/mechsyllogism/lib/python3.9/site-packages (from wandb>=0.13.5->transformer_lens) (1.3.4)\n",
      "Requirement already satisfied: setuptools in /Users/geonhee/miniconda3/envs/mechsyllogism/lib/python3.9/site-packages (from wandb>=0.13.5->transformer_lens) (75.1.0)\n",
      "Requirement already satisfied: six>=1.4.0 in /Users/geonhee/miniconda3/envs/mechsyllogism/lib/python3.9/site-packages (from docker-pycreds>=0.4.0->wandb>=0.13.5->transformer_lens) (1.17.0)\n",
      "Requirement already satisfied: aiohappyeyeballs>=2.3.0 in /Users/geonhee/miniconda3/envs/mechsyllogism/lib/python3.9/site-packages (from aiohttp->datasets>=2.7.1->transformer_lens) (2.4.4)\n",
      "Requirement already satisfied: aiosignal>=1.1.2 in /Users/geonhee/miniconda3/envs/mechsyllogism/lib/python3.9/site-packages (from aiohttp->datasets>=2.7.1->transformer_lens) (1.3.2)\n",
      "Requirement already satisfied: async-timeout<6.0,>=4.0 in /Users/geonhee/miniconda3/envs/mechsyllogism/lib/python3.9/site-packages (from aiohttp->datasets>=2.7.1->transformer_lens) (5.0.1)\n",
      "Requirement already satisfied: attrs>=17.3.0 in /Users/geonhee/miniconda3/envs/mechsyllogism/lib/python3.9/site-packages (from aiohttp->datasets>=2.7.1->transformer_lens) (24.3.0)\n",
      "Requirement already satisfied: frozenlist>=1.1.1 in /Users/geonhee/miniconda3/envs/mechsyllogism/lib/python3.9/site-packages (from aiohttp->datasets>=2.7.1->transformer_lens) (1.5.0)\n",
      "Requirement already satisfied: multidict<7.0,>=4.5 in /Users/geonhee/miniconda3/envs/mechsyllogism/lib/python3.9/site-packages (from aiohttp->datasets>=2.7.1->transformer_lens) (6.1.0)\n",
      "Requirement already satisfied: propcache>=0.2.0 in /Users/geonhee/miniconda3/envs/mechsyllogism/lib/python3.9/site-packages (from aiohttp->datasets>=2.7.1->transformer_lens) (0.2.1)\n",
      "Requirement already satisfied: yarl<2.0,>=1.17.0 in /Users/geonhee/miniconda3/envs/mechsyllogism/lib/python3.9/site-packages (from aiohttp->datasets>=2.7.1->transformer_lens) (1.18.3)\n",
      "Requirement already satisfied: gitdb<5,>=4.0.1 in /Users/geonhee/miniconda3/envs/mechsyllogism/lib/python3.9/site-packages (from gitpython!=3.1.29,>=1.0.0->wandb>=0.13.5->transformer_lens) (4.0.12)\n",
      "Requirement already satisfied: zipp>=3.20 in /Users/geonhee/miniconda3/envs/mechsyllogism/lib/python3.9/site-packages (from importlib-metadata>=3.6->typeguard<5.0,>=4.2->transformer_lens) (3.21.0)\n",
      "Requirement already satisfied: mdurl~=0.1 in /Users/geonhee/miniconda3/envs/mechsyllogism/lib/python3.9/site-packages (from markdown-it-py>=2.2.0->rich>=12.6.0->transformer_lens) (0.1.2)\n",
      "Requirement already satisfied: annotated-types>=0.6.0 in /Users/geonhee/miniconda3/envs/mechsyllogism/lib/python3.9/site-packages (from pydantic<3,>=2.6->wandb>=0.13.5->transformer_lens) (0.7.0)\n",
      "Requirement already satisfied: pydantic-core==2.27.2 in /Users/geonhee/miniconda3/envs/mechsyllogism/lib/python3.9/site-packages (from pydantic<3,>=2.6->wandb>=0.13.5->transformer_lens) (2.27.2)\n",
      "Requirement already satisfied: charset-normalizer<4,>=2 in /Users/geonhee/miniconda3/envs/mechsyllogism/lib/python3.9/site-packages (from requests>=2.32.2->datasets>=2.7.1->transformer_lens) (3.4.1)\n",
      "Requirement already satisfied: idna<4,>=2.5 in /Users/geonhee/miniconda3/envs/mechsyllogism/lib/python3.9/site-packages (from requests>=2.32.2->datasets>=2.7.1->transformer_lens) (3.10)\n",
      "Requirement already satisfied: urllib3<3,>=1.21.1 in /Users/geonhee/miniconda3/envs/mechsyllogism/lib/python3.9/site-packages (from requests>=2.32.2->datasets>=2.7.1->transformer_lens) (2.3.0)\n",
      "Requirement already satisfied: certifi>=2017.4.17 in /Users/geonhee/miniconda3/envs/mechsyllogism/lib/python3.9/site-packages (from requests>=2.32.2->datasets>=2.7.1->transformer_lens) (2024.12.14)\n",
      "Requirement already satisfied: MarkupSafe>=2.0 in /Users/geonhee/miniconda3/envs/mechsyllogism/lib/python3.9/site-packages (from jinja2->torch!=2.0,!=2.1.0,>=1.10->transformer_lens) (3.0.2)\n",
      "Requirement already satisfied: mpmath<1.4,>=1.1.0 in /Users/geonhee/miniconda3/envs/mechsyllogism/lib/python3.9/site-packages (from sympy->torch!=2.0,!=2.1.0,>=1.10->transformer_lens) (1.3.0)\n",
      "Requirement already satisfied: smmap<6,>=3.0.1 in /Users/geonhee/miniconda3/envs/mechsyllogism/lib/python3.9/site-packages (from gitdb<5,>=4.0.1->gitpython!=3.1.29,>=1.0.0->wandb>=0.13.5->transformer_lens) (5.0.2)\n"
     ]
    }
   ],
   "source": [
    "# if colab\n",
    "!pip install torch==2.2.0\n",
    "!pip install plotly==5.19.0\n",
    "!pip install numpy==1.26.4\n",
    "!pip install nbformat==5.9.2\n",
    "!pip install kaleido==0.2.1\n",
    "!pip install scipy==1.13.1\n",
    "!pip install transformer_lens\n",
    "#!pip install circuitsvis"
   ]
  },
  {
   "cell_type": "code",
   "execution_count": 1,
   "metadata": {
    "colab": {
     "base_uri": "https://localhost:8080/"
    },
    "id": "cCzKBMxqabVU",
    "outputId": "dc6e2967-dd5f-4995-a330-3247c547e0c3"
   },
   "outputs": [
    {
     "name": "stderr",
     "output_type": "stream",
     "text": [
      "/Users/geonhee/miniconda3/envs/mechsyllogism/lib/python3.9/site-packages/tqdm/auto.py:21: TqdmWarning: IProgress not found. Please update jupyter and ipywidgets. See https://ipywidgets.readthedocs.io/en/stable/user_install.html\n",
      "  from .autonotebook import tqdm as notebook_tqdm\n"
     ]
    },
    {
     "data": {
      "text/plain": [
       "<torch.autograd.grad_mode.set_grad_enabled at 0x17ff0e460>"
      ]
     },
     "execution_count": 1,
     "metadata": {},
     "output_type": "execute_result"
    }
   ],
   "source": [
    "# Import libraries\n",
    "import torch as t\n",
    "import sys\n",
    "import os\n",
    "import numpy as np\n",
    "from torch import Tensor\n",
    "\n",
    "import random\n",
    "from functools import partial\n",
    "import importlib\n",
    "import circuitsvis as cv\n",
    "from transformer_lens.hook_points import HookPoint\n",
    "from transformer_lens import utils, HookedTransformer, HookedTransformerConfig, FactoredMatrix, ActivationCache\n",
    "from transformers import AutoTokenizer, AutoModelForCausalLM\n",
    "# Get the current working directory (cwd) instead of __file__ in Jupyter Notebook\n",
    "current_path = os.getcwd()\n",
    "\n",
    "# Add the parent directory to Python's path\n",
    "parent_path = os.path.abspath(os.path.join(current_path, \"../app/\"))\n",
    "sys.path.insert(0, parent_path)\n",
    "\n",
    "# Import your module\n",
    "import importlib\n",
    "from global_variables import IMAGE_DIR, DATASET_DIR\n",
    "from prepare_dataset import SyllogismDataset\n",
    "import helper_functions as h\n",
    "import plot_utils as pu\n",
    "t.set_grad_enabled(False)\n",
    "\n",
    "# Reload the package\n",
    "#importlib.reload(pu)\n",
    "#importlib.reload(h)"
   ]
  },
  {
   "cell_type": "code",
   "execution_count": 2,
   "metadata": {
    "id": "HR5D5WR7abVV"
   },
   "outputs": [],
   "source": [
    "# Device Setup\n",
    "device = t.device(\"cuda\" if t.cuda.is_available() else \"cpu\")\n",
    "device = t.device(\"mps\") # if machine has mps setup"
   ]
  },
  {
   "cell_type": "code",
   "execution_count": 3,
   "metadata": {},
   "outputs": [
    {
     "data": {
      "text/plain": [
       "device(type='mps')"
      ]
     },
     "execution_count": 3,
     "metadata": {},
     "output_type": "execute_result"
    }
   ],
   "source": [
    "device"
   ]
  },
  {
   "cell_type": "code",
   "execution_count": 3,
   "metadata": {
    "colab": {
     "base_uri": "https://localhost:8080/",
     "height": 386,
     "referenced_widgets": [
      "58ebdce076cf468fa948d6dd7ff78232",
      "d2f07839e6c4415eb7a799e436a25410",
      "e8263c1da2bd4b51aa2504ba63d9d19e",
      "6c72a02d62be45dbae42bc5d9153094a",
      "ec7d616c83594d0a862dc055c57fd28e",
      "ad4ab812967846448fdfce651ccb7063",
      "c4f9ee72b5334cb7ac457ee2a6736b82",
      "728352875c3649baa6cf7f0d6d89976a",
      "10e9b5626eba404588d5d349909ec486",
      "df5844b17e104330a194d81827e4794d",
      "6f87853b23f3435baf6e6e970d5cf8be",
      "ebed73a5ca29444f99d2ddc0e46d0949",
      "d2aad0ee2e2d48fa91c1f9540e24b89e",
      "b44ba17001474d0eb94a10aa703ae23e",
      "ff5a1c3848dc40689725f0ad4e0c3012",
      "1475f0f84cad4d02aaac885f104e48d9",
      "fcf18127c0fa4aee8994b6a351c8c6c0",
      "fd7144e07cb4411785ecfa7d06c68b45",
      "97ddff9129b34fbca679aeee70a6310c",
      "6d384726355140329f3c9cec99f2b395",
      "33cecec46ab14182840d3396303f229c",
      "fed923aad3244c69b1a17ec51d8380cf",
      "b1fbf0dc5b6b4ca1ba4303f330112122",
      "b42a8c1873cd41ca84c74775f3bc3014",
      "1810e9bf39a64d6e8bd795153bdab947",
      "df2280b11cca4ae3a44ece30aa85fe8a",
      "ff3e10a64e7c4fa690fbd4e1c62221c8",
      "4ce72097fd2d414bae15d314e84c1601",
      "0549de5fea7f43c5bae919e42514e88f",
      "cea3622a112048889abf9790a36a3430",
      "2e4d1feb03464831a39690cca8418e7b",
      "ddfe0041c56d424492e4bdccacb17fe5",
      "8f84e67ce76a4f009dc53961229a3f40",
      "b230a0231c3349b3b78463283b78cbaa",
      "9019b75f46004013ac4c502878108597",
      "cda198e4dca048a283ba5a0db23ffe5f",
      "0a5ac1ac6c55452783252a7a5b3665eb",
      "b3103efc6a9a40df997b20da2c23488c",
      "25c788619b2c497d88e32e6e74697ef3",
      "d9e547160a0d4be1be8cc9af0baa5a0c",
      "d372cc34d5ce40c7ae3aeb53bf56e410",
      "9c83aa96318445b3a705a27a4bf4f7b5",
      "7489ebacd06f46d8a81396c503e86db7",
      "04ef4130edac4e19805114902c6f047d",
      "179347415dc84f1ba67267d2cf808a3b",
      "40d1f18f0ac240dab72ed6c921f93e17",
      "9782344c7d1e4287be6ede79db520a88",
      "da1fa4aa225b48778d1e0f6196ce0323",
      "7070592c7f694442aeb72acc40a4105e",
      "af2f08e8e62d46648d2936fbdbd27f92",
      "aa966b9d9b4d41528b60ccffd9e5ecf4",
      "e7abbf03372d40af9ea192479e73603a",
      "31733f0e8a6c41848b0fe6235bae9195",
      "a0e2039b234c45d0a15f7c7dc2119288",
      "8a1b8930a65d47a2bda487042d92d54b",
      "3f751c0c58404c4c9157a41f6d4c6aa3",
      "1fabef23d47443efbc63e689389bf2f6",
      "2086182957284546aa4866bbf38cb622",
      "61f65572174e4fe58bee89e54804b9fb",
      "2c035786cb5f43cab56db915ebde9cea",
      "622fcaa686cf4c0f8b6fdf6e0ab4fc06",
      "5dc6671fcf844de5b5922a918fd064f2",
      "5547eb66254747ba97fa9ca97a6058de",
      "e7837e02d9ef4f8abf76415df685a193",
      "fc0e190fef7f4f0cbf512f6b66274ce0",
      "50efcb39d43747c6a6b75d4f1a82a905",
      "92cc046da26347febf724c4e777a4d5d",
      "1efe288b09044c59a1a61567fea01381",
      "5122e29250c14689b0e3798d301bd8d9",
      "21a1664eed0a43699dd839eef5dfcdef",
      "3cb013ab69c74952af3fe8ec62e9240d",
      "f0fe9f8a17e74f54924bc7daafc0e890",
      "4aece1edc32649f7be3a032f09bec1d9",
      "162defd82a544996a9246503f1d87d8e",
      "ed7d15352a7a4ff5acc67e2a70712074",
      "f3ec5fb56caf4ba3a99e209736014428",
      "1d8fa38139fd46a1b907e58c8f492cee"
     ]
    },
    "id": "t9VL-KKbabVV",
    "outputId": "9e0c8905-56eb-4e4a-a3fa-51a982fbc194"
   },
   "outputs": [
    {
     "name": "stderr",
     "output_type": "stream",
     "text": [
      "The `GPTNeoXSdpaAttention` class is deprecated in favor of simply modifying the `config._attn_implementation`attribute of the `GPTNeoXAttention` class! It will be removed in v4.48\n"
     ]
    },
    {
     "name": "stdout",
     "output_type": "stream",
     "text": [
      "Loaded pretrained model pythia-410m into HookedTransformer\n"
     ]
    }
   ],
   "source": [
    "# Import the model-medium Through HookedTransformer\n",
    "gpt2 = [\"gpt2-small\", \"gpt2-medium\", \"gpt2-large\", \"gpt2-xl\"]\n",
    "pythia = [\"pythia-70m\", \"pythia-160m\", \"pythia-410m\", \"pythia-1b\"]\n",
    "qwen = [\"Qwen/Qwen2.5-0.5B\", \"Qwen/Qwen2.5-0.5B-Instruct\"]\n",
    "llama = [\"meta-llama/Llama-3.2-1B\"]\n",
    "current_model = pythia[2]\n",
    "#current_model = pythia\n",
    "\n",
    "model = HookedTransformer.from_pretrained(\n",
    "    current_model,\n",
    "    fold_ln=False,\n",
    "    device = device\n",
    ")"
   ]
  },
  {
   "cell_type": "code",
   "execution_count": 6,
   "metadata": {},
   "outputs": [],
   "source": [
    "# if fine-tuned model is used\n",
    "# model_name = \"DebateLabKIT/cript-medium\"  # Example: 'bert-base-uncased', 'gpt2', etc.\n",
    "# f_tokenizer = AutoTokenizer.from_pretrained(model_name)\n",
    "# f_model = AutoModelForCausalLM.from_pretrained(model_name)\n",
    "# f_model = f_model.to(device)\n",
    "\n",
    "# model = h.align_fine_tuning_gpt2(model, f_model, device)\n",
    "\n",
    "# current_model = \"cript-medium\""
   ]
  },
  {
   "cell_type": "code",
   "execution_count": 4,
   "metadata": {
    "id": "rN5_robqabVV"
   },
   "outputs": [
    {
     "name": "stdout",
     "output_type": "stream",
     "text": [
      "Image Directory: ../images/pythia-410m\n"
     ]
    }
   ],
   "source": [
    "# label setup for sequence\n",
    "image_dir = IMAGE_DIR / current_model\n",
    "print(f\"Image Directory: {image_dir}\")\n",
    "labels = [\n",
    "    \"BEGIN\",\n",
    "    \"s_1\",\n",
    "    \"s_1 -> m_1\",\n",
    "    \"m_1\",\n",
    "    \"m_1 -> m_2\",\n",
    "    \"m_2\",\n",
    "    \"m_2 -> p\",\n",
    "    \"p\",\n",
    "    \"p -> s_2\",\n",
    "    \"s_2\",\n",
    "    \"END\"\n",
    "]"
   ]
  },
  {
   "cell_type": "markdown",
   "metadata": {
    "id": "UoHnar8YabVW"
   },
   "source": [
    "# 2. Dataset"
   ]
  },
  {
   "cell_type": "code",
   "execution_count": 5,
   "metadata": {
    "id": "tEucO8PWabVW"
   },
   "outputs": [],
   "source": [
    "# Ensure the Dataset folder and dataset_generator.py file is in the same directory as this notebook\n",
    "# This file contains the custom data generation functions used in our experiments\n",
    "# 90 samples for each dataset, seed is set to 317 for reproducibility\n",
    "N = 30\n",
    "seed = 317"
   ]
  },
  {
   "cell_type": "code",
   "execution_count": 6,
   "metadata": {
    "colab": {
     "base_uri": "https://localhost:8080/"
    },
    "id": "O31NI6OHabVW",
    "outputId": "22a871e0-5139-4662-c330-ec989b760e69"
   },
   "outputs": [
    {
     "name": "stdout",
     "output_type": "stream",
     "text": [
      "All O are A. All A are W. Therefore, all O are =>  W\n",
      "All O are W. All W are A. Therefore, all O are =>  A\n",
      "All A are O. All O are W. Therefore, all A are =>  W\n",
      "All A are W. All W are O. Therefore, all A are =>  O\n",
      "All W are O. All O are A. Therefore, all W are =>  A\n",
      "All W are A. All A are O. Therefore, all W are =>  O\n"
     ]
    }
   ],
   "source": [
    "# Symbolic\n",
    "s_dataset = SyllogismDataset(\n",
    "            N=N/6, # because of permutation\n",
    "            seed=seed,\n",
    "            device=device,\n",
    "            type='symbolic',\n",
    "            template_type='AAA1'\n",
    "        )\n",
    "for s, l in zip(s_dataset.sentences[:6], s_dataset.labels[:6]):\n",
    "    print(f'{s} => {l}')"
   ]
  },
  {
   "cell_type": "code",
   "execution_count": 48,
   "metadata": {
    "colab": {
     "base_uri": "https://localhost:8080/"
    },
    "id": "q21_0M8kabVW",
    "outputId": "a0aa2d32-ae5f-4b15-adb0-63180df873c1"
   },
   "outputs": [
    {
     "data": {
      "text/plain": [
       "90"
      ]
     },
     "execution_count": 48,
     "metadata": {},
     "output_type": "execute_result"
    }
   ],
   "source": [
    "len(s_dataset.sentences)"
   ]
  },
  {
   "cell_type": "code",
   "execution_count": 49,
   "metadata": {
    "colab": {
     "base_uri": "https://localhost:8080/"
    },
    "id": "GQQQqZtRabVX",
    "outputId": "02d515dd-f45f-4434-8423-e74f7d5db4dc"
   },
   "outputs": [
    {
     "name": "stdout",
     "output_type": "stream",
     "text": [
      "All men are humans. All humans are mortal. Therefore, all men are =>  mortal\n",
      "All dens are units. All units are parts. Therefore, all dens are =>  parts\n",
      "All pets are animals. All animals are organisms. Therefore, all pets are =>  organisms\n",
      "All openings are starts. All starts are beginnings. Therefore, all openings are =>  beginnings\n",
      "All fronts are sides. All sides are surfaces. Therefore, all fronts are =>  surfaces\n",
      "All fences are boundaries. All boundaries are lines. Therefore, all fences are =>  lines\n"
     ]
    }
   ],
   "source": [
    "# Belief-Consistent\n",
    "bc_dataset = SyllogismDataset(\n",
    "            N=N,\n",
    "            seed=seed,\n",
    "            device=device,\n",
    "            type='consistent',\n",
    "            template_type='AAA1'\n",
    "        )\n",
    "for s, l in zip(bc_dataset.sentences[:6], bc_dataset.labels[:6]):\n",
    "    print(f'{s} => {l}')"
   ]
  },
  {
   "cell_type": "code",
   "execution_count": 50,
   "metadata": {
    "colab": {
     "base_uri": "https://localhost:8080/"
    },
    "id": "ht-U-pU0abVX",
    "outputId": "7373088c-ecf2-4534-cfb3-5f300dcebed6"
   },
   "outputs": [
    {
     "name": "stdout",
     "output_type": "stream",
     "text": [
      "All patients are cases. All cases are arguments. Therefore, all patients are =>  arguments\n",
      "All allegations are claims. All claims are rights. Therefore, all allegations are =>  rights\n",
      "All wards are people. All people are judges. Therefore, all wards are =>  judges\n",
      "All losers are people. All people are racists. Therefore, all losers are =>  racists\n",
      "All aliens are people. All people are parents. Therefore, all aliens are =>  parents\n",
      "All expectations are feelings. All feelings are sensitivity. Therefore, all expectations are =>  sensitivity\n"
     ]
    }
   ],
   "source": [
    "# Belief-Inconsistent\n",
    "bi_dataset = SyllogismDataset(\n",
    "            N=N,\n",
    "            seed=seed,\n",
    "            device=device,\n",
    "            type='inconsistent',\n",
    "            template_type='AAA1'\n",
    "        )\n",
    "for s, l in zip(bi_dataset.sentences[:6], bi_dataset.labels[:6]):\n",
    "    print(f'{s} => {l}')"
   ]
  },
  {
   "cell_type": "markdown",
   "metadata": {
    "id": "WnwBaIfXabVX"
   },
   "source": [
    "# 3. Empirical Evaluation Part"
   ]
  },
  {
   "cell_type": "markdown",
   "metadata": {},
   "source": [
    "## Accuracy"
   ]
  },
  {
   "cell_type": "code",
   "execution_count": 9,
   "metadata": {},
   "outputs": [
    {
     "name": "stdout",
     "output_type": "stream",
     "text": [
      "Symbolic Accuracy: 1.0\n"
     ]
    }
   ],
   "source": [
    "# accuracy evaluation\n",
    "def evaluate_accuracy(dataset, model, device):\n",
    "    correct = 0\n",
    "    total = 0\n",
    "    for i, (sentence, label) in enumerate(zip(dataset.sentences, dataset.labels)):\n",
    "        #print(sentence, label)\n",
    "        # Encode the sentence\n",
    "        input_ids = model.tokenizer.encode(sentence, return_tensors=\"pt\").to(device)\n",
    "        # Generate the prediction\n",
    "        output = model(input_ids)\n",
    "        #print(output.shape)\n",
    "        # Get the predicted label\n",
    "        predicted_label = model.tokenizer.decode(output[0, -1].argmax(dim=-1))\n",
    "        #print(predicted_label)\n",
    "        # Check if the prediction is correct\n",
    "        if predicted_label == label:\n",
    "            correct += 1\n",
    "        total += 1\n",
    "    return correct / total\n",
    "\n",
    "# Evaluate the accuracy of the model on the symbolic dataset\n",
    "symbolic_accuracy = evaluate_accuracy(s_dataset, model, device)\n",
    "print(f\"Symbolic Accuracy: {symbolic_accuracy}\")"
   ]
  },
  {
   "cell_type": "markdown",
   "metadata": {
    "id": "oDL0yrbNabVX"
   },
   "source": [
    "## Localization of Transitive Reasoning Mechanisms"
   ]
  },
  {
   "cell_type": "code",
   "execution_count": 10,
   "metadata": {
    "id": "Ri84ktKTabVX"
   },
   "outputs": [],
   "source": [
    "# corruption function setup\n",
    "ALPHABET_LIST = [' A', ' B', ' C', ' D', ' E', ' F', ' G', ' H', ' I', ' J', ' K', ' L', ' M', ' N', ' O', ' P', ' Q', ' R', ' S', ' T', ' U', ' V', ' W', ' X', ' Y', ' Z']\n",
    "NUMBER_LIST = [' 1', ' 2', ' 3', ' 4', ' 5',' 6',' 7',' 8',' 9']\n",
    "def middle_term_corrupt(prompts, As, Bs, labels, prompt_type):\n",
    "    if prompt_type == 'symbolic':\n",
    "        candidates = ALPHABET_LIST\n",
    "    elif prompt_type == 'numeric':\n",
    "        candidates = NUMBER_LIST\n",
    "    elif prompt_type == 'non-symbolic':\n",
    "        candidates = bc_dataset.A + bc_dataset.B\n",
    "\n",
    "    corrupted_prompts = []\n",
    "\n",
    "    for i in range(len(prompts)):\n",
    "        prompt = prompts[i]\n",
    "        label = labels[i]\n",
    "        corrupted_labels = []\n",
    "        A = As[i]\n",
    "        B = Bs[i]\n",
    "\n",
    "        new_list = list(filter(lambda x: x not in [A, B, label], candidates))\n",
    "        target = random.choice(new_list)\n",
    "        corrupted_prompt = prompt.replace('All' + B , 'All'+ target)\n",
    "        corrupted_prompts.append(corrupted_prompt)\n",
    "        corrupted_labels.append(target)\n",
    "\n",
    "    return corrupted_prompts\n",
    "\n",
    "\n",
    "def all_term_corrupt(prompts, As, Bs, labels, prompt_type):\n",
    "    if prompt_type == 'symbolic':\n",
    "        candidates = ALPHABET_LIST\n",
    "    elif prompt_type == 'numeric':\n",
    "        candidates = NUMBER_LIST\n",
    "    elif prompt_type == 'non-symbolic':\n",
    "        candidates = bc_dataset.A + bc_dataset.B\n",
    "\n",
    "    corrupted_prompts = []\n",
    "    for i in range(len(prompts)):\n",
    "        prompt = prompts[i]\n",
    "        label = labels[i]\n",
    "        A = As[i]\n",
    "        B = Bs[i]\n",
    "        new_list = list(filter(lambda x: x not in [A, B, label], candidates))\n",
    "        target = random.sample(new_list, 3)\n",
    "        corrupted_prompt = 'All' + target[0] + ' are' + target[1] + '. All' + target[1] + ' are' + target[2] + '. Therefore, all' + target[0] + ' are'\n",
    "        corrupted_prompts.append(corrupted_prompt)\n",
    "    return corrupted_prompts\n",
    "\n"
   ]
  },
  {
   "cell_type": "code",
   "execution_count": 11,
   "metadata": {
    "colab": {
     "base_uri": "https://localhost:8080/"
    },
    "id": "JTSNV9e6abVX",
    "outputId": "f672d085-0f71-4c37-9bcd-8c5e86bf4a9b"
   },
   "outputs": [
    {
     "name": "stdout",
     "output_type": "stream",
     "text": [
      "All O are A. All A are W. Therefore, all O are  W  A\n",
      "All O are W. All W are A. Therefore, all O are  A  W\n",
      "All A are O. All O are W. Therefore, all A are  W  O\n",
      "All A are W. All W are O. Therefore, all A are  O  W\n",
      "All W are O. All O are A. Therefore, all W are  A  O\n",
      "All W are A. All A are O. Therefore, all W are  O  A\n"
     ]
    }
   ],
   "source": [
    "# answer pair setting (p, m)\n",
    "s_prompts = s_dataset.sentences\n",
    "s_labels = s_dataset.labels\n",
    "s_second_labels = s_dataset.B\n",
    "s_As = s_dataset.A\n",
    "s_Bs = s_dataset.B\n",
    "\n",
    "s_answers = list(zip(s_labels, s_second_labels))\n",
    "s_answer_tokens = t.concat([\n",
    "    model.to_tokens(names, prepend_bos=False).T for names in s_answers\n",
    "])\n",
    "for prompt, (p, m) in zip(s_prompts[:6], s_answers):\n",
    "    print(prompt, p, m)"
   ]
  },
  {
   "cell_type": "code",
   "execution_count": 152,
   "metadata": {},
   "outputs": [
    {
     "name": "stdout",
     "output_type": "stream",
     "text": [
      "All men are humans. All humans are mortal. Therefore, all men are  mortal  humans\n",
      "All dens are units. All units are parts. Therefore, all dens are  parts  units\n",
      "All pets are animals. All animals are organisms. Therefore, all pets are  organisms  animals\n",
      "All openings are starts. All starts are beginnings. Therefore, all openings are  beginnings  starts\n",
      "All fronts are sides. All sides are surfaces. Therefore, all fronts are  surfaces  sides\n",
      "All fences are boundaries. All boundaries are lines. Therefore, all fences are  lines  boundaries\n",
      "torch.Size([60, 2])\n"
     ]
    }
   ],
   "source": [
    "bc_prompts = bc_dataset.sentences\n",
    "bc_labels = bc_dataset.labels\n",
    "bc_second_labels = bc_dataset.B\n",
    "bc_As = bc_dataset.A\n",
    "bc_Bs = bc_dataset.B\n",
    "\n",
    "bc_answers = list(zip(bc_labels, bc_second_labels))\n",
    "bc_answer_tokens = t.concat([\n",
    "    model.to_tokens(names, prepend_bos=False).T for names in bc_answers\n",
    "])\n",
    "for prompt, (p, m) in zip(bc_prompts[:6], bc_answers):\n",
    "    print(prompt, p, m)\n",
    "\n",
    "print(bc_answer_tokens.shape)"
   ]
  },
  {
   "cell_type": "code",
   "execution_count": 153,
   "metadata": {},
   "outputs": [
    {
     "name": "stdout",
     "output_type": "stream",
     "text": [
      "All patients are cases. All cases are arguments. Therefore, all patients are  arguments  cases\n",
      "All allegations are claims. All claims are rights. Therefore, all allegations are  rights  claims\n",
      "All wards are people. All people are judges. Therefore, all wards are  judges  people\n",
      "All losers are people. All people are racists. Therefore, all losers are  racists  people\n",
      "All aliens are people. All people are parents. Therefore, all aliens are  parents  people\n",
      "All expectations are feelings. All feelings are sensitivity. Therefore, all expectations are  sensitivity  feelings\n",
      "torch.Size([68, 2])\n"
     ]
    }
   ],
   "source": [
    "bi_prompts = bi_dataset.sentences\n",
    "bi_labels = bi_dataset.labels\n",
    "bi_second_labels = bi_dataset.B\n",
    "bi_As = bi_dataset.A\n",
    "bi_Bs = bi_dataset.B\n",
    "\n",
    "bi_answers = list(zip(bi_labels, bi_second_labels))\n",
    "bi_answer_tokens = t.concat([\n",
    "    model.to_tokens(names, prepend_bos=False).T for names in bi_answers\n",
    "])\n",
    "\n",
    "for prompt, (p, m) in zip(bi_prompts[:6], bi_answers):\n",
    "    print(prompt, p, m)\n",
    "\n",
    "print(bi_answer_tokens.shape)"
   ]
  },
  {
   "cell_type": "code",
   "execution_count": 12,
   "metadata": {
    "id": "KOgRhqo5abVX"
   },
   "outputs": [],
   "source": [
    "# Corruption and tokenization\n",
    "s_corrupted_prompts = middle_term_corrupt(s_prompts, s_As, s_Bs, s_labels, 'symbolic')\n",
    "\n",
    "s_tokens = model.to_tokens(s_prompts, prepend_bos=False).to(device)\n",
    "s_corrupted_tokens = model.to_tokens(s_corrupted_prompts, prepend_bos=False).to(device)"
   ]
  },
  {
   "cell_type": "code",
   "execution_count": 119,
   "metadata": {},
   "outputs": [],
   "source": [
    "bc_corrupted_prompts = middle_term_corrupt(bc_prompts, bc_As, bc_Bs, bc_labels, 'non-symbolic')\n",
    "bc_tokens = model.to_tokens(bc_prompts, prepend_bos=False).to(device)\n",
    "bc_corrupted_tokens = model.to_tokens(bc_corrupted_prompts, prepend_bos=False).to(device)"
   ]
  },
  {
   "cell_type": "code",
   "execution_count": 27,
   "metadata": {},
   "outputs": [],
   "source": [
    "bi_corrupted_prompts = middle_term_corrupt(bi_prompts, bi_As, bi_Bs, bi_labels, 'non-symbolic')\n",
    "bi_tokens = model.to_tokens(bi_prompts, prepend_bos=False).to(device)\n",
    "bi_corrupted_tokens = model.to_tokens(bi_corrupted_prompts, prepend_bos=False).to(device)"
   ]
  },
  {
   "cell_type": "code",
   "execution_count": 55,
   "metadata": {
    "colab": {
     "base_uri": "https://localhost:8080/"
    },
    "id": "JRSKR79babVX",
    "outputId": "bf80002d-fa03-47e5-e8d3-9246c612c334"
   },
   "outputs": [
    {
     "name": "stdout",
     "output_type": "stream",
     "text": [
      "Clean logit diff: 0.8777\n",
      "Corrupted logit diff: -0.2414\n"
     ]
    }
   ],
   "source": [
    "# Compute logits for interventions\n",
    "s_clean_logits, s_clean_cache = model.run_with_cache(s_tokens)\n",
    "s_corrupted_logits, s_corrupted_cache = model.run_with_cache(s_corrupted_tokens)\n",
    "\n",
    "s_clean_logit_diff = h.compute_logit_diff(s_clean_logits, s_answer_tokens)\n",
    "print(f\"Clean logit diff: {s_clean_logit_diff:.4f}\")\n",
    "\n",
    "s_corrupted_logit_diff = h.compute_logit_diff(s_corrupted_logits, s_answer_tokens)\n",
    "print(f\"Corrupted logit diff: {s_corrupted_logit_diff:.4f}\")"
   ]
  },
  {
   "cell_type": "code",
   "execution_count": 21,
   "metadata": {},
   "outputs": [
    {
     "name": "stdout",
     "output_type": "stream",
     "text": [
      "Clean logit diff: 0.2409\n",
      "Corrupted logit diff: 0.2152\n"
     ]
    }
   ],
   "source": [
    "bc_clean_logits, bc_clean_cache = model.run_with_cache(bc_tokens)\n",
    "bc_corrupted_logits, bc_corrupted_cache = model.run_with_cache(bc_corrupted_tokens)\n",
    "\n",
    "bc_clean_logit_diff = h.compute_logit_diff(bc_clean_logits, bc_answer_tokens)\n",
    "print(f\"Clean logit diff: {bc_clean_logit_diff:.4f}\")\n",
    "\n",
    "bc_corrupted_logit_diff = h.compute_logit_diff(bc_corrupted_logits, bc_answer_tokens)\n",
    "print(f\"Corrupted logit diff: {bc_corrupted_logit_diff:.4f}\")"
   ]
  },
  {
   "cell_type": "code",
   "execution_count": null,
   "metadata": {},
   "outputs": [],
   "source": [
    "bi_clean_logits, bi_clean_cache = model.run_with_cache(bi_tokens)\n",
    "bi_corrupted_logits, bi_corrupted_cache = model.run_with_cache(bi_corrupted_tokens)\n",
    "\n",
    "bi_clean_logit_diff = h.compute_logit_diff(bi_clean_logits, bi_answer_tokens)\n",
    "print(f\"Clean logit diff: {bi_clean_logit_diff:.4f}\")\n",
    "\n",
    "bi_corrupted_logit_diff = h.compute_logit_diff(bi_corrupted_logits, bi_answer_tokens)\n",
    "print(f\"Corrupted logit diff: {bi_corrupted_logit_diff:.4f}\")"
   ]
  },
  {
   "cell_type": "code",
   "execution_count": 23,
   "metadata": {},
   "outputs": [
    {
     "ename": "RuntimeError",
     "evalue": "Size does not match at dimension 0 expected index [34, 2] to be smaller than self [30, 50304] apart from dimension 1",
     "output_type": "error",
     "traceback": [
      "\u001b[0;31m---------------------------------------------------------------------------\u001b[0m",
      "\u001b[0;31mRuntimeError\u001b[0m                              Traceback (most recent call last)",
      "Cell \u001b[0;32mIn[23], line 10\u001b[0m\n\u001b[1;32m      7\u001b[0m bc_clean_logit_diffs \u001b[38;5;241m=\u001b[39m h\u001b[38;5;241m.\u001b[39mcompute_logit_diff(bc_clean_logits, bc_answer_tokens, array\u001b[38;5;241m=\u001b[39m\u001b[38;5;28;01mTrue\u001b[39;00m)\n\u001b[1;32m      8\u001b[0m bc_corrupted_logit_diffs \u001b[38;5;241m=\u001b[39m h\u001b[38;5;241m.\u001b[39mcompute_logit_diff(bc_corrupted_logits, bc_answer_tokens, array\u001b[38;5;241m=\u001b[39m\u001b[38;5;28;01mTrue\u001b[39;00m)\n\u001b[0;32m---> 10\u001b[0m bi_clean_logit_diffs \u001b[38;5;241m=\u001b[39m \u001b[43mh\u001b[49m\u001b[38;5;241;43m.\u001b[39;49m\u001b[43mcompute_logit_diff\u001b[49m\u001b[43m(\u001b[49m\u001b[43mbi_clean_logits\u001b[49m\u001b[43m,\u001b[49m\u001b[43m \u001b[49m\u001b[43mbi_answer_tokens\u001b[49m\u001b[43m,\u001b[49m\u001b[43m \u001b[49m\u001b[43marray\u001b[49m\u001b[38;5;241;43m=\u001b[39;49m\u001b[38;5;28;43;01mTrue\u001b[39;49;00m\u001b[43m)\u001b[49m\n\u001b[1;32m     11\u001b[0m bi_corrupted_logit_diffs \u001b[38;5;241m=\u001b[39m h\u001b[38;5;241m.\u001b[39mcompute_logit_diff(bi_corrupted_logits, bi_answer_tokens, array\u001b[38;5;241m=\u001b[39m\u001b[38;5;28;01mTrue\u001b[39;00m)\n\u001b[1;32m     13\u001b[0m \u001b[38;5;66;03m# Compute standard deviations\u001b[39;00m\n",
      "File \u001b[0;32m~/Research/Project/Mechanistic-Interpretation-Syllogism/app/helper_functions.py:28\u001b[0m, in \u001b[0;36mcompute_logit_diff\u001b[0;34m(logits, answer_tokens, array)\u001b[0m\n\u001b[1;32m     26\u001b[0m \u001b[38;5;28;01mdef\u001b[39;00m\u001b[38;5;250m \u001b[39m\u001b[38;5;21mcompute_logit_diff\u001b[39m(logits, answer_tokens, array\u001b[38;5;241m=\u001b[39m\u001b[38;5;28;01mFalse\u001b[39;00m):\n\u001b[1;32m     27\u001b[0m     last \u001b[38;5;241m=\u001b[39m logits[:, \u001b[38;5;241m-\u001b[39m\u001b[38;5;241m1\u001b[39m, :]\n\u001b[0;32m---> 28\u001b[0m     answer_logits \u001b[38;5;241m=\u001b[39m \u001b[43mlast\u001b[49m\u001b[38;5;241;43m.\u001b[39;49m\u001b[43mgather\u001b[49m\u001b[43m(\u001b[49m\u001b[43mdim\u001b[49m\u001b[38;5;241;43m=\u001b[39;49m\u001b[38;5;241;43m-\u001b[39;49m\u001b[38;5;241;43m1\u001b[39;49m\u001b[43m,\u001b[49m\u001b[43m \u001b[49m\u001b[43mindex\u001b[49m\u001b[38;5;241;43m=\u001b[39;49m\u001b[43manswer_tokens\u001b[49m\u001b[43m)\u001b[49m\n\u001b[1;32m     29\u001b[0m     correct_logits, incorrect_logits \u001b[38;5;241m=\u001b[39m answer_logits\u001b[38;5;241m.\u001b[39munbind(dim\u001b[38;5;241m=\u001b[39m\u001b[38;5;241m-\u001b[39m\u001b[38;5;241m1\u001b[39m)\n\u001b[1;32m     30\u001b[0m     answer_logit_diff \u001b[38;5;241m=\u001b[39m correct_logits \u001b[38;5;241m-\u001b[39m incorrect_logits\n",
      "\u001b[0;31mRuntimeError\u001b[0m: Size does not match at dimension 0 expected index [34, 2] to be smaller than self [30, 50304] apart from dimension 1"
     ]
    }
   ],
   "source": [
    "from scipy.stats import norm\n",
    "\n",
    "# Compute individual logit differences for standard deviation\n",
    "s_clean_logit_diffs = h.compute_logit_diff(s_clean_logits, s_answer_tokens, array=True)\n",
    "s_corrupted_logit_diffs = h.compute_logit_diff(s_corrupted_logits, s_answer_tokens, array=True)\n",
    "\n",
    "bc_clean_logit_diffs = h.compute_logit_diff(bc_clean_logits, bc_answer_tokens, array=True)\n",
    "bc_corrupted_logit_diffs = h.compute_logit_diff(bc_corrupted_logits, bc_answer_tokens, array=True)\n",
    "\n",
    "bi_clean_logit_diffs = h.compute_logit_diff(bi_clean_logits, bi_answer_tokens, array=True)\n",
    "bi_corrupted_logit_diffs = h.compute_logit_diff(bi_corrupted_logits, bi_answer_tokens, array=True)\n",
    "\n",
    "# Compute standard deviations\n",
    "std_clean_s = np.std(s_clean_logit_diffs, ddof=1)  # Sample standard deviation\n",
    "std_corrupted_s = np.std(s_corrupted_logit_diffs, ddof=1)\n",
    "\n",
    "std_clean_bc = np.std(bc_clean_logit_diffs, ddof=1)  # Sample standard deviation\n",
    "std_corrupted_bc = np.std(bc_corrupted_logit_diffs, ddof=1)\n",
    "\n",
    "std_clean_bi = np.std(bi_clean_logit_diffs, ddof=1)  # Sample standard deviation\n",
    "std_corrupted_bi = np.std(bi_corrupted_logit_diffs, ddof=1)\n",
    "\n",
    "# Compute standard error\n",
    "SE_s = np.sqrt((std_clean_s**2 / N) + (std_corrupted_s**2 / N))\n",
    "SE_bc = np.sqrt((std_clean_bc**2 / N) + (std_corrupted_bc**2 / N))\n",
    "SE_bi = np.sqrt((std_clean_bi**2 / N) + (std_corrupted_bi**2 / N))\n",
    "\n",
    "# Compute mean difference\n",
    "s_mean_diff = s_clean_logit_diff - s_corrupted_logit_diff\n",
    "bc_mean_diff = bc_clean_logit_diff - bc_corrupted_logit_diff\n",
    "bi_mean_diff = bi_clean_logit_diff - bi_corrupted_logit_diff\n",
    "\n",
    "# Compute z-score\n",
    "z_score_s = s_mean_diff / SE_s\n",
    "z_score_bc = bc_mean_diff / SE_bc\n",
    "z_score_bi = bi_mean_diff / SE_bi\n",
    "print(f\"Z-score (Symbolic): {z_score_s:.4f}\")\n",
    "print(f\"Z-score (Belief-Consistent): {z_score_bc:.4f}\")\n",
    "print(f\"Z-score (Belief-Inconsistent): {z_score_bi:.4f}\")\n",
    "\n",
    "def compute_two_tailed_p_value(z_score):\n",
    "    \"\"\"\n",
    "    Computes the two-tailed p-value given a z-score.\n",
    "\n",
    "    Args:\n",
    "    - z_score (float): The z-score to compute the p-value for.\n",
    "\n",
    "    Returns:\n",
    "    - float: The two-tailed p-value.\n",
    "    \"\"\"\n",
    "    # Compute the one-tailed p-value using the survival function (1 - CDF)\n",
    "    one_tailed_p_value = norm.sf(abs(z_score))  # sf is 1 - CDF\n",
    "    \n",
    "    # Multiply by 2 for the two-tailed p-value\n",
    "    two_tailed_p_value = 2 * one_tailed_p_value\n",
    "    return two_tailed_p_value\n",
    "\n",
    "p_value_s = compute_two_tailed_p_value(z_score_s.cpu().numpy())\n",
    "p_value_bc = compute_two_tailed_p_value(z_score_bc.cpu().numpy())\n",
    "p_value_bi = compute_two_tailed_p_value(z_score_bi.cpu().numpy())\n",
    "\n",
    "print(f\"Two-tailed p-value (Symbolic): {p_value_s:.2e}\")\n",
    "print(f\"Two-tailed p-value (Belief-Consistent): {p_value_bc:.2e}\")\n",
    "print(f\"Two-tailed p-value (Belief-Inconsistent): {p_value_bi:.2e}\")\n"
   ]
  },
  {
   "cell_type": "markdown",
   "metadata": {
    "id": "6hQJhmk-abVY"
   },
   "source": [
    "### Figure 4(a) attention head output patching"
   ]
  },
  {
   "cell_type": "code",
   "execution_count": 14,
   "metadata": {
    "colab": {
     "base_uri": "https://localhost:8080/"
    },
    "id": "wUBgplJ2abVY",
    "outputId": "4464eaf7-0f30-4d23-8637-ff36646dd570"
   },
   "outputs": [
    {
     "name": "stderr",
     "output_type": "stream",
     "text": [
      "  0%|          | 0/16 [00:00<?, ?it/s]"
     ]
    },
    {
     "name": "stderr",
     "output_type": "stream",
     "text": [
      "  0%|          | 0/16 [00:23<?, ?it/s]\n"
     ]
    },
    {
     "ename": "RuntimeError",
     "evalue": "MPS backend out of memory (MPS allocated: 17.73 GB, other allocations: 166.70 MB, max allowed: 18.13 GB). Tried to allocate 660.50 MB on private pool. Use PYTORCH_MPS_HIGH_WATERMARK_RATIO=0.0 to disable upper limit for memory allocations (may cause system failure).",
     "output_type": "error",
     "traceback": [
      "\u001b[0;31m---------------------------------------------------------------------------\u001b[0m",
      "\u001b[0;31mRuntimeError\u001b[0m                              Traceback (most recent call last)",
      "Cell \u001b[0;32mIn[14], line 1\u001b[0m\n\u001b[0;32m----> 1\u001b[0m s_attn_denoising \u001b[38;5;241m=\u001b[39m \u001b[43mh\u001b[49m\u001b[38;5;241;43m.\u001b[39;49m\u001b[43mpatching_attention\u001b[49m\u001b[43m(\u001b[49m\u001b[43mmodel\u001b[49m\u001b[43m,\u001b[49m\u001b[43m \u001b[49m\u001b[43ms_corrupted_tokens\u001b[49m\u001b[43m,\u001b[49m\u001b[43m \u001b[49m\u001b[43ms_clean_cache\u001b[49m\u001b[43m,\u001b[49m\u001b[43m \u001b[49m\u001b[43mh\u001b[49m\u001b[38;5;241;43m.\u001b[39;49m\u001b[43mmetric_denoising\u001b[49m\u001b[43m,\u001b[49m\u001b[43m \u001b[49m\u001b[43ms_answer_tokens\u001b[49m\u001b[43m,\u001b[49m\u001b[43m \u001b[49m\u001b[43ms_clean_logit_diff\u001b[49m\u001b[43m,\u001b[49m\u001b[43m \u001b[49m\u001b[43ms_corrupted_logit_diff\u001b[49m\u001b[43m,\u001b[49m\u001b[43m \u001b[49m\u001b[38;5;124;43m'\u001b[39;49m\u001b[38;5;124;43mz\u001b[39;49m\u001b[38;5;124;43m'\u001b[39;49m\u001b[43m,\u001b[49m\u001b[43m \u001b[49m\u001b[43mdevice\u001b[49m\u001b[43m)\u001b[49m\n",
      "File \u001b[0;32m~/Research/Project/Mechanistic-Interpretation-Syllogism/app/helper_functions.py:171\u001b[0m, in \u001b[0;36mpatching_attention\u001b[0;34m(model, corrupted_tokens, clean_cache, patching_metric, answer_tokens, clean_logit_diff, corrupted_logit_diff, head_type, device)\u001b[0m\n\u001b[1;32m    169\u001b[0m     \u001b[38;5;28;01mfor\u001b[39;00m head \u001b[38;5;129;01min\u001b[39;00m \u001b[38;5;28mrange\u001b[39m(model\u001b[38;5;241m.\u001b[39mcfg\u001b[38;5;241m.\u001b[39mn_heads):\n\u001b[1;32m    170\u001b[0m         hook_fn \u001b[38;5;241m=\u001b[39m partial(patching_attention_hook, head_index\u001b[38;5;241m=\u001b[39mhead, clean_cache\u001b[38;5;241m=\u001b[39mclean_cache)\n\u001b[0;32m--> 171\u001b[0m         patched_logits \u001b[38;5;241m=\u001b[39m \u001b[43mmodel\u001b[49m\u001b[38;5;241;43m.\u001b[39;49m\u001b[43mrun_with_hooks\u001b[49m\u001b[43m(\u001b[49m\n\u001b[1;32m    172\u001b[0m \u001b[43m            \u001b[49m\u001b[43mcorrupted_tokens\u001b[49m\u001b[43m,\u001b[49m\n\u001b[1;32m    173\u001b[0m \u001b[43m            \u001b[49m\u001b[43mfwd_hooks\u001b[49m\u001b[43m \u001b[49m\u001b[38;5;241;43m=\u001b[39;49m\u001b[43m \u001b[49m\u001b[43m[\u001b[49m\u001b[43m(\u001b[49m\u001b[43mutils\u001b[49m\u001b[38;5;241;43m.\u001b[39;49m\u001b[43mget_act_name\u001b[49m\u001b[43m(\u001b[49m\u001b[43mhead_type\u001b[49m\u001b[43m,\u001b[49m\u001b[43m \u001b[49m\u001b[43mlayer\u001b[49m\u001b[43m)\u001b[49m\u001b[43m,\u001b[49m\u001b[43m \u001b[49m\u001b[43mhook_fn\u001b[49m\u001b[43m)\u001b[49m\u001b[43m]\u001b[49m\u001b[43m,\u001b[49m\n\u001b[1;32m    174\u001b[0m \u001b[43m            \u001b[49m\u001b[43mreturn_type\u001b[49m\u001b[38;5;241;43m=\u001b[39;49m\u001b[38;5;124;43m\"\u001b[39;49m\u001b[38;5;124;43mlogits\u001b[39;49m\u001b[38;5;124;43m\"\u001b[39;49m\n\u001b[1;32m    175\u001b[0m \u001b[43m        \u001b[49m\u001b[43m)\u001b[49m\n\u001b[1;32m    176\u001b[0m         results[layer, head] \u001b[38;5;241m=\u001b[39m patching_metric(patched_logits, answer_tokens, corrupted_logit_diff, clean_logit_diff)\n\u001b[1;32m    178\u001b[0m \u001b[38;5;28;01mreturn\u001b[39;00m results\n",
      "File \u001b[0;32m~/miniconda3/envs/mechsyllogism/lib/python3.9/site-packages/transformer_lens/hook_points.py:455\u001b[0m, in \u001b[0;36mHookedRootModule.run_with_hooks\u001b[0;34m(self, fwd_hooks, bwd_hooks, reset_hooks_end, clear_contexts, *model_args, **model_kwargs)\u001b[0m\n\u001b[1;32m    450\u001b[0m     logging\u001b[38;5;241m.\u001b[39mwarning(\n\u001b[1;32m    451\u001b[0m         \u001b[38;5;124m\"\u001b[39m\u001b[38;5;124mWARNING: Hooks will be reset at the end of run_with_hooks. This removes the backward hooks before a backward pass can occur.\u001b[39m\u001b[38;5;124m\"\u001b[39m\n\u001b[1;32m    452\u001b[0m     )\n\u001b[1;32m    454\u001b[0m \u001b[38;5;28;01mwith\u001b[39;00m \u001b[38;5;28mself\u001b[39m\u001b[38;5;241m.\u001b[39mhooks(fwd_hooks, bwd_hooks, reset_hooks_end, clear_contexts) \u001b[38;5;28;01mas\u001b[39;00m hooked_model:\n\u001b[0;32m--> 455\u001b[0m     \u001b[38;5;28;01mreturn\u001b[39;00m \u001b[43mhooked_model\u001b[49m\u001b[38;5;241;43m.\u001b[39;49m\u001b[43mforward\u001b[49m\u001b[43m(\u001b[49m\u001b[38;5;241;43m*\u001b[39;49m\u001b[43mmodel_args\u001b[49m\u001b[43m,\u001b[49m\u001b[43m \u001b[49m\u001b[38;5;241;43m*\u001b[39;49m\u001b[38;5;241;43m*\u001b[39;49m\u001b[43mmodel_kwargs\u001b[49m\u001b[43m)\u001b[49m\n",
      "File \u001b[0;32m~/miniconda3/envs/mechsyllogism/lib/python3.9/site-packages/transformer_lens/HookedTransformer.py:593\u001b[0m, in \u001b[0;36mHookedTransformer.forward\u001b[0;34m(self, input, return_type, loss_per_token, prepend_bos, padding_side, start_at_layer, tokens, shortformer_pos_embed, attention_mask, stop_at_layer, past_kv_cache)\u001b[0m\n\u001b[1;32m    591\u001b[0m     \u001b[38;5;28;01mreturn\u001b[39;00m \u001b[38;5;28;01mNone\u001b[39;00m\n\u001b[1;32m    592\u001b[0m \u001b[38;5;28;01melse\u001b[39;00m:\n\u001b[0;32m--> 593\u001b[0m     logits \u001b[38;5;241m=\u001b[39m \u001b[38;5;28;43mself\u001b[39;49m\u001b[38;5;241;43m.\u001b[39;49m\u001b[43munembed\u001b[49m\u001b[43m(\u001b[49m\u001b[43mresidual\u001b[49m\u001b[43m)\u001b[49m  \u001b[38;5;66;03m# [batch, pos, d_vocab]\u001b[39;00m\n\u001b[1;32m    594\u001b[0m     \u001b[38;5;28;01mif\u001b[39;00m \u001b[38;5;28mself\u001b[39m\u001b[38;5;241m.\u001b[39mcfg\u001b[38;5;241m.\u001b[39moutput_logits_soft_cap \u001b[38;5;241m>\u001b[39m \u001b[38;5;241m0.0\u001b[39m:\n\u001b[1;32m    595\u001b[0m         logits \u001b[38;5;241m=\u001b[39m \u001b[38;5;28mself\u001b[39m\u001b[38;5;241m.\u001b[39mcfg\u001b[38;5;241m.\u001b[39moutput_logits_soft_cap \u001b[38;5;241m*\u001b[39m F\u001b[38;5;241m.\u001b[39mtanh(\n\u001b[1;32m    596\u001b[0m             logits \u001b[38;5;241m/\u001b[39m \u001b[38;5;28mself\u001b[39m\u001b[38;5;241m.\u001b[39mcfg\u001b[38;5;241m.\u001b[39moutput_logits_soft_cap\n\u001b[1;32m    597\u001b[0m         )\n",
      "File \u001b[0;32m~/miniconda3/envs/mechsyllogism/lib/python3.9/site-packages/torch/nn/modules/module.py:1511\u001b[0m, in \u001b[0;36mModule._wrapped_call_impl\u001b[0;34m(self, *args, **kwargs)\u001b[0m\n\u001b[1;32m   1509\u001b[0m     \u001b[38;5;28;01mreturn\u001b[39;00m \u001b[38;5;28mself\u001b[39m\u001b[38;5;241m.\u001b[39m_compiled_call_impl(\u001b[38;5;241m*\u001b[39margs, \u001b[38;5;241m*\u001b[39m\u001b[38;5;241m*\u001b[39mkwargs)  \u001b[38;5;66;03m# type: ignore[misc]\u001b[39;00m\n\u001b[1;32m   1510\u001b[0m \u001b[38;5;28;01melse\u001b[39;00m:\n\u001b[0;32m-> 1511\u001b[0m     \u001b[38;5;28;01mreturn\u001b[39;00m \u001b[38;5;28;43mself\u001b[39;49m\u001b[38;5;241;43m.\u001b[39;49m\u001b[43m_call_impl\u001b[49m\u001b[43m(\u001b[49m\u001b[38;5;241;43m*\u001b[39;49m\u001b[43margs\u001b[49m\u001b[43m,\u001b[49m\u001b[43m \u001b[49m\u001b[38;5;241;43m*\u001b[39;49m\u001b[38;5;241;43m*\u001b[39;49m\u001b[43mkwargs\u001b[49m\u001b[43m)\u001b[49m\n",
      "File \u001b[0;32m~/miniconda3/envs/mechsyllogism/lib/python3.9/site-packages/torch/nn/modules/module.py:1520\u001b[0m, in \u001b[0;36mModule._call_impl\u001b[0;34m(self, *args, **kwargs)\u001b[0m\n\u001b[1;32m   1515\u001b[0m \u001b[38;5;66;03m# If we don't have any hooks, we want to skip the rest of the logic in\u001b[39;00m\n\u001b[1;32m   1516\u001b[0m \u001b[38;5;66;03m# this function, and just call forward.\u001b[39;00m\n\u001b[1;32m   1517\u001b[0m \u001b[38;5;28;01mif\u001b[39;00m \u001b[38;5;129;01mnot\u001b[39;00m (\u001b[38;5;28mself\u001b[39m\u001b[38;5;241m.\u001b[39m_backward_hooks \u001b[38;5;129;01mor\u001b[39;00m \u001b[38;5;28mself\u001b[39m\u001b[38;5;241m.\u001b[39m_backward_pre_hooks \u001b[38;5;129;01mor\u001b[39;00m \u001b[38;5;28mself\u001b[39m\u001b[38;5;241m.\u001b[39m_forward_hooks \u001b[38;5;129;01mor\u001b[39;00m \u001b[38;5;28mself\u001b[39m\u001b[38;5;241m.\u001b[39m_forward_pre_hooks\n\u001b[1;32m   1518\u001b[0m         \u001b[38;5;129;01mor\u001b[39;00m _global_backward_pre_hooks \u001b[38;5;129;01mor\u001b[39;00m _global_backward_hooks\n\u001b[1;32m   1519\u001b[0m         \u001b[38;5;129;01mor\u001b[39;00m _global_forward_hooks \u001b[38;5;129;01mor\u001b[39;00m _global_forward_pre_hooks):\n\u001b[0;32m-> 1520\u001b[0m     \u001b[38;5;28;01mreturn\u001b[39;00m \u001b[43mforward_call\u001b[49m\u001b[43m(\u001b[49m\u001b[38;5;241;43m*\u001b[39;49m\u001b[43margs\u001b[49m\u001b[43m,\u001b[49m\u001b[43m \u001b[49m\u001b[38;5;241;43m*\u001b[39;49m\u001b[38;5;241;43m*\u001b[39;49m\u001b[43mkwargs\u001b[49m\u001b[43m)\u001b[49m\n\u001b[1;32m   1522\u001b[0m \u001b[38;5;28;01mtry\u001b[39;00m:\n\u001b[1;32m   1523\u001b[0m     result \u001b[38;5;241m=\u001b[39m \u001b[38;5;28;01mNone\u001b[39;00m\n",
      "File \u001b[0;32m~/miniconda3/envs/mechsyllogism/lib/python3.9/site-packages/transformer_lens/components/unembed.py:31\u001b[0m, in \u001b[0;36mUnembed.forward\u001b[0;34m(self, residual)\u001b[0m\n\u001b[1;32m     28\u001b[0m \u001b[38;5;28;01mdef\u001b[39;00m\u001b[38;5;250m \u001b[39m\u001b[38;5;21mforward\u001b[39m(\n\u001b[1;32m     29\u001b[0m     \u001b[38;5;28mself\u001b[39m, residual: Float[torch\u001b[38;5;241m.\u001b[39mTensor, \u001b[38;5;124m\"\u001b[39m\u001b[38;5;124mbatch pos d_model\u001b[39m\u001b[38;5;124m\"\u001b[39m]\n\u001b[1;32m     30\u001b[0m ) \u001b[38;5;241m-\u001b[39m\u001b[38;5;241m>\u001b[39m Float[torch\u001b[38;5;241m.\u001b[39mTensor, \u001b[38;5;124m\"\u001b[39m\u001b[38;5;124mbatch pos d_vocab_out\u001b[39m\u001b[38;5;124m\"\u001b[39m]:\n\u001b[0;32m---> 31\u001b[0m     \u001b[38;5;28;01mreturn\u001b[39;00m \u001b[43mbatch_addmm\u001b[49m\u001b[43m(\u001b[49m\u001b[38;5;28;43mself\u001b[39;49m\u001b[38;5;241;43m.\u001b[39;49m\u001b[43mb_U\u001b[49m\u001b[43m,\u001b[49m\u001b[43m \u001b[49m\u001b[38;5;28;43mself\u001b[39;49m\u001b[38;5;241;43m.\u001b[39;49m\u001b[43mW_U\u001b[49m\u001b[43m,\u001b[49m\u001b[43m \u001b[49m\u001b[43mresidual\u001b[49m\u001b[43m)\u001b[49m\n",
      "File \u001b[0;32m~/miniconda3/envs/mechsyllogism/lib/python3.9/site-packages/transformer_lens/utilities/addmm.py:33\u001b[0m, in \u001b[0;36mbatch_addmm\u001b[0;34m(bias, weight, x)\u001b[0m\n\u001b[1;32m     31\u001b[0m n_output_features \u001b[38;5;241m=\u001b[39m weight\u001b[38;5;241m.\u001b[39mshape[\u001b[38;5;241m-\u001b[39m\u001b[38;5;241m1\u001b[39m]\n\u001b[1;32m     32\u001b[0m size_out \u001b[38;5;241m=\u001b[39m x\u001b[38;5;241m.\u001b[39msize()[:\u001b[38;5;241m-\u001b[39m\u001b[38;5;241m1\u001b[39m] \u001b[38;5;241m+\u001b[39m (n_output_features,)\n\u001b[0;32m---> 33\u001b[0m x \u001b[38;5;241m=\u001b[39m \u001b[43mvanilla_addmm\u001b[49m\u001b[43m(\u001b[49m\u001b[43mbias\u001b[49m\u001b[43m,\u001b[49m\u001b[43m \u001b[49m\u001b[43mx\u001b[49m\u001b[38;5;241;43m.\u001b[39;49m\u001b[43mview\u001b[49m\u001b[43m(\u001b[49m\u001b[38;5;241;43m-\u001b[39;49m\u001b[38;5;241;43m1\u001b[39;49m\u001b[43m,\u001b[49m\u001b[43m \u001b[49m\u001b[43mx\u001b[49m\u001b[38;5;241;43m.\u001b[39;49m\u001b[43msize\u001b[49m\u001b[43m(\u001b[49m\u001b[38;5;241;43m-\u001b[39;49m\u001b[38;5;241;43m1\u001b[39;49m\u001b[43m)\u001b[49m\u001b[43m)\u001b[49m\u001b[43m,\u001b[49m\u001b[43m \u001b[49m\u001b[43mweight\u001b[49m\u001b[43m)\u001b[49m\n\u001b[1;32m     34\u001b[0m x \u001b[38;5;241m=\u001b[39m x\u001b[38;5;241m.\u001b[39mview(size_out)\n\u001b[1;32m     35\u001b[0m \u001b[38;5;28;01mreturn\u001b[39;00m x\n",
      "File \u001b[0;32m~/miniconda3/envs/mechsyllogism/lib/python3.9/site-packages/transformer_lens/utilities/addmm.py:18\u001b[0m, in \u001b[0;36mvanilla_addmm\u001b[0;34m(input, mat1, mat2)\u001b[0m\n\u001b[1;32m      9\u001b[0m \u001b[38;5;28;01mdef\u001b[39;00m\u001b[38;5;250m \u001b[39m\u001b[38;5;21mvanilla_addmm\u001b[39m(\n\u001b[1;32m     10\u001b[0m     \u001b[38;5;28minput\u001b[39m: Float[torch\u001b[38;5;241m.\u001b[39mTensor, \u001b[38;5;124m\"\u001b[39m\u001b[38;5;124m... #o\u001b[39m\u001b[38;5;124m\"\u001b[39m],  \u001b[38;5;66;03m# Must be broadcastable to \"m o\"\u001b[39;00m\n\u001b[1;32m     11\u001b[0m     mat1: Float[torch\u001b[38;5;241m.\u001b[39mTensor, \u001b[38;5;124m\"\u001b[39m\u001b[38;5;124mm n\u001b[39m\u001b[38;5;124m\"\u001b[39m],\n\u001b[1;32m     12\u001b[0m     mat2: Float[torch\u001b[38;5;241m.\u001b[39mTensor, \u001b[38;5;124m\"\u001b[39m\u001b[38;5;124mn o\u001b[39m\u001b[38;5;124m\"\u001b[39m],\n\u001b[1;32m     13\u001b[0m ) \u001b[38;5;241m-\u001b[39m\u001b[38;5;241m>\u001b[39m Float[torch\u001b[38;5;241m.\u001b[39mTensor, \u001b[38;5;124m\"\u001b[39m\u001b[38;5;124mm o\u001b[39m\u001b[38;5;124m\"\u001b[39m]:\n\u001b[1;32m     14\u001b[0m \u001b[38;5;250m    \u001b[39m\u001b[38;5;124;03m\"\"\"Typechecked version of torch.addmm.\u001b[39;00m\n\u001b[1;32m     15\u001b[0m \n\u001b[1;32m     16\u001b[0m \u001b[38;5;124;03m    Note that both mat1 and mat2 *must* be 2d matrices.\u001b[39;00m\n\u001b[1;32m     17\u001b[0m \u001b[38;5;124;03m    \"\"\"\u001b[39;00m\n\u001b[0;32m---> 18\u001b[0m     \u001b[38;5;28;01mreturn\u001b[39;00m \u001b[43mtorch\u001b[49m\u001b[38;5;241;43m.\u001b[39;49m\u001b[43maddmm\u001b[49m\u001b[43m(\u001b[49m\u001b[38;5;28;43minput\u001b[39;49m\u001b[43m,\u001b[49m\u001b[43m \u001b[49m\u001b[43mmat1\u001b[49m\u001b[43m,\u001b[49m\u001b[43m \u001b[49m\u001b[43mmat2\u001b[49m\u001b[43m)\u001b[49m\n",
      "\u001b[0;31mRuntimeError\u001b[0m: MPS backend out of memory (MPS allocated: 17.73 GB, other allocations: 166.70 MB, max allowed: 18.13 GB). Tried to allocate 660.50 MB on private pool. Use PYTORCH_MPS_HIGH_WATERMARK_RATIO=0.0 to disable upper limit for memory allocations (may cause system failure)."
     ]
    }
   ],
   "source": [
    "s_attn_denoising = h.patching_attention(model, s_corrupted_tokens, s_clean_cache, h.metric_denoising, s_answer_tokens, s_clean_logit_diff, s_corrupted_logit_diff, 'z', device)"
   ]
  },
  {
   "cell_type": "code",
   "execution_count": null,
   "metadata": {
    "colab": {
     "base_uri": "https://localhost:8080/",
     "height": 317
    },
    "id": "FwiTxSDTabVY",
    "outputId": "30dd5f8f-afc7-49ac-a22c-3b952301d9f3"
   },
   "outputs": [
    {
     "name": "stderr",
     "output_type": "stream",
     "text": [
      "huggingface/tokenizers: The current process just got forked, after parallelism has already been used. Disabling parallelism to avoid deadlocks...\n",
      "To disable this warning, you can either:\n",
      "\t- Avoid using `tokenizers` before the fork if possible\n",
      "\t- Explicitly set the environment variable TOKENIZERS_PARALLELISM=(true | false)\n"
     ]
    },
    {
     "name": "stdout",
     "output_type": "stream",
     "text": [
      "Plot saved to ../images/Qwen/Qwen2.5-0.5B-Instruct/symbolic_denoising.png\n"
     ]
    },
    {
     "data": {
      "application/vnd.plotly.v1+json": {
       "config": {
        "plotlyServerURL": "https://plot.ly"
       },
       "data": [
        {
         "coloraxis": "coloraxis",
         "hovertemplate": "Head: %{x}<br>Layer: %{y}<br>color: %{z}<extra></extra>",
         "name": "0",
         "type": "heatmap",
         "xaxis": "x",
         "yaxis": "y",
         "z": [
          [
           -0.0006462284363806248,
           -0.004847012925893068,
           -0.0005443658446893096,
           0.00001363161482004216,
           -0.00014066028234083205,
           -0.000028311815185588785,
           -0.004009941592812538,
           0.00012088695802958682,
           0.000021121513782418333,
           -0.0011995821259915829,
           -0.0010366019560024142,
           -0.006403264123946428,
           -0.0028636876959353685,
           -0.007327517494559288
          ],
          [
           0.002066612709313631,
           0.0007579777156934142,
           0.005475115496665239,
           0.0022411274258047342,
           -0.0009557110606692731,
           0.002388977911323309,
           -0.00866116862744093,
           -0.00264573167078197,
           0.000036550703953253105,
           -0.0038036699406802654,
           0.001017427770420909,
           -0.003822244703769684,
           -0.0009996017906814814,
           0.00006111756374593824
          ],
          [
           -0.003941933624446392,
           -0.0011248328955844045,
           0.005980084650218487,
           0.0000665102998027578,
           0.002204876160249114,
           0.003444903763011098,
           0.0017822962254285812,
           -0.0011696225265040994,
           -0.057418011128902435,
           -0.016164548695087433,
           -0.0013633111957460642,
           -0.0030783480033278465,
           -0.02931426279246807,
           0.0439477264881134
          ],
          [
           -0.0033692556899040937,
           -0.0039579616859555244,
           0.00015653888112865388,
           -0.0031685265712440014,
           0.7000367045402527,
           -0.00010366018977947533,
           0.0005762727814726532,
           -0.0031222389079630375,
           -0.00001527939093648456,
           0.0015316841891035438,
           -0.003638742258772254,
           0.0017766039818525314,
           0.00011459543748060241,
           -0.005472568795084953
          ],
          [
           0.011787601746618748,
           -0.008545524440705776,
           -0.0073886350728571415,
           -0.001425627269782126,
           0.0005157543928362429,
           -0.0007383541669696569,
           0.07436929643154144,
           0.003619418479502201,
           -0.00030079431599006057,
           0.004503376316279173,
           -0.005931849591434002,
           0.0007770020165480673,
           -0.04582102596759796,
           0.006840224377810955
          ],
          [
           0.0007714595412835479,
           -0.005785197485238314,
           -0.013275994919240475,
           0.004937191028147936,
           -0.012465586885809898,
           -0.00477735698223114,
           0.007689878344535828,
           0.0011170434299856424,
           0.0020327584352344275,
           0.035429615527391434,
           0.015974456444382668,
           -0.005736962426453829,
           -0.003574029542505741,
           0.0010264156153425574
          ],
          [
           -0.0020628676284104586,
           0.0124516561627388,
           0.004111654590815306,
           -0.0006030866061337292,
           0.014241592027246952,
           -0.001769563416019082,
           0.009709605015814304,
           -0.008105417713522911,
           0.00330948643386364,
           -0.018505891785025597,
           -0.006432624068111181,
           -0.01031344011425972,
           -0.002188697922974825,
           -0.0021549935918301344
          ],
          [
           0.013488108292222023,
           0.008654127828776836,
           -0.0051079606637358665,
           0.006299004424363375,
           0.007601048331707716,
           0.0033312069717794657,
           -0.007915474474430084,
           -0.025594331324100494,
           -0.0018979402957484126,
           0.006729224231094122,
           -0.019855869933962822,
           0.10270343720912933,
           -0.006252267397940159,
           0.055937107652425766
          ],
          [
           -0.007236739620566368,
           -0.001909174956381321,
           0.007413351442664862,
           0.013141326606273651,
           -0.004013087134808302,
           0.033155083656311035,
           0.009682640433311462,
           0.07703570276498795,
           -0.0022135647013783455,
           0.03353811800479889,
           0.015269206836819649,
           -0.08065009862184525,
           -0.0008824598044157028,
           0.01337081752717495
          ],
          [
           0.002212665742263198,
           -0.02217414230108261,
           0.02023306116461754,
           -0.0323147177696228,
           0.01330924965441227,
           0.05733666941523552,
           0.03318114951252937,
           0.000010485858183528762,
           0.034443795680999756,
           0.00397998234257102,
           0.4549219012260437,
           0.1877533346414566,
           0.006850410718470812,
           0.06319976598024368
          ],
          [
           0.17321377992630005,
           0.08671969175338745,
           0.21732103824615479,
           0.09576479345560074,
           0.1248566061258316,
           0.02044113166630268,
           -0.32666531205177307,
           -0.05987012758851051,
           0.017234856262803078,
           0.05709639564156532,
           -0.0010703064035624266,
           0.026472896337509155,
           0.016977502033114433,
           -0.001931195380166173
          ],
          [
           -0.04872635751962662,
           0.020231712609529495,
           0.0460699126124382,
           -0.007382493000477552,
           0.030944066122174263,
           0.0012189060216769576,
           -0.007644639350473881,
           0.0000041943430915125646,
           0.2396773397922516,
           0.004898243583738804,
           0.051552072167396545,
           0.0001806563523132354,
           0.07792415469884872,
           -5.991918783365691e-7
          ],
          [
           0.011508379131555557,
           0.019435236230492592,
           0.1470903605222702,
           0.06443919241428375,
           0.2878607511520386,
           -0.02526717260479927,
           0.01767810620367527,
           -0.051193829625844955,
           0.3133264183998108,
           0.044289715588092804,
           0.29742011427879333,
           0.7734371423721313,
           -0.08142148703336716,
           -0.11892864108085632
          ],
          [
           -0.058362413197755814,
           0.21193626523017883,
           0.069671630859375,
           -0.30326536297798157,
           0.16184936463832855,
           0.025327689945697784,
           0.04148130491375923,
           0.05275045335292816,
           -0.023648153990507126,
           -0.06524023413658142,
           0.1674744337797165,
           -0.014607098884880543,
           0.010797587223351002,
           0.07030003517866135
          ],
          [
           0.3327191174030304,
           -0.2759450078010559,
           0.15996535122394562,
           0.19704005122184753,
           0.011387191712856293,
           -0.020420609042048454,
           0.04230578988790512,
           -0.01003331784158945,
           -0.003414195030927658,
           -0.02574053220450878,
           0.09209324419498444,
           0.043892454355955124,
           0.01634385623037815,
           0.005094029475003481
          ],
          [
           0.023969022557139397,
           -0.15719401836395264,
           0.23798838257789612,
           0.279571533203125,
           0.08217586576938629,
           0.02967677265405655,
           0.11312173306941986,
           0.025339974090456963,
           0.06890182197093964,
           0.022469544783234596,
           0.06140098720788956,
           0.0012789750471711159,
           0.08508104830980301,
           0.14284643530845642
          ],
          [
           0.03447240591049194,
           0.000059170193708268926,
           0.020482923835515976,
           -0.008074560202658176,
           0.0013400926254689693,
           0.06378127634525299,
           0.022457562386989594,
           0.31667888164520264,
           0.002586411777883768,
           0.02461150661110878,
           -0.12044183909893036,
           0.10497317463159561,
           0.056387100368738174,
           0.14247913658618927
          ],
          [
           -0.0033629643730819225,
           -0.0036176207941025496,
           0.0033941222354769707,
           -0.005761978682130575,
           -0.0010297112166881561,
           0.00011714200809365138,
           0.0004239282279741019,
           0.0015378257958218455,
           -0.004248569719493389,
           0.0034925397485494614,
           -0.001659461879171431,
           0.001462627318687737,
           0.009697170928120613,
           0.0008471074979752302
          ],
          [
           0.0011109017068520188,
           -0.01461144257336855,
           0.0020556775853037834,
           0.08141174912452698,
           0.003526693442836404,
           -0.005861444864422083,
           0.0052757347002625465,
           0.0028208454605191946,
           0.001351627055555582,
           -0.021111775189638138,
           0.0019061790080741048,
           0.004027168266475201,
           0.01377856731414795,
           0.002354973927140236
          ],
          [
           0.0034059560857713223,
           -0.007110160309821367,
           -0.008553613908588886,
           0.005252815317362547,
           0.0025561524089425802,
           0.02477298676967621,
           0.11255279928445816,
           -0.03924983739852905,
           -0.15500950813293457,
           0.0798405185341835,
           0.020018700510263443,
           0.15684625506401062,
           0.0077719674445688725,
           0.008352884091436863
          ],
          [
           -0.001935988781042397,
           -0.0019791307859122753,
           -0.004831583704799414,
           -0.002261949237436056,
           -0.001632648054510355,
           0.0005019729724153876,
           0.00009482211316935718,
           -0.11038882285356522,
           0.059025343507528305,
           1,
           -0.032429613173007965,
           0.004192096181213856,
           0.15517301857471466,
           0.013374860398471355
          ],
          [
           0.0020976208616048098,
           -0.002041746163740754,
           -0.0021218881011009216,
           -0.0012906593037769198,
           -0.001371100777760148,
           -8.98787845926563e-7,
           0.0005732767749577761,
           -0.002092078560963273,
           0.0001363161572953686,
           -0.001995009370148182,
           -0.003406555624678731,
           -0.00007699615525780246,
           0.004259205423295498,
           0.0005377747002057731
          ],
          [
           0.18886123597621918,
           0.03909921646118164,
           -0.06206773966550827,
           0.010549522005021572,
           0.03761741518974304,
           0.014141527004539967,
           -0.11084996163845062,
           0.0019523169612511992,
           -0.025252042338252068,
           0.01312724407762289,
           0.0035632443614304066,
           0.02771816775202751,
           0.0002912072523031384,
           0.015299764461815357
          ],
          [
           -0.08140508085489273,
           -0.034199025481939316,
           0.017451463267207146,
           0.008662966080009937,
           -0.01229242142289877,
           -0.0030404492281377316,
           0.003806815482676029,
           0.008517212234437466,
           0.003222603816539049,
           0.007487051654607058,
           0.00795427244156599,
           0.01397270429879427,
           0.06424730271100998,
           0.007414699997752905
          ]
         ]
        }
       ],
       "layout": {
        "coloraxis": {
         "cmid": 0,
         "colorbar": {
          "len": 1,
          "lenmode": "fraction",
          "thickness": 10,
          "thicknessmode": "pixels",
          "title": {
           "text": "𝑆"
          }
         },
         "colorscale": [
          [
           0,
           "rgb(103,0,31)"
          ],
          [
           0.1,
           "rgb(178,24,43)"
          ],
          [
           0.2,
           "rgb(214,96,77)"
          ],
          [
           0.3,
           "rgb(244,165,130)"
          ],
          [
           0.4,
           "rgb(253,219,199)"
          ],
          [
           0.5,
           "rgb(247,247,247)"
          ],
          [
           0.6,
           "rgb(209,229,240)"
          ],
          [
           0.7,
           "rgb(146,197,222)"
          ],
          [
           0.8,
           "rgb(67,147,195)"
          ],
          [
           0.9,
           "rgb(33,102,172)"
          ],
          [
           1,
           "rgb(5,48,97)"
          ]
         ]
        },
        "font": {
         "color": "black",
         "size": 12
        },
        "height": 300,
        "margin": {
         "b": 10,
         "l": 10,
         "r": 10,
         "t": 10
        },
        "template": {
         "data": {
          "bar": [
           {
            "error_x": {
             "color": "#2a3f5f"
            },
            "error_y": {
             "color": "#2a3f5f"
            },
            "marker": {
             "line": {
              "color": "#E5ECF6",
              "width": 0.5
             },
             "pattern": {
              "fillmode": "overlay",
              "size": 10,
              "solidity": 0.2
             }
            },
            "type": "bar"
           }
          ],
          "barpolar": [
           {
            "marker": {
             "line": {
              "color": "#E5ECF6",
              "width": 0.5
             },
             "pattern": {
              "fillmode": "overlay",
              "size": 10,
              "solidity": 0.2
             }
            },
            "type": "barpolar"
           }
          ],
          "carpet": [
           {
            "aaxis": {
             "endlinecolor": "#2a3f5f",
             "gridcolor": "white",
             "linecolor": "white",
             "minorgridcolor": "white",
             "startlinecolor": "#2a3f5f"
            },
            "baxis": {
             "endlinecolor": "#2a3f5f",
             "gridcolor": "white",
             "linecolor": "white",
             "minorgridcolor": "white",
             "startlinecolor": "#2a3f5f"
            },
            "type": "carpet"
           }
          ],
          "choropleth": [
           {
            "colorbar": {
             "outlinewidth": 0,
             "ticks": ""
            },
            "type": "choropleth"
           }
          ],
          "contour": [
           {
            "colorbar": {
             "outlinewidth": 0,
             "ticks": ""
            },
            "colorscale": [
             [
              0,
              "#0d0887"
             ],
             [
              0.1111111111111111,
              "#46039f"
             ],
             [
              0.2222222222222222,
              "#7201a8"
             ],
             [
              0.3333333333333333,
              "#9c179e"
             ],
             [
              0.4444444444444444,
              "#bd3786"
             ],
             [
              0.5555555555555556,
              "#d8576b"
             ],
             [
              0.6666666666666666,
              "#ed7953"
             ],
             [
              0.7777777777777778,
              "#fb9f3a"
             ],
             [
              0.8888888888888888,
              "#fdca26"
             ],
             [
              1,
              "#f0f921"
             ]
            ],
            "type": "contour"
           }
          ],
          "contourcarpet": [
           {
            "colorbar": {
             "outlinewidth": 0,
             "ticks": ""
            },
            "type": "contourcarpet"
           }
          ],
          "heatmap": [
           {
            "colorbar": {
             "outlinewidth": 0,
             "ticks": ""
            },
            "colorscale": [
             [
              0,
              "#0d0887"
             ],
             [
              0.1111111111111111,
              "#46039f"
             ],
             [
              0.2222222222222222,
              "#7201a8"
             ],
             [
              0.3333333333333333,
              "#9c179e"
             ],
             [
              0.4444444444444444,
              "#bd3786"
             ],
             [
              0.5555555555555556,
              "#d8576b"
             ],
             [
              0.6666666666666666,
              "#ed7953"
             ],
             [
              0.7777777777777778,
              "#fb9f3a"
             ],
             [
              0.8888888888888888,
              "#fdca26"
             ],
             [
              1,
              "#f0f921"
             ]
            ],
            "type": "heatmap"
           }
          ],
          "heatmapgl": [
           {
            "colorbar": {
             "outlinewidth": 0,
             "ticks": ""
            },
            "colorscale": [
             [
              0,
              "#0d0887"
             ],
             [
              0.1111111111111111,
              "#46039f"
             ],
             [
              0.2222222222222222,
              "#7201a8"
             ],
             [
              0.3333333333333333,
              "#9c179e"
             ],
             [
              0.4444444444444444,
              "#bd3786"
             ],
             [
              0.5555555555555556,
              "#d8576b"
             ],
             [
              0.6666666666666666,
              "#ed7953"
             ],
             [
              0.7777777777777778,
              "#fb9f3a"
             ],
             [
              0.8888888888888888,
              "#fdca26"
             ],
             [
              1,
              "#f0f921"
             ]
            ],
            "type": "heatmapgl"
           }
          ],
          "histogram": [
           {
            "marker": {
             "pattern": {
              "fillmode": "overlay",
              "size": 10,
              "solidity": 0.2
             }
            },
            "type": "histogram"
           }
          ],
          "histogram2d": [
           {
            "colorbar": {
             "outlinewidth": 0,
             "ticks": ""
            },
            "colorscale": [
             [
              0,
              "#0d0887"
             ],
             [
              0.1111111111111111,
              "#46039f"
             ],
             [
              0.2222222222222222,
              "#7201a8"
             ],
             [
              0.3333333333333333,
              "#9c179e"
             ],
             [
              0.4444444444444444,
              "#bd3786"
             ],
             [
              0.5555555555555556,
              "#d8576b"
             ],
             [
              0.6666666666666666,
              "#ed7953"
             ],
             [
              0.7777777777777778,
              "#fb9f3a"
             ],
             [
              0.8888888888888888,
              "#fdca26"
             ],
             [
              1,
              "#f0f921"
             ]
            ],
            "type": "histogram2d"
           }
          ],
          "histogram2dcontour": [
           {
            "colorbar": {
             "outlinewidth": 0,
             "ticks": ""
            },
            "colorscale": [
             [
              0,
              "#0d0887"
             ],
             [
              0.1111111111111111,
              "#46039f"
             ],
             [
              0.2222222222222222,
              "#7201a8"
             ],
             [
              0.3333333333333333,
              "#9c179e"
             ],
             [
              0.4444444444444444,
              "#bd3786"
             ],
             [
              0.5555555555555556,
              "#d8576b"
             ],
             [
              0.6666666666666666,
              "#ed7953"
             ],
             [
              0.7777777777777778,
              "#fb9f3a"
             ],
             [
              0.8888888888888888,
              "#fdca26"
             ],
             [
              1,
              "#f0f921"
             ]
            ],
            "type": "histogram2dcontour"
           }
          ],
          "mesh3d": [
           {
            "colorbar": {
             "outlinewidth": 0,
             "ticks": ""
            },
            "type": "mesh3d"
           }
          ],
          "parcoords": [
           {
            "line": {
             "colorbar": {
              "outlinewidth": 0,
              "ticks": ""
             }
            },
            "type": "parcoords"
           }
          ],
          "pie": [
           {
            "automargin": true,
            "type": "pie"
           }
          ],
          "scatter": [
           {
            "fillpattern": {
             "fillmode": "overlay",
             "size": 10,
             "solidity": 0.2
            },
            "type": "scatter"
           }
          ],
          "scatter3d": [
           {
            "line": {
             "colorbar": {
              "outlinewidth": 0,
              "ticks": ""
             }
            },
            "marker": {
             "colorbar": {
              "outlinewidth": 0,
              "ticks": ""
             }
            },
            "type": "scatter3d"
           }
          ],
          "scattercarpet": [
           {
            "marker": {
             "colorbar": {
              "outlinewidth": 0,
              "ticks": ""
             }
            },
            "type": "scattercarpet"
           }
          ],
          "scattergeo": [
           {
            "marker": {
             "colorbar": {
              "outlinewidth": 0,
              "ticks": ""
             }
            },
            "type": "scattergeo"
           }
          ],
          "scattergl": [
           {
            "marker": {
             "colorbar": {
              "outlinewidth": 0,
              "ticks": ""
             }
            },
            "type": "scattergl"
           }
          ],
          "scattermapbox": [
           {
            "marker": {
             "colorbar": {
              "outlinewidth": 0,
              "ticks": ""
             }
            },
            "type": "scattermapbox"
           }
          ],
          "scatterpolar": [
           {
            "marker": {
             "colorbar": {
              "outlinewidth": 0,
              "ticks": ""
             }
            },
            "type": "scatterpolar"
           }
          ],
          "scatterpolargl": [
           {
            "marker": {
             "colorbar": {
              "outlinewidth": 0,
              "ticks": ""
             }
            },
            "type": "scatterpolargl"
           }
          ],
          "scatterternary": [
           {
            "marker": {
             "colorbar": {
              "outlinewidth": 0,
              "ticks": ""
             }
            },
            "type": "scatterternary"
           }
          ],
          "surface": [
           {
            "colorbar": {
             "outlinewidth": 0,
             "ticks": ""
            },
            "colorscale": [
             [
              0,
              "#0d0887"
             ],
             [
              0.1111111111111111,
              "#46039f"
             ],
             [
              0.2222222222222222,
              "#7201a8"
             ],
             [
              0.3333333333333333,
              "#9c179e"
             ],
             [
              0.4444444444444444,
              "#bd3786"
             ],
             [
              0.5555555555555556,
              "#d8576b"
             ],
             [
              0.6666666666666666,
              "#ed7953"
             ],
             [
              0.7777777777777778,
              "#fb9f3a"
             ],
             [
              0.8888888888888888,
              "#fdca26"
             ],
             [
              1,
              "#f0f921"
             ]
            ],
            "type": "surface"
           }
          ],
          "table": [
           {
            "cells": {
             "fill": {
              "color": "#EBF0F8"
             },
             "line": {
              "color": "white"
             }
            },
            "header": {
             "fill": {
              "color": "#C8D4E3"
             },
             "line": {
              "color": "white"
             }
            },
            "type": "table"
           }
          ]
         },
         "layout": {
          "annotationdefaults": {
           "arrowcolor": "#2a3f5f",
           "arrowhead": 0,
           "arrowwidth": 1
          },
          "autotypenumbers": "strict",
          "coloraxis": {
           "colorbar": {
            "outlinewidth": 0,
            "ticks": ""
           }
          },
          "colorscale": {
           "diverging": [
            [
             0,
             "#8e0152"
            ],
            [
             0.1,
             "#c51b7d"
            ],
            [
             0.2,
             "#de77ae"
            ],
            [
             0.3,
             "#f1b6da"
            ],
            [
             0.4,
             "#fde0ef"
            ],
            [
             0.5,
             "#f7f7f7"
            ],
            [
             0.6,
             "#e6f5d0"
            ],
            [
             0.7,
             "#b8e186"
            ],
            [
             0.8,
             "#7fbc41"
            ],
            [
             0.9,
             "#4d9221"
            ],
            [
             1,
             "#276419"
            ]
           ],
           "sequential": [
            [
             0,
             "#0d0887"
            ],
            [
             0.1111111111111111,
             "#46039f"
            ],
            [
             0.2222222222222222,
             "#7201a8"
            ],
            [
             0.3333333333333333,
             "#9c179e"
            ],
            [
             0.4444444444444444,
             "#bd3786"
            ],
            [
             0.5555555555555556,
             "#d8576b"
            ],
            [
             0.6666666666666666,
             "#ed7953"
            ],
            [
             0.7777777777777778,
             "#fb9f3a"
            ],
            [
             0.8888888888888888,
             "#fdca26"
            ],
            [
             1,
             "#f0f921"
            ]
           ],
           "sequentialminus": [
            [
             0,
             "#0d0887"
            ],
            [
             0.1111111111111111,
             "#46039f"
            ],
            [
             0.2222222222222222,
             "#7201a8"
            ],
            [
             0.3333333333333333,
             "#9c179e"
            ],
            [
             0.4444444444444444,
             "#bd3786"
            ],
            [
             0.5555555555555556,
             "#d8576b"
            ],
            [
             0.6666666666666666,
             "#ed7953"
            ],
            [
             0.7777777777777778,
             "#fb9f3a"
            ],
            [
             0.8888888888888888,
             "#fdca26"
            ],
            [
             1,
             "#f0f921"
            ]
           ]
          },
          "colorway": [
           "#636efa",
           "#EF553B",
           "#00cc96",
           "#ab63fa",
           "#FFA15A",
           "#19d3f3",
           "#FF6692",
           "#B6E880",
           "#FF97FF",
           "#FECB52"
          ],
          "font": {
           "color": "#2a3f5f"
          },
          "geo": {
           "bgcolor": "white",
           "lakecolor": "white",
           "landcolor": "#E5ECF6",
           "showlakes": true,
           "showland": true,
           "subunitcolor": "white"
          },
          "hoverlabel": {
           "align": "left"
          },
          "hovermode": "closest",
          "mapbox": {
           "style": "light"
          },
          "paper_bgcolor": "white",
          "plot_bgcolor": "#E5ECF6",
          "polar": {
           "angularaxis": {
            "gridcolor": "white",
            "linecolor": "white",
            "ticks": ""
           },
           "bgcolor": "#E5ECF6",
           "radialaxis": {
            "gridcolor": "white",
            "linecolor": "white",
            "ticks": ""
           }
          },
          "scene": {
           "xaxis": {
            "backgroundcolor": "#E5ECF6",
            "gridcolor": "white",
            "gridwidth": 2,
            "linecolor": "white",
            "showbackground": true,
            "ticks": "",
            "zerolinecolor": "white"
           },
           "yaxis": {
            "backgroundcolor": "#E5ECF6",
            "gridcolor": "white",
            "gridwidth": 2,
            "linecolor": "white",
            "showbackground": true,
            "ticks": "",
            "zerolinecolor": "white"
           },
           "zaxis": {
            "backgroundcolor": "#E5ECF6",
            "gridcolor": "white",
            "gridwidth": 2,
            "linecolor": "white",
            "showbackground": true,
            "ticks": "",
            "zerolinecolor": "white"
           }
          },
          "shapedefaults": {
           "line": {
            "color": "#2a3f5f"
           }
          },
          "ternary": {
           "aaxis": {
            "gridcolor": "white",
            "linecolor": "white",
            "ticks": ""
           },
           "baxis": {
            "gridcolor": "white",
            "linecolor": "white",
            "ticks": ""
           },
           "bgcolor": "#E5ECF6",
           "caxis": {
            "gridcolor": "white",
            "linecolor": "white",
            "ticks": ""
           }
          },
          "title": {
           "x": 0.05
          },
          "xaxis": {
           "automargin": true,
           "gridcolor": "white",
           "linecolor": "white",
           "ticks": "",
           "title": {
            "standoff": 15
           },
           "zerolinecolor": "white",
           "zerolinewidth": 2
          },
          "yaxis": {
           "automargin": true,
           "gridcolor": "white",
           "linecolor": "white",
           "ticks": "",
           "title": {
            "standoff": 15
           },
           "zerolinecolor": "white",
           "zerolinewidth": 2
          }
         }
        },
        "title": {
         "font": {
          "size": 14
         }
        },
        "width": 300,
        "xaxis": {
         "anchor": "y",
         "constrain": "domain",
         "domain": [
          0,
          1
         ],
         "linecolor": "black",
         "linewidth": 1,
         "mirror": true,
         "scaleanchor": "y",
         "showline": true,
         "tickcolor": "black",
         "ticks": "outside",
         "tickwidth": 1,
         "title": {}
        },
        "yaxis": {
         "anchor": "x",
         "autorange": "reversed",
         "constrain": "domain",
         "domain": [
          0,
          1
         ],
         "linecolor": "black",
         "linewidth": 1,
         "mirror": true,
         "showline": true,
         "tickcolor": "black",
         "ticks": "outside",
         "tickwidth": 1,
         "title": {}
        }
       }
      }
     },
     "metadata": {},
     "output_type": "display_data"
    }
   ],
   "source": [
    "pu.plot_attn(h.normalise_tensor(s_attn_denoising), labels, image_dir / \"symbolic_denoising.png\")"
   ]
  },
  {
   "cell_type": "markdown",
   "metadata": {
    "id": "-FyRI_VDabVY"
   },
   "source": [
    "### Figure 4(b) residual stream patching"
   ]
  },
  {
   "cell_type": "code",
   "execution_count": 16,
   "metadata": {
    "colab": {
     "base_uri": "https://localhost:8080/"
    },
    "id": "gQRB1BIxabVY",
    "outputId": "19b5d278-641d-477c-fe85-01358b16114d"
   },
   "outputs": [
    {
     "name": "stderr",
     "output_type": "stream",
     "text": [
      "100%|██████████| 24/24 [03:47<00:00,  9.49s/it]\n"
     ]
    }
   ],
   "source": [
    "s_resid_denoising = h.patching_residual(model, s_corrupted_tokens, s_clean_cache, h.metric_denoising, s_answer_tokens, s_clean_logit_diff, s_corrupted_logit_diff, device)"
   ]
  },
  {
   "cell_type": "code",
   "execution_count": 18,
   "metadata": {
    "colab": {
     "base_uri": "https://localhost:8080/",
     "height": 317
    },
    "id": "wy79ji4oabVY",
    "outputId": "52dc49ef-0bef-4af6-a269-d2661f87d739"
   },
   "outputs": [
    {
     "name": "stdout",
     "output_type": "stream",
     "text": [
      "Plot saved to ../images/Qwen/Qwen2.5-0.5B-Instruct/symbolic_residual.png\n"
     ]
    },
    {
     "data": {
      "application/vnd.plotly.v1+json": {
       "config": {
        "plotlyServerURL": "https://plot.ly"
       },
       "data": [
        {
         "coloraxis": "coloraxis",
         "hovertemplate": "Layer: %{x}<br>Sequence Position: %{y}<br>color: %{z}<extra></extra>",
         "name": "0",
         "type": "heatmap",
         "xaxis": "x",
         "y": [
          "BEGIN",
          "s_1",
          "s_1 -> m_1",
          "m_1",
          "m_1 -> m_2",
          "m_2",
          "m_2 -> p",
          "p",
          "p -> s_2",
          "s_2",
          "END"
         ],
         "yaxis": "y",
         "z": [
          [
           0,
           0,
           0,
           0,
           0,
           0,
           0,
           0,
           0,
           0,
           0,
           0,
           0,
           0,
           0,
           0,
           0,
           0,
           0,
           0,
           0,
           0,
           0,
           0
          ],
          [
           0,
           0,
           0,
           0,
           0,
           0,
           0,
           0,
           0,
           0,
           0,
           0,
           0,
           0,
           0,
           0,
           0,
           0,
           0,
           0,
           0,
           0,
           0,
           0
          ],
          [
           0,
           0,
           0,
           0,
           0,
           0,
           0,
           0,
           0,
           0,
           0,
           0,
           0,
           0,
           0,
           0,
           0,
           0,
           0,
           0,
           0,
           0,
           0,
           0
          ],
          [
           0,
           0,
           0,
           0,
           0,
           0,
           0,
           0,
           0,
           0,
           0,
           0,
           0,
           0,
           0,
           0,
           0,
           0,
           0,
           0,
           0,
           0,
           0,
           0
          ],
          [
           0,
           0,
           0,
           0,
           0,
           0,
           0,
           0,
           0,
           0,
           0,
           0,
           0,
           0,
           0,
           0,
           0,
           0,
           0,
           0,
           0,
           0,
           0,
           0
          ],
          [
           0.9715407490730286,
           0.9769501686096191,
           0.9969846606254578,
           1,
           0.9575421214103699,
           0.9460002779960632,
           0.9389656186103821,
           0.9212498664855957,
           0.8527525663375854,
           0.8342641592025757,
           0.7244255542755127,
           0.6945153474807739,
           0.32245928049087524,
           0.28417229652404785,
           0.24888354539871216,
           0.12269346415996552,
           0.13787144422531128,
           0.1364184319972992,
           0.14308945834636688,
           0.14162981510162354,
           0.03469408303499222,
           0.03480686992406845,
           0.000396628282032907,
           0
          ],
          [
           0.0013847686350345612,
           -0.002863456029444933,
           -0.009962434880435467,
           -0.010075128637254238,
           0.01399904116988182,
           0.005125479772686958,
           0.01705724187195301,
           0.021846264600753784,
           0.12988829612731934,
           0.08142135292291641,
           0.1773756444454193,
           0.1427982747554779,
           0.18145202100276947,
           0.11054298281669617,
           0.08779995143413544,
           0.03194693475961685,
           0.03566984459757805,
           0.03620021045207977,
           0.0297906044870615,
           0.007835634052753448,
           0.013650020584464073,
           0.014105523005127907,
           0.009007949382066727,
           0
          ],
          [
           -0.0038859001360833645,
           -0.0036894867662340403,
           -0.01364473719149828,
           -0.014178325422108173,
           -0.010807889513671398,
           -0.01092702616006136,
           -0.008465297520160675,
           0.0018473624950274825,
           -0.010221986100077629,
           -0.01811799965798855,
           0.00468726921826601,
           -0.00923143606632948,
           0.029289860278367996,
           0.061041586101055145,
           0.09301229566335678,
           0.12083103507757187,
           0.053925178945064545,
           0.057176269590854645,
           0.061161696910858154,
           0.04591765254735947,
           0.041060760617256165,
           0.040373846888542175,
           0.027935823425650597,
           0
          ],
          [
           -0.0002018836239585653,
           -0.00037660219823010266,
           -0.0003151794953737408,
           -0.00027239223709329963,
           0.00039551572990603745,
           -0.0019286259775981307,
           -0.0010719997808337212,
           0.0004212437488604337,
           0.005169472191482782,
           0.009921548888087273,
           0.009523482993245125,
           0.01079375110566616,
           0.012178797274827957,
           0.006697019562125206,
           0.013810878619551659,
           0.005664469208568335,
           0.008025743067264557,
           0.008808059617877007,
           0.003539059078320861,
           -0.0005651814281009138,
           -0.00046913023106753826,
           -0.0007507010595872998,
           -0.0002064729342237115,
           0
          ],
          [
           -0.00018366541189607233,
           -0.0005662476178258657,
           -0.00006610471609747037,
           -0.00039268797263503075,
           0.0006591001874767244,
           -0.0003823040460702032,
           -0.0076219760812819,
           0.011277575045824051,
           0.01941610500216484,
           0.07766256481409073,
           0.10685901343822479,
           0.14315088093280792,
           0.2055233120918274,
           0.20323903858661652,
           0.06405505537986755,
           0.023829080164432526,
           0.022218555212020874,
           0.02204708196222782,
           0.01574631966650486,
           -0.0014063708949834108,
           -0.0009380750707350671,
           -0.000024430004486930557,
           -0.0004985667765140533,
           0
          ],
          [
           -0.00009920343291014433,
           -0.00009540218161419034,
           -0.0008608447387814522,
           -0.001645849784836173,
           -0.0007898725452832878,
           0.010988819412887096,
           0.01050837803632021,
           0.0005617046263068914,
           0.006002502981573343,
           0.007331040687859058,
           0.04689689353108406,
           0.05561631917953491,
           0.20239883661270142,
           0.2839567959308624,
           0.4111081063747406,
           0.5990195870399475,
           0.6351606845855713,
           0.6317775845527649,
           0.6445001363754272,
           0.7603194713592529,
           0.9415608048439026,
           0.9444319605827332,
           0.9460901618003845,
           0.9662594199180603
          ]
         ]
        }
       ],
       "layout": {
        "coloraxis": {
         "cmid": 0,
         "colorbar": {
          "len": 1,
          "lenmode": "fraction",
          "thickness": 10,
          "thicknessmode": "pixels",
          "title": {}
         },
         "colorscale": [
          [
           0,
           "rgb(103,0,31)"
          ],
          [
           0.1,
           "rgb(178,24,43)"
          ],
          [
           0.2,
           "rgb(214,96,77)"
          ],
          [
           0.3,
           "rgb(244,165,130)"
          ],
          [
           0.4,
           "rgb(253,219,199)"
          ],
          [
           0.5,
           "rgb(247,247,247)"
          ],
          [
           0.6,
           "rgb(209,229,240)"
          ],
          [
           0.7,
           "rgb(146,197,222)"
          ],
          [
           0.8,
           "rgb(67,147,195)"
          ],
          [
           0.9,
           "rgb(33,102,172)"
          ],
          [
           1,
           "rgb(5,48,97)"
          ]
         ]
        },
        "font": {
         "color": "black",
         "size": 12
        },
        "height": 300,
        "margin": {
         "b": 20,
         "l": 10,
         "r": 10,
         "t": 20
        },
        "template": {
         "data": {
          "bar": [
           {
            "error_x": {
             "color": "#2a3f5f"
            },
            "error_y": {
             "color": "#2a3f5f"
            },
            "marker": {
             "line": {
              "color": "#E5ECF6",
              "width": 0.5
             },
             "pattern": {
              "fillmode": "overlay",
              "size": 10,
              "solidity": 0.2
             }
            },
            "type": "bar"
           }
          ],
          "barpolar": [
           {
            "marker": {
             "line": {
              "color": "#E5ECF6",
              "width": 0.5
             },
             "pattern": {
              "fillmode": "overlay",
              "size": 10,
              "solidity": 0.2
             }
            },
            "type": "barpolar"
           }
          ],
          "carpet": [
           {
            "aaxis": {
             "endlinecolor": "#2a3f5f",
             "gridcolor": "white",
             "linecolor": "white",
             "minorgridcolor": "white",
             "startlinecolor": "#2a3f5f"
            },
            "baxis": {
             "endlinecolor": "#2a3f5f",
             "gridcolor": "white",
             "linecolor": "white",
             "minorgridcolor": "white",
             "startlinecolor": "#2a3f5f"
            },
            "type": "carpet"
           }
          ],
          "choropleth": [
           {
            "colorbar": {
             "outlinewidth": 0,
             "ticks": ""
            },
            "type": "choropleth"
           }
          ],
          "contour": [
           {
            "colorbar": {
             "outlinewidth": 0,
             "ticks": ""
            },
            "colorscale": [
             [
              0,
              "#0d0887"
             ],
             [
              0.1111111111111111,
              "#46039f"
             ],
             [
              0.2222222222222222,
              "#7201a8"
             ],
             [
              0.3333333333333333,
              "#9c179e"
             ],
             [
              0.4444444444444444,
              "#bd3786"
             ],
             [
              0.5555555555555556,
              "#d8576b"
             ],
             [
              0.6666666666666666,
              "#ed7953"
             ],
             [
              0.7777777777777778,
              "#fb9f3a"
             ],
             [
              0.8888888888888888,
              "#fdca26"
             ],
             [
              1,
              "#f0f921"
             ]
            ],
            "type": "contour"
           }
          ],
          "contourcarpet": [
           {
            "colorbar": {
             "outlinewidth": 0,
             "ticks": ""
            },
            "type": "contourcarpet"
           }
          ],
          "heatmap": [
           {
            "colorbar": {
             "outlinewidth": 0,
             "ticks": ""
            },
            "colorscale": [
             [
              0,
              "#0d0887"
             ],
             [
              0.1111111111111111,
              "#46039f"
             ],
             [
              0.2222222222222222,
              "#7201a8"
             ],
             [
              0.3333333333333333,
              "#9c179e"
             ],
             [
              0.4444444444444444,
              "#bd3786"
             ],
             [
              0.5555555555555556,
              "#d8576b"
             ],
             [
              0.6666666666666666,
              "#ed7953"
             ],
             [
              0.7777777777777778,
              "#fb9f3a"
             ],
             [
              0.8888888888888888,
              "#fdca26"
             ],
             [
              1,
              "#f0f921"
             ]
            ],
            "type": "heatmap"
           }
          ],
          "heatmapgl": [
           {
            "colorbar": {
             "outlinewidth": 0,
             "ticks": ""
            },
            "colorscale": [
             [
              0,
              "#0d0887"
             ],
             [
              0.1111111111111111,
              "#46039f"
             ],
             [
              0.2222222222222222,
              "#7201a8"
             ],
             [
              0.3333333333333333,
              "#9c179e"
             ],
             [
              0.4444444444444444,
              "#bd3786"
             ],
             [
              0.5555555555555556,
              "#d8576b"
             ],
             [
              0.6666666666666666,
              "#ed7953"
             ],
             [
              0.7777777777777778,
              "#fb9f3a"
             ],
             [
              0.8888888888888888,
              "#fdca26"
             ],
             [
              1,
              "#f0f921"
             ]
            ],
            "type": "heatmapgl"
           }
          ],
          "histogram": [
           {
            "marker": {
             "pattern": {
              "fillmode": "overlay",
              "size": 10,
              "solidity": 0.2
             }
            },
            "type": "histogram"
           }
          ],
          "histogram2d": [
           {
            "colorbar": {
             "outlinewidth": 0,
             "ticks": ""
            },
            "colorscale": [
             [
              0,
              "#0d0887"
             ],
             [
              0.1111111111111111,
              "#46039f"
             ],
             [
              0.2222222222222222,
              "#7201a8"
             ],
             [
              0.3333333333333333,
              "#9c179e"
             ],
             [
              0.4444444444444444,
              "#bd3786"
             ],
             [
              0.5555555555555556,
              "#d8576b"
             ],
             [
              0.6666666666666666,
              "#ed7953"
             ],
             [
              0.7777777777777778,
              "#fb9f3a"
             ],
             [
              0.8888888888888888,
              "#fdca26"
             ],
             [
              1,
              "#f0f921"
             ]
            ],
            "type": "histogram2d"
           }
          ],
          "histogram2dcontour": [
           {
            "colorbar": {
             "outlinewidth": 0,
             "ticks": ""
            },
            "colorscale": [
             [
              0,
              "#0d0887"
             ],
             [
              0.1111111111111111,
              "#46039f"
             ],
             [
              0.2222222222222222,
              "#7201a8"
             ],
             [
              0.3333333333333333,
              "#9c179e"
             ],
             [
              0.4444444444444444,
              "#bd3786"
             ],
             [
              0.5555555555555556,
              "#d8576b"
             ],
             [
              0.6666666666666666,
              "#ed7953"
             ],
             [
              0.7777777777777778,
              "#fb9f3a"
             ],
             [
              0.8888888888888888,
              "#fdca26"
             ],
             [
              1,
              "#f0f921"
             ]
            ],
            "type": "histogram2dcontour"
           }
          ],
          "mesh3d": [
           {
            "colorbar": {
             "outlinewidth": 0,
             "ticks": ""
            },
            "type": "mesh3d"
           }
          ],
          "parcoords": [
           {
            "line": {
             "colorbar": {
              "outlinewidth": 0,
              "ticks": ""
             }
            },
            "type": "parcoords"
           }
          ],
          "pie": [
           {
            "automargin": true,
            "type": "pie"
           }
          ],
          "scatter": [
           {
            "fillpattern": {
             "fillmode": "overlay",
             "size": 10,
             "solidity": 0.2
            },
            "type": "scatter"
           }
          ],
          "scatter3d": [
           {
            "line": {
             "colorbar": {
              "outlinewidth": 0,
              "ticks": ""
             }
            },
            "marker": {
             "colorbar": {
              "outlinewidth": 0,
              "ticks": ""
             }
            },
            "type": "scatter3d"
           }
          ],
          "scattercarpet": [
           {
            "marker": {
             "colorbar": {
              "outlinewidth": 0,
              "ticks": ""
             }
            },
            "type": "scattercarpet"
           }
          ],
          "scattergeo": [
           {
            "marker": {
             "colorbar": {
              "outlinewidth": 0,
              "ticks": ""
             }
            },
            "type": "scattergeo"
           }
          ],
          "scattergl": [
           {
            "marker": {
             "colorbar": {
              "outlinewidth": 0,
              "ticks": ""
             }
            },
            "type": "scattergl"
           }
          ],
          "scattermapbox": [
           {
            "marker": {
             "colorbar": {
              "outlinewidth": 0,
              "ticks": ""
             }
            },
            "type": "scattermapbox"
           }
          ],
          "scatterpolar": [
           {
            "marker": {
             "colorbar": {
              "outlinewidth": 0,
              "ticks": ""
             }
            },
            "type": "scatterpolar"
           }
          ],
          "scatterpolargl": [
           {
            "marker": {
             "colorbar": {
              "outlinewidth": 0,
              "ticks": ""
             }
            },
            "type": "scatterpolargl"
           }
          ],
          "scatterternary": [
           {
            "marker": {
             "colorbar": {
              "outlinewidth": 0,
              "ticks": ""
             }
            },
            "type": "scatterternary"
           }
          ],
          "surface": [
           {
            "colorbar": {
             "outlinewidth": 0,
             "ticks": ""
            },
            "colorscale": [
             [
              0,
              "#0d0887"
             ],
             [
              0.1111111111111111,
              "#46039f"
             ],
             [
              0.2222222222222222,
              "#7201a8"
             ],
             [
              0.3333333333333333,
              "#9c179e"
             ],
             [
              0.4444444444444444,
              "#bd3786"
             ],
             [
              0.5555555555555556,
              "#d8576b"
             ],
             [
              0.6666666666666666,
              "#ed7953"
             ],
             [
              0.7777777777777778,
              "#fb9f3a"
             ],
             [
              0.8888888888888888,
              "#fdca26"
             ],
             [
              1,
              "#f0f921"
             ]
            ],
            "type": "surface"
           }
          ],
          "table": [
           {
            "cells": {
             "fill": {
              "color": "#EBF0F8"
             },
             "line": {
              "color": "white"
             }
            },
            "header": {
             "fill": {
              "color": "#C8D4E3"
             },
             "line": {
              "color": "white"
             }
            },
            "type": "table"
           }
          ]
         },
         "layout": {
          "annotationdefaults": {
           "arrowcolor": "#2a3f5f",
           "arrowhead": 0,
           "arrowwidth": 1
          },
          "autotypenumbers": "strict",
          "coloraxis": {
           "colorbar": {
            "outlinewidth": 0,
            "ticks": ""
           }
          },
          "colorscale": {
           "diverging": [
            [
             0,
             "#8e0152"
            ],
            [
             0.1,
             "#c51b7d"
            ],
            [
             0.2,
             "#de77ae"
            ],
            [
             0.3,
             "#f1b6da"
            ],
            [
             0.4,
             "#fde0ef"
            ],
            [
             0.5,
             "#f7f7f7"
            ],
            [
             0.6,
             "#e6f5d0"
            ],
            [
             0.7,
             "#b8e186"
            ],
            [
             0.8,
             "#7fbc41"
            ],
            [
             0.9,
             "#4d9221"
            ],
            [
             1,
             "#276419"
            ]
           ],
           "sequential": [
            [
             0,
             "#0d0887"
            ],
            [
             0.1111111111111111,
             "#46039f"
            ],
            [
             0.2222222222222222,
             "#7201a8"
            ],
            [
             0.3333333333333333,
             "#9c179e"
            ],
            [
             0.4444444444444444,
             "#bd3786"
            ],
            [
             0.5555555555555556,
             "#d8576b"
            ],
            [
             0.6666666666666666,
             "#ed7953"
            ],
            [
             0.7777777777777778,
             "#fb9f3a"
            ],
            [
             0.8888888888888888,
             "#fdca26"
            ],
            [
             1,
             "#f0f921"
            ]
           ],
           "sequentialminus": [
            [
             0,
             "#0d0887"
            ],
            [
             0.1111111111111111,
             "#46039f"
            ],
            [
             0.2222222222222222,
             "#7201a8"
            ],
            [
             0.3333333333333333,
             "#9c179e"
            ],
            [
             0.4444444444444444,
             "#bd3786"
            ],
            [
             0.5555555555555556,
             "#d8576b"
            ],
            [
             0.6666666666666666,
             "#ed7953"
            ],
            [
             0.7777777777777778,
             "#fb9f3a"
            ],
            [
             0.8888888888888888,
             "#fdca26"
            ],
            [
             1,
             "#f0f921"
            ]
           ]
          },
          "colorway": [
           "#636efa",
           "#EF553B",
           "#00cc96",
           "#ab63fa",
           "#FFA15A",
           "#19d3f3",
           "#FF6692",
           "#B6E880",
           "#FF97FF",
           "#FECB52"
          ],
          "font": {
           "color": "#2a3f5f"
          },
          "geo": {
           "bgcolor": "white",
           "lakecolor": "white",
           "landcolor": "#E5ECF6",
           "showlakes": true,
           "showland": true,
           "subunitcolor": "white"
          },
          "hoverlabel": {
           "align": "left"
          },
          "hovermode": "closest",
          "mapbox": {
           "style": "light"
          },
          "paper_bgcolor": "white",
          "plot_bgcolor": "#E5ECF6",
          "polar": {
           "angularaxis": {
            "gridcolor": "white",
            "linecolor": "white",
            "ticks": ""
           },
           "bgcolor": "#E5ECF6",
           "radialaxis": {
            "gridcolor": "white",
            "linecolor": "white",
            "ticks": ""
           }
          },
          "scene": {
           "xaxis": {
            "backgroundcolor": "#E5ECF6",
            "gridcolor": "white",
            "gridwidth": 2,
            "linecolor": "white",
            "showbackground": true,
            "ticks": "",
            "zerolinecolor": "white"
           },
           "yaxis": {
            "backgroundcolor": "#E5ECF6",
            "gridcolor": "white",
            "gridwidth": 2,
            "linecolor": "white",
            "showbackground": true,
            "ticks": "",
            "zerolinecolor": "white"
           },
           "zaxis": {
            "backgroundcolor": "#E5ECF6",
            "gridcolor": "white",
            "gridwidth": 2,
            "linecolor": "white",
            "showbackground": true,
            "ticks": "",
            "zerolinecolor": "white"
           }
          },
          "shapedefaults": {
           "line": {
            "color": "#2a3f5f"
           }
          },
          "ternary": {
           "aaxis": {
            "gridcolor": "white",
            "linecolor": "white",
            "ticks": ""
           },
           "baxis": {
            "gridcolor": "white",
            "linecolor": "white",
            "ticks": ""
           },
           "bgcolor": "#E5ECF6",
           "caxis": {
            "gridcolor": "white",
            "linecolor": "white",
            "ticks": ""
           }
          },
          "title": {
           "x": 0.05
          },
          "xaxis": {
           "automargin": true,
           "gridcolor": "white",
           "linecolor": "white",
           "ticks": "",
           "title": {
            "standoff": 15
           },
           "zerolinecolor": "white",
           "zerolinewidth": 2
          },
          "yaxis": {
           "automargin": true,
           "gridcolor": "white",
           "linecolor": "white",
           "ticks": "",
           "title": {
            "standoff": 15
           },
           "zerolinecolor": "white",
           "zerolinewidth": 2
          }
         }
        },
        "title": {
         "font": {
          "size": 14
         }
        },
        "width": 400,
        "xaxis": {
         "anchor": "y",
         "constrain": "domain",
         "domain": [
          0,
          1
         ],
         "linecolor": "black",
         "linewidth": 1,
         "mirror": true,
         "scaleanchor": "y",
         "showline": true,
         "showticklabels": true,
         "tickmode": "array",
         "ticks": "",
         "title": {}
        },
        "yaxis": {
         "anchor": "x",
         "autorange": "reversed",
         "constrain": "domain",
         "domain": [
          0,
          1
         ],
         "linecolor": "black",
         "linewidth": 1,
         "mirror": true,
         "showline": true,
         "showticklabels": true,
         "tickmode": "array",
         "ticks": "",
         "ticktext": [
          "BEGIN",
          "s_1",
          "s_1 -> m_1",
          "m_1",
          "m_1 -> m_2",
          "m_2",
          "m_2 -> p",
          "p",
          "p -> s_2",
          "s_2",
          "END"
         ],
         "tickvals": [
          0,
          1,
          2,
          3,
          4,
          5,
          6,
          7,
          8,
          9,
          10
         ],
         "title": {}
        }
       }
      }
     },
     "metadata": {},
     "output_type": "display_data"
    }
   ],
   "source": [
    "pu.plot_residual(h.normalise_tensor(h.resize_all(s_resid_denoising)), labels, image_dir / \"symbolic_residual.png\")"
   ]
  },
  {
   "cell_type": "markdown",
   "metadata": {
    "id": "4apldPBlabVY"
   },
   "source": [
    "### Figure 4(c) OV logit lens"
   ]
  },
  {
   "cell_type": "code",
   "execution_count": 19,
   "metadata": {
    "id": "KJT50iL3abVY"
   },
   "outputs": [],
   "source": [
    "token_alpha = model.to_tokens(ALPHABET_LIST, prepend_bos=False).to(device)\n",
    "token_alpha = [ element[0].item() for element in token_alpha ]"
   ]
  },
  {
   "cell_type": "code",
   "execution_count": 20,
   "metadata": {
    "id": "n2_prGlwabVY"
   },
   "outputs": [],
   "source": [
    "deductive_head_ov = model.OV\n",
    "ev = model.W_E\n",
    "uev = model.W_U\n",
    "ov_circuit = ev.cpu()[token_alpha, : ] @ deductive_head_ov.AB.cpu() @ uev.cpu()[:, token_alpha]"
   ]
  },
  {
   "cell_type": "code",
   "execution_count": 21,
   "metadata": {
    "colab": {
     "base_uri": "https://localhost:8080/",
     "height": 317
    },
    "id": "ecTqHJM-abVY",
    "outputId": "0b9d0bc6-c4e8-43fd-8411-80b8f8da4e23"
   },
   "outputs": [
    {
     "name": "stdout",
     "output_type": "stream",
     "text": [
      "Plot saved to ../images/Qwen/Qwen2.5-0.5B-Instruct/symbolic_ov_circuit.png\n"
     ]
    },
    {
     "data": {
      "application/vnd.plotly.v1+json": {
       "config": {
        "plotlyServerURL": "https://plot.ly"
       },
       "data": [
        {
         "coloraxis": "coloraxis",
         "hovertemplate": "Head: %{x}<br>Layer: %{y}<br>color: %{z}<extra></extra>",
         "name": "0",
         "type": "heatmap",
         "xaxis": "x",
         "yaxis": "y",
         "z": [
          [
           0.14777790009975433,
           0.30539295077323914,
           0.35956010222435,
           -0.11184032261371613,
           -0.08901235461235046,
           0.09196288883686066,
           0.09461050480604172,
           -0.06330596655607224,
           0.2808293104171753,
           -0.03623601049184799,
           0.24717159569263458,
           0.37807899713516235,
           0.2096947580575943,
           0.2868732810020447,
           0.0026560055557638407,
           0.26728585362434387,
           0.3760862946510315,
           0.003613254753872752,
           0.189136803150177,
           0.19196559488773346,
           0.21646325290203094,
           -0.3818773329257965,
           0.25599923729896545,
           -0.049073852598667145,
           0.044187359511852264,
           -0.323567271232605
          ],
          [
           0.45477330684661865,
           0.3301406502723694,
           0.8876503109931946,
           0.17688050866127014,
           0.3143446743488312,
           0.6685393452644348,
           0.389111191034317,
           0.651031494140625,
           0.4242812395095825,
           0.37715256214141846,
           0.9099496006965637,
           0.5790097713470459,
           0.8131896257400513,
           0.5743291974067688,
           0.1337258666753769,
           0.550410270690918,
           0.8212500810623169,
           0.8029654026031494,
           0.8179510831832886,
           0.3703984022140503,
           0.5976044535636902,
           0.1682542860507965,
           0.5622683167457581,
           0.47481366991996765,
           0.29318535327911377,
           0.18240885436534882
          ],
          [
           0.48685958981513977,
           0.5995340943336487,
           0.10987977683544159,
           0.26514002680778503,
           0.13136424124240875,
           0.3225323259830475,
           0.08609193563461304,
           0.35304421186447144,
           0.09459567070007324,
           -0.10921400040388107,
           0.08910583704710007,
           0.2574256360530853,
           0.5093311667442322,
           -0.047208271920681,
           0.33826786279678345,
           0.965955376625061,
           0.33332693576812744,
           0.2371974140405655,
           0.4956229031085968,
           0.14915373921394348,
           0.43554192781448364,
           -0.0012264217948541045,
           0.42950671911239624,
           0.1502264440059662,
           0.34699907898902893,
           0.1291196048259735
          ],
          [
           0.5926550626754761,
           0.740132212638855,
           0.8956971168518066,
           -0.4482234716415405,
           0.6441817283630371,
           1,
           0.41135498881340027,
           0.5138604044914246,
           0.6366420388221741,
           0.3989850878715515,
           0.7321611642837524,
           0.5223255157470703,
           0.7835798859596252,
           0.6399791240692139,
           0.4171064496040344,
           0.6610336899757385,
           0.7230252027511597,
           0.7708389759063721,
           0.6250649094581604,
           0.6355870962142944,
           0.705623984336853,
           0.24056077003479004,
           0.8541600704193115,
           0.6443564295768738,
           0.5330885052680969,
           0.1328866183757782
          ],
          [
           0.03128324821591377,
           -0.026079000905156136,
           0.21024200320243835,
           -0.5112102031707764,
           -0.45488494634628296,
           -0.09444697201251984,
           -0.09936647862195969,
           -0.3084494173526764,
           0.1419181376695633,
           -0.04170738160610199,
           0.4032627046108246,
           0.2926962375640869,
           0.08862480521202087,
           0.25083303451538086,
           -0.23389093577861786,
           0.08739334344863892,
           0.3487665057182312,
           0.21506108343601227,
           -0.022676536813378334,
           -0.04954421520233154,
           0.27992555499076843,
           -0.27984675765037537,
           0.22809727489948273,
           -0.2230277955532074,
           -0.15632611513137817,
           -0.19792945683002472
          ],
          [
           0.17980749905109406,
           0.3431086540222168,
           0.3185168504714966,
           -0.2820611596107483,
           0.3891734182834625,
           -0.8044363260269165,
           -0.0014522604178637266,
           0.15923534333705902,
           0.17529208958148956,
           0.09015432745218277,
           0.26208269596099854,
           0.2677554488182068,
           0.3210446536540985,
           0.3818308711051941,
           0.26106658577919006,
           0.29627636075019836,
           0.41154608130455017,
           0.39267411828041077,
           0.18699367344379425,
           -0.14794716238975525,
           0.5129673480987549,
           -0.11517392098903656,
           0.20976611971855164,
           0.28512707352638245,
           0.07226471602916718,
           -0.20995724201202393
          ],
          [
           0.5337046980857849,
           0.5845642685890198,
           0.6218472123146057,
           0.1869593858718872,
           0.7094814777374268,
           0.43184155225753784,
           -0.5087054371833801,
           0.5940393209457397,
           0.574275016784668,
           0.011652699671685696,
           0.2962149381637573,
           0.5166125297546387,
           0.48746979236602783,
           0.38971173763275146,
           0.639227032661438,
           0.3582308292388916,
           0.35258033871650696,
           0.2303086519241333,
           0.49562153220176697,
           0.2752840518951416,
           0.26934435963630676,
           0.05791977792978287,
           0.731234610080719,
           0.287507027387619,
           0.5641162991523743,
           -0.08578205108642578
          ],
          [
           0.0037399670109152794,
           0.521053671836853,
           0.26861611008644104,
           0.006918970495462418,
           0.36084431409835815,
           0.3062908947467804,
           -0.1473519653081894,
           -0.4303004741668701,
           0.1142304390668869,
           0.12992826104164124,
           0.29810047149658203,
           0.05669675022363663,
           0.27034252882003784,
           0.20468498766422272,
           0.20970629155635834,
           0.18445096909999847,
           0.440034955739975,
           0.6304402351379395,
           0.36062687635421753,
           0.011604610830545425,
           0.19317856431007385,
           0.04881684482097626,
           0.13631397485733032,
           -0.0518922284245491,
           0.31324464082717896,
           -0.4136662781238556
          ],
          [
           0.20457056164741516,
           0.3513498306274414,
           0.4613015651702881,
           0.11529284715652466,
           0.3972158133983612,
           0.08136606961488724,
           0.03821243345737457,
           0.19590863585472107,
           0.18364210426807404,
           0.08432888984680176,
           0.344207227230072,
           0.27708977460861206,
           0.2731574475765228,
           0.28673604130744934,
           -0.05542651563882828,
           0.27392682433128357,
           0.5753583312034607,
           0.21335572004318237,
           0.1878088116645813,
           0.2784343361854553,
           0.19338034093379974,
           -0.07703270018100739,
           0.671857476234436,
           0.19260329008102417,
           -0.14146600663661957,
           -0.2093527615070343
          ],
          [
           0.3547206223011017,
           0.2908744513988495,
           0.432546466588974,
           0.13550782203674316,
           0.2806468605995178,
           0.24630768597126007,
           -0.02802097797393799,
           0.32701072096824646,
           0.2778717577457428,
           0.16405822336673737,
           0.39912185072898865,
           0.04677881300449371,
           0.4368114769458771,
           0.455831915140152,
           0.17097488045692444,
           0.5074595212936401,
           0.6005512475967407,
           0.2039276510477066,
           0.26138120889663696,
           0.4460088908672333,
           -0.20539680123329163,
           0.3756786584854126,
           0.6217100620269775,
           0.02575315162539482,
           0.04043547809123993,
           -0.25224506855010986
          ],
          [
           0.2651183605194092,
           0.37315240502357483,
           0.33109718561172485,
           0.18045690655708313,
           0.1519666314125061,
           0.3623025715351105,
           0.07522229850292206,
           0.3469145894050598,
           0.12246936559677124,
           -0.2445296049118042,
           0.2030324786901474,
           0.24006520211696625,
           -0.12867367267608643,
           0.2792707681655884,
           0.21180199086666107,
           0.22571302950382233,
           0.2853682041168213,
           0.5457264184951782,
           0.29335111379623413,
           0.264476478099823,
           0.23324023187160492,
           0.03593175858259201,
           0.44836750626564026,
           0.14516165852546692,
           0.5576915144920349,
           -0.05925597995519638
          ],
          [
           0.5044729709625244,
           0.5605530738830566,
           0.6024271249771118,
           0.20706821978092194,
           0.4763033092021942,
           0.5163726210594177,
           0.3119930624961853,
           0.6499428749084473,
           0.3493918776512146,
           0.08376149088144302,
           0.1501346230506897,
           -0.5434361100196838,
           0.6843029260635376,
           0.2748163342475891,
           0.19376586377620697,
           0.44275882840156555,
           0.8103700280189514,
           0.39010506868362427,
           0.5962746143341064,
           0.4578801989555359,
           0.0226276945322752,
           0.2605232298374176,
           0.46910884976387024,
           0.6157469153404236,
           0.3988650143146515,
           -0.3769266903400421
          ],
          [
           0.40245291590690613,
           0.41157805919647217,
           0.49735209345817566,
           0.09615682810544968,
           0.17693302035331726,
           0.3456858694553375,
           -0.26513442397117615,
           0.4502088129520416,
           0.5466086864471436,
           0.10980682075023651,
           0.4084881842136383,
           0.4605790376663208,
           -0.5659493207931519,
           0.27340397238731384,
           0.0846218541264534,
           0.6392444968223572,
           0.4845634698867798,
           0.18233802914619446,
           0.3599787950515747,
           0.2586195766925812,
           0.416689395904541,
           0.03016304410994053,
           0.6355997920036316,
           0.11891523003578186,
           0.6165181994438171,
           0.0072428323328495026
          ],
          [
           -0.017363781109452248,
           0.10595760494470596,
           0.4897856116294861,
           -0.32512950897216797,
           0.010477148927748203,
           0.3132935166358948,
           0.13935565948486328,
           0.2637888789176941,
           0.028852572664618492,
           -0.21010200679302216,
           0.48824343085289,
           0.08751482516527176,
           0.26520076394081116,
           -0.2747102975845337,
           -0.11444694548845291,
           0.13606864213943481,
           0.436602920293808,
           0.11432953178882599,
           -0.027475789189338684,
           0.0891612246632576,
           0.15307344496250153,
           0.2827880382537842,
           0.06036803126335144,
           0.1411760300397873,
           -0.09728997945785522,
           0.07708418369293213
          ],
          [
           0.4168775677680969,
           0.1066494733095169,
           0.26029545068740845,
           -0.0454108752310276,
           0.16442734003067017,
           0.42596662044525146,
           -0.058807261288166046,
           0.39543575048446655,
           0.30299875140190125,
           0.38166970014572144,
           0.1230548545718193,
           0.34792667627334595,
           0.06497353315353394,
           0.09077144414186478,
           0.287127286195755,
           0.04292295128107071,
           0.2531422972679138,
           0.40042391419410706,
           0.016424039378762245,
           0.09233781695365906,
           0.174000084400177,
           0.054660864174366,
           0.28048497438430786,
           0.03596246615052223,
           0.27809882164001465,
           -0.5184417366981506
          ],
          [
           0.6694777607917786,
           0.6265511512756348,
           0.734139084815979,
           0.11687835305929184,
           0.7910252809524536,
           0.524304986000061,
           0.25965118408203125,
           0.8094771504402161,
           0.3768390417098999,
           0.2427685707807541,
           0.42337697744369507,
           0.7243122458457947,
           0.5563161969184875,
           0.49804309010505676,
           0.35404232144355774,
           -0.63597571849823,
           0.5768499970436096,
           0.392438143491745,
           0.5359540581703186,
           0.13563142716884613,
           0.6000484228134155,
           0.10460272431373596,
           0.19591817259788513,
           0.26141589879989624,
           0.41548654437065125,
           -0.29064396023750305
          ],
          [
           0.542600691318512,
           0.43600788712501526,
           0.5680072903633118,
           -0.054325178265571594,
           0.4484494626522064,
           0.1803542822599411,
           -0.07869467884302139,
           0.41042470932006836,
           0.21551454067230225,
           -0.008803865872323513,
           0.3770644962787628,
           0.24184784293174744,
           0.18473829329013824,
           0.2316545844078064,
           0.2543731927871704,
           0.057083118706941605,
           0.7500964403152466,
           0.11501853168010712,
           0.49640002846717834,
           0.20837973058223724,
           0.18377821147441864,
           -0.02588253654539585,
           0.43086040019989014,
           0.07141587138175964,
           0.21222662925720215,
           -0.21615846455097198
          ],
          [
           0.19280070066452026,
           -0.3143777549266815,
           0.23330070078372955,
           -0.020511774346232414,
           -0.12458474189043045,
           0.3576650619506836,
           0.12276750057935715,
           0.23700326681137085,
           0.05689053237438202,
           0.22563235461711884,
           0.2074519842863083,
           -0.012012110091745853,
           0.2654326856136322,
           0.21058766543865204,
           0.2804897725582123,
           0.14981169998645782,
           0.44175511598587036,
           -0.8938148617744446,
           0.44780853390693665,
           0.12789592146873474,
           0.12340664863586426,
           -0.02070998214185238,
           0.3034052550792694,
           0.052596040070056915,
           0.3278258144855499,
           -0.4975086450576782
          ],
          [
           0.3857665956020355,
           0.27069300413131714,
           0.7201031446456909,
           0.18147052824497223,
           0.25102633237838745,
           0.27689018845558167,
           0.07695531845092773,
           0.13357675075531006,
           0.24296031892299652,
           0.1896935999393463,
           0.45503970980644226,
           0.5026102066040039,
           0.2923181653022766,
           0.6848817467689514,
           0.1993057131767273,
           0.45513948798179626,
           0.3297226130962372,
           0.41680917143821716,
           -0.8075170516967773,
           0.7224470973014832,
           0.3224582076072693,
           0.09042155742645264,
           0.6817570924758911,
           -0.05106806755065918,
           0.06188444048166275,
           -0.26846614480018616
          ],
          [
           0.4537307024002075,
           0.7568580508232117,
           0.7182310223579407,
           0.10389568656682968,
           0.6356502771377563,
           0.24819591641426086,
           0.07682785391807556,
           0.4398707151412964,
           0.1503458470106125,
           0.07160799205303192,
           0.23611553013324738,
           0.5443246364593506,
           0.30167463421821594,
           0.4226449429988861,
           0.5758939981460571,
           0.4067498445510864,
           0.485599547624588,
           0.2746380567550659,
           0.357395201921463,
           -0.15650847554206848,
           0.47487884759902954,
           0.15478117763996124,
           0.5555160641670227,
           0.17285431921482086,
           0.35074830055236816,
           -0.19164696335792542
          ],
          [
           -0.04150425270199776,
           0.05927445366978645,
           0.14940902590751648,
           -0.43749353289604187,
           -0.042786985635757446,
           -0.04224296659231186,
           -0.1931888908147812,
           0.32173261046409607,
           -0.02850373275578022,
           -0.4185878336429596,
           -0.1977924406528473,
           0.6117210984230042,
           -0.09090673178434372,
           -0.011364963836967945,
           0.27893131971359253,
           -0.030964277684688568,
           0.5134989619255066,
           0.19078980386257172,
           0.10899674147367477,
           -0.5749592781066895,
           0.257625550031662,
           -0.5531512498855591,
           -0.07726037502288818,
           -0.011524476110935211,
           0.06363695859909058,
           -0.2079671025276184
          ],
          [
           -0.03178945556282997,
           -0.14181341230869293,
           0.3410694897174835,
           -0.02780447155237198,
           0.21045777201652527,
           0.004773312248289585,
           -0.1387239694595337,
           0.10163728892803192,
           0.0997796282172203,
           0.0657251700758934,
           0.04166363924741745,
           0.08106609433889389,
           0.09403131157159805,
           -0.006414067931473255,
           0.09083012491464615,
           0.16137883067131042,
           0.1525413990020752,
           0.23980313539505005,
           0.20410393178462982,
           0.18408973515033722,
           0.010432875715196133,
           -0.3353995680809021,
           0.14306968450546265,
           -0.018570784479379654,
           0.1281939446926117,
           -0.3064514100551605
          ],
          [
           0.1486300677061081,
           0.19125555455684662,
           0.3900148272514343,
           0.06294699758291245,
           0.05965067073702812,
           0.3307547867298126,
           -0.13122187554836273,
           0.31546834111213684,
           0.1931983381509781,
           0.03990817442536354,
           0.18600578606128693,
           0.18668070435523987,
           0.13958801329135895,
           0.17559267580509186,
           0.0518457405269146,
           0.437669962644577,
           0.3337736129760742,
           0.05469335615634918,
           -0.11913909018039703,
           -0.05785202980041504,
           0.09269541501998901,
           -0.008230706676840782,
           0.21242764592170715,
           -0.09732469916343689,
           0.19664421677589417,
           0.06878941506147385
          ],
          [
           0.24021980166435242,
           0.132369264960289,
           0.36370059847831726,
           0.48854175209999084,
           0.46523725986480713,
           -0.023268993943929672,
           0.3032212257385254,
           0.1526830941438675,
           0.31543657183647156,
           -0.16439677774906158,
           0.40326693654060364,
           0.42298081517219543,
           0.00039765381370671093,
           0.32619306445121765,
           0.3329673707485199,
           0.17163293063640594,
           0.3835141956806183,
           0.35475465655326843,
           0.3916332423686981,
           -0.03283185139298439,
           0.39090824127197266,
           0.3935341536998749,
           0.2703339159488678,
           0.5688742995262146,
           0.07053360342979431,
           0.02399281971156597
          ],
          [
           0.045394156128168106,
           -0.10909834504127502,
           0.2627984285354614,
           -0.06095820292830467,
           0.12535206973552704,
           -0.1505284607410431,
           -0.15670393407344818,
           0.006215693429112434,
           0.17880907654762268,
           -0.23775677382946014,
           0.22188065946102142,
           0.11857051402330399,
           -0.1997368186712265,
           0.05666523799300194,
           -0.17849265038967133,
           -0.3580735921859741,
           0.3347623646259308,
           0.08285333216190338,
           -0.17276056110858917,
           -0.07164078205823898,
           -0.024086924269795418,
           -0.10666252672672272,
           0.12198161333799362,
           -0.48611485958099365,
           0.20460422337055206,
           -0.5407958626747131
          ],
          [
           0.24050329625606537,
           0.3038642108440399,
           0.3220148980617523,
           0.23642823100090027,
           0.16762979328632355,
           0.29798442125320435,
           0.37202078104019165,
           -0.1920553296804428,
           0.5588748455047607,
           -0.18510033190250397,
           0.11824216693639755,
           0.258891761302948,
           0.21398043632507324,
           0.21298013627529144,
           0.42326080799102783,
           0.42235755920410156,
           0.2645374834537506,
           0.43344077467918396,
           0.5280119776725769,
           0.5198335647583008,
           0.24884407222270966,
           0.19710612297058105,
           0.6242726445198059,
           0.41164442896842957,
           0.2861284017562866,
           -0.02058515138924122
          ]
         ]
        }
       ],
       "layout": {
        "coloraxis": {
         "cmid": 0,
         "colorbar": {
          "len": 1,
          "lenmode": "fraction",
          "thickness": 10,
          "thicknessmode": "pixels",
          "title": {
           "text": "𝑆"
          }
         },
         "colorscale": [
          [
           0,
           "rgb(103,0,31)"
          ],
          [
           0.1,
           "rgb(178,24,43)"
          ],
          [
           0.2,
           "rgb(214,96,77)"
          ],
          [
           0.3,
           "rgb(244,165,130)"
          ],
          [
           0.4,
           "rgb(253,219,199)"
          ],
          [
           0.5,
           "rgb(247,247,247)"
          ],
          [
           0.6,
           "rgb(209,229,240)"
          ],
          [
           0.7,
           "rgb(146,197,222)"
          ],
          [
           0.8,
           "rgb(67,147,195)"
          ],
          [
           0.9,
           "rgb(33,102,172)"
          ],
          [
           1,
           "rgb(5,48,97)"
          ]
         ]
        },
        "font": {
         "color": "black",
         "size": 12
        },
        "height": 300,
        "margin": {
         "b": 10,
         "l": 10,
         "r": 10,
         "t": 10
        },
        "template": {
         "data": {
          "bar": [
           {
            "error_x": {
             "color": "#2a3f5f"
            },
            "error_y": {
             "color": "#2a3f5f"
            },
            "marker": {
             "line": {
              "color": "#E5ECF6",
              "width": 0.5
             },
             "pattern": {
              "fillmode": "overlay",
              "size": 10,
              "solidity": 0.2
             }
            },
            "type": "bar"
           }
          ],
          "barpolar": [
           {
            "marker": {
             "line": {
              "color": "#E5ECF6",
              "width": 0.5
             },
             "pattern": {
              "fillmode": "overlay",
              "size": 10,
              "solidity": 0.2
             }
            },
            "type": "barpolar"
           }
          ],
          "carpet": [
           {
            "aaxis": {
             "endlinecolor": "#2a3f5f",
             "gridcolor": "white",
             "linecolor": "white",
             "minorgridcolor": "white",
             "startlinecolor": "#2a3f5f"
            },
            "baxis": {
             "endlinecolor": "#2a3f5f",
             "gridcolor": "white",
             "linecolor": "white",
             "minorgridcolor": "white",
             "startlinecolor": "#2a3f5f"
            },
            "type": "carpet"
           }
          ],
          "choropleth": [
           {
            "colorbar": {
             "outlinewidth": 0,
             "ticks": ""
            },
            "type": "choropleth"
           }
          ],
          "contour": [
           {
            "colorbar": {
             "outlinewidth": 0,
             "ticks": ""
            },
            "colorscale": [
             [
              0,
              "#0d0887"
             ],
             [
              0.1111111111111111,
              "#46039f"
             ],
             [
              0.2222222222222222,
              "#7201a8"
             ],
             [
              0.3333333333333333,
              "#9c179e"
             ],
             [
              0.4444444444444444,
              "#bd3786"
             ],
             [
              0.5555555555555556,
              "#d8576b"
             ],
             [
              0.6666666666666666,
              "#ed7953"
             ],
             [
              0.7777777777777778,
              "#fb9f3a"
             ],
             [
              0.8888888888888888,
              "#fdca26"
             ],
             [
              1,
              "#f0f921"
             ]
            ],
            "type": "contour"
           }
          ],
          "contourcarpet": [
           {
            "colorbar": {
             "outlinewidth": 0,
             "ticks": ""
            },
            "type": "contourcarpet"
           }
          ],
          "heatmap": [
           {
            "colorbar": {
             "outlinewidth": 0,
             "ticks": ""
            },
            "colorscale": [
             [
              0,
              "#0d0887"
             ],
             [
              0.1111111111111111,
              "#46039f"
             ],
             [
              0.2222222222222222,
              "#7201a8"
             ],
             [
              0.3333333333333333,
              "#9c179e"
             ],
             [
              0.4444444444444444,
              "#bd3786"
             ],
             [
              0.5555555555555556,
              "#d8576b"
             ],
             [
              0.6666666666666666,
              "#ed7953"
             ],
             [
              0.7777777777777778,
              "#fb9f3a"
             ],
             [
              0.8888888888888888,
              "#fdca26"
             ],
             [
              1,
              "#f0f921"
             ]
            ],
            "type": "heatmap"
           }
          ],
          "heatmapgl": [
           {
            "colorbar": {
             "outlinewidth": 0,
             "ticks": ""
            },
            "colorscale": [
             [
              0,
              "#0d0887"
             ],
             [
              0.1111111111111111,
              "#46039f"
             ],
             [
              0.2222222222222222,
              "#7201a8"
             ],
             [
              0.3333333333333333,
              "#9c179e"
             ],
             [
              0.4444444444444444,
              "#bd3786"
             ],
             [
              0.5555555555555556,
              "#d8576b"
             ],
             [
              0.6666666666666666,
              "#ed7953"
             ],
             [
              0.7777777777777778,
              "#fb9f3a"
             ],
             [
              0.8888888888888888,
              "#fdca26"
             ],
             [
              1,
              "#f0f921"
             ]
            ],
            "type": "heatmapgl"
           }
          ],
          "histogram": [
           {
            "marker": {
             "pattern": {
              "fillmode": "overlay",
              "size": 10,
              "solidity": 0.2
             }
            },
            "type": "histogram"
           }
          ],
          "histogram2d": [
           {
            "colorbar": {
             "outlinewidth": 0,
             "ticks": ""
            },
            "colorscale": [
             [
              0,
              "#0d0887"
             ],
             [
              0.1111111111111111,
              "#46039f"
             ],
             [
              0.2222222222222222,
              "#7201a8"
             ],
             [
              0.3333333333333333,
              "#9c179e"
             ],
             [
              0.4444444444444444,
              "#bd3786"
             ],
             [
              0.5555555555555556,
              "#d8576b"
             ],
             [
              0.6666666666666666,
              "#ed7953"
             ],
             [
              0.7777777777777778,
              "#fb9f3a"
             ],
             [
              0.8888888888888888,
              "#fdca26"
             ],
             [
              1,
              "#f0f921"
             ]
            ],
            "type": "histogram2d"
           }
          ],
          "histogram2dcontour": [
           {
            "colorbar": {
             "outlinewidth": 0,
             "ticks": ""
            },
            "colorscale": [
             [
              0,
              "#0d0887"
             ],
             [
              0.1111111111111111,
              "#46039f"
             ],
             [
              0.2222222222222222,
              "#7201a8"
             ],
             [
              0.3333333333333333,
              "#9c179e"
             ],
             [
              0.4444444444444444,
              "#bd3786"
             ],
             [
              0.5555555555555556,
              "#d8576b"
             ],
             [
              0.6666666666666666,
              "#ed7953"
             ],
             [
              0.7777777777777778,
              "#fb9f3a"
             ],
             [
              0.8888888888888888,
              "#fdca26"
             ],
             [
              1,
              "#f0f921"
             ]
            ],
            "type": "histogram2dcontour"
           }
          ],
          "mesh3d": [
           {
            "colorbar": {
             "outlinewidth": 0,
             "ticks": ""
            },
            "type": "mesh3d"
           }
          ],
          "parcoords": [
           {
            "line": {
             "colorbar": {
              "outlinewidth": 0,
              "ticks": ""
             }
            },
            "type": "parcoords"
           }
          ],
          "pie": [
           {
            "automargin": true,
            "type": "pie"
           }
          ],
          "scatter": [
           {
            "fillpattern": {
             "fillmode": "overlay",
             "size": 10,
             "solidity": 0.2
            },
            "type": "scatter"
           }
          ],
          "scatter3d": [
           {
            "line": {
             "colorbar": {
              "outlinewidth": 0,
              "ticks": ""
             }
            },
            "marker": {
             "colorbar": {
              "outlinewidth": 0,
              "ticks": ""
             }
            },
            "type": "scatter3d"
           }
          ],
          "scattercarpet": [
           {
            "marker": {
             "colorbar": {
              "outlinewidth": 0,
              "ticks": ""
             }
            },
            "type": "scattercarpet"
           }
          ],
          "scattergeo": [
           {
            "marker": {
             "colorbar": {
              "outlinewidth": 0,
              "ticks": ""
             }
            },
            "type": "scattergeo"
           }
          ],
          "scattergl": [
           {
            "marker": {
             "colorbar": {
              "outlinewidth": 0,
              "ticks": ""
             }
            },
            "type": "scattergl"
           }
          ],
          "scattermapbox": [
           {
            "marker": {
             "colorbar": {
              "outlinewidth": 0,
              "ticks": ""
             }
            },
            "type": "scattermapbox"
           }
          ],
          "scatterpolar": [
           {
            "marker": {
             "colorbar": {
              "outlinewidth": 0,
              "ticks": ""
             }
            },
            "type": "scatterpolar"
           }
          ],
          "scatterpolargl": [
           {
            "marker": {
             "colorbar": {
              "outlinewidth": 0,
              "ticks": ""
             }
            },
            "type": "scatterpolargl"
           }
          ],
          "scatterternary": [
           {
            "marker": {
             "colorbar": {
              "outlinewidth": 0,
              "ticks": ""
             }
            },
            "type": "scatterternary"
           }
          ],
          "surface": [
           {
            "colorbar": {
             "outlinewidth": 0,
             "ticks": ""
            },
            "colorscale": [
             [
              0,
              "#0d0887"
             ],
             [
              0.1111111111111111,
              "#46039f"
             ],
             [
              0.2222222222222222,
              "#7201a8"
             ],
             [
              0.3333333333333333,
              "#9c179e"
             ],
             [
              0.4444444444444444,
              "#bd3786"
             ],
             [
              0.5555555555555556,
              "#d8576b"
             ],
             [
              0.6666666666666666,
              "#ed7953"
             ],
             [
              0.7777777777777778,
              "#fb9f3a"
             ],
             [
              0.8888888888888888,
              "#fdca26"
             ],
             [
              1,
              "#f0f921"
             ]
            ],
            "type": "surface"
           }
          ],
          "table": [
           {
            "cells": {
             "fill": {
              "color": "#EBF0F8"
             },
             "line": {
              "color": "white"
             }
            },
            "header": {
             "fill": {
              "color": "#C8D4E3"
             },
             "line": {
              "color": "white"
             }
            },
            "type": "table"
           }
          ]
         },
         "layout": {
          "annotationdefaults": {
           "arrowcolor": "#2a3f5f",
           "arrowhead": 0,
           "arrowwidth": 1
          },
          "autotypenumbers": "strict",
          "coloraxis": {
           "colorbar": {
            "outlinewidth": 0,
            "ticks": ""
           }
          },
          "colorscale": {
           "diverging": [
            [
             0,
             "#8e0152"
            ],
            [
             0.1,
             "#c51b7d"
            ],
            [
             0.2,
             "#de77ae"
            ],
            [
             0.3,
             "#f1b6da"
            ],
            [
             0.4,
             "#fde0ef"
            ],
            [
             0.5,
             "#f7f7f7"
            ],
            [
             0.6,
             "#e6f5d0"
            ],
            [
             0.7,
             "#b8e186"
            ],
            [
             0.8,
             "#7fbc41"
            ],
            [
             0.9,
             "#4d9221"
            ],
            [
             1,
             "#276419"
            ]
           ],
           "sequential": [
            [
             0,
             "#0d0887"
            ],
            [
             0.1111111111111111,
             "#46039f"
            ],
            [
             0.2222222222222222,
             "#7201a8"
            ],
            [
             0.3333333333333333,
             "#9c179e"
            ],
            [
             0.4444444444444444,
             "#bd3786"
            ],
            [
             0.5555555555555556,
             "#d8576b"
            ],
            [
             0.6666666666666666,
             "#ed7953"
            ],
            [
             0.7777777777777778,
             "#fb9f3a"
            ],
            [
             0.8888888888888888,
             "#fdca26"
            ],
            [
             1,
             "#f0f921"
            ]
           ],
           "sequentialminus": [
            [
             0,
             "#0d0887"
            ],
            [
             0.1111111111111111,
             "#46039f"
            ],
            [
             0.2222222222222222,
             "#7201a8"
            ],
            [
             0.3333333333333333,
             "#9c179e"
            ],
            [
             0.4444444444444444,
             "#bd3786"
            ],
            [
             0.5555555555555556,
             "#d8576b"
            ],
            [
             0.6666666666666666,
             "#ed7953"
            ],
            [
             0.7777777777777778,
             "#fb9f3a"
            ],
            [
             0.8888888888888888,
             "#fdca26"
            ],
            [
             1,
             "#f0f921"
            ]
           ]
          },
          "colorway": [
           "#636efa",
           "#EF553B",
           "#00cc96",
           "#ab63fa",
           "#FFA15A",
           "#19d3f3",
           "#FF6692",
           "#B6E880",
           "#FF97FF",
           "#FECB52"
          ],
          "font": {
           "color": "#2a3f5f"
          },
          "geo": {
           "bgcolor": "white",
           "lakecolor": "white",
           "landcolor": "#E5ECF6",
           "showlakes": true,
           "showland": true,
           "subunitcolor": "white"
          },
          "hoverlabel": {
           "align": "left"
          },
          "hovermode": "closest",
          "mapbox": {
           "style": "light"
          },
          "paper_bgcolor": "white",
          "plot_bgcolor": "#E5ECF6",
          "polar": {
           "angularaxis": {
            "gridcolor": "white",
            "linecolor": "white",
            "ticks": ""
           },
           "bgcolor": "#E5ECF6",
           "radialaxis": {
            "gridcolor": "white",
            "linecolor": "white",
            "ticks": ""
           }
          },
          "scene": {
           "xaxis": {
            "backgroundcolor": "#E5ECF6",
            "gridcolor": "white",
            "gridwidth": 2,
            "linecolor": "white",
            "showbackground": true,
            "ticks": "",
            "zerolinecolor": "white"
           },
           "yaxis": {
            "backgroundcolor": "#E5ECF6",
            "gridcolor": "white",
            "gridwidth": 2,
            "linecolor": "white",
            "showbackground": true,
            "ticks": "",
            "zerolinecolor": "white"
           },
           "zaxis": {
            "backgroundcolor": "#E5ECF6",
            "gridcolor": "white",
            "gridwidth": 2,
            "linecolor": "white",
            "showbackground": true,
            "ticks": "",
            "zerolinecolor": "white"
           }
          },
          "shapedefaults": {
           "line": {
            "color": "#2a3f5f"
           }
          },
          "ternary": {
           "aaxis": {
            "gridcolor": "white",
            "linecolor": "white",
            "ticks": ""
           },
           "baxis": {
            "gridcolor": "white",
            "linecolor": "white",
            "ticks": ""
           },
           "bgcolor": "#E5ECF6",
           "caxis": {
            "gridcolor": "white",
            "linecolor": "white",
            "ticks": ""
           }
          },
          "title": {
           "x": 0.05
          },
          "xaxis": {
           "automargin": true,
           "gridcolor": "white",
           "linecolor": "white",
           "ticks": "",
           "title": {
            "standoff": 15
           },
           "zerolinecolor": "white",
           "zerolinewidth": 2
          },
          "yaxis": {
           "automargin": true,
           "gridcolor": "white",
           "linecolor": "white",
           "ticks": "",
           "title": {
            "standoff": 15
           },
           "zerolinecolor": "white",
           "zerolinewidth": 2
          }
         }
        },
        "title": {
         "font": {
          "size": 14
         }
        },
        "width": 300,
        "xaxis": {
         "anchor": "y",
         "constrain": "domain",
         "domain": [
          0,
          1
         ],
         "linecolor": "black",
         "linewidth": 1,
         "mirror": true,
         "scaleanchor": "y",
         "showline": true,
         "tickcolor": "black",
         "ticks": "outside",
         "tickwidth": 1,
         "title": {}
        },
        "yaxis": {
         "anchor": "x",
         "autorange": "reversed",
         "constrain": "domain",
         "domain": [
          0,
          1
         ],
         "linecolor": "black",
         "linewidth": 1,
         "mirror": true,
         "showline": true,
         "tickcolor": "black",
         "ticks": "outside",
         "tickwidth": 1,
         "title": {}
        }
       }
      }
     },
     "metadata": {},
     "output_type": "display_data"
    }
   ],
   "source": [
    "# OV circuit for head 11.10\n",
    "layer = 20\n",
    "head = 9\n",
    "\n",
    "pu.plot_attn(h.normalise_tensor(ov_circuit[layer, head, : , :]), ALPHABET_LIST, image_dir / \"symbolic_ov_circuit.png\")"
   ]
  },
  {
   "cell_type": "markdown",
   "metadata": {
    "id": "zSccDrGfabVZ"
   },
   "source": [
    "## Localization of Term-Related Information Flow"
   ]
  },
  {
   "cell_type": "code",
   "execution_count": 13,
   "metadata": {
    "id": "qI5EKogEabVZ"
   },
   "outputs": [],
   "source": [
    "# Corruption and tokenization\n",
    "s_corrupted_prompts = all_term_corrupt(s_prompts, s_As, s_Bs, s_labels, 'symbolic')\n",
    "\n",
    "s_tokens = model.to_tokens(s_prompts, prepend_bos=False).to(device)\n",
    "s_corrupted_tokens = model.to_tokens(s_corrupted_prompts, prepend_bos=False).to(device)"
   ]
  },
  {
   "cell_type": "code",
   "execution_count": 14,
   "metadata": {
    "colab": {
     "base_uri": "https://localhost:8080/"
    },
    "id": "7VHb6Mx5abVZ",
    "outputId": "527445a2-b462-49d2-f0c8-4daae6a3a9bc"
   },
   "outputs": [
    {
     "name": "stdout",
     "output_type": "stream",
     "text": [
      "Clean logit diff: 0.8832\n",
      "Corrupted logit diff: 0.1459\n"
     ]
    }
   ],
   "source": [
    "# Compute logits for interventions\n",
    "s_clean_logits, s_clean_cache = model.run_with_cache(s_tokens)\n",
    "s_corrupted_logits, s_corrupted_cache = model.run_with_cache(s_corrupted_tokens)\n",
    "\n",
    "s_clean_logit_diff = h.compute_logit_diff(s_clean_logits, s_answer_tokens)\n",
    "print(f\"Clean logit diff: {s_clean_logit_diff:.4f}\")\n",
    "\n",
    "s_corrupted_logit_diff = h.compute_logit_diff(s_corrupted_logits, s_answer_tokens)\n",
    "print(f\"Corrupted logit diff: {s_corrupted_logit_diff:.4f}\")"
   ]
  },
  {
   "cell_type": "markdown",
   "metadata": {
    "id": "wNdDx92-abVZ"
   },
   "source": [
    "### Figure 4(d) residual stream patching"
   ]
  },
  {
   "cell_type": "code",
   "execution_count": 15,
   "metadata": {
    "colab": {
     "base_uri": "https://localhost:8080/"
    },
    "id": "e95chG3LabVZ",
    "outputId": "ff302971-a526-4501-f9be-e2fae8887613"
   },
   "outputs": [
    {
     "name": "stderr",
     "output_type": "stream",
     "text": [
      "huggingface/tokenizers: The current process just got forked, after parallelism has already been used. Disabling parallelism to avoid deadlocks...\n",
      "To disable this warning, you can either:\n",
      "\t- Avoid using `tokenizers` before the fork if possible\n",
      "\t- Explicitly set the environment variable TOKENIZERS_PARALLELISM=(true | false)\n",
      "100%|██████████| 24/24 [01:13<00:00,  3.04s/it]\n"
     ]
    }
   ],
   "source": [
    "s_resid_denoising2 = h.patching_residual(model, s_corrupted_tokens, s_clean_cache, h.metric_denoising, s_answer_tokens, s_clean_logit_diff, s_corrupted_logit_diff, device)"
   ]
  },
  {
   "cell_type": "code",
   "execution_count": 16,
   "metadata": {
    "colab": {
     "base_uri": "https://localhost:8080/",
     "height": 317
    },
    "id": "IdapQYW2abVa",
    "outputId": "4c1a4615-6ff3-4dea-886f-87eeb5f2badd"
   },
   "outputs": [
    {
     "name": "stderr",
     "output_type": "stream",
     "text": [
      "huggingface/tokenizers: The current process just got forked, after parallelism has already been used. Disabling parallelism to avoid deadlocks...\n",
      "To disable this warning, you can either:\n",
      "\t- Avoid using `tokenizers` before the fork if possible\n",
      "\t- Explicitly set the environment variable TOKENIZERS_PARALLELISM=(true | false)\n"
     ]
    },
    {
     "name": "stdout",
     "output_type": "stream",
     "text": [
      "Plot saved to ../images/pythia-410m/symbolic_residual2.png\n"
     ]
    },
    {
     "data": {
      "application/vnd.plotly.v1+json": {
       "config": {
        "plotlyServerURL": "https://plot.ly"
       },
       "data": [
        {
         "coloraxis": "coloraxis",
         "hovertemplate": "Layer: %{x}<br>Sequence Position: %{y}<br>color: %{z}<extra></extra>",
         "name": "0",
         "type": "heatmap",
         "xaxis": "x",
         "y": [
          "BEGIN",
          "s_1",
          "s_1 -> m_1",
          "m_1",
          "m_1 -> m_2",
          "m_2",
          "m_2 -> p",
          "p",
          "p -> s_2",
          "s_2",
          "END"
         ],
         "yaxis": "y",
         "z": [
          [
           0,
           0,
           0,
           0,
           0,
           0,
           0,
           0,
           0,
           0,
           0,
           0,
           0,
           0,
           0,
           0,
           0,
           0,
           0,
           0,
           0,
           0,
           0,
           0
          ],
          [
           -0.013136847876012325,
           -0.011553293094038963,
           -0.012577615678310394,
           -0.00796219427138567,
           -0.009850554168224335,
           0.0010635085636749864,
           -0.0011945812730118632,
           -0.0033214236609637737,
           -0.004203737247735262,
           -0.0034997088368982077,
           -0.0032865223474800587,
           -0.004253502003848553,
           -0.004048473201692104,
           -0.0035715578123927116,
           -0.003807605477049947,
           -0.0038843732327222824,
           -0.0033534120302647352,
           -0.0016416502185165882,
           -0.0005479754181578755,
           -0.000659318407997489,
           -0.0003617216134443879,
           0.000005707288892153883,
           0.000011071150765928905,
           0
          ],
          [
           -0.0010793033288791776,
           -0.006058370228856802,
           -0.005600126460194588,
           -0.007536336779594421,
           -0.0070438566617667675,
           -0.007509930524975061,
           -0.006907827686518431,
           -0.009224534966051579,
           -0.002987772924825549,
           -0.0011587745975703,
           0.00005306818275130354,
           -0.001199438702315092,
           -0.0007217348320409656,
           -0.0006671154405921698,
           -0.0005099335685372353,
           -0.0005067466991022229,
           -0.0003807439934462309,
           -0.0003102861810475588,
           -0.0002811298181768507,
           0.00017535724327899516,
           0.00039728666888549924,
           0.00007614472269779071,
           0.000010168927474296652,
           0
          ],
          [
           -0.8469122052192688,
           -0.8389008045196533,
           -0.8388279676437378,
           -0.8362971544265747,
           -0.8244813084602356,
           -0.8029145002365112,
           -0.80414217710495,
           -0.8088613748550415,
           -0.8186569213867188,
           -0.7966642379760742,
           -0.7142407894134521,
           -0.6944743394851685,
           -0.693076491355896,
           -0.6464850902557373,
           -0.6677793860435486,
           -0.5933568477630615,
           -0.6171112656593323,
           -0.40787994861602783,
           -0.3069501519203186,
           -0.3016621768474579,
           -0.29205963015556335,
           -0.003590096952393651,
           -0.000092294518253766,
           0
          ],
          [
           -0.0003501964674796909,
           -0.00152584258466959,
           -0.0017682991456240416,
           -0.002930848393589258,
           -0.0035961768589913845,
           -0.006304886192083359,
           -0.005025758408010006,
           -0.0055446745827794075,
           -0.006611521355807781,
           -0.01748254895210266,
           -0.019178546965122223,
           -0.0007877106545493007,
           -0.002524379640817642,
           -0.002228403929620981,
           -0.003281091572716832,
           -0.003404111135751009,
           -0.0032538094092160463,
           -0.002540864050388336,
           -0.003457935992628336,
           -0.003958259243518114,
           -0.00329968030564487,
           -0.0005916662630625069,
           0.000031455572752747685,
           0
          ],
          [
           -0.47524136304855347,
           -0.4374326765537262,
           -0.42163988947868347,
           -0.42193862795829773,
           -0.39944973587989807,
           -0.3974834680557251,
           -0.3883577883243561,
           -0.25194716453552246,
           -0.2326597422361374,
           -0.14563016593456268,
           -0.14473165571689606,
           -0.24904534220695496,
           -0.2541389465332031,
           -0.22460544109344482,
           -0.18666675686836243,
           -0.1484290510416031,
           -0.1797313094139099,
           -0.07039469480514526,
           -0.043552104383707047,
           -0.050092071294784546,
           -0.04518527910113335,
           0.00022981951769907027,
           -0.00003275070048402995,
           0
          ],
          [
           -0.00032781550544314086,
           -0.00029156648088246584,
           0.0011406574631109834,
           0.0000515518659085501,
           -0.00025519527844153345,
           0.0010792043758556247,
           0.0008953342330642045,
           -0.002370582427829504,
           -0.002638330450281501,
           -0.0039580585435032845,
           -0.006275059189647436,
           -0.012309393845498562,
           -0.00774747459217906,
           -0.003614524146541953,
           -0.0039053221698850393,
           -0.00641993572935462,
           -0.0029341578483581543,
           -0.005207764450460672,
           -0.006531440652906895,
           -0.003405813593417406,
           -0.0033928421325981617,
           -0.0008928254246711731,
           -0.000323007523547858,
           0
          ],
          [
           0.982302725315094,
           0.9740350246429443,
           0.9795475602149963,
           0.9760611653327942,
           0.9944463968276978,
           0.980741560459137,
           0.985338032245636,
           0.9850744605064392,
           0.9929943084716797,
           0.985828697681427,
           0.977799654006958,
           1,
           0.9996137619018555,
           0.7900034189224243,
           0.7994220852851868,
           0.702255368232727,
           0.7393730878829956,
           0.352994829416275,
           0.2519936263561249,
           0.25543543696403503,
           0.23419712483882904,
           0.0005130681092850864,
           0.00011284482752671465,
           0
          ],
          [
           0.00009507103095529601,
           0.00022518906916957349,
           -0.0003275361086707562,
           -0.00009451223741052672,
           -0.000228547680308111,
           -0.000017974613001570106,
           0.0005532519426196814,
           0.0002601196465548128,
           0.00021098341676406562,
           -0.0006130926194600761,
           -0.0018612397834658623,
           -0.0007845063228160143,
           0.00038427719846367836,
           0.0015380256809294224,
           0.0010368638904765248,
           0.0007929755956865847,
           0.0002644648775458336,
           -0.00036819142405875027,
           -0.0006578894681297243,
           -0.00021460103744175285,
           -0.00010055713210022077,
           0.00021906559413764626,
           0.00008237879228545353,
           0
          ],
          [
           -0.011359650641679764,
           -0.011698257178068161,
           -0.012414764612913132,
           -0.01166410930454731,
           -0.009772167541086674,
           -0.013603157363831997,
           -0.014439842663705349,
           -0.001868477906100452,
           -0.001609327387996018,
           -0.00408801669254899,
           -0.009036175906658173,
           -0.00488972757011652,
           -0.0030632338020950556,
           -0.0010286129545420408,
           -0.0028231318574398756,
           -0.0031108506955206394,
           -0.0005936919478699565,
           -0.00046389983617700636,
           -0.000014610193829867058,
           0.0012873851228505373,
           0.0014591974904760718,
           0.000140059957630001,
           -0.000031248935556504875,
           0
          ],
          [
           0.00023489815066568553,
           0.00026761394110508263,
           0.00018796799122355878,
           0.0005777458427473903,
           -0.0005853070761077106,
           0.007360621355473995,
           0.004649935755878687,
           0.005985321942716837,
           0.002321588806807995,
           0.0022948160767555237,
           -0.06610969454050064,
           -0.08439328521490097,
           -0.060116007924079895,
           0.2610275149345398,
           0.2412596493959427,
           0.292841374874115,
           0.30167895555496216,
           0.340359091758728,
           0.30731844902038574,
           0.2572084963321686,
           0.24702997505664825,
           0.1498749852180481,
           0.1463204175233841,
           0.14400987327098846
          ]
         ]
        }
       ],
       "layout": {
        "coloraxis": {
         "cmid": 0,
         "colorbar": {
          "len": 1,
          "lenmode": "fraction",
          "thickness": 10,
          "thicknessmode": "pixels",
          "title": {}
         },
         "colorscale": [
          [
           0,
           "rgb(103,0,31)"
          ],
          [
           0.1,
           "rgb(178,24,43)"
          ],
          [
           0.2,
           "rgb(214,96,77)"
          ],
          [
           0.3,
           "rgb(244,165,130)"
          ],
          [
           0.4,
           "rgb(253,219,199)"
          ],
          [
           0.5,
           "rgb(247,247,247)"
          ],
          [
           0.6,
           "rgb(209,229,240)"
          ],
          [
           0.7,
           "rgb(146,197,222)"
          ],
          [
           0.8,
           "rgb(67,147,195)"
          ],
          [
           0.9,
           "rgb(33,102,172)"
          ],
          [
           1,
           "rgb(5,48,97)"
          ]
         ]
        },
        "font": {
         "color": "black",
         "size": 12
        },
        "height": 300,
        "margin": {
         "b": 20,
         "l": 10,
         "r": 10,
         "t": 20
        },
        "template": {
         "data": {
          "bar": [
           {
            "error_x": {
             "color": "#2a3f5f"
            },
            "error_y": {
             "color": "#2a3f5f"
            },
            "marker": {
             "line": {
              "color": "#E5ECF6",
              "width": 0.5
             },
             "pattern": {
              "fillmode": "overlay",
              "size": 10,
              "solidity": 0.2
             }
            },
            "type": "bar"
           }
          ],
          "barpolar": [
           {
            "marker": {
             "line": {
              "color": "#E5ECF6",
              "width": 0.5
             },
             "pattern": {
              "fillmode": "overlay",
              "size": 10,
              "solidity": 0.2
             }
            },
            "type": "barpolar"
           }
          ],
          "carpet": [
           {
            "aaxis": {
             "endlinecolor": "#2a3f5f",
             "gridcolor": "white",
             "linecolor": "white",
             "minorgridcolor": "white",
             "startlinecolor": "#2a3f5f"
            },
            "baxis": {
             "endlinecolor": "#2a3f5f",
             "gridcolor": "white",
             "linecolor": "white",
             "minorgridcolor": "white",
             "startlinecolor": "#2a3f5f"
            },
            "type": "carpet"
           }
          ],
          "choropleth": [
           {
            "colorbar": {
             "outlinewidth": 0,
             "ticks": ""
            },
            "type": "choropleth"
           }
          ],
          "contour": [
           {
            "colorbar": {
             "outlinewidth": 0,
             "ticks": ""
            },
            "colorscale": [
             [
              0,
              "#0d0887"
             ],
             [
              0.1111111111111111,
              "#46039f"
             ],
             [
              0.2222222222222222,
              "#7201a8"
             ],
             [
              0.3333333333333333,
              "#9c179e"
             ],
             [
              0.4444444444444444,
              "#bd3786"
             ],
             [
              0.5555555555555556,
              "#d8576b"
             ],
             [
              0.6666666666666666,
              "#ed7953"
             ],
             [
              0.7777777777777778,
              "#fb9f3a"
             ],
             [
              0.8888888888888888,
              "#fdca26"
             ],
             [
              1,
              "#f0f921"
             ]
            ],
            "type": "contour"
           }
          ],
          "contourcarpet": [
           {
            "colorbar": {
             "outlinewidth": 0,
             "ticks": ""
            },
            "type": "contourcarpet"
           }
          ],
          "heatmap": [
           {
            "colorbar": {
             "outlinewidth": 0,
             "ticks": ""
            },
            "colorscale": [
             [
              0,
              "#0d0887"
             ],
             [
              0.1111111111111111,
              "#46039f"
             ],
             [
              0.2222222222222222,
              "#7201a8"
             ],
             [
              0.3333333333333333,
              "#9c179e"
             ],
             [
              0.4444444444444444,
              "#bd3786"
             ],
             [
              0.5555555555555556,
              "#d8576b"
             ],
             [
              0.6666666666666666,
              "#ed7953"
             ],
             [
              0.7777777777777778,
              "#fb9f3a"
             ],
             [
              0.8888888888888888,
              "#fdca26"
             ],
             [
              1,
              "#f0f921"
             ]
            ],
            "type": "heatmap"
           }
          ],
          "heatmapgl": [
           {
            "colorbar": {
             "outlinewidth": 0,
             "ticks": ""
            },
            "colorscale": [
             [
              0,
              "#0d0887"
             ],
             [
              0.1111111111111111,
              "#46039f"
             ],
             [
              0.2222222222222222,
              "#7201a8"
             ],
             [
              0.3333333333333333,
              "#9c179e"
             ],
             [
              0.4444444444444444,
              "#bd3786"
             ],
             [
              0.5555555555555556,
              "#d8576b"
             ],
             [
              0.6666666666666666,
              "#ed7953"
             ],
             [
              0.7777777777777778,
              "#fb9f3a"
             ],
             [
              0.8888888888888888,
              "#fdca26"
             ],
             [
              1,
              "#f0f921"
             ]
            ],
            "type": "heatmapgl"
           }
          ],
          "histogram": [
           {
            "marker": {
             "pattern": {
              "fillmode": "overlay",
              "size": 10,
              "solidity": 0.2
             }
            },
            "type": "histogram"
           }
          ],
          "histogram2d": [
           {
            "colorbar": {
             "outlinewidth": 0,
             "ticks": ""
            },
            "colorscale": [
             [
              0,
              "#0d0887"
             ],
             [
              0.1111111111111111,
              "#46039f"
             ],
             [
              0.2222222222222222,
              "#7201a8"
             ],
             [
              0.3333333333333333,
              "#9c179e"
             ],
             [
              0.4444444444444444,
              "#bd3786"
             ],
             [
              0.5555555555555556,
              "#d8576b"
             ],
             [
              0.6666666666666666,
              "#ed7953"
             ],
             [
              0.7777777777777778,
              "#fb9f3a"
             ],
             [
              0.8888888888888888,
              "#fdca26"
             ],
             [
              1,
              "#f0f921"
             ]
            ],
            "type": "histogram2d"
           }
          ],
          "histogram2dcontour": [
           {
            "colorbar": {
             "outlinewidth": 0,
             "ticks": ""
            },
            "colorscale": [
             [
              0,
              "#0d0887"
             ],
             [
              0.1111111111111111,
              "#46039f"
             ],
             [
              0.2222222222222222,
              "#7201a8"
             ],
             [
              0.3333333333333333,
              "#9c179e"
             ],
             [
              0.4444444444444444,
              "#bd3786"
             ],
             [
              0.5555555555555556,
              "#d8576b"
             ],
             [
              0.6666666666666666,
              "#ed7953"
             ],
             [
              0.7777777777777778,
              "#fb9f3a"
             ],
             [
              0.8888888888888888,
              "#fdca26"
             ],
             [
              1,
              "#f0f921"
             ]
            ],
            "type": "histogram2dcontour"
           }
          ],
          "mesh3d": [
           {
            "colorbar": {
             "outlinewidth": 0,
             "ticks": ""
            },
            "type": "mesh3d"
           }
          ],
          "parcoords": [
           {
            "line": {
             "colorbar": {
              "outlinewidth": 0,
              "ticks": ""
             }
            },
            "type": "parcoords"
           }
          ],
          "pie": [
           {
            "automargin": true,
            "type": "pie"
           }
          ],
          "scatter": [
           {
            "fillpattern": {
             "fillmode": "overlay",
             "size": 10,
             "solidity": 0.2
            },
            "type": "scatter"
           }
          ],
          "scatter3d": [
           {
            "line": {
             "colorbar": {
              "outlinewidth": 0,
              "ticks": ""
             }
            },
            "marker": {
             "colorbar": {
              "outlinewidth": 0,
              "ticks": ""
             }
            },
            "type": "scatter3d"
           }
          ],
          "scattercarpet": [
           {
            "marker": {
             "colorbar": {
              "outlinewidth": 0,
              "ticks": ""
             }
            },
            "type": "scattercarpet"
           }
          ],
          "scattergeo": [
           {
            "marker": {
             "colorbar": {
              "outlinewidth": 0,
              "ticks": ""
             }
            },
            "type": "scattergeo"
           }
          ],
          "scattergl": [
           {
            "marker": {
             "colorbar": {
              "outlinewidth": 0,
              "ticks": ""
             }
            },
            "type": "scattergl"
           }
          ],
          "scattermapbox": [
           {
            "marker": {
             "colorbar": {
              "outlinewidth": 0,
              "ticks": ""
             }
            },
            "type": "scattermapbox"
           }
          ],
          "scatterpolar": [
           {
            "marker": {
             "colorbar": {
              "outlinewidth": 0,
              "ticks": ""
             }
            },
            "type": "scatterpolar"
           }
          ],
          "scatterpolargl": [
           {
            "marker": {
             "colorbar": {
              "outlinewidth": 0,
              "ticks": ""
             }
            },
            "type": "scatterpolargl"
           }
          ],
          "scatterternary": [
           {
            "marker": {
             "colorbar": {
              "outlinewidth": 0,
              "ticks": ""
             }
            },
            "type": "scatterternary"
           }
          ],
          "surface": [
           {
            "colorbar": {
             "outlinewidth": 0,
             "ticks": ""
            },
            "colorscale": [
             [
              0,
              "#0d0887"
             ],
             [
              0.1111111111111111,
              "#46039f"
             ],
             [
              0.2222222222222222,
              "#7201a8"
             ],
             [
              0.3333333333333333,
              "#9c179e"
             ],
             [
              0.4444444444444444,
              "#bd3786"
             ],
             [
              0.5555555555555556,
              "#d8576b"
             ],
             [
              0.6666666666666666,
              "#ed7953"
             ],
             [
              0.7777777777777778,
              "#fb9f3a"
             ],
             [
              0.8888888888888888,
              "#fdca26"
             ],
             [
              1,
              "#f0f921"
             ]
            ],
            "type": "surface"
           }
          ],
          "table": [
           {
            "cells": {
             "fill": {
              "color": "#EBF0F8"
             },
             "line": {
              "color": "white"
             }
            },
            "header": {
             "fill": {
              "color": "#C8D4E3"
             },
             "line": {
              "color": "white"
             }
            },
            "type": "table"
           }
          ]
         },
         "layout": {
          "annotationdefaults": {
           "arrowcolor": "#2a3f5f",
           "arrowhead": 0,
           "arrowwidth": 1
          },
          "autotypenumbers": "strict",
          "coloraxis": {
           "colorbar": {
            "outlinewidth": 0,
            "ticks": ""
           }
          },
          "colorscale": {
           "diverging": [
            [
             0,
             "#8e0152"
            ],
            [
             0.1,
             "#c51b7d"
            ],
            [
             0.2,
             "#de77ae"
            ],
            [
             0.3,
             "#f1b6da"
            ],
            [
             0.4,
             "#fde0ef"
            ],
            [
             0.5,
             "#f7f7f7"
            ],
            [
             0.6,
             "#e6f5d0"
            ],
            [
             0.7,
             "#b8e186"
            ],
            [
             0.8,
             "#7fbc41"
            ],
            [
             0.9,
             "#4d9221"
            ],
            [
             1,
             "#276419"
            ]
           ],
           "sequential": [
            [
             0,
             "#0d0887"
            ],
            [
             0.1111111111111111,
             "#46039f"
            ],
            [
             0.2222222222222222,
             "#7201a8"
            ],
            [
             0.3333333333333333,
             "#9c179e"
            ],
            [
             0.4444444444444444,
             "#bd3786"
            ],
            [
             0.5555555555555556,
             "#d8576b"
            ],
            [
             0.6666666666666666,
             "#ed7953"
            ],
            [
             0.7777777777777778,
             "#fb9f3a"
            ],
            [
             0.8888888888888888,
             "#fdca26"
            ],
            [
             1,
             "#f0f921"
            ]
           ],
           "sequentialminus": [
            [
             0,
             "#0d0887"
            ],
            [
             0.1111111111111111,
             "#46039f"
            ],
            [
             0.2222222222222222,
             "#7201a8"
            ],
            [
             0.3333333333333333,
             "#9c179e"
            ],
            [
             0.4444444444444444,
             "#bd3786"
            ],
            [
             0.5555555555555556,
             "#d8576b"
            ],
            [
             0.6666666666666666,
             "#ed7953"
            ],
            [
             0.7777777777777778,
             "#fb9f3a"
            ],
            [
             0.8888888888888888,
             "#fdca26"
            ],
            [
             1,
             "#f0f921"
            ]
           ]
          },
          "colorway": [
           "#636efa",
           "#EF553B",
           "#00cc96",
           "#ab63fa",
           "#FFA15A",
           "#19d3f3",
           "#FF6692",
           "#B6E880",
           "#FF97FF",
           "#FECB52"
          ],
          "font": {
           "color": "#2a3f5f"
          },
          "geo": {
           "bgcolor": "white",
           "lakecolor": "white",
           "landcolor": "#E5ECF6",
           "showlakes": true,
           "showland": true,
           "subunitcolor": "white"
          },
          "hoverlabel": {
           "align": "left"
          },
          "hovermode": "closest",
          "mapbox": {
           "style": "light"
          },
          "paper_bgcolor": "white",
          "plot_bgcolor": "#E5ECF6",
          "polar": {
           "angularaxis": {
            "gridcolor": "white",
            "linecolor": "white",
            "ticks": ""
           },
           "bgcolor": "#E5ECF6",
           "radialaxis": {
            "gridcolor": "white",
            "linecolor": "white",
            "ticks": ""
           }
          },
          "scene": {
           "xaxis": {
            "backgroundcolor": "#E5ECF6",
            "gridcolor": "white",
            "gridwidth": 2,
            "linecolor": "white",
            "showbackground": true,
            "ticks": "",
            "zerolinecolor": "white"
           },
           "yaxis": {
            "backgroundcolor": "#E5ECF6",
            "gridcolor": "white",
            "gridwidth": 2,
            "linecolor": "white",
            "showbackground": true,
            "ticks": "",
            "zerolinecolor": "white"
           },
           "zaxis": {
            "backgroundcolor": "#E5ECF6",
            "gridcolor": "white",
            "gridwidth": 2,
            "linecolor": "white",
            "showbackground": true,
            "ticks": "",
            "zerolinecolor": "white"
           }
          },
          "shapedefaults": {
           "line": {
            "color": "#2a3f5f"
           }
          },
          "ternary": {
           "aaxis": {
            "gridcolor": "white",
            "linecolor": "white",
            "ticks": ""
           },
           "baxis": {
            "gridcolor": "white",
            "linecolor": "white",
            "ticks": ""
           },
           "bgcolor": "#E5ECF6",
           "caxis": {
            "gridcolor": "white",
            "linecolor": "white",
            "ticks": ""
           }
          },
          "title": {
           "x": 0.05
          },
          "xaxis": {
           "automargin": true,
           "gridcolor": "white",
           "linecolor": "white",
           "ticks": "",
           "title": {
            "standoff": 15
           },
           "zerolinecolor": "white",
           "zerolinewidth": 2
          },
          "yaxis": {
           "automargin": true,
           "gridcolor": "white",
           "linecolor": "white",
           "ticks": "",
           "title": {
            "standoff": 15
           },
           "zerolinecolor": "white",
           "zerolinewidth": 2
          }
         }
        },
        "title": {
         "font": {
          "size": 14
         }
        },
        "width": 400,
        "xaxis": {
         "anchor": "y",
         "constrain": "domain",
         "domain": [
          0,
          1
         ],
         "linecolor": "black",
         "linewidth": 1,
         "mirror": true,
         "scaleanchor": "y",
         "showline": true,
         "showticklabels": true,
         "tickmode": "array",
         "ticks": "",
         "title": {}
        },
        "yaxis": {
         "anchor": "x",
         "autorange": "reversed",
         "constrain": "domain",
         "domain": [
          0,
          1
         ],
         "linecolor": "black",
         "linewidth": 1,
         "mirror": true,
         "showline": true,
         "showticklabels": true,
         "tickmode": "array",
         "ticks": "",
         "ticktext": [
          "BEGIN",
          "s_1",
          "s_1 -> m_1",
          "m_1",
          "m_1 -> m_2",
          "m_2",
          "m_2 -> p",
          "p",
          "p -> s_2",
          "s_2",
          "END"
         ],
         "tickvals": [
          0,
          1,
          2,
          3,
          4,
          5,
          6,
          7,
          8,
          9,
          10
         ],
         "title": {}
        }
       }
      }
     },
     "metadata": {},
     "output_type": "display_data"
    }
   ],
   "source": [
    "pu.plot_residual(h.normalise_tensor(h.resize_all(s_resid_denoising2)), labels, image_dir / \"symbolic_residual2.png\")"
   ]
  },
  {
   "cell_type": "markdown",
   "metadata": {
    "id": "1XJXJBuGabVa"
   },
   "source": [
    "# 4. Circuit Evaluation"
   ]
  },
  {
   "cell_type": "markdown",
   "metadata": {
    "id": "t1c8WJJEabVa"
   },
   "source": [
    "### Figure 5(a) correctness of the circuit"
   ]
  },
  {
   "cell_type": "code",
   "execution_count": 72,
   "metadata": {
    "colab": {
     "base_uri": "https://localhost:8080/"
    },
    "id": "5qbGqXK3abVa",
    "outputId": "28ee71da-c70f-4b5e-ec2d-f228ceb4bd32"
   },
   "outputs": [
    {
     "name": "stderr",
     "output_type": "stream",
     "text": [
      "100%|██████████| 11/11 [00:04<00:00,  2.52it/s]\n",
      "100%|██████████| 11/11 [00:02<00:00,  4.18it/s]\n"
     ]
    }
   ],
   "source": [
    "# necessity of symbolic\n",
    "necessity_score = h.necessity_check(model, s_labels, s_tokens, s_answer_tokens, s_clean_logit_diff, 'mean', device)\n",
    "sufficiency_score = h.sufficiency_check(model, s_labels, s_tokens, s_answer_tokens, s_clean_logit_diff, 'mean', device)"
   ]
  },
  {
   "cell_type": "code",
   "execution_count": 73,
   "metadata": {
    "colab": {
     "base_uri": "https://localhost:8080/",
     "height": 517
    },
    "id": "5c2JFfVGabVa",
    "outputId": "440b44b1-b709-4a19-f9f6-5cb5d11374d7"
   },
   "outputs": [
    {
     "name": "stdout",
     "output_type": "stream",
     "text": [
      "Plot saved to ../images/pythia-31m/correctness_of_circuit.png\n"
     ]
    },
    {
     "data": {
      "application/vnd.plotly.v1+json": {
       "config": {
        "plotlyServerURL": "https://plot.ly"
       },
       "data": [
        {
         "line": {
          "color": "#bcbd22",
          "width": 3
         },
         "marker": {
          "size": 8,
          "symbol": "circle"
         },
         "mode": "lines+markers",
         "name": "Necessity",
         "type": "scatter",
         "x": [
          0,
          1,
          2,
          3,
          4,
          5,
          6,
          7,
          8,
          9,
          10,
          11
         ],
         "y": [
          0.8832273483276367,
          0.8845407366752625,
          0.896110475063324,
          0.89653080701828,
          0.9006266593933105,
          0.9015951156616211,
          0.8995829820632935,
          0.9007763266563416,
          0.922817587852478,
          0.9192777276039124,
          0.926037609577179,
          0.9274753332138062
         ]
        },
        {
         "line": {
          "color": "#9467bd",
          "width": 3
         },
         "marker": {
          "size": 8,
          "symbol": "square"
         },
         "mode": "lines+markers",
         "name": "Sufficiency",
         "type": "scatter",
         "x": [
          0,
          1,
          2,
          3,
          4,
          5,
          6,
          7,
          8,
          9,
          10,
          11
         ],
         "y": [
          0,
          -0.00005811055962112732,
          -0.00015157063899096102,
          -0.0002463023120071739,
          -0.00029096603975631297,
          -0.00025548937264829874,
          -0.0002143542078556493,
          -0.00009021759615279734,
          0.035253558307886124,
          0.03558899834752083,
          0.03247445449233055,
          0.03249289467930794
         ]
        }
       ],
       "layout": {
        "height": 500,
        "legend": {
         "bgcolor": "rgba(255, 255, 255, 0.8)",
         "font": {
          "size": 20
         },
         "x": 0.02,
         "y": 0.98
        },
        "margin": {
         "b": 10,
         "l": 0,
         "r": 0,
         "t": 10
        },
        "plot_bgcolor": "white",
        "shapes": [
         {
          "line": {
           "color": "#000000",
           "dash": "dash",
           "width": 3
          },
          "type": "line",
          "x0": 0,
          "x1": 1,
          "xref": "x domain",
          "y0": 0.8832273483276367,
          "y1": 0.8832273483276367,
          "yref": "y"
         }
        ],
        "template": {
         "data": {
          "bar": [
           {
            "error_x": {
             "color": "#2a3f5f"
            },
            "error_y": {
             "color": "#2a3f5f"
            },
            "marker": {
             "line": {
              "color": "#E5ECF6",
              "width": 0.5
             },
             "pattern": {
              "fillmode": "overlay",
              "size": 10,
              "solidity": 0.2
             }
            },
            "type": "bar"
           }
          ],
          "barpolar": [
           {
            "marker": {
             "line": {
              "color": "#E5ECF6",
              "width": 0.5
             },
             "pattern": {
              "fillmode": "overlay",
              "size": 10,
              "solidity": 0.2
             }
            },
            "type": "barpolar"
           }
          ],
          "carpet": [
           {
            "aaxis": {
             "endlinecolor": "#2a3f5f",
             "gridcolor": "white",
             "linecolor": "white",
             "minorgridcolor": "white",
             "startlinecolor": "#2a3f5f"
            },
            "baxis": {
             "endlinecolor": "#2a3f5f",
             "gridcolor": "white",
             "linecolor": "white",
             "minorgridcolor": "white",
             "startlinecolor": "#2a3f5f"
            },
            "type": "carpet"
           }
          ],
          "choropleth": [
           {
            "colorbar": {
             "outlinewidth": 0,
             "ticks": ""
            },
            "type": "choropleth"
           }
          ],
          "contour": [
           {
            "colorbar": {
             "outlinewidth": 0,
             "ticks": ""
            },
            "colorscale": [
             [
              0,
              "#0d0887"
             ],
             [
              0.1111111111111111,
              "#46039f"
             ],
             [
              0.2222222222222222,
              "#7201a8"
             ],
             [
              0.3333333333333333,
              "#9c179e"
             ],
             [
              0.4444444444444444,
              "#bd3786"
             ],
             [
              0.5555555555555556,
              "#d8576b"
             ],
             [
              0.6666666666666666,
              "#ed7953"
             ],
             [
              0.7777777777777778,
              "#fb9f3a"
             ],
             [
              0.8888888888888888,
              "#fdca26"
             ],
             [
              1,
              "#f0f921"
             ]
            ],
            "type": "contour"
           }
          ],
          "contourcarpet": [
           {
            "colorbar": {
             "outlinewidth": 0,
             "ticks": ""
            },
            "type": "contourcarpet"
           }
          ],
          "heatmap": [
           {
            "colorbar": {
             "outlinewidth": 0,
             "ticks": ""
            },
            "colorscale": [
             [
              0,
              "#0d0887"
             ],
             [
              0.1111111111111111,
              "#46039f"
             ],
             [
              0.2222222222222222,
              "#7201a8"
             ],
             [
              0.3333333333333333,
              "#9c179e"
             ],
             [
              0.4444444444444444,
              "#bd3786"
             ],
             [
              0.5555555555555556,
              "#d8576b"
             ],
             [
              0.6666666666666666,
              "#ed7953"
             ],
             [
              0.7777777777777778,
              "#fb9f3a"
             ],
             [
              0.8888888888888888,
              "#fdca26"
             ],
             [
              1,
              "#f0f921"
             ]
            ],
            "type": "heatmap"
           }
          ],
          "heatmapgl": [
           {
            "colorbar": {
             "outlinewidth": 0,
             "ticks": ""
            },
            "colorscale": [
             [
              0,
              "#0d0887"
             ],
             [
              0.1111111111111111,
              "#46039f"
             ],
             [
              0.2222222222222222,
              "#7201a8"
             ],
             [
              0.3333333333333333,
              "#9c179e"
             ],
             [
              0.4444444444444444,
              "#bd3786"
             ],
             [
              0.5555555555555556,
              "#d8576b"
             ],
             [
              0.6666666666666666,
              "#ed7953"
             ],
             [
              0.7777777777777778,
              "#fb9f3a"
             ],
             [
              0.8888888888888888,
              "#fdca26"
             ],
             [
              1,
              "#f0f921"
             ]
            ],
            "type": "heatmapgl"
           }
          ],
          "histogram": [
           {
            "marker": {
             "pattern": {
              "fillmode": "overlay",
              "size": 10,
              "solidity": 0.2
             }
            },
            "type": "histogram"
           }
          ],
          "histogram2d": [
           {
            "colorbar": {
             "outlinewidth": 0,
             "ticks": ""
            },
            "colorscale": [
             [
              0,
              "#0d0887"
             ],
             [
              0.1111111111111111,
              "#46039f"
             ],
             [
              0.2222222222222222,
              "#7201a8"
             ],
             [
              0.3333333333333333,
              "#9c179e"
             ],
             [
              0.4444444444444444,
              "#bd3786"
             ],
             [
              0.5555555555555556,
              "#d8576b"
             ],
             [
              0.6666666666666666,
              "#ed7953"
             ],
             [
              0.7777777777777778,
              "#fb9f3a"
             ],
             [
              0.8888888888888888,
              "#fdca26"
             ],
             [
              1,
              "#f0f921"
             ]
            ],
            "type": "histogram2d"
           }
          ],
          "histogram2dcontour": [
           {
            "colorbar": {
             "outlinewidth": 0,
             "ticks": ""
            },
            "colorscale": [
             [
              0,
              "#0d0887"
             ],
             [
              0.1111111111111111,
              "#46039f"
             ],
             [
              0.2222222222222222,
              "#7201a8"
             ],
             [
              0.3333333333333333,
              "#9c179e"
             ],
             [
              0.4444444444444444,
              "#bd3786"
             ],
             [
              0.5555555555555556,
              "#d8576b"
             ],
             [
              0.6666666666666666,
              "#ed7953"
             ],
             [
              0.7777777777777778,
              "#fb9f3a"
             ],
             [
              0.8888888888888888,
              "#fdca26"
             ],
             [
              1,
              "#f0f921"
             ]
            ],
            "type": "histogram2dcontour"
           }
          ],
          "mesh3d": [
           {
            "colorbar": {
             "outlinewidth": 0,
             "ticks": ""
            },
            "type": "mesh3d"
           }
          ],
          "parcoords": [
           {
            "line": {
             "colorbar": {
              "outlinewidth": 0,
              "ticks": ""
             }
            },
            "type": "parcoords"
           }
          ],
          "pie": [
           {
            "automargin": true,
            "type": "pie"
           }
          ],
          "scatter": [
           {
            "fillpattern": {
             "fillmode": "overlay",
             "size": 10,
             "solidity": 0.2
            },
            "type": "scatter"
           }
          ],
          "scatter3d": [
           {
            "line": {
             "colorbar": {
              "outlinewidth": 0,
              "ticks": ""
             }
            },
            "marker": {
             "colorbar": {
              "outlinewidth": 0,
              "ticks": ""
             }
            },
            "type": "scatter3d"
           }
          ],
          "scattercarpet": [
           {
            "marker": {
             "colorbar": {
              "outlinewidth": 0,
              "ticks": ""
             }
            },
            "type": "scattercarpet"
           }
          ],
          "scattergeo": [
           {
            "marker": {
             "colorbar": {
              "outlinewidth": 0,
              "ticks": ""
             }
            },
            "type": "scattergeo"
           }
          ],
          "scattergl": [
           {
            "marker": {
             "colorbar": {
              "outlinewidth": 0,
              "ticks": ""
             }
            },
            "type": "scattergl"
           }
          ],
          "scattermapbox": [
           {
            "marker": {
             "colorbar": {
              "outlinewidth": 0,
              "ticks": ""
             }
            },
            "type": "scattermapbox"
           }
          ],
          "scatterpolar": [
           {
            "marker": {
             "colorbar": {
              "outlinewidth": 0,
              "ticks": ""
             }
            },
            "type": "scatterpolar"
           }
          ],
          "scatterpolargl": [
           {
            "marker": {
             "colorbar": {
              "outlinewidth": 0,
              "ticks": ""
             }
            },
            "type": "scatterpolargl"
           }
          ],
          "scatterternary": [
           {
            "marker": {
             "colorbar": {
              "outlinewidth": 0,
              "ticks": ""
             }
            },
            "type": "scatterternary"
           }
          ],
          "surface": [
           {
            "colorbar": {
             "outlinewidth": 0,
             "ticks": ""
            },
            "colorscale": [
             [
              0,
              "#0d0887"
             ],
             [
              0.1111111111111111,
              "#46039f"
             ],
             [
              0.2222222222222222,
              "#7201a8"
             ],
             [
              0.3333333333333333,
              "#9c179e"
             ],
             [
              0.4444444444444444,
              "#bd3786"
             ],
             [
              0.5555555555555556,
              "#d8576b"
             ],
             [
              0.6666666666666666,
              "#ed7953"
             ],
             [
              0.7777777777777778,
              "#fb9f3a"
             ],
             [
              0.8888888888888888,
              "#fdca26"
             ],
             [
              1,
              "#f0f921"
             ]
            ],
            "type": "surface"
           }
          ],
          "table": [
           {
            "cells": {
             "fill": {
              "color": "#EBF0F8"
             },
             "line": {
              "color": "white"
             }
            },
            "header": {
             "fill": {
              "color": "#C8D4E3"
             },
             "line": {
              "color": "white"
             }
            },
            "type": "table"
           }
          ]
         },
         "layout": {
          "annotationdefaults": {
           "arrowcolor": "#2a3f5f",
           "arrowhead": 0,
           "arrowwidth": 1
          },
          "autotypenumbers": "strict",
          "coloraxis": {
           "colorbar": {
            "outlinewidth": 0,
            "ticks": ""
           }
          },
          "colorscale": {
           "diverging": [
            [
             0,
             "#8e0152"
            ],
            [
             0.1,
             "#c51b7d"
            ],
            [
             0.2,
             "#de77ae"
            ],
            [
             0.3,
             "#f1b6da"
            ],
            [
             0.4,
             "#fde0ef"
            ],
            [
             0.5,
             "#f7f7f7"
            ],
            [
             0.6,
             "#e6f5d0"
            ],
            [
             0.7,
             "#b8e186"
            ],
            [
             0.8,
             "#7fbc41"
            ],
            [
             0.9,
             "#4d9221"
            ],
            [
             1,
             "#276419"
            ]
           ],
           "sequential": [
            [
             0,
             "#0d0887"
            ],
            [
             0.1111111111111111,
             "#46039f"
            ],
            [
             0.2222222222222222,
             "#7201a8"
            ],
            [
             0.3333333333333333,
             "#9c179e"
            ],
            [
             0.4444444444444444,
             "#bd3786"
            ],
            [
             0.5555555555555556,
             "#d8576b"
            ],
            [
             0.6666666666666666,
             "#ed7953"
            ],
            [
             0.7777777777777778,
             "#fb9f3a"
            ],
            [
             0.8888888888888888,
             "#fdca26"
            ],
            [
             1,
             "#f0f921"
            ]
           ],
           "sequentialminus": [
            [
             0,
             "#0d0887"
            ],
            [
             0.1111111111111111,
             "#46039f"
            ],
            [
             0.2222222222222222,
             "#7201a8"
            ],
            [
             0.3333333333333333,
             "#9c179e"
            ],
            [
             0.4444444444444444,
             "#bd3786"
            ],
            [
             0.5555555555555556,
             "#d8576b"
            ],
            [
             0.6666666666666666,
             "#ed7953"
            ],
            [
             0.7777777777777778,
             "#fb9f3a"
            ],
            [
             0.8888888888888888,
             "#fdca26"
            ],
            [
             1,
             "#f0f921"
            ]
           ]
          },
          "colorway": [
           "#636efa",
           "#EF553B",
           "#00cc96",
           "#ab63fa",
           "#FFA15A",
           "#19d3f3",
           "#FF6692",
           "#B6E880",
           "#FF97FF",
           "#FECB52"
          ],
          "font": {
           "color": "#2a3f5f"
          },
          "geo": {
           "bgcolor": "white",
           "lakecolor": "white",
           "landcolor": "#E5ECF6",
           "showlakes": true,
           "showland": true,
           "subunitcolor": "white"
          },
          "hoverlabel": {
           "align": "left"
          },
          "hovermode": "closest",
          "mapbox": {
           "style": "light"
          },
          "paper_bgcolor": "white",
          "plot_bgcolor": "#E5ECF6",
          "polar": {
           "angularaxis": {
            "gridcolor": "white",
            "linecolor": "white",
            "ticks": ""
           },
           "bgcolor": "#E5ECF6",
           "radialaxis": {
            "gridcolor": "white",
            "linecolor": "white",
            "ticks": ""
           }
          },
          "scene": {
           "xaxis": {
            "backgroundcolor": "#E5ECF6",
            "gridcolor": "white",
            "gridwidth": 2,
            "linecolor": "white",
            "showbackground": true,
            "ticks": "",
            "zerolinecolor": "white"
           },
           "yaxis": {
            "backgroundcolor": "#E5ECF6",
            "gridcolor": "white",
            "gridwidth": 2,
            "linecolor": "white",
            "showbackground": true,
            "ticks": "",
            "zerolinecolor": "white"
           },
           "zaxis": {
            "backgroundcolor": "#E5ECF6",
            "gridcolor": "white",
            "gridwidth": 2,
            "linecolor": "white",
            "showbackground": true,
            "ticks": "",
            "zerolinecolor": "white"
           }
          },
          "shapedefaults": {
           "line": {
            "color": "#2a3f5f"
           }
          },
          "ternary": {
           "aaxis": {
            "gridcolor": "white",
            "linecolor": "white",
            "ticks": ""
           },
           "baxis": {
            "gridcolor": "white",
            "linecolor": "white",
            "ticks": ""
           },
           "bgcolor": "#E5ECF6",
           "caxis": {
            "gridcolor": "white",
            "linecolor": "white",
            "ticks": ""
           }
          },
          "title": {
           "x": 0.05
          },
          "xaxis": {
           "automargin": true,
           "gridcolor": "white",
           "linecolor": "white",
           "ticks": "",
           "title": {
            "standoff": 15
           },
           "zerolinecolor": "white",
           "zerolinewidth": 2
          },
          "yaxis": {
           "automargin": true,
           "gridcolor": "white",
           "linecolor": "white",
           "ticks": "",
           "title": {
            "standoff": 15
           },
           "zerolinecolor": "white",
           "zerolinewidth": 2
          }
         }
        },
        "title": {
         "text": ""
        },
        "width": 500,
        "xaxis": {
         "linecolor": "black",
         "linewidth": 1,
         "mirror": true,
         "showline": true,
         "showticklabels": true,
         "title": {
          "text": ""
         }
        },
        "yaxis": {
         "linecolor": "black",
         "linewidth": 1,
         "mirror": true,
         "showline": true,
         "showticklabels": true,
         "title": {
          "text": ""
         }
        }
       }
      }
     },
     "metadata": {},
     "output_type": "display_data"
    }
   ],
   "source": [
    "pu.plot_ablation(s_clean_logit_diff, necessity_score, sufficiency_score, image_dir / \"correctness_of_circuit.png\")"
   ]
  },
  {
   "cell_type": "markdown",
   "metadata": {
    "id": "WZ06rd7MabVa"
   },
   "source": [
    "### Figure 5(b) robustness of the circuit"
   ]
  },
  {
   "cell_type": "code",
   "execution_count": 99,
   "metadata": {
    "colab": {
     "base_uri": "https://localhost:8080/"
    },
    "id": "5tDXuxKfabVa",
    "outputId": "a6e88588-a81a-47c2-f285-6341735346b7"
   },
   "outputs": [
    {
     "name": "stdout",
     "output_type": "stream",
     "text": [
      "All 8 are 1. All 1 are 7. Therefore, all 8 are =>  7\n",
      "All 8 are 7. All 7 are 1. Therefore, all 8 are =>  1\n",
      "All 1 are 8. All 8 are 7. Therefore, all 1 are =>  7\n",
      "All 1 are 7. All 7 are 8. Therefore, all 1 are =>  8\n",
      "All 7 are 8. All 8 are 1. Therefore, all 7 are =>  1\n",
      "All 7 are 1. All 1 are 8. Therefore, all 7 are =>  8\n"
     ]
    }
   ],
   "source": [
    "# numeric perturbed dataset\n",
    "n_dataset = SyllogismDataset(\n",
    "            N=N/6, # because of permutation\n",
    "            seed=seed,\n",
    "            device=device,\n",
    "            type='numeric',\n",
    "            template_type='AAA1'\n",
    "        )\n",
    "for s, l in zip(n_dataset.sentences[:6], n_dataset.labels[:6]):\n",
    "    print(f'{s} => {l}')\n"
   ]
  },
  {
   "cell_type": "code",
   "execution_count": 100,
   "metadata": {
    "id": "ZhqqYbxVabVa"
   },
   "outputs": [],
   "source": [
    "# Corruption (option)\n",
    "def perturb_quantifier(prompts, As, Bs, labels):\n",
    "    candidates = [' Every', ' Every', ' Each', ' Each', ' All']\n",
    "    corrupted_prompts = []\n",
    "    for i in range(len(prompts)):\n",
    "        prompt = prompts[i]\n",
    "        label = labels[i]\n",
    "        corrupted_labels = []\n",
    "        A = As[i]\n",
    "        B = Bs[i]\n",
    "        new_list = list(filter(lambda x: x not in [A, B, label], candidates))\n",
    "        target = random.sample(new_list, 2)\n",
    "        a_be = ' are' if target[0] == ' All' else ' is'\n",
    "        b_be = ' are' if target[1] == ' All' else ' is'\n",
    "        corrupted_prompt = prompt.replace(' All' + B + ' are' , target[0] + B + a_be).replace('All' + A + ' are', target[1][1:] + A + b_be)\n",
    "        corrupted_prompts.append(corrupted_prompt)\n",
    "        corrupted_labels.append(target)\n",
    "\n",
    "    return corrupted_prompts, corrupted_labels\n"
   ]
  },
  {
   "cell_type": "code",
   "execution_count": 101,
   "metadata": {
    "id": "frc6mWZ_abVb"
   },
   "outputs": [],
   "source": [
    "n_prompts = n_dataset.sentences\n",
    "n_labels = n_dataset.labels\n",
    "n_second_labels = n_dataset.B\n",
    "\n",
    "n_answers = list(zip(n_labels, n_second_labels))\n",
    "n_answer_tokens = t.concat([\n",
    "    model.to_tokens(names, prepend_bos=False).T for names in n_answers\n",
    "])"
   ]
  },
  {
   "cell_type": "code",
   "execution_count": 102,
   "metadata": {
    "id": "74ckaPewabVb"
   },
   "outputs": [],
   "source": [
    "q_prompts = s_dataset.sentences\n",
    "q_labels = s_dataset.labels\n",
    "q_As = s_dataset.A\n",
    "q_Bs = s_dataset.B\n",
    "\n",
    "q_corrupted_prompts, _ = perturb_quantifier(q_prompts, q_As, q_Bs, q_labels)\n",
    "\n",
    "q_answers = list(zip(q_labels, q_Bs))\n",
    "q_answer_tokens = t.concat([\n",
    "    model.to_tokens(names, prepend_bos=False).T for names in q_answers\n",
    "])"
   ]
  },
  {
   "cell_type": "code",
   "execution_count": 103,
   "metadata": {
    "id": "XkJx18SeabVb"
   },
   "outputs": [],
   "source": [
    "# tokenisation\n",
    "n_tokens = model.to_tokens(n_prompts, prepend_bos=False).to(device)\n",
    "q_tokens = model.to_tokens(q_prompts, prepend_bos=False).to(device)"
   ]
  },
  {
   "cell_type": "code",
   "execution_count": 104,
   "metadata": {
    "colab": {
     "base_uri": "https://localhost:8080/"
    },
    "id": "VsmAG_KOabVb",
    "outputId": "72096c5c-42e5-4028-ee31-dfd499a54821"
   },
   "outputs": [
    {
     "name": "stdout",
     "output_type": "stream",
     "text": [
      "Clean logit diff: 0.1938\n",
      "Clean logit diff: -0.0007\n"
     ]
    }
   ],
   "source": [
    "# Compute logits for interventions\n",
    "n_clean_logits, n_clean_cache = model.run_with_cache(n_tokens)\n",
    "q_clean_logits, q_clean_cache = model.run_with_cache(n_tokens)\n",
    "\n",
    "n_clean_logit_diff = h.compute_logit_diff(n_clean_logits, n_answer_tokens)\n",
    "print(f\"Clean logit diff: {n_clean_logit_diff:.4f}\")\n",
    "\n",
    "q_clean_logit_diff = h.compute_logit_diff(q_clean_logits, q_answer_tokens)\n",
    "print(f\"Clean logit diff: {q_clean_logit_diff:.4f}\")"
   ]
  },
  {
   "cell_type": "code",
   "execution_count": 105,
   "metadata": {
    "colab": {
     "base_uri": "https://localhost:8080/"
    },
    "id": "-BrMe0siabVb",
    "outputId": "d650a313-948d-43f9-c5f2-13640686c8f6"
   },
   "outputs": [
    {
     "name": "stderr",
     "output_type": "stream",
     "text": [
      "100%|██████████| 11/11 [00:07<00:00,  1.42it/s]\n",
      "100%|██████████| 11/11 [00:02<00:00,  4.09it/s]\n"
     ]
    }
   ],
   "source": [
    "# necessity, sufficiency of numeric perturbation\n",
    "n_necessity_score = h.necessity_check(model, n_labels, n_tokens, n_answer_tokens, n_clean_logit_diff, 'mean', device)\n",
    "n_sufficiency_score = h.sufficiency_check(model, n_labels, n_tokens, n_answer_tokens, n_clean_logit_diff, 'mean', device)"
   ]
  },
  {
   "cell_type": "code",
   "execution_count": 106,
   "metadata": {
    "colab": {
     "base_uri": "https://localhost:8080/"
    },
    "id": "k9Y6z4XiabVb",
    "outputId": "ba4a6abb-3559-4f08-b8ac-ecdf6fa9628e"
   },
   "outputs": [
    {
     "name": "stderr",
     "output_type": "stream",
     "text": [
      "100%|██████████| 11/11 [00:03<00:00,  3.31it/s]\n",
      "100%|██████████| 11/11 [00:02<00:00,  3.98it/s]\n"
     ]
    }
   ],
   "source": [
    "# necessity, sufficiency of quantifier perturbation\n",
    "q_necessity_score = h.necessity_check(model, q_labels, q_tokens, q_answer_tokens, q_clean_logit_diff, 'mean', device)\n",
    "q_sufficiency_score = h.sufficiency_check(model, q_labels, q_tokens, q_answer_tokens, q_clean_logit_diff, 'mean', device)"
   ]
  },
  {
   "cell_type": "code",
   "execution_count": 107,
   "metadata": {
    "colab": {
     "base_uri": "https://localhost:8080/",
     "height": 517
    },
    "id": "-LHx3KMDabVb",
    "outputId": "a22a20e7-139b-48af-9c79-2242c2b8eeb7"
   },
   "outputs": [
    {
     "name": "stdout",
     "output_type": "stream",
     "text": [
      "Plot saved to ../images/cript-medium/robustness_of_circuit.png\n"
     ]
    },
    {
     "data": {
      "application/vnd.plotly.v1+json": {
       "config": {
        "plotlyServerURL": "https://plot.ly"
       },
       "data": [
        {
         "line": {
          "color": "#bcbd22",
          "dash": "solid",
          "width": 3
         },
         "marker": {
          "symbol": "circle"
         },
         "name": "Necessity (N)",
         "type": "scatter",
         "x": [
          0,
          1,
          2,
          3,
          4,
          5,
          6,
          7,
          8,
          9,
          10,
          11
         ],
         "y": [
          0.19378256797790527,
          0.1936343014240265,
          0.11057460308074951,
          0.11072337627410889,
          0.10129751265048981,
          -0.1064552366733551,
          -0.2322792112827301,
          -0.2387993037700653,
          -0.246489480137825,
          -0.23454056680202484,
          -0.245987206697464,
          -0.26335805654525757
         ]
        },
        {
         "line": {
          "color": "#9467bd",
          "dash": "solid",
          "width": 3
         },
         "marker": {
          "symbol": "square"
         },
         "name": "Sufficiency (N)",
         "type": "scatter",
         "x": [
          0,
          1,
          2,
          3,
          4,
          5,
          6,
          7,
          8,
          9,
          10,
          11
         ],
         "y": [
          0,
          -0.0020678204018622637,
          -0.005944315809756517,
          -0.0017979940166696906,
          0.0014129639603197575,
          0.0010464986553415656,
          0.13490524888038635,
          0.3736221492290497,
          0.3714993894100189,
          0.3761535882949829,
          0.4243510067462921,
          0.42484691739082336
         ]
        },
        {
         "line": {
          "color": "#bcbd22",
          "dash": "dot",
          "width": 3
         },
         "marker": {
          "symbol": "circle"
         },
         "name": "Necessity (Q)",
         "showlegend": true,
         "type": "scatter",
         "x": [
          0,
          1,
          2,
          3,
          4,
          5,
          6,
          7,
          8,
          9,
          10,
          11
         ],
         "y": [
          -0.0006663004751317203,
          0.723330557346344,
          0.3469294309616089,
          0.17348207533359528,
          0.3080047070980072,
          -0.33191728591918945,
          -0.7899644374847412,
          -0.7839815616607666,
          -0.77912437915802,
          -0.7751577496528625,
          -0.7434284687042236,
          -0.7349688410758972
         ]
        },
        {
         "line": {
          "color": "#9467bd",
          "dash": "dot",
          "width": 3
         },
         "marker": {
          "symbol": "square"
         },
         "name": "Sufficiency (Q)",
         "showlegend": true,
         "type": "scatter",
         "x": [
          0,
          1,
          2,
          3,
          4,
          5,
          6,
          7,
          8,
          9,
          10,
          11
         ],
         "y": [
          0,
          -0.0007301330915652215,
          -0.004498164169490337,
          -0.00018946330237668008,
          -0.000713094137609005,
          0.001864878460764885,
          0.5599557757377625,
          1.3330250978469849,
          1.132232666015625,
          1.3684059381484985,
          1.2992464303970337,
          0.6112181544303894
         ]
        }
       ],
       "layout": {
        "bargap": 0.1,
        "bargroupgap": 0.1,
        "barmode": "group",
        "height": 500,
        "legend": {
         "bgcolor": "rgba(255, 255, 255, 0.8)",
         "font": {
          "size": 20
         },
         "x": 0.02,
         "y": 0.98
        },
        "margin": {
         "b": 10,
         "l": 0,
         "r": 0,
         "t": 10
        },
        "plot_bgcolor": "white",
        "shapes": [
         {
          "line": {
           "color": "#000000",
           "dash": "dash",
           "width": 3
          },
          "name": "Baseline",
          "type": "line",
          "x0": 0,
          "x1": 1,
          "xref": "x domain",
          "y0": 0.19378256797790527,
          "y1": 0.19378256797790527,
          "yref": "y"
         },
         {
          "line": {
           "color": "#000000",
           "dash": "dash",
           "width": 3
          },
          "type": "line",
          "x0": 0,
          "x1": 1,
          "xref": "x domain",
          "y0": -0.0006663004751317203,
          "y1": -0.0006663004751317203,
          "yref": "y"
         }
        ],
        "template": {
         "data": {
          "bar": [
           {
            "error_x": {
             "color": "#2a3f5f"
            },
            "error_y": {
             "color": "#2a3f5f"
            },
            "marker": {
             "line": {
              "color": "#E5ECF6",
              "width": 0.5
             },
             "pattern": {
              "fillmode": "overlay",
              "size": 10,
              "solidity": 0.2
             }
            },
            "type": "bar"
           }
          ],
          "barpolar": [
           {
            "marker": {
             "line": {
              "color": "#E5ECF6",
              "width": 0.5
             },
             "pattern": {
              "fillmode": "overlay",
              "size": 10,
              "solidity": 0.2
             }
            },
            "type": "barpolar"
           }
          ],
          "carpet": [
           {
            "aaxis": {
             "endlinecolor": "#2a3f5f",
             "gridcolor": "white",
             "linecolor": "white",
             "minorgridcolor": "white",
             "startlinecolor": "#2a3f5f"
            },
            "baxis": {
             "endlinecolor": "#2a3f5f",
             "gridcolor": "white",
             "linecolor": "white",
             "minorgridcolor": "white",
             "startlinecolor": "#2a3f5f"
            },
            "type": "carpet"
           }
          ],
          "choropleth": [
           {
            "colorbar": {
             "outlinewidth": 0,
             "ticks": ""
            },
            "type": "choropleth"
           }
          ],
          "contour": [
           {
            "colorbar": {
             "outlinewidth": 0,
             "ticks": ""
            },
            "colorscale": [
             [
              0,
              "#0d0887"
             ],
             [
              0.1111111111111111,
              "#46039f"
             ],
             [
              0.2222222222222222,
              "#7201a8"
             ],
             [
              0.3333333333333333,
              "#9c179e"
             ],
             [
              0.4444444444444444,
              "#bd3786"
             ],
             [
              0.5555555555555556,
              "#d8576b"
             ],
             [
              0.6666666666666666,
              "#ed7953"
             ],
             [
              0.7777777777777778,
              "#fb9f3a"
             ],
             [
              0.8888888888888888,
              "#fdca26"
             ],
             [
              1,
              "#f0f921"
             ]
            ],
            "type": "contour"
           }
          ],
          "contourcarpet": [
           {
            "colorbar": {
             "outlinewidth": 0,
             "ticks": ""
            },
            "type": "contourcarpet"
           }
          ],
          "heatmap": [
           {
            "colorbar": {
             "outlinewidth": 0,
             "ticks": ""
            },
            "colorscale": [
             [
              0,
              "#0d0887"
             ],
             [
              0.1111111111111111,
              "#46039f"
             ],
             [
              0.2222222222222222,
              "#7201a8"
             ],
             [
              0.3333333333333333,
              "#9c179e"
             ],
             [
              0.4444444444444444,
              "#bd3786"
             ],
             [
              0.5555555555555556,
              "#d8576b"
             ],
             [
              0.6666666666666666,
              "#ed7953"
             ],
             [
              0.7777777777777778,
              "#fb9f3a"
             ],
             [
              0.8888888888888888,
              "#fdca26"
             ],
             [
              1,
              "#f0f921"
             ]
            ],
            "type": "heatmap"
           }
          ],
          "heatmapgl": [
           {
            "colorbar": {
             "outlinewidth": 0,
             "ticks": ""
            },
            "colorscale": [
             [
              0,
              "#0d0887"
             ],
             [
              0.1111111111111111,
              "#46039f"
             ],
             [
              0.2222222222222222,
              "#7201a8"
             ],
             [
              0.3333333333333333,
              "#9c179e"
             ],
             [
              0.4444444444444444,
              "#bd3786"
             ],
             [
              0.5555555555555556,
              "#d8576b"
             ],
             [
              0.6666666666666666,
              "#ed7953"
             ],
             [
              0.7777777777777778,
              "#fb9f3a"
             ],
             [
              0.8888888888888888,
              "#fdca26"
             ],
             [
              1,
              "#f0f921"
             ]
            ],
            "type": "heatmapgl"
           }
          ],
          "histogram": [
           {
            "marker": {
             "pattern": {
              "fillmode": "overlay",
              "size": 10,
              "solidity": 0.2
             }
            },
            "type": "histogram"
           }
          ],
          "histogram2d": [
           {
            "colorbar": {
             "outlinewidth": 0,
             "ticks": ""
            },
            "colorscale": [
             [
              0,
              "#0d0887"
             ],
             [
              0.1111111111111111,
              "#46039f"
             ],
             [
              0.2222222222222222,
              "#7201a8"
             ],
             [
              0.3333333333333333,
              "#9c179e"
             ],
             [
              0.4444444444444444,
              "#bd3786"
             ],
             [
              0.5555555555555556,
              "#d8576b"
             ],
             [
              0.6666666666666666,
              "#ed7953"
             ],
             [
              0.7777777777777778,
              "#fb9f3a"
             ],
             [
              0.8888888888888888,
              "#fdca26"
             ],
             [
              1,
              "#f0f921"
             ]
            ],
            "type": "histogram2d"
           }
          ],
          "histogram2dcontour": [
           {
            "colorbar": {
             "outlinewidth": 0,
             "ticks": ""
            },
            "colorscale": [
             [
              0,
              "#0d0887"
             ],
             [
              0.1111111111111111,
              "#46039f"
             ],
             [
              0.2222222222222222,
              "#7201a8"
             ],
             [
              0.3333333333333333,
              "#9c179e"
             ],
             [
              0.4444444444444444,
              "#bd3786"
             ],
             [
              0.5555555555555556,
              "#d8576b"
             ],
             [
              0.6666666666666666,
              "#ed7953"
             ],
             [
              0.7777777777777778,
              "#fb9f3a"
             ],
             [
              0.8888888888888888,
              "#fdca26"
             ],
             [
              1,
              "#f0f921"
             ]
            ],
            "type": "histogram2dcontour"
           }
          ],
          "mesh3d": [
           {
            "colorbar": {
             "outlinewidth": 0,
             "ticks": ""
            },
            "type": "mesh3d"
           }
          ],
          "parcoords": [
           {
            "line": {
             "colorbar": {
              "outlinewidth": 0,
              "ticks": ""
             }
            },
            "type": "parcoords"
           }
          ],
          "pie": [
           {
            "automargin": true,
            "type": "pie"
           }
          ],
          "scatter": [
           {
            "fillpattern": {
             "fillmode": "overlay",
             "size": 10,
             "solidity": 0.2
            },
            "type": "scatter"
           }
          ],
          "scatter3d": [
           {
            "line": {
             "colorbar": {
              "outlinewidth": 0,
              "ticks": ""
             }
            },
            "marker": {
             "colorbar": {
              "outlinewidth": 0,
              "ticks": ""
             }
            },
            "type": "scatter3d"
           }
          ],
          "scattercarpet": [
           {
            "marker": {
             "colorbar": {
              "outlinewidth": 0,
              "ticks": ""
             }
            },
            "type": "scattercarpet"
           }
          ],
          "scattergeo": [
           {
            "marker": {
             "colorbar": {
              "outlinewidth": 0,
              "ticks": ""
             }
            },
            "type": "scattergeo"
           }
          ],
          "scattergl": [
           {
            "marker": {
             "colorbar": {
              "outlinewidth": 0,
              "ticks": ""
             }
            },
            "type": "scattergl"
           }
          ],
          "scattermapbox": [
           {
            "marker": {
             "colorbar": {
              "outlinewidth": 0,
              "ticks": ""
             }
            },
            "type": "scattermapbox"
           }
          ],
          "scatterpolar": [
           {
            "marker": {
             "colorbar": {
              "outlinewidth": 0,
              "ticks": ""
             }
            },
            "type": "scatterpolar"
           }
          ],
          "scatterpolargl": [
           {
            "marker": {
             "colorbar": {
              "outlinewidth": 0,
              "ticks": ""
             }
            },
            "type": "scatterpolargl"
           }
          ],
          "scatterternary": [
           {
            "marker": {
             "colorbar": {
              "outlinewidth": 0,
              "ticks": ""
             }
            },
            "type": "scatterternary"
           }
          ],
          "surface": [
           {
            "colorbar": {
             "outlinewidth": 0,
             "ticks": ""
            },
            "colorscale": [
             [
              0,
              "#0d0887"
             ],
             [
              0.1111111111111111,
              "#46039f"
             ],
             [
              0.2222222222222222,
              "#7201a8"
             ],
             [
              0.3333333333333333,
              "#9c179e"
             ],
             [
              0.4444444444444444,
              "#bd3786"
             ],
             [
              0.5555555555555556,
              "#d8576b"
             ],
             [
              0.6666666666666666,
              "#ed7953"
             ],
             [
              0.7777777777777778,
              "#fb9f3a"
             ],
             [
              0.8888888888888888,
              "#fdca26"
             ],
             [
              1,
              "#f0f921"
             ]
            ],
            "type": "surface"
           }
          ],
          "table": [
           {
            "cells": {
             "fill": {
              "color": "#EBF0F8"
             },
             "line": {
              "color": "white"
             }
            },
            "header": {
             "fill": {
              "color": "#C8D4E3"
             },
             "line": {
              "color": "white"
             }
            },
            "type": "table"
           }
          ]
         },
         "layout": {
          "annotationdefaults": {
           "arrowcolor": "#2a3f5f",
           "arrowhead": 0,
           "arrowwidth": 1
          },
          "autotypenumbers": "strict",
          "coloraxis": {
           "colorbar": {
            "outlinewidth": 0,
            "ticks": ""
           }
          },
          "colorscale": {
           "diverging": [
            [
             0,
             "#8e0152"
            ],
            [
             0.1,
             "#c51b7d"
            ],
            [
             0.2,
             "#de77ae"
            ],
            [
             0.3,
             "#f1b6da"
            ],
            [
             0.4,
             "#fde0ef"
            ],
            [
             0.5,
             "#f7f7f7"
            ],
            [
             0.6,
             "#e6f5d0"
            ],
            [
             0.7,
             "#b8e186"
            ],
            [
             0.8,
             "#7fbc41"
            ],
            [
             0.9,
             "#4d9221"
            ],
            [
             1,
             "#276419"
            ]
           ],
           "sequential": [
            [
             0,
             "#0d0887"
            ],
            [
             0.1111111111111111,
             "#46039f"
            ],
            [
             0.2222222222222222,
             "#7201a8"
            ],
            [
             0.3333333333333333,
             "#9c179e"
            ],
            [
             0.4444444444444444,
             "#bd3786"
            ],
            [
             0.5555555555555556,
             "#d8576b"
            ],
            [
             0.6666666666666666,
             "#ed7953"
            ],
            [
             0.7777777777777778,
             "#fb9f3a"
            ],
            [
             0.8888888888888888,
             "#fdca26"
            ],
            [
             1,
             "#f0f921"
            ]
           ],
           "sequentialminus": [
            [
             0,
             "#0d0887"
            ],
            [
             0.1111111111111111,
             "#46039f"
            ],
            [
             0.2222222222222222,
             "#7201a8"
            ],
            [
             0.3333333333333333,
             "#9c179e"
            ],
            [
             0.4444444444444444,
             "#bd3786"
            ],
            [
             0.5555555555555556,
             "#d8576b"
            ],
            [
             0.6666666666666666,
             "#ed7953"
            ],
            [
             0.7777777777777778,
             "#fb9f3a"
            ],
            [
             0.8888888888888888,
             "#fdca26"
            ],
            [
             1,
             "#f0f921"
            ]
           ]
          },
          "colorway": [
           "#636efa",
           "#EF553B",
           "#00cc96",
           "#ab63fa",
           "#FFA15A",
           "#19d3f3",
           "#FF6692",
           "#B6E880",
           "#FF97FF",
           "#FECB52"
          ],
          "font": {
           "color": "#2a3f5f"
          },
          "geo": {
           "bgcolor": "white",
           "lakecolor": "white",
           "landcolor": "#E5ECF6",
           "showlakes": true,
           "showland": true,
           "subunitcolor": "white"
          },
          "hoverlabel": {
           "align": "left"
          },
          "hovermode": "closest",
          "mapbox": {
           "style": "light"
          },
          "paper_bgcolor": "white",
          "plot_bgcolor": "#E5ECF6",
          "polar": {
           "angularaxis": {
            "gridcolor": "white",
            "linecolor": "white",
            "ticks": ""
           },
           "bgcolor": "#E5ECF6",
           "radialaxis": {
            "gridcolor": "white",
            "linecolor": "white",
            "ticks": ""
           }
          },
          "scene": {
           "xaxis": {
            "backgroundcolor": "#E5ECF6",
            "gridcolor": "white",
            "gridwidth": 2,
            "linecolor": "white",
            "showbackground": true,
            "ticks": "",
            "zerolinecolor": "white"
           },
           "yaxis": {
            "backgroundcolor": "#E5ECF6",
            "gridcolor": "white",
            "gridwidth": 2,
            "linecolor": "white",
            "showbackground": true,
            "ticks": "",
            "zerolinecolor": "white"
           },
           "zaxis": {
            "backgroundcolor": "#E5ECF6",
            "gridcolor": "white",
            "gridwidth": 2,
            "linecolor": "white",
            "showbackground": true,
            "ticks": "",
            "zerolinecolor": "white"
           }
          },
          "shapedefaults": {
           "line": {
            "color": "#2a3f5f"
           }
          },
          "ternary": {
           "aaxis": {
            "gridcolor": "white",
            "linecolor": "white",
            "ticks": ""
           },
           "baxis": {
            "gridcolor": "white",
            "linecolor": "white",
            "ticks": ""
           },
           "bgcolor": "#E5ECF6",
           "caxis": {
            "gridcolor": "white",
            "linecolor": "white",
            "ticks": ""
           }
          },
          "title": {
           "x": 0.05
          },
          "xaxis": {
           "automargin": true,
           "gridcolor": "white",
           "linecolor": "white",
           "ticks": "",
           "title": {
            "standoff": 15
           },
           "zerolinecolor": "white",
           "zerolinewidth": 2
          },
          "yaxis": {
           "automargin": true,
           "gridcolor": "white",
           "linecolor": "white",
           "ticks": "",
           "title": {
            "standoff": 15
           },
           "zerolinecolor": "white",
           "zerolinewidth": 2
          }
         }
        },
        "title": {
         "text": ""
        },
        "width": 500,
        "xaxis": {
         "linecolor": "black",
         "linewidth": 1,
         "mirror": true,
         "showline": true,
         "showticklabels": true,
         "title": {
          "text": ""
         }
        },
        "yaxis": {
         "linecolor": "black",
         "linewidth": 1,
         "mirror": true,
         "showline": true,
         "showticklabels": true,
         "title": {
          "text": ""
         }
        }
       }
      }
     },
     "metadata": {},
     "output_type": "display_data"
    }
   ],
   "source": [
    "pu.plot_ablation_robust(y1=n_necessity_score, y2=n_sufficiency_score, y3=q_necessity_score, y4 = q_sufficiency_score,  baseline1= n_clean_logit_diff, baseline2=q_clean_logit_diff, save_path=image_dir / \"robustness_of_circuit.png\", title=\"\")\n"
   ]
  },
  {
   "cell_type": "markdown",
   "metadata": {
    "id": "HeBR9xpMabVb"
   },
   "source": [
    "# 5. Circuit Transferability"
   ]
  },
  {
   "cell_type": "code",
   "execution_count": 108,
   "metadata": {
    "id": "fDADQypcabVb"
   },
   "outputs": [],
   "source": [
    "# setup\n",
    "bc_prompts = bc_dataset.sentences\n",
    "bc_labels = bc_dataset.labels\n",
    "bc_second_labels = bc_dataset.B\n",
    "\n",
    "bc_answers = list(zip(bc_labels, bc_second_labels))\n",
    "bc_answer_tokens = t.concat([\n",
    "    model.to_tokens(names, prepend_bos=False).T for names in bc_answers\n",
    "])\n",
    "\n",
    "bi_prompts = bi_dataset.sentences\n",
    "bi_labels = bi_dataset.labels\n",
    "bi_second_labels = bi_dataset.B\n",
    "\n",
    "bi_answers = list(zip(bi_labels, bi_second_labels))\n",
    "bi_answer_tokens = t.concat([\n",
    "    model.to_tokens(names, prepend_bos=False).T for names in bi_answers\n",
    "])\n",
    "\n",
    "# tokenisation\n",
    "bc_tokens = model.to_tokens(bc_prompts, prepend_bos=False).to(device)\n",
    "bi_tokens = model.to_tokens(bi_prompts, prepend_bos=False).to(device)"
   ]
  },
  {
   "cell_type": "code",
   "execution_count": 109,
   "metadata": {
    "colab": {
     "base_uri": "https://localhost:8080/"
    },
    "id": "sO3u0DFAabVc",
    "outputId": "9943504e-5563-4b96-cdec-a69227eb5c6c"
   },
   "outputs": [
    {
     "name": "stdout",
     "output_type": "stream",
     "text": [
      "Clean logit diff: 0.5050\n",
      "Clean logit diff: 0.0146\n"
     ]
    }
   ],
   "source": [
    "# Compute logits for interventions\n",
    "bc_clean_logits, bc_clean_cache = model.run_with_cache(bc_tokens)\n",
    "bi_clean_logits, bi_clean_cache = model.run_with_cache(bi_tokens)\n",
    "\n",
    "bc_clean_logit_diff = h.compute_logit_diff(bc_clean_logits, bc_answer_tokens)\n",
    "print(f\"Clean logit diff: {bc_clean_logit_diff:.4f}\")\n",
    "\n",
    "bi_clean_logit_diff = h.compute_logit_diff(bi_clean_logits, bi_answer_tokens)\n",
    "print(f\"Clean logit diff: {bi_clean_logit_diff:.4f}\")"
   ]
  },
  {
   "cell_type": "code",
   "execution_count": 110,
   "metadata": {
    "colab": {
     "base_uri": "https://localhost:8080/"
    },
    "id": "i1jPnYERabVc",
    "outputId": "a19547d2-c3c1-4b8b-a518-e01db3e71547"
   },
   "outputs": [
    {
     "name": "stderr",
     "output_type": "stream",
     "text": [
      "  0%|          | 0/11 [00:00<?, ?it/s]"
     ]
    },
    {
     "name": "stderr",
     "output_type": "stream",
     "text": [
      "100%|██████████| 11/11 [00:07<00:00,  1.54it/s]\n",
      "100%|██████████| 11/11 [00:02<00:00,  4.09it/s]\n"
     ]
    }
   ],
   "source": [
    "# belief-consistent\n",
    "bc_necessity_score = h.necessity_check(model, bc_labels, bc_tokens, bc_answer_tokens, bc_clean_logit_diff, 'mean', device)\n",
    "bc_sufficiency_score = h.sufficiency_check(model, bc_labels, bc_tokens, bc_answer_tokens, bc_clean_logit_diff, 'mean', device)"
   ]
  },
  {
   "cell_type": "code",
   "execution_count": 111,
   "metadata": {
    "colab": {
     "base_uri": "https://localhost:8080/"
    },
    "id": "AaL9Kz-2abVc",
    "outputId": "34e630fe-c116-496b-9a57-be1fb0369bb1"
   },
   "outputs": [
    {
     "name": "stderr",
     "output_type": "stream",
     "text": [
      "100%|██████████| 11/11 [00:02<00:00,  4.09it/s]\n",
      "100%|██████████| 11/11 [00:02<00:00,  4.09it/s]\n"
     ]
    }
   ],
   "source": [
    "# belief-inconsistent\n",
    "bi_necessity_score = h.necessity_check(model, bi_labels, bi_tokens, bi_answer_tokens, bi_clean_logit_diff, 'mean', device)\n",
    "bi_sufficiency_score = h.sufficiency_check(model, bi_labels, bi_tokens, bi_answer_tokens, bi_clean_logit_diff, 'mean', device)"
   ]
  },
  {
   "cell_type": "markdown",
   "metadata": {
    "id": "t9RLD2onabVc"
   },
   "source": [
    "### Figure 6(a) belief-consistent"
   ]
  },
  {
   "cell_type": "code",
   "execution_count": 112,
   "metadata": {
    "colab": {
     "base_uri": "https://localhost:8080/",
     "height": 517
    },
    "id": "oBbdTV3mabVc",
    "outputId": "9d313a71-d99a-4dfb-bbfc-76b975e7807d"
   },
   "outputs": [
    {
     "name": "stdout",
     "output_type": "stream",
     "text": [
      "Plot saved to ../images/cript-medium/correctness_of_circuit_bc.png\n"
     ]
    },
    {
     "data": {
      "application/vnd.plotly.v1+json": {
       "config": {
        "plotlyServerURL": "https://plot.ly"
       },
       "data": [
        {
         "line": {
          "color": "#bcbd22",
          "width": 3
         },
         "marker": {
          "size": 8,
          "symbol": "circle"
         },
         "mode": "lines+markers",
         "name": "Necessity",
         "type": "scatter",
         "x": [
          0,
          1,
          2,
          3,
          4,
          5,
          6,
          7,
          8,
          9,
          10,
          11
         ],
         "y": [
          0.5050270557403564,
          0.5016160607337952,
          0.3452879786491394,
          0.3499017357826233,
          0.27940940856933594,
          0.19161391258239746,
          0.16150552034378052,
          0.11358897387981415,
          0.16837425529956818,
          0.16155371069908142,
          0.20706266164779663,
          0.22778549790382385
         ]
        },
        {
         "line": {
          "color": "#9467bd",
          "width": 3
         },
         "marker": {
          "size": 8,
          "symbol": "square"
         },
         "mode": "lines+markers",
         "name": "Sufficiency",
         "type": "scatter",
         "x": [
          0,
          1,
          2,
          3,
          4,
          5,
          6,
          7,
          8,
          9,
          10,
          11
         ],
         "y": [
          -0.01045710314065218,
          -0.0141970319673419,
          -0.01760508306324482,
          -0.020082855597138405,
          -0.02349446713924408,
          -0.02013142965734005,
          -0.009668986313045025,
          0.08739980310201645,
          0.13544057309627533,
          0.12328492105007172,
          0.27757418155670166,
          0.2812645137310028
         ]
        }
       ],
       "layout": {
        "height": 500,
        "legend": {
         "bgcolor": "rgba(255, 255, 255, 0.8)",
         "font": {
          "size": 20
         },
         "x": 0.02,
         "y": 0.98
        },
        "margin": {
         "b": 10,
         "l": 0,
         "r": 0,
         "t": 10
        },
        "plot_bgcolor": "white",
        "shapes": [
         {
          "line": {
           "color": "#000000",
           "dash": "dash",
           "width": 3
          },
          "type": "line",
          "x0": 0,
          "x1": 1,
          "xref": "x domain",
          "y0": 0.5050270557403564,
          "y1": 0.5050270557403564,
          "yref": "y"
         }
        ],
        "template": {
         "data": {
          "bar": [
           {
            "error_x": {
             "color": "#2a3f5f"
            },
            "error_y": {
             "color": "#2a3f5f"
            },
            "marker": {
             "line": {
              "color": "#E5ECF6",
              "width": 0.5
             },
             "pattern": {
              "fillmode": "overlay",
              "size": 10,
              "solidity": 0.2
             }
            },
            "type": "bar"
           }
          ],
          "barpolar": [
           {
            "marker": {
             "line": {
              "color": "#E5ECF6",
              "width": 0.5
             },
             "pattern": {
              "fillmode": "overlay",
              "size": 10,
              "solidity": 0.2
             }
            },
            "type": "barpolar"
           }
          ],
          "carpet": [
           {
            "aaxis": {
             "endlinecolor": "#2a3f5f",
             "gridcolor": "white",
             "linecolor": "white",
             "minorgridcolor": "white",
             "startlinecolor": "#2a3f5f"
            },
            "baxis": {
             "endlinecolor": "#2a3f5f",
             "gridcolor": "white",
             "linecolor": "white",
             "minorgridcolor": "white",
             "startlinecolor": "#2a3f5f"
            },
            "type": "carpet"
           }
          ],
          "choropleth": [
           {
            "colorbar": {
             "outlinewidth": 0,
             "ticks": ""
            },
            "type": "choropleth"
           }
          ],
          "contour": [
           {
            "colorbar": {
             "outlinewidth": 0,
             "ticks": ""
            },
            "colorscale": [
             [
              0,
              "#0d0887"
             ],
             [
              0.1111111111111111,
              "#46039f"
             ],
             [
              0.2222222222222222,
              "#7201a8"
             ],
             [
              0.3333333333333333,
              "#9c179e"
             ],
             [
              0.4444444444444444,
              "#bd3786"
             ],
             [
              0.5555555555555556,
              "#d8576b"
             ],
             [
              0.6666666666666666,
              "#ed7953"
             ],
             [
              0.7777777777777778,
              "#fb9f3a"
             ],
             [
              0.8888888888888888,
              "#fdca26"
             ],
             [
              1,
              "#f0f921"
             ]
            ],
            "type": "contour"
           }
          ],
          "contourcarpet": [
           {
            "colorbar": {
             "outlinewidth": 0,
             "ticks": ""
            },
            "type": "contourcarpet"
           }
          ],
          "heatmap": [
           {
            "colorbar": {
             "outlinewidth": 0,
             "ticks": ""
            },
            "colorscale": [
             [
              0,
              "#0d0887"
             ],
             [
              0.1111111111111111,
              "#46039f"
             ],
             [
              0.2222222222222222,
              "#7201a8"
             ],
             [
              0.3333333333333333,
              "#9c179e"
             ],
             [
              0.4444444444444444,
              "#bd3786"
             ],
             [
              0.5555555555555556,
              "#d8576b"
             ],
             [
              0.6666666666666666,
              "#ed7953"
             ],
             [
              0.7777777777777778,
              "#fb9f3a"
             ],
             [
              0.8888888888888888,
              "#fdca26"
             ],
             [
              1,
              "#f0f921"
             ]
            ],
            "type": "heatmap"
           }
          ],
          "heatmapgl": [
           {
            "colorbar": {
             "outlinewidth": 0,
             "ticks": ""
            },
            "colorscale": [
             [
              0,
              "#0d0887"
             ],
             [
              0.1111111111111111,
              "#46039f"
             ],
             [
              0.2222222222222222,
              "#7201a8"
             ],
             [
              0.3333333333333333,
              "#9c179e"
             ],
             [
              0.4444444444444444,
              "#bd3786"
             ],
             [
              0.5555555555555556,
              "#d8576b"
             ],
             [
              0.6666666666666666,
              "#ed7953"
             ],
             [
              0.7777777777777778,
              "#fb9f3a"
             ],
             [
              0.8888888888888888,
              "#fdca26"
             ],
             [
              1,
              "#f0f921"
             ]
            ],
            "type": "heatmapgl"
           }
          ],
          "histogram": [
           {
            "marker": {
             "pattern": {
              "fillmode": "overlay",
              "size": 10,
              "solidity": 0.2
             }
            },
            "type": "histogram"
           }
          ],
          "histogram2d": [
           {
            "colorbar": {
             "outlinewidth": 0,
             "ticks": ""
            },
            "colorscale": [
             [
              0,
              "#0d0887"
             ],
             [
              0.1111111111111111,
              "#46039f"
             ],
             [
              0.2222222222222222,
              "#7201a8"
             ],
             [
              0.3333333333333333,
              "#9c179e"
             ],
             [
              0.4444444444444444,
              "#bd3786"
             ],
             [
              0.5555555555555556,
              "#d8576b"
             ],
             [
              0.6666666666666666,
              "#ed7953"
             ],
             [
              0.7777777777777778,
              "#fb9f3a"
             ],
             [
              0.8888888888888888,
              "#fdca26"
             ],
             [
              1,
              "#f0f921"
             ]
            ],
            "type": "histogram2d"
           }
          ],
          "histogram2dcontour": [
           {
            "colorbar": {
             "outlinewidth": 0,
             "ticks": ""
            },
            "colorscale": [
             [
              0,
              "#0d0887"
             ],
             [
              0.1111111111111111,
              "#46039f"
             ],
             [
              0.2222222222222222,
              "#7201a8"
             ],
             [
              0.3333333333333333,
              "#9c179e"
             ],
             [
              0.4444444444444444,
              "#bd3786"
             ],
             [
              0.5555555555555556,
              "#d8576b"
             ],
             [
              0.6666666666666666,
              "#ed7953"
             ],
             [
              0.7777777777777778,
              "#fb9f3a"
             ],
             [
              0.8888888888888888,
              "#fdca26"
             ],
             [
              1,
              "#f0f921"
             ]
            ],
            "type": "histogram2dcontour"
           }
          ],
          "mesh3d": [
           {
            "colorbar": {
             "outlinewidth": 0,
             "ticks": ""
            },
            "type": "mesh3d"
           }
          ],
          "parcoords": [
           {
            "line": {
             "colorbar": {
              "outlinewidth": 0,
              "ticks": ""
             }
            },
            "type": "parcoords"
           }
          ],
          "pie": [
           {
            "automargin": true,
            "type": "pie"
           }
          ],
          "scatter": [
           {
            "fillpattern": {
             "fillmode": "overlay",
             "size": 10,
             "solidity": 0.2
            },
            "type": "scatter"
           }
          ],
          "scatter3d": [
           {
            "line": {
             "colorbar": {
              "outlinewidth": 0,
              "ticks": ""
             }
            },
            "marker": {
             "colorbar": {
              "outlinewidth": 0,
              "ticks": ""
             }
            },
            "type": "scatter3d"
           }
          ],
          "scattercarpet": [
           {
            "marker": {
             "colorbar": {
              "outlinewidth": 0,
              "ticks": ""
             }
            },
            "type": "scattercarpet"
           }
          ],
          "scattergeo": [
           {
            "marker": {
             "colorbar": {
              "outlinewidth": 0,
              "ticks": ""
             }
            },
            "type": "scattergeo"
           }
          ],
          "scattergl": [
           {
            "marker": {
             "colorbar": {
              "outlinewidth": 0,
              "ticks": ""
             }
            },
            "type": "scattergl"
           }
          ],
          "scattermapbox": [
           {
            "marker": {
             "colorbar": {
              "outlinewidth": 0,
              "ticks": ""
             }
            },
            "type": "scattermapbox"
           }
          ],
          "scatterpolar": [
           {
            "marker": {
             "colorbar": {
              "outlinewidth": 0,
              "ticks": ""
             }
            },
            "type": "scatterpolar"
           }
          ],
          "scatterpolargl": [
           {
            "marker": {
             "colorbar": {
              "outlinewidth": 0,
              "ticks": ""
             }
            },
            "type": "scatterpolargl"
           }
          ],
          "scatterternary": [
           {
            "marker": {
             "colorbar": {
              "outlinewidth": 0,
              "ticks": ""
             }
            },
            "type": "scatterternary"
           }
          ],
          "surface": [
           {
            "colorbar": {
             "outlinewidth": 0,
             "ticks": ""
            },
            "colorscale": [
             [
              0,
              "#0d0887"
             ],
             [
              0.1111111111111111,
              "#46039f"
             ],
             [
              0.2222222222222222,
              "#7201a8"
             ],
             [
              0.3333333333333333,
              "#9c179e"
             ],
             [
              0.4444444444444444,
              "#bd3786"
             ],
             [
              0.5555555555555556,
              "#d8576b"
             ],
             [
              0.6666666666666666,
              "#ed7953"
             ],
             [
              0.7777777777777778,
              "#fb9f3a"
             ],
             [
              0.8888888888888888,
              "#fdca26"
             ],
             [
              1,
              "#f0f921"
             ]
            ],
            "type": "surface"
           }
          ],
          "table": [
           {
            "cells": {
             "fill": {
              "color": "#EBF0F8"
             },
             "line": {
              "color": "white"
             }
            },
            "header": {
             "fill": {
              "color": "#C8D4E3"
             },
             "line": {
              "color": "white"
             }
            },
            "type": "table"
           }
          ]
         },
         "layout": {
          "annotationdefaults": {
           "arrowcolor": "#2a3f5f",
           "arrowhead": 0,
           "arrowwidth": 1
          },
          "autotypenumbers": "strict",
          "coloraxis": {
           "colorbar": {
            "outlinewidth": 0,
            "ticks": ""
           }
          },
          "colorscale": {
           "diverging": [
            [
             0,
             "#8e0152"
            ],
            [
             0.1,
             "#c51b7d"
            ],
            [
             0.2,
             "#de77ae"
            ],
            [
             0.3,
             "#f1b6da"
            ],
            [
             0.4,
             "#fde0ef"
            ],
            [
             0.5,
             "#f7f7f7"
            ],
            [
             0.6,
             "#e6f5d0"
            ],
            [
             0.7,
             "#b8e186"
            ],
            [
             0.8,
             "#7fbc41"
            ],
            [
             0.9,
             "#4d9221"
            ],
            [
             1,
             "#276419"
            ]
           ],
           "sequential": [
            [
             0,
             "#0d0887"
            ],
            [
             0.1111111111111111,
             "#46039f"
            ],
            [
             0.2222222222222222,
             "#7201a8"
            ],
            [
             0.3333333333333333,
             "#9c179e"
            ],
            [
             0.4444444444444444,
             "#bd3786"
            ],
            [
             0.5555555555555556,
             "#d8576b"
            ],
            [
             0.6666666666666666,
             "#ed7953"
            ],
            [
             0.7777777777777778,
             "#fb9f3a"
            ],
            [
             0.8888888888888888,
             "#fdca26"
            ],
            [
             1,
             "#f0f921"
            ]
           ],
           "sequentialminus": [
            [
             0,
             "#0d0887"
            ],
            [
             0.1111111111111111,
             "#46039f"
            ],
            [
             0.2222222222222222,
             "#7201a8"
            ],
            [
             0.3333333333333333,
             "#9c179e"
            ],
            [
             0.4444444444444444,
             "#bd3786"
            ],
            [
             0.5555555555555556,
             "#d8576b"
            ],
            [
             0.6666666666666666,
             "#ed7953"
            ],
            [
             0.7777777777777778,
             "#fb9f3a"
            ],
            [
             0.8888888888888888,
             "#fdca26"
            ],
            [
             1,
             "#f0f921"
            ]
           ]
          },
          "colorway": [
           "#636efa",
           "#EF553B",
           "#00cc96",
           "#ab63fa",
           "#FFA15A",
           "#19d3f3",
           "#FF6692",
           "#B6E880",
           "#FF97FF",
           "#FECB52"
          ],
          "font": {
           "color": "#2a3f5f"
          },
          "geo": {
           "bgcolor": "white",
           "lakecolor": "white",
           "landcolor": "#E5ECF6",
           "showlakes": true,
           "showland": true,
           "subunitcolor": "white"
          },
          "hoverlabel": {
           "align": "left"
          },
          "hovermode": "closest",
          "mapbox": {
           "style": "light"
          },
          "paper_bgcolor": "white",
          "plot_bgcolor": "#E5ECF6",
          "polar": {
           "angularaxis": {
            "gridcolor": "white",
            "linecolor": "white",
            "ticks": ""
           },
           "bgcolor": "#E5ECF6",
           "radialaxis": {
            "gridcolor": "white",
            "linecolor": "white",
            "ticks": ""
           }
          },
          "scene": {
           "xaxis": {
            "backgroundcolor": "#E5ECF6",
            "gridcolor": "white",
            "gridwidth": 2,
            "linecolor": "white",
            "showbackground": true,
            "ticks": "",
            "zerolinecolor": "white"
           },
           "yaxis": {
            "backgroundcolor": "#E5ECF6",
            "gridcolor": "white",
            "gridwidth": 2,
            "linecolor": "white",
            "showbackground": true,
            "ticks": "",
            "zerolinecolor": "white"
           },
           "zaxis": {
            "backgroundcolor": "#E5ECF6",
            "gridcolor": "white",
            "gridwidth": 2,
            "linecolor": "white",
            "showbackground": true,
            "ticks": "",
            "zerolinecolor": "white"
           }
          },
          "shapedefaults": {
           "line": {
            "color": "#2a3f5f"
           }
          },
          "ternary": {
           "aaxis": {
            "gridcolor": "white",
            "linecolor": "white",
            "ticks": ""
           },
           "baxis": {
            "gridcolor": "white",
            "linecolor": "white",
            "ticks": ""
           },
           "bgcolor": "#E5ECF6",
           "caxis": {
            "gridcolor": "white",
            "linecolor": "white",
            "ticks": ""
           }
          },
          "title": {
           "x": 0.05
          },
          "xaxis": {
           "automargin": true,
           "gridcolor": "white",
           "linecolor": "white",
           "ticks": "",
           "title": {
            "standoff": 15
           },
           "zerolinecolor": "white",
           "zerolinewidth": 2
          },
          "yaxis": {
           "automargin": true,
           "gridcolor": "white",
           "linecolor": "white",
           "ticks": "",
           "title": {
            "standoff": 15
           },
           "zerolinecolor": "white",
           "zerolinewidth": 2
          }
         }
        },
        "title": {
         "text": ""
        },
        "width": 500,
        "xaxis": {
         "linecolor": "black",
         "linewidth": 1,
         "mirror": true,
         "showline": true,
         "showticklabels": true,
         "title": {
          "text": ""
         }
        },
        "yaxis": {
         "linecolor": "black",
         "linewidth": 1,
         "mirror": true,
         "showline": true,
         "showticklabels": true,
         "title": {
          "text": ""
         }
        }
       }
      }
     },
     "metadata": {},
     "output_type": "display_data"
    }
   ],
   "source": [
    "pu.plot_ablation(bc_clean_logit_diff, bc_necessity_score, bc_sufficiency_score, image_dir / \"correctness_of_circuit_bc.png\")"
   ]
  },
  {
   "cell_type": "markdown",
   "metadata": {
    "id": "AoLGSC2HabVc"
   },
   "source": [
    "### Figure 6(b) belief-inconsistent"
   ]
  },
  {
   "cell_type": "code",
   "execution_count": 113,
   "metadata": {
    "colab": {
     "base_uri": "https://localhost:8080/",
     "height": 517
    },
    "id": "gEbDxdVlabVc",
    "outputId": "45c4b174-2b4b-441b-949d-13b6603abb77"
   },
   "outputs": [
    {
     "name": "stdout",
     "output_type": "stream",
     "text": [
      "Plot saved to ../images/cript-medium/correctness_of_circuit_bi.png\n"
     ]
    },
    {
     "data": {
      "application/vnd.plotly.v1+json": {
       "config": {
        "plotlyServerURL": "https://plot.ly"
       },
       "data": [
        {
         "line": {
          "color": "#bcbd22",
          "width": 3
         },
         "marker": {
          "size": 8,
          "symbol": "circle"
         },
         "mode": "lines+markers",
         "name": "Necessity",
         "type": "scatter",
         "x": [
          0,
          1,
          2,
          3,
          4,
          5,
          6,
          7,
          8,
          9,
          10,
          11
         ],
         "y": [
          0.01457519643008709,
          0.01760050468146801,
          0.05959498509764671,
          0.03775418922305107,
          -0.1101069226861,
          -0.3540104031562805,
          -0.40807420015335083,
          -0.4136342704296112,
          -0.3980245292186737,
          -0.38134169578552246,
          -0.3824203610420227,
          -0.38095909357070923
         ]
        },
        {
         "line": {
          "color": "#9467bd",
          "width": 3
         },
         "marker": {
          "size": 8,
          "symbol": "square"
         },
         "mode": "lines+markers",
         "name": "Sufficiency",
         "type": "scatter",
         "x": [
          0,
          1,
          2,
          3,
          4,
          5,
          6,
          7,
          8,
          9,
          10,
          11
         ],
         "y": [
          -4.060523509979248,
          -4.052590847015381,
          -4.059309959411621,
          -4.043316841125488,
          -4.022313594818115,
          -4.032256126403809,
          -3.9338583946228027,
          -3.5462100505828857,
          -3.3503260612487793,
          -3.284590244293213,
          -3.2271766662597656,
          -3.2273404598236084
         ]
        }
       ],
       "layout": {
        "height": 500,
        "legend": {
         "bgcolor": "rgba(255, 255, 255, 0.8)",
         "font": {
          "size": 20
         },
         "x": 0.02,
         "y": 0.98
        },
        "margin": {
         "b": 10,
         "l": 0,
         "r": 0,
         "t": 10
        },
        "plot_bgcolor": "white",
        "shapes": [
         {
          "line": {
           "color": "#000000",
           "dash": "dash",
           "width": 3
          },
          "type": "line",
          "x0": 0,
          "x1": 1,
          "xref": "x domain",
          "y0": 0.01457519643008709,
          "y1": 0.01457519643008709,
          "yref": "y"
         }
        ],
        "template": {
         "data": {
          "bar": [
           {
            "error_x": {
             "color": "#2a3f5f"
            },
            "error_y": {
             "color": "#2a3f5f"
            },
            "marker": {
             "line": {
              "color": "#E5ECF6",
              "width": 0.5
             },
             "pattern": {
              "fillmode": "overlay",
              "size": 10,
              "solidity": 0.2
             }
            },
            "type": "bar"
           }
          ],
          "barpolar": [
           {
            "marker": {
             "line": {
              "color": "#E5ECF6",
              "width": 0.5
             },
             "pattern": {
              "fillmode": "overlay",
              "size": 10,
              "solidity": 0.2
             }
            },
            "type": "barpolar"
           }
          ],
          "carpet": [
           {
            "aaxis": {
             "endlinecolor": "#2a3f5f",
             "gridcolor": "white",
             "linecolor": "white",
             "minorgridcolor": "white",
             "startlinecolor": "#2a3f5f"
            },
            "baxis": {
             "endlinecolor": "#2a3f5f",
             "gridcolor": "white",
             "linecolor": "white",
             "minorgridcolor": "white",
             "startlinecolor": "#2a3f5f"
            },
            "type": "carpet"
           }
          ],
          "choropleth": [
           {
            "colorbar": {
             "outlinewidth": 0,
             "ticks": ""
            },
            "type": "choropleth"
           }
          ],
          "contour": [
           {
            "colorbar": {
             "outlinewidth": 0,
             "ticks": ""
            },
            "colorscale": [
             [
              0,
              "#0d0887"
             ],
             [
              0.1111111111111111,
              "#46039f"
             ],
             [
              0.2222222222222222,
              "#7201a8"
             ],
             [
              0.3333333333333333,
              "#9c179e"
             ],
             [
              0.4444444444444444,
              "#bd3786"
             ],
             [
              0.5555555555555556,
              "#d8576b"
             ],
             [
              0.6666666666666666,
              "#ed7953"
             ],
             [
              0.7777777777777778,
              "#fb9f3a"
             ],
             [
              0.8888888888888888,
              "#fdca26"
             ],
             [
              1,
              "#f0f921"
             ]
            ],
            "type": "contour"
           }
          ],
          "contourcarpet": [
           {
            "colorbar": {
             "outlinewidth": 0,
             "ticks": ""
            },
            "type": "contourcarpet"
           }
          ],
          "heatmap": [
           {
            "colorbar": {
             "outlinewidth": 0,
             "ticks": ""
            },
            "colorscale": [
             [
              0,
              "#0d0887"
             ],
             [
              0.1111111111111111,
              "#46039f"
             ],
             [
              0.2222222222222222,
              "#7201a8"
             ],
             [
              0.3333333333333333,
              "#9c179e"
             ],
             [
              0.4444444444444444,
              "#bd3786"
             ],
             [
              0.5555555555555556,
              "#d8576b"
             ],
             [
              0.6666666666666666,
              "#ed7953"
             ],
             [
              0.7777777777777778,
              "#fb9f3a"
             ],
             [
              0.8888888888888888,
              "#fdca26"
             ],
             [
              1,
              "#f0f921"
             ]
            ],
            "type": "heatmap"
           }
          ],
          "heatmapgl": [
           {
            "colorbar": {
             "outlinewidth": 0,
             "ticks": ""
            },
            "colorscale": [
             [
              0,
              "#0d0887"
             ],
             [
              0.1111111111111111,
              "#46039f"
             ],
             [
              0.2222222222222222,
              "#7201a8"
             ],
             [
              0.3333333333333333,
              "#9c179e"
             ],
             [
              0.4444444444444444,
              "#bd3786"
             ],
             [
              0.5555555555555556,
              "#d8576b"
             ],
             [
              0.6666666666666666,
              "#ed7953"
             ],
             [
              0.7777777777777778,
              "#fb9f3a"
             ],
             [
              0.8888888888888888,
              "#fdca26"
             ],
             [
              1,
              "#f0f921"
             ]
            ],
            "type": "heatmapgl"
           }
          ],
          "histogram": [
           {
            "marker": {
             "pattern": {
              "fillmode": "overlay",
              "size": 10,
              "solidity": 0.2
             }
            },
            "type": "histogram"
           }
          ],
          "histogram2d": [
           {
            "colorbar": {
             "outlinewidth": 0,
             "ticks": ""
            },
            "colorscale": [
             [
              0,
              "#0d0887"
             ],
             [
              0.1111111111111111,
              "#46039f"
             ],
             [
              0.2222222222222222,
              "#7201a8"
             ],
             [
              0.3333333333333333,
              "#9c179e"
             ],
             [
              0.4444444444444444,
              "#bd3786"
             ],
             [
              0.5555555555555556,
              "#d8576b"
             ],
             [
              0.6666666666666666,
              "#ed7953"
             ],
             [
              0.7777777777777778,
              "#fb9f3a"
             ],
             [
              0.8888888888888888,
              "#fdca26"
             ],
             [
              1,
              "#f0f921"
             ]
            ],
            "type": "histogram2d"
           }
          ],
          "histogram2dcontour": [
           {
            "colorbar": {
             "outlinewidth": 0,
             "ticks": ""
            },
            "colorscale": [
             [
              0,
              "#0d0887"
             ],
             [
              0.1111111111111111,
              "#46039f"
             ],
             [
              0.2222222222222222,
              "#7201a8"
             ],
             [
              0.3333333333333333,
              "#9c179e"
             ],
             [
              0.4444444444444444,
              "#bd3786"
             ],
             [
              0.5555555555555556,
              "#d8576b"
             ],
             [
              0.6666666666666666,
              "#ed7953"
             ],
             [
              0.7777777777777778,
              "#fb9f3a"
             ],
             [
              0.8888888888888888,
              "#fdca26"
             ],
             [
              1,
              "#f0f921"
             ]
            ],
            "type": "histogram2dcontour"
           }
          ],
          "mesh3d": [
           {
            "colorbar": {
             "outlinewidth": 0,
             "ticks": ""
            },
            "type": "mesh3d"
           }
          ],
          "parcoords": [
           {
            "line": {
             "colorbar": {
              "outlinewidth": 0,
              "ticks": ""
             }
            },
            "type": "parcoords"
           }
          ],
          "pie": [
           {
            "automargin": true,
            "type": "pie"
           }
          ],
          "scatter": [
           {
            "fillpattern": {
             "fillmode": "overlay",
             "size": 10,
             "solidity": 0.2
            },
            "type": "scatter"
           }
          ],
          "scatter3d": [
           {
            "line": {
             "colorbar": {
              "outlinewidth": 0,
              "ticks": ""
             }
            },
            "marker": {
             "colorbar": {
              "outlinewidth": 0,
              "ticks": ""
             }
            },
            "type": "scatter3d"
           }
          ],
          "scattercarpet": [
           {
            "marker": {
             "colorbar": {
              "outlinewidth": 0,
              "ticks": ""
             }
            },
            "type": "scattercarpet"
           }
          ],
          "scattergeo": [
           {
            "marker": {
             "colorbar": {
              "outlinewidth": 0,
              "ticks": ""
             }
            },
            "type": "scattergeo"
           }
          ],
          "scattergl": [
           {
            "marker": {
             "colorbar": {
              "outlinewidth": 0,
              "ticks": ""
             }
            },
            "type": "scattergl"
           }
          ],
          "scattermapbox": [
           {
            "marker": {
             "colorbar": {
              "outlinewidth": 0,
              "ticks": ""
             }
            },
            "type": "scattermapbox"
           }
          ],
          "scatterpolar": [
           {
            "marker": {
             "colorbar": {
              "outlinewidth": 0,
              "ticks": ""
             }
            },
            "type": "scatterpolar"
           }
          ],
          "scatterpolargl": [
           {
            "marker": {
             "colorbar": {
              "outlinewidth": 0,
              "ticks": ""
             }
            },
            "type": "scatterpolargl"
           }
          ],
          "scatterternary": [
           {
            "marker": {
             "colorbar": {
              "outlinewidth": 0,
              "ticks": ""
             }
            },
            "type": "scatterternary"
           }
          ],
          "surface": [
           {
            "colorbar": {
             "outlinewidth": 0,
             "ticks": ""
            },
            "colorscale": [
             [
              0,
              "#0d0887"
             ],
             [
              0.1111111111111111,
              "#46039f"
             ],
             [
              0.2222222222222222,
              "#7201a8"
             ],
             [
              0.3333333333333333,
              "#9c179e"
             ],
             [
              0.4444444444444444,
              "#bd3786"
             ],
             [
              0.5555555555555556,
              "#d8576b"
             ],
             [
              0.6666666666666666,
              "#ed7953"
             ],
             [
              0.7777777777777778,
              "#fb9f3a"
             ],
             [
              0.8888888888888888,
              "#fdca26"
             ],
             [
              1,
              "#f0f921"
             ]
            ],
            "type": "surface"
           }
          ],
          "table": [
           {
            "cells": {
             "fill": {
              "color": "#EBF0F8"
             },
             "line": {
              "color": "white"
             }
            },
            "header": {
             "fill": {
              "color": "#C8D4E3"
             },
             "line": {
              "color": "white"
             }
            },
            "type": "table"
           }
          ]
         },
         "layout": {
          "annotationdefaults": {
           "arrowcolor": "#2a3f5f",
           "arrowhead": 0,
           "arrowwidth": 1
          },
          "autotypenumbers": "strict",
          "coloraxis": {
           "colorbar": {
            "outlinewidth": 0,
            "ticks": ""
           }
          },
          "colorscale": {
           "diverging": [
            [
             0,
             "#8e0152"
            ],
            [
             0.1,
             "#c51b7d"
            ],
            [
             0.2,
             "#de77ae"
            ],
            [
             0.3,
             "#f1b6da"
            ],
            [
             0.4,
             "#fde0ef"
            ],
            [
             0.5,
             "#f7f7f7"
            ],
            [
             0.6,
             "#e6f5d0"
            ],
            [
             0.7,
             "#b8e186"
            ],
            [
             0.8,
             "#7fbc41"
            ],
            [
             0.9,
             "#4d9221"
            ],
            [
             1,
             "#276419"
            ]
           ],
           "sequential": [
            [
             0,
             "#0d0887"
            ],
            [
             0.1111111111111111,
             "#46039f"
            ],
            [
             0.2222222222222222,
             "#7201a8"
            ],
            [
             0.3333333333333333,
             "#9c179e"
            ],
            [
             0.4444444444444444,
             "#bd3786"
            ],
            [
             0.5555555555555556,
             "#d8576b"
            ],
            [
             0.6666666666666666,
             "#ed7953"
            ],
            [
             0.7777777777777778,
             "#fb9f3a"
            ],
            [
             0.8888888888888888,
             "#fdca26"
            ],
            [
             1,
             "#f0f921"
            ]
           ],
           "sequentialminus": [
            [
             0,
             "#0d0887"
            ],
            [
             0.1111111111111111,
             "#46039f"
            ],
            [
             0.2222222222222222,
             "#7201a8"
            ],
            [
             0.3333333333333333,
             "#9c179e"
            ],
            [
             0.4444444444444444,
             "#bd3786"
            ],
            [
             0.5555555555555556,
             "#d8576b"
            ],
            [
             0.6666666666666666,
             "#ed7953"
            ],
            [
             0.7777777777777778,
             "#fb9f3a"
            ],
            [
             0.8888888888888888,
             "#fdca26"
            ],
            [
             1,
             "#f0f921"
            ]
           ]
          },
          "colorway": [
           "#636efa",
           "#EF553B",
           "#00cc96",
           "#ab63fa",
           "#FFA15A",
           "#19d3f3",
           "#FF6692",
           "#B6E880",
           "#FF97FF",
           "#FECB52"
          ],
          "font": {
           "color": "#2a3f5f"
          },
          "geo": {
           "bgcolor": "white",
           "lakecolor": "white",
           "landcolor": "#E5ECF6",
           "showlakes": true,
           "showland": true,
           "subunitcolor": "white"
          },
          "hoverlabel": {
           "align": "left"
          },
          "hovermode": "closest",
          "mapbox": {
           "style": "light"
          },
          "paper_bgcolor": "white",
          "plot_bgcolor": "#E5ECF6",
          "polar": {
           "angularaxis": {
            "gridcolor": "white",
            "linecolor": "white",
            "ticks": ""
           },
           "bgcolor": "#E5ECF6",
           "radialaxis": {
            "gridcolor": "white",
            "linecolor": "white",
            "ticks": ""
           }
          },
          "scene": {
           "xaxis": {
            "backgroundcolor": "#E5ECF6",
            "gridcolor": "white",
            "gridwidth": 2,
            "linecolor": "white",
            "showbackground": true,
            "ticks": "",
            "zerolinecolor": "white"
           },
           "yaxis": {
            "backgroundcolor": "#E5ECF6",
            "gridcolor": "white",
            "gridwidth": 2,
            "linecolor": "white",
            "showbackground": true,
            "ticks": "",
            "zerolinecolor": "white"
           },
           "zaxis": {
            "backgroundcolor": "#E5ECF6",
            "gridcolor": "white",
            "gridwidth": 2,
            "linecolor": "white",
            "showbackground": true,
            "ticks": "",
            "zerolinecolor": "white"
           }
          },
          "shapedefaults": {
           "line": {
            "color": "#2a3f5f"
           }
          },
          "ternary": {
           "aaxis": {
            "gridcolor": "white",
            "linecolor": "white",
            "ticks": ""
           },
           "baxis": {
            "gridcolor": "white",
            "linecolor": "white",
            "ticks": ""
           },
           "bgcolor": "#E5ECF6",
           "caxis": {
            "gridcolor": "white",
            "linecolor": "white",
            "ticks": ""
           }
          },
          "title": {
           "x": 0.05
          },
          "xaxis": {
           "automargin": true,
           "gridcolor": "white",
           "linecolor": "white",
           "ticks": "",
           "title": {
            "standoff": 15
           },
           "zerolinecolor": "white",
           "zerolinewidth": 2
          },
          "yaxis": {
           "automargin": true,
           "gridcolor": "white",
           "linecolor": "white",
           "ticks": "",
           "title": {
            "standoff": 15
           },
           "zerolinecolor": "white",
           "zerolinewidth": 2
          }
         }
        },
        "title": {
         "text": ""
        },
        "width": 500,
        "xaxis": {
         "linecolor": "black",
         "linewidth": 1,
         "mirror": true,
         "showline": true,
         "showticklabels": true,
         "title": {
          "text": ""
         }
        },
        "yaxis": {
         "linecolor": "black",
         "linewidth": 1,
         "mirror": true,
         "showline": true,
         "showticklabels": true,
         "title": {
          "text": ""
         }
        }
       }
      }
     },
     "metadata": {},
     "output_type": "display_data"
    }
   ],
   "source": [
    "pu.plot_ablation(bi_clean_logit_diff, bi_necessity_score, bi_sufficiency_score, image_dir / \"correctness_of_circuit_bi.png\")"
   ]
  },
  {
   "cell_type": "markdown",
   "metadata": {
    "id": "YpkzOAIbabVc"
   },
   "source": [
    "### Table 2 all unconditionally valid syllogisms"
   ]
  },
  {
   "cell_type": "code",
   "execution_count": 114,
   "metadata": {
    "id": "HIWmqoJwabVc"
   },
   "outputs": [],
   "source": [
    "# ordered by accuracy\n",
    "moods_ordered = ['AII3', 'IAI3', 'IAI4', 'AAA1', 'EAE1', 'EIO4', 'EIO3', 'AII1', 'AOO2', 'AEE4', 'OAO3', 'EIO1', 'EIO2', 'EAE2', 'AEE2']"
   ]
  },
  {
   "cell_type": "code",
   "execution_count": 115,
   "metadata": {
    "id": "jOTVftBeabVc"
   },
   "outputs": [],
   "source": [
    "# all symbolic datasets import\n",
    "s_datasets = {}\n",
    "\n",
    "for template in moods_ordered:\n",
    "    s_dataset = SyllogismDataset(\n",
    "            N=N,\n",
    "            seed=seed,\n",
    "            device=device,\n",
    "            type='symbolic',\n",
    "            template_type=template\n",
    "        )\n",
    "    s_datasets[template] = s_dataset\n"
   ]
  },
  {
   "cell_type": "code",
   "execution_count": 116,
   "metadata": {
    "id": "NShCchAwabVc"
   },
   "outputs": [],
   "source": [
    "# setup\n",
    "mood_dics = []\n",
    "\n",
    "for template in moods_ordered:\n",
    "    mood_dic = {\n",
    "        'mood': template,\n",
    "        'prompts': s_datasets[template].sentences,\n",
    "        'labels': s_datasets[template].labels,\n",
    "        'second_labels': s_datasets[template].B\n",
    "\n",
    "    }\n",
    "    s_answers = list(zip(mood_dic['labels'], mood_dic['second_labels']))\n",
    "    mood_dic['answers'] = s_answers\n",
    "    s_answer_tokens = t.concat([\n",
    "        model.to_tokens(names, prepend_bos=False).T for names in s_answers\n",
    "    ])\n",
    "    mood_dic['answer_tokens'] = s_answer_tokens\n",
    "\n",
    "    mood_dics.append(mood_dic)"
   ]
  },
  {
   "cell_type": "code",
   "execution_count": 117,
   "metadata": {
    "colab": {
     "base_uri": "https://localhost:8080/"
    },
    "id": "hSpyK4zkabVc",
    "outputId": "a02bd88f-90c1-4b5b-c35b-f98b489f6b1b"
   },
   "outputs": [
    {
     "name": "stdout",
     "output_type": "stream",
     "text": [
      "tensor(0.9720, device='mps:0') tensor(0., device='mps:0')\n",
      "tensor(0.4753, device='mps:0') tensor(0., device='mps:0')\n",
      "tensor(0.4753, device='mps:0') tensor(0., device='mps:0')\n",
      "tensor(0.3170, device='mps:0') tensor(0., device='mps:0')\n",
      "tensor(0.1401, device='mps:0') tensor(0., device='mps:0')\n",
      "tensor(0.4769, device='mps:0') tensor(0., device='mps:0')\n",
      "tensor(0.4769, device='mps:0') tensor(0., device='mps:0')\n",
      "tensor(-0.1302, device='mps:0') tensor(0., device='mps:0')\n",
      "tensor(-1.1784, device='mps:0') tensor(0., device='mps:0')\n",
      "tensor(-0.5424, device='mps:0') tensor(0., device='mps:0')\n",
      "tensor(-0.4168, device='mps:0') tensor(0., device='mps:0')\n",
      "tensor(-0.9202, device='mps:0') tensor(0., device='mps:0')\n",
      "tensor(-1.4959, device='mps:0') tensor(0., device='mps:0')\n",
      "tensor(-1.5060, device='mps:0') tensor(0., device='mps:0')\n",
      "tensor(-1.7159, device='mps:0') tensor(0., device='mps:0')\n"
     ]
    }
   ],
   "source": [
    "# get base logit diff for 15 syllogisms\n",
    "for i, template in enumerate(moods_ordered):\n",
    "    tokens = model.to_tokens(mood_dics[i]['prompts'], prepend_bos=False).to(device)\n",
    "    clean_logit_diff = h.get_batched_logit_diff(5, tokens, mood_dics[i]['answer_tokens'], model)\n",
    "    mood_dics[i]['tokens'] = tokens\n",
    "    mood_dics[i]['clean_logit_diff'] = clean_logit_diff\n",
    "\n",
    "    bia_diff = 0\n",
    "    for correct, wrong in mood_dics[i]['answer_tokens']:\n",
    "        diff = model.unembed.b_U[correct.item()] - model.unembed.b_U[wrong.item()]\n",
    "        bia_diff += diff\n",
    "\n",
    "    bia_diff = bia_diff/len(mood_dics[i]['prompts'])\n",
    "    mood_dics[i]['bia_diff'] = bia_diff\n",
    "    print(mood_dics[i]['clean_logit_diff'], mood_dics[i]['bia_diff'])"
   ]
  },
  {
   "cell_type": "code",
   "execution_count": 119,
   "metadata": {
    "colab": {
     "base_uri": "https://localhost:8080/"
    },
    "id": "3JMEFrxDabVd",
    "outputId": "44e4d3a8-63f0-40b0-8b91-47e7f6e83387"
   },
   "outputs": [
    {
     "name": "stderr",
     "output_type": "stream",
     "text": [
      "100%|██████████| 11/11 [00:31<00:00,  2.82s/it]\n",
      "100%|██████████| 11/11 [00:11<00:00,  1.06s/it]\n",
      "100%|██████████| 11/11 [00:11<00:00,  1.00s/it]\n",
      "100%|██████████| 11/11 [00:11<00:00,  1.08s/it]\n",
      "100%|██████████| 11/11 [00:11<00:00,  1.03s/it]\n",
      "100%|██████████| 11/11 [00:12<00:00,  1.13s/it]\n",
      "100%|██████████| 11/11 [00:11<00:00,  1.01s/it]\n",
      "100%|██████████| 11/11 [00:11<00:00,  1.08s/it]\n",
      "100%|██████████| 11/11 [00:11<00:00,  1.02s/it]\n",
      "100%|██████████| 11/11 [00:11<00:00,  1.07s/it]\n",
      "100%|██████████| 11/11 [00:10<00:00,  1.07it/s]\n",
      "100%|██████████| 11/11 [00:12<00:00,  1.11s/it]\n",
      "100%|██████████| 11/11 [00:18<00:00,  1.65s/it]\n",
      "100%|██████████| 11/11 [00:20<00:00,  1.89s/it]\n",
      "100%|██████████| 11/11 [00:13<00:00,  1.24s/it]\n",
      "100%|██████████| 11/11 [00:11<00:00,  1.09s/it]\n",
      "100%|██████████| 11/11 [00:11<00:00,  1.04s/it]\n",
      "100%|██████████| 11/11 [00:14<00:00,  1.28s/it]\n",
      "100%|██████████| 11/11 [00:11<00:00,  1.00s/it]\n",
      "100%|██████████| 11/11 [00:12<00:00,  1.10s/it]\n",
      "100%|██████████| 11/11 [00:11<00:00,  1.03s/it]\n",
      "100%|██████████| 11/11 [00:11<00:00,  1.06s/it]\n",
      "100%|██████████| 11/11 [00:09<00:00,  1.10it/s]\n",
      "100%|██████████| 11/11 [00:10<00:00,  1.00it/s]\n",
      "100%|██████████| 11/11 [00:09<00:00,  1.10it/s]\n",
      "100%|██████████| 11/11 [00:10<00:00,  1.04it/s]\n",
      "100%|██████████| 11/11 [00:11<00:00,  1.03s/it]\n",
      "100%|██████████| 11/11 [00:11<00:00,  1.06s/it]\n",
      "100%|██████████| 11/11 [00:11<00:00,  1.01s/it]\n",
      "100%|██████████| 11/11 [00:11<00:00,  1.06s/it]\n"
     ]
    }
   ],
   "source": [
    "# ablation\n",
    "for i, template in enumerate(moods_ordered):\n",
    "    mean_scores = h.necessity_check(model, mood_dics[i]['labels'], mood_dics[i]['tokens'], mood_dics[i]['answer_tokens'], mood_dics[i]['clean_logit_diff'], 'mean', device)\n",
    "    sf_mean_scores = h.sufficiency_check(model, mood_dics[i]['labels'], mood_dics[i]['tokens'], mood_dics[i]['answer_tokens'], mood_dics[i]['clean_logit_diff'], 'mean',device)\n",
    "    mood_dics[i]['mean_scores'] = mean_scores\n",
    "    mood_dics[i]['sf_mean_score'] = sf_mean_scores"
   ]
  },
  {
   "cell_type": "code",
   "execution_count": 120,
   "metadata": {
    "colab": {
     "base_uri": "https://localhost:8080/",
     "height": 817
    },
    "id": "Thf1Nl8SabVd",
    "outputId": "09d6eb52-dd55-40bc-c503-138f979edf9f"
   },
   "outputs": [
    {
     "name": "stdout",
     "output_type": "stream",
     "text": [
      "Plot saved to ../images/cript-medium/syllogism_ablation.png\n"
     ]
    },
    {
     "data": {
      "application/vnd.plotly.v1+json": {
       "config": {
        "plotlyServerURL": "https://plot.ly"
       },
       "data": [
        {
         "line": {
          "color": "#bcbd22",
          "width": 2
         },
         "name": "Necessity",
         "showlegend": true,
         "type": "scatter",
         "x": [
          0,
          1,
          2,
          3,
          4,
          5,
          6,
          7,
          8,
          9,
          10,
          11
         ],
         "xaxis": "x",
         "y": [
          0.9720456600189209,
          1.1895577907562256,
          1.114457368850708,
          0.9010695219039917,
          0.8849318027496338,
          0.24999873340129852,
          -0.0488121472299099,
          -0.03766839951276779,
          -0.047984421253204346,
          -0.08276087790727615,
          -0.09952935576438904,
          -0.11703447252511978
         ],
         "yaxis": "y"
        },
        {
         "line": {
          "color": "#9467bd",
          "width": 2
         },
         "name": "Sufficiency",
         "showlegend": true,
         "type": "scatter",
         "x": [
          0,
          1,
          2,
          3,
          4,
          5,
          6,
          7,
          8,
          9,
          10,
          11
         ],
         "xaxis": "x",
         "y": [
          0,
          0.00413377583026886,
          0.017391247674822807,
          0.023937055841088295,
          0.03597535192966461,
          0.03548194095492363,
          0.48519209027290344,
          1.234107494354248,
          1.2233821153640747,
          1.750577449798584,
          1.6622874736785889,
          1.4433529376983643
         ],
         "yaxis": "y"
        },
        {
         "line": {
          "color": "#bcbd22",
          "width": 2
         },
         "name": "Necessity",
         "showlegend": false,
         "type": "scatter",
         "x": [
          0,
          1,
          2,
          3,
          4,
          5,
          6,
          7,
          8,
          9,
          10,
          11
         ],
         "xaxis": "x2",
         "y": [
          0.4753333330154419,
          0.7658799886703491,
          0.7901268005371094,
          0.5799604058265686,
          0.5781921744346619,
          -0.02701007016003132,
          -0.3093240261077881,
          -0.2848564088344574,
          -0.30315670371055603,
          -0.32135048508644104,
          -0.36167263984680176,
          -0.3803243935108185
         ],
         "yaxis": "y2"
        },
        {
         "line": {
          "color": "#9467bd",
          "width": 2
         },
         "name": "Sufficiency",
         "showlegend": false,
         "type": "scatter",
         "x": [
          0,
          1,
          2,
          3,
          4,
          5,
          6,
          7,
          8,
          9,
          10,
          11
         ],
         "xaxis": "x2",
         "y": [
          0,
          0.005412292666733265,
          0.046098582446575165,
          0.05315348505973816,
          0.07495507597923279,
          0.07406078279018402,
          0.6911618709564209,
          1.226993441581726,
          1.2092289924621582,
          1.5208730697631836,
          1.4245147705078125,
          0.9681956171989441
         ],
         "yaxis": "y2"
        },
        {
         "line": {
          "color": "#bcbd22",
          "width": 2
         },
         "name": "Necessity",
         "showlegend": false,
         "type": "scatter",
         "x": [
          0,
          1,
          2,
          3,
          4,
          5,
          6,
          7,
          8,
          9,
          10,
          11
         ],
         "xaxis": "x3",
         "y": [
          0.4753333330154419,
          0.7658799886703491,
          0.7901268005371094,
          0.5799604058265686,
          0.5781921744346619,
          -0.02701007016003132,
          -0.3093240261077881,
          -0.2848564088344574,
          -0.30315670371055603,
          -0.32135048508644104,
          -0.36167263984680176,
          -0.3803243935108185
         ],
         "yaxis": "y3"
        },
        {
         "line": {
          "color": "#9467bd",
          "width": 2
         },
         "name": "Sufficiency",
         "showlegend": false,
         "type": "scatter",
         "x": [
          0,
          1,
          2,
          3,
          4,
          5,
          6,
          7,
          8,
          9,
          10,
          11
         ],
         "xaxis": "x3",
         "y": [
          0,
          0.005412292666733265,
          0.046098582446575165,
          0.05315348505973816,
          0.07495507597923279,
          0.07406078279018402,
          0.6911618709564209,
          1.226993441581726,
          1.2092289924621582,
          1.5208730697631836,
          1.4245147705078125,
          0.9681956171989441
         ],
         "yaxis": "y3"
        },
        {
         "line": {
          "color": "#bcbd22",
          "width": 2
         },
         "name": "Necessity",
         "showlegend": false,
         "type": "scatter",
         "x": [
          0,
          1,
          2,
          3,
          4,
          5,
          6,
          7,
          8,
          9,
          10,
          11
         ],
         "xaxis": "x4",
         "y": [
          0.316963255405426,
          0.5976741909980774,
          0.2715440094470978,
          0.14134278893470764,
          0.2772185206413269,
          -0.22200000286102295,
          -0.6748265027999878,
          -0.6719267964363098,
          -0.6549573540687561,
          -0.644316554069519,
          -0.6067311763763428,
          -0.6014281511306763
         ],
         "yaxis": "y4"
        },
        {
         "line": {
          "color": "#9467bd",
          "width": 2
         },
         "name": "Sufficiency",
         "showlegend": false,
         "type": "scatter",
         "x": [
          0,
          1,
          2,
          3,
          4,
          5,
          6,
          7,
          8,
          9,
          10,
          11
         ],
         "xaxis": "x4",
         "y": [
          0,
          0.00010960896906908602,
          -0.003618749091401696,
          0.00030451882048510015,
          0.0022457123268395662,
          0.004688962362706661,
          1.0460028648376465,
          2.1285786628723145,
          1.8974660634994507,
          2.317225694656372,
          2.151287794113159,
          1.4672281742095947
         ],
         "yaxis": "y4"
        },
        {
         "line": {
          "color": "#bcbd22",
          "width": 2
         },
         "name": "Necessity",
         "showlegend": false,
         "type": "scatter",
         "x": [
          0,
          1,
          2,
          3,
          4,
          5,
          6,
          7,
          8,
          9,
          10,
          11
         ],
         "xaxis": "x5",
         "y": [
          0.1401422619819641,
          0.41773802042007446,
          0.011131620965898037,
          -0.06745943427085876,
          0.09483517706394196,
          -0.22705504298210144,
          -0.48255980014801025,
          -0.4843219518661499,
          -0.4778430759906769,
          -0.4723888039588928,
          -0.45525047183036804,
          -0.4543899595737457
         ],
         "yaxis": "y5"
        },
        {
         "line": {
          "color": "#9467bd",
          "width": 2
         },
         "name": "Sufficiency",
         "showlegend": false,
         "type": "scatter",
         "x": [
          0,
          1,
          2,
          3,
          4,
          5,
          6,
          7,
          8,
          9,
          10,
          11
         ],
         "xaxis": "x5",
         "y": [
          0,
          0.0041790856048464775,
          0.027145005762577057,
          0.03275879845023155,
          0.0505252443253994,
          0.051247745752334595,
          0.45101848244667053,
          0.7526034116744995,
          0.48839324712753296,
          0.7462775707244873,
          0.7209343314170837,
          0.1296422928571701
         ],
         "yaxis": "y5"
        },
        {
         "line": {
          "color": "#bcbd22",
          "width": 2
         },
         "name": "Necessity",
         "showlegend": false,
         "type": "scatter",
         "x": [
          0,
          1,
          2,
          3,
          4,
          5,
          6,
          7,
          8,
          9,
          10,
          11
         ],
         "xaxis": "x6",
         "y": [
          0.47686678171157837,
          0.7728961110115051,
          0.6264564394950867,
          0.34462833404541016,
          0.37985387444496155,
          -0.22188718616962433,
          -0.3937123417854309,
          -0.3831212818622589,
          -0.3916926980018616,
          -0.42234179377555847,
          -0.4510290324687958,
          -0.4645330607891083
         ],
         "yaxis": "y6"
        },
        {
         "line": {
          "color": "#9467bd",
          "width": 2
         },
         "name": "Sufficiency",
         "showlegend": false,
         "type": "scatter",
         "x": [
          0,
          1,
          2,
          3,
          4,
          5,
          6,
          7,
          8,
          9,
          10,
          11
         ],
         "xaxis": "x6",
         "y": [
          0,
          0.005733235739171505,
          0.012518947012722492,
          0.015191269107162952,
          0.021332085132598877,
          0.021365568041801453,
          0.047252021729946136,
          -0.006836700718849897,
          -0.0845961719751358,
          0.0178607739508152,
          0.0017397351330146194,
          -0.567243218421936
         ],
         "yaxis": "y6"
        },
        {
         "line": {
          "color": "#bcbd22",
          "width": 2
         },
         "name": "Necessity",
         "showlegend": false,
         "type": "scatter",
         "x": [
          0,
          1,
          2,
          3,
          4,
          5,
          6,
          7,
          8,
          9,
          10,
          11
         ],
         "xaxis": "x7",
         "y": [
          0.47686678171157837,
          0.7728961110115051,
          0.6264564394950867,
          0.34462833404541016,
          0.37985387444496155,
          -0.22188718616962433,
          -0.3937123417854309,
          -0.3831212818622589,
          -0.3916926980018616,
          -0.42234179377555847,
          -0.4510290324687958,
          -0.4645330607891083
         ],
         "yaxis": "y7"
        },
        {
         "line": {
          "color": "#9467bd",
          "width": 2
         },
         "name": "Sufficiency",
         "showlegend": false,
         "type": "scatter",
         "x": [
          0,
          1,
          2,
          3,
          4,
          5,
          6,
          7,
          8,
          9,
          10,
          11
         ],
         "xaxis": "x7",
         "y": [
          0,
          0.005733235739171505,
          0.012518947012722492,
          0.015191269107162952,
          0.021332085132598877,
          0.021365568041801453,
          0.047252021729946136,
          -0.006836700718849897,
          -0.0845961719751358,
          0.0178607739508152,
          0.0017397351330146194,
          -0.567243218421936
         ],
         "yaxis": "y7"
        },
        {
         "line": {
          "color": "#bcbd22",
          "width": 2
         },
         "name": "Necessity",
         "showlegend": false,
         "type": "scatter",
         "x": [
          0,
          1,
          2,
          3,
          4,
          5,
          6,
          7,
          8,
          9,
          10,
          11
         ],
         "xaxis": "x8",
         "y": [
          -0.13019761443138123,
          0.011943509802222252,
          -0.6405646800994873,
          -0.6816672682762146,
          -0.5216162204742432,
          -0.9165815114974976,
          -1.2101614475250244,
          -1.2058753967285156,
          -1.1945644617080688,
          -1.1969082355499268,
          -1.1462068557739258,
          -1.1527644395828247
         ],
         "yaxis": "y8"
        },
        {
         "line": {
          "color": "#9467bd",
          "width": 2
         },
         "name": "Sufficiency",
         "showlegend": false,
         "type": "scatter",
         "x": [
          0,
          1,
          2,
          3,
          4,
          5,
          6,
          7,
          8,
          9,
          10,
          11
         ],
         "xaxis": "x8",
         "y": [
          0,
          0.00012194315786473453,
          -0.041341401636600494,
          -0.03713599219918251,
          -0.04541337862610817,
          -0.04256469011306763,
          0.3433607518672943,
          0.9442231059074402,
          0.7096892595291138,
          1.1343108415603638,
          1.378768801689148,
          0.8238618969917297
         ],
         "yaxis": "y8"
        },
        {
         "line": {
          "color": "#bcbd22",
          "width": 2
         },
         "name": "Necessity",
         "showlegend": false,
         "type": "scatter",
         "x": [
          0,
          1,
          2,
          3,
          4,
          5,
          6,
          7,
          8,
          9,
          10,
          11
         ],
         "xaxis": "x9",
         "y": [
          -1.1784191131591797,
          -1.1025948524475098,
          -1.4675495624542236,
          -1.2566723823547363,
          -1.054027795791626,
          -1.304054856300354,
          -1.4070121049880981,
          -1.4171282052993774,
          -1.365226149559021,
          -1.3653881549835205,
          -1.3129127025604248,
          -1.3081002235412598
         ],
         "yaxis": "y9"
        },
        {
         "line": {
          "color": "#9467bd",
          "width": 2
         },
         "name": "Sufficiency",
         "showlegend": false,
         "type": "scatter",
         "x": [
          0,
          1,
          2,
          3,
          4,
          5,
          6,
          7,
          8,
          9,
          10,
          11
         ],
         "xaxis": "x9",
         "y": [
          0,
          -0.00925501249730587,
          -0.06797019392251968,
          -0.07530861347913742,
          -0.12096258997917175,
          -0.11791959404945374,
          -0.0161747969686985,
          0.16514696180820465,
          0.018658164888620377,
          -0.7251088619232178,
          -0.631401002407074,
          -1.0719271898269653
         ],
         "yaxis": "y9"
        },
        {
         "line": {
          "color": "#bcbd22",
          "width": 2
         },
         "name": "Necessity",
         "showlegend": false,
         "type": "scatter",
         "x": [
          0,
          1,
          2,
          3,
          4,
          5,
          6,
          7,
          8,
          9,
          10,
          11
         ],
         "xaxis": "x10",
         "y": [
          -0.5423792600631714,
          -0.4509117305278778,
          -0.43141400814056396,
          -0.4067348539829254,
          -0.32033318281173706,
          -0.22640222311019897,
          -0.35281407833099365,
          -0.3554503321647644,
          -0.3211837112903595,
          -0.3230106830596924,
          -0.2969595491886139,
          -0.2881031930446625
         ],
         "yaxis": "y10"
        },
        {
         "line": {
          "color": "#9467bd",
          "width": 2
         },
         "name": "Sufficiency",
         "showlegend": false,
         "type": "scatter",
         "x": [
          0,
          1,
          2,
          3,
          4,
          5,
          6,
          7,
          8,
          9,
          10,
          11
         ],
         "xaxis": "x10",
         "y": [
          0,
          -0.005699369590729475,
          -0.015290557406842709,
          -0.024090174585580826,
          -0.04386914521455765,
          -0.043094806373119354,
          0.0026913748588413,
          -0.4081214964389801,
          -0.4041208028793335,
          -0.8937801718711853,
          -0.9614574909210205,
          -1.2433795928955078
         ],
         "yaxis": "y10"
        },
        {
         "line": {
          "color": "#bcbd22",
          "width": 2
         },
         "name": "Necessity",
         "showlegend": false,
         "type": "scatter",
         "x": [
          0,
          1,
          2,
          3,
          4,
          5,
          6,
          7,
          8,
          9,
          10,
          11
         ],
         "xaxis": "x11",
         "y": [
          -0.41675233840942383,
          -0.2752847373485565,
          -0.40788429975509644,
          -0.43049028515815735,
          -0.4162239730358124,
          -0.6770771741867065,
          -0.7126359939575195,
          -0.7016542553901672,
          -0.7334128022193909,
          -0.7608820796012878,
          -0.8042435646057129,
          -0.8232945799827576
         ],
         "yaxis": "y11"
        },
        {
         "line": {
          "color": "#9467bd",
          "width": 2
         },
         "name": "Sufficiency",
         "showlegend": false,
         "type": "scatter",
         "x": [
          0,
          1,
          2,
          3,
          4,
          5,
          6,
          7,
          8,
          9,
          10,
          11
         ],
         "xaxis": "x11",
         "y": [
          0,
          0.005912399385124445,
          0.03931069001555443,
          0.04472338408231735,
          0.07857456058263779,
          0.07902690023183823,
          -0.04711121693253517,
          -0.12095854431390762,
          -0.15828090906143188,
          -0.12062700092792511,
          -0.1014995202422142,
          -0.5857270956039429
         ],
         "yaxis": "y11"
        },
        {
         "line": {
          "color": "#bcbd22",
          "width": 2
         },
         "name": "Necessity",
         "showlegend": false,
         "type": "scatter",
         "x": [
          0,
          1,
          2,
          3,
          4,
          5,
          6,
          7,
          8,
          9,
          10,
          11
         ],
         "xaxis": "x12",
         "y": [
          -0.9201867580413818,
          -0.740770161151886,
          -1.3131073713302612,
          -1.3346251249313354,
          -1.1488178968429565,
          -1.3162586688995361,
          -1.4704829454421997,
          -1.4763219356536865,
          -1.4878321886062622,
          -1.492121934890747,
          -1.493128776550293,
          -1.5124660730361938
         ],
         "yaxis": "y12"
        },
        {
         "line": {
          "color": "#9467bd",
          "width": 2
         },
         "name": "Sufficiency",
         "showlegend": false,
         "type": "scatter",
         "x": [
          0,
          1,
          2,
          3,
          4,
          5,
          6,
          7,
          8,
          9,
          10,
          11
         ],
         "xaxis": "x12",
         "y": [
          0,
          0.002812724793329835,
          0.005453851539641619,
          0.005491829011589289,
          0.006368997506797314,
          0.008480686694383621,
          -0.03826344758272171,
          -0.32094138860702515,
          -0.5830010175704956,
          -0.6661692261695862,
          -0.4463382363319397,
          -1.1806427240371704
         ],
         "yaxis": "y12"
        },
        {
         "line": {
          "color": "#bcbd22",
          "width": 2
         },
         "name": "Necessity",
         "showlegend": false,
         "type": "scatter",
         "x": [
          0,
          1,
          2,
          3,
          4,
          5,
          6,
          7,
          8,
          9,
          10,
          11
         ],
         "xaxis": "x13",
         "y": [
          -1.4959050416946411,
          -1.3991241455078125,
          -1.783358097076416,
          -1.6791682243347168,
          -1.3959848880767822,
          -1.6681562662124634,
          -1.5106958150863647,
          -1.5180158615112305,
          -1.5042612552642822,
          -1.4996846914291382,
          -1.4768368005752563,
          -1.4843733310699463
         ],
         "yaxis": "y13"
        },
        {
         "line": {
          "color": "#9467bd",
          "width": 2
         },
         "name": "Sufficiency",
         "showlegend": false,
         "type": "scatter",
         "x": [
          0,
          1,
          2,
          3,
          4,
          5,
          6,
          7,
          8,
          9,
          10,
          11
         ],
         "xaxis": "x13",
         "y": [
          0,
          -0.008782853372395039,
          -0.01970486156642437,
          -0.02330847829580307,
          -0.03278312832117081,
          -0.029199834913015366,
          -0.17561309039592743,
          -0.37950149178504944,
          -0.655191957950592,
          -1.4149800539016724,
          -1.103217601776123,
          -1.5172797441482544
         ],
         "yaxis": "y13"
        },
        {
         "line": {
          "color": "#bcbd22",
          "width": 2
         },
         "name": "Necessity",
         "showlegend": false,
         "type": "scatter",
         "x": [
          0,
          1,
          2,
          3,
          4,
          5,
          6,
          7,
          8,
          9,
          10,
          11
         ],
         "xaxis": "x14",
         "y": [
          -1.505963683128357,
          -1.4408284425735474,
          -1.9819083213806152,
          -1.7614763975143433,
          -1.4663567543029785,
          -1.4779102802276611,
          -1.23365318775177,
          -1.2355897426605225,
          -1.1987138986587524,
          -1.1910862922668457,
          -1.1261205673217773,
          -1.1150603294372559
         ],
         "yaxis": "y14"
        },
        {
         "line": {
          "color": "#9467bd",
          "width": 2
         },
         "name": "Sufficiency",
         "showlegend": false,
         "type": "scatter",
         "x": [
          0,
          1,
          2,
          3,
          4,
          5,
          6,
          7,
          8,
          9,
          10,
          11
         ],
         "xaxis": "x14",
         "y": [
          0,
          -0.015473154373466969,
          -0.10423749685287476,
          -0.11679460853338242,
          -0.1670389622449875,
          -0.16487592458724976,
          -0.6995288729667664,
          -0.9953686594963074,
          -1.3018518686294556,
          -2.2080130577087402,
          -1.601574420928955,
          -1.904473900794983
         ],
         "yaxis": "y14"
        },
        {
         "line": {
          "color": "#bcbd22",
          "width": 2
         },
         "name": "Necessity",
         "showlegend": false,
         "type": "scatter",
         "x": [
          0,
          1,
          2,
          3,
          4,
          5,
          6,
          7,
          8,
          9,
          10,
          11
         ],
         "xaxis": "x15",
         "y": [
          -1.7159478664398193,
          -1.7097456455230713,
          -2.1255292892456055,
          -1.9117578268051147,
          -1.6492658853530884,
          -1.677173376083374,
          -1.7528005838394165,
          -1.7619984149932861,
          -1.7244696617126465,
          -1.7169817686080933,
          -1.65021550655365,
          -1.6429325342178345
         ],
         "yaxis": "y15"
        },
        {
         "line": {
          "color": "#9467bd",
          "width": 2
         },
         "name": "Sufficiency",
         "showlegend": false,
         "type": "scatter",
         "x": [
          0,
          1,
          2,
          3,
          4,
          5,
          6,
          7,
          8,
          9,
          10,
          11
         ],
         "xaxis": "x15",
         "y": [
          0,
          -0.01422764454036951,
          -0.10677196830511093,
          -0.11873824149370193,
          -0.16784866154193878,
          -0.1647750735282898,
          -0.2972783148288727,
          -1.1379209756851196,
          -1.433417797088623,
          -2.517275333404541,
          -2.0082056522369385,
          -2.312124013900757
         ],
         "yaxis": "y15"
        }
       ],
       "layout": {
        "annotations": [
         {
          "font": {
           "size": 16
          },
          "showarrow": false,
          "text": "AII-3",
          "x": 0.08,
          "xanchor": "center",
          "xref": "paper",
          "y": 1,
          "yanchor": "bottom",
          "yref": "paper"
         },
         {
          "font": {
           "size": 16
          },
          "showarrow": false,
          "text": "IAI-3",
          "x": 0.29000000000000004,
          "xanchor": "center",
          "xref": "paper",
          "y": 1,
          "yanchor": "bottom",
          "yref": "paper"
         },
         {
          "font": {
           "size": 16
          },
          "showarrow": false,
          "text": "IAI-4",
          "x": 0.5,
          "xanchor": "center",
          "xref": "paper",
          "y": 1,
          "yanchor": "bottom",
          "yref": "paper"
         },
         {
          "font": {
           "size": 16
          },
          "showarrow": false,
          "text": "AAA-1",
          "x": 0.71,
          "xanchor": "center",
          "xref": "paper",
          "y": 1,
          "yanchor": "bottom",
          "yref": "paper"
         },
         {
          "font": {
           "size": 16
          },
          "showarrow": false,
          "text": "EAE-1",
          "x": 0.92,
          "xanchor": "center",
          "xref": "paper",
          "y": 1,
          "yanchor": "bottom",
          "yref": "paper"
         },
         {
          "font": {
           "size": 16
          },
          "showarrow": false,
          "text": "EIO-4",
          "x": 0.08,
          "xanchor": "center",
          "xref": "paper",
          "y": 0.6499999999999999,
          "yanchor": "bottom",
          "yref": "paper"
         },
         {
          "font": {
           "size": 16
          },
          "showarrow": false,
          "text": "EIO-3",
          "x": 0.29000000000000004,
          "xanchor": "center",
          "xref": "paper",
          "y": 0.6499999999999999,
          "yanchor": "bottom",
          "yref": "paper"
         },
         {
          "font": {
           "size": 16
          },
          "showarrow": false,
          "text": "AII-1",
          "x": 0.5,
          "xanchor": "center",
          "xref": "paper",
          "y": 0.6499999999999999,
          "yanchor": "bottom",
          "yref": "paper"
         },
         {
          "font": {
           "size": 16
          },
          "showarrow": false,
          "text": "AOO-2",
          "x": 0.71,
          "xanchor": "center",
          "xref": "paper",
          "y": 0.6499999999999999,
          "yanchor": "bottom",
          "yref": "paper"
         },
         {
          "font": {
           "size": 16
          },
          "showarrow": false,
          "text": "AEE-4",
          "x": 0.92,
          "xanchor": "center",
          "xref": "paper",
          "y": 0.6499999999999999,
          "yanchor": "bottom",
          "yref": "paper"
         },
         {
          "font": {
           "size": 16
          },
          "showarrow": false,
          "text": "OAO-3",
          "x": 0.08,
          "xanchor": "center",
          "xref": "paper",
          "y": 0.3,
          "yanchor": "bottom",
          "yref": "paper"
         },
         {
          "font": {
           "size": 16
          },
          "showarrow": false,
          "text": "EIO-1",
          "x": 0.29000000000000004,
          "xanchor": "center",
          "xref": "paper",
          "y": 0.3,
          "yanchor": "bottom",
          "yref": "paper"
         },
         {
          "font": {
           "size": 16
          },
          "showarrow": false,
          "text": "EIO-2",
          "x": 0.5,
          "xanchor": "center",
          "xref": "paper",
          "y": 0.3,
          "yanchor": "bottom",
          "yref": "paper"
         },
         {
          "font": {
           "size": 16
          },
          "showarrow": false,
          "text": "EAE-2",
          "x": 0.71,
          "xanchor": "center",
          "xref": "paper",
          "y": 0.3,
          "yanchor": "bottom",
          "yref": "paper"
         },
         {
          "font": {
           "size": 16
          },
          "showarrow": false,
          "text": "AEE-2",
          "x": 0.92,
          "xanchor": "center",
          "xref": "paper",
          "y": 0.3,
          "yanchor": "bottom",
          "yref": "paper"
         }
        ],
        "font": {
         "family": "Arial",
         "size": 20
        },
        "height": 800,
        "legend": {
         "font": {
          "size": 20
         },
         "orientation": "h",
         "x": 0.5,
         "xanchor": "center",
         "y": -0.2,
         "yanchor": "bottom"
        },
        "plot_bgcolor": "white",
        "shapes": [
         {
          "line": {
           "color": "#000000",
           "dash": "dash",
           "width": 1
          },
          "name": "Baseline",
          "type": "line",
          "x0": 0,
          "x1": 1,
          "xref": "x domain",
          "y0": 0.9720456600189209,
          "y1": 0.9720456600189209,
          "yref": "y"
         },
         {
          "line": {
           "color": "#000000",
           "dash": "dash",
           "width": 1
          },
          "type": "line",
          "x0": 0,
          "x1": 1,
          "xref": "x2 domain",
          "y0": 0.4753333330154419,
          "y1": 0.4753333330154419,
          "yref": "y2"
         },
         {
          "line": {
           "color": "#000000",
           "dash": "dash",
           "width": 1
          },
          "type": "line",
          "x0": 0,
          "x1": 1,
          "xref": "x3 domain",
          "y0": 0.4753333330154419,
          "y1": 0.4753333330154419,
          "yref": "y3"
         },
         {
          "line": {
           "color": "#000000",
           "dash": "dash",
           "width": 1
          },
          "type": "line",
          "x0": 0,
          "x1": 1,
          "xref": "x4 domain",
          "y0": 0.316963255405426,
          "y1": 0.316963255405426,
          "yref": "y4"
         },
         {
          "line": {
           "color": "#000000",
           "dash": "dash",
           "width": 1
          },
          "type": "line",
          "x0": 0,
          "x1": 1,
          "xref": "x5 domain",
          "y0": 0.1401422619819641,
          "y1": 0.1401422619819641,
          "yref": "y5"
         },
         {
          "line": {
           "color": "#000000",
           "dash": "dash",
           "width": 1
          },
          "type": "line",
          "x0": 0,
          "x1": 1,
          "xref": "x6 domain",
          "y0": 0.47686678171157837,
          "y1": 0.47686678171157837,
          "yref": "y6"
         },
         {
          "line": {
           "color": "#000000",
           "dash": "dash",
           "width": 1
          },
          "type": "line",
          "x0": 0,
          "x1": 1,
          "xref": "x7 domain",
          "y0": 0.47686678171157837,
          "y1": 0.47686678171157837,
          "yref": "y7"
         },
         {
          "line": {
           "color": "#000000",
           "dash": "dash",
           "width": 1
          },
          "type": "line",
          "x0": 0,
          "x1": 1,
          "xref": "x8 domain",
          "y0": -0.13019761443138123,
          "y1": -0.13019761443138123,
          "yref": "y8"
         },
         {
          "line": {
           "color": "#000000",
           "dash": "dash",
           "width": 1
          },
          "type": "line",
          "x0": 0,
          "x1": 1,
          "xref": "x9 domain",
          "y0": -1.1784191131591797,
          "y1": -1.1784191131591797,
          "yref": "y9"
         },
         {
          "line": {
           "color": "#000000",
           "dash": "dash",
           "width": 1
          },
          "type": "line",
          "x0": 0,
          "x1": 1,
          "xref": "x10 domain",
          "y0": -0.5423792600631714,
          "y1": -0.5423792600631714,
          "yref": "y10"
         },
         {
          "line": {
           "color": "#000000",
           "dash": "dash",
           "width": 1
          },
          "type": "line",
          "x0": 0,
          "x1": 1,
          "xref": "x11 domain",
          "y0": -0.41675233840942383,
          "y1": -0.41675233840942383,
          "yref": "y11"
         },
         {
          "line": {
           "color": "#000000",
           "dash": "dash",
           "width": 1
          },
          "type": "line",
          "x0": 0,
          "x1": 1,
          "xref": "x12 domain",
          "y0": -0.9201867580413818,
          "y1": -0.9201867580413818,
          "yref": "y12"
         },
         {
          "line": {
           "color": "#000000",
           "dash": "dash",
           "width": 1
          },
          "type": "line",
          "x0": 0,
          "x1": 1,
          "xref": "x13 domain",
          "y0": -1.4959050416946411,
          "y1": -1.4959050416946411,
          "yref": "y13"
         },
         {
          "line": {
           "color": "#000000",
           "dash": "dash",
           "width": 1
          },
          "type": "line",
          "x0": 0,
          "x1": 1,
          "xref": "x14 domain",
          "y0": -1.505963683128357,
          "y1": -1.505963683128357,
          "yref": "y14"
         },
         {
          "line": {
           "color": "#000000",
           "dash": "dash",
           "width": 1
          },
          "type": "line",
          "x0": 0,
          "x1": 1,
          "xref": "x15 domain",
          "y0": -1.7159478664398193,
          "y1": -1.7159478664398193,
          "yref": "y15"
         }
        ],
        "template": {
         "data": {
          "bar": [
           {
            "error_x": {
             "color": "#2a3f5f"
            },
            "error_y": {
             "color": "#2a3f5f"
            },
            "marker": {
             "line": {
              "color": "#E5ECF6",
              "width": 0.5
             },
             "pattern": {
              "fillmode": "overlay",
              "size": 10,
              "solidity": 0.2
             }
            },
            "type": "bar"
           }
          ],
          "barpolar": [
           {
            "marker": {
             "line": {
              "color": "#E5ECF6",
              "width": 0.5
             },
             "pattern": {
              "fillmode": "overlay",
              "size": 10,
              "solidity": 0.2
             }
            },
            "type": "barpolar"
           }
          ],
          "carpet": [
           {
            "aaxis": {
             "endlinecolor": "#2a3f5f",
             "gridcolor": "white",
             "linecolor": "white",
             "minorgridcolor": "white",
             "startlinecolor": "#2a3f5f"
            },
            "baxis": {
             "endlinecolor": "#2a3f5f",
             "gridcolor": "white",
             "linecolor": "white",
             "minorgridcolor": "white",
             "startlinecolor": "#2a3f5f"
            },
            "type": "carpet"
           }
          ],
          "choropleth": [
           {
            "colorbar": {
             "outlinewidth": 0,
             "ticks": ""
            },
            "type": "choropleth"
           }
          ],
          "contour": [
           {
            "colorbar": {
             "outlinewidth": 0,
             "ticks": ""
            },
            "colorscale": [
             [
              0,
              "#0d0887"
             ],
             [
              0.1111111111111111,
              "#46039f"
             ],
             [
              0.2222222222222222,
              "#7201a8"
             ],
             [
              0.3333333333333333,
              "#9c179e"
             ],
             [
              0.4444444444444444,
              "#bd3786"
             ],
             [
              0.5555555555555556,
              "#d8576b"
             ],
             [
              0.6666666666666666,
              "#ed7953"
             ],
             [
              0.7777777777777778,
              "#fb9f3a"
             ],
             [
              0.8888888888888888,
              "#fdca26"
             ],
             [
              1,
              "#f0f921"
             ]
            ],
            "type": "contour"
           }
          ],
          "contourcarpet": [
           {
            "colorbar": {
             "outlinewidth": 0,
             "ticks": ""
            },
            "type": "contourcarpet"
           }
          ],
          "heatmap": [
           {
            "colorbar": {
             "outlinewidth": 0,
             "ticks": ""
            },
            "colorscale": [
             [
              0,
              "#0d0887"
             ],
             [
              0.1111111111111111,
              "#46039f"
             ],
             [
              0.2222222222222222,
              "#7201a8"
             ],
             [
              0.3333333333333333,
              "#9c179e"
             ],
             [
              0.4444444444444444,
              "#bd3786"
             ],
             [
              0.5555555555555556,
              "#d8576b"
             ],
             [
              0.6666666666666666,
              "#ed7953"
             ],
             [
              0.7777777777777778,
              "#fb9f3a"
             ],
             [
              0.8888888888888888,
              "#fdca26"
             ],
             [
              1,
              "#f0f921"
             ]
            ],
            "type": "heatmap"
           }
          ],
          "heatmapgl": [
           {
            "colorbar": {
             "outlinewidth": 0,
             "ticks": ""
            },
            "colorscale": [
             [
              0,
              "#0d0887"
             ],
             [
              0.1111111111111111,
              "#46039f"
             ],
             [
              0.2222222222222222,
              "#7201a8"
             ],
             [
              0.3333333333333333,
              "#9c179e"
             ],
             [
              0.4444444444444444,
              "#bd3786"
             ],
             [
              0.5555555555555556,
              "#d8576b"
             ],
             [
              0.6666666666666666,
              "#ed7953"
             ],
             [
              0.7777777777777778,
              "#fb9f3a"
             ],
             [
              0.8888888888888888,
              "#fdca26"
             ],
             [
              1,
              "#f0f921"
             ]
            ],
            "type": "heatmapgl"
           }
          ],
          "histogram": [
           {
            "marker": {
             "pattern": {
              "fillmode": "overlay",
              "size": 10,
              "solidity": 0.2
             }
            },
            "type": "histogram"
           }
          ],
          "histogram2d": [
           {
            "colorbar": {
             "outlinewidth": 0,
             "ticks": ""
            },
            "colorscale": [
             [
              0,
              "#0d0887"
             ],
             [
              0.1111111111111111,
              "#46039f"
             ],
             [
              0.2222222222222222,
              "#7201a8"
             ],
             [
              0.3333333333333333,
              "#9c179e"
             ],
             [
              0.4444444444444444,
              "#bd3786"
             ],
             [
              0.5555555555555556,
              "#d8576b"
             ],
             [
              0.6666666666666666,
              "#ed7953"
             ],
             [
              0.7777777777777778,
              "#fb9f3a"
             ],
             [
              0.8888888888888888,
              "#fdca26"
             ],
             [
              1,
              "#f0f921"
             ]
            ],
            "type": "histogram2d"
           }
          ],
          "histogram2dcontour": [
           {
            "colorbar": {
             "outlinewidth": 0,
             "ticks": ""
            },
            "colorscale": [
             [
              0,
              "#0d0887"
             ],
             [
              0.1111111111111111,
              "#46039f"
             ],
             [
              0.2222222222222222,
              "#7201a8"
             ],
             [
              0.3333333333333333,
              "#9c179e"
             ],
             [
              0.4444444444444444,
              "#bd3786"
             ],
             [
              0.5555555555555556,
              "#d8576b"
             ],
             [
              0.6666666666666666,
              "#ed7953"
             ],
             [
              0.7777777777777778,
              "#fb9f3a"
             ],
             [
              0.8888888888888888,
              "#fdca26"
             ],
             [
              1,
              "#f0f921"
             ]
            ],
            "type": "histogram2dcontour"
           }
          ],
          "mesh3d": [
           {
            "colorbar": {
             "outlinewidth": 0,
             "ticks": ""
            },
            "type": "mesh3d"
           }
          ],
          "parcoords": [
           {
            "line": {
             "colorbar": {
              "outlinewidth": 0,
              "ticks": ""
             }
            },
            "type": "parcoords"
           }
          ],
          "pie": [
           {
            "automargin": true,
            "type": "pie"
           }
          ],
          "scatter": [
           {
            "fillpattern": {
             "fillmode": "overlay",
             "size": 10,
             "solidity": 0.2
            },
            "type": "scatter"
           }
          ],
          "scatter3d": [
           {
            "line": {
             "colorbar": {
              "outlinewidth": 0,
              "ticks": ""
             }
            },
            "marker": {
             "colorbar": {
              "outlinewidth": 0,
              "ticks": ""
             }
            },
            "type": "scatter3d"
           }
          ],
          "scattercarpet": [
           {
            "marker": {
             "colorbar": {
              "outlinewidth": 0,
              "ticks": ""
             }
            },
            "type": "scattercarpet"
           }
          ],
          "scattergeo": [
           {
            "marker": {
             "colorbar": {
              "outlinewidth": 0,
              "ticks": ""
             }
            },
            "type": "scattergeo"
           }
          ],
          "scattergl": [
           {
            "marker": {
             "colorbar": {
              "outlinewidth": 0,
              "ticks": ""
             }
            },
            "type": "scattergl"
           }
          ],
          "scattermapbox": [
           {
            "marker": {
             "colorbar": {
              "outlinewidth": 0,
              "ticks": ""
             }
            },
            "type": "scattermapbox"
           }
          ],
          "scatterpolar": [
           {
            "marker": {
             "colorbar": {
              "outlinewidth": 0,
              "ticks": ""
             }
            },
            "type": "scatterpolar"
           }
          ],
          "scatterpolargl": [
           {
            "marker": {
             "colorbar": {
              "outlinewidth": 0,
              "ticks": ""
             }
            },
            "type": "scatterpolargl"
           }
          ],
          "scatterternary": [
           {
            "marker": {
             "colorbar": {
              "outlinewidth": 0,
              "ticks": ""
             }
            },
            "type": "scatterternary"
           }
          ],
          "surface": [
           {
            "colorbar": {
             "outlinewidth": 0,
             "ticks": ""
            },
            "colorscale": [
             [
              0,
              "#0d0887"
             ],
             [
              0.1111111111111111,
              "#46039f"
             ],
             [
              0.2222222222222222,
              "#7201a8"
             ],
             [
              0.3333333333333333,
              "#9c179e"
             ],
             [
              0.4444444444444444,
              "#bd3786"
             ],
             [
              0.5555555555555556,
              "#d8576b"
             ],
             [
              0.6666666666666666,
              "#ed7953"
             ],
             [
              0.7777777777777778,
              "#fb9f3a"
             ],
             [
              0.8888888888888888,
              "#fdca26"
             ],
             [
              1,
              "#f0f921"
             ]
            ],
            "type": "surface"
           }
          ],
          "table": [
           {
            "cells": {
             "fill": {
              "color": "#EBF0F8"
             },
             "line": {
              "color": "white"
             }
            },
            "header": {
             "fill": {
              "color": "#C8D4E3"
             },
             "line": {
              "color": "white"
             }
            },
            "type": "table"
           }
          ]
         },
         "layout": {
          "annotationdefaults": {
           "arrowcolor": "#2a3f5f",
           "arrowhead": 0,
           "arrowwidth": 1
          },
          "autotypenumbers": "strict",
          "coloraxis": {
           "colorbar": {
            "outlinewidth": 0,
            "ticks": ""
           }
          },
          "colorscale": {
           "diverging": [
            [
             0,
             "#8e0152"
            ],
            [
             0.1,
             "#c51b7d"
            ],
            [
             0.2,
             "#de77ae"
            ],
            [
             0.3,
             "#f1b6da"
            ],
            [
             0.4,
             "#fde0ef"
            ],
            [
             0.5,
             "#f7f7f7"
            ],
            [
             0.6,
             "#e6f5d0"
            ],
            [
             0.7,
             "#b8e186"
            ],
            [
             0.8,
             "#7fbc41"
            ],
            [
             0.9,
             "#4d9221"
            ],
            [
             1,
             "#276419"
            ]
           ],
           "sequential": [
            [
             0,
             "#0d0887"
            ],
            [
             0.1111111111111111,
             "#46039f"
            ],
            [
             0.2222222222222222,
             "#7201a8"
            ],
            [
             0.3333333333333333,
             "#9c179e"
            ],
            [
             0.4444444444444444,
             "#bd3786"
            ],
            [
             0.5555555555555556,
             "#d8576b"
            ],
            [
             0.6666666666666666,
             "#ed7953"
            ],
            [
             0.7777777777777778,
             "#fb9f3a"
            ],
            [
             0.8888888888888888,
             "#fdca26"
            ],
            [
             1,
             "#f0f921"
            ]
           ],
           "sequentialminus": [
            [
             0,
             "#0d0887"
            ],
            [
             0.1111111111111111,
             "#46039f"
            ],
            [
             0.2222222222222222,
             "#7201a8"
            ],
            [
             0.3333333333333333,
             "#9c179e"
            ],
            [
             0.4444444444444444,
             "#bd3786"
            ],
            [
             0.5555555555555556,
             "#d8576b"
            ],
            [
             0.6666666666666666,
             "#ed7953"
            ],
            [
             0.7777777777777778,
             "#fb9f3a"
            ],
            [
             0.8888888888888888,
             "#fdca26"
            ],
            [
             1,
             "#f0f921"
            ]
           ]
          },
          "colorway": [
           "#636efa",
           "#EF553B",
           "#00cc96",
           "#ab63fa",
           "#FFA15A",
           "#19d3f3",
           "#FF6692",
           "#B6E880",
           "#FF97FF",
           "#FECB52"
          ],
          "font": {
           "color": "#2a3f5f"
          },
          "geo": {
           "bgcolor": "white",
           "lakecolor": "white",
           "landcolor": "#E5ECF6",
           "showlakes": true,
           "showland": true,
           "subunitcolor": "white"
          },
          "hoverlabel": {
           "align": "left"
          },
          "hovermode": "closest",
          "mapbox": {
           "style": "light"
          },
          "paper_bgcolor": "white",
          "plot_bgcolor": "#E5ECF6",
          "polar": {
           "angularaxis": {
            "gridcolor": "white",
            "linecolor": "white",
            "ticks": ""
           },
           "bgcolor": "#E5ECF6",
           "radialaxis": {
            "gridcolor": "white",
            "linecolor": "white",
            "ticks": ""
           }
          },
          "scene": {
           "xaxis": {
            "backgroundcolor": "#E5ECF6",
            "gridcolor": "white",
            "gridwidth": 2,
            "linecolor": "white",
            "showbackground": true,
            "ticks": "",
            "zerolinecolor": "white"
           },
           "yaxis": {
            "backgroundcolor": "#E5ECF6",
            "gridcolor": "white",
            "gridwidth": 2,
            "linecolor": "white",
            "showbackground": true,
            "ticks": "",
            "zerolinecolor": "white"
           },
           "zaxis": {
            "backgroundcolor": "#E5ECF6",
            "gridcolor": "white",
            "gridwidth": 2,
            "linecolor": "white",
            "showbackground": true,
            "ticks": "",
            "zerolinecolor": "white"
           }
          },
          "shapedefaults": {
           "line": {
            "color": "#2a3f5f"
           }
          },
          "ternary": {
           "aaxis": {
            "gridcolor": "white",
            "linecolor": "white",
            "ticks": ""
           },
           "baxis": {
            "gridcolor": "white",
            "linecolor": "white",
            "ticks": ""
           },
           "bgcolor": "#E5ECF6",
           "caxis": {
            "gridcolor": "white",
            "linecolor": "white",
            "ticks": ""
           }
          },
          "title": {
           "x": 0.05
          },
          "xaxis": {
           "automargin": true,
           "gridcolor": "white",
           "linecolor": "white",
           "ticks": "",
           "title": {
            "standoff": 15
           },
           "zerolinecolor": "white",
           "zerolinewidth": 2
          },
          "yaxis": {
           "automargin": true,
           "gridcolor": "white",
           "linecolor": "white",
           "ticks": "",
           "title": {
            "standoff": 15
           },
           "zerolinecolor": "white",
           "zerolinewidth": 2
          }
         }
        },
        "title": {
         "font": {
          "size": 24
         },
         "text": "",
         "x": 0.5,
         "xanchor": "center"
        },
        "width": 1000,
        "xaxis": {
         "anchor": "y",
         "domain": [
          0,
          0.16
         ],
         "dtick": 5,
         "linecolor": "black",
         "linewidth": 1,
         "matches": "x11",
         "mirror": true,
         "showline": true,
         "showticklabels": false,
         "tickfont": {
          "size": 12
         },
         "tickmode": "linear",
         "title": {
          "font": {
           "size": 14
          }
         }
        },
        "xaxis10": {
         "anchor": "y10",
         "domain": [
          0.8400000000000001,
          1
         ],
         "dtick": 5,
         "linecolor": "black",
         "linewidth": 1,
         "matches": "x15",
         "mirror": true,
         "showline": true,
         "showticklabels": false,
         "tickfont": {
          "size": 12
         },
         "tickmode": "linear",
         "title": {
          "font": {
           "size": 14
          }
         }
        },
        "xaxis11": {
         "anchor": "y11",
         "domain": [
          0,
          0.16
         ],
         "dtick": 5,
         "linecolor": "black",
         "linewidth": 1,
         "mirror": true,
         "showline": true,
         "tickfont": {
          "size": 12
         },
         "tickmode": "linear",
         "title": {
          "font": {
           "size": 14
          },
          "text": "Ablated (Added) Heads"
         }
        },
        "xaxis12": {
         "anchor": "y12",
         "domain": [
          0.21000000000000002,
          0.37
         ],
         "dtick": 5,
         "linecolor": "black",
         "linewidth": 1,
         "mirror": true,
         "showline": true,
         "tickfont": {
          "size": 12
         },
         "tickmode": "linear",
         "title": {
          "font": {
           "size": 14
          },
          "text": "Ablated (Added) Heads"
         }
        },
        "xaxis13": {
         "anchor": "y13",
         "domain": [
          0.42000000000000004,
          0.5800000000000001
         ],
         "dtick": 5,
         "linecolor": "black",
         "linewidth": 1,
         "mirror": true,
         "showline": true,
         "tickfont": {
          "size": 12
         },
         "tickmode": "linear",
         "title": {
          "font": {
           "size": 14
          },
          "text": "Ablated (Added) Heads"
         }
        },
        "xaxis14": {
         "anchor": "y14",
         "domain": [
          0.63,
          0.79
         ],
         "dtick": 5,
         "linecolor": "black",
         "linewidth": 1,
         "mirror": true,
         "showline": true,
         "tickfont": {
          "size": 12
         },
         "tickmode": "linear",
         "title": {
          "font": {
           "size": 14
          },
          "text": "Ablated (Added) Heads"
         }
        },
        "xaxis15": {
         "anchor": "y15",
         "domain": [
          0.8400000000000001,
          1
         ],
         "dtick": 5,
         "linecolor": "black",
         "linewidth": 1,
         "mirror": true,
         "showline": true,
         "tickfont": {
          "size": 12
         },
         "tickmode": "linear",
         "title": {
          "font": {
           "size": 14
          },
          "text": "Ablated (Added) Heads"
         }
        },
        "xaxis2": {
         "anchor": "y2",
         "domain": [
          0.21000000000000002,
          0.37
         ],
         "dtick": 5,
         "linecolor": "black",
         "linewidth": 1,
         "matches": "x12",
         "mirror": true,
         "showline": true,
         "showticklabels": false,
         "tickfont": {
          "size": 12
         },
         "tickmode": "linear",
         "title": {
          "font": {
           "size": 14
          }
         }
        },
        "xaxis3": {
         "anchor": "y3",
         "domain": [
          0.42000000000000004,
          0.5800000000000001
         ],
         "dtick": 5,
         "linecolor": "black",
         "linewidth": 1,
         "matches": "x13",
         "mirror": true,
         "showline": true,
         "showticklabels": false,
         "tickfont": {
          "size": 12
         },
         "tickmode": "linear",
         "title": {
          "font": {
           "size": 14
          }
         }
        },
        "xaxis4": {
         "anchor": "y4",
         "domain": [
          0.63,
          0.79
         ],
         "dtick": 5,
         "linecolor": "black",
         "linewidth": 1,
         "matches": "x14",
         "mirror": true,
         "showline": true,
         "showticklabels": false,
         "tickfont": {
          "size": 12
         },
         "tickmode": "linear",
         "title": {
          "font": {
           "size": 14
          }
         }
        },
        "xaxis5": {
         "anchor": "y5",
         "domain": [
          0.8400000000000001,
          1
         ],
         "dtick": 5,
         "linecolor": "black",
         "linewidth": 1,
         "matches": "x15",
         "mirror": true,
         "showline": true,
         "showticklabels": false,
         "tickfont": {
          "size": 12
         },
         "tickmode": "linear",
         "title": {
          "font": {
           "size": 14
          }
         }
        },
        "xaxis6": {
         "anchor": "y6",
         "domain": [
          0,
          0.16
         ],
         "dtick": 5,
         "linecolor": "black",
         "linewidth": 1,
         "matches": "x11",
         "mirror": true,
         "showline": true,
         "showticklabels": false,
         "tickfont": {
          "size": 12
         },
         "tickmode": "linear",
         "title": {
          "font": {
           "size": 14
          }
         }
        },
        "xaxis7": {
         "anchor": "y7",
         "domain": [
          0.21000000000000002,
          0.37
         ],
         "dtick": 5,
         "linecolor": "black",
         "linewidth": 1,
         "matches": "x12",
         "mirror": true,
         "showline": true,
         "showticklabels": false,
         "tickfont": {
          "size": 12
         },
         "tickmode": "linear",
         "title": {
          "font": {
           "size": 14
          }
         }
        },
        "xaxis8": {
         "anchor": "y8",
         "domain": [
          0.42000000000000004,
          0.5800000000000001
         ],
         "dtick": 5,
         "linecolor": "black",
         "linewidth": 1,
         "matches": "x13",
         "mirror": true,
         "showline": true,
         "showticklabels": false,
         "tickfont": {
          "size": 12
         },
         "tickmode": "linear",
         "title": {
          "font": {
           "size": 14
          }
         }
        },
        "xaxis9": {
         "anchor": "y9",
         "domain": [
          0.63,
          0.79
         ],
         "dtick": 5,
         "linecolor": "black",
         "linewidth": 1,
         "matches": "x14",
         "mirror": true,
         "showline": true,
         "showticklabels": false,
         "tickfont": {
          "size": 12
         },
         "tickmode": "linear",
         "title": {
          "font": {
           "size": 14
          }
         }
        },
        "yaxis": {
         "anchor": "x",
         "domain": [
          0.7,
          1
         ],
         "linecolor": "black",
         "linewidth": 1,
         "mirror": true,
         "showline": true,
         "tickfont": {
          "size": 12
         },
         "title": {
          "font": {
           "size": 14
          }
         }
        },
        "yaxis10": {
         "anchor": "x10",
         "domain": [
          0.35,
          0.6499999999999999
         ],
         "linecolor": "black",
         "linewidth": 1,
         "matches": "y6",
         "mirror": true,
         "showline": true,
         "showticklabels": false,
         "tickfont": {
          "size": 12
         },
         "title": {
          "font": {
           "size": 14
          },
          "text": "Mean Scores"
         }
        },
        "yaxis11": {
         "anchor": "x11",
         "domain": [
          0,
          0.3
         ],
         "linecolor": "black",
         "linewidth": 1,
         "mirror": true,
         "showline": true,
         "tickfont": {
          "size": 12
         },
         "title": {
          "font": {
           "size": 14
          }
         }
        },
        "yaxis12": {
         "anchor": "x12",
         "domain": [
          0,
          0.3
         ],
         "linecolor": "black",
         "linewidth": 1,
         "matches": "y11",
         "mirror": true,
         "showline": true,
         "showticklabels": false,
         "tickfont": {
          "size": 12
         },
         "title": {
          "font": {
           "size": 14
          }
         }
        },
        "yaxis13": {
         "anchor": "x13",
         "domain": [
          0,
          0.3
         ],
         "linecolor": "black",
         "linewidth": 1,
         "matches": "y11",
         "mirror": true,
         "showline": true,
         "showticklabels": false,
         "tickfont": {
          "size": 12
         },
         "title": {
          "font": {
           "size": 14
          }
         }
        },
        "yaxis14": {
         "anchor": "x14",
         "domain": [
          0,
          0.3
         ],
         "linecolor": "black",
         "linewidth": 1,
         "matches": "y11",
         "mirror": true,
         "showline": true,
         "showticklabels": false,
         "tickfont": {
          "size": 12
         },
         "title": {
          "font": {
           "size": 14
          }
         }
        },
        "yaxis15": {
         "anchor": "x15",
         "domain": [
          0,
          0.3
         ],
         "linecolor": "black",
         "linewidth": 1,
         "matches": "y11",
         "mirror": true,
         "showline": true,
         "showticklabels": false,
         "tickfont": {
          "size": 12
         },
         "title": {
          "font": {
           "size": 14
          },
          "text": "Mean Scores"
         }
        },
        "yaxis2": {
         "anchor": "x2",
         "domain": [
          0.7,
          1
         ],
         "linecolor": "black",
         "linewidth": 1,
         "matches": "y",
         "mirror": true,
         "showline": true,
         "showticklabels": false,
         "tickfont": {
          "size": 12
         },
         "title": {
          "font": {
           "size": 14
          }
         }
        },
        "yaxis3": {
         "anchor": "x3",
         "domain": [
          0.7,
          1
         ],
         "linecolor": "black",
         "linewidth": 1,
         "matches": "y",
         "mirror": true,
         "showline": true,
         "showticklabels": false,
         "tickfont": {
          "size": 12
         },
         "title": {
          "font": {
           "size": 14
          }
         }
        },
        "yaxis4": {
         "anchor": "x4",
         "domain": [
          0.7,
          1
         ],
         "linecolor": "black",
         "linewidth": 1,
         "matches": "y",
         "mirror": true,
         "showline": true,
         "showticklabels": false,
         "tickfont": {
          "size": 12
         },
         "title": {
          "font": {
           "size": 14
          }
         }
        },
        "yaxis5": {
         "anchor": "x5",
         "domain": [
          0.7,
          1
         ],
         "linecolor": "black",
         "linewidth": 1,
         "matches": "y",
         "mirror": true,
         "showline": true,
         "showticklabels": false,
         "tickfont": {
          "size": 12
         },
         "title": {
          "font": {
           "size": 14
          },
          "text": "Mean Scores"
         }
        },
        "yaxis6": {
         "anchor": "x6",
         "domain": [
          0.35,
          0.6499999999999999
         ],
         "linecolor": "black",
         "linewidth": 1,
         "mirror": true,
         "showline": true,
         "tickfont": {
          "size": 12
         },
         "title": {
          "font": {
           "size": 14
          }
         }
        },
        "yaxis7": {
         "anchor": "x7",
         "domain": [
          0.35,
          0.6499999999999999
         ],
         "linecolor": "black",
         "linewidth": 1,
         "matches": "y6",
         "mirror": true,
         "showline": true,
         "showticklabels": false,
         "tickfont": {
          "size": 12
         },
         "title": {
          "font": {
           "size": 14
          }
         }
        },
        "yaxis8": {
         "anchor": "x8",
         "domain": [
          0.35,
          0.6499999999999999
         ],
         "linecolor": "black",
         "linewidth": 1,
         "matches": "y6",
         "mirror": true,
         "showline": true,
         "showticklabels": false,
         "tickfont": {
          "size": 12
         },
         "title": {
          "font": {
           "size": 14
          }
         }
        },
        "yaxis9": {
         "anchor": "x9",
         "domain": [
          0.35,
          0.6499999999999999
         ],
         "linecolor": "black",
         "linewidth": 1,
         "matches": "y6",
         "mirror": true,
         "showline": true,
         "showticklabels": false,
         "tickfont": {
          "size": 12
         },
         "title": {
          "font": {
           "size": 14
          }
         }
        }
       }
      }
     },
     "metadata": {},
     "output_type": "display_data"
    }
   ],
   "source": [
    "pu.plot_ablation_syllogisms(mood_dics = mood_dics, save_path=image_dir / \"syllogism_ablation.png\", title=\"\",)"
   ]
  },
  {
   "cell_type": "code",
   "execution_count": 27,
   "metadata": {},
   "outputs": [
    {
     "data": {
      "text/html": [
       "<div id=\"circuits-vis-d51e5b4a-12ed\" style=\"margin: 15px 0;\"/>\n",
       "    <script crossorigin type=\"module\">\n",
       "    import { render, AttentionPatterns } from \"https://unpkg.com/circuitsvis@1.43.2/dist/cdn/esm.js\";\n",
       "    render(\n",
       "      \"circuits-vis-d51e5b4a-12ed\",\n",
       "      AttentionPatterns,\n",
       "      {\"tokens\": [\"All\", \"s\", \"are\", \"m1\", \".\", \"All\", \"m2\", \"are\", \"p\", \".\", \"Tf\", \",\", \"all\", \"s\", \"END\"], \"attention\": [[[1.0, 0.0, 0.0, 0.0, 0.0, 0.0, 0.0, 0.0, 0.0, 0.0, 0.0, 0.0, 0.0, 0.0, 0.0], [0.9783294796943665, 0.021670468151569366, 0.0, 0.0, 0.0, 0.0, 0.0, 0.0, 0.0, 0.0, 0.0, 0.0, 0.0, 0.0, 0.0], [0.9217181205749512, 0.06806515157222748, 0.010216732509434223, 0.0, 0.0, 0.0, 0.0, 0.0, 0.0, 0.0, 0.0, 0.0, 0.0, 0.0, 0.0], [0.8802740573883057, 0.09291499108076096, 0.005448773503303528, 0.021362168714404106, 0.0, 0.0, 0.0, 0.0, 0.0, 0.0, 0.0, 0.0, 0.0, 0.0, 0.0], [0.8678982257843018, 0.04617401584982872, 0.026647008955478668, 0.016619887202978134, 0.042660776525735855, 0.0, 0.0, 0.0, 0.0, 0.0, 0.0, 0.0, 0.0, 0.0, 0.0], [0.6967036128044128, 0.18480832874774933, 0.05367181450128555, 0.031743280589580536, 0.029659602791070938, 0.0034134273882955313, 0.0, 0.0, 0.0, 0.0, 0.0, 0.0, 0.0, 0.0, 0.0], [0.8007906675338745, 0.10845129936933517, 0.008419797755777836, 0.02501053363084793, 0.018994420766830444, 0.0163287203758955, 0.02200460061430931, 0.0, 0.0, 0.0, 0.0, 0.0, 0.0, 0.0, 0.0], [0.7253438830375671, 0.07344542443752289, 0.03098466619849205, 0.05121506378054619, 0.027079766616225243, 0.00836593471467495, 0.04313685745000839, 0.04042840749025345, 0.0, 0.0, 0.0, 0.0, 0.0, 0.0, 0.0], [0.7686367034912109, 0.03002498298883438, 0.0267464779317379, 0.007745424285531044, 0.09514258056879044, 0.010150241665542126, 0.009284967556595802, 0.042580991983413696, 0.009687700308859348, 0.0, 0.0, 0.0, 0.0, 0.0, 0.0], [0.7901579737663269, 0.03745394945144653, 0.032751571387052536, 0.009977211244404316, 0.05169020593166351, 0.0020356858149170876, 0.005258358549326658, 0.02543073706328869, 0.004182959906756878, 0.04106137901544571, 0.0, 0.0, 0.0, 0.0, 0.0], [0.8209303021430969, 0.046606652438640594, 0.02862195111811161, 0.003846040926873684, 0.03672405704855919, 0.0008797665359452367, 0.0018507003551349044, 0.024784011766314507, 0.001900545903481543, 0.03291654586791992, 0.0009393502841703594, 0.0, 0.0, 0.0, 0.0], [0.8437772393226624, 0.01680750772356987, 0.03187578171491623, 0.004767345264554024, 0.028858283534646034, 0.001407721545547247, 0.00268945237621665, 0.025663679465651512, 0.002554809907451272, 0.02579735964536667, 0.0013449755497276783, 0.014455927535891533, 0.0, 0.0, 0.0], [0.6450440883636475, 0.1379746049642563, 0.05152839794754982, 0.023504415526986122, 0.02172446995973587, 0.0030289713758975267, 0.015406317077577114, 0.04817560687661171, 0.020913871005177498, 0.01830558478832245, 0.0030671933200210333, 0.007900501601397991, 0.003426005132496357, 0.0, 0.0], [0.8003737330436707, 0.02349272184073925, 0.014468821696937084, 0.011523648165166378, 0.05829086899757385, 0.002729788888245821, 0.007522838190197945, 0.011162026785314083, 0.0019282923312857747, 0.046519290655851364, 0.0015021746512502432, 0.008992820046842098, 0.0017011035233736038, 0.009791864082217216, 0.0], [0.6723163723945618, 0.04730050265789032, 0.02640700340270996, 0.03219560533761978, 0.020793264731764793, 0.0052376072853803635, 0.026993554085493088, 0.035241249948740005, 0.02951275184750557, 0.020815441384911537, 0.002522299299016595, 0.010238164104521275, 0.005242739804089069, 0.02896985597908497, 0.03621350973844528]], [[1.0, 0.0, 0.0, 0.0, 0.0, 0.0, 0.0, 0.0, 0.0, 0.0, 0.0, 0.0, 0.0, 0.0, 0.0], [0.9379739761352539, 0.062025971710681915, 0.0, 0.0, 0.0, 0.0, 0.0, 0.0, 0.0, 0.0, 0.0, 0.0, 0.0, 0.0, 0.0], [0.5895401239395142, 0.15772037208080292, 0.2527395188808441, 0.0, 0.0, 0.0, 0.0, 0.0, 0.0, 0.0, 0.0, 0.0, 0.0, 0.0, 0.0], [0.5762524008750916, 0.1057996153831482, 0.1192774623632431, 0.19867053627967834, 0.0, 0.0, 0.0, 0.0, 0.0, 0.0, 0.0, 0.0, 0.0, 0.0, 0.0], [0.26004818081855774, 0.02741418220102787, 0.08754397928714752, 0.31269824504852295, 0.312295526266098, 0.0, 0.0, 0.0, 0.0, 0.0, 0.0, 0.0, 0.0, 0.0, 0.0], [0.3181741535663605, 0.0313163585960865, 0.028329622000455856, 0.17519906163215637, 0.34771832823753357, 0.09926252067089081, 0.0, 0.0, 0.0, 0.0, 0.0, 0.0, 0.0, 0.0, 0.0], [0.3327941298484802, 0.12489524483680725, 0.09273049980401993, 0.03309085965156555, 0.13465099036693573, 0.10958456993103027, 0.17225372791290283, 0.0, 0.0, 0.0, 0.0, 0.0, 0.0, 0.0, 0.0], [0.1550733894109726, 0.019826726987957954, 0.051456693559885025, 0.04953650385141373, 0.22161610424518585, 0.037448521703481674, 0.1345224231481552, 0.3305196464061737, 0.0, 0.0, 0.0, 0.0, 0.0, 0.0, 0.0], [0.5186518430709839, 0.01090332493185997, 0.009363180957734585, 0.061208877712488174, 0.12737472355365753, 0.04748605564236641, 0.05838030204176903, 0.05929623916745186, 0.10733553022146225, 0.0, 0.0, 0.0, 0.0, 0.0, 0.0], [0.1194211021065712, 0.0037889531813561916, 0.0068510775454342365, 0.042930781841278076, 0.03622789308428764, 0.008801611140370369, 0.030766934156417847, 0.051796805113554, 0.4532652497291565, 0.24614959955215454, 0.0, 0.0, 0.0, 0.0, 0.0], [0.1976390779018402, 0.008335807360708714, 0.008689834736287594, 0.01502849068492651, 0.056853484362363815, 0.050487078726291656, 0.03363029658794403, 0.05245358869433403, 0.14504551887512207, 0.34738004207611084, 0.08445686101913452, 0.0, 0.0, 0.0, 0.0], [0.1594301164150238, 0.004745637532323599, 0.009077169001102448, 0.009934152476489544, 0.04319180175662041, 0.013215895742177963, 0.01968439854681492, 0.05949383229017258, 0.0610642209649086, 0.28063368797302246, 0.0609702430665493, 0.27855879068374634, 0.0, 0.0, 0.0], [0.27829405665397644, 0.003326204139739275, 0.0020627803169190884, 0.021517379209399223, 0.01972671039402485, 0.005177732091397047, 0.054517004638910294, 0.021331053227186203, 0.13299818336963654, 0.16003760695457458, 0.07304646074771881, 0.1111198291182518, 0.11684497445821762, 0.0, 0.0], [0.3083024322986603, 0.007499599363654852, 0.00427451403811574, 0.005634922068566084, 0.012182203121483326, 0.002746216719970107, 0.025552932173013687, 0.01838543824851513, 0.010955438017845154, 0.06276918947696686, 0.04251507669687271, 0.09265652298927307, 0.05823059380054474, 0.3482949733734131, 0.0], [0.15109284222126007, 0.0025794487446546555, 0.005071927327662706, 0.008202170953154564, 0.02261577546596527, 0.0032388761173933744, 0.01368304155766964, 0.026833321899175644, 0.031839869916439056, 0.08839777112007141, 0.03752487525343895, 0.06503840535879135, 0.03446311131119728, 0.17046581208705902, 0.33895277976989746]], [[1.0, 0.0, 0.0, 0.0, 0.0, 0.0, 0.0, 0.0, 0.0, 0.0, 0.0, 0.0, 0.0, 0.0, 0.0], [0.9485014081001282, 0.05149863287806511, 0.0, 0.0, 0.0, 0.0, 0.0, 0.0, 0.0, 0.0, 0.0, 0.0, 0.0, 0.0, 0.0], [0.4998316764831543, 0.39053279161453247, 0.10963554680347443, 0.0, 0.0, 0.0, 0.0, 0.0, 0.0, 0.0, 0.0, 0.0, 0.0, 0.0, 0.0], [0.6064184904098511, 0.2211991399526596, 0.07710406929254532, 0.09527833014726639, 0.0, 0.0, 0.0, 0.0, 0.0, 0.0, 0.0, 0.0, 0.0, 0.0, 0.0], [0.48942115902900696, 0.044133126735687256, 0.07672545313835144, 0.09896793961524963, 0.2907523214817047, 0.0, 0.0, 0.0, 0.0, 0.0, 0.0, 0.0, 0.0, 0.0, 0.0], [0.6268212199211121, 0.024067554622888565, 0.04586988687515259, 0.04690046235918999, 0.14919862151145935, 0.10714226216077805, 0.0, 0.0, 0.0, 0.0, 0.0, 0.0, 0.0, 0.0, 0.0], [0.5171025991439819, 0.08499613404273987, 0.03333297744393349, 0.010359082370996475, 0.09537807106971741, 0.19476152956485748, 0.06406960636377335, 0.0, 0.0, 0.0, 0.0, 0.0, 0.0, 0.0, 0.0], [0.25339043140411377, 0.04791028052568436, 0.02407218888401985, 0.021500494331121445, 0.1858280748128891, 0.09480905532836914, 0.13181312382221222, 0.24067635834217072, 0.0, 0.0, 0.0, 0.0, 0.0, 0.0, 0.0], [0.6725889444351196, 0.014603015035390854, 0.006693804170936346, 0.02569715306162834, 0.07363470643758774, 0.043859776109457016, 0.025502854958176613, 0.0595613494515419, 0.07785827666521072, 0.0, 0.0, 0.0, 0.0, 0.0, 0.0], [0.3802396357059479, 0.0046921223402023315, 0.008479416370391846, 0.01582586206495762, 0.03558417409658432, 0.025207245722413063, 0.021249091252684593, 0.05897996202111244, 0.1342543363571167, 0.3154880702495575, 0.0, 0.0, 0.0, 0.0, 0.0], [0.47819045186042786, 0.0016206495929509401, 0.008059361018240452, 0.002183094620704651, 0.020079931244254112, 0.06740723550319672, 0.008053751662373543, 0.04880070686340332, 0.011157864704728127, 0.1874804049730301, 0.16696660220623016, 0.0, 0.0, 0.0, 0.0], [0.25004953145980835, 0.004111223388463259, 0.004236488603055477, 0.0021678577177226543, 0.015855001285672188, 0.03226463869214058, 0.0159612987190485, 0.04283543676137924, 0.01860419474542141, 0.18861596286296844, 0.21591386198997498, 0.2093844711780548, 0.0, 0.0, 0.0], [0.3990853428840637, 0.003501147497445345, 0.0027472879737615585, 0.00529838539659977, 0.010609826073050499, 0.007766235154122114, 0.024580543860793114, 0.028521884232759476, 0.06323184072971344, 0.13164333999156952, 0.1016734316945076, 0.05515281483530998, 0.16618788242340088, 0.0, 0.0], [0.4764210283756256, 0.0031153091695159674, 0.0019403042970225215, 0.0011394202010706067, 0.006310303695499897, 0.006238249130547047, 0.008616495877504349, 0.012491320259869099, 0.004824656993150711, 0.06671677529811859, 0.00772675359621644, 0.03627583757042885, 0.2588635981082916, 0.10931996256113052, 0.0], [0.26156437397003174, 0.005005299113690853, 0.0020886387210339308, 0.0025781728327274323, 0.016750125214457512, 0.00697827385738492, 0.012107153423130512, 0.014888332225382328, 0.01199762150645256, 0.11978283524513245, 0.03577139601111412, 0.03616531938314438, 0.11012734472751617, 0.16558559238910675, 0.19860948622226715]], [[1.0, 0.0, 0.0, 0.0, 0.0, 0.0, 0.0, 0.0, 0.0, 0.0, 0.0, 0.0, 0.0, 0.0, 0.0], [0.9883467555046082, 0.011653263121843338, 0.0, 0.0, 0.0, 0.0, 0.0, 0.0, 0.0, 0.0, 0.0, 0.0, 0.0, 0.0, 0.0], [0.8738488554954529, 0.03359649330377579, 0.09255471080541611, 0.0, 0.0, 0.0, 0.0, 0.0, 0.0, 0.0, 0.0, 0.0, 0.0, 0.0, 0.0], [0.076212078332901, 0.0015359794488176703, 0.9001010656356812, 0.02215094491839409, 0.0, 0.0, 0.0, 0.0, 0.0, 0.0, 0.0, 0.0, 0.0, 0.0, 0.0], [0.18660299479961395, 0.004216921050101519, 0.6063796281814575, 0.0291964802891016, 0.17360399663448334, 0.0, 0.0, 0.0, 0.0, 0.0, 0.0, 0.0, 0.0, 0.0, 0.0], [0.0973786786198616, 0.003755023702979088, 0.08131612837314606, 0.0008981100399978459, 0.7718139290809631, 0.044838130474090576, 0.0, 0.0, 0.0, 0.0, 0.0, 0.0, 0.0, 0.0, 0.0], [0.16017943620681763, 0.0056347413919866085, 0.24617603421211243, 0.0023725363425910473, 0.4203749895095825, 0.1346135288476944, 0.03064868040382862, 0.0, 0.0, 0.0, 0.0, 0.0, 0.0, 0.0, 0.0], [0.20179371535778046, 0.00340159609913826, 0.013814573176205158, 0.00044080481166020036, 0.304067462682724, 0.14247088134288788, 0.010519911535084248, 0.32349100708961487, 0.0, 0.0, 0.0, 0.0, 0.0, 0.0, 0.0], [0.04147900640964508, 0.00017809588462114334, 0.038892727345228195, 0.0023145040031522512, 0.06159061938524246, 0.004051565658301115, 0.0019439122406765819, 0.8338284492492676, 0.015721019357442856, 0.0, 0.0, 0.0, 0.0, 0.0, 0.0], [0.12723872065544128, 0.0007059311610646546, 0.03616912290453911, 0.006266606505960226, 0.01669745147228241, 0.009366952814161777, 0.003286410588771105, 0.35263505578041077, 0.08360175043344498, 0.36403194069862366, 0.0, 0.0, 0.0, 0.0, 0.0], [0.03373931348323822, 0.0003127168456558138, 0.001316757989116013, 5.769732888438739e-05, 0.04765494167804718, 0.009119746275246143, 0.0007857065065763891, 0.018240926787257195, 0.002055579097941518, 0.8338684439659119, 0.052848152816295624, 0.0, 0.0, 0.0, 0.0], [0.0878731906414032, 0.0002541733265388757, 0.006991594098508358, 0.00015915655239950866, 0.024786265566945076, 0.003909592516720295, 0.0019707197789102793, 0.0711742639541626, 0.0017479016678407788, 0.4246324896812439, 0.1294613629579544, 0.247039332985878, 0.0, 0.0, 0.0], [0.03133004158735275, 5.2716761274496093e-05, 0.001110751647502184, 2.601240703370422e-05, 0.002616588259115815, 0.0002179910079576075, 0.0005312905996106565, 0.026903850957751274, 0.0007178072119131684, 0.06915624439716339, 0.08381335437297821, 0.7218438386917114, 0.061679594218730927, 0.0, 0.0], [0.10911579430103302, 9.711884194985032e-05, 0.005846275947988033, 7.253284275066108e-05, 0.00350597919896245, 0.0006061517051421106, 0.0006869711796753109, 0.12765948474407196, 0.0009511217940598726, 0.06882818043231964, 0.05104297026991844, 0.4138137996196747, 0.11333505064249039, 0.10443858802318573, 0.0], [0.06364889442920685, 6.111464608693495e-05, 0.00015531324606854469, 9.302251783083193e-06, 0.002206544391810894, 0.0007243493455462158, 0.00014250374806579202, 0.0027212456334382296, 0.0003279045922681689, 0.04470403119921684, 0.02536609396338463, 0.5599656105041504, 0.10270034521818161, 0.026360128074884415, 0.17090663313865662]], [[1.0, 0.0, 0.0, 0.0, 0.0, 0.0, 0.0, 0.0, 0.0, 0.0, 0.0, 0.0, 0.0, 0.0, 0.0], [0.9544708132743835, 0.045529186725616455, 0.0, 0.0, 0.0, 0.0, 0.0, 0.0, 0.0, 0.0, 0.0, 0.0, 0.0, 0.0, 0.0], [0.7597101926803589, 0.07488209754228592, 0.16540776193141937, 0.0, 0.0, 0.0, 0.0, 0.0, 0.0, 0.0, 0.0, 0.0, 0.0, 0.0, 0.0], [0.1420685350894928, 0.024370849132537842, 0.745000958442688, 0.08855967968702316, 0.0, 0.0, 0.0, 0.0, 0.0, 0.0, 0.0, 0.0, 0.0, 0.0, 0.0], [0.2712632715702057, 0.018730636686086655, 0.3170643746852875, 0.0302549097687006, 0.3626868426799774, 0.0, 0.0, 0.0, 0.0, 0.0, 0.0, 0.0, 0.0, 0.0, 0.0], [0.6650986075401306, 0.010256669484078884, 0.06268496811389923, 0.00508478470146656, 0.19695152342319489, 0.05992346629500389, 0.0, 0.0, 0.0, 0.0, 0.0, 0.0, 0.0, 0.0, 0.0], [0.07436290383338928, 0.030262591317296028, 0.29910749197006226, 0.006398228462785482, 0.1571810394525528, 0.34760719537734985, 0.08508052676916122, 0.0, 0.0, 0.0, 0.0, 0.0, 0.0, 0.0, 0.0], [0.15703755617141724, 0.007227825466543436, 0.019465630874037743, 0.0029523938428610563, 0.18637163937091827, 0.26833969354629517, 0.06404004991054535, 0.2945651710033417, 0.0, 0.0, 0.0, 0.0, 0.0, 0.0, 0.0], [0.22163674235343933, 0.0017115601804107428, 0.020322266966104507, 0.026834309101104736, 0.15863609313964844, 0.02030458115041256, 0.020522013306617737, 0.23959143459796906, 0.29044100642204285, 0.0, 0.0, 0.0, 0.0, 0.0, 0.0], [0.12158849835395813, 0.0017710562096908689, 0.017115430906414986, 0.0027346445713192225, 0.02428528480231762, 0.07730945199728012, 0.014353696256875992, 0.2633321285247803, 0.09112419188022614, 0.38638561964035034, 0.0, 0.0, 0.0, 0.0, 0.0], [0.2784390449523926, 0.00047793652629479766, 0.004674994386732578, 0.0004326914786361158, 0.024637803435325623, 0.06226359307765961, 0.003932006191462278, 0.05185320973396301, 0.029913026839494705, 0.28738439083099365, 0.2559913098812103, 0.0, 0.0, 0.0, 0.0], [0.06014472246170044, 0.0001328845100942999, 0.0008834892068989575, 0.00019040382176171988, 0.011055873706936836, 0.06708896160125732, 0.0024289246648550034, 0.018741393461823463, 0.006568794138729572, 0.1741664856672287, 0.5752679705619812, 0.08333012461662292, 0.0, 0.0, 0.0], [0.3962476849555969, 0.0005602877354249358, 0.0023888209834694862, 0.00021697043848689646, 0.011019205674529076, 0.0023913420736789703, 0.00154309649951756, 0.023588642477989197, 0.006198300048708916, 0.14503729343414307, 0.137531116604805, 0.13584305346012115, 0.13743416965007782, 0.0, 0.0], [0.1225370243191719, 0.0009021996520459652, 0.010531343519687653, 0.00046506186481565237, 0.004847629927098751, 0.005805454216897488, 0.0050455546006560326, 0.07090546190738678, 0.0037553978618234396, 0.06888784468173981, 0.030877599492669106, 0.05677984282374382, 0.4240792393684387, 0.1945803314447403, 0.0], [0.15351814031600952, 0.00031127073452807963, 0.0007341079763136804, 0.00021018327970523387, 0.009317292831838131, 0.007994329556822777, 0.0022965227253735065, 0.007363240234553814, 0.005203872919082642, 0.10530100762844086, 0.053222063928842545, 0.059386756271123886, 0.3725949227809906, 0.06064792722463608, 0.1618984043598175]], [[1.0, 0.0, 0.0, 0.0, 0.0, 0.0, 0.0, 0.0, 0.0, 0.0, 0.0, 0.0, 0.0, 0.0, 0.0], [0.9492946267127991, 0.05070541054010391, 0.0, 0.0, 0.0, 0.0, 0.0, 0.0, 0.0, 0.0, 0.0, 0.0, 0.0, 0.0, 0.0], [0.8499112725257874, 0.10786548256874084, 0.04222329333424568, 0.0, 0.0, 0.0, 0.0, 0.0, 0.0, 0.0, 0.0, 0.0, 0.0, 0.0, 0.0], [0.690410315990448, 0.1401296705007553, 0.15057609975337982, 0.018883951008319855, 0.0, 0.0, 0.0, 0.0, 0.0, 0.0, 0.0, 0.0, 0.0, 0.0, 0.0], [0.6887245774269104, 0.04700794070959091, 0.07173123955726624, 0.017294520512223244, 0.17524166405200958, 0.0, 0.0, 0.0, 0.0, 0.0, 0.0, 0.0, 0.0, 0.0, 0.0], [0.5011084675788879, 0.06176137551665306, 0.10145609080791473, 0.015946654602885246, 0.24264469742774963, 0.07708269357681274, 0.0, 0.0, 0.0, 0.0, 0.0, 0.0, 0.0, 0.0, 0.0], [0.5239883661270142, 0.06734773516654968, 0.036645352840423584, 0.006348753347992897, 0.2693738341331482, 0.06930200010538101, 0.026993945240974426, 0.0, 0.0, 0.0, 0.0, 0.0, 0.0, 0.0, 0.0], [0.5474854111671448, 0.0362800769507885, 0.01799071952700615, 0.007946005091071129, 0.20134159922599792, 0.08690667152404785, 0.025573760271072388, 0.07647573202848434, 0.0, 0.0, 0.0, 0.0, 0.0, 0.0, 0.0], [0.4918927550315857, 0.009372793138027191, 0.03490027040243149, 0.0050181495025753975, 0.2108447253704071, 0.05687449127435684, 0.009578468278050423, 0.1732613444328308, 0.008257001638412476, 0.0, 0.0, 0.0, 0.0, 0.0, 0.0], [0.4955058693885803, 0.01749490387737751, 0.025618471205234528, 0.00916769728064537, 0.05595806986093521, 0.053091563284397125, 0.012163732200860977, 0.06487561017274857, 0.026010911911725998, 0.24011318385601044, 0.0, 0.0, 0.0, 0.0, 0.0], [0.3235287368297577, 0.0072942692786455154, 0.010412586852908134, 0.002042557578533888, 0.07598679512739182, 0.015338716097176075, 0.006102668587118387, 0.04613915830850601, 0.003530326997861266, 0.41006332635879517, 0.09956087917089462, 0.0, 0.0, 0.0, 0.0], [0.2086954265832901, 0.004412572830915451, 0.0033290504943579435, 0.0007819122401997447, 0.03438810631632805, 0.029395760968327522, 0.0031407317146658897, 0.01010899804532528, 0.0011258837766945362, 0.14012397825717926, 0.5285204648971558, 0.0359770692884922, 0.0, 0.0, 0.0], [0.16343533992767334, 0.005564519669860601, 0.008416320197284222, 0.002066968008875847, 0.01575871743261814, 0.00803920067846775, 0.006874436512589455, 0.03025289624929428, 0.007376185618340969, 0.08814804255962372, 0.5294689536094666, 0.08073323220014572, 0.053865235298871994, 0.0, 0.0], [0.5076833963394165, 0.00439099594950676, 0.007072904147207737, 0.0034087770618498325, 0.03036593645811081, 0.013873294927179813, 0.012463058345019817, 0.032122258096933365, 0.012388013303279877, 0.1357475370168686, 0.07383261620998383, 0.053684111684560776, 0.07105521112680435, 0.04191194847226143, 0.0], [0.27410733699798584, 0.0036498357076197863, 0.001917462213896215, 0.000828021380584687, 0.01525862142443657, 0.011514813639223576, 0.002590145682916045, 0.007716022431850433, 0.00238440022803843, 0.0766398161649704, 0.38689613342285156, 0.043151263147592545, 0.07701706886291504, 0.04291268810629845, 0.05341632664203644]], [[1.0, 0.0, 0.0, 0.0, 0.0, 0.0, 0.0, 0.0, 0.0, 0.0, 0.0, 0.0, 0.0, 0.0, 0.0], [0.9449881911277771, 0.05501185357570648, 0.0, 0.0, 0.0, 0.0, 0.0, 0.0, 0.0, 0.0, 0.0, 0.0, 0.0, 0.0, 0.0], [0.9948221445083618, 0.0015655425377190113, 0.003612278727814555, 0.0, 0.0, 0.0, 0.0, 0.0, 0.0, 0.0, 0.0, 0.0, 0.0, 0.0, 0.0], [0.9418054819107056, 0.016900325194001198, 0.000456623500213027, 0.04083757847547531, 0.0, 0.0, 0.0, 0.0, 0.0, 0.0, 0.0, 0.0, 0.0, 0.0, 0.0], [0.9915342926979065, 0.0031759818084537983, 0.0024487259797751904, 0.000844510446768254, 0.0019965257961302996, 0.0, 0.0, 0.0, 0.0, 0.0, 0.0, 0.0, 0.0, 0.0, 0.0], [0.9691828489303589, 0.0035941742826253176, 0.0035952061880379915, 0.0005809010472148657, 0.0031326054595410824, 0.0199141688644886, 0.0, 0.0, 0.0, 0.0, 0.0, 0.0, 0.0, 0.0, 0.0], [0.7006415724754333, 0.05961848422884941, 0.002367826644331217, 0.1954399049282074, 0.010298026725649834, 4.8048321332316846e-05, 0.03158613666892052, 0.0, 0.0, 0.0, 0.0, 0.0, 0.0, 0.0, 0.0], [0.9453292489051819, 0.00962863676249981, 0.028273336589336395, 0.0012318985536694527, 0.004326996393501759, 0.00023816211614757776, 0.0003857580595649779, 0.01058591715991497, 0.0, 0.0, 0.0, 0.0, 0.0, 0.0, 0.0], [0.8536779880523682, 0.027717439457774162, 0.001864217221736908, 0.025951415300369263, 0.009327471256256104, 5.6955348554765806e-05, 0.002927099820226431, 0.0004410803085193038, 0.07803623378276825, 0.0, 0.0, 0.0, 0.0, 0.0, 0.0], [0.960466206073761, 0.00965385977178812, 0.008021715097129345, 0.003135967068374157, 0.005841003265231848, 0.003354282584041357, 0.001410013297572732, 0.003543176455423236, 0.0004392057307995856, 0.004134495742619038, 0.0, 0.0, 0.0, 0.0, 0.0], [0.8512175679206848, 0.001228479784913361, 0.004579507280141115, 0.0016053185099735856, 0.008684682659804821, 0.0001455101592000574, 0.00023470590531360358, 0.0014457604847848415, 7.62155104894191e-05, 0.005271832924336195, 0.12551045417785645, 0.0, 0.0, 0.0, 0.0], [0.973302960395813, 0.0018686718540266156, 0.008174323476850986, 0.0008221665630117059, 0.004411970730870962, 0.0008324499940499663, 0.0002484204596839845, 0.004588041454553604, 0.000304387096548453, 0.003929462283849716, 0.0007112548337318003, 0.0008059987449087203, 0.0, 0.0, 0.0], [0.877285897731781, 0.008470369502902031, 0.00949341431260109, 0.0015894512180238962, 0.009597819298505783, 0.03998086601495743, 0.000677345902658999, 0.0044121830724179745, 0.000221149020944722, 0.006589983124285936, 0.00013708883489016443, 0.0019386500352993608, 0.03960574418306351, 0.0, 0.0], [0.4606666564941406, 0.44874417781829834, 0.0045171272940933704, 0.0072343614883720875, 0.014139515347778797, 0.0002337875630473718, 0.003352977568283677, 0.00225218222476542, 0.0004861190391238779, 0.007866820320487022, 6.810736522311345e-05, 0.0011974716326221824, 0.00023436358605977148, 0.04900633171200752, 0.0], [0.8686274290084839, 0.014351670630276203, 0.05117836222052574, 0.0023247466888278723, 0.00894857570528984, 0.0005108015611767769, 0.0009949833620339632, 0.0280706025660038, 0.00017892713367473334, 0.005218587815761566, 0.00028644438134506345, 0.0010228349128738046, 0.0004294109530746937, 0.0016703637083992362, 0.01618623547255993]], [[1.0, 0.0, 0.0, 0.0, 0.0, 0.0, 0.0, 0.0, 0.0, 0.0, 0.0, 0.0, 0.0, 0.0, 0.0], [0.9890798926353455, 0.010920090600848198, 0.0, 0.0, 0.0, 0.0, 0.0, 0.0, 0.0, 0.0, 0.0, 0.0, 0.0, 0.0, 0.0], [0.9510589241981506, 0.016132481396198273, 0.032808613032102585, 0.0, 0.0, 0.0, 0.0, 0.0, 0.0, 0.0, 0.0, 0.0, 0.0, 0.0, 0.0], [0.7558973431587219, 0.06303167343139648, 0.09096257388591766, 0.09010833501815796, 0.0, 0.0, 0.0, 0.0, 0.0, 0.0, 0.0, 0.0, 0.0, 0.0, 0.0], [0.5550286173820496, 0.049012333154678345, 0.09174373000860214, 0.04912129417061806, 0.255094051361084, 0.0, 0.0, 0.0, 0.0, 0.0, 0.0, 0.0, 0.0, 0.0, 0.0], [0.5028498768806458, 0.006176802329719067, 0.052019670605659485, 0.00575903570279479, 0.3980039358139038, 0.03519072011113167, 0.0, 0.0, 0.0, 0.0, 0.0, 0.0, 0.0, 0.0, 0.0], [0.3990269899368286, 0.024146156385540962, 0.028425930067896843, 0.009915168397128582, 0.20862333476543427, 0.288420170545578, 0.041442278772592545, 0.0, 0.0, 0.0, 0.0, 0.0, 0.0, 0.0, 0.0], [0.39837610721588135, 0.00295326323248446, 0.01205198559910059, 0.0030514069367200136, 0.3136763274669647, 0.19639818370342255, 0.007543629966676235, 0.06594911962747574, 0.0, 0.0, 0.0, 0.0, 0.0, 0.0, 0.0], [0.399188369512558, 0.0035693321842700243, 0.01706765778362751, 0.0026914109475910664, 0.1846473067998886, 0.2607591450214386, 0.003299073548987508, 0.07982131093740463, 0.04895642772316933, 0.0, 0.0, 0.0, 0.0, 0.0, 0.0], [0.36421218514442444, 0.012747542932629585, 0.0225345641374588, 0.012207159772515297, 0.06080765649676323, 0.11567394435405731, 0.015909528359770775, 0.07542779296636581, 0.05462965369224548, 0.2658500373363495, 0.0, 0.0, 0.0, 0.0, 0.0], [0.41127559542655945, 0.006579896435141563, 0.008135691285133362, 0.00172390416264534, 0.07435436546802521, 0.023604320362210274, 0.0025249519385397434, 0.036424919962882996, 0.002990658162161708, 0.3963012397289276, 0.03608447685837746, 0.0, 0.0, 0.0, 0.0], [0.19200916588306427, 0.005909537430852652, 0.012927770614624023, 0.0014504182618111372, 0.050435371696949005, 0.10176447778940201, 0.006111347582191229, 0.04401656240224838, 0.00291039259172976, 0.21126219630241394, 0.2512378990650177, 0.11996492743492126, 0.0, 0.0, 0.0], [0.35847583413124084, 0.0013397829607129097, 0.010907660238444805, 0.0011468407465144992, 0.0511583648622036, 0.008852895349264145, 0.0017000810476019979, 0.06423639506101608, 0.01124402042478323, 0.28518837690353394, 0.07859228551387787, 0.07051392644643784, 0.0566435307264328, 0.0, 0.0], [0.5596620440483093, 0.002134833252057433, 0.004719854332506657, 0.0007986732525750995, 0.030002107843756676, 0.020372170954942703, 0.0018283557146787643, 0.026736339554190636, 0.008282089605927467, 0.11840502917766571, 0.007601496763527393, 0.03097333200275898, 0.16063186526298523, 0.027851736173033714, 0.0], [0.29987627267837524, 0.0004907928523607552, 0.0018274695612490177, 0.00036303073284216225, 0.037460193037986755, 0.025440409779548645, 0.0007217973470687866, 0.007973043248057365, 0.00826007965952158, 0.19350352883338928, 0.09215312451124191, 0.08933044224977493, 0.18668454885482788, 0.006341221276670694, 0.0495741032063961]], [[1.0, 0.0, 0.0, 0.0, 0.0, 0.0, 0.0, 0.0, 0.0, 0.0, 0.0, 0.0, 0.0, 0.0, 0.0], [0.8889020681381226, 0.11109796911478043, 0.0, 0.0, 0.0, 0.0, 0.0, 0.0, 0.0, 0.0, 0.0, 0.0, 0.0, 0.0, 0.0], [0.6051368713378906, 0.3595142960548401, 0.035348907113075256, 0.0, 0.0, 0.0, 0.0, 0.0, 0.0, 0.0, 0.0, 0.0, 0.0, 0.0, 0.0], [0.6657720804214478, 0.177732452750206, 0.10271859914064407, 0.053776815533638, 0.0, 0.0, 0.0, 0.0, 0.0, 0.0, 0.0, 0.0, 0.0, 0.0, 0.0], [0.6697272062301636, 0.12429706752300262, 0.05665386840701103, 0.017983954399824142, 0.13133786618709564, 0.0, 0.0, 0.0, 0.0, 0.0, 0.0, 0.0, 0.0, 0.0, 0.0], [0.5511016845703125, 0.26144716143608093, 0.03412368521094322, 0.03515173867344856, 0.11296678334474564, 0.005208939779549837, 0.0, 0.0, 0.0, 0.0, 0.0, 0.0, 0.0, 0.0, 0.0], [0.5798041820526123, 0.11816689372062683, 0.041412949562072754, 0.03201628848910332, 0.11066991835832596, 0.024424344301223755, 0.09350539743900299, 0.0, 0.0, 0.0, 0.0, 0.0, 0.0, 0.0, 0.0], [0.4289199113845825, 0.12589801847934723, 0.041757732629776, 0.010078748688101768, 0.1483728438615799, 0.08046480268239975, 0.07917492836713791, 0.08533307909965515, 0.0, 0.0, 0.0, 0.0, 0.0, 0.0, 0.0], [0.16689011454582214, 0.32340916991233826, 0.03473316878080368, 0.03779057040810585, 0.05714099481701851, 0.04616870358586311, 0.21142107248306274, 0.09414053708314896, 0.028305698186159134, 0.0, 0.0, 0.0, 0.0, 0.0, 0.0], [0.5784341096878052, 0.08103319257497787, 0.045752786099910736, 0.011239668354392052, 0.08659271150827408, 0.024540117010474205, 0.021059684455394745, 0.02838856168091297, 0.013631369918584824, 0.10932774841785431, 0.0, 0.0, 0.0, 0.0, 0.0], [0.27351701259613037, 0.33720141649246216, 0.03887515142560005, 0.03695102035999298, 0.0617968812584877, 0.003294826252385974, 0.08640289306640625, 0.03475688770413399, 0.009810976684093475, 0.08772160857915878, 0.029671400785446167, 0.0, 0.0, 0.0, 0.0], [0.3867994248867035, 0.08119694888591766, 0.03187805414199829, 0.01963845081627369, 0.07590927928686142, 0.012030978687107563, 0.042328182607889175, 0.03180574253201485, 0.011475108563899994, 0.1173807829618454, 0.0928635448217392, 0.09669359773397446, 0.0, 0.0, 0.0], [0.5496699810028076, 0.08072319626808167, 0.012782152742147446, 0.011573621071875095, 0.053427405655384064, 0.005022878292948008, 0.03962356969714165, 0.02326074056327343, 0.006341824308037758, 0.1089770719408989, 0.013934374786913395, 0.07668178528547287, 0.017981434240937233, 0.0, 0.0], [0.6693827509880066, 0.0321541465818882, 0.010329210199415684, 0.004859822802245617, 0.04327024519443512, 0.011117526330053806, 0.01564057730138302, 0.014294750988483429, 0.0036346546839922667, 0.09203021973371506, 0.00786229595541954, 0.05288650095462799, 0.016645099967718124, 0.025892222300171852, 0.0], [0.327899694442749, 0.04717610031366348, 0.01595463417470455, 0.0055145020596683025, 0.05263778567314148, 0.031150612980127335, 0.0322192907333374, 0.030369607731699944, 0.008085288107395172, 0.1123882308602333, 0.022799763828516006, 0.07237720489501953, 0.0924118384718895, 0.07174287736415863, 0.07727265357971191]], [[1.0, 0.0, 0.0, 0.0, 0.0, 0.0, 0.0, 0.0, 0.0, 0.0, 0.0, 0.0, 0.0, 0.0, 0.0], [0.8621193170547485, 0.13788065314292908, 0.0, 0.0, 0.0, 0.0, 0.0, 0.0, 0.0, 0.0, 0.0, 0.0, 0.0, 0.0, 0.0], [0.8597069978713989, 0.09976081550121307, 0.040532179176807404, 0.0, 0.0, 0.0, 0.0, 0.0, 0.0, 0.0, 0.0, 0.0, 0.0, 0.0, 0.0], [0.7512373924255371, 0.04633832350373268, 0.09781260788440704, 0.10461167246103287, 0.0, 0.0, 0.0, 0.0, 0.0, 0.0, 0.0, 0.0, 0.0, 0.0, 0.0], [0.6709927320480347, 0.08078674226999283, 0.08466945588588715, 0.08079134672880173, 0.08275976777076721, 0.0, 0.0, 0.0, 0.0, 0.0, 0.0, 0.0, 0.0, 0.0, 0.0], [0.41702598333358765, 0.10252797603607178, 0.13476675748825073, 0.12988905608654022, 0.1774323731660843, 0.03835788741707802, 0.0, 0.0, 0.0, 0.0, 0.0, 0.0, 0.0, 0.0, 0.0], [0.5237361192703247, 0.02557704970240593, 0.12471918016672134, 0.07960997521877289, 0.19659996032714844, 0.011105656623840332, 0.03865210339426994, 0.0, 0.0, 0.0, 0.0, 0.0, 0.0, 0.0, 0.0], [0.5729233026504517, 0.051249150186777115, 0.05053536593914032, 0.08271295577287674, 0.12395206093788147, 0.02267359010875225, 0.04715726524591446, 0.048796311020851135, 0.0, 0.0, 0.0, 0.0, 0.0, 0.0, 0.0], [0.415802001953125, 0.05568965896964073, 0.158821240067482, 0.03035104088485241, 0.12837108969688416, 0.01025430578738451, 0.02025686390697956, 0.16628052294254303, 0.014173299074172974, 0.0, 0.0, 0.0, 0.0, 0.0, 0.0], [0.4998190999031067, 0.060764312744140625, 0.05466325581073761, 0.05924800783395767, 0.09562280774116516, 0.02115226350724697, 0.028933100402355194, 0.04566095024347305, 0.031112074851989746, 0.10302408039569855, 0.0, 0.0, 0.0, 0.0, 0.0], [0.4607776403427124, 0.013203110545873642, 0.04114043340086937, 0.015126033686101437, 0.13242030143737793, 0.03834759443998337, 0.00738241383805871, 0.041099317371845245, 0.03171436861157417, 0.16472561657428741, 0.05406322702765465, 0.0, 0.0, 0.0, 0.0], [0.5477233529090881, 0.03275661915540695, 0.07736065983772278, 0.016028543934226036, 0.06495136022567749, 0.01767224818468094, 0.010741394013166428, 0.06815852224826813, 0.013916454277932644, 0.07758399099111557, 0.03082311525940895, 0.0422838032245636, 0.0, 0.0, 0.0], [0.3937017619609833, 0.038926173001527786, 0.05789324641227722, 0.043636299669742584, 0.07203759998083115, 0.020158637315034866, 0.04089806228876114, 0.07028485834598541, 0.024478238075971603, 0.09986761957406998, 0.02603994868695736, 0.04681210219860077, 0.06526551395654678, 0.0, 0.0], [0.4573110342025757, 0.025841088965535164, 0.05402873829007149, 0.07285990566015244, 0.03745512291789055, 0.010883161798119545, 0.07157863676548004, 0.07057344913482666, 0.07906138896942139, 0.04460494592785835, 0.013826832175254822, 0.007036793511360884, 0.027887292206287384, 0.02705160714685917, 0.0], [0.5619742274284363, 0.033176638185977936, 0.03339340165257454, 0.039395902305841446, 0.05339869111776352, 0.011900675483047962, 0.025531375780701637, 0.03646198660135269, 0.02418827824294567, 0.053309377282857895, 0.022055216133594513, 0.019408104941248894, 0.023587968200445175, 0.022023499011993408, 0.04019469395279884]], [[1.0, 0.0, 0.0, 0.0, 0.0, 0.0, 0.0, 0.0, 0.0, 0.0, 0.0, 0.0, 0.0, 0.0, 0.0], [0.9507997632026672, 0.04920022189617157, 0.0, 0.0, 0.0, 0.0, 0.0, 0.0, 0.0, 0.0, 0.0, 0.0, 0.0, 0.0, 0.0], [0.675457239151001, 0.10603753477334976, 0.21850520372390747, 0.0, 0.0, 0.0, 0.0, 0.0, 0.0, 0.0, 0.0, 0.0, 0.0, 0.0, 0.0], [0.5267523527145386, 0.043169055134058, 0.3462071418762207, 0.08387143164873123, 0.0, 0.0, 0.0, 0.0, 0.0, 0.0, 0.0, 0.0, 0.0, 0.0, 0.0], [0.6484888792037964, 0.05799213424324989, 0.07617737352848053, 0.04471076279878616, 0.17263078689575195, 0.0, 0.0, 0.0, 0.0, 0.0, 0.0, 0.0, 0.0, 0.0, 0.0], [0.7054540514945984, 0.017873255535960197, 0.015450195409357548, 0.0035524284467101097, 0.1272226870059967, 0.1304473727941513, 0.0, 0.0, 0.0, 0.0, 0.0, 0.0, 0.0, 0.0, 0.0], [0.5225503444671631, 0.05708419159054756, 0.056286439299583435, 0.02831311896443367, 0.10082770138978958, 0.15910661220550537, 0.07583165168762207, 0.0, 0.0, 0.0, 0.0, 0.0, 0.0, 0.0, 0.0], [0.2763481140136719, 0.07308131456375122, 0.147708922624588, 0.04055650159716606, 0.07067456841468811, 0.10628968477249146, 0.058486975729465485, 0.22685395181179047, 0.0, 0.0, 0.0, 0.0, 0.0, 0.0, 0.0], [0.265007346868515, 0.03222270309925079, 0.17538553476333618, 0.056906312704086304, 0.03125607222318649, 0.02381226420402527, 0.06343994289636612, 0.2934373617172241, 0.05853249877691269, 0.0, 0.0, 0.0, 0.0, 0.0, 0.0], [0.45944342017173767, 0.03760826587677002, 0.040316399186849594, 0.025397643446922302, 0.09642885625362396, 0.030438562855124474, 0.02854326367378235, 0.07335828244686127, 0.05241215229034424, 0.15605317056179047, 0.0, 0.0, 0.0, 0.0, 0.0], [0.660843014717102, 0.010275591164827347, 0.0071701472625136375, 0.0022898074239492416, 0.06137509644031525, 0.02752317674458027, 0.0042915260419249535, 0.01050181407481432, 0.0030372042674571276, 0.10966036468744278, 0.10303225368261337, 0.0, 0.0, 0.0, 0.0], [0.4056714177131653, 0.002832018071785569, 0.003933780826628208, 0.0023442122619599104, 0.025553934276103973, 0.011960259638726711, 0.004606675822287798, 0.007381236180663109, 0.004326199181377888, 0.052578214555978775, 0.1566910594701767, 0.32212093472480774, 0.0, 0.0, 0.0], [0.4497762620449066, 0.008071906864643097, 0.007071143481880426, 0.001977409003302455, 0.04241199046373367, 0.07198812812566757, 0.004791273269802332, 0.012884334661066532, 0.0025343899615108967, 0.08397376537322998, 0.02779337577521801, 0.1345517784357071, 0.15217424929141998, 0.0, 0.0], [0.309793084859848, 0.053630631417036057, 0.022363096475601196, 0.006392341572791338, 0.021498799324035645, 0.11476665735244751, 0.015130730345845222, 0.02869619056582451, 0.010755126364529133, 0.03487922251224518, 0.0086129205301404, 0.04188842326402664, 0.1945243626832962, 0.13706840574741364, 0.0], [0.1979803740978241, 0.03750315681099892, 0.08191899210214615, 0.016593120992183685, 0.02784472517669201, 0.043870940804481506, 0.022638563066720963, 0.13078850507736206, 0.00640089251101017, 0.03685411438345909, 0.002675178460776806, 0.010716773569583893, 0.056846167892217636, 0.11965277045965195, 0.2077157348394394]], [[1.0, 0.0, 0.0, 0.0, 0.0, 0.0, 0.0, 0.0, 0.0, 0.0, 0.0, 0.0, 0.0, 0.0, 0.0], [0.9238763451576233, 0.07612363249063492, 0.0, 0.0, 0.0, 0.0, 0.0, 0.0, 0.0, 0.0, 0.0, 0.0, 0.0, 0.0, 0.0], [0.36835190653800964, 0.6012312769889832, 0.030416838824748993, 0.0, 0.0, 0.0, 0.0, 0.0, 0.0, 0.0, 0.0, 0.0, 0.0, 0.0, 0.0], [0.4653547704219818, 0.3134290277957916, 0.10812848806381226, 0.11308775842189789, 0.0, 0.0, 0.0, 0.0, 0.0, 0.0, 0.0, 0.0, 0.0, 0.0, 0.0], [0.27901342511177063, 0.27514535188674927, 0.1300891637802124, 0.254419207572937, 0.06133290380239487, 0.0, 0.0, 0.0, 0.0, 0.0, 0.0, 0.0, 0.0, 0.0, 0.0], [0.40266403555870056, 0.1894426792860031, 0.09303686022758484, 0.14547933638095856, 0.041886575520038605, 0.12749040126800537, 0.0, 0.0, 0.0, 0.0, 0.0, 0.0, 0.0, 0.0, 0.0], [0.2744922339916229, 0.10500331223011017, 0.037663865834474564, 0.017451588064432144, 0.1291387528181076, 0.22742462158203125, 0.20882569253444672, 0.0, 0.0, 0.0, 0.0, 0.0, 0.0, 0.0, 0.0], [0.07505487650632858, 0.043592020869255066, 0.0037574211601167917, 0.10827077180147171, 0.08174117654561996, 0.18550638854503632, 0.4604194164276123, 0.04165792465209961, 0.0, 0.0, 0.0, 0.0, 0.0, 0.0, 0.0], [0.3126380145549774, 0.02634580247104168, 0.005338119342923164, 0.019434478133916855, 0.06823006272315979, 0.3371272683143616, 0.08487706631422043, 0.049386486411094666, 0.09662275016307831, 0.0, 0.0, 0.0, 0.0, 0.0, 0.0], [0.09408392012119293, 0.017608962953090668, 0.00994865596294403, 0.01916751265525818, 0.0046062832698225975, 0.3291217088699341, 0.15438105165958405, 0.12050113081932068, 0.19576843082904816, 0.054812364280223846, 0.0, 0.0, 0.0, 0.0, 0.0], [0.18622474372386932, 0.04255656152963638, 0.021795783191919327, 0.01955127716064453, 0.004802756477147341, 0.18031135201454163, 0.0885554626584053, 0.11476840078830719, 0.20742326974868774, 0.0384543314576149, 0.09555608779191971, 0.0, 0.0, 0.0, 0.0], [0.11797217279672623, 0.017185388132929802, 0.008761120960116386, 0.008724868297576904, 0.008976954966783524, 0.07035353034734726, 0.11735700815916061, 0.09196566790342331, 0.09155133366584778, 0.09822586923837662, 0.29113832116127014, 0.07778774946928024, 0.0, 0.0, 0.0], [0.2045942097902298, 0.01887253299355507, 0.004836286883801222, 0.014127206988632679, 0.007443151902407408, 0.007326736114919186, 0.13533839583396912, 0.04289950802922249, 0.10611145198345184, 0.0815104991197586, 0.1973467767238617, 0.05889256298542023, 0.12070067226886749, 0.0, 0.0], [0.31274014711380005, 0.003762549487873912, 0.0031747636385262012, 0.004865341354161501, 0.010771229863166809, 0.017400328069925308, 0.03793686628341675, 0.02451997622847557, 0.057058680802583694, 0.09449471533298492, 0.051624491810798645, 0.05331043899059296, 0.23503263294696808, 0.09330791234970093, 0.0], [0.05224667116999626, 0.004979933146387339, 0.00026724347844719887, 0.01282615214586258, 0.007602280005812645, 0.015477193519473076, 0.03631185367703438, 0.002361932536587119, 0.0642395094037056, 0.07242617756128311, 0.022169044241309166, 0.029782503843307495, 0.22939340770244598, 0.4072929620742798, 0.04262321814894676]], [[1.0, 0.0, 0.0, 0.0, 0.0, 0.0, 0.0, 0.0, 0.0, 0.0, 0.0, 0.0, 0.0, 0.0, 0.0], [0.5729595422744751, 0.4270404875278473, 0.0, 0.0, 0.0, 0.0, 0.0, 0.0, 0.0, 0.0, 0.0, 0.0, 0.0, 0.0, 0.0], [0.14896513521671295, 0.8273784518241882, 0.023656385019421577, 0.0, 0.0, 0.0, 0.0, 0.0, 0.0, 0.0, 0.0, 0.0, 0.0, 0.0, 0.0], [0.41551005840301514, 0.37165358662605286, 0.0413394533097744, 0.17149697244167328, 0.0, 0.0, 0.0, 0.0, 0.0, 0.0, 0.0, 0.0, 0.0, 0.0, 0.0], [0.23049594461917877, 0.09123106300830841, 0.04741673171520233, 0.270737886428833, 0.36011844873428345, 0.0, 0.0, 0.0, 0.0, 0.0, 0.0, 0.0, 0.0, 0.0, 0.0], [0.18862076103687286, 0.26012665033340454, 0.027628939598798752, 0.18772254884243011, 0.2763814926147461, 0.059519607573747635, 0.0, 0.0, 0.0, 0.0, 0.0, 0.0, 0.0, 0.0, 0.0], [0.2761974036693573, 0.20588789880275726, 0.031164640560746193, 0.01027544867247343, 0.16984322667121887, 0.18419986963272095, 0.12243149429559708, 0.0, 0.0, 0.0, 0.0, 0.0, 0.0, 0.0, 0.0], [0.03686363622546196, 0.025419235229492188, 0.002103067236021161, 0.06275913119316101, 0.13178014755249023, 0.026238055899739265, 0.6631922125816345, 0.05164462700486183, 0.0, 0.0, 0.0, 0.0, 0.0, 0.0, 0.0], [0.16293683648109436, 0.02329590544104576, 0.0036301424261182547, 0.09040040522813797, 0.1792442500591278, 0.052190233021974564, 0.3437894582748413, 0.08284023404121399, 0.06167251989245415, 0.0, 0.0, 0.0, 0.0, 0.0, 0.0], [0.22337812185287476, 0.022161677479743958, 0.005404805764555931, 0.04191946983337402, 0.043038301169872284, 0.02849552035331726, 0.17885765433311462, 0.05378362536430359, 0.12258847802877426, 0.28037238121032715, 0.0, 0.0, 0.0, 0.0, 0.0], [0.2691914737224579, 0.01679791696369648, 0.0020684069022536278, 0.004128539469093084, 0.03565770760178566, 0.07870429754257202, 0.04601087048649788, 0.030731653794646263, 0.022610127925872803, 0.4076378345489502, 0.0864611491560936, 0.0, 0.0, 0.0, 0.0], [0.26938316226005554, 0.009568375535309315, 0.0034760553389787674, 0.007436059881001711, 0.027262212708592415, 0.06762894988059998, 0.08985760807991028, 0.03662288188934326, 0.009056305512785912, 0.275735467672348, 0.08461261540651321, 0.11936035007238388, 0.0, 0.0, 0.0], [0.16622181236743927, 0.04282025992870331, 0.005166953895241022, 0.029718702659010887, 0.015732726082205772, 0.004446989856660366, 0.2735298275947571, 0.05910211428999901, 0.014919528737664223, 0.17207442224025726, 0.048876628279685974, 0.05852888524532318, 0.10886122286319733, 0.0, 0.0], [0.39752984046936035, 0.016306135803461075, 0.005684338044375181, 0.0023821962531656027, 0.009353026747703552, 0.008275226689875126, 0.021307162940502167, 0.02880168706178665, 0.0012425655731931329, 0.08155255764722824, 0.04996821656823158, 0.051613666117191315, 0.15342891216278076, 0.17255458235740662, 0.0], [0.05423525348305702, 0.003936724737286568, 0.00040618484490551054, 0.013419689610600471, 0.013693079352378845, 0.001877369242720306, 0.08819634467363358, 0.006959565449506044, 0.008391357026994228, 0.09487360715866089, 0.01636744663119316, 0.02854749746620655, 0.027421701699495316, 0.5432784557342529, 0.09839577227830887]], [[1.0, 0.0, 0.0, 0.0, 0.0, 0.0, 0.0, 0.0, 0.0, 0.0, 0.0, 0.0, 0.0, 0.0, 0.0], [0.9999918937683105, 8.158475793607067e-06, 0.0, 0.0, 0.0, 0.0, 0.0, 0.0, 0.0, 0.0, 0.0, 0.0, 0.0, 0.0, 0.0], [4.546696072793566e-05, 0.9995433688163757, 0.0004111211164854467, 0.0, 0.0, 0.0, 0.0, 0.0, 0.0, 0.0, 0.0, 0.0, 0.0, 0.0, 0.0], [0.00011808331328211352, 0.00019576464546844363, 0.998370349407196, 0.001315867411904037, 0.0, 0.0, 0.0, 0.0, 0.0, 0.0, 0.0, 0.0, 0.0, 0.0, 0.0], [8.173465175786987e-06, 4.1001698264153674e-05, 4.027807881357148e-05, 0.9998819828033447, 2.853733894880861e-05, 0.0, 0.0, 0.0, 0.0, 0.0, 0.0, 0.0, 0.0, 0.0, 0.0], [0.00016675880760885775, 5.542330541175033e-07, 5.906515980313998e-06, 1.806966452022607e-07, 0.9986459612846375, 0.0011806006077677011, 0.0, 0.0, 0.0, 0.0, 0.0, 0.0, 0.0, 0.0, 0.0], [6.768016760361206e-07, 1.3329213288670871e-05, 1.600550035618653e-06, 2.7670179481020796e-09, 7.310190085263457e-06, 0.9998838901519775, 9.316243813373148e-05, 0.0, 0.0, 0.0, 0.0, 0.0, 0.0, 0.0, 0.0], [2.9900390927650733e-06, 4.3456043385958765e-06, 1.0692718932503453e-09, 0.0036102563608437777, 8.248754284068127e-07, 7.422059752570931e-06, 0.9957826137542725, 0.0005915283691138029, 0.0, 0.0, 0.0, 0.0, 0.0, 0.0, 0.0], [8.698821147845592e-06, 2.9210989183070524e-08, 8.22442234493792e-05, 1.3627822227135766e-05, 4.310650183469988e-06, 3.586992897908203e-05, 9.946111276804004e-06, 0.9996870756149292, 0.00015833333600312471, 0.0, 0.0, 0.0, 0.0, 0.0, 0.0], [0.00020189950009807944, 1.2857583442382747e-08, 3.439435403151947e-09, 8.139736019074917e-05, 2.1644182002233947e-09, 5.7670749953331324e-08, 0.0003599827759899199, 0.0002253475395264104, 0.9990816116333008, 4.970773807144724e-05, 0.0, 0.0, 0.0, 0.0, 0.0], [0.00017039863450918347, 6.560026410973308e-10, 7.198460716395516e-10, 7.510333500937438e-12, 0.00010007049422711134, 2.904072061937768e-05, 3.675818405213249e-08, 1.707915203041921e-06, 3.963596384437551e-07, 0.9977872371673584, 0.0019111835863441229, 0.0, 0.0, 0.0, 0.0], [2.3854400410527887e-07, 3.7252080760386e-12, 4.508107889810223e-14, 3.0085326591100525e-11, 1.7395321294522148e-11, 4.591951263677174e-09, 3.7865237345613423e-07, 3.403517023770064e-09, 8.948800882535579e-07, 1.4567037851520581e-06, 0.9995296001434326, 0.00046742905396968126, 0.0, 0.0, 0.0], [1.145698092841485e-06, 1.417467217820073e-13, 4.4566721190200664e-13, 1.8171831921831973e-15, 7.649099131867843e-10, 4.809982620535003e-11, 1.2843726082678586e-11, 1.500949586841216e-09, 1.5570587874602637e-10, 1.411254834238207e-05, 0.0006061407621018589, 0.998568058013916, 0.0008104078005999327, 0.0, 0.0], [3.317613845865708e-06, 7.299159887619311e-11, 3.6734677799632465e-12, 2.991649354459891e-13, 1.0305753646300264e-12, 2.0840991510340245e-07, 2.3729491704926886e-09, 1.3911959362289394e-09, 1.501042956597587e-09, 1.760177603671309e-08, 4.496546353038866e-06, 1.291649141421658e-06, 0.9994304776191711, 0.0005601336597464979, 0.0], [1.962687383638695e-05, 2.7244797529135667e-09, 8.612407662034194e-13, 4.882974167230714e-07, 1.654576128884422e-11, 8.58252219293476e-11, 9.602116733731236e-06, 2.4266585185728218e-08, 3.051929070352344e-06, 1.0188470511707237e-08, 1.1501427366056305e-07, 2.5206354781204254e-09, 3.0902047001291066e-06, 0.9954432249069214, 0.004520861431956291]], [[1.0, 0.0, 0.0, 0.0, 0.0, 0.0, 0.0, 0.0, 0.0, 0.0, 0.0, 0.0, 0.0, 0.0, 0.0], [0.8108952641487122, 0.18910473585128784, 0.0, 0.0, 0.0, 0.0, 0.0, 0.0, 0.0, 0.0, 0.0, 0.0, 0.0, 0.0, 0.0], [0.7276962995529175, 0.1633782684803009, 0.10892543941736221, 0.0, 0.0, 0.0, 0.0, 0.0, 0.0, 0.0, 0.0, 0.0, 0.0, 0.0, 0.0], [0.6594518423080444, 0.06691648811101913, 0.20307646691799164, 0.07055516541004181, 0.0, 0.0, 0.0, 0.0, 0.0, 0.0, 0.0, 0.0, 0.0, 0.0, 0.0], [0.3898669183254242, 0.09408353269100189, 0.31387951970100403, 0.07998216152191162, 0.12218794971704483, 0.0, 0.0, 0.0, 0.0, 0.0, 0.0, 0.0, 0.0, 0.0, 0.0], [0.4608009159564972, 0.04211842268705368, 0.08207564800977707, 0.01914534717798233, 0.32489052414894104, 0.07096906006336212, 0.0, 0.0, 0.0, 0.0, 0.0, 0.0, 0.0, 0.0, 0.0], [0.3176533877849579, 0.02950424700975418, 0.05245134234428406, 0.01759468764066696, 0.330883651971817, 0.14794182777404785, 0.10397091507911682, 0.0, 0.0, 0.0, 0.0, 0.0, 0.0, 0.0, 0.0], [0.251412957906723, 0.022951239719986916, 0.02266954816877842, 0.00833993498235941, 0.2790302336215973, 0.21582795679569244, 0.07358269393444061, 0.1261853575706482, 0.0, 0.0, 0.0, 0.0, 0.0, 0.0, 0.0], [0.2107367366552353, 0.012948976829648018, 0.023389972746372223, 0.02825099602341652, 0.11174093186855316, 0.29843413829803467, 0.09715261310338974, 0.1709093451499939, 0.0464363656938076, 0.0, 0.0, 0.0, 0.0, 0.0, 0.0], [0.2082153856754303, 0.0246819406747818, 0.04406918212771416, 0.020884688943624496, 0.029574992135167122, 0.18281418085098267, 0.07719302177429199, 0.20867429673671722, 0.055238716304302216, 0.14865367114543915, 0.0, 0.0, 0.0, 0.0, 0.0], [0.1146877184510231, 0.01738222874701023, 0.01679220423102379, 0.007895288057625294, 0.06151782348752022, 0.0272971224039793, 0.04375043511390686, 0.09943895041942596, 0.016094831749796867, 0.26793912053108215, 0.32720428705215454, 0.0, 0.0, 0.0, 0.0], [0.08037686347961426, 0.010046449489891529, 0.006245965603739023, 0.003860906232148409, 0.02535204589366913, 0.027135170996189117, 0.05610708147287369, 0.05267500877380371, 0.010549666360020638, 0.14445020258426666, 0.5036489367485046, 0.07955177128314972, 0.0, 0.0, 0.0], [0.1389344185590744, 0.011643330566585064, 0.007467204239219427, 0.0033065187744796276, 0.02166132442653179, 0.006015921477228403, 0.03353648632764816, 0.05976929888129234, 0.019175702705979347, 0.14806388318538666, 0.3188334107398987, 0.17940965294837952, 0.05218290165066719, 0.0, 0.0], [0.2086007297039032, 0.012423009611666203, 0.011210465803742409, 0.007707290817052126, 0.02819729410111904, 0.009363014250993729, 0.034269068390131, 0.05324353650212288, 0.018610263243317604, 0.1165594533085823, 0.10353878140449524, 0.15558312833309174, 0.07324684411287308, 0.1674470603466034, 0.0], [0.12352734059095383, 0.008942369371652603, 0.0047179413959383965, 0.001534670707769692, 0.02722770720720291, 0.0247510876506567, 0.012756421230733395, 0.022202594205737114, 0.006591737270355225, 0.11520173400640488, 0.20561662316322327, 0.16581910848617554, 0.11326581984758377, 0.08815889805555344, 0.07968595623970032]], [[1.0, 0.0, 0.0, 0.0, 0.0, 0.0, 0.0, 0.0, 0.0, 0.0, 0.0, 0.0, 0.0, 0.0, 0.0], [0.9752678275108337, 0.024732233956456184, 0.0, 0.0, 0.0, 0.0, 0.0, 0.0, 0.0, 0.0, 0.0, 0.0, 0.0, 0.0, 0.0], [0.9419885873794556, 0.026344498619437218, 0.031666986644268036, 0.0, 0.0, 0.0, 0.0, 0.0, 0.0, 0.0, 0.0, 0.0, 0.0, 0.0, 0.0], [0.7777643203735352, 0.06862139701843262, 0.10524726659059525, 0.04836699366569519, 0.0, 0.0, 0.0, 0.0, 0.0, 0.0, 0.0, 0.0, 0.0, 0.0, 0.0], [0.6926907300949097, 0.08417285233736038, 0.10828778892755508, 0.041478365659713745, 0.07337023317813873, 0.0, 0.0, 0.0, 0.0, 0.0, 0.0, 0.0, 0.0, 0.0, 0.0], [0.660525381565094, 0.030933493748307228, 0.10113771259784698, 0.02412831224501133, 0.12797605991363525, 0.05529901012778282, 0.0, 0.0, 0.0, 0.0, 0.0, 0.0, 0.0, 0.0, 0.0], [0.5382817983627319, 0.04159404709935188, 0.06286925822496414, 0.03865199536085129, 0.10987087339162827, 0.14813391864299774, 0.060598164796829224, 0.0, 0.0, 0.0, 0.0, 0.0, 0.0, 0.0, 0.0], [0.6202025413513184, 0.02477986365556717, 0.04204127565026283, 0.02840673178434372, 0.11176176369190216, 0.07428538054227829, 0.039703868329524994, 0.058818623423576355, 0.0, 0.0, 0.0, 0.0, 0.0, 0.0, 0.0], [0.5383270382881165, 0.01530191395431757, 0.06743502616882324, 0.02233841083943844, 0.16781143844127655, 0.053957466036081314, 0.02745509333908558, 0.09289348125457764, 0.014480115845799446, 0.0, 0.0, 0.0, 0.0, 0.0, 0.0], [0.5002845525741577, 0.04868870601058006, 0.0849534273147583, 0.03092140145599842, 0.09363141655921936, 0.06098629906773567, 0.030326299369335175, 0.050672758370637894, 0.01849239692091942, 0.08104279637336731, 0.0, 0.0, 0.0, 0.0, 0.0], [0.3803025484085083, 0.01404360681772232, 0.09845896810293198, 0.015005713328719139, 0.12912969291210175, 0.037128746509552, 0.019515685737133026, 0.08515734225511551, 0.01595413312315941, 0.13957451283931732, 0.06572910398244858, 0.0, 0.0, 0.0, 0.0], [0.4475080966949463, 0.01316076796501875, 0.055190347135066986, 0.018637869507074356, 0.11784937977790833, 0.032591313123703, 0.020137174054980278, 0.04805741086602211, 0.009583570063114166, 0.12071027606725693, 0.05299859866499901, 0.06357522308826447, 0.0, 0.0, 0.0], [0.501297116279602, 0.009729580953717232, 0.02521955594420433, 0.009033624082803726, 0.06346485763788223, 0.04396940395236015, 0.013427365571260452, 0.028371108695864677, 0.005766906309872866, 0.07462404668331146, 0.05909264087677002, 0.07704633474349976, 0.08895748108625412, 0.0, 0.0], [0.41945844888687134, 0.008679504506289959, 0.010019464418292046, 0.010002839379012585, 0.05150146409869194, 0.12210851907730103, 0.01473905611783266, 0.013714000582695007, 0.004127806983888149, 0.06416106224060059, 0.050706345587968826, 0.038010191172361374, 0.1600198745727539, 0.03275149688124657, 0.0], [0.48388901352882385, 0.014769528061151505, 0.02142709493637085, 0.013703124597668648, 0.0648312047123909, 0.047958649694919586, 0.01786958798766136, 0.025471994653344154, 0.00477243447676301, 0.06824646890163422, 0.045904260128736496, 0.04582078754901886, 0.06829412281513214, 0.030394097790122032, 0.04664764925837517]]]}\n",
       "    )\n",
       "    </script>"
      ],
      "text/plain": [
       "<circuitsvis.utils.render.RenderedHTML at 0x33571c850>"
      ]
     },
     "execution_count": 27,
     "metadata": {},
     "output_type": "execute_result"
    }
   ],
   "source": [
    "label_token = ['All','s','are','m1','.','All','m2','are','p','.', 'Tf',',','all','s','END']\n",
    "cv.attention.attention_patterns(tokens=label_token, attention=bc_clean_cache[f'blocks.4.attn.hook_pattern'][0]) # First layer attention pattern"
   ]
  },
  {
   "cell_type": "code",
   "execution_count": null,
   "metadata": {},
   "outputs": [],
   "source": []
  }
 ],
 "metadata": {
  "accelerator": "GPU",
  "colab": {
   "gpuType": "L4",
   "machine_shape": "hm",
   "provenance": []
  },
  "kernelspec": {
   "display_name": "mechsyllogism",
   "language": "python",
   "name": "python3"
  },
  "language_info": {
   "codemirror_mode": {
    "name": "ipython",
    "version": 3
   },
   "file_extension": ".py",
   "mimetype": "text/x-python",
   "name": "python",
   "nbconvert_exporter": "python",
   "pygments_lexer": "ipython3",
   "version": "3.9.21"
  },
  "widgets": {
   "application/vnd.jupyter.widget-state+json": {
    "04ef4130edac4e19805114902c6f047d": {
     "model_module": "@jupyter-widgets/controls",
     "model_module_version": "1.5.0",
     "model_name": "DescriptionStyleModel",
     "state": {
      "_model_module": "@jupyter-widgets/controls",
      "_model_module_version": "1.5.0",
      "_model_name": "DescriptionStyleModel",
      "_view_count": null,
      "_view_module": "@jupyter-widgets/base",
      "_view_module_version": "1.2.0",
      "_view_name": "StyleView",
      "description_width": ""
     }
    },
    "0549de5fea7f43c5bae919e42514e88f": {
     "model_module": "@jupyter-widgets/controls",
     "model_module_version": "1.5.0",
     "model_name": "DescriptionStyleModel",
     "state": {
      "_model_module": "@jupyter-widgets/controls",
      "_model_module_version": "1.5.0",
      "_model_name": "DescriptionStyleModel",
      "_view_count": null,
      "_view_module": "@jupyter-widgets/base",
      "_view_module_version": "1.2.0",
      "_view_name": "StyleView",
      "description_width": ""
     }
    },
    "0a5ac1ac6c55452783252a7a5b3665eb": {
     "model_module": "@jupyter-widgets/controls",
     "model_module_version": "1.5.0",
     "model_name": "HTMLModel",
     "state": {
      "_dom_classes": [],
      "_model_module": "@jupyter-widgets/controls",
      "_model_module_version": "1.5.0",
      "_model_name": "HTMLModel",
      "_view_count": null,
      "_view_module": "@jupyter-widgets/controls",
      "_view_module_version": "1.5.0",
      "_view_name": "HTMLView",
      "description": "",
      "description_tooltip": null,
      "layout": "IPY_MODEL_7489ebacd06f46d8a81396c503e86db7",
      "placeholder": "​",
      "style": "IPY_MODEL_04ef4130edac4e19805114902c6f047d",
      "value": " 26.0/26.0 [00:00&lt;00:00, 1.96kB/s]"
     }
    },
    "10e9b5626eba404588d5d349909ec486": {
     "model_module": "@jupyter-widgets/controls",
     "model_module_version": "1.5.0",
     "model_name": "ProgressStyleModel",
     "state": {
      "_model_module": "@jupyter-widgets/controls",
      "_model_module_version": "1.5.0",
      "_model_name": "ProgressStyleModel",
      "_view_count": null,
      "_view_module": "@jupyter-widgets/base",
      "_view_module_version": "1.2.0",
      "_view_name": "StyleView",
      "bar_color": null,
      "description_width": ""
     }
    },
    "1475f0f84cad4d02aaac885f104e48d9": {
     "model_module": "@jupyter-widgets/base",
     "model_module_version": "1.2.0",
     "model_name": "LayoutModel",
     "state": {
      "_model_module": "@jupyter-widgets/base",
      "_model_module_version": "1.2.0",
      "_model_name": "LayoutModel",
      "_view_count": null,
      "_view_module": "@jupyter-widgets/base",
      "_view_module_version": "1.2.0",
      "_view_name": "LayoutView",
      "align_content": null,
      "align_items": null,
      "align_self": null,
      "border": null,
      "bottom": null,
      "display": null,
      "flex": null,
      "flex_flow": null,
      "grid_area": null,
      "grid_auto_columns": null,
      "grid_auto_flow": null,
      "grid_auto_rows": null,
      "grid_column": null,
      "grid_gap": null,
      "grid_row": null,
      "grid_template_areas": null,
      "grid_template_columns": null,
      "grid_template_rows": null,
      "height": null,
      "justify_content": null,
      "justify_items": null,
      "left": null,
      "margin": null,
      "max_height": null,
      "max_width": null,
      "min_height": null,
      "min_width": null,
      "object_fit": null,
      "object_position": null,
      "order": null,
      "overflow": null,
      "overflow_x": null,
      "overflow_y": null,
      "padding": null,
      "right": null,
      "top": null,
      "visibility": null,
      "width": null
     }
    },
    "162defd82a544996a9246503f1d87d8e": {
     "model_module": "@jupyter-widgets/base",
     "model_module_version": "1.2.0",
     "model_name": "LayoutModel",
     "state": {
      "_model_module": "@jupyter-widgets/base",
      "_model_module_version": "1.2.0",
      "_model_name": "LayoutModel",
      "_view_count": null,
      "_view_module": "@jupyter-widgets/base",
      "_view_module_version": "1.2.0",
      "_view_name": "LayoutView",
      "align_content": null,
      "align_items": null,
      "align_self": null,
      "border": null,
      "bottom": null,
      "display": null,
      "flex": null,
      "flex_flow": null,
      "grid_area": null,
      "grid_auto_columns": null,
      "grid_auto_flow": null,
      "grid_auto_rows": null,
      "grid_column": null,
      "grid_gap": null,
      "grid_row": null,
      "grid_template_areas": null,
      "grid_template_columns": null,
      "grid_template_rows": null,
      "height": null,
      "justify_content": null,
      "justify_items": null,
      "left": null,
      "margin": null,
      "max_height": null,
      "max_width": null,
      "min_height": null,
      "min_width": null,
      "object_fit": null,
      "object_position": null,
      "order": null,
      "overflow": null,
      "overflow_x": null,
      "overflow_y": null,
      "padding": null,
      "right": null,
      "top": null,
      "visibility": null,
      "width": null
     }
    },
    "179347415dc84f1ba67267d2cf808a3b": {
     "model_module": "@jupyter-widgets/controls",
     "model_module_version": "1.5.0",
     "model_name": "HBoxModel",
     "state": {
      "_dom_classes": [],
      "_model_module": "@jupyter-widgets/controls",
      "_model_module_version": "1.5.0",
      "_model_name": "HBoxModel",
      "_view_count": null,
      "_view_module": "@jupyter-widgets/controls",
      "_view_module_version": "1.5.0",
      "_view_name": "HBoxView",
      "box_style": "",
      "children": [
       "IPY_MODEL_40d1f18f0ac240dab72ed6c921f93e17",
       "IPY_MODEL_9782344c7d1e4287be6ede79db520a88",
       "IPY_MODEL_da1fa4aa225b48778d1e0f6196ce0323"
      ],
      "layout": "IPY_MODEL_7070592c7f694442aeb72acc40a4105e"
     }
    },
    "1810e9bf39a64d6e8bd795153bdab947": {
     "model_module": "@jupyter-widgets/controls",
     "model_module_version": "1.5.0",
     "model_name": "FloatProgressModel",
     "state": {
      "_dom_classes": [],
      "_model_module": "@jupyter-widgets/controls",
      "_model_module_version": "1.5.0",
      "_model_name": "FloatProgressModel",
      "_view_count": null,
      "_view_module": "@jupyter-widgets/controls",
      "_view_module_version": "1.5.0",
      "_view_name": "ProgressView",
      "bar_style": "success",
      "description": "",
      "description_tooltip": null,
      "layout": "IPY_MODEL_cea3622a112048889abf9790a36a3430",
      "max": 124,
      "min": 0,
      "orientation": "horizontal",
      "style": "IPY_MODEL_2e4d1feb03464831a39690cca8418e7b",
      "value": 124
     }
    },
    "1d8fa38139fd46a1b907e58c8f492cee": {
     "model_module": "@jupyter-widgets/controls",
     "model_module_version": "1.5.0",
     "model_name": "DescriptionStyleModel",
     "state": {
      "_model_module": "@jupyter-widgets/controls",
      "_model_module_version": "1.5.0",
      "_model_name": "DescriptionStyleModel",
      "_view_count": null,
      "_view_module": "@jupyter-widgets/base",
      "_view_module_version": "1.2.0",
      "_view_name": "StyleView",
      "description_width": ""
     }
    },
    "1efe288b09044c59a1a61567fea01381": {
     "model_module": "@jupyter-widgets/controls",
     "model_module_version": "1.5.0",
     "model_name": "HTMLModel",
     "state": {
      "_dom_classes": [],
      "_model_module": "@jupyter-widgets/controls",
      "_model_module_version": "1.5.0",
      "_model_name": "HTMLModel",
      "_view_count": null,
      "_view_module": "@jupyter-widgets/controls",
      "_view_module_version": "1.5.0",
      "_view_name": "HTMLView",
      "description": "",
      "description_tooltip": null,
      "layout": "IPY_MODEL_f0fe9f8a17e74f54924bc7daafc0e890",
      "placeholder": "​",
      "style": "IPY_MODEL_4aece1edc32649f7be3a032f09bec1d9",
      "value": "tokenizer.json: 100%"
     }
    },
    "1fabef23d47443efbc63e689389bf2f6": {
     "model_module": "@jupyter-widgets/controls",
     "model_module_version": "1.5.0",
     "model_name": "HTMLModel",
     "state": {
      "_dom_classes": [],
      "_model_module": "@jupyter-widgets/controls",
      "_model_module_version": "1.5.0",
      "_model_name": "HTMLModel",
      "_view_count": null,
      "_view_module": "@jupyter-widgets/controls",
      "_view_module_version": "1.5.0",
      "_view_name": "HTMLView",
      "description": "",
      "description_tooltip": null,
      "layout": "IPY_MODEL_622fcaa686cf4c0f8b6fdf6e0ab4fc06",
      "placeholder": "​",
      "style": "IPY_MODEL_5dc6671fcf844de5b5922a918fd064f2",
      "value": "merges.txt: 100%"
     }
    },
    "2086182957284546aa4866bbf38cb622": {
     "model_module": "@jupyter-widgets/controls",
     "model_module_version": "1.5.0",
     "model_name": "FloatProgressModel",
     "state": {
      "_dom_classes": [],
      "_model_module": "@jupyter-widgets/controls",
      "_model_module_version": "1.5.0",
      "_model_name": "FloatProgressModel",
      "_view_count": null,
      "_view_module": "@jupyter-widgets/controls",
      "_view_module_version": "1.5.0",
      "_view_name": "ProgressView",
      "bar_style": "success",
      "description": "",
      "description_tooltip": null,
      "layout": "IPY_MODEL_5547eb66254747ba97fa9ca97a6058de",
      "max": 456318,
      "min": 0,
      "orientation": "horizontal",
      "style": "IPY_MODEL_e7837e02d9ef4f8abf76415df685a193",
      "value": 456318
     }
    },
    "21a1664eed0a43699dd839eef5dfcdef": {
     "model_module": "@jupyter-widgets/controls",
     "model_module_version": "1.5.0",
     "model_name": "HTMLModel",
     "state": {
      "_dom_classes": [],
      "_model_module": "@jupyter-widgets/controls",
      "_model_module_version": "1.5.0",
      "_model_name": "HTMLModel",
      "_view_count": null,
      "_view_module": "@jupyter-widgets/controls",
      "_view_module_version": "1.5.0",
      "_view_name": "HTMLView",
      "description": "",
      "description_tooltip": null,
      "layout": "IPY_MODEL_f3ec5fb56caf4ba3a99e209736014428",
      "placeholder": "​",
      "style": "IPY_MODEL_1d8fa38139fd46a1b907e58c8f492cee",
      "value": " 1.36M/1.36M [00:00&lt;00:00, 3.15MB/s]"
     }
    },
    "25c788619b2c497d88e32e6e74697ef3": {
     "model_module": "@jupyter-widgets/base",
     "model_module_version": "1.2.0",
     "model_name": "LayoutModel",
     "state": {
      "_model_module": "@jupyter-widgets/base",
      "_model_module_version": "1.2.0",
      "_model_name": "LayoutModel",
      "_view_count": null,
      "_view_module": "@jupyter-widgets/base",
      "_view_module_version": "1.2.0",
      "_view_name": "LayoutView",
      "align_content": null,
      "align_items": null,
      "align_self": null,
      "border": null,
      "bottom": null,
      "display": null,
      "flex": null,
      "flex_flow": null,
      "grid_area": null,
      "grid_auto_columns": null,
      "grid_auto_flow": null,
      "grid_auto_rows": null,
      "grid_column": null,
      "grid_gap": null,
      "grid_row": null,
      "grid_template_areas": null,
      "grid_template_columns": null,
      "grid_template_rows": null,
      "height": null,
      "justify_content": null,
      "justify_items": null,
      "left": null,
      "margin": null,
      "max_height": null,
      "max_width": null,
      "min_height": null,
      "min_width": null,
      "object_fit": null,
      "object_position": null,
      "order": null,
      "overflow": null,
      "overflow_x": null,
      "overflow_y": null,
      "padding": null,
      "right": null,
      "top": null,
      "visibility": null,
      "width": null
     }
    },
    "2c035786cb5f43cab56db915ebde9cea": {
     "model_module": "@jupyter-widgets/base",
     "model_module_version": "1.2.0",
     "model_name": "LayoutModel",
     "state": {
      "_model_module": "@jupyter-widgets/base",
      "_model_module_version": "1.2.0",
      "_model_name": "LayoutModel",
      "_view_count": null,
      "_view_module": "@jupyter-widgets/base",
      "_view_module_version": "1.2.0",
      "_view_name": "LayoutView",
      "align_content": null,
      "align_items": null,
      "align_self": null,
      "border": null,
      "bottom": null,
      "display": null,
      "flex": null,
      "flex_flow": null,
      "grid_area": null,
      "grid_auto_columns": null,
      "grid_auto_flow": null,
      "grid_auto_rows": null,
      "grid_column": null,
      "grid_gap": null,
      "grid_row": null,
      "grid_template_areas": null,
      "grid_template_columns": null,
      "grid_template_rows": null,
      "height": null,
      "justify_content": null,
      "justify_items": null,
      "left": null,
      "margin": null,
      "max_height": null,
      "max_width": null,
      "min_height": null,
      "min_width": null,
      "object_fit": null,
      "object_position": null,
      "order": null,
      "overflow": null,
      "overflow_x": null,
      "overflow_y": null,
      "padding": null,
      "right": null,
      "top": null,
      "visibility": null,
      "width": null
     }
    },
    "2e4d1feb03464831a39690cca8418e7b": {
     "model_module": "@jupyter-widgets/controls",
     "model_module_version": "1.5.0",
     "model_name": "ProgressStyleModel",
     "state": {
      "_model_module": "@jupyter-widgets/controls",
      "_model_module_version": "1.5.0",
      "_model_name": "ProgressStyleModel",
      "_view_count": null,
      "_view_module": "@jupyter-widgets/base",
      "_view_module_version": "1.2.0",
      "_view_name": "StyleView",
      "bar_color": null,
      "description_width": ""
     }
    },
    "31733f0e8a6c41848b0fe6235bae9195": {
     "model_module": "@jupyter-widgets/controls",
     "model_module_version": "1.5.0",
     "model_name": "ProgressStyleModel",
     "state": {
      "_model_module": "@jupyter-widgets/controls",
      "_model_module_version": "1.5.0",
      "_model_name": "ProgressStyleModel",
      "_view_count": null,
      "_view_module": "@jupyter-widgets/base",
      "_view_module_version": "1.2.0",
      "_view_name": "StyleView",
      "bar_color": null,
      "description_width": ""
     }
    },
    "33cecec46ab14182840d3396303f229c": {
     "model_module": "@jupyter-widgets/base",
     "model_module_version": "1.2.0",
     "model_name": "LayoutModel",
     "state": {
      "_model_module": "@jupyter-widgets/base",
      "_model_module_version": "1.2.0",
      "_model_name": "LayoutModel",
      "_view_count": null,
      "_view_module": "@jupyter-widgets/base",
      "_view_module_version": "1.2.0",
      "_view_name": "LayoutView",
      "align_content": null,
      "align_items": null,
      "align_self": null,
      "border": null,
      "bottom": null,
      "display": null,
      "flex": null,
      "flex_flow": null,
      "grid_area": null,
      "grid_auto_columns": null,
      "grid_auto_flow": null,
      "grid_auto_rows": null,
      "grid_column": null,
      "grid_gap": null,
      "grid_row": null,
      "grid_template_areas": null,
      "grid_template_columns": null,
      "grid_template_rows": null,
      "height": null,
      "justify_content": null,
      "justify_items": null,
      "left": null,
      "margin": null,
      "max_height": null,
      "max_width": null,
      "min_height": null,
      "min_width": null,
      "object_fit": null,
      "object_position": null,
      "order": null,
      "overflow": null,
      "overflow_x": null,
      "overflow_y": null,
      "padding": null,
      "right": null,
      "top": null,
      "visibility": null,
      "width": null
     }
    },
    "3cb013ab69c74952af3fe8ec62e9240d": {
     "model_module": "@jupyter-widgets/base",
     "model_module_version": "1.2.0",
     "model_name": "LayoutModel",
     "state": {
      "_model_module": "@jupyter-widgets/base",
      "_model_module_version": "1.2.0",
      "_model_name": "LayoutModel",
      "_view_count": null,
      "_view_module": "@jupyter-widgets/base",
      "_view_module_version": "1.2.0",
      "_view_name": "LayoutView",
      "align_content": null,
      "align_items": null,
      "align_self": null,
      "border": null,
      "bottom": null,
      "display": null,
      "flex": null,
      "flex_flow": null,
      "grid_area": null,
      "grid_auto_columns": null,
      "grid_auto_flow": null,
      "grid_auto_rows": null,
      "grid_column": null,
      "grid_gap": null,
      "grid_row": null,
      "grid_template_areas": null,
      "grid_template_columns": null,
      "grid_template_rows": null,
      "height": null,
      "justify_content": null,
      "justify_items": null,
      "left": null,
      "margin": null,
      "max_height": null,
      "max_width": null,
      "min_height": null,
      "min_width": null,
      "object_fit": null,
      "object_position": null,
      "order": null,
      "overflow": null,
      "overflow_x": null,
      "overflow_y": null,
      "padding": null,
      "right": null,
      "top": null,
      "visibility": null,
      "width": null
     }
    },
    "3f751c0c58404c4c9157a41f6d4c6aa3": {
     "model_module": "@jupyter-widgets/controls",
     "model_module_version": "1.5.0",
     "model_name": "HBoxModel",
     "state": {
      "_dom_classes": [],
      "_model_module": "@jupyter-widgets/controls",
      "_model_module_version": "1.5.0",
      "_model_name": "HBoxModel",
      "_view_count": null,
      "_view_module": "@jupyter-widgets/controls",
      "_view_module_version": "1.5.0",
      "_view_name": "HBoxView",
      "box_style": "",
      "children": [
       "IPY_MODEL_1fabef23d47443efbc63e689389bf2f6",
       "IPY_MODEL_2086182957284546aa4866bbf38cb622",
       "IPY_MODEL_61f65572174e4fe58bee89e54804b9fb"
      ],
      "layout": "IPY_MODEL_2c035786cb5f43cab56db915ebde9cea"
     }
    },
    "40d1f18f0ac240dab72ed6c921f93e17": {
     "model_module": "@jupyter-widgets/controls",
     "model_module_version": "1.5.0",
     "model_name": "HTMLModel",
     "state": {
      "_dom_classes": [],
      "_model_module": "@jupyter-widgets/controls",
      "_model_module_version": "1.5.0",
      "_model_name": "HTMLModel",
      "_view_count": null,
      "_view_module": "@jupyter-widgets/controls",
      "_view_module_version": "1.5.0",
      "_view_name": "HTMLView",
      "description": "",
      "description_tooltip": null,
      "layout": "IPY_MODEL_af2f08e8e62d46648d2936fbdbd27f92",
      "placeholder": "​",
      "style": "IPY_MODEL_aa966b9d9b4d41528b60ccffd9e5ecf4",
      "value": "vocab.json: 100%"
     }
    },
    "4aece1edc32649f7be3a032f09bec1d9": {
     "model_module": "@jupyter-widgets/controls",
     "model_module_version": "1.5.0",
     "model_name": "DescriptionStyleModel",
     "state": {
      "_model_module": "@jupyter-widgets/controls",
      "_model_module_version": "1.5.0",
      "_model_name": "DescriptionStyleModel",
      "_view_count": null,
      "_view_module": "@jupyter-widgets/base",
      "_view_module_version": "1.2.0",
      "_view_name": "StyleView",
      "description_width": ""
     }
    },
    "4ce72097fd2d414bae15d314e84c1601": {
     "model_module": "@jupyter-widgets/base",
     "model_module_version": "1.2.0",
     "model_name": "LayoutModel",
     "state": {
      "_model_module": "@jupyter-widgets/base",
      "_model_module_version": "1.2.0",
      "_model_name": "LayoutModel",
      "_view_count": null,
      "_view_module": "@jupyter-widgets/base",
      "_view_module_version": "1.2.0",
      "_view_name": "LayoutView",
      "align_content": null,
      "align_items": null,
      "align_self": null,
      "border": null,
      "bottom": null,
      "display": null,
      "flex": null,
      "flex_flow": null,
      "grid_area": null,
      "grid_auto_columns": null,
      "grid_auto_flow": null,
      "grid_auto_rows": null,
      "grid_column": null,
      "grid_gap": null,
      "grid_row": null,
      "grid_template_areas": null,
      "grid_template_columns": null,
      "grid_template_rows": null,
      "height": null,
      "justify_content": null,
      "justify_items": null,
      "left": null,
      "margin": null,
      "max_height": null,
      "max_width": null,
      "min_height": null,
      "min_width": null,
      "object_fit": null,
      "object_position": null,
      "order": null,
      "overflow": null,
      "overflow_x": null,
      "overflow_y": null,
      "padding": null,
      "right": null,
      "top": null,
      "visibility": null,
      "width": null
     }
    },
    "50efcb39d43747c6a6b75d4f1a82a905": {
     "model_module": "@jupyter-widgets/controls",
     "model_module_version": "1.5.0",
     "model_name": "DescriptionStyleModel",
     "state": {
      "_model_module": "@jupyter-widgets/controls",
      "_model_module_version": "1.5.0",
      "_model_name": "DescriptionStyleModel",
      "_view_count": null,
      "_view_module": "@jupyter-widgets/base",
      "_view_module_version": "1.2.0",
      "_view_name": "StyleView",
      "description_width": ""
     }
    },
    "5122e29250c14689b0e3798d301bd8d9": {
     "model_module": "@jupyter-widgets/controls",
     "model_module_version": "1.5.0",
     "model_name": "FloatProgressModel",
     "state": {
      "_dom_classes": [],
      "_model_module": "@jupyter-widgets/controls",
      "_model_module_version": "1.5.0",
      "_model_name": "FloatProgressModel",
      "_view_count": null,
      "_view_module": "@jupyter-widgets/controls",
      "_view_module_version": "1.5.0",
      "_view_name": "ProgressView",
      "bar_style": "success",
      "description": "",
      "description_tooltip": null,
      "layout": "IPY_MODEL_162defd82a544996a9246503f1d87d8e",
      "max": 1355256,
      "min": 0,
      "orientation": "horizontal",
      "style": "IPY_MODEL_ed7d15352a7a4ff5acc67e2a70712074",
      "value": 1355256
     }
    },
    "5547eb66254747ba97fa9ca97a6058de": {
     "model_module": "@jupyter-widgets/base",
     "model_module_version": "1.2.0",
     "model_name": "LayoutModel",
     "state": {
      "_model_module": "@jupyter-widgets/base",
      "_model_module_version": "1.2.0",
      "_model_name": "LayoutModel",
      "_view_count": null,
      "_view_module": "@jupyter-widgets/base",
      "_view_module_version": "1.2.0",
      "_view_name": "LayoutView",
      "align_content": null,
      "align_items": null,
      "align_self": null,
      "border": null,
      "bottom": null,
      "display": null,
      "flex": null,
      "flex_flow": null,
      "grid_area": null,
      "grid_auto_columns": null,
      "grid_auto_flow": null,
      "grid_auto_rows": null,
      "grid_column": null,
      "grid_gap": null,
      "grid_row": null,
      "grid_template_areas": null,
      "grid_template_columns": null,
      "grid_template_rows": null,
      "height": null,
      "justify_content": null,
      "justify_items": null,
      "left": null,
      "margin": null,
      "max_height": null,
      "max_width": null,
      "min_height": null,
      "min_width": null,
      "object_fit": null,
      "object_position": null,
      "order": null,
      "overflow": null,
      "overflow_x": null,
      "overflow_y": null,
      "padding": null,
      "right": null,
      "top": null,
      "visibility": null,
      "width": null
     }
    },
    "58ebdce076cf468fa948d6dd7ff78232": {
     "model_module": "@jupyter-widgets/controls",
     "model_module_version": "1.5.0",
     "model_name": "HBoxModel",
     "state": {
      "_dom_classes": [],
      "_model_module": "@jupyter-widgets/controls",
      "_model_module_version": "1.5.0",
      "_model_name": "HBoxModel",
      "_view_count": null,
      "_view_module": "@jupyter-widgets/controls",
      "_view_module_version": "1.5.0",
      "_view_name": "HBoxView",
      "box_style": "",
      "children": [
       "IPY_MODEL_d2f07839e6c4415eb7a799e436a25410",
       "IPY_MODEL_e8263c1da2bd4b51aa2504ba63d9d19e",
       "IPY_MODEL_6c72a02d62be45dbae42bc5d9153094a"
      ],
      "layout": "IPY_MODEL_ec7d616c83594d0a862dc055c57fd28e"
     }
    },
    "5dc6671fcf844de5b5922a918fd064f2": {
     "model_module": "@jupyter-widgets/controls",
     "model_module_version": "1.5.0",
     "model_name": "DescriptionStyleModel",
     "state": {
      "_model_module": "@jupyter-widgets/controls",
      "_model_module_version": "1.5.0",
      "_model_name": "DescriptionStyleModel",
      "_view_count": null,
      "_view_module": "@jupyter-widgets/base",
      "_view_module_version": "1.2.0",
      "_view_name": "StyleView",
      "description_width": ""
     }
    },
    "61f65572174e4fe58bee89e54804b9fb": {
     "model_module": "@jupyter-widgets/controls",
     "model_module_version": "1.5.0",
     "model_name": "HTMLModel",
     "state": {
      "_dom_classes": [],
      "_model_module": "@jupyter-widgets/controls",
      "_model_module_version": "1.5.0",
      "_model_name": "HTMLModel",
      "_view_count": null,
      "_view_module": "@jupyter-widgets/controls",
      "_view_module_version": "1.5.0",
      "_view_name": "HTMLView",
      "description": "",
      "description_tooltip": null,
      "layout": "IPY_MODEL_fc0e190fef7f4f0cbf512f6b66274ce0",
      "placeholder": "​",
      "style": "IPY_MODEL_50efcb39d43747c6a6b75d4f1a82a905",
      "value": " 456k/456k [00:00&lt;00:00, 2.09MB/s]"
     }
    },
    "622fcaa686cf4c0f8b6fdf6e0ab4fc06": {
     "model_module": "@jupyter-widgets/base",
     "model_module_version": "1.2.0",
     "model_name": "LayoutModel",
     "state": {
      "_model_module": "@jupyter-widgets/base",
      "_model_module_version": "1.2.0",
      "_model_name": "LayoutModel",
      "_view_count": null,
      "_view_module": "@jupyter-widgets/base",
      "_view_module_version": "1.2.0",
      "_view_name": "LayoutView",
      "align_content": null,
      "align_items": null,
      "align_self": null,
      "border": null,
      "bottom": null,
      "display": null,
      "flex": null,
      "flex_flow": null,
      "grid_area": null,
      "grid_auto_columns": null,
      "grid_auto_flow": null,
      "grid_auto_rows": null,
      "grid_column": null,
      "grid_gap": null,
      "grid_row": null,
      "grid_template_areas": null,
      "grid_template_columns": null,
      "grid_template_rows": null,
      "height": null,
      "justify_content": null,
      "justify_items": null,
      "left": null,
      "margin": null,
      "max_height": null,
      "max_width": null,
      "min_height": null,
      "min_width": null,
      "object_fit": null,
      "object_position": null,
      "order": null,
      "overflow": null,
      "overflow_x": null,
      "overflow_y": null,
      "padding": null,
      "right": null,
      "top": null,
      "visibility": null,
      "width": null
     }
    },
    "6c72a02d62be45dbae42bc5d9153094a": {
     "model_module": "@jupyter-widgets/controls",
     "model_module_version": "1.5.0",
     "model_name": "HTMLModel",
     "state": {
      "_dom_classes": [],
      "_model_module": "@jupyter-widgets/controls",
      "_model_module_version": "1.5.0",
      "_model_name": "HTMLModel",
      "_view_count": null,
      "_view_module": "@jupyter-widgets/controls",
      "_view_module_version": "1.5.0",
      "_view_name": "HTMLView",
      "description": "",
      "description_tooltip": null,
      "layout": "IPY_MODEL_df5844b17e104330a194d81827e4794d",
      "placeholder": "​",
      "style": "IPY_MODEL_6f87853b23f3435baf6e6e970d5cf8be",
      "value": " 718/718 [00:00&lt;00:00, 64.8kB/s]"
     }
    },
    "6d384726355140329f3c9cec99f2b395": {
     "model_module": "@jupyter-widgets/controls",
     "model_module_version": "1.5.0",
     "model_name": "ProgressStyleModel",
     "state": {
      "_model_module": "@jupyter-widgets/controls",
      "_model_module_version": "1.5.0",
      "_model_name": "ProgressStyleModel",
      "_view_count": null,
      "_view_module": "@jupyter-widgets/base",
      "_view_module_version": "1.2.0",
      "_view_name": "StyleView",
      "bar_color": null,
      "description_width": ""
     }
    },
    "6f87853b23f3435baf6e6e970d5cf8be": {
     "model_module": "@jupyter-widgets/controls",
     "model_module_version": "1.5.0",
     "model_name": "DescriptionStyleModel",
     "state": {
      "_model_module": "@jupyter-widgets/controls",
      "_model_module_version": "1.5.0",
      "_model_name": "DescriptionStyleModel",
      "_view_count": null,
      "_view_module": "@jupyter-widgets/base",
      "_view_module_version": "1.2.0",
      "_view_name": "StyleView",
      "description_width": ""
     }
    },
    "7070592c7f694442aeb72acc40a4105e": {
     "model_module": "@jupyter-widgets/base",
     "model_module_version": "1.2.0",
     "model_name": "LayoutModel",
     "state": {
      "_model_module": "@jupyter-widgets/base",
      "_model_module_version": "1.2.0",
      "_model_name": "LayoutModel",
      "_view_count": null,
      "_view_module": "@jupyter-widgets/base",
      "_view_module_version": "1.2.0",
      "_view_name": "LayoutView",
      "align_content": null,
      "align_items": null,
      "align_self": null,
      "border": null,
      "bottom": null,
      "display": null,
      "flex": null,
      "flex_flow": null,
      "grid_area": null,
      "grid_auto_columns": null,
      "grid_auto_flow": null,
      "grid_auto_rows": null,
      "grid_column": null,
      "grid_gap": null,
      "grid_row": null,
      "grid_template_areas": null,
      "grid_template_columns": null,
      "grid_template_rows": null,
      "height": null,
      "justify_content": null,
      "justify_items": null,
      "left": null,
      "margin": null,
      "max_height": null,
      "max_width": null,
      "min_height": null,
      "min_width": null,
      "object_fit": null,
      "object_position": null,
      "order": null,
      "overflow": null,
      "overflow_x": null,
      "overflow_y": null,
      "padding": null,
      "right": null,
      "top": null,
      "visibility": null,
      "width": null
     }
    },
    "728352875c3649baa6cf7f0d6d89976a": {
     "model_module": "@jupyter-widgets/base",
     "model_module_version": "1.2.0",
     "model_name": "LayoutModel",
     "state": {
      "_model_module": "@jupyter-widgets/base",
      "_model_module_version": "1.2.0",
      "_model_name": "LayoutModel",
      "_view_count": null,
      "_view_module": "@jupyter-widgets/base",
      "_view_module_version": "1.2.0",
      "_view_name": "LayoutView",
      "align_content": null,
      "align_items": null,
      "align_self": null,
      "border": null,
      "bottom": null,
      "display": null,
      "flex": null,
      "flex_flow": null,
      "grid_area": null,
      "grid_auto_columns": null,
      "grid_auto_flow": null,
      "grid_auto_rows": null,
      "grid_column": null,
      "grid_gap": null,
      "grid_row": null,
      "grid_template_areas": null,
      "grid_template_columns": null,
      "grid_template_rows": null,
      "height": null,
      "justify_content": null,
      "justify_items": null,
      "left": null,
      "margin": null,
      "max_height": null,
      "max_width": null,
      "min_height": null,
      "min_width": null,
      "object_fit": null,
      "object_position": null,
      "order": null,
      "overflow": null,
      "overflow_x": null,
      "overflow_y": null,
      "padding": null,
      "right": null,
      "top": null,
      "visibility": null,
      "width": null
     }
    },
    "7489ebacd06f46d8a81396c503e86db7": {
     "model_module": "@jupyter-widgets/base",
     "model_module_version": "1.2.0",
     "model_name": "LayoutModel",
     "state": {
      "_model_module": "@jupyter-widgets/base",
      "_model_module_version": "1.2.0",
      "_model_name": "LayoutModel",
      "_view_count": null,
      "_view_module": "@jupyter-widgets/base",
      "_view_module_version": "1.2.0",
      "_view_name": "LayoutView",
      "align_content": null,
      "align_items": null,
      "align_self": null,
      "border": null,
      "bottom": null,
      "display": null,
      "flex": null,
      "flex_flow": null,
      "grid_area": null,
      "grid_auto_columns": null,
      "grid_auto_flow": null,
      "grid_auto_rows": null,
      "grid_column": null,
      "grid_gap": null,
      "grid_row": null,
      "grid_template_areas": null,
      "grid_template_columns": null,
      "grid_template_rows": null,
      "height": null,
      "justify_content": null,
      "justify_items": null,
      "left": null,
      "margin": null,
      "max_height": null,
      "max_width": null,
      "min_height": null,
      "min_width": null,
      "object_fit": null,
      "object_position": null,
      "order": null,
      "overflow": null,
      "overflow_x": null,
      "overflow_y": null,
      "padding": null,
      "right": null,
      "top": null,
      "visibility": null,
      "width": null
     }
    },
    "8a1b8930a65d47a2bda487042d92d54b": {
     "model_module": "@jupyter-widgets/controls",
     "model_module_version": "1.5.0",
     "model_name": "DescriptionStyleModel",
     "state": {
      "_model_module": "@jupyter-widgets/controls",
      "_model_module_version": "1.5.0",
      "_model_name": "DescriptionStyleModel",
      "_view_count": null,
      "_view_module": "@jupyter-widgets/base",
      "_view_module_version": "1.2.0",
      "_view_name": "StyleView",
      "description_width": ""
     }
    },
    "8f84e67ce76a4f009dc53961229a3f40": {
     "model_module": "@jupyter-widgets/controls",
     "model_module_version": "1.5.0",
     "model_name": "DescriptionStyleModel",
     "state": {
      "_model_module": "@jupyter-widgets/controls",
      "_model_module_version": "1.5.0",
      "_model_name": "DescriptionStyleModel",
      "_view_count": null,
      "_view_module": "@jupyter-widgets/base",
      "_view_module_version": "1.2.0",
      "_view_name": "StyleView",
      "description_width": ""
     }
    },
    "9019b75f46004013ac4c502878108597": {
     "model_module": "@jupyter-widgets/controls",
     "model_module_version": "1.5.0",
     "model_name": "HTMLModel",
     "state": {
      "_dom_classes": [],
      "_model_module": "@jupyter-widgets/controls",
      "_model_module_version": "1.5.0",
      "_model_name": "HTMLModel",
      "_view_count": null,
      "_view_module": "@jupyter-widgets/controls",
      "_view_module_version": "1.5.0",
      "_view_name": "HTMLView",
      "description": "",
      "description_tooltip": null,
      "layout": "IPY_MODEL_25c788619b2c497d88e32e6e74697ef3",
      "placeholder": "​",
      "style": "IPY_MODEL_d9e547160a0d4be1be8cc9af0baa5a0c",
      "value": "tokenizer_config.json: 100%"
     }
    },
    "92cc046da26347febf724c4e777a4d5d": {
     "model_module": "@jupyter-widgets/controls",
     "model_module_version": "1.5.0",
     "model_name": "HBoxModel",
     "state": {
      "_dom_classes": [],
      "_model_module": "@jupyter-widgets/controls",
      "_model_module_version": "1.5.0",
      "_model_name": "HBoxModel",
      "_view_count": null,
      "_view_module": "@jupyter-widgets/controls",
      "_view_module_version": "1.5.0",
      "_view_name": "HBoxView",
      "box_style": "",
      "children": [
       "IPY_MODEL_1efe288b09044c59a1a61567fea01381",
       "IPY_MODEL_5122e29250c14689b0e3798d301bd8d9",
       "IPY_MODEL_21a1664eed0a43699dd839eef5dfcdef"
      ],
      "layout": "IPY_MODEL_3cb013ab69c74952af3fe8ec62e9240d"
     }
    },
    "9782344c7d1e4287be6ede79db520a88": {
     "model_module": "@jupyter-widgets/controls",
     "model_module_version": "1.5.0",
     "model_name": "FloatProgressModel",
     "state": {
      "_dom_classes": [],
      "_model_module": "@jupyter-widgets/controls",
      "_model_module_version": "1.5.0",
      "_model_name": "FloatProgressModel",
      "_view_count": null,
      "_view_module": "@jupyter-widgets/controls",
      "_view_module_version": "1.5.0",
      "_view_name": "ProgressView",
      "bar_style": "success",
      "description": "",
      "description_tooltip": null,
      "layout": "IPY_MODEL_e7abbf03372d40af9ea192479e73603a",
      "max": 1042301,
      "min": 0,
      "orientation": "horizontal",
      "style": "IPY_MODEL_31733f0e8a6c41848b0fe6235bae9195",
      "value": 1042301
     }
    },
    "97ddff9129b34fbca679aeee70a6310c": {
     "model_module": "@jupyter-widgets/base",
     "model_module_version": "1.2.0",
     "model_name": "LayoutModel",
     "state": {
      "_model_module": "@jupyter-widgets/base",
      "_model_module_version": "1.2.0",
      "_model_name": "LayoutModel",
      "_view_count": null,
      "_view_module": "@jupyter-widgets/base",
      "_view_module_version": "1.2.0",
      "_view_name": "LayoutView",
      "align_content": null,
      "align_items": null,
      "align_self": null,
      "border": null,
      "bottom": null,
      "display": null,
      "flex": null,
      "flex_flow": null,
      "grid_area": null,
      "grid_auto_columns": null,
      "grid_auto_flow": null,
      "grid_auto_rows": null,
      "grid_column": null,
      "grid_gap": null,
      "grid_row": null,
      "grid_template_areas": null,
      "grid_template_columns": null,
      "grid_template_rows": null,
      "height": null,
      "justify_content": null,
      "justify_items": null,
      "left": null,
      "margin": null,
      "max_height": null,
      "max_width": null,
      "min_height": null,
      "min_width": null,
      "object_fit": null,
      "object_position": null,
      "order": null,
      "overflow": null,
      "overflow_x": null,
      "overflow_y": null,
      "padding": null,
      "right": null,
      "top": null,
      "visibility": null,
      "width": null
     }
    },
    "9c83aa96318445b3a705a27a4bf4f7b5": {
     "model_module": "@jupyter-widgets/controls",
     "model_module_version": "1.5.0",
     "model_name": "ProgressStyleModel",
     "state": {
      "_model_module": "@jupyter-widgets/controls",
      "_model_module_version": "1.5.0",
      "_model_name": "ProgressStyleModel",
      "_view_count": null,
      "_view_module": "@jupyter-widgets/base",
      "_view_module_version": "1.2.0",
      "_view_name": "StyleView",
      "bar_color": null,
      "description_width": ""
     }
    },
    "a0e2039b234c45d0a15f7c7dc2119288": {
     "model_module": "@jupyter-widgets/base",
     "model_module_version": "1.2.0",
     "model_name": "LayoutModel",
     "state": {
      "_model_module": "@jupyter-widgets/base",
      "_model_module_version": "1.2.0",
      "_model_name": "LayoutModel",
      "_view_count": null,
      "_view_module": "@jupyter-widgets/base",
      "_view_module_version": "1.2.0",
      "_view_name": "LayoutView",
      "align_content": null,
      "align_items": null,
      "align_self": null,
      "border": null,
      "bottom": null,
      "display": null,
      "flex": null,
      "flex_flow": null,
      "grid_area": null,
      "grid_auto_columns": null,
      "grid_auto_flow": null,
      "grid_auto_rows": null,
      "grid_column": null,
      "grid_gap": null,
      "grid_row": null,
      "grid_template_areas": null,
      "grid_template_columns": null,
      "grid_template_rows": null,
      "height": null,
      "justify_content": null,
      "justify_items": null,
      "left": null,
      "margin": null,
      "max_height": null,
      "max_width": null,
      "min_height": null,
      "min_width": null,
      "object_fit": null,
      "object_position": null,
      "order": null,
      "overflow": null,
      "overflow_x": null,
      "overflow_y": null,
      "padding": null,
      "right": null,
      "top": null,
      "visibility": null,
      "width": null
     }
    },
    "aa966b9d9b4d41528b60ccffd9e5ecf4": {
     "model_module": "@jupyter-widgets/controls",
     "model_module_version": "1.5.0",
     "model_name": "DescriptionStyleModel",
     "state": {
      "_model_module": "@jupyter-widgets/controls",
      "_model_module_version": "1.5.0",
      "_model_name": "DescriptionStyleModel",
      "_view_count": null,
      "_view_module": "@jupyter-widgets/base",
      "_view_module_version": "1.2.0",
      "_view_name": "StyleView",
      "description_width": ""
     }
    },
    "ad4ab812967846448fdfce651ccb7063": {
     "model_module": "@jupyter-widgets/base",
     "model_module_version": "1.2.0",
     "model_name": "LayoutModel",
     "state": {
      "_model_module": "@jupyter-widgets/base",
      "_model_module_version": "1.2.0",
      "_model_name": "LayoutModel",
      "_view_count": null,
      "_view_module": "@jupyter-widgets/base",
      "_view_module_version": "1.2.0",
      "_view_name": "LayoutView",
      "align_content": null,
      "align_items": null,
      "align_self": null,
      "border": null,
      "bottom": null,
      "display": null,
      "flex": null,
      "flex_flow": null,
      "grid_area": null,
      "grid_auto_columns": null,
      "grid_auto_flow": null,
      "grid_auto_rows": null,
      "grid_column": null,
      "grid_gap": null,
      "grid_row": null,
      "grid_template_areas": null,
      "grid_template_columns": null,
      "grid_template_rows": null,
      "height": null,
      "justify_content": null,
      "justify_items": null,
      "left": null,
      "margin": null,
      "max_height": null,
      "max_width": null,
      "min_height": null,
      "min_width": null,
      "object_fit": null,
      "object_position": null,
      "order": null,
      "overflow": null,
      "overflow_x": null,
      "overflow_y": null,
      "padding": null,
      "right": null,
      "top": null,
      "visibility": null,
      "width": null
     }
    },
    "af2f08e8e62d46648d2936fbdbd27f92": {
     "model_module": "@jupyter-widgets/base",
     "model_module_version": "1.2.0",
     "model_name": "LayoutModel",
     "state": {
      "_model_module": "@jupyter-widgets/base",
      "_model_module_version": "1.2.0",
      "_model_name": "LayoutModel",
      "_view_count": null,
      "_view_module": "@jupyter-widgets/base",
      "_view_module_version": "1.2.0",
      "_view_name": "LayoutView",
      "align_content": null,
      "align_items": null,
      "align_self": null,
      "border": null,
      "bottom": null,
      "display": null,
      "flex": null,
      "flex_flow": null,
      "grid_area": null,
      "grid_auto_columns": null,
      "grid_auto_flow": null,
      "grid_auto_rows": null,
      "grid_column": null,
      "grid_gap": null,
      "grid_row": null,
      "grid_template_areas": null,
      "grid_template_columns": null,
      "grid_template_rows": null,
      "height": null,
      "justify_content": null,
      "justify_items": null,
      "left": null,
      "margin": null,
      "max_height": null,
      "max_width": null,
      "min_height": null,
      "min_width": null,
      "object_fit": null,
      "object_position": null,
      "order": null,
      "overflow": null,
      "overflow_x": null,
      "overflow_y": null,
      "padding": null,
      "right": null,
      "top": null,
      "visibility": null,
      "width": null
     }
    },
    "b1fbf0dc5b6b4ca1ba4303f330112122": {
     "model_module": "@jupyter-widgets/controls",
     "model_module_version": "1.5.0",
     "model_name": "HBoxModel",
     "state": {
      "_dom_classes": [],
      "_model_module": "@jupyter-widgets/controls",
      "_model_module_version": "1.5.0",
      "_model_name": "HBoxModel",
      "_view_count": null,
      "_view_module": "@jupyter-widgets/controls",
      "_view_module_version": "1.5.0",
      "_view_name": "HBoxView",
      "box_style": "",
      "children": [
       "IPY_MODEL_b42a8c1873cd41ca84c74775f3bc3014",
       "IPY_MODEL_1810e9bf39a64d6e8bd795153bdab947",
       "IPY_MODEL_df2280b11cca4ae3a44ece30aa85fe8a"
      ],
      "layout": "IPY_MODEL_ff3e10a64e7c4fa690fbd4e1c62221c8"
     }
    },
    "b230a0231c3349b3b78463283b78cbaa": {
     "model_module": "@jupyter-widgets/controls",
     "model_module_version": "1.5.0",
     "model_name": "HBoxModel",
     "state": {
      "_dom_classes": [],
      "_model_module": "@jupyter-widgets/controls",
      "_model_module_version": "1.5.0",
      "_model_name": "HBoxModel",
      "_view_count": null,
      "_view_module": "@jupyter-widgets/controls",
      "_view_module_version": "1.5.0",
      "_view_name": "HBoxView",
      "box_style": "",
      "children": [
       "IPY_MODEL_9019b75f46004013ac4c502878108597",
       "IPY_MODEL_cda198e4dca048a283ba5a0db23ffe5f",
       "IPY_MODEL_0a5ac1ac6c55452783252a7a5b3665eb"
      ],
      "layout": "IPY_MODEL_b3103efc6a9a40df997b20da2c23488c"
     }
    },
    "b3103efc6a9a40df997b20da2c23488c": {
     "model_module": "@jupyter-widgets/base",
     "model_module_version": "1.2.0",
     "model_name": "LayoutModel",
     "state": {
      "_model_module": "@jupyter-widgets/base",
      "_model_module_version": "1.2.0",
      "_model_name": "LayoutModel",
      "_view_count": null,
      "_view_module": "@jupyter-widgets/base",
      "_view_module_version": "1.2.0",
      "_view_name": "LayoutView",
      "align_content": null,
      "align_items": null,
      "align_self": null,
      "border": null,
      "bottom": null,
      "display": null,
      "flex": null,
      "flex_flow": null,
      "grid_area": null,
      "grid_auto_columns": null,
      "grid_auto_flow": null,
      "grid_auto_rows": null,
      "grid_column": null,
      "grid_gap": null,
      "grid_row": null,
      "grid_template_areas": null,
      "grid_template_columns": null,
      "grid_template_rows": null,
      "height": null,
      "justify_content": null,
      "justify_items": null,
      "left": null,
      "margin": null,
      "max_height": null,
      "max_width": null,
      "min_height": null,
      "min_width": null,
      "object_fit": null,
      "object_position": null,
      "order": null,
      "overflow": null,
      "overflow_x": null,
      "overflow_y": null,
      "padding": null,
      "right": null,
      "top": null,
      "visibility": null,
      "width": null
     }
    },
    "b42a8c1873cd41ca84c74775f3bc3014": {
     "model_module": "@jupyter-widgets/controls",
     "model_module_version": "1.5.0",
     "model_name": "HTMLModel",
     "state": {
      "_dom_classes": [],
      "_model_module": "@jupyter-widgets/controls",
      "_model_module_version": "1.5.0",
      "_model_name": "HTMLModel",
      "_view_count": null,
      "_view_module": "@jupyter-widgets/controls",
      "_view_module_version": "1.5.0",
      "_view_name": "HTMLView",
      "description": "",
      "description_tooltip": null,
      "layout": "IPY_MODEL_4ce72097fd2d414bae15d314e84c1601",
      "placeholder": "​",
      "style": "IPY_MODEL_0549de5fea7f43c5bae919e42514e88f",
      "value": "generation_config.json: 100%"
     }
    },
    "b44ba17001474d0eb94a10aa703ae23e": {
     "model_module": "@jupyter-widgets/controls",
     "model_module_version": "1.5.0",
     "model_name": "FloatProgressModel",
     "state": {
      "_dom_classes": [],
      "_model_module": "@jupyter-widgets/controls",
      "_model_module_version": "1.5.0",
      "_model_name": "FloatProgressModel",
      "_view_count": null,
      "_view_module": "@jupyter-widgets/controls",
      "_view_module_version": "1.5.0",
      "_view_name": "ProgressView",
      "bar_style": "success",
      "description": "",
      "description_tooltip": null,
      "layout": "IPY_MODEL_97ddff9129b34fbca679aeee70a6310c",
      "max": 1519984962,
      "min": 0,
      "orientation": "horizontal",
      "style": "IPY_MODEL_6d384726355140329f3c9cec99f2b395",
      "value": 1519984962
     }
    },
    "c4f9ee72b5334cb7ac457ee2a6736b82": {
     "model_module": "@jupyter-widgets/controls",
     "model_module_version": "1.5.0",
     "model_name": "DescriptionStyleModel",
     "state": {
      "_model_module": "@jupyter-widgets/controls",
      "_model_module_version": "1.5.0",
      "_model_name": "DescriptionStyleModel",
      "_view_count": null,
      "_view_module": "@jupyter-widgets/base",
      "_view_module_version": "1.2.0",
      "_view_name": "StyleView",
      "description_width": ""
     }
    },
    "cda198e4dca048a283ba5a0db23ffe5f": {
     "model_module": "@jupyter-widgets/controls",
     "model_module_version": "1.5.0",
     "model_name": "FloatProgressModel",
     "state": {
      "_dom_classes": [],
      "_model_module": "@jupyter-widgets/controls",
      "_model_module_version": "1.5.0",
      "_model_name": "FloatProgressModel",
      "_view_count": null,
      "_view_module": "@jupyter-widgets/controls",
      "_view_module_version": "1.5.0",
      "_view_name": "ProgressView",
      "bar_style": "success",
      "description": "",
      "description_tooltip": null,
      "layout": "IPY_MODEL_d372cc34d5ce40c7ae3aeb53bf56e410",
      "max": 26,
      "min": 0,
      "orientation": "horizontal",
      "style": "IPY_MODEL_9c83aa96318445b3a705a27a4bf4f7b5",
      "value": 26
     }
    },
    "cea3622a112048889abf9790a36a3430": {
     "model_module": "@jupyter-widgets/base",
     "model_module_version": "1.2.0",
     "model_name": "LayoutModel",
     "state": {
      "_model_module": "@jupyter-widgets/base",
      "_model_module_version": "1.2.0",
      "_model_name": "LayoutModel",
      "_view_count": null,
      "_view_module": "@jupyter-widgets/base",
      "_view_module_version": "1.2.0",
      "_view_name": "LayoutView",
      "align_content": null,
      "align_items": null,
      "align_self": null,
      "border": null,
      "bottom": null,
      "display": null,
      "flex": null,
      "flex_flow": null,
      "grid_area": null,
      "grid_auto_columns": null,
      "grid_auto_flow": null,
      "grid_auto_rows": null,
      "grid_column": null,
      "grid_gap": null,
      "grid_row": null,
      "grid_template_areas": null,
      "grid_template_columns": null,
      "grid_template_rows": null,
      "height": null,
      "justify_content": null,
      "justify_items": null,
      "left": null,
      "margin": null,
      "max_height": null,
      "max_width": null,
      "min_height": null,
      "min_width": null,
      "object_fit": null,
      "object_position": null,
      "order": null,
      "overflow": null,
      "overflow_x": null,
      "overflow_y": null,
      "padding": null,
      "right": null,
      "top": null,
      "visibility": null,
      "width": null
     }
    },
    "d2aad0ee2e2d48fa91c1f9540e24b89e": {
     "model_module": "@jupyter-widgets/controls",
     "model_module_version": "1.5.0",
     "model_name": "HTMLModel",
     "state": {
      "_dom_classes": [],
      "_model_module": "@jupyter-widgets/controls",
      "_model_module_version": "1.5.0",
      "_model_name": "HTMLModel",
      "_view_count": null,
      "_view_module": "@jupyter-widgets/controls",
      "_view_module_version": "1.5.0",
      "_view_name": "HTMLView",
      "description": "",
      "description_tooltip": null,
      "layout": "IPY_MODEL_fcf18127c0fa4aee8994b6a351c8c6c0",
      "placeholder": "​",
      "style": "IPY_MODEL_fd7144e07cb4411785ecfa7d06c68b45",
      "value": "model.safetensors: 100%"
     }
    },
    "d2f07839e6c4415eb7a799e436a25410": {
     "model_module": "@jupyter-widgets/controls",
     "model_module_version": "1.5.0",
     "model_name": "HTMLModel",
     "state": {
      "_dom_classes": [],
      "_model_module": "@jupyter-widgets/controls",
      "_model_module_version": "1.5.0",
      "_model_name": "HTMLModel",
      "_view_count": null,
      "_view_module": "@jupyter-widgets/controls",
      "_view_module_version": "1.5.0",
      "_view_name": "HTMLView",
      "description": "",
      "description_tooltip": null,
      "layout": "IPY_MODEL_ad4ab812967846448fdfce651ccb7063",
      "placeholder": "​",
      "style": "IPY_MODEL_c4f9ee72b5334cb7ac457ee2a6736b82",
      "value": "config.json: 100%"
     }
    },
    "d372cc34d5ce40c7ae3aeb53bf56e410": {
     "model_module": "@jupyter-widgets/base",
     "model_module_version": "1.2.0",
     "model_name": "LayoutModel",
     "state": {
      "_model_module": "@jupyter-widgets/base",
      "_model_module_version": "1.2.0",
      "_model_name": "LayoutModel",
      "_view_count": null,
      "_view_module": "@jupyter-widgets/base",
      "_view_module_version": "1.2.0",
      "_view_name": "LayoutView",
      "align_content": null,
      "align_items": null,
      "align_self": null,
      "border": null,
      "bottom": null,
      "display": null,
      "flex": null,
      "flex_flow": null,
      "grid_area": null,
      "grid_auto_columns": null,
      "grid_auto_flow": null,
      "grid_auto_rows": null,
      "grid_column": null,
      "grid_gap": null,
      "grid_row": null,
      "grid_template_areas": null,
      "grid_template_columns": null,
      "grid_template_rows": null,
      "height": null,
      "justify_content": null,
      "justify_items": null,
      "left": null,
      "margin": null,
      "max_height": null,
      "max_width": null,
      "min_height": null,
      "min_width": null,
      "object_fit": null,
      "object_position": null,
      "order": null,
      "overflow": null,
      "overflow_x": null,
      "overflow_y": null,
      "padding": null,
      "right": null,
      "top": null,
      "visibility": null,
      "width": null
     }
    },
    "d9e547160a0d4be1be8cc9af0baa5a0c": {
     "model_module": "@jupyter-widgets/controls",
     "model_module_version": "1.5.0",
     "model_name": "DescriptionStyleModel",
     "state": {
      "_model_module": "@jupyter-widgets/controls",
      "_model_module_version": "1.5.0",
      "_model_name": "DescriptionStyleModel",
      "_view_count": null,
      "_view_module": "@jupyter-widgets/base",
      "_view_module_version": "1.2.0",
      "_view_name": "StyleView",
      "description_width": ""
     }
    },
    "da1fa4aa225b48778d1e0f6196ce0323": {
     "model_module": "@jupyter-widgets/controls",
     "model_module_version": "1.5.0",
     "model_name": "HTMLModel",
     "state": {
      "_dom_classes": [],
      "_model_module": "@jupyter-widgets/controls",
      "_model_module_version": "1.5.0",
      "_model_name": "HTMLModel",
      "_view_count": null,
      "_view_module": "@jupyter-widgets/controls",
      "_view_module_version": "1.5.0",
      "_view_name": "HTMLView",
      "description": "",
      "description_tooltip": null,
      "layout": "IPY_MODEL_a0e2039b234c45d0a15f7c7dc2119288",
      "placeholder": "​",
      "style": "IPY_MODEL_8a1b8930a65d47a2bda487042d92d54b",
      "value": " 1.04M/1.04M [00:00&lt;00:00, 4.77MB/s]"
     }
    },
    "ddfe0041c56d424492e4bdccacb17fe5": {
     "model_module": "@jupyter-widgets/base",
     "model_module_version": "1.2.0",
     "model_name": "LayoutModel",
     "state": {
      "_model_module": "@jupyter-widgets/base",
      "_model_module_version": "1.2.0",
      "_model_name": "LayoutModel",
      "_view_count": null,
      "_view_module": "@jupyter-widgets/base",
      "_view_module_version": "1.2.0",
      "_view_name": "LayoutView",
      "align_content": null,
      "align_items": null,
      "align_self": null,
      "border": null,
      "bottom": null,
      "display": null,
      "flex": null,
      "flex_flow": null,
      "grid_area": null,
      "grid_auto_columns": null,
      "grid_auto_flow": null,
      "grid_auto_rows": null,
      "grid_column": null,
      "grid_gap": null,
      "grid_row": null,
      "grid_template_areas": null,
      "grid_template_columns": null,
      "grid_template_rows": null,
      "height": null,
      "justify_content": null,
      "justify_items": null,
      "left": null,
      "margin": null,
      "max_height": null,
      "max_width": null,
      "min_height": null,
      "min_width": null,
      "object_fit": null,
      "object_position": null,
      "order": null,
      "overflow": null,
      "overflow_x": null,
      "overflow_y": null,
      "padding": null,
      "right": null,
      "top": null,
      "visibility": null,
      "width": null
     }
    },
    "df2280b11cca4ae3a44ece30aa85fe8a": {
     "model_module": "@jupyter-widgets/controls",
     "model_module_version": "1.5.0",
     "model_name": "HTMLModel",
     "state": {
      "_dom_classes": [],
      "_model_module": "@jupyter-widgets/controls",
      "_model_module_version": "1.5.0",
      "_model_name": "HTMLModel",
      "_view_count": null,
      "_view_module": "@jupyter-widgets/controls",
      "_view_module_version": "1.5.0",
      "_view_name": "HTMLView",
      "description": "",
      "description_tooltip": null,
      "layout": "IPY_MODEL_ddfe0041c56d424492e4bdccacb17fe5",
      "placeholder": "​",
      "style": "IPY_MODEL_8f84e67ce76a4f009dc53961229a3f40",
      "value": " 124/124 [00:00&lt;00:00, 9.94kB/s]"
     }
    },
    "df5844b17e104330a194d81827e4794d": {
     "model_module": "@jupyter-widgets/base",
     "model_module_version": "1.2.0",
     "model_name": "LayoutModel",
     "state": {
      "_model_module": "@jupyter-widgets/base",
      "_model_module_version": "1.2.0",
      "_model_name": "LayoutModel",
      "_view_count": null,
      "_view_module": "@jupyter-widgets/base",
      "_view_module_version": "1.2.0",
      "_view_name": "LayoutView",
      "align_content": null,
      "align_items": null,
      "align_self": null,
      "border": null,
      "bottom": null,
      "display": null,
      "flex": null,
      "flex_flow": null,
      "grid_area": null,
      "grid_auto_columns": null,
      "grid_auto_flow": null,
      "grid_auto_rows": null,
      "grid_column": null,
      "grid_gap": null,
      "grid_row": null,
      "grid_template_areas": null,
      "grid_template_columns": null,
      "grid_template_rows": null,
      "height": null,
      "justify_content": null,
      "justify_items": null,
      "left": null,
      "margin": null,
      "max_height": null,
      "max_width": null,
      "min_height": null,
      "min_width": null,
      "object_fit": null,
      "object_position": null,
      "order": null,
      "overflow": null,
      "overflow_x": null,
      "overflow_y": null,
      "padding": null,
      "right": null,
      "top": null,
      "visibility": null,
      "width": null
     }
    },
    "e7837e02d9ef4f8abf76415df685a193": {
     "model_module": "@jupyter-widgets/controls",
     "model_module_version": "1.5.0",
     "model_name": "ProgressStyleModel",
     "state": {
      "_model_module": "@jupyter-widgets/controls",
      "_model_module_version": "1.5.0",
      "_model_name": "ProgressStyleModel",
      "_view_count": null,
      "_view_module": "@jupyter-widgets/base",
      "_view_module_version": "1.2.0",
      "_view_name": "StyleView",
      "bar_color": null,
      "description_width": ""
     }
    },
    "e7abbf03372d40af9ea192479e73603a": {
     "model_module": "@jupyter-widgets/base",
     "model_module_version": "1.2.0",
     "model_name": "LayoutModel",
     "state": {
      "_model_module": "@jupyter-widgets/base",
      "_model_module_version": "1.2.0",
      "_model_name": "LayoutModel",
      "_view_count": null,
      "_view_module": "@jupyter-widgets/base",
      "_view_module_version": "1.2.0",
      "_view_name": "LayoutView",
      "align_content": null,
      "align_items": null,
      "align_self": null,
      "border": null,
      "bottom": null,
      "display": null,
      "flex": null,
      "flex_flow": null,
      "grid_area": null,
      "grid_auto_columns": null,
      "grid_auto_flow": null,
      "grid_auto_rows": null,
      "grid_column": null,
      "grid_gap": null,
      "grid_row": null,
      "grid_template_areas": null,
      "grid_template_columns": null,
      "grid_template_rows": null,
      "height": null,
      "justify_content": null,
      "justify_items": null,
      "left": null,
      "margin": null,
      "max_height": null,
      "max_width": null,
      "min_height": null,
      "min_width": null,
      "object_fit": null,
      "object_position": null,
      "order": null,
      "overflow": null,
      "overflow_x": null,
      "overflow_y": null,
      "padding": null,
      "right": null,
      "top": null,
      "visibility": null,
      "width": null
     }
    },
    "e8263c1da2bd4b51aa2504ba63d9d19e": {
     "model_module": "@jupyter-widgets/controls",
     "model_module_version": "1.5.0",
     "model_name": "FloatProgressModel",
     "state": {
      "_dom_classes": [],
      "_model_module": "@jupyter-widgets/controls",
      "_model_module_version": "1.5.0",
      "_model_name": "FloatProgressModel",
      "_view_count": null,
      "_view_module": "@jupyter-widgets/controls",
      "_view_module_version": "1.5.0",
      "_view_name": "ProgressView",
      "bar_style": "success",
      "description": "",
      "description_tooltip": null,
      "layout": "IPY_MODEL_728352875c3649baa6cf7f0d6d89976a",
      "max": 718,
      "min": 0,
      "orientation": "horizontal",
      "style": "IPY_MODEL_10e9b5626eba404588d5d349909ec486",
      "value": 718
     }
    },
    "ebed73a5ca29444f99d2ddc0e46d0949": {
     "model_module": "@jupyter-widgets/controls",
     "model_module_version": "1.5.0",
     "model_name": "HBoxModel",
     "state": {
      "_dom_classes": [],
      "_model_module": "@jupyter-widgets/controls",
      "_model_module_version": "1.5.0",
      "_model_name": "HBoxModel",
      "_view_count": null,
      "_view_module": "@jupyter-widgets/controls",
      "_view_module_version": "1.5.0",
      "_view_name": "HBoxView",
      "box_style": "",
      "children": [
       "IPY_MODEL_d2aad0ee2e2d48fa91c1f9540e24b89e",
       "IPY_MODEL_b44ba17001474d0eb94a10aa703ae23e",
       "IPY_MODEL_ff5a1c3848dc40689725f0ad4e0c3012"
      ],
      "layout": "IPY_MODEL_1475f0f84cad4d02aaac885f104e48d9"
     }
    },
    "ec7d616c83594d0a862dc055c57fd28e": {
     "model_module": "@jupyter-widgets/base",
     "model_module_version": "1.2.0",
     "model_name": "LayoutModel",
     "state": {
      "_model_module": "@jupyter-widgets/base",
      "_model_module_version": "1.2.0",
      "_model_name": "LayoutModel",
      "_view_count": null,
      "_view_module": "@jupyter-widgets/base",
      "_view_module_version": "1.2.0",
      "_view_name": "LayoutView",
      "align_content": null,
      "align_items": null,
      "align_self": null,
      "border": null,
      "bottom": null,
      "display": null,
      "flex": null,
      "flex_flow": null,
      "grid_area": null,
      "grid_auto_columns": null,
      "grid_auto_flow": null,
      "grid_auto_rows": null,
      "grid_column": null,
      "grid_gap": null,
      "grid_row": null,
      "grid_template_areas": null,
      "grid_template_columns": null,
      "grid_template_rows": null,
      "height": null,
      "justify_content": null,
      "justify_items": null,
      "left": null,
      "margin": null,
      "max_height": null,
      "max_width": null,
      "min_height": null,
      "min_width": null,
      "object_fit": null,
      "object_position": null,
      "order": null,
      "overflow": null,
      "overflow_x": null,
      "overflow_y": null,
      "padding": null,
      "right": null,
      "top": null,
      "visibility": null,
      "width": null
     }
    },
    "ed7d15352a7a4ff5acc67e2a70712074": {
     "model_module": "@jupyter-widgets/controls",
     "model_module_version": "1.5.0",
     "model_name": "ProgressStyleModel",
     "state": {
      "_model_module": "@jupyter-widgets/controls",
      "_model_module_version": "1.5.0",
      "_model_name": "ProgressStyleModel",
      "_view_count": null,
      "_view_module": "@jupyter-widgets/base",
      "_view_module_version": "1.2.0",
      "_view_name": "StyleView",
      "bar_color": null,
      "description_width": ""
     }
    },
    "f0fe9f8a17e74f54924bc7daafc0e890": {
     "model_module": "@jupyter-widgets/base",
     "model_module_version": "1.2.0",
     "model_name": "LayoutModel",
     "state": {
      "_model_module": "@jupyter-widgets/base",
      "_model_module_version": "1.2.0",
      "_model_name": "LayoutModel",
      "_view_count": null,
      "_view_module": "@jupyter-widgets/base",
      "_view_module_version": "1.2.0",
      "_view_name": "LayoutView",
      "align_content": null,
      "align_items": null,
      "align_self": null,
      "border": null,
      "bottom": null,
      "display": null,
      "flex": null,
      "flex_flow": null,
      "grid_area": null,
      "grid_auto_columns": null,
      "grid_auto_flow": null,
      "grid_auto_rows": null,
      "grid_column": null,
      "grid_gap": null,
      "grid_row": null,
      "grid_template_areas": null,
      "grid_template_columns": null,
      "grid_template_rows": null,
      "height": null,
      "justify_content": null,
      "justify_items": null,
      "left": null,
      "margin": null,
      "max_height": null,
      "max_width": null,
      "min_height": null,
      "min_width": null,
      "object_fit": null,
      "object_position": null,
      "order": null,
      "overflow": null,
      "overflow_x": null,
      "overflow_y": null,
      "padding": null,
      "right": null,
      "top": null,
      "visibility": null,
      "width": null
     }
    },
    "f3ec5fb56caf4ba3a99e209736014428": {
     "model_module": "@jupyter-widgets/base",
     "model_module_version": "1.2.0",
     "model_name": "LayoutModel",
     "state": {
      "_model_module": "@jupyter-widgets/base",
      "_model_module_version": "1.2.0",
      "_model_name": "LayoutModel",
      "_view_count": null,
      "_view_module": "@jupyter-widgets/base",
      "_view_module_version": "1.2.0",
      "_view_name": "LayoutView",
      "align_content": null,
      "align_items": null,
      "align_self": null,
      "border": null,
      "bottom": null,
      "display": null,
      "flex": null,
      "flex_flow": null,
      "grid_area": null,
      "grid_auto_columns": null,
      "grid_auto_flow": null,
      "grid_auto_rows": null,
      "grid_column": null,
      "grid_gap": null,
      "grid_row": null,
      "grid_template_areas": null,
      "grid_template_columns": null,
      "grid_template_rows": null,
      "height": null,
      "justify_content": null,
      "justify_items": null,
      "left": null,
      "margin": null,
      "max_height": null,
      "max_width": null,
      "min_height": null,
      "min_width": null,
      "object_fit": null,
      "object_position": null,
      "order": null,
      "overflow": null,
      "overflow_x": null,
      "overflow_y": null,
      "padding": null,
      "right": null,
      "top": null,
      "visibility": null,
      "width": null
     }
    },
    "fc0e190fef7f4f0cbf512f6b66274ce0": {
     "model_module": "@jupyter-widgets/base",
     "model_module_version": "1.2.0",
     "model_name": "LayoutModel",
     "state": {
      "_model_module": "@jupyter-widgets/base",
      "_model_module_version": "1.2.0",
      "_model_name": "LayoutModel",
      "_view_count": null,
      "_view_module": "@jupyter-widgets/base",
      "_view_module_version": "1.2.0",
      "_view_name": "LayoutView",
      "align_content": null,
      "align_items": null,
      "align_self": null,
      "border": null,
      "bottom": null,
      "display": null,
      "flex": null,
      "flex_flow": null,
      "grid_area": null,
      "grid_auto_columns": null,
      "grid_auto_flow": null,
      "grid_auto_rows": null,
      "grid_column": null,
      "grid_gap": null,
      "grid_row": null,
      "grid_template_areas": null,
      "grid_template_columns": null,
      "grid_template_rows": null,
      "height": null,
      "justify_content": null,
      "justify_items": null,
      "left": null,
      "margin": null,
      "max_height": null,
      "max_width": null,
      "min_height": null,
      "min_width": null,
      "object_fit": null,
      "object_position": null,
      "order": null,
      "overflow": null,
      "overflow_x": null,
      "overflow_y": null,
      "padding": null,
      "right": null,
      "top": null,
      "visibility": null,
      "width": null
     }
    },
    "fcf18127c0fa4aee8994b6a351c8c6c0": {
     "model_module": "@jupyter-widgets/base",
     "model_module_version": "1.2.0",
     "model_name": "LayoutModel",
     "state": {
      "_model_module": "@jupyter-widgets/base",
      "_model_module_version": "1.2.0",
      "_model_name": "LayoutModel",
      "_view_count": null,
      "_view_module": "@jupyter-widgets/base",
      "_view_module_version": "1.2.0",
      "_view_name": "LayoutView",
      "align_content": null,
      "align_items": null,
      "align_self": null,
      "border": null,
      "bottom": null,
      "display": null,
      "flex": null,
      "flex_flow": null,
      "grid_area": null,
      "grid_auto_columns": null,
      "grid_auto_flow": null,
      "grid_auto_rows": null,
      "grid_column": null,
      "grid_gap": null,
      "grid_row": null,
      "grid_template_areas": null,
      "grid_template_columns": null,
      "grid_template_rows": null,
      "height": null,
      "justify_content": null,
      "justify_items": null,
      "left": null,
      "margin": null,
      "max_height": null,
      "max_width": null,
      "min_height": null,
      "min_width": null,
      "object_fit": null,
      "object_position": null,
      "order": null,
      "overflow": null,
      "overflow_x": null,
      "overflow_y": null,
      "padding": null,
      "right": null,
      "top": null,
      "visibility": null,
      "width": null
     }
    },
    "fd7144e07cb4411785ecfa7d06c68b45": {
     "model_module": "@jupyter-widgets/controls",
     "model_module_version": "1.5.0",
     "model_name": "DescriptionStyleModel",
     "state": {
      "_model_module": "@jupyter-widgets/controls",
      "_model_module_version": "1.5.0",
      "_model_name": "DescriptionStyleModel",
      "_view_count": null,
      "_view_module": "@jupyter-widgets/base",
      "_view_module_version": "1.2.0",
      "_view_name": "StyleView",
      "description_width": ""
     }
    },
    "fed923aad3244c69b1a17ec51d8380cf": {
     "model_module": "@jupyter-widgets/controls",
     "model_module_version": "1.5.0",
     "model_name": "DescriptionStyleModel",
     "state": {
      "_model_module": "@jupyter-widgets/controls",
      "_model_module_version": "1.5.0",
      "_model_name": "DescriptionStyleModel",
      "_view_count": null,
      "_view_module": "@jupyter-widgets/base",
      "_view_module_version": "1.2.0",
      "_view_name": "StyleView",
      "description_width": ""
     }
    },
    "ff3e10a64e7c4fa690fbd4e1c62221c8": {
     "model_module": "@jupyter-widgets/base",
     "model_module_version": "1.2.0",
     "model_name": "LayoutModel",
     "state": {
      "_model_module": "@jupyter-widgets/base",
      "_model_module_version": "1.2.0",
      "_model_name": "LayoutModel",
      "_view_count": null,
      "_view_module": "@jupyter-widgets/base",
      "_view_module_version": "1.2.0",
      "_view_name": "LayoutView",
      "align_content": null,
      "align_items": null,
      "align_self": null,
      "border": null,
      "bottom": null,
      "display": null,
      "flex": null,
      "flex_flow": null,
      "grid_area": null,
      "grid_auto_columns": null,
      "grid_auto_flow": null,
      "grid_auto_rows": null,
      "grid_column": null,
      "grid_gap": null,
      "grid_row": null,
      "grid_template_areas": null,
      "grid_template_columns": null,
      "grid_template_rows": null,
      "height": null,
      "justify_content": null,
      "justify_items": null,
      "left": null,
      "margin": null,
      "max_height": null,
      "max_width": null,
      "min_height": null,
      "min_width": null,
      "object_fit": null,
      "object_position": null,
      "order": null,
      "overflow": null,
      "overflow_x": null,
      "overflow_y": null,
      "padding": null,
      "right": null,
      "top": null,
      "visibility": null,
      "width": null
     }
    },
    "ff5a1c3848dc40689725f0ad4e0c3012": {
     "model_module": "@jupyter-widgets/controls",
     "model_module_version": "1.5.0",
     "model_name": "HTMLModel",
     "state": {
      "_dom_classes": [],
      "_model_module": "@jupyter-widgets/controls",
      "_model_module_version": "1.5.0",
      "_model_name": "HTMLModel",
      "_view_count": null,
      "_view_module": "@jupyter-widgets/controls",
      "_view_module_version": "1.5.0",
      "_view_name": "HTMLView",
      "description": "",
      "description_tooltip": null,
      "layout": "IPY_MODEL_33cecec46ab14182840d3396303f229c",
      "placeholder": "​",
      "style": "IPY_MODEL_fed923aad3244c69b1a17ec51d8380cf",
      "value": " 1.52G/1.52G [00:04&lt;00:00, 285MB/s]"
     }
    }
   }
  }
 },
 "nbformat": 4,
 "nbformat_minor": 0
}
