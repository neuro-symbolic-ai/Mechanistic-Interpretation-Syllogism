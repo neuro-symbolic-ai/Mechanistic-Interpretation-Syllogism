{
 "cells": [
  {
   "cell_type": "markdown",
   "metadata": {
    "id": "upSc7b_GabVR"
   },
   "source": [
    "# Main Demo\n",
    "## Introduction\n",
    "\n",
    "This Jupyter Notebook contains the code to reproduce the results presented in our paper \"A Mechanistic Interpretation of Syllogistic Reasoning in Auto-Regressive Language Models\".\n",
    "\n",
    "### Contents:\n",
    "1. Setup\n",
    "2. Dataset\n",
    "3. Intervention (Figure 4)\n",
    "4. Evaluation (Figure 5)\n",
    "5. Transferability (Figure 6, Table 2, Figure 3)\n",
    "\n",
    "Note: This demo is provided to ensure transparency and reproducibility of our research. If you encounter any issues or have questions, please contact the authors."
   ]
  },
  {
   "cell_type": "markdown",
   "metadata": {
    "id": "yqrK5YtiabVT"
   },
   "source": [
    "# 1. Setup"
   ]
  },
  {
   "cell_type": "code",
   "execution_count": 1,
   "metadata": {},
   "outputs": [
    {
     "name": "stdout",
     "output_type": "stream",
     "text": [
      "Requirement already satisfied: torch==2.2.0 in /Users/geonhee/miniconda3/envs/mechsyllogism/lib/python3.9/site-packages (2.2.0)\n",
      "Requirement already satisfied: filelock in /Users/geonhee/miniconda3/envs/mechsyllogism/lib/python3.9/site-packages (from torch==2.2.0) (3.17.0)\n",
      "Requirement already satisfied: typing-extensions>=4.8.0 in /Users/geonhee/miniconda3/envs/mechsyllogism/lib/python3.9/site-packages (from torch==2.2.0) (4.12.2)\n",
      "Requirement already satisfied: sympy in /Users/geonhee/miniconda3/envs/mechsyllogism/lib/python3.9/site-packages (from torch==2.2.0) (1.13.1)\n",
      "Requirement already satisfied: networkx in /Users/geonhee/miniconda3/envs/mechsyllogism/lib/python3.9/site-packages (from torch==2.2.0) (3.2.1)\n",
      "Requirement already satisfied: jinja2 in /Users/geonhee/miniconda3/envs/mechsyllogism/lib/python3.9/site-packages (from torch==2.2.0) (3.1.5)\n",
      "Requirement already satisfied: fsspec in /Users/geonhee/miniconda3/envs/mechsyllogism/lib/python3.9/site-packages (from torch==2.2.0) (2024.9.0)\n",
      "Requirement already satisfied: MarkupSafe>=2.0 in /Users/geonhee/miniconda3/envs/mechsyllogism/lib/python3.9/site-packages (from jinja2->torch==2.2.0) (3.0.2)\n",
      "Requirement already satisfied: mpmath<1.4,>=1.1.0 in /Users/geonhee/miniconda3/envs/mechsyllogism/lib/python3.9/site-packages (from sympy->torch==2.2.0) (1.3.0)\n",
      "Requirement already satisfied: plotly==5.19.0 in /Users/geonhee/miniconda3/envs/mechsyllogism/lib/python3.9/site-packages (5.19.0)\n",
      "Requirement already satisfied: tenacity>=6.2.0 in /Users/geonhee/miniconda3/envs/mechsyllogism/lib/python3.9/site-packages (from plotly==5.19.0) (9.0.0)\n",
      "Requirement already satisfied: packaging in /Users/geonhee/miniconda3/envs/mechsyllogism/lib/python3.9/site-packages (from plotly==5.19.0) (24.2)\n",
      "Requirement already satisfied: numpy==1.26.4 in /Users/geonhee/miniconda3/envs/mechsyllogism/lib/python3.9/site-packages (1.26.4)\n",
      "Requirement already satisfied: nbformat==5.9.2 in /Users/geonhee/miniconda3/envs/mechsyllogism/lib/python3.9/site-packages (5.9.2)\n",
      "Requirement already satisfied: fastjsonschema in /Users/geonhee/miniconda3/envs/mechsyllogism/lib/python3.9/site-packages (from nbformat==5.9.2) (2.21.1)\n",
      "Requirement already satisfied: jsonschema>=2.6 in /Users/geonhee/miniconda3/envs/mechsyllogism/lib/python3.9/site-packages (from nbformat==5.9.2) (4.23.0)\n",
      "Requirement already satisfied: jupyter-core in /Users/geonhee/miniconda3/envs/mechsyllogism/lib/python3.9/site-packages (from nbformat==5.9.2) (5.7.2)\n",
      "Requirement already satisfied: traitlets>=5.1 in /Users/geonhee/miniconda3/envs/mechsyllogism/lib/python3.9/site-packages (from nbformat==5.9.2) (5.14.3)\n",
      "Requirement already satisfied: attrs>=22.2.0 in /Users/geonhee/miniconda3/envs/mechsyllogism/lib/python3.9/site-packages (from jsonschema>=2.6->nbformat==5.9.2) (24.3.0)\n",
      "Requirement already satisfied: jsonschema-specifications>=2023.03.6 in /Users/geonhee/miniconda3/envs/mechsyllogism/lib/python3.9/site-packages (from jsonschema>=2.6->nbformat==5.9.2) (2024.10.1)\n",
      "Requirement already satisfied: referencing>=0.28.4 in /Users/geonhee/miniconda3/envs/mechsyllogism/lib/python3.9/site-packages (from jsonschema>=2.6->nbformat==5.9.2) (0.36.1)\n",
      "Requirement already satisfied: rpds-py>=0.7.1 in /Users/geonhee/miniconda3/envs/mechsyllogism/lib/python3.9/site-packages (from jsonschema>=2.6->nbformat==5.9.2) (0.22.3)\n",
      "Requirement already satisfied: platformdirs>=2.5 in /Users/geonhee/miniconda3/envs/mechsyllogism/lib/python3.9/site-packages (from jupyter-core->nbformat==5.9.2) (4.3.6)\n",
      "Requirement already satisfied: typing-extensions>=4.4.0 in /Users/geonhee/miniconda3/envs/mechsyllogism/lib/python3.9/site-packages (from referencing>=0.28.4->jsonschema>=2.6->nbformat==5.9.2) (4.12.2)\n",
      "Requirement already satisfied: kaleido==0.2.1 in /Users/geonhee/miniconda3/envs/mechsyllogism/lib/python3.9/site-packages (0.2.1)\n",
      "Requirement already satisfied: transformer_lens in /Users/geonhee/miniconda3/envs/mechsyllogism/lib/python3.9/site-packages (2.11.0)\n",
      "Requirement already satisfied: accelerate>=0.23.0 in /Users/geonhee/miniconda3/envs/mechsyllogism/lib/python3.9/site-packages (from transformer_lens) (1.3.0)\n",
      "Requirement already satisfied: beartype<0.15.0,>=0.14.1 in /Users/geonhee/miniconda3/envs/mechsyllogism/lib/python3.9/site-packages (from transformer_lens) (0.14.1)\n",
      "Requirement already satisfied: better-abc<0.0.4,>=0.0.3 in /Users/geonhee/miniconda3/envs/mechsyllogism/lib/python3.9/site-packages (from transformer_lens) (0.0.3)\n",
      "Requirement already satisfied: datasets>=2.7.1 in /Users/geonhee/miniconda3/envs/mechsyllogism/lib/python3.9/site-packages (from transformer_lens) (3.2.0)\n",
      "Requirement already satisfied: einops>=0.6.0 in /Users/geonhee/miniconda3/envs/mechsyllogism/lib/python3.9/site-packages (from transformer_lens) (0.8.0)\n",
      "Requirement already satisfied: fancy-einsum>=0.0.3 in /Users/geonhee/miniconda3/envs/mechsyllogism/lib/python3.9/site-packages (from transformer_lens) (0.0.3)\n",
      "Requirement already satisfied: jaxtyping>=0.2.11 in /Users/geonhee/miniconda3/envs/mechsyllogism/lib/python3.9/site-packages (from transformer_lens) (0.2.36)\n",
      "Requirement already satisfied: numpy>=1.24 in /Users/geonhee/miniconda3/envs/mechsyllogism/lib/python3.9/site-packages (from transformer_lens) (1.26.4)\n",
      "Requirement already satisfied: pandas>=1.1.5 in /Users/geonhee/miniconda3/envs/mechsyllogism/lib/python3.9/site-packages (from transformer_lens) (2.2.3)\n",
      "Requirement already satisfied: rich>=12.6.0 in /Users/geonhee/miniconda3/envs/mechsyllogism/lib/python3.9/site-packages (from transformer_lens) (13.9.4)\n",
      "Requirement already satisfied: sentencepiece in /Users/geonhee/miniconda3/envs/mechsyllogism/lib/python3.9/site-packages (from transformer_lens) (0.2.0)\n",
      "Requirement already satisfied: torch!=2.0,!=2.1.0,>=1.10 in /Users/geonhee/miniconda3/envs/mechsyllogism/lib/python3.9/site-packages (from transformer_lens) (2.2.0)\n",
      "Requirement already satisfied: tqdm>=4.64.1 in /Users/geonhee/miniconda3/envs/mechsyllogism/lib/python3.9/site-packages (from transformer_lens) (4.67.1)\n",
      "Requirement already satisfied: transformers>=4.37.2 in /Users/geonhee/miniconda3/envs/mechsyllogism/lib/python3.9/site-packages (from transformer_lens) (4.48.1)\n",
      "Requirement already satisfied: typeguard<5.0,>=4.2 in /Users/geonhee/miniconda3/envs/mechsyllogism/lib/python3.9/site-packages (from transformer_lens) (4.4.1)\n",
      "Requirement already satisfied: typing-extensions in /Users/geonhee/miniconda3/envs/mechsyllogism/lib/python3.9/site-packages (from transformer_lens) (4.12.2)\n",
      "Requirement already satisfied: wandb>=0.13.5 in /Users/geonhee/miniconda3/envs/mechsyllogism/lib/python3.9/site-packages (from transformer_lens) (0.19.4)\n",
      "Requirement already satisfied: packaging>=20.0 in /Users/geonhee/miniconda3/envs/mechsyllogism/lib/python3.9/site-packages (from accelerate>=0.23.0->transformer_lens) (24.2)\n",
      "Requirement already satisfied: psutil in /Users/geonhee/miniconda3/envs/mechsyllogism/lib/python3.9/site-packages (from accelerate>=0.23.0->transformer_lens) (5.8.0)\n",
      "Requirement already satisfied: pyyaml in /Users/geonhee/miniconda3/envs/mechsyllogism/lib/python3.9/site-packages (from accelerate>=0.23.0->transformer_lens) (6.0.2)\n",
      "Requirement already satisfied: huggingface-hub>=0.21.0 in /Users/geonhee/miniconda3/envs/mechsyllogism/lib/python3.9/site-packages (from accelerate>=0.23.0->transformer_lens) (0.27.1)\n",
      "Requirement already satisfied: safetensors>=0.4.3 in /Users/geonhee/miniconda3/envs/mechsyllogism/lib/python3.9/site-packages (from accelerate>=0.23.0->transformer_lens) (0.5.2)\n",
      "Requirement already satisfied: filelock in /Users/geonhee/miniconda3/envs/mechsyllogism/lib/python3.9/site-packages (from datasets>=2.7.1->transformer_lens) (3.17.0)\n",
      "Requirement already satisfied: pyarrow>=15.0.0 in /Users/geonhee/miniconda3/envs/mechsyllogism/lib/python3.9/site-packages (from datasets>=2.7.1->transformer_lens) (19.0.0)\n",
      "Requirement already satisfied: dill<0.3.9,>=0.3.0 in /Users/geonhee/miniconda3/envs/mechsyllogism/lib/python3.9/site-packages (from datasets>=2.7.1->transformer_lens) (0.3.8)\n",
      "Requirement already satisfied: requests>=2.32.2 in /Users/geonhee/miniconda3/envs/mechsyllogism/lib/python3.9/site-packages (from datasets>=2.7.1->transformer_lens) (2.32.3)\n",
      "Requirement already satisfied: xxhash in /Users/geonhee/miniconda3/envs/mechsyllogism/lib/python3.9/site-packages (from datasets>=2.7.1->transformer_lens) (3.5.0)\n",
      "Requirement already satisfied: multiprocess<0.70.17 in /Users/geonhee/miniconda3/envs/mechsyllogism/lib/python3.9/site-packages (from datasets>=2.7.1->transformer_lens) (0.70.16)\n",
      "Requirement already satisfied: fsspec<=2024.9.0,>=2023.1.0 in /Users/geonhee/miniconda3/envs/mechsyllogism/lib/python3.9/site-packages (from fsspec[http]<=2024.9.0,>=2023.1.0->datasets>=2.7.1->transformer_lens) (2024.9.0)\n",
      "Requirement already satisfied: aiohttp in /Users/geonhee/miniconda3/envs/mechsyllogism/lib/python3.9/site-packages (from datasets>=2.7.1->transformer_lens) (3.11.11)\n",
      "Requirement already satisfied: python-dateutil>=2.8.2 in /Users/geonhee/miniconda3/envs/mechsyllogism/lib/python3.9/site-packages (from pandas>=1.1.5->transformer_lens) (2.9.0.post0)\n",
      "Requirement already satisfied: pytz>=2020.1 in /Users/geonhee/miniconda3/envs/mechsyllogism/lib/python3.9/site-packages (from pandas>=1.1.5->transformer_lens) (2024.2)\n",
      "Requirement already satisfied: tzdata>=2022.7 in /Users/geonhee/miniconda3/envs/mechsyllogism/lib/python3.9/site-packages (from pandas>=1.1.5->transformer_lens) (2025.1)\n",
      "Requirement already satisfied: markdown-it-py>=2.2.0 in /Users/geonhee/miniconda3/envs/mechsyllogism/lib/python3.9/site-packages (from rich>=12.6.0->transformer_lens) (3.0.0)\n",
      "Requirement already satisfied: pygments<3.0.0,>=2.13.0 in /Users/geonhee/miniconda3/envs/mechsyllogism/lib/python3.9/site-packages (from rich>=12.6.0->transformer_lens) (2.19.1)\n",
      "Requirement already satisfied: sympy in /Users/geonhee/miniconda3/envs/mechsyllogism/lib/python3.9/site-packages (from torch!=2.0,!=2.1.0,>=1.10->transformer_lens) (1.13.1)\n",
      "Requirement already satisfied: networkx in /Users/geonhee/miniconda3/envs/mechsyllogism/lib/python3.9/site-packages (from torch!=2.0,!=2.1.0,>=1.10->transformer_lens) (3.2.1)\n",
      "Requirement already satisfied: jinja2 in /Users/geonhee/miniconda3/envs/mechsyllogism/lib/python3.9/site-packages (from torch!=2.0,!=2.1.0,>=1.10->transformer_lens) (3.1.5)\n",
      "Requirement already satisfied: regex!=2019.12.17 in /Users/geonhee/miniconda3/envs/mechsyllogism/lib/python3.9/site-packages (from transformers>=4.37.2->transformer_lens) (2024.11.6)\n",
      "Requirement already satisfied: tokenizers<0.22,>=0.21 in /Users/geonhee/miniconda3/envs/mechsyllogism/lib/python3.9/site-packages (from transformers>=4.37.2->transformer_lens) (0.21.0)\n",
      "Requirement already satisfied: importlib-metadata>=3.6 in /Users/geonhee/miniconda3/envs/mechsyllogism/lib/python3.9/site-packages (from typeguard<5.0,>=4.2->transformer_lens) (8.6.1)\n",
      "Requirement already satisfied: click!=8.0.0,>=7.1 in /Users/geonhee/miniconda3/envs/mechsyllogism/lib/python3.9/site-packages (from wandb>=0.13.5->transformer_lens) (8.1.8)\n",
      "Requirement already satisfied: docker-pycreds>=0.4.0 in /Users/geonhee/miniconda3/envs/mechsyllogism/lib/python3.9/site-packages (from wandb>=0.13.5->transformer_lens) (0.4.0)\n",
      "Requirement already satisfied: eval-type-backport in /Users/geonhee/miniconda3/envs/mechsyllogism/lib/python3.9/site-packages (from wandb>=0.13.5->transformer_lens) (0.2.2)\n",
      "Requirement already satisfied: gitpython!=3.1.29,>=1.0.0 in /Users/geonhee/miniconda3/envs/mechsyllogism/lib/python3.9/site-packages (from wandb>=0.13.5->transformer_lens) (3.1.44)\n",
      "Requirement already satisfied: platformdirs in /Users/geonhee/miniconda3/envs/mechsyllogism/lib/python3.9/site-packages (from wandb>=0.13.5->transformer_lens) (4.3.6)\n",
      "Requirement already satisfied: protobuf!=4.21.0,!=5.28.0,<6,>=3.19.0 in /Users/geonhee/miniconda3/envs/mechsyllogism/lib/python3.9/site-packages (from wandb>=0.13.5->transformer_lens) (5.29.3)\n",
      "Requirement already satisfied: pydantic<3,>=2.6 in /Users/geonhee/miniconda3/envs/mechsyllogism/lib/python3.9/site-packages (from wandb>=0.13.5->transformer_lens) (2.10.6)\n",
      "Requirement already satisfied: sentry-sdk>=2.0.0 in /Users/geonhee/miniconda3/envs/mechsyllogism/lib/python3.9/site-packages (from wandb>=0.13.5->transformer_lens) (2.20.0)\n",
      "Requirement already satisfied: setproctitle in /Users/geonhee/miniconda3/envs/mechsyllogism/lib/python3.9/site-packages (from wandb>=0.13.5->transformer_lens) (1.3.4)\n",
      "Requirement already satisfied: setuptools in /Users/geonhee/miniconda3/envs/mechsyllogism/lib/python3.9/site-packages (from wandb>=0.13.5->transformer_lens) (75.1.0)\n",
      "Requirement already satisfied: six>=1.4.0 in /Users/geonhee/miniconda3/envs/mechsyllogism/lib/python3.9/site-packages (from docker-pycreds>=0.4.0->wandb>=0.13.5->transformer_lens) (1.17.0)\n",
      "Requirement already satisfied: aiohappyeyeballs>=2.3.0 in /Users/geonhee/miniconda3/envs/mechsyllogism/lib/python3.9/site-packages (from aiohttp->datasets>=2.7.1->transformer_lens) (2.4.4)\n",
      "Requirement already satisfied: aiosignal>=1.1.2 in /Users/geonhee/miniconda3/envs/mechsyllogism/lib/python3.9/site-packages (from aiohttp->datasets>=2.7.1->transformer_lens) (1.3.2)\n",
      "Requirement already satisfied: async-timeout<6.0,>=4.0 in /Users/geonhee/miniconda3/envs/mechsyllogism/lib/python3.9/site-packages (from aiohttp->datasets>=2.7.1->transformer_lens) (5.0.1)\n",
      "Requirement already satisfied: attrs>=17.3.0 in /Users/geonhee/miniconda3/envs/mechsyllogism/lib/python3.9/site-packages (from aiohttp->datasets>=2.7.1->transformer_lens) (24.3.0)\n",
      "Requirement already satisfied: frozenlist>=1.1.1 in /Users/geonhee/miniconda3/envs/mechsyllogism/lib/python3.9/site-packages (from aiohttp->datasets>=2.7.1->transformer_lens) (1.5.0)\n",
      "Requirement already satisfied: multidict<7.0,>=4.5 in /Users/geonhee/miniconda3/envs/mechsyllogism/lib/python3.9/site-packages (from aiohttp->datasets>=2.7.1->transformer_lens) (6.1.0)\n",
      "Requirement already satisfied: propcache>=0.2.0 in /Users/geonhee/miniconda3/envs/mechsyllogism/lib/python3.9/site-packages (from aiohttp->datasets>=2.7.1->transformer_lens) (0.2.1)\n",
      "Requirement already satisfied: yarl<2.0,>=1.17.0 in /Users/geonhee/miniconda3/envs/mechsyllogism/lib/python3.9/site-packages (from aiohttp->datasets>=2.7.1->transformer_lens) (1.18.3)\n",
      "Requirement already satisfied: gitdb<5,>=4.0.1 in /Users/geonhee/miniconda3/envs/mechsyllogism/lib/python3.9/site-packages (from gitpython!=3.1.29,>=1.0.0->wandb>=0.13.5->transformer_lens) (4.0.12)\n",
      "Requirement already satisfied: zipp>=3.20 in /Users/geonhee/miniconda3/envs/mechsyllogism/lib/python3.9/site-packages (from importlib-metadata>=3.6->typeguard<5.0,>=4.2->transformer_lens) (3.21.0)\n",
      "Requirement already satisfied: mdurl~=0.1 in /Users/geonhee/miniconda3/envs/mechsyllogism/lib/python3.9/site-packages (from markdown-it-py>=2.2.0->rich>=12.6.0->transformer_lens) (0.1.2)\n",
      "Requirement already satisfied: annotated-types>=0.6.0 in /Users/geonhee/miniconda3/envs/mechsyllogism/lib/python3.9/site-packages (from pydantic<3,>=2.6->wandb>=0.13.5->transformer_lens) (0.7.0)\n",
      "Requirement already satisfied: pydantic-core==2.27.2 in /Users/geonhee/miniconda3/envs/mechsyllogism/lib/python3.9/site-packages (from pydantic<3,>=2.6->wandb>=0.13.5->transformer_lens) (2.27.2)\n",
      "Requirement already satisfied: charset-normalizer<4,>=2 in /Users/geonhee/miniconda3/envs/mechsyllogism/lib/python3.9/site-packages (from requests>=2.32.2->datasets>=2.7.1->transformer_lens) (3.4.1)\n",
      "Requirement already satisfied: idna<4,>=2.5 in /Users/geonhee/miniconda3/envs/mechsyllogism/lib/python3.9/site-packages (from requests>=2.32.2->datasets>=2.7.1->transformer_lens) (3.10)\n",
      "Requirement already satisfied: urllib3<3,>=1.21.1 in /Users/geonhee/miniconda3/envs/mechsyllogism/lib/python3.9/site-packages (from requests>=2.32.2->datasets>=2.7.1->transformer_lens) (2.3.0)\n",
      "Requirement already satisfied: certifi>=2017.4.17 in /Users/geonhee/miniconda3/envs/mechsyllogism/lib/python3.9/site-packages (from requests>=2.32.2->datasets>=2.7.1->transformer_lens) (2024.12.14)\n",
      "Requirement already satisfied: MarkupSafe>=2.0 in /Users/geonhee/miniconda3/envs/mechsyllogism/lib/python3.9/site-packages (from jinja2->torch!=2.0,!=2.1.0,>=1.10->transformer_lens) (3.0.2)\n",
      "Requirement already satisfied: mpmath<1.4,>=1.1.0 in /Users/geonhee/miniconda3/envs/mechsyllogism/lib/python3.9/site-packages (from sympy->torch!=2.0,!=2.1.0,>=1.10->transformer_lens) (1.3.0)\n",
      "Requirement already satisfied: smmap<6,>=3.0.1 in /Users/geonhee/miniconda3/envs/mechsyllogism/lib/python3.9/site-packages (from gitdb<5,>=4.0.1->gitpython!=3.1.29,>=1.0.0->wandb>=0.13.5->transformer_lens) (5.0.2)\n"
     ]
    }
   ],
   "source": [
    "# if colab\n",
    "!pip install torch==2.2.0\n",
    "!pip install plotly==5.19.0\n",
    "!pip install numpy==1.26.4\n",
    "!pip install nbformat==5.9.2\n",
    "!pip install kaleido==0.2.1\n",
    "!pip install transformer_lens\n",
    "#!pip install circuitsvis"
   ]
  },
  {
   "cell_type": "code",
   "execution_count": null,
   "metadata": {
    "colab": {
     "base_uri": "https://localhost:8080/"
    },
    "id": "cCzKBMxqabVU",
    "outputId": "dc6e2967-dd5f-4995-a330-3247c547e0c3"
   },
   "outputs": [
    {
     "name": "stderr",
     "output_type": "stream",
     "text": [
      "/Users/geonhee/miniconda3/envs/mechsyllogism/lib/python3.9/site-packages/tqdm/auto.py:21: TqdmWarning: IProgress not found. Please update jupyter and ipywidgets. See https://ipywidgets.readthedocs.io/en/stable/user_install.html\n",
      "  from .autonotebook import tqdm as notebook_tqdm\n"
     ]
    },
    {
     "data": {
      "text/plain": [
       "<module 'helper_functions' from '/Users/geonhee/Research/Project/Mechanistic-Interpretation-Syllogism/app/helper_functions.py'>"
      ]
     },
     "execution_count": 2,
     "metadata": {},
     "output_type": "execute_result"
    }
   ],
   "source": [
    "# Import libraries\n",
    "import torch as t\n",
    "import sys\n",
    "import os\n",
    "from torch import Tensor\n",
    "import random\n",
    "from functools import partial\n",
    "import importlib\n",
    "import circuitsvis as cv\n",
    "from transformer_lens.hook_points import HookPoint\n",
    "from transformer_lens import utils, HookedTransformer, HookedTransformerConfig, FactoredMatrix, ActivationCache\n",
    "from transformers import AutoTokenizer, AutoModelForCausalLM\n",
    "# Get the current working directory (cwd) instead of __file__ in Jupyter Notebook\n",
    "current_path = os.getcwd()\n",
    "\n",
    "# Add the parent directory to Python's path\n",
    "parent_path = os.path.abspath(os.path.join(current_path, \"../app/\"))\n",
    "sys.path.insert(0, parent_path)\n",
    "\n",
    "# Import your module\n",
    "import importlib\n",
    "from global_variables import IMAGE_DIR, DATASET_DIR\n",
    "from prepare_dataset import SyllogismDataset\n",
    "import helper_functions as h\n",
    "import plot_utils as pu\n",
    "t.set_grad_enabled(False)\n",
    "\n",
    "# Reload the package\n",
    "#importlib.reload(pu)\n",
    "#importlib.reload(h)"
   ]
  },
  {
   "cell_type": "code",
   "execution_count": 3,
   "metadata": {
    "id": "HR5D5WR7abVV"
   },
   "outputs": [],
   "source": [
    "# Device Setup\n",
    "device = t.device(\"cuda\" if t.cuda.is_available() else \"cpu\")\n",
    "device = t.device(\"mps\") # if machine has mps setup"
   ]
  },
  {
   "cell_type": "code",
   "execution_count": 74,
   "metadata": {
    "colab": {
     "base_uri": "https://localhost:8080/",
     "height": 386,
     "referenced_widgets": [
      "58ebdce076cf468fa948d6dd7ff78232",
      "d2f07839e6c4415eb7a799e436a25410",
      "e8263c1da2bd4b51aa2504ba63d9d19e",
      "6c72a02d62be45dbae42bc5d9153094a",
      "ec7d616c83594d0a862dc055c57fd28e",
      "ad4ab812967846448fdfce651ccb7063",
      "c4f9ee72b5334cb7ac457ee2a6736b82",
      "728352875c3649baa6cf7f0d6d89976a",
      "10e9b5626eba404588d5d349909ec486",
      "df5844b17e104330a194d81827e4794d",
      "6f87853b23f3435baf6e6e970d5cf8be",
      "ebed73a5ca29444f99d2ddc0e46d0949",
      "d2aad0ee2e2d48fa91c1f9540e24b89e",
      "b44ba17001474d0eb94a10aa703ae23e",
      "ff5a1c3848dc40689725f0ad4e0c3012",
      "1475f0f84cad4d02aaac885f104e48d9",
      "fcf18127c0fa4aee8994b6a351c8c6c0",
      "fd7144e07cb4411785ecfa7d06c68b45",
      "97ddff9129b34fbca679aeee70a6310c",
      "6d384726355140329f3c9cec99f2b395",
      "33cecec46ab14182840d3396303f229c",
      "fed923aad3244c69b1a17ec51d8380cf",
      "b1fbf0dc5b6b4ca1ba4303f330112122",
      "b42a8c1873cd41ca84c74775f3bc3014",
      "1810e9bf39a64d6e8bd795153bdab947",
      "df2280b11cca4ae3a44ece30aa85fe8a",
      "ff3e10a64e7c4fa690fbd4e1c62221c8",
      "4ce72097fd2d414bae15d314e84c1601",
      "0549de5fea7f43c5bae919e42514e88f",
      "cea3622a112048889abf9790a36a3430",
      "2e4d1feb03464831a39690cca8418e7b",
      "ddfe0041c56d424492e4bdccacb17fe5",
      "8f84e67ce76a4f009dc53961229a3f40",
      "b230a0231c3349b3b78463283b78cbaa",
      "9019b75f46004013ac4c502878108597",
      "cda198e4dca048a283ba5a0db23ffe5f",
      "0a5ac1ac6c55452783252a7a5b3665eb",
      "b3103efc6a9a40df997b20da2c23488c",
      "25c788619b2c497d88e32e6e74697ef3",
      "d9e547160a0d4be1be8cc9af0baa5a0c",
      "d372cc34d5ce40c7ae3aeb53bf56e410",
      "9c83aa96318445b3a705a27a4bf4f7b5",
      "7489ebacd06f46d8a81396c503e86db7",
      "04ef4130edac4e19805114902c6f047d",
      "179347415dc84f1ba67267d2cf808a3b",
      "40d1f18f0ac240dab72ed6c921f93e17",
      "9782344c7d1e4287be6ede79db520a88",
      "da1fa4aa225b48778d1e0f6196ce0323",
      "7070592c7f694442aeb72acc40a4105e",
      "af2f08e8e62d46648d2936fbdbd27f92",
      "aa966b9d9b4d41528b60ccffd9e5ecf4",
      "e7abbf03372d40af9ea192479e73603a",
      "31733f0e8a6c41848b0fe6235bae9195",
      "a0e2039b234c45d0a15f7c7dc2119288",
      "8a1b8930a65d47a2bda487042d92d54b",
      "3f751c0c58404c4c9157a41f6d4c6aa3",
      "1fabef23d47443efbc63e689389bf2f6",
      "2086182957284546aa4866bbf38cb622",
      "61f65572174e4fe58bee89e54804b9fb",
      "2c035786cb5f43cab56db915ebde9cea",
      "622fcaa686cf4c0f8b6fdf6e0ab4fc06",
      "5dc6671fcf844de5b5922a918fd064f2",
      "5547eb66254747ba97fa9ca97a6058de",
      "e7837e02d9ef4f8abf76415df685a193",
      "fc0e190fef7f4f0cbf512f6b66274ce0",
      "50efcb39d43747c6a6b75d4f1a82a905",
      "92cc046da26347febf724c4e777a4d5d",
      "1efe288b09044c59a1a61567fea01381",
      "5122e29250c14689b0e3798d301bd8d9",
      "21a1664eed0a43699dd839eef5dfcdef",
      "3cb013ab69c74952af3fe8ec62e9240d",
      "f0fe9f8a17e74f54924bc7daafc0e890",
      "4aece1edc32649f7be3a032f09bec1d9",
      "162defd82a544996a9246503f1d87d8e",
      "ed7d15352a7a4ff5acc67e2a70712074",
      "f3ec5fb56caf4ba3a99e209736014428",
      "1d8fa38139fd46a1b907e58c8f492cee"
     ]
    },
    "id": "t9VL-KKbabVV",
    "outputId": "9e0c8905-56eb-4e4a-a3fa-51a982fbc194"
   },
   "outputs": [
    {
     "name": "stdout",
     "output_type": "stream",
     "text": [
      "Loaded pretrained model pythia-1b into HookedTransformer\n"
     ]
    }
   ],
   "source": [
    "# Import the model-medium Through HookedTransformer\n",
    "gpt2 = [\"gpt2-small\", \"gpt2-medium\", \"gpt2-large\", \"gpt2-xl\"]\n",
    "pythia = \"pythia-1b\"\n",
    "\n",
    "current_model = gpt2[1] # medium\n",
    "current_model = pythia\n",
    "\n",
    "model = HookedTransformer.from_pretrained(\n",
    "    current_model,\n",
    "    fold_ln=False,\n",
    "    device = device\n",
    ")"
   ]
  },
  {
   "cell_type": "code",
   "execution_count": 33,
   "metadata": {},
   "outputs": [],
   "source": [
    "# if fine-tuned model is used\n",
    "# model_name = \"DebateLabKIT/cript-medium\"  # Example: 'bert-base-uncased', 'gpt2', etc.\n",
    "# f_tokenizer = AutoTokenizer.from_pretrained(model_name)\n",
    "# f_model = AutoModelForCausalLM.from_pretrained(model_name)\n",
    "# f_model = f_model.to(device)\n",
    "\n",
    "# model = h.align_fine_tuning_gpt2(model, f_model, device)\n",
    "\n",
    "# current_model = \"cript-medium\""
   ]
  },
  {
   "cell_type": "code",
   "execution_count": 34,
   "metadata": {
    "id": "rN5_robqabVV"
   },
   "outputs": [
    {
     "name": "stdout",
     "output_type": "stream",
     "text": [
      "Image Directory: ../images/pythia-31m\n"
     ]
    }
   ],
   "source": [
    "# label setup for sequence\n",
    "image_dir = IMAGE_DIR / current_model\n",
    "print(f\"Image Directory: {image_dir}\")\n",
    "labels = [\n",
    "    \"BEGIN\",\n",
    "    \"s_1\",\n",
    "    \"s_1 -> m_1\",\n",
    "    \"m_1\",\n",
    "    \"m_1 -> m_2\",\n",
    "    \"m_2\",\n",
    "    \"m_2 -> p\",\n",
    "    \"p\",\n",
    "    \"p -> s_2\",\n",
    "    \"s_2\",\n",
    "    \"END\"\n",
    "]"
   ]
  },
  {
   "cell_type": "markdown",
   "metadata": {
    "id": "UoHnar8YabVW"
   },
   "source": [
    "# 2. Dataset"
   ]
  },
  {
   "cell_type": "code",
   "execution_count": 47,
   "metadata": {
    "id": "tEucO8PWabVW"
   },
   "outputs": [],
   "source": [
    "# Ensure the Dataset folder and dataset_generator.py file is in the same directory as this notebook\n",
    "# This file contains the custom data generation functions used in our experiments\n",
    "# 90 samples for each dataset, seed is set to 317 for reproducibility\n",
    "N = 30\n",
    "seed = 317"
   ]
  },
  {
   "cell_type": "code",
   "execution_count": 36,
   "metadata": {
    "colab": {
     "base_uri": "https://localhost:8080/"
    },
    "id": "O31NI6OHabVW",
    "outputId": "22a871e0-5139-4662-c330-ec989b760e69"
   },
   "outputs": [
    {
     "name": "stdout",
     "output_type": "stream",
     "text": [
      "All O are A. All A are W. Therefore, all O are =>  W\n",
      "All O are W. All W are A. Therefore, all O are =>  A\n",
      "All A are O. All O are W. Therefore, all A are =>  W\n",
      "All A are W. All W are O. Therefore, all A are =>  O\n",
      "All W are O. All O are A. Therefore, all W are =>  A\n",
      "All W are A. All A are O. Therefore, all W are =>  O\n"
     ]
    }
   ],
   "source": [
    "# Symbolic\n",
    "s_dataset = SyllogismDataset(\n",
    "            N=N/6, # because of permutation\n",
    "            seed=seed,\n",
    "            device=device,\n",
    "            type='symbolic',\n",
    "            template_type='AAA1'\n",
    "        )\n",
    "for s, l in zip(s_dataset.sentences[:6], s_dataset.labels[:6]):\n",
    "    print(f'{s} => {l}')"
   ]
  },
  {
   "cell_type": "code",
   "execution_count": 37,
   "metadata": {
    "colab": {
     "base_uri": "https://localhost:8080/"
    },
    "id": "q21_0M8kabVW",
    "outputId": "a0aa2d32-ae5f-4b15-adb0-63180df873c1"
   },
   "outputs": [
    {
     "data": {
      "text/plain": [
       "30"
      ]
     },
     "execution_count": 37,
     "metadata": {},
     "output_type": "execute_result"
    }
   ],
   "source": [
    "len(s_dataset.sentences)"
   ]
  },
  {
   "cell_type": "code",
   "execution_count": 38,
   "metadata": {
    "colab": {
     "base_uri": "https://localhost:8080/"
    },
    "id": "GQQQqZtRabVX",
    "outputId": "02d515dd-f45f-4434-8423-e74f7d5db4dc"
   },
   "outputs": [
    {
     "name": "stdout",
     "output_type": "stream",
     "text": [
      "All men are humans. All humans are mortal. Therefore, all men are =>  mortal\n",
      "All dens are units. All units are parts. Therefore, all dens are =>  parts\n",
      "All pets are animals. All animals are organisms. Therefore, all pets are =>  organisms\n",
      "All openings are starts. All starts are beginnings. Therefore, all openings are =>  beginnings\n",
      "All fronts are sides. All sides are surfaces. Therefore, all fronts are =>  surfaces\n",
      "All fences are boundaries. All boundaries are lines. Therefore, all fences are =>  lines\n"
     ]
    }
   ],
   "source": [
    "# Belief-Consistent\n",
    "bc_dataset = SyllogismDataset(\n",
    "            N=N,\n",
    "            seed=seed,\n",
    "            device=device,\n",
    "            type='consistent',\n",
    "            template_type='AAA1'\n",
    "        )\n",
    "for s, l in zip(bc_dataset.sentences[:6], bc_dataset.labels[:6]):\n",
    "    print(f'{s} => {l}')"
   ]
  },
  {
   "cell_type": "code",
   "execution_count": 39,
   "metadata": {
    "colab": {
     "base_uri": "https://localhost:8080/"
    },
    "id": "ht-U-pU0abVX",
    "outputId": "7373088c-ecf2-4534-cfb3-5f300dcebed6"
   },
   "outputs": [
    {
     "name": "stdout",
     "output_type": "stream",
     "text": [
      "All patients are cases. All cases are arguments. Therefore, all patients are =>  arguments\n",
      "All allegations are claims. All claims are rights. Therefore, all allegations are =>  rights\n",
      "All wards are people. All people are judges. Therefore, all wards are =>  judges\n",
      "All losers are people. All people are racists. Therefore, all losers are =>  racists\n",
      "All aliens are people. All people are parents. Therefore, all aliens are =>  parents\n",
      "All expectations are feelings. All feelings are sensitivity. Therefore, all expectations are =>  sensitivity\n"
     ]
    }
   ],
   "source": [
    "# Belief-Inconsistent\n",
    "bi_dataset = SyllogismDataset(\n",
    "            N=N,\n",
    "            seed=seed,\n",
    "            device=device,\n",
    "            type='inconsistent',\n",
    "            template_type='AAA1'\n",
    "        )\n",
    "for s, l in zip(bi_dataset.sentences[:6], bi_dataset.labels[:6]):\n",
    "    print(f'{s} => {l}')"
   ]
  },
  {
   "cell_type": "markdown",
   "metadata": {
    "id": "WnwBaIfXabVX"
   },
   "source": [
    "# 3. Empirical Evaluation Part"
   ]
  },
  {
   "cell_type": "markdown",
   "metadata": {
    "id": "oDL0yrbNabVX"
   },
   "source": [
    "## Localization of Transitive Reasoning Mechanisms"
   ]
  },
  {
   "cell_type": "code",
   "execution_count": 53,
   "metadata": {
    "id": "Ri84ktKTabVX"
   },
   "outputs": [],
   "source": [
    "# corruption function setup\n",
    "ALPHABET_LIST = [' A', ' B', ' C', ' D', ' E', ' F', ' G', ' H', ' I', ' J', ' K', ' L', ' M', ' N', ' O', ' P', ' Q', ' R', ' S', ' T', ' U', ' V', ' W', ' X', ' Y', ' Z']\n",
    "NUMBER_LIST = [' 1', ' 2', ' 3', ' 4', ' 5',' 6',' 7',' 8',' 9']\n",
    "def middle_term_corrupt(prompts, As, Bs, labels, prompt_type):\n",
    "    if prompt_type == 'symbolic':\n",
    "        candidates = ALPHABET_LIST\n",
    "    elif prompt_type == 'numeric':\n",
    "        candidates = NUMBER_LIST\n",
    "    elif prompt_type == 'non-symbolic':\n",
    "        candidates = bc_dataset.A + bc_dataset.B\n",
    "\n",
    "    corrupted_prompts = []\n",
    "\n",
    "    for i in range(len(prompts)):\n",
    "        prompt = prompts[i]\n",
    "        label = labels[i]\n",
    "        corrupted_labels = []\n",
    "        A = As[i]\n",
    "        B = Bs[i]\n",
    "\n",
    "        new_list = list(filter(lambda x: x not in [A, B, label], candidates))\n",
    "        target = random.choice(new_list)\n",
    "        corrupted_prompt = prompt.replace('All' + B , 'All'+ target)\n",
    "        corrupted_prompts.append(corrupted_prompt)\n",
    "        corrupted_labels.append(target)\n",
    "\n",
    "    return corrupted_prompts\n",
    "\n",
    "\n",
    "def all_term_corrupt(prompts, As, Bs, labels, prompt_type):\n",
    "    if prompt_type == 'symbolic':\n",
    "        candidates = ALPHABET_LIST\n",
    "    elif prompt_type == 'numeric':\n",
    "        candidates = NUMBER_LIST\n",
    "    elif prompt_type == 'non-symbolic':\n",
    "        candidates = bc_dataset.A + bc_dataset.B\n",
    "\n",
    "    corrupted_prompts = []\n",
    "    for i in range(len(prompts)):\n",
    "        prompt = prompts[i]\n",
    "        label = labels[i]\n",
    "        A = As[i]\n",
    "        B = Bs[i]\n",
    "        new_list = list(filter(lambda x: x not in [A, B, label], candidates))\n",
    "        target = random.sample(new_list, 3)\n",
    "        corrupted_prompt = 'All' + target[0] + ' are' + target[1] + '. All' + target[1] + ' are' + target[2] + '. Therefore, all' + target[0] + ' are'\n",
    "        corrupted_prompts.append(corrupted_prompt)\n",
    "    return corrupted_prompts\n",
    "\n"
   ]
  },
  {
   "cell_type": "code",
   "execution_count": 54,
   "metadata": {
    "colab": {
     "base_uri": "https://localhost:8080/"
    },
    "id": "JTSNV9e6abVX",
    "outputId": "f672d085-0f71-4c37-9bcd-8c5e86bf4a9b"
   },
   "outputs": [
    {
     "name": "stdout",
     "output_type": "stream",
     "text": [
      "All O are A. All A are W. Therefore, all O are  W  A\n",
      "All O are W. All W are A. Therefore, all O are  A  W\n",
      "All A are O. All O are W. Therefore, all A are  W  O\n",
      "All A are W. All W are O. Therefore, all A are  O  W\n",
      "All W are O. All O are A. Therefore, all W are  A  O\n",
      "All W are A. All A are O. Therefore, all W are  O  A\n"
     ]
    }
   ],
   "source": [
    "# answer pair setting (p, m)\n",
    "s_prompts = s_dataset.sentences\n",
    "s_labels = s_dataset.labels\n",
    "s_second_labels = s_dataset.B\n",
    "s_As = s_dataset.A\n",
    "s_Bs = s_dataset.B\n",
    "\n",
    "s_answers = list(zip(s_labels, s_second_labels))\n",
    "s_answer_tokens = t.concat([\n",
    "    model.to_tokens(names, prepend_bos=False).T for names in s_answers\n",
    "])\n",
    "for prompt, (p, m) in zip(s_prompts[:6], s_answers):\n",
    "    print(prompt, p, m)"
   ]
  },
  {
   "cell_type": "code",
   "execution_count": 55,
   "metadata": {
    "id": "KOgRhqo5abVX"
   },
   "outputs": [],
   "source": [
    "# Corruption and tokenization\n",
    "s_corrupted_prompts = middle_term_corrupt(s_prompts, s_As, s_Bs, s_labels, 'symbolic')\n",
    "\n",
    "s_tokens = model.to_tokens(s_prompts, prepend_bos=False).to(device)\n",
    "s_corrupted_tokens = model.to_tokens(s_corrupted_prompts, prepend_bos=False).to(device)"
   ]
  },
  {
   "cell_type": "code",
   "execution_count": 56,
   "metadata": {
    "colab": {
     "base_uri": "https://localhost:8080/"
    },
    "id": "JRSKR79babVX",
    "outputId": "bf80002d-fa03-47e5-e8d3-9246c612c334"
   },
   "outputs": [
    {
     "name": "stdout",
     "output_type": "stream",
     "text": [
      "Clean logit diff: 0.8832\n",
      "Corrupted logit diff: -0.1462\n"
     ]
    }
   ],
   "source": [
    "# Compute logits for interventions\n",
    "s_clean_logits, s_clean_cache = model.run_with_cache(s_tokens)\n",
    "s_corrupted_logits, s_corrupted_cache = model.run_with_cache(s_corrupted_tokens)\n",
    "\n",
    "s_clean_logit_diff = h.compute_logit_diff(s_clean_logits, s_answer_tokens)\n",
    "print(f\"Clean logit diff: {s_clean_logit_diff:.4f}\")\n",
    "\n",
    "s_corrupted_logit_diff = h.compute_logit_diff(s_corrupted_logits, s_answer_tokens)\n",
    "print(f\"Corrupted logit diff: {s_corrupted_logit_diff:.4f}\")"
   ]
  },
  {
   "cell_type": "markdown",
   "metadata": {
    "id": "6hQJhmk-abVY"
   },
   "source": [
    "### Figure 4(a) attention head output patching"
   ]
  },
  {
   "cell_type": "code",
   "execution_count": 57,
   "metadata": {
    "colab": {
     "base_uri": "https://localhost:8080/"
    },
    "id": "wUBgplJ2abVY",
    "outputId": "4464eaf7-0f30-4d23-8637-ff36646dd570"
   },
   "outputs": [
    {
     "name": "stderr",
     "output_type": "stream",
     "text": [
      "  0%|          | 0/24 [00:00<?, ?it/s]"
     ]
    },
    {
     "name": "stderr",
     "output_type": "stream",
     "text": [
      "100%|██████████| 24/24 [01:20<00:00,  3.36s/it]\n"
     ]
    }
   ],
   "source": [
    "s_attn_denoising = h.patching_attention(model, s_corrupted_tokens, s_clean_cache, h.metric_denoising, s_answer_tokens, s_clean_logit_diff, s_corrupted_logit_diff, 'z', device)"
   ]
  },
  {
   "cell_type": "code",
   "execution_count": 58,
   "metadata": {
    "colab": {
     "base_uri": "https://localhost:8080/",
     "height": 317
    },
    "id": "FwiTxSDTabVY",
    "outputId": "30dd5f8f-afc7-49ac-a22c-3b952301d9f3"
   },
   "outputs": [
    {
     "name": "stdout",
     "output_type": "stream",
     "text": [
      "Plot saved to ../images/pythia-31m/symbolic_denoising.png\n"
     ]
    },
    {
     "data": {
      "application/vnd.plotly.v1+json": {
       "config": {
        "plotlyServerURL": "https://plot.ly"
       },
       "data": [
        {
         "coloraxis": "coloraxis",
         "hovertemplate": "Head: %{x}<br>Layer: %{y}<br>color: %{z}<extra></extra>",
         "name": "0",
         "type": "heatmap",
         "xaxis": "x",
         "yaxis": "y",
         "z": [
          [
           0.015092533081769943,
           0.005860540550202131,
           -0.010171959176659584,
           0.006145815830677748,
           0.008204041048884392,
           0.03914438560605049,
           -0.009824663400650024,
           -0.009324660524725914,
           0.01774681732058525,
           -0.0038354385178536177,
           0.007112813647836447,
           -0.002083809580653906,
           -0.0036659787874668837,
           0.00204885913990438,
           0.0016612072940915823,
           -0.004781724419444799
          ],
          [
           -0.005089729093015194,
           -0.0013584186090156436,
           -0.0009034168324433267,
           -0.009537712670862675,
           0.3337695598602295,
           0.00402043154463172,
           0.01935148797929287,
           -0.001999098574742675,
           0.0050203995779156685,
           -0.011117598041892052,
           -0.013745574280619621,
           0.004963786341249943,
           -0.010382954962551594,
           -0.006993457209318876,
           0.033961910754442215,
           0.022512855008244514
          ],
          [
           0.03167174756526947,
           0.00014326594828162342,
           0.0004786065255757421,
           0.003691410878673196,
           -0.0026369234547019005,
           0.009747947566211224,
           0.0010609598830342293,
           0.0044788215309381485,
           0.0005893206689506769,
           0.0033987495116889477,
           0.0672028511762619,
           0.0004623877175617963,
           0.0069478461518883705,
           -0.000571959710214287,
           -0.0057294960133731365,
           -0.004460166208446026
          ],
          [
           0.004681328311562538,
           -0.00010325199400540441,
           0.0017217041458934546,
           -0.01018357090651989,
           -0.0017315648728981614,
           0.001386363641358912,
           0.017862632870674133,
           -0.010119381360709667,
           0.0034804525785148144,
           -0.00048374623293057084,
           0.021944323554635048,
           0.009172257035970688,
           -0.020480597391724586,
           -0.025257334113121033,
           -0.00037851452361792326,
           0.004323601257055998
          ],
          [
           0.03456440567970276,
           0.014930649660527706,
           -0.003411693964153528,
           -0.018213849514722824,
           -0.006993038114160299,
           -0.006246631499379873,
           -0.03011508844792843,
           -0.0040108757093548775,
           -0.006881296169012785,
           0.056674838066101074,
           -0.011286143213510513,
           0.0015017606783658266,
           -0.017365828156471252,
           0.027950186282396317,
           0.005775943864136934,
           -0.0014620512956753373
          ],
          [
           0.002412715693935752,
           -0.005794295109808445,
           0.2289445847272873,
           -0.007736285217106342,
           0.006822778843343258,
           0.003861479926854372,
           0.003081264905631542,
           0.006137287709861994,
           0.0046804905869066715,
           0.10143442451953888,
           0.007706626784056425,
           0.0009322375990450382,
           -0.0032846471294760704,
           -0.0005753100267611444,
           0.0006576222949661314,
           -0.012815621681511402
          ],
          [
           0.36818715929985046,
           -0.011474715545773506,
           0.015316549688577652,
           0.060546062886714935,
           0.016636362299323082,
           0.03289230912923813,
           -0.007977130822837353,
           -0.000834620266687125,
           -0.02147146500647068,
           0.025645481422543526,
           -0.020795568823814392,
           -0.015139970928430557,
           -0.0415087454020977,
           0.013918650336563587,
           -0.025700151920318604,
           0.025045005604624748
          ],
          [
           -0.12908577919006348,
           0.16966311633586884,
           0.05381888523697853,
           0.025857847183942795,
           -0.012916626408696175,
           -0.004314692225307226,
           0.04560273885726929,
           0.506120502948761,
           -0.00033400801476091146,
           -0.0104508763179183,
           0.0067679546773433685,
           -0.01185810286551714,
           -0.02764400839805603,
           0.0019240202382206917,
           0.024356884881854057,
           0.0007392492261715233
          ],
          [
           0.32929593324661255,
           0.0019511657301336527,
           0.1218988448381424,
           -0.00025782542070373893,
           -0.032863106578588486,
           -0.01612585224211216,
           0.018210841342806816,
           0.02422972582280636,
           -0.026937386021018028,
           0.027932899072766304,
           -0.002513454994186759,
           0.03284083306789398,
           0.049065180122852325,
           0.13921786844730377,
           0.020604979246854782,
           0.0042605153284966946
          ],
          [
           -0.012150879018008709,
           0.14870649576187134,
           -0.0758829414844513,
           0.14478419721126556,
           0.06466338783502579,
           0.10819841921329498,
           0.05054973065853119,
           0.019751587882637978,
           0.3056020140647888,
           -0.0329628549516201,
           -0.04858284071087837,
           0.04064435511827469,
           -0.020410656929016113,
           0.08811510354280472,
           -0.00629894295707345,
           0.062400754541158676
          ],
          [
           -0.005782530643045902,
           0.07330554723739624,
           -0.028831366449594498,
           -0.004918023478239775,
           -0.012969699688255787,
           0.25250715017318726,
           0.01947278529405594,
           1,
           -0.03359409421682358,
           -0.0021971124224364758,
           0.04057856649160385,
           0.12518486380577087,
           -0.14213936030864716,
           -0.024657050147652626,
           0.07967650145292282,
           0.14990799129009247
          ],
          [
           0.12441407889127731,
           -0.033637456595897675,
           -0.04661047086119652,
           -0.10710026323795319,
           0.7299620509147644,
           0.028536612167954445,
           0.13350172340869904,
           0.07140025496482849,
           0.11477981507778168,
           0.06390641629695892,
           0.04775355011224747,
           0.004467133432626724,
           0.0703580304980278,
           -0.028445657342672348,
           0.028152693063020706,
           0.12419332563877106
          ],
          [
           0.15409518778324127,
           -0.0016543162055313587,
           0.12216045707464218,
           0.022839060053229332,
           -0.029197774827480316,
           -0.01054856926202774,
           -0.0032707888167351484,
           0.043736353516578674,
           0.10247568786144257,
           0.020189039409160614,
           0.008118264377117157,
           -0.04838090389966965,
           0.18583044409751892,
           0.01339572761207819,
           0.049456678330898285,
           0.00979626178741455
          ],
          [
           0.3982902467250824,
           -0.15571554005146027,
           -0.016600804403424263,
           0.012610183097422123,
           0.03268633782863617,
           0.9282799363136292,
           0.0017381893703714013,
           0.009585493244230747,
           -0.028888249769806862,
           0.03847884014248848,
           0.0620565228164196,
           -0.0015587167581543326,
           -0.016622580587863922,
           0.0007838318706490099,
           -0.001722618006169796,
           0.02026636339724064
          ],
          [
           -0.8730775713920593,
           0.02279679849743843,
           -0.004092007409781218,
           -0.4850495755672455,
           0.010925636626780033,
           0.003372860373929143,
           -0.018497489392757416,
           -0.05456799268722534,
           0.008791648782789707,
           0.00044460795470513403,
           -0.0010349946096539497,
           0.10586194694042206,
           0.026038995012640953,
           -0.006509444210678339,
           -0.019750066101551056,
           -0.0034316820092499256
          ],
          [
           0.0005778609192930162,
           0.004442119970917702,
           0.21573685109615326,
           -0.007374218199402094,
           0.21261632442474365,
           0.29340142011642456,
           0.011598259210586548,
           0.02030862309038639,
           -0.050770435482263565,
           -0.07636303454637527,
           0.004449429921805859,
           -0.2240685224533081,
           -0.022836318239569664,
           0.002883327193558216,
           0.0031507848761975765,
           -0.018630778416991234
          ],
          [
           0.20427627861499786,
           -0.0006034835241734982,
           -0.015566304326057434,
           0.0003273834299761802,
           -0.007146545685827732,
           -0.01364772766828537,
           -0.004425101913511753,
           -0.040198151022195816,
           0.004201046656817198,
           -0.00046402483712881804,
           -0.0045225671492516994,
           0.0016433133278042078,
           0.007542877923697233,
           0.04052317142486572,
           0.00004001395427621901,
           -0.010625170543789864
          ],
          [
           0.00579654099419713,
           -0.0003382340364623815,
           -0.024607745930552483,
           -0.002857590327039361,
           -0.013834929093718529,
           0.0008154318784363568,
           -0.007264227140694857,
           -0.004639600869268179,
           -0.006927516311407089,
           -0.00034413524554111063,
           0.13673600554466248,
           -0.1513015180826187,
           0.04359845817089081,
           0.00016154063632711768,
           0.019833862781524658,
           0.004453503526747227
          ],
          [
           0.2980920374393463,
           0.08201338350772858,
           -0.0003347313904669136,
           0,
           -0.00662560248747468,
           -0.0019837557338178158,
           0.002417931566014886,
           0.0005619467119686306,
           -0.027347005903720856,
           0.00024682251387275755,
           0.002250147284939885,
           -0.008241428062319756,
           -0.004015748854726553,
           -0.0013447125675156713,
           -0.009308669716119766,
           -0.0008384655811823905
          ],
          [
           0.00004797106157639064,
           0.003230317961424589,
           -0.0016871346160769463,
           0.0052481479942798615,
           -0.0015480945585295558,
           -0.006636643782258034,
           0.0006696531199850142,
           -0.0015835018130019307,
           0.045683447271585464,
           -0.003969605080783367,
           -0.00031816994305700064,
           -0.004999307915568352,
           0.0035114814527332783,
           -0.0027825497090816498,
           -0.0004835178260691464,
           -0.2671874165534973
          ],
          [
           -0.00008375899051316082,
           0.005911252927035093,
           0.0004163202829658985,
           -0.0006123543716967106,
           0.0024090607184916735,
           -0.0007007201202213764,
           -0.0023354291915893555,
           -0.00036941521102562547,
           0.00007827658555470407,
           -0.00005101683927932754,
           -0.00024564226623624563,
           0.002719654468819499,
           -0.011900743469595909,
           -0.0024009135086089373,
           -0.0008270057733170688,
           -0.014286276884377003
          ],
          [
           0.00015057582641020417,
           0.031585630029439926,
           -0.0010796914575621486,
           0.0003935911227017641,
           -0.0011937179369851947,
           -0.13687288761138916,
           0.00039747447590343654,
           0.0165854599326849,
           0.0037895995192229748,
           0.023744989186525345,
           -0.00038167453021742404,
           0.003592803841456771,
           0.00005977346154395491,
           -0.0010167199652642012,
           0.020170878618955612,
           0.000096246694738511
          ],
          [
           -0.0008793933084234595,
           0.0002486119046807289,
           0.35670334100723267,
           0.00737867271527648,
           0.003350283484905958,
           -0.00007050984277157113,
           0.08599264174699783,
           -0.0015525490744039416,
           0.011514347977936268,
           -0.00933764223009348,
           0.0004814619314856827,
           0.026862308382987976,
           0.000006319996828096919,
           0.000039785521948942915,
           -0.000038034198951208964,
           0.0003033598477486521
          ],
          [
           -0.04549236223101616,
           0.0000021701193873013835,
           0.0005413115140981972,
           0.0013262475840747356,
           -0.001171064912341535,
           0.005607055500149727,
           0.006104622036218643,
           -0.004503073636442423,
           -0.0017652588430792093,
           -0.00042359204962849617,
           0.005222906358540058,
           0.003846860257908702,
           0.020807066932320595,
           0.004801522474735975,
           0.010328283533453941,
           -0.00047419010661542416
          ]
         ]
        }
       ],
       "layout": {
        "coloraxis": {
         "cmid": 0,
         "colorbar": {
          "len": 1,
          "lenmode": "fraction",
          "thickness": 10,
          "thicknessmode": "pixels",
          "title": {
           "text": "𝑆"
          }
         },
         "colorscale": [
          [
           0,
           "rgb(103,0,31)"
          ],
          [
           0.1,
           "rgb(178,24,43)"
          ],
          [
           0.2,
           "rgb(214,96,77)"
          ],
          [
           0.3,
           "rgb(244,165,130)"
          ],
          [
           0.4,
           "rgb(253,219,199)"
          ],
          [
           0.5,
           "rgb(247,247,247)"
          ],
          [
           0.6,
           "rgb(209,229,240)"
          ],
          [
           0.7,
           "rgb(146,197,222)"
          ],
          [
           0.8,
           "rgb(67,147,195)"
          ],
          [
           0.9,
           "rgb(33,102,172)"
          ],
          [
           1,
           "rgb(5,48,97)"
          ]
         ]
        },
        "font": {
         "color": "black",
         "size": 12
        },
        "height": 300,
        "margin": {
         "b": 10,
         "l": 10,
         "r": 10,
         "t": 10
        },
        "template": {
         "data": {
          "bar": [
           {
            "error_x": {
             "color": "#2a3f5f"
            },
            "error_y": {
             "color": "#2a3f5f"
            },
            "marker": {
             "line": {
              "color": "#E5ECF6",
              "width": 0.5
             },
             "pattern": {
              "fillmode": "overlay",
              "size": 10,
              "solidity": 0.2
             }
            },
            "type": "bar"
           }
          ],
          "barpolar": [
           {
            "marker": {
             "line": {
              "color": "#E5ECF6",
              "width": 0.5
             },
             "pattern": {
              "fillmode": "overlay",
              "size": 10,
              "solidity": 0.2
             }
            },
            "type": "barpolar"
           }
          ],
          "carpet": [
           {
            "aaxis": {
             "endlinecolor": "#2a3f5f",
             "gridcolor": "white",
             "linecolor": "white",
             "minorgridcolor": "white",
             "startlinecolor": "#2a3f5f"
            },
            "baxis": {
             "endlinecolor": "#2a3f5f",
             "gridcolor": "white",
             "linecolor": "white",
             "minorgridcolor": "white",
             "startlinecolor": "#2a3f5f"
            },
            "type": "carpet"
           }
          ],
          "choropleth": [
           {
            "colorbar": {
             "outlinewidth": 0,
             "ticks": ""
            },
            "type": "choropleth"
           }
          ],
          "contour": [
           {
            "colorbar": {
             "outlinewidth": 0,
             "ticks": ""
            },
            "colorscale": [
             [
              0,
              "#0d0887"
             ],
             [
              0.1111111111111111,
              "#46039f"
             ],
             [
              0.2222222222222222,
              "#7201a8"
             ],
             [
              0.3333333333333333,
              "#9c179e"
             ],
             [
              0.4444444444444444,
              "#bd3786"
             ],
             [
              0.5555555555555556,
              "#d8576b"
             ],
             [
              0.6666666666666666,
              "#ed7953"
             ],
             [
              0.7777777777777778,
              "#fb9f3a"
             ],
             [
              0.8888888888888888,
              "#fdca26"
             ],
             [
              1,
              "#f0f921"
             ]
            ],
            "type": "contour"
           }
          ],
          "contourcarpet": [
           {
            "colorbar": {
             "outlinewidth": 0,
             "ticks": ""
            },
            "type": "contourcarpet"
           }
          ],
          "heatmap": [
           {
            "colorbar": {
             "outlinewidth": 0,
             "ticks": ""
            },
            "colorscale": [
             [
              0,
              "#0d0887"
             ],
             [
              0.1111111111111111,
              "#46039f"
             ],
             [
              0.2222222222222222,
              "#7201a8"
             ],
             [
              0.3333333333333333,
              "#9c179e"
             ],
             [
              0.4444444444444444,
              "#bd3786"
             ],
             [
              0.5555555555555556,
              "#d8576b"
             ],
             [
              0.6666666666666666,
              "#ed7953"
             ],
             [
              0.7777777777777778,
              "#fb9f3a"
             ],
             [
              0.8888888888888888,
              "#fdca26"
             ],
             [
              1,
              "#f0f921"
             ]
            ],
            "type": "heatmap"
           }
          ],
          "heatmapgl": [
           {
            "colorbar": {
             "outlinewidth": 0,
             "ticks": ""
            },
            "colorscale": [
             [
              0,
              "#0d0887"
             ],
             [
              0.1111111111111111,
              "#46039f"
             ],
             [
              0.2222222222222222,
              "#7201a8"
             ],
             [
              0.3333333333333333,
              "#9c179e"
             ],
             [
              0.4444444444444444,
              "#bd3786"
             ],
             [
              0.5555555555555556,
              "#d8576b"
             ],
             [
              0.6666666666666666,
              "#ed7953"
             ],
             [
              0.7777777777777778,
              "#fb9f3a"
             ],
             [
              0.8888888888888888,
              "#fdca26"
             ],
             [
              1,
              "#f0f921"
             ]
            ],
            "type": "heatmapgl"
           }
          ],
          "histogram": [
           {
            "marker": {
             "pattern": {
              "fillmode": "overlay",
              "size": 10,
              "solidity": 0.2
             }
            },
            "type": "histogram"
           }
          ],
          "histogram2d": [
           {
            "colorbar": {
             "outlinewidth": 0,
             "ticks": ""
            },
            "colorscale": [
             [
              0,
              "#0d0887"
             ],
             [
              0.1111111111111111,
              "#46039f"
             ],
             [
              0.2222222222222222,
              "#7201a8"
             ],
             [
              0.3333333333333333,
              "#9c179e"
             ],
             [
              0.4444444444444444,
              "#bd3786"
             ],
             [
              0.5555555555555556,
              "#d8576b"
             ],
             [
              0.6666666666666666,
              "#ed7953"
             ],
             [
              0.7777777777777778,
              "#fb9f3a"
             ],
             [
              0.8888888888888888,
              "#fdca26"
             ],
             [
              1,
              "#f0f921"
             ]
            ],
            "type": "histogram2d"
           }
          ],
          "histogram2dcontour": [
           {
            "colorbar": {
             "outlinewidth": 0,
             "ticks": ""
            },
            "colorscale": [
             [
              0,
              "#0d0887"
             ],
             [
              0.1111111111111111,
              "#46039f"
             ],
             [
              0.2222222222222222,
              "#7201a8"
             ],
             [
              0.3333333333333333,
              "#9c179e"
             ],
             [
              0.4444444444444444,
              "#bd3786"
             ],
             [
              0.5555555555555556,
              "#d8576b"
             ],
             [
              0.6666666666666666,
              "#ed7953"
             ],
             [
              0.7777777777777778,
              "#fb9f3a"
             ],
             [
              0.8888888888888888,
              "#fdca26"
             ],
             [
              1,
              "#f0f921"
             ]
            ],
            "type": "histogram2dcontour"
           }
          ],
          "mesh3d": [
           {
            "colorbar": {
             "outlinewidth": 0,
             "ticks": ""
            },
            "type": "mesh3d"
           }
          ],
          "parcoords": [
           {
            "line": {
             "colorbar": {
              "outlinewidth": 0,
              "ticks": ""
             }
            },
            "type": "parcoords"
           }
          ],
          "pie": [
           {
            "automargin": true,
            "type": "pie"
           }
          ],
          "scatter": [
           {
            "fillpattern": {
             "fillmode": "overlay",
             "size": 10,
             "solidity": 0.2
            },
            "type": "scatter"
           }
          ],
          "scatter3d": [
           {
            "line": {
             "colorbar": {
              "outlinewidth": 0,
              "ticks": ""
             }
            },
            "marker": {
             "colorbar": {
              "outlinewidth": 0,
              "ticks": ""
             }
            },
            "type": "scatter3d"
           }
          ],
          "scattercarpet": [
           {
            "marker": {
             "colorbar": {
              "outlinewidth": 0,
              "ticks": ""
             }
            },
            "type": "scattercarpet"
           }
          ],
          "scattergeo": [
           {
            "marker": {
             "colorbar": {
              "outlinewidth": 0,
              "ticks": ""
             }
            },
            "type": "scattergeo"
           }
          ],
          "scattergl": [
           {
            "marker": {
             "colorbar": {
              "outlinewidth": 0,
              "ticks": ""
             }
            },
            "type": "scattergl"
           }
          ],
          "scattermapbox": [
           {
            "marker": {
             "colorbar": {
              "outlinewidth": 0,
              "ticks": ""
             }
            },
            "type": "scattermapbox"
           }
          ],
          "scatterpolar": [
           {
            "marker": {
             "colorbar": {
              "outlinewidth": 0,
              "ticks": ""
             }
            },
            "type": "scatterpolar"
           }
          ],
          "scatterpolargl": [
           {
            "marker": {
             "colorbar": {
              "outlinewidth": 0,
              "ticks": ""
             }
            },
            "type": "scatterpolargl"
           }
          ],
          "scatterternary": [
           {
            "marker": {
             "colorbar": {
              "outlinewidth": 0,
              "ticks": ""
             }
            },
            "type": "scatterternary"
           }
          ],
          "surface": [
           {
            "colorbar": {
             "outlinewidth": 0,
             "ticks": ""
            },
            "colorscale": [
             [
              0,
              "#0d0887"
             ],
             [
              0.1111111111111111,
              "#46039f"
             ],
             [
              0.2222222222222222,
              "#7201a8"
             ],
             [
              0.3333333333333333,
              "#9c179e"
             ],
             [
              0.4444444444444444,
              "#bd3786"
             ],
             [
              0.5555555555555556,
              "#d8576b"
             ],
             [
              0.6666666666666666,
              "#ed7953"
             ],
             [
              0.7777777777777778,
              "#fb9f3a"
             ],
             [
              0.8888888888888888,
              "#fdca26"
             ],
             [
              1,
              "#f0f921"
             ]
            ],
            "type": "surface"
           }
          ],
          "table": [
           {
            "cells": {
             "fill": {
              "color": "#EBF0F8"
             },
             "line": {
              "color": "white"
             }
            },
            "header": {
             "fill": {
              "color": "#C8D4E3"
             },
             "line": {
              "color": "white"
             }
            },
            "type": "table"
           }
          ]
         },
         "layout": {
          "annotationdefaults": {
           "arrowcolor": "#2a3f5f",
           "arrowhead": 0,
           "arrowwidth": 1
          },
          "autotypenumbers": "strict",
          "coloraxis": {
           "colorbar": {
            "outlinewidth": 0,
            "ticks": ""
           }
          },
          "colorscale": {
           "diverging": [
            [
             0,
             "#8e0152"
            ],
            [
             0.1,
             "#c51b7d"
            ],
            [
             0.2,
             "#de77ae"
            ],
            [
             0.3,
             "#f1b6da"
            ],
            [
             0.4,
             "#fde0ef"
            ],
            [
             0.5,
             "#f7f7f7"
            ],
            [
             0.6,
             "#e6f5d0"
            ],
            [
             0.7,
             "#b8e186"
            ],
            [
             0.8,
             "#7fbc41"
            ],
            [
             0.9,
             "#4d9221"
            ],
            [
             1,
             "#276419"
            ]
           ],
           "sequential": [
            [
             0,
             "#0d0887"
            ],
            [
             0.1111111111111111,
             "#46039f"
            ],
            [
             0.2222222222222222,
             "#7201a8"
            ],
            [
             0.3333333333333333,
             "#9c179e"
            ],
            [
             0.4444444444444444,
             "#bd3786"
            ],
            [
             0.5555555555555556,
             "#d8576b"
            ],
            [
             0.6666666666666666,
             "#ed7953"
            ],
            [
             0.7777777777777778,
             "#fb9f3a"
            ],
            [
             0.8888888888888888,
             "#fdca26"
            ],
            [
             1,
             "#f0f921"
            ]
           ],
           "sequentialminus": [
            [
             0,
             "#0d0887"
            ],
            [
             0.1111111111111111,
             "#46039f"
            ],
            [
             0.2222222222222222,
             "#7201a8"
            ],
            [
             0.3333333333333333,
             "#9c179e"
            ],
            [
             0.4444444444444444,
             "#bd3786"
            ],
            [
             0.5555555555555556,
             "#d8576b"
            ],
            [
             0.6666666666666666,
             "#ed7953"
            ],
            [
             0.7777777777777778,
             "#fb9f3a"
            ],
            [
             0.8888888888888888,
             "#fdca26"
            ],
            [
             1,
             "#f0f921"
            ]
           ]
          },
          "colorway": [
           "#636efa",
           "#EF553B",
           "#00cc96",
           "#ab63fa",
           "#FFA15A",
           "#19d3f3",
           "#FF6692",
           "#B6E880",
           "#FF97FF",
           "#FECB52"
          ],
          "font": {
           "color": "#2a3f5f"
          },
          "geo": {
           "bgcolor": "white",
           "lakecolor": "white",
           "landcolor": "#E5ECF6",
           "showlakes": true,
           "showland": true,
           "subunitcolor": "white"
          },
          "hoverlabel": {
           "align": "left"
          },
          "hovermode": "closest",
          "mapbox": {
           "style": "light"
          },
          "paper_bgcolor": "white",
          "plot_bgcolor": "#E5ECF6",
          "polar": {
           "angularaxis": {
            "gridcolor": "white",
            "linecolor": "white",
            "ticks": ""
           },
           "bgcolor": "#E5ECF6",
           "radialaxis": {
            "gridcolor": "white",
            "linecolor": "white",
            "ticks": ""
           }
          },
          "scene": {
           "xaxis": {
            "backgroundcolor": "#E5ECF6",
            "gridcolor": "white",
            "gridwidth": 2,
            "linecolor": "white",
            "showbackground": true,
            "ticks": "",
            "zerolinecolor": "white"
           },
           "yaxis": {
            "backgroundcolor": "#E5ECF6",
            "gridcolor": "white",
            "gridwidth": 2,
            "linecolor": "white",
            "showbackground": true,
            "ticks": "",
            "zerolinecolor": "white"
           },
           "zaxis": {
            "backgroundcolor": "#E5ECF6",
            "gridcolor": "white",
            "gridwidth": 2,
            "linecolor": "white",
            "showbackground": true,
            "ticks": "",
            "zerolinecolor": "white"
           }
          },
          "shapedefaults": {
           "line": {
            "color": "#2a3f5f"
           }
          },
          "ternary": {
           "aaxis": {
            "gridcolor": "white",
            "linecolor": "white",
            "ticks": ""
           },
           "baxis": {
            "gridcolor": "white",
            "linecolor": "white",
            "ticks": ""
           },
           "bgcolor": "#E5ECF6",
           "caxis": {
            "gridcolor": "white",
            "linecolor": "white",
            "ticks": ""
           }
          },
          "title": {
           "x": 0.05
          },
          "xaxis": {
           "automargin": true,
           "gridcolor": "white",
           "linecolor": "white",
           "ticks": "",
           "title": {
            "standoff": 15
           },
           "zerolinecolor": "white",
           "zerolinewidth": 2
          },
          "yaxis": {
           "automargin": true,
           "gridcolor": "white",
           "linecolor": "white",
           "ticks": "",
           "title": {
            "standoff": 15
           },
           "zerolinecolor": "white",
           "zerolinewidth": 2
          }
         }
        },
        "title": {
         "font": {
          "size": 14
         }
        },
        "width": 300,
        "xaxis": {
         "anchor": "y",
         "constrain": "domain",
         "domain": [
          0,
          1
         ],
         "linecolor": "black",
         "linewidth": 1,
         "mirror": true,
         "scaleanchor": "y",
         "showline": true,
         "tickcolor": "black",
         "ticks": "outside",
         "tickwidth": 1,
         "title": {}
        },
        "yaxis": {
         "anchor": "x",
         "autorange": "reversed",
         "constrain": "domain",
         "domain": [
          0,
          1
         ],
         "linecolor": "black",
         "linewidth": 1,
         "mirror": true,
         "showline": true,
         "tickcolor": "black",
         "ticks": "outside",
         "tickwidth": 1,
         "title": {}
        }
       }
      }
     },
     "metadata": {},
     "output_type": "display_data"
    }
   ],
   "source": [
    "pu.plot_attn(h.normalise_tensor(s_attn_denoising), labels, image_dir / \"symbolic_denoising.png\")"
   ]
  },
  {
   "cell_type": "markdown",
   "metadata": {
    "id": "-FyRI_VDabVY"
   },
   "source": [
    "### Figure 4(b) residual stream patching"
   ]
  },
  {
   "cell_type": "code",
   "execution_count": 59,
   "metadata": {
    "colab": {
     "base_uri": "https://localhost:8080/"
    },
    "id": "gQRB1BIxabVY",
    "outputId": "19b5d278-641d-477c-fe85-01358b16114d"
   },
   "outputs": [
    {
     "name": "stderr",
     "output_type": "stream",
     "text": [
      "100%|██████████| 24/24 [01:14<00:00,  3.09s/it]\n"
     ]
    }
   ],
   "source": [
    "s_resid_denoising = h.patching_residual(model, s_corrupted_tokens, s_clean_cache, h.metric_denoising, s_answer_tokens, s_clean_logit_diff, s_corrupted_logit_diff, device)"
   ]
  },
  {
   "cell_type": "code",
   "execution_count": 60,
   "metadata": {
    "colab": {
     "base_uri": "https://localhost:8080/",
     "height": 317
    },
    "id": "wy79ji4oabVY",
    "outputId": "52dc49ef-0bef-4af6-a269-d2661f87d739"
   },
   "outputs": [
    {
     "name": "stdout",
     "output_type": "stream",
     "text": [
      "Plot saved to ../images/pythia-31m/symbolic_residual.png\n"
     ]
    },
    {
     "data": {
      "application/vnd.plotly.v1+json": {
       "config": {
        "plotlyServerURL": "https://plot.ly"
       },
       "data": [
        {
         "coloraxis": "coloraxis",
         "hovertemplate": "Layer: %{x}<br>Sequence Position: %{y}<br>color: %{z}<extra></extra>",
         "name": "0",
         "type": "heatmap",
         "xaxis": "x",
         "y": [
          "BEGIN",
          "s_1",
          "s_1 -> m_1",
          "m_1",
          "m_1 -> m_2",
          "m_2",
          "m_2 -> p",
          "p",
          "p -> s_2",
          "s_2",
          "END"
         ],
         "yaxis": "y",
         "z": [
          [
           0,
           0,
           0,
           0,
           0,
           0,
           0,
           0,
           0,
           0,
           0,
           0,
           0,
           0,
           0,
           0,
           0,
           0,
           0,
           0,
           0,
           0,
           0,
           0
          ],
          [
           0,
           0,
           0,
           0,
           0,
           0,
           0,
           0,
           0,
           0,
           0,
           0,
           0,
           0,
           0,
           0,
           0,
           0,
           0,
           0,
           0,
           0,
           0,
           0
          ],
          [
           0,
           0,
           0,
           0,
           0,
           0,
           0,
           0,
           0,
           0,
           0,
           0,
           0,
           0,
           0,
           0,
           0,
           0,
           0,
           0,
           0,
           0,
           0,
           0
          ],
          [
           0,
           0,
           0,
           0,
           0,
           0,
           0,
           0,
           0,
           0,
           0,
           0,
           0,
           0,
           0,
           0,
           0,
           0,
           0,
           0,
           0,
           0,
           0,
           0
          ],
          [
           0,
           0,
           0,
           0,
           0,
           0,
           0,
           0,
           0,
           0,
           0,
           0,
           0,
           0,
           0,
           0,
           0,
           0,
           0,
           0,
           0,
           0,
           0,
           0
          ],
          [
           0.9952793121337891,
           0.9947608113288879,
           0.9858753085136414,
           1,
           0.9662426710128784,
           0.9024106860160828,
           0.8955269455909729,
           0.8729536533355713,
           0.7282001972198486,
           0.6202994585037231,
           0.2667253613471985,
           0.05611562728881836,
           -0.01924663782119751,
           -0.003229859983548522,
           -0.058823470026254654,
           0.017179030925035477,
           -0.12514860928058624,
           0.044898003339767456,
           0.06845341622829437,
           -0.09547445923089981,
           -0.07913977652788162,
           0.0008407570421695709,
           -0.00012436513497959822,
           0
          ],
          [
           0.003216159762814641,
           0.01770787127315998,
           0.021547213196754456,
           0.02183292992413044,
           0.056417398154735565,
           0.17787565290927887,
           0.1601894199848175,
           0.1243068128824234,
           0.17028391361236572,
           0.07326270639896393,
           0.1818333864212036,
           0.06383927911520004,
           0.05160363391041756,
           -0.03609277307987213,
           0.012602481059730053,
           -0.007667383179068565,
           0.011783753521740437,
           0.0015531998360529542,
           0.00032501519308425486,
           0.004241009242832661,
           0.006919468753039837,
           0.011462184600532055,
           -0.001860709162428975,
           0
          ],
          [
           -0.0032808410469442606,
           -0.012014791369438171,
           -0.0015336403157562017,
           -0.01289344672113657,
           -0.002558704698458314,
           -0.007626439910382032,
           0.016642853617668152,
           0.06474388390779495,
           0.14284773170948029,
           0.21694953739643097,
           0.6769171953201294,
           0.555741012096405,
           0.5176197290420532,
           0.36054325103759766,
           0.34010669589042664,
           0.2646865248680115,
           0.20598140358924866,
           0.17479443550109863,
           0.11250254511833191,
           0.09127265959978104,
           0.0735798180103302,
           -0.0005262827617116272,
           0.000027630312615656294,
           0
          ],
          [
           0.0012977917212992907,
           0.00095419364515692,
           0.0002268873795401305,
           -0.0005383746465668082,
           -0.003139084903523326,
           -0.0007258701371029019,
           -0.0048700436018407345,
           -0.009385316632688046,
           -0.005044614430516958,
           -0.007195599377155304,
           -0.00943669956177473,
           0.009976251982152462,
           0.012697693891823292,
           0.008484689518809319,
           0.007998616434633732,
           0.0031707219313830137,
           0.0006970621761865914,
           -0.00011701235780492425,
           -0.00026639414136298,
           0.00020841929654125124,
           0.0005017544026486576,
           0.0005775797762908041,
           -0.00023210035578813404,
           0
          ],
          [
           -0.0005565841565839946,
           0.0008198907598853111,
           -0.0006203895318321884,
           0.0003755367361009121,
           -0.003669518046081066,
           -0.0011322395876049995,
           0.003098027314990759,
           0.022801470011472702,
           0.05980193242430687,
           0.05062440037727356,
           -0.06250414997339249,
           -0.055339984595775604,
           -0.05981879308819771,
           -0.023628856986761093,
           -0.023463131859898567,
           -0.026137743145227432,
           0.0023980927653610706,
           -0.0072791799902915955,
           -0.008181000128388405,
           -0.00005554784365813248,
           -0.00034519220935180783,
           0.000044820273615187034,
           -0.000131100372527726,
           0
          ],
          [
           -0.0006515526329167187,
           -0.0006023523164913058,
           0.0013426407240331173,
           0.0026283981278538704,
           0.003118951106444001,
           0.0017485793214291334,
           0.0035250333603471518,
           0.0063400655053555965,
           0.020886965095996857,
           0.07891226559877396,
           -0.017420049756765366,
           0.3455165922641754,
           0.5139101147651672,
           0.6751450300216675,
           0.7075416445732117,
           0.756472647190094,
           0.9754394292831421,
           0.8219743967056274,
           0.8518742918968201,
           0.990589439868927,
           0.9858185648918152,
           0.9586667418479919,
           0.9838472604751587,
           0.9920835494995117
          ]
         ]
        }
       ],
       "layout": {
        "coloraxis": {
         "cmid": 0,
         "colorbar": {
          "len": 1,
          "lenmode": "fraction",
          "thickness": 10,
          "thicknessmode": "pixels",
          "title": {}
         },
         "colorscale": [
          [
           0,
           "rgb(103,0,31)"
          ],
          [
           0.1,
           "rgb(178,24,43)"
          ],
          [
           0.2,
           "rgb(214,96,77)"
          ],
          [
           0.3,
           "rgb(244,165,130)"
          ],
          [
           0.4,
           "rgb(253,219,199)"
          ],
          [
           0.5,
           "rgb(247,247,247)"
          ],
          [
           0.6,
           "rgb(209,229,240)"
          ],
          [
           0.7,
           "rgb(146,197,222)"
          ],
          [
           0.8,
           "rgb(67,147,195)"
          ],
          [
           0.9,
           "rgb(33,102,172)"
          ],
          [
           1,
           "rgb(5,48,97)"
          ]
         ]
        },
        "font": {
         "color": "black",
         "size": 12
        },
        "height": 300,
        "margin": {
         "b": 20,
         "l": 10,
         "r": 10,
         "t": 20
        },
        "template": {
         "data": {
          "bar": [
           {
            "error_x": {
             "color": "#2a3f5f"
            },
            "error_y": {
             "color": "#2a3f5f"
            },
            "marker": {
             "line": {
              "color": "#E5ECF6",
              "width": 0.5
             },
             "pattern": {
              "fillmode": "overlay",
              "size": 10,
              "solidity": 0.2
             }
            },
            "type": "bar"
           }
          ],
          "barpolar": [
           {
            "marker": {
             "line": {
              "color": "#E5ECF6",
              "width": 0.5
             },
             "pattern": {
              "fillmode": "overlay",
              "size": 10,
              "solidity": 0.2
             }
            },
            "type": "barpolar"
           }
          ],
          "carpet": [
           {
            "aaxis": {
             "endlinecolor": "#2a3f5f",
             "gridcolor": "white",
             "linecolor": "white",
             "minorgridcolor": "white",
             "startlinecolor": "#2a3f5f"
            },
            "baxis": {
             "endlinecolor": "#2a3f5f",
             "gridcolor": "white",
             "linecolor": "white",
             "minorgridcolor": "white",
             "startlinecolor": "#2a3f5f"
            },
            "type": "carpet"
           }
          ],
          "choropleth": [
           {
            "colorbar": {
             "outlinewidth": 0,
             "ticks": ""
            },
            "type": "choropleth"
           }
          ],
          "contour": [
           {
            "colorbar": {
             "outlinewidth": 0,
             "ticks": ""
            },
            "colorscale": [
             [
              0,
              "#0d0887"
             ],
             [
              0.1111111111111111,
              "#46039f"
             ],
             [
              0.2222222222222222,
              "#7201a8"
             ],
             [
              0.3333333333333333,
              "#9c179e"
             ],
             [
              0.4444444444444444,
              "#bd3786"
             ],
             [
              0.5555555555555556,
              "#d8576b"
             ],
             [
              0.6666666666666666,
              "#ed7953"
             ],
             [
              0.7777777777777778,
              "#fb9f3a"
             ],
             [
              0.8888888888888888,
              "#fdca26"
             ],
             [
              1,
              "#f0f921"
             ]
            ],
            "type": "contour"
           }
          ],
          "contourcarpet": [
           {
            "colorbar": {
             "outlinewidth": 0,
             "ticks": ""
            },
            "type": "contourcarpet"
           }
          ],
          "heatmap": [
           {
            "colorbar": {
             "outlinewidth": 0,
             "ticks": ""
            },
            "colorscale": [
             [
              0,
              "#0d0887"
             ],
             [
              0.1111111111111111,
              "#46039f"
             ],
             [
              0.2222222222222222,
              "#7201a8"
             ],
             [
              0.3333333333333333,
              "#9c179e"
             ],
             [
              0.4444444444444444,
              "#bd3786"
             ],
             [
              0.5555555555555556,
              "#d8576b"
             ],
             [
              0.6666666666666666,
              "#ed7953"
             ],
             [
              0.7777777777777778,
              "#fb9f3a"
             ],
             [
              0.8888888888888888,
              "#fdca26"
             ],
             [
              1,
              "#f0f921"
             ]
            ],
            "type": "heatmap"
           }
          ],
          "heatmapgl": [
           {
            "colorbar": {
             "outlinewidth": 0,
             "ticks": ""
            },
            "colorscale": [
             [
              0,
              "#0d0887"
             ],
             [
              0.1111111111111111,
              "#46039f"
             ],
             [
              0.2222222222222222,
              "#7201a8"
             ],
             [
              0.3333333333333333,
              "#9c179e"
             ],
             [
              0.4444444444444444,
              "#bd3786"
             ],
             [
              0.5555555555555556,
              "#d8576b"
             ],
             [
              0.6666666666666666,
              "#ed7953"
             ],
             [
              0.7777777777777778,
              "#fb9f3a"
             ],
             [
              0.8888888888888888,
              "#fdca26"
             ],
             [
              1,
              "#f0f921"
             ]
            ],
            "type": "heatmapgl"
           }
          ],
          "histogram": [
           {
            "marker": {
             "pattern": {
              "fillmode": "overlay",
              "size": 10,
              "solidity": 0.2
             }
            },
            "type": "histogram"
           }
          ],
          "histogram2d": [
           {
            "colorbar": {
             "outlinewidth": 0,
             "ticks": ""
            },
            "colorscale": [
             [
              0,
              "#0d0887"
             ],
             [
              0.1111111111111111,
              "#46039f"
             ],
             [
              0.2222222222222222,
              "#7201a8"
             ],
             [
              0.3333333333333333,
              "#9c179e"
             ],
             [
              0.4444444444444444,
              "#bd3786"
             ],
             [
              0.5555555555555556,
              "#d8576b"
             ],
             [
              0.6666666666666666,
              "#ed7953"
             ],
             [
              0.7777777777777778,
              "#fb9f3a"
             ],
             [
              0.8888888888888888,
              "#fdca26"
             ],
             [
              1,
              "#f0f921"
             ]
            ],
            "type": "histogram2d"
           }
          ],
          "histogram2dcontour": [
           {
            "colorbar": {
             "outlinewidth": 0,
             "ticks": ""
            },
            "colorscale": [
             [
              0,
              "#0d0887"
             ],
             [
              0.1111111111111111,
              "#46039f"
             ],
             [
              0.2222222222222222,
              "#7201a8"
             ],
             [
              0.3333333333333333,
              "#9c179e"
             ],
             [
              0.4444444444444444,
              "#bd3786"
             ],
             [
              0.5555555555555556,
              "#d8576b"
             ],
             [
              0.6666666666666666,
              "#ed7953"
             ],
             [
              0.7777777777777778,
              "#fb9f3a"
             ],
             [
              0.8888888888888888,
              "#fdca26"
             ],
             [
              1,
              "#f0f921"
             ]
            ],
            "type": "histogram2dcontour"
           }
          ],
          "mesh3d": [
           {
            "colorbar": {
             "outlinewidth": 0,
             "ticks": ""
            },
            "type": "mesh3d"
           }
          ],
          "parcoords": [
           {
            "line": {
             "colorbar": {
              "outlinewidth": 0,
              "ticks": ""
             }
            },
            "type": "parcoords"
           }
          ],
          "pie": [
           {
            "automargin": true,
            "type": "pie"
           }
          ],
          "scatter": [
           {
            "fillpattern": {
             "fillmode": "overlay",
             "size": 10,
             "solidity": 0.2
            },
            "type": "scatter"
           }
          ],
          "scatter3d": [
           {
            "line": {
             "colorbar": {
              "outlinewidth": 0,
              "ticks": ""
             }
            },
            "marker": {
             "colorbar": {
              "outlinewidth": 0,
              "ticks": ""
             }
            },
            "type": "scatter3d"
           }
          ],
          "scattercarpet": [
           {
            "marker": {
             "colorbar": {
              "outlinewidth": 0,
              "ticks": ""
             }
            },
            "type": "scattercarpet"
           }
          ],
          "scattergeo": [
           {
            "marker": {
             "colorbar": {
              "outlinewidth": 0,
              "ticks": ""
             }
            },
            "type": "scattergeo"
           }
          ],
          "scattergl": [
           {
            "marker": {
             "colorbar": {
              "outlinewidth": 0,
              "ticks": ""
             }
            },
            "type": "scattergl"
           }
          ],
          "scattermapbox": [
           {
            "marker": {
             "colorbar": {
              "outlinewidth": 0,
              "ticks": ""
             }
            },
            "type": "scattermapbox"
           }
          ],
          "scatterpolar": [
           {
            "marker": {
             "colorbar": {
              "outlinewidth": 0,
              "ticks": ""
             }
            },
            "type": "scatterpolar"
           }
          ],
          "scatterpolargl": [
           {
            "marker": {
             "colorbar": {
              "outlinewidth": 0,
              "ticks": ""
             }
            },
            "type": "scatterpolargl"
           }
          ],
          "scatterternary": [
           {
            "marker": {
             "colorbar": {
              "outlinewidth": 0,
              "ticks": ""
             }
            },
            "type": "scatterternary"
           }
          ],
          "surface": [
           {
            "colorbar": {
             "outlinewidth": 0,
             "ticks": ""
            },
            "colorscale": [
             [
              0,
              "#0d0887"
             ],
             [
              0.1111111111111111,
              "#46039f"
             ],
             [
              0.2222222222222222,
              "#7201a8"
             ],
             [
              0.3333333333333333,
              "#9c179e"
             ],
             [
              0.4444444444444444,
              "#bd3786"
             ],
             [
              0.5555555555555556,
              "#d8576b"
             ],
             [
              0.6666666666666666,
              "#ed7953"
             ],
             [
              0.7777777777777778,
              "#fb9f3a"
             ],
             [
              0.8888888888888888,
              "#fdca26"
             ],
             [
              1,
              "#f0f921"
             ]
            ],
            "type": "surface"
           }
          ],
          "table": [
           {
            "cells": {
             "fill": {
              "color": "#EBF0F8"
             },
             "line": {
              "color": "white"
             }
            },
            "header": {
             "fill": {
              "color": "#C8D4E3"
             },
             "line": {
              "color": "white"
             }
            },
            "type": "table"
           }
          ]
         },
         "layout": {
          "annotationdefaults": {
           "arrowcolor": "#2a3f5f",
           "arrowhead": 0,
           "arrowwidth": 1
          },
          "autotypenumbers": "strict",
          "coloraxis": {
           "colorbar": {
            "outlinewidth": 0,
            "ticks": ""
           }
          },
          "colorscale": {
           "diverging": [
            [
             0,
             "#8e0152"
            ],
            [
             0.1,
             "#c51b7d"
            ],
            [
             0.2,
             "#de77ae"
            ],
            [
             0.3,
             "#f1b6da"
            ],
            [
             0.4,
             "#fde0ef"
            ],
            [
             0.5,
             "#f7f7f7"
            ],
            [
             0.6,
             "#e6f5d0"
            ],
            [
             0.7,
             "#b8e186"
            ],
            [
             0.8,
             "#7fbc41"
            ],
            [
             0.9,
             "#4d9221"
            ],
            [
             1,
             "#276419"
            ]
           ],
           "sequential": [
            [
             0,
             "#0d0887"
            ],
            [
             0.1111111111111111,
             "#46039f"
            ],
            [
             0.2222222222222222,
             "#7201a8"
            ],
            [
             0.3333333333333333,
             "#9c179e"
            ],
            [
             0.4444444444444444,
             "#bd3786"
            ],
            [
             0.5555555555555556,
             "#d8576b"
            ],
            [
             0.6666666666666666,
             "#ed7953"
            ],
            [
             0.7777777777777778,
             "#fb9f3a"
            ],
            [
             0.8888888888888888,
             "#fdca26"
            ],
            [
             1,
             "#f0f921"
            ]
           ],
           "sequentialminus": [
            [
             0,
             "#0d0887"
            ],
            [
             0.1111111111111111,
             "#46039f"
            ],
            [
             0.2222222222222222,
             "#7201a8"
            ],
            [
             0.3333333333333333,
             "#9c179e"
            ],
            [
             0.4444444444444444,
             "#bd3786"
            ],
            [
             0.5555555555555556,
             "#d8576b"
            ],
            [
             0.6666666666666666,
             "#ed7953"
            ],
            [
             0.7777777777777778,
             "#fb9f3a"
            ],
            [
             0.8888888888888888,
             "#fdca26"
            ],
            [
             1,
             "#f0f921"
            ]
           ]
          },
          "colorway": [
           "#636efa",
           "#EF553B",
           "#00cc96",
           "#ab63fa",
           "#FFA15A",
           "#19d3f3",
           "#FF6692",
           "#B6E880",
           "#FF97FF",
           "#FECB52"
          ],
          "font": {
           "color": "#2a3f5f"
          },
          "geo": {
           "bgcolor": "white",
           "lakecolor": "white",
           "landcolor": "#E5ECF6",
           "showlakes": true,
           "showland": true,
           "subunitcolor": "white"
          },
          "hoverlabel": {
           "align": "left"
          },
          "hovermode": "closest",
          "mapbox": {
           "style": "light"
          },
          "paper_bgcolor": "white",
          "plot_bgcolor": "#E5ECF6",
          "polar": {
           "angularaxis": {
            "gridcolor": "white",
            "linecolor": "white",
            "ticks": ""
           },
           "bgcolor": "#E5ECF6",
           "radialaxis": {
            "gridcolor": "white",
            "linecolor": "white",
            "ticks": ""
           }
          },
          "scene": {
           "xaxis": {
            "backgroundcolor": "#E5ECF6",
            "gridcolor": "white",
            "gridwidth": 2,
            "linecolor": "white",
            "showbackground": true,
            "ticks": "",
            "zerolinecolor": "white"
           },
           "yaxis": {
            "backgroundcolor": "#E5ECF6",
            "gridcolor": "white",
            "gridwidth": 2,
            "linecolor": "white",
            "showbackground": true,
            "ticks": "",
            "zerolinecolor": "white"
           },
           "zaxis": {
            "backgroundcolor": "#E5ECF6",
            "gridcolor": "white",
            "gridwidth": 2,
            "linecolor": "white",
            "showbackground": true,
            "ticks": "",
            "zerolinecolor": "white"
           }
          },
          "shapedefaults": {
           "line": {
            "color": "#2a3f5f"
           }
          },
          "ternary": {
           "aaxis": {
            "gridcolor": "white",
            "linecolor": "white",
            "ticks": ""
           },
           "baxis": {
            "gridcolor": "white",
            "linecolor": "white",
            "ticks": ""
           },
           "bgcolor": "#E5ECF6",
           "caxis": {
            "gridcolor": "white",
            "linecolor": "white",
            "ticks": ""
           }
          },
          "title": {
           "x": 0.05
          },
          "xaxis": {
           "automargin": true,
           "gridcolor": "white",
           "linecolor": "white",
           "ticks": "",
           "title": {
            "standoff": 15
           },
           "zerolinecolor": "white",
           "zerolinewidth": 2
          },
          "yaxis": {
           "automargin": true,
           "gridcolor": "white",
           "linecolor": "white",
           "ticks": "",
           "title": {
            "standoff": 15
           },
           "zerolinecolor": "white",
           "zerolinewidth": 2
          }
         }
        },
        "title": {
         "font": {
          "size": 14
         }
        },
        "width": 400,
        "xaxis": {
         "anchor": "y",
         "constrain": "domain",
         "domain": [
          0,
          1
         ],
         "linecolor": "black",
         "linewidth": 1,
         "mirror": true,
         "scaleanchor": "y",
         "showline": true,
         "showticklabels": true,
         "tickmode": "array",
         "ticks": "",
         "title": {}
        },
        "yaxis": {
         "anchor": "x",
         "autorange": "reversed",
         "constrain": "domain",
         "domain": [
          0,
          1
         ],
         "linecolor": "black",
         "linewidth": 1,
         "mirror": true,
         "showline": true,
         "showticklabels": true,
         "tickmode": "array",
         "ticks": "",
         "ticktext": [
          "BEGIN",
          "s_1",
          "s_1 -> m_1",
          "m_1",
          "m_1 -> m_2",
          "m_2",
          "m_2 -> p",
          "p",
          "p -> s_2",
          "s_2",
          "END"
         ],
         "tickvals": [
          0,
          1,
          2,
          3,
          4,
          5,
          6,
          7,
          8,
          9,
          10
         ],
         "title": {}
        }
       }
      }
     },
     "metadata": {},
     "output_type": "display_data"
    }
   ],
   "source": [
    "pu.plot_residual(h.normalise_tensor(h.resize_all(s_resid_denoising)), labels, image_dir / \"symbolic_residual.png\")"
   ]
  },
  {
   "cell_type": "markdown",
   "metadata": {
    "id": "4apldPBlabVY"
   },
   "source": [
    "### Figure 4(c) OV logit lens"
   ]
  },
  {
   "cell_type": "code",
   "execution_count": 62,
   "metadata": {
    "id": "KJT50iL3abVY"
   },
   "outputs": [],
   "source": [
    "token_alpha = model.to_tokens(ALPHABET_LIST, prepend_bos=False).to(device)\n",
    "token_alpha = [ element[0].item() for element in token_alpha ]"
   ]
  },
  {
   "cell_type": "code",
   "execution_count": 63,
   "metadata": {
    "id": "n2_prGlwabVY"
   },
   "outputs": [],
   "source": [
    "deductive_head_ov = model.OV\n",
    "ev = model.W_E\n",
    "uev = model.W_U\n",
    "ov_circuit = ev.cpu()[token_alpha, : ] @ deductive_head_ov.AB.cpu() @ uev.cpu()[:, token_alpha]"
   ]
  },
  {
   "cell_type": "code",
   "execution_count": 67,
   "metadata": {
    "colab": {
     "base_uri": "https://localhost:8080/",
     "height": 317
    },
    "id": "ecTqHJM-abVY",
    "outputId": "0b9d0bc6-c4e8-43fd-8411-80b8f8da4e23"
   },
   "outputs": [
    {
     "name": "stdout",
     "output_type": "stream",
     "text": [
      "Plot saved to ../images/pythia-31m/symbolic_ov_circuit.png\n"
     ]
    },
    {
     "data": {
      "application/vnd.plotly.v1+json": {
       "config": {
        "plotlyServerURL": "https://plot.ly"
       },
       "data": [
        {
         "coloraxis": "coloraxis",
         "hovertemplate": "Head: %{x}<br>Layer: %{y}<br>color: %{z}<extra></extra>",
         "name": "0",
         "type": "heatmap",
         "xaxis": "x",
         "yaxis": "y",
         "z": [
          [
           -0.5418108701705933,
           -0.4538775086402893,
           -0.0386514849960804,
           -0.6232911348342896,
           -0.09097377210855484,
           -0.1679808646440506,
           0.007267666980624199,
           -0.31731268763542175,
           -0.10771100223064423,
           -0.15680330991744995,
           -0.23159120976924896,
           -0.2090907096862793,
           0.033140987157821655,
           0.17452500760555267,
           -0.37421321868896484,
           -0.05155203491449356,
           -0.20968139171600342,
           -0.22785352170467377,
           -0.30384761095046997,
           0.008328295312821865,
           -0.36944910883903503,
           -0.24634809792041779,
           -0.17441385984420776,
           0.10058033466339111,
           0.0021984013728797436,
           -0.10323285311460495
          ],
          [
           0.07240413129329681,
           -0.442688524723053,
           0.12410643696784973,
           0.14154194295406342,
           0.09090844541788101,
           0.17381221055984497,
           0.06312429159879684,
           0.32437920570373535,
           0.11816002428531647,
           0.1620759218931198,
           0.0993056520819664,
           -0.07511088997125626,
           -0.0038956410717219114,
           -0.006195912137627602,
           -0.03594008833169937,
           0.09077345579862595,
           0.1370605081319809,
           0.21663813292980194,
           -0.25892990827560425,
           0.24227599799633026,
           0.04771237075328827,
           -0.08955372124910355,
           0.11333981901407242,
           -0.02038540318608284,
           0.2615899443626404,
           -0.21560156345367432
          ],
          [
           -0.36975806951522827,
           -0.34192728996276855,
           -1,
           -0.4688534438610077,
           -0.27826064825057983,
           -0.2844446301460266,
           -0.1932559758424759,
           -0.3141973614692688,
           -0.34347257018089294,
           -0.3883484899997711,
           -0.2912042737007141,
           -0.30206796526908875,
           -0.6356844902038574,
           -0.18088188767433167,
           -0.5386638641357422,
           -0.24513618648052216,
           -0.33234137296676636,
           -0.4669255018234253,
           -0.24608518183231354,
           -0.2113574743270874,
           -0.6046855449676514,
           -0.42903169989585876,
           -0.4322552978992462,
           -0.32377567887306213,
           -0.13967856764793396,
           -0.47899672389030457
          ],
          [
           0.16843469440937042,
           -0.25804492831230164,
           0.2512279748916626,
           -0.7486947178840637,
           0.18392367660999298,
           -0.17543835937976837,
           0.04547464847564697,
           0.2413405478000641,
           0.06383109837770462,
           0.031092382967472076,
           0.2330370843410492,
           0.053732980042696,
           0.1453084945678711,
           0.05187099054455757,
           -0.06604378670454025,
           0.1345897614955902,
           0.11511911451816559,
           -0.06909508258104324,
           0.034297842532396317,
           0.08254426717758179,
           -0.1642485409975052,
           0.12930437922477722,
           0.1753813922405243,
           0.08917936682701111,
           0.3833196759223938,
           -0.1780550181865692
          ],
          [
           -0.040572188794612885,
           -0.30365926027297974,
           0.10622496902942657,
           -0.46569156646728516,
           -0.3198407292366028,
           0.06895960867404938,
           -0.08340711146593094,
           0.1211179792881012,
           -0.1416170448064804,
           0.2544403672218323,
           -0.08351849019527435,
           -0.10275617986917496,
           0.46788331866264343,
           0.28176188468933105,
           -0.43694040179252625,
           0.36524835228919983,
           0.16929593682289124,
           -0.04306504875421524,
           0.06202872470021248,
           0.13615185022354126,
           -0.17778988182544708,
           0.10143962502479553,
           0.3364178538322449,
           -0.19958694279193878,
           -0.024942953139543533,
           -0.022977998480200768
          ],
          [
           -0.2120693475008011,
           0.01030627079308033,
           0.032253336161375046,
           -0.5283961892127991,
           -0.17816288769245148,
           -0.5813604593276978,
           -0.20559705793857574,
           -0.27660179138183594,
           -0.06653433293104172,
           0.03195808827877045,
           0.15637041628360748,
           -0.00333994859829545,
           -0.17706364393234253,
           0.0013015845324844122,
           -0.16338913142681122,
           -0.18836086988449097,
           -0.1390271633863449,
           0.0061103529296815395,
           -0.05077209323644638,
           -0.007741034030914307,
           -0.11741970479488373,
           -0.07899598777294159,
           -0.18116113543510437,
           0.03528478741645813,
           0.02710309997200966,
           -0.403616726398468
          ],
          [
           -0.1260460913181305,
           -0.39178168773651123,
           -0.060344088822603226,
           -0.42745736241340637,
           -0.17322875559329987,
           -0.03473515808582306,
           -0.6417703032493591,
           -0.007889065891504288,
           -0.011998878791928291,
           -0.1121387779712677,
           0.09940037131309509,
           -0.10844878107309341,
           -0.10680381953716278,
           -0.1250133514404297,
           0.04975904896855354,
           -0.002237263135612011,
           0.01455141045153141,
           0.00016026633966248482,
           0.01837754249572754,
           0.19519318640232086,
           -0.10939681529998779,
           -0.11743950098752975,
           -0.20968341827392578,
           -0.010461770929396152,
           0.10142512619495392,
           -0.2897254526615143
          ],
          [
           -0.39043620228767395,
           -0.1400865763425827,
           -0.12906427681446075,
           -0.5331175923347473,
           -0.11173450201749802,
           -0.3332862854003906,
           -0.3065330386161804,
           -0.9436221718788147,
           -0.17289964854717255,
           -0.5755670666694641,
           -0.09539774060249329,
           -0.3911856710910797,
           -0.36872684955596924,
           -0.3306903839111328,
           -0.38715189695358276,
           0.020491493865847588,
           -0.24925848841667175,
           -0.1498641073703766,
           -0.15676771104335785,
           -0.09057546406984329,
           -0.5764260292053223,
           -0.1475418359041214,
           -0.41360118985176086,
           -0.39751526713371277,
           -0.05760569125413895,
           -0.3205287754535675
          ],
          [
           -0.36614686250686646,
           -0.004714348819106817,
           -0.21234510838985443,
           -0.21968090534210205,
           -0.389052152633667,
           -0.23161129653453827,
           -0.26594990491867065,
           -0.19694769382476807,
           -0.3348645269870758,
           -0.27439549565315247,
           -0.06541921943426132,
           -0.20915284752845764,
           -0.35261455178260803,
           0.06524357199668884,
           -0.09156874567270279,
           0.0031136905308812857,
           -0.04914085939526558,
           0.02511230856180191,
           -0.1874139904975891,
           0.0011041625402867794,
           -0.12315091490745544,
           0.09167591482400894,
           -0.2511831223964691,
           -0.002362767467275262,
           -0.19165650010108948,
           -0.2891940176486969
          ],
          [
           -0.5123260617256165,
           0.038081973791122437,
           -0.038822732865810394,
           -0.6197710633277893,
           -0.04390905797481537,
           -0.5142830014228821,
           -0.27258536219596863,
           0.12966564297676086,
           -0.08109065890312195,
           -0.49082842469215393,
           -0.08215688169002533,
           -0.012176010757684708,
           -0.33143532276153564,
           0.030739277601242065,
           -0.28758475184440613,
           -0.17513300478458405,
           -0.12979571521282196,
           0.264067143201828,
           -0.19123943150043488,
           0.07085749506950378,
           -0.1805262565612793,
           -0.1412292867898941,
           -0.1683340072631836,
           -0.04863885045051575,
           0.07016907632350922,
           -0.28198346495628357
          ],
          [
           -0.49631837010383606,
           -0.38883110880851746,
           -0.21676340699195862,
           -0.32911837100982666,
           -0.12228595465421677,
           -0.399738073348999,
           -0.35951170325279236,
           -0.19475042819976807,
           -0.014566968195140362,
           -0.1547563374042511,
           -0.8603129386901855,
           -0.20858116447925568,
           -0.47209686040878296,
           -0.06515751779079437,
           -0.39949652552604675,
           -0.1970362663269043,
           0.3617958724498749,
           -0.1462026834487915,
           -0.6542108654975891,
           -0.1458369344472885,
           -0.07608641684055328,
           -0.4024030268192291,
           -0.4018455743789673,
           -0.29064682126045227,
           -0.21679890155792236,
           -0.3650915026664734
          ],
          [
           -0.1589757353067398,
           -0.195937380194664,
           -0.2535565495491028,
           -0.4582020342350006,
           0.020414788275957108,
           0.1780071258544922,
           -0.15105685591697693,
           -0.1650039255619049,
           -0.0628734901547432,
           -0.21208423376083374,
           -0.021964555606245995,
           -0.32594284415245056,
           -0.41130656003952026,
           -0.2404310405254364,
           -0.20537661015987396,
           -0.17721575498580933,
           0.2521370053291321,
           0.04147075489163399,
           -0.34732669591903687,
           0.09255571663379669,
           -0.03435276448726654,
           -0.26724228262901306,
           -0.3110831081867218,
           -0.48070085048675537,
           -0.19416089355945587,
           -0.13440820574760437
          ],
          [
           -0.06669625639915466,
           -0.4223712980747223,
           0.11964956670999527,
           -0.18502123653888702,
           -0.12459314614534378,
           0.04628807306289673,
           -0.3186561167240143,
           -0.10869671404361725,
           0.06557369232177734,
           0.05659255012869835,
           0.08618252724409103,
           -0.07022769749164581,
           -0.5815016627311707,
           -0.08656520396471024,
           -0.1607530266046524,
           -0.17905329167842865,
           -0.146085724234581,
           -0.2232353836297989,
           -0.03756493330001831,
           0.03941383585333824,
           -0.18906612694263458,
           -0.1698649376630783,
           0.0791228860616684,
           0.1318529099225998,
           0.003216176526620984,
           -0.3154027760028839
          ],
          [
           -0.12984199821949005,
           0.14983414113521576,
           0.23741444945335388,
           -0.23206549882888794,
           0.05289003998041153,
           0.05392608419060707,
           0.05312879756093025,
           -0.028284061700105667,
           0.333325058221817,
           0.015990277752280235,
           0.008395020850002766,
           -0.07381636649370193,
           0.324799507856369,
           -0.20690153539180756,
           0.07048596441745758,
           0.12657514214515686,
           0.1748960167169571,
           0.19089210033416748,
           -0.055779244750738144,
           0.14464768767356873,
           0.13373060524463654,
           0.05322325974702835,
           0.10747694969177246,
           -0.017682278528809547,
           0.4305645823478699,
           -0.28589150309562683
          ],
          [
           -0.5763519406318665,
           -0.526745617389679,
           -0.5235385298728943,
           -0.5899341106414795,
           -0.2911321818828583,
           -0.3315209746360779,
           -0.3188713788986206,
           -0.3535831868648529,
           -0.46693623065948486,
           -0.29091325402259827,
           -0.7146123647689819,
           -0.3828672766685486,
           -0.5209159255027771,
           0.3181320130825043,
           -0.9084689021110535,
           -0.2907553017139435,
           0.026774829253554344,
           -0.611510694026947,
           -0.21239612996578217,
           -0.09164533019065857,
           -0.4447685182094574,
           -0.3956862688064575,
           -0.5183141231536865,
           -0.13954958319664001,
           -0.26270511746406555,
           -0.720429003238678
          ],
          [
           0.053232673555612564,
           -0.6786893010139465,
           -0.06390612572431564,
           0.030209016054868698,
           0.04091046378016472,
           -0.2040792554616928,
           -0.16727633774280548,
           0.06805981695652008,
           0.06930435448884964,
           0.18558259308338165,
           -0.2356061339378357,
           0.02718491666018963,
           -0.20795635879039764,
           -0.17483609914779663,
           -0.265700101852417,
           -0.5067246556282043,
           -0.022155502811074257,
           -0.08703378587961197,
           -0.24856071174144745,
           0.3039059042930603,
           -0.11467510461807251,
           -0.009934954345226288,
           -0.059454333037137985,
           0.49182990193367004,
           0.2174629420042038,
           -0.34718769788742065
          ],
          [
           -0.35312747955322266,
           -0.09638892114162445,
           -0.5448468327522278,
           -0.40652555227279663,
           -0.30298498272895813,
           -0.09361658245325089,
           -0.1243739053606987,
           0.07581917196512222,
           -0.06577569991350174,
           0.2439505010843277,
           -0.04925640672445297,
           -0.11798270046710968,
           0.10747027397155762,
           0.2020530253648758,
           -0.37192511558532715,
           -0.28894826769828796,
           -0.22388461232185364,
           -0.32186561822891235,
           -0.14950349926948547,
           0.03428439050912857,
           0.02184373140335083,
           0.16148005425930023,
           -0.14098219573497772,
           0.004468263126909733,
           0.3946572244167328,
           -0.2397388070821762
          ],
          [
           0.007584158796817064,
           -0.13385239243507385,
           0.1056189313530922,
           0.039418160915374756,
           -0.17549900710582733,
           -0.052644193172454834,
           -0.20415233075618744,
           0.02896209992468357,
           0.023355288431048393,
           0.015982942655682564,
           0.06815379112958908,
           -0.05738452076911926,
           0.016634121537208557,
           0.0719841867685318,
           -0.11972349882125854,
           -0.16154184937477112,
           0.3324379622936249,
           -0.2306510955095291,
           -0.3502994775772095,
           0.26525142788887024,
           -0.001965707866474986,
           0.19274307787418365,
           0.02003960870206356,
           0.009099025279283524,
           0.384936660528183,
           -0.1838546246290207
          ],
          [
           -0.07025934755802155,
           -0.23318885266780853,
           -0.016094353049993515,
           -0.26859310269355774,
           -0.24729633331298828,
           -0.47425585985183716,
           -0.06454691290855408,
           -0.3321667015552521,
           -0.22362403571605682,
           -0.013418185524642467,
           -0.27204930782318115,
           -0.1403869241476059,
           -0.29996201395988464,
           -0.09062507748603821,
           -0.4966920018196106,
           0.12272483855485916,
           0.16901297867298126,
           -0.21915045380592346,
           -0.6659102439880371,
           -0.1066097766160965,
           -0.39731234312057495,
           -0.0017185932956635952,
           -0.09210521727800369,
           -0.031413864344358444,
           -0.012552902102470398,
           -0.05371840298175812
          ],
          [
           -0.27661606669425964,
           -0.6982060074806213,
           0.04239010438323021,
           -0.4521998167037964,
           -0.17117619514465332,
           -0.26343998312950134,
           -0.3305971324443817,
           0.008790985681116581,
           -0.1672568917274475,
           -0.4576290249824524,
           -0.5776951313018799,
           -0.3284289836883545,
           -0.22442398965358734,
           -0.28431132435798645,
           -0.23198607563972473,
           -0.12169929593801498,
           -0.0037876623682677746,
           -0.32047826051712036,
           -0.031103383749723434,
           -0.27473482489585876,
           -0.1252269446849823,
           -0.04603289067745209,
           -0.22177210450172424,
           -0.5044817328453064,
           0.004384474828839302,
           -0.46414053440093994
          ],
          [
           0.05811597406864166,
           -0.4877038598060608,
           -0.06898236274719238,
           -0.16111406683921814,
           -0.0024806794244796038,
           -0.3936230540275574,
           -0.2403128445148468,
           -0.274232417345047,
           -0.0824284628033638,
           -0.2831884026527405,
           -0.4627613127231598,
           -0.22191089391708374,
           0.08799125254154205,
           0.027929311618208885,
           -0.30400606989860535,
           -0.3133702874183655,
           0.17848430573940277,
           -0.2157517373561859,
           0.032232873141765594,
           -0.22129178047180176,
           -0.14339548349380493,
           -0.14725618064403534,
           -0.18688525259494781,
           -0.16067221760749817,
           -0.24744413793087006,
           -0.5958719253540039
          ],
          [
           -0.015048443339765072,
           -0.22660596668720245,
           -0.06287670135498047,
           -0.15652801096439362,
           0.015104681253433228,
           -0.11554646492004395,
           0.017270656302571297,
           0.21943874657154083,
           0.16262446343898773,
           -0.2905055582523346,
           0.1273820847272873,
           0.39182332158088684,
           -0.32150891423225403,
           0.017718475311994553,
           -0.16441094875335693,
           -0.04877132177352905,
           0.15030942857265472,
           -0.26820963621139526,
           0.0837368294596672,
           0.3223212659358978,
           0.08825768530368805,
           -0.42550116777420044,
           -0.041500549763441086,
           -0.054581157863140106,
           0.04699188098311424,
           -0.2138395458459854
          ],
          [
           0.004764179233461618,
           -0.001592849032022059,
           0.10468369722366333,
           0.0448983795940876,
           0.2831737995147705,
           0.03741491585969925,
           0.10427013784646988,
           -0.03886491805315018,
           0.3071553409099579,
           0.15348917245864868,
           0.42840591073036194,
           0.27279987931251526,
           -0.1696409285068512,
           0.28171706199645996,
           -0.12167127430438995,
           -0.04602503776550293,
           0.3138731122016907,
           0.3163837194442749,
           -0.024485105648636818,
           0.34094905853271484,
           -0.22059261798858643,
           0.021168066188693047,
           -0.2776948809623718,
           0.06599507480859756,
           0.06428571045398712,
           0.16484984755516052
          ],
          [
           -0.04608523100614548,
           -0.20148500800132751,
           -0.049865588545799255,
           -0.05504148080945015,
           -0.19682565331459045,
           -0.5784615874290466,
           -0.6843813061714172,
           -0.2555745840072632,
           0.003432679921388626,
           -0.21353422105312347,
           -0.2865464985370636,
           -0.10827966779470444,
           -0.250428706407547,
           -0.15278704464435577,
           0.04655557498335838,
           -0.05593197047710419,
           0.04800064116716385,
           0.037320803850889206,
           -0.29051339626312256,
           0.2232157438993454,
           -0.06837613135576248,
           -0.0015636448515579104,
           -0.2733953893184662,
           -0.3911198675632477,
           0.13415752351284027,
           -0.30815038084983826
          ],
          [
           -0.7685734629631042,
           -0.5726603865623474,
           -0.015437562018632889,
           -0.2679385840892792,
           -0.29587262868881226,
           -0.26065024733543396,
           0.016701417043805122,
           -0.2646557688713074,
           -0.2469049096107483,
           -0.18660974502563477,
           -0.39333122968673706,
           -0.10665088146924973,
           -0.5967066884040833,
           -0.0325147919356823,
           -0.501168429851532,
           -0.08893148601055145,
           0.027651270851492882,
           -0.38297075033187866,
           -0.6951978206634521,
           -0.00691741518676281,
           -0.27152952551841736,
           -0.10502263903617859,
           -0.40316149592399597,
           -0.19942203164100647,
           -0.44243884086608887,
           -0.3104296326637268
          ],
          [
           -0.37073951959609985,
           0.1951325237751007,
           -0.15779699385166168,
           0.0829496905207634,
           0.11478262394666672,
           -0.05518294498324394,
           -0.1693374067544937,
           0.05447065830230713,
           0.046355605125427246,
           -0.09821977466344833,
           -0.14522521197795868,
           0.06604999303817749,
           0.08812277764081955,
           0.0028299605473876,
           0.1737211048603058,
           -0.2728424668312073,
           0.21260246634483337,
           0.0011910432949662209,
           -0.3038935363292694,
           0.4530310332775116,
           0.05573394149541855,
           0.1931084543466568,
           -0.1102963536977768,
           0.2917565703392029,
           0.1978026032447815,
           -0.5563417077064514
          ]
         ]
        }
       ],
       "layout": {
        "coloraxis": {
         "cmid": 0,
         "colorbar": {
          "len": 1,
          "lenmode": "fraction",
          "thickness": 10,
          "thicknessmode": "pixels",
          "title": {
           "text": "𝑆"
          }
         },
         "colorscale": [
          [
           0,
           "rgb(103,0,31)"
          ],
          [
           0.1,
           "rgb(178,24,43)"
          ],
          [
           0.2,
           "rgb(214,96,77)"
          ],
          [
           0.3,
           "rgb(244,165,130)"
          ],
          [
           0.4,
           "rgb(253,219,199)"
          ],
          [
           0.5,
           "rgb(247,247,247)"
          ],
          [
           0.6,
           "rgb(209,229,240)"
          ],
          [
           0.7,
           "rgb(146,197,222)"
          ],
          [
           0.8,
           "rgb(67,147,195)"
          ],
          [
           0.9,
           "rgb(33,102,172)"
          ],
          [
           1,
           "rgb(5,48,97)"
          ]
         ]
        },
        "font": {
         "color": "black",
         "size": 12
        },
        "height": 300,
        "margin": {
         "b": 10,
         "l": 10,
         "r": 10,
         "t": 10
        },
        "template": {
         "data": {
          "bar": [
           {
            "error_x": {
             "color": "#2a3f5f"
            },
            "error_y": {
             "color": "#2a3f5f"
            },
            "marker": {
             "line": {
              "color": "#E5ECF6",
              "width": 0.5
             },
             "pattern": {
              "fillmode": "overlay",
              "size": 10,
              "solidity": 0.2
             }
            },
            "type": "bar"
           }
          ],
          "barpolar": [
           {
            "marker": {
             "line": {
              "color": "#E5ECF6",
              "width": 0.5
             },
             "pattern": {
              "fillmode": "overlay",
              "size": 10,
              "solidity": 0.2
             }
            },
            "type": "barpolar"
           }
          ],
          "carpet": [
           {
            "aaxis": {
             "endlinecolor": "#2a3f5f",
             "gridcolor": "white",
             "linecolor": "white",
             "minorgridcolor": "white",
             "startlinecolor": "#2a3f5f"
            },
            "baxis": {
             "endlinecolor": "#2a3f5f",
             "gridcolor": "white",
             "linecolor": "white",
             "minorgridcolor": "white",
             "startlinecolor": "#2a3f5f"
            },
            "type": "carpet"
           }
          ],
          "choropleth": [
           {
            "colorbar": {
             "outlinewidth": 0,
             "ticks": ""
            },
            "type": "choropleth"
           }
          ],
          "contour": [
           {
            "colorbar": {
             "outlinewidth": 0,
             "ticks": ""
            },
            "colorscale": [
             [
              0,
              "#0d0887"
             ],
             [
              0.1111111111111111,
              "#46039f"
             ],
             [
              0.2222222222222222,
              "#7201a8"
             ],
             [
              0.3333333333333333,
              "#9c179e"
             ],
             [
              0.4444444444444444,
              "#bd3786"
             ],
             [
              0.5555555555555556,
              "#d8576b"
             ],
             [
              0.6666666666666666,
              "#ed7953"
             ],
             [
              0.7777777777777778,
              "#fb9f3a"
             ],
             [
              0.8888888888888888,
              "#fdca26"
             ],
             [
              1,
              "#f0f921"
             ]
            ],
            "type": "contour"
           }
          ],
          "contourcarpet": [
           {
            "colorbar": {
             "outlinewidth": 0,
             "ticks": ""
            },
            "type": "contourcarpet"
           }
          ],
          "heatmap": [
           {
            "colorbar": {
             "outlinewidth": 0,
             "ticks": ""
            },
            "colorscale": [
             [
              0,
              "#0d0887"
             ],
             [
              0.1111111111111111,
              "#46039f"
             ],
             [
              0.2222222222222222,
              "#7201a8"
             ],
             [
              0.3333333333333333,
              "#9c179e"
             ],
             [
              0.4444444444444444,
              "#bd3786"
             ],
             [
              0.5555555555555556,
              "#d8576b"
             ],
             [
              0.6666666666666666,
              "#ed7953"
             ],
             [
              0.7777777777777778,
              "#fb9f3a"
             ],
             [
              0.8888888888888888,
              "#fdca26"
             ],
             [
              1,
              "#f0f921"
             ]
            ],
            "type": "heatmap"
           }
          ],
          "heatmapgl": [
           {
            "colorbar": {
             "outlinewidth": 0,
             "ticks": ""
            },
            "colorscale": [
             [
              0,
              "#0d0887"
             ],
             [
              0.1111111111111111,
              "#46039f"
             ],
             [
              0.2222222222222222,
              "#7201a8"
             ],
             [
              0.3333333333333333,
              "#9c179e"
             ],
             [
              0.4444444444444444,
              "#bd3786"
             ],
             [
              0.5555555555555556,
              "#d8576b"
             ],
             [
              0.6666666666666666,
              "#ed7953"
             ],
             [
              0.7777777777777778,
              "#fb9f3a"
             ],
             [
              0.8888888888888888,
              "#fdca26"
             ],
             [
              1,
              "#f0f921"
             ]
            ],
            "type": "heatmapgl"
           }
          ],
          "histogram": [
           {
            "marker": {
             "pattern": {
              "fillmode": "overlay",
              "size": 10,
              "solidity": 0.2
             }
            },
            "type": "histogram"
           }
          ],
          "histogram2d": [
           {
            "colorbar": {
             "outlinewidth": 0,
             "ticks": ""
            },
            "colorscale": [
             [
              0,
              "#0d0887"
             ],
             [
              0.1111111111111111,
              "#46039f"
             ],
             [
              0.2222222222222222,
              "#7201a8"
             ],
             [
              0.3333333333333333,
              "#9c179e"
             ],
             [
              0.4444444444444444,
              "#bd3786"
             ],
             [
              0.5555555555555556,
              "#d8576b"
             ],
             [
              0.6666666666666666,
              "#ed7953"
             ],
             [
              0.7777777777777778,
              "#fb9f3a"
             ],
             [
              0.8888888888888888,
              "#fdca26"
             ],
             [
              1,
              "#f0f921"
             ]
            ],
            "type": "histogram2d"
           }
          ],
          "histogram2dcontour": [
           {
            "colorbar": {
             "outlinewidth": 0,
             "ticks": ""
            },
            "colorscale": [
             [
              0,
              "#0d0887"
             ],
             [
              0.1111111111111111,
              "#46039f"
             ],
             [
              0.2222222222222222,
              "#7201a8"
             ],
             [
              0.3333333333333333,
              "#9c179e"
             ],
             [
              0.4444444444444444,
              "#bd3786"
             ],
             [
              0.5555555555555556,
              "#d8576b"
             ],
             [
              0.6666666666666666,
              "#ed7953"
             ],
             [
              0.7777777777777778,
              "#fb9f3a"
             ],
             [
              0.8888888888888888,
              "#fdca26"
             ],
             [
              1,
              "#f0f921"
             ]
            ],
            "type": "histogram2dcontour"
           }
          ],
          "mesh3d": [
           {
            "colorbar": {
             "outlinewidth": 0,
             "ticks": ""
            },
            "type": "mesh3d"
           }
          ],
          "parcoords": [
           {
            "line": {
             "colorbar": {
              "outlinewidth": 0,
              "ticks": ""
             }
            },
            "type": "parcoords"
           }
          ],
          "pie": [
           {
            "automargin": true,
            "type": "pie"
           }
          ],
          "scatter": [
           {
            "fillpattern": {
             "fillmode": "overlay",
             "size": 10,
             "solidity": 0.2
            },
            "type": "scatter"
           }
          ],
          "scatter3d": [
           {
            "line": {
             "colorbar": {
              "outlinewidth": 0,
              "ticks": ""
             }
            },
            "marker": {
             "colorbar": {
              "outlinewidth": 0,
              "ticks": ""
             }
            },
            "type": "scatter3d"
           }
          ],
          "scattercarpet": [
           {
            "marker": {
             "colorbar": {
              "outlinewidth": 0,
              "ticks": ""
             }
            },
            "type": "scattercarpet"
           }
          ],
          "scattergeo": [
           {
            "marker": {
             "colorbar": {
              "outlinewidth": 0,
              "ticks": ""
             }
            },
            "type": "scattergeo"
           }
          ],
          "scattergl": [
           {
            "marker": {
             "colorbar": {
              "outlinewidth": 0,
              "ticks": ""
             }
            },
            "type": "scattergl"
           }
          ],
          "scattermapbox": [
           {
            "marker": {
             "colorbar": {
              "outlinewidth": 0,
              "ticks": ""
             }
            },
            "type": "scattermapbox"
           }
          ],
          "scatterpolar": [
           {
            "marker": {
             "colorbar": {
              "outlinewidth": 0,
              "ticks": ""
             }
            },
            "type": "scatterpolar"
           }
          ],
          "scatterpolargl": [
           {
            "marker": {
             "colorbar": {
              "outlinewidth": 0,
              "ticks": ""
             }
            },
            "type": "scatterpolargl"
           }
          ],
          "scatterternary": [
           {
            "marker": {
             "colorbar": {
              "outlinewidth": 0,
              "ticks": ""
             }
            },
            "type": "scatterternary"
           }
          ],
          "surface": [
           {
            "colorbar": {
             "outlinewidth": 0,
             "ticks": ""
            },
            "colorscale": [
             [
              0,
              "#0d0887"
             ],
             [
              0.1111111111111111,
              "#46039f"
             ],
             [
              0.2222222222222222,
              "#7201a8"
             ],
             [
              0.3333333333333333,
              "#9c179e"
             ],
             [
              0.4444444444444444,
              "#bd3786"
             ],
             [
              0.5555555555555556,
              "#d8576b"
             ],
             [
              0.6666666666666666,
              "#ed7953"
             ],
             [
              0.7777777777777778,
              "#fb9f3a"
             ],
             [
              0.8888888888888888,
              "#fdca26"
             ],
             [
              1,
              "#f0f921"
             ]
            ],
            "type": "surface"
           }
          ],
          "table": [
           {
            "cells": {
             "fill": {
              "color": "#EBF0F8"
             },
             "line": {
              "color": "white"
             }
            },
            "header": {
             "fill": {
              "color": "#C8D4E3"
             },
             "line": {
              "color": "white"
             }
            },
            "type": "table"
           }
          ]
         },
         "layout": {
          "annotationdefaults": {
           "arrowcolor": "#2a3f5f",
           "arrowhead": 0,
           "arrowwidth": 1
          },
          "autotypenumbers": "strict",
          "coloraxis": {
           "colorbar": {
            "outlinewidth": 0,
            "ticks": ""
           }
          },
          "colorscale": {
           "diverging": [
            [
             0,
             "#8e0152"
            ],
            [
             0.1,
             "#c51b7d"
            ],
            [
             0.2,
             "#de77ae"
            ],
            [
             0.3,
             "#f1b6da"
            ],
            [
             0.4,
             "#fde0ef"
            ],
            [
             0.5,
             "#f7f7f7"
            ],
            [
             0.6,
             "#e6f5d0"
            ],
            [
             0.7,
             "#b8e186"
            ],
            [
             0.8,
             "#7fbc41"
            ],
            [
             0.9,
             "#4d9221"
            ],
            [
             1,
             "#276419"
            ]
           ],
           "sequential": [
            [
             0,
             "#0d0887"
            ],
            [
             0.1111111111111111,
             "#46039f"
            ],
            [
             0.2222222222222222,
             "#7201a8"
            ],
            [
             0.3333333333333333,
             "#9c179e"
            ],
            [
             0.4444444444444444,
             "#bd3786"
            ],
            [
             0.5555555555555556,
             "#d8576b"
            ],
            [
             0.6666666666666666,
             "#ed7953"
            ],
            [
             0.7777777777777778,
             "#fb9f3a"
            ],
            [
             0.8888888888888888,
             "#fdca26"
            ],
            [
             1,
             "#f0f921"
            ]
           ],
           "sequentialminus": [
            [
             0,
             "#0d0887"
            ],
            [
             0.1111111111111111,
             "#46039f"
            ],
            [
             0.2222222222222222,
             "#7201a8"
            ],
            [
             0.3333333333333333,
             "#9c179e"
            ],
            [
             0.4444444444444444,
             "#bd3786"
            ],
            [
             0.5555555555555556,
             "#d8576b"
            ],
            [
             0.6666666666666666,
             "#ed7953"
            ],
            [
             0.7777777777777778,
             "#fb9f3a"
            ],
            [
             0.8888888888888888,
             "#fdca26"
            ],
            [
             1,
             "#f0f921"
            ]
           ]
          },
          "colorway": [
           "#636efa",
           "#EF553B",
           "#00cc96",
           "#ab63fa",
           "#FFA15A",
           "#19d3f3",
           "#FF6692",
           "#B6E880",
           "#FF97FF",
           "#FECB52"
          ],
          "font": {
           "color": "#2a3f5f"
          },
          "geo": {
           "bgcolor": "white",
           "lakecolor": "white",
           "landcolor": "#E5ECF6",
           "showlakes": true,
           "showland": true,
           "subunitcolor": "white"
          },
          "hoverlabel": {
           "align": "left"
          },
          "hovermode": "closest",
          "mapbox": {
           "style": "light"
          },
          "paper_bgcolor": "white",
          "plot_bgcolor": "#E5ECF6",
          "polar": {
           "angularaxis": {
            "gridcolor": "white",
            "linecolor": "white",
            "ticks": ""
           },
           "bgcolor": "#E5ECF6",
           "radialaxis": {
            "gridcolor": "white",
            "linecolor": "white",
            "ticks": ""
           }
          },
          "scene": {
           "xaxis": {
            "backgroundcolor": "#E5ECF6",
            "gridcolor": "white",
            "gridwidth": 2,
            "linecolor": "white",
            "showbackground": true,
            "ticks": "",
            "zerolinecolor": "white"
           },
           "yaxis": {
            "backgroundcolor": "#E5ECF6",
            "gridcolor": "white",
            "gridwidth": 2,
            "linecolor": "white",
            "showbackground": true,
            "ticks": "",
            "zerolinecolor": "white"
           },
           "zaxis": {
            "backgroundcolor": "#E5ECF6",
            "gridcolor": "white",
            "gridwidth": 2,
            "linecolor": "white",
            "showbackground": true,
            "ticks": "",
            "zerolinecolor": "white"
           }
          },
          "shapedefaults": {
           "line": {
            "color": "#2a3f5f"
           }
          },
          "ternary": {
           "aaxis": {
            "gridcolor": "white",
            "linecolor": "white",
            "ticks": ""
           },
           "baxis": {
            "gridcolor": "white",
            "linecolor": "white",
            "ticks": ""
           },
           "bgcolor": "#E5ECF6",
           "caxis": {
            "gridcolor": "white",
            "linecolor": "white",
            "ticks": ""
           }
          },
          "title": {
           "x": 0.05
          },
          "xaxis": {
           "automargin": true,
           "gridcolor": "white",
           "linecolor": "white",
           "ticks": "",
           "title": {
            "standoff": 15
           },
           "zerolinecolor": "white",
           "zerolinewidth": 2
          },
          "yaxis": {
           "automargin": true,
           "gridcolor": "white",
           "linecolor": "white",
           "ticks": "",
           "title": {
            "standoff": 15
           },
           "zerolinecolor": "white",
           "zerolinewidth": 2
          }
         }
        },
        "title": {
         "font": {
          "size": 14
         }
        },
        "width": 300,
        "xaxis": {
         "anchor": "y",
         "constrain": "domain",
         "domain": [
          0,
          1
         ],
         "linecolor": "black",
         "linewidth": 1,
         "mirror": true,
         "scaleanchor": "y",
         "showline": true,
         "tickcolor": "black",
         "ticks": "outside",
         "tickwidth": 1,
         "title": {}
        },
        "yaxis": {
         "anchor": "x",
         "autorange": "reversed",
         "constrain": "domain",
         "domain": [
          0,
          1
         ],
         "linecolor": "black",
         "linewidth": 1,
         "mirror": true,
         "showline": true,
         "tickcolor": "black",
         "ticks": "outside",
         "tickwidth": 1,
         "title": {}
        }
       }
      }
     },
     "metadata": {},
     "output_type": "display_data"
    }
   ],
   "source": [
    "# OV circuit for head 11.10\n",
    "layer = 11\n",
    "head = 4\n",
    "pu.plot_attn(h.normalise_tensor(ov_circuit[layer, head, : , :]), ALPHABET_LIST, image_dir / \"symbolic_ov_circuit.png\")"
   ]
  },
  {
   "cell_type": "markdown",
   "metadata": {
    "id": "zSccDrGfabVZ"
   },
   "source": [
    "## Localization of Term-Related Information Flow"
   ]
  },
  {
   "cell_type": "code",
   "execution_count": 68,
   "metadata": {
    "id": "qI5EKogEabVZ"
   },
   "outputs": [],
   "source": [
    "# Corruption and tokenization\n",
    "s_corrupted_prompts = all_term_corrupt(s_prompts, s_As, s_Bs, s_labels, 'symbolic')\n",
    "\n",
    "s_tokens = model.to_tokens(s_prompts, prepend_bos=False).to(device)\n",
    "s_corrupted_tokens = model.to_tokens(s_corrupted_prompts, prepend_bos=False).to(device)"
   ]
  },
  {
   "cell_type": "code",
   "execution_count": 69,
   "metadata": {
    "colab": {
     "base_uri": "https://localhost:8080/"
    },
    "id": "7VHb6Mx5abVZ",
    "outputId": "527445a2-b462-49d2-f0c8-4daae6a3a9bc"
   },
   "outputs": [
    {
     "name": "stdout",
     "output_type": "stream",
     "text": [
      "Clean logit diff: 0.8832\n",
      "Corrupted logit diff: -0.0172\n"
     ]
    }
   ],
   "source": [
    "# Compute logits for interventions\n",
    "s_clean_logits, s_clean_cache = model.run_with_cache(s_tokens)\n",
    "s_corrupted_logits, s_corrupted_cache = model.run_with_cache(s_corrupted_tokens)\n",
    "\n",
    "s_clean_logit_diff = h.compute_logit_diff(s_clean_logits, s_answer_tokens)\n",
    "print(f\"Clean logit diff: {s_clean_logit_diff:.4f}\")\n",
    "\n",
    "s_corrupted_logit_diff = h.compute_logit_diff(s_corrupted_logits, s_answer_tokens)\n",
    "print(f\"Corrupted logit diff: {s_corrupted_logit_diff:.4f}\")"
   ]
  },
  {
   "cell_type": "markdown",
   "metadata": {
    "id": "wNdDx92-abVZ"
   },
   "source": [
    "### Figure 4(d) residual stream patching"
   ]
  },
  {
   "cell_type": "code",
   "execution_count": 70,
   "metadata": {
    "colab": {
     "base_uri": "https://localhost:8080/"
    },
    "id": "e95chG3LabVZ",
    "outputId": "ff302971-a526-4501-f9be-e2fae8887613"
   },
   "outputs": [
    {
     "name": "stderr",
     "output_type": "stream",
     "text": [
      "  0%|          | 0/24 [00:00<?, ?it/s]"
     ]
    },
    {
     "name": "stderr",
     "output_type": "stream",
     "text": [
      "100%|██████████| 24/24 [01:12<00:00,  3.03s/it]\n"
     ]
    }
   ],
   "source": [
    "s_resid_denoising2 = h.patching_residual(model, s_corrupted_tokens, s_clean_cache, h.metric_denoising, s_answer_tokens, s_clean_logit_diff, s_corrupted_logit_diff, device)"
   ]
  },
  {
   "cell_type": "code",
   "execution_count": 71,
   "metadata": {
    "colab": {
     "base_uri": "https://localhost:8080/",
     "height": 317
    },
    "id": "IdapQYW2abVa",
    "outputId": "4c1a4615-6ff3-4dea-886f-87eeb5f2badd"
   },
   "outputs": [
    {
     "name": "stdout",
     "output_type": "stream",
     "text": [
      "Plot saved to ../images/pythia-31m/symbolic_residual2.png\n"
     ]
    },
    {
     "data": {
      "application/vnd.plotly.v1+json": {
       "config": {
        "plotlyServerURL": "https://plot.ly"
       },
       "data": [
        {
         "coloraxis": "coloraxis",
         "hovertemplate": "Layer: %{x}<br>Sequence Position: %{y}<br>color: %{z}<extra></extra>",
         "name": "0",
         "type": "heatmap",
         "xaxis": "x",
         "y": [
          "BEGIN",
          "s_1",
          "s_1 -> m_1",
          "m_1",
          "m_1 -> m_2",
          "m_2",
          "m_2 -> p",
          "p",
          "p -> s_2",
          "s_2",
          "END"
         ],
         "yaxis": "y",
         "z": [
          [
           0,
           0,
           0,
           0,
           0,
           0,
           0,
           0,
           0,
           0,
           0,
           0,
           0,
           0,
           0,
           0,
           0,
           0,
           0,
           0,
           0,
           0,
           0,
           0
          ],
          [
           0.0013242439599707723,
           -0.0026200581341981888,
           -0.003331814892590046,
           -0.010436284355819225,
           -0.00900163035839796,
           0.011353449895977974,
           0.009534062817692757,
           0.009126405231654644,
           0.009689425118267536,
           0.013288493268191814,
           0.012457448057830334,
           0.011133167892694473,
           0.010456726886332035,
           0.004178059287369251,
           0.00642863055691123,
           0.006535478867590427,
           0.0063161468133330345,
           0.003484065178781748,
           0.002272478537634015,
           0.0027076767291873693,
           0.002042753854766488,
           0.000004773628006660147,
           -0.00002003136796702165,
           0
          ],
          [
           0.0006192086730152369,
           0.005208395887166262,
           0.006598750129342079,
           0.009319938719272614,
           0.005548397079110146,
           0.0021955426782369614,
           0.006122380495071411,
           0.003231517970561981,
           0.0027888042386621237,
           0.0001826038642320782,
           0.0011044618440791965,
           0.000027552841856959276,
           -0.0009517170256003737,
           -0.0008456910727545619,
           -0.001291752909310162,
           -0.0012116769794374704,
           -0.001024526311084628,
           -0.00033514699316583574,
           0.000007172841378633166,
           -0.00007337602437473834,
           0.000039471233321819454,
           0.00012210203567519784,
           -0.00002033040436799638,
           0
          ],
          [
           -0.8269745707511902,
           -0.8233682513237,
           -0.8266158103942871,
           -0.826333224773407,
           -0.8171345591545105,
           -0.7852776646614075,
           -0.7807605266571045,
           -0.7888020277023315,
           -0.7920480966567993,
           -0.7655363082885742,
           -0.6862095594406128,
           -0.6704281568527222,
           -0.6661822199821472,
           -0.6107583045959473,
           -0.6227025985717773,
           -0.5506407618522644,
           -0.5741801857948303,
           -0.3580557405948639,
           -0.27601078152656555,
           -0.27486276626586914,
           -0.2628030776977539,
           -0.00294645712710917,
           -0.00005945956945652142,
           0
          ],
          [
           0.00036549416836351156,
           -0.00019376043928787112,
           0.000036521356378216296,
           -0.0015769817400723696,
           -0.003253852715715766,
           -0.007927415892481804,
           -0.006845387630164623,
           -0.008836928755044937,
           -0.007907876744866371,
           -0.020948218181729317,
           -0.02520446665585041,
           -0.0033710964489728212,
           -0.0037149193231016397,
           -0.0014172191731631756,
           -0.0022680195979774,
           -0.0026029767468571663,
           -0.003022294957190752,
           -0.0027642054483294487,
           -0.00353535870090127,
           -0.0034465512726455927,
           -0.002912381663918495,
           -0.000791948230471462,
           -0.000018895763787440956,
           0
          ],
          [
           -0.479613721370697,
           -0.4379746615886688,
           -0.4158429503440857,
           -0.41926702857017517,
           -0.387173056602478,
           -0.3868985176086426,
           -0.3741956353187561,
           -0.2369905263185501,
           -0.2047707587480545,
           -0.11907629668712616,
           -0.12482843548059464,
           -0.23707258701324463,
           -0.2406506985425949,
           -0.2048412710428238,
           -0.16831398010253906,
           -0.1277204304933548,
           -0.1589256376028061,
           -0.049339212477207184,
           -0.02909494750201702,
           -0.043030887842178345,
           -0.038523927330970764,
           0.000029840099159628153,
           -0.00002721697455854155,
           0
          ],
          [
           -0.0011682844487950206,
           -0.0015396293019875884,
           0.00049429020145908,
           0.0018829541513696313,
           0.0031961945351213217,
           0.002459268318489194,
           0.003579202573746443,
           0.004793085623532534,
           0.0043151830323040485,
           0.004373129922896624,
           0.0032442796509712934,
           -0.003490569069981575,
           -0.0028475516010075808,
           0.00033293431624770164,
           -0.0020749312825500965,
           -0.0058849044144153595,
           -0.0019235898507758975,
           -0.0036849116440862417,
           -0.004971439018845558,
           -0.0006831929786130786,
           -0.0010003095958381891,
           0.0009176878957077861,
           -0.00022326139151118696,
           0
          ],
          [
           0.9734636545181274,
           0.9642002582550049,
           0.9741803407669067,
           0.9707141518592834,
           0.9879754185676575,
           0.9765220880508423,
           0.9785946011543274,
           0.9837051033973694,
           0.9891878366470337,
           0.9842094779014587,
           0.9827640652656555,
           1,
           0.9995750188827515,
           0.7789546847343445,
           0.7806279063224792,
           0.6700260043144226,
           0.6977458596229553,
           0.33375653624534607,
           0.24378415942192078,
           0.23979617655277252,
           0.22023051977157593,
           0.0029651906806975603,
           0.00008933030039770529,
           0
          ],
          [
           -0.00002427001527394168,
           -0.00006162538920762017,
           -0.0008638895233161747,
           -0.000286371010588482,
           -0.0004543772083707154,
           0.0005122427828609943,
           0.0009052744717337191,
           0.0008486469741910696,
           0.00047935612383298576,
           -0.0002227231307188049,
           0.0000136579010359128,
           0.0040338593535125256,
           0.002163959899917245,
           0.0038355248980224133,
           0.00299593317322433,
           0.0032590206246823072,
           0.002088321838527918,
           0.0005568583146668971,
           0.000142220567795448,
           0.00002496983142918907,
           0.00028802629094570875,
           -0.000508679891936481,
           -0.00037791745853610337,
           0
          ],
          [
           0.003826951840892434,
           0.00313136400654912,
           0.0053046816028654575,
           0.003946511074900627,
           0.008223408833146095,
           0.014408146031200886,
           0.02328326366841793,
           0.008220946416258812,
           0.011728137731552124,
           0.0070018949918448925,
           -0.0024815653450787067,
           0.012289756909012794,
           0.009182625450193882,
           0.0021171006374061108,
           0.00304082571528852,
           0.005237401928752661,
           0.009469266049563885,
           0.0016466756351292133,
           -0.0005996752879582345,
           0.000935329357162118,
           0.0007400661124847829,
           0.0003930905950255692,
           0.000025928202376235276,
           0
          ],
          [
           -0.0005644517950713634,
           -0.0012995045399293303,
           -0.0019095890456810594,
           -0.00149633944965899,
           -0.000985804945230484,
           -0.004299253225326538,
           -0.003053351305425167,
           -0.004121771082282066,
           -0.003771264338865876,
           -0.001724424073472619,
           -0.07744833081960678,
           -0.09093015640974045,
           -0.05682754144072533,
           0.2805342376232147,
           0.2639477550983429,
           0.31491270661354065,
           0.32276520133018494,
           0.3661198019981384,
           0.3336867094039917,
           0.28900355100631714,
           0.27861523628234863,
           0.17918014526367188,
           0.17739041149616241,
           0.17628617584705353
          ]
         ]
        }
       ],
       "layout": {
        "coloraxis": {
         "cmid": 0,
         "colorbar": {
          "len": 1,
          "lenmode": "fraction",
          "thickness": 10,
          "thicknessmode": "pixels",
          "title": {}
         },
         "colorscale": [
          [
           0,
           "rgb(103,0,31)"
          ],
          [
           0.1,
           "rgb(178,24,43)"
          ],
          [
           0.2,
           "rgb(214,96,77)"
          ],
          [
           0.3,
           "rgb(244,165,130)"
          ],
          [
           0.4,
           "rgb(253,219,199)"
          ],
          [
           0.5,
           "rgb(247,247,247)"
          ],
          [
           0.6,
           "rgb(209,229,240)"
          ],
          [
           0.7,
           "rgb(146,197,222)"
          ],
          [
           0.8,
           "rgb(67,147,195)"
          ],
          [
           0.9,
           "rgb(33,102,172)"
          ],
          [
           1,
           "rgb(5,48,97)"
          ]
         ]
        },
        "font": {
         "color": "black",
         "size": 12
        },
        "height": 300,
        "margin": {
         "b": 20,
         "l": 10,
         "r": 10,
         "t": 20
        },
        "template": {
         "data": {
          "bar": [
           {
            "error_x": {
             "color": "#2a3f5f"
            },
            "error_y": {
             "color": "#2a3f5f"
            },
            "marker": {
             "line": {
              "color": "#E5ECF6",
              "width": 0.5
             },
             "pattern": {
              "fillmode": "overlay",
              "size": 10,
              "solidity": 0.2
             }
            },
            "type": "bar"
           }
          ],
          "barpolar": [
           {
            "marker": {
             "line": {
              "color": "#E5ECF6",
              "width": 0.5
             },
             "pattern": {
              "fillmode": "overlay",
              "size": 10,
              "solidity": 0.2
             }
            },
            "type": "barpolar"
           }
          ],
          "carpet": [
           {
            "aaxis": {
             "endlinecolor": "#2a3f5f",
             "gridcolor": "white",
             "linecolor": "white",
             "minorgridcolor": "white",
             "startlinecolor": "#2a3f5f"
            },
            "baxis": {
             "endlinecolor": "#2a3f5f",
             "gridcolor": "white",
             "linecolor": "white",
             "minorgridcolor": "white",
             "startlinecolor": "#2a3f5f"
            },
            "type": "carpet"
           }
          ],
          "choropleth": [
           {
            "colorbar": {
             "outlinewidth": 0,
             "ticks": ""
            },
            "type": "choropleth"
           }
          ],
          "contour": [
           {
            "colorbar": {
             "outlinewidth": 0,
             "ticks": ""
            },
            "colorscale": [
             [
              0,
              "#0d0887"
             ],
             [
              0.1111111111111111,
              "#46039f"
             ],
             [
              0.2222222222222222,
              "#7201a8"
             ],
             [
              0.3333333333333333,
              "#9c179e"
             ],
             [
              0.4444444444444444,
              "#bd3786"
             ],
             [
              0.5555555555555556,
              "#d8576b"
             ],
             [
              0.6666666666666666,
              "#ed7953"
             ],
             [
              0.7777777777777778,
              "#fb9f3a"
             ],
             [
              0.8888888888888888,
              "#fdca26"
             ],
             [
              1,
              "#f0f921"
             ]
            ],
            "type": "contour"
           }
          ],
          "contourcarpet": [
           {
            "colorbar": {
             "outlinewidth": 0,
             "ticks": ""
            },
            "type": "contourcarpet"
           }
          ],
          "heatmap": [
           {
            "colorbar": {
             "outlinewidth": 0,
             "ticks": ""
            },
            "colorscale": [
             [
              0,
              "#0d0887"
             ],
             [
              0.1111111111111111,
              "#46039f"
             ],
             [
              0.2222222222222222,
              "#7201a8"
             ],
             [
              0.3333333333333333,
              "#9c179e"
             ],
             [
              0.4444444444444444,
              "#bd3786"
             ],
             [
              0.5555555555555556,
              "#d8576b"
             ],
             [
              0.6666666666666666,
              "#ed7953"
             ],
             [
              0.7777777777777778,
              "#fb9f3a"
             ],
             [
              0.8888888888888888,
              "#fdca26"
             ],
             [
              1,
              "#f0f921"
             ]
            ],
            "type": "heatmap"
           }
          ],
          "heatmapgl": [
           {
            "colorbar": {
             "outlinewidth": 0,
             "ticks": ""
            },
            "colorscale": [
             [
              0,
              "#0d0887"
             ],
             [
              0.1111111111111111,
              "#46039f"
             ],
             [
              0.2222222222222222,
              "#7201a8"
             ],
             [
              0.3333333333333333,
              "#9c179e"
             ],
             [
              0.4444444444444444,
              "#bd3786"
             ],
             [
              0.5555555555555556,
              "#d8576b"
             ],
             [
              0.6666666666666666,
              "#ed7953"
             ],
             [
              0.7777777777777778,
              "#fb9f3a"
             ],
             [
              0.8888888888888888,
              "#fdca26"
             ],
             [
              1,
              "#f0f921"
             ]
            ],
            "type": "heatmapgl"
           }
          ],
          "histogram": [
           {
            "marker": {
             "pattern": {
              "fillmode": "overlay",
              "size": 10,
              "solidity": 0.2
             }
            },
            "type": "histogram"
           }
          ],
          "histogram2d": [
           {
            "colorbar": {
             "outlinewidth": 0,
             "ticks": ""
            },
            "colorscale": [
             [
              0,
              "#0d0887"
             ],
             [
              0.1111111111111111,
              "#46039f"
             ],
             [
              0.2222222222222222,
              "#7201a8"
             ],
             [
              0.3333333333333333,
              "#9c179e"
             ],
             [
              0.4444444444444444,
              "#bd3786"
             ],
             [
              0.5555555555555556,
              "#d8576b"
             ],
             [
              0.6666666666666666,
              "#ed7953"
             ],
             [
              0.7777777777777778,
              "#fb9f3a"
             ],
             [
              0.8888888888888888,
              "#fdca26"
             ],
             [
              1,
              "#f0f921"
             ]
            ],
            "type": "histogram2d"
           }
          ],
          "histogram2dcontour": [
           {
            "colorbar": {
             "outlinewidth": 0,
             "ticks": ""
            },
            "colorscale": [
             [
              0,
              "#0d0887"
             ],
             [
              0.1111111111111111,
              "#46039f"
             ],
             [
              0.2222222222222222,
              "#7201a8"
             ],
             [
              0.3333333333333333,
              "#9c179e"
             ],
             [
              0.4444444444444444,
              "#bd3786"
             ],
             [
              0.5555555555555556,
              "#d8576b"
             ],
             [
              0.6666666666666666,
              "#ed7953"
             ],
             [
              0.7777777777777778,
              "#fb9f3a"
             ],
             [
              0.8888888888888888,
              "#fdca26"
             ],
             [
              1,
              "#f0f921"
             ]
            ],
            "type": "histogram2dcontour"
           }
          ],
          "mesh3d": [
           {
            "colorbar": {
             "outlinewidth": 0,
             "ticks": ""
            },
            "type": "mesh3d"
           }
          ],
          "parcoords": [
           {
            "line": {
             "colorbar": {
              "outlinewidth": 0,
              "ticks": ""
             }
            },
            "type": "parcoords"
           }
          ],
          "pie": [
           {
            "automargin": true,
            "type": "pie"
           }
          ],
          "scatter": [
           {
            "fillpattern": {
             "fillmode": "overlay",
             "size": 10,
             "solidity": 0.2
            },
            "type": "scatter"
           }
          ],
          "scatter3d": [
           {
            "line": {
             "colorbar": {
              "outlinewidth": 0,
              "ticks": ""
             }
            },
            "marker": {
             "colorbar": {
              "outlinewidth": 0,
              "ticks": ""
             }
            },
            "type": "scatter3d"
           }
          ],
          "scattercarpet": [
           {
            "marker": {
             "colorbar": {
              "outlinewidth": 0,
              "ticks": ""
             }
            },
            "type": "scattercarpet"
           }
          ],
          "scattergeo": [
           {
            "marker": {
             "colorbar": {
              "outlinewidth": 0,
              "ticks": ""
             }
            },
            "type": "scattergeo"
           }
          ],
          "scattergl": [
           {
            "marker": {
             "colorbar": {
              "outlinewidth": 0,
              "ticks": ""
             }
            },
            "type": "scattergl"
           }
          ],
          "scattermapbox": [
           {
            "marker": {
             "colorbar": {
              "outlinewidth": 0,
              "ticks": ""
             }
            },
            "type": "scattermapbox"
           }
          ],
          "scatterpolar": [
           {
            "marker": {
             "colorbar": {
              "outlinewidth": 0,
              "ticks": ""
             }
            },
            "type": "scatterpolar"
           }
          ],
          "scatterpolargl": [
           {
            "marker": {
             "colorbar": {
              "outlinewidth": 0,
              "ticks": ""
             }
            },
            "type": "scatterpolargl"
           }
          ],
          "scatterternary": [
           {
            "marker": {
             "colorbar": {
              "outlinewidth": 0,
              "ticks": ""
             }
            },
            "type": "scatterternary"
           }
          ],
          "surface": [
           {
            "colorbar": {
             "outlinewidth": 0,
             "ticks": ""
            },
            "colorscale": [
             [
              0,
              "#0d0887"
             ],
             [
              0.1111111111111111,
              "#46039f"
             ],
             [
              0.2222222222222222,
              "#7201a8"
             ],
             [
              0.3333333333333333,
              "#9c179e"
             ],
             [
              0.4444444444444444,
              "#bd3786"
             ],
             [
              0.5555555555555556,
              "#d8576b"
             ],
             [
              0.6666666666666666,
              "#ed7953"
             ],
             [
              0.7777777777777778,
              "#fb9f3a"
             ],
             [
              0.8888888888888888,
              "#fdca26"
             ],
             [
              1,
              "#f0f921"
             ]
            ],
            "type": "surface"
           }
          ],
          "table": [
           {
            "cells": {
             "fill": {
              "color": "#EBF0F8"
             },
             "line": {
              "color": "white"
             }
            },
            "header": {
             "fill": {
              "color": "#C8D4E3"
             },
             "line": {
              "color": "white"
             }
            },
            "type": "table"
           }
          ]
         },
         "layout": {
          "annotationdefaults": {
           "arrowcolor": "#2a3f5f",
           "arrowhead": 0,
           "arrowwidth": 1
          },
          "autotypenumbers": "strict",
          "coloraxis": {
           "colorbar": {
            "outlinewidth": 0,
            "ticks": ""
           }
          },
          "colorscale": {
           "diverging": [
            [
             0,
             "#8e0152"
            ],
            [
             0.1,
             "#c51b7d"
            ],
            [
             0.2,
             "#de77ae"
            ],
            [
             0.3,
             "#f1b6da"
            ],
            [
             0.4,
             "#fde0ef"
            ],
            [
             0.5,
             "#f7f7f7"
            ],
            [
             0.6,
             "#e6f5d0"
            ],
            [
             0.7,
             "#b8e186"
            ],
            [
             0.8,
             "#7fbc41"
            ],
            [
             0.9,
             "#4d9221"
            ],
            [
             1,
             "#276419"
            ]
           ],
           "sequential": [
            [
             0,
             "#0d0887"
            ],
            [
             0.1111111111111111,
             "#46039f"
            ],
            [
             0.2222222222222222,
             "#7201a8"
            ],
            [
             0.3333333333333333,
             "#9c179e"
            ],
            [
             0.4444444444444444,
             "#bd3786"
            ],
            [
             0.5555555555555556,
             "#d8576b"
            ],
            [
             0.6666666666666666,
             "#ed7953"
            ],
            [
             0.7777777777777778,
             "#fb9f3a"
            ],
            [
             0.8888888888888888,
             "#fdca26"
            ],
            [
             1,
             "#f0f921"
            ]
           ],
           "sequentialminus": [
            [
             0,
             "#0d0887"
            ],
            [
             0.1111111111111111,
             "#46039f"
            ],
            [
             0.2222222222222222,
             "#7201a8"
            ],
            [
             0.3333333333333333,
             "#9c179e"
            ],
            [
             0.4444444444444444,
             "#bd3786"
            ],
            [
             0.5555555555555556,
             "#d8576b"
            ],
            [
             0.6666666666666666,
             "#ed7953"
            ],
            [
             0.7777777777777778,
             "#fb9f3a"
            ],
            [
             0.8888888888888888,
             "#fdca26"
            ],
            [
             1,
             "#f0f921"
            ]
           ]
          },
          "colorway": [
           "#636efa",
           "#EF553B",
           "#00cc96",
           "#ab63fa",
           "#FFA15A",
           "#19d3f3",
           "#FF6692",
           "#B6E880",
           "#FF97FF",
           "#FECB52"
          ],
          "font": {
           "color": "#2a3f5f"
          },
          "geo": {
           "bgcolor": "white",
           "lakecolor": "white",
           "landcolor": "#E5ECF6",
           "showlakes": true,
           "showland": true,
           "subunitcolor": "white"
          },
          "hoverlabel": {
           "align": "left"
          },
          "hovermode": "closest",
          "mapbox": {
           "style": "light"
          },
          "paper_bgcolor": "white",
          "plot_bgcolor": "#E5ECF6",
          "polar": {
           "angularaxis": {
            "gridcolor": "white",
            "linecolor": "white",
            "ticks": ""
           },
           "bgcolor": "#E5ECF6",
           "radialaxis": {
            "gridcolor": "white",
            "linecolor": "white",
            "ticks": ""
           }
          },
          "scene": {
           "xaxis": {
            "backgroundcolor": "#E5ECF6",
            "gridcolor": "white",
            "gridwidth": 2,
            "linecolor": "white",
            "showbackground": true,
            "ticks": "",
            "zerolinecolor": "white"
           },
           "yaxis": {
            "backgroundcolor": "#E5ECF6",
            "gridcolor": "white",
            "gridwidth": 2,
            "linecolor": "white",
            "showbackground": true,
            "ticks": "",
            "zerolinecolor": "white"
           },
           "zaxis": {
            "backgroundcolor": "#E5ECF6",
            "gridcolor": "white",
            "gridwidth": 2,
            "linecolor": "white",
            "showbackground": true,
            "ticks": "",
            "zerolinecolor": "white"
           }
          },
          "shapedefaults": {
           "line": {
            "color": "#2a3f5f"
           }
          },
          "ternary": {
           "aaxis": {
            "gridcolor": "white",
            "linecolor": "white",
            "ticks": ""
           },
           "baxis": {
            "gridcolor": "white",
            "linecolor": "white",
            "ticks": ""
           },
           "bgcolor": "#E5ECF6",
           "caxis": {
            "gridcolor": "white",
            "linecolor": "white",
            "ticks": ""
           }
          },
          "title": {
           "x": 0.05
          },
          "xaxis": {
           "automargin": true,
           "gridcolor": "white",
           "linecolor": "white",
           "ticks": "",
           "title": {
            "standoff": 15
           },
           "zerolinecolor": "white",
           "zerolinewidth": 2
          },
          "yaxis": {
           "automargin": true,
           "gridcolor": "white",
           "linecolor": "white",
           "ticks": "",
           "title": {
            "standoff": 15
           },
           "zerolinecolor": "white",
           "zerolinewidth": 2
          }
         }
        },
        "title": {
         "font": {
          "size": 14
         }
        },
        "width": 400,
        "xaxis": {
         "anchor": "y",
         "constrain": "domain",
         "domain": [
          0,
          1
         ],
         "linecolor": "black",
         "linewidth": 1,
         "mirror": true,
         "scaleanchor": "y",
         "showline": true,
         "showticklabels": true,
         "tickmode": "array",
         "ticks": "",
         "title": {}
        },
        "yaxis": {
         "anchor": "x",
         "autorange": "reversed",
         "constrain": "domain",
         "domain": [
          0,
          1
         ],
         "linecolor": "black",
         "linewidth": 1,
         "mirror": true,
         "showline": true,
         "showticklabels": true,
         "tickmode": "array",
         "ticks": "",
         "ticktext": [
          "BEGIN",
          "s_1",
          "s_1 -> m_1",
          "m_1",
          "m_1 -> m_2",
          "m_2",
          "m_2 -> p",
          "p",
          "p -> s_2",
          "s_2",
          "END"
         ],
         "tickvals": [
          0,
          1,
          2,
          3,
          4,
          5,
          6,
          7,
          8,
          9,
          10
         ],
         "title": {}
        }
       }
      }
     },
     "metadata": {},
     "output_type": "display_data"
    }
   ],
   "source": [
    "pu.plot_residual(h.normalise_tensor(h.resize_all(s_resid_denoising2)), labels, image_dir / \"symbolic_residual2.png\")"
   ]
  },
  {
   "cell_type": "markdown",
   "metadata": {
    "id": "1XJXJBuGabVa"
   },
   "source": [
    "# 4. Circuit Evaluation"
   ]
  },
  {
   "cell_type": "markdown",
   "metadata": {
    "id": "t1c8WJJEabVa"
   },
   "source": [
    "### Figure 5(a) correctness of the circuit"
   ]
  },
  {
   "cell_type": "code",
   "execution_count": 72,
   "metadata": {
    "colab": {
     "base_uri": "https://localhost:8080/"
    },
    "id": "5qbGqXK3abVa",
    "outputId": "28ee71da-c70f-4b5e-ec2d-f228ceb4bd32"
   },
   "outputs": [
    {
     "name": "stderr",
     "output_type": "stream",
     "text": [
      "100%|██████████| 11/11 [00:04<00:00,  2.52it/s]\n",
      "100%|██████████| 11/11 [00:02<00:00,  4.18it/s]\n"
     ]
    }
   ],
   "source": [
    "# necessity of symbolic\n",
    "necessity_score = h.necessity_check(model, s_labels, s_tokens, s_answer_tokens, s_clean_logit_diff, 'mean', device)\n",
    "sufficiency_score = h.sufficiency_check(model, s_labels, s_tokens, s_answer_tokens, s_clean_logit_diff, 'mean', device)"
   ]
  },
  {
   "cell_type": "code",
   "execution_count": 73,
   "metadata": {
    "colab": {
     "base_uri": "https://localhost:8080/",
     "height": 517
    },
    "id": "5c2JFfVGabVa",
    "outputId": "440b44b1-b709-4a19-f9f6-5cb5d11374d7"
   },
   "outputs": [
    {
     "name": "stdout",
     "output_type": "stream",
     "text": [
      "Plot saved to ../images/pythia-31m/correctness_of_circuit.png\n"
     ]
    },
    {
     "data": {
      "application/vnd.plotly.v1+json": {
       "config": {
        "plotlyServerURL": "https://plot.ly"
       },
       "data": [
        {
         "line": {
          "color": "#bcbd22",
          "width": 3
         },
         "marker": {
          "size": 8,
          "symbol": "circle"
         },
         "mode": "lines+markers",
         "name": "Necessity",
         "type": "scatter",
         "x": [
          0,
          1,
          2,
          3,
          4,
          5,
          6,
          7,
          8,
          9,
          10,
          11
         ],
         "y": [
          0.8832273483276367,
          0.8845407366752625,
          0.896110475063324,
          0.89653080701828,
          0.9006266593933105,
          0.9015951156616211,
          0.8995829820632935,
          0.9007763266563416,
          0.922817587852478,
          0.9192777276039124,
          0.926037609577179,
          0.9274753332138062
         ]
        },
        {
         "line": {
          "color": "#9467bd",
          "width": 3
         },
         "marker": {
          "size": 8,
          "symbol": "square"
         },
         "mode": "lines+markers",
         "name": "Sufficiency",
         "type": "scatter",
         "x": [
          0,
          1,
          2,
          3,
          4,
          5,
          6,
          7,
          8,
          9,
          10,
          11
         ],
         "y": [
          0,
          -0.00005811055962112732,
          -0.00015157063899096102,
          -0.0002463023120071739,
          -0.00029096603975631297,
          -0.00025548937264829874,
          -0.0002143542078556493,
          -0.00009021759615279734,
          0.035253558307886124,
          0.03558899834752083,
          0.03247445449233055,
          0.03249289467930794
         ]
        }
       ],
       "layout": {
        "height": 500,
        "legend": {
         "bgcolor": "rgba(255, 255, 255, 0.8)",
         "font": {
          "size": 20
         },
         "x": 0.02,
         "y": 0.98
        },
        "margin": {
         "b": 10,
         "l": 0,
         "r": 0,
         "t": 10
        },
        "plot_bgcolor": "white",
        "shapes": [
         {
          "line": {
           "color": "#000000",
           "dash": "dash",
           "width": 3
          },
          "type": "line",
          "x0": 0,
          "x1": 1,
          "xref": "x domain",
          "y0": 0.8832273483276367,
          "y1": 0.8832273483276367,
          "yref": "y"
         }
        ],
        "template": {
         "data": {
          "bar": [
           {
            "error_x": {
             "color": "#2a3f5f"
            },
            "error_y": {
             "color": "#2a3f5f"
            },
            "marker": {
             "line": {
              "color": "#E5ECF6",
              "width": 0.5
             },
             "pattern": {
              "fillmode": "overlay",
              "size": 10,
              "solidity": 0.2
             }
            },
            "type": "bar"
           }
          ],
          "barpolar": [
           {
            "marker": {
             "line": {
              "color": "#E5ECF6",
              "width": 0.5
             },
             "pattern": {
              "fillmode": "overlay",
              "size": 10,
              "solidity": 0.2
             }
            },
            "type": "barpolar"
           }
          ],
          "carpet": [
           {
            "aaxis": {
             "endlinecolor": "#2a3f5f",
             "gridcolor": "white",
             "linecolor": "white",
             "minorgridcolor": "white",
             "startlinecolor": "#2a3f5f"
            },
            "baxis": {
             "endlinecolor": "#2a3f5f",
             "gridcolor": "white",
             "linecolor": "white",
             "minorgridcolor": "white",
             "startlinecolor": "#2a3f5f"
            },
            "type": "carpet"
           }
          ],
          "choropleth": [
           {
            "colorbar": {
             "outlinewidth": 0,
             "ticks": ""
            },
            "type": "choropleth"
           }
          ],
          "contour": [
           {
            "colorbar": {
             "outlinewidth": 0,
             "ticks": ""
            },
            "colorscale": [
             [
              0,
              "#0d0887"
             ],
             [
              0.1111111111111111,
              "#46039f"
             ],
             [
              0.2222222222222222,
              "#7201a8"
             ],
             [
              0.3333333333333333,
              "#9c179e"
             ],
             [
              0.4444444444444444,
              "#bd3786"
             ],
             [
              0.5555555555555556,
              "#d8576b"
             ],
             [
              0.6666666666666666,
              "#ed7953"
             ],
             [
              0.7777777777777778,
              "#fb9f3a"
             ],
             [
              0.8888888888888888,
              "#fdca26"
             ],
             [
              1,
              "#f0f921"
             ]
            ],
            "type": "contour"
           }
          ],
          "contourcarpet": [
           {
            "colorbar": {
             "outlinewidth": 0,
             "ticks": ""
            },
            "type": "contourcarpet"
           }
          ],
          "heatmap": [
           {
            "colorbar": {
             "outlinewidth": 0,
             "ticks": ""
            },
            "colorscale": [
             [
              0,
              "#0d0887"
             ],
             [
              0.1111111111111111,
              "#46039f"
             ],
             [
              0.2222222222222222,
              "#7201a8"
             ],
             [
              0.3333333333333333,
              "#9c179e"
             ],
             [
              0.4444444444444444,
              "#bd3786"
             ],
             [
              0.5555555555555556,
              "#d8576b"
             ],
             [
              0.6666666666666666,
              "#ed7953"
             ],
             [
              0.7777777777777778,
              "#fb9f3a"
             ],
             [
              0.8888888888888888,
              "#fdca26"
             ],
             [
              1,
              "#f0f921"
             ]
            ],
            "type": "heatmap"
           }
          ],
          "heatmapgl": [
           {
            "colorbar": {
             "outlinewidth": 0,
             "ticks": ""
            },
            "colorscale": [
             [
              0,
              "#0d0887"
             ],
             [
              0.1111111111111111,
              "#46039f"
             ],
             [
              0.2222222222222222,
              "#7201a8"
             ],
             [
              0.3333333333333333,
              "#9c179e"
             ],
             [
              0.4444444444444444,
              "#bd3786"
             ],
             [
              0.5555555555555556,
              "#d8576b"
             ],
             [
              0.6666666666666666,
              "#ed7953"
             ],
             [
              0.7777777777777778,
              "#fb9f3a"
             ],
             [
              0.8888888888888888,
              "#fdca26"
             ],
             [
              1,
              "#f0f921"
             ]
            ],
            "type": "heatmapgl"
           }
          ],
          "histogram": [
           {
            "marker": {
             "pattern": {
              "fillmode": "overlay",
              "size": 10,
              "solidity": 0.2
             }
            },
            "type": "histogram"
           }
          ],
          "histogram2d": [
           {
            "colorbar": {
             "outlinewidth": 0,
             "ticks": ""
            },
            "colorscale": [
             [
              0,
              "#0d0887"
             ],
             [
              0.1111111111111111,
              "#46039f"
             ],
             [
              0.2222222222222222,
              "#7201a8"
             ],
             [
              0.3333333333333333,
              "#9c179e"
             ],
             [
              0.4444444444444444,
              "#bd3786"
             ],
             [
              0.5555555555555556,
              "#d8576b"
             ],
             [
              0.6666666666666666,
              "#ed7953"
             ],
             [
              0.7777777777777778,
              "#fb9f3a"
             ],
             [
              0.8888888888888888,
              "#fdca26"
             ],
             [
              1,
              "#f0f921"
             ]
            ],
            "type": "histogram2d"
           }
          ],
          "histogram2dcontour": [
           {
            "colorbar": {
             "outlinewidth": 0,
             "ticks": ""
            },
            "colorscale": [
             [
              0,
              "#0d0887"
             ],
             [
              0.1111111111111111,
              "#46039f"
             ],
             [
              0.2222222222222222,
              "#7201a8"
             ],
             [
              0.3333333333333333,
              "#9c179e"
             ],
             [
              0.4444444444444444,
              "#bd3786"
             ],
             [
              0.5555555555555556,
              "#d8576b"
             ],
             [
              0.6666666666666666,
              "#ed7953"
             ],
             [
              0.7777777777777778,
              "#fb9f3a"
             ],
             [
              0.8888888888888888,
              "#fdca26"
             ],
             [
              1,
              "#f0f921"
             ]
            ],
            "type": "histogram2dcontour"
           }
          ],
          "mesh3d": [
           {
            "colorbar": {
             "outlinewidth": 0,
             "ticks": ""
            },
            "type": "mesh3d"
           }
          ],
          "parcoords": [
           {
            "line": {
             "colorbar": {
              "outlinewidth": 0,
              "ticks": ""
             }
            },
            "type": "parcoords"
           }
          ],
          "pie": [
           {
            "automargin": true,
            "type": "pie"
           }
          ],
          "scatter": [
           {
            "fillpattern": {
             "fillmode": "overlay",
             "size": 10,
             "solidity": 0.2
            },
            "type": "scatter"
           }
          ],
          "scatter3d": [
           {
            "line": {
             "colorbar": {
              "outlinewidth": 0,
              "ticks": ""
             }
            },
            "marker": {
             "colorbar": {
              "outlinewidth": 0,
              "ticks": ""
             }
            },
            "type": "scatter3d"
           }
          ],
          "scattercarpet": [
           {
            "marker": {
             "colorbar": {
              "outlinewidth": 0,
              "ticks": ""
             }
            },
            "type": "scattercarpet"
           }
          ],
          "scattergeo": [
           {
            "marker": {
             "colorbar": {
              "outlinewidth": 0,
              "ticks": ""
             }
            },
            "type": "scattergeo"
           }
          ],
          "scattergl": [
           {
            "marker": {
             "colorbar": {
              "outlinewidth": 0,
              "ticks": ""
             }
            },
            "type": "scattergl"
           }
          ],
          "scattermapbox": [
           {
            "marker": {
             "colorbar": {
              "outlinewidth": 0,
              "ticks": ""
             }
            },
            "type": "scattermapbox"
           }
          ],
          "scatterpolar": [
           {
            "marker": {
             "colorbar": {
              "outlinewidth": 0,
              "ticks": ""
             }
            },
            "type": "scatterpolar"
           }
          ],
          "scatterpolargl": [
           {
            "marker": {
             "colorbar": {
              "outlinewidth": 0,
              "ticks": ""
             }
            },
            "type": "scatterpolargl"
           }
          ],
          "scatterternary": [
           {
            "marker": {
             "colorbar": {
              "outlinewidth": 0,
              "ticks": ""
             }
            },
            "type": "scatterternary"
           }
          ],
          "surface": [
           {
            "colorbar": {
             "outlinewidth": 0,
             "ticks": ""
            },
            "colorscale": [
             [
              0,
              "#0d0887"
             ],
             [
              0.1111111111111111,
              "#46039f"
             ],
             [
              0.2222222222222222,
              "#7201a8"
             ],
             [
              0.3333333333333333,
              "#9c179e"
             ],
             [
              0.4444444444444444,
              "#bd3786"
             ],
             [
              0.5555555555555556,
              "#d8576b"
             ],
             [
              0.6666666666666666,
              "#ed7953"
             ],
             [
              0.7777777777777778,
              "#fb9f3a"
             ],
             [
              0.8888888888888888,
              "#fdca26"
             ],
             [
              1,
              "#f0f921"
             ]
            ],
            "type": "surface"
           }
          ],
          "table": [
           {
            "cells": {
             "fill": {
              "color": "#EBF0F8"
             },
             "line": {
              "color": "white"
             }
            },
            "header": {
             "fill": {
              "color": "#C8D4E3"
             },
             "line": {
              "color": "white"
             }
            },
            "type": "table"
           }
          ]
         },
         "layout": {
          "annotationdefaults": {
           "arrowcolor": "#2a3f5f",
           "arrowhead": 0,
           "arrowwidth": 1
          },
          "autotypenumbers": "strict",
          "coloraxis": {
           "colorbar": {
            "outlinewidth": 0,
            "ticks": ""
           }
          },
          "colorscale": {
           "diverging": [
            [
             0,
             "#8e0152"
            ],
            [
             0.1,
             "#c51b7d"
            ],
            [
             0.2,
             "#de77ae"
            ],
            [
             0.3,
             "#f1b6da"
            ],
            [
             0.4,
             "#fde0ef"
            ],
            [
             0.5,
             "#f7f7f7"
            ],
            [
             0.6,
             "#e6f5d0"
            ],
            [
             0.7,
             "#b8e186"
            ],
            [
             0.8,
             "#7fbc41"
            ],
            [
             0.9,
             "#4d9221"
            ],
            [
             1,
             "#276419"
            ]
           ],
           "sequential": [
            [
             0,
             "#0d0887"
            ],
            [
             0.1111111111111111,
             "#46039f"
            ],
            [
             0.2222222222222222,
             "#7201a8"
            ],
            [
             0.3333333333333333,
             "#9c179e"
            ],
            [
             0.4444444444444444,
             "#bd3786"
            ],
            [
             0.5555555555555556,
             "#d8576b"
            ],
            [
             0.6666666666666666,
             "#ed7953"
            ],
            [
             0.7777777777777778,
             "#fb9f3a"
            ],
            [
             0.8888888888888888,
             "#fdca26"
            ],
            [
             1,
             "#f0f921"
            ]
           ],
           "sequentialminus": [
            [
             0,
             "#0d0887"
            ],
            [
             0.1111111111111111,
             "#46039f"
            ],
            [
             0.2222222222222222,
             "#7201a8"
            ],
            [
             0.3333333333333333,
             "#9c179e"
            ],
            [
             0.4444444444444444,
             "#bd3786"
            ],
            [
             0.5555555555555556,
             "#d8576b"
            ],
            [
             0.6666666666666666,
             "#ed7953"
            ],
            [
             0.7777777777777778,
             "#fb9f3a"
            ],
            [
             0.8888888888888888,
             "#fdca26"
            ],
            [
             1,
             "#f0f921"
            ]
           ]
          },
          "colorway": [
           "#636efa",
           "#EF553B",
           "#00cc96",
           "#ab63fa",
           "#FFA15A",
           "#19d3f3",
           "#FF6692",
           "#B6E880",
           "#FF97FF",
           "#FECB52"
          ],
          "font": {
           "color": "#2a3f5f"
          },
          "geo": {
           "bgcolor": "white",
           "lakecolor": "white",
           "landcolor": "#E5ECF6",
           "showlakes": true,
           "showland": true,
           "subunitcolor": "white"
          },
          "hoverlabel": {
           "align": "left"
          },
          "hovermode": "closest",
          "mapbox": {
           "style": "light"
          },
          "paper_bgcolor": "white",
          "plot_bgcolor": "#E5ECF6",
          "polar": {
           "angularaxis": {
            "gridcolor": "white",
            "linecolor": "white",
            "ticks": ""
           },
           "bgcolor": "#E5ECF6",
           "radialaxis": {
            "gridcolor": "white",
            "linecolor": "white",
            "ticks": ""
           }
          },
          "scene": {
           "xaxis": {
            "backgroundcolor": "#E5ECF6",
            "gridcolor": "white",
            "gridwidth": 2,
            "linecolor": "white",
            "showbackground": true,
            "ticks": "",
            "zerolinecolor": "white"
           },
           "yaxis": {
            "backgroundcolor": "#E5ECF6",
            "gridcolor": "white",
            "gridwidth": 2,
            "linecolor": "white",
            "showbackground": true,
            "ticks": "",
            "zerolinecolor": "white"
           },
           "zaxis": {
            "backgroundcolor": "#E5ECF6",
            "gridcolor": "white",
            "gridwidth": 2,
            "linecolor": "white",
            "showbackground": true,
            "ticks": "",
            "zerolinecolor": "white"
           }
          },
          "shapedefaults": {
           "line": {
            "color": "#2a3f5f"
           }
          },
          "ternary": {
           "aaxis": {
            "gridcolor": "white",
            "linecolor": "white",
            "ticks": ""
           },
           "baxis": {
            "gridcolor": "white",
            "linecolor": "white",
            "ticks": ""
           },
           "bgcolor": "#E5ECF6",
           "caxis": {
            "gridcolor": "white",
            "linecolor": "white",
            "ticks": ""
           }
          },
          "title": {
           "x": 0.05
          },
          "xaxis": {
           "automargin": true,
           "gridcolor": "white",
           "linecolor": "white",
           "ticks": "",
           "title": {
            "standoff": 15
           },
           "zerolinecolor": "white",
           "zerolinewidth": 2
          },
          "yaxis": {
           "automargin": true,
           "gridcolor": "white",
           "linecolor": "white",
           "ticks": "",
           "title": {
            "standoff": 15
           },
           "zerolinecolor": "white",
           "zerolinewidth": 2
          }
         }
        },
        "title": {
         "text": ""
        },
        "width": 500,
        "xaxis": {
         "linecolor": "black",
         "linewidth": 1,
         "mirror": true,
         "showline": true,
         "showticklabels": true,
         "title": {
          "text": ""
         }
        },
        "yaxis": {
         "linecolor": "black",
         "linewidth": 1,
         "mirror": true,
         "showline": true,
         "showticklabels": true,
         "title": {
          "text": ""
         }
        }
       }
      }
     },
     "metadata": {},
     "output_type": "display_data"
    }
   ],
   "source": [
    "pu.plot_ablation(s_clean_logit_diff, necessity_score, sufficiency_score, image_dir / \"correctness_of_circuit.png\")"
   ]
  },
  {
   "cell_type": "markdown",
   "metadata": {
    "id": "WZ06rd7MabVa"
   },
   "source": [
    "### Figure 5(b) robustness of the circuit"
   ]
  },
  {
   "cell_type": "code",
   "execution_count": 99,
   "metadata": {
    "colab": {
     "base_uri": "https://localhost:8080/"
    },
    "id": "5tDXuxKfabVa",
    "outputId": "a6e88588-a81a-47c2-f285-6341735346b7"
   },
   "outputs": [
    {
     "name": "stdout",
     "output_type": "stream",
     "text": [
      "All 8 are 1. All 1 are 7. Therefore, all 8 are =>  7\n",
      "All 8 are 7. All 7 are 1. Therefore, all 8 are =>  1\n",
      "All 1 are 8. All 8 are 7. Therefore, all 1 are =>  7\n",
      "All 1 are 7. All 7 are 8. Therefore, all 1 are =>  8\n",
      "All 7 are 8. All 8 are 1. Therefore, all 7 are =>  1\n",
      "All 7 are 1. All 1 are 8. Therefore, all 7 are =>  8\n"
     ]
    }
   ],
   "source": [
    "# numeric perturbed dataset\n",
    "n_dataset = SyllogismDataset(\n",
    "            N=N/6, # because of permutation\n",
    "            seed=seed,\n",
    "            device=device,\n",
    "            type='numeric',\n",
    "            template_type='AAA1'\n",
    "        )\n",
    "for s, l in zip(n_dataset.sentences[:6], n_dataset.labels[:6]):\n",
    "    print(f'{s} => {l}')\n"
   ]
  },
  {
   "cell_type": "code",
   "execution_count": 100,
   "metadata": {
    "id": "ZhqqYbxVabVa"
   },
   "outputs": [],
   "source": [
    "# Corruption (option)\n",
    "def perturb_quantifier(prompts, As, Bs, labels):\n",
    "    candidates = [' Every', ' Every', ' Each', ' Each', ' All']\n",
    "    corrupted_prompts = []\n",
    "    for i in range(len(prompts)):\n",
    "        prompt = prompts[i]\n",
    "        label = labels[i]\n",
    "        corrupted_labels = []\n",
    "        A = As[i]\n",
    "        B = Bs[i]\n",
    "        new_list = list(filter(lambda x: x not in [A, B, label], candidates))\n",
    "        target = random.sample(new_list, 2)\n",
    "        a_be = ' are' if target[0] == ' All' else ' is'\n",
    "        b_be = ' are' if target[1] == ' All' else ' is'\n",
    "        corrupted_prompt = prompt.replace(' All' + B + ' are' , target[0] + B + a_be).replace('All' + A + ' are', target[1][1:] + A + b_be)\n",
    "        corrupted_prompts.append(corrupted_prompt)\n",
    "        corrupted_labels.append(target)\n",
    "\n",
    "    return corrupted_prompts, corrupted_labels\n"
   ]
  },
  {
   "cell_type": "code",
   "execution_count": 101,
   "metadata": {
    "id": "frc6mWZ_abVb"
   },
   "outputs": [],
   "source": [
    "n_prompts = n_dataset.sentences\n",
    "n_labels = n_dataset.labels\n",
    "n_second_labels = n_dataset.B\n",
    "\n",
    "n_answers = list(zip(n_labels, n_second_labels))\n",
    "n_answer_tokens = t.concat([\n",
    "    model.to_tokens(names, prepend_bos=False).T for names in n_answers\n",
    "])"
   ]
  },
  {
   "cell_type": "code",
   "execution_count": 102,
   "metadata": {
    "id": "74ckaPewabVb"
   },
   "outputs": [],
   "source": [
    "q_prompts = s_dataset.sentences\n",
    "q_labels = s_dataset.labels\n",
    "q_As = s_dataset.A\n",
    "q_Bs = s_dataset.B\n",
    "\n",
    "q_corrupted_prompts, _ = perturb_quantifier(q_prompts, q_As, q_Bs, q_labels)\n",
    "\n",
    "q_answers = list(zip(q_labels, q_Bs))\n",
    "q_answer_tokens = t.concat([\n",
    "    model.to_tokens(names, prepend_bos=False).T for names in q_answers\n",
    "])"
   ]
  },
  {
   "cell_type": "code",
   "execution_count": 103,
   "metadata": {
    "id": "XkJx18SeabVb"
   },
   "outputs": [],
   "source": [
    "# tokenisation\n",
    "n_tokens = model.to_tokens(n_prompts, prepend_bos=False).to(device)\n",
    "q_tokens = model.to_tokens(q_prompts, prepend_bos=False).to(device)"
   ]
  },
  {
   "cell_type": "code",
   "execution_count": 104,
   "metadata": {
    "colab": {
     "base_uri": "https://localhost:8080/"
    },
    "id": "VsmAG_KOabVb",
    "outputId": "72096c5c-42e5-4028-ee31-dfd499a54821"
   },
   "outputs": [
    {
     "name": "stdout",
     "output_type": "stream",
     "text": [
      "Clean logit diff: 0.1938\n",
      "Clean logit diff: -0.0007\n"
     ]
    }
   ],
   "source": [
    "# Compute logits for interventions\n",
    "n_clean_logits, n_clean_cache = model.run_with_cache(n_tokens)\n",
    "q_clean_logits, q_clean_cache = model.run_with_cache(n_tokens)\n",
    "\n",
    "n_clean_logit_diff = h.compute_logit_diff(n_clean_logits, n_answer_tokens)\n",
    "print(f\"Clean logit diff: {n_clean_logit_diff:.4f}\")\n",
    "\n",
    "q_clean_logit_diff = h.compute_logit_diff(q_clean_logits, q_answer_tokens)\n",
    "print(f\"Clean logit diff: {q_clean_logit_diff:.4f}\")"
   ]
  },
  {
   "cell_type": "code",
   "execution_count": 105,
   "metadata": {
    "colab": {
     "base_uri": "https://localhost:8080/"
    },
    "id": "-BrMe0siabVb",
    "outputId": "d650a313-948d-43f9-c5f2-13640686c8f6"
   },
   "outputs": [
    {
     "name": "stderr",
     "output_type": "stream",
     "text": [
      "100%|██████████| 11/11 [00:07<00:00,  1.42it/s]\n",
      "100%|██████████| 11/11 [00:02<00:00,  4.09it/s]\n"
     ]
    }
   ],
   "source": [
    "# necessity, sufficiency of numeric perturbation\n",
    "n_necessity_score = h.necessity_check(model, n_labels, n_tokens, n_answer_tokens, n_clean_logit_diff, 'mean', device)\n",
    "n_sufficiency_score = h.sufficiency_check(model, n_labels, n_tokens, n_answer_tokens, n_clean_logit_diff, 'mean', device)"
   ]
  },
  {
   "cell_type": "code",
   "execution_count": 106,
   "metadata": {
    "colab": {
     "base_uri": "https://localhost:8080/"
    },
    "id": "k9Y6z4XiabVb",
    "outputId": "ba4a6abb-3559-4f08-b8ac-ecdf6fa9628e"
   },
   "outputs": [
    {
     "name": "stderr",
     "output_type": "stream",
     "text": [
      "100%|██████████| 11/11 [00:03<00:00,  3.31it/s]\n",
      "100%|██████████| 11/11 [00:02<00:00,  3.98it/s]\n"
     ]
    }
   ],
   "source": [
    "# necessity, sufficiency of quantifier perturbation\n",
    "q_necessity_score = h.necessity_check(model, q_labels, q_tokens, q_answer_tokens, q_clean_logit_diff, 'mean', device)\n",
    "q_sufficiency_score = h.sufficiency_check(model, q_labels, q_tokens, q_answer_tokens, q_clean_logit_diff, 'mean', device)"
   ]
  },
  {
   "cell_type": "code",
   "execution_count": 107,
   "metadata": {
    "colab": {
     "base_uri": "https://localhost:8080/",
     "height": 517
    },
    "id": "-LHx3KMDabVb",
    "outputId": "a22a20e7-139b-48af-9c79-2242c2b8eeb7"
   },
   "outputs": [
    {
     "name": "stdout",
     "output_type": "stream",
     "text": [
      "Plot saved to ../images/cript-medium/robustness_of_circuit.png\n"
     ]
    },
    {
     "data": {
      "application/vnd.plotly.v1+json": {
       "config": {
        "plotlyServerURL": "https://plot.ly"
       },
       "data": [
        {
         "line": {
          "color": "#bcbd22",
          "dash": "solid",
          "width": 3
         },
         "marker": {
          "symbol": "circle"
         },
         "name": "Necessity (N)",
         "type": "scatter",
         "x": [
          0,
          1,
          2,
          3,
          4,
          5,
          6,
          7,
          8,
          9,
          10,
          11
         ],
         "y": [
          0.19378256797790527,
          0.1936343014240265,
          0.11057460308074951,
          0.11072337627410889,
          0.10129751265048981,
          -0.1064552366733551,
          -0.2322792112827301,
          -0.2387993037700653,
          -0.246489480137825,
          -0.23454056680202484,
          -0.245987206697464,
          -0.26335805654525757
         ]
        },
        {
         "line": {
          "color": "#9467bd",
          "dash": "solid",
          "width": 3
         },
         "marker": {
          "symbol": "square"
         },
         "name": "Sufficiency (N)",
         "type": "scatter",
         "x": [
          0,
          1,
          2,
          3,
          4,
          5,
          6,
          7,
          8,
          9,
          10,
          11
         ],
         "y": [
          0,
          -0.0020678204018622637,
          -0.005944315809756517,
          -0.0017979940166696906,
          0.0014129639603197575,
          0.0010464986553415656,
          0.13490524888038635,
          0.3736221492290497,
          0.3714993894100189,
          0.3761535882949829,
          0.4243510067462921,
          0.42484691739082336
         ]
        },
        {
         "line": {
          "color": "#bcbd22",
          "dash": "dot",
          "width": 3
         },
         "marker": {
          "symbol": "circle"
         },
         "name": "Necessity (Q)",
         "showlegend": true,
         "type": "scatter",
         "x": [
          0,
          1,
          2,
          3,
          4,
          5,
          6,
          7,
          8,
          9,
          10,
          11
         ],
         "y": [
          -0.0006663004751317203,
          0.723330557346344,
          0.3469294309616089,
          0.17348207533359528,
          0.3080047070980072,
          -0.33191728591918945,
          -0.7899644374847412,
          -0.7839815616607666,
          -0.77912437915802,
          -0.7751577496528625,
          -0.7434284687042236,
          -0.7349688410758972
         ]
        },
        {
         "line": {
          "color": "#9467bd",
          "dash": "dot",
          "width": 3
         },
         "marker": {
          "symbol": "square"
         },
         "name": "Sufficiency (Q)",
         "showlegend": true,
         "type": "scatter",
         "x": [
          0,
          1,
          2,
          3,
          4,
          5,
          6,
          7,
          8,
          9,
          10,
          11
         ],
         "y": [
          0,
          -0.0007301330915652215,
          -0.004498164169490337,
          -0.00018946330237668008,
          -0.000713094137609005,
          0.001864878460764885,
          0.5599557757377625,
          1.3330250978469849,
          1.132232666015625,
          1.3684059381484985,
          1.2992464303970337,
          0.6112181544303894
         ]
        }
       ],
       "layout": {
        "bargap": 0.1,
        "bargroupgap": 0.1,
        "barmode": "group",
        "height": 500,
        "legend": {
         "bgcolor": "rgba(255, 255, 255, 0.8)",
         "font": {
          "size": 20
         },
         "x": 0.02,
         "y": 0.98
        },
        "margin": {
         "b": 10,
         "l": 0,
         "r": 0,
         "t": 10
        },
        "plot_bgcolor": "white",
        "shapes": [
         {
          "line": {
           "color": "#000000",
           "dash": "dash",
           "width": 3
          },
          "name": "Baseline",
          "type": "line",
          "x0": 0,
          "x1": 1,
          "xref": "x domain",
          "y0": 0.19378256797790527,
          "y1": 0.19378256797790527,
          "yref": "y"
         },
         {
          "line": {
           "color": "#000000",
           "dash": "dash",
           "width": 3
          },
          "type": "line",
          "x0": 0,
          "x1": 1,
          "xref": "x domain",
          "y0": -0.0006663004751317203,
          "y1": -0.0006663004751317203,
          "yref": "y"
         }
        ],
        "template": {
         "data": {
          "bar": [
           {
            "error_x": {
             "color": "#2a3f5f"
            },
            "error_y": {
             "color": "#2a3f5f"
            },
            "marker": {
             "line": {
              "color": "#E5ECF6",
              "width": 0.5
             },
             "pattern": {
              "fillmode": "overlay",
              "size": 10,
              "solidity": 0.2
             }
            },
            "type": "bar"
           }
          ],
          "barpolar": [
           {
            "marker": {
             "line": {
              "color": "#E5ECF6",
              "width": 0.5
             },
             "pattern": {
              "fillmode": "overlay",
              "size": 10,
              "solidity": 0.2
             }
            },
            "type": "barpolar"
           }
          ],
          "carpet": [
           {
            "aaxis": {
             "endlinecolor": "#2a3f5f",
             "gridcolor": "white",
             "linecolor": "white",
             "minorgridcolor": "white",
             "startlinecolor": "#2a3f5f"
            },
            "baxis": {
             "endlinecolor": "#2a3f5f",
             "gridcolor": "white",
             "linecolor": "white",
             "minorgridcolor": "white",
             "startlinecolor": "#2a3f5f"
            },
            "type": "carpet"
           }
          ],
          "choropleth": [
           {
            "colorbar": {
             "outlinewidth": 0,
             "ticks": ""
            },
            "type": "choropleth"
           }
          ],
          "contour": [
           {
            "colorbar": {
             "outlinewidth": 0,
             "ticks": ""
            },
            "colorscale": [
             [
              0,
              "#0d0887"
             ],
             [
              0.1111111111111111,
              "#46039f"
             ],
             [
              0.2222222222222222,
              "#7201a8"
             ],
             [
              0.3333333333333333,
              "#9c179e"
             ],
             [
              0.4444444444444444,
              "#bd3786"
             ],
             [
              0.5555555555555556,
              "#d8576b"
             ],
             [
              0.6666666666666666,
              "#ed7953"
             ],
             [
              0.7777777777777778,
              "#fb9f3a"
             ],
             [
              0.8888888888888888,
              "#fdca26"
             ],
             [
              1,
              "#f0f921"
             ]
            ],
            "type": "contour"
           }
          ],
          "contourcarpet": [
           {
            "colorbar": {
             "outlinewidth": 0,
             "ticks": ""
            },
            "type": "contourcarpet"
           }
          ],
          "heatmap": [
           {
            "colorbar": {
             "outlinewidth": 0,
             "ticks": ""
            },
            "colorscale": [
             [
              0,
              "#0d0887"
             ],
             [
              0.1111111111111111,
              "#46039f"
             ],
             [
              0.2222222222222222,
              "#7201a8"
             ],
             [
              0.3333333333333333,
              "#9c179e"
             ],
             [
              0.4444444444444444,
              "#bd3786"
             ],
             [
              0.5555555555555556,
              "#d8576b"
             ],
             [
              0.6666666666666666,
              "#ed7953"
             ],
             [
              0.7777777777777778,
              "#fb9f3a"
             ],
             [
              0.8888888888888888,
              "#fdca26"
             ],
             [
              1,
              "#f0f921"
             ]
            ],
            "type": "heatmap"
           }
          ],
          "heatmapgl": [
           {
            "colorbar": {
             "outlinewidth": 0,
             "ticks": ""
            },
            "colorscale": [
             [
              0,
              "#0d0887"
             ],
             [
              0.1111111111111111,
              "#46039f"
             ],
             [
              0.2222222222222222,
              "#7201a8"
             ],
             [
              0.3333333333333333,
              "#9c179e"
             ],
             [
              0.4444444444444444,
              "#bd3786"
             ],
             [
              0.5555555555555556,
              "#d8576b"
             ],
             [
              0.6666666666666666,
              "#ed7953"
             ],
             [
              0.7777777777777778,
              "#fb9f3a"
             ],
             [
              0.8888888888888888,
              "#fdca26"
             ],
             [
              1,
              "#f0f921"
             ]
            ],
            "type": "heatmapgl"
           }
          ],
          "histogram": [
           {
            "marker": {
             "pattern": {
              "fillmode": "overlay",
              "size": 10,
              "solidity": 0.2
             }
            },
            "type": "histogram"
           }
          ],
          "histogram2d": [
           {
            "colorbar": {
             "outlinewidth": 0,
             "ticks": ""
            },
            "colorscale": [
             [
              0,
              "#0d0887"
             ],
             [
              0.1111111111111111,
              "#46039f"
             ],
             [
              0.2222222222222222,
              "#7201a8"
             ],
             [
              0.3333333333333333,
              "#9c179e"
             ],
             [
              0.4444444444444444,
              "#bd3786"
             ],
             [
              0.5555555555555556,
              "#d8576b"
             ],
             [
              0.6666666666666666,
              "#ed7953"
             ],
             [
              0.7777777777777778,
              "#fb9f3a"
             ],
             [
              0.8888888888888888,
              "#fdca26"
             ],
             [
              1,
              "#f0f921"
             ]
            ],
            "type": "histogram2d"
           }
          ],
          "histogram2dcontour": [
           {
            "colorbar": {
             "outlinewidth": 0,
             "ticks": ""
            },
            "colorscale": [
             [
              0,
              "#0d0887"
             ],
             [
              0.1111111111111111,
              "#46039f"
             ],
             [
              0.2222222222222222,
              "#7201a8"
             ],
             [
              0.3333333333333333,
              "#9c179e"
             ],
             [
              0.4444444444444444,
              "#bd3786"
             ],
             [
              0.5555555555555556,
              "#d8576b"
             ],
             [
              0.6666666666666666,
              "#ed7953"
             ],
             [
              0.7777777777777778,
              "#fb9f3a"
             ],
             [
              0.8888888888888888,
              "#fdca26"
             ],
             [
              1,
              "#f0f921"
             ]
            ],
            "type": "histogram2dcontour"
           }
          ],
          "mesh3d": [
           {
            "colorbar": {
             "outlinewidth": 0,
             "ticks": ""
            },
            "type": "mesh3d"
           }
          ],
          "parcoords": [
           {
            "line": {
             "colorbar": {
              "outlinewidth": 0,
              "ticks": ""
             }
            },
            "type": "parcoords"
           }
          ],
          "pie": [
           {
            "automargin": true,
            "type": "pie"
           }
          ],
          "scatter": [
           {
            "fillpattern": {
             "fillmode": "overlay",
             "size": 10,
             "solidity": 0.2
            },
            "type": "scatter"
           }
          ],
          "scatter3d": [
           {
            "line": {
             "colorbar": {
              "outlinewidth": 0,
              "ticks": ""
             }
            },
            "marker": {
             "colorbar": {
              "outlinewidth": 0,
              "ticks": ""
             }
            },
            "type": "scatter3d"
           }
          ],
          "scattercarpet": [
           {
            "marker": {
             "colorbar": {
              "outlinewidth": 0,
              "ticks": ""
             }
            },
            "type": "scattercarpet"
           }
          ],
          "scattergeo": [
           {
            "marker": {
             "colorbar": {
              "outlinewidth": 0,
              "ticks": ""
             }
            },
            "type": "scattergeo"
           }
          ],
          "scattergl": [
           {
            "marker": {
             "colorbar": {
              "outlinewidth": 0,
              "ticks": ""
             }
            },
            "type": "scattergl"
           }
          ],
          "scattermapbox": [
           {
            "marker": {
             "colorbar": {
              "outlinewidth": 0,
              "ticks": ""
             }
            },
            "type": "scattermapbox"
           }
          ],
          "scatterpolar": [
           {
            "marker": {
             "colorbar": {
              "outlinewidth": 0,
              "ticks": ""
             }
            },
            "type": "scatterpolar"
           }
          ],
          "scatterpolargl": [
           {
            "marker": {
             "colorbar": {
              "outlinewidth": 0,
              "ticks": ""
             }
            },
            "type": "scatterpolargl"
           }
          ],
          "scatterternary": [
           {
            "marker": {
             "colorbar": {
              "outlinewidth": 0,
              "ticks": ""
             }
            },
            "type": "scatterternary"
           }
          ],
          "surface": [
           {
            "colorbar": {
             "outlinewidth": 0,
             "ticks": ""
            },
            "colorscale": [
             [
              0,
              "#0d0887"
             ],
             [
              0.1111111111111111,
              "#46039f"
             ],
             [
              0.2222222222222222,
              "#7201a8"
             ],
             [
              0.3333333333333333,
              "#9c179e"
             ],
             [
              0.4444444444444444,
              "#bd3786"
             ],
             [
              0.5555555555555556,
              "#d8576b"
             ],
             [
              0.6666666666666666,
              "#ed7953"
             ],
             [
              0.7777777777777778,
              "#fb9f3a"
             ],
             [
              0.8888888888888888,
              "#fdca26"
             ],
             [
              1,
              "#f0f921"
             ]
            ],
            "type": "surface"
           }
          ],
          "table": [
           {
            "cells": {
             "fill": {
              "color": "#EBF0F8"
             },
             "line": {
              "color": "white"
             }
            },
            "header": {
             "fill": {
              "color": "#C8D4E3"
             },
             "line": {
              "color": "white"
             }
            },
            "type": "table"
           }
          ]
         },
         "layout": {
          "annotationdefaults": {
           "arrowcolor": "#2a3f5f",
           "arrowhead": 0,
           "arrowwidth": 1
          },
          "autotypenumbers": "strict",
          "coloraxis": {
           "colorbar": {
            "outlinewidth": 0,
            "ticks": ""
           }
          },
          "colorscale": {
           "diverging": [
            [
             0,
             "#8e0152"
            ],
            [
             0.1,
             "#c51b7d"
            ],
            [
             0.2,
             "#de77ae"
            ],
            [
             0.3,
             "#f1b6da"
            ],
            [
             0.4,
             "#fde0ef"
            ],
            [
             0.5,
             "#f7f7f7"
            ],
            [
             0.6,
             "#e6f5d0"
            ],
            [
             0.7,
             "#b8e186"
            ],
            [
             0.8,
             "#7fbc41"
            ],
            [
             0.9,
             "#4d9221"
            ],
            [
             1,
             "#276419"
            ]
           ],
           "sequential": [
            [
             0,
             "#0d0887"
            ],
            [
             0.1111111111111111,
             "#46039f"
            ],
            [
             0.2222222222222222,
             "#7201a8"
            ],
            [
             0.3333333333333333,
             "#9c179e"
            ],
            [
             0.4444444444444444,
             "#bd3786"
            ],
            [
             0.5555555555555556,
             "#d8576b"
            ],
            [
             0.6666666666666666,
             "#ed7953"
            ],
            [
             0.7777777777777778,
             "#fb9f3a"
            ],
            [
             0.8888888888888888,
             "#fdca26"
            ],
            [
             1,
             "#f0f921"
            ]
           ],
           "sequentialminus": [
            [
             0,
             "#0d0887"
            ],
            [
             0.1111111111111111,
             "#46039f"
            ],
            [
             0.2222222222222222,
             "#7201a8"
            ],
            [
             0.3333333333333333,
             "#9c179e"
            ],
            [
             0.4444444444444444,
             "#bd3786"
            ],
            [
             0.5555555555555556,
             "#d8576b"
            ],
            [
             0.6666666666666666,
             "#ed7953"
            ],
            [
             0.7777777777777778,
             "#fb9f3a"
            ],
            [
             0.8888888888888888,
             "#fdca26"
            ],
            [
             1,
             "#f0f921"
            ]
           ]
          },
          "colorway": [
           "#636efa",
           "#EF553B",
           "#00cc96",
           "#ab63fa",
           "#FFA15A",
           "#19d3f3",
           "#FF6692",
           "#B6E880",
           "#FF97FF",
           "#FECB52"
          ],
          "font": {
           "color": "#2a3f5f"
          },
          "geo": {
           "bgcolor": "white",
           "lakecolor": "white",
           "landcolor": "#E5ECF6",
           "showlakes": true,
           "showland": true,
           "subunitcolor": "white"
          },
          "hoverlabel": {
           "align": "left"
          },
          "hovermode": "closest",
          "mapbox": {
           "style": "light"
          },
          "paper_bgcolor": "white",
          "plot_bgcolor": "#E5ECF6",
          "polar": {
           "angularaxis": {
            "gridcolor": "white",
            "linecolor": "white",
            "ticks": ""
           },
           "bgcolor": "#E5ECF6",
           "radialaxis": {
            "gridcolor": "white",
            "linecolor": "white",
            "ticks": ""
           }
          },
          "scene": {
           "xaxis": {
            "backgroundcolor": "#E5ECF6",
            "gridcolor": "white",
            "gridwidth": 2,
            "linecolor": "white",
            "showbackground": true,
            "ticks": "",
            "zerolinecolor": "white"
           },
           "yaxis": {
            "backgroundcolor": "#E5ECF6",
            "gridcolor": "white",
            "gridwidth": 2,
            "linecolor": "white",
            "showbackground": true,
            "ticks": "",
            "zerolinecolor": "white"
           },
           "zaxis": {
            "backgroundcolor": "#E5ECF6",
            "gridcolor": "white",
            "gridwidth": 2,
            "linecolor": "white",
            "showbackground": true,
            "ticks": "",
            "zerolinecolor": "white"
           }
          },
          "shapedefaults": {
           "line": {
            "color": "#2a3f5f"
           }
          },
          "ternary": {
           "aaxis": {
            "gridcolor": "white",
            "linecolor": "white",
            "ticks": ""
           },
           "baxis": {
            "gridcolor": "white",
            "linecolor": "white",
            "ticks": ""
           },
           "bgcolor": "#E5ECF6",
           "caxis": {
            "gridcolor": "white",
            "linecolor": "white",
            "ticks": ""
           }
          },
          "title": {
           "x": 0.05
          },
          "xaxis": {
           "automargin": true,
           "gridcolor": "white",
           "linecolor": "white",
           "ticks": "",
           "title": {
            "standoff": 15
           },
           "zerolinecolor": "white",
           "zerolinewidth": 2
          },
          "yaxis": {
           "automargin": true,
           "gridcolor": "white",
           "linecolor": "white",
           "ticks": "",
           "title": {
            "standoff": 15
           },
           "zerolinecolor": "white",
           "zerolinewidth": 2
          }
         }
        },
        "title": {
         "text": ""
        },
        "width": 500,
        "xaxis": {
         "linecolor": "black",
         "linewidth": 1,
         "mirror": true,
         "showline": true,
         "showticklabels": true,
         "title": {
          "text": ""
         }
        },
        "yaxis": {
         "linecolor": "black",
         "linewidth": 1,
         "mirror": true,
         "showline": true,
         "showticklabels": true,
         "title": {
          "text": ""
         }
        }
       }
      }
     },
     "metadata": {},
     "output_type": "display_data"
    }
   ],
   "source": [
    "pu.plot_ablation_robust(y1=n_necessity_score, y2=n_sufficiency_score, y3=q_necessity_score, y4 = q_sufficiency_score,  baseline1= n_clean_logit_diff, baseline2=q_clean_logit_diff, save_path=image_dir / \"robustness_of_circuit.png\", title=\"\")\n"
   ]
  },
  {
   "cell_type": "markdown",
   "metadata": {
    "id": "HeBR9xpMabVb"
   },
   "source": [
    "# 5. Circuit Transferability"
   ]
  },
  {
   "cell_type": "code",
   "execution_count": 108,
   "metadata": {
    "id": "fDADQypcabVb"
   },
   "outputs": [],
   "source": [
    "# setup\n",
    "bc_prompts = bc_dataset.sentences\n",
    "bc_labels = bc_dataset.labels\n",
    "bc_second_labels = bc_dataset.B\n",
    "\n",
    "bc_answers = list(zip(bc_labels, bc_second_labels))\n",
    "bc_answer_tokens = t.concat([\n",
    "    model.to_tokens(names, prepend_bos=False).T for names in bc_answers\n",
    "])\n",
    "\n",
    "bi_prompts = bi_dataset.sentences\n",
    "bi_labels = bi_dataset.labels\n",
    "bi_second_labels = bi_dataset.B\n",
    "\n",
    "bi_answers = list(zip(bi_labels, bi_second_labels))\n",
    "bi_answer_tokens = t.concat([\n",
    "    model.to_tokens(names, prepend_bos=False).T for names in bi_answers\n",
    "])\n",
    "\n",
    "# tokenisation\n",
    "bc_tokens = model.to_tokens(bc_prompts, prepend_bos=False).to(device)\n",
    "bi_tokens = model.to_tokens(bi_prompts, prepend_bos=False).to(device)"
   ]
  },
  {
   "cell_type": "code",
   "execution_count": 109,
   "metadata": {
    "colab": {
     "base_uri": "https://localhost:8080/"
    },
    "id": "sO3u0DFAabVc",
    "outputId": "9943504e-5563-4b96-cdec-a69227eb5c6c"
   },
   "outputs": [
    {
     "name": "stdout",
     "output_type": "stream",
     "text": [
      "Clean logit diff: 0.5050\n",
      "Clean logit diff: 0.0146\n"
     ]
    }
   ],
   "source": [
    "# Compute logits for interventions\n",
    "bc_clean_logits, bc_clean_cache = model.run_with_cache(bc_tokens)\n",
    "bi_clean_logits, bi_clean_cache = model.run_with_cache(bi_tokens)\n",
    "\n",
    "bc_clean_logit_diff = h.compute_logit_diff(bc_clean_logits, bc_answer_tokens)\n",
    "print(f\"Clean logit diff: {bc_clean_logit_diff:.4f}\")\n",
    "\n",
    "bi_clean_logit_diff = h.compute_logit_diff(bi_clean_logits, bi_answer_tokens)\n",
    "print(f\"Clean logit diff: {bi_clean_logit_diff:.4f}\")"
   ]
  },
  {
   "cell_type": "code",
   "execution_count": 110,
   "metadata": {
    "colab": {
     "base_uri": "https://localhost:8080/"
    },
    "id": "i1jPnYERabVc",
    "outputId": "a19547d2-c3c1-4b8b-a518-e01db3e71547"
   },
   "outputs": [
    {
     "name": "stderr",
     "output_type": "stream",
     "text": [
      "  0%|          | 0/11 [00:00<?, ?it/s]"
     ]
    },
    {
     "name": "stderr",
     "output_type": "stream",
     "text": [
      "100%|██████████| 11/11 [00:07<00:00,  1.54it/s]\n",
      "100%|██████████| 11/11 [00:02<00:00,  4.09it/s]\n"
     ]
    }
   ],
   "source": [
    "# belief-consistent\n",
    "bc_necessity_score = h.necessity_check(model, bc_labels, bc_tokens, bc_answer_tokens, bc_clean_logit_diff, 'mean', device)\n",
    "bc_sufficiency_score = h.sufficiency_check(model, bc_labels, bc_tokens, bc_answer_tokens, bc_clean_logit_diff, 'mean', device)"
   ]
  },
  {
   "cell_type": "code",
   "execution_count": 111,
   "metadata": {
    "colab": {
     "base_uri": "https://localhost:8080/"
    },
    "id": "AaL9Kz-2abVc",
    "outputId": "34e630fe-c116-496b-9a57-be1fb0369bb1"
   },
   "outputs": [
    {
     "name": "stderr",
     "output_type": "stream",
     "text": [
      "100%|██████████| 11/11 [00:02<00:00,  4.09it/s]\n",
      "100%|██████████| 11/11 [00:02<00:00,  4.09it/s]\n"
     ]
    }
   ],
   "source": [
    "# belief-inconsistent\n",
    "bi_necessity_score = h.necessity_check(model, bi_labels, bi_tokens, bi_answer_tokens, bi_clean_logit_diff, 'mean', device)\n",
    "bi_sufficiency_score = h.sufficiency_check(model, bi_labels, bi_tokens, bi_answer_tokens, bi_clean_logit_diff, 'mean', device)"
   ]
  },
  {
   "cell_type": "markdown",
   "metadata": {
    "id": "t9RLD2onabVc"
   },
   "source": [
    "### Figure 6(a) belief-consistent"
   ]
  },
  {
   "cell_type": "code",
   "execution_count": 112,
   "metadata": {
    "colab": {
     "base_uri": "https://localhost:8080/",
     "height": 517
    },
    "id": "oBbdTV3mabVc",
    "outputId": "9d313a71-d99a-4dfb-bbfc-76b975e7807d"
   },
   "outputs": [
    {
     "name": "stdout",
     "output_type": "stream",
     "text": [
      "Plot saved to ../images/cript-medium/correctness_of_circuit_bc.png\n"
     ]
    },
    {
     "data": {
      "application/vnd.plotly.v1+json": {
       "config": {
        "plotlyServerURL": "https://plot.ly"
       },
       "data": [
        {
         "line": {
          "color": "#bcbd22",
          "width": 3
         },
         "marker": {
          "size": 8,
          "symbol": "circle"
         },
         "mode": "lines+markers",
         "name": "Necessity",
         "type": "scatter",
         "x": [
          0,
          1,
          2,
          3,
          4,
          5,
          6,
          7,
          8,
          9,
          10,
          11
         ],
         "y": [
          0.5050270557403564,
          0.5016160607337952,
          0.3452879786491394,
          0.3499017357826233,
          0.27940940856933594,
          0.19161391258239746,
          0.16150552034378052,
          0.11358897387981415,
          0.16837425529956818,
          0.16155371069908142,
          0.20706266164779663,
          0.22778549790382385
         ]
        },
        {
         "line": {
          "color": "#9467bd",
          "width": 3
         },
         "marker": {
          "size": 8,
          "symbol": "square"
         },
         "mode": "lines+markers",
         "name": "Sufficiency",
         "type": "scatter",
         "x": [
          0,
          1,
          2,
          3,
          4,
          5,
          6,
          7,
          8,
          9,
          10,
          11
         ],
         "y": [
          -0.01045710314065218,
          -0.0141970319673419,
          -0.01760508306324482,
          -0.020082855597138405,
          -0.02349446713924408,
          -0.02013142965734005,
          -0.009668986313045025,
          0.08739980310201645,
          0.13544057309627533,
          0.12328492105007172,
          0.27757418155670166,
          0.2812645137310028
         ]
        }
       ],
       "layout": {
        "height": 500,
        "legend": {
         "bgcolor": "rgba(255, 255, 255, 0.8)",
         "font": {
          "size": 20
         },
         "x": 0.02,
         "y": 0.98
        },
        "margin": {
         "b": 10,
         "l": 0,
         "r": 0,
         "t": 10
        },
        "plot_bgcolor": "white",
        "shapes": [
         {
          "line": {
           "color": "#000000",
           "dash": "dash",
           "width": 3
          },
          "type": "line",
          "x0": 0,
          "x1": 1,
          "xref": "x domain",
          "y0": 0.5050270557403564,
          "y1": 0.5050270557403564,
          "yref": "y"
         }
        ],
        "template": {
         "data": {
          "bar": [
           {
            "error_x": {
             "color": "#2a3f5f"
            },
            "error_y": {
             "color": "#2a3f5f"
            },
            "marker": {
             "line": {
              "color": "#E5ECF6",
              "width": 0.5
             },
             "pattern": {
              "fillmode": "overlay",
              "size": 10,
              "solidity": 0.2
             }
            },
            "type": "bar"
           }
          ],
          "barpolar": [
           {
            "marker": {
             "line": {
              "color": "#E5ECF6",
              "width": 0.5
             },
             "pattern": {
              "fillmode": "overlay",
              "size": 10,
              "solidity": 0.2
             }
            },
            "type": "barpolar"
           }
          ],
          "carpet": [
           {
            "aaxis": {
             "endlinecolor": "#2a3f5f",
             "gridcolor": "white",
             "linecolor": "white",
             "minorgridcolor": "white",
             "startlinecolor": "#2a3f5f"
            },
            "baxis": {
             "endlinecolor": "#2a3f5f",
             "gridcolor": "white",
             "linecolor": "white",
             "minorgridcolor": "white",
             "startlinecolor": "#2a3f5f"
            },
            "type": "carpet"
           }
          ],
          "choropleth": [
           {
            "colorbar": {
             "outlinewidth": 0,
             "ticks": ""
            },
            "type": "choropleth"
           }
          ],
          "contour": [
           {
            "colorbar": {
             "outlinewidth": 0,
             "ticks": ""
            },
            "colorscale": [
             [
              0,
              "#0d0887"
             ],
             [
              0.1111111111111111,
              "#46039f"
             ],
             [
              0.2222222222222222,
              "#7201a8"
             ],
             [
              0.3333333333333333,
              "#9c179e"
             ],
             [
              0.4444444444444444,
              "#bd3786"
             ],
             [
              0.5555555555555556,
              "#d8576b"
             ],
             [
              0.6666666666666666,
              "#ed7953"
             ],
             [
              0.7777777777777778,
              "#fb9f3a"
             ],
             [
              0.8888888888888888,
              "#fdca26"
             ],
             [
              1,
              "#f0f921"
             ]
            ],
            "type": "contour"
           }
          ],
          "contourcarpet": [
           {
            "colorbar": {
             "outlinewidth": 0,
             "ticks": ""
            },
            "type": "contourcarpet"
           }
          ],
          "heatmap": [
           {
            "colorbar": {
             "outlinewidth": 0,
             "ticks": ""
            },
            "colorscale": [
             [
              0,
              "#0d0887"
             ],
             [
              0.1111111111111111,
              "#46039f"
             ],
             [
              0.2222222222222222,
              "#7201a8"
             ],
             [
              0.3333333333333333,
              "#9c179e"
             ],
             [
              0.4444444444444444,
              "#bd3786"
             ],
             [
              0.5555555555555556,
              "#d8576b"
             ],
             [
              0.6666666666666666,
              "#ed7953"
             ],
             [
              0.7777777777777778,
              "#fb9f3a"
             ],
             [
              0.8888888888888888,
              "#fdca26"
             ],
             [
              1,
              "#f0f921"
             ]
            ],
            "type": "heatmap"
           }
          ],
          "heatmapgl": [
           {
            "colorbar": {
             "outlinewidth": 0,
             "ticks": ""
            },
            "colorscale": [
             [
              0,
              "#0d0887"
             ],
             [
              0.1111111111111111,
              "#46039f"
             ],
             [
              0.2222222222222222,
              "#7201a8"
             ],
             [
              0.3333333333333333,
              "#9c179e"
             ],
             [
              0.4444444444444444,
              "#bd3786"
             ],
             [
              0.5555555555555556,
              "#d8576b"
             ],
             [
              0.6666666666666666,
              "#ed7953"
             ],
             [
              0.7777777777777778,
              "#fb9f3a"
             ],
             [
              0.8888888888888888,
              "#fdca26"
             ],
             [
              1,
              "#f0f921"
             ]
            ],
            "type": "heatmapgl"
           }
          ],
          "histogram": [
           {
            "marker": {
             "pattern": {
              "fillmode": "overlay",
              "size": 10,
              "solidity": 0.2
             }
            },
            "type": "histogram"
           }
          ],
          "histogram2d": [
           {
            "colorbar": {
             "outlinewidth": 0,
             "ticks": ""
            },
            "colorscale": [
             [
              0,
              "#0d0887"
             ],
             [
              0.1111111111111111,
              "#46039f"
             ],
             [
              0.2222222222222222,
              "#7201a8"
             ],
             [
              0.3333333333333333,
              "#9c179e"
             ],
             [
              0.4444444444444444,
              "#bd3786"
             ],
             [
              0.5555555555555556,
              "#d8576b"
             ],
             [
              0.6666666666666666,
              "#ed7953"
             ],
             [
              0.7777777777777778,
              "#fb9f3a"
             ],
             [
              0.8888888888888888,
              "#fdca26"
             ],
             [
              1,
              "#f0f921"
             ]
            ],
            "type": "histogram2d"
           }
          ],
          "histogram2dcontour": [
           {
            "colorbar": {
             "outlinewidth": 0,
             "ticks": ""
            },
            "colorscale": [
             [
              0,
              "#0d0887"
             ],
             [
              0.1111111111111111,
              "#46039f"
             ],
             [
              0.2222222222222222,
              "#7201a8"
             ],
             [
              0.3333333333333333,
              "#9c179e"
             ],
             [
              0.4444444444444444,
              "#bd3786"
             ],
             [
              0.5555555555555556,
              "#d8576b"
             ],
             [
              0.6666666666666666,
              "#ed7953"
             ],
             [
              0.7777777777777778,
              "#fb9f3a"
             ],
             [
              0.8888888888888888,
              "#fdca26"
             ],
             [
              1,
              "#f0f921"
             ]
            ],
            "type": "histogram2dcontour"
           }
          ],
          "mesh3d": [
           {
            "colorbar": {
             "outlinewidth": 0,
             "ticks": ""
            },
            "type": "mesh3d"
           }
          ],
          "parcoords": [
           {
            "line": {
             "colorbar": {
              "outlinewidth": 0,
              "ticks": ""
             }
            },
            "type": "parcoords"
           }
          ],
          "pie": [
           {
            "automargin": true,
            "type": "pie"
           }
          ],
          "scatter": [
           {
            "fillpattern": {
             "fillmode": "overlay",
             "size": 10,
             "solidity": 0.2
            },
            "type": "scatter"
           }
          ],
          "scatter3d": [
           {
            "line": {
             "colorbar": {
              "outlinewidth": 0,
              "ticks": ""
             }
            },
            "marker": {
             "colorbar": {
              "outlinewidth": 0,
              "ticks": ""
             }
            },
            "type": "scatter3d"
           }
          ],
          "scattercarpet": [
           {
            "marker": {
             "colorbar": {
              "outlinewidth": 0,
              "ticks": ""
             }
            },
            "type": "scattercarpet"
           }
          ],
          "scattergeo": [
           {
            "marker": {
             "colorbar": {
              "outlinewidth": 0,
              "ticks": ""
             }
            },
            "type": "scattergeo"
           }
          ],
          "scattergl": [
           {
            "marker": {
             "colorbar": {
              "outlinewidth": 0,
              "ticks": ""
             }
            },
            "type": "scattergl"
           }
          ],
          "scattermapbox": [
           {
            "marker": {
             "colorbar": {
              "outlinewidth": 0,
              "ticks": ""
             }
            },
            "type": "scattermapbox"
           }
          ],
          "scatterpolar": [
           {
            "marker": {
             "colorbar": {
              "outlinewidth": 0,
              "ticks": ""
             }
            },
            "type": "scatterpolar"
           }
          ],
          "scatterpolargl": [
           {
            "marker": {
             "colorbar": {
              "outlinewidth": 0,
              "ticks": ""
             }
            },
            "type": "scatterpolargl"
           }
          ],
          "scatterternary": [
           {
            "marker": {
             "colorbar": {
              "outlinewidth": 0,
              "ticks": ""
             }
            },
            "type": "scatterternary"
           }
          ],
          "surface": [
           {
            "colorbar": {
             "outlinewidth": 0,
             "ticks": ""
            },
            "colorscale": [
             [
              0,
              "#0d0887"
             ],
             [
              0.1111111111111111,
              "#46039f"
             ],
             [
              0.2222222222222222,
              "#7201a8"
             ],
             [
              0.3333333333333333,
              "#9c179e"
             ],
             [
              0.4444444444444444,
              "#bd3786"
             ],
             [
              0.5555555555555556,
              "#d8576b"
             ],
             [
              0.6666666666666666,
              "#ed7953"
             ],
             [
              0.7777777777777778,
              "#fb9f3a"
             ],
             [
              0.8888888888888888,
              "#fdca26"
             ],
             [
              1,
              "#f0f921"
             ]
            ],
            "type": "surface"
           }
          ],
          "table": [
           {
            "cells": {
             "fill": {
              "color": "#EBF0F8"
             },
             "line": {
              "color": "white"
             }
            },
            "header": {
             "fill": {
              "color": "#C8D4E3"
             },
             "line": {
              "color": "white"
             }
            },
            "type": "table"
           }
          ]
         },
         "layout": {
          "annotationdefaults": {
           "arrowcolor": "#2a3f5f",
           "arrowhead": 0,
           "arrowwidth": 1
          },
          "autotypenumbers": "strict",
          "coloraxis": {
           "colorbar": {
            "outlinewidth": 0,
            "ticks": ""
           }
          },
          "colorscale": {
           "diverging": [
            [
             0,
             "#8e0152"
            ],
            [
             0.1,
             "#c51b7d"
            ],
            [
             0.2,
             "#de77ae"
            ],
            [
             0.3,
             "#f1b6da"
            ],
            [
             0.4,
             "#fde0ef"
            ],
            [
             0.5,
             "#f7f7f7"
            ],
            [
             0.6,
             "#e6f5d0"
            ],
            [
             0.7,
             "#b8e186"
            ],
            [
             0.8,
             "#7fbc41"
            ],
            [
             0.9,
             "#4d9221"
            ],
            [
             1,
             "#276419"
            ]
           ],
           "sequential": [
            [
             0,
             "#0d0887"
            ],
            [
             0.1111111111111111,
             "#46039f"
            ],
            [
             0.2222222222222222,
             "#7201a8"
            ],
            [
             0.3333333333333333,
             "#9c179e"
            ],
            [
             0.4444444444444444,
             "#bd3786"
            ],
            [
             0.5555555555555556,
             "#d8576b"
            ],
            [
             0.6666666666666666,
             "#ed7953"
            ],
            [
             0.7777777777777778,
             "#fb9f3a"
            ],
            [
             0.8888888888888888,
             "#fdca26"
            ],
            [
             1,
             "#f0f921"
            ]
           ],
           "sequentialminus": [
            [
             0,
             "#0d0887"
            ],
            [
             0.1111111111111111,
             "#46039f"
            ],
            [
             0.2222222222222222,
             "#7201a8"
            ],
            [
             0.3333333333333333,
             "#9c179e"
            ],
            [
             0.4444444444444444,
             "#bd3786"
            ],
            [
             0.5555555555555556,
             "#d8576b"
            ],
            [
             0.6666666666666666,
             "#ed7953"
            ],
            [
             0.7777777777777778,
             "#fb9f3a"
            ],
            [
             0.8888888888888888,
             "#fdca26"
            ],
            [
             1,
             "#f0f921"
            ]
           ]
          },
          "colorway": [
           "#636efa",
           "#EF553B",
           "#00cc96",
           "#ab63fa",
           "#FFA15A",
           "#19d3f3",
           "#FF6692",
           "#B6E880",
           "#FF97FF",
           "#FECB52"
          ],
          "font": {
           "color": "#2a3f5f"
          },
          "geo": {
           "bgcolor": "white",
           "lakecolor": "white",
           "landcolor": "#E5ECF6",
           "showlakes": true,
           "showland": true,
           "subunitcolor": "white"
          },
          "hoverlabel": {
           "align": "left"
          },
          "hovermode": "closest",
          "mapbox": {
           "style": "light"
          },
          "paper_bgcolor": "white",
          "plot_bgcolor": "#E5ECF6",
          "polar": {
           "angularaxis": {
            "gridcolor": "white",
            "linecolor": "white",
            "ticks": ""
           },
           "bgcolor": "#E5ECF6",
           "radialaxis": {
            "gridcolor": "white",
            "linecolor": "white",
            "ticks": ""
           }
          },
          "scene": {
           "xaxis": {
            "backgroundcolor": "#E5ECF6",
            "gridcolor": "white",
            "gridwidth": 2,
            "linecolor": "white",
            "showbackground": true,
            "ticks": "",
            "zerolinecolor": "white"
           },
           "yaxis": {
            "backgroundcolor": "#E5ECF6",
            "gridcolor": "white",
            "gridwidth": 2,
            "linecolor": "white",
            "showbackground": true,
            "ticks": "",
            "zerolinecolor": "white"
           },
           "zaxis": {
            "backgroundcolor": "#E5ECF6",
            "gridcolor": "white",
            "gridwidth": 2,
            "linecolor": "white",
            "showbackground": true,
            "ticks": "",
            "zerolinecolor": "white"
           }
          },
          "shapedefaults": {
           "line": {
            "color": "#2a3f5f"
           }
          },
          "ternary": {
           "aaxis": {
            "gridcolor": "white",
            "linecolor": "white",
            "ticks": ""
           },
           "baxis": {
            "gridcolor": "white",
            "linecolor": "white",
            "ticks": ""
           },
           "bgcolor": "#E5ECF6",
           "caxis": {
            "gridcolor": "white",
            "linecolor": "white",
            "ticks": ""
           }
          },
          "title": {
           "x": 0.05
          },
          "xaxis": {
           "automargin": true,
           "gridcolor": "white",
           "linecolor": "white",
           "ticks": "",
           "title": {
            "standoff": 15
           },
           "zerolinecolor": "white",
           "zerolinewidth": 2
          },
          "yaxis": {
           "automargin": true,
           "gridcolor": "white",
           "linecolor": "white",
           "ticks": "",
           "title": {
            "standoff": 15
           },
           "zerolinecolor": "white",
           "zerolinewidth": 2
          }
         }
        },
        "title": {
         "text": ""
        },
        "width": 500,
        "xaxis": {
         "linecolor": "black",
         "linewidth": 1,
         "mirror": true,
         "showline": true,
         "showticklabels": true,
         "title": {
          "text": ""
         }
        },
        "yaxis": {
         "linecolor": "black",
         "linewidth": 1,
         "mirror": true,
         "showline": true,
         "showticklabels": true,
         "title": {
          "text": ""
         }
        }
       }
      }
     },
     "metadata": {},
     "output_type": "display_data"
    }
   ],
   "source": [
    "pu.plot_ablation(bc_clean_logit_diff, bc_necessity_score, bc_sufficiency_score, image_dir / \"correctness_of_circuit_bc.png\")"
   ]
  },
  {
   "cell_type": "markdown",
   "metadata": {
    "id": "AoLGSC2HabVc"
   },
   "source": [
    "### Figure 6(b) belief-inconsistent"
   ]
  },
  {
   "cell_type": "code",
   "execution_count": 113,
   "metadata": {
    "colab": {
     "base_uri": "https://localhost:8080/",
     "height": 517
    },
    "id": "gEbDxdVlabVc",
    "outputId": "45c4b174-2b4b-441b-949d-13b6603abb77"
   },
   "outputs": [
    {
     "name": "stdout",
     "output_type": "stream",
     "text": [
      "Plot saved to ../images/cript-medium/correctness_of_circuit_bi.png\n"
     ]
    },
    {
     "data": {
      "application/vnd.plotly.v1+json": {
       "config": {
        "plotlyServerURL": "https://plot.ly"
       },
       "data": [
        {
         "line": {
          "color": "#bcbd22",
          "width": 3
         },
         "marker": {
          "size": 8,
          "symbol": "circle"
         },
         "mode": "lines+markers",
         "name": "Necessity",
         "type": "scatter",
         "x": [
          0,
          1,
          2,
          3,
          4,
          5,
          6,
          7,
          8,
          9,
          10,
          11
         ],
         "y": [
          0.01457519643008709,
          0.01760050468146801,
          0.05959498509764671,
          0.03775418922305107,
          -0.1101069226861,
          -0.3540104031562805,
          -0.40807420015335083,
          -0.4136342704296112,
          -0.3980245292186737,
          -0.38134169578552246,
          -0.3824203610420227,
          -0.38095909357070923
         ]
        },
        {
         "line": {
          "color": "#9467bd",
          "width": 3
         },
         "marker": {
          "size": 8,
          "symbol": "square"
         },
         "mode": "lines+markers",
         "name": "Sufficiency",
         "type": "scatter",
         "x": [
          0,
          1,
          2,
          3,
          4,
          5,
          6,
          7,
          8,
          9,
          10,
          11
         ],
         "y": [
          -4.060523509979248,
          -4.052590847015381,
          -4.059309959411621,
          -4.043316841125488,
          -4.022313594818115,
          -4.032256126403809,
          -3.9338583946228027,
          -3.5462100505828857,
          -3.3503260612487793,
          -3.284590244293213,
          -3.2271766662597656,
          -3.2273404598236084
         ]
        }
       ],
       "layout": {
        "height": 500,
        "legend": {
         "bgcolor": "rgba(255, 255, 255, 0.8)",
         "font": {
          "size": 20
         },
         "x": 0.02,
         "y": 0.98
        },
        "margin": {
         "b": 10,
         "l": 0,
         "r": 0,
         "t": 10
        },
        "plot_bgcolor": "white",
        "shapes": [
         {
          "line": {
           "color": "#000000",
           "dash": "dash",
           "width": 3
          },
          "type": "line",
          "x0": 0,
          "x1": 1,
          "xref": "x domain",
          "y0": 0.01457519643008709,
          "y1": 0.01457519643008709,
          "yref": "y"
         }
        ],
        "template": {
         "data": {
          "bar": [
           {
            "error_x": {
             "color": "#2a3f5f"
            },
            "error_y": {
             "color": "#2a3f5f"
            },
            "marker": {
             "line": {
              "color": "#E5ECF6",
              "width": 0.5
             },
             "pattern": {
              "fillmode": "overlay",
              "size": 10,
              "solidity": 0.2
             }
            },
            "type": "bar"
           }
          ],
          "barpolar": [
           {
            "marker": {
             "line": {
              "color": "#E5ECF6",
              "width": 0.5
             },
             "pattern": {
              "fillmode": "overlay",
              "size": 10,
              "solidity": 0.2
             }
            },
            "type": "barpolar"
           }
          ],
          "carpet": [
           {
            "aaxis": {
             "endlinecolor": "#2a3f5f",
             "gridcolor": "white",
             "linecolor": "white",
             "minorgridcolor": "white",
             "startlinecolor": "#2a3f5f"
            },
            "baxis": {
             "endlinecolor": "#2a3f5f",
             "gridcolor": "white",
             "linecolor": "white",
             "minorgridcolor": "white",
             "startlinecolor": "#2a3f5f"
            },
            "type": "carpet"
           }
          ],
          "choropleth": [
           {
            "colorbar": {
             "outlinewidth": 0,
             "ticks": ""
            },
            "type": "choropleth"
           }
          ],
          "contour": [
           {
            "colorbar": {
             "outlinewidth": 0,
             "ticks": ""
            },
            "colorscale": [
             [
              0,
              "#0d0887"
             ],
             [
              0.1111111111111111,
              "#46039f"
             ],
             [
              0.2222222222222222,
              "#7201a8"
             ],
             [
              0.3333333333333333,
              "#9c179e"
             ],
             [
              0.4444444444444444,
              "#bd3786"
             ],
             [
              0.5555555555555556,
              "#d8576b"
             ],
             [
              0.6666666666666666,
              "#ed7953"
             ],
             [
              0.7777777777777778,
              "#fb9f3a"
             ],
             [
              0.8888888888888888,
              "#fdca26"
             ],
             [
              1,
              "#f0f921"
             ]
            ],
            "type": "contour"
           }
          ],
          "contourcarpet": [
           {
            "colorbar": {
             "outlinewidth": 0,
             "ticks": ""
            },
            "type": "contourcarpet"
           }
          ],
          "heatmap": [
           {
            "colorbar": {
             "outlinewidth": 0,
             "ticks": ""
            },
            "colorscale": [
             [
              0,
              "#0d0887"
             ],
             [
              0.1111111111111111,
              "#46039f"
             ],
             [
              0.2222222222222222,
              "#7201a8"
             ],
             [
              0.3333333333333333,
              "#9c179e"
             ],
             [
              0.4444444444444444,
              "#bd3786"
             ],
             [
              0.5555555555555556,
              "#d8576b"
             ],
             [
              0.6666666666666666,
              "#ed7953"
             ],
             [
              0.7777777777777778,
              "#fb9f3a"
             ],
             [
              0.8888888888888888,
              "#fdca26"
             ],
             [
              1,
              "#f0f921"
             ]
            ],
            "type": "heatmap"
           }
          ],
          "heatmapgl": [
           {
            "colorbar": {
             "outlinewidth": 0,
             "ticks": ""
            },
            "colorscale": [
             [
              0,
              "#0d0887"
             ],
             [
              0.1111111111111111,
              "#46039f"
             ],
             [
              0.2222222222222222,
              "#7201a8"
             ],
             [
              0.3333333333333333,
              "#9c179e"
             ],
             [
              0.4444444444444444,
              "#bd3786"
             ],
             [
              0.5555555555555556,
              "#d8576b"
             ],
             [
              0.6666666666666666,
              "#ed7953"
             ],
             [
              0.7777777777777778,
              "#fb9f3a"
             ],
             [
              0.8888888888888888,
              "#fdca26"
             ],
             [
              1,
              "#f0f921"
             ]
            ],
            "type": "heatmapgl"
           }
          ],
          "histogram": [
           {
            "marker": {
             "pattern": {
              "fillmode": "overlay",
              "size": 10,
              "solidity": 0.2
             }
            },
            "type": "histogram"
           }
          ],
          "histogram2d": [
           {
            "colorbar": {
             "outlinewidth": 0,
             "ticks": ""
            },
            "colorscale": [
             [
              0,
              "#0d0887"
             ],
             [
              0.1111111111111111,
              "#46039f"
             ],
             [
              0.2222222222222222,
              "#7201a8"
             ],
             [
              0.3333333333333333,
              "#9c179e"
             ],
             [
              0.4444444444444444,
              "#bd3786"
             ],
             [
              0.5555555555555556,
              "#d8576b"
             ],
             [
              0.6666666666666666,
              "#ed7953"
             ],
             [
              0.7777777777777778,
              "#fb9f3a"
             ],
             [
              0.8888888888888888,
              "#fdca26"
             ],
             [
              1,
              "#f0f921"
             ]
            ],
            "type": "histogram2d"
           }
          ],
          "histogram2dcontour": [
           {
            "colorbar": {
             "outlinewidth": 0,
             "ticks": ""
            },
            "colorscale": [
             [
              0,
              "#0d0887"
             ],
             [
              0.1111111111111111,
              "#46039f"
             ],
             [
              0.2222222222222222,
              "#7201a8"
             ],
             [
              0.3333333333333333,
              "#9c179e"
             ],
             [
              0.4444444444444444,
              "#bd3786"
             ],
             [
              0.5555555555555556,
              "#d8576b"
             ],
             [
              0.6666666666666666,
              "#ed7953"
             ],
             [
              0.7777777777777778,
              "#fb9f3a"
             ],
             [
              0.8888888888888888,
              "#fdca26"
             ],
             [
              1,
              "#f0f921"
             ]
            ],
            "type": "histogram2dcontour"
           }
          ],
          "mesh3d": [
           {
            "colorbar": {
             "outlinewidth": 0,
             "ticks": ""
            },
            "type": "mesh3d"
           }
          ],
          "parcoords": [
           {
            "line": {
             "colorbar": {
              "outlinewidth": 0,
              "ticks": ""
             }
            },
            "type": "parcoords"
           }
          ],
          "pie": [
           {
            "automargin": true,
            "type": "pie"
           }
          ],
          "scatter": [
           {
            "fillpattern": {
             "fillmode": "overlay",
             "size": 10,
             "solidity": 0.2
            },
            "type": "scatter"
           }
          ],
          "scatter3d": [
           {
            "line": {
             "colorbar": {
              "outlinewidth": 0,
              "ticks": ""
             }
            },
            "marker": {
             "colorbar": {
              "outlinewidth": 0,
              "ticks": ""
             }
            },
            "type": "scatter3d"
           }
          ],
          "scattercarpet": [
           {
            "marker": {
             "colorbar": {
              "outlinewidth": 0,
              "ticks": ""
             }
            },
            "type": "scattercarpet"
           }
          ],
          "scattergeo": [
           {
            "marker": {
             "colorbar": {
              "outlinewidth": 0,
              "ticks": ""
             }
            },
            "type": "scattergeo"
           }
          ],
          "scattergl": [
           {
            "marker": {
             "colorbar": {
              "outlinewidth": 0,
              "ticks": ""
             }
            },
            "type": "scattergl"
           }
          ],
          "scattermapbox": [
           {
            "marker": {
             "colorbar": {
              "outlinewidth": 0,
              "ticks": ""
             }
            },
            "type": "scattermapbox"
           }
          ],
          "scatterpolar": [
           {
            "marker": {
             "colorbar": {
              "outlinewidth": 0,
              "ticks": ""
             }
            },
            "type": "scatterpolar"
           }
          ],
          "scatterpolargl": [
           {
            "marker": {
             "colorbar": {
              "outlinewidth": 0,
              "ticks": ""
             }
            },
            "type": "scatterpolargl"
           }
          ],
          "scatterternary": [
           {
            "marker": {
             "colorbar": {
              "outlinewidth": 0,
              "ticks": ""
             }
            },
            "type": "scatterternary"
           }
          ],
          "surface": [
           {
            "colorbar": {
             "outlinewidth": 0,
             "ticks": ""
            },
            "colorscale": [
             [
              0,
              "#0d0887"
             ],
             [
              0.1111111111111111,
              "#46039f"
             ],
             [
              0.2222222222222222,
              "#7201a8"
             ],
             [
              0.3333333333333333,
              "#9c179e"
             ],
             [
              0.4444444444444444,
              "#bd3786"
             ],
             [
              0.5555555555555556,
              "#d8576b"
             ],
             [
              0.6666666666666666,
              "#ed7953"
             ],
             [
              0.7777777777777778,
              "#fb9f3a"
             ],
             [
              0.8888888888888888,
              "#fdca26"
             ],
             [
              1,
              "#f0f921"
             ]
            ],
            "type": "surface"
           }
          ],
          "table": [
           {
            "cells": {
             "fill": {
              "color": "#EBF0F8"
             },
             "line": {
              "color": "white"
             }
            },
            "header": {
             "fill": {
              "color": "#C8D4E3"
             },
             "line": {
              "color": "white"
             }
            },
            "type": "table"
           }
          ]
         },
         "layout": {
          "annotationdefaults": {
           "arrowcolor": "#2a3f5f",
           "arrowhead": 0,
           "arrowwidth": 1
          },
          "autotypenumbers": "strict",
          "coloraxis": {
           "colorbar": {
            "outlinewidth": 0,
            "ticks": ""
           }
          },
          "colorscale": {
           "diverging": [
            [
             0,
             "#8e0152"
            ],
            [
             0.1,
             "#c51b7d"
            ],
            [
             0.2,
             "#de77ae"
            ],
            [
             0.3,
             "#f1b6da"
            ],
            [
             0.4,
             "#fde0ef"
            ],
            [
             0.5,
             "#f7f7f7"
            ],
            [
             0.6,
             "#e6f5d0"
            ],
            [
             0.7,
             "#b8e186"
            ],
            [
             0.8,
             "#7fbc41"
            ],
            [
             0.9,
             "#4d9221"
            ],
            [
             1,
             "#276419"
            ]
           ],
           "sequential": [
            [
             0,
             "#0d0887"
            ],
            [
             0.1111111111111111,
             "#46039f"
            ],
            [
             0.2222222222222222,
             "#7201a8"
            ],
            [
             0.3333333333333333,
             "#9c179e"
            ],
            [
             0.4444444444444444,
             "#bd3786"
            ],
            [
             0.5555555555555556,
             "#d8576b"
            ],
            [
             0.6666666666666666,
             "#ed7953"
            ],
            [
             0.7777777777777778,
             "#fb9f3a"
            ],
            [
             0.8888888888888888,
             "#fdca26"
            ],
            [
             1,
             "#f0f921"
            ]
           ],
           "sequentialminus": [
            [
             0,
             "#0d0887"
            ],
            [
             0.1111111111111111,
             "#46039f"
            ],
            [
             0.2222222222222222,
             "#7201a8"
            ],
            [
             0.3333333333333333,
             "#9c179e"
            ],
            [
             0.4444444444444444,
             "#bd3786"
            ],
            [
             0.5555555555555556,
             "#d8576b"
            ],
            [
             0.6666666666666666,
             "#ed7953"
            ],
            [
             0.7777777777777778,
             "#fb9f3a"
            ],
            [
             0.8888888888888888,
             "#fdca26"
            ],
            [
             1,
             "#f0f921"
            ]
           ]
          },
          "colorway": [
           "#636efa",
           "#EF553B",
           "#00cc96",
           "#ab63fa",
           "#FFA15A",
           "#19d3f3",
           "#FF6692",
           "#B6E880",
           "#FF97FF",
           "#FECB52"
          ],
          "font": {
           "color": "#2a3f5f"
          },
          "geo": {
           "bgcolor": "white",
           "lakecolor": "white",
           "landcolor": "#E5ECF6",
           "showlakes": true,
           "showland": true,
           "subunitcolor": "white"
          },
          "hoverlabel": {
           "align": "left"
          },
          "hovermode": "closest",
          "mapbox": {
           "style": "light"
          },
          "paper_bgcolor": "white",
          "plot_bgcolor": "#E5ECF6",
          "polar": {
           "angularaxis": {
            "gridcolor": "white",
            "linecolor": "white",
            "ticks": ""
           },
           "bgcolor": "#E5ECF6",
           "radialaxis": {
            "gridcolor": "white",
            "linecolor": "white",
            "ticks": ""
           }
          },
          "scene": {
           "xaxis": {
            "backgroundcolor": "#E5ECF6",
            "gridcolor": "white",
            "gridwidth": 2,
            "linecolor": "white",
            "showbackground": true,
            "ticks": "",
            "zerolinecolor": "white"
           },
           "yaxis": {
            "backgroundcolor": "#E5ECF6",
            "gridcolor": "white",
            "gridwidth": 2,
            "linecolor": "white",
            "showbackground": true,
            "ticks": "",
            "zerolinecolor": "white"
           },
           "zaxis": {
            "backgroundcolor": "#E5ECF6",
            "gridcolor": "white",
            "gridwidth": 2,
            "linecolor": "white",
            "showbackground": true,
            "ticks": "",
            "zerolinecolor": "white"
           }
          },
          "shapedefaults": {
           "line": {
            "color": "#2a3f5f"
           }
          },
          "ternary": {
           "aaxis": {
            "gridcolor": "white",
            "linecolor": "white",
            "ticks": ""
           },
           "baxis": {
            "gridcolor": "white",
            "linecolor": "white",
            "ticks": ""
           },
           "bgcolor": "#E5ECF6",
           "caxis": {
            "gridcolor": "white",
            "linecolor": "white",
            "ticks": ""
           }
          },
          "title": {
           "x": 0.05
          },
          "xaxis": {
           "automargin": true,
           "gridcolor": "white",
           "linecolor": "white",
           "ticks": "",
           "title": {
            "standoff": 15
           },
           "zerolinecolor": "white",
           "zerolinewidth": 2
          },
          "yaxis": {
           "automargin": true,
           "gridcolor": "white",
           "linecolor": "white",
           "ticks": "",
           "title": {
            "standoff": 15
           },
           "zerolinecolor": "white",
           "zerolinewidth": 2
          }
         }
        },
        "title": {
         "text": ""
        },
        "width": 500,
        "xaxis": {
         "linecolor": "black",
         "linewidth": 1,
         "mirror": true,
         "showline": true,
         "showticklabels": true,
         "title": {
          "text": ""
         }
        },
        "yaxis": {
         "linecolor": "black",
         "linewidth": 1,
         "mirror": true,
         "showline": true,
         "showticklabels": true,
         "title": {
          "text": ""
         }
        }
       }
      }
     },
     "metadata": {},
     "output_type": "display_data"
    }
   ],
   "source": [
    "pu.plot_ablation(bi_clean_logit_diff, bi_necessity_score, bi_sufficiency_score, image_dir / \"correctness_of_circuit_bi.png\")"
   ]
  },
  {
   "cell_type": "markdown",
   "metadata": {
    "id": "YpkzOAIbabVc"
   },
   "source": [
    "### Table 2 all unconditionally valid syllogisms"
   ]
  },
  {
   "cell_type": "code",
   "execution_count": 114,
   "metadata": {
    "id": "HIWmqoJwabVc"
   },
   "outputs": [],
   "source": [
    "# ordered by accuracy\n",
    "moods_ordered = ['AII3', 'IAI3', 'IAI4', 'AAA1', 'EAE1', 'EIO4', 'EIO3', 'AII1', 'AOO2', 'AEE4', 'OAO3', 'EIO1', 'EIO2', 'EAE2', 'AEE2']"
   ]
  },
  {
   "cell_type": "code",
   "execution_count": 115,
   "metadata": {
    "id": "jOTVftBeabVc"
   },
   "outputs": [],
   "source": [
    "# all symbolic datasets import\n",
    "s_datasets = {}\n",
    "\n",
    "for template in moods_ordered:\n",
    "    s_dataset = SyllogismDataset(\n",
    "            N=N,\n",
    "            seed=seed,\n",
    "            device=device,\n",
    "            type='symbolic',\n",
    "            template_type=template\n",
    "        )\n",
    "    s_datasets[template] = s_dataset\n"
   ]
  },
  {
   "cell_type": "code",
   "execution_count": 116,
   "metadata": {
    "id": "NShCchAwabVc"
   },
   "outputs": [],
   "source": [
    "# setup\n",
    "mood_dics = []\n",
    "\n",
    "for template in moods_ordered:\n",
    "    mood_dic = {\n",
    "        'mood': template,\n",
    "        'prompts': s_datasets[template].sentences,\n",
    "        'labels': s_datasets[template].labels,\n",
    "        'second_labels': s_datasets[template].B\n",
    "\n",
    "    }\n",
    "    s_answers = list(zip(mood_dic['labels'], mood_dic['second_labels']))\n",
    "    mood_dic['answers'] = s_answers\n",
    "    s_answer_tokens = t.concat([\n",
    "        model.to_tokens(names, prepend_bos=False).T for names in s_answers\n",
    "    ])\n",
    "    mood_dic['answer_tokens'] = s_answer_tokens\n",
    "\n",
    "    mood_dics.append(mood_dic)"
   ]
  },
  {
   "cell_type": "code",
   "execution_count": 117,
   "metadata": {
    "colab": {
     "base_uri": "https://localhost:8080/"
    },
    "id": "hSpyK4zkabVc",
    "outputId": "a02bd88f-90c1-4b5b-c35b-f98b489f6b1b"
   },
   "outputs": [
    {
     "name": "stdout",
     "output_type": "stream",
     "text": [
      "tensor(0.9720, device='mps:0') tensor(0., device='mps:0')\n",
      "tensor(0.4753, device='mps:0') tensor(0., device='mps:0')\n",
      "tensor(0.4753, device='mps:0') tensor(0., device='mps:0')\n",
      "tensor(0.3170, device='mps:0') tensor(0., device='mps:0')\n",
      "tensor(0.1401, device='mps:0') tensor(0., device='mps:0')\n",
      "tensor(0.4769, device='mps:0') tensor(0., device='mps:0')\n",
      "tensor(0.4769, device='mps:0') tensor(0., device='mps:0')\n",
      "tensor(-0.1302, device='mps:0') tensor(0., device='mps:0')\n",
      "tensor(-1.1784, device='mps:0') tensor(0., device='mps:0')\n",
      "tensor(-0.5424, device='mps:0') tensor(0., device='mps:0')\n",
      "tensor(-0.4168, device='mps:0') tensor(0., device='mps:0')\n",
      "tensor(-0.9202, device='mps:0') tensor(0., device='mps:0')\n",
      "tensor(-1.4959, device='mps:0') tensor(0., device='mps:0')\n",
      "tensor(-1.5060, device='mps:0') tensor(0., device='mps:0')\n",
      "tensor(-1.7159, device='mps:0') tensor(0., device='mps:0')\n"
     ]
    }
   ],
   "source": [
    "# get base logit diff for 15 syllogisms\n",
    "for i, template in enumerate(moods_ordered):\n",
    "    tokens = model.to_tokens(mood_dics[i]['prompts'], prepend_bos=False).to(device)\n",
    "    clean_logit_diff = h.get_batched_logit_diff(5, tokens, mood_dics[i]['answer_tokens'], model)\n",
    "    mood_dics[i]['tokens'] = tokens\n",
    "    mood_dics[i]['clean_logit_diff'] = clean_logit_diff\n",
    "\n",
    "    bia_diff = 0\n",
    "    for correct, wrong in mood_dics[i]['answer_tokens']:\n",
    "        diff = model.unembed.b_U[correct.item()] - model.unembed.b_U[wrong.item()]\n",
    "        bia_diff += diff\n",
    "\n",
    "    bia_diff = bia_diff/len(mood_dics[i]['prompts'])\n",
    "    mood_dics[i]['bia_diff'] = bia_diff\n",
    "    print(mood_dics[i]['clean_logit_diff'], mood_dics[i]['bia_diff'])"
   ]
  },
  {
   "cell_type": "code",
   "execution_count": 119,
   "metadata": {
    "colab": {
     "base_uri": "https://localhost:8080/"
    },
    "id": "3JMEFrxDabVd",
    "outputId": "44e4d3a8-63f0-40b0-8b91-47e7f6e83387"
   },
   "outputs": [
    {
     "name": "stderr",
     "output_type": "stream",
     "text": [
      "100%|██████████| 11/11 [00:31<00:00,  2.82s/it]\n",
      "100%|██████████| 11/11 [00:11<00:00,  1.06s/it]\n",
      "100%|██████████| 11/11 [00:11<00:00,  1.00s/it]\n",
      "100%|██████████| 11/11 [00:11<00:00,  1.08s/it]\n",
      "100%|██████████| 11/11 [00:11<00:00,  1.03s/it]\n",
      "100%|██████████| 11/11 [00:12<00:00,  1.13s/it]\n",
      "100%|██████████| 11/11 [00:11<00:00,  1.01s/it]\n",
      "100%|██████████| 11/11 [00:11<00:00,  1.08s/it]\n",
      "100%|██████████| 11/11 [00:11<00:00,  1.02s/it]\n",
      "100%|██████████| 11/11 [00:11<00:00,  1.07s/it]\n",
      "100%|██████████| 11/11 [00:10<00:00,  1.07it/s]\n",
      "100%|██████████| 11/11 [00:12<00:00,  1.11s/it]\n",
      "100%|██████████| 11/11 [00:18<00:00,  1.65s/it]\n",
      "100%|██████████| 11/11 [00:20<00:00,  1.89s/it]\n",
      "100%|██████████| 11/11 [00:13<00:00,  1.24s/it]\n",
      "100%|██████████| 11/11 [00:11<00:00,  1.09s/it]\n",
      "100%|██████████| 11/11 [00:11<00:00,  1.04s/it]\n",
      "100%|██████████| 11/11 [00:14<00:00,  1.28s/it]\n",
      "100%|██████████| 11/11 [00:11<00:00,  1.00s/it]\n",
      "100%|██████████| 11/11 [00:12<00:00,  1.10s/it]\n",
      "100%|██████████| 11/11 [00:11<00:00,  1.03s/it]\n",
      "100%|██████████| 11/11 [00:11<00:00,  1.06s/it]\n",
      "100%|██████████| 11/11 [00:09<00:00,  1.10it/s]\n",
      "100%|██████████| 11/11 [00:10<00:00,  1.00it/s]\n",
      "100%|██████████| 11/11 [00:09<00:00,  1.10it/s]\n",
      "100%|██████████| 11/11 [00:10<00:00,  1.04it/s]\n",
      "100%|██████████| 11/11 [00:11<00:00,  1.03s/it]\n",
      "100%|██████████| 11/11 [00:11<00:00,  1.06s/it]\n",
      "100%|██████████| 11/11 [00:11<00:00,  1.01s/it]\n",
      "100%|██████████| 11/11 [00:11<00:00,  1.06s/it]\n"
     ]
    }
   ],
   "source": [
    "# ablation\n",
    "for i, template in enumerate(moods_ordered):\n",
    "    mean_scores = h.necessity_check(model, mood_dics[i]['labels'], mood_dics[i]['tokens'], mood_dics[i]['answer_tokens'], mood_dics[i]['clean_logit_diff'], 'mean', device)\n",
    "    sf_mean_scores = h.sufficiency_check(model, mood_dics[i]['labels'], mood_dics[i]['tokens'], mood_dics[i]['answer_tokens'], mood_dics[i]['clean_logit_diff'], 'mean',device)\n",
    "    mood_dics[i]['mean_scores'] = mean_scores\n",
    "    mood_dics[i]['sf_mean_score'] = sf_mean_scores"
   ]
  },
  {
   "cell_type": "code",
   "execution_count": 120,
   "metadata": {
    "colab": {
     "base_uri": "https://localhost:8080/",
     "height": 817
    },
    "id": "Thf1Nl8SabVd",
    "outputId": "09d6eb52-dd55-40bc-c503-138f979edf9f"
   },
   "outputs": [
    {
     "name": "stdout",
     "output_type": "stream",
     "text": [
      "Plot saved to ../images/cript-medium/syllogism_ablation.png\n"
     ]
    },
    {
     "data": {
      "application/vnd.plotly.v1+json": {
       "config": {
        "plotlyServerURL": "https://plot.ly"
       },
       "data": [
        {
         "line": {
          "color": "#bcbd22",
          "width": 2
         },
         "name": "Necessity",
         "showlegend": true,
         "type": "scatter",
         "x": [
          0,
          1,
          2,
          3,
          4,
          5,
          6,
          7,
          8,
          9,
          10,
          11
         ],
         "xaxis": "x",
         "y": [
          0.9720456600189209,
          1.1895577907562256,
          1.114457368850708,
          0.9010695219039917,
          0.8849318027496338,
          0.24999873340129852,
          -0.0488121472299099,
          -0.03766839951276779,
          -0.047984421253204346,
          -0.08276087790727615,
          -0.09952935576438904,
          -0.11703447252511978
         ],
         "yaxis": "y"
        },
        {
         "line": {
          "color": "#9467bd",
          "width": 2
         },
         "name": "Sufficiency",
         "showlegend": true,
         "type": "scatter",
         "x": [
          0,
          1,
          2,
          3,
          4,
          5,
          6,
          7,
          8,
          9,
          10,
          11
         ],
         "xaxis": "x",
         "y": [
          0,
          0.00413377583026886,
          0.017391247674822807,
          0.023937055841088295,
          0.03597535192966461,
          0.03548194095492363,
          0.48519209027290344,
          1.234107494354248,
          1.2233821153640747,
          1.750577449798584,
          1.6622874736785889,
          1.4433529376983643
         ],
         "yaxis": "y"
        },
        {
         "line": {
          "color": "#bcbd22",
          "width": 2
         },
         "name": "Necessity",
         "showlegend": false,
         "type": "scatter",
         "x": [
          0,
          1,
          2,
          3,
          4,
          5,
          6,
          7,
          8,
          9,
          10,
          11
         ],
         "xaxis": "x2",
         "y": [
          0.4753333330154419,
          0.7658799886703491,
          0.7901268005371094,
          0.5799604058265686,
          0.5781921744346619,
          -0.02701007016003132,
          -0.3093240261077881,
          -0.2848564088344574,
          -0.30315670371055603,
          -0.32135048508644104,
          -0.36167263984680176,
          -0.3803243935108185
         ],
         "yaxis": "y2"
        },
        {
         "line": {
          "color": "#9467bd",
          "width": 2
         },
         "name": "Sufficiency",
         "showlegend": false,
         "type": "scatter",
         "x": [
          0,
          1,
          2,
          3,
          4,
          5,
          6,
          7,
          8,
          9,
          10,
          11
         ],
         "xaxis": "x2",
         "y": [
          0,
          0.005412292666733265,
          0.046098582446575165,
          0.05315348505973816,
          0.07495507597923279,
          0.07406078279018402,
          0.6911618709564209,
          1.226993441581726,
          1.2092289924621582,
          1.5208730697631836,
          1.4245147705078125,
          0.9681956171989441
         ],
         "yaxis": "y2"
        },
        {
         "line": {
          "color": "#bcbd22",
          "width": 2
         },
         "name": "Necessity",
         "showlegend": false,
         "type": "scatter",
         "x": [
          0,
          1,
          2,
          3,
          4,
          5,
          6,
          7,
          8,
          9,
          10,
          11
         ],
         "xaxis": "x3",
         "y": [
          0.4753333330154419,
          0.7658799886703491,
          0.7901268005371094,
          0.5799604058265686,
          0.5781921744346619,
          -0.02701007016003132,
          -0.3093240261077881,
          -0.2848564088344574,
          -0.30315670371055603,
          -0.32135048508644104,
          -0.36167263984680176,
          -0.3803243935108185
         ],
         "yaxis": "y3"
        },
        {
         "line": {
          "color": "#9467bd",
          "width": 2
         },
         "name": "Sufficiency",
         "showlegend": false,
         "type": "scatter",
         "x": [
          0,
          1,
          2,
          3,
          4,
          5,
          6,
          7,
          8,
          9,
          10,
          11
         ],
         "xaxis": "x3",
         "y": [
          0,
          0.005412292666733265,
          0.046098582446575165,
          0.05315348505973816,
          0.07495507597923279,
          0.07406078279018402,
          0.6911618709564209,
          1.226993441581726,
          1.2092289924621582,
          1.5208730697631836,
          1.4245147705078125,
          0.9681956171989441
         ],
         "yaxis": "y3"
        },
        {
         "line": {
          "color": "#bcbd22",
          "width": 2
         },
         "name": "Necessity",
         "showlegend": false,
         "type": "scatter",
         "x": [
          0,
          1,
          2,
          3,
          4,
          5,
          6,
          7,
          8,
          9,
          10,
          11
         ],
         "xaxis": "x4",
         "y": [
          0.316963255405426,
          0.5976741909980774,
          0.2715440094470978,
          0.14134278893470764,
          0.2772185206413269,
          -0.22200000286102295,
          -0.6748265027999878,
          -0.6719267964363098,
          -0.6549573540687561,
          -0.644316554069519,
          -0.6067311763763428,
          -0.6014281511306763
         ],
         "yaxis": "y4"
        },
        {
         "line": {
          "color": "#9467bd",
          "width": 2
         },
         "name": "Sufficiency",
         "showlegend": false,
         "type": "scatter",
         "x": [
          0,
          1,
          2,
          3,
          4,
          5,
          6,
          7,
          8,
          9,
          10,
          11
         ],
         "xaxis": "x4",
         "y": [
          0,
          0.00010960896906908602,
          -0.003618749091401696,
          0.00030451882048510015,
          0.0022457123268395662,
          0.004688962362706661,
          1.0460028648376465,
          2.1285786628723145,
          1.8974660634994507,
          2.317225694656372,
          2.151287794113159,
          1.4672281742095947
         ],
         "yaxis": "y4"
        },
        {
         "line": {
          "color": "#bcbd22",
          "width": 2
         },
         "name": "Necessity",
         "showlegend": false,
         "type": "scatter",
         "x": [
          0,
          1,
          2,
          3,
          4,
          5,
          6,
          7,
          8,
          9,
          10,
          11
         ],
         "xaxis": "x5",
         "y": [
          0.1401422619819641,
          0.41773802042007446,
          0.011131620965898037,
          -0.06745943427085876,
          0.09483517706394196,
          -0.22705504298210144,
          -0.48255980014801025,
          -0.4843219518661499,
          -0.4778430759906769,
          -0.4723888039588928,
          -0.45525047183036804,
          -0.4543899595737457
         ],
         "yaxis": "y5"
        },
        {
         "line": {
          "color": "#9467bd",
          "width": 2
         },
         "name": "Sufficiency",
         "showlegend": false,
         "type": "scatter",
         "x": [
          0,
          1,
          2,
          3,
          4,
          5,
          6,
          7,
          8,
          9,
          10,
          11
         ],
         "xaxis": "x5",
         "y": [
          0,
          0.0041790856048464775,
          0.027145005762577057,
          0.03275879845023155,
          0.0505252443253994,
          0.051247745752334595,
          0.45101848244667053,
          0.7526034116744995,
          0.48839324712753296,
          0.7462775707244873,
          0.7209343314170837,
          0.1296422928571701
         ],
         "yaxis": "y5"
        },
        {
         "line": {
          "color": "#bcbd22",
          "width": 2
         },
         "name": "Necessity",
         "showlegend": false,
         "type": "scatter",
         "x": [
          0,
          1,
          2,
          3,
          4,
          5,
          6,
          7,
          8,
          9,
          10,
          11
         ],
         "xaxis": "x6",
         "y": [
          0.47686678171157837,
          0.7728961110115051,
          0.6264564394950867,
          0.34462833404541016,
          0.37985387444496155,
          -0.22188718616962433,
          -0.3937123417854309,
          -0.3831212818622589,
          -0.3916926980018616,
          -0.42234179377555847,
          -0.4510290324687958,
          -0.4645330607891083
         ],
         "yaxis": "y6"
        },
        {
         "line": {
          "color": "#9467bd",
          "width": 2
         },
         "name": "Sufficiency",
         "showlegend": false,
         "type": "scatter",
         "x": [
          0,
          1,
          2,
          3,
          4,
          5,
          6,
          7,
          8,
          9,
          10,
          11
         ],
         "xaxis": "x6",
         "y": [
          0,
          0.005733235739171505,
          0.012518947012722492,
          0.015191269107162952,
          0.021332085132598877,
          0.021365568041801453,
          0.047252021729946136,
          -0.006836700718849897,
          -0.0845961719751358,
          0.0178607739508152,
          0.0017397351330146194,
          -0.567243218421936
         ],
         "yaxis": "y6"
        },
        {
         "line": {
          "color": "#bcbd22",
          "width": 2
         },
         "name": "Necessity",
         "showlegend": false,
         "type": "scatter",
         "x": [
          0,
          1,
          2,
          3,
          4,
          5,
          6,
          7,
          8,
          9,
          10,
          11
         ],
         "xaxis": "x7",
         "y": [
          0.47686678171157837,
          0.7728961110115051,
          0.6264564394950867,
          0.34462833404541016,
          0.37985387444496155,
          -0.22188718616962433,
          -0.3937123417854309,
          -0.3831212818622589,
          -0.3916926980018616,
          -0.42234179377555847,
          -0.4510290324687958,
          -0.4645330607891083
         ],
         "yaxis": "y7"
        },
        {
         "line": {
          "color": "#9467bd",
          "width": 2
         },
         "name": "Sufficiency",
         "showlegend": false,
         "type": "scatter",
         "x": [
          0,
          1,
          2,
          3,
          4,
          5,
          6,
          7,
          8,
          9,
          10,
          11
         ],
         "xaxis": "x7",
         "y": [
          0,
          0.005733235739171505,
          0.012518947012722492,
          0.015191269107162952,
          0.021332085132598877,
          0.021365568041801453,
          0.047252021729946136,
          -0.006836700718849897,
          -0.0845961719751358,
          0.0178607739508152,
          0.0017397351330146194,
          -0.567243218421936
         ],
         "yaxis": "y7"
        },
        {
         "line": {
          "color": "#bcbd22",
          "width": 2
         },
         "name": "Necessity",
         "showlegend": false,
         "type": "scatter",
         "x": [
          0,
          1,
          2,
          3,
          4,
          5,
          6,
          7,
          8,
          9,
          10,
          11
         ],
         "xaxis": "x8",
         "y": [
          -0.13019761443138123,
          0.011943509802222252,
          -0.6405646800994873,
          -0.6816672682762146,
          -0.5216162204742432,
          -0.9165815114974976,
          -1.2101614475250244,
          -1.2058753967285156,
          -1.1945644617080688,
          -1.1969082355499268,
          -1.1462068557739258,
          -1.1527644395828247
         ],
         "yaxis": "y8"
        },
        {
         "line": {
          "color": "#9467bd",
          "width": 2
         },
         "name": "Sufficiency",
         "showlegend": false,
         "type": "scatter",
         "x": [
          0,
          1,
          2,
          3,
          4,
          5,
          6,
          7,
          8,
          9,
          10,
          11
         ],
         "xaxis": "x8",
         "y": [
          0,
          0.00012194315786473453,
          -0.041341401636600494,
          -0.03713599219918251,
          -0.04541337862610817,
          -0.04256469011306763,
          0.3433607518672943,
          0.9442231059074402,
          0.7096892595291138,
          1.1343108415603638,
          1.378768801689148,
          0.8238618969917297
         ],
         "yaxis": "y8"
        },
        {
         "line": {
          "color": "#bcbd22",
          "width": 2
         },
         "name": "Necessity",
         "showlegend": false,
         "type": "scatter",
         "x": [
          0,
          1,
          2,
          3,
          4,
          5,
          6,
          7,
          8,
          9,
          10,
          11
         ],
         "xaxis": "x9",
         "y": [
          -1.1784191131591797,
          -1.1025948524475098,
          -1.4675495624542236,
          -1.2566723823547363,
          -1.054027795791626,
          -1.304054856300354,
          -1.4070121049880981,
          -1.4171282052993774,
          -1.365226149559021,
          -1.3653881549835205,
          -1.3129127025604248,
          -1.3081002235412598
         ],
         "yaxis": "y9"
        },
        {
         "line": {
          "color": "#9467bd",
          "width": 2
         },
         "name": "Sufficiency",
         "showlegend": false,
         "type": "scatter",
         "x": [
          0,
          1,
          2,
          3,
          4,
          5,
          6,
          7,
          8,
          9,
          10,
          11
         ],
         "xaxis": "x9",
         "y": [
          0,
          -0.00925501249730587,
          -0.06797019392251968,
          -0.07530861347913742,
          -0.12096258997917175,
          -0.11791959404945374,
          -0.0161747969686985,
          0.16514696180820465,
          0.018658164888620377,
          -0.7251088619232178,
          -0.631401002407074,
          -1.0719271898269653
         ],
         "yaxis": "y9"
        },
        {
         "line": {
          "color": "#bcbd22",
          "width": 2
         },
         "name": "Necessity",
         "showlegend": false,
         "type": "scatter",
         "x": [
          0,
          1,
          2,
          3,
          4,
          5,
          6,
          7,
          8,
          9,
          10,
          11
         ],
         "xaxis": "x10",
         "y": [
          -0.5423792600631714,
          -0.4509117305278778,
          -0.43141400814056396,
          -0.4067348539829254,
          -0.32033318281173706,
          -0.22640222311019897,
          -0.35281407833099365,
          -0.3554503321647644,
          -0.3211837112903595,
          -0.3230106830596924,
          -0.2969595491886139,
          -0.2881031930446625
         ],
         "yaxis": "y10"
        },
        {
         "line": {
          "color": "#9467bd",
          "width": 2
         },
         "name": "Sufficiency",
         "showlegend": false,
         "type": "scatter",
         "x": [
          0,
          1,
          2,
          3,
          4,
          5,
          6,
          7,
          8,
          9,
          10,
          11
         ],
         "xaxis": "x10",
         "y": [
          0,
          -0.005699369590729475,
          -0.015290557406842709,
          -0.024090174585580826,
          -0.04386914521455765,
          -0.043094806373119354,
          0.0026913748588413,
          -0.4081214964389801,
          -0.4041208028793335,
          -0.8937801718711853,
          -0.9614574909210205,
          -1.2433795928955078
         ],
         "yaxis": "y10"
        },
        {
         "line": {
          "color": "#bcbd22",
          "width": 2
         },
         "name": "Necessity",
         "showlegend": false,
         "type": "scatter",
         "x": [
          0,
          1,
          2,
          3,
          4,
          5,
          6,
          7,
          8,
          9,
          10,
          11
         ],
         "xaxis": "x11",
         "y": [
          -0.41675233840942383,
          -0.2752847373485565,
          -0.40788429975509644,
          -0.43049028515815735,
          -0.4162239730358124,
          -0.6770771741867065,
          -0.7126359939575195,
          -0.7016542553901672,
          -0.7334128022193909,
          -0.7608820796012878,
          -0.8042435646057129,
          -0.8232945799827576
         ],
         "yaxis": "y11"
        },
        {
         "line": {
          "color": "#9467bd",
          "width": 2
         },
         "name": "Sufficiency",
         "showlegend": false,
         "type": "scatter",
         "x": [
          0,
          1,
          2,
          3,
          4,
          5,
          6,
          7,
          8,
          9,
          10,
          11
         ],
         "xaxis": "x11",
         "y": [
          0,
          0.005912399385124445,
          0.03931069001555443,
          0.04472338408231735,
          0.07857456058263779,
          0.07902690023183823,
          -0.04711121693253517,
          -0.12095854431390762,
          -0.15828090906143188,
          -0.12062700092792511,
          -0.1014995202422142,
          -0.5857270956039429
         ],
         "yaxis": "y11"
        },
        {
         "line": {
          "color": "#bcbd22",
          "width": 2
         },
         "name": "Necessity",
         "showlegend": false,
         "type": "scatter",
         "x": [
          0,
          1,
          2,
          3,
          4,
          5,
          6,
          7,
          8,
          9,
          10,
          11
         ],
         "xaxis": "x12",
         "y": [
          -0.9201867580413818,
          -0.740770161151886,
          -1.3131073713302612,
          -1.3346251249313354,
          -1.1488178968429565,
          -1.3162586688995361,
          -1.4704829454421997,
          -1.4763219356536865,
          -1.4878321886062622,
          -1.492121934890747,
          -1.493128776550293,
          -1.5124660730361938
         ],
         "yaxis": "y12"
        },
        {
         "line": {
          "color": "#9467bd",
          "width": 2
         },
         "name": "Sufficiency",
         "showlegend": false,
         "type": "scatter",
         "x": [
          0,
          1,
          2,
          3,
          4,
          5,
          6,
          7,
          8,
          9,
          10,
          11
         ],
         "xaxis": "x12",
         "y": [
          0,
          0.002812724793329835,
          0.005453851539641619,
          0.005491829011589289,
          0.006368997506797314,
          0.008480686694383621,
          -0.03826344758272171,
          -0.32094138860702515,
          -0.5830010175704956,
          -0.6661692261695862,
          -0.4463382363319397,
          -1.1806427240371704
         ],
         "yaxis": "y12"
        },
        {
         "line": {
          "color": "#bcbd22",
          "width": 2
         },
         "name": "Necessity",
         "showlegend": false,
         "type": "scatter",
         "x": [
          0,
          1,
          2,
          3,
          4,
          5,
          6,
          7,
          8,
          9,
          10,
          11
         ],
         "xaxis": "x13",
         "y": [
          -1.4959050416946411,
          -1.3991241455078125,
          -1.783358097076416,
          -1.6791682243347168,
          -1.3959848880767822,
          -1.6681562662124634,
          -1.5106958150863647,
          -1.5180158615112305,
          -1.5042612552642822,
          -1.4996846914291382,
          -1.4768368005752563,
          -1.4843733310699463
         ],
         "yaxis": "y13"
        },
        {
         "line": {
          "color": "#9467bd",
          "width": 2
         },
         "name": "Sufficiency",
         "showlegend": false,
         "type": "scatter",
         "x": [
          0,
          1,
          2,
          3,
          4,
          5,
          6,
          7,
          8,
          9,
          10,
          11
         ],
         "xaxis": "x13",
         "y": [
          0,
          -0.008782853372395039,
          -0.01970486156642437,
          -0.02330847829580307,
          -0.03278312832117081,
          -0.029199834913015366,
          -0.17561309039592743,
          -0.37950149178504944,
          -0.655191957950592,
          -1.4149800539016724,
          -1.103217601776123,
          -1.5172797441482544
         ],
         "yaxis": "y13"
        },
        {
         "line": {
          "color": "#bcbd22",
          "width": 2
         },
         "name": "Necessity",
         "showlegend": false,
         "type": "scatter",
         "x": [
          0,
          1,
          2,
          3,
          4,
          5,
          6,
          7,
          8,
          9,
          10,
          11
         ],
         "xaxis": "x14",
         "y": [
          -1.505963683128357,
          -1.4408284425735474,
          -1.9819083213806152,
          -1.7614763975143433,
          -1.4663567543029785,
          -1.4779102802276611,
          -1.23365318775177,
          -1.2355897426605225,
          -1.1987138986587524,
          -1.1910862922668457,
          -1.1261205673217773,
          -1.1150603294372559
         ],
         "yaxis": "y14"
        },
        {
         "line": {
          "color": "#9467bd",
          "width": 2
         },
         "name": "Sufficiency",
         "showlegend": false,
         "type": "scatter",
         "x": [
          0,
          1,
          2,
          3,
          4,
          5,
          6,
          7,
          8,
          9,
          10,
          11
         ],
         "xaxis": "x14",
         "y": [
          0,
          -0.015473154373466969,
          -0.10423749685287476,
          -0.11679460853338242,
          -0.1670389622449875,
          -0.16487592458724976,
          -0.6995288729667664,
          -0.9953686594963074,
          -1.3018518686294556,
          -2.2080130577087402,
          -1.601574420928955,
          -1.904473900794983
         ],
         "yaxis": "y14"
        },
        {
         "line": {
          "color": "#bcbd22",
          "width": 2
         },
         "name": "Necessity",
         "showlegend": false,
         "type": "scatter",
         "x": [
          0,
          1,
          2,
          3,
          4,
          5,
          6,
          7,
          8,
          9,
          10,
          11
         ],
         "xaxis": "x15",
         "y": [
          -1.7159478664398193,
          -1.7097456455230713,
          -2.1255292892456055,
          -1.9117578268051147,
          -1.6492658853530884,
          -1.677173376083374,
          -1.7528005838394165,
          -1.7619984149932861,
          -1.7244696617126465,
          -1.7169817686080933,
          -1.65021550655365,
          -1.6429325342178345
         ],
         "yaxis": "y15"
        },
        {
         "line": {
          "color": "#9467bd",
          "width": 2
         },
         "name": "Sufficiency",
         "showlegend": false,
         "type": "scatter",
         "x": [
          0,
          1,
          2,
          3,
          4,
          5,
          6,
          7,
          8,
          9,
          10,
          11
         ],
         "xaxis": "x15",
         "y": [
          0,
          -0.01422764454036951,
          -0.10677196830511093,
          -0.11873824149370193,
          -0.16784866154193878,
          -0.1647750735282898,
          -0.2972783148288727,
          -1.1379209756851196,
          -1.433417797088623,
          -2.517275333404541,
          -2.0082056522369385,
          -2.312124013900757
         ],
         "yaxis": "y15"
        }
       ],
       "layout": {
        "annotations": [
         {
          "font": {
           "size": 16
          },
          "showarrow": false,
          "text": "AII-3",
          "x": 0.08,
          "xanchor": "center",
          "xref": "paper",
          "y": 1,
          "yanchor": "bottom",
          "yref": "paper"
         },
         {
          "font": {
           "size": 16
          },
          "showarrow": false,
          "text": "IAI-3",
          "x": 0.29000000000000004,
          "xanchor": "center",
          "xref": "paper",
          "y": 1,
          "yanchor": "bottom",
          "yref": "paper"
         },
         {
          "font": {
           "size": 16
          },
          "showarrow": false,
          "text": "IAI-4",
          "x": 0.5,
          "xanchor": "center",
          "xref": "paper",
          "y": 1,
          "yanchor": "bottom",
          "yref": "paper"
         },
         {
          "font": {
           "size": 16
          },
          "showarrow": false,
          "text": "AAA-1",
          "x": 0.71,
          "xanchor": "center",
          "xref": "paper",
          "y": 1,
          "yanchor": "bottom",
          "yref": "paper"
         },
         {
          "font": {
           "size": 16
          },
          "showarrow": false,
          "text": "EAE-1",
          "x": 0.92,
          "xanchor": "center",
          "xref": "paper",
          "y": 1,
          "yanchor": "bottom",
          "yref": "paper"
         },
         {
          "font": {
           "size": 16
          },
          "showarrow": false,
          "text": "EIO-4",
          "x": 0.08,
          "xanchor": "center",
          "xref": "paper",
          "y": 0.6499999999999999,
          "yanchor": "bottom",
          "yref": "paper"
         },
         {
          "font": {
           "size": 16
          },
          "showarrow": false,
          "text": "EIO-3",
          "x": 0.29000000000000004,
          "xanchor": "center",
          "xref": "paper",
          "y": 0.6499999999999999,
          "yanchor": "bottom",
          "yref": "paper"
         },
         {
          "font": {
           "size": 16
          },
          "showarrow": false,
          "text": "AII-1",
          "x": 0.5,
          "xanchor": "center",
          "xref": "paper",
          "y": 0.6499999999999999,
          "yanchor": "bottom",
          "yref": "paper"
         },
         {
          "font": {
           "size": 16
          },
          "showarrow": false,
          "text": "AOO-2",
          "x": 0.71,
          "xanchor": "center",
          "xref": "paper",
          "y": 0.6499999999999999,
          "yanchor": "bottom",
          "yref": "paper"
         },
         {
          "font": {
           "size": 16
          },
          "showarrow": false,
          "text": "AEE-4",
          "x": 0.92,
          "xanchor": "center",
          "xref": "paper",
          "y": 0.6499999999999999,
          "yanchor": "bottom",
          "yref": "paper"
         },
         {
          "font": {
           "size": 16
          },
          "showarrow": false,
          "text": "OAO-3",
          "x": 0.08,
          "xanchor": "center",
          "xref": "paper",
          "y": 0.3,
          "yanchor": "bottom",
          "yref": "paper"
         },
         {
          "font": {
           "size": 16
          },
          "showarrow": false,
          "text": "EIO-1",
          "x": 0.29000000000000004,
          "xanchor": "center",
          "xref": "paper",
          "y": 0.3,
          "yanchor": "bottom",
          "yref": "paper"
         },
         {
          "font": {
           "size": 16
          },
          "showarrow": false,
          "text": "EIO-2",
          "x": 0.5,
          "xanchor": "center",
          "xref": "paper",
          "y": 0.3,
          "yanchor": "bottom",
          "yref": "paper"
         },
         {
          "font": {
           "size": 16
          },
          "showarrow": false,
          "text": "EAE-2",
          "x": 0.71,
          "xanchor": "center",
          "xref": "paper",
          "y": 0.3,
          "yanchor": "bottom",
          "yref": "paper"
         },
         {
          "font": {
           "size": 16
          },
          "showarrow": false,
          "text": "AEE-2",
          "x": 0.92,
          "xanchor": "center",
          "xref": "paper",
          "y": 0.3,
          "yanchor": "bottom",
          "yref": "paper"
         }
        ],
        "font": {
         "family": "Arial",
         "size": 20
        },
        "height": 800,
        "legend": {
         "font": {
          "size": 20
         },
         "orientation": "h",
         "x": 0.5,
         "xanchor": "center",
         "y": -0.2,
         "yanchor": "bottom"
        },
        "plot_bgcolor": "white",
        "shapes": [
         {
          "line": {
           "color": "#000000",
           "dash": "dash",
           "width": 1
          },
          "name": "Baseline",
          "type": "line",
          "x0": 0,
          "x1": 1,
          "xref": "x domain",
          "y0": 0.9720456600189209,
          "y1": 0.9720456600189209,
          "yref": "y"
         },
         {
          "line": {
           "color": "#000000",
           "dash": "dash",
           "width": 1
          },
          "type": "line",
          "x0": 0,
          "x1": 1,
          "xref": "x2 domain",
          "y0": 0.4753333330154419,
          "y1": 0.4753333330154419,
          "yref": "y2"
         },
         {
          "line": {
           "color": "#000000",
           "dash": "dash",
           "width": 1
          },
          "type": "line",
          "x0": 0,
          "x1": 1,
          "xref": "x3 domain",
          "y0": 0.4753333330154419,
          "y1": 0.4753333330154419,
          "yref": "y3"
         },
         {
          "line": {
           "color": "#000000",
           "dash": "dash",
           "width": 1
          },
          "type": "line",
          "x0": 0,
          "x1": 1,
          "xref": "x4 domain",
          "y0": 0.316963255405426,
          "y1": 0.316963255405426,
          "yref": "y4"
         },
         {
          "line": {
           "color": "#000000",
           "dash": "dash",
           "width": 1
          },
          "type": "line",
          "x0": 0,
          "x1": 1,
          "xref": "x5 domain",
          "y0": 0.1401422619819641,
          "y1": 0.1401422619819641,
          "yref": "y5"
         },
         {
          "line": {
           "color": "#000000",
           "dash": "dash",
           "width": 1
          },
          "type": "line",
          "x0": 0,
          "x1": 1,
          "xref": "x6 domain",
          "y0": 0.47686678171157837,
          "y1": 0.47686678171157837,
          "yref": "y6"
         },
         {
          "line": {
           "color": "#000000",
           "dash": "dash",
           "width": 1
          },
          "type": "line",
          "x0": 0,
          "x1": 1,
          "xref": "x7 domain",
          "y0": 0.47686678171157837,
          "y1": 0.47686678171157837,
          "yref": "y7"
         },
         {
          "line": {
           "color": "#000000",
           "dash": "dash",
           "width": 1
          },
          "type": "line",
          "x0": 0,
          "x1": 1,
          "xref": "x8 domain",
          "y0": -0.13019761443138123,
          "y1": -0.13019761443138123,
          "yref": "y8"
         },
         {
          "line": {
           "color": "#000000",
           "dash": "dash",
           "width": 1
          },
          "type": "line",
          "x0": 0,
          "x1": 1,
          "xref": "x9 domain",
          "y0": -1.1784191131591797,
          "y1": -1.1784191131591797,
          "yref": "y9"
         },
         {
          "line": {
           "color": "#000000",
           "dash": "dash",
           "width": 1
          },
          "type": "line",
          "x0": 0,
          "x1": 1,
          "xref": "x10 domain",
          "y0": -0.5423792600631714,
          "y1": -0.5423792600631714,
          "yref": "y10"
         },
         {
          "line": {
           "color": "#000000",
           "dash": "dash",
           "width": 1
          },
          "type": "line",
          "x0": 0,
          "x1": 1,
          "xref": "x11 domain",
          "y0": -0.41675233840942383,
          "y1": -0.41675233840942383,
          "yref": "y11"
         },
         {
          "line": {
           "color": "#000000",
           "dash": "dash",
           "width": 1
          },
          "type": "line",
          "x0": 0,
          "x1": 1,
          "xref": "x12 domain",
          "y0": -0.9201867580413818,
          "y1": -0.9201867580413818,
          "yref": "y12"
         },
         {
          "line": {
           "color": "#000000",
           "dash": "dash",
           "width": 1
          },
          "type": "line",
          "x0": 0,
          "x1": 1,
          "xref": "x13 domain",
          "y0": -1.4959050416946411,
          "y1": -1.4959050416946411,
          "yref": "y13"
         },
         {
          "line": {
           "color": "#000000",
           "dash": "dash",
           "width": 1
          },
          "type": "line",
          "x0": 0,
          "x1": 1,
          "xref": "x14 domain",
          "y0": -1.505963683128357,
          "y1": -1.505963683128357,
          "yref": "y14"
         },
         {
          "line": {
           "color": "#000000",
           "dash": "dash",
           "width": 1
          },
          "type": "line",
          "x0": 0,
          "x1": 1,
          "xref": "x15 domain",
          "y0": -1.7159478664398193,
          "y1": -1.7159478664398193,
          "yref": "y15"
         }
        ],
        "template": {
         "data": {
          "bar": [
           {
            "error_x": {
             "color": "#2a3f5f"
            },
            "error_y": {
             "color": "#2a3f5f"
            },
            "marker": {
             "line": {
              "color": "#E5ECF6",
              "width": 0.5
             },
             "pattern": {
              "fillmode": "overlay",
              "size": 10,
              "solidity": 0.2
             }
            },
            "type": "bar"
           }
          ],
          "barpolar": [
           {
            "marker": {
             "line": {
              "color": "#E5ECF6",
              "width": 0.5
             },
             "pattern": {
              "fillmode": "overlay",
              "size": 10,
              "solidity": 0.2
             }
            },
            "type": "barpolar"
           }
          ],
          "carpet": [
           {
            "aaxis": {
             "endlinecolor": "#2a3f5f",
             "gridcolor": "white",
             "linecolor": "white",
             "minorgridcolor": "white",
             "startlinecolor": "#2a3f5f"
            },
            "baxis": {
             "endlinecolor": "#2a3f5f",
             "gridcolor": "white",
             "linecolor": "white",
             "minorgridcolor": "white",
             "startlinecolor": "#2a3f5f"
            },
            "type": "carpet"
           }
          ],
          "choropleth": [
           {
            "colorbar": {
             "outlinewidth": 0,
             "ticks": ""
            },
            "type": "choropleth"
           }
          ],
          "contour": [
           {
            "colorbar": {
             "outlinewidth": 0,
             "ticks": ""
            },
            "colorscale": [
             [
              0,
              "#0d0887"
             ],
             [
              0.1111111111111111,
              "#46039f"
             ],
             [
              0.2222222222222222,
              "#7201a8"
             ],
             [
              0.3333333333333333,
              "#9c179e"
             ],
             [
              0.4444444444444444,
              "#bd3786"
             ],
             [
              0.5555555555555556,
              "#d8576b"
             ],
             [
              0.6666666666666666,
              "#ed7953"
             ],
             [
              0.7777777777777778,
              "#fb9f3a"
             ],
             [
              0.8888888888888888,
              "#fdca26"
             ],
             [
              1,
              "#f0f921"
             ]
            ],
            "type": "contour"
           }
          ],
          "contourcarpet": [
           {
            "colorbar": {
             "outlinewidth": 0,
             "ticks": ""
            },
            "type": "contourcarpet"
           }
          ],
          "heatmap": [
           {
            "colorbar": {
             "outlinewidth": 0,
             "ticks": ""
            },
            "colorscale": [
             [
              0,
              "#0d0887"
             ],
             [
              0.1111111111111111,
              "#46039f"
             ],
             [
              0.2222222222222222,
              "#7201a8"
             ],
             [
              0.3333333333333333,
              "#9c179e"
             ],
             [
              0.4444444444444444,
              "#bd3786"
             ],
             [
              0.5555555555555556,
              "#d8576b"
             ],
             [
              0.6666666666666666,
              "#ed7953"
             ],
             [
              0.7777777777777778,
              "#fb9f3a"
             ],
             [
              0.8888888888888888,
              "#fdca26"
             ],
             [
              1,
              "#f0f921"
             ]
            ],
            "type": "heatmap"
           }
          ],
          "heatmapgl": [
           {
            "colorbar": {
             "outlinewidth": 0,
             "ticks": ""
            },
            "colorscale": [
             [
              0,
              "#0d0887"
             ],
             [
              0.1111111111111111,
              "#46039f"
             ],
             [
              0.2222222222222222,
              "#7201a8"
             ],
             [
              0.3333333333333333,
              "#9c179e"
             ],
             [
              0.4444444444444444,
              "#bd3786"
             ],
             [
              0.5555555555555556,
              "#d8576b"
             ],
             [
              0.6666666666666666,
              "#ed7953"
             ],
             [
              0.7777777777777778,
              "#fb9f3a"
             ],
             [
              0.8888888888888888,
              "#fdca26"
             ],
             [
              1,
              "#f0f921"
             ]
            ],
            "type": "heatmapgl"
           }
          ],
          "histogram": [
           {
            "marker": {
             "pattern": {
              "fillmode": "overlay",
              "size": 10,
              "solidity": 0.2
             }
            },
            "type": "histogram"
           }
          ],
          "histogram2d": [
           {
            "colorbar": {
             "outlinewidth": 0,
             "ticks": ""
            },
            "colorscale": [
             [
              0,
              "#0d0887"
             ],
             [
              0.1111111111111111,
              "#46039f"
             ],
             [
              0.2222222222222222,
              "#7201a8"
             ],
             [
              0.3333333333333333,
              "#9c179e"
             ],
             [
              0.4444444444444444,
              "#bd3786"
             ],
             [
              0.5555555555555556,
              "#d8576b"
             ],
             [
              0.6666666666666666,
              "#ed7953"
             ],
             [
              0.7777777777777778,
              "#fb9f3a"
             ],
             [
              0.8888888888888888,
              "#fdca26"
             ],
             [
              1,
              "#f0f921"
             ]
            ],
            "type": "histogram2d"
           }
          ],
          "histogram2dcontour": [
           {
            "colorbar": {
             "outlinewidth": 0,
             "ticks": ""
            },
            "colorscale": [
             [
              0,
              "#0d0887"
             ],
             [
              0.1111111111111111,
              "#46039f"
             ],
             [
              0.2222222222222222,
              "#7201a8"
             ],
             [
              0.3333333333333333,
              "#9c179e"
             ],
             [
              0.4444444444444444,
              "#bd3786"
             ],
             [
              0.5555555555555556,
              "#d8576b"
             ],
             [
              0.6666666666666666,
              "#ed7953"
             ],
             [
              0.7777777777777778,
              "#fb9f3a"
             ],
             [
              0.8888888888888888,
              "#fdca26"
             ],
             [
              1,
              "#f0f921"
             ]
            ],
            "type": "histogram2dcontour"
           }
          ],
          "mesh3d": [
           {
            "colorbar": {
             "outlinewidth": 0,
             "ticks": ""
            },
            "type": "mesh3d"
           }
          ],
          "parcoords": [
           {
            "line": {
             "colorbar": {
              "outlinewidth": 0,
              "ticks": ""
             }
            },
            "type": "parcoords"
           }
          ],
          "pie": [
           {
            "automargin": true,
            "type": "pie"
           }
          ],
          "scatter": [
           {
            "fillpattern": {
             "fillmode": "overlay",
             "size": 10,
             "solidity": 0.2
            },
            "type": "scatter"
           }
          ],
          "scatter3d": [
           {
            "line": {
             "colorbar": {
              "outlinewidth": 0,
              "ticks": ""
             }
            },
            "marker": {
             "colorbar": {
              "outlinewidth": 0,
              "ticks": ""
             }
            },
            "type": "scatter3d"
           }
          ],
          "scattercarpet": [
           {
            "marker": {
             "colorbar": {
              "outlinewidth": 0,
              "ticks": ""
             }
            },
            "type": "scattercarpet"
           }
          ],
          "scattergeo": [
           {
            "marker": {
             "colorbar": {
              "outlinewidth": 0,
              "ticks": ""
             }
            },
            "type": "scattergeo"
           }
          ],
          "scattergl": [
           {
            "marker": {
             "colorbar": {
              "outlinewidth": 0,
              "ticks": ""
             }
            },
            "type": "scattergl"
           }
          ],
          "scattermapbox": [
           {
            "marker": {
             "colorbar": {
              "outlinewidth": 0,
              "ticks": ""
             }
            },
            "type": "scattermapbox"
           }
          ],
          "scatterpolar": [
           {
            "marker": {
             "colorbar": {
              "outlinewidth": 0,
              "ticks": ""
             }
            },
            "type": "scatterpolar"
           }
          ],
          "scatterpolargl": [
           {
            "marker": {
             "colorbar": {
              "outlinewidth": 0,
              "ticks": ""
             }
            },
            "type": "scatterpolargl"
           }
          ],
          "scatterternary": [
           {
            "marker": {
             "colorbar": {
              "outlinewidth": 0,
              "ticks": ""
             }
            },
            "type": "scatterternary"
           }
          ],
          "surface": [
           {
            "colorbar": {
             "outlinewidth": 0,
             "ticks": ""
            },
            "colorscale": [
             [
              0,
              "#0d0887"
             ],
             [
              0.1111111111111111,
              "#46039f"
             ],
             [
              0.2222222222222222,
              "#7201a8"
             ],
             [
              0.3333333333333333,
              "#9c179e"
             ],
             [
              0.4444444444444444,
              "#bd3786"
             ],
             [
              0.5555555555555556,
              "#d8576b"
             ],
             [
              0.6666666666666666,
              "#ed7953"
             ],
             [
              0.7777777777777778,
              "#fb9f3a"
             ],
             [
              0.8888888888888888,
              "#fdca26"
             ],
             [
              1,
              "#f0f921"
             ]
            ],
            "type": "surface"
           }
          ],
          "table": [
           {
            "cells": {
             "fill": {
              "color": "#EBF0F8"
             },
             "line": {
              "color": "white"
             }
            },
            "header": {
             "fill": {
              "color": "#C8D4E3"
             },
             "line": {
              "color": "white"
             }
            },
            "type": "table"
           }
          ]
         },
         "layout": {
          "annotationdefaults": {
           "arrowcolor": "#2a3f5f",
           "arrowhead": 0,
           "arrowwidth": 1
          },
          "autotypenumbers": "strict",
          "coloraxis": {
           "colorbar": {
            "outlinewidth": 0,
            "ticks": ""
           }
          },
          "colorscale": {
           "diverging": [
            [
             0,
             "#8e0152"
            ],
            [
             0.1,
             "#c51b7d"
            ],
            [
             0.2,
             "#de77ae"
            ],
            [
             0.3,
             "#f1b6da"
            ],
            [
             0.4,
             "#fde0ef"
            ],
            [
             0.5,
             "#f7f7f7"
            ],
            [
             0.6,
             "#e6f5d0"
            ],
            [
             0.7,
             "#b8e186"
            ],
            [
             0.8,
             "#7fbc41"
            ],
            [
             0.9,
             "#4d9221"
            ],
            [
             1,
             "#276419"
            ]
           ],
           "sequential": [
            [
             0,
             "#0d0887"
            ],
            [
             0.1111111111111111,
             "#46039f"
            ],
            [
             0.2222222222222222,
             "#7201a8"
            ],
            [
             0.3333333333333333,
             "#9c179e"
            ],
            [
             0.4444444444444444,
             "#bd3786"
            ],
            [
             0.5555555555555556,
             "#d8576b"
            ],
            [
             0.6666666666666666,
             "#ed7953"
            ],
            [
             0.7777777777777778,
             "#fb9f3a"
            ],
            [
             0.8888888888888888,
             "#fdca26"
            ],
            [
             1,
             "#f0f921"
            ]
           ],
           "sequentialminus": [
            [
             0,
             "#0d0887"
            ],
            [
             0.1111111111111111,
             "#46039f"
            ],
            [
             0.2222222222222222,
             "#7201a8"
            ],
            [
             0.3333333333333333,
             "#9c179e"
            ],
            [
             0.4444444444444444,
             "#bd3786"
            ],
            [
             0.5555555555555556,
             "#d8576b"
            ],
            [
             0.6666666666666666,
             "#ed7953"
            ],
            [
             0.7777777777777778,
             "#fb9f3a"
            ],
            [
             0.8888888888888888,
             "#fdca26"
            ],
            [
             1,
             "#f0f921"
            ]
           ]
          },
          "colorway": [
           "#636efa",
           "#EF553B",
           "#00cc96",
           "#ab63fa",
           "#FFA15A",
           "#19d3f3",
           "#FF6692",
           "#B6E880",
           "#FF97FF",
           "#FECB52"
          ],
          "font": {
           "color": "#2a3f5f"
          },
          "geo": {
           "bgcolor": "white",
           "lakecolor": "white",
           "landcolor": "#E5ECF6",
           "showlakes": true,
           "showland": true,
           "subunitcolor": "white"
          },
          "hoverlabel": {
           "align": "left"
          },
          "hovermode": "closest",
          "mapbox": {
           "style": "light"
          },
          "paper_bgcolor": "white",
          "plot_bgcolor": "#E5ECF6",
          "polar": {
           "angularaxis": {
            "gridcolor": "white",
            "linecolor": "white",
            "ticks": ""
           },
           "bgcolor": "#E5ECF6",
           "radialaxis": {
            "gridcolor": "white",
            "linecolor": "white",
            "ticks": ""
           }
          },
          "scene": {
           "xaxis": {
            "backgroundcolor": "#E5ECF6",
            "gridcolor": "white",
            "gridwidth": 2,
            "linecolor": "white",
            "showbackground": true,
            "ticks": "",
            "zerolinecolor": "white"
           },
           "yaxis": {
            "backgroundcolor": "#E5ECF6",
            "gridcolor": "white",
            "gridwidth": 2,
            "linecolor": "white",
            "showbackground": true,
            "ticks": "",
            "zerolinecolor": "white"
           },
           "zaxis": {
            "backgroundcolor": "#E5ECF6",
            "gridcolor": "white",
            "gridwidth": 2,
            "linecolor": "white",
            "showbackground": true,
            "ticks": "",
            "zerolinecolor": "white"
           }
          },
          "shapedefaults": {
           "line": {
            "color": "#2a3f5f"
           }
          },
          "ternary": {
           "aaxis": {
            "gridcolor": "white",
            "linecolor": "white",
            "ticks": ""
           },
           "baxis": {
            "gridcolor": "white",
            "linecolor": "white",
            "ticks": ""
           },
           "bgcolor": "#E5ECF6",
           "caxis": {
            "gridcolor": "white",
            "linecolor": "white",
            "ticks": ""
           }
          },
          "title": {
           "x": 0.05
          },
          "xaxis": {
           "automargin": true,
           "gridcolor": "white",
           "linecolor": "white",
           "ticks": "",
           "title": {
            "standoff": 15
           },
           "zerolinecolor": "white",
           "zerolinewidth": 2
          },
          "yaxis": {
           "automargin": true,
           "gridcolor": "white",
           "linecolor": "white",
           "ticks": "",
           "title": {
            "standoff": 15
           },
           "zerolinecolor": "white",
           "zerolinewidth": 2
          }
         }
        },
        "title": {
         "font": {
          "size": 24
         },
         "text": "",
         "x": 0.5,
         "xanchor": "center"
        },
        "width": 1000,
        "xaxis": {
         "anchor": "y",
         "domain": [
          0,
          0.16
         ],
         "dtick": 5,
         "linecolor": "black",
         "linewidth": 1,
         "matches": "x11",
         "mirror": true,
         "showline": true,
         "showticklabels": false,
         "tickfont": {
          "size": 12
         },
         "tickmode": "linear",
         "title": {
          "font": {
           "size": 14
          }
         }
        },
        "xaxis10": {
         "anchor": "y10",
         "domain": [
          0.8400000000000001,
          1
         ],
         "dtick": 5,
         "linecolor": "black",
         "linewidth": 1,
         "matches": "x15",
         "mirror": true,
         "showline": true,
         "showticklabels": false,
         "tickfont": {
          "size": 12
         },
         "tickmode": "linear",
         "title": {
          "font": {
           "size": 14
          }
         }
        },
        "xaxis11": {
         "anchor": "y11",
         "domain": [
          0,
          0.16
         ],
         "dtick": 5,
         "linecolor": "black",
         "linewidth": 1,
         "mirror": true,
         "showline": true,
         "tickfont": {
          "size": 12
         },
         "tickmode": "linear",
         "title": {
          "font": {
           "size": 14
          },
          "text": "Ablated (Added) Heads"
         }
        },
        "xaxis12": {
         "anchor": "y12",
         "domain": [
          0.21000000000000002,
          0.37
         ],
         "dtick": 5,
         "linecolor": "black",
         "linewidth": 1,
         "mirror": true,
         "showline": true,
         "tickfont": {
          "size": 12
         },
         "tickmode": "linear",
         "title": {
          "font": {
           "size": 14
          },
          "text": "Ablated (Added) Heads"
         }
        },
        "xaxis13": {
         "anchor": "y13",
         "domain": [
          0.42000000000000004,
          0.5800000000000001
         ],
         "dtick": 5,
         "linecolor": "black",
         "linewidth": 1,
         "mirror": true,
         "showline": true,
         "tickfont": {
          "size": 12
         },
         "tickmode": "linear",
         "title": {
          "font": {
           "size": 14
          },
          "text": "Ablated (Added) Heads"
         }
        },
        "xaxis14": {
         "anchor": "y14",
         "domain": [
          0.63,
          0.79
         ],
         "dtick": 5,
         "linecolor": "black",
         "linewidth": 1,
         "mirror": true,
         "showline": true,
         "tickfont": {
          "size": 12
         },
         "tickmode": "linear",
         "title": {
          "font": {
           "size": 14
          },
          "text": "Ablated (Added) Heads"
         }
        },
        "xaxis15": {
         "anchor": "y15",
         "domain": [
          0.8400000000000001,
          1
         ],
         "dtick": 5,
         "linecolor": "black",
         "linewidth": 1,
         "mirror": true,
         "showline": true,
         "tickfont": {
          "size": 12
         },
         "tickmode": "linear",
         "title": {
          "font": {
           "size": 14
          },
          "text": "Ablated (Added) Heads"
         }
        },
        "xaxis2": {
         "anchor": "y2",
         "domain": [
          0.21000000000000002,
          0.37
         ],
         "dtick": 5,
         "linecolor": "black",
         "linewidth": 1,
         "matches": "x12",
         "mirror": true,
         "showline": true,
         "showticklabels": false,
         "tickfont": {
          "size": 12
         },
         "tickmode": "linear",
         "title": {
          "font": {
           "size": 14
          }
         }
        },
        "xaxis3": {
         "anchor": "y3",
         "domain": [
          0.42000000000000004,
          0.5800000000000001
         ],
         "dtick": 5,
         "linecolor": "black",
         "linewidth": 1,
         "matches": "x13",
         "mirror": true,
         "showline": true,
         "showticklabels": false,
         "tickfont": {
          "size": 12
         },
         "tickmode": "linear",
         "title": {
          "font": {
           "size": 14
          }
         }
        },
        "xaxis4": {
         "anchor": "y4",
         "domain": [
          0.63,
          0.79
         ],
         "dtick": 5,
         "linecolor": "black",
         "linewidth": 1,
         "matches": "x14",
         "mirror": true,
         "showline": true,
         "showticklabels": false,
         "tickfont": {
          "size": 12
         },
         "tickmode": "linear",
         "title": {
          "font": {
           "size": 14
          }
         }
        },
        "xaxis5": {
         "anchor": "y5",
         "domain": [
          0.8400000000000001,
          1
         ],
         "dtick": 5,
         "linecolor": "black",
         "linewidth": 1,
         "matches": "x15",
         "mirror": true,
         "showline": true,
         "showticklabels": false,
         "tickfont": {
          "size": 12
         },
         "tickmode": "linear",
         "title": {
          "font": {
           "size": 14
          }
         }
        },
        "xaxis6": {
         "anchor": "y6",
         "domain": [
          0,
          0.16
         ],
         "dtick": 5,
         "linecolor": "black",
         "linewidth": 1,
         "matches": "x11",
         "mirror": true,
         "showline": true,
         "showticklabels": false,
         "tickfont": {
          "size": 12
         },
         "tickmode": "linear",
         "title": {
          "font": {
           "size": 14
          }
         }
        },
        "xaxis7": {
         "anchor": "y7",
         "domain": [
          0.21000000000000002,
          0.37
         ],
         "dtick": 5,
         "linecolor": "black",
         "linewidth": 1,
         "matches": "x12",
         "mirror": true,
         "showline": true,
         "showticklabels": false,
         "tickfont": {
          "size": 12
         },
         "tickmode": "linear",
         "title": {
          "font": {
           "size": 14
          }
         }
        },
        "xaxis8": {
         "anchor": "y8",
         "domain": [
          0.42000000000000004,
          0.5800000000000001
         ],
         "dtick": 5,
         "linecolor": "black",
         "linewidth": 1,
         "matches": "x13",
         "mirror": true,
         "showline": true,
         "showticklabels": false,
         "tickfont": {
          "size": 12
         },
         "tickmode": "linear",
         "title": {
          "font": {
           "size": 14
          }
         }
        },
        "xaxis9": {
         "anchor": "y9",
         "domain": [
          0.63,
          0.79
         ],
         "dtick": 5,
         "linecolor": "black",
         "linewidth": 1,
         "matches": "x14",
         "mirror": true,
         "showline": true,
         "showticklabels": false,
         "tickfont": {
          "size": 12
         },
         "tickmode": "linear",
         "title": {
          "font": {
           "size": 14
          }
         }
        },
        "yaxis": {
         "anchor": "x",
         "domain": [
          0.7,
          1
         ],
         "linecolor": "black",
         "linewidth": 1,
         "mirror": true,
         "showline": true,
         "tickfont": {
          "size": 12
         },
         "title": {
          "font": {
           "size": 14
          }
         }
        },
        "yaxis10": {
         "anchor": "x10",
         "domain": [
          0.35,
          0.6499999999999999
         ],
         "linecolor": "black",
         "linewidth": 1,
         "matches": "y6",
         "mirror": true,
         "showline": true,
         "showticklabels": false,
         "tickfont": {
          "size": 12
         },
         "title": {
          "font": {
           "size": 14
          },
          "text": "Mean Scores"
         }
        },
        "yaxis11": {
         "anchor": "x11",
         "domain": [
          0,
          0.3
         ],
         "linecolor": "black",
         "linewidth": 1,
         "mirror": true,
         "showline": true,
         "tickfont": {
          "size": 12
         },
         "title": {
          "font": {
           "size": 14
          }
         }
        },
        "yaxis12": {
         "anchor": "x12",
         "domain": [
          0,
          0.3
         ],
         "linecolor": "black",
         "linewidth": 1,
         "matches": "y11",
         "mirror": true,
         "showline": true,
         "showticklabels": false,
         "tickfont": {
          "size": 12
         },
         "title": {
          "font": {
           "size": 14
          }
         }
        },
        "yaxis13": {
         "anchor": "x13",
         "domain": [
          0,
          0.3
         ],
         "linecolor": "black",
         "linewidth": 1,
         "matches": "y11",
         "mirror": true,
         "showline": true,
         "showticklabels": false,
         "tickfont": {
          "size": 12
         },
         "title": {
          "font": {
           "size": 14
          }
         }
        },
        "yaxis14": {
         "anchor": "x14",
         "domain": [
          0,
          0.3
         ],
         "linecolor": "black",
         "linewidth": 1,
         "matches": "y11",
         "mirror": true,
         "showline": true,
         "showticklabels": false,
         "tickfont": {
          "size": 12
         },
         "title": {
          "font": {
           "size": 14
          }
         }
        },
        "yaxis15": {
         "anchor": "x15",
         "domain": [
          0,
          0.3
         ],
         "linecolor": "black",
         "linewidth": 1,
         "matches": "y11",
         "mirror": true,
         "showline": true,
         "showticklabels": false,
         "tickfont": {
          "size": 12
         },
         "title": {
          "font": {
           "size": 14
          },
          "text": "Mean Scores"
         }
        },
        "yaxis2": {
         "anchor": "x2",
         "domain": [
          0.7,
          1
         ],
         "linecolor": "black",
         "linewidth": 1,
         "matches": "y",
         "mirror": true,
         "showline": true,
         "showticklabels": false,
         "tickfont": {
          "size": 12
         },
         "title": {
          "font": {
           "size": 14
          }
         }
        },
        "yaxis3": {
         "anchor": "x3",
         "domain": [
          0.7,
          1
         ],
         "linecolor": "black",
         "linewidth": 1,
         "matches": "y",
         "mirror": true,
         "showline": true,
         "showticklabels": false,
         "tickfont": {
          "size": 12
         },
         "title": {
          "font": {
           "size": 14
          }
         }
        },
        "yaxis4": {
         "anchor": "x4",
         "domain": [
          0.7,
          1
         ],
         "linecolor": "black",
         "linewidth": 1,
         "matches": "y",
         "mirror": true,
         "showline": true,
         "showticklabels": false,
         "tickfont": {
          "size": 12
         },
         "title": {
          "font": {
           "size": 14
          }
         }
        },
        "yaxis5": {
         "anchor": "x5",
         "domain": [
          0.7,
          1
         ],
         "linecolor": "black",
         "linewidth": 1,
         "matches": "y",
         "mirror": true,
         "showline": true,
         "showticklabels": false,
         "tickfont": {
          "size": 12
         },
         "title": {
          "font": {
           "size": 14
          },
          "text": "Mean Scores"
         }
        },
        "yaxis6": {
         "anchor": "x6",
         "domain": [
          0.35,
          0.6499999999999999
         ],
         "linecolor": "black",
         "linewidth": 1,
         "mirror": true,
         "showline": true,
         "tickfont": {
          "size": 12
         },
         "title": {
          "font": {
           "size": 14
          }
         }
        },
        "yaxis7": {
         "anchor": "x7",
         "domain": [
          0.35,
          0.6499999999999999
         ],
         "linecolor": "black",
         "linewidth": 1,
         "matches": "y6",
         "mirror": true,
         "showline": true,
         "showticklabels": false,
         "tickfont": {
          "size": 12
         },
         "title": {
          "font": {
           "size": 14
          }
         }
        },
        "yaxis8": {
         "anchor": "x8",
         "domain": [
          0.35,
          0.6499999999999999
         ],
         "linecolor": "black",
         "linewidth": 1,
         "matches": "y6",
         "mirror": true,
         "showline": true,
         "showticklabels": false,
         "tickfont": {
          "size": 12
         },
         "title": {
          "font": {
           "size": 14
          }
         }
        },
        "yaxis9": {
         "anchor": "x9",
         "domain": [
          0.35,
          0.6499999999999999
         ],
         "linecolor": "black",
         "linewidth": 1,
         "matches": "y6",
         "mirror": true,
         "showline": true,
         "showticklabels": false,
         "tickfont": {
          "size": 12
         },
         "title": {
          "font": {
           "size": 14
          }
         }
        }
       }
      }
     },
     "metadata": {},
     "output_type": "display_data"
    }
   ],
   "source": [
    "pu.plot_ablation_syllogisms(mood_dics = mood_dics, save_path=image_dir / \"syllogism_ablation.png\", title=\"\",)"
   ]
  },
  {
   "cell_type": "code",
   "execution_count": null,
   "metadata": {},
   "outputs": [],
   "source": []
  }
 ],
 "metadata": {
  "accelerator": "GPU",
  "colab": {
   "gpuType": "L4",
   "machine_shape": "hm",
   "provenance": []
  },
  "kernelspec": {
   "display_name": "mechsyllogism",
   "language": "python",
   "name": "python3"
  },
  "language_info": {
   "codemirror_mode": {
    "name": "ipython",
    "version": 3
   },
   "file_extension": ".py",
   "mimetype": "text/x-python",
   "name": "python",
   "nbconvert_exporter": "python",
   "pygments_lexer": "ipython3",
   "version": "3.9.21"
  },
  "widgets": {
   "application/vnd.jupyter.widget-state+json": {
    "04ef4130edac4e19805114902c6f047d": {
     "model_module": "@jupyter-widgets/controls",
     "model_module_version": "1.5.0",
     "model_name": "DescriptionStyleModel",
     "state": {
      "_model_module": "@jupyter-widgets/controls",
      "_model_module_version": "1.5.0",
      "_model_name": "DescriptionStyleModel",
      "_view_count": null,
      "_view_module": "@jupyter-widgets/base",
      "_view_module_version": "1.2.0",
      "_view_name": "StyleView",
      "description_width": ""
     }
    },
    "0549de5fea7f43c5bae919e42514e88f": {
     "model_module": "@jupyter-widgets/controls",
     "model_module_version": "1.5.0",
     "model_name": "DescriptionStyleModel",
     "state": {
      "_model_module": "@jupyter-widgets/controls",
      "_model_module_version": "1.5.0",
      "_model_name": "DescriptionStyleModel",
      "_view_count": null,
      "_view_module": "@jupyter-widgets/base",
      "_view_module_version": "1.2.0",
      "_view_name": "StyleView",
      "description_width": ""
     }
    },
    "0a5ac1ac6c55452783252a7a5b3665eb": {
     "model_module": "@jupyter-widgets/controls",
     "model_module_version": "1.5.0",
     "model_name": "HTMLModel",
     "state": {
      "_dom_classes": [],
      "_model_module": "@jupyter-widgets/controls",
      "_model_module_version": "1.5.0",
      "_model_name": "HTMLModel",
      "_view_count": null,
      "_view_module": "@jupyter-widgets/controls",
      "_view_module_version": "1.5.0",
      "_view_name": "HTMLView",
      "description": "",
      "description_tooltip": null,
      "layout": "IPY_MODEL_7489ebacd06f46d8a81396c503e86db7",
      "placeholder": "​",
      "style": "IPY_MODEL_04ef4130edac4e19805114902c6f047d",
      "value": " 26.0/26.0 [00:00&lt;00:00, 1.96kB/s]"
     }
    },
    "10e9b5626eba404588d5d349909ec486": {
     "model_module": "@jupyter-widgets/controls",
     "model_module_version": "1.5.0",
     "model_name": "ProgressStyleModel",
     "state": {
      "_model_module": "@jupyter-widgets/controls",
      "_model_module_version": "1.5.0",
      "_model_name": "ProgressStyleModel",
      "_view_count": null,
      "_view_module": "@jupyter-widgets/base",
      "_view_module_version": "1.2.0",
      "_view_name": "StyleView",
      "bar_color": null,
      "description_width": ""
     }
    },
    "1475f0f84cad4d02aaac885f104e48d9": {
     "model_module": "@jupyter-widgets/base",
     "model_module_version": "1.2.0",
     "model_name": "LayoutModel",
     "state": {
      "_model_module": "@jupyter-widgets/base",
      "_model_module_version": "1.2.0",
      "_model_name": "LayoutModel",
      "_view_count": null,
      "_view_module": "@jupyter-widgets/base",
      "_view_module_version": "1.2.0",
      "_view_name": "LayoutView",
      "align_content": null,
      "align_items": null,
      "align_self": null,
      "border": null,
      "bottom": null,
      "display": null,
      "flex": null,
      "flex_flow": null,
      "grid_area": null,
      "grid_auto_columns": null,
      "grid_auto_flow": null,
      "grid_auto_rows": null,
      "grid_column": null,
      "grid_gap": null,
      "grid_row": null,
      "grid_template_areas": null,
      "grid_template_columns": null,
      "grid_template_rows": null,
      "height": null,
      "justify_content": null,
      "justify_items": null,
      "left": null,
      "margin": null,
      "max_height": null,
      "max_width": null,
      "min_height": null,
      "min_width": null,
      "object_fit": null,
      "object_position": null,
      "order": null,
      "overflow": null,
      "overflow_x": null,
      "overflow_y": null,
      "padding": null,
      "right": null,
      "top": null,
      "visibility": null,
      "width": null
     }
    },
    "162defd82a544996a9246503f1d87d8e": {
     "model_module": "@jupyter-widgets/base",
     "model_module_version": "1.2.0",
     "model_name": "LayoutModel",
     "state": {
      "_model_module": "@jupyter-widgets/base",
      "_model_module_version": "1.2.0",
      "_model_name": "LayoutModel",
      "_view_count": null,
      "_view_module": "@jupyter-widgets/base",
      "_view_module_version": "1.2.0",
      "_view_name": "LayoutView",
      "align_content": null,
      "align_items": null,
      "align_self": null,
      "border": null,
      "bottom": null,
      "display": null,
      "flex": null,
      "flex_flow": null,
      "grid_area": null,
      "grid_auto_columns": null,
      "grid_auto_flow": null,
      "grid_auto_rows": null,
      "grid_column": null,
      "grid_gap": null,
      "grid_row": null,
      "grid_template_areas": null,
      "grid_template_columns": null,
      "grid_template_rows": null,
      "height": null,
      "justify_content": null,
      "justify_items": null,
      "left": null,
      "margin": null,
      "max_height": null,
      "max_width": null,
      "min_height": null,
      "min_width": null,
      "object_fit": null,
      "object_position": null,
      "order": null,
      "overflow": null,
      "overflow_x": null,
      "overflow_y": null,
      "padding": null,
      "right": null,
      "top": null,
      "visibility": null,
      "width": null
     }
    },
    "179347415dc84f1ba67267d2cf808a3b": {
     "model_module": "@jupyter-widgets/controls",
     "model_module_version": "1.5.0",
     "model_name": "HBoxModel",
     "state": {
      "_dom_classes": [],
      "_model_module": "@jupyter-widgets/controls",
      "_model_module_version": "1.5.0",
      "_model_name": "HBoxModel",
      "_view_count": null,
      "_view_module": "@jupyter-widgets/controls",
      "_view_module_version": "1.5.0",
      "_view_name": "HBoxView",
      "box_style": "",
      "children": [
       "IPY_MODEL_40d1f18f0ac240dab72ed6c921f93e17",
       "IPY_MODEL_9782344c7d1e4287be6ede79db520a88",
       "IPY_MODEL_da1fa4aa225b48778d1e0f6196ce0323"
      ],
      "layout": "IPY_MODEL_7070592c7f694442aeb72acc40a4105e"
     }
    },
    "1810e9bf39a64d6e8bd795153bdab947": {
     "model_module": "@jupyter-widgets/controls",
     "model_module_version": "1.5.0",
     "model_name": "FloatProgressModel",
     "state": {
      "_dom_classes": [],
      "_model_module": "@jupyter-widgets/controls",
      "_model_module_version": "1.5.0",
      "_model_name": "FloatProgressModel",
      "_view_count": null,
      "_view_module": "@jupyter-widgets/controls",
      "_view_module_version": "1.5.0",
      "_view_name": "ProgressView",
      "bar_style": "success",
      "description": "",
      "description_tooltip": null,
      "layout": "IPY_MODEL_cea3622a112048889abf9790a36a3430",
      "max": 124,
      "min": 0,
      "orientation": "horizontal",
      "style": "IPY_MODEL_2e4d1feb03464831a39690cca8418e7b",
      "value": 124
     }
    },
    "1d8fa38139fd46a1b907e58c8f492cee": {
     "model_module": "@jupyter-widgets/controls",
     "model_module_version": "1.5.0",
     "model_name": "DescriptionStyleModel",
     "state": {
      "_model_module": "@jupyter-widgets/controls",
      "_model_module_version": "1.5.0",
      "_model_name": "DescriptionStyleModel",
      "_view_count": null,
      "_view_module": "@jupyter-widgets/base",
      "_view_module_version": "1.2.0",
      "_view_name": "StyleView",
      "description_width": ""
     }
    },
    "1efe288b09044c59a1a61567fea01381": {
     "model_module": "@jupyter-widgets/controls",
     "model_module_version": "1.5.0",
     "model_name": "HTMLModel",
     "state": {
      "_dom_classes": [],
      "_model_module": "@jupyter-widgets/controls",
      "_model_module_version": "1.5.0",
      "_model_name": "HTMLModel",
      "_view_count": null,
      "_view_module": "@jupyter-widgets/controls",
      "_view_module_version": "1.5.0",
      "_view_name": "HTMLView",
      "description": "",
      "description_tooltip": null,
      "layout": "IPY_MODEL_f0fe9f8a17e74f54924bc7daafc0e890",
      "placeholder": "​",
      "style": "IPY_MODEL_4aece1edc32649f7be3a032f09bec1d9",
      "value": "tokenizer.json: 100%"
     }
    },
    "1fabef23d47443efbc63e689389bf2f6": {
     "model_module": "@jupyter-widgets/controls",
     "model_module_version": "1.5.0",
     "model_name": "HTMLModel",
     "state": {
      "_dom_classes": [],
      "_model_module": "@jupyter-widgets/controls",
      "_model_module_version": "1.5.0",
      "_model_name": "HTMLModel",
      "_view_count": null,
      "_view_module": "@jupyter-widgets/controls",
      "_view_module_version": "1.5.0",
      "_view_name": "HTMLView",
      "description": "",
      "description_tooltip": null,
      "layout": "IPY_MODEL_622fcaa686cf4c0f8b6fdf6e0ab4fc06",
      "placeholder": "​",
      "style": "IPY_MODEL_5dc6671fcf844de5b5922a918fd064f2",
      "value": "merges.txt: 100%"
     }
    },
    "2086182957284546aa4866bbf38cb622": {
     "model_module": "@jupyter-widgets/controls",
     "model_module_version": "1.5.0",
     "model_name": "FloatProgressModel",
     "state": {
      "_dom_classes": [],
      "_model_module": "@jupyter-widgets/controls",
      "_model_module_version": "1.5.0",
      "_model_name": "FloatProgressModel",
      "_view_count": null,
      "_view_module": "@jupyter-widgets/controls",
      "_view_module_version": "1.5.0",
      "_view_name": "ProgressView",
      "bar_style": "success",
      "description": "",
      "description_tooltip": null,
      "layout": "IPY_MODEL_5547eb66254747ba97fa9ca97a6058de",
      "max": 456318,
      "min": 0,
      "orientation": "horizontal",
      "style": "IPY_MODEL_e7837e02d9ef4f8abf76415df685a193",
      "value": 456318
     }
    },
    "21a1664eed0a43699dd839eef5dfcdef": {
     "model_module": "@jupyter-widgets/controls",
     "model_module_version": "1.5.0",
     "model_name": "HTMLModel",
     "state": {
      "_dom_classes": [],
      "_model_module": "@jupyter-widgets/controls",
      "_model_module_version": "1.5.0",
      "_model_name": "HTMLModel",
      "_view_count": null,
      "_view_module": "@jupyter-widgets/controls",
      "_view_module_version": "1.5.0",
      "_view_name": "HTMLView",
      "description": "",
      "description_tooltip": null,
      "layout": "IPY_MODEL_f3ec5fb56caf4ba3a99e209736014428",
      "placeholder": "​",
      "style": "IPY_MODEL_1d8fa38139fd46a1b907e58c8f492cee",
      "value": " 1.36M/1.36M [00:00&lt;00:00, 3.15MB/s]"
     }
    },
    "25c788619b2c497d88e32e6e74697ef3": {
     "model_module": "@jupyter-widgets/base",
     "model_module_version": "1.2.0",
     "model_name": "LayoutModel",
     "state": {
      "_model_module": "@jupyter-widgets/base",
      "_model_module_version": "1.2.0",
      "_model_name": "LayoutModel",
      "_view_count": null,
      "_view_module": "@jupyter-widgets/base",
      "_view_module_version": "1.2.0",
      "_view_name": "LayoutView",
      "align_content": null,
      "align_items": null,
      "align_self": null,
      "border": null,
      "bottom": null,
      "display": null,
      "flex": null,
      "flex_flow": null,
      "grid_area": null,
      "grid_auto_columns": null,
      "grid_auto_flow": null,
      "grid_auto_rows": null,
      "grid_column": null,
      "grid_gap": null,
      "grid_row": null,
      "grid_template_areas": null,
      "grid_template_columns": null,
      "grid_template_rows": null,
      "height": null,
      "justify_content": null,
      "justify_items": null,
      "left": null,
      "margin": null,
      "max_height": null,
      "max_width": null,
      "min_height": null,
      "min_width": null,
      "object_fit": null,
      "object_position": null,
      "order": null,
      "overflow": null,
      "overflow_x": null,
      "overflow_y": null,
      "padding": null,
      "right": null,
      "top": null,
      "visibility": null,
      "width": null
     }
    },
    "2c035786cb5f43cab56db915ebde9cea": {
     "model_module": "@jupyter-widgets/base",
     "model_module_version": "1.2.0",
     "model_name": "LayoutModel",
     "state": {
      "_model_module": "@jupyter-widgets/base",
      "_model_module_version": "1.2.0",
      "_model_name": "LayoutModel",
      "_view_count": null,
      "_view_module": "@jupyter-widgets/base",
      "_view_module_version": "1.2.0",
      "_view_name": "LayoutView",
      "align_content": null,
      "align_items": null,
      "align_self": null,
      "border": null,
      "bottom": null,
      "display": null,
      "flex": null,
      "flex_flow": null,
      "grid_area": null,
      "grid_auto_columns": null,
      "grid_auto_flow": null,
      "grid_auto_rows": null,
      "grid_column": null,
      "grid_gap": null,
      "grid_row": null,
      "grid_template_areas": null,
      "grid_template_columns": null,
      "grid_template_rows": null,
      "height": null,
      "justify_content": null,
      "justify_items": null,
      "left": null,
      "margin": null,
      "max_height": null,
      "max_width": null,
      "min_height": null,
      "min_width": null,
      "object_fit": null,
      "object_position": null,
      "order": null,
      "overflow": null,
      "overflow_x": null,
      "overflow_y": null,
      "padding": null,
      "right": null,
      "top": null,
      "visibility": null,
      "width": null
     }
    },
    "2e4d1feb03464831a39690cca8418e7b": {
     "model_module": "@jupyter-widgets/controls",
     "model_module_version": "1.5.0",
     "model_name": "ProgressStyleModel",
     "state": {
      "_model_module": "@jupyter-widgets/controls",
      "_model_module_version": "1.5.0",
      "_model_name": "ProgressStyleModel",
      "_view_count": null,
      "_view_module": "@jupyter-widgets/base",
      "_view_module_version": "1.2.0",
      "_view_name": "StyleView",
      "bar_color": null,
      "description_width": ""
     }
    },
    "31733f0e8a6c41848b0fe6235bae9195": {
     "model_module": "@jupyter-widgets/controls",
     "model_module_version": "1.5.0",
     "model_name": "ProgressStyleModel",
     "state": {
      "_model_module": "@jupyter-widgets/controls",
      "_model_module_version": "1.5.0",
      "_model_name": "ProgressStyleModel",
      "_view_count": null,
      "_view_module": "@jupyter-widgets/base",
      "_view_module_version": "1.2.0",
      "_view_name": "StyleView",
      "bar_color": null,
      "description_width": ""
     }
    },
    "33cecec46ab14182840d3396303f229c": {
     "model_module": "@jupyter-widgets/base",
     "model_module_version": "1.2.0",
     "model_name": "LayoutModel",
     "state": {
      "_model_module": "@jupyter-widgets/base",
      "_model_module_version": "1.2.0",
      "_model_name": "LayoutModel",
      "_view_count": null,
      "_view_module": "@jupyter-widgets/base",
      "_view_module_version": "1.2.0",
      "_view_name": "LayoutView",
      "align_content": null,
      "align_items": null,
      "align_self": null,
      "border": null,
      "bottom": null,
      "display": null,
      "flex": null,
      "flex_flow": null,
      "grid_area": null,
      "grid_auto_columns": null,
      "grid_auto_flow": null,
      "grid_auto_rows": null,
      "grid_column": null,
      "grid_gap": null,
      "grid_row": null,
      "grid_template_areas": null,
      "grid_template_columns": null,
      "grid_template_rows": null,
      "height": null,
      "justify_content": null,
      "justify_items": null,
      "left": null,
      "margin": null,
      "max_height": null,
      "max_width": null,
      "min_height": null,
      "min_width": null,
      "object_fit": null,
      "object_position": null,
      "order": null,
      "overflow": null,
      "overflow_x": null,
      "overflow_y": null,
      "padding": null,
      "right": null,
      "top": null,
      "visibility": null,
      "width": null
     }
    },
    "3cb013ab69c74952af3fe8ec62e9240d": {
     "model_module": "@jupyter-widgets/base",
     "model_module_version": "1.2.0",
     "model_name": "LayoutModel",
     "state": {
      "_model_module": "@jupyter-widgets/base",
      "_model_module_version": "1.2.0",
      "_model_name": "LayoutModel",
      "_view_count": null,
      "_view_module": "@jupyter-widgets/base",
      "_view_module_version": "1.2.0",
      "_view_name": "LayoutView",
      "align_content": null,
      "align_items": null,
      "align_self": null,
      "border": null,
      "bottom": null,
      "display": null,
      "flex": null,
      "flex_flow": null,
      "grid_area": null,
      "grid_auto_columns": null,
      "grid_auto_flow": null,
      "grid_auto_rows": null,
      "grid_column": null,
      "grid_gap": null,
      "grid_row": null,
      "grid_template_areas": null,
      "grid_template_columns": null,
      "grid_template_rows": null,
      "height": null,
      "justify_content": null,
      "justify_items": null,
      "left": null,
      "margin": null,
      "max_height": null,
      "max_width": null,
      "min_height": null,
      "min_width": null,
      "object_fit": null,
      "object_position": null,
      "order": null,
      "overflow": null,
      "overflow_x": null,
      "overflow_y": null,
      "padding": null,
      "right": null,
      "top": null,
      "visibility": null,
      "width": null
     }
    },
    "3f751c0c58404c4c9157a41f6d4c6aa3": {
     "model_module": "@jupyter-widgets/controls",
     "model_module_version": "1.5.0",
     "model_name": "HBoxModel",
     "state": {
      "_dom_classes": [],
      "_model_module": "@jupyter-widgets/controls",
      "_model_module_version": "1.5.0",
      "_model_name": "HBoxModel",
      "_view_count": null,
      "_view_module": "@jupyter-widgets/controls",
      "_view_module_version": "1.5.0",
      "_view_name": "HBoxView",
      "box_style": "",
      "children": [
       "IPY_MODEL_1fabef23d47443efbc63e689389bf2f6",
       "IPY_MODEL_2086182957284546aa4866bbf38cb622",
       "IPY_MODEL_61f65572174e4fe58bee89e54804b9fb"
      ],
      "layout": "IPY_MODEL_2c035786cb5f43cab56db915ebde9cea"
     }
    },
    "40d1f18f0ac240dab72ed6c921f93e17": {
     "model_module": "@jupyter-widgets/controls",
     "model_module_version": "1.5.0",
     "model_name": "HTMLModel",
     "state": {
      "_dom_classes": [],
      "_model_module": "@jupyter-widgets/controls",
      "_model_module_version": "1.5.0",
      "_model_name": "HTMLModel",
      "_view_count": null,
      "_view_module": "@jupyter-widgets/controls",
      "_view_module_version": "1.5.0",
      "_view_name": "HTMLView",
      "description": "",
      "description_tooltip": null,
      "layout": "IPY_MODEL_af2f08e8e62d46648d2936fbdbd27f92",
      "placeholder": "​",
      "style": "IPY_MODEL_aa966b9d9b4d41528b60ccffd9e5ecf4",
      "value": "vocab.json: 100%"
     }
    },
    "4aece1edc32649f7be3a032f09bec1d9": {
     "model_module": "@jupyter-widgets/controls",
     "model_module_version": "1.5.0",
     "model_name": "DescriptionStyleModel",
     "state": {
      "_model_module": "@jupyter-widgets/controls",
      "_model_module_version": "1.5.0",
      "_model_name": "DescriptionStyleModel",
      "_view_count": null,
      "_view_module": "@jupyter-widgets/base",
      "_view_module_version": "1.2.0",
      "_view_name": "StyleView",
      "description_width": ""
     }
    },
    "4ce72097fd2d414bae15d314e84c1601": {
     "model_module": "@jupyter-widgets/base",
     "model_module_version": "1.2.0",
     "model_name": "LayoutModel",
     "state": {
      "_model_module": "@jupyter-widgets/base",
      "_model_module_version": "1.2.0",
      "_model_name": "LayoutModel",
      "_view_count": null,
      "_view_module": "@jupyter-widgets/base",
      "_view_module_version": "1.2.0",
      "_view_name": "LayoutView",
      "align_content": null,
      "align_items": null,
      "align_self": null,
      "border": null,
      "bottom": null,
      "display": null,
      "flex": null,
      "flex_flow": null,
      "grid_area": null,
      "grid_auto_columns": null,
      "grid_auto_flow": null,
      "grid_auto_rows": null,
      "grid_column": null,
      "grid_gap": null,
      "grid_row": null,
      "grid_template_areas": null,
      "grid_template_columns": null,
      "grid_template_rows": null,
      "height": null,
      "justify_content": null,
      "justify_items": null,
      "left": null,
      "margin": null,
      "max_height": null,
      "max_width": null,
      "min_height": null,
      "min_width": null,
      "object_fit": null,
      "object_position": null,
      "order": null,
      "overflow": null,
      "overflow_x": null,
      "overflow_y": null,
      "padding": null,
      "right": null,
      "top": null,
      "visibility": null,
      "width": null
     }
    },
    "50efcb39d43747c6a6b75d4f1a82a905": {
     "model_module": "@jupyter-widgets/controls",
     "model_module_version": "1.5.0",
     "model_name": "DescriptionStyleModel",
     "state": {
      "_model_module": "@jupyter-widgets/controls",
      "_model_module_version": "1.5.0",
      "_model_name": "DescriptionStyleModel",
      "_view_count": null,
      "_view_module": "@jupyter-widgets/base",
      "_view_module_version": "1.2.0",
      "_view_name": "StyleView",
      "description_width": ""
     }
    },
    "5122e29250c14689b0e3798d301bd8d9": {
     "model_module": "@jupyter-widgets/controls",
     "model_module_version": "1.5.0",
     "model_name": "FloatProgressModel",
     "state": {
      "_dom_classes": [],
      "_model_module": "@jupyter-widgets/controls",
      "_model_module_version": "1.5.0",
      "_model_name": "FloatProgressModel",
      "_view_count": null,
      "_view_module": "@jupyter-widgets/controls",
      "_view_module_version": "1.5.0",
      "_view_name": "ProgressView",
      "bar_style": "success",
      "description": "",
      "description_tooltip": null,
      "layout": "IPY_MODEL_162defd82a544996a9246503f1d87d8e",
      "max": 1355256,
      "min": 0,
      "orientation": "horizontal",
      "style": "IPY_MODEL_ed7d15352a7a4ff5acc67e2a70712074",
      "value": 1355256
     }
    },
    "5547eb66254747ba97fa9ca97a6058de": {
     "model_module": "@jupyter-widgets/base",
     "model_module_version": "1.2.0",
     "model_name": "LayoutModel",
     "state": {
      "_model_module": "@jupyter-widgets/base",
      "_model_module_version": "1.2.0",
      "_model_name": "LayoutModel",
      "_view_count": null,
      "_view_module": "@jupyter-widgets/base",
      "_view_module_version": "1.2.0",
      "_view_name": "LayoutView",
      "align_content": null,
      "align_items": null,
      "align_self": null,
      "border": null,
      "bottom": null,
      "display": null,
      "flex": null,
      "flex_flow": null,
      "grid_area": null,
      "grid_auto_columns": null,
      "grid_auto_flow": null,
      "grid_auto_rows": null,
      "grid_column": null,
      "grid_gap": null,
      "grid_row": null,
      "grid_template_areas": null,
      "grid_template_columns": null,
      "grid_template_rows": null,
      "height": null,
      "justify_content": null,
      "justify_items": null,
      "left": null,
      "margin": null,
      "max_height": null,
      "max_width": null,
      "min_height": null,
      "min_width": null,
      "object_fit": null,
      "object_position": null,
      "order": null,
      "overflow": null,
      "overflow_x": null,
      "overflow_y": null,
      "padding": null,
      "right": null,
      "top": null,
      "visibility": null,
      "width": null
     }
    },
    "58ebdce076cf468fa948d6dd7ff78232": {
     "model_module": "@jupyter-widgets/controls",
     "model_module_version": "1.5.0",
     "model_name": "HBoxModel",
     "state": {
      "_dom_classes": [],
      "_model_module": "@jupyter-widgets/controls",
      "_model_module_version": "1.5.0",
      "_model_name": "HBoxModel",
      "_view_count": null,
      "_view_module": "@jupyter-widgets/controls",
      "_view_module_version": "1.5.0",
      "_view_name": "HBoxView",
      "box_style": "",
      "children": [
       "IPY_MODEL_d2f07839e6c4415eb7a799e436a25410",
       "IPY_MODEL_e8263c1da2bd4b51aa2504ba63d9d19e",
       "IPY_MODEL_6c72a02d62be45dbae42bc5d9153094a"
      ],
      "layout": "IPY_MODEL_ec7d616c83594d0a862dc055c57fd28e"
     }
    },
    "5dc6671fcf844de5b5922a918fd064f2": {
     "model_module": "@jupyter-widgets/controls",
     "model_module_version": "1.5.0",
     "model_name": "DescriptionStyleModel",
     "state": {
      "_model_module": "@jupyter-widgets/controls",
      "_model_module_version": "1.5.0",
      "_model_name": "DescriptionStyleModel",
      "_view_count": null,
      "_view_module": "@jupyter-widgets/base",
      "_view_module_version": "1.2.0",
      "_view_name": "StyleView",
      "description_width": ""
     }
    },
    "61f65572174e4fe58bee89e54804b9fb": {
     "model_module": "@jupyter-widgets/controls",
     "model_module_version": "1.5.0",
     "model_name": "HTMLModel",
     "state": {
      "_dom_classes": [],
      "_model_module": "@jupyter-widgets/controls",
      "_model_module_version": "1.5.0",
      "_model_name": "HTMLModel",
      "_view_count": null,
      "_view_module": "@jupyter-widgets/controls",
      "_view_module_version": "1.5.0",
      "_view_name": "HTMLView",
      "description": "",
      "description_tooltip": null,
      "layout": "IPY_MODEL_fc0e190fef7f4f0cbf512f6b66274ce0",
      "placeholder": "​",
      "style": "IPY_MODEL_50efcb39d43747c6a6b75d4f1a82a905",
      "value": " 456k/456k [00:00&lt;00:00, 2.09MB/s]"
     }
    },
    "622fcaa686cf4c0f8b6fdf6e0ab4fc06": {
     "model_module": "@jupyter-widgets/base",
     "model_module_version": "1.2.0",
     "model_name": "LayoutModel",
     "state": {
      "_model_module": "@jupyter-widgets/base",
      "_model_module_version": "1.2.0",
      "_model_name": "LayoutModel",
      "_view_count": null,
      "_view_module": "@jupyter-widgets/base",
      "_view_module_version": "1.2.0",
      "_view_name": "LayoutView",
      "align_content": null,
      "align_items": null,
      "align_self": null,
      "border": null,
      "bottom": null,
      "display": null,
      "flex": null,
      "flex_flow": null,
      "grid_area": null,
      "grid_auto_columns": null,
      "grid_auto_flow": null,
      "grid_auto_rows": null,
      "grid_column": null,
      "grid_gap": null,
      "grid_row": null,
      "grid_template_areas": null,
      "grid_template_columns": null,
      "grid_template_rows": null,
      "height": null,
      "justify_content": null,
      "justify_items": null,
      "left": null,
      "margin": null,
      "max_height": null,
      "max_width": null,
      "min_height": null,
      "min_width": null,
      "object_fit": null,
      "object_position": null,
      "order": null,
      "overflow": null,
      "overflow_x": null,
      "overflow_y": null,
      "padding": null,
      "right": null,
      "top": null,
      "visibility": null,
      "width": null
     }
    },
    "6c72a02d62be45dbae42bc5d9153094a": {
     "model_module": "@jupyter-widgets/controls",
     "model_module_version": "1.5.0",
     "model_name": "HTMLModel",
     "state": {
      "_dom_classes": [],
      "_model_module": "@jupyter-widgets/controls",
      "_model_module_version": "1.5.0",
      "_model_name": "HTMLModel",
      "_view_count": null,
      "_view_module": "@jupyter-widgets/controls",
      "_view_module_version": "1.5.0",
      "_view_name": "HTMLView",
      "description": "",
      "description_tooltip": null,
      "layout": "IPY_MODEL_df5844b17e104330a194d81827e4794d",
      "placeholder": "​",
      "style": "IPY_MODEL_6f87853b23f3435baf6e6e970d5cf8be",
      "value": " 718/718 [00:00&lt;00:00, 64.8kB/s]"
     }
    },
    "6d384726355140329f3c9cec99f2b395": {
     "model_module": "@jupyter-widgets/controls",
     "model_module_version": "1.5.0",
     "model_name": "ProgressStyleModel",
     "state": {
      "_model_module": "@jupyter-widgets/controls",
      "_model_module_version": "1.5.0",
      "_model_name": "ProgressStyleModel",
      "_view_count": null,
      "_view_module": "@jupyter-widgets/base",
      "_view_module_version": "1.2.0",
      "_view_name": "StyleView",
      "bar_color": null,
      "description_width": ""
     }
    },
    "6f87853b23f3435baf6e6e970d5cf8be": {
     "model_module": "@jupyter-widgets/controls",
     "model_module_version": "1.5.0",
     "model_name": "DescriptionStyleModel",
     "state": {
      "_model_module": "@jupyter-widgets/controls",
      "_model_module_version": "1.5.0",
      "_model_name": "DescriptionStyleModel",
      "_view_count": null,
      "_view_module": "@jupyter-widgets/base",
      "_view_module_version": "1.2.0",
      "_view_name": "StyleView",
      "description_width": ""
     }
    },
    "7070592c7f694442aeb72acc40a4105e": {
     "model_module": "@jupyter-widgets/base",
     "model_module_version": "1.2.0",
     "model_name": "LayoutModel",
     "state": {
      "_model_module": "@jupyter-widgets/base",
      "_model_module_version": "1.2.0",
      "_model_name": "LayoutModel",
      "_view_count": null,
      "_view_module": "@jupyter-widgets/base",
      "_view_module_version": "1.2.0",
      "_view_name": "LayoutView",
      "align_content": null,
      "align_items": null,
      "align_self": null,
      "border": null,
      "bottom": null,
      "display": null,
      "flex": null,
      "flex_flow": null,
      "grid_area": null,
      "grid_auto_columns": null,
      "grid_auto_flow": null,
      "grid_auto_rows": null,
      "grid_column": null,
      "grid_gap": null,
      "grid_row": null,
      "grid_template_areas": null,
      "grid_template_columns": null,
      "grid_template_rows": null,
      "height": null,
      "justify_content": null,
      "justify_items": null,
      "left": null,
      "margin": null,
      "max_height": null,
      "max_width": null,
      "min_height": null,
      "min_width": null,
      "object_fit": null,
      "object_position": null,
      "order": null,
      "overflow": null,
      "overflow_x": null,
      "overflow_y": null,
      "padding": null,
      "right": null,
      "top": null,
      "visibility": null,
      "width": null
     }
    },
    "728352875c3649baa6cf7f0d6d89976a": {
     "model_module": "@jupyter-widgets/base",
     "model_module_version": "1.2.0",
     "model_name": "LayoutModel",
     "state": {
      "_model_module": "@jupyter-widgets/base",
      "_model_module_version": "1.2.0",
      "_model_name": "LayoutModel",
      "_view_count": null,
      "_view_module": "@jupyter-widgets/base",
      "_view_module_version": "1.2.0",
      "_view_name": "LayoutView",
      "align_content": null,
      "align_items": null,
      "align_self": null,
      "border": null,
      "bottom": null,
      "display": null,
      "flex": null,
      "flex_flow": null,
      "grid_area": null,
      "grid_auto_columns": null,
      "grid_auto_flow": null,
      "grid_auto_rows": null,
      "grid_column": null,
      "grid_gap": null,
      "grid_row": null,
      "grid_template_areas": null,
      "grid_template_columns": null,
      "grid_template_rows": null,
      "height": null,
      "justify_content": null,
      "justify_items": null,
      "left": null,
      "margin": null,
      "max_height": null,
      "max_width": null,
      "min_height": null,
      "min_width": null,
      "object_fit": null,
      "object_position": null,
      "order": null,
      "overflow": null,
      "overflow_x": null,
      "overflow_y": null,
      "padding": null,
      "right": null,
      "top": null,
      "visibility": null,
      "width": null
     }
    },
    "7489ebacd06f46d8a81396c503e86db7": {
     "model_module": "@jupyter-widgets/base",
     "model_module_version": "1.2.0",
     "model_name": "LayoutModel",
     "state": {
      "_model_module": "@jupyter-widgets/base",
      "_model_module_version": "1.2.0",
      "_model_name": "LayoutModel",
      "_view_count": null,
      "_view_module": "@jupyter-widgets/base",
      "_view_module_version": "1.2.0",
      "_view_name": "LayoutView",
      "align_content": null,
      "align_items": null,
      "align_self": null,
      "border": null,
      "bottom": null,
      "display": null,
      "flex": null,
      "flex_flow": null,
      "grid_area": null,
      "grid_auto_columns": null,
      "grid_auto_flow": null,
      "grid_auto_rows": null,
      "grid_column": null,
      "grid_gap": null,
      "grid_row": null,
      "grid_template_areas": null,
      "grid_template_columns": null,
      "grid_template_rows": null,
      "height": null,
      "justify_content": null,
      "justify_items": null,
      "left": null,
      "margin": null,
      "max_height": null,
      "max_width": null,
      "min_height": null,
      "min_width": null,
      "object_fit": null,
      "object_position": null,
      "order": null,
      "overflow": null,
      "overflow_x": null,
      "overflow_y": null,
      "padding": null,
      "right": null,
      "top": null,
      "visibility": null,
      "width": null
     }
    },
    "8a1b8930a65d47a2bda487042d92d54b": {
     "model_module": "@jupyter-widgets/controls",
     "model_module_version": "1.5.0",
     "model_name": "DescriptionStyleModel",
     "state": {
      "_model_module": "@jupyter-widgets/controls",
      "_model_module_version": "1.5.0",
      "_model_name": "DescriptionStyleModel",
      "_view_count": null,
      "_view_module": "@jupyter-widgets/base",
      "_view_module_version": "1.2.0",
      "_view_name": "StyleView",
      "description_width": ""
     }
    },
    "8f84e67ce76a4f009dc53961229a3f40": {
     "model_module": "@jupyter-widgets/controls",
     "model_module_version": "1.5.0",
     "model_name": "DescriptionStyleModel",
     "state": {
      "_model_module": "@jupyter-widgets/controls",
      "_model_module_version": "1.5.0",
      "_model_name": "DescriptionStyleModel",
      "_view_count": null,
      "_view_module": "@jupyter-widgets/base",
      "_view_module_version": "1.2.0",
      "_view_name": "StyleView",
      "description_width": ""
     }
    },
    "9019b75f46004013ac4c502878108597": {
     "model_module": "@jupyter-widgets/controls",
     "model_module_version": "1.5.0",
     "model_name": "HTMLModel",
     "state": {
      "_dom_classes": [],
      "_model_module": "@jupyter-widgets/controls",
      "_model_module_version": "1.5.0",
      "_model_name": "HTMLModel",
      "_view_count": null,
      "_view_module": "@jupyter-widgets/controls",
      "_view_module_version": "1.5.0",
      "_view_name": "HTMLView",
      "description": "",
      "description_tooltip": null,
      "layout": "IPY_MODEL_25c788619b2c497d88e32e6e74697ef3",
      "placeholder": "​",
      "style": "IPY_MODEL_d9e547160a0d4be1be8cc9af0baa5a0c",
      "value": "tokenizer_config.json: 100%"
     }
    },
    "92cc046da26347febf724c4e777a4d5d": {
     "model_module": "@jupyter-widgets/controls",
     "model_module_version": "1.5.0",
     "model_name": "HBoxModel",
     "state": {
      "_dom_classes": [],
      "_model_module": "@jupyter-widgets/controls",
      "_model_module_version": "1.5.0",
      "_model_name": "HBoxModel",
      "_view_count": null,
      "_view_module": "@jupyter-widgets/controls",
      "_view_module_version": "1.5.0",
      "_view_name": "HBoxView",
      "box_style": "",
      "children": [
       "IPY_MODEL_1efe288b09044c59a1a61567fea01381",
       "IPY_MODEL_5122e29250c14689b0e3798d301bd8d9",
       "IPY_MODEL_21a1664eed0a43699dd839eef5dfcdef"
      ],
      "layout": "IPY_MODEL_3cb013ab69c74952af3fe8ec62e9240d"
     }
    },
    "9782344c7d1e4287be6ede79db520a88": {
     "model_module": "@jupyter-widgets/controls",
     "model_module_version": "1.5.0",
     "model_name": "FloatProgressModel",
     "state": {
      "_dom_classes": [],
      "_model_module": "@jupyter-widgets/controls",
      "_model_module_version": "1.5.0",
      "_model_name": "FloatProgressModel",
      "_view_count": null,
      "_view_module": "@jupyter-widgets/controls",
      "_view_module_version": "1.5.0",
      "_view_name": "ProgressView",
      "bar_style": "success",
      "description": "",
      "description_tooltip": null,
      "layout": "IPY_MODEL_e7abbf03372d40af9ea192479e73603a",
      "max": 1042301,
      "min": 0,
      "orientation": "horizontal",
      "style": "IPY_MODEL_31733f0e8a6c41848b0fe6235bae9195",
      "value": 1042301
     }
    },
    "97ddff9129b34fbca679aeee70a6310c": {
     "model_module": "@jupyter-widgets/base",
     "model_module_version": "1.2.0",
     "model_name": "LayoutModel",
     "state": {
      "_model_module": "@jupyter-widgets/base",
      "_model_module_version": "1.2.0",
      "_model_name": "LayoutModel",
      "_view_count": null,
      "_view_module": "@jupyter-widgets/base",
      "_view_module_version": "1.2.0",
      "_view_name": "LayoutView",
      "align_content": null,
      "align_items": null,
      "align_self": null,
      "border": null,
      "bottom": null,
      "display": null,
      "flex": null,
      "flex_flow": null,
      "grid_area": null,
      "grid_auto_columns": null,
      "grid_auto_flow": null,
      "grid_auto_rows": null,
      "grid_column": null,
      "grid_gap": null,
      "grid_row": null,
      "grid_template_areas": null,
      "grid_template_columns": null,
      "grid_template_rows": null,
      "height": null,
      "justify_content": null,
      "justify_items": null,
      "left": null,
      "margin": null,
      "max_height": null,
      "max_width": null,
      "min_height": null,
      "min_width": null,
      "object_fit": null,
      "object_position": null,
      "order": null,
      "overflow": null,
      "overflow_x": null,
      "overflow_y": null,
      "padding": null,
      "right": null,
      "top": null,
      "visibility": null,
      "width": null
     }
    },
    "9c83aa96318445b3a705a27a4bf4f7b5": {
     "model_module": "@jupyter-widgets/controls",
     "model_module_version": "1.5.0",
     "model_name": "ProgressStyleModel",
     "state": {
      "_model_module": "@jupyter-widgets/controls",
      "_model_module_version": "1.5.0",
      "_model_name": "ProgressStyleModel",
      "_view_count": null,
      "_view_module": "@jupyter-widgets/base",
      "_view_module_version": "1.2.0",
      "_view_name": "StyleView",
      "bar_color": null,
      "description_width": ""
     }
    },
    "a0e2039b234c45d0a15f7c7dc2119288": {
     "model_module": "@jupyter-widgets/base",
     "model_module_version": "1.2.0",
     "model_name": "LayoutModel",
     "state": {
      "_model_module": "@jupyter-widgets/base",
      "_model_module_version": "1.2.0",
      "_model_name": "LayoutModel",
      "_view_count": null,
      "_view_module": "@jupyter-widgets/base",
      "_view_module_version": "1.2.0",
      "_view_name": "LayoutView",
      "align_content": null,
      "align_items": null,
      "align_self": null,
      "border": null,
      "bottom": null,
      "display": null,
      "flex": null,
      "flex_flow": null,
      "grid_area": null,
      "grid_auto_columns": null,
      "grid_auto_flow": null,
      "grid_auto_rows": null,
      "grid_column": null,
      "grid_gap": null,
      "grid_row": null,
      "grid_template_areas": null,
      "grid_template_columns": null,
      "grid_template_rows": null,
      "height": null,
      "justify_content": null,
      "justify_items": null,
      "left": null,
      "margin": null,
      "max_height": null,
      "max_width": null,
      "min_height": null,
      "min_width": null,
      "object_fit": null,
      "object_position": null,
      "order": null,
      "overflow": null,
      "overflow_x": null,
      "overflow_y": null,
      "padding": null,
      "right": null,
      "top": null,
      "visibility": null,
      "width": null
     }
    },
    "aa966b9d9b4d41528b60ccffd9e5ecf4": {
     "model_module": "@jupyter-widgets/controls",
     "model_module_version": "1.5.0",
     "model_name": "DescriptionStyleModel",
     "state": {
      "_model_module": "@jupyter-widgets/controls",
      "_model_module_version": "1.5.0",
      "_model_name": "DescriptionStyleModel",
      "_view_count": null,
      "_view_module": "@jupyter-widgets/base",
      "_view_module_version": "1.2.0",
      "_view_name": "StyleView",
      "description_width": ""
     }
    },
    "ad4ab812967846448fdfce651ccb7063": {
     "model_module": "@jupyter-widgets/base",
     "model_module_version": "1.2.0",
     "model_name": "LayoutModel",
     "state": {
      "_model_module": "@jupyter-widgets/base",
      "_model_module_version": "1.2.0",
      "_model_name": "LayoutModel",
      "_view_count": null,
      "_view_module": "@jupyter-widgets/base",
      "_view_module_version": "1.2.0",
      "_view_name": "LayoutView",
      "align_content": null,
      "align_items": null,
      "align_self": null,
      "border": null,
      "bottom": null,
      "display": null,
      "flex": null,
      "flex_flow": null,
      "grid_area": null,
      "grid_auto_columns": null,
      "grid_auto_flow": null,
      "grid_auto_rows": null,
      "grid_column": null,
      "grid_gap": null,
      "grid_row": null,
      "grid_template_areas": null,
      "grid_template_columns": null,
      "grid_template_rows": null,
      "height": null,
      "justify_content": null,
      "justify_items": null,
      "left": null,
      "margin": null,
      "max_height": null,
      "max_width": null,
      "min_height": null,
      "min_width": null,
      "object_fit": null,
      "object_position": null,
      "order": null,
      "overflow": null,
      "overflow_x": null,
      "overflow_y": null,
      "padding": null,
      "right": null,
      "top": null,
      "visibility": null,
      "width": null
     }
    },
    "af2f08e8e62d46648d2936fbdbd27f92": {
     "model_module": "@jupyter-widgets/base",
     "model_module_version": "1.2.0",
     "model_name": "LayoutModel",
     "state": {
      "_model_module": "@jupyter-widgets/base",
      "_model_module_version": "1.2.0",
      "_model_name": "LayoutModel",
      "_view_count": null,
      "_view_module": "@jupyter-widgets/base",
      "_view_module_version": "1.2.0",
      "_view_name": "LayoutView",
      "align_content": null,
      "align_items": null,
      "align_self": null,
      "border": null,
      "bottom": null,
      "display": null,
      "flex": null,
      "flex_flow": null,
      "grid_area": null,
      "grid_auto_columns": null,
      "grid_auto_flow": null,
      "grid_auto_rows": null,
      "grid_column": null,
      "grid_gap": null,
      "grid_row": null,
      "grid_template_areas": null,
      "grid_template_columns": null,
      "grid_template_rows": null,
      "height": null,
      "justify_content": null,
      "justify_items": null,
      "left": null,
      "margin": null,
      "max_height": null,
      "max_width": null,
      "min_height": null,
      "min_width": null,
      "object_fit": null,
      "object_position": null,
      "order": null,
      "overflow": null,
      "overflow_x": null,
      "overflow_y": null,
      "padding": null,
      "right": null,
      "top": null,
      "visibility": null,
      "width": null
     }
    },
    "b1fbf0dc5b6b4ca1ba4303f330112122": {
     "model_module": "@jupyter-widgets/controls",
     "model_module_version": "1.5.0",
     "model_name": "HBoxModel",
     "state": {
      "_dom_classes": [],
      "_model_module": "@jupyter-widgets/controls",
      "_model_module_version": "1.5.0",
      "_model_name": "HBoxModel",
      "_view_count": null,
      "_view_module": "@jupyter-widgets/controls",
      "_view_module_version": "1.5.0",
      "_view_name": "HBoxView",
      "box_style": "",
      "children": [
       "IPY_MODEL_b42a8c1873cd41ca84c74775f3bc3014",
       "IPY_MODEL_1810e9bf39a64d6e8bd795153bdab947",
       "IPY_MODEL_df2280b11cca4ae3a44ece30aa85fe8a"
      ],
      "layout": "IPY_MODEL_ff3e10a64e7c4fa690fbd4e1c62221c8"
     }
    },
    "b230a0231c3349b3b78463283b78cbaa": {
     "model_module": "@jupyter-widgets/controls",
     "model_module_version": "1.5.0",
     "model_name": "HBoxModel",
     "state": {
      "_dom_classes": [],
      "_model_module": "@jupyter-widgets/controls",
      "_model_module_version": "1.5.0",
      "_model_name": "HBoxModel",
      "_view_count": null,
      "_view_module": "@jupyter-widgets/controls",
      "_view_module_version": "1.5.0",
      "_view_name": "HBoxView",
      "box_style": "",
      "children": [
       "IPY_MODEL_9019b75f46004013ac4c502878108597",
       "IPY_MODEL_cda198e4dca048a283ba5a0db23ffe5f",
       "IPY_MODEL_0a5ac1ac6c55452783252a7a5b3665eb"
      ],
      "layout": "IPY_MODEL_b3103efc6a9a40df997b20da2c23488c"
     }
    },
    "b3103efc6a9a40df997b20da2c23488c": {
     "model_module": "@jupyter-widgets/base",
     "model_module_version": "1.2.0",
     "model_name": "LayoutModel",
     "state": {
      "_model_module": "@jupyter-widgets/base",
      "_model_module_version": "1.2.0",
      "_model_name": "LayoutModel",
      "_view_count": null,
      "_view_module": "@jupyter-widgets/base",
      "_view_module_version": "1.2.0",
      "_view_name": "LayoutView",
      "align_content": null,
      "align_items": null,
      "align_self": null,
      "border": null,
      "bottom": null,
      "display": null,
      "flex": null,
      "flex_flow": null,
      "grid_area": null,
      "grid_auto_columns": null,
      "grid_auto_flow": null,
      "grid_auto_rows": null,
      "grid_column": null,
      "grid_gap": null,
      "grid_row": null,
      "grid_template_areas": null,
      "grid_template_columns": null,
      "grid_template_rows": null,
      "height": null,
      "justify_content": null,
      "justify_items": null,
      "left": null,
      "margin": null,
      "max_height": null,
      "max_width": null,
      "min_height": null,
      "min_width": null,
      "object_fit": null,
      "object_position": null,
      "order": null,
      "overflow": null,
      "overflow_x": null,
      "overflow_y": null,
      "padding": null,
      "right": null,
      "top": null,
      "visibility": null,
      "width": null
     }
    },
    "b42a8c1873cd41ca84c74775f3bc3014": {
     "model_module": "@jupyter-widgets/controls",
     "model_module_version": "1.5.0",
     "model_name": "HTMLModel",
     "state": {
      "_dom_classes": [],
      "_model_module": "@jupyter-widgets/controls",
      "_model_module_version": "1.5.0",
      "_model_name": "HTMLModel",
      "_view_count": null,
      "_view_module": "@jupyter-widgets/controls",
      "_view_module_version": "1.5.0",
      "_view_name": "HTMLView",
      "description": "",
      "description_tooltip": null,
      "layout": "IPY_MODEL_4ce72097fd2d414bae15d314e84c1601",
      "placeholder": "​",
      "style": "IPY_MODEL_0549de5fea7f43c5bae919e42514e88f",
      "value": "generation_config.json: 100%"
     }
    },
    "b44ba17001474d0eb94a10aa703ae23e": {
     "model_module": "@jupyter-widgets/controls",
     "model_module_version": "1.5.0",
     "model_name": "FloatProgressModel",
     "state": {
      "_dom_classes": [],
      "_model_module": "@jupyter-widgets/controls",
      "_model_module_version": "1.5.0",
      "_model_name": "FloatProgressModel",
      "_view_count": null,
      "_view_module": "@jupyter-widgets/controls",
      "_view_module_version": "1.5.0",
      "_view_name": "ProgressView",
      "bar_style": "success",
      "description": "",
      "description_tooltip": null,
      "layout": "IPY_MODEL_97ddff9129b34fbca679aeee70a6310c",
      "max": 1519984962,
      "min": 0,
      "orientation": "horizontal",
      "style": "IPY_MODEL_6d384726355140329f3c9cec99f2b395",
      "value": 1519984962
     }
    },
    "c4f9ee72b5334cb7ac457ee2a6736b82": {
     "model_module": "@jupyter-widgets/controls",
     "model_module_version": "1.5.0",
     "model_name": "DescriptionStyleModel",
     "state": {
      "_model_module": "@jupyter-widgets/controls",
      "_model_module_version": "1.5.0",
      "_model_name": "DescriptionStyleModel",
      "_view_count": null,
      "_view_module": "@jupyter-widgets/base",
      "_view_module_version": "1.2.0",
      "_view_name": "StyleView",
      "description_width": ""
     }
    },
    "cda198e4dca048a283ba5a0db23ffe5f": {
     "model_module": "@jupyter-widgets/controls",
     "model_module_version": "1.5.0",
     "model_name": "FloatProgressModel",
     "state": {
      "_dom_classes": [],
      "_model_module": "@jupyter-widgets/controls",
      "_model_module_version": "1.5.0",
      "_model_name": "FloatProgressModel",
      "_view_count": null,
      "_view_module": "@jupyter-widgets/controls",
      "_view_module_version": "1.5.0",
      "_view_name": "ProgressView",
      "bar_style": "success",
      "description": "",
      "description_tooltip": null,
      "layout": "IPY_MODEL_d372cc34d5ce40c7ae3aeb53bf56e410",
      "max": 26,
      "min": 0,
      "orientation": "horizontal",
      "style": "IPY_MODEL_9c83aa96318445b3a705a27a4bf4f7b5",
      "value": 26
     }
    },
    "cea3622a112048889abf9790a36a3430": {
     "model_module": "@jupyter-widgets/base",
     "model_module_version": "1.2.0",
     "model_name": "LayoutModel",
     "state": {
      "_model_module": "@jupyter-widgets/base",
      "_model_module_version": "1.2.0",
      "_model_name": "LayoutModel",
      "_view_count": null,
      "_view_module": "@jupyter-widgets/base",
      "_view_module_version": "1.2.0",
      "_view_name": "LayoutView",
      "align_content": null,
      "align_items": null,
      "align_self": null,
      "border": null,
      "bottom": null,
      "display": null,
      "flex": null,
      "flex_flow": null,
      "grid_area": null,
      "grid_auto_columns": null,
      "grid_auto_flow": null,
      "grid_auto_rows": null,
      "grid_column": null,
      "grid_gap": null,
      "grid_row": null,
      "grid_template_areas": null,
      "grid_template_columns": null,
      "grid_template_rows": null,
      "height": null,
      "justify_content": null,
      "justify_items": null,
      "left": null,
      "margin": null,
      "max_height": null,
      "max_width": null,
      "min_height": null,
      "min_width": null,
      "object_fit": null,
      "object_position": null,
      "order": null,
      "overflow": null,
      "overflow_x": null,
      "overflow_y": null,
      "padding": null,
      "right": null,
      "top": null,
      "visibility": null,
      "width": null
     }
    },
    "d2aad0ee2e2d48fa91c1f9540e24b89e": {
     "model_module": "@jupyter-widgets/controls",
     "model_module_version": "1.5.0",
     "model_name": "HTMLModel",
     "state": {
      "_dom_classes": [],
      "_model_module": "@jupyter-widgets/controls",
      "_model_module_version": "1.5.0",
      "_model_name": "HTMLModel",
      "_view_count": null,
      "_view_module": "@jupyter-widgets/controls",
      "_view_module_version": "1.5.0",
      "_view_name": "HTMLView",
      "description": "",
      "description_tooltip": null,
      "layout": "IPY_MODEL_fcf18127c0fa4aee8994b6a351c8c6c0",
      "placeholder": "​",
      "style": "IPY_MODEL_fd7144e07cb4411785ecfa7d06c68b45",
      "value": "model.safetensors: 100%"
     }
    },
    "d2f07839e6c4415eb7a799e436a25410": {
     "model_module": "@jupyter-widgets/controls",
     "model_module_version": "1.5.0",
     "model_name": "HTMLModel",
     "state": {
      "_dom_classes": [],
      "_model_module": "@jupyter-widgets/controls",
      "_model_module_version": "1.5.0",
      "_model_name": "HTMLModel",
      "_view_count": null,
      "_view_module": "@jupyter-widgets/controls",
      "_view_module_version": "1.5.0",
      "_view_name": "HTMLView",
      "description": "",
      "description_tooltip": null,
      "layout": "IPY_MODEL_ad4ab812967846448fdfce651ccb7063",
      "placeholder": "​",
      "style": "IPY_MODEL_c4f9ee72b5334cb7ac457ee2a6736b82",
      "value": "config.json: 100%"
     }
    },
    "d372cc34d5ce40c7ae3aeb53bf56e410": {
     "model_module": "@jupyter-widgets/base",
     "model_module_version": "1.2.0",
     "model_name": "LayoutModel",
     "state": {
      "_model_module": "@jupyter-widgets/base",
      "_model_module_version": "1.2.0",
      "_model_name": "LayoutModel",
      "_view_count": null,
      "_view_module": "@jupyter-widgets/base",
      "_view_module_version": "1.2.0",
      "_view_name": "LayoutView",
      "align_content": null,
      "align_items": null,
      "align_self": null,
      "border": null,
      "bottom": null,
      "display": null,
      "flex": null,
      "flex_flow": null,
      "grid_area": null,
      "grid_auto_columns": null,
      "grid_auto_flow": null,
      "grid_auto_rows": null,
      "grid_column": null,
      "grid_gap": null,
      "grid_row": null,
      "grid_template_areas": null,
      "grid_template_columns": null,
      "grid_template_rows": null,
      "height": null,
      "justify_content": null,
      "justify_items": null,
      "left": null,
      "margin": null,
      "max_height": null,
      "max_width": null,
      "min_height": null,
      "min_width": null,
      "object_fit": null,
      "object_position": null,
      "order": null,
      "overflow": null,
      "overflow_x": null,
      "overflow_y": null,
      "padding": null,
      "right": null,
      "top": null,
      "visibility": null,
      "width": null
     }
    },
    "d9e547160a0d4be1be8cc9af0baa5a0c": {
     "model_module": "@jupyter-widgets/controls",
     "model_module_version": "1.5.0",
     "model_name": "DescriptionStyleModel",
     "state": {
      "_model_module": "@jupyter-widgets/controls",
      "_model_module_version": "1.5.0",
      "_model_name": "DescriptionStyleModel",
      "_view_count": null,
      "_view_module": "@jupyter-widgets/base",
      "_view_module_version": "1.2.0",
      "_view_name": "StyleView",
      "description_width": ""
     }
    },
    "da1fa4aa225b48778d1e0f6196ce0323": {
     "model_module": "@jupyter-widgets/controls",
     "model_module_version": "1.5.0",
     "model_name": "HTMLModel",
     "state": {
      "_dom_classes": [],
      "_model_module": "@jupyter-widgets/controls",
      "_model_module_version": "1.5.0",
      "_model_name": "HTMLModel",
      "_view_count": null,
      "_view_module": "@jupyter-widgets/controls",
      "_view_module_version": "1.5.0",
      "_view_name": "HTMLView",
      "description": "",
      "description_tooltip": null,
      "layout": "IPY_MODEL_a0e2039b234c45d0a15f7c7dc2119288",
      "placeholder": "​",
      "style": "IPY_MODEL_8a1b8930a65d47a2bda487042d92d54b",
      "value": " 1.04M/1.04M [00:00&lt;00:00, 4.77MB/s]"
     }
    },
    "ddfe0041c56d424492e4bdccacb17fe5": {
     "model_module": "@jupyter-widgets/base",
     "model_module_version": "1.2.0",
     "model_name": "LayoutModel",
     "state": {
      "_model_module": "@jupyter-widgets/base",
      "_model_module_version": "1.2.0",
      "_model_name": "LayoutModel",
      "_view_count": null,
      "_view_module": "@jupyter-widgets/base",
      "_view_module_version": "1.2.0",
      "_view_name": "LayoutView",
      "align_content": null,
      "align_items": null,
      "align_self": null,
      "border": null,
      "bottom": null,
      "display": null,
      "flex": null,
      "flex_flow": null,
      "grid_area": null,
      "grid_auto_columns": null,
      "grid_auto_flow": null,
      "grid_auto_rows": null,
      "grid_column": null,
      "grid_gap": null,
      "grid_row": null,
      "grid_template_areas": null,
      "grid_template_columns": null,
      "grid_template_rows": null,
      "height": null,
      "justify_content": null,
      "justify_items": null,
      "left": null,
      "margin": null,
      "max_height": null,
      "max_width": null,
      "min_height": null,
      "min_width": null,
      "object_fit": null,
      "object_position": null,
      "order": null,
      "overflow": null,
      "overflow_x": null,
      "overflow_y": null,
      "padding": null,
      "right": null,
      "top": null,
      "visibility": null,
      "width": null
     }
    },
    "df2280b11cca4ae3a44ece30aa85fe8a": {
     "model_module": "@jupyter-widgets/controls",
     "model_module_version": "1.5.0",
     "model_name": "HTMLModel",
     "state": {
      "_dom_classes": [],
      "_model_module": "@jupyter-widgets/controls",
      "_model_module_version": "1.5.0",
      "_model_name": "HTMLModel",
      "_view_count": null,
      "_view_module": "@jupyter-widgets/controls",
      "_view_module_version": "1.5.0",
      "_view_name": "HTMLView",
      "description": "",
      "description_tooltip": null,
      "layout": "IPY_MODEL_ddfe0041c56d424492e4bdccacb17fe5",
      "placeholder": "​",
      "style": "IPY_MODEL_8f84e67ce76a4f009dc53961229a3f40",
      "value": " 124/124 [00:00&lt;00:00, 9.94kB/s]"
     }
    },
    "df5844b17e104330a194d81827e4794d": {
     "model_module": "@jupyter-widgets/base",
     "model_module_version": "1.2.0",
     "model_name": "LayoutModel",
     "state": {
      "_model_module": "@jupyter-widgets/base",
      "_model_module_version": "1.2.0",
      "_model_name": "LayoutModel",
      "_view_count": null,
      "_view_module": "@jupyter-widgets/base",
      "_view_module_version": "1.2.0",
      "_view_name": "LayoutView",
      "align_content": null,
      "align_items": null,
      "align_self": null,
      "border": null,
      "bottom": null,
      "display": null,
      "flex": null,
      "flex_flow": null,
      "grid_area": null,
      "grid_auto_columns": null,
      "grid_auto_flow": null,
      "grid_auto_rows": null,
      "grid_column": null,
      "grid_gap": null,
      "grid_row": null,
      "grid_template_areas": null,
      "grid_template_columns": null,
      "grid_template_rows": null,
      "height": null,
      "justify_content": null,
      "justify_items": null,
      "left": null,
      "margin": null,
      "max_height": null,
      "max_width": null,
      "min_height": null,
      "min_width": null,
      "object_fit": null,
      "object_position": null,
      "order": null,
      "overflow": null,
      "overflow_x": null,
      "overflow_y": null,
      "padding": null,
      "right": null,
      "top": null,
      "visibility": null,
      "width": null
     }
    },
    "e7837e02d9ef4f8abf76415df685a193": {
     "model_module": "@jupyter-widgets/controls",
     "model_module_version": "1.5.0",
     "model_name": "ProgressStyleModel",
     "state": {
      "_model_module": "@jupyter-widgets/controls",
      "_model_module_version": "1.5.0",
      "_model_name": "ProgressStyleModel",
      "_view_count": null,
      "_view_module": "@jupyter-widgets/base",
      "_view_module_version": "1.2.0",
      "_view_name": "StyleView",
      "bar_color": null,
      "description_width": ""
     }
    },
    "e7abbf03372d40af9ea192479e73603a": {
     "model_module": "@jupyter-widgets/base",
     "model_module_version": "1.2.0",
     "model_name": "LayoutModel",
     "state": {
      "_model_module": "@jupyter-widgets/base",
      "_model_module_version": "1.2.0",
      "_model_name": "LayoutModel",
      "_view_count": null,
      "_view_module": "@jupyter-widgets/base",
      "_view_module_version": "1.2.0",
      "_view_name": "LayoutView",
      "align_content": null,
      "align_items": null,
      "align_self": null,
      "border": null,
      "bottom": null,
      "display": null,
      "flex": null,
      "flex_flow": null,
      "grid_area": null,
      "grid_auto_columns": null,
      "grid_auto_flow": null,
      "grid_auto_rows": null,
      "grid_column": null,
      "grid_gap": null,
      "grid_row": null,
      "grid_template_areas": null,
      "grid_template_columns": null,
      "grid_template_rows": null,
      "height": null,
      "justify_content": null,
      "justify_items": null,
      "left": null,
      "margin": null,
      "max_height": null,
      "max_width": null,
      "min_height": null,
      "min_width": null,
      "object_fit": null,
      "object_position": null,
      "order": null,
      "overflow": null,
      "overflow_x": null,
      "overflow_y": null,
      "padding": null,
      "right": null,
      "top": null,
      "visibility": null,
      "width": null
     }
    },
    "e8263c1da2bd4b51aa2504ba63d9d19e": {
     "model_module": "@jupyter-widgets/controls",
     "model_module_version": "1.5.0",
     "model_name": "FloatProgressModel",
     "state": {
      "_dom_classes": [],
      "_model_module": "@jupyter-widgets/controls",
      "_model_module_version": "1.5.0",
      "_model_name": "FloatProgressModel",
      "_view_count": null,
      "_view_module": "@jupyter-widgets/controls",
      "_view_module_version": "1.5.0",
      "_view_name": "ProgressView",
      "bar_style": "success",
      "description": "",
      "description_tooltip": null,
      "layout": "IPY_MODEL_728352875c3649baa6cf7f0d6d89976a",
      "max": 718,
      "min": 0,
      "orientation": "horizontal",
      "style": "IPY_MODEL_10e9b5626eba404588d5d349909ec486",
      "value": 718
     }
    },
    "ebed73a5ca29444f99d2ddc0e46d0949": {
     "model_module": "@jupyter-widgets/controls",
     "model_module_version": "1.5.0",
     "model_name": "HBoxModel",
     "state": {
      "_dom_classes": [],
      "_model_module": "@jupyter-widgets/controls",
      "_model_module_version": "1.5.0",
      "_model_name": "HBoxModel",
      "_view_count": null,
      "_view_module": "@jupyter-widgets/controls",
      "_view_module_version": "1.5.0",
      "_view_name": "HBoxView",
      "box_style": "",
      "children": [
       "IPY_MODEL_d2aad0ee2e2d48fa91c1f9540e24b89e",
       "IPY_MODEL_b44ba17001474d0eb94a10aa703ae23e",
       "IPY_MODEL_ff5a1c3848dc40689725f0ad4e0c3012"
      ],
      "layout": "IPY_MODEL_1475f0f84cad4d02aaac885f104e48d9"
     }
    },
    "ec7d616c83594d0a862dc055c57fd28e": {
     "model_module": "@jupyter-widgets/base",
     "model_module_version": "1.2.0",
     "model_name": "LayoutModel",
     "state": {
      "_model_module": "@jupyter-widgets/base",
      "_model_module_version": "1.2.0",
      "_model_name": "LayoutModel",
      "_view_count": null,
      "_view_module": "@jupyter-widgets/base",
      "_view_module_version": "1.2.0",
      "_view_name": "LayoutView",
      "align_content": null,
      "align_items": null,
      "align_self": null,
      "border": null,
      "bottom": null,
      "display": null,
      "flex": null,
      "flex_flow": null,
      "grid_area": null,
      "grid_auto_columns": null,
      "grid_auto_flow": null,
      "grid_auto_rows": null,
      "grid_column": null,
      "grid_gap": null,
      "grid_row": null,
      "grid_template_areas": null,
      "grid_template_columns": null,
      "grid_template_rows": null,
      "height": null,
      "justify_content": null,
      "justify_items": null,
      "left": null,
      "margin": null,
      "max_height": null,
      "max_width": null,
      "min_height": null,
      "min_width": null,
      "object_fit": null,
      "object_position": null,
      "order": null,
      "overflow": null,
      "overflow_x": null,
      "overflow_y": null,
      "padding": null,
      "right": null,
      "top": null,
      "visibility": null,
      "width": null
     }
    },
    "ed7d15352a7a4ff5acc67e2a70712074": {
     "model_module": "@jupyter-widgets/controls",
     "model_module_version": "1.5.0",
     "model_name": "ProgressStyleModel",
     "state": {
      "_model_module": "@jupyter-widgets/controls",
      "_model_module_version": "1.5.0",
      "_model_name": "ProgressStyleModel",
      "_view_count": null,
      "_view_module": "@jupyter-widgets/base",
      "_view_module_version": "1.2.0",
      "_view_name": "StyleView",
      "bar_color": null,
      "description_width": ""
     }
    },
    "f0fe9f8a17e74f54924bc7daafc0e890": {
     "model_module": "@jupyter-widgets/base",
     "model_module_version": "1.2.0",
     "model_name": "LayoutModel",
     "state": {
      "_model_module": "@jupyter-widgets/base",
      "_model_module_version": "1.2.0",
      "_model_name": "LayoutModel",
      "_view_count": null,
      "_view_module": "@jupyter-widgets/base",
      "_view_module_version": "1.2.0",
      "_view_name": "LayoutView",
      "align_content": null,
      "align_items": null,
      "align_self": null,
      "border": null,
      "bottom": null,
      "display": null,
      "flex": null,
      "flex_flow": null,
      "grid_area": null,
      "grid_auto_columns": null,
      "grid_auto_flow": null,
      "grid_auto_rows": null,
      "grid_column": null,
      "grid_gap": null,
      "grid_row": null,
      "grid_template_areas": null,
      "grid_template_columns": null,
      "grid_template_rows": null,
      "height": null,
      "justify_content": null,
      "justify_items": null,
      "left": null,
      "margin": null,
      "max_height": null,
      "max_width": null,
      "min_height": null,
      "min_width": null,
      "object_fit": null,
      "object_position": null,
      "order": null,
      "overflow": null,
      "overflow_x": null,
      "overflow_y": null,
      "padding": null,
      "right": null,
      "top": null,
      "visibility": null,
      "width": null
     }
    },
    "f3ec5fb56caf4ba3a99e209736014428": {
     "model_module": "@jupyter-widgets/base",
     "model_module_version": "1.2.0",
     "model_name": "LayoutModel",
     "state": {
      "_model_module": "@jupyter-widgets/base",
      "_model_module_version": "1.2.0",
      "_model_name": "LayoutModel",
      "_view_count": null,
      "_view_module": "@jupyter-widgets/base",
      "_view_module_version": "1.2.0",
      "_view_name": "LayoutView",
      "align_content": null,
      "align_items": null,
      "align_self": null,
      "border": null,
      "bottom": null,
      "display": null,
      "flex": null,
      "flex_flow": null,
      "grid_area": null,
      "grid_auto_columns": null,
      "grid_auto_flow": null,
      "grid_auto_rows": null,
      "grid_column": null,
      "grid_gap": null,
      "grid_row": null,
      "grid_template_areas": null,
      "grid_template_columns": null,
      "grid_template_rows": null,
      "height": null,
      "justify_content": null,
      "justify_items": null,
      "left": null,
      "margin": null,
      "max_height": null,
      "max_width": null,
      "min_height": null,
      "min_width": null,
      "object_fit": null,
      "object_position": null,
      "order": null,
      "overflow": null,
      "overflow_x": null,
      "overflow_y": null,
      "padding": null,
      "right": null,
      "top": null,
      "visibility": null,
      "width": null
     }
    },
    "fc0e190fef7f4f0cbf512f6b66274ce0": {
     "model_module": "@jupyter-widgets/base",
     "model_module_version": "1.2.0",
     "model_name": "LayoutModel",
     "state": {
      "_model_module": "@jupyter-widgets/base",
      "_model_module_version": "1.2.0",
      "_model_name": "LayoutModel",
      "_view_count": null,
      "_view_module": "@jupyter-widgets/base",
      "_view_module_version": "1.2.0",
      "_view_name": "LayoutView",
      "align_content": null,
      "align_items": null,
      "align_self": null,
      "border": null,
      "bottom": null,
      "display": null,
      "flex": null,
      "flex_flow": null,
      "grid_area": null,
      "grid_auto_columns": null,
      "grid_auto_flow": null,
      "grid_auto_rows": null,
      "grid_column": null,
      "grid_gap": null,
      "grid_row": null,
      "grid_template_areas": null,
      "grid_template_columns": null,
      "grid_template_rows": null,
      "height": null,
      "justify_content": null,
      "justify_items": null,
      "left": null,
      "margin": null,
      "max_height": null,
      "max_width": null,
      "min_height": null,
      "min_width": null,
      "object_fit": null,
      "object_position": null,
      "order": null,
      "overflow": null,
      "overflow_x": null,
      "overflow_y": null,
      "padding": null,
      "right": null,
      "top": null,
      "visibility": null,
      "width": null
     }
    },
    "fcf18127c0fa4aee8994b6a351c8c6c0": {
     "model_module": "@jupyter-widgets/base",
     "model_module_version": "1.2.0",
     "model_name": "LayoutModel",
     "state": {
      "_model_module": "@jupyter-widgets/base",
      "_model_module_version": "1.2.0",
      "_model_name": "LayoutModel",
      "_view_count": null,
      "_view_module": "@jupyter-widgets/base",
      "_view_module_version": "1.2.0",
      "_view_name": "LayoutView",
      "align_content": null,
      "align_items": null,
      "align_self": null,
      "border": null,
      "bottom": null,
      "display": null,
      "flex": null,
      "flex_flow": null,
      "grid_area": null,
      "grid_auto_columns": null,
      "grid_auto_flow": null,
      "grid_auto_rows": null,
      "grid_column": null,
      "grid_gap": null,
      "grid_row": null,
      "grid_template_areas": null,
      "grid_template_columns": null,
      "grid_template_rows": null,
      "height": null,
      "justify_content": null,
      "justify_items": null,
      "left": null,
      "margin": null,
      "max_height": null,
      "max_width": null,
      "min_height": null,
      "min_width": null,
      "object_fit": null,
      "object_position": null,
      "order": null,
      "overflow": null,
      "overflow_x": null,
      "overflow_y": null,
      "padding": null,
      "right": null,
      "top": null,
      "visibility": null,
      "width": null
     }
    },
    "fd7144e07cb4411785ecfa7d06c68b45": {
     "model_module": "@jupyter-widgets/controls",
     "model_module_version": "1.5.0",
     "model_name": "DescriptionStyleModel",
     "state": {
      "_model_module": "@jupyter-widgets/controls",
      "_model_module_version": "1.5.0",
      "_model_name": "DescriptionStyleModel",
      "_view_count": null,
      "_view_module": "@jupyter-widgets/base",
      "_view_module_version": "1.2.0",
      "_view_name": "StyleView",
      "description_width": ""
     }
    },
    "fed923aad3244c69b1a17ec51d8380cf": {
     "model_module": "@jupyter-widgets/controls",
     "model_module_version": "1.5.0",
     "model_name": "DescriptionStyleModel",
     "state": {
      "_model_module": "@jupyter-widgets/controls",
      "_model_module_version": "1.5.0",
      "_model_name": "DescriptionStyleModel",
      "_view_count": null,
      "_view_module": "@jupyter-widgets/base",
      "_view_module_version": "1.2.0",
      "_view_name": "StyleView",
      "description_width": ""
     }
    },
    "ff3e10a64e7c4fa690fbd4e1c62221c8": {
     "model_module": "@jupyter-widgets/base",
     "model_module_version": "1.2.0",
     "model_name": "LayoutModel",
     "state": {
      "_model_module": "@jupyter-widgets/base",
      "_model_module_version": "1.2.0",
      "_model_name": "LayoutModel",
      "_view_count": null,
      "_view_module": "@jupyter-widgets/base",
      "_view_module_version": "1.2.0",
      "_view_name": "LayoutView",
      "align_content": null,
      "align_items": null,
      "align_self": null,
      "border": null,
      "bottom": null,
      "display": null,
      "flex": null,
      "flex_flow": null,
      "grid_area": null,
      "grid_auto_columns": null,
      "grid_auto_flow": null,
      "grid_auto_rows": null,
      "grid_column": null,
      "grid_gap": null,
      "grid_row": null,
      "grid_template_areas": null,
      "grid_template_columns": null,
      "grid_template_rows": null,
      "height": null,
      "justify_content": null,
      "justify_items": null,
      "left": null,
      "margin": null,
      "max_height": null,
      "max_width": null,
      "min_height": null,
      "min_width": null,
      "object_fit": null,
      "object_position": null,
      "order": null,
      "overflow": null,
      "overflow_x": null,
      "overflow_y": null,
      "padding": null,
      "right": null,
      "top": null,
      "visibility": null,
      "width": null
     }
    },
    "ff5a1c3848dc40689725f0ad4e0c3012": {
     "model_module": "@jupyter-widgets/controls",
     "model_module_version": "1.5.0",
     "model_name": "HTMLModel",
     "state": {
      "_dom_classes": [],
      "_model_module": "@jupyter-widgets/controls",
      "_model_module_version": "1.5.0",
      "_model_name": "HTMLModel",
      "_view_count": null,
      "_view_module": "@jupyter-widgets/controls",
      "_view_module_version": "1.5.0",
      "_view_name": "HTMLView",
      "description": "",
      "description_tooltip": null,
      "layout": "IPY_MODEL_33cecec46ab14182840d3396303f229c",
      "placeholder": "​",
      "style": "IPY_MODEL_fed923aad3244c69b1a17ec51d8380cf",
      "value": " 1.52G/1.52G [00:04&lt;00:00, 285MB/s]"
     }
    }
   }
  }
 },
 "nbformat": 4,
 "nbformat_minor": 0
}
