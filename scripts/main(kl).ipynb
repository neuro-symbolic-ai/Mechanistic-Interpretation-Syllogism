{
 "cells": [
  {
   "cell_type": "markdown",
   "metadata": {
    "id": "upSc7b_GabVR"
   },
   "source": [
    "# Main Demo\n",
    "## Introduction\n",
    "\n",
    "This Jupyter Notebook contains the code to reproduce the results presented in our paper \"A Mechanistic Interpretation of Syllogistic Reasoning in Auto-Regressive Language Models\".\n",
    "\n",
    "### Contents:\n",
    "1. Setup\n",
    "2. Dataset\n",
    "3. Intervention (Figure 4)\n",
    "4. Evaluation (Figure 5)\n",
    "5. Transferability (Figure 6, Table 2, Figure 3)\n",
    "\n",
    "Note: This demo is provided to ensure transparency and reproducibility of our research. If you encounter any issues or have questions, please contact the authors."
   ]
  },
  {
   "cell_type": "markdown",
   "metadata": {
    "id": "yqrK5YtiabVT"
   },
   "source": [
    "# 1. Setup"
   ]
  },
  {
   "cell_type": "code",
   "execution_count": 1,
   "metadata": {},
   "outputs": [
    {
     "name": "stdout",
     "output_type": "stream",
     "text": [
      "Requirement already satisfied: torch==2.2.0 in /Users/geonhee/miniconda3/envs/mechsyllogism/lib/python3.9/site-packages (2.2.0)\n",
      "Requirement already satisfied: filelock in /Users/geonhee/miniconda3/envs/mechsyllogism/lib/python3.9/site-packages (from torch==2.2.0) (3.17.0)\n",
      "Requirement already satisfied: typing-extensions>=4.8.0 in /Users/geonhee/miniconda3/envs/mechsyllogism/lib/python3.9/site-packages (from torch==2.2.0) (4.12.2)\n",
      "Requirement already satisfied: sympy in /Users/geonhee/miniconda3/envs/mechsyllogism/lib/python3.9/site-packages (from torch==2.2.0) (1.13.1)\n",
      "Requirement already satisfied: networkx in /Users/geonhee/miniconda3/envs/mechsyllogism/lib/python3.9/site-packages (from torch==2.2.0) (3.2.1)\n",
      "Requirement already satisfied: jinja2 in /Users/geonhee/miniconda3/envs/mechsyllogism/lib/python3.9/site-packages (from torch==2.2.0) (3.1.5)\n",
      "Requirement already satisfied: fsspec in /Users/geonhee/miniconda3/envs/mechsyllogism/lib/python3.9/site-packages (from torch==2.2.0) (2024.9.0)\n",
      "Requirement already satisfied: MarkupSafe>=2.0 in /Users/geonhee/miniconda3/envs/mechsyllogism/lib/python3.9/site-packages (from jinja2->torch==2.2.0) (3.0.2)\n",
      "Requirement already satisfied: mpmath<1.4,>=1.1.0 in /Users/geonhee/miniconda3/envs/mechsyllogism/lib/python3.9/site-packages (from sympy->torch==2.2.0) (1.3.0)\n",
      "Requirement already satisfied: plotly==5.19.0 in /Users/geonhee/miniconda3/envs/mechsyllogism/lib/python3.9/site-packages (5.19.0)\n",
      "Requirement already satisfied: tenacity>=6.2.0 in /Users/geonhee/miniconda3/envs/mechsyllogism/lib/python3.9/site-packages (from plotly==5.19.0) (9.0.0)\n",
      "Requirement already satisfied: packaging in /Users/geonhee/miniconda3/envs/mechsyllogism/lib/python3.9/site-packages (from plotly==5.19.0) (24.2)\n",
      "Requirement already satisfied: numpy==1.26.4 in /Users/geonhee/miniconda3/envs/mechsyllogism/lib/python3.9/site-packages (1.26.4)\n",
      "Requirement already satisfied: nbformat==5.9.2 in /Users/geonhee/miniconda3/envs/mechsyllogism/lib/python3.9/site-packages (5.9.2)\n",
      "Requirement already satisfied: fastjsonschema in /Users/geonhee/miniconda3/envs/mechsyllogism/lib/python3.9/site-packages (from nbformat==5.9.2) (2.21.1)\n",
      "Requirement already satisfied: jsonschema>=2.6 in /Users/geonhee/miniconda3/envs/mechsyllogism/lib/python3.9/site-packages (from nbformat==5.9.2) (4.23.0)\n",
      "Requirement already satisfied: jupyter-core in /Users/geonhee/miniconda3/envs/mechsyllogism/lib/python3.9/site-packages (from nbformat==5.9.2) (5.7.2)\n",
      "Requirement already satisfied: traitlets>=5.1 in /Users/geonhee/miniconda3/envs/mechsyllogism/lib/python3.9/site-packages (from nbformat==5.9.2) (5.14.3)\n",
      "Requirement already satisfied: attrs>=22.2.0 in /Users/geonhee/miniconda3/envs/mechsyllogism/lib/python3.9/site-packages (from jsonschema>=2.6->nbformat==5.9.2) (24.3.0)\n",
      "Requirement already satisfied: jsonschema-specifications>=2023.03.6 in /Users/geonhee/miniconda3/envs/mechsyllogism/lib/python3.9/site-packages (from jsonschema>=2.6->nbformat==5.9.2) (2024.10.1)\n",
      "Requirement already satisfied: referencing>=0.28.4 in /Users/geonhee/miniconda3/envs/mechsyllogism/lib/python3.9/site-packages (from jsonschema>=2.6->nbformat==5.9.2) (0.36.1)\n",
      "Requirement already satisfied: rpds-py>=0.7.1 in /Users/geonhee/miniconda3/envs/mechsyllogism/lib/python3.9/site-packages (from jsonschema>=2.6->nbformat==5.9.2) (0.22.3)\n",
      "Requirement already satisfied: platformdirs>=2.5 in /Users/geonhee/miniconda3/envs/mechsyllogism/lib/python3.9/site-packages (from jupyter-core->nbformat==5.9.2) (4.3.6)\n",
      "Requirement already satisfied: typing-extensions>=4.4.0 in /Users/geonhee/miniconda3/envs/mechsyllogism/lib/python3.9/site-packages (from referencing>=0.28.4->jsonschema>=2.6->nbformat==5.9.2) (4.12.2)\n",
      "Requirement already satisfied: kaleido==0.2.1 in /Users/geonhee/miniconda3/envs/mechsyllogism/lib/python3.9/site-packages (0.2.1)\n",
      "Requirement already satisfied: transformer_lens in /Users/geonhee/miniconda3/envs/mechsyllogism/lib/python3.9/site-packages (2.11.0)\n",
      "Requirement already satisfied: accelerate>=0.23.0 in /Users/geonhee/miniconda3/envs/mechsyllogism/lib/python3.9/site-packages (from transformer_lens) (1.3.0)\n",
      "Requirement already satisfied: beartype<0.15.0,>=0.14.1 in /Users/geonhee/miniconda3/envs/mechsyllogism/lib/python3.9/site-packages (from transformer_lens) (0.14.1)\n",
      "Requirement already satisfied: better-abc<0.0.4,>=0.0.3 in /Users/geonhee/miniconda3/envs/mechsyllogism/lib/python3.9/site-packages (from transformer_lens) (0.0.3)\n",
      "Requirement already satisfied: datasets>=2.7.1 in /Users/geonhee/miniconda3/envs/mechsyllogism/lib/python3.9/site-packages (from transformer_lens) (3.2.0)\n",
      "Requirement already satisfied: einops>=0.6.0 in /Users/geonhee/miniconda3/envs/mechsyllogism/lib/python3.9/site-packages (from transformer_lens) (0.8.0)\n",
      "Requirement already satisfied: fancy-einsum>=0.0.3 in /Users/geonhee/miniconda3/envs/mechsyllogism/lib/python3.9/site-packages (from transformer_lens) (0.0.3)\n",
      "Requirement already satisfied: jaxtyping>=0.2.11 in /Users/geonhee/miniconda3/envs/mechsyllogism/lib/python3.9/site-packages (from transformer_lens) (0.2.36)\n",
      "Requirement already satisfied: numpy>=1.24 in /Users/geonhee/miniconda3/envs/mechsyllogism/lib/python3.9/site-packages (from transformer_lens) (1.26.4)\n",
      "Requirement already satisfied: pandas>=1.1.5 in /Users/geonhee/miniconda3/envs/mechsyllogism/lib/python3.9/site-packages (from transformer_lens) (2.2.3)\n",
      "Requirement already satisfied: rich>=12.6.0 in /Users/geonhee/miniconda3/envs/mechsyllogism/lib/python3.9/site-packages (from transformer_lens) (13.9.4)\n",
      "Requirement already satisfied: sentencepiece in /Users/geonhee/miniconda3/envs/mechsyllogism/lib/python3.9/site-packages (from transformer_lens) (0.2.0)\n",
      "Requirement already satisfied: torch!=2.0,!=2.1.0,>=1.10 in /Users/geonhee/miniconda3/envs/mechsyllogism/lib/python3.9/site-packages (from transformer_lens) (2.2.0)\n",
      "Requirement already satisfied: tqdm>=4.64.1 in /Users/geonhee/miniconda3/envs/mechsyllogism/lib/python3.9/site-packages (from transformer_lens) (4.67.1)\n",
      "Requirement already satisfied: transformers>=4.37.2 in /Users/geonhee/miniconda3/envs/mechsyllogism/lib/python3.9/site-packages (from transformer_lens) (4.48.1)\n",
      "Requirement already satisfied: typeguard<5.0,>=4.2 in /Users/geonhee/miniconda3/envs/mechsyllogism/lib/python3.9/site-packages (from transformer_lens) (4.4.1)\n",
      "Requirement already satisfied: typing-extensions in /Users/geonhee/miniconda3/envs/mechsyllogism/lib/python3.9/site-packages (from transformer_lens) (4.12.2)\n",
      "Requirement already satisfied: wandb>=0.13.5 in /Users/geonhee/miniconda3/envs/mechsyllogism/lib/python3.9/site-packages (from transformer_lens) (0.19.4)\n",
      "Requirement already satisfied: packaging>=20.0 in /Users/geonhee/miniconda3/envs/mechsyllogism/lib/python3.9/site-packages (from accelerate>=0.23.0->transformer_lens) (24.2)\n",
      "Requirement already satisfied: psutil in /Users/geonhee/miniconda3/envs/mechsyllogism/lib/python3.9/site-packages (from accelerate>=0.23.0->transformer_lens) (5.8.0)\n",
      "Requirement already satisfied: pyyaml in /Users/geonhee/miniconda3/envs/mechsyllogism/lib/python3.9/site-packages (from accelerate>=0.23.0->transformer_lens) (6.0.2)\n",
      "Requirement already satisfied: huggingface-hub>=0.21.0 in /Users/geonhee/miniconda3/envs/mechsyllogism/lib/python3.9/site-packages (from accelerate>=0.23.0->transformer_lens) (0.27.1)\n",
      "Requirement already satisfied: safetensors>=0.4.3 in /Users/geonhee/miniconda3/envs/mechsyllogism/lib/python3.9/site-packages (from accelerate>=0.23.0->transformer_lens) (0.5.2)\n",
      "Requirement already satisfied: filelock in /Users/geonhee/miniconda3/envs/mechsyllogism/lib/python3.9/site-packages (from datasets>=2.7.1->transformer_lens) (3.17.0)\n",
      "Requirement already satisfied: pyarrow>=15.0.0 in /Users/geonhee/miniconda3/envs/mechsyllogism/lib/python3.9/site-packages (from datasets>=2.7.1->transformer_lens) (19.0.0)\n",
      "Requirement already satisfied: dill<0.3.9,>=0.3.0 in /Users/geonhee/miniconda3/envs/mechsyllogism/lib/python3.9/site-packages (from datasets>=2.7.1->transformer_lens) (0.3.8)\n",
      "Requirement already satisfied: requests>=2.32.2 in /Users/geonhee/miniconda3/envs/mechsyllogism/lib/python3.9/site-packages (from datasets>=2.7.1->transformer_lens) (2.32.3)\n",
      "Requirement already satisfied: xxhash in /Users/geonhee/miniconda3/envs/mechsyllogism/lib/python3.9/site-packages (from datasets>=2.7.1->transformer_lens) (3.5.0)\n",
      "Requirement already satisfied: multiprocess<0.70.17 in /Users/geonhee/miniconda3/envs/mechsyllogism/lib/python3.9/site-packages (from datasets>=2.7.1->transformer_lens) (0.70.16)\n",
      "Requirement already satisfied: fsspec<=2024.9.0,>=2023.1.0 in /Users/geonhee/miniconda3/envs/mechsyllogism/lib/python3.9/site-packages (from fsspec[http]<=2024.9.0,>=2023.1.0->datasets>=2.7.1->transformer_lens) (2024.9.0)\n",
      "Requirement already satisfied: aiohttp in /Users/geonhee/miniconda3/envs/mechsyllogism/lib/python3.9/site-packages (from datasets>=2.7.1->transformer_lens) (3.11.11)\n",
      "Requirement already satisfied: python-dateutil>=2.8.2 in /Users/geonhee/miniconda3/envs/mechsyllogism/lib/python3.9/site-packages (from pandas>=1.1.5->transformer_lens) (2.9.0.post0)\n",
      "Requirement already satisfied: pytz>=2020.1 in /Users/geonhee/miniconda3/envs/mechsyllogism/lib/python3.9/site-packages (from pandas>=1.1.5->transformer_lens) (2024.2)\n",
      "Requirement already satisfied: tzdata>=2022.7 in /Users/geonhee/miniconda3/envs/mechsyllogism/lib/python3.9/site-packages (from pandas>=1.1.5->transformer_lens) (2025.1)\n",
      "Requirement already satisfied: markdown-it-py>=2.2.0 in /Users/geonhee/miniconda3/envs/mechsyllogism/lib/python3.9/site-packages (from rich>=12.6.0->transformer_lens) (3.0.0)\n",
      "Requirement already satisfied: pygments<3.0.0,>=2.13.0 in /Users/geonhee/miniconda3/envs/mechsyllogism/lib/python3.9/site-packages (from rich>=12.6.0->transformer_lens) (2.19.1)\n",
      "Requirement already satisfied: sympy in /Users/geonhee/miniconda3/envs/mechsyllogism/lib/python3.9/site-packages (from torch!=2.0,!=2.1.0,>=1.10->transformer_lens) (1.13.1)\n",
      "Requirement already satisfied: networkx in /Users/geonhee/miniconda3/envs/mechsyllogism/lib/python3.9/site-packages (from torch!=2.0,!=2.1.0,>=1.10->transformer_lens) (3.2.1)\n",
      "Requirement already satisfied: jinja2 in /Users/geonhee/miniconda3/envs/mechsyllogism/lib/python3.9/site-packages (from torch!=2.0,!=2.1.0,>=1.10->transformer_lens) (3.1.5)\n",
      "Requirement already satisfied: regex!=2019.12.17 in /Users/geonhee/miniconda3/envs/mechsyllogism/lib/python3.9/site-packages (from transformers>=4.37.2->transformer_lens) (2024.11.6)\n",
      "Requirement already satisfied: tokenizers<0.22,>=0.21 in /Users/geonhee/miniconda3/envs/mechsyllogism/lib/python3.9/site-packages (from transformers>=4.37.2->transformer_lens) (0.21.0)\n",
      "Requirement already satisfied: importlib-metadata>=3.6 in /Users/geonhee/miniconda3/envs/mechsyllogism/lib/python3.9/site-packages (from typeguard<5.0,>=4.2->transformer_lens) (8.6.1)\n",
      "Requirement already satisfied: click!=8.0.0,>=7.1 in /Users/geonhee/miniconda3/envs/mechsyllogism/lib/python3.9/site-packages (from wandb>=0.13.5->transformer_lens) (8.1.8)\n",
      "Requirement already satisfied: docker-pycreds>=0.4.0 in /Users/geonhee/miniconda3/envs/mechsyllogism/lib/python3.9/site-packages (from wandb>=0.13.5->transformer_lens) (0.4.0)\n",
      "Requirement already satisfied: eval-type-backport in /Users/geonhee/miniconda3/envs/mechsyllogism/lib/python3.9/site-packages (from wandb>=0.13.5->transformer_lens) (0.2.2)\n",
      "Requirement already satisfied: gitpython!=3.1.29,>=1.0.0 in /Users/geonhee/miniconda3/envs/mechsyllogism/lib/python3.9/site-packages (from wandb>=0.13.5->transformer_lens) (3.1.44)\n",
      "Requirement already satisfied: platformdirs in /Users/geonhee/miniconda3/envs/mechsyllogism/lib/python3.9/site-packages (from wandb>=0.13.5->transformer_lens) (4.3.6)\n",
      "Requirement already satisfied: protobuf!=4.21.0,!=5.28.0,<6,>=3.19.0 in /Users/geonhee/miniconda3/envs/mechsyllogism/lib/python3.9/site-packages (from wandb>=0.13.5->transformer_lens) (5.29.3)\n",
      "Requirement already satisfied: pydantic<3,>=2.6 in /Users/geonhee/miniconda3/envs/mechsyllogism/lib/python3.9/site-packages (from wandb>=0.13.5->transformer_lens) (2.10.6)\n",
      "Requirement already satisfied: sentry-sdk>=2.0.0 in /Users/geonhee/miniconda3/envs/mechsyllogism/lib/python3.9/site-packages (from wandb>=0.13.5->transformer_lens) (2.20.0)\n",
      "Requirement already satisfied: setproctitle in /Users/geonhee/miniconda3/envs/mechsyllogism/lib/python3.9/site-packages (from wandb>=0.13.5->transformer_lens) (1.3.4)\n",
      "Requirement already satisfied: setuptools in /Users/geonhee/miniconda3/envs/mechsyllogism/lib/python3.9/site-packages (from wandb>=0.13.5->transformer_lens) (75.1.0)\n",
      "Requirement already satisfied: six>=1.4.0 in /Users/geonhee/miniconda3/envs/mechsyllogism/lib/python3.9/site-packages (from docker-pycreds>=0.4.0->wandb>=0.13.5->transformer_lens) (1.17.0)\n",
      "Requirement already satisfied: aiohappyeyeballs>=2.3.0 in /Users/geonhee/miniconda3/envs/mechsyllogism/lib/python3.9/site-packages (from aiohttp->datasets>=2.7.1->transformer_lens) (2.4.4)\n",
      "Requirement already satisfied: aiosignal>=1.1.2 in /Users/geonhee/miniconda3/envs/mechsyllogism/lib/python3.9/site-packages (from aiohttp->datasets>=2.7.1->transformer_lens) (1.3.2)\n",
      "Requirement already satisfied: async-timeout<6.0,>=4.0 in /Users/geonhee/miniconda3/envs/mechsyllogism/lib/python3.9/site-packages (from aiohttp->datasets>=2.7.1->transformer_lens) (5.0.1)\n",
      "Requirement already satisfied: attrs>=17.3.0 in /Users/geonhee/miniconda3/envs/mechsyllogism/lib/python3.9/site-packages (from aiohttp->datasets>=2.7.1->transformer_lens) (24.3.0)\n",
      "Requirement already satisfied: frozenlist>=1.1.1 in /Users/geonhee/miniconda3/envs/mechsyllogism/lib/python3.9/site-packages (from aiohttp->datasets>=2.7.1->transformer_lens) (1.5.0)\n",
      "Requirement already satisfied: multidict<7.0,>=4.5 in /Users/geonhee/miniconda3/envs/mechsyllogism/lib/python3.9/site-packages (from aiohttp->datasets>=2.7.1->transformer_lens) (6.1.0)\n",
      "Requirement already satisfied: propcache>=0.2.0 in /Users/geonhee/miniconda3/envs/mechsyllogism/lib/python3.9/site-packages (from aiohttp->datasets>=2.7.1->transformer_lens) (0.2.1)\n",
      "Requirement already satisfied: yarl<2.0,>=1.17.0 in /Users/geonhee/miniconda3/envs/mechsyllogism/lib/python3.9/site-packages (from aiohttp->datasets>=2.7.1->transformer_lens) (1.18.3)\n",
      "Requirement already satisfied: gitdb<5,>=4.0.1 in /Users/geonhee/miniconda3/envs/mechsyllogism/lib/python3.9/site-packages (from gitpython!=3.1.29,>=1.0.0->wandb>=0.13.5->transformer_lens) (4.0.12)\n",
      "Requirement already satisfied: zipp>=3.20 in /Users/geonhee/miniconda3/envs/mechsyllogism/lib/python3.9/site-packages (from importlib-metadata>=3.6->typeguard<5.0,>=4.2->transformer_lens) (3.21.0)\n",
      "Requirement already satisfied: mdurl~=0.1 in /Users/geonhee/miniconda3/envs/mechsyllogism/lib/python3.9/site-packages (from markdown-it-py>=2.2.0->rich>=12.6.0->transformer_lens) (0.1.2)\n",
      "Requirement already satisfied: annotated-types>=0.6.0 in /Users/geonhee/miniconda3/envs/mechsyllogism/lib/python3.9/site-packages (from pydantic<3,>=2.6->wandb>=0.13.5->transformer_lens) (0.7.0)\n",
      "Requirement already satisfied: pydantic-core==2.27.2 in /Users/geonhee/miniconda3/envs/mechsyllogism/lib/python3.9/site-packages (from pydantic<3,>=2.6->wandb>=0.13.5->transformer_lens) (2.27.2)\n",
      "Requirement already satisfied: charset-normalizer<4,>=2 in /Users/geonhee/miniconda3/envs/mechsyllogism/lib/python3.9/site-packages (from requests>=2.32.2->datasets>=2.7.1->transformer_lens) (3.4.1)\n",
      "Requirement already satisfied: idna<4,>=2.5 in /Users/geonhee/miniconda3/envs/mechsyllogism/lib/python3.9/site-packages (from requests>=2.32.2->datasets>=2.7.1->transformer_lens) (3.10)\n",
      "Requirement already satisfied: urllib3<3,>=1.21.1 in /Users/geonhee/miniconda3/envs/mechsyllogism/lib/python3.9/site-packages (from requests>=2.32.2->datasets>=2.7.1->transformer_lens) (2.3.0)\n",
      "Requirement already satisfied: certifi>=2017.4.17 in /Users/geonhee/miniconda3/envs/mechsyllogism/lib/python3.9/site-packages (from requests>=2.32.2->datasets>=2.7.1->transformer_lens) (2024.12.14)\n",
      "Requirement already satisfied: MarkupSafe>=2.0 in /Users/geonhee/miniconda3/envs/mechsyllogism/lib/python3.9/site-packages (from jinja2->torch!=2.0,!=2.1.0,>=1.10->transformer_lens) (3.0.2)\n",
      "Requirement already satisfied: mpmath<1.4,>=1.1.0 in /Users/geonhee/miniconda3/envs/mechsyllogism/lib/python3.9/site-packages (from sympy->torch!=2.0,!=2.1.0,>=1.10->transformer_lens) (1.3.0)\n",
      "Requirement already satisfied: smmap<6,>=3.0.1 in /Users/geonhee/miniconda3/envs/mechsyllogism/lib/python3.9/site-packages (from gitdb<5,>=4.0.1->gitpython!=3.1.29,>=1.0.0->wandb>=0.13.5->transformer_lens) (5.0.2)\n"
     ]
    }
   ],
   "source": [
    "# if colab\n",
    "!pip install torch==2.2.0\n",
    "!pip install plotly==5.19.0\n",
    "!pip install numpy==1.26.4\n",
    "!pip install nbformat==5.9.2\n",
    "!pip install kaleido==0.2.1\n",
    "!pip install transformer_lens\n",
    "#!pip install circuitsvis"
   ]
  },
  {
   "cell_type": "code",
   "execution_count": 22,
   "metadata": {
    "colab": {
     "base_uri": "https://localhost:8080/"
    },
    "id": "cCzKBMxqabVU",
    "outputId": "dc6e2967-dd5f-4995-a330-3247c547e0c3"
   },
   "outputs": [
    {
     "data": {
      "text/plain": [
       "<torch.autograd.grad_mode.set_grad_enabled at 0x3319f5d30>"
      ]
     },
     "execution_count": 22,
     "metadata": {},
     "output_type": "execute_result"
    }
   ],
   "source": [
    "# Import libraries\n",
    "import torch as t\n",
    "import sys\n",
    "import os\n",
    "from torch import Tensor\n",
    "import random\n",
    "from functools import partial\n",
    "import importlib\n",
    "import circuitsvis as cv\n",
    "from transformer_lens.hook_points import HookPoint\n",
    "from transformer_lens import utils, HookedTransformer, HookedTransformerConfig, FactoredMatrix, ActivationCache\n",
    "from transformers import AutoTokenizer, AutoModelForCausalLM\n",
    "# Get the current working directory (cwd) instead of __file__ in Jupyter Notebook\n",
    "current_path = os.getcwd()\n",
    "\n",
    "# Add the parent directory to Python's path\n",
    "parent_path = os.path.abspath(os.path.join(current_path, \"../app/\"))\n",
    "sys.path.insert(0, parent_path)\n",
    "\n",
    "# Import your module\n",
    "import importlib\n",
    "from global_variables import IMAGE_DIR, DATASET_DIR\n",
    "from prepare_dataset import SyllogismDataset\n",
    "import helper_functions as h\n",
    "import plot_utils as pu\n",
    "t.set_grad_enabled(False)\n",
    "\n",
    "# Reload the package\n",
    "#importlib.reload(pu)\n",
    "#importlib.reload(h)"
   ]
  },
  {
   "cell_type": "code",
   "execution_count": 23,
   "metadata": {
    "id": "HR5D5WR7abVV"
   },
   "outputs": [],
   "source": [
    "# Device Setup\n",
    "device = t.device(\"cuda\" if t.cuda.is_available() else \"cpu\")\n",
    "device = t.device(\"mps\") # if machine has mps setup"
   ]
  },
  {
   "cell_type": "code",
   "execution_count": 27,
   "metadata": {
    "colab": {
     "base_uri": "https://localhost:8080/",
     "height": 386,
     "referenced_widgets": [
      "58ebdce076cf468fa948d6dd7ff78232",
      "d2f07839e6c4415eb7a799e436a25410",
      "e8263c1da2bd4b51aa2504ba63d9d19e",
      "6c72a02d62be45dbae42bc5d9153094a",
      "ec7d616c83594d0a862dc055c57fd28e",
      "ad4ab812967846448fdfce651ccb7063",
      "c4f9ee72b5334cb7ac457ee2a6736b82",
      "728352875c3649baa6cf7f0d6d89976a",
      "10e9b5626eba404588d5d349909ec486",
      "df5844b17e104330a194d81827e4794d",
      "6f87853b23f3435baf6e6e970d5cf8be",
      "ebed73a5ca29444f99d2ddc0e46d0949",
      "d2aad0ee2e2d48fa91c1f9540e24b89e",
      "b44ba17001474d0eb94a10aa703ae23e",
      "ff5a1c3848dc40689725f0ad4e0c3012",
      "1475f0f84cad4d02aaac885f104e48d9",
      "fcf18127c0fa4aee8994b6a351c8c6c0",
      "fd7144e07cb4411785ecfa7d06c68b45",
      "97ddff9129b34fbca679aeee70a6310c",
      "6d384726355140329f3c9cec99f2b395",
      "33cecec46ab14182840d3396303f229c",
      "fed923aad3244c69b1a17ec51d8380cf",
      "b1fbf0dc5b6b4ca1ba4303f330112122",
      "b42a8c1873cd41ca84c74775f3bc3014",
      "1810e9bf39a64d6e8bd795153bdab947",
      "df2280b11cca4ae3a44ece30aa85fe8a",
      "ff3e10a64e7c4fa690fbd4e1c62221c8",
      "4ce72097fd2d414bae15d314e84c1601",
      "0549de5fea7f43c5bae919e42514e88f",
      "cea3622a112048889abf9790a36a3430",
      "2e4d1feb03464831a39690cca8418e7b",
      "ddfe0041c56d424492e4bdccacb17fe5",
      "8f84e67ce76a4f009dc53961229a3f40",
      "b230a0231c3349b3b78463283b78cbaa",
      "9019b75f46004013ac4c502878108597",
      "cda198e4dca048a283ba5a0db23ffe5f",
      "0a5ac1ac6c55452783252a7a5b3665eb",
      "b3103efc6a9a40df997b20da2c23488c",
      "25c788619b2c497d88e32e6e74697ef3",
      "d9e547160a0d4be1be8cc9af0baa5a0c",
      "d372cc34d5ce40c7ae3aeb53bf56e410",
      "9c83aa96318445b3a705a27a4bf4f7b5",
      "7489ebacd06f46d8a81396c503e86db7",
      "04ef4130edac4e19805114902c6f047d",
      "179347415dc84f1ba67267d2cf808a3b",
      "40d1f18f0ac240dab72ed6c921f93e17",
      "9782344c7d1e4287be6ede79db520a88",
      "da1fa4aa225b48778d1e0f6196ce0323",
      "7070592c7f694442aeb72acc40a4105e",
      "af2f08e8e62d46648d2936fbdbd27f92",
      "aa966b9d9b4d41528b60ccffd9e5ecf4",
      "e7abbf03372d40af9ea192479e73603a",
      "31733f0e8a6c41848b0fe6235bae9195",
      "a0e2039b234c45d0a15f7c7dc2119288",
      "8a1b8930a65d47a2bda487042d92d54b",
      "3f751c0c58404c4c9157a41f6d4c6aa3",
      "1fabef23d47443efbc63e689389bf2f6",
      "2086182957284546aa4866bbf38cb622",
      "61f65572174e4fe58bee89e54804b9fb",
      "2c035786cb5f43cab56db915ebde9cea",
      "622fcaa686cf4c0f8b6fdf6e0ab4fc06",
      "5dc6671fcf844de5b5922a918fd064f2",
      "5547eb66254747ba97fa9ca97a6058de",
      "e7837e02d9ef4f8abf76415df685a193",
      "fc0e190fef7f4f0cbf512f6b66274ce0",
      "50efcb39d43747c6a6b75d4f1a82a905",
      "92cc046da26347febf724c4e777a4d5d",
      "1efe288b09044c59a1a61567fea01381",
      "5122e29250c14689b0e3798d301bd8d9",
      "21a1664eed0a43699dd839eef5dfcdef",
      "3cb013ab69c74952af3fe8ec62e9240d",
      "f0fe9f8a17e74f54924bc7daafc0e890",
      "4aece1edc32649f7be3a032f09bec1d9",
      "162defd82a544996a9246503f1d87d8e",
      "ed7d15352a7a4ff5acc67e2a70712074",
      "f3ec5fb56caf4ba3a99e209736014428",
      "1d8fa38139fd46a1b907e58c8f492cee"
     ]
    },
    "id": "t9VL-KKbabVV",
    "outputId": "9e0c8905-56eb-4e4a-a3fa-51a982fbc194"
   },
   "outputs": [
    {
     "name": "stdout",
     "output_type": "stream",
     "text": [
      "Loaded pretrained model gpt2-medium into HookedTransformer\n",
      "Loaded pretrained model pythia-410m into HookedTransformer\n"
     ]
    }
   ],
   "source": [
    "# Import the model-medium Through HookedTransformer\n",
    "gpt2 = [\"gpt2-small\", \"gpt2-medium\", \"gpt2-large\", \"gpt2-xl\"]\n",
    "pythia = \"pythia-410m\"\n",
    "\n",
    "current_model = gpt2[1] # medium\n",
    "current_model_2 = pythia\n",
    "\n",
    "model = HookedTransformer.from_pretrained(\n",
    "    current_model,\n",
    "    fold_ln=False,\n",
    "    device = device\n",
    ")\n",
    "\n",
    "model2 = HookedTransformer.from_pretrained(\n",
    "    current_model_2,\n",
    "    fold_ln=False,\n",
    "    device = device\n",
    ")"
   ]
  },
  {
   "cell_type": "code",
   "execution_count": 33,
   "metadata": {},
   "outputs": [],
   "source": [
    "# if fine-tuned model is used\n",
    "# model_name = \"DebateLabKIT/cript-medium\"  # Example: 'bert-base-uncased', 'gpt2', etc.\n",
    "# f_tokenizer = AutoTokenizer.from_pretrained(model_name)\n",
    "# f_model = AutoModelForCausalLM.from_pretrained(model_name)\n",
    "# f_model = f_model.to(device)\n",
    "\n",
    "# model = h.align_fine_tuning_gpt2(model, f_model, device)\n",
    "\n",
    "# current_model = \"cript-medium\""
   ]
  },
  {
   "cell_type": "code",
   "execution_count": 28,
   "metadata": {
    "id": "rN5_robqabVV"
   },
   "outputs": [
    {
     "name": "stdout",
     "output_type": "stream",
     "text": [
      "Image Directory: ../images/gpt-2_vs_pythia\n"
     ]
    }
   ],
   "source": [
    "# label setup for sequence\n",
    "image_dir = IMAGE_DIR / \"gpt-2_vs_pythia\"\n",
    "print(f\"Image Directory: {image_dir}\")\n",
    "labels = [\n",
    "    \"BEGIN\",\n",
    "    \"s_1\",\n",
    "    \"s_1 -> m_1\",\n",
    "    \"m_1\",\n",
    "    \"m_1 -> m_2\",\n",
    "    \"m_2\",\n",
    "    \"m_2 -> p\",\n",
    "    \"p\",\n",
    "    \"p -> s_2\",\n",
    "    \"s_2\",\n",
    "    \"END\"\n",
    "]"
   ]
  },
  {
   "cell_type": "markdown",
   "metadata": {
    "id": "UoHnar8YabVW"
   },
   "source": [
    "# 2. Dataset"
   ]
  },
  {
   "cell_type": "code",
   "execution_count": 29,
   "metadata": {
    "id": "tEucO8PWabVW"
   },
   "outputs": [],
   "source": [
    "# Ensure the Dataset folder and dataset_generator.py file is in the same directory as this notebook\n",
    "# This file contains the custom data generation functions used in our experiments\n",
    "# 90 samples for each dataset, seed is set to 317 for reproducibility\n",
    "N = 30\n",
    "seed = 317"
   ]
  },
  {
   "cell_type": "code",
   "execution_count": 30,
   "metadata": {
    "colab": {
     "base_uri": "https://localhost:8080/"
    },
    "id": "O31NI6OHabVW",
    "outputId": "22a871e0-5139-4662-c330-ec989b760e69"
   },
   "outputs": [
    {
     "name": "stdout",
     "output_type": "stream",
     "text": [
      "All O are A. All A are W. Therefore, all O are =>  W\n",
      "All O are W. All W are A. Therefore, all O are =>  A\n",
      "All A are O. All O are W. Therefore, all A are =>  W\n",
      "All A are W. All W are O. Therefore, all A are =>  O\n",
      "All W are O. All O are A. Therefore, all W are =>  A\n",
      "All W are A. All A are O. Therefore, all W are =>  O\n"
     ]
    }
   ],
   "source": [
    "# Symbolic\n",
    "s_dataset = SyllogismDataset(\n",
    "            N=N/6, # because of permutation\n",
    "            seed=seed,\n",
    "            device=device,\n",
    "            type='symbolic',\n",
    "            template_type='AAA1'\n",
    "        )\n",
    "for s, l in zip(s_dataset.sentences[:6], s_dataset.labels[:6]):\n",
    "    print(f'{s} => {l}')"
   ]
  },
  {
   "cell_type": "code",
   "execution_count": 31,
   "metadata": {
    "colab": {
     "base_uri": "https://localhost:8080/"
    },
    "id": "q21_0M8kabVW",
    "outputId": "a0aa2d32-ae5f-4b15-adb0-63180df873c1"
   },
   "outputs": [
    {
     "data": {
      "text/plain": [
       "30"
      ]
     },
     "execution_count": 31,
     "metadata": {},
     "output_type": "execute_result"
    }
   ],
   "source": [
    "len(s_dataset.sentences)"
   ]
  },
  {
   "cell_type": "code",
   "execution_count": 32,
   "metadata": {
    "colab": {
     "base_uri": "https://localhost:8080/"
    },
    "id": "GQQQqZtRabVX",
    "outputId": "02d515dd-f45f-4434-8423-e74f7d5db4dc"
   },
   "outputs": [
    {
     "name": "stdout",
     "output_type": "stream",
     "text": [
      "All men are humans. All humans are mortal. Therefore, all men are =>  mortal\n",
      "All dens are units. All units are parts. Therefore, all dens are =>  parts\n",
      "All pets are animals. All animals are organisms. Therefore, all pets are =>  organisms\n",
      "All openings are starts. All starts are beginnings. Therefore, all openings are =>  beginnings\n",
      "All fronts are sides. All sides are surfaces. Therefore, all fronts are =>  surfaces\n",
      "All fences are boundaries. All boundaries are lines. Therefore, all fences are =>  lines\n"
     ]
    }
   ],
   "source": [
    "# Belief-Consistent\n",
    "bc_dataset = SyllogismDataset(\n",
    "            N=N,\n",
    "            seed=seed,\n",
    "            device=device,\n",
    "            type='consistent',\n",
    "            template_type='AAA1'\n",
    "        )\n",
    "for s, l in zip(bc_dataset.sentences[:6], bc_dataset.labels[:6]):\n",
    "    print(f'{s} => {l}')"
   ]
  },
  {
   "cell_type": "code",
   "execution_count": 33,
   "metadata": {
    "colab": {
     "base_uri": "https://localhost:8080/"
    },
    "id": "ht-U-pU0abVX",
    "outputId": "7373088c-ecf2-4534-cfb3-5f300dcebed6"
   },
   "outputs": [
    {
     "name": "stdout",
     "output_type": "stream",
     "text": [
      "All patients are cases. All cases are arguments. Therefore, all patients are =>  arguments\n",
      "All allegations are claims. All claims are rights. Therefore, all allegations are =>  rights\n",
      "All wards are people. All people are judges. Therefore, all wards are =>  judges\n",
      "All losers are people. All people are racists. Therefore, all losers are =>  racists\n",
      "All aliens are people. All people are parents. Therefore, all aliens are =>  parents\n",
      "All expectations are feelings. All feelings are sensitivity. Therefore, all expectations are =>  sensitivity\n"
     ]
    }
   ],
   "source": [
    "# Belief-Inconsistent\n",
    "bi_dataset = SyllogismDataset(\n",
    "            N=N,\n",
    "            seed=seed,\n",
    "            device=device,\n",
    "            type='inconsistent',\n",
    "            template_type='AAA1'\n",
    "        )\n",
    "for s, l in zip(bi_dataset.sentences[:6], bi_dataset.labels[:6]):\n",
    "    print(f'{s} => {l}')"
   ]
  },
  {
   "cell_type": "markdown",
   "metadata": {
    "id": "WnwBaIfXabVX"
   },
   "source": [
    "# 3. Empirical Evaluation Part"
   ]
  },
  {
   "cell_type": "markdown",
   "metadata": {
    "id": "oDL0yrbNabVX"
   },
   "source": [
    "## Localization of Transitive Reasoning Mechanisms"
   ]
  },
  {
   "cell_type": "code",
   "execution_count": 104,
   "metadata": {
    "id": "Ri84ktKTabVX"
   },
   "outputs": [],
   "source": [
    "# corruption function setup\n",
    "ALPHABET_LIST = [' A', ' B', ' C', ' D', ' E', ' F', ' G', ' H', ' I', ' J', ' K', ' L', ' M', ' N', ' O', ' P', ' Q', ' R', ' S', ' T', ' U', ' V', ' W', ' X', ' Y', ' Z']\n",
    "NUMBER_LIST = [' 1', ' 2', ' 3', ' 4', ' 5',' 6',' 7',' 8',' 9']\n",
    "def middle_term_corrupt(prompts, As, Bs, labels, prompt_type):\n",
    "    if prompt_type == 'symbolic':\n",
    "        candidates = ALPHABET_LIST\n",
    "    elif prompt_type == 'numeric':\n",
    "        candidates = NUMBER_LIST\n",
    "    elif prompt_type == 'non-symbolic':\n",
    "        candidates = bc_dataset.A + bc_dataset.B\n",
    "\n",
    "    corrupted_prompts = []\n",
    "\n",
    "    for i in range(len(prompts)):\n",
    "        prompt = prompts[i]\n",
    "        label = labels[i]\n",
    "        corrupted_labels = []\n",
    "        A = As[i]\n",
    "        B = Bs[i]\n",
    "\n",
    "        new_list = list(filter(lambda x: x not in [A, B, label], candidates))\n",
    "        target = random.choice(new_list)\n",
    "        corrupted_prompt = prompt.replace('All' + B , 'All'+ target)\n",
    "        corrupted_prompts.append(corrupted_prompt)\n",
    "        corrupted_labels.append(target)\n",
    "\n",
    "    return corrupted_prompts\n",
    "\n",
    "\n",
    "def all_term_corrupt(prompts, As, Bs, labels, prompt_type):\n",
    "    if prompt_type == 'symbolic':\n",
    "        candidates = ALPHABET_LIST\n",
    "    elif prompt_type == 'numeric':\n",
    "        candidates = NUMBER_LIST\n",
    "    elif prompt_type == 'non-symbolic':\n",
    "        candidates = bc_dataset.A + bc_dataset.B\n",
    "\n",
    "    corrupted_prompts = []\n",
    "    for i in range(len(prompts)):\n",
    "        prompt = prompts[i]\n",
    "        label = labels[i]\n",
    "        A = As[i]\n",
    "        B = Bs[i]\n",
    "        new_list = list(filter(lambda x: x not in [A, B, label], candidates))\n",
    "        target = random.sample(new_list, 3)\n",
    "        corrupted_prompt = 'All' + target[0] + ' are' + target[1] + '. All' + target[1] + ' are' + target[2] + '. Therefore, all' + target[0] + ' are'\n",
    "        corrupted_prompts.append(corrupted_prompt)\n",
    "    return corrupted_prompts\n",
    "\n"
   ]
  },
  {
   "cell_type": "code",
   "execution_count": 105,
   "metadata": {
    "colab": {
     "base_uri": "https://localhost:8080/"
    },
    "id": "JTSNV9e6abVX",
    "outputId": "f672d085-0f71-4c37-9bcd-8c5e86bf4a9b"
   },
   "outputs": [
    {
     "name": "stdout",
     "output_type": "stream",
     "text": [
      "All O are A. All A are W. Therefore, all O are  W  A\n",
      "All O are W. All W are A. Therefore, all O are  A  W\n",
      "All A are O. All O are W. Therefore, all A are  W  O\n",
      "All A are W. All W are O. Therefore, all A are  O  W\n",
      "All W are O. All O are A. Therefore, all W are  A  O\n",
      "All W are A. All A are O. Therefore, all W are  O  A\n"
     ]
    }
   ],
   "source": [
    "# answer pair setting (p, m)\n",
    "s_prompts = s_dataset.sentences\n",
    "s_labels = s_dataset.labels\n",
    "s_second_labels = s_dataset.B\n",
    "s_As = s_dataset.A\n",
    "s_Bs = s_dataset.B\n",
    "\n",
    "s_answers = list(zip(s_labels, s_second_labels))\n",
    "s_answer_tokens = t.concat([\n",
    "    model.to_tokens(names, prepend_bos=False).T for names in s_answers\n",
    "])\n",
    "for prompt, (p, m) in zip(s_prompts[:6], s_answers):\n",
    "    print(prompt, p, m)"
   ]
  },
  {
   "cell_type": "code",
   "execution_count": 106,
   "metadata": {
    "id": "KOgRhqo5abVX"
   },
   "outputs": [],
   "source": [
    "# Corruption and tokenization\n",
    "s_corrupted_prompts = middle_term_corrupt(s_prompts, s_As, s_Bs, s_labels, 'symbolic')\n",
    "\n",
    "s_tokens = model.to_tokens(s_prompts, prepend_bos=False).to(device)\n",
    "s_corrupted_tokens = model.to_tokens(s_corrupted_prompts, prepend_bos=False).to(device)"
   ]
  },
  {
   "cell_type": "code",
   "execution_count": 107,
   "metadata": {
    "colab": {
     "base_uri": "https://localhost:8080/"
    },
    "id": "JRSKR79babVX",
    "outputId": "bf80002d-fa03-47e5-e8d3-9246c612c334"
   },
   "outputs": [
    {
     "name": "stdout",
     "output_type": "stream",
     "text": [
      "Clean logit diff: 0.5280\n",
      "Corrupted logit diff: -0.4590\n"
     ]
    }
   ],
   "source": [
    "# Compute logits for interventions\n",
    "s_clean_logits, s_clean_cache = model.run_with_cache(s_tokens)\n",
    "s_corrupted_logits, s_corrupted_cache = model.run_with_cache(s_corrupted_tokens)\n",
    "\n",
    "s_clean_logit_diff = h.compute_logit_diff(s_clean_logits, s_answer_tokens)\n",
    "print(f\"Clean logit diff: {s_clean_logit_diff:.4f}\")\n",
    "\n",
    "s_corrupted_logit_diff = h.compute_logit_diff(s_corrupted_logits, s_answer_tokens)\n",
    "print(f\"Corrupted logit diff: {s_corrupted_logit_diff:.4f}\")"
   ]
  },
  {
   "cell_type": "code",
   "execution_count": 108,
   "metadata": {},
   "outputs": [
    {
     "name": "stdout",
     "output_type": "stream",
     "text": [
      "All O are A. All A are W. Therefore, all O are  W  A\n",
      "All O are W. All W are A. Therefore, all O are  A  W\n",
      "All A are O. All O are W. Therefore, all A are  W  O\n",
      "All A are W. All W are O. Therefore, all A are  O  W\n",
      "All W are O. All O are A. Therefore, all W are  A  O\n",
      "All W are A. All A are O. Therefore, all W are  O  A\n",
      "Clean logit diff: 0.8832\n",
      "Corrupted logit diff: -0.2000\n"
     ]
    }
   ],
   "source": [
    "# for pythia\n",
    "s_prompts = s_dataset.sentences\n",
    "s_labels = s_dataset.labels\n",
    "s_second_labels = s_dataset.B\n",
    "s_As = s_dataset.A\n",
    "s_Bs = s_dataset.B\n",
    "\n",
    "s_answers = list(zip(s_labels, s_second_labels))\n",
    "s_answer_tokens_2 = t.concat([\n",
    "    model2.to_tokens(names, prepend_bos=False).T for names in s_answers\n",
    "])\n",
    "for prompt, (p, m) in zip(s_prompts[:6], s_answers):\n",
    "    print(prompt, p, m)\n",
    "# Corruption and tokenization\n",
    "s_corrupted_prompts = middle_term_corrupt(s_prompts, s_As, s_Bs, s_labels, 'symbolic')\n",
    "\n",
    "s_tokens_2 = model2.to_tokens(s_prompts, prepend_bos=False).to(device)\n",
    "s_corrupted_tokens_2 = model2.to_tokens(s_corrupted_prompts, prepend_bos=False).to(device)\n",
    "# Compute logits for interventions\n",
    "s_clean_logits_2, s_clean_cache_2 = model2.run_with_cache(s_tokens_2)\n",
    "s_corrupted_logits_2, s_corrupted_cache_2 = model2.run_with_cache(s_corrupted_tokens_2)\n",
    "\n",
    "s_clean_logit_diff_2 = h.compute_logit_diff(s_clean_logits_2, s_answer_tokens_2)\n",
    "print(f\"Clean logit diff: {s_clean_logit_diff_2:.4f}\")\n",
    "\n",
    "s_corrupted_logit_diff_2 = h.compute_logit_diff(s_corrupted_logits_2, s_answer_tokens_2)\n",
    "print(f\"Corrupted logit diff: {s_corrupted_logit_diff_2:.4f}\")"
   ]
  },
  {
   "cell_type": "markdown",
   "metadata": {
    "id": "6hQJhmk-abVY"
   },
   "source": [
    "### Figure 4(a) attention head output patching"
   ]
  },
  {
   "cell_type": "code",
   "execution_count": 109,
   "metadata": {
    "colab": {
     "base_uri": "https://localhost:8080/"
    },
    "id": "wUBgplJ2abVY",
    "outputId": "4464eaf7-0f30-4d23-8637-ff36646dd570"
   },
   "outputs": [
    {
     "name": "stderr",
     "output_type": "stream",
     "text": [
      "100%|██████████| 24/24 [01:44<00:00,  4.36s/it]\n"
     ]
    }
   ],
   "source": [
    "s_attn_denoising = h.patching_attention(model, s_corrupted_tokens, s_clean_cache, h.metric_denoising, s_answer_tokens, s_clean_logit_diff, s_corrupted_logit_diff, 'z', device)"
   ]
  },
  {
   "cell_type": "code",
   "execution_count": 110,
   "metadata": {
    "colab": {
     "base_uri": "https://localhost:8080/",
     "height": 317
    },
    "id": "FwiTxSDTabVY",
    "outputId": "30dd5f8f-afc7-49ac-a22c-3b952301d9f3"
   },
   "outputs": [
    {
     "name": "stdout",
     "output_type": "stream",
     "text": [
      "Plot saved to ../images/gpt-2_vs_pythia/symbolic_denoising.png\n"
     ]
    },
    {
     "data": {
      "application/vnd.plotly.v1+json": {
       "config": {
        "plotlyServerURL": "https://plot.ly"
       },
       "data": [
        {
         "coloraxis": "coloraxis",
         "hovertemplate": "Head: %{x}<br>Layer: %{y}<br>color: %{z}<extra></extra>",
         "name": "0",
         "type": "heatmap",
         "xaxis": "x",
         "yaxis": "y",
         "z": [
          [
           0.00204683025367558,
           0.006905024871230125,
           0.001606603735126555,
           0.0008133164956234396,
           -0.0021590504329651594,
           -0.009002172388136387,
           -0.004436043091118336,
           0.0002446090802550316,
           0.0005900627584196627,
           -0.008985074236989021,
           -0.009360886178910732,
           -0.004635219927877188,
           -0.000553144549485296,
           -0.002629425609484315,
           -0.0015952280955389142,
           -0.001963083865121007
          ],
          [
           -0.0037113584112375975,
           0.0022505430970340967,
           0.006218025926500559,
           -0.00020475978089962155,
           0.018862396478652954,
           0.0015856670215725899,
           -0.0016084180679172277,
           -0.0014391110744327307,
           0.0018554000416770577,
           -0.006359138526022434,
           -0.00020566704915836453,
           0.0019460554467514157,
           0.000202247392735444,
           0.002250682795420289,
           0.0034213170874863863,
           -0.0017401791410520673
          ],
          [
           0.0000755112778278999,
           -0.0002517973189242184,
           -0.0036740913055837154,
           0.0010284747695550323,
           -0.015871675685048103,
           -0.0008007545256987214,
           0.0006895812693983316,
           0.005589021369814873,
           0.0017001901287585497,
           -0.001199666177853942,
           0.0011115929810330272,
           0.00043129362165927887,
           -0.0008291584672406316,
           0.002893645316362381,
           0.012341837398707867,
           -0.014859949238598347
          ],
          [
           0.005099593661725521,
           0.0042619905434548855,
           0.0018521897727623582,
           -0.004309516400098801,
           -0.010083128698170185,
           -0.0068986741825938225,
           0.00598535081371665,
           0.002698167460039258,
           0.0021171073894947767,
           -0.0043787467293441296,
           -0.0037171507719904184,
           -0.002217463217675686,
           -0.0008972721989266574,
           -0.002066301181912422,
           0.00010042581561719999,
           -0.0010883534559980035
          ],
          [
           -0.0032298865262418985,
           -0.018855907022953033,
           -0.003766212146729231,
           0.0003869778593070805,
           -0.0009045301703736186,
           -0.0019521270878612995,
           0.03603660687804222,
           -0.0007890998385846615,
           0.004112572874873877,
           -0.0017485537100583315,
           0.017840759828686714,
           0.011655675247311592,
           0.007882344536483288,
           -0.027985721826553345,
           -0.00621160538867116,
           -0.015148874372243881
          ],
          [
           -0.0022328170016407967,
           0.0026207021437585354,
           0.004927913658320904,
           -0.007436744403094053,
           -0.0007456215680576861,
           -0.008232822641730309,
           0.0010478759650141,
           -0.0033935410901904106,
           0.09008397907018661,
           0.0031024529598653316,
           -0.004335547797381878,
           -0.004133020993322134,
           -0.0047211297787725925,
           -0.015020393766462803,
           -0.002157235750928521,
           -0.005854915361851454
          ],
          [
           -0.011031904257833958,
           0.043531905859708786,
           0.0007244058069773018,
           -0.006680584978312254,
           0.0318157933652401,
           -0.01795353926718235,
           -0.013142033480107784,
           0.027976231649518013,
           -0.004653853829950094,
           -0.0030959625728428364,
           -0.02956085093319416,
           0.011735443957149982,
           -0.00793426763266325,
           0.00022527763212565333,
           0.03799424692988396,
           0.12855976819992065
          ],
          [
           0.07857897132635117,
           -0.00012324668932706118,
           0.08671695739030838,
           -0.004247055854648352,
           -0.0341070219874382,
           0.0012216496979817748,
           0.020970501005649567,
           -0.015362846665084362,
           -0.0006878365529701114,
           -0.021159905940294266,
           -0.01420693751424551,
           0.02117191068828106,
           0.05934621021151543,
           0.060767944902181625,
           0.003135532606393099,
           -0.001249216147698462
          ],
          [
           -0.006176082417368889,
           0.07323435693979263,
           -0.0005845493869856,
           0.00873223040252924,
           -0.015485953539609909,
           -0.031810276210308075,
           -0.013580165803432465,
           -0.0040095653384923935,
           -0.006758468691259623,
           0.020495310425758362,
           0.08478960394859314,
           -0.013323762454092503,
           0.002493477426469326,
           0.019546952098608017,
           -0.018056407570838928,
           0.04892146959900856
          ],
          [
           -0.0215974822640419,
           0.00619059894233942,
           -0.003087378339841962,
           0.09197643399238586,
           -0.01666880026459694,
           0.013631181791424751,
           0.02775360457599163,
           0.004055416211485863,
           -0.0037976170424371958,
           0.007522165775299072,
           0.0052339364774525166,
           0.007960228249430656,
           0.0020513664931058884,
           -0.02204468846321106,
           0.0254509299993515,
           0.008354254998266697
          ],
          [
           0.06230825185775757,
           0.10300498455762863,
           -0.00032828564872033894,
           0.024435365572571754,
           0.1617491990327835,
           -0.001356830238364637,
           0.04552743583917618,
           0.0026170730125159025,
           0.039491210132837296,
           0.01385122537612915,
           0.03933509439229965,
           -0.023864423856139183,
           -0.008062748238444328,
           -0.06149737909436226,
           0.17032335698604584,
           -0.0006176989991217852
          ],
          [
           -0.017075249925255775,
           -0.05920160934329033,
           -0.008865037932991982,
           0.034247785806655884,
           -0.05439506098628044,
           -0.007591744884848595,
           -0.06336010247468948,
           -0.0025033175479620695,
           -0.0013984242687001824,
           -0.07108235359191895,
           0.8316665887832642,
           -0.017625952139496803,
           0.00794752687215805,
           -0.005095755215734243,
           0.03745715320110321,
           -0.002295068232342601
          ],
          [
           -0.008986121043562889,
           0.0031142469961196184,
           0.04834801331162453,
           0.13536088168621063,
           -0.01857905462384224,
           -0.0756382867693901,
           0.012029532343149185,
           -0.008883532136678696,
           0.1253427267074585,
           -0.045140739530324936,
           0.0322091206908226,
           -0.010142937302589417,
           0.04473596811294556,
           0.05125477910041809,
           -0.009377077221870422,
           0.16776855289936066
          ],
          [
           0.01706436276435852,
           -0.013517705723643303,
           0.03373895585536957,
           0.005997424013912678,
           0.020422449335455894,
           0.11871880292892456,
           -0.009683029726147652,
           -0.11549630761146545,
           -0.00017593707889318466,
           -0.039438940584659576,
           -0.002726222388446331,
           0.009428650140762329,
           0.07476524263620377,
           0.01694376766681671,
           -0.0021056621335446835,
           -0.005067978985607624
          ],
          [
           -0.004628660157322884,
           -0.011493905447423458,
           -0.006499413400888443,
           0.0024434388615190983,
           -0.049371395260095596,
           0.0234318058937788,
           -0.006623916327953339,
           -0.009713108651340008,
           -0.004814158193767071,
           -0.0401800274848938,
           0.021704047918319702,
           0.03704595938324928,
           0.040169838815927505,
           -0.029546614736318588,
           0.06672678142786026,
           -0.013325019739568233
          ],
          [
           -0.0008305542287416756,
           0.03363657370209694,
           -0.00007348740473389626,
           0.007051999680697918,
           -0.004878642503172159,
           0.01718488708138466,
           0.0038412350695580244,
           -0.008073635399341583,
           0.2369021326303482,
           -0.0049076746217906475,
           0.0292124655097723,
           -0.002427457133308053,
           -0.0050796340219676495,
           0.00883405189961195,
           0.26698631048202515,
           -0.02135796844959259
          ],
          [
           0.016474300995469093,
           -0.009096945635974407,
           -0.0035743634216487408,
           0.002673462266102433,
           0.004211603198200464,
           -0.02072882279753685,
           0.06095965579152107,
           0.02543020248413086,
           0.008419856429100037,
           0.00014683524204883724,
           -0.0023581571877002716,
           0.0022969525307416916,
           0.005595860071480274,
           -0.0011921291006729007,
           -0.01573726162314415,
           0.007390335202217102
          ],
          [
           0.012096251361072063,
           -0.005571992602199316,
           0.00620043883100152,
           0.0009984656935557723,
           -0.10353203117847443,
           -0.002391934860497713,
           0.0017674663104116917,
           0.015499004162847996,
           0.04545220732688904,
           0.0037647467106580734,
           -0.009042859077453613,
           -0.01733263023197651,
           0.19537273049354553,
           -0.005169591400772333,
           -0.0008094083168543875,
           -0.016467319801449776
          ],
          [
           -0.0011939435498788953,
           -0.010175109840929508,
           -0.0003043481265194714,
           -0.02477886527776718,
           0.0008115717791952193,
           0.004869918804615736,
           0.004592090379446745,
           -0.0017479953821748495,
           -0.019079577177762985,
           -0.019276103004813194,
           0.013209658674895763,
           -0.07012185454368591,
           0.037873443216085434,
           -0.001601299736648798,
           0.0016678081592544913,
           0.001990929478779435
          ],
          [
           -0.011188649572432041,
           1,
           -0.013458384200930595,
           0.0036960048601031303,
           0.0010401993058621883,
           -0.001521740690805018,
           -0.0008119206759147346,
           0.015508843585848808,
           -0.00659369770437479,
           -0.025710614398121834,
           0.0009479387663304806,
           0.003518741810694337,
           0.02401956543326378,
           -0.08423931896686554,
           -0.0008431162568740547,
           0.00030420857365243137
          ],
          [
           0.0027817043010145426,
           0.0009204420493915677,
           0.00496580870822072,
           -0.0005778497434221208,
           -0.012228221632540226,
           0.026638174429535866,
           -0.0009741094545461237,
           0.07053534686565399,
           0.0023400122299790382,
           -0.0006941872998140752,
           0.03840585798025131,
           0.001936703803949058,
           -0.003959736321121454,
           0.004114317707717419,
           0.0029723667539656162,
           0.009451751597225666
          ],
          [
           -0.00010677657701307908,
           0.0005599838332273066,
           0.0019875098951160908,
           0.0006179781630635262,
           -0.0558464489877224,
           -0.03579751029610634,
           0.009013338945806026,
           0.16388417780399323,
           -0.003434786107391119,
           0.00749159837141633,
           0.034151338040828705,
           0.08315606415271759,
           -0.0016683664871379733,
           0.0006487549399025738,
           0.001909137237817049,
           0.0024375070352107286
          ],
          [
           -0.00879664532840252,
           0.001942217000760138,
           0.00202945270575583,
           0.004378816578537226,
           -0.00006364721775753424,
           -0.05149910971522331,
           0.004535980522632599,
           0.03247208520770073,
           -0.0033515281975269318,
           0.002304699271917343,
           0.000664666760712862,
           0.00264973402954638,
           0.0019685274455696344,
           0.012207494117319584,
           -0.15497392416000366,
           0.005467030219733715
          ],
          [
           0.0016027651727199554,
           0.0035532175097614527,
           0.0017752826679497957,
           0.01801006868481636,
           0.003152072662487626,
           -0.0016853950219228864,
           0.0033173318952322006,
           -0.05115065723657608,
           0.024829741567373276,
           0.0032074146438390017,
           -0.44424882531166077,
           0.007742348592728376,
           -0.0033474804367870092,
           0.05128178745508194,
           0.000475539593026042,
           0.0014208961511030793
          ]
         ]
        }
       ],
       "layout": {
        "coloraxis": {
         "cmid": 0,
         "colorbar": {
          "len": 1,
          "lenmode": "fraction",
          "thickness": 10,
          "thicknessmode": "pixels",
          "title": {
           "text": "𝑆"
          }
         },
         "colorscale": [
          [
           0,
           "rgb(103,0,31)"
          ],
          [
           0.1,
           "rgb(178,24,43)"
          ],
          [
           0.2,
           "rgb(214,96,77)"
          ],
          [
           0.3,
           "rgb(244,165,130)"
          ],
          [
           0.4,
           "rgb(253,219,199)"
          ],
          [
           0.5,
           "rgb(247,247,247)"
          ],
          [
           0.6,
           "rgb(209,229,240)"
          ],
          [
           0.7,
           "rgb(146,197,222)"
          ],
          [
           0.8,
           "rgb(67,147,195)"
          ],
          [
           0.9,
           "rgb(33,102,172)"
          ],
          [
           1,
           "rgb(5,48,97)"
          ]
         ]
        },
        "font": {
         "color": "black",
         "size": 12
        },
        "height": 300,
        "margin": {
         "b": 10,
         "l": 10,
         "r": 10,
         "t": 10
        },
        "template": {
         "data": {
          "bar": [
           {
            "error_x": {
             "color": "#2a3f5f"
            },
            "error_y": {
             "color": "#2a3f5f"
            },
            "marker": {
             "line": {
              "color": "#E5ECF6",
              "width": 0.5
             },
             "pattern": {
              "fillmode": "overlay",
              "size": 10,
              "solidity": 0.2
             }
            },
            "type": "bar"
           }
          ],
          "barpolar": [
           {
            "marker": {
             "line": {
              "color": "#E5ECF6",
              "width": 0.5
             },
             "pattern": {
              "fillmode": "overlay",
              "size": 10,
              "solidity": 0.2
             }
            },
            "type": "barpolar"
           }
          ],
          "carpet": [
           {
            "aaxis": {
             "endlinecolor": "#2a3f5f",
             "gridcolor": "white",
             "linecolor": "white",
             "minorgridcolor": "white",
             "startlinecolor": "#2a3f5f"
            },
            "baxis": {
             "endlinecolor": "#2a3f5f",
             "gridcolor": "white",
             "linecolor": "white",
             "minorgridcolor": "white",
             "startlinecolor": "#2a3f5f"
            },
            "type": "carpet"
           }
          ],
          "choropleth": [
           {
            "colorbar": {
             "outlinewidth": 0,
             "ticks": ""
            },
            "type": "choropleth"
           }
          ],
          "contour": [
           {
            "colorbar": {
             "outlinewidth": 0,
             "ticks": ""
            },
            "colorscale": [
             [
              0,
              "#0d0887"
             ],
             [
              0.1111111111111111,
              "#46039f"
             ],
             [
              0.2222222222222222,
              "#7201a8"
             ],
             [
              0.3333333333333333,
              "#9c179e"
             ],
             [
              0.4444444444444444,
              "#bd3786"
             ],
             [
              0.5555555555555556,
              "#d8576b"
             ],
             [
              0.6666666666666666,
              "#ed7953"
             ],
             [
              0.7777777777777778,
              "#fb9f3a"
             ],
             [
              0.8888888888888888,
              "#fdca26"
             ],
             [
              1,
              "#f0f921"
             ]
            ],
            "type": "contour"
           }
          ],
          "contourcarpet": [
           {
            "colorbar": {
             "outlinewidth": 0,
             "ticks": ""
            },
            "type": "contourcarpet"
           }
          ],
          "heatmap": [
           {
            "colorbar": {
             "outlinewidth": 0,
             "ticks": ""
            },
            "colorscale": [
             [
              0,
              "#0d0887"
             ],
             [
              0.1111111111111111,
              "#46039f"
             ],
             [
              0.2222222222222222,
              "#7201a8"
             ],
             [
              0.3333333333333333,
              "#9c179e"
             ],
             [
              0.4444444444444444,
              "#bd3786"
             ],
             [
              0.5555555555555556,
              "#d8576b"
             ],
             [
              0.6666666666666666,
              "#ed7953"
             ],
             [
              0.7777777777777778,
              "#fb9f3a"
             ],
             [
              0.8888888888888888,
              "#fdca26"
             ],
             [
              1,
              "#f0f921"
             ]
            ],
            "type": "heatmap"
           }
          ],
          "heatmapgl": [
           {
            "colorbar": {
             "outlinewidth": 0,
             "ticks": ""
            },
            "colorscale": [
             [
              0,
              "#0d0887"
             ],
             [
              0.1111111111111111,
              "#46039f"
             ],
             [
              0.2222222222222222,
              "#7201a8"
             ],
             [
              0.3333333333333333,
              "#9c179e"
             ],
             [
              0.4444444444444444,
              "#bd3786"
             ],
             [
              0.5555555555555556,
              "#d8576b"
             ],
             [
              0.6666666666666666,
              "#ed7953"
             ],
             [
              0.7777777777777778,
              "#fb9f3a"
             ],
             [
              0.8888888888888888,
              "#fdca26"
             ],
             [
              1,
              "#f0f921"
             ]
            ],
            "type": "heatmapgl"
           }
          ],
          "histogram": [
           {
            "marker": {
             "pattern": {
              "fillmode": "overlay",
              "size": 10,
              "solidity": 0.2
             }
            },
            "type": "histogram"
           }
          ],
          "histogram2d": [
           {
            "colorbar": {
             "outlinewidth": 0,
             "ticks": ""
            },
            "colorscale": [
             [
              0,
              "#0d0887"
             ],
             [
              0.1111111111111111,
              "#46039f"
             ],
             [
              0.2222222222222222,
              "#7201a8"
             ],
             [
              0.3333333333333333,
              "#9c179e"
             ],
             [
              0.4444444444444444,
              "#bd3786"
             ],
             [
              0.5555555555555556,
              "#d8576b"
             ],
             [
              0.6666666666666666,
              "#ed7953"
             ],
             [
              0.7777777777777778,
              "#fb9f3a"
             ],
             [
              0.8888888888888888,
              "#fdca26"
             ],
             [
              1,
              "#f0f921"
             ]
            ],
            "type": "histogram2d"
           }
          ],
          "histogram2dcontour": [
           {
            "colorbar": {
             "outlinewidth": 0,
             "ticks": ""
            },
            "colorscale": [
             [
              0,
              "#0d0887"
             ],
             [
              0.1111111111111111,
              "#46039f"
             ],
             [
              0.2222222222222222,
              "#7201a8"
             ],
             [
              0.3333333333333333,
              "#9c179e"
             ],
             [
              0.4444444444444444,
              "#bd3786"
             ],
             [
              0.5555555555555556,
              "#d8576b"
             ],
             [
              0.6666666666666666,
              "#ed7953"
             ],
             [
              0.7777777777777778,
              "#fb9f3a"
             ],
             [
              0.8888888888888888,
              "#fdca26"
             ],
             [
              1,
              "#f0f921"
             ]
            ],
            "type": "histogram2dcontour"
           }
          ],
          "mesh3d": [
           {
            "colorbar": {
             "outlinewidth": 0,
             "ticks": ""
            },
            "type": "mesh3d"
           }
          ],
          "parcoords": [
           {
            "line": {
             "colorbar": {
              "outlinewidth": 0,
              "ticks": ""
             }
            },
            "type": "parcoords"
           }
          ],
          "pie": [
           {
            "automargin": true,
            "type": "pie"
           }
          ],
          "scatter": [
           {
            "fillpattern": {
             "fillmode": "overlay",
             "size": 10,
             "solidity": 0.2
            },
            "type": "scatter"
           }
          ],
          "scatter3d": [
           {
            "line": {
             "colorbar": {
              "outlinewidth": 0,
              "ticks": ""
             }
            },
            "marker": {
             "colorbar": {
              "outlinewidth": 0,
              "ticks": ""
             }
            },
            "type": "scatter3d"
           }
          ],
          "scattercarpet": [
           {
            "marker": {
             "colorbar": {
              "outlinewidth": 0,
              "ticks": ""
             }
            },
            "type": "scattercarpet"
           }
          ],
          "scattergeo": [
           {
            "marker": {
             "colorbar": {
              "outlinewidth": 0,
              "ticks": ""
             }
            },
            "type": "scattergeo"
           }
          ],
          "scattergl": [
           {
            "marker": {
             "colorbar": {
              "outlinewidth": 0,
              "ticks": ""
             }
            },
            "type": "scattergl"
           }
          ],
          "scattermapbox": [
           {
            "marker": {
             "colorbar": {
              "outlinewidth": 0,
              "ticks": ""
             }
            },
            "type": "scattermapbox"
           }
          ],
          "scatterpolar": [
           {
            "marker": {
             "colorbar": {
              "outlinewidth": 0,
              "ticks": ""
             }
            },
            "type": "scatterpolar"
           }
          ],
          "scatterpolargl": [
           {
            "marker": {
             "colorbar": {
              "outlinewidth": 0,
              "ticks": ""
             }
            },
            "type": "scatterpolargl"
           }
          ],
          "scatterternary": [
           {
            "marker": {
             "colorbar": {
              "outlinewidth": 0,
              "ticks": ""
             }
            },
            "type": "scatterternary"
           }
          ],
          "surface": [
           {
            "colorbar": {
             "outlinewidth": 0,
             "ticks": ""
            },
            "colorscale": [
             [
              0,
              "#0d0887"
             ],
             [
              0.1111111111111111,
              "#46039f"
             ],
             [
              0.2222222222222222,
              "#7201a8"
             ],
             [
              0.3333333333333333,
              "#9c179e"
             ],
             [
              0.4444444444444444,
              "#bd3786"
             ],
             [
              0.5555555555555556,
              "#d8576b"
             ],
             [
              0.6666666666666666,
              "#ed7953"
             ],
             [
              0.7777777777777778,
              "#fb9f3a"
             ],
             [
              0.8888888888888888,
              "#fdca26"
             ],
             [
              1,
              "#f0f921"
             ]
            ],
            "type": "surface"
           }
          ],
          "table": [
           {
            "cells": {
             "fill": {
              "color": "#EBF0F8"
             },
             "line": {
              "color": "white"
             }
            },
            "header": {
             "fill": {
              "color": "#C8D4E3"
             },
             "line": {
              "color": "white"
             }
            },
            "type": "table"
           }
          ]
         },
         "layout": {
          "annotationdefaults": {
           "arrowcolor": "#2a3f5f",
           "arrowhead": 0,
           "arrowwidth": 1
          },
          "autotypenumbers": "strict",
          "coloraxis": {
           "colorbar": {
            "outlinewidth": 0,
            "ticks": ""
           }
          },
          "colorscale": {
           "diverging": [
            [
             0,
             "#8e0152"
            ],
            [
             0.1,
             "#c51b7d"
            ],
            [
             0.2,
             "#de77ae"
            ],
            [
             0.3,
             "#f1b6da"
            ],
            [
             0.4,
             "#fde0ef"
            ],
            [
             0.5,
             "#f7f7f7"
            ],
            [
             0.6,
             "#e6f5d0"
            ],
            [
             0.7,
             "#b8e186"
            ],
            [
             0.8,
             "#7fbc41"
            ],
            [
             0.9,
             "#4d9221"
            ],
            [
             1,
             "#276419"
            ]
           ],
           "sequential": [
            [
             0,
             "#0d0887"
            ],
            [
             0.1111111111111111,
             "#46039f"
            ],
            [
             0.2222222222222222,
             "#7201a8"
            ],
            [
             0.3333333333333333,
             "#9c179e"
            ],
            [
             0.4444444444444444,
             "#bd3786"
            ],
            [
             0.5555555555555556,
             "#d8576b"
            ],
            [
             0.6666666666666666,
             "#ed7953"
            ],
            [
             0.7777777777777778,
             "#fb9f3a"
            ],
            [
             0.8888888888888888,
             "#fdca26"
            ],
            [
             1,
             "#f0f921"
            ]
           ],
           "sequentialminus": [
            [
             0,
             "#0d0887"
            ],
            [
             0.1111111111111111,
             "#46039f"
            ],
            [
             0.2222222222222222,
             "#7201a8"
            ],
            [
             0.3333333333333333,
             "#9c179e"
            ],
            [
             0.4444444444444444,
             "#bd3786"
            ],
            [
             0.5555555555555556,
             "#d8576b"
            ],
            [
             0.6666666666666666,
             "#ed7953"
            ],
            [
             0.7777777777777778,
             "#fb9f3a"
            ],
            [
             0.8888888888888888,
             "#fdca26"
            ],
            [
             1,
             "#f0f921"
            ]
           ]
          },
          "colorway": [
           "#636efa",
           "#EF553B",
           "#00cc96",
           "#ab63fa",
           "#FFA15A",
           "#19d3f3",
           "#FF6692",
           "#B6E880",
           "#FF97FF",
           "#FECB52"
          ],
          "font": {
           "color": "#2a3f5f"
          },
          "geo": {
           "bgcolor": "white",
           "lakecolor": "white",
           "landcolor": "#E5ECF6",
           "showlakes": true,
           "showland": true,
           "subunitcolor": "white"
          },
          "hoverlabel": {
           "align": "left"
          },
          "hovermode": "closest",
          "mapbox": {
           "style": "light"
          },
          "paper_bgcolor": "white",
          "plot_bgcolor": "#E5ECF6",
          "polar": {
           "angularaxis": {
            "gridcolor": "white",
            "linecolor": "white",
            "ticks": ""
           },
           "bgcolor": "#E5ECF6",
           "radialaxis": {
            "gridcolor": "white",
            "linecolor": "white",
            "ticks": ""
           }
          },
          "scene": {
           "xaxis": {
            "backgroundcolor": "#E5ECF6",
            "gridcolor": "white",
            "gridwidth": 2,
            "linecolor": "white",
            "showbackground": true,
            "ticks": "",
            "zerolinecolor": "white"
           },
           "yaxis": {
            "backgroundcolor": "#E5ECF6",
            "gridcolor": "white",
            "gridwidth": 2,
            "linecolor": "white",
            "showbackground": true,
            "ticks": "",
            "zerolinecolor": "white"
           },
           "zaxis": {
            "backgroundcolor": "#E5ECF6",
            "gridcolor": "white",
            "gridwidth": 2,
            "linecolor": "white",
            "showbackground": true,
            "ticks": "",
            "zerolinecolor": "white"
           }
          },
          "shapedefaults": {
           "line": {
            "color": "#2a3f5f"
           }
          },
          "ternary": {
           "aaxis": {
            "gridcolor": "white",
            "linecolor": "white",
            "ticks": ""
           },
           "baxis": {
            "gridcolor": "white",
            "linecolor": "white",
            "ticks": ""
           },
           "bgcolor": "#E5ECF6",
           "caxis": {
            "gridcolor": "white",
            "linecolor": "white",
            "ticks": ""
           }
          },
          "title": {
           "x": 0.05
          },
          "xaxis": {
           "automargin": true,
           "gridcolor": "white",
           "linecolor": "white",
           "ticks": "",
           "title": {
            "standoff": 15
           },
           "zerolinecolor": "white",
           "zerolinewidth": 2
          },
          "yaxis": {
           "automargin": true,
           "gridcolor": "white",
           "linecolor": "white",
           "ticks": "",
           "title": {
            "standoff": 15
           },
           "zerolinecolor": "white",
           "zerolinewidth": 2
          }
         }
        },
        "title": {
         "font": {
          "size": 14
         }
        },
        "width": 300,
        "xaxis": {
         "anchor": "y",
         "constrain": "domain",
         "domain": [
          0,
          1
         ],
         "linecolor": "black",
         "linewidth": 1,
         "mirror": true,
         "scaleanchor": "y",
         "showline": true,
         "tickcolor": "black",
         "ticks": "outside",
         "tickwidth": 1,
         "title": {}
        },
        "yaxis": {
         "anchor": "x",
         "autorange": "reversed",
         "constrain": "domain",
         "domain": [
          0,
          1
         ],
         "linecolor": "black",
         "linewidth": 1,
         "mirror": true,
         "showline": true,
         "tickcolor": "black",
         "ticks": "outside",
         "tickwidth": 1,
         "title": {}
        }
       }
      }
     },
     "metadata": {},
     "output_type": "display_data"
    }
   ],
   "source": [
    "pu.plot_attn(h.normalise_tensor(s_attn_denoising), labels, image_dir / \"symbolic_denoising.png\")"
   ]
  },
  {
   "cell_type": "code",
   "execution_count": 111,
   "metadata": {},
   "outputs": [
    {
     "name": "stderr",
     "output_type": "stream",
     "text": [
      "100%|██████████| 24/24 [01:32<00:00,  3.86s/it]\n"
     ]
    }
   ],
   "source": [
    "s_attn_denoising_2 = h.patching_attention(model2, s_corrupted_tokens_2, s_clean_cache_2, h.metric_denoising, s_answer_tokens_2, s_clean_logit_diff_2, s_corrupted_logit_diff_2, 'z', device)"
   ]
  },
  {
   "cell_type": "code",
   "execution_count": 112,
   "metadata": {},
   "outputs": [
    {
     "name": "stdout",
     "output_type": "stream",
     "text": [
      "Plot saved to ../images/gpt-2_vs_pythia/symbolic_denoising.png\n"
     ]
    },
    {
     "data": {
      "application/vnd.plotly.v1+json": {
       "config": {
        "plotlyServerURL": "https://plot.ly"
       },
       "data": [
        {
         "coloraxis": "coloraxis",
         "hovertemplate": "Head: %{x}<br>Layer: %{y}<br>color: %{z}<extra></extra>",
         "name": "0",
         "type": "heatmap",
         "xaxis": "x",
         "yaxis": "y",
         "z": [
          [
           0.03143195062875748,
           0.007932715117931366,
           0.004014953970909119,
           0.00804163422435522,
           0.01447940431535244,
           0.03197145834565163,
           -0.008778581395745277,
           -0.005150159355252981,
           0.017910510301589966,
           -0.012669998221099377,
           0.0039167022332549095,
           -0.004055426921695471,
           -0.004868312273174524,
           -0.003435298800468445,
           -0.010678380727767944,
           -0.003117009997367859
          ],
          [
           -0.005172594450414181,
           -0.005767763126641512,
           -0.008100430481135845,
           -0.0038255765102803707,
           0.2947723865509033,
           0.009352942928671837,
           0.010548450984060764,
           -0.00367748667486012,
           0.006300959270447493,
           -0.006950445007532835,
           -0.014942973852157593,
           0.005960886366665363,
           -0.0033837095834314823,
           0.00912280660122633,
           0.06067969277501106,
           0.030454039573669434
          ],
          [
           0.025011811405420303,
           -0.005023364443331957,
           0.0029061336535960436,
           0.005837430711835623,
           -0.007799690589308739,
           0.006360447965562344,
           0.005479319486767054,
           -0.00054541154531762,
           0.004313413519412279,
           0.012807704508304596,
           0.06631414592266083,
           -0.0017583873122930527,
           0.006580648012459278,
           0.001841858378611505,
           0.006061458494514227,
           -0.005796712823212147
          ],
          [
           0.004172449465841055,
           0.0007167917210608721,
           -0.009340931661427021,
           -0.006927561480551958,
           -0.0014866790734231472,
           0.013066384010016918,
           0.0030927013140171766,
           -0.00806749053299427,
           0.013096148148179054,
           0.006782444193959236,
           0.026735547930002213,
           0.0116829639300704,
           -0.01883777044713497,
           -0.028220558539032936,
           0.0035159196704626083,
           0.006714527029544115
          ],
          [
           0.07859732955694199,
           0.009267355315387249,
           -0.015444776974618435,
           -0.017372101545333862,
           -0.006311871111392975,
           -0.01614975929260254,
           -0.06265819817781448,
           0.0024407319724559784,
           -0.006447989959269762,
           0.05312104895710945,
           -0.009946808218955994,
           0.0011000660015270114,
           -0.020425062626600266,
           0.021749725565314293,
           0.010724268853664398,
           -0.018559996038675308
          ],
          [
           0.00775852520018816,
           0.003260009689256549,
           0.33539918065071106,
           -0.002136164577677846,
           0.019800087437033653,
           0.020792661234736443,
           0.00024149577075149864,
           0.014052195474505424,
           0.003095429390668869,
           0.13623610138893127,
           0.0035491858143359423,
           0.002466261852532625,
           0.010819385759532452,
           0.0016401842003688216,
           -0.003931116312742233,
           -0.01967182755470276
          ],
          [
           0.42093929648399353,
           -0.002657349221408367,
           0.02677317149937153,
           0.07312671840190887,
           0.009732878766953945,
           0.04220276325941086,
           -0.00623650336638093,
           -0.0005326262325979769,
           -0.0238820631057024,
           0.036624256521463394,
           -0.03932659327983856,
           -0.03708220645785332,
           -0.040742140263319016,
           0.02006528154015541,
           -0.0368850901722908,
           0.019251175224781036
          ],
          [
           -0.18364277482032776,
           0.21384257078170776,
           0.06437134742736816,
           0.011754178442060947,
           -0.02237592078745365,
           -0.00303850625641644,
           0.03772134706377983,
           0.5165290832519531,
           -0.0017092005582526326,
           -0.017931804060935974,
           0.005516576115041971,
           -0.007219546940177679,
           0.0018205223605036736,
           -0.000057330307754455134,
           0.01549750566482544,
           0.006050872150808573
          ],
          [
           0.3230033218860626,
           0.005653835367411375,
           0.14215554296970367,
           0.008652804419398308,
           -0.0198573786765337,
           -0.024929482489824295,
           0.015553533099591732,
           0.030349353328347206,
           -0.026251906529068947,
           0.045113660395145416,
           0.0004879998159594834,
           0.021547237411141396,
           0.03788552060723305,
           0.1579430103302002,
           0.05164088308811188,
           -0.005423170048743486
          ],
          [
           -0.02477390132844448,
           0.16663749516010284,
           -0.07656576484441757,
           0.18030834197998047,
           0.07471930980682373,
           0.14191144704818726,
           0.07057084143161774,
           0.012194945476949215,
           0.2688854932785034,
           -0.006615298800170422,
           -0.041743915528059006,
           0.035199955105781555,
           -0.03316660225391388,
           0.08751540631055832,
           0.0075623891316354275,
           0.06369075179100037
          ],
          [
           -0.008241557516157627,
           0.09099806100130081,
           -0.02822369523346424,
           -0.005329723469913006,
           -0.03853993117809296,
           0.24506781995296478,
           -0.0002835163031704724,
           0.9652491807937622,
           -0.023725707083940506,
           -0.0007801889441907406,
           0.05445573106408119,
           0.16974644362926483,
           -0.16647984087467194,
           -0.030207088217139244,
           0.07942238450050354,
           0.15395309031009674
          ],
          [
           0.13864277303218842,
           -0.0372796431183815,
           -0.02526014856994152,
           -0.11233726888895035,
           0.7281786799430847,
           0.0268842913210392,
           0.11238992214202881,
           0.11000236123800278,
           0.13999691605567932,
           0.07306027412414551,
           0.04721488803625107,
           0.005566862411797047,
           0.07754021883010864,
           -0.030789511278271675,
           0.021134402602910995,
           0.09492694586515427
          ],
          [
           0.1772002875804901,
           0.002497370122000575,
           0.15781359374523163,
           0.03217586129903793,
           -0.016475336626172066,
           -0.009801121428608894,
           -0.0034797622356563807,
           0.05107486993074417,
           0.0784447193145752,
           0.024129381403326988,
           -0.022146763280034065,
           -0.07214722037315369,
           0.19928495585918427,
           0.01886826753616333,
           0.06082562357187271,
           0.016484824940562248
          ],
          [
           0.4213309586048126,
           -0.21363574266433716,
           -0.007009566295892,
           0.012634207494556904,
           0.04970338195562363,
           1,
           0.0024997724685817957,
           0.023871231824159622,
           -0.022891568019986153,
           0.031020989641547203,
           0.08002407103776932,
           0.003770689247176051,
           -0.006596365012228489,
           -0.003003489226102829,
           0.00023489954764954746,
           0.027964528650045395
          ],
          [
           -0.8972150683403015,
           0.03882426396012306,
           -0.008602478541433811,
           -0.46531328558921814,
           0.014396177604794502,
           -0.0023291658144444227,
           -0.009170935489237309,
           -0.05124592408537865,
           0.006362972315400839,
           -0.00020924747514072806,
           -0.004576856270432472,
           0.0812816321849823,
           0.03127022087574005,
           0.0005145883769728243,
           -0.01474724430590868,
           -0.001106988056562841
          ],
          [
           0.001515344250947237,
           0.0036262234207242727,
           0.23785868287086487,
           -0.017930584028363228,
           0.2638608515262604,
           0.30202609300613403,
           0.010314772836863995,
           0.018989279866218567,
           -0.0688958391547203,
           -0.05667805299162865,
           0.005640113260596991,
           -0.24931024014949799,
           -0.034896448254585266,
           0.000010342257155571133,
           -0.002965174149721861,
           -0.013085968792438507
          ],
          [
           0.1716783344745636,
           -0.000911095819901675,
           -0.011488659307360649,
           0.001901550218462944,
           -0.0047985222190618515,
           -0.007947699166834354,
           -0.00802616123110056,
           -0.033497922122478485,
           0.0051874564960598946,
           0.007348173297941685,
           -0.008607282303273678,
           0.0013021065387874842,
           0.006933058146387339,
           0.048855315893888474,
           0.00017435253539588302,
           0.0041470821015536785
          ],
          [
           0.015513833612203598,
           -0.00010867512901313603,
           -0.012038224376738071,
           -0.003649513702839613,
           0.0012453055242076516,
           0.0016274804947897792,
           -0.0023907716386020184,
           -0.006007792893797159,
           -0.006400839425623417,
           0.001904685515910387,
           0.24568627774715424,
           -0.0852784663438797,
           0.01295754499733448,
           -0.0013442898634821177,
           0.024059267714619637,
           0.0038259427528828382
          ],
          [
           0.3125617504119873,
           0.090000681579113,
           -0.007590769324451685,
           0,
           -0.0071786255575716496,
           -0.002067433437332511,
           0.004095126409083605,
           0.0004779426089953631,
           -0.03421088308095932,
           -0.00019499633344821632,
           -0.000350048765540123,
           -0.0054142531007528305,
           -0.004044392611831427,
           -0.00017268311057705432,
           -0.004549331031739712,
           -0.002569684525951743
          ],
          [
           -0.0006697222124785185,
           0.0012889954959973693,
           -0.006291471887379885,
           0.007577169220894575,
           0.00013786961790174246,
           -0.003936572466045618,
           0.0007467598188668489,
           -0.002172973472625017,
           0.06952639669179916,
           -0.0033056950196623802,
           0.010092128999531269,
           -0.005268321372568607,
           0.005660431459546089,
           -0.005864629987627268,
           0.007089250721037388,
           -0.2386728823184967
          ],
          [
           -0.00010256750829285011,
           0.00569255743175745,
           0.0018291950691491365,
           -0.00035021163057535887,
           0.003625124227255583,
           -0.0009308438748121262,
           -0.002603235887363553,
           -0.0007171581382863224,
           -0.000015554103811155073,
           -0.00003526139698806219,
           -0.000327369081787765,
           0.003099501132965088,
           -0.010403171181678772,
           -0.005851681809872389,
           -0.0014110258780419827,
           -0.01732201874256134
          ],
          [
           0.0000379487537429668,
           0.02201772853732109,
           -0.0010076372418552637,
           0.000319592043524608,
           -0.0016482463106513023,
           -0.16241158545017242,
           0.0033255245070904493,
           0.02021544799208641,
           0.0012731562601402402,
           0.015016631223261356,
           0.0025604823604226112,
           -0.0005165021284483373,
           -0.000892162206582725,
           -0.0007353181717917323,
           0.021990083158016205,
           -0.0003823784936685115
          ],
          [
           -0.0008997356635518372,
           0.000603026885073632,
           0.3987891972064972,
           0.005175444763153791,
           0.005329194478690624,
           0.0007143893744796515,
           0.08276762068271637,
           -0.00029915181221440434,
           0.011284787207841873,
           -0.012678670696914196,
           0.005780711304396391,
           0.02571944147348404,
           -0.000002239465175080113,
           0.000038233778468566015,
           -0.0023654859978705645,
           0.000540810520760715
          ],
          [
           -0.047097865492105484,
           0.0000025244878543162486,
           0.0003823784936685115,
           0.0013448192039504647,
           -0.00032138361711986363,
           0.003587134648114443,
           0.0005824238178320229,
           -0.003839908866211772,
           0.001531061134301126,
           0.00006645103712799028,
           0.003258543787524104,
           0.004530397243797779,
           0.026443280279636383,
           0.00358689040876925,
           0.007808729540556669,
           0.0023662596940994263
          ]
         ]
        }
       ],
       "layout": {
        "coloraxis": {
         "cmid": 0,
         "colorbar": {
          "len": 1,
          "lenmode": "fraction",
          "thickness": 10,
          "thicknessmode": "pixels",
          "title": {
           "text": "𝑆"
          }
         },
         "colorscale": [
          [
           0,
           "rgb(103,0,31)"
          ],
          [
           0.1,
           "rgb(178,24,43)"
          ],
          [
           0.2,
           "rgb(214,96,77)"
          ],
          [
           0.3,
           "rgb(244,165,130)"
          ],
          [
           0.4,
           "rgb(253,219,199)"
          ],
          [
           0.5,
           "rgb(247,247,247)"
          ],
          [
           0.6,
           "rgb(209,229,240)"
          ],
          [
           0.7,
           "rgb(146,197,222)"
          ],
          [
           0.8,
           "rgb(67,147,195)"
          ],
          [
           0.9,
           "rgb(33,102,172)"
          ],
          [
           1,
           "rgb(5,48,97)"
          ]
         ]
        },
        "font": {
         "color": "black",
         "size": 12
        },
        "height": 300,
        "margin": {
         "b": 10,
         "l": 10,
         "r": 10,
         "t": 10
        },
        "template": {
         "data": {
          "bar": [
           {
            "error_x": {
             "color": "#2a3f5f"
            },
            "error_y": {
             "color": "#2a3f5f"
            },
            "marker": {
             "line": {
              "color": "#E5ECF6",
              "width": 0.5
             },
             "pattern": {
              "fillmode": "overlay",
              "size": 10,
              "solidity": 0.2
             }
            },
            "type": "bar"
           }
          ],
          "barpolar": [
           {
            "marker": {
             "line": {
              "color": "#E5ECF6",
              "width": 0.5
             },
             "pattern": {
              "fillmode": "overlay",
              "size": 10,
              "solidity": 0.2
             }
            },
            "type": "barpolar"
           }
          ],
          "carpet": [
           {
            "aaxis": {
             "endlinecolor": "#2a3f5f",
             "gridcolor": "white",
             "linecolor": "white",
             "minorgridcolor": "white",
             "startlinecolor": "#2a3f5f"
            },
            "baxis": {
             "endlinecolor": "#2a3f5f",
             "gridcolor": "white",
             "linecolor": "white",
             "minorgridcolor": "white",
             "startlinecolor": "#2a3f5f"
            },
            "type": "carpet"
           }
          ],
          "choropleth": [
           {
            "colorbar": {
             "outlinewidth": 0,
             "ticks": ""
            },
            "type": "choropleth"
           }
          ],
          "contour": [
           {
            "colorbar": {
             "outlinewidth": 0,
             "ticks": ""
            },
            "colorscale": [
             [
              0,
              "#0d0887"
             ],
             [
              0.1111111111111111,
              "#46039f"
             ],
             [
              0.2222222222222222,
              "#7201a8"
             ],
             [
              0.3333333333333333,
              "#9c179e"
             ],
             [
              0.4444444444444444,
              "#bd3786"
             ],
             [
              0.5555555555555556,
              "#d8576b"
             ],
             [
              0.6666666666666666,
              "#ed7953"
             ],
             [
              0.7777777777777778,
              "#fb9f3a"
             ],
             [
              0.8888888888888888,
              "#fdca26"
             ],
             [
              1,
              "#f0f921"
             ]
            ],
            "type": "contour"
           }
          ],
          "contourcarpet": [
           {
            "colorbar": {
             "outlinewidth": 0,
             "ticks": ""
            },
            "type": "contourcarpet"
           }
          ],
          "heatmap": [
           {
            "colorbar": {
             "outlinewidth": 0,
             "ticks": ""
            },
            "colorscale": [
             [
              0,
              "#0d0887"
             ],
             [
              0.1111111111111111,
              "#46039f"
             ],
             [
              0.2222222222222222,
              "#7201a8"
             ],
             [
              0.3333333333333333,
              "#9c179e"
             ],
             [
              0.4444444444444444,
              "#bd3786"
             ],
             [
              0.5555555555555556,
              "#d8576b"
             ],
             [
              0.6666666666666666,
              "#ed7953"
             ],
             [
              0.7777777777777778,
              "#fb9f3a"
             ],
             [
              0.8888888888888888,
              "#fdca26"
             ],
             [
              1,
              "#f0f921"
             ]
            ],
            "type": "heatmap"
           }
          ],
          "heatmapgl": [
           {
            "colorbar": {
             "outlinewidth": 0,
             "ticks": ""
            },
            "colorscale": [
             [
              0,
              "#0d0887"
             ],
             [
              0.1111111111111111,
              "#46039f"
             ],
             [
              0.2222222222222222,
              "#7201a8"
             ],
             [
              0.3333333333333333,
              "#9c179e"
             ],
             [
              0.4444444444444444,
              "#bd3786"
             ],
             [
              0.5555555555555556,
              "#d8576b"
             ],
             [
              0.6666666666666666,
              "#ed7953"
             ],
             [
              0.7777777777777778,
              "#fb9f3a"
             ],
             [
              0.8888888888888888,
              "#fdca26"
             ],
             [
              1,
              "#f0f921"
             ]
            ],
            "type": "heatmapgl"
           }
          ],
          "histogram": [
           {
            "marker": {
             "pattern": {
              "fillmode": "overlay",
              "size": 10,
              "solidity": 0.2
             }
            },
            "type": "histogram"
           }
          ],
          "histogram2d": [
           {
            "colorbar": {
             "outlinewidth": 0,
             "ticks": ""
            },
            "colorscale": [
             [
              0,
              "#0d0887"
             ],
             [
              0.1111111111111111,
              "#46039f"
             ],
             [
              0.2222222222222222,
              "#7201a8"
             ],
             [
              0.3333333333333333,
              "#9c179e"
             ],
             [
              0.4444444444444444,
              "#bd3786"
             ],
             [
              0.5555555555555556,
              "#d8576b"
             ],
             [
              0.6666666666666666,
              "#ed7953"
             ],
             [
              0.7777777777777778,
              "#fb9f3a"
             ],
             [
              0.8888888888888888,
              "#fdca26"
             ],
             [
              1,
              "#f0f921"
             ]
            ],
            "type": "histogram2d"
           }
          ],
          "histogram2dcontour": [
           {
            "colorbar": {
             "outlinewidth": 0,
             "ticks": ""
            },
            "colorscale": [
             [
              0,
              "#0d0887"
             ],
             [
              0.1111111111111111,
              "#46039f"
             ],
             [
              0.2222222222222222,
              "#7201a8"
             ],
             [
              0.3333333333333333,
              "#9c179e"
             ],
             [
              0.4444444444444444,
              "#bd3786"
             ],
             [
              0.5555555555555556,
              "#d8576b"
             ],
             [
              0.6666666666666666,
              "#ed7953"
             ],
             [
              0.7777777777777778,
              "#fb9f3a"
             ],
             [
              0.8888888888888888,
              "#fdca26"
             ],
             [
              1,
              "#f0f921"
             ]
            ],
            "type": "histogram2dcontour"
           }
          ],
          "mesh3d": [
           {
            "colorbar": {
             "outlinewidth": 0,
             "ticks": ""
            },
            "type": "mesh3d"
           }
          ],
          "parcoords": [
           {
            "line": {
             "colorbar": {
              "outlinewidth": 0,
              "ticks": ""
             }
            },
            "type": "parcoords"
           }
          ],
          "pie": [
           {
            "automargin": true,
            "type": "pie"
           }
          ],
          "scatter": [
           {
            "fillpattern": {
             "fillmode": "overlay",
             "size": 10,
             "solidity": 0.2
            },
            "type": "scatter"
           }
          ],
          "scatter3d": [
           {
            "line": {
             "colorbar": {
              "outlinewidth": 0,
              "ticks": ""
             }
            },
            "marker": {
             "colorbar": {
              "outlinewidth": 0,
              "ticks": ""
             }
            },
            "type": "scatter3d"
           }
          ],
          "scattercarpet": [
           {
            "marker": {
             "colorbar": {
              "outlinewidth": 0,
              "ticks": ""
             }
            },
            "type": "scattercarpet"
           }
          ],
          "scattergeo": [
           {
            "marker": {
             "colorbar": {
              "outlinewidth": 0,
              "ticks": ""
             }
            },
            "type": "scattergeo"
           }
          ],
          "scattergl": [
           {
            "marker": {
             "colorbar": {
              "outlinewidth": 0,
              "ticks": ""
             }
            },
            "type": "scattergl"
           }
          ],
          "scattermapbox": [
           {
            "marker": {
             "colorbar": {
              "outlinewidth": 0,
              "ticks": ""
             }
            },
            "type": "scattermapbox"
           }
          ],
          "scatterpolar": [
           {
            "marker": {
             "colorbar": {
              "outlinewidth": 0,
              "ticks": ""
             }
            },
            "type": "scatterpolar"
           }
          ],
          "scatterpolargl": [
           {
            "marker": {
             "colorbar": {
              "outlinewidth": 0,
              "ticks": ""
             }
            },
            "type": "scatterpolargl"
           }
          ],
          "scatterternary": [
           {
            "marker": {
             "colorbar": {
              "outlinewidth": 0,
              "ticks": ""
             }
            },
            "type": "scatterternary"
           }
          ],
          "surface": [
           {
            "colorbar": {
             "outlinewidth": 0,
             "ticks": ""
            },
            "colorscale": [
             [
              0,
              "#0d0887"
             ],
             [
              0.1111111111111111,
              "#46039f"
             ],
             [
              0.2222222222222222,
              "#7201a8"
             ],
             [
              0.3333333333333333,
              "#9c179e"
             ],
             [
              0.4444444444444444,
              "#bd3786"
             ],
             [
              0.5555555555555556,
              "#d8576b"
             ],
             [
              0.6666666666666666,
              "#ed7953"
             ],
             [
              0.7777777777777778,
              "#fb9f3a"
             ],
             [
              0.8888888888888888,
              "#fdca26"
             ],
             [
              1,
              "#f0f921"
             ]
            ],
            "type": "surface"
           }
          ],
          "table": [
           {
            "cells": {
             "fill": {
              "color": "#EBF0F8"
             },
             "line": {
              "color": "white"
             }
            },
            "header": {
             "fill": {
              "color": "#C8D4E3"
             },
             "line": {
              "color": "white"
             }
            },
            "type": "table"
           }
          ]
         },
         "layout": {
          "annotationdefaults": {
           "arrowcolor": "#2a3f5f",
           "arrowhead": 0,
           "arrowwidth": 1
          },
          "autotypenumbers": "strict",
          "coloraxis": {
           "colorbar": {
            "outlinewidth": 0,
            "ticks": ""
           }
          },
          "colorscale": {
           "diverging": [
            [
             0,
             "#8e0152"
            ],
            [
             0.1,
             "#c51b7d"
            ],
            [
             0.2,
             "#de77ae"
            ],
            [
             0.3,
             "#f1b6da"
            ],
            [
             0.4,
             "#fde0ef"
            ],
            [
             0.5,
             "#f7f7f7"
            ],
            [
             0.6,
             "#e6f5d0"
            ],
            [
             0.7,
             "#b8e186"
            ],
            [
             0.8,
             "#7fbc41"
            ],
            [
             0.9,
             "#4d9221"
            ],
            [
             1,
             "#276419"
            ]
           ],
           "sequential": [
            [
             0,
             "#0d0887"
            ],
            [
             0.1111111111111111,
             "#46039f"
            ],
            [
             0.2222222222222222,
             "#7201a8"
            ],
            [
             0.3333333333333333,
             "#9c179e"
            ],
            [
             0.4444444444444444,
             "#bd3786"
            ],
            [
             0.5555555555555556,
             "#d8576b"
            ],
            [
             0.6666666666666666,
             "#ed7953"
            ],
            [
             0.7777777777777778,
             "#fb9f3a"
            ],
            [
             0.8888888888888888,
             "#fdca26"
            ],
            [
             1,
             "#f0f921"
            ]
           ],
           "sequentialminus": [
            [
             0,
             "#0d0887"
            ],
            [
             0.1111111111111111,
             "#46039f"
            ],
            [
             0.2222222222222222,
             "#7201a8"
            ],
            [
             0.3333333333333333,
             "#9c179e"
            ],
            [
             0.4444444444444444,
             "#bd3786"
            ],
            [
             0.5555555555555556,
             "#d8576b"
            ],
            [
             0.6666666666666666,
             "#ed7953"
            ],
            [
             0.7777777777777778,
             "#fb9f3a"
            ],
            [
             0.8888888888888888,
             "#fdca26"
            ],
            [
             1,
             "#f0f921"
            ]
           ]
          },
          "colorway": [
           "#636efa",
           "#EF553B",
           "#00cc96",
           "#ab63fa",
           "#FFA15A",
           "#19d3f3",
           "#FF6692",
           "#B6E880",
           "#FF97FF",
           "#FECB52"
          ],
          "font": {
           "color": "#2a3f5f"
          },
          "geo": {
           "bgcolor": "white",
           "lakecolor": "white",
           "landcolor": "#E5ECF6",
           "showlakes": true,
           "showland": true,
           "subunitcolor": "white"
          },
          "hoverlabel": {
           "align": "left"
          },
          "hovermode": "closest",
          "mapbox": {
           "style": "light"
          },
          "paper_bgcolor": "white",
          "plot_bgcolor": "#E5ECF6",
          "polar": {
           "angularaxis": {
            "gridcolor": "white",
            "linecolor": "white",
            "ticks": ""
           },
           "bgcolor": "#E5ECF6",
           "radialaxis": {
            "gridcolor": "white",
            "linecolor": "white",
            "ticks": ""
           }
          },
          "scene": {
           "xaxis": {
            "backgroundcolor": "#E5ECF6",
            "gridcolor": "white",
            "gridwidth": 2,
            "linecolor": "white",
            "showbackground": true,
            "ticks": "",
            "zerolinecolor": "white"
           },
           "yaxis": {
            "backgroundcolor": "#E5ECF6",
            "gridcolor": "white",
            "gridwidth": 2,
            "linecolor": "white",
            "showbackground": true,
            "ticks": "",
            "zerolinecolor": "white"
           },
           "zaxis": {
            "backgroundcolor": "#E5ECF6",
            "gridcolor": "white",
            "gridwidth": 2,
            "linecolor": "white",
            "showbackground": true,
            "ticks": "",
            "zerolinecolor": "white"
           }
          },
          "shapedefaults": {
           "line": {
            "color": "#2a3f5f"
           }
          },
          "ternary": {
           "aaxis": {
            "gridcolor": "white",
            "linecolor": "white",
            "ticks": ""
           },
           "baxis": {
            "gridcolor": "white",
            "linecolor": "white",
            "ticks": ""
           },
           "bgcolor": "#E5ECF6",
           "caxis": {
            "gridcolor": "white",
            "linecolor": "white",
            "ticks": ""
           }
          },
          "title": {
           "x": 0.05
          },
          "xaxis": {
           "automargin": true,
           "gridcolor": "white",
           "linecolor": "white",
           "ticks": "",
           "title": {
            "standoff": 15
           },
           "zerolinecolor": "white",
           "zerolinewidth": 2
          },
          "yaxis": {
           "automargin": true,
           "gridcolor": "white",
           "linecolor": "white",
           "ticks": "",
           "title": {
            "standoff": 15
           },
           "zerolinecolor": "white",
           "zerolinewidth": 2
          }
         }
        },
        "title": {
         "font": {
          "size": 14
         }
        },
        "width": 300,
        "xaxis": {
         "anchor": "y",
         "constrain": "domain",
         "domain": [
          0,
          1
         ],
         "linecolor": "black",
         "linewidth": 1,
         "mirror": true,
         "scaleanchor": "y",
         "showline": true,
         "tickcolor": "black",
         "ticks": "outside",
         "tickwidth": 1,
         "title": {}
        },
        "yaxis": {
         "anchor": "x",
         "autorange": "reversed",
         "constrain": "domain",
         "domain": [
          0,
          1
         ],
         "linecolor": "black",
         "linewidth": 1,
         "mirror": true,
         "showline": true,
         "tickcolor": "black",
         "ticks": "outside",
         "tickwidth": 1,
         "title": {}
        }
       }
      }
     },
     "metadata": {},
     "output_type": "display_data"
    }
   ],
   "source": [
    "pu.plot_attn(h.normalise_tensor(s_attn_denoising_2), labels, image_dir / \"symbolic_denoising.png\")"
   ]
  },
  {
   "cell_type": "code",
   "execution_count": 119,
   "metadata": {},
   "outputs": [
    {
     "name": "stdout",
     "output_type": "stream",
     "text": [
      "Mean KL(a || b): 0.0014849206199869514\n",
      "Mean KL(a || random): 0.2657891511917114\n",
      "Mean KL(b || random): 0.2682020664215088\n"
     ]
    }
   ],
   "source": [
    "import torch\n",
    "import torch.nn.functional as F\n",
    "\n",
    "# Example tensors (a and b)\n",
    "# Ensure these tensors have shape (24, 11)\n",
    "a = s_attn_denoising\n",
    "b = s_attn_denoising_2\n",
    "\n",
    "# Normalize each row to create valid probability distributions\n",
    "# This ensures the comparison respects 2D relationships row by row\n",
    "a_prob = F.softmax(a, dim=1)  # Normalize rows\n",
    "b_prob = F.softmax(b, dim=1)  # Normalize rows\n",
    "\n",
    "# Create a random baseline with the same shape as a and b\n",
    "random_baseline = torch.rand_like(a_prob)  # Randomly initialized distribution\n",
    "random_baseline = random_baseline / random_baseline.sum(dim=1, keepdim=True)  # Normalize rows to sum to 1\n",
    "\n",
    "# KL Divergence function with numerical stability\n",
    "def kl_divergence_2d(p, q):\n",
    "    epsilon = 1e-10  # To avoid log(0)\n",
    "    return (p * (p.log() - (q + epsilon).log())).sum(dim=1)  # Sum over columns for each row\n",
    "\n",
    "# Compute KL Divergence row by row\n",
    "kl_a_b_rows = kl_divergence_2d(a_prob, b_prob)  # Divergence between a and b (row-wise)\n",
    "kl_a_random_rows = kl_divergence_2d(a_prob, random_baseline)  # Divergence of a from random (row-wise)\n",
    "kl_b_random_rows = kl_divergence_2d(b_prob, random_baseline)  # Divergence of b from random (row-wise)\n",
    "\n",
    "# Average KL divergences across rows\n",
    "mean_kl_a_b = kl_a_b_rows.mean().item()\n",
    "mean_kl_a_random = kl_a_random_rows.mean().item()\n",
    "mean_kl_b_random = kl_b_random_rows.mean().item()\n",
    "\n",
    "# Print results\n",
    "print(\"Mean KL(a || b):\", mean_kl_a_b)\n",
    "print(\"Mean KL(a || random):\", mean_kl_a_random)\n",
    "print(\"Mean KL(b || random):\", mean_kl_b_random)"
   ]
  },
  {
   "cell_type": "markdown",
   "metadata": {
    "id": "-FyRI_VDabVY"
   },
   "source": [
    "### Figure 4(b) residual stream patching"
   ]
  },
  {
   "cell_type": "code",
   "execution_count": 45,
   "metadata": {
    "colab": {
     "base_uri": "https://localhost:8080/"
    },
    "id": "gQRB1BIxabVY",
    "outputId": "19b5d278-641d-477c-fe85-01358b16114d"
   },
   "outputs": [
    {
     "name": "stderr",
     "output_type": "stream",
     "text": [
      "100%|██████████| 24/24 [01:30<00:00,  3.76s/it]\n"
     ]
    }
   ],
   "source": [
    "s_resid_denoising = h.patching_residual(model, s_corrupted_tokens, s_clean_cache, h.metric_denoising, s_answer_tokens, s_clean_logit_diff, s_corrupted_logit_diff, device)"
   ]
  },
  {
   "cell_type": "code",
   "execution_count": 49,
   "metadata": {},
   "outputs": [
    {
     "name": "stderr",
     "output_type": "stream",
     "text": [
      "100%|██████████| 24/24 [01:26<00:00,  3.61s/it]\n"
     ]
    }
   ],
   "source": [
    "s_resid_denoising_2 = h.patching_residual(model2, s_corrupted_tokens_2, s_clean_cache_2, h.metric_denoising, s_answer_tokens_2, s_clean_logit_diff_2, s_corrupted_logit_diff_2, device)"
   ]
  },
  {
   "cell_type": "code",
   "execution_count": 50,
   "metadata": {
    "colab": {
     "base_uri": "https://localhost:8080/",
     "height": 317
    },
    "id": "wy79ji4oabVY",
    "outputId": "52dc49ef-0bef-4af6-a269-d2661f87d739"
   },
   "outputs": [
    {
     "name": "stdout",
     "output_type": "stream",
     "text": [
      "Plot saved to ../images/gpt-2_vs_pythia/symbolic_residual_gpt2.png\n"
     ]
    },
    {
     "data": {
      "application/vnd.plotly.v1+json": {
       "config": {
        "plotlyServerURL": "https://plot.ly"
       },
       "data": [
        {
         "coloraxis": "coloraxis",
         "hovertemplate": "Layer: %{x}<br>Sequence Position: %{y}<br>color: %{z}<extra></extra>",
         "name": "0",
         "type": "heatmap",
         "xaxis": "x",
         "y": [
          "BEGIN",
          "s_1",
          "s_1 -> m_1",
          "m_1",
          "m_1 -> m_2",
          "m_2",
          "m_2 -> p",
          "p",
          "p -> s_2",
          "s_2",
          "END"
         ],
         "yaxis": "y",
         "z": [
          [
           0,
           0,
           0,
           0,
           0,
           0,
           0,
           0,
           0,
           0,
           0,
           0,
           0,
           0,
           0,
           0,
           0,
           0,
           0,
           0,
           0,
           0,
           0,
           0
          ],
          [
           0,
           0,
           0,
           0,
           0,
           0,
           0,
           0,
           0,
           0,
           0,
           0,
           0,
           0,
           0,
           0,
           0,
           0,
           0,
           0,
           0,
           0,
           0,
           0
          ],
          [
           0,
           0,
           0,
           0,
           0,
           0,
           0,
           0,
           0,
           0,
           0,
           0,
           0,
           0,
           0,
           0,
           0,
           0,
           0,
           0,
           0,
           0,
           0,
           0
          ],
          [
           0,
           0,
           0,
           0,
           0,
           0,
           0,
           0,
           0,
           0,
           0,
           0,
           0,
           0,
           0,
           0,
           0,
           0,
           0,
           0,
           0,
           0,
           0,
           0
          ],
          [
           0,
           0,
           0,
           0,
           0,
           0,
           0,
           0,
           0,
           0,
           0,
           0,
           0,
           0,
           0,
           0,
           0,
           0,
           0,
           0,
           0,
           0,
           0,
           0
          ],
          [
           0.8878284692764282,
           0.8810641169548035,
           0.8985883593559265,
           0.9138048887252808,
           0.9262799620628357,
           0.9276872277259827,
           0.8886642456054688,
           0.7639797329902649,
           0.7135125398635864,
           0.7391398549079895,
           0.6630905866622925,
           0.48782750964164734,
           0.3595738410949707,
           0.3903411626815796,
           0.3813909888267517,
           0.2953295111656189,
           0.29915696382522583,
           0.15892356634140015,
           0.20960284769535065,
           -0.09468026459217072,
           -0.06846870481967926,
           -0.05246138572692871,
           -0.14143136143684387,
           0
          ],
          [
           0.00044578249799087644,
           -0.000007373199423454935,
           -0.0037777419202029705,
           -0.004245482850819826,
           0.016844233497977257,
           0.0539274699985981,
           0.03353537991642952,
           0.08301670104265213,
           0.12720702588558197,
           0.140818253159523,
           0.14154599606990814,
           0.11199509352445602,
           0.0748075619339943,
           0.009163271635770798,
           0.018076419830322266,
           -0.0021426945459097624,
           -0.02901989035308361,
           -0.00904215220361948,
           0.004903930705040693,
           0.018331253901124,
           0.014091474935412407,
           0.008336289785802364,
           -0.0028345107566565275,
           0
          ],
          [
           -0.0008209545630961657,
           0.003047849051654339,
           0.0034212989266961813,
           0.002727653132751584,
           0.003753496566787362,
           -0.0027640077751129866,
           -0.012297634966671467,
           -0.005116569343954325,
           -0.013772758655250072,
           -0.028523433953523636,
           0.06063368543982506,
           0.2782394587993622,
           0.3286707103252411,
           0.33185526728630066,
           0.3200855851173401,
           0.17439791560173035,
           0.20047584176063538,
           0.1308685541152954,
           0.09056220203638077,
           0.05217202752828598,
           0.037878166884183884,
           0.030196748673915863,
           0.019693005830049515,
           0
          ],
          [
           0.0005833438481204212,
           0.00024388066958636045,
           0.00007287088374141604,
           -0.0004535862826742232,
           -0.000922699342481792,
           0.0002739116607699543,
           0.0002756069297902286,
           0.00688659492880106,
           0.003711490659043193,
           0.011762108653783798,
           0.00777127081528306,
           0.00816409569233656,
           0.005630944389849901,
           -0.0008806397672742605,
           -0.0008813394815661013,
           0.0005296324379742146,
           0.0007002655183896422,
           0.004527386277914047,
           0.00207703560590744,
           0.014715640805661678,
           0.015173155814409256,
           0.007677006535232067,
           0.007018424104899168,
           0
          ],
          [
           -0.0013090387219563127,
           -0.002182601485401392,
           -0.004590973258018494,
           -0.004469180945307016,
           -0.005098217166960239,
           -0.00620083324611187,
           -0.009128719568252563,
           0.030747126787900925,
           0.018874743953347206,
           0.030113760381937027,
           0.039260078221559525,
           0.024022743105888367,
           -0.0024001647252589464,
           -0.019391648471355438,
           -0.022357987239956856,
           -0.024479692801833153,
           -0.022304195910692215,
           -0.01104795839637518,
           -0.009745861403644085,
           -0.0013165734708309174,
           -0.002340021776035428,
           -0.004802186042070389,
           -0.001753368298523128,
           0
          ],
          [
           -0.00023082956613507122,
           0.0008759576012380421,
           0.0010541790397837758,
           0.0002715974405873567,
           -0.0024324830155819654,
           -0.0011610635556280613,
           0.005133764818310738,
           0.01627313531935215,
           0.011963768862187862,
           0.009328898973762989,
           0.013978831470012665,
           0.032203927636146545,
           0.10659293830394745,
           0.13641329109668732,
           0.14024502038955688,
           0.38415712118148804,
           0.37295305728912354,
           0.5473750829696655,
           0.5385157465934753,
           0.8791384696960449,
           0.8819833397865295,
           0.9178101420402527,
           1,
           0.8916093111038208
          ]
         ]
        }
       ],
       "layout": {
        "coloraxis": {
         "cmid": 0,
         "colorbar": {
          "len": 1,
          "lenmode": "fraction",
          "thickness": 10,
          "thicknessmode": "pixels",
          "title": {}
         },
         "colorscale": [
          [
           0,
           "rgb(103,0,31)"
          ],
          [
           0.1,
           "rgb(178,24,43)"
          ],
          [
           0.2,
           "rgb(214,96,77)"
          ],
          [
           0.3,
           "rgb(244,165,130)"
          ],
          [
           0.4,
           "rgb(253,219,199)"
          ],
          [
           0.5,
           "rgb(247,247,247)"
          ],
          [
           0.6,
           "rgb(209,229,240)"
          ],
          [
           0.7,
           "rgb(146,197,222)"
          ],
          [
           0.8,
           "rgb(67,147,195)"
          ],
          [
           0.9,
           "rgb(33,102,172)"
          ],
          [
           1,
           "rgb(5,48,97)"
          ]
         ]
        },
        "font": {
         "color": "black",
         "size": 12
        },
        "height": 300,
        "margin": {
         "b": 20,
         "l": 10,
         "r": 10,
         "t": 20
        },
        "template": {
         "data": {
          "bar": [
           {
            "error_x": {
             "color": "#2a3f5f"
            },
            "error_y": {
             "color": "#2a3f5f"
            },
            "marker": {
             "line": {
              "color": "#E5ECF6",
              "width": 0.5
             },
             "pattern": {
              "fillmode": "overlay",
              "size": 10,
              "solidity": 0.2
             }
            },
            "type": "bar"
           }
          ],
          "barpolar": [
           {
            "marker": {
             "line": {
              "color": "#E5ECF6",
              "width": 0.5
             },
             "pattern": {
              "fillmode": "overlay",
              "size": 10,
              "solidity": 0.2
             }
            },
            "type": "barpolar"
           }
          ],
          "carpet": [
           {
            "aaxis": {
             "endlinecolor": "#2a3f5f",
             "gridcolor": "white",
             "linecolor": "white",
             "minorgridcolor": "white",
             "startlinecolor": "#2a3f5f"
            },
            "baxis": {
             "endlinecolor": "#2a3f5f",
             "gridcolor": "white",
             "linecolor": "white",
             "minorgridcolor": "white",
             "startlinecolor": "#2a3f5f"
            },
            "type": "carpet"
           }
          ],
          "choropleth": [
           {
            "colorbar": {
             "outlinewidth": 0,
             "ticks": ""
            },
            "type": "choropleth"
           }
          ],
          "contour": [
           {
            "colorbar": {
             "outlinewidth": 0,
             "ticks": ""
            },
            "colorscale": [
             [
              0,
              "#0d0887"
             ],
             [
              0.1111111111111111,
              "#46039f"
             ],
             [
              0.2222222222222222,
              "#7201a8"
             ],
             [
              0.3333333333333333,
              "#9c179e"
             ],
             [
              0.4444444444444444,
              "#bd3786"
             ],
             [
              0.5555555555555556,
              "#d8576b"
             ],
             [
              0.6666666666666666,
              "#ed7953"
             ],
             [
              0.7777777777777778,
              "#fb9f3a"
             ],
             [
              0.8888888888888888,
              "#fdca26"
             ],
             [
              1,
              "#f0f921"
             ]
            ],
            "type": "contour"
           }
          ],
          "contourcarpet": [
           {
            "colorbar": {
             "outlinewidth": 0,
             "ticks": ""
            },
            "type": "contourcarpet"
           }
          ],
          "heatmap": [
           {
            "colorbar": {
             "outlinewidth": 0,
             "ticks": ""
            },
            "colorscale": [
             [
              0,
              "#0d0887"
             ],
             [
              0.1111111111111111,
              "#46039f"
             ],
             [
              0.2222222222222222,
              "#7201a8"
             ],
             [
              0.3333333333333333,
              "#9c179e"
             ],
             [
              0.4444444444444444,
              "#bd3786"
             ],
             [
              0.5555555555555556,
              "#d8576b"
             ],
             [
              0.6666666666666666,
              "#ed7953"
             ],
             [
              0.7777777777777778,
              "#fb9f3a"
             ],
             [
              0.8888888888888888,
              "#fdca26"
             ],
             [
              1,
              "#f0f921"
             ]
            ],
            "type": "heatmap"
           }
          ],
          "heatmapgl": [
           {
            "colorbar": {
             "outlinewidth": 0,
             "ticks": ""
            },
            "colorscale": [
             [
              0,
              "#0d0887"
             ],
             [
              0.1111111111111111,
              "#46039f"
             ],
             [
              0.2222222222222222,
              "#7201a8"
             ],
             [
              0.3333333333333333,
              "#9c179e"
             ],
             [
              0.4444444444444444,
              "#bd3786"
             ],
             [
              0.5555555555555556,
              "#d8576b"
             ],
             [
              0.6666666666666666,
              "#ed7953"
             ],
             [
              0.7777777777777778,
              "#fb9f3a"
             ],
             [
              0.8888888888888888,
              "#fdca26"
             ],
             [
              1,
              "#f0f921"
             ]
            ],
            "type": "heatmapgl"
           }
          ],
          "histogram": [
           {
            "marker": {
             "pattern": {
              "fillmode": "overlay",
              "size": 10,
              "solidity": 0.2
             }
            },
            "type": "histogram"
           }
          ],
          "histogram2d": [
           {
            "colorbar": {
             "outlinewidth": 0,
             "ticks": ""
            },
            "colorscale": [
             [
              0,
              "#0d0887"
             ],
             [
              0.1111111111111111,
              "#46039f"
             ],
             [
              0.2222222222222222,
              "#7201a8"
             ],
             [
              0.3333333333333333,
              "#9c179e"
             ],
             [
              0.4444444444444444,
              "#bd3786"
             ],
             [
              0.5555555555555556,
              "#d8576b"
             ],
             [
              0.6666666666666666,
              "#ed7953"
             ],
             [
              0.7777777777777778,
              "#fb9f3a"
             ],
             [
              0.8888888888888888,
              "#fdca26"
             ],
             [
              1,
              "#f0f921"
             ]
            ],
            "type": "histogram2d"
           }
          ],
          "histogram2dcontour": [
           {
            "colorbar": {
             "outlinewidth": 0,
             "ticks": ""
            },
            "colorscale": [
             [
              0,
              "#0d0887"
             ],
             [
              0.1111111111111111,
              "#46039f"
             ],
             [
              0.2222222222222222,
              "#7201a8"
             ],
             [
              0.3333333333333333,
              "#9c179e"
             ],
             [
              0.4444444444444444,
              "#bd3786"
             ],
             [
              0.5555555555555556,
              "#d8576b"
             ],
             [
              0.6666666666666666,
              "#ed7953"
             ],
             [
              0.7777777777777778,
              "#fb9f3a"
             ],
             [
              0.8888888888888888,
              "#fdca26"
             ],
             [
              1,
              "#f0f921"
             ]
            ],
            "type": "histogram2dcontour"
           }
          ],
          "mesh3d": [
           {
            "colorbar": {
             "outlinewidth": 0,
             "ticks": ""
            },
            "type": "mesh3d"
           }
          ],
          "parcoords": [
           {
            "line": {
             "colorbar": {
              "outlinewidth": 0,
              "ticks": ""
             }
            },
            "type": "parcoords"
           }
          ],
          "pie": [
           {
            "automargin": true,
            "type": "pie"
           }
          ],
          "scatter": [
           {
            "fillpattern": {
             "fillmode": "overlay",
             "size": 10,
             "solidity": 0.2
            },
            "type": "scatter"
           }
          ],
          "scatter3d": [
           {
            "line": {
             "colorbar": {
              "outlinewidth": 0,
              "ticks": ""
             }
            },
            "marker": {
             "colorbar": {
              "outlinewidth": 0,
              "ticks": ""
             }
            },
            "type": "scatter3d"
           }
          ],
          "scattercarpet": [
           {
            "marker": {
             "colorbar": {
              "outlinewidth": 0,
              "ticks": ""
             }
            },
            "type": "scattercarpet"
           }
          ],
          "scattergeo": [
           {
            "marker": {
             "colorbar": {
              "outlinewidth": 0,
              "ticks": ""
             }
            },
            "type": "scattergeo"
           }
          ],
          "scattergl": [
           {
            "marker": {
             "colorbar": {
              "outlinewidth": 0,
              "ticks": ""
             }
            },
            "type": "scattergl"
           }
          ],
          "scattermapbox": [
           {
            "marker": {
             "colorbar": {
              "outlinewidth": 0,
              "ticks": ""
             }
            },
            "type": "scattermapbox"
           }
          ],
          "scatterpolar": [
           {
            "marker": {
             "colorbar": {
              "outlinewidth": 0,
              "ticks": ""
             }
            },
            "type": "scatterpolar"
           }
          ],
          "scatterpolargl": [
           {
            "marker": {
             "colorbar": {
              "outlinewidth": 0,
              "ticks": ""
             }
            },
            "type": "scatterpolargl"
           }
          ],
          "scatterternary": [
           {
            "marker": {
             "colorbar": {
              "outlinewidth": 0,
              "ticks": ""
             }
            },
            "type": "scatterternary"
           }
          ],
          "surface": [
           {
            "colorbar": {
             "outlinewidth": 0,
             "ticks": ""
            },
            "colorscale": [
             [
              0,
              "#0d0887"
             ],
             [
              0.1111111111111111,
              "#46039f"
             ],
             [
              0.2222222222222222,
              "#7201a8"
             ],
             [
              0.3333333333333333,
              "#9c179e"
             ],
             [
              0.4444444444444444,
              "#bd3786"
             ],
             [
              0.5555555555555556,
              "#d8576b"
             ],
             [
              0.6666666666666666,
              "#ed7953"
             ],
             [
              0.7777777777777778,
              "#fb9f3a"
             ],
             [
              0.8888888888888888,
              "#fdca26"
             ],
             [
              1,
              "#f0f921"
             ]
            ],
            "type": "surface"
           }
          ],
          "table": [
           {
            "cells": {
             "fill": {
              "color": "#EBF0F8"
             },
             "line": {
              "color": "white"
             }
            },
            "header": {
             "fill": {
              "color": "#C8D4E3"
             },
             "line": {
              "color": "white"
             }
            },
            "type": "table"
           }
          ]
         },
         "layout": {
          "annotationdefaults": {
           "arrowcolor": "#2a3f5f",
           "arrowhead": 0,
           "arrowwidth": 1
          },
          "autotypenumbers": "strict",
          "coloraxis": {
           "colorbar": {
            "outlinewidth": 0,
            "ticks": ""
           }
          },
          "colorscale": {
           "diverging": [
            [
             0,
             "#8e0152"
            ],
            [
             0.1,
             "#c51b7d"
            ],
            [
             0.2,
             "#de77ae"
            ],
            [
             0.3,
             "#f1b6da"
            ],
            [
             0.4,
             "#fde0ef"
            ],
            [
             0.5,
             "#f7f7f7"
            ],
            [
             0.6,
             "#e6f5d0"
            ],
            [
             0.7,
             "#b8e186"
            ],
            [
             0.8,
             "#7fbc41"
            ],
            [
             0.9,
             "#4d9221"
            ],
            [
             1,
             "#276419"
            ]
           ],
           "sequential": [
            [
             0,
             "#0d0887"
            ],
            [
             0.1111111111111111,
             "#46039f"
            ],
            [
             0.2222222222222222,
             "#7201a8"
            ],
            [
             0.3333333333333333,
             "#9c179e"
            ],
            [
             0.4444444444444444,
             "#bd3786"
            ],
            [
             0.5555555555555556,
             "#d8576b"
            ],
            [
             0.6666666666666666,
             "#ed7953"
            ],
            [
             0.7777777777777778,
             "#fb9f3a"
            ],
            [
             0.8888888888888888,
             "#fdca26"
            ],
            [
             1,
             "#f0f921"
            ]
           ],
           "sequentialminus": [
            [
             0,
             "#0d0887"
            ],
            [
             0.1111111111111111,
             "#46039f"
            ],
            [
             0.2222222222222222,
             "#7201a8"
            ],
            [
             0.3333333333333333,
             "#9c179e"
            ],
            [
             0.4444444444444444,
             "#bd3786"
            ],
            [
             0.5555555555555556,
             "#d8576b"
            ],
            [
             0.6666666666666666,
             "#ed7953"
            ],
            [
             0.7777777777777778,
             "#fb9f3a"
            ],
            [
             0.8888888888888888,
             "#fdca26"
            ],
            [
             1,
             "#f0f921"
            ]
           ]
          },
          "colorway": [
           "#636efa",
           "#EF553B",
           "#00cc96",
           "#ab63fa",
           "#FFA15A",
           "#19d3f3",
           "#FF6692",
           "#B6E880",
           "#FF97FF",
           "#FECB52"
          ],
          "font": {
           "color": "#2a3f5f"
          },
          "geo": {
           "bgcolor": "white",
           "lakecolor": "white",
           "landcolor": "#E5ECF6",
           "showlakes": true,
           "showland": true,
           "subunitcolor": "white"
          },
          "hoverlabel": {
           "align": "left"
          },
          "hovermode": "closest",
          "mapbox": {
           "style": "light"
          },
          "paper_bgcolor": "white",
          "plot_bgcolor": "#E5ECF6",
          "polar": {
           "angularaxis": {
            "gridcolor": "white",
            "linecolor": "white",
            "ticks": ""
           },
           "bgcolor": "#E5ECF6",
           "radialaxis": {
            "gridcolor": "white",
            "linecolor": "white",
            "ticks": ""
           }
          },
          "scene": {
           "xaxis": {
            "backgroundcolor": "#E5ECF6",
            "gridcolor": "white",
            "gridwidth": 2,
            "linecolor": "white",
            "showbackground": true,
            "ticks": "",
            "zerolinecolor": "white"
           },
           "yaxis": {
            "backgroundcolor": "#E5ECF6",
            "gridcolor": "white",
            "gridwidth": 2,
            "linecolor": "white",
            "showbackground": true,
            "ticks": "",
            "zerolinecolor": "white"
           },
           "zaxis": {
            "backgroundcolor": "#E5ECF6",
            "gridcolor": "white",
            "gridwidth": 2,
            "linecolor": "white",
            "showbackground": true,
            "ticks": "",
            "zerolinecolor": "white"
           }
          },
          "shapedefaults": {
           "line": {
            "color": "#2a3f5f"
           }
          },
          "ternary": {
           "aaxis": {
            "gridcolor": "white",
            "linecolor": "white",
            "ticks": ""
           },
           "baxis": {
            "gridcolor": "white",
            "linecolor": "white",
            "ticks": ""
           },
           "bgcolor": "#E5ECF6",
           "caxis": {
            "gridcolor": "white",
            "linecolor": "white",
            "ticks": ""
           }
          },
          "title": {
           "x": 0.05
          },
          "xaxis": {
           "automargin": true,
           "gridcolor": "white",
           "linecolor": "white",
           "ticks": "",
           "title": {
            "standoff": 15
           },
           "zerolinecolor": "white",
           "zerolinewidth": 2
          },
          "yaxis": {
           "automargin": true,
           "gridcolor": "white",
           "linecolor": "white",
           "ticks": "",
           "title": {
            "standoff": 15
           },
           "zerolinecolor": "white",
           "zerolinewidth": 2
          }
         }
        },
        "title": {
         "font": {
          "size": 14
         }
        },
        "width": 400,
        "xaxis": {
         "anchor": "y",
         "constrain": "domain",
         "domain": [
          0,
          1
         ],
         "linecolor": "black",
         "linewidth": 1,
         "mirror": true,
         "scaleanchor": "y",
         "showline": true,
         "showticklabels": true,
         "tickmode": "array",
         "ticks": "",
         "title": {}
        },
        "yaxis": {
         "anchor": "x",
         "autorange": "reversed",
         "constrain": "domain",
         "domain": [
          0,
          1
         ],
         "linecolor": "black",
         "linewidth": 1,
         "mirror": true,
         "showline": true,
         "showticklabels": true,
         "tickmode": "array",
         "ticks": "",
         "ticktext": [
          "BEGIN",
          "s_1",
          "s_1 -> m_1",
          "m_1",
          "m_1 -> m_2",
          "m_2",
          "m_2 -> p",
          "p",
          "p -> s_2",
          "s_2",
          "END"
         ],
         "tickvals": [
          0,
          1,
          2,
          3,
          4,
          5,
          6,
          7,
          8,
          9,
          10
         ],
         "title": {}
        }
       }
      }
     },
     "metadata": {},
     "output_type": "display_data"
    }
   ],
   "source": [
    "pu.plot_residual(h.normalise_tensor(h.resize_all(s_resid_denoising)), labels, image_dir / \"symbolic_residual_gpt2.png\")"
   ]
  },
  {
   "cell_type": "code",
   "execution_count": 51,
   "metadata": {},
   "outputs": [
    {
     "name": "stdout",
     "output_type": "stream",
     "text": [
      "Plot saved to ../images/gpt-2_vs_pythia/symbolic_residual_pythia410m.png\n"
     ]
    },
    {
     "data": {
      "application/vnd.plotly.v1+json": {
       "config": {
        "plotlyServerURL": "https://plot.ly"
       },
       "data": [
        {
         "coloraxis": "coloraxis",
         "hovertemplate": "Layer: %{x}<br>Sequence Position: %{y}<br>color: %{z}<extra></extra>",
         "name": "0",
         "type": "heatmap",
         "xaxis": "x",
         "y": [
          "BEGIN",
          "s_1",
          "s_1 -> m_1",
          "m_1",
          "m_1 -> m_2",
          "m_2",
          "m_2 -> p",
          "p",
          "p -> s_2",
          "s_2",
          "END"
         ],
         "yaxis": "y",
         "z": [
          [
           0,
           0,
           0,
           0,
           0,
           0,
           0,
           0,
           0,
           0,
           0,
           0,
           0,
           0,
           0,
           0,
           0,
           0,
           0,
           0,
           0,
           0,
           0,
           0
          ],
          [
           0,
           0,
           0,
           0,
           0,
           0,
           0,
           0,
           0,
           0,
           0,
           0,
           0,
           0,
           0,
           0,
           0,
           0,
           0,
           0,
           0,
           0,
           0,
           0
          ],
          [
           0,
           0,
           0,
           0,
           0,
           0,
           0,
           0,
           0,
           0,
           0,
           0,
           0,
           0,
           0,
           0,
           0,
           0,
           0,
           0,
           0,
           0,
           0,
           0
          ],
          [
           0,
           0,
           0,
           0,
           0,
           0,
           0,
           0,
           0,
           0,
           0,
           0,
           0,
           0,
           0,
           0,
           0,
           0,
           0,
           0,
           0,
           0,
           0,
           0
          ],
          [
           0,
           0,
           0,
           0,
           0,
           0,
           0,
           0,
           0,
           0,
           0,
           0,
           0,
           0,
           0,
           0,
           0,
           0,
           0,
           0,
           0,
           0,
           0,
           0
          ],
          [
           0.9952793121337891,
           0.9947608113288879,
           0.9858753085136414,
           1,
           0.9662426710128784,
           0.9024106860160828,
           0.8955269455909729,
           0.8729536533355713,
           0.7282001972198486,
           0.6202994585037231,
           0.2667253613471985,
           0.05611562728881836,
           -0.01924663782119751,
           -0.003229859983548522,
           -0.058823470026254654,
           0.017179030925035477,
           -0.12514860928058624,
           0.044898003339767456,
           0.06845341622829437,
           -0.09547445923089981,
           -0.07913977652788162,
           0.0008407570421695709,
           -0.00012436513497959822,
           0
          ],
          [
           0.003216159762814641,
           0.01770787127315998,
           0.021547213196754456,
           0.02183292992413044,
           0.056417398154735565,
           0.17787565290927887,
           0.1601894199848175,
           0.1243068128824234,
           0.17028391361236572,
           0.07326270639896393,
           0.1818333864212036,
           0.06383927911520004,
           0.05160363391041756,
           -0.03609277307987213,
           0.012602481059730053,
           -0.007667383179068565,
           0.011783753521740437,
           0.0015531998360529542,
           0.00032501519308425486,
           0.004241009242832661,
           0.006919468753039837,
           0.011462184600532055,
           -0.001860709162428975,
           0
          ],
          [
           -0.0032808410469442606,
           -0.012014791369438171,
           -0.0015336403157562017,
           -0.01289344672113657,
           -0.002558704698458314,
           -0.007626439910382032,
           0.016642853617668152,
           0.06474388390779495,
           0.14284773170948029,
           0.21694953739643097,
           0.6769171953201294,
           0.555741012096405,
           0.5176197290420532,
           0.36054325103759766,
           0.34010669589042664,
           0.2646865248680115,
           0.20598140358924866,
           0.17479443550109863,
           0.11250254511833191,
           0.09127265959978104,
           0.0735798180103302,
           -0.0005262827617116272,
           0.000027630312615656294,
           0
          ],
          [
           0.0012977917212992907,
           0.00095419364515692,
           0.0002268873795401305,
           -0.0005383746465668082,
           -0.003139084903523326,
           -0.0007258701371029019,
           -0.0048700436018407345,
           -0.009385316632688046,
           -0.005044614430516958,
           -0.007195599377155304,
           -0.00943669956177473,
           0.009976251982152462,
           0.012697693891823292,
           0.008484689518809319,
           0.007998616434633732,
           0.0031707219313830137,
           0.0006970621761865914,
           -0.00011701235780492425,
           -0.00026639414136298,
           0.00020841929654125124,
           0.0005017544026486576,
           0.0005775797762908041,
           -0.00023210035578813404,
           0
          ],
          [
           -0.0005565841565839946,
           0.0008198907598853111,
           -0.0006203895318321884,
           0.0003755367361009121,
           -0.003669518046081066,
           -0.0011322395876049995,
           0.003098027314990759,
           0.022801470011472702,
           0.05980193242430687,
           0.05062440037727356,
           -0.06250414997339249,
           -0.055339984595775604,
           -0.05981879308819771,
           -0.023628856986761093,
           -0.023463131859898567,
           -0.026137743145227432,
           0.0023980927653610706,
           -0.0072791799902915955,
           -0.008181000128388405,
           -0.00005554784365813248,
           -0.00034519220935180783,
           0.000044820273615187034,
           -0.000131100372527726,
           0
          ],
          [
           -0.0006515526329167187,
           -0.0006023523164913058,
           0.0013426407240331173,
           0.0026283981278538704,
           0.003118951106444001,
           0.0017485793214291334,
           0.0035250333603471518,
           0.0063400655053555965,
           0.020886965095996857,
           0.07891226559877396,
           -0.017420049756765366,
           0.3455165922641754,
           0.5139101147651672,
           0.6751450300216675,
           0.7075416445732117,
           0.756472647190094,
           0.9754394292831421,
           0.8219743967056274,
           0.8518742918968201,
           0.990589439868927,
           0.9858185648918152,
           0.9586667418479919,
           0.9838472604751587,
           0.9920835494995117
          ]
         ]
        }
       ],
       "layout": {
        "coloraxis": {
         "cmid": 0,
         "colorbar": {
          "len": 1,
          "lenmode": "fraction",
          "thickness": 10,
          "thicknessmode": "pixels",
          "title": {}
         },
         "colorscale": [
          [
           0,
           "rgb(103,0,31)"
          ],
          [
           0.1,
           "rgb(178,24,43)"
          ],
          [
           0.2,
           "rgb(214,96,77)"
          ],
          [
           0.3,
           "rgb(244,165,130)"
          ],
          [
           0.4,
           "rgb(253,219,199)"
          ],
          [
           0.5,
           "rgb(247,247,247)"
          ],
          [
           0.6,
           "rgb(209,229,240)"
          ],
          [
           0.7,
           "rgb(146,197,222)"
          ],
          [
           0.8,
           "rgb(67,147,195)"
          ],
          [
           0.9,
           "rgb(33,102,172)"
          ],
          [
           1,
           "rgb(5,48,97)"
          ]
         ]
        },
        "font": {
         "color": "black",
         "size": 12
        },
        "height": 300,
        "margin": {
         "b": 20,
         "l": 10,
         "r": 10,
         "t": 20
        },
        "template": {
         "data": {
          "bar": [
           {
            "error_x": {
             "color": "#2a3f5f"
            },
            "error_y": {
             "color": "#2a3f5f"
            },
            "marker": {
             "line": {
              "color": "#E5ECF6",
              "width": 0.5
             },
             "pattern": {
              "fillmode": "overlay",
              "size": 10,
              "solidity": 0.2
             }
            },
            "type": "bar"
           }
          ],
          "barpolar": [
           {
            "marker": {
             "line": {
              "color": "#E5ECF6",
              "width": 0.5
             },
             "pattern": {
              "fillmode": "overlay",
              "size": 10,
              "solidity": 0.2
             }
            },
            "type": "barpolar"
           }
          ],
          "carpet": [
           {
            "aaxis": {
             "endlinecolor": "#2a3f5f",
             "gridcolor": "white",
             "linecolor": "white",
             "minorgridcolor": "white",
             "startlinecolor": "#2a3f5f"
            },
            "baxis": {
             "endlinecolor": "#2a3f5f",
             "gridcolor": "white",
             "linecolor": "white",
             "minorgridcolor": "white",
             "startlinecolor": "#2a3f5f"
            },
            "type": "carpet"
           }
          ],
          "choropleth": [
           {
            "colorbar": {
             "outlinewidth": 0,
             "ticks": ""
            },
            "type": "choropleth"
           }
          ],
          "contour": [
           {
            "colorbar": {
             "outlinewidth": 0,
             "ticks": ""
            },
            "colorscale": [
             [
              0,
              "#0d0887"
             ],
             [
              0.1111111111111111,
              "#46039f"
             ],
             [
              0.2222222222222222,
              "#7201a8"
             ],
             [
              0.3333333333333333,
              "#9c179e"
             ],
             [
              0.4444444444444444,
              "#bd3786"
             ],
             [
              0.5555555555555556,
              "#d8576b"
             ],
             [
              0.6666666666666666,
              "#ed7953"
             ],
             [
              0.7777777777777778,
              "#fb9f3a"
             ],
             [
              0.8888888888888888,
              "#fdca26"
             ],
             [
              1,
              "#f0f921"
             ]
            ],
            "type": "contour"
           }
          ],
          "contourcarpet": [
           {
            "colorbar": {
             "outlinewidth": 0,
             "ticks": ""
            },
            "type": "contourcarpet"
           }
          ],
          "heatmap": [
           {
            "colorbar": {
             "outlinewidth": 0,
             "ticks": ""
            },
            "colorscale": [
             [
              0,
              "#0d0887"
             ],
             [
              0.1111111111111111,
              "#46039f"
             ],
             [
              0.2222222222222222,
              "#7201a8"
             ],
             [
              0.3333333333333333,
              "#9c179e"
             ],
             [
              0.4444444444444444,
              "#bd3786"
             ],
             [
              0.5555555555555556,
              "#d8576b"
             ],
             [
              0.6666666666666666,
              "#ed7953"
             ],
             [
              0.7777777777777778,
              "#fb9f3a"
             ],
             [
              0.8888888888888888,
              "#fdca26"
             ],
             [
              1,
              "#f0f921"
             ]
            ],
            "type": "heatmap"
           }
          ],
          "heatmapgl": [
           {
            "colorbar": {
             "outlinewidth": 0,
             "ticks": ""
            },
            "colorscale": [
             [
              0,
              "#0d0887"
             ],
             [
              0.1111111111111111,
              "#46039f"
             ],
             [
              0.2222222222222222,
              "#7201a8"
             ],
             [
              0.3333333333333333,
              "#9c179e"
             ],
             [
              0.4444444444444444,
              "#bd3786"
             ],
             [
              0.5555555555555556,
              "#d8576b"
             ],
             [
              0.6666666666666666,
              "#ed7953"
             ],
             [
              0.7777777777777778,
              "#fb9f3a"
             ],
             [
              0.8888888888888888,
              "#fdca26"
             ],
             [
              1,
              "#f0f921"
             ]
            ],
            "type": "heatmapgl"
           }
          ],
          "histogram": [
           {
            "marker": {
             "pattern": {
              "fillmode": "overlay",
              "size": 10,
              "solidity": 0.2
             }
            },
            "type": "histogram"
           }
          ],
          "histogram2d": [
           {
            "colorbar": {
             "outlinewidth": 0,
             "ticks": ""
            },
            "colorscale": [
             [
              0,
              "#0d0887"
             ],
             [
              0.1111111111111111,
              "#46039f"
             ],
             [
              0.2222222222222222,
              "#7201a8"
             ],
             [
              0.3333333333333333,
              "#9c179e"
             ],
             [
              0.4444444444444444,
              "#bd3786"
             ],
             [
              0.5555555555555556,
              "#d8576b"
             ],
             [
              0.6666666666666666,
              "#ed7953"
             ],
             [
              0.7777777777777778,
              "#fb9f3a"
             ],
             [
              0.8888888888888888,
              "#fdca26"
             ],
             [
              1,
              "#f0f921"
             ]
            ],
            "type": "histogram2d"
           }
          ],
          "histogram2dcontour": [
           {
            "colorbar": {
             "outlinewidth": 0,
             "ticks": ""
            },
            "colorscale": [
             [
              0,
              "#0d0887"
             ],
             [
              0.1111111111111111,
              "#46039f"
             ],
             [
              0.2222222222222222,
              "#7201a8"
             ],
             [
              0.3333333333333333,
              "#9c179e"
             ],
             [
              0.4444444444444444,
              "#bd3786"
             ],
             [
              0.5555555555555556,
              "#d8576b"
             ],
             [
              0.6666666666666666,
              "#ed7953"
             ],
             [
              0.7777777777777778,
              "#fb9f3a"
             ],
             [
              0.8888888888888888,
              "#fdca26"
             ],
             [
              1,
              "#f0f921"
             ]
            ],
            "type": "histogram2dcontour"
           }
          ],
          "mesh3d": [
           {
            "colorbar": {
             "outlinewidth": 0,
             "ticks": ""
            },
            "type": "mesh3d"
           }
          ],
          "parcoords": [
           {
            "line": {
             "colorbar": {
              "outlinewidth": 0,
              "ticks": ""
             }
            },
            "type": "parcoords"
           }
          ],
          "pie": [
           {
            "automargin": true,
            "type": "pie"
           }
          ],
          "scatter": [
           {
            "fillpattern": {
             "fillmode": "overlay",
             "size": 10,
             "solidity": 0.2
            },
            "type": "scatter"
           }
          ],
          "scatter3d": [
           {
            "line": {
             "colorbar": {
              "outlinewidth": 0,
              "ticks": ""
             }
            },
            "marker": {
             "colorbar": {
              "outlinewidth": 0,
              "ticks": ""
             }
            },
            "type": "scatter3d"
           }
          ],
          "scattercarpet": [
           {
            "marker": {
             "colorbar": {
              "outlinewidth": 0,
              "ticks": ""
             }
            },
            "type": "scattercarpet"
           }
          ],
          "scattergeo": [
           {
            "marker": {
             "colorbar": {
              "outlinewidth": 0,
              "ticks": ""
             }
            },
            "type": "scattergeo"
           }
          ],
          "scattergl": [
           {
            "marker": {
             "colorbar": {
              "outlinewidth": 0,
              "ticks": ""
             }
            },
            "type": "scattergl"
           }
          ],
          "scattermapbox": [
           {
            "marker": {
             "colorbar": {
              "outlinewidth": 0,
              "ticks": ""
             }
            },
            "type": "scattermapbox"
           }
          ],
          "scatterpolar": [
           {
            "marker": {
             "colorbar": {
              "outlinewidth": 0,
              "ticks": ""
             }
            },
            "type": "scatterpolar"
           }
          ],
          "scatterpolargl": [
           {
            "marker": {
             "colorbar": {
              "outlinewidth": 0,
              "ticks": ""
             }
            },
            "type": "scatterpolargl"
           }
          ],
          "scatterternary": [
           {
            "marker": {
             "colorbar": {
              "outlinewidth": 0,
              "ticks": ""
             }
            },
            "type": "scatterternary"
           }
          ],
          "surface": [
           {
            "colorbar": {
             "outlinewidth": 0,
             "ticks": ""
            },
            "colorscale": [
             [
              0,
              "#0d0887"
             ],
             [
              0.1111111111111111,
              "#46039f"
             ],
             [
              0.2222222222222222,
              "#7201a8"
             ],
             [
              0.3333333333333333,
              "#9c179e"
             ],
             [
              0.4444444444444444,
              "#bd3786"
             ],
             [
              0.5555555555555556,
              "#d8576b"
             ],
             [
              0.6666666666666666,
              "#ed7953"
             ],
             [
              0.7777777777777778,
              "#fb9f3a"
             ],
             [
              0.8888888888888888,
              "#fdca26"
             ],
             [
              1,
              "#f0f921"
             ]
            ],
            "type": "surface"
           }
          ],
          "table": [
           {
            "cells": {
             "fill": {
              "color": "#EBF0F8"
             },
             "line": {
              "color": "white"
             }
            },
            "header": {
             "fill": {
              "color": "#C8D4E3"
             },
             "line": {
              "color": "white"
             }
            },
            "type": "table"
           }
          ]
         },
         "layout": {
          "annotationdefaults": {
           "arrowcolor": "#2a3f5f",
           "arrowhead": 0,
           "arrowwidth": 1
          },
          "autotypenumbers": "strict",
          "coloraxis": {
           "colorbar": {
            "outlinewidth": 0,
            "ticks": ""
           }
          },
          "colorscale": {
           "diverging": [
            [
             0,
             "#8e0152"
            ],
            [
             0.1,
             "#c51b7d"
            ],
            [
             0.2,
             "#de77ae"
            ],
            [
             0.3,
             "#f1b6da"
            ],
            [
             0.4,
             "#fde0ef"
            ],
            [
             0.5,
             "#f7f7f7"
            ],
            [
             0.6,
             "#e6f5d0"
            ],
            [
             0.7,
             "#b8e186"
            ],
            [
             0.8,
             "#7fbc41"
            ],
            [
             0.9,
             "#4d9221"
            ],
            [
             1,
             "#276419"
            ]
           ],
           "sequential": [
            [
             0,
             "#0d0887"
            ],
            [
             0.1111111111111111,
             "#46039f"
            ],
            [
             0.2222222222222222,
             "#7201a8"
            ],
            [
             0.3333333333333333,
             "#9c179e"
            ],
            [
             0.4444444444444444,
             "#bd3786"
            ],
            [
             0.5555555555555556,
             "#d8576b"
            ],
            [
             0.6666666666666666,
             "#ed7953"
            ],
            [
             0.7777777777777778,
             "#fb9f3a"
            ],
            [
             0.8888888888888888,
             "#fdca26"
            ],
            [
             1,
             "#f0f921"
            ]
           ],
           "sequentialminus": [
            [
             0,
             "#0d0887"
            ],
            [
             0.1111111111111111,
             "#46039f"
            ],
            [
             0.2222222222222222,
             "#7201a8"
            ],
            [
             0.3333333333333333,
             "#9c179e"
            ],
            [
             0.4444444444444444,
             "#bd3786"
            ],
            [
             0.5555555555555556,
             "#d8576b"
            ],
            [
             0.6666666666666666,
             "#ed7953"
            ],
            [
             0.7777777777777778,
             "#fb9f3a"
            ],
            [
             0.8888888888888888,
             "#fdca26"
            ],
            [
             1,
             "#f0f921"
            ]
           ]
          },
          "colorway": [
           "#636efa",
           "#EF553B",
           "#00cc96",
           "#ab63fa",
           "#FFA15A",
           "#19d3f3",
           "#FF6692",
           "#B6E880",
           "#FF97FF",
           "#FECB52"
          ],
          "font": {
           "color": "#2a3f5f"
          },
          "geo": {
           "bgcolor": "white",
           "lakecolor": "white",
           "landcolor": "#E5ECF6",
           "showlakes": true,
           "showland": true,
           "subunitcolor": "white"
          },
          "hoverlabel": {
           "align": "left"
          },
          "hovermode": "closest",
          "mapbox": {
           "style": "light"
          },
          "paper_bgcolor": "white",
          "plot_bgcolor": "#E5ECF6",
          "polar": {
           "angularaxis": {
            "gridcolor": "white",
            "linecolor": "white",
            "ticks": ""
           },
           "bgcolor": "#E5ECF6",
           "radialaxis": {
            "gridcolor": "white",
            "linecolor": "white",
            "ticks": ""
           }
          },
          "scene": {
           "xaxis": {
            "backgroundcolor": "#E5ECF6",
            "gridcolor": "white",
            "gridwidth": 2,
            "linecolor": "white",
            "showbackground": true,
            "ticks": "",
            "zerolinecolor": "white"
           },
           "yaxis": {
            "backgroundcolor": "#E5ECF6",
            "gridcolor": "white",
            "gridwidth": 2,
            "linecolor": "white",
            "showbackground": true,
            "ticks": "",
            "zerolinecolor": "white"
           },
           "zaxis": {
            "backgroundcolor": "#E5ECF6",
            "gridcolor": "white",
            "gridwidth": 2,
            "linecolor": "white",
            "showbackground": true,
            "ticks": "",
            "zerolinecolor": "white"
           }
          },
          "shapedefaults": {
           "line": {
            "color": "#2a3f5f"
           }
          },
          "ternary": {
           "aaxis": {
            "gridcolor": "white",
            "linecolor": "white",
            "ticks": ""
           },
           "baxis": {
            "gridcolor": "white",
            "linecolor": "white",
            "ticks": ""
           },
           "bgcolor": "#E5ECF6",
           "caxis": {
            "gridcolor": "white",
            "linecolor": "white",
            "ticks": ""
           }
          },
          "title": {
           "x": 0.05
          },
          "xaxis": {
           "automargin": true,
           "gridcolor": "white",
           "linecolor": "white",
           "ticks": "",
           "title": {
            "standoff": 15
           },
           "zerolinecolor": "white",
           "zerolinewidth": 2
          },
          "yaxis": {
           "automargin": true,
           "gridcolor": "white",
           "linecolor": "white",
           "ticks": "",
           "title": {
            "standoff": 15
           },
           "zerolinecolor": "white",
           "zerolinewidth": 2
          }
         }
        },
        "title": {
         "font": {
          "size": 14
         }
        },
        "width": 400,
        "xaxis": {
         "anchor": "y",
         "constrain": "domain",
         "domain": [
          0,
          1
         ],
         "linecolor": "black",
         "linewidth": 1,
         "mirror": true,
         "scaleanchor": "y",
         "showline": true,
         "showticklabels": true,
         "tickmode": "array",
         "ticks": "",
         "title": {}
        },
        "yaxis": {
         "anchor": "x",
         "autorange": "reversed",
         "constrain": "domain",
         "domain": [
          0,
          1
         ],
         "linecolor": "black",
         "linewidth": 1,
         "mirror": true,
         "showline": true,
         "showticklabels": true,
         "tickmode": "array",
         "ticks": "",
         "ticktext": [
          "BEGIN",
          "s_1",
          "s_1 -> m_1",
          "m_1",
          "m_1 -> m_2",
          "m_2",
          "m_2 -> p",
          "p",
          "p -> s_2",
          "s_2",
          "END"
         ],
         "tickvals": [
          0,
          1,
          2,
          3,
          4,
          5,
          6,
          7,
          8,
          9,
          10
         ],
         "title": {}
        }
       }
      }
     },
     "metadata": {},
     "output_type": "display_data"
    }
   ],
   "source": [
    "pu.plot_residual(h.normalise_tensor(h.resize_all(s_resid_denoising_2)), labels, image_dir / \"symbolic_residual_pythia410m.png\")"
   ]
  },
  {
   "cell_type": "code",
   "execution_count": 57,
   "metadata": {},
   "outputs": [
    {
     "name": "stdout",
     "output_type": "stream",
     "text": [
      "torch.Size([24, 11]) torch.Size([24, 11])\n"
     ]
    }
   ],
   "source": [
    "a = h.resize_all(s_resid_denoising)\n",
    "b = h.resize_all(s_resid_denoising_2)\n",
    "\n",
    "print(a.shape, b.shape)\n",
    "# torch.Size([24, 11]) torch.Size([24, 11])"
   ]
  },
  {
   "cell_type": "code",
   "execution_count": 64,
   "metadata": {},
   "outputs": [
    {
     "data": {
      "text/plain": [
       "(torch.Size([24, 15]),\n",
       " torch.Size([24, 15]),\n",
       " torch.Size([24, 11]),\n",
       " torch.Size([24, 11]))"
      ]
     },
     "execution_count": 64,
     "metadata": {},
     "output_type": "execute_result"
    }
   ],
   "source": [
    "s_resid_denoising.shape, s_resid_denoising_2.shape, a.shape, b.shape"
   ]
  },
  {
   "cell_type": "code",
   "execution_count": 92,
   "metadata": {},
   "outputs": [
    {
     "name": "stdout",
     "output_type": "stream",
     "text": [
      "Mean KL(a || b): 0.00877382978796959\n",
      "Mean KL(a || random): 0.3386194407939911\n",
      "Mean KL(b || random): 0.34812092781066895\n"
     ]
    }
   ],
   "source": [
    "import torch\n",
    "import torch.nn.functional as F\n",
    "\n",
    "# Example tensors (a and b)\n",
    "# Ensure these tensors have shape (24, 11)\n",
    "a = h.resize_all(s_resid_denoising)\n",
    "b = h.resize_all(s_resid_denoising_2)\n",
    "\n",
    "# Normalize each row to create valid probability distributions\n",
    "# This ensures the comparison respects 2D relationships row by row\n",
    "a_prob = F.softmax(a, dim=1)  # Normalize rows\n",
    "b_prob = F.softmax(b, dim=1)  # Normalize rows\n",
    "\n",
    "# Create a random baseline with the same shape as a and b\n",
    "random_baseline = torch.rand_like(a_prob)  # Randomly initialized distribution\n",
    "random_baseline = random_baseline / random_baseline.sum(dim=1, keepdim=True)  # Normalize rows to sum to 1\n",
    "\n",
    "# KL Divergence function with numerical stability\n",
    "def kl_divergence_2d(p, q):\n",
    "    epsilon = 1e-10  # To avoid log(0)\n",
    "    return (p * (p.log() - (q + epsilon).log())).sum(dim=1)  # Sum over columns for each row\n",
    "\n",
    "# Compute KL Divergence row by row\n",
    "kl_a_b_rows = kl_divergence_2d(a_prob, b_prob)  # Divergence between a and b (row-wise)\n",
    "kl_a_random_rows = kl_divergence_2d(a_prob, random_baseline)  # Divergence of a from random (row-wise)\n",
    "kl_b_random_rows = kl_divergence_2d(b_prob, random_baseline)  # Divergence of b from random (row-wise)\n",
    "\n",
    "# Average KL divergences across rows\n",
    "mean_kl_a_b = kl_a_b_rows.mean().item()\n",
    "mean_kl_a_random = kl_a_random_rows.mean().item()\n",
    "mean_kl_b_random = kl_b_random_rows.mean().item()\n",
    "\n",
    "# Print results\n",
    "print(\"Mean KL(a || b):\", mean_kl_a_b)\n",
    "print(\"Mean KL(a || random):\", mean_kl_a_random)\n",
    "print(\"Mean KL(b || random):\", mean_kl_b_random)"
   ]
  },
  {
   "cell_type": "markdown",
   "metadata": {
    "id": "4apldPBlabVY"
   },
   "source": [
    "### Figure 4(c) OV logit lens"
   ]
  },
  {
   "cell_type": "code",
   "execution_count": 69,
   "metadata": {
    "id": "KJT50iL3abVY"
   },
   "outputs": [],
   "source": [
    "token_alpha = model.to_tokens(ALPHABET_LIST, prepend_bos=False).to(device)\n",
    "token_alpha = [ element[0].item() for element in token_alpha ]"
   ]
  },
  {
   "cell_type": "code",
   "execution_count": 70,
   "metadata": {
    "id": "n2_prGlwabVY"
   },
   "outputs": [],
   "source": [
    "deductive_head_ov = model.OV\n",
    "ev = model.W_E\n",
    "uev = model.W_U\n",
    "ov_circuit = ev.cpu()[token_alpha, : ] @ deductive_head_ov.AB.cpu() @ uev.cpu()[:, token_alpha]"
   ]
  },
  {
   "cell_type": "code",
   "execution_count": 86,
   "metadata": {
    "colab": {
     "base_uri": "https://localhost:8080/",
     "height": 317
    },
    "id": "ecTqHJM-abVY",
    "outputId": "0b9d0bc6-c4e8-43fd-8411-80b8f8da4e23"
   },
   "outputs": [
    {
     "name": "stdout",
     "output_type": "stream",
     "text": [
      "Plot saved to ../images/gpt-2_vs_pythia/symbolic_ov_circuit.png\n"
     ]
    },
    {
     "data": {
      "application/vnd.plotly.v1+json": {
       "config": {
        "plotlyServerURL": "https://plot.ly"
       },
       "data": [
        {
         "coloraxis": "coloraxis",
         "hovertemplate": "Head: %{x}<br>Layer: %{y}<br>color: %{z}<extra></extra>",
         "name": "0",
         "type": "heatmap",
         "xaxis": "x",
         "yaxis": "y",
         "z": [
          [
           -0.5892310738563538,
           -0.27767214179039,
           -0.18693500757217407,
           -0.1203249990940094,
           -0.3637298047542572,
           -0.12990373373031616,
           -0.06171832233667374,
           -0.11141693592071533,
           -0.3185223937034607,
           -0.15444228053092957,
           -0.28384000062942505,
           -0.29706305265426636,
           -0.09612636268138885,
           -0.18873199820518494,
           -0.5685949325561523,
           0.010700049810111523,
           -0.07099106162786484,
           -0.08552384376525879,
           0.011126269586384296,
           -0.25821641087532043,
           -0.1558586210012436,
           -0.23498567938804626,
           -0.14328192174434662,
           -0.33121100068092346,
           -0.037738822400569916,
           -0.00246968655847013
          ],
          [
           -0.21708476543426514,
           -0.5586665272712708,
           -0.2751525342464447,
           -0.23775804042816162,
           -0.17398670315742493,
           -0.12434593588113785,
           0.10623940080404282,
           -0.05177340656518936,
           -0.17785795032978058,
           0.02346804551780224,
           0.029482895508408546,
           -0.16271193325519562,
           -0.11104841530323029,
           -0.20929832756519318,
           -0.06539814174175262,
           -0.23359887301921844,
           0.26525652408599854,
           -0.11467158794403076,
           -0.05172449350357056,
           -0.18848267197608948,
           -0.2803753912448883,
           0.05281313508749008,
           0.056870002299547195,
           0.00175680301617831,
           -0.22599603235721588,
           0.004037939943373203
          ],
          [
           -0.36984556913375854,
           -0.3899160921573639,
           -0.822123646736145,
           -0.3749331831932068,
           -0.2986446022987366,
           -0.388663113117218,
           -0.305448442697525,
           -0.3274593651294708,
           -0.3823786675930023,
           -0.13835102319717407,
           -0.1991146355867386,
           -0.10175736993551254,
           -0.21340887248516083,
           -0.3117777705192566,
           -0.32262858748435974,
           -0.1360211968421936,
           0.09085404127836227,
           -0.1777409166097641,
           -0.1862560212612152,
           -0.3524518609046936,
           -0.5036789178848267,
           -0.4194365441799164,
           -0.2450234293937683,
           -0.2210138887166977,
           -0.26901450753211975,
           -0.1749648153781891
          ],
          [
           0.23548653721809387,
           -0.1441764086484909,
           -0.1624029278755188,
           -0.4874294698238373,
           -0.37585026025772095,
           -0.1708155870437622,
           -0.16714997589588165,
           -0.1284986287355423,
           -0.43488961458206177,
           -0.14482226967811584,
           -0.296265184879303,
           -0.15798327326774597,
           -0.08268067985773087,
           -0.14364685118198395,
           0.02442539669573307,
           -0.0889464020729065,
           -0.21631227433681488,
           -0.36463576555252075,
           -0.27445533871650696,
           -0.25599467754364014,
           -0.1746080368757248,
           -0.40941545367240906,
           0.04007042944431305,
           -0.01893140934407711,
           -0.0117430305108428,
           -0.2371595799922943
          ],
          [
           -0.03478165715932846,
           -0.35137036442756653,
           -0.04104287922382355,
           -0.09470302611589432,
           -0.5518197417259216,
           -0.07374368607997894,
           0.015001407824456692,
           -0.08316144347190857,
           -0.21651066839694977,
           -0.036092933267354965,
           -0.2964475452899933,
           -0.24244801700115204,
           0.04999318718910217,
           -0.1888515055179596,
           -0.08913080394268036,
           -0.12089411914348602,
           -0.07830855250358582,
           -0.1362128108739853,
           -0.021024072542786598,
           -0.13161242008209229,
           -0.11778397113084793,
           -0.2767672836780548,
           0.21899665892124176,
           -0.22303259372711182,
           -0.13619589805603027,
           0.026187535375356674
          ],
          [
           -0.0406581349670887,
           -0.36647823452949524,
           -0.32793715596199036,
           -0.2820724844932556,
           -0.5526487827301025,
           -0.6529708504676819,
           -0.2608668804168701,
           -0.39398571848869324,
           -0.1806214451789856,
           -0.25617173314094543,
           -0.3886078894138336,
           -0.3327859342098236,
           -0.24636122584342957,
           -0.41689175367355347,
           -0.1864318698644638,
           -0.13428661227226257,
           -0.23289398849010468,
           -0.11149664968252182,
           -0.26382750272750854,
           -0.23492471873760223,
           -0.22280985116958618,
           -0.2801540195941925,
           -0.17569364607334137,
           -0.2038462609052658,
           -0.4226805567741394,
           -0.28327158093452454
          ],
          [
           0.14651574194431305,
           -0.13835753500461578,
           -0.05314286798238754,
           0.09277178347110748,
           -0.2931787669658661,
           -0.03836485370993614,
           -0.29979434609413147,
           -0.021851353347301483,
           -0.21584109961986542,
           -0.11674408614635468,
           -0.16085174679756165,
           -0.08271931111812592,
           -0.11583472043275833,
           -0.11965231597423553,
           0.018132643774151802,
           0.14168553054332733,
           0.18012548983097076,
           -0.17694595456123352,
           -0.0474981926381588,
           -0.01049067173153162,
           -0.05089661851525307,
           -0.0749465823173523,
           0.25582605600357056,
           0.2012193351984024,
           0.06559468805789948,
           -0.07250132411718369
          ],
          [
           -0.09031358361244202,
           -0.25632768869400024,
           -0.3941786289215088,
           -0.1779680997133255,
           -0.28579869866371155,
           -0.13862107694149017,
           -0.22360409796237946,
           -0.5070417523384094,
           -0.2757836878299713,
           -0.20708896219730377,
           -0.23793728649616241,
           -0.23627348244190216,
           -0.09795045107603073,
           -0.1342564821243286,
           -0.030651532113552094,
           -0.17505651712417603,
           0.14267045259475708,
           -0.09766275435686111,
           -0.1067304015159607,
           -0.2248336225748062,
           -0.16028383374214172,
           -0.2514893114566803,
           0.10780104994773865,
           0.19828176498413086,
           -0.11441391706466675,
           -0.12943661212921143
          ],
          [
           0.07284460961818695,
           -0.027718592435121536,
           0.11270458996295929,
           0.0881991758942604,
           -0.1568460762500763,
           0.23974694311618805,
           0.0776684433221817,
           0.15648919343948364,
           -0.46380484104156494,
           0.14738087356090546,
           -0.031657081097364426,
           -0.005039214622229338,
           0.1247108206152916,
           0.08017940074205399,
           0.0648403987288475,
           0.33028724789619446,
           0.18636509776115417,
           0.11142758280038834,
           0.2255353331565857,
           0.07818407565355301,
           0.15072913467884064,
           0.11641885340213776,
           0.22691363096237183,
           -0.17056803405284882,
           0.06311558932065964,
           0.26599380373954773
          ],
          [
           0.22635988891124725,
           0.06255527585744858,
           0.044951196759939194,
           -0.0448727123439312,
           -0.014811238273978233,
           0.22074711322784424,
           0.05183148384094238,
           -0.07634483277797699,
           0.05527690425515175,
           -0.334175705909729,
           0.06644979864358902,
           0.04249953106045723,
           0.08501992374658585,
           0.285406231880188,
           0.016288790851831436,
           -0.11708293110132217,
           0.25547879934310913,
           -0.1845363825559616,
           0.06817807257175446,
           -0.11291088908910751,
           -0.06057856231927872,
           -0.03536646068096161,
           0.3739452362060547,
           -0.0981917455792427,
           -0.033490750938653946,
           0.1077091172337532
          ],
          [
           0.3963640630245209,
           -0.013823223300278187,
           0.20643353462219238,
           -0.04656126722693443,
           -0.33379170298576355,
           0.12242821604013443,
           0.060089726001024246,
           -0.02198278158903122,
           -0.0998968854546547,
           0.02937662973999977,
           -0.3503190875053406,
           0.024965258315205574,
           0.16741728782653809,
           0.13029266893863678,
           0.1706630438566208,
           0.04839977249503136,
           0.08605626225471497,
           -0.20689348876476288,
           -0.08911804854869843,
           0.009016537107527256,
           -0.16236017644405365,
           -0.19679468870162964,
           0.3264966905117035,
           -0.017960546538233757,
           -0.11365381628274918,
           -0.09630703181028366
          ],
          [
           0.2933933138847351,
           -0.0339910127222538,
           -0.010631177574396133,
           0.002788826124742627,
           -0.27698683738708496,
           0.15200230479240417,
           -0.060935474932193756,
           0.0707935243844986,
           -0.16374178230762482,
           0.06169654056429863,
           -0.028980012983083725,
           -0.34423086047172546,
           0.010577472858130932,
           -0.009672703221440315,
           0.11825472116470337,
           -0.031528323888778687,
           0.3401387631893158,
           -0.21218396723270416,
           -0.03935597091913223,
           -0.04231540113687515,
           -0.06965696066617966,
           -0.005062748212367296,
           0.34645023941993713,
           0.06747782230377197,
           0.10020346939563751,
           0.06941214948892593
          ],
          [
           0.1068144142627716,
           -0.17940115928649902,
           -0.20497727394104004,
           -0.032802049070596695,
           -0.2556140124797821,
           -0.0547083355486393,
           -0.05096183344721794,
           -0.06597574055194855,
           -0.037794824689626694,
           0.031077563762664795,
           -0.1191224530339241,
           -0.04808962345123291,
           -0.07185359299182892,
           -0.14611177146434784,
           -0.03060990571975708,
           -0.08420944958925247,
           0.16838017106056213,
           -0.2006400227546692,
           -0.06059213727712631,
           -0.13867774605751038,
           -0.028446651995182037,
           -0.09841742366552353,
           0.10943949222564697,
           0.13025662302970886,
           0.04933390021324158,
           -0.011947836726903915
          ],
          [
           -0.2798261344432831,
           -0.38870543241500854,
           -0.3726429045200348,
           -0.23216845095157623,
           -0.4024584889411926,
           -0.3123263716697693,
           -0.1892402619123459,
           -0.302400678396225,
           -0.5422082543373108,
           -0.30814430117607117,
           -0.19513702392578125,
           -0.32418665289878845,
           -0.2431667447090149,
           -0.631372332572937,
           -0.5370146632194519,
           -0.10256048291921616,
           0.048835672438144684,
           -0.26399916410446167,
           -0.25934144854545593,
           -0.4234354496002197,
           -0.3982696831226349,
           -0.5147677063941956,
           -0.20429667830467224,
           -0.22576206922531128,
           -0.16692641377449036,
           -0.3205232322216034
          ],
          [
           -0.01640484295785427,
           0.0016669138567522168,
           0.1969841718673706,
           0.2952471077442169,
           0.05501984804868698,
           -0.0027465340681374073,
           0.20107176899909973,
           0.2237105667591095,
           -0.12194887548685074,
           0.08730586618185043,
           0.1988714188337326,
           0.1216200441122055,
           0.019595516845583916,
           0.005480275489389896,
           -0.5653303861618042,
           0.19839201867580414,
           0.08188039809465408,
           -0.02072383277118206,
           0.13718459010124207,
           0.04611171782016754,
           0.020329339429736137,
           0.017390353605151176,
           0.18547490239143372,
           -0.03555486723780632,
           0.18172554671764374,
           0.13720689713954926
          ],
          [
           0.29783153533935547,
           -0.0771331638097763,
           0.0014109959593042731,
           -0.13685138523578644,
           0.04477692022919655,
           0.15488913655281067,
           0.04530268535017967,
           -0.010620362125337124,
           0.1517588496208191,
           0.007014051079750061,
           -0.1750074177980423,
           0.02220528945326805,
           0.09952782094478607,
           -0.006984536070376635,
           0.16471093893051147,
           -0.2187495231628418,
           0.23326385021209717,
           -0.07461287081241608,
           -0.006465226877480745,
           -0.0039817229844629765,
           0.05482359230518341,
           0.13466708362102509,
           0.25773757696151733,
           0.15491484105587006,
           -0.07895893603563309,
           0.02654542401432991
          ],
          [
           -0.1608666628599167,
           -0.2521878778934479,
           -0.0075061428360641,
           -0.1390482485294342,
           -0.22592715919017792,
           -0.14400599896907806,
           0.04387099668383598,
           -0.0406835600733757,
           -0.29803726077079773,
           0.028108278289437294,
           -0.06298068165779114,
           0.013635861687362194,
           -0.035136789083480835,
           0.09799595922231674,
           -0.3017272353172302,
           -0.038422662764787674,
           -0.867016077041626,
           -0.1950017809867859,
           -0.0549105629324913,
           -0.17144519090652466,
           -0.08063742518424988,
           -0.2510419189929962,
           -0.03836566209793091,
           -0.31372418999671936,
           -0.22877353429794312,
           -0.24658118188381195
          ],
          [
           0.15640734136104584,
           -0.1093490719795227,
           -0.1500139683485031,
           -0.2628767490386963,
           -0.16982850432395935,
           0.2744433283805847,
           0.03221437335014343,
           -0.08231055736541748,
           -0.19415560364723206,
           0.026791715994477272,
           -0.17815804481506348,
           -0.2698090672492981,
           -0.025038808584213257,
           -0.1639716923236847,
           -0.04112733528017998,
           -0.1277829110622406,
           0.025425391271710396,
           -0.42004039883613586,
           -0.061968740075826645,
           -0.23496341705322266,
           -0.09499619901180267,
           -0.09594307094812393,
           0.16274775564670563,
           -0.1367579698562622,
           -0.011469746008515358,
           0.18879398703575134
          ],
          [
           0.13132110238075256,
           -0.2292918562889099,
           -0.1520427167415619,
           -0.24624472856521606,
           -0.15876404941082,
           -0.04474496468901634,
           -0.03964647650718689,
           0.05445713922381401,
           -0.10536409169435501,
           -0.09005291759967804,
           -0.1395150125026703,
           -0.07005219161510468,
           0.10872314125299454,
           -0.02007669396698475,
           -0.10104832053184509,
           -0.037822503596544266,
           0.09933757036924362,
           -0.09442870318889618,
           -0.3066566586494446,
           -0.09575995802879333,
           -0.1383986920118332,
           -0.16795819997787476,
           0.09514456242322922,
           -0.003878182265907526,
           0.09731137007474899,
           -0.14766450226306915
          ],
          [
           -0.03258842974901199,
           -0.3346426486968994,
           -0.16061565279960632,
           -0.21448442339897156,
           -0.3928173780441284,
           -0.27046826481819153,
           -0.12861555814743042,
           -0.1924634873867035,
           -0.1374635398387909,
           -0.08267398178577423,
           -0.22284811735153198,
           -0.23873674869537354,
           -0.032009124755859375,
           -0.22648882865905762,
           -0.23195600509643555,
           -0.12198375165462494,
           -0.09125141054391861,
           -0.22336439788341522,
           -0.1652744859457016,
           -0.611254870891571,
           -0.29795798659324646,
           -0.3452656865119934,
           -0.09823843836784363,
           -0.18607144057750702,
           -0.012754618190228939,
           -0.3074815571308136
          ],
          [
           -0.09645339101552963,
           -0.3215316832065582,
           -0.3518630266189575,
           -0.2180010825395584,
           -0.19862093031406403,
           -0.2631824016571045,
           -0.10487358272075653,
           -0.2743026614189148,
           -0.26347675919532776,
           -0.2658672332763672,
           -0.184038907289505,
           -0.25024452805519104,
           -0.1598435640335083,
           -0.3186691105365753,
           -0.14526817202568054,
           -0.02228553779423237,
           0.04849398508667946,
           -0.2584972083568573,
           -0.16329079866409302,
           -0.2751584053039551,
           -0.6816724538803101,
           -0.29057714343070984,
           -0.18331463634967804,
           0.0003047104401048273,
           -0.11100214719772339,
           -0.24284036457538605
          ],
          [
           0.019159724935889244,
           -0.2546130120754242,
           -0.22648434340953827,
           -0.09378603100776672,
           -0.4278753399848938,
           -0.2324349582195282,
           -0.1205403208732605,
           -0.10112349689006805,
           -0.3183530271053314,
           -0.014000783674418926,
           -0.09809340536594391,
           -0.1879439651966095,
           -0.012250930070877075,
           -0.2841262221336365,
           -0.1789959818124771,
           0.0391206294298172,
           -0.22824394702911377,
           -0.22461318969726562,
           -0.2454090714454651,
           -0.4613926410675049,
           -0.2246747612953186,
           -0.6303433775901794,
           -0.20492565631866455,
           -0.18074318766593933,
           -0.08594918251037598,
           -0.17826516926288605
          ],
          [
           -0.23643936216831207,
           -0.20942334830760956,
           -0.15919005870819092,
           -0.09633138030767441,
           -0.17448264360427856,
           -0.23164032399654388,
           -0.02751309610903263,
           -0.07291114330291748,
           -0.2799082100391388,
           -0.029845524579286575,
           -0.11574439704418182,
           -0.024020342156291008,
           0.15560953319072723,
           -0.19926823675632477,
           -0.2287101298570633,
           0.19113555550575256,
           0.17743180692195892,
           0.15348748862743378,
           -0.08499079942703247,
           -0.27982664108276367,
           -0.25458022952079773,
           -0.34313783049583435,
           -0.3603191077709198,
           -0.04752831906080246,
           -0.04522160440683365,
           -0.14373041689395905
          ],
          [
           -0.12638786435127258,
           -0.13712169229984283,
           0.10983201116323471,
           -0.18370848894119263,
           -0.22670653462409973,
           -0.034759271889925,
           -0.008217718452215195,
           -0.01886937953531742,
           -0.36408767104148865,
           -0.11770752817392349,
           -0.253821462392807,
           -0.24926337599754333,
           0.010475307703018188,
           -0.0013526423135772347,
           -0.35673534870147705,
           0.11636240780353546,
           -0.130987286567688,
           -0.22558754682540894,
           -0.044782854616642,
           -0.14330294728279114,
           -0.1434285193681717,
           -0.3026827573776245,
           -0.02034960314631462,
           -1,
           -0.36895981431007385,
           -0.02371481992304325
          ],
          [
           0.3089545667171478,
           -0.11246313899755478,
           0.3081011474132538,
           0.13016310334205627,
           -0.1355552077293396,
           0.1417475789785385,
           0.0821046307682991,
           0.0416833758354187,
           -0.1661689132452011,
           0.10463570803403854,
           0.020801136270165443,
           0.0463469997048378,
           0.07297184318304062,
           0.0666540116071701,
           0.033410124480724335,
           0.1180286705493927,
           0.11678986251354218,
           0.03282472491264343,
           0.03711702674627304,
           0.028297848999500275,
           0.0672420784831047,
           0.09274136275053024,
           0.2797892391681671,
           -0.14217640459537506,
           -0.5463101267814636,
           -0.11954127252101898
          ],
          [
           0.04929196834564209,
           -0.3464074730873108,
           -0.08955090492963791,
           -0.2549944519996643,
           -0.3801756203174591,
           -0.16612592339515686,
           -0.024955082684755325,
           -0.10490554571151733,
           -0.3700126111507416,
           -0.11094332486391068,
           -0.17543044686317444,
           -0.1900133341550827,
           -0.0770130455493927,
           -0.06416665017604828,
           -0.11665945500135422,
           -0.05572086200118065,
           -0.14007984101772308,
           -0.12819762527942657,
           -0.2739298343658447,
           -0.34479302167892456,
           -0.249301940202713,
           -0.40472400188446045,
           -0.09616262465715408,
           -0.17832010984420776,
           -0.3352457284927368,
           -0.4597073197364807
          ]
         ]
        }
       ],
       "layout": {
        "coloraxis": {
         "cmid": 0,
         "colorbar": {
          "len": 1,
          "lenmode": "fraction",
          "thickness": 10,
          "thicknessmode": "pixels",
          "title": {
           "text": "𝑆"
          }
         },
         "colorscale": [
          [
           0,
           "rgb(103,0,31)"
          ],
          [
           0.1,
           "rgb(178,24,43)"
          ],
          [
           0.2,
           "rgb(214,96,77)"
          ],
          [
           0.3,
           "rgb(244,165,130)"
          ],
          [
           0.4,
           "rgb(253,219,199)"
          ],
          [
           0.5,
           "rgb(247,247,247)"
          ],
          [
           0.6,
           "rgb(209,229,240)"
          ],
          [
           0.7,
           "rgb(146,197,222)"
          ],
          [
           0.8,
           "rgb(67,147,195)"
          ],
          [
           0.9,
           "rgb(33,102,172)"
          ],
          [
           1,
           "rgb(5,48,97)"
          ]
         ]
        },
        "font": {
         "color": "black",
         "size": 12
        },
        "height": 300,
        "margin": {
         "b": 10,
         "l": 10,
         "r": 10,
         "t": 10
        },
        "template": {
         "data": {
          "bar": [
           {
            "error_x": {
             "color": "#2a3f5f"
            },
            "error_y": {
             "color": "#2a3f5f"
            },
            "marker": {
             "line": {
              "color": "#E5ECF6",
              "width": 0.5
             },
             "pattern": {
              "fillmode": "overlay",
              "size": 10,
              "solidity": 0.2
             }
            },
            "type": "bar"
           }
          ],
          "barpolar": [
           {
            "marker": {
             "line": {
              "color": "#E5ECF6",
              "width": 0.5
             },
             "pattern": {
              "fillmode": "overlay",
              "size": 10,
              "solidity": 0.2
             }
            },
            "type": "barpolar"
           }
          ],
          "carpet": [
           {
            "aaxis": {
             "endlinecolor": "#2a3f5f",
             "gridcolor": "white",
             "linecolor": "white",
             "minorgridcolor": "white",
             "startlinecolor": "#2a3f5f"
            },
            "baxis": {
             "endlinecolor": "#2a3f5f",
             "gridcolor": "white",
             "linecolor": "white",
             "minorgridcolor": "white",
             "startlinecolor": "#2a3f5f"
            },
            "type": "carpet"
           }
          ],
          "choropleth": [
           {
            "colorbar": {
             "outlinewidth": 0,
             "ticks": ""
            },
            "type": "choropleth"
           }
          ],
          "contour": [
           {
            "colorbar": {
             "outlinewidth": 0,
             "ticks": ""
            },
            "colorscale": [
             [
              0,
              "#0d0887"
             ],
             [
              0.1111111111111111,
              "#46039f"
             ],
             [
              0.2222222222222222,
              "#7201a8"
             ],
             [
              0.3333333333333333,
              "#9c179e"
             ],
             [
              0.4444444444444444,
              "#bd3786"
             ],
             [
              0.5555555555555556,
              "#d8576b"
             ],
             [
              0.6666666666666666,
              "#ed7953"
             ],
             [
              0.7777777777777778,
              "#fb9f3a"
             ],
             [
              0.8888888888888888,
              "#fdca26"
             ],
             [
              1,
              "#f0f921"
             ]
            ],
            "type": "contour"
           }
          ],
          "contourcarpet": [
           {
            "colorbar": {
             "outlinewidth": 0,
             "ticks": ""
            },
            "type": "contourcarpet"
           }
          ],
          "heatmap": [
           {
            "colorbar": {
             "outlinewidth": 0,
             "ticks": ""
            },
            "colorscale": [
             [
              0,
              "#0d0887"
             ],
             [
              0.1111111111111111,
              "#46039f"
             ],
             [
              0.2222222222222222,
              "#7201a8"
             ],
             [
              0.3333333333333333,
              "#9c179e"
             ],
             [
              0.4444444444444444,
              "#bd3786"
             ],
             [
              0.5555555555555556,
              "#d8576b"
             ],
             [
              0.6666666666666666,
              "#ed7953"
             ],
             [
              0.7777777777777778,
              "#fb9f3a"
             ],
             [
              0.8888888888888888,
              "#fdca26"
             ],
             [
              1,
              "#f0f921"
             ]
            ],
            "type": "heatmap"
           }
          ],
          "heatmapgl": [
           {
            "colorbar": {
             "outlinewidth": 0,
             "ticks": ""
            },
            "colorscale": [
             [
              0,
              "#0d0887"
             ],
             [
              0.1111111111111111,
              "#46039f"
             ],
             [
              0.2222222222222222,
              "#7201a8"
             ],
             [
              0.3333333333333333,
              "#9c179e"
             ],
             [
              0.4444444444444444,
              "#bd3786"
             ],
             [
              0.5555555555555556,
              "#d8576b"
             ],
             [
              0.6666666666666666,
              "#ed7953"
             ],
             [
              0.7777777777777778,
              "#fb9f3a"
             ],
             [
              0.8888888888888888,
              "#fdca26"
             ],
             [
              1,
              "#f0f921"
             ]
            ],
            "type": "heatmapgl"
           }
          ],
          "histogram": [
           {
            "marker": {
             "pattern": {
              "fillmode": "overlay",
              "size": 10,
              "solidity": 0.2
             }
            },
            "type": "histogram"
           }
          ],
          "histogram2d": [
           {
            "colorbar": {
             "outlinewidth": 0,
             "ticks": ""
            },
            "colorscale": [
             [
              0,
              "#0d0887"
             ],
             [
              0.1111111111111111,
              "#46039f"
             ],
             [
              0.2222222222222222,
              "#7201a8"
             ],
             [
              0.3333333333333333,
              "#9c179e"
             ],
             [
              0.4444444444444444,
              "#bd3786"
             ],
             [
              0.5555555555555556,
              "#d8576b"
             ],
             [
              0.6666666666666666,
              "#ed7953"
             ],
             [
              0.7777777777777778,
              "#fb9f3a"
             ],
             [
              0.8888888888888888,
              "#fdca26"
             ],
             [
              1,
              "#f0f921"
             ]
            ],
            "type": "histogram2d"
           }
          ],
          "histogram2dcontour": [
           {
            "colorbar": {
             "outlinewidth": 0,
             "ticks": ""
            },
            "colorscale": [
             [
              0,
              "#0d0887"
             ],
             [
              0.1111111111111111,
              "#46039f"
             ],
             [
              0.2222222222222222,
              "#7201a8"
             ],
             [
              0.3333333333333333,
              "#9c179e"
             ],
             [
              0.4444444444444444,
              "#bd3786"
             ],
             [
              0.5555555555555556,
              "#d8576b"
             ],
             [
              0.6666666666666666,
              "#ed7953"
             ],
             [
              0.7777777777777778,
              "#fb9f3a"
             ],
             [
              0.8888888888888888,
              "#fdca26"
             ],
             [
              1,
              "#f0f921"
             ]
            ],
            "type": "histogram2dcontour"
           }
          ],
          "mesh3d": [
           {
            "colorbar": {
             "outlinewidth": 0,
             "ticks": ""
            },
            "type": "mesh3d"
           }
          ],
          "parcoords": [
           {
            "line": {
             "colorbar": {
              "outlinewidth": 0,
              "ticks": ""
             }
            },
            "type": "parcoords"
           }
          ],
          "pie": [
           {
            "automargin": true,
            "type": "pie"
           }
          ],
          "scatter": [
           {
            "fillpattern": {
             "fillmode": "overlay",
             "size": 10,
             "solidity": 0.2
            },
            "type": "scatter"
           }
          ],
          "scatter3d": [
           {
            "line": {
             "colorbar": {
              "outlinewidth": 0,
              "ticks": ""
             }
            },
            "marker": {
             "colorbar": {
              "outlinewidth": 0,
              "ticks": ""
             }
            },
            "type": "scatter3d"
           }
          ],
          "scattercarpet": [
           {
            "marker": {
             "colorbar": {
              "outlinewidth": 0,
              "ticks": ""
             }
            },
            "type": "scattercarpet"
           }
          ],
          "scattergeo": [
           {
            "marker": {
             "colorbar": {
              "outlinewidth": 0,
              "ticks": ""
             }
            },
            "type": "scattergeo"
           }
          ],
          "scattergl": [
           {
            "marker": {
             "colorbar": {
              "outlinewidth": 0,
              "ticks": ""
             }
            },
            "type": "scattergl"
           }
          ],
          "scattermapbox": [
           {
            "marker": {
             "colorbar": {
              "outlinewidth": 0,
              "ticks": ""
             }
            },
            "type": "scattermapbox"
           }
          ],
          "scatterpolar": [
           {
            "marker": {
             "colorbar": {
              "outlinewidth": 0,
              "ticks": ""
             }
            },
            "type": "scatterpolar"
           }
          ],
          "scatterpolargl": [
           {
            "marker": {
             "colorbar": {
              "outlinewidth": 0,
              "ticks": ""
             }
            },
            "type": "scatterpolargl"
           }
          ],
          "scatterternary": [
           {
            "marker": {
             "colorbar": {
              "outlinewidth": 0,
              "ticks": ""
             }
            },
            "type": "scatterternary"
           }
          ],
          "surface": [
           {
            "colorbar": {
             "outlinewidth": 0,
             "ticks": ""
            },
            "colorscale": [
             [
              0,
              "#0d0887"
             ],
             [
              0.1111111111111111,
              "#46039f"
             ],
             [
              0.2222222222222222,
              "#7201a8"
             ],
             [
              0.3333333333333333,
              "#9c179e"
             ],
             [
              0.4444444444444444,
              "#bd3786"
             ],
             [
              0.5555555555555556,
              "#d8576b"
             ],
             [
              0.6666666666666666,
              "#ed7953"
             ],
             [
              0.7777777777777778,
              "#fb9f3a"
             ],
             [
              0.8888888888888888,
              "#fdca26"
             ],
             [
              1,
              "#f0f921"
             ]
            ],
            "type": "surface"
           }
          ],
          "table": [
           {
            "cells": {
             "fill": {
              "color": "#EBF0F8"
             },
             "line": {
              "color": "white"
             }
            },
            "header": {
             "fill": {
              "color": "#C8D4E3"
             },
             "line": {
              "color": "white"
             }
            },
            "type": "table"
           }
          ]
         },
         "layout": {
          "annotationdefaults": {
           "arrowcolor": "#2a3f5f",
           "arrowhead": 0,
           "arrowwidth": 1
          },
          "autotypenumbers": "strict",
          "coloraxis": {
           "colorbar": {
            "outlinewidth": 0,
            "ticks": ""
           }
          },
          "colorscale": {
           "diverging": [
            [
             0,
             "#8e0152"
            ],
            [
             0.1,
             "#c51b7d"
            ],
            [
             0.2,
             "#de77ae"
            ],
            [
             0.3,
             "#f1b6da"
            ],
            [
             0.4,
             "#fde0ef"
            ],
            [
             0.5,
             "#f7f7f7"
            ],
            [
             0.6,
             "#e6f5d0"
            ],
            [
             0.7,
             "#b8e186"
            ],
            [
             0.8,
             "#7fbc41"
            ],
            [
             0.9,
             "#4d9221"
            ],
            [
             1,
             "#276419"
            ]
           ],
           "sequential": [
            [
             0,
             "#0d0887"
            ],
            [
             0.1111111111111111,
             "#46039f"
            ],
            [
             0.2222222222222222,
             "#7201a8"
            ],
            [
             0.3333333333333333,
             "#9c179e"
            ],
            [
             0.4444444444444444,
             "#bd3786"
            ],
            [
             0.5555555555555556,
             "#d8576b"
            ],
            [
             0.6666666666666666,
             "#ed7953"
            ],
            [
             0.7777777777777778,
             "#fb9f3a"
            ],
            [
             0.8888888888888888,
             "#fdca26"
            ],
            [
             1,
             "#f0f921"
            ]
           ],
           "sequentialminus": [
            [
             0,
             "#0d0887"
            ],
            [
             0.1111111111111111,
             "#46039f"
            ],
            [
             0.2222222222222222,
             "#7201a8"
            ],
            [
             0.3333333333333333,
             "#9c179e"
            ],
            [
             0.4444444444444444,
             "#bd3786"
            ],
            [
             0.5555555555555556,
             "#d8576b"
            ],
            [
             0.6666666666666666,
             "#ed7953"
            ],
            [
             0.7777777777777778,
             "#fb9f3a"
            ],
            [
             0.8888888888888888,
             "#fdca26"
            ],
            [
             1,
             "#f0f921"
            ]
           ]
          },
          "colorway": [
           "#636efa",
           "#EF553B",
           "#00cc96",
           "#ab63fa",
           "#FFA15A",
           "#19d3f3",
           "#FF6692",
           "#B6E880",
           "#FF97FF",
           "#FECB52"
          ],
          "font": {
           "color": "#2a3f5f"
          },
          "geo": {
           "bgcolor": "white",
           "lakecolor": "white",
           "landcolor": "#E5ECF6",
           "showlakes": true,
           "showland": true,
           "subunitcolor": "white"
          },
          "hoverlabel": {
           "align": "left"
          },
          "hovermode": "closest",
          "mapbox": {
           "style": "light"
          },
          "paper_bgcolor": "white",
          "plot_bgcolor": "#E5ECF6",
          "polar": {
           "angularaxis": {
            "gridcolor": "white",
            "linecolor": "white",
            "ticks": ""
           },
           "bgcolor": "#E5ECF6",
           "radialaxis": {
            "gridcolor": "white",
            "linecolor": "white",
            "ticks": ""
           }
          },
          "scene": {
           "xaxis": {
            "backgroundcolor": "#E5ECF6",
            "gridcolor": "white",
            "gridwidth": 2,
            "linecolor": "white",
            "showbackground": true,
            "ticks": "",
            "zerolinecolor": "white"
           },
           "yaxis": {
            "backgroundcolor": "#E5ECF6",
            "gridcolor": "white",
            "gridwidth": 2,
            "linecolor": "white",
            "showbackground": true,
            "ticks": "",
            "zerolinecolor": "white"
           },
           "zaxis": {
            "backgroundcolor": "#E5ECF6",
            "gridcolor": "white",
            "gridwidth": 2,
            "linecolor": "white",
            "showbackground": true,
            "ticks": "",
            "zerolinecolor": "white"
           }
          },
          "shapedefaults": {
           "line": {
            "color": "#2a3f5f"
           }
          },
          "ternary": {
           "aaxis": {
            "gridcolor": "white",
            "linecolor": "white",
            "ticks": ""
           },
           "baxis": {
            "gridcolor": "white",
            "linecolor": "white",
            "ticks": ""
           },
           "bgcolor": "#E5ECF6",
           "caxis": {
            "gridcolor": "white",
            "linecolor": "white",
            "ticks": ""
           }
          },
          "title": {
           "x": 0.05
          },
          "xaxis": {
           "automargin": true,
           "gridcolor": "white",
           "linecolor": "white",
           "ticks": "",
           "title": {
            "standoff": 15
           },
           "zerolinecolor": "white",
           "zerolinewidth": 2
          },
          "yaxis": {
           "automargin": true,
           "gridcolor": "white",
           "linecolor": "white",
           "ticks": "",
           "title": {
            "standoff": 15
           },
           "zerolinecolor": "white",
           "zerolinewidth": 2
          }
         }
        },
        "title": {
         "font": {
          "size": 14
         }
        },
        "width": 300,
        "xaxis": {
         "anchor": "y",
         "constrain": "domain",
         "domain": [
          0,
          1
         ],
         "linecolor": "black",
         "linewidth": 1,
         "mirror": true,
         "scaleanchor": "y",
         "showline": true,
         "tickcolor": "black",
         "ticks": "outside",
         "tickwidth": 1,
         "title": {}
        },
        "yaxis": {
         "anchor": "x",
         "autorange": "reversed",
         "constrain": "domain",
         "domain": [
          0,
          1
         ],
         "linecolor": "black",
         "linewidth": 1,
         "mirror": true,
         "showline": true,
         "tickcolor": "black",
         "ticks": "outside",
         "tickwidth": 1,
         "title": {}
        }
       }
      }
     },
     "metadata": {},
     "output_type": "display_data"
    }
   ],
   "source": [
    "# OV circuit for head 11.10\n",
    "layer = 11\n",
    "head = 10\n",
    "pu.plot_attn(h.normalise_tensor(ov_circuit[layer, head, : , :]), ALPHABET_LIST, image_dir / \"symbolic_ov_circuit.png\")"
   ]
  },
  {
   "cell_type": "code",
   "execution_count": 82,
   "metadata": {},
   "outputs": [
    {
     "name": "stdout",
     "output_type": "stream",
     "text": [
      "Plot saved to ../images/gpt-2_vs_pythia/symbolic_ov_circuit.png\n"
     ]
    },
    {
     "data": {
      "application/vnd.plotly.v1+json": {
       "config": {
        "plotlyServerURL": "https://plot.ly"
       },
       "data": [
        {
         "coloraxis": "coloraxis",
         "hovertemplate": "Head: %{x}<br>Layer: %{y}<br>color: %{z}<extra></extra>",
         "name": "0",
         "type": "heatmap",
         "xaxis": "x",
         "yaxis": "y",
         "z": [
          [
           -0.5418108701705933,
           -0.4538775086402893,
           -0.0386514849960804,
           -0.6232911348342896,
           -0.09097377210855484,
           -0.1679808646440506,
           0.007267666980624199,
           -0.31731268763542175,
           -0.10771100223064423,
           -0.15680330991744995,
           -0.23159120976924896,
           -0.2090907096862793,
           0.033140987157821655,
           0.17452500760555267,
           -0.37421321868896484,
           -0.05155203491449356,
           -0.20968139171600342,
           -0.22785352170467377,
           -0.30384761095046997,
           0.008328295312821865,
           -0.36944910883903503,
           -0.24634809792041779,
           -0.17441385984420776,
           0.10058033466339111,
           0.0021984013728797436,
           -0.10323285311460495
          ],
          [
           0.07240413129329681,
           -0.442688524723053,
           0.12410643696784973,
           0.14154194295406342,
           0.09090844541788101,
           0.17381221055984497,
           0.06312429159879684,
           0.32437920570373535,
           0.11816002428531647,
           0.1620759218931198,
           0.0993056520819664,
           -0.07511088997125626,
           -0.0038956410717219114,
           -0.006195912137627602,
           -0.03594008833169937,
           0.09077345579862595,
           0.1370605081319809,
           0.21663813292980194,
           -0.25892990827560425,
           0.24227599799633026,
           0.04771237075328827,
           -0.08955372124910355,
           0.11333981901407242,
           -0.02038540318608284,
           0.2615899443626404,
           -0.21560156345367432
          ],
          [
           -0.36975806951522827,
           -0.34192728996276855,
           -1,
           -0.4688534438610077,
           -0.27826064825057983,
           -0.2844446301460266,
           -0.1932559758424759,
           -0.3141973614692688,
           -0.34347257018089294,
           -0.3883484899997711,
           -0.2912042737007141,
           -0.30206796526908875,
           -0.6356844902038574,
           -0.18088188767433167,
           -0.5386638641357422,
           -0.24513618648052216,
           -0.33234137296676636,
           -0.4669255018234253,
           -0.24608518183231354,
           -0.2113574743270874,
           -0.6046855449676514,
           -0.42903169989585876,
           -0.4322552978992462,
           -0.32377567887306213,
           -0.13967856764793396,
           -0.47899672389030457
          ],
          [
           0.16843469440937042,
           -0.25804492831230164,
           0.2512279748916626,
           -0.7486947178840637,
           0.18392367660999298,
           -0.17543835937976837,
           0.04547464847564697,
           0.2413405478000641,
           0.06383109837770462,
           0.031092382967472076,
           0.2330370843410492,
           0.053732980042696,
           0.1453084945678711,
           0.05187099054455757,
           -0.06604378670454025,
           0.1345897614955902,
           0.11511911451816559,
           -0.06909508258104324,
           0.034297842532396317,
           0.08254426717758179,
           -0.1642485409975052,
           0.12930437922477722,
           0.1753813922405243,
           0.08917936682701111,
           0.3833196759223938,
           -0.1780550181865692
          ],
          [
           -0.040572188794612885,
           -0.30365926027297974,
           0.10622496902942657,
           -0.46569156646728516,
           -0.3198407292366028,
           0.06895960867404938,
           -0.08340711146593094,
           0.1211179792881012,
           -0.1416170448064804,
           0.2544403672218323,
           -0.08351849019527435,
           -0.10275617986917496,
           0.46788331866264343,
           0.28176188468933105,
           -0.43694040179252625,
           0.36524835228919983,
           0.16929593682289124,
           -0.04306504875421524,
           0.06202872470021248,
           0.13615185022354126,
           -0.17778988182544708,
           0.10143962502479553,
           0.3364178538322449,
           -0.19958694279193878,
           -0.024942953139543533,
           -0.022977998480200768
          ],
          [
           -0.2120693475008011,
           0.01030627079308033,
           0.032253336161375046,
           -0.5283961892127991,
           -0.17816288769245148,
           -0.5813604593276978,
           -0.20559705793857574,
           -0.27660179138183594,
           -0.06653433293104172,
           0.03195808827877045,
           0.15637041628360748,
           -0.00333994859829545,
           -0.17706364393234253,
           0.0013015845324844122,
           -0.16338913142681122,
           -0.18836086988449097,
           -0.1390271633863449,
           0.0061103529296815395,
           -0.05077209323644638,
           -0.007741034030914307,
           -0.11741970479488373,
           -0.07899598777294159,
           -0.18116113543510437,
           0.03528478741645813,
           0.02710309997200966,
           -0.403616726398468
          ],
          [
           -0.1260460913181305,
           -0.39178168773651123,
           -0.060344088822603226,
           -0.42745736241340637,
           -0.17322875559329987,
           -0.03473515808582306,
           -0.6417703032493591,
           -0.007889065891504288,
           -0.011998878791928291,
           -0.1121387779712677,
           0.09940037131309509,
           -0.10844878107309341,
           -0.10680381953716278,
           -0.1250133514404297,
           0.04975904896855354,
           -0.002237263135612011,
           0.01455141045153141,
           0.00016026633966248482,
           0.01837754249572754,
           0.19519318640232086,
           -0.10939681529998779,
           -0.11743950098752975,
           -0.20968341827392578,
           -0.010461770929396152,
           0.10142512619495392,
           -0.2897254526615143
          ],
          [
           -0.39043620228767395,
           -0.1400865763425827,
           -0.12906427681446075,
           -0.5331175923347473,
           -0.11173450201749802,
           -0.3332862854003906,
           -0.3065330386161804,
           -0.9436221718788147,
           -0.17289964854717255,
           -0.5755670666694641,
           -0.09539774060249329,
           -0.3911856710910797,
           -0.36872684955596924,
           -0.3306903839111328,
           -0.38715189695358276,
           0.020491493865847588,
           -0.24925848841667175,
           -0.1498641073703766,
           -0.15676771104335785,
           -0.09057546406984329,
           -0.5764260292053223,
           -0.1475418359041214,
           -0.41360118985176086,
           -0.39751526713371277,
           -0.05760569125413895,
           -0.3205287754535675
          ],
          [
           -0.36614686250686646,
           -0.004714348819106817,
           -0.21234510838985443,
           -0.21968090534210205,
           -0.389052152633667,
           -0.23161129653453827,
           -0.26594990491867065,
           -0.19694769382476807,
           -0.3348645269870758,
           -0.27439549565315247,
           -0.06541921943426132,
           -0.20915284752845764,
           -0.35261455178260803,
           0.06524357199668884,
           -0.09156874567270279,
           0.0031136905308812857,
           -0.04914085939526558,
           0.02511230856180191,
           -0.1874139904975891,
           0.0011041625402867794,
           -0.12315091490745544,
           0.09167591482400894,
           -0.2511831223964691,
           -0.002362767467275262,
           -0.19165650010108948,
           -0.2891940176486969
          ],
          [
           -0.5123260617256165,
           0.038081973791122437,
           -0.038822732865810394,
           -0.6197710633277893,
           -0.04390905797481537,
           -0.5142830014228821,
           -0.27258536219596863,
           0.12966564297676086,
           -0.08109065890312195,
           -0.49082842469215393,
           -0.08215688169002533,
           -0.012176010757684708,
           -0.33143532276153564,
           0.030739277601242065,
           -0.28758475184440613,
           -0.17513300478458405,
           -0.12979571521282196,
           0.264067143201828,
           -0.19123943150043488,
           0.07085749506950378,
           -0.1805262565612793,
           -0.1412292867898941,
           -0.1683340072631836,
           -0.04863885045051575,
           0.07016907632350922,
           -0.28198346495628357
          ],
          [
           -0.49631837010383606,
           -0.38883110880851746,
           -0.21676340699195862,
           -0.32911837100982666,
           -0.12228595465421677,
           -0.399738073348999,
           -0.35951170325279236,
           -0.19475042819976807,
           -0.014566968195140362,
           -0.1547563374042511,
           -0.8603129386901855,
           -0.20858116447925568,
           -0.47209686040878296,
           -0.06515751779079437,
           -0.39949652552604675,
           -0.1970362663269043,
           0.3617958724498749,
           -0.1462026834487915,
           -0.6542108654975891,
           -0.1458369344472885,
           -0.07608641684055328,
           -0.4024030268192291,
           -0.4018455743789673,
           -0.29064682126045227,
           -0.21679890155792236,
           -0.3650915026664734
          ],
          [
           -0.1589757353067398,
           -0.195937380194664,
           -0.2535565495491028,
           -0.4582020342350006,
           0.020414788275957108,
           0.1780071258544922,
           -0.15105685591697693,
           -0.1650039255619049,
           -0.0628734901547432,
           -0.21208423376083374,
           -0.021964555606245995,
           -0.32594284415245056,
           -0.41130656003952026,
           -0.2404310405254364,
           -0.20537661015987396,
           -0.17721575498580933,
           0.2521370053291321,
           0.04147075489163399,
           -0.34732669591903687,
           0.09255571663379669,
           -0.03435276448726654,
           -0.26724228262901306,
           -0.3110831081867218,
           -0.48070085048675537,
           -0.19416089355945587,
           -0.13440820574760437
          ],
          [
           -0.06669625639915466,
           -0.4223712980747223,
           0.11964956670999527,
           -0.18502123653888702,
           -0.12459314614534378,
           0.04628807306289673,
           -0.3186561167240143,
           -0.10869671404361725,
           0.06557369232177734,
           0.05659255012869835,
           0.08618252724409103,
           -0.07022769749164581,
           -0.5815016627311707,
           -0.08656520396471024,
           -0.1607530266046524,
           -0.17905329167842865,
           -0.146085724234581,
           -0.2232353836297989,
           -0.03756493330001831,
           0.03941383585333824,
           -0.18906612694263458,
           -0.1698649376630783,
           0.0791228860616684,
           0.1318529099225998,
           0.003216176526620984,
           -0.3154027760028839
          ],
          [
           -0.12984199821949005,
           0.14983414113521576,
           0.23741444945335388,
           -0.23206549882888794,
           0.05289003998041153,
           0.05392608419060707,
           0.05312879756093025,
           -0.028284061700105667,
           0.333325058221817,
           0.015990277752280235,
           0.008395020850002766,
           -0.07381636649370193,
           0.324799507856369,
           -0.20690153539180756,
           0.07048596441745758,
           0.12657514214515686,
           0.1748960167169571,
           0.19089210033416748,
           -0.055779244750738144,
           0.14464768767356873,
           0.13373060524463654,
           0.05322325974702835,
           0.10747694969177246,
           -0.017682278528809547,
           0.4305645823478699,
           -0.28589150309562683
          ],
          [
           -0.5763519406318665,
           -0.526745617389679,
           -0.5235385298728943,
           -0.5899341106414795,
           -0.2911321818828583,
           -0.3315209746360779,
           -0.3188713788986206,
           -0.3535831868648529,
           -0.46693623065948486,
           -0.29091325402259827,
           -0.7146123647689819,
           -0.3828672766685486,
           -0.5209159255027771,
           0.3181320130825043,
           -0.9084689021110535,
           -0.2907553017139435,
           0.026774829253554344,
           -0.611510694026947,
           -0.21239612996578217,
           -0.09164533019065857,
           -0.4447685182094574,
           -0.3956862688064575,
           -0.5183141231536865,
           -0.13954958319664001,
           -0.26270511746406555,
           -0.720429003238678
          ],
          [
           0.053232673555612564,
           -0.6786893010139465,
           -0.06390612572431564,
           0.030209016054868698,
           0.04091046378016472,
           -0.2040792554616928,
           -0.16727633774280548,
           0.06805981695652008,
           0.06930435448884964,
           0.18558259308338165,
           -0.2356061339378357,
           0.02718491666018963,
           -0.20795635879039764,
           -0.17483609914779663,
           -0.265700101852417,
           -0.5067246556282043,
           -0.022155502811074257,
           -0.08703378587961197,
           -0.24856071174144745,
           0.3039059042930603,
           -0.11467510461807251,
           -0.009934954345226288,
           -0.059454333037137985,
           0.49182990193367004,
           0.2174629420042038,
           -0.34718769788742065
          ],
          [
           -0.35312747955322266,
           -0.09638892114162445,
           -0.5448468327522278,
           -0.40652555227279663,
           -0.30298498272895813,
           -0.09361658245325089,
           -0.1243739053606987,
           0.07581917196512222,
           -0.06577569991350174,
           0.2439505010843277,
           -0.04925640672445297,
           -0.11798270046710968,
           0.10747027397155762,
           0.2020530253648758,
           -0.37192511558532715,
           -0.28894826769828796,
           -0.22388461232185364,
           -0.32186561822891235,
           -0.14950349926948547,
           0.03428439050912857,
           0.02184373140335083,
           0.16148005425930023,
           -0.14098219573497772,
           0.004468263126909733,
           0.3946572244167328,
           -0.2397388070821762
          ],
          [
           0.007584158796817064,
           -0.13385239243507385,
           0.1056189313530922,
           0.039418160915374756,
           -0.17549900710582733,
           -0.052644193172454834,
           -0.20415233075618744,
           0.02896209992468357,
           0.023355288431048393,
           0.015982942655682564,
           0.06815379112958908,
           -0.05738452076911926,
           0.016634121537208557,
           0.0719841867685318,
           -0.11972349882125854,
           -0.16154184937477112,
           0.3324379622936249,
           -0.2306510955095291,
           -0.3502994775772095,
           0.26525142788887024,
           -0.001965707866474986,
           0.19274307787418365,
           0.02003960870206356,
           0.009099025279283524,
           0.384936660528183,
           -0.1838546246290207
          ],
          [
           -0.07025934755802155,
           -0.23318885266780853,
           -0.016094353049993515,
           -0.26859310269355774,
           -0.24729633331298828,
           -0.47425585985183716,
           -0.06454691290855408,
           -0.3321667015552521,
           -0.22362403571605682,
           -0.013418185524642467,
           -0.27204930782318115,
           -0.1403869241476059,
           -0.29996201395988464,
           -0.09062507748603821,
           -0.4966920018196106,
           0.12272483855485916,
           0.16901297867298126,
           -0.21915045380592346,
           -0.6659102439880371,
           -0.1066097766160965,
           -0.39731234312057495,
           -0.0017185932956635952,
           -0.09210521727800369,
           -0.031413864344358444,
           -0.012552902102470398,
           -0.05371840298175812
          ],
          [
           -0.27661606669425964,
           -0.6982060074806213,
           0.04239010438323021,
           -0.4521998167037964,
           -0.17117619514465332,
           -0.26343998312950134,
           -0.3305971324443817,
           0.008790985681116581,
           -0.1672568917274475,
           -0.4576290249824524,
           -0.5776951313018799,
           -0.3284289836883545,
           -0.22442398965358734,
           -0.28431132435798645,
           -0.23198607563972473,
           -0.12169929593801498,
           -0.0037876623682677746,
           -0.32047826051712036,
           -0.031103383749723434,
           -0.27473482489585876,
           -0.1252269446849823,
           -0.04603289067745209,
           -0.22177210450172424,
           -0.5044817328453064,
           0.004384474828839302,
           -0.46414053440093994
          ],
          [
           0.05811597406864166,
           -0.4877038598060608,
           -0.06898236274719238,
           -0.16111406683921814,
           -0.0024806794244796038,
           -0.3936230540275574,
           -0.2403128445148468,
           -0.274232417345047,
           -0.0824284628033638,
           -0.2831884026527405,
           -0.4627613127231598,
           -0.22191089391708374,
           0.08799125254154205,
           0.027929311618208885,
           -0.30400606989860535,
           -0.3133702874183655,
           0.17848430573940277,
           -0.2157517373561859,
           0.032232873141765594,
           -0.22129178047180176,
           -0.14339548349380493,
           -0.14725618064403534,
           -0.18688525259494781,
           -0.16067221760749817,
           -0.24744413793087006,
           -0.5958719253540039
          ],
          [
           -0.015048443339765072,
           -0.22660596668720245,
           -0.06287670135498047,
           -0.15652801096439362,
           0.015104681253433228,
           -0.11554646492004395,
           0.017270656302571297,
           0.21943874657154083,
           0.16262446343898773,
           -0.2905055582523346,
           0.1273820847272873,
           0.39182332158088684,
           -0.32150891423225403,
           0.017718475311994553,
           -0.16441094875335693,
           -0.04877132177352905,
           0.15030942857265472,
           -0.26820963621139526,
           0.0837368294596672,
           0.3223212659358978,
           0.08825768530368805,
           -0.42550116777420044,
           -0.041500549763441086,
           -0.054581157863140106,
           0.04699188098311424,
           -0.2138395458459854
          ],
          [
           0.004764179233461618,
           -0.001592849032022059,
           0.10468369722366333,
           0.0448983795940876,
           0.2831737995147705,
           0.03741491585969925,
           0.10427013784646988,
           -0.03886491805315018,
           0.3071553409099579,
           0.15348917245864868,
           0.42840591073036194,
           0.27279987931251526,
           -0.1696409285068512,
           0.28171706199645996,
           -0.12167127430438995,
           -0.04602503776550293,
           0.3138731122016907,
           0.3163837194442749,
           -0.024485105648636818,
           0.34094905853271484,
           -0.22059261798858643,
           0.021168066188693047,
           -0.2776948809623718,
           0.06599507480859756,
           0.06428571045398712,
           0.16484984755516052
          ],
          [
           -0.04608523100614548,
           -0.20148500800132751,
           -0.049865588545799255,
           -0.05504148080945015,
           -0.19682565331459045,
           -0.5784615874290466,
           -0.6843813061714172,
           -0.2555745840072632,
           0.003432679921388626,
           -0.21353422105312347,
           -0.2865464985370636,
           -0.10827966779470444,
           -0.250428706407547,
           -0.15278704464435577,
           0.04655557498335838,
           -0.05593197047710419,
           0.04800064116716385,
           0.037320803850889206,
           -0.29051339626312256,
           0.2232157438993454,
           -0.06837613135576248,
           -0.0015636448515579104,
           -0.2733953893184662,
           -0.3911198675632477,
           0.13415752351284027,
           -0.30815038084983826
          ],
          [
           -0.7685734629631042,
           -0.5726603865623474,
           -0.015437562018632889,
           -0.2679385840892792,
           -0.29587262868881226,
           -0.26065024733543396,
           0.016701417043805122,
           -0.2646557688713074,
           -0.2469049096107483,
           -0.18660974502563477,
           -0.39333122968673706,
           -0.10665088146924973,
           -0.5967066884040833,
           -0.0325147919356823,
           -0.501168429851532,
           -0.08893148601055145,
           0.027651270851492882,
           -0.38297075033187866,
           -0.6951978206634521,
           -0.00691741518676281,
           -0.27152952551841736,
           -0.10502263903617859,
           -0.40316149592399597,
           -0.19942203164100647,
           -0.44243884086608887,
           -0.3104296326637268
          ],
          [
           -0.37073951959609985,
           0.1951325237751007,
           -0.15779699385166168,
           0.0829496905207634,
           0.11478262394666672,
           -0.05518294498324394,
           -0.1693374067544937,
           0.05447065830230713,
           0.046355605125427246,
           -0.09821977466344833,
           -0.14522521197795868,
           0.06604999303817749,
           0.08812277764081955,
           0.0028299605473876,
           0.1737211048603058,
           -0.2728424668312073,
           0.21260246634483337,
           0.0011910432949662209,
           -0.3038935363292694,
           0.4530310332775116,
           0.05573394149541855,
           0.1931084543466568,
           -0.1102963536977768,
           0.2917565703392029,
           0.1978026032447815,
           -0.5563417077064514
          ]
         ]
        }
       ],
       "layout": {
        "coloraxis": {
         "cmid": 0,
         "colorbar": {
          "len": 1,
          "lenmode": "fraction",
          "thickness": 10,
          "thicknessmode": "pixels",
          "title": {
           "text": "𝑆"
          }
         },
         "colorscale": [
          [
           0,
           "rgb(103,0,31)"
          ],
          [
           0.1,
           "rgb(178,24,43)"
          ],
          [
           0.2,
           "rgb(214,96,77)"
          ],
          [
           0.3,
           "rgb(244,165,130)"
          ],
          [
           0.4,
           "rgb(253,219,199)"
          ],
          [
           0.5,
           "rgb(247,247,247)"
          ],
          [
           0.6,
           "rgb(209,229,240)"
          ],
          [
           0.7,
           "rgb(146,197,222)"
          ],
          [
           0.8,
           "rgb(67,147,195)"
          ],
          [
           0.9,
           "rgb(33,102,172)"
          ],
          [
           1,
           "rgb(5,48,97)"
          ]
         ]
        },
        "font": {
         "color": "black",
         "size": 12
        },
        "height": 300,
        "margin": {
         "b": 10,
         "l": 10,
         "r": 10,
         "t": 10
        },
        "template": {
         "data": {
          "bar": [
           {
            "error_x": {
             "color": "#2a3f5f"
            },
            "error_y": {
             "color": "#2a3f5f"
            },
            "marker": {
             "line": {
              "color": "#E5ECF6",
              "width": 0.5
             },
             "pattern": {
              "fillmode": "overlay",
              "size": 10,
              "solidity": 0.2
             }
            },
            "type": "bar"
           }
          ],
          "barpolar": [
           {
            "marker": {
             "line": {
              "color": "#E5ECF6",
              "width": 0.5
             },
             "pattern": {
              "fillmode": "overlay",
              "size": 10,
              "solidity": 0.2
             }
            },
            "type": "barpolar"
           }
          ],
          "carpet": [
           {
            "aaxis": {
             "endlinecolor": "#2a3f5f",
             "gridcolor": "white",
             "linecolor": "white",
             "minorgridcolor": "white",
             "startlinecolor": "#2a3f5f"
            },
            "baxis": {
             "endlinecolor": "#2a3f5f",
             "gridcolor": "white",
             "linecolor": "white",
             "minorgridcolor": "white",
             "startlinecolor": "#2a3f5f"
            },
            "type": "carpet"
           }
          ],
          "choropleth": [
           {
            "colorbar": {
             "outlinewidth": 0,
             "ticks": ""
            },
            "type": "choropleth"
           }
          ],
          "contour": [
           {
            "colorbar": {
             "outlinewidth": 0,
             "ticks": ""
            },
            "colorscale": [
             [
              0,
              "#0d0887"
             ],
             [
              0.1111111111111111,
              "#46039f"
             ],
             [
              0.2222222222222222,
              "#7201a8"
             ],
             [
              0.3333333333333333,
              "#9c179e"
             ],
             [
              0.4444444444444444,
              "#bd3786"
             ],
             [
              0.5555555555555556,
              "#d8576b"
             ],
             [
              0.6666666666666666,
              "#ed7953"
             ],
             [
              0.7777777777777778,
              "#fb9f3a"
             ],
             [
              0.8888888888888888,
              "#fdca26"
             ],
             [
              1,
              "#f0f921"
             ]
            ],
            "type": "contour"
           }
          ],
          "contourcarpet": [
           {
            "colorbar": {
             "outlinewidth": 0,
             "ticks": ""
            },
            "type": "contourcarpet"
           }
          ],
          "heatmap": [
           {
            "colorbar": {
             "outlinewidth": 0,
             "ticks": ""
            },
            "colorscale": [
             [
              0,
              "#0d0887"
             ],
             [
              0.1111111111111111,
              "#46039f"
             ],
             [
              0.2222222222222222,
              "#7201a8"
             ],
             [
              0.3333333333333333,
              "#9c179e"
             ],
             [
              0.4444444444444444,
              "#bd3786"
             ],
             [
              0.5555555555555556,
              "#d8576b"
             ],
             [
              0.6666666666666666,
              "#ed7953"
             ],
             [
              0.7777777777777778,
              "#fb9f3a"
             ],
             [
              0.8888888888888888,
              "#fdca26"
             ],
             [
              1,
              "#f0f921"
             ]
            ],
            "type": "heatmap"
           }
          ],
          "heatmapgl": [
           {
            "colorbar": {
             "outlinewidth": 0,
             "ticks": ""
            },
            "colorscale": [
             [
              0,
              "#0d0887"
             ],
             [
              0.1111111111111111,
              "#46039f"
             ],
             [
              0.2222222222222222,
              "#7201a8"
             ],
             [
              0.3333333333333333,
              "#9c179e"
             ],
             [
              0.4444444444444444,
              "#bd3786"
             ],
             [
              0.5555555555555556,
              "#d8576b"
             ],
             [
              0.6666666666666666,
              "#ed7953"
             ],
             [
              0.7777777777777778,
              "#fb9f3a"
             ],
             [
              0.8888888888888888,
              "#fdca26"
             ],
             [
              1,
              "#f0f921"
             ]
            ],
            "type": "heatmapgl"
           }
          ],
          "histogram": [
           {
            "marker": {
             "pattern": {
              "fillmode": "overlay",
              "size": 10,
              "solidity": 0.2
             }
            },
            "type": "histogram"
           }
          ],
          "histogram2d": [
           {
            "colorbar": {
             "outlinewidth": 0,
             "ticks": ""
            },
            "colorscale": [
             [
              0,
              "#0d0887"
             ],
             [
              0.1111111111111111,
              "#46039f"
             ],
             [
              0.2222222222222222,
              "#7201a8"
             ],
             [
              0.3333333333333333,
              "#9c179e"
             ],
             [
              0.4444444444444444,
              "#bd3786"
             ],
             [
              0.5555555555555556,
              "#d8576b"
             ],
             [
              0.6666666666666666,
              "#ed7953"
             ],
             [
              0.7777777777777778,
              "#fb9f3a"
             ],
             [
              0.8888888888888888,
              "#fdca26"
             ],
             [
              1,
              "#f0f921"
             ]
            ],
            "type": "histogram2d"
           }
          ],
          "histogram2dcontour": [
           {
            "colorbar": {
             "outlinewidth": 0,
             "ticks": ""
            },
            "colorscale": [
             [
              0,
              "#0d0887"
             ],
             [
              0.1111111111111111,
              "#46039f"
             ],
             [
              0.2222222222222222,
              "#7201a8"
             ],
             [
              0.3333333333333333,
              "#9c179e"
             ],
             [
              0.4444444444444444,
              "#bd3786"
             ],
             [
              0.5555555555555556,
              "#d8576b"
             ],
             [
              0.6666666666666666,
              "#ed7953"
             ],
             [
              0.7777777777777778,
              "#fb9f3a"
             ],
             [
              0.8888888888888888,
              "#fdca26"
             ],
             [
              1,
              "#f0f921"
             ]
            ],
            "type": "histogram2dcontour"
           }
          ],
          "mesh3d": [
           {
            "colorbar": {
             "outlinewidth": 0,
             "ticks": ""
            },
            "type": "mesh3d"
           }
          ],
          "parcoords": [
           {
            "line": {
             "colorbar": {
              "outlinewidth": 0,
              "ticks": ""
             }
            },
            "type": "parcoords"
           }
          ],
          "pie": [
           {
            "automargin": true,
            "type": "pie"
           }
          ],
          "scatter": [
           {
            "fillpattern": {
             "fillmode": "overlay",
             "size": 10,
             "solidity": 0.2
            },
            "type": "scatter"
           }
          ],
          "scatter3d": [
           {
            "line": {
             "colorbar": {
              "outlinewidth": 0,
              "ticks": ""
             }
            },
            "marker": {
             "colorbar": {
              "outlinewidth": 0,
              "ticks": ""
             }
            },
            "type": "scatter3d"
           }
          ],
          "scattercarpet": [
           {
            "marker": {
             "colorbar": {
              "outlinewidth": 0,
              "ticks": ""
             }
            },
            "type": "scattercarpet"
           }
          ],
          "scattergeo": [
           {
            "marker": {
             "colorbar": {
              "outlinewidth": 0,
              "ticks": ""
             }
            },
            "type": "scattergeo"
           }
          ],
          "scattergl": [
           {
            "marker": {
             "colorbar": {
              "outlinewidth": 0,
              "ticks": ""
             }
            },
            "type": "scattergl"
           }
          ],
          "scattermapbox": [
           {
            "marker": {
             "colorbar": {
              "outlinewidth": 0,
              "ticks": ""
             }
            },
            "type": "scattermapbox"
           }
          ],
          "scatterpolar": [
           {
            "marker": {
             "colorbar": {
              "outlinewidth": 0,
              "ticks": ""
             }
            },
            "type": "scatterpolar"
           }
          ],
          "scatterpolargl": [
           {
            "marker": {
             "colorbar": {
              "outlinewidth": 0,
              "ticks": ""
             }
            },
            "type": "scatterpolargl"
           }
          ],
          "scatterternary": [
           {
            "marker": {
             "colorbar": {
              "outlinewidth": 0,
              "ticks": ""
             }
            },
            "type": "scatterternary"
           }
          ],
          "surface": [
           {
            "colorbar": {
             "outlinewidth": 0,
             "ticks": ""
            },
            "colorscale": [
             [
              0,
              "#0d0887"
             ],
             [
              0.1111111111111111,
              "#46039f"
             ],
             [
              0.2222222222222222,
              "#7201a8"
             ],
             [
              0.3333333333333333,
              "#9c179e"
             ],
             [
              0.4444444444444444,
              "#bd3786"
             ],
             [
              0.5555555555555556,
              "#d8576b"
             ],
             [
              0.6666666666666666,
              "#ed7953"
             ],
             [
              0.7777777777777778,
              "#fb9f3a"
             ],
             [
              0.8888888888888888,
              "#fdca26"
             ],
             [
              1,
              "#f0f921"
             ]
            ],
            "type": "surface"
           }
          ],
          "table": [
           {
            "cells": {
             "fill": {
              "color": "#EBF0F8"
             },
             "line": {
              "color": "white"
             }
            },
            "header": {
             "fill": {
              "color": "#C8D4E3"
             },
             "line": {
              "color": "white"
             }
            },
            "type": "table"
           }
          ]
         },
         "layout": {
          "annotationdefaults": {
           "arrowcolor": "#2a3f5f",
           "arrowhead": 0,
           "arrowwidth": 1
          },
          "autotypenumbers": "strict",
          "coloraxis": {
           "colorbar": {
            "outlinewidth": 0,
            "ticks": ""
           }
          },
          "colorscale": {
           "diverging": [
            [
             0,
             "#8e0152"
            ],
            [
             0.1,
             "#c51b7d"
            ],
            [
             0.2,
             "#de77ae"
            ],
            [
             0.3,
             "#f1b6da"
            ],
            [
             0.4,
             "#fde0ef"
            ],
            [
             0.5,
             "#f7f7f7"
            ],
            [
             0.6,
             "#e6f5d0"
            ],
            [
             0.7,
             "#b8e186"
            ],
            [
             0.8,
             "#7fbc41"
            ],
            [
             0.9,
             "#4d9221"
            ],
            [
             1,
             "#276419"
            ]
           ],
           "sequential": [
            [
             0,
             "#0d0887"
            ],
            [
             0.1111111111111111,
             "#46039f"
            ],
            [
             0.2222222222222222,
             "#7201a8"
            ],
            [
             0.3333333333333333,
             "#9c179e"
            ],
            [
             0.4444444444444444,
             "#bd3786"
            ],
            [
             0.5555555555555556,
             "#d8576b"
            ],
            [
             0.6666666666666666,
             "#ed7953"
            ],
            [
             0.7777777777777778,
             "#fb9f3a"
            ],
            [
             0.8888888888888888,
             "#fdca26"
            ],
            [
             1,
             "#f0f921"
            ]
           ],
           "sequentialminus": [
            [
             0,
             "#0d0887"
            ],
            [
             0.1111111111111111,
             "#46039f"
            ],
            [
             0.2222222222222222,
             "#7201a8"
            ],
            [
             0.3333333333333333,
             "#9c179e"
            ],
            [
             0.4444444444444444,
             "#bd3786"
            ],
            [
             0.5555555555555556,
             "#d8576b"
            ],
            [
             0.6666666666666666,
             "#ed7953"
            ],
            [
             0.7777777777777778,
             "#fb9f3a"
            ],
            [
             0.8888888888888888,
             "#fdca26"
            ],
            [
             1,
             "#f0f921"
            ]
           ]
          },
          "colorway": [
           "#636efa",
           "#EF553B",
           "#00cc96",
           "#ab63fa",
           "#FFA15A",
           "#19d3f3",
           "#FF6692",
           "#B6E880",
           "#FF97FF",
           "#FECB52"
          ],
          "font": {
           "color": "#2a3f5f"
          },
          "geo": {
           "bgcolor": "white",
           "lakecolor": "white",
           "landcolor": "#E5ECF6",
           "showlakes": true,
           "showland": true,
           "subunitcolor": "white"
          },
          "hoverlabel": {
           "align": "left"
          },
          "hovermode": "closest",
          "mapbox": {
           "style": "light"
          },
          "paper_bgcolor": "white",
          "plot_bgcolor": "#E5ECF6",
          "polar": {
           "angularaxis": {
            "gridcolor": "white",
            "linecolor": "white",
            "ticks": ""
           },
           "bgcolor": "#E5ECF6",
           "radialaxis": {
            "gridcolor": "white",
            "linecolor": "white",
            "ticks": ""
           }
          },
          "scene": {
           "xaxis": {
            "backgroundcolor": "#E5ECF6",
            "gridcolor": "white",
            "gridwidth": 2,
            "linecolor": "white",
            "showbackground": true,
            "ticks": "",
            "zerolinecolor": "white"
           },
           "yaxis": {
            "backgroundcolor": "#E5ECF6",
            "gridcolor": "white",
            "gridwidth": 2,
            "linecolor": "white",
            "showbackground": true,
            "ticks": "",
            "zerolinecolor": "white"
           },
           "zaxis": {
            "backgroundcolor": "#E5ECF6",
            "gridcolor": "white",
            "gridwidth": 2,
            "linecolor": "white",
            "showbackground": true,
            "ticks": "",
            "zerolinecolor": "white"
           }
          },
          "shapedefaults": {
           "line": {
            "color": "#2a3f5f"
           }
          },
          "ternary": {
           "aaxis": {
            "gridcolor": "white",
            "linecolor": "white",
            "ticks": ""
           },
           "baxis": {
            "gridcolor": "white",
            "linecolor": "white",
            "ticks": ""
           },
           "bgcolor": "#E5ECF6",
           "caxis": {
            "gridcolor": "white",
            "linecolor": "white",
            "ticks": ""
           }
          },
          "title": {
           "x": 0.05
          },
          "xaxis": {
           "automargin": true,
           "gridcolor": "white",
           "linecolor": "white",
           "ticks": "",
           "title": {
            "standoff": 15
           },
           "zerolinecolor": "white",
           "zerolinewidth": 2
          },
          "yaxis": {
           "automargin": true,
           "gridcolor": "white",
           "linecolor": "white",
           "ticks": "",
           "title": {
            "standoff": 15
           },
           "zerolinecolor": "white",
           "zerolinewidth": 2
          }
         }
        },
        "title": {
         "font": {
          "size": 14
         }
        },
        "width": 300,
        "xaxis": {
         "anchor": "y",
         "constrain": "domain",
         "domain": [
          0,
          1
         ],
         "linecolor": "black",
         "linewidth": 1,
         "mirror": true,
         "scaleanchor": "y",
         "showline": true,
         "tickcolor": "black",
         "ticks": "outside",
         "tickwidth": 1,
         "title": {}
        },
        "yaxis": {
         "anchor": "x",
         "autorange": "reversed",
         "constrain": "domain",
         "domain": [
          0,
          1
         ],
         "linecolor": "black",
         "linewidth": 1,
         "mirror": true,
         "showline": true,
         "tickcolor": "black",
         "ticks": "outside",
         "tickwidth": 1,
         "title": {}
        }
       }
      }
     },
     "metadata": {},
     "output_type": "display_data"
    }
   ],
   "source": [
    "# for pythia\n",
    "token_alpha_2 = model2.to_tokens(ALPHABET_LIST, prepend_bos=False).to(device)\n",
    "token_alpha_2 = [ element[0].item() for element in token_alpha_2 ]\n",
    "deductive_head_ov_2 = model2.OV\n",
    "ev = model2.W_E\n",
    "uev = model2.W_U\n",
    "ov_circuit_2 = ev.cpu()[token_alpha_2, : ] @ deductive_head_ov_2.AB.cpu() @ uev.cpu()[:, token_alpha_2]\n",
    "# OV circuit for head 11.10\n",
    "layer = 11\n",
    "head = 4\n",
    "pu.plot_attn(h.normalise_tensor(ov_circuit_2[layer, head, : , :]), ALPHABET_LIST, image_dir / \"symbolic_ov_circuit.png\")"
   ]
  },
  {
   "cell_type": "code",
   "execution_count": 91,
   "metadata": {},
   "outputs": [
    {
     "name": "stdout",
     "output_type": "stream",
     "text": [
      "Mean KL(a || b): 0.02601531147956848\n",
      "Mean KL(a || random): 0.3195052146911621\n",
      "Mean KL(b || random): 0.32373884320259094\n"
     ]
    }
   ],
   "source": [
    "import torch\n",
    "import torch.nn.functional as F\n",
    "\n",
    "# Example tensors (a and b)\n",
    "# Ensure these tensors have shape (24, 11)\n",
    "a = h.normalise_tensor(ov_circuit[11, 10, :, :])\n",
    "b = h.normalise_tensor(ov_circuit_2[11, 4, :, :])\n",
    "\n",
    "# Normalize each row to create valid probability distributions\n",
    "# This ensures the comparison respects 2D relationships row by row\n",
    "a_prob = F.softmax(a, dim=1)  # Normalize rows\n",
    "b_prob = F.softmax(b, dim=1)  # Normalize rows\n",
    "\n",
    "# Create a random baseline with the same shape as a and b\n",
    "random_baseline = torch.rand_like(a_prob)  # Randomly initialized distribution\n",
    "random_baseline = random_baseline / random_baseline.sum(dim=1, keepdim=True)  # Normalize rows to sum to 1\n",
    "\n",
    "# KL Divergence function with numerical stability\n",
    "def kl_divergence_2d(p, q):\n",
    "    epsilon = 1e-10  # To avoid log(0)\n",
    "    return (p * (p.log() - (q + epsilon).log())).sum(dim=1)  # Sum over columns for each row\n",
    "\n",
    "# Compute KL Divergence row by row\n",
    "kl_a_b_rows = kl_divergence_2d(a_prob, b_prob)  # Divergence between a and b (row-wise)\n",
    "kl_a_random_rows = kl_divergence_2d(a_prob, random_baseline)  # Divergence of a from random (row-wise)\n",
    "kl_b_random_rows = kl_divergence_2d(b_prob, random_baseline)  # Divergence of b from random (row-wise)\n",
    "\n",
    "# Average KL divergences across rows\n",
    "mean_kl_a_b = kl_a_b_rows.mean().item()\n",
    "mean_kl_a_random = kl_a_random_rows.mean().item()\n",
    "mean_kl_b_random = kl_b_random_rows.mean().item()\n",
    "\n",
    "# Print results\n",
    "print(\"Mean KL(a || b):\", mean_kl_a_b)\n",
    "print(\"Mean KL(a || random):\", mean_kl_a_random)\n",
    "print(\"Mean KL(b || random):\", mean_kl_b_random)\n"
   ]
  },
  {
   "cell_type": "markdown",
   "metadata": {
    "id": "zSccDrGfabVZ"
   },
   "source": [
    "## Localization of Term-Related Information Flow"
   ]
  },
  {
   "cell_type": "code",
   "execution_count": 93,
   "metadata": {
    "id": "qI5EKogEabVZ"
   },
   "outputs": [],
   "source": [
    "# Corruption and tokenization\n",
    "s_corrupted_prompts = all_term_corrupt(s_prompts, s_As, s_Bs, s_labels, 'symbolic')\n",
    "\n",
    "s_tokens = model.to_tokens(s_prompts, prepend_bos=False).to(device)\n",
    "s_corrupted_tokens = model.to_tokens(s_corrupted_prompts, prepend_bos=False).to(device)"
   ]
  },
  {
   "cell_type": "code",
   "execution_count": 94,
   "metadata": {
    "colab": {
     "base_uri": "https://localhost:8080/"
    },
    "id": "7VHb6Mx5abVZ",
    "outputId": "527445a2-b462-49d2-f0c8-4daae6a3a9bc"
   },
   "outputs": [
    {
     "name": "stdout",
     "output_type": "stream",
     "text": [
      "Clean logit diff: 0.5280\n",
      "Corrupted logit diff: 0.0404\n"
     ]
    }
   ],
   "source": [
    "# Compute logits for interventions\n",
    "s_clean_logits, s_clean_cache = model.run_with_cache(s_tokens)\n",
    "s_corrupted_logits, s_corrupted_cache = model.run_with_cache(s_corrupted_tokens)\n",
    "\n",
    "s_clean_logit_diff = h.compute_logit_diff(s_clean_logits, s_answer_tokens)\n",
    "print(f\"Clean logit diff: {s_clean_logit_diff:.4f}\")\n",
    "\n",
    "s_corrupted_logit_diff = h.compute_logit_diff(s_corrupted_logits, s_answer_tokens)\n",
    "print(f\"Corrupted logit diff: {s_corrupted_logit_diff:.4f}\")"
   ]
  },
  {
   "cell_type": "code",
   "execution_count": 98,
   "metadata": {},
   "outputs": [
    {
     "name": "stdout",
     "output_type": "stream",
     "text": [
      "Clean logit diff: 0.8832\n",
      "Corrupted logit diff: 0.1461\n"
     ]
    }
   ],
   "source": [
    "# pythia410m\n",
    "s_tokens = model2.to_tokens(s_prompts, prepend_bos=False).to(device)\n",
    "s_corrupted_tokens_2 = model2.to_tokens(s_corrupted_prompts, prepend_bos=False).to(device)\n",
    "# Compute logits for interventions\n",
    "s_clean_logits_2, s_clean_cache_2 = model2.run_with_cache(s_tokens)\n",
    "s_corrupted_logits_2, s_corrupted_cache_2 = model2.run_with_cache(s_corrupted_tokens_2)\n",
    "\n",
    "s_clean_logit_diff_2 = h.compute_logit_diff(s_clean_logits_2, s_answer_tokens_2)\n",
    "print(f\"Clean logit diff: {s_clean_logit_diff_2:.4f}\")\n",
    "\n",
    "s_corrupted_logit_diff_2 = h.compute_logit_diff(s_corrupted_logits_2, s_answer_tokens_2)\n",
    "print(f\"Corrupted logit diff: {s_corrupted_logit_diff_2:.4f}\")"
   ]
  },
  {
   "cell_type": "markdown",
   "metadata": {
    "id": "wNdDx92-abVZ"
   },
   "source": [
    "### Figure 4(d) residual stream patching"
   ]
  },
  {
   "cell_type": "code",
   "execution_count": 96,
   "metadata": {
    "colab": {
     "base_uri": "https://localhost:8080/"
    },
    "id": "e95chG3LabVZ",
    "outputId": "ff302971-a526-4501-f9be-e2fae8887613"
   },
   "outputs": [
    {
     "name": "stderr",
     "output_type": "stream",
     "text": [
      "100%|██████████| 24/24 [01:51<00:00,  4.63s/it]\n"
     ]
    }
   ],
   "source": [
    "s_resid_denoising2 = h.patching_residual(model, s_corrupted_tokens, s_clean_cache, h.metric_denoising, s_answer_tokens, s_clean_logit_diff, s_corrupted_logit_diff, device)"
   ]
  },
  {
   "cell_type": "code",
   "execution_count": 97,
   "metadata": {
    "colab": {
     "base_uri": "https://localhost:8080/",
     "height": 317
    },
    "id": "IdapQYW2abVa",
    "outputId": "4c1a4615-6ff3-4dea-886f-87eeb5f2badd"
   },
   "outputs": [
    {
     "name": "stdout",
     "output_type": "stream",
     "text": [
      "Plot saved to ../images/gpt-2_vs_pythia/symbolic_residual2.png\n"
     ]
    },
    {
     "data": {
      "application/vnd.plotly.v1+json": {
       "config": {
        "plotlyServerURL": "https://plot.ly"
       },
       "data": [
        {
         "coloraxis": "coloraxis",
         "hovertemplate": "Layer: %{x}<br>Sequence Position: %{y}<br>color: %{z}<extra></extra>",
         "name": "0",
         "type": "heatmap",
         "xaxis": "x",
         "y": [
          "BEGIN",
          "s_1",
          "s_1 -> m_1",
          "m_1",
          "m_1 -> m_2",
          "m_2",
          "m_2 -> p",
          "p",
          "p -> s_2",
          "s_2",
          "END"
         ],
         "yaxis": "y",
         "z": [
          [
           0,
           0,
           0,
           0,
           0,
           0,
           0,
           0,
           0,
           0,
           0,
           0,
           0,
           0,
           0,
           0,
           0,
           0,
           0,
           0,
           0,
           0,
           0,
           0
          ],
          [
           -0.01959800161421299,
           -0.02326761931180954,
           -0.027215713635087013,
           -0.027040623128414154,
           -0.016932636499404907,
           -0.007083148695528507,
           -0.0013749387580901384,
           0.004162646364420652,
           0.005168313160538673,
           0.004547924734652042,
           0.004400286823511124,
           0.005307411774992943,
           0.0053221844136714935,
           0.004096799995750189,
           0.004255765117704868,
           0.003971309866756201,
           0.004291285760700703,
           0.0032546240836381912,
           0.0027434476651251316,
           -0.00005256726944935508,
           -0.001039354712702334,
           -0.0010329486103728414,
           -0.0013531827135011554,
           0
          ],
          [
           0.00009873876842902973,
           0.000882369524333626,
           0.0005524751613847911,
           0.0009187923278659582,
           0.003230514470487833,
           -0.007369565777480602,
           0.0006952630938030779,
           0.0028203793335705996,
           0.0002761507057584822,
           0.0013983818935230374,
           -0.0007726475014351308,
           -0.0018627509707584977,
           -0.0019613299518823624,
           -0.0018330608727410436,
           -0.002754117827862501,
           -0.0020632415544241667,
           -0.0014834844041615725,
           0.00017697361181490123,
           0.0008845771080814302,
           0.0006360919796861708,
           -0.0003143651410937309,
           -0.000737629015929997,
           -0.0005395393236540258,
           0
          ],
          [
           -0.9284026026725769,
           -0.9274147748947144,
           -0.9260613322257996,
           -0.9185833930969238,
           -0.9071983695030212,
           -0.9295046329498291,
           -0.9258013367652893,
           -0.9324487447738647,
           -0.9305092096328735,
           -0.9197514057159424,
           -0.9072647094726562,
           -0.8659712672233582,
           -0.8580824732780457,
           -0.8374007940292358,
           -0.7809385061264038,
           -0.7236078977584839,
           -0.7065030932426453,
           -0.6421677470207214,
           -0.5928017497062683,
           -0.5096747875213623,
           -0.44968128204345703,
           -0.36957043409347534,
           -0.33502405881881714,
           0
          ],
          [
           -0.00017456512432545424,
           0.0001198898462462239,
           -0.00045737458276562393,
           -0.000317765079671517,
           0.0009534904966130853,
           -0.00004589892705553211,
           -0.004692484624683857,
           -0.005684614181518555,
           -0.006156358867883682,
           -0.008183854632079601,
           -0.008505390956997871,
           -0.010661661624908447,
           -0.012378757819533348,
           -0.012920799665153027,
           -0.013611153699457645,
           -0.012228328734636307,
           -0.012824583798646927,
           -0.012689776718616486,
           -0.013928186148405075,
           -0.012030113488435745,
           -0.011777244508266449,
           -0.01122751459479332,
           -0.003633726853877306,
           0
          ],
          [
           -0.5880815982818604,
           -0.5842047333717346,
           -0.5766687393188477,
           -0.5642605423927307,
           -0.5440852642059326,
           -0.5282867550849915,
           -0.4715988337993622,
           -0.32245203852653503,
           -0.314319908618927,
           -0.24968814849853516,
           -0.21204274892807007,
           -0.21073424816131592,
           -0.23785309493541718,
           -0.23553206026554108,
           -0.2195703685283661,
           -0.2171948403120041,
           -0.20511138439178467,
           -0.18259209394454956,
           -0.14868170022964478,
           -0.16400912404060364,
           -0.13225850462913513,
           -0.10264526307582855,
           -0.08972319960594177,
           0
          ],
          [
           -0.00002305506495758891,
           0.00003179077248205431,
           -0.0003040004230570048,
           -0.0018900696886703372,
           -0.004320134874433279,
           -0.0031924769282341003,
           -0.004203924909234047,
           -0.004236909095197916,
           -0.003935561049729586,
           -0.0038468532729893923,
           -0.0032753562554717064,
           -0.005739371757954359,
           -0.00613382738083601,
           -0.0095934784039855,
           -0.01077201683074236,
           -0.01168745569884777,
           -0.012019999325275421,
           -0.00873409491032362,
           -0.018897008150815964,
           -0.00643266923725605,
           -0.00814163126051426,
           -0.005727905314415693,
           -0.0024433371145278215,
           0
          ],
          [
           0.9873798489570618,
           0.9850723147392273,
           0.98121178150177,
           0.9764699935913086,
           0.9798277020454407,
           0.9872077107429504,
           0.9873319864273071,
           0.9879531860351562,
           0.9853343367576599,
           0.9860674738883972,
           0.9913239479064941,
           0.9874001145362854,
           1,
           0.9910280704498291,
           0.9202755689620972,
           0.7577687501907349,
           0.7413377165794373,
           0.6867125630378723,
           0.5925092101097107,
           0.4455976188182831,
           0.3881688416004181,
           0.30892452597618103,
           0.2619740664958954,
           0
          ],
          [
           -0.00009234937169821933,
           -0.0002518643159419298,
           -0.00023114918440114707,
           -0.00004604876085068099,
           -0.00018403246940579265,
           0.00012617403990589082,
           0.0005059123504906893,
           0.0005476669757626951,
           0.0003098901070188731,
           -0.0001256089744856581,
           -0.0004509341961238533,
           -0.00046623224625363946,
           -0.00001445882753614569,
           0.0000023399361452902667,
           -0.0004601217806339264,
           0.0001493478484917432,
           -0.00015769941092003137,
           -0.0010796126443892717,
           -0.0022884837817400694,
           0.003218830795958638,
           0.0034457023721188307,
           0.0007702470174990594,
           0.00039184445631690323,
           0
          ],
          [
           -0.010333011858165264,
           -0.011540940962731838,
           -0.0099553307518363,
           -0.004932569805532694,
           -0.0007873032009229064,
           0.0010287079494446516,
           -0.0022276805248111486,
           0.0017855234909802675,
           0.0023991651833057404,
           0.002637044293805957,
           0.0013595044147223234,
           0.0015242253430187702,
           0.002926996909081936,
           0.00330713065341115,
           0.0014362799702212214,
           0.0012497681891545653,
           0.00007765304326312616,
           -0.0010942547814920545,
           -0.0033567086793482304,
           -0.005726697854697704,
           -0.007450951728969812,
           -0.008034737780690193,
           -0.006104151718318462,
           0
          ],
          [
           0.00015275494661182165,
           0.00025634653866291046,
           0.0008116374374367297,
           0.0007457024184986949,
           -0.0024602678604424,
           -0.0050979238003492355,
           -0.011206301860511303,
           -0.015046569518744946,
           -0.014419786632061005,
           -0.05084501951932907,
           -0.06833383440971375,
           -0.1413937211036682,
           -0.14296092092990875,
           -0.15027806162834167,
           -0.059534698724746704,
           0.1603689044713974,
           0.14737224578857422,
           0.09913349151611328,
           0.17865532636642456,
           0.25577512383461,
           0.22941707074642181,
           0.21347515285015106,
           0.17404481768608093,
           0.10432086139917374
          ]
         ]
        }
       ],
       "layout": {
        "coloraxis": {
         "cmid": 0,
         "colorbar": {
          "len": 1,
          "lenmode": "fraction",
          "thickness": 10,
          "thicknessmode": "pixels",
          "title": {}
         },
         "colorscale": [
          [
           0,
           "rgb(103,0,31)"
          ],
          [
           0.1,
           "rgb(178,24,43)"
          ],
          [
           0.2,
           "rgb(214,96,77)"
          ],
          [
           0.3,
           "rgb(244,165,130)"
          ],
          [
           0.4,
           "rgb(253,219,199)"
          ],
          [
           0.5,
           "rgb(247,247,247)"
          ],
          [
           0.6,
           "rgb(209,229,240)"
          ],
          [
           0.7,
           "rgb(146,197,222)"
          ],
          [
           0.8,
           "rgb(67,147,195)"
          ],
          [
           0.9,
           "rgb(33,102,172)"
          ],
          [
           1,
           "rgb(5,48,97)"
          ]
         ]
        },
        "font": {
         "color": "black",
         "size": 12
        },
        "height": 300,
        "margin": {
         "b": 20,
         "l": 10,
         "r": 10,
         "t": 20
        },
        "template": {
         "data": {
          "bar": [
           {
            "error_x": {
             "color": "#2a3f5f"
            },
            "error_y": {
             "color": "#2a3f5f"
            },
            "marker": {
             "line": {
              "color": "#E5ECF6",
              "width": 0.5
             },
             "pattern": {
              "fillmode": "overlay",
              "size": 10,
              "solidity": 0.2
             }
            },
            "type": "bar"
           }
          ],
          "barpolar": [
           {
            "marker": {
             "line": {
              "color": "#E5ECF6",
              "width": 0.5
             },
             "pattern": {
              "fillmode": "overlay",
              "size": 10,
              "solidity": 0.2
             }
            },
            "type": "barpolar"
           }
          ],
          "carpet": [
           {
            "aaxis": {
             "endlinecolor": "#2a3f5f",
             "gridcolor": "white",
             "linecolor": "white",
             "minorgridcolor": "white",
             "startlinecolor": "#2a3f5f"
            },
            "baxis": {
             "endlinecolor": "#2a3f5f",
             "gridcolor": "white",
             "linecolor": "white",
             "minorgridcolor": "white",
             "startlinecolor": "#2a3f5f"
            },
            "type": "carpet"
           }
          ],
          "choropleth": [
           {
            "colorbar": {
             "outlinewidth": 0,
             "ticks": ""
            },
            "type": "choropleth"
           }
          ],
          "contour": [
           {
            "colorbar": {
             "outlinewidth": 0,
             "ticks": ""
            },
            "colorscale": [
             [
              0,
              "#0d0887"
             ],
             [
              0.1111111111111111,
              "#46039f"
             ],
             [
              0.2222222222222222,
              "#7201a8"
             ],
             [
              0.3333333333333333,
              "#9c179e"
             ],
             [
              0.4444444444444444,
              "#bd3786"
             ],
             [
              0.5555555555555556,
              "#d8576b"
             ],
             [
              0.6666666666666666,
              "#ed7953"
             ],
             [
              0.7777777777777778,
              "#fb9f3a"
             ],
             [
              0.8888888888888888,
              "#fdca26"
             ],
             [
              1,
              "#f0f921"
             ]
            ],
            "type": "contour"
           }
          ],
          "contourcarpet": [
           {
            "colorbar": {
             "outlinewidth": 0,
             "ticks": ""
            },
            "type": "contourcarpet"
           }
          ],
          "heatmap": [
           {
            "colorbar": {
             "outlinewidth": 0,
             "ticks": ""
            },
            "colorscale": [
             [
              0,
              "#0d0887"
             ],
             [
              0.1111111111111111,
              "#46039f"
             ],
             [
              0.2222222222222222,
              "#7201a8"
             ],
             [
              0.3333333333333333,
              "#9c179e"
             ],
             [
              0.4444444444444444,
              "#bd3786"
             ],
             [
              0.5555555555555556,
              "#d8576b"
             ],
             [
              0.6666666666666666,
              "#ed7953"
             ],
             [
              0.7777777777777778,
              "#fb9f3a"
             ],
             [
              0.8888888888888888,
              "#fdca26"
             ],
             [
              1,
              "#f0f921"
             ]
            ],
            "type": "heatmap"
           }
          ],
          "heatmapgl": [
           {
            "colorbar": {
             "outlinewidth": 0,
             "ticks": ""
            },
            "colorscale": [
             [
              0,
              "#0d0887"
             ],
             [
              0.1111111111111111,
              "#46039f"
             ],
             [
              0.2222222222222222,
              "#7201a8"
             ],
             [
              0.3333333333333333,
              "#9c179e"
             ],
             [
              0.4444444444444444,
              "#bd3786"
             ],
             [
              0.5555555555555556,
              "#d8576b"
             ],
             [
              0.6666666666666666,
              "#ed7953"
             ],
             [
              0.7777777777777778,
              "#fb9f3a"
             ],
             [
              0.8888888888888888,
              "#fdca26"
             ],
             [
              1,
              "#f0f921"
             ]
            ],
            "type": "heatmapgl"
           }
          ],
          "histogram": [
           {
            "marker": {
             "pattern": {
              "fillmode": "overlay",
              "size": 10,
              "solidity": 0.2
             }
            },
            "type": "histogram"
           }
          ],
          "histogram2d": [
           {
            "colorbar": {
             "outlinewidth": 0,
             "ticks": ""
            },
            "colorscale": [
             [
              0,
              "#0d0887"
             ],
             [
              0.1111111111111111,
              "#46039f"
             ],
             [
              0.2222222222222222,
              "#7201a8"
             ],
             [
              0.3333333333333333,
              "#9c179e"
             ],
             [
              0.4444444444444444,
              "#bd3786"
             ],
             [
              0.5555555555555556,
              "#d8576b"
             ],
             [
              0.6666666666666666,
              "#ed7953"
             ],
             [
              0.7777777777777778,
              "#fb9f3a"
             ],
             [
              0.8888888888888888,
              "#fdca26"
             ],
             [
              1,
              "#f0f921"
             ]
            ],
            "type": "histogram2d"
           }
          ],
          "histogram2dcontour": [
           {
            "colorbar": {
             "outlinewidth": 0,
             "ticks": ""
            },
            "colorscale": [
             [
              0,
              "#0d0887"
             ],
             [
              0.1111111111111111,
              "#46039f"
             ],
             [
              0.2222222222222222,
              "#7201a8"
             ],
             [
              0.3333333333333333,
              "#9c179e"
             ],
             [
              0.4444444444444444,
              "#bd3786"
             ],
             [
              0.5555555555555556,
              "#d8576b"
             ],
             [
              0.6666666666666666,
              "#ed7953"
             ],
             [
              0.7777777777777778,
              "#fb9f3a"
             ],
             [
              0.8888888888888888,
              "#fdca26"
             ],
             [
              1,
              "#f0f921"
             ]
            ],
            "type": "histogram2dcontour"
           }
          ],
          "mesh3d": [
           {
            "colorbar": {
             "outlinewidth": 0,
             "ticks": ""
            },
            "type": "mesh3d"
           }
          ],
          "parcoords": [
           {
            "line": {
             "colorbar": {
              "outlinewidth": 0,
              "ticks": ""
             }
            },
            "type": "parcoords"
           }
          ],
          "pie": [
           {
            "automargin": true,
            "type": "pie"
           }
          ],
          "scatter": [
           {
            "fillpattern": {
             "fillmode": "overlay",
             "size": 10,
             "solidity": 0.2
            },
            "type": "scatter"
           }
          ],
          "scatter3d": [
           {
            "line": {
             "colorbar": {
              "outlinewidth": 0,
              "ticks": ""
             }
            },
            "marker": {
             "colorbar": {
              "outlinewidth": 0,
              "ticks": ""
             }
            },
            "type": "scatter3d"
           }
          ],
          "scattercarpet": [
           {
            "marker": {
             "colorbar": {
              "outlinewidth": 0,
              "ticks": ""
             }
            },
            "type": "scattercarpet"
           }
          ],
          "scattergeo": [
           {
            "marker": {
             "colorbar": {
              "outlinewidth": 0,
              "ticks": ""
             }
            },
            "type": "scattergeo"
           }
          ],
          "scattergl": [
           {
            "marker": {
             "colorbar": {
              "outlinewidth": 0,
              "ticks": ""
             }
            },
            "type": "scattergl"
           }
          ],
          "scattermapbox": [
           {
            "marker": {
             "colorbar": {
              "outlinewidth": 0,
              "ticks": ""
             }
            },
            "type": "scattermapbox"
           }
          ],
          "scatterpolar": [
           {
            "marker": {
             "colorbar": {
              "outlinewidth": 0,
              "ticks": ""
             }
            },
            "type": "scatterpolar"
           }
          ],
          "scatterpolargl": [
           {
            "marker": {
             "colorbar": {
              "outlinewidth": 0,
              "ticks": ""
             }
            },
            "type": "scatterpolargl"
           }
          ],
          "scatterternary": [
           {
            "marker": {
             "colorbar": {
              "outlinewidth": 0,
              "ticks": ""
             }
            },
            "type": "scatterternary"
           }
          ],
          "surface": [
           {
            "colorbar": {
             "outlinewidth": 0,
             "ticks": ""
            },
            "colorscale": [
             [
              0,
              "#0d0887"
             ],
             [
              0.1111111111111111,
              "#46039f"
             ],
             [
              0.2222222222222222,
              "#7201a8"
             ],
             [
              0.3333333333333333,
              "#9c179e"
             ],
             [
              0.4444444444444444,
              "#bd3786"
             ],
             [
              0.5555555555555556,
              "#d8576b"
             ],
             [
              0.6666666666666666,
              "#ed7953"
             ],
             [
              0.7777777777777778,
              "#fb9f3a"
             ],
             [
              0.8888888888888888,
              "#fdca26"
             ],
             [
              1,
              "#f0f921"
             ]
            ],
            "type": "surface"
           }
          ],
          "table": [
           {
            "cells": {
             "fill": {
              "color": "#EBF0F8"
             },
             "line": {
              "color": "white"
             }
            },
            "header": {
             "fill": {
              "color": "#C8D4E3"
             },
             "line": {
              "color": "white"
             }
            },
            "type": "table"
           }
          ]
         },
         "layout": {
          "annotationdefaults": {
           "arrowcolor": "#2a3f5f",
           "arrowhead": 0,
           "arrowwidth": 1
          },
          "autotypenumbers": "strict",
          "coloraxis": {
           "colorbar": {
            "outlinewidth": 0,
            "ticks": ""
           }
          },
          "colorscale": {
           "diverging": [
            [
             0,
             "#8e0152"
            ],
            [
             0.1,
             "#c51b7d"
            ],
            [
             0.2,
             "#de77ae"
            ],
            [
             0.3,
             "#f1b6da"
            ],
            [
             0.4,
             "#fde0ef"
            ],
            [
             0.5,
             "#f7f7f7"
            ],
            [
             0.6,
             "#e6f5d0"
            ],
            [
             0.7,
             "#b8e186"
            ],
            [
             0.8,
             "#7fbc41"
            ],
            [
             0.9,
             "#4d9221"
            ],
            [
             1,
             "#276419"
            ]
           ],
           "sequential": [
            [
             0,
             "#0d0887"
            ],
            [
             0.1111111111111111,
             "#46039f"
            ],
            [
             0.2222222222222222,
             "#7201a8"
            ],
            [
             0.3333333333333333,
             "#9c179e"
            ],
            [
             0.4444444444444444,
             "#bd3786"
            ],
            [
             0.5555555555555556,
             "#d8576b"
            ],
            [
             0.6666666666666666,
             "#ed7953"
            ],
            [
             0.7777777777777778,
             "#fb9f3a"
            ],
            [
             0.8888888888888888,
             "#fdca26"
            ],
            [
             1,
             "#f0f921"
            ]
           ],
           "sequentialminus": [
            [
             0,
             "#0d0887"
            ],
            [
             0.1111111111111111,
             "#46039f"
            ],
            [
             0.2222222222222222,
             "#7201a8"
            ],
            [
             0.3333333333333333,
             "#9c179e"
            ],
            [
             0.4444444444444444,
             "#bd3786"
            ],
            [
             0.5555555555555556,
             "#d8576b"
            ],
            [
             0.6666666666666666,
             "#ed7953"
            ],
            [
             0.7777777777777778,
             "#fb9f3a"
            ],
            [
             0.8888888888888888,
             "#fdca26"
            ],
            [
             1,
             "#f0f921"
            ]
           ]
          },
          "colorway": [
           "#636efa",
           "#EF553B",
           "#00cc96",
           "#ab63fa",
           "#FFA15A",
           "#19d3f3",
           "#FF6692",
           "#B6E880",
           "#FF97FF",
           "#FECB52"
          ],
          "font": {
           "color": "#2a3f5f"
          },
          "geo": {
           "bgcolor": "white",
           "lakecolor": "white",
           "landcolor": "#E5ECF6",
           "showlakes": true,
           "showland": true,
           "subunitcolor": "white"
          },
          "hoverlabel": {
           "align": "left"
          },
          "hovermode": "closest",
          "mapbox": {
           "style": "light"
          },
          "paper_bgcolor": "white",
          "plot_bgcolor": "#E5ECF6",
          "polar": {
           "angularaxis": {
            "gridcolor": "white",
            "linecolor": "white",
            "ticks": ""
           },
           "bgcolor": "#E5ECF6",
           "radialaxis": {
            "gridcolor": "white",
            "linecolor": "white",
            "ticks": ""
           }
          },
          "scene": {
           "xaxis": {
            "backgroundcolor": "#E5ECF6",
            "gridcolor": "white",
            "gridwidth": 2,
            "linecolor": "white",
            "showbackground": true,
            "ticks": "",
            "zerolinecolor": "white"
           },
           "yaxis": {
            "backgroundcolor": "#E5ECF6",
            "gridcolor": "white",
            "gridwidth": 2,
            "linecolor": "white",
            "showbackground": true,
            "ticks": "",
            "zerolinecolor": "white"
           },
           "zaxis": {
            "backgroundcolor": "#E5ECF6",
            "gridcolor": "white",
            "gridwidth": 2,
            "linecolor": "white",
            "showbackground": true,
            "ticks": "",
            "zerolinecolor": "white"
           }
          },
          "shapedefaults": {
           "line": {
            "color": "#2a3f5f"
           }
          },
          "ternary": {
           "aaxis": {
            "gridcolor": "white",
            "linecolor": "white",
            "ticks": ""
           },
           "baxis": {
            "gridcolor": "white",
            "linecolor": "white",
            "ticks": ""
           },
           "bgcolor": "#E5ECF6",
           "caxis": {
            "gridcolor": "white",
            "linecolor": "white",
            "ticks": ""
           }
          },
          "title": {
           "x": 0.05
          },
          "xaxis": {
           "automargin": true,
           "gridcolor": "white",
           "linecolor": "white",
           "ticks": "",
           "title": {
            "standoff": 15
           },
           "zerolinecolor": "white",
           "zerolinewidth": 2
          },
          "yaxis": {
           "automargin": true,
           "gridcolor": "white",
           "linecolor": "white",
           "ticks": "",
           "title": {
            "standoff": 15
           },
           "zerolinecolor": "white",
           "zerolinewidth": 2
          }
         }
        },
        "title": {
         "font": {
          "size": 14
         }
        },
        "width": 400,
        "xaxis": {
         "anchor": "y",
         "constrain": "domain",
         "domain": [
          0,
          1
         ],
         "linecolor": "black",
         "linewidth": 1,
         "mirror": true,
         "scaleanchor": "y",
         "showline": true,
         "showticklabels": true,
         "tickmode": "array",
         "ticks": "",
         "title": {}
        },
        "yaxis": {
         "anchor": "x",
         "autorange": "reversed",
         "constrain": "domain",
         "domain": [
          0,
          1
         ],
         "linecolor": "black",
         "linewidth": 1,
         "mirror": true,
         "showline": true,
         "showticklabels": true,
         "tickmode": "array",
         "ticks": "",
         "ticktext": [
          "BEGIN",
          "s_1",
          "s_1 -> m_1",
          "m_1",
          "m_1 -> m_2",
          "m_2",
          "m_2 -> p",
          "p",
          "p -> s_2",
          "s_2",
          "END"
         ],
         "tickvals": [
          0,
          1,
          2,
          3,
          4,
          5,
          6,
          7,
          8,
          9,
          10
         ],
         "title": {}
        }
       }
      }
     },
     "metadata": {},
     "output_type": "display_data"
    }
   ],
   "source": [
    "pu.plot_residual(h.normalise_tensor(h.resize_all(s_resid_denoising2)), labels, image_dir / \"symbolic_residual2.png\")"
   ]
  },
  {
   "cell_type": "code",
   "execution_count": 99,
   "metadata": {},
   "outputs": [
    {
     "name": "stderr",
     "output_type": "stream",
     "text": [
      "100%|██████████| 24/24 [02:46<00:00,  6.94s/it]\n"
     ]
    }
   ],
   "source": [
    "s_resid_denoising2_pythia = h.patching_residual(model2, s_corrupted_tokens_2, s_clean_cache_2, h.metric_denoising, s_answer_tokens_2, s_clean_logit_diff_2, s_corrupted_logit_diff_2, device)"
   ]
  },
  {
   "cell_type": "code",
   "execution_count": 100,
   "metadata": {},
   "outputs": [
    {
     "name": "stdout",
     "output_type": "stream",
     "text": [
      "Plot saved to ../images/gpt-2_vs_pythia/symbolic_residual2.png\n"
     ]
    },
    {
     "data": {
      "application/vnd.plotly.v1+json": {
       "config": {
        "plotlyServerURL": "https://plot.ly"
       },
       "data": [
        {
         "coloraxis": "coloraxis",
         "hovertemplate": "Layer: %{x}<br>Sequence Position: %{y}<br>color: %{z}<extra></extra>",
         "name": "0",
         "type": "heatmap",
         "xaxis": "x",
         "y": [
          "BEGIN",
          "s_1",
          "s_1 -> m_1",
          "m_1",
          "m_1 -> m_2",
          "m_2",
          "m_2 -> p",
          "p",
          "p -> s_2",
          "s_2",
          "END"
         ],
         "yaxis": "y",
         "z": [
          [
           0,
           0,
           0,
           0,
           0,
           0,
           0,
           0,
           0,
           0,
           0,
           0,
           0,
           0,
           0,
           0,
           0,
           0,
           0,
           0,
           0,
           0,
           0,
           0
          ],
          [
           0.015051397494971752,
           0.0106010427698493,
           0.011829866096377373,
           0.0085356580093503,
           0.008371698670089245,
           0.0016954512102529407,
           0.0016233817441388965,
           0.0011253325501456857,
           0.00260638864710927,
           0.00008914118370739743,
           0.00008807826088741422,
           -0.0004271962388884276,
           -0.0014498854288831353,
           0.0006939141312614083,
           0.00014588671911042184,
           0.000029006096156081185,
           -0.0006558289169333875,
           -0.0014393418096005917,
           -0.0005823185783810914,
           -0.000010540692528593354,
           -0.00006591918645426631,
           0.000010336964805901516,
           0.000001966414856724441,
           0
          ],
          [
           0.001334681990556419,
           0.0032288769725710154,
           0.0005801396910101175,
           0.001075005973689258,
           0.003076016204431653,
           0.02042144350707531,
           0.021591998636722565,
           0.005552512127906084,
           0.005315048154443502,
           0.005919519811868668,
           0.005657201632857323,
           0.0039965021423995495,
           0.0030555163975805044,
           0.0018436555983498693,
           0.0014774980954825878,
           0.000800605455879122,
           -0.00009298544318880886,
           -0.0002237786102341488,
           0.00002694224713195581,
           0.0000325108012475539,
           0.0003169412084389478,
           0.00007871269917814061,
           0.000009530911484034732,
           0
          ],
          [
           -0.8548519611358643,
           -0.8487880229949951,
           -0.8420280814170837,
           -0.8446983098983765,
           -0.8436005115509033,
           -0.8225898146629333,
           -0.8179035186767578,
           -0.8336135745048523,
           -0.827957272529602,
           -0.8108522891998291,
           -0.7221676707267761,
           -0.7004607319831848,
           -0.6939814686775208,
           -0.6550889015197754,
           -0.6770349144935608,
           -0.6009308695793152,
           -0.625924289226532,
           -0.39405274391174316,
           -0.29092931747436523,
           -0.2858522832393646,
           -0.27546945214271545,
           -0.0014144281158223748,
           -0.00008074406650848687,
           0
          ],
          [
           -0.0004107002168893814,
           -0.0009125464712269604,
           -0.0008737466996535659,
           -0.0026390706188976765,
           -0.0048842174001038074,
           -0.009019283577799797,
           -0.007552271708846092,
           -0.006498877424746752,
           -0.005910829175263643,
           -0.020085109397768974,
           -0.0235267486423254,
           -0.003372797043994069,
           -0.003552056849002838,
           -0.0030012275092303753,
           -0.003944058436900377,
           -0.003626045538112521,
           -0.004349985625594854,
           -0.0025814215186983347,
           -0.0037932468112558126,
           -0.0036904618609696627,
           -0.003224017098546028,
           -0.00024187199596781284,
           0.0000020490870156208985,
           0
          ],
          [
           -0.45632800459861755,
           -0.4162028729915619,
           -0.39594361186027527,
           -0.3972911536693573,
           -0.3721884489059448,
           -0.36623358726501465,
           -0.3572230935096741,
           -0.22572576999664307,
           -0.2034187614917755,
           -0.11982104182243347,
           -0.12630896270275116,
           -0.22891448438167572,
           -0.22976435720920563,
           -0.2027917057275772,
           -0.16901704668998718,
           -0.13423000276088715,
           -0.16552938520908356,
           -0.054616790264844894,
           -0.031093692407011986,
           -0.04449444264173508,
           -0.04025823622941971,
           -0.00007034214650047943,
           -0.00002377413329668343,
           0
          ],
          [
           -0.0007558857905678451,
           -0.0007582211983390152,
           0.0007523190579377115,
           0.0010067247785627842,
           0.001630338141694665,
           0.0003347127349115908,
           0.0010210477048531175,
           0.004332384094595909,
           0.002756470814347267,
           0.004787042271345854,
           -0.00031221413519233465,
           -0.006096401251852512,
           -0.004331656266003847,
           0.00003363278301549144,
           -0.0015885001048445702,
           -0.006201890762895346,
           -0.0030652775894850492,
           -0.005147228483110666,
           -0.006770936306566,
           -0.002758838701993227,
           -0.0030201505869627,
           -0.0007392863626591861,
           -0.00021606648806482553,
           0
          ],
          [
           0.975825846195221,
           0.9665499329566956,
           0.9710190296173096,
           0.9690408110618591,
           0.9865052700042725,
           0.9763458371162415,
           0.9830539226531982,
           0.9877328872680664,
           0.9909493923187256,
           0.9823797345161438,
           0.9729837775230408,
           0.9965159296989441,
           1,
           0.7686851024627686,
           0.7843213081359863,
           0.6803575158119202,
           0.7167826890945435,
           0.32156065106391907,
           0.23118522763252258,
           0.23379629850387573,
           0.21824142336845398,
           -0.00025927741080522537,
           0.000028660644602496177,
           0
          ],
          [
           -0.00016263373254332691,
           -0.0001042849471559748,
           -0.0007579849916510284,
           0.00007650122279301286,
           0.0007561573875136673,
           -0.00016460604092571884,
           -0.00025661420659162104,
           -0.0005991010693833232,
           0.0005551755893975496,
           0.00012988672824576497,
           -0.0017880439991131425,
           0.0005336985923349857,
           -0.00014086438750382513,
           0.0011671765241771936,
           0.0016301992582157254,
           0.0017067920416593552,
           0.000566926843021065,
           -0.0010381696047261357,
           -0.0017238666769117117,
           -0.0010809111408889294,
           -0.0010046047391369939,
           -0.0010206018341705203,
           -0.00048534132656641304,
           0
          ],
          [
           0.009874364361166954,
           0.007775021251291037,
           0.007679671049118042,
           0.007667583413422108,
           0.012573870830237865,
           0.018936797976493835,
           0.023677781224250793,
           0.00915144756436348,
           0.014210730791091919,
           0.011092712171375751,
           0.0007143991533666849,
           0.010744747705757618,
           0.012360036373138428,
           0.014014597982168198,
           0.013689548708498478,
           0.009689465165138245,
           0.009031020104885101,
           0.002458319766446948,
           0.0011174492537975311,
           0.0022356719709932804,
           0.0023900503292679787,
           0.0000074641093306127004,
           -0.00005623178731184453,
           0
          ],
          [
           -0.00006876546831335872,
           -0.0005047338199801743,
           -0.000566926843021065,
           0.00021430969354696572,
           0.0034408983774483204,
           0.0057245646603405476,
           0.0057303872890770435,
           0.0042505827732384205,
           0.00013483523798640817,
           0.002543023321777582,
           -0.06625799834728241,
           -0.0905594453215599,
           -0.06280416250228882,
           0.27350372076034546,
           0.2521871328353882,
           0.30107516050338745,
           0.31446635723114014,
           0.3513129651546478,
           0.31616443395614624,
           0.26948994398117065,
           0.2582910358905792,
           0.15387573838233948,
           0.14836716651916504,
           0.14606186747550964
          ]
         ]
        }
       ],
       "layout": {
        "coloraxis": {
         "cmid": 0,
         "colorbar": {
          "len": 1,
          "lenmode": "fraction",
          "thickness": 10,
          "thicknessmode": "pixels",
          "title": {}
         },
         "colorscale": [
          [
           0,
           "rgb(103,0,31)"
          ],
          [
           0.1,
           "rgb(178,24,43)"
          ],
          [
           0.2,
           "rgb(214,96,77)"
          ],
          [
           0.3,
           "rgb(244,165,130)"
          ],
          [
           0.4,
           "rgb(253,219,199)"
          ],
          [
           0.5,
           "rgb(247,247,247)"
          ],
          [
           0.6,
           "rgb(209,229,240)"
          ],
          [
           0.7,
           "rgb(146,197,222)"
          ],
          [
           0.8,
           "rgb(67,147,195)"
          ],
          [
           0.9,
           "rgb(33,102,172)"
          ],
          [
           1,
           "rgb(5,48,97)"
          ]
         ]
        },
        "font": {
         "color": "black",
         "size": 12
        },
        "height": 300,
        "margin": {
         "b": 20,
         "l": 10,
         "r": 10,
         "t": 20
        },
        "template": {
         "data": {
          "bar": [
           {
            "error_x": {
             "color": "#2a3f5f"
            },
            "error_y": {
             "color": "#2a3f5f"
            },
            "marker": {
             "line": {
              "color": "#E5ECF6",
              "width": 0.5
             },
             "pattern": {
              "fillmode": "overlay",
              "size": 10,
              "solidity": 0.2
             }
            },
            "type": "bar"
           }
          ],
          "barpolar": [
           {
            "marker": {
             "line": {
              "color": "#E5ECF6",
              "width": 0.5
             },
             "pattern": {
              "fillmode": "overlay",
              "size": 10,
              "solidity": 0.2
             }
            },
            "type": "barpolar"
           }
          ],
          "carpet": [
           {
            "aaxis": {
             "endlinecolor": "#2a3f5f",
             "gridcolor": "white",
             "linecolor": "white",
             "minorgridcolor": "white",
             "startlinecolor": "#2a3f5f"
            },
            "baxis": {
             "endlinecolor": "#2a3f5f",
             "gridcolor": "white",
             "linecolor": "white",
             "minorgridcolor": "white",
             "startlinecolor": "#2a3f5f"
            },
            "type": "carpet"
           }
          ],
          "choropleth": [
           {
            "colorbar": {
             "outlinewidth": 0,
             "ticks": ""
            },
            "type": "choropleth"
           }
          ],
          "contour": [
           {
            "colorbar": {
             "outlinewidth": 0,
             "ticks": ""
            },
            "colorscale": [
             [
              0,
              "#0d0887"
             ],
             [
              0.1111111111111111,
              "#46039f"
             ],
             [
              0.2222222222222222,
              "#7201a8"
             ],
             [
              0.3333333333333333,
              "#9c179e"
             ],
             [
              0.4444444444444444,
              "#bd3786"
             ],
             [
              0.5555555555555556,
              "#d8576b"
             ],
             [
              0.6666666666666666,
              "#ed7953"
             ],
             [
              0.7777777777777778,
              "#fb9f3a"
             ],
             [
              0.8888888888888888,
              "#fdca26"
             ],
             [
              1,
              "#f0f921"
             ]
            ],
            "type": "contour"
           }
          ],
          "contourcarpet": [
           {
            "colorbar": {
             "outlinewidth": 0,
             "ticks": ""
            },
            "type": "contourcarpet"
           }
          ],
          "heatmap": [
           {
            "colorbar": {
             "outlinewidth": 0,
             "ticks": ""
            },
            "colorscale": [
             [
              0,
              "#0d0887"
             ],
             [
              0.1111111111111111,
              "#46039f"
             ],
             [
              0.2222222222222222,
              "#7201a8"
             ],
             [
              0.3333333333333333,
              "#9c179e"
             ],
             [
              0.4444444444444444,
              "#bd3786"
             ],
             [
              0.5555555555555556,
              "#d8576b"
             ],
             [
              0.6666666666666666,
              "#ed7953"
             ],
             [
              0.7777777777777778,
              "#fb9f3a"
             ],
             [
              0.8888888888888888,
              "#fdca26"
             ],
             [
              1,
              "#f0f921"
             ]
            ],
            "type": "heatmap"
           }
          ],
          "heatmapgl": [
           {
            "colorbar": {
             "outlinewidth": 0,
             "ticks": ""
            },
            "colorscale": [
             [
              0,
              "#0d0887"
             ],
             [
              0.1111111111111111,
              "#46039f"
             ],
             [
              0.2222222222222222,
              "#7201a8"
             ],
             [
              0.3333333333333333,
              "#9c179e"
             ],
             [
              0.4444444444444444,
              "#bd3786"
             ],
             [
              0.5555555555555556,
              "#d8576b"
             ],
             [
              0.6666666666666666,
              "#ed7953"
             ],
             [
              0.7777777777777778,
              "#fb9f3a"
             ],
             [
              0.8888888888888888,
              "#fdca26"
             ],
             [
              1,
              "#f0f921"
             ]
            ],
            "type": "heatmapgl"
           }
          ],
          "histogram": [
           {
            "marker": {
             "pattern": {
              "fillmode": "overlay",
              "size": 10,
              "solidity": 0.2
             }
            },
            "type": "histogram"
           }
          ],
          "histogram2d": [
           {
            "colorbar": {
             "outlinewidth": 0,
             "ticks": ""
            },
            "colorscale": [
             [
              0,
              "#0d0887"
             ],
             [
              0.1111111111111111,
              "#46039f"
             ],
             [
              0.2222222222222222,
              "#7201a8"
             ],
             [
              0.3333333333333333,
              "#9c179e"
             ],
             [
              0.4444444444444444,
              "#bd3786"
             ],
             [
              0.5555555555555556,
              "#d8576b"
             ],
             [
              0.6666666666666666,
              "#ed7953"
             ],
             [
              0.7777777777777778,
              "#fb9f3a"
             ],
             [
              0.8888888888888888,
              "#fdca26"
             ],
             [
              1,
              "#f0f921"
             ]
            ],
            "type": "histogram2d"
           }
          ],
          "histogram2dcontour": [
           {
            "colorbar": {
             "outlinewidth": 0,
             "ticks": ""
            },
            "colorscale": [
             [
              0,
              "#0d0887"
             ],
             [
              0.1111111111111111,
              "#46039f"
             ],
             [
              0.2222222222222222,
              "#7201a8"
             ],
             [
              0.3333333333333333,
              "#9c179e"
             ],
             [
              0.4444444444444444,
              "#bd3786"
             ],
             [
              0.5555555555555556,
              "#d8576b"
             ],
             [
              0.6666666666666666,
              "#ed7953"
             ],
             [
              0.7777777777777778,
              "#fb9f3a"
             ],
             [
              0.8888888888888888,
              "#fdca26"
             ],
             [
              1,
              "#f0f921"
             ]
            ],
            "type": "histogram2dcontour"
           }
          ],
          "mesh3d": [
           {
            "colorbar": {
             "outlinewidth": 0,
             "ticks": ""
            },
            "type": "mesh3d"
           }
          ],
          "parcoords": [
           {
            "line": {
             "colorbar": {
              "outlinewidth": 0,
              "ticks": ""
             }
            },
            "type": "parcoords"
           }
          ],
          "pie": [
           {
            "automargin": true,
            "type": "pie"
           }
          ],
          "scatter": [
           {
            "fillpattern": {
             "fillmode": "overlay",
             "size": 10,
             "solidity": 0.2
            },
            "type": "scatter"
           }
          ],
          "scatter3d": [
           {
            "line": {
             "colorbar": {
              "outlinewidth": 0,
              "ticks": ""
             }
            },
            "marker": {
             "colorbar": {
              "outlinewidth": 0,
              "ticks": ""
             }
            },
            "type": "scatter3d"
           }
          ],
          "scattercarpet": [
           {
            "marker": {
             "colorbar": {
              "outlinewidth": 0,
              "ticks": ""
             }
            },
            "type": "scattercarpet"
           }
          ],
          "scattergeo": [
           {
            "marker": {
             "colorbar": {
              "outlinewidth": 0,
              "ticks": ""
             }
            },
            "type": "scattergeo"
           }
          ],
          "scattergl": [
           {
            "marker": {
             "colorbar": {
              "outlinewidth": 0,
              "ticks": ""
             }
            },
            "type": "scattergl"
           }
          ],
          "scattermapbox": [
           {
            "marker": {
             "colorbar": {
              "outlinewidth": 0,
              "ticks": ""
             }
            },
            "type": "scattermapbox"
           }
          ],
          "scatterpolar": [
           {
            "marker": {
             "colorbar": {
              "outlinewidth": 0,
              "ticks": ""
             }
            },
            "type": "scatterpolar"
           }
          ],
          "scatterpolargl": [
           {
            "marker": {
             "colorbar": {
              "outlinewidth": 0,
              "ticks": ""
             }
            },
            "type": "scatterpolargl"
           }
          ],
          "scatterternary": [
           {
            "marker": {
             "colorbar": {
              "outlinewidth": 0,
              "ticks": ""
             }
            },
            "type": "scatterternary"
           }
          ],
          "surface": [
           {
            "colorbar": {
             "outlinewidth": 0,
             "ticks": ""
            },
            "colorscale": [
             [
              0,
              "#0d0887"
             ],
             [
              0.1111111111111111,
              "#46039f"
             ],
             [
              0.2222222222222222,
              "#7201a8"
             ],
             [
              0.3333333333333333,
              "#9c179e"
             ],
             [
              0.4444444444444444,
              "#bd3786"
             ],
             [
              0.5555555555555556,
              "#d8576b"
             ],
             [
              0.6666666666666666,
              "#ed7953"
             ],
             [
              0.7777777777777778,
              "#fb9f3a"
             ],
             [
              0.8888888888888888,
              "#fdca26"
             ],
             [
              1,
              "#f0f921"
             ]
            ],
            "type": "surface"
           }
          ],
          "table": [
           {
            "cells": {
             "fill": {
              "color": "#EBF0F8"
             },
             "line": {
              "color": "white"
             }
            },
            "header": {
             "fill": {
              "color": "#C8D4E3"
             },
             "line": {
              "color": "white"
             }
            },
            "type": "table"
           }
          ]
         },
         "layout": {
          "annotationdefaults": {
           "arrowcolor": "#2a3f5f",
           "arrowhead": 0,
           "arrowwidth": 1
          },
          "autotypenumbers": "strict",
          "coloraxis": {
           "colorbar": {
            "outlinewidth": 0,
            "ticks": ""
           }
          },
          "colorscale": {
           "diverging": [
            [
             0,
             "#8e0152"
            ],
            [
             0.1,
             "#c51b7d"
            ],
            [
             0.2,
             "#de77ae"
            ],
            [
             0.3,
             "#f1b6da"
            ],
            [
             0.4,
             "#fde0ef"
            ],
            [
             0.5,
             "#f7f7f7"
            ],
            [
             0.6,
             "#e6f5d0"
            ],
            [
             0.7,
             "#b8e186"
            ],
            [
             0.8,
             "#7fbc41"
            ],
            [
             0.9,
             "#4d9221"
            ],
            [
             1,
             "#276419"
            ]
           ],
           "sequential": [
            [
             0,
             "#0d0887"
            ],
            [
             0.1111111111111111,
             "#46039f"
            ],
            [
             0.2222222222222222,
             "#7201a8"
            ],
            [
             0.3333333333333333,
             "#9c179e"
            ],
            [
             0.4444444444444444,
             "#bd3786"
            ],
            [
             0.5555555555555556,
             "#d8576b"
            ],
            [
             0.6666666666666666,
             "#ed7953"
            ],
            [
             0.7777777777777778,
             "#fb9f3a"
            ],
            [
             0.8888888888888888,
             "#fdca26"
            ],
            [
             1,
             "#f0f921"
            ]
           ],
           "sequentialminus": [
            [
             0,
             "#0d0887"
            ],
            [
             0.1111111111111111,
             "#46039f"
            ],
            [
             0.2222222222222222,
             "#7201a8"
            ],
            [
             0.3333333333333333,
             "#9c179e"
            ],
            [
             0.4444444444444444,
             "#bd3786"
            ],
            [
             0.5555555555555556,
             "#d8576b"
            ],
            [
             0.6666666666666666,
             "#ed7953"
            ],
            [
             0.7777777777777778,
             "#fb9f3a"
            ],
            [
             0.8888888888888888,
             "#fdca26"
            ],
            [
             1,
             "#f0f921"
            ]
           ]
          },
          "colorway": [
           "#636efa",
           "#EF553B",
           "#00cc96",
           "#ab63fa",
           "#FFA15A",
           "#19d3f3",
           "#FF6692",
           "#B6E880",
           "#FF97FF",
           "#FECB52"
          ],
          "font": {
           "color": "#2a3f5f"
          },
          "geo": {
           "bgcolor": "white",
           "lakecolor": "white",
           "landcolor": "#E5ECF6",
           "showlakes": true,
           "showland": true,
           "subunitcolor": "white"
          },
          "hoverlabel": {
           "align": "left"
          },
          "hovermode": "closest",
          "mapbox": {
           "style": "light"
          },
          "paper_bgcolor": "white",
          "plot_bgcolor": "#E5ECF6",
          "polar": {
           "angularaxis": {
            "gridcolor": "white",
            "linecolor": "white",
            "ticks": ""
           },
           "bgcolor": "#E5ECF6",
           "radialaxis": {
            "gridcolor": "white",
            "linecolor": "white",
            "ticks": ""
           }
          },
          "scene": {
           "xaxis": {
            "backgroundcolor": "#E5ECF6",
            "gridcolor": "white",
            "gridwidth": 2,
            "linecolor": "white",
            "showbackground": true,
            "ticks": "",
            "zerolinecolor": "white"
           },
           "yaxis": {
            "backgroundcolor": "#E5ECF6",
            "gridcolor": "white",
            "gridwidth": 2,
            "linecolor": "white",
            "showbackground": true,
            "ticks": "",
            "zerolinecolor": "white"
           },
           "zaxis": {
            "backgroundcolor": "#E5ECF6",
            "gridcolor": "white",
            "gridwidth": 2,
            "linecolor": "white",
            "showbackground": true,
            "ticks": "",
            "zerolinecolor": "white"
           }
          },
          "shapedefaults": {
           "line": {
            "color": "#2a3f5f"
           }
          },
          "ternary": {
           "aaxis": {
            "gridcolor": "white",
            "linecolor": "white",
            "ticks": ""
           },
           "baxis": {
            "gridcolor": "white",
            "linecolor": "white",
            "ticks": ""
           },
           "bgcolor": "#E5ECF6",
           "caxis": {
            "gridcolor": "white",
            "linecolor": "white",
            "ticks": ""
           }
          },
          "title": {
           "x": 0.05
          },
          "xaxis": {
           "automargin": true,
           "gridcolor": "white",
           "linecolor": "white",
           "ticks": "",
           "title": {
            "standoff": 15
           },
           "zerolinecolor": "white",
           "zerolinewidth": 2
          },
          "yaxis": {
           "automargin": true,
           "gridcolor": "white",
           "linecolor": "white",
           "ticks": "",
           "title": {
            "standoff": 15
           },
           "zerolinecolor": "white",
           "zerolinewidth": 2
          }
         }
        },
        "title": {
         "font": {
          "size": 14
         }
        },
        "width": 400,
        "xaxis": {
         "anchor": "y",
         "constrain": "domain",
         "domain": [
          0,
          1
         ],
         "linecolor": "black",
         "linewidth": 1,
         "mirror": true,
         "scaleanchor": "y",
         "showline": true,
         "showticklabels": true,
         "tickmode": "array",
         "ticks": "",
         "title": {}
        },
        "yaxis": {
         "anchor": "x",
         "autorange": "reversed",
         "constrain": "domain",
         "domain": [
          0,
          1
         ],
         "linecolor": "black",
         "linewidth": 1,
         "mirror": true,
         "showline": true,
         "showticklabels": true,
         "tickmode": "array",
         "ticks": "",
         "ticktext": [
          "BEGIN",
          "s_1",
          "s_1 -> m_1",
          "m_1",
          "m_1 -> m_2",
          "m_2",
          "m_2 -> p",
          "p",
          "p -> s_2",
          "s_2",
          "END"
         ],
         "tickvals": [
          0,
          1,
          2,
          3,
          4,
          5,
          6,
          7,
          8,
          9,
          10
         ],
         "title": {}
        }
       }
      }
     },
     "metadata": {},
     "output_type": "display_data"
    }
   ],
   "source": [
    "pu.plot_residual(h.normalise_tensor(h.resize_all(s_resid_denoising2_pythia)), labels, image_dir / \"symbolic_residual2.png\")"
   ]
  },
  {
   "cell_type": "code",
   "execution_count": 101,
   "metadata": {},
   "outputs": [
    {
     "name": "stdout",
     "output_type": "stream",
     "text": [
      "Mean KL(a || b): 0.22703813016414642\n",
      "Mean KL(a || random): 2.2060394287109375\n",
      "Mean KL(b || random): 1.8735147714614868\n"
     ]
    }
   ],
   "source": [
    "import torch\n",
    "import torch.nn.functional as F\n",
    "\n",
    "# Example tensors (a and b)\n",
    "# Ensure these tensors have shape (24, 11)\n",
    "a = h.resize_all(s_resid_denoising2)\n",
    "b = h.resize_all(s_resid_denoising2_pythia)\n",
    "\n",
    "# Normalize each row to create valid probability distributions\n",
    "# This ensures the comparison respects 2D relationships row by row\n",
    "a_prob = F.softmax(a, dim=1)  # Normalize rows\n",
    "b_prob = F.softmax(b, dim=1)  # Normalize rows\n",
    "\n",
    "# Create a random baseline with the same shape as a and b\n",
    "random_baseline = torch.rand_like(a_prob)  # Randomly initialized distribution\n",
    "random_baseline = random_baseline / random_baseline.sum(dim=1, keepdim=True)  # Normalize rows to sum to 1\n",
    "\n",
    "# KL Divergence function with numerical stability\n",
    "def kl_divergence_2d(p, q):\n",
    "    epsilon = 1e-10  # To avoid log(0)\n",
    "    return (p * (p.log() - (q + epsilon).log())).sum(dim=1)  # Sum over columns for each row\n",
    "\n",
    "# Compute KL Divergence row by row\n",
    "kl_a_b_rows = kl_divergence_2d(a_prob, b_prob)  # Divergence between a and b (row-wise)\n",
    "kl_a_random_rows = kl_divergence_2d(a_prob, random_baseline)  # Divergence of a from random (row-wise)\n",
    "kl_b_random_rows = kl_divergence_2d(b_prob, random_baseline)  # Divergence of b from random (row-wise)\n",
    "\n",
    "# Average KL divergences across rows\n",
    "mean_kl_a_b = kl_a_b_rows.mean().item()\n",
    "mean_kl_a_random = kl_a_random_rows.mean().item()\n",
    "mean_kl_b_random = kl_b_random_rows.mean().item()\n",
    "\n",
    "# Print results\n",
    "print(\"Mean KL(a || b):\", mean_kl_a_b)\n",
    "print(\"Mean KL(a || random):\", mean_kl_a_random)\n",
    "print(\"Mean KL(b || random):\", mean_kl_b_random)"
   ]
  },
  {
   "cell_type": "markdown",
   "metadata": {},
   "source": [
    "| Experiment Description                   | Mean KL(GPT-2 || Pythia) | Mean KL(GPT-2 || random) | Mean KL(Pythia || random) |\n",
    "|------------------------------------------|--------------------------|--------------------------|---------------------------|\n",
    "| 1. Attention head patching               | 0.0015                   | 0.2567                   | 0.2568                    |\n",
    "| 2. Residual stream patching (middle-term)| 0.0088                   | 0.3386                   | 0.3481                    |\n",
    "| 3. OV circuit logit lens                 | 0.0260                   | 0.3195                   | 0.3237                    |\n",
    "| 4. Residual stream patching (all-term)   | 0.2270                   | 2.2060                   | 1.8735                    |"
   ]
  },
  {
   "cell_type": "markdown",
   "metadata": {
    "id": "1XJXJBuGabVa"
   },
   "source": [
    "# 4. Circuit Evaluation"
   ]
  },
  {
   "cell_type": "markdown",
   "metadata": {
    "id": "t1c8WJJEabVa"
   },
   "source": [
    "### Figure 5(a) correctness of the circuit"
   ]
  },
  {
   "cell_type": "code",
   "execution_count": 72,
   "metadata": {
    "colab": {
     "base_uri": "https://localhost:8080/"
    },
    "id": "5qbGqXK3abVa",
    "outputId": "28ee71da-c70f-4b5e-ec2d-f228ceb4bd32"
   },
   "outputs": [
    {
     "name": "stderr",
     "output_type": "stream",
     "text": [
      "100%|██████████| 11/11 [00:04<00:00,  2.52it/s]\n",
      "100%|██████████| 11/11 [00:02<00:00,  4.18it/s]\n"
     ]
    }
   ],
   "source": [
    "# necessity of symbolic\n",
    "necessity_score = h.necessity_check(model, s_labels, s_tokens, s_answer_tokens, s_clean_logit_diff, 'mean', device)\n",
    "sufficiency_score = h.sufficiency_check(model, s_labels, s_tokens, s_answer_tokens, s_clean_logit_diff, 'mean', device)"
   ]
  },
  {
   "cell_type": "code",
   "execution_count": 73,
   "metadata": {
    "colab": {
     "base_uri": "https://localhost:8080/",
     "height": 517
    },
    "id": "5c2JFfVGabVa",
    "outputId": "440b44b1-b709-4a19-f9f6-5cb5d11374d7"
   },
   "outputs": [
    {
     "name": "stdout",
     "output_type": "stream",
     "text": [
      "Plot saved to ../images/pythia-31m/correctness_of_circuit.png\n"
     ]
    },
    {
     "data": {
      "application/vnd.plotly.v1+json": {
       "config": {
        "plotlyServerURL": "https://plot.ly"
       },
       "data": [
        {
         "line": {
          "color": "#bcbd22",
          "width": 3
         },
         "marker": {
          "size": 8,
          "symbol": "circle"
         },
         "mode": "lines+markers",
         "name": "Necessity",
         "type": "scatter",
         "x": [
          0,
          1,
          2,
          3,
          4,
          5,
          6,
          7,
          8,
          9,
          10,
          11
         ],
         "y": [
          0.8832273483276367,
          0.8845407366752625,
          0.896110475063324,
          0.89653080701828,
          0.9006266593933105,
          0.9015951156616211,
          0.8995829820632935,
          0.9007763266563416,
          0.922817587852478,
          0.9192777276039124,
          0.926037609577179,
          0.9274753332138062
         ]
        },
        {
         "line": {
          "color": "#9467bd",
          "width": 3
         },
         "marker": {
          "size": 8,
          "symbol": "square"
         },
         "mode": "lines+markers",
         "name": "Sufficiency",
         "type": "scatter",
         "x": [
          0,
          1,
          2,
          3,
          4,
          5,
          6,
          7,
          8,
          9,
          10,
          11
         ],
         "y": [
          0,
          -0.00005811055962112732,
          -0.00015157063899096102,
          -0.0002463023120071739,
          -0.00029096603975631297,
          -0.00025548937264829874,
          -0.0002143542078556493,
          -0.00009021759615279734,
          0.035253558307886124,
          0.03558899834752083,
          0.03247445449233055,
          0.03249289467930794
         ]
        }
       ],
       "layout": {
        "height": 500,
        "legend": {
         "bgcolor": "rgba(255, 255, 255, 0.8)",
         "font": {
          "size": 20
         },
         "x": 0.02,
         "y": 0.98
        },
        "margin": {
         "b": 10,
         "l": 0,
         "r": 0,
         "t": 10
        },
        "plot_bgcolor": "white",
        "shapes": [
         {
          "line": {
           "color": "#000000",
           "dash": "dash",
           "width": 3
          },
          "type": "line",
          "x0": 0,
          "x1": 1,
          "xref": "x domain",
          "y0": 0.8832273483276367,
          "y1": 0.8832273483276367,
          "yref": "y"
         }
        ],
        "template": {
         "data": {
          "bar": [
           {
            "error_x": {
             "color": "#2a3f5f"
            },
            "error_y": {
             "color": "#2a3f5f"
            },
            "marker": {
             "line": {
              "color": "#E5ECF6",
              "width": 0.5
             },
             "pattern": {
              "fillmode": "overlay",
              "size": 10,
              "solidity": 0.2
             }
            },
            "type": "bar"
           }
          ],
          "barpolar": [
           {
            "marker": {
             "line": {
              "color": "#E5ECF6",
              "width": 0.5
             },
             "pattern": {
              "fillmode": "overlay",
              "size": 10,
              "solidity": 0.2
             }
            },
            "type": "barpolar"
           }
          ],
          "carpet": [
           {
            "aaxis": {
             "endlinecolor": "#2a3f5f",
             "gridcolor": "white",
             "linecolor": "white",
             "minorgridcolor": "white",
             "startlinecolor": "#2a3f5f"
            },
            "baxis": {
             "endlinecolor": "#2a3f5f",
             "gridcolor": "white",
             "linecolor": "white",
             "minorgridcolor": "white",
             "startlinecolor": "#2a3f5f"
            },
            "type": "carpet"
           }
          ],
          "choropleth": [
           {
            "colorbar": {
             "outlinewidth": 0,
             "ticks": ""
            },
            "type": "choropleth"
           }
          ],
          "contour": [
           {
            "colorbar": {
             "outlinewidth": 0,
             "ticks": ""
            },
            "colorscale": [
             [
              0,
              "#0d0887"
             ],
             [
              0.1111111111111111,
              "#46039f"
             ],
             [
              0.2222222222222222,
              "#7201a8"
             ],
             [
              0.3333333333333333,
              "#9c179e"
             ],
             [
              0.4444444444444444,
              "#bd3786"
             ],
             [
              0.5555555555555556,
              "#d8576b"
             ],
             [
              0.6666666666666666,
              "#ed7953"
             ],
             [
              0.7777777777777778,
              "#fb9f3a"
             ],
             [
              0.8888888888888888,
              "#fdca26"
             ],
             [
              1,
              "#f0f921"
             ]
            ],
            "type": "contour"
           }
          ],
          "contourcarpet": [
           {
            "colorbar": {
             "outlinewidth": 0,
             "ticks": ""
            },
            "type": "contourcarpet"
           }
          ],
          "heatmap": [
           {
            "colorbar": {
             "outlinewidth": 0,
             "ticks": ""
            },
            "colorscale": [
             [
              0,
              "#0d0887"
             ],
             [
              0.1111111111111111,
              "#46039f"
             ],
             [
              0.2222222222222222,
              "#7201a8"
             ],
             [
              0.3333333333333333,
              "#9c179e"
             ],
             [
              0.4444444444444444,
              "#bd3786"
             ],
             [
              0.5555555555555556,
              "#d8576b"
             ],
             [
              0.6666666666666666,
              "#ed7953"
             ],
             [
              0.7777777777777778,
              "#fb9f3a"
             ],
             [
              0.8888888888888888,
              "#fdca26"
             ],
             [
              1,
              "#f0f921"
             ]
            ],
            "type": "heatmap"
           }
          ],
          "heatmapgl": [
           {
            "colorbar": {
             "outlinewidth": 0,
             "ticks": ""
            },
            "colorscale": [
             [
              0,
              "#0d0887"
             ],
             [
              0.1111111111111111,
              "#46039f"
             ],
             [
              0.2222222222222222,
              "#7201a8"
             ],
             [
              0.3333333333333333,
              "#9c179e"
             ],
             [
              0.4444444444444444,
              "#bd3786"
             ],
             [
              0.5555555555555556,
              "#d8576b"
             ],
             [
              0.6666666666666666,
              "#ed7953"
             ],
             [
              0.7777777777777778,
              "#fb9f3a"
             ],
             [
              0.8888888888888888,
              "#fdca26"
             ],
             [
              1,
              "#f0f921"
             ]
            ],
            "type": "heatmapgl"
           }
          ],
          "histogram": [
           {
            "marker": {
             "pattern": {
              "fillmode": "overlay",
              "size": 10,
              "solidity": 0.2
             }
            },
            "type": "histogram"
           }
          ],
          "histogram2d": [
           {
            "colorbar": {
             "outlinewidth": 0,
             "ticks": ""
            },
            "colorscale": [
             [
              0,
              "#0d0887"
             ],
             [
              0.1111111111111111,
              "#46039f"
             ],
             [
              0.2222222222222222,
              "#7201a8"
             ],
             [
              0.3333333333333333,
              "#9c179e"
             ],
             [
              0.4444444444444444,
              "#bd3786"
             ],
             [
              0.5555555555555556,
              "#d8576b"
             ],
             [
              0.6666666666666666,
              "#ed7953"
             ],
             [
              0.7777777777777778,
              "#fb9f3a"
             ],
             [
              0.8888888888888888,
              "#fdca26"
             ],
             [
              1,
              "#f0f921"
             ]
            ],
            "type": "histogram2d"
           }
          ],
          "histogram2dcontour": [
           {
            "colorbar": {
             "outlinewidth": 0,
             "ticks": ""
            },
            "colorscale": [
             [
              0,
              "#0d0887"
             ],
             [
              0.1111111111111111,
              "#46039f"
             ],
             [
              0.2222222222222222,
              "#7201a8"
             ],
             [
              0.3333333333333333,
              "#9c179e"
             ],
             [
              0.4444444444444444,
              "#bd3786"
             ],
             [
              0.5555555555555556,
              "#d8576b"
             ],
             [
              0.6666666666666666,
              "#ed7953"
             ],
             [
              0.7777777777777778,
              "#fb9f3a"
             ],
             [
              0.8888888888888888,
              "#fdca26"
             ],
             [
              1,
              "#f0f921"
             ]
            ],
            "type": "histogram2dcontour"
           }
          ],
          "mesh3d": [
           {
            "colorbar": {
             "outlinewidth": 0,
             "ticks": ""
            },
            "type": "mesh3d"
           }
          ],
          "parcoords": [
           {
            "line": {
             "colorbar": {
              "outlinewidth": 0,
              "ticks": ""
             }
            },
            "type": "parcoords"
           }
          ],
          "pie": [
           {
            "automargin": true,
            "type": "pie"
           }
          ],
          "scatter": [
           {
            "fillpattern": {
             "fillmode": "overlay",
             "size": 10,
             "solidity": 0.2
            },
            "type": "scatter"
           }
          ],
          "scatter3d": [
           {
            "line": {
             "colorbar": {
              "outlinewidth": 0,
              "ticks": ""
             }
            },
            "marker": {
             "colorbar": {
              "outlinewidth": 0,
              "ticks": ""
             }
            },
            "type": "scatter3d"
           }
          ],
          "scattercarpet": [
           {
            "marker": {
             "colorbar": {
              "outlinewidth": 0,
              "ticks": ""
             }
            },
            "type": "scattercarpet"
           }
          ],
          "scattergeo": [
           {
            "marker": {
             "colorbar": {
              "outlinewidth": 0,
              "ticks": ""
             }
            },
            "type": "scattergeo"
           }
          ],
          "scattergl": [
           {
            "marker": {
             "colorbar": {
              "outlinewidth": 0,
              "ticks": ""
             }
            },
            "type": "scattergl"
           }
          ],
          "scattermapbox": [
           {
            "marker": {
             "colorbar": {
              "outlinewidth": 0,
              "ticks": ""
             }
            },
            "type": "scattermapbox"
           }
          ],
          "scatterpolar": [
           {
            "marker": {
             "colorbar": {
              "outlinewidth": 0,
              "ticks": ""
             }
            },
            "type": "scatterpolar"
           }
          ],
          "scatterpolargl": [
           {
            "marker": {
             "colorbar": {
              "outlinewidth": 0,
              "ticks": ""
             }
            },
            "type": "scatterpolargl"
           }
          ],
          "scatterternary": [
           {
            "marker": {
             "colorbar": {
              "outlinewidth": 0,
              "ticks": ""
             }
            },
            "type": "scatterternary"
           }
          ],
          "surface": [
           {
            "colorbar": {
             "outlinewidth": 0,
             "ticks": ""
            },
            "colorscale": [
             [
              0,
              "#0d0887"
             ],
             [
              0.1111111111111111,
              "#46039f"
             ],
             [
              0.2222222222222222,
              "#7201a8"
             ],
             [
              0.3333333333333333,
              "#9c179e"
             ],
             [
              0.4444444444444444,
              "#bd3786"
             ],
             [
              0.5555555555555556,
              "#d8576b"
             ],
             [
              0.6666666666666666,
              "#ed7953"
             ],
             [
              0.7777777777777778,
              "#fb9f3a"
             ],
             [
              0.8888888888888888,
              "#fdca26"
             ],
             [
              1,
              "#f0f921"
             ]
            ],
            "type": "surface"
           }
          ],
          "table": [
           {
            "cells": {
             "fill": {
              "color": "#EBF0F8"
             },
             "line": {
              "color": "white"
             }
            },
            "header": {
             "fill": {
              "color": "#C8D4E3"
             },
             "line": {
              "color": "white"
             }
            },
            "type": "table"
           }
          ]
         },
         "layout": {
          "annotationdefaults": {
           "arrowcolor": "#2a3f5f",
           "arrowhead": 0,
           "arrowwidth": 1
          },
          "autotypenumbers": "strict",
          "coloraxis": {
           "colorbar": {
            "outlinewidth": 0,
            "ticks": ""
           }
          },
          "colorscale": {
           "diverging": [
            [
             0,
             "#8e0152"
            ],
            [
             0.1,
             "#c51b7d"
            ],
            [
             0.2,
             "#de77ae"
            ],
            [
             0.3,
             "#f1b6da"
            ],
            [
             0.4,
             "#fde0ef"
            ],
            [
             0.5,
             "#f7f7f7"
            ],
            [
             0.6,
             "#e6f5d0"
            ],
            [
             0.7,
             "#b8e186"
            ],
            [
             0.8,
             "#7fbc41"
            ],
            [
             0.9,
             "#4d9221"
            ],
            [
             1,
             "#276419"
            ]
           ],
           "sequential": [
            [
             0,
             "#0d0887"
            ],
            [
             0.1111111111111111,
             "#46039f"
            ],
            [
             0.2222222222222222,
             "#7201a8"
            ],
            [
             0.3333333333333333,
             "#9c179e"
            ],
            [
             0.4444444444444444,
             "#bd3786"
            ],
            [
             0.5555555555555556,
             "#d8576b"
            ],
            [
             0.6666666666666666,
             "#ed7953"
            ],
            [
             0.7777777777777778,
             "#fb9f3a"
            ],
            [
             0.8888888888888888,
             "#fdca26"
            ],
            [
             1,
             "#f0f921"
            ]
           ],
           "sequentialminus": [
            [
             0,
             "#0d0887"
            ],
            [
             0.1111111111111111,
             "#46039f"
            ],
            [
             0.2222222222222222,
             "#7201a8"
            ],
            [
             0.3333333333333333,
             "#9c179e"
            ],
            [
             0.4444444444444444,
             "#bd3786"
            ],
            [
             0.5555555555555556,
             "#d8576b"
            ],
            [
             0.6666666666666666,
             "#ed7953"
            ],
            [
             0.7777777777777778,
             "#fb9f3a"
            ],
            [
             0.8888888888888888,
             "#fdca26"
            ],
            [
             1,
             "#f0f921"
            ]
           ]
          },
          "colorway": [
           "#636efa",
           "#EF553B",
           "#00cc96",
           "#ab63fa",
           "#FFA15A",
           "#19d3f3",
           "#FF6692",
           "#B6E880",
           "#FF97FF",
           "#FECB52"
          ],
          "font": {
           "color": "#2a3f5f"
          },
          "geo": {
           "bgcolor": "white",
           "lakecolor": "white",
           "landcolor": "#E5ECF6",
           "showlakes": true,
           "showland": true,
           "subunitcolor": "white"
          },
          "hoverlabel": {
           "align": "left"
          },
          "hovermode": "closest",
          "mapbox": {
           "style": "light"
          },
          "paper_bgcolor": "white",
          "plot_bgcolor": "#E5ECF6",
          "polar": {
           "angularaxis": {
            "gridcolor": "white",
            "linecolor": "white",
            "ticks": ""
           },
           "bgcolor": "#E5ECF6",
           "radialaxis": {
            "gridcolor": "white",
            "linecolor": "white",
            "ticks": ""
           }
          },
          "scene": {
           "xaxis": {
            "backgroundcolor": "#E5ECF6",
            "gridcolor": "white",
            "gridwidth": 2,
            "linecolor": "white",
            "showbackground": true,
            "ticks": "",
            "zerolinecolor": "white"
           },
           "yaxis": {
            "backgroundcolor": "#E5ECF6",
            "gridcolor": "white",
            "gridwidth": 2,
            "linecolor": "white",
            "showbackground": true,
            "ticks": "",
            "zerolinecolor": "white"
           },
           "zaxis": {
            "backgroundcolor": "#E5ECF6",
            "gridcolor": "white",
            "gridwidth": 2,
            "linecolor": "white",
            "showbackground": true,
            "ticks": "",
            "zerolinecolor": "white"
           }
          },
          "shapedefaults": {
           "line": {
            "color": "#2a3f5f"
           }
          },
          "ternary": {
           "aaxis": {
            "gridcolor": "white",
            "linecolor": "white",
            "ticks": ""
           },
           "baxis": {
            "gridcolor": "white",
            "linecolor": "white",
            "ticks": ""
           },
           "bgcolor": "#E5ECF6",
           "caxis": {
            "gridcolor": "white",
            "linecolor": "white",
            "ticks": ""
           }
          },
          "title": {
           "x": 0.05
          },
          "xaxis": {
           "automargin": true,
           "gridcolor": "white",
           "linecolor": "white",
           "ticks": "",
           "title": {
            "standoff": 15
           },
           "zerolinecolor": "white",
           "zerolinewidth": 2
          },
          "yaxis": {
           "automargin": true,
           "gridcolor": "white",
           "linecolor": "white",
           "ticks": "",
           "title": {
            "standoff": 15
           },
           "zerolinecolor": "white",
           "zerolinewidth": 2
          }
         }
        },
        "title": {
         "text": ""
        },
        "width": 500,
        "xaxis": {
         "linecolor": "black",
         "linewidth": 1,
         "mirror": true,
         "showline": true,
         "showticklabels": true,
         "title": {
          "text": ""
         }
        },
        "yaxis": {
         "linecolor": "black",
         "linewidth": 1,
         "mirror": true,
         "showline": true,
         "showticklabels": true,
         "title": {
          "text": ""
         }
        }
       }
      }
     },
     "metadata": {},
     "output_type": "display_data"
    }
   ],
   "source": [
    "pu.plot_ablation(s_clean_logit_diff, necessity_score, sufficiency_score, image_dir / \"correctness_of_circuit.png\")"
   ]
  },
  {
   "cell_type": "markdown",
   "metadata": {
    "id": "WZ06rd7MabVa"
   },
   "source": [
    "### Figure 5(b) robustness of the circuit"
   ]
  },
  {
   "cell_type": "code",
   "execution_count": 99,
   "metadata": {
    "colab": {
     "base_uri": "https://localhost:8080/"
    },
    "id": "5tDXuxKfabVa",
    "outputId": "a6e88588-a81a-47c2-f285-6341735346b7"
   },
   "outputs": [
    {
     "name": "stdout",
     "output_type": "stream",
     "text": [
      "All 8 are 1. All 1 are 7. Therefore, all 8 are =>  7\n",
      "All 8 are 7. All 7 are 1. Therefore, all 8 are =>  1\n",
      "All 1 are 8. All 8 are 7. Therefore, all 1 are =>  7\n",
      "All 1 are 7. All 7 are 8. Therefore, all 1 are =>  8\n",
      "All 7 are 8. All 8 are 1. Therefore, all 7 are =>  1\n",
      "All 7 are 1. All 1 are 8. Therefore, all 7 are =>  8\n"
     ]
    }
   ],
   "source": [
    "# numeric perturbed dataset\n",
    "n_dataset = SyllogismDataset(\n",
    "            N=N/6, # because of permutation\n",
    "            seed=seed,\n",
    "            device=device,\n",
    "            type='numeric',\n",
    "            template_type='AAA1'\n",
    "        )\n",
    "for s, l in zip(n_dataset.sentences[:6], n_dataset.labels[:6]):\n",
    "    print(f'{s} => {l}')\n"
   ]
  },
  {
   "cell_type": "code",
   "execution_count": 100,
   "metadata": {
    "id": "ZhqqYbxVabVa"
   },
   "outputs": [],
   "source": [
    "# Corruption (option)\n",
    "def perturb_quantifier(prompts, As, Bs, labels):\n",
    "    candidates = [' Every', ' Every', ' Each', ' Each', ' All']\n",
    "    corrupted_prompts = []\n",
    "    for i in range(len(prompts)):\n",
    "        prompt = prompts[i]\n",
    "        label = labels[i]\n",
    "        corrupted_labels = []\n",
    "        A = As[i]\n",
    "        B = Bs[i]\n",
    "        new_list = list(filter(lambda x: x not in [A, B, label], candidates))\n",
    "        target = random.sample(new_list, 2)\n",
    "        a_be = ' are' if target[0] == ' All' else ' is'\n",
    "        b_be = ' are' if target[1] == ' All' else ' is'\n",
    "        corrupted_prompt = prompt.replace(' All' + B + ' are' , target[0] + B + a_be).replace('All' + A + ' are', target[1][1:] + A + b_be)\n",
    "        corrupted_prompts.append(corrupted_prompt)\n",
    "        corrupted_labels.append(target)\n",
    "\n",
    "    return corrupted_prompts, corrupted_labels\n"
   ]
  },
  {
   "cell_type": "code",
   "execution_count": 101,
   "metadata": {
    "id": "frc6mWZ_abVb"
   },
   "outputs": [],
   "source": [
    "n_prompts = n_dataset.sentences\n",
    "n_labels = n_dataset.labels\n",
    "n_second_labels = n_dataset.B\n",
    "\n",
    "n_answers = list(zip(n_labels, n_second_labels))\n",
    "n_answer_tokens = t.concat([\n",
    "    model.to_tokens(names, prepend_bos=False).T for names in n_answers\n",
    "])"
   ]
  },
  {
   "cell_type": "code",
   "execution_count": 102,
   "metadata": {
    "id": "74ckaPewabVb"
   },
   "outputs": [],
   "source": [
    "q_prompts = s_dataset.sentences\n",
    "q_labels = s_dataset.labels\n",
    "q_As = s_dataset.A\n",
    "q_Bs = s_dataset.B\n",
    "\n",
    "q_corrupted_prompts, _ = perturb_quantifier(q_prompts, q_As, q_Bs, q_labels)\n",
    "\n",
    "q_answers = list(zip(q_labels, q_Bs))\n",
    "q_answer_tokens = t.concat([\n",
    "    model.to_tokens(names, prepend_bos=False).T for names in q_answers\n",
    "])"
   ]
  },
  {
   "cell_type": "code",
   "execution_count": 103,
   "metadata": {
    "id": "XkJx18SeabVb"
   },
   "outputs": [],
   "source": [
    "# tokenisation\n",
    "n_tokens = model.to_tokens(n_prompts, prepend_bos=False).to(device)\n",
    "q_tokens = model.to_tokens(q_prompts, prepend_bos=False).to(device)"
   ]
  },
  {
   "cell_type": "code",
   "execution_count": 104,
   "metadata": {
    "colab": {
     "base_uri": "https://localhost:8080/"
    },
    "id": "VsmAG_KOabVb",
    "outputId": "72096c5c-42e5-4028-ee31-dfd499a54821"
   },
   "outputs": [
    {
     "name": "stdout",
     "output_type": "stream",
     "text": [
      "Clean logit diff: 0.1938\n",
      "Clean logit diff: -0.0007\n"
     ]
    }
   ],
   "source": [
    "# Compute logits for interventions\n",
    "n_clean_logits, n_clean_cache = model.run_with_cache(n_tokens)\n",
    "q_clean_logits, q_clean_cache = model.run_with_cache(n_tokens)\n",
    "\n",
    "n_clean_logit_diff = h.compute_logit_diff(n_clean_logits, n_answer_tokens)\n",
    "print(f\"Clean logit diff: {n_clean_logit_diff:.4f}\")\n",
    "\n",
    "q_clean_logit_diff = h.compute_logit_diff(q_clean_logits, q_answer_tokens)\n",
    "print(f\"Clean logit diff: {q_clean_logit_diff:.4f}\")"
   ]
  },
  {
   "cell_type": "code",
   "execution_count": 105,
   "metadata": {
    "colab": {
     "base_uri": "https://localhost:8080/"
    },
    "id": "-BrMe0siabVb",
    "outputId": "d650a313-948d-43f9-c5f2-13640686c8f6"
   },
   "outputs": [
    {
     "name": "stderr",
     "output_type": "stream",
     "text": [
      "100%|██████████| 11/11 [00:07<00:00,  1.42it/s]\n",
      "100%|██████████| 11/11 [00:02<00:00,  4.09it/s]\n"
     ]
    }
   ],
   "source": [
    "# necessity, sufficiency of numeric perturbation\n",
    "n_necessity_score = h.necessity_check(model, n_labels, n_tokens, n_answer_tokens, n_clean_logit_diff, 'mean', device)\n",
    "n_sufficiency_score = h.sufficiency_check(model, n_labels, n_tokens, n_answer_tokens, n_clean_logit_diff, 'mean', device)"
   ]
  },
  {
   "cell_type": "code",
   "execution_count": 106,
   "metadata": {
    "colab": {
     "base_uri": "https://localhost:8080/"
    },
    "id": "k9Y6z4XiabVb",
    "outputId": "ba4a6abb-3559-4f08-b8ac-ecdf6fa9628e"
   },
   "outputs": [
    {
     "name": "stderr",
     "output_type": "stream",
     "text": [
      "100%|██████████| 11/11 [00:03<00:00,  3.31it/s]\n",
      "100%|██████████| 11/11 [00:02<00:00,  3.98it/s]\n"
     ]
    }
   ],
   "source": [
    "# necessity, sufficiency of quantifier perturbation\n",
    "q_necessity_score = h.necessity_check(model, q_labels, q_tokens, q_answer_tokens, q_clean_logit_diff, 'mean', device)\n",
    "q_sufficiency_score = h.sufficiency_check(model, q_labels, q_tokens, q_answer_tokens, q_clean_logit_diff, 'mean', device)"
   ]
  },
  {
   "cell_type": "code",
   "execution_count": 107,
   "metadata": {
    "colab": {
     "base_uri": "https://localhost:8080/",
     "height": 517
    },
    "id": "-LHx3KMDabVb",
    "outputId": "a22a20e7-139b-48af-9c79-2242c2b8eeb7"
   },
   "outputs": [
    {
     "name": "stdout",
     "output_type": "stream",
     "text": [
      "Plot saved to ../images/cript-medium/robustness_of_circuit.png\n"
     ]
    },
    {
     "data": {
      "application/vnd.plotly.v1+json": {
       "config": {
        "plotlyServerURL": "https://plot.ly"
       },
       "data": [
        {
         "line": {
          "color": "#bcbd22",
          "dash": "solid",
          "width": 3
         },
         "marker": {
          "symbol": "circle"
         },
         "name": "Necessity (N)",
         "type": "scatter",
         "x": [
          0,
          1,
          2,
          3,
          4,
          5,
          6,
          7,
          8,
          9,
          10,
          11
         ],
         "y": [
          0.19378256797790527,
          0.1936343014240265,
          0.11057460308074951,
          0.11072337627410889,
          0.10129751265048981,
          -0.1064552366733551,
          -0.2322792112827301,
          -0.2387993037700653,
          -0.246489480137825,
          -0.23454056680202484,
          -0.245987206697464,
          -0.26335805654525757
         ]
        },
        {
         "line": {
          "color": "#9467bd",
          "dash": "solid",
          "width": 3
         },
         "marker": {
          "symbol": "square"
         },
         "name": "Sufficiency (N)",
         "type": "scatter",
         "x": [
          0,
          1,
          2,
          3,
          4,
          5,
          6,
          7,
          8,
          9,
          10,
          11
         ],
         "y": [
          0,
          -0.0020678204018622637,
          -0.005944315809756517,
          -0.0017979940166696906,
          0.0014129639603197575,
          0.0010464986553415656,
          0.13490524888038635,
          0.3736221492290497,
          0.3714993894100189,
          0.3761535882949829,
          0.4243510067462921,
          0.42484691739082336
         ]
        },
        {
         "line": {
          "color": "#bcbd22",
          "dash": "dot",
          "width": 3
         },
         "marker": {
          "symbol": "circle"
         },
         "name": "Necessity (Q)",
         "showlegend": true,
         "type": "scatter",
         "x": [
          0,
          1,
          2,
          3,
          4,
          5,
          6,
          7,
          8,
          9,
          10,
          11
         ],
         "y": [
          -0.0006663004751317203,
          0.723330557346344,
          0.3469294309616089,
          0.17348207533359528,
          0.3080047070980072,
          -0.33191728591918945,
          -0.7899644374847412,
          -0.7839815616607666,
          -0.77912437915802,
          -0.7751577496528625,
          -0.7434284687042236,
          -0.7349688410758972
         ]
        },
        {
         "line": {
          "color": "#9467bd",
          "dash": "dot",
          "width": 3
         },
         "marker": {
          "symbol": "square"
         },
         "name": "Sufficiency (Q)",
         "showlegend": true,
         "type": "scatter",
         "x": [
          0,
          1,
          2,
          3,
          4,
          5,
          6,
          7,
          8,
          9,
          10,
          11
         ],
         "y": [
          0,
          -0.0007301330915652215,
          -0.004498164169490337,
          -0.00018946330237668008,
          -0.000713094137609005,
          0.001864878460764885,
          0.5599557757377625,
          1.3330250978469849,
          1.132232666015625,
          1.3684059381484985,
          1.2992464303970337,
          0.6112181544303894
         ]
        }
       ],
       "layout": {
        "bargap": 0.1,
        "bargroupgap": 0.1,
        "barmode": "group",
        "height": 500,
        "legend": {
         "bgcolor": "rgba(255, 255, 255, 0.8)",
         "font": {
          "size": 20
         },
         "x": 0.02,
         "y": 0.98
        },
        "margin": {
         "b": 10,
         "l": 0,
         "r": 0,
         "t": 10
        },
        "plot_bgcolor": "white",
        "shapes": [
         {
          "line": {
           "color": "#000000",
           "dash": "dash",
           "width": 3
          },
          "name": "Baseline",
          "type": "line",
          "x0": 0,
          "x1": 1,
          "xref": "x domain",
          "y0": 0.19378256797790527,
          "y1": 0.19378256797790527,
          "yref": "y"
         },
         {
          "line": {
           "color": "#000000",
           "dash": "dash",
           "width": 3
          },
          "type": "line",
          "x0": 0,
          "x1": 1,
          "xref": "x domain",
          "y0": -0.0006663004751317203,
          "y1": -0.0006663004751317203,
          "yref": "y"
         }
        ],
        "template": {
         "data": {
          "bar": [
           {
            "error_x": {
             "color": "#2a3f5f"
            },
            "error_y": {
             "color": "#2a3f5f"
            },
            "marker": {
             "line": {
              "color": "#E5ECF6",
              "width": 0.5
             },
             "pattern": {
              "fillmode": "overlay",
              "size": 10,
              "solidity": 0.2
             }
            },
            "type": "bar"
           }
          ],
          "barpolar": [
           {
            "marker": {
             "line": {
              "color": "#E5ECF6",
              "width": 0.5
             },
             "pattern": {
              "fillmode": "overlay",
              "size": 10,
              "solidity": 0.2
             }
            },
            "type": "barpolar"
           }
          ],
          "carpet": [
           {
            "aaxis": {
             "endlinecolor": "#2a3f5f",
             "gridcolor": "white",
             "linecolor": "white",
             "minorgridcolor": "white",
             "startlinecolor": "#2a3f5f"
            },
            "baxis": {
             "endlinecolor": "#2a3f5f",
             "gridcolor": "white",
             "linecolor": "white",
             "minorgridcolor": "white",
             "startlinecolor": "#2a3f5f"
            },
            "type": "carpet"
           }
          ],
          "choropleth": [
           {
            "colorbar": {
             "outlinewidth": 0,
             "ticks": ""
            },
            "type": "choropleth"
           }
          ],
          "contour": [
           {
            "colorbar": {
             "outlinewidth": 0,
             "ticks": ""
            },
            "colorscale": [
             [
              0,
              "#0d0887"
             ],
             [
              0.1111111111111111,
              "#46039f"
             ],
             [
              0.2222222222222222,
              "#7201a8"
             ],
             [
              0.3333333333333333,
              "#9c179e"
             ],
             [
              0.4444444444444444,
              "#bd3786"
             ],
             [
              0.5555555555555556,
              "#d8576b"
             ],
             [
              0.6666666666666666,
              "#ed7953"
             ],
             [
              0.7777777777777778,
              "#fb9f3a"
             ],
             [
              0.8888888888888888,
              "#fdca26"
             ],
             [
              1,
              "#f0f921"
             ]
            ],
            "type": "contour"
           }
          ],
          "contourcarpet": [
           {
            "colorbar": {
             "outlinewidth": 0,
             "ticks": ""
            },
            "type": "contourcarpet"
           }
          ],
          "heatmap": [
           {
            "colorbar": {
             "outlinewidth": 0,
             "ticks": ""
            },
            "colorscale": [
             [
              0,
              "#0d0887"
             ],
             [
              0.1111111111111111,
              "#46039f"
             ],
             [
              0.2222222222222222,
              "#7201a8"
             ],
             [
              0.3333333333333333,
              "#9c179e"
             ],
             [
              0.4444444444444444,
              "#bd3786"
             ],
             [
              0.5555555555555556,
              "#d8576b"
             ],
             [
              0.6666666666666666,
              "#ed7953"
             ],
             [
              0.7777777777777778,
              "#fb9f3a"
             ],
             [
              0.8888888888888888,
              "#fdca26"
             ],
             [
              1,
              "#f0f921"
             ]
            ],
            "type": "heatmap"
           }
          ],
          "heatmapgl": [
           {
            "colorbar": {
             "outlinewidth": 0,
             "ticks": ""
            },
            "colorscale": [
             [
              0,
              "#0d0887"
             ],
             [
              0.1111111111111111,
              "#46039f"
             ],
             [
              0.2222222222222222,
              "#7201a8"
             ],
             [
              0.3333333333333333,
              "#9c179e"
             ],
             [
              0.4444444444444444,
              "#bd3786"
             ],
             [
              0.5555555555555556,
              "#d8576b"
             ],
             [
              0.6666666666666666,
              "#ed7953"
             ],
             [
              0.7777777777777778,
              "#fb9f3a"
             ],
             [
              0.8888888888888888,
              "#fdca26"
             ],
             [
              1,
              "#f0f921"
             ]
            ],
            "type": "heatmapgl"
           }
          ],
          "histogram": [
           {
            "marker": {
             "pattern": {
              "fillmode": "overlay",
              "size": 10,
              "solidity": 0.2
             }
            },
            "type": "histogram"
           }
          ],
          "histogram2d": [
           {
            "colorbar": {
             "outlinewidth": 0,
             "ticks": ""
            },
            "colorscale": [
             [
              0,
              "#0d0887"
             ],
             [
              0.1111111111111111,
              "#46039f"
             ],
             [
              0.2222222222222222,
              "#7201a8"
             ],
             [
              0.3333333333333333,
              "#9c179e"
             ],
             [
              0.4444444444444444,
              "#bd3786"
             ],
             [
              0.5555555555555556,
              "#d8576b"
             ],
             [
              0.6666666666666666,
              "#ed7953"
             ],
             [
              0.7777777777777778,
              "#fb9f3a"
             ],
             [
              0.8888888888888888,
              "#fdca26"
             ],
             [
              1,
              "#f0f921"
             ]
            ],
            "type": "histogram2d"
           }
          ],
          "histogram2dcontour": [
           {
            "colorbar": {
             "outlinewidth": 0,
             "ticks": ""
            },
            "colorscale": [
             [
              0,
              "#0d0887"
             ],
             [
              0.1111111111111111,
              "#46039f"
             ],
             [
              0.2222222222222222,
              "#7201a8"
             ],
             [
              0.3333333333333333,
              "#9c179e"
             ],
             [
              0.4444444444444444,
              "#bd3786"
             ],
             [
              0.5555555555555556,
              "#d8576b"
             ],
             [
              0.6666666666666666,
              "#ed7953"
             ],
             [
              0.7777777777777778,
              "#fb9f3a"
             ],
             [
              0.8888888888888888,
              "#fdca26"
             ],
             [
              1,
              "#f0f921"
             ]
            ],
            "type": "histogram2dcontour"
           }
          ],
          "mesh3d": [
           {
            "colorbar": {
             "outlinewidth": 0,
             "ticks": ""
            },
            "type": "mesh3d"
           }
          ],
          "parcoords": [
           {
            "line": {
             "colorbar": {
              "outlinewidth": 0,
              "ticks": ""
             }
            },
            "type": "parcoords"
           }
          ],
          "pie": [
           {
            "automargin": true,
            "type": "pie"
           }
          ],
          "scatter": [
           {
            "fillpattern": {
             "fillmode": "overlay",
             "size": 10,
             "solidity": 0.2
            },
            "type": "scatter"
           }
          ],
          "scatter3d": [
           {
            "line": {
             "colorbar": {
              "outlinewidth": 0,
              "ticks": ""
             }
            },
            "marker": {
             "colorbar": {
              "outlinewidth": 0,
              "ticks": ""
             }
            },
            "type": "scatter3d"
           }
          ],
          "scattercarpet": [
           {
            "marker": {
             "colorbar": {
              "outlinewidth": 0,
              "ticks": ""
             }
            },
            "type": "scattercarpet"
           }
          ],
          "scattergeo": [
           {
            "marker": {
             "colorbar": {
              "outlinewidth": 0,
              "ticks": ""
             }
            },
            "type": "scattergeo"
           }
          ],
          "scattergl": [
           {
            "marker": {
             "colorbar": {
              "outlinewidth": 0,
              "ticks": ""
             }
            },
            "type": "scattergl"
           }
          ],
          "scattermapbox": [
           {
            "marker": {
             "colorbar": {
              "outlinewidth": 0,
              "ticks": ""
             }
            },
            "type": "scattermapbox"
           }
          ],
          "scatterpolar": [
           {
            "marker": {
             "colorbar": {
              "outlinewidth": 0,
              "ticks": ""
             }
            },
            "type": "scatterpolar"
           }
          ],
          "scatterpolargl": [
           {
            "marker": {
             "colorbar": {
              "outlinewidth": 0,
              "ticks": ""
             }
            },
            "type": "scatterpolargl"
           }
          ],
          "scatterternary": [
           {
            "marker": {
             "colorbar": {
              "outlinewidth": 0,
              "ticks": ""
             }
            },
            "type": "scatterternary"
           }
          ],
          "surface": [
           {
            "colorbar": {
             "outlinewidth": 0,
             "ticks": ""
            },
            "colorscale": [
             [
              0,
              "#0d0887"
             ],
             [
              0.1111111111111111,
              "#46039f"
             ],
             [
              0.2222222222222222,
              "#7201a8"
             ],
             [
              0.3333333333333333,
              "#9c179e"
             ],
             [
              0.4444444444444444,
              "#bd3786"
             ],
             [
              0.5555555555555556,
              "#d8576b"
             ],
             [
              0.6666666666666666,
              "#ed7953"
             ],
             [
              0.7777777777777778,
              "#fb9f3a"
             ],
             [
              0.8888888888888888,
              "#fdca26"
             ],
             [
              1,
              "#f0f921"
             ]
            ],
            "type": "surface"
           }
          ],
          "table": [
           {
            "cells": {
             "fill": {
              "color": "#EBF0F8"
             },
             "line": {
              "color": "white"
             }
            },
            "header": {
             "fill": {
              "color": "#C8D4E3"
             },
             "line": {
              "color": "white"
             }
            },
            "type": "table"
           }
          ]
         },
         "layout": {
          "annotationdefaults": {
           "arrowcolor": "#2a3f5f",
           "arrowhead": 0,
           "arrowwidth": 1
          },
          "autotypenumbers": "strict",
          "coloraxis": {
           "colorbar": {
            "outlinewidth": 0,
            "ticks": ""
           }
          },
          "colorscale": {
           "diverging": [
            [
             0,
             "#8e0152"
            ],
            [
             0.1,
             "#c51b7d"
            ],
            [
             0.2,
             "#de77ae"
            ],
            [
             0.3,
             "#f1b6da"
            ],
            [
             0.4,
             "#fde0ef"
            ],
            [
             0.5,
             "#f7f7f7"
            ],
            [
             0.6,
             "#e6f5d0"
            ],
            [
             0.7,
             "#b8e186"
            ],
            [
             0.8,
             "#7fbc41"
            ],
            [
             0.9,
             "#4d9221"
            ],
            [
             1,
             "#276419"
            ]
           ],
           "sequential": [
            [
             0,
             "#0d0887"
            ],
            [
             0.1111111111111111,
             "#46039f"
            ],
            [
             0.2222222222222222,
             "#7201a8"
            ],
            [
             0.3333333333333333,
             "#9c179e"
            ],
            [
             0.4444444444444444,
             "#bd3786"
            ],
            [
             0.5555555555555556,
             "#d8576b"
            ],
            [
             0.6666666666666666,
             "#ed7953"
            ],
            [
             0.7777777777777778,
             "#fb9f3a"
            ],
            [
             0.8888888888888888,
             "#fdca26"
            ],
            [
             1,
             "#f0f921"
            ]
           ],
           "sequentialminus": [
            [
             0,
             "#0d0887"
            ],
            [
             0.1111111111111111,
             "#46039f"
            ],
            [
             0.2222222222222222,
             "#7201a8"
            ],
            [
             0.3333333333333333,
             "#9c179e"
            ],
            [
             0.4444444444444444,
             "#bd3786"
            ],
            [
             0.5555555555555556,
             "#d8576b"
            ],
            [
             0.6666666666666666,
             "#ed7953"
            ],
            [
             0.7777777777777778,
             "#fb9f3a"
            ],
            [
             0.8888888888888888,
             "#fdca26"
            ],
            [
             1,
             "#f0f921"
            ]
           ]
          },
          "colorway": [
           "#636efa",
           "#EF553B",
           "#00cc96",
           "#ab63fa",
           "#FFA15A",
           "#19d3f3",
           "#FF6692",
           "#B6E880",
           "#FF97FF",
           "#FECB52"
          ],
          "font": {
           "color": "#2a3f5f"
          },
          "geo": {
           "bgcolor": "white",
           "lakecolor": "white",
           "landcolor": "#E5ECF6",
           "showlakes": true,
           "showland": true,
           "subunitcolor": "white"
          },
          "hoverlabel": {
           "align": "left"
          },
          "hovermode": "closest",
          "mapbox": {
           "style": "light"
          },
          "paper_bgcolor": "white",
          "plot_bgcolor": "#E5ECF6",
          "polar": {
           "angularaxis": {
            "gridcolor": "white",
            "linecolor": "white",
            "ticks": ""
           },
           "bgcolor": "#E5ECF6",
           "radialaxis": {
            "gridcolor": "white",
            "linecolor": "white",
            "ticks": ""
           }
          },
          "scene": {
           "xaxis": {
            "backgroundcolor": "#E5ECF6",
            "gridcolor": "white",
            "gridwidth": 2,
            "linecolor": "white",
            "showbackground": true,
            "ticks": "",
            "zerolinecolor": "white"
           },
           "yaxis": {
            "backgroundcolor": "#E5ECF6",
            "gridcolor": "white",
            "gridwidth": 2,
            "linecolor": "white",
            "showbackground": true,
            "ticks": "",
            "zerolinecolor": "white"
           },
           "zaxis": {
            "backgroundcolor": "#E5ECF6",
            "gridcolor": "white",
            "gridwidth": 2,
            "linecolor": "white",
            "showbackground": true,
            "ticks": "",
            "zerolinecolor": "white"
           }
          },
          "shapedefaults": {
           "line": {
            "color": "#2a3f5f"
           }
          },
          "ternary": {
           "aaxis": {
            "gridcolor": "white",
            "linecolor": "white",
            "ticks": ""
           },
           "baxis": {
            "gridcolor": "white",
            "linecolor": "white",
            "ticks": ""
           },
           "bgcolor": "#E5ECF6",
           "caxis": {
            "gridcolor": "white",
            "linecolor": "white",
            "ticks": ""
           }
          },
          "title": {
           "x": 0.05
          },
          "xaxis": {
           "automargin": true,
           "gridcolor": "white",
           "linecolor": "white",
           "ticks": "",
           "title": {
            "standoff": 15
           },
           "zerolinecolor": "white",
           "zerolinewidth": 2
          },
          "yaxis": {
           "automargin": true,
           "gridcolor": "white",
           "linecolor": "white",
           "ticks": "",
           "title": {
            "standoff": 15
           },
           "zerolinecolor": "white",
           "zerolinewidth": 2
          }
         }
        },
        "title": {
         "text": ""
        },
        "width": 500,
        "xaxis": {
         "linecolor": "black",
         "linewidth": 1,
         "mirror": true,
         "showline": true,
         "showticklabels": true,
         "title": {
          "text": ""
         }
        },
        "yaxis": {
         "linecolor": "black",
         "linewidth": 1,
         "mirror": true,
         "showline": true,
         "showticklabels": true,
         "title": {
          "text": ""
         }
        }
       }
      }
     },
     "metadata": {},
     "output_type": "display_data"
    }
   ],
   "source": [
    "pu.plot_ablation_robust(y1=n_necessity_score, y2=n_sufficiency_score, y3=q_necessity_score, y4 = q_sufficiency_score,  baseline1= n_clean_logit_diff, baseline2=q_clean_logit_diff, save_path=image_dir / \"robustness_of_circuit.png\", title=\"\")\n"
   ]
  },
  {
   "cell_type": "markdown",
   "metadata": {
    "id": "HeBR9xpMabVb"
   },
   "source": [
    "# 5. Circuit Transferability"
   ]
  },
  {
   "cell_type": "code",
   "execution_count": 108,
   "metadata": {
    "id": "fDADQypcabVb"
   },
   "outputs": [],
   "source": [
    "# setup\n",
    "bc_prompts = bc_dataset.sentences\n",
    "bc_labels = bc_dataset.labels\n",
    "bc_second_labels = bc_dataset.B\n",
    "\n",
    "bc_answers = list(zip(bc_labels, bc_second_labels))\n",
    "bc_answer_tokens = t.concat([\n",
    "    model.to_tokens(names, prepend_bos=False).T for names in bc_answers\n",
    "])\n",
    "\n",
    "bi_prompts = bi_dataset.sentences\n",
    "bi_labels = bi_dataset.labels\n",
    "bi_second_labels = bi_dataset.B\n",
    "\n",
    "bi_answers = list(zip(bi_labels, bi_second_labels))\n",
    "bi_answer_tokens = t.concat([\n",
    "    model.to_tokens(names, prepend_bos=False).T for names in bi_answers\n",
    "])\n",
    "\n",
    "# tokenisation\n",
    "bc_tokens = model.to_tokens(bc_prompts, prepend_bos=False).to(device)\n",
    "bi_tokens = model.to_tokens(bi_prompts, prepend_bos=False).to(device)"
   ]
  },
  {
   "cell_type": "code",
   "execution_count": 109,
   "metadata": {
    "colab": {
     "base_uri": "https://localhost:8080/"
    },
    "id": "sO3u0DFAabVc",
    "outputId": "9943504e-5563-4b96-cdec-a69227eb5c6c"
   },
   "outputs": [
    {
     "name": "stdout",
     "output_type": "stream",
     "text": [
      "Clean logit diff: 0.5050\n",
      "Clean logit diff: 0.0146\n"
     ]
    }
   ],
   "source": [
    "# Compute logits for interventions\n",
    "bc_clean_logits, bc_clean_cache = model.run_with_cache(bc_tokens)\n",
    "bi_clean_logits, bi_clean_cache = model.run_with_cache(bi_tokens)\n",
    "\n",
    "bc_clean_logit_diff = h.compute_logit_diff(bc_clean_logits, bc_answer_tokens)\n",
    "print(f\"Clean logit diff: {bc_clean_logit_diff:.4f}\")\n",
    "\n",
    "bi_clean_logit_diff = h.compute_logit_diff(bi_clean_logits, bi_answer_tokens)\n",
    "print(f\"Clean logit diff: {bi_clean_logit_diff:.4f}\")"
   ]
  },
  {
   "cell_type": "code",
   "execution_count": 110,
   "metadata": {
    "colab": {
     "base_uri": "https://localhost:8080/"
    },
    "id": "i1jPnYERabVc",
    "outputId": "a19547d2-c3c1-4b8b-a518-e01db3e71547"
   },
   "outputs": [
    {
     "name": "stderr",
     "output_type": "stream",
     "text": [
      "  0%|          | 0/11 [00:00<?, ?it/s]"
     ]
    },
    {
     "name": "stderr",
     "output_type": "stream",
     "text": [
      "100%|██████████| 11/11 [00:07<00:00,  1.54it/s]\n",
      "100%|██████████| 11/11 [00:02<00:00,  4.09it/s]\n"
     ]
    }
   ],
   "source": [
    "# belief-consistent\n",
    "bc_necessity_score = h.necessity_check(model, bc_labels, bc_tokens, bc_answer_tokens, bc_clean_logit_diff, 'mean', device)\n",
    "bc_sufficiency_score = h.sufficiency_check(model, bc_labels, bc_tokens, bc_answer_tokens, bc_clean_logit_diff, 'mean', device)"
   ]
  },
  {
   "cell_type": "code",
   "execution_count": 111,
   "metadata": {
    "colab": {
     "base_uri": "https://localhost:8080/"
    },
    "id": "AaL9Kz-2abVc",
    "outputId": "34e630fe-c116-496b-9a57-be1fb0369bb1"
   },
   "outputs": [
    {
     "name": "stderr",
     "output_type": "stream",
     "text": [
      "100%|██████████| 11/11 [00:02<00:00,  4.09it/s]\n",
      "100%|██████████| 11/11 [00:02<00:00,  4.09it/s]\n"
     ]
    }
   ],
   "source": [
    "# belief-inconsistent\n",
    "bi_necessity_score = h.necessity_check(model, bi_labels, bi_tokens, bi_answer_tokens, bi_clean_logit_diff, 'mean', device)\n",
    "bi_sufficiency_score = h.sufficiency_check(model, bi_labels, bi_tokens, bi_answer_tokens, bi_clean_logit_diff, 'mean', device)"
   ]
  },
  {
   "cell_type": "markdown",
   "metadata": {
    "id": "t9RLD2onabVc"
   },
   "source": [
    "### Figure 6(a) belief-consistent"
   ]
  },
  {
   "cell_type": "code",
   "execution_count": 112,
   "metadata": {
    "colab": {
     "base_uri": "https://localhost:8080/",
     "height": 517
    },
    "id": "oBbdTV3mabVc",
    "outputId": "9d313a71-d99a-4dfb-bbfc-76b975e7807d"
   },
   "outputs": [
    {
     "name": "stdout",
     "output_type": "stream",
     "text": [
      "Plot saved to ../images/cript-medium/correctness_of_circuit_bc.png\n"
     ]
    },
    {
     "data": {
      "application/vnd.plotly.v1+json": {
       "config": {
        "plotlyServerURL": "https://plot.ly"
       },
       "data": [
        {
         "line": {
          "color": "#bcbd22",
          "width": 3
         },
         "marker": {
          "size": 8,
          "symbol": "circle"
         },
         "mode": "lines+markers",
         "name": "Necessity",
         "type": "scatter",
         "x": [
          0,
          1,
          2,
          3,
          4,
          5,
          6,
          7,
          8,
          9,
          10,
          11
         ],
         "y": [
          0.5050270557403564,
          0.5016160607337952,
          0.3452879786491394,
          0.3499017357826233,
          0.27940940856933594,
          0.19161391258239746,
          0.16150552034378052,
          0.11358897387981415,
          0.16837425529956818,
          0.16155371069908142,
          0.20706266164779663,
          0.22778549790382385
         ]
        },
        {
         "line": {
          "color": "#9467bd",
          "width": 3
         },
         "marker": {
          "size": 8,
          "symbol": "square"
         },
         "mode": "lines+markers",
         "name": "Sufficiency",
         "type": "scatter",
         "x": [
          0,
          1,
          2,
          3,
          4,
          5,
          6,
          7,
          8,
          9,
          10,
          11
         ],
         "y": [
          -0.01045710314065218,
          -0.0141970319673419,
          -0.01760508306324482,
          -0.020082855597138405,
          -0.02349446713924408,
          -0.02013142965734005,
          -0.009668986313045025,
          0.08739980310201645,
          0.13544057309627533,
          0.12328492105007172,
          0.27757418155670166,
          0.2812645137310028
         ]
        }
       ],
       "layout": {
        "height": 500,
        "legend": {
         "bgcolor": "rgba(255, 255, 255, 0.8)",
         "font": {
          "size": 20
         },
         "x": 0.02,
         "y": 0.98
        },
        "margin": {
         "b": 10,
         "l": 0,
         "r": 0,
         "t": 10
        },
        "plot_bgcolor": "white",
        "shapes": [
         {
          "line": {
           "color": "#000000",
           "dash": "dash",
           "width": 3
          },
          "type": "line",
          "x0": 0,
          "x1": 1,
          "xref": "x domain",
          "y0": 0.5050270557403564,
          "y1": 0.5050270557403564,
          "yref": "y"
         }
        ],
        "template": {
         "data": {
          "bar": [
           {
            "error_x": {
             "color": "#2a3f5f"
            },
            "error_y": {
             "color": "#2a3f5f"
            },
            "marker": {
             "line": {
              "color": "#E5ECF6",
              "width": 0.5
             },
             "pattern": {
              "fillmode": "overlay",
              "size": 10,
              "solidity": 0.2
             }
            },
            "type": "bar"
           }
          ],
          "barpolar": [
           {
            "marker": {
             "line": {
              "color": "#E5ECF6",
              "width": 0.5
             },
             "pattern": {
              "fillmode": "overlay",
              "size": 10,
              "solidity": 0.2
             }
            },
            "type": "barpolar"
           }
          ],
          "carpet": [
           {
            "aaxis": {
             "endlinecolor": "#2a3f5f",
             "gridcolor": "white",
             "linecolor": "white",
             "minorgridcolor": "white",
             "startlinecolor": "#2a3f5f"
            },
            "baxis": {
             "endlinecolor": "#2a3f5f",
             "gridcolor": "white",
             "linecolor": "white",
             "minorgridcolor": "white",
             "startlinecolor": "#2a3f5f"
            },
            "type": "carpet"
           }
          ],
          "choropleth": [
           {
            "colorbar": {
             "outlinewidth": 0,
             "ticks": ""
            },
            "type": "choropleth"
           }
          ],
          "contour": [
           {
            "colorbar": {
             "outlinewidth": 0,
             "ticks": ""
            },
            "colorscale": [
             [
              0,
              "#0d0887"
             ],
             [
              0.1111111111111111,
              "#46039f"
             ],
             [
              0.2222222222222222,
              "#7201a8"
             ],
             [
              0.3333333333333333,
              "#9c179e"
             ],
             [
              0.4444444444444444,
              "#bd3786"
             ],
             [
              0.5555555555555556,
              "#d8576b"
             ],
             [
              0.6666666666666666,
              "#ed7953"
             ],
             [
              0.7777777777777778,
              "#fb9f3a"
             ],
             [
              0.8888888888888888,
              "#fdca26"
             ],
             [
              1,
              "#f0f921"
             ]
            ],
            "type": "contour"
           }
          ],
          "contourcarpet": [
           {
            "colorbar": {
             "outlinewidth": 0,
             "ticks": ""
            },
            "type": "contourcarpet"
           }
          ],
          "heatmap": [
           {
            "colorbar": {
             "outlinewidth": 0,
             "ticks": ""
            },
            "colorscale": [
             [
              0,
              "#0d0887"
             ],
             [
              0.1111111111111111,
              "#46039f"
             ],
             [
              0.2222222222222222,
              "#7201a8"
             ],
             [
              0.3333333333333333,
              "#9c179e"
             ],
             [
              0.4444444444444444,
              "#bd3786"
             ],
             [
              0.5555555555555556,
              "#d8576b"
             ],
             [
              0.6666666666666666,
              "#ed7953"
             ],
             [
              0.7777777777777778,
              "#fb9f3a"
             ],
             [
              0.8888888888888888,
              "#fdca26"
             ],
             [
              1,
              "#f0f921"
             ]
            ],
            "type": "heatmap"
           }
          ],
          "heatmapgl": [
           {
            "colorbar": {
             "outlinewidth": 0,
             "ticks": ""
            },
            "colorscale": [
             [
              0,
              "#0d0887"
             ],
             [
              0.1111111111111111,
              "#46039f"
             ],
             [
              0.2222222222222222,
              "#7201a8"
             ],
             [
              0.3333333333333333,
              "#9c179e"
             ],
             [
              0.4444444444444444,
              "#bd3786"
             ],
             [
              0.5555555555555556,
              "#d8576b"
             ],
             [
              0.6666666666666666,
              "#ed7953"
             ],
             [
              0.7777777777777778,
              "#fb9f3a"
             ],
             [
              0.8888888888888888,
              "#fdca26"
             ],
             [
              1,
              "#f0f921"
             ]
            ],
            "type": "heatmapgl"
           }
          ],
          "histogram": [
           {
            "marker": {
             "pattern": {
              "fillmode": "overlay",
              "size": 10,
              "solidity": 0.2
             }
            },
            "type": "histogram"
           }
          ],
          "histogram2d": [
           {
            "colorbar": {
             "outlinewidth": 0,
             "ticks": ""
            },
            "colorscale": [
             [
              0,
              "#0d0887"
             ],
             [
              0.1111111111111111,
              "#46039f"
             ],
             [
              0.2222222222222222,
              "#7201a8"
             ],
             [
              0.3333333333333333,
              "#9c179e"
             ],
             [
              0.4444444444444444,
              "#bd3786"
             ],
             [
              0.5555555555555556,
              "#d8576b"
             ],
             [
              0.6666666666666666,
              "#ed7953"
             ],
             [
              0.7777777777777778,
              "#fb9f3a"
             ],
             [
              0.8888888888888888,
              "#fdca26"
             ],
             [
              1,
              "#f0f921"
             ]
            ],
            "type": "histogram2d"
           }
          ],
          "histogram2dcontour": [
           {
            "colorbar": {
             "outlinewidth": 0,
             "ticks": ""
            },
            "colorscale": [
             [
              0,
              "#0d0887"
             ],
             [
              0.1111111111111111,
              "#46039f"
             ],
             [
              0.2222222222222222,
              "#7201a8"
             ],
             [
              0.3333333333333333,
              "#9c179e"
             ],
             [
              0.4444444444444444,
              "#bd3786"
             ],
             [
              0.5555555555555556,
              "#d8576b"
             ],
             [
              0.6666666666666666,
              "#ed7953"
             ],
             [
              0.7777777777777778,
              "#fb9f3a"
             ],
             [
              0.8888888888888888,
              "#fdca26"
             ],
             [
              1,
              "#f0f921"
             ]
            ],
            "type": "histogram2dcontour"
           }
          ],
          "mesh3d": [
           {
            "colorbar": {
             "outlinewidth": 0,
             "ticks": ""
            },
            "type": "mesh3d"
           }
          ],
          "parcoords": [
           {
            "line": {
             "colorbar": {
              "outlinewidth": 0,
              "ticks": ""
             }
            },
            "type": "parcoords"
           }
          ],
          "pie": [
           {
            "automargin": true,
            "type": "pie"
           }
          ],
          "scatter": [
           {
            "fillpattern": {
             "fillmode": "overlay",
             "size": 10,
             "solidity": 0.2
            },
            "type": "scatter"
           }
          ],
          "scatter3d": [
           {
            "line": {
             "colorbar": {
              "outlinewidth": 0,
              "ticks": ""
             }
            },
            "marker": {
             "colorbar": {
              "outlinewidth": 0,
              "ticks": ""
             }
            },
            "type": "scatter3d"
           }
          ],
          "scattercarpet": [
           {
            "marker": {
             "colorbar": {
              "outlinewidth": 0,
              "ticks": ""
             }
            },
            "type": "scattercarpet"
           }
          ],
          "scattergeo": [
           {
            "marker": {
             "colorbar": {
              "outlinewidth": 0,
              "ticks": ""
             }
            },
            "type": "scattergeo"
           }
          ],
          "scattergl": [
           {
            "marker": {
             "colorbar": {
              "outlinewidth": 0,
              "ticks": ""
             }
            },
            "type": "scattergl"
           }
          ],
          "scattermapbox": [
           {
            "marker": {
             "colorbar": {
              "outlinewidth": 0,
              "ticks": ""
             }
            },
            "type": "scattermapbox"
           }
          ],
          "scatterpolar": [
           {
            "marker": {
             "colorbar": {
              "outlinewidth": 0,
              "ticks": ""
             }
            },
            "type": "scatterpolar"
           }
          ],
          "scatterpolargl": [
           {
            "marker": {
             "colorbar": {
              "outlinewidth": 0,
              "ticks": ""
             }
            },
            "type": "scatterpolargl"
           }
          ],
          "scatterternary": [
           {
            "marker": {
             "colorbar": {
              "outlinewidth": 0,
              "ticks": ""
             }
            },
            "type": "scatterternary"
           }
          ],
          "surface": [
           {
            "colorbar": {
             "outlinewidth": 0,
             "ticks": ""
            },
            "colorscale": [
             [
              0,
              "#0d0887"
             ],
             [
              0.1111111111111111,
              "#46039f"
             ],
             [
              0.2222222222222222,
              "#7201a8"
             ],
             [
              0.3333333333333333,
              "#9c179e"
             ],
             [
              0.4444444444444444,
              "#bd3786"
             ],
             [
              0.5555555555555556,
              "#d8576b"
             ],
             [
              0.6666666666666666,
              "#ed7953"
             ],
             [
              0.7777777777777778,
              "#fb9f3a"
             ],
             [
              0.8888888888888888,
              "#fdca26"
             ],
             [
              1,
              "#f0f921"
             ]
            ],
            "type": "surface"
           }
          ],
          "table": [
           {
            "cells": {
             "fill": {
              "color": "#EBF0F8"
             },
             "line": {
              "color": "white"
             }
            },
            "header": {
             "fill": {
              "color": "#C8D4E3"
             },
             "line": {
              "color": "white"
             }
            },
            "type": "table"
           }
          ]
         },
         "layout": {
          "annotationdefaults": {
           "arrowcolor": "#2a3f5f",
           "arrowhead": 0,
           "arrowwidth": 1
          },
          "autotypenumbers": "strict",
          "coloraxis": {
           "colorbar": {
            "outlinewidth": 0,
            "ticks": ""
           }
          },
          "colorscale": {
           "diverging": [
            [
             0,
             "#8e0152"
            ],
            [
             0.1,
             "#c51b7d"
            ],
            [
             0.2,
             "#de77ae"
            ],
            [
             0.3,
             "#f1b6da"
            ],
            [
             0.4,
             "#fde0ef"
            ],
            [
             0.5,
             "#f7f7f7"
            ],
            [
             0.6,
             "#e6f5d0"
            ],
            [
             0.7,
             "#b8e186"
            ],
            [
             0.8,
             "#7fbc41"
            ],
            [
             0.9,
             "#4d9221"
            ],
            [
             1,
             "#276419"
            ]
           ],
           "sequential": [
            [
             0,
             "#0d0887"
            ],
            [
             0.1111111111111111,
             "#46039f"
            ],
            [
             0.2222222222222222,
             "#7201a8"
            ],
            [
             0.3333333333333333,
             "#9c179e"
            ],
            [
             0.4444444444444444,
             "#bd3786"
            ],
            [
             0.5555555555555556,
             "#d8576b"
            ],
            [
             0.6666666666666666,
             "#ed7953"
            ],
            [
             0.7777777777777778,
             "#fb9f3a"
            ],
            [
             0.8888888888888888,
             "#fdca26"
            ],
            [
             1,
             "#f0f921"
            ]
           ],
           "sequentialminus": [
            [
             0,
             "#0d0887"
            ],
            [
             0.1111111111111111,
             "#46039f"
            ],
            [
             0.2222222222222222,
             "#7201a8"
            ],
            [
             0.3333333333333333,
             "#9c179e"
            ],
            [
             0.4444444444444444,
             "#bd3786"
            ],
            [
             0.5555555555555556,
             "#d8576b"
            ],
            [
             0.6666666666666666,
             "#ed7953"
            ],
            [
             0.7777777777777778,
             "#fb9f3a"
            ],
            [
             0.8888888888888888,
             "#fdca26"
            ],
            [
             1,
             "#f0f921"
            ]
           ]
          },
          "colorway": [
           "#636efa",
           "#EF553B",
           "#00cc96",
           "#ab63fa",
           "#FFA15A",
           "#19d3f3",
           "#FF6692",
           "#B6E880",
           "#FF97FF",
           "#FECB52"
          ],
          "font": {
           "color": "#2a3f5f"
          },
          "geo": {
           "bgcolor": "white",
           "lakecolor": "white",
           "landcolor": "#E5ECF6",
           "showlakes": true,
           "showland": true,
           "subunitcolor": "white"
          },
          "hoverlabel": {
           "align": "left"
          },
          "hovermode": "closest",
          "mapbox": {
           "style": "light"
          },
          "paper_bgcolor": "white",
          "plot_bgcolor": "#E5ECF6",
          "polar": {
           "angularaxis": {
            "gridcolor": "white",
            "linecolor": "white",
            "ticks": ""
           },
           "bgcolor": "#E5ECF6",
           "radialaxis": {
            "gridcolor": "white",
            "linecolor": "white",
            "ticks": ""
           }
          },
          "scene": {
           "xaxis": {
            "backgroundcolor": "#E5ECF6",
            "gridcolor": "white",
            "gridwidth": 2,
            "linecolor": "white",
            "showbackground": true,
            "ticks": "",
            "zerolinecolor": "white"
           },
           "yaxis": {
            "backgroundcolor": "#E5ECF6",
            "gridcolor": "white",
            "gridwidth": 2,
            "linecolor": "white",
            "showbackground": true,
            "ticks": "",
            "zerolinecolor": "white"
           },
           "zaxis": {
            "backgroundcolor": "#E5ECF6",
            "gridcolor": "white",
            "gridwidth": 2,
            "linecolor": "white",
            "showbackground": true,
            "ticks": "",
            "zerolinecolor": "white"
           }
          },
          "shapedefaults": {
           "line": {
            "color": "#2a3f5f"
           }
          },
          "ternary": {
           "aaxis": {
            "gridcolor": "white",
            "linecolor": "white",
            "ticks": ""
           },
           "baxis": {
            "gridcolor": "white",
            "linecolor": "white",
            "ticks": ""
           },
           "bgcolor": "#E5ECF6",
           "caxis": {
            "gridcolor": "white",
            "linecolor": "white",
            "ticks": ""
           }
          },
          "title": {
           "x": 0.05
          },
          "xaxis": {
           "automargin": true,
           "gridcolor": "white",
           "linecolor": "white",
           "ticks": "",
           "title": {
            "standoff": 15
           },
           "zerolinecolor": "white",
           "zerolinewidth": 2
          },
          "yaxis": {
           "automargin": true,
           "gridcolor": "white",
           "linecolor": "white",
           "ticks": "",
           "title": {
            "standoff": 15
           },
           "zerolinecolor": "white",
           "zerolinewidth": 2
          }
         }
        },
        "title": {
         "text": ""
        },
        "width": 500,
        "xaxis": {
         "linecolor": "black",
         "linewidth": 1,
         "mirror": true,
         "showline": true,
         "showticklabels": true,
         "title": {
          "text": ""
         }
        },
        "yaxis": {
         "linecolor": "black",
         "linewidth": 1,
         "mirror": true,
         "showline": true,
         "showticklabels": true,
         "title": {
          "text": ""
         }
        }
       }
      }
     },
     "metadata": {},
     "output_type": "display_data"
    }
   ],
   "source": [
    "pu.plot_ablation(bc_clean_logit_diff, bc_necessity_score, bc_sufficiency_score, image_dir / \"correctness_of_circuit_bc.png\")"
   ]
  },
  {
   "cell_type": "markdown",
   "metadata": {
    "id": "AoLGSC2HabVc"
   },
   "source": [
    "### Figure 6(b) belief-inconsistent"
   ]
  },
  {
   "cell_type": "code",
   "execution_count": 113,
   "metadata": {
    "colab": {
     "base_uri": "https://localhost:8080/",
     "height": 517
    },
    "id": "gEbDxdVlabVc",
    "outputId": "45c4b174-2b4b-441b-949d-13b6603abb77"
   },
   "outputs": [
    {
     "name": "stdout",
     "output_type": "stream",
     "text": [
      "Plot saved to ../images/cript-medium/correctness_of_circuit_bi.png\n"
     ]
    },
    {
     "data": {
      "application/vnd.plotly.v1+json": {
       "config": {
        "plotlyServerURL": "https://plot.ly"
       },
       "data": [
        {
         "line": {
          "color": "#bcbd22",
          "width": 3
         },
         "marker": {
          "size": 8,
          "symbol": "circle"
         },
         "mode": "lines+markers",
         "name": "Necessity",
         "type": "scatter",
         "x": [
          0,
          1,
          2,
          3,
          4,
          5,
          6,
          7,
          8,
          9,
          10,
          11
         ],
         "y": [
          0.01457519643008709,
          0.01760050468146801,
          0.05959498509764671,
          0.03775418922305107,
          -0.1101069226861,
          -0.3540104031562805,
          -0.40807420015335083,
          -0.4136342704296112,
          -0.3980245292186737,
          -0.38134169578552246,
          -0.3824203610420227,
          -0.38095909357070923
         ]
        },
        {
         "line": {
          "color": "#9467bd",
          "width": 3
         },
         "marker": {
          "size": 8,
          "symbol": "square"
         },
         "mode": "lines+markers",
         "name": "Sufficiency",
         "type": "scatter",
         "x": [
          0,
          1,
          2,
          3,
          4,
          5,
          6,
          7,
          8,
          9,
          10,
          11
         ],
         "y": [
          -4.060523509979248,
          -4.052590847015381,
          -4.059309959411621,
          -4.043316841125488,
          -4.022313594818115,
          -4.032256126403809,
          -3.9338583946228027,
          -3.5462100505828857,
          -3.3503260612487793,
          -3.284590244293213,
          -3.2271766662597656,
          -3.2273404598236084
         ]
        }
       ],
       "layout": {
        "height": 500,
        "legend": {
         "bgcolor": "rgba(255, 255, 255, 0.8)",
         "font": {
          "size": 20
         },
         "x": 0.02,
         "y": 0.98
        },
        "margin": {
         "b": 10,
         "l": 0,
         "r": 0,
         "t": 10
        },
        "plot_bgcolor": "white",
        "shapes": [
         {
          "line": {
           "color": "#000000",
           "dash": "dash",
           "width": 3
          },
          "type": "line",
          "x0": 0,
          "x1": 1,
          "xref": "x domain",
          "y0": 0.01457519643008709,
          "y1": 0.01457519643008709,
          "yref": "y"
         }
        ],
        "template": {
         "data": {
          "bar": [
           {
            "error_x": {
             "color": "#2a3f5f"
            },
            "error_y": {
             "color": "#2a3f5f"
            },
            "marker": {
             "line": {
              "color": "#E5ECF6",
              "width": 0.5
             },
             "pattern": {
              "fillmode": "overlay",
              "size": 10,
              "solidity": 0.2
             }
            },
            "type": "bar"
           }
          ],
          "barpolar": [
           {
            "marker": {
             "line": {
              "color": "#E5ECF6",
              "width": 0.5
             },
             "pattern": {
              "fillmode": "overlay",
              "size": 10,
              "solidity": 0.2
             }
            },
            "type": "barpolar"
           }
          ],
          "carpet": [
           {
            "aaxis": {
             "endlinecolor": "#2a3f5f",
             "gridcolor": "white",
             "linecolor": "white",
             "minorgridcolor": "white",
             "startlinecolor": "#2a3f5f"
            },
            "baxis": {
             "endlinecolor": "#2a3f5f",
             "gridcolor": "white",
             "linecolor": "white",
             "minorgridcolor": "white",
             "startlinecolor": "#2a3f5f"
            },
            "type": "carpet"
           }
          ],
          "choropleth": [
           {
            "colorbar": {
             "outlinewidth": 0,
             "ticks": ""
            },
            "type": "choropleth"
           }
          ],
          "contour": [
           {
            "colorbar": {
             "outlinewidth": 0,
             "ticks": ""
            },
            "colorscale": [
             [
              0,
              "#0d0887"
             ],
             [
              0.1111111111111111,
              "#46039f"
             ],
             [
              0.2222222222222222,
              "#7201a8"
             ],
             [
              0.3333333333333333,
              "#9c179e"
             ],
             [
              0.4444444444444444,
              "#bd3786"
             ],
             [
              0.5555555555555556,
              "#d8576b"
             ],
             [
              0.6666666666666666,
              "#ed7953"
             ],
             [
              0.7777777777777778,
              "#fb9f3a"
             ],
             [
              0.8888888888888888,
              "#fdca26"
             ],
             [
              1,
              "#f0f921"
             ]
            ],
            "type": "contour"
           }
          ],
          "contourcarpet": [
           {
            "colorbar": {
             "outlinewidth": 0,
             "ticks": ""
            },
            "type": "contourcarpet"
           }
          ],
          "heatmap": [
           {
            "colorbar": {
             "outlinewidth": 0,
             "ticks": ""
            },
            "colorscale": [
             [
              0,
              "#0d0887"
             ],
             [
              0.1111111111111111,
              "#46039f"
             ],
             [
              0.2222222222222222,
              "#7201a8"
             ],
             [
              0.3333333333333333,
              "#9c179e"
             ],
             [
              0.4444444444444444,
              "#bd3786"
             ],
             [
              0.5555555555555556,
              "#d8576b"
             ],
             [
              0.6666666666666666,
              "#ed7953"
             ],
             [
              0.7777777777777778,
              "#fb9f3a"
             ],
             [
              0.8888888888888888,
              "#fdca26"
             ],
             [
              1,
              "#f0f921"
             ]
            ],
            "type": "heatmap"
           }
          ],
          "heatmapgl": [
           {
            "colorbar": {
             "outlinewidth": 0,
             "ticks": ""
            },
            "colorscale": [
             [
              0,
              "#0d0887"
             ],
             [
              0.1111111111111111,
              "#46039f"
             ],
             [
              0.2222222222222222,
              "#7201a8"
             ],
             [
              0.3333333333333333,
              "#9c179e"
             ],
             [
              0.4444444444444444,
              "#bd3786"
             ],
             [
              0.5555555555555556,
              "#d8576b"
             ],
             [
              0.6666666666666666,
              "#ed7953"
             ],
             [
              0.7777777777777778,
              "#fb9f3a"
             ],
             [
              0.8888888888888888,
              "#fdca26"
             ],
             [
              1,
              "#f0f921"
             ]
            ],
            "type": "heatmapgl"
           }
          ],
          "histogram": [
           {
            "marker": {
             "pattern": {
              "fillmode": "overlay",
              "size": 10,
              "solidity": 0.2
             }
            },
            "type": "histogram"
           }
          ],
          "histogram2d": [
           {
            "colorbar": {
             "outlinewidth": 0,
             "ticks": ""
            },
            "colorscale": [
             [
              0,
              "#0d0887"
             ],
             [
              0.1111111111111111,
              "#46039f"
             ],
             [
              0.2222222222222222,
              "#7201a8"
             ],
             [
              0.3333333333333333,
              "#9c179e"
             ],
             [
              0.4444444444444444,
              "#bd3786"
             ],
             [
              0.5555555555555556,
              "#d8576b"
             ],
             [
              0.6666666666666666,
              "#ed7953"
             ],
             [
              0.7777777777777778,
              "#fb9f3a"
             ],
             [
              0.8888888888888888,
              "#fdca26"
             ],
             [
              1,
              "#f0f921"
             ]
            ],
            "type": "histogram2d"
           }
          ],
          "histogram2dcontour": [
           {
            "colorbar": {
             "outlinewidth": 0,
             "ticks": ""
            },
            "colorscale": [
             [
              0,
              "#0d0887"
             ],
             [
              0.1111111111111111,
              "#46039f"
             ],
             [
              0.2222222222222222,
              "#7201a8"
             ],
             [
              0.3333333333333333,
              "#9c179e"
             ],
             [
              0.4444444444444444,
              "#bd3786"
             ],
             [
              0.5555555555555556,
              "#d8576b"
             ],
             [
              0.6666666666666666,
              "#ed7953"
             ],
             [
              0.7777777777777778,
              "#fb9f3a"
             ],
             [
              0.8888888888888888,
              "#fdca26"
             ],
             [
              1,
              "#f0f921"
             ]
            ],
            "type": "histogram2dcontour"
           }
          ],
          "mesh3d": [
           {
            "colorbar": {
             "outlinewidth": 0,
             "ticks": ""
            },
            "type": "mesh3d"
           }
          ],
          "parcoords": [
           {
            "line": {
             "colorbar": {
              "outlinewidth": 0,
              "ticks": ""
             }
            },
            "type": "parcoords"
           }
          ],
          "pie": [
           {
            "automargin": true,
            "type": "pie"
           }
          ],
          "scatter": [
           {
            "fillpattern": {
             "fillmode": "overlay",
             "size": 10,
             "solidity": 0.2
            },
            "type": "scatter"
           }
          ],
          "scatter3d": [
           {
            "line": {
             "colorbar": {
              "outlinewidth": 0,
              "ticks": ""
             }
            },
            "marker": {
             "colorbar": {
              "outlinewidth": 0,
              "ticks": ""
             }
            },
            "type": "scatter3d"
           }
          ],
          "scattercarpet": [
           {
            "marker": {
             "colorbar": {
              "outlinewidth": 0,
              "ticks": ""
             }
            },
            "type": "scattercarpet"
           }
          ],
          "scattergeo": [
           {
            "marker": {
             "colorbar": {
              "outlinewidth": 0,
              "ticks": ""
             }
            },
            "type": "scattergeo"
           }
          ],
          "scattergl": [
           {
            "marker": {
             "colorbar": {
              "outlinewidth": 0,
              "ticks": ""
             }
            },
            "type": "scattergl"
           }
          ],
          "scattermapbox": [
           {
            "marker": {
             "colorbar": {
              "outlinewidth": 0,
              "ticks": ""
             }
            },
            "type": "scattermapbox"
           }
          ],
          "scatterpolar": [
           {
            "marker": {
             "colorbar": {
              "outlinewidth": 0,
              "ticks": ""
             }
            },
            "type": "scatterpolar"
           }
          ],
          "scatterpolargl": [
           {
            "marker": {
             "colorbar": {
              "outlinewidth": 0,
              "ticks": ""
             }
            },
            "type": "scatterpolargl"
           }
          ],
          "scatterternary": [
           {
            "marker": {
             "colorbar": {
              "outlinewidth": 0,
              "ticks": ""
             }
            },
            "type": "scatterternary"
           }
          ],
          "surface": [
           {
            "colorbar": {
             "outlinewidth": 0,
             "ticks": ""
            },
            "colorscale": [
             [
              0,
              "#0d0887"
             ],
             [
              0.1111111111111111,
              "#46039f"
             ],
             [
              0.2222222222222222,
              "#7201a8"
             ],
             [
              0.3333333333333333,
              "#9c179e"
             ],
             [
              0.4444444444444444,
              "#bd3786"
             ],
             [
              0.5555555555555556,
              "#d8576b"
             ],
             [
              0.6666666666666666,
              "#ed7953"
             ],
             [
              0.7777777777777778,
              "#fb9f3a"
             ],
             [
              0.8888888888888888,
              "#fdca26"
             ],
             [
              1,
              "#f0f921"
             ]
            ],
            "type": "surface"
           }
          ],
          "table": [
           {
            "cells": {
             "fill": {
              "color": "#EBF0F8"
             },
             "line": {
              "color": "white"
             }
            },
            "header": {
             "fill": {
              "color": "#C8D4E3"
             },
             "line": {
              "color": "white"
             }
            },
            "type": "table"
           }
          ]
         },
         "layout": {
          "annotationdefaults": {
           "arrowcolor": "#2a3f5f",
           "arrowhead": 0,
           "arrowwidth": 1
          },
          "autotypenumbers": "strict",
          "coloraxis": {
           "colorbar": {
            "outlinewidth": 0,
            "ticks": ""
           }
          },
          "colorscale": {
           "diverging": [
            [
             0,
             "#8e0152"
            ],
            [
             0.1,
             "#c51b7d"
            ],
            [
             0.2,
             "#de77ae"
            ],
            [
             0.3,
             "#f1b6da"
            ],
            [
             0.4,
             "#fde0ef"
            ],
            [
             0.5,
             "#f7f7f7"
            ],
            [
             0.6,
             "#e6f5d0"
            ],
            [
             0.7,
             "#b8e186"
            ],
            [
             0.8,
             "#7fbc41"
            ],
            [
             0.9,
             "#4d9221"
            ],
            [
             1,
             "#276419"
            ]
           ],
           "sequential": [
            [
             0,
             "#0d0887"
            ],
            [
             0.1111111111111111,
             "#46039f"
            ],
            [
             0.2222222222222222,
             "#7201a8"
            ],
            [
             0.3333333333333333,
             "#9c179e"
            ],
            [
             0.4444444444444444,
             "#bd3786"
            ],
            [
             0.5555555555555556,
             "#d8576b"
            ],
            [
             0.6666666666666666,
             "#ed7953"
            ],
            [
             0.7777777777777778,
             "#fb9f3a"
            ],
            [
             0.8888888888888888,
             "#fdca26"
            ],
            [
             1,
             "#f0f921"
            ]
           ],
           "sequentialminus": [
            [
             0,
             "#0d0887"
            ],
            [
             0.1111111111111111,
             "#46039f"
            ],
            [
             0.2222222222222222,
             "#7201a8"
            ],
            [
             0.3333333333333333,
             "#9c179e"
            ],
            [
             0.4444444444444444,
             "#bd3786"
            ],
            [
             0.5555555555555556,
             "#d8576b"
            ],
            [
             0.6666666666666666,
             "#ed7953"
            ],
            [
             0.7777777777777778,
             "#fb9f3a"
            ],
            [
             0.8888888888888888,
             "#fdca26"
            ],
            [
             1,
             "#f0f921"
            ]
           ]
          },
          "colorway": [
           "#636efa",
           "#EF553B",
           "#00cc96",
           "#ab63fa",
           "#FFA15A",
           "#19d3f3",
           "#FF6692",
           "#B6E880",
           "#FF97FF",
           "#FECB52"
          ],
          "font": {
           "color": "#2a3f5f"
          },
          "geo": {
           "bgcolor": "white",
           "lakecolor": "white",
           "landcolor": "#E5ECF6",
           "showlakes": true,
           "showland": true,
           "subunitcolor": "white"
          },
          "hoverlabel": {
           "align": "left"
          },
          "hovermode": "closest",
          "mapbox": {
           "style": "light"
          },
          "paper_bgcolor": "white",
          "plot_bgcolor": "#E5ECF6",
          "polar": {
           "angularaxis": {
            "gridcolor": "white",
            "linecolor": "white",
            "ticks": ""
           },
           "bgcolor": "#E5ECF6",
           "radialaxis": {
            "gridcolor": "white",
            "linecolor": "white",
            "ticks": ""
           }
          },
          "scene": {
           "xaxis": {
            "backgroundcolor": "#E5ECF6",
            "gridcolor": "white",
            "gridwidth": 2,
            "linecolor": "white",
            "showbackground": true,
            "ticks": "",
            "zerolinecolor": "white"
           },
           "yaxis": {
            "backgroundcolor": "#E5ECF6",
            "gridcolor": "white",
            "gridwidth": 2,
            "linecolor": "white",
            "showbackground": true,
            "ticks": "",
            "zerolinecolor": "white"
           },
           "zaxis": {
            "backgroundcolor": "#E5ECF6",
            "gridcolor": "white",
            "gridwidth": 2,
            "linecolor": "white",
            "showbackground": true,
            "ticks": "",
            "zerolinecolor": "white"
           }
          },
          "shapedefaults": {
           "line": {
            "color": "#2a3f5f"
           }
          },
          "ternary": {
           "aaxis": {
            "gridcolor": "white",
            "linecolor": "white",
            "ticks": ""
           },
           "baxis": {
            "gridcolor": "white",
            "linecolor": "white",
            "ticks": ""
           },
           "bgcolor": "#E5ECF6",
           "caxis": {
            "gridcolor": "white",
            "linecolor": "white",
            "ticks": ""
           }
          },
          "title": {
           "x": 0.05
          },
          "xaxis": {
           "automargin": true,
           "gridcolor": "white",
           "linecolor": "white",
           "ticks": "",
           "title": {
            "standoff": 15
           },
           "zerolinecolor": "white",
           "zerolinewidth": 2
          },
          "yaxis": {
           "automargin": true,
           "gridcolor": "white",
           "linecolor": "white",
           "ticks": "",
           "title": {
            "standoff": 15
           },
           "zerolinecolor": "white",
           "zerolinewidth": 2
          }
         }
        },
        "title": {
         "text": ""
        },
        "width": 500,
        "xaxis": {
         "linecolor": "black",
         "linewidth": 1,
         "mirror": true,
         "showline": true,
         "showticklabels": true,
         "title": {
          "text": ""
         }
        },
        "yaxis": {
         "linecolor": "black",
         "linewidth": 1,
         "mirror": true,
         "showline": true,
         "showticklabels": true,
         "title": {
          "text": ""
         }
        }
       }
      }
     },
     "metadata": {},
     "output_type": "display_data"
    }
   ],
   "source": [
    "pu.plot_ablation(bi_clean_logit_diff, bi_necessity_score, bi_sufficiency_score, image_dir / \"correctness_of_circuit_bi.png\")"
   ]
  },
  {
   "cell_type": "markdown",
   "metadata": {
    "id": "YpkzOAIbabVc"
   },
   "source": [
    "### Table 2 all unconditionally valid syllogisms"
   ]
  },
  {
   "cell_type": "code",
   "execution_count": 114,
   "metadata": {
    "id": "HIWmqoJwabVc"
   },
   "outputs": [],
   "source": [
    "# ordered by accuracy\n",
    "moods_ordered = ['AII3', 'IAI3', 'IAI4', 'AAA1', 'EAE1', 'EIO4', 'EIO3', 'AII1', 'AOO2', 'AEE4', 'OAO3', 'EIO1', 'EIO2', 'EAE2', 'AEE2']"
   ]
  },
  {
   "cell_type": "code",
   "execution_count": 115,
   "metadata": {
    "id": "jOTVftBeabVc"
   },
   "outputs": [],
   "source": [
    "# all symbolic datasets import\n",
    "s_datasets = {}\n",
    "\n",
    "for template in moods_ordered:\n",
    "    s_dataset = SyllogismDataset(\n",
    "            N=N,\n",
    "            seed=seed,\n",
    "            device=device,\n",
    "            type='symbolic',\n",
    "            template_type=template\n",
    "        )\n",
    "    s_datasets[template] = s_dataset\n"
   ]
  },
  {
   "cell_type": "code",
   "execution_count": 116,
   "metadata": {
    "id": "NShCchAwabVc"
   },
   "outputs": [],
   "source": [
    "# setup\n",
    "mood_dics = []\n",
    "\n",
    "for template in moods_ordered:\n",
    "    mood_dic = {\n",
    "        'mood': template,\n",
    "        'prompts': s_datasets[template].sentences,\n",
    "        'labels': s_datasets[template].labels,\n",
    "        'second_labels': s_datasets[template].B\n",
    "\n",
    "    }\n",
    "    s_answers = list(zip(mood_dic['labels'], mood_dic['second_labels']))\n",
    "    mood_dic['answers'] = s_answers\n",
    "    s_answer_tokens = t.concat([\n",
    "        model.to_tokens(names, prepend_bos=False).T for names in s_answers\n",
    "    ])\n",
    "    mood_dic['answer_tokens'] = s_answer_tokens\n",
    "\n",
    "    mood_dics.append(mood_dic)"
   ]
  },
  {
   "cell_type": "code",
   "execution_count": 117,
   "metadata": {
    "colab": {
     "base_uri": "https://localhost:8080/"
    },
    "id": "hSpyK4zkabVc",
    "outputId": "a02bd88f-90c1-4b5b-c35b-f98b489f6b1b"
   },
   "outputs": [
    {
     "name": "stdout",
     "output_type": "stream",
     "text": [
      "tensor(0.9720, device='mps:0') tensor(0., device='mps:0')\n",
      "tensor(0.4753, device='mps:0') tensor(0., device='mps:0')\n",
      "tensor(0.4753, device='mps:0') tensor(0., device='mps:0')\n",
      "tensor(0.3170, device='mps:0') tensor(0., device='mps:0')\n",
      "tensor(0.1401, device='mps:0') tensor(0., device='mps:0')\n",
      "tensor(0.4769, device='mps:0') tensor(0., device='mps:0')\n",
      "tensor(0.4769, device='mps:0') tensor(0., device='mps:0')\n",
      "tensor(-0.1302, device='mps:0') tensor(0., device='mps:0')\n",
      "tensor(-1.1784, device='mps:0') tensor(0., device='mps:0')\n",
      "tensor(-0.5424, device='mps:0') tensor(0., device='mps:0')\n",
      "tensor(-0.4168, device='mps:0') tensor(0., device='mps:0')\n",
      "tensor(-0.9202, device='mps:0') tensor(0., device='mps:0')\n",
      "tensor(-1.4959, device='mps:0') tensor(0., device='mps:0')\n",
      "tensor(-1.5060, device='mps:0') tensor(0., device='mps:0')\n",
      "tensor(-1.7159, device='mps:0') tensor(0., device='mps:0')\n"
     ]
    }
   ],
   "source": [
    "# get base logit diff for 15 syllogisms\n",
    "for i, template in enumerate(moods_ordered):\n",
    "    tokens = model.to_tokens(mood_dics[i]['prompts'], prepend_bos=False).to(device)\n",
    "    clean_logit_diff = h.get_batched_logit_diff(5, tokens, mood_dics[i]['answer_tokens'], model)\n",
    "    mood_dics[i]['tokens'] = tokens\n",
    "    mood_dics[i]['clean_logit_diff'] = clean_logit_diff\n",
    "\n",
    "    bia_diff = 0\n",
    "    for correct, wrong in mood_dics[i]['answer_tokens']:\n",
    "        diff = model.unembed.b_U[correct.item()] - model.unembed.b_U[wrong.item()]\n",
    "        bia_diff += diff\n",
    "\n",
    "    bia_diff = bia_diff/len(mood_dics[i]['prompts'])\n",
    "    mood_dics[i]['bia_diff'] = bia_diff\n",
    "    print(mood_dics[i]['clean_logit_diff'], mood_dics[i]['bia_diff'])"
   ]
  },
  {
   "cell_type": "code",
   "execution_count": 119,
   "metadata": {
    "colab": {
     "base_uri": "https://localhost:8080/"
    },
    "id": "3JMEFrxDabVd",
    "outputId": "44e4d3a8-63f0-40b0-8b91-47e7f6e83387"
   },
   "outputs": [
    {
     "name": "stderr",
     "output_type": "stream",
     "text": [
      "100%|██████████| 11/11 [00:31<00:00,  2.82s/it]\n",
      "100%|██████████| 11/11 [00:11<00:00,  1.06s/it]\n",
      "100%|██████████| 11/11 [00:11<00:00,  1.00s/it]\n",
      "100%|██████████| 11/11 [00:11<00:00,  1.08s/it]\n",
      "100%|██████████| 11/11 [00:11<00:00,  1.03s/it]\n",
      "100%|██████████| 11/11 [00:12<00:00,  1.13s/it]\n",
      "100%|██████████| 11/11 [00:11<00:00,  1.01s/it]\n",
      "100%|██████████| 11/11 [00:11<00:00,  1.08s/it]\n",
      "100%|██████████| 11/11 [00:11<00:00,  1.02s/it]\n",
      "100%|██████████| 11/11 [00:11<00:00,  1.07s/it]\n",
      "100%|██████████| 11/11 [00:10<00:00,  1.07it/s]\n",
      "100%|██████████| 11/11 [00:12<00:00,  1.11s/it]\n",
      "100%|██████████| 11/11 [00:18<00:00,  1.65s/it]\n",
      "100%|██████████| 11/11 [00:20<00:00,  1.89s/it]\n",
      "100%|██████████| 11/11 [00:13<00:00,  1.24s/it]\n",
      "100%|██████████| 11/11 [00:11<00:00,  1.09s/it]\n",
      "100%|██████████| 11/11 [00:11<00:00,  1.04s/it]\n",
      "100%|██████████| 11/11 [00:14<00:00,  1.28s/it]\n",
      "100%|██████████| 11/11 [00:11<00:00,  1.00s/it]\n",
      "100%|██████████| 11/11 [00:12<00:00,  1.10s/it]\n",
      "100%|██████████| 11/11 [00:11<00:00,  1.03s/it]\n",
      "100%|██████████| 11/11 [00:11<00:00,  1.06s/it]\n",
      "100%|██████████| 11/11 [00:09<00:00,  1.10it/s]\n",
      "100%|██████████| 11/11 [00:10<00:00,  1.00it/s]\n",
      "100%|██████████| 11/11 [00:09<00:00,  1.10it/s]\n",
      "100%|██████████| 11/11 [00:10<00:00,  1.04it/s]\n",
      "100%|██████████| 11/11 [00:11<00:00,  1.03s/it]\n",
      "100%|██████████| 11/11 [00:11<00:00,  1.06s/it]\n",
      "100%|██████████| 11/11 [00:11<00:00,  1.01s/it]\n",
      "100%|██████████| 11/11 [00:11<00:00,  1.06s/it]\n"
     ]
    }
   ],
   "source": [
    "# ablation\n",
    "for i, template in enumerate(moods_ordered):\n",
    "    mean_scores = h.necessity_check(model, mood_dics[i]['labels'], mood_dics[i]['tokens'], mood_dics[i]['answer_tokens'], mood_dics[i]['clean_logit_diff'], 'mean', device)\n",
    "    sf_mean_scores = h.sufficiency_check(model, mood_dics[i]['labels'], mood_dics[i]['tokens'], mood_dics[i]['answer_tokens'], mood_dics[i]['clean_logit_diff'], 'mean',device)\n",
    "    mood_dics[i]['mean_scores'] = mean_scores\n",
    "    mood_dics[i]['sf_mean_score'] = sf_mean_scores"
   ]
  },
  {
   "cell_type": "code",
   "execution_count": 120,
   "metadata": {
    "colab": {
     "base_uri": "https://localhost:8080/",
     "height": 817
    },
    "id": "Thf1Nl8SabVd",
    "outputId": "09d6eb52-dd55-40bc-c503-138f979edf9f"
   },
   "outputs": [
    {
     "name": "stdout",
     "output_type": "stream",
     "text": [
      "Plot saved to ../images/cript-medium/syllogism_ablation.png\n"
     ]
    },
    {
     "data": {
      "application/vnd.plotly.v1+json": {
       "config": {
        "plotlyServerURL": "https://plot.ly"
       },
       "data": [
        {
         "line": {
          "color": "#bcbd22",
          "width": 2
         },
         "name": "Necessity",
         "showlegend": true,
         "type": "scatter",
         "x": [
          0,
          1,
          2,
          3,
          4,
          5,
          6,
          7,
          8,
          9,
          10,
          11
         ],
         "xaxis": "x",
         "y": [
          0.9720456600189209,
          1.1895577907562256,
          1.114457368850708,
          0.9010695219039917,
          0.8849318027496338,
          0.24999873340129852,
          -0.0488121472299099,
          -0.03766839951276779,
          -0.047984421253204346,
          -0.08276087790727615,
          -0.09952935576438904,
          -0.11703447252511978
         ],
         "yaxis": "y"
        },
        {
         "line": {
          "color": "#9467bd",
          "width": 2
         },
         "name": "Sufficiency",
         "showlegend": true,
         "type": "scatter",
         "x": [
          0,
          1,
          2,
          3,
          4,
          5,
          6,
          7,
          8,
          9,
          10,
          11
         ],
         "xaxis": "x",
         "y": [
          0,
          0.00413377583026886,
          0.017391247674822807,
          0.023937055841088295,
          0.03597535192966461,
          0.03548194095492363,
          0.48519209027290344,
          1.234107494354248,
          1.2233821153640747,
          1.750577449798584,
          1.6622874736785889,
          1.4433529376983643
         ],
         "yaxis": "y"
        },
        {
         "line": {
          "color": "#bcbd22",
          "width": 2
         },
         "name": "Necessity",
         "showlegend": false,
         "type": "scatter",
         "x": [
          0,
          1,
          2,
          3,
          4,
          5,
          6,
          7,
          8,
          9,
          10,
          11
         ],
         "xaxis": "x2",
         "y": [
          0.4753333330154419,
          0.7658799886703491,
          0.7901268005371094,
          0.5799604058265686,
          0.5781921744346619,
          -0.02701007016003132,
          -0.3093240261077881,
          -0.2848564088344574,
          -0.30315670371055603,
          -0.32135048508644104,
          -0.36167263984680176,
          -0.3803243935108185
         ],
         "yaxis": "y2"
        },
        {
         "line": {
          "color": "#9467bd",
          "width": 2
         },
         "name": "Sufficiency",
         "showlegend": false,
         "type": "scatter",
         "x": [
          0,
          1,
          2,
          3,
          4,
          5,
          6,
          7,
          8,
          9,
          10,
          11
         ],
         "xaxis": "x2",
         "y": [
          0,
          0.005412292666733265,
          0.046098582446575165,
          0.05315348505973816,
          0.07495507597923279,
          0.07406078279018402,
          0.6911618709564209,
          1.226993441581726,
          1.2092289924621582,
          1.5208730697631836,
          1.4245147705078125,
          0.9681956171989441
         ],
         "yaxis": "y2"
        },
        {
         "line": {
          "color": "#bcbd22",
          "width": 2
         },
         "name": "Necessity",
         "showlegend": false,
         "type": "scatter",
         "x": [
          0,
          1,
          2,
          3,
          4,
          5,
          6,
          7,
          8,
          9,
          10,
          11
         ],
         "xaxis": "x3",
         "y": [
          0.4753333330154419,
          0.7658799886703491,
          0.7901268005371094,
          0.5799604058265686,
          0.5781921744346619,
          -0.02701007016003132,
          -0.3093240261077881,
          -0.2848564088344574,
          -0.30315670371055603,
          -0.32135048508644104,
          -0.36167263984680176,
          -0.3803243935108185
         ],
         "yaxis": "y3"
        },
        {
         "line": {
          "color": "#9467bd",
          "width": 2
         },
         "name": "Sufficiency",
         "showlegend": false,
         "type": "scatter",
         "x": [
          0,
          1,
          2,
          3,
          4,
          5,
          6,
          7,
          8,
          9,
          10,
          11
         ],
         "xaxis": "x3",
         "y": [
          0,
          0.005412292666733265,
          0.046098582446575165,
          0.05315348505973816,
          0.07495507597923279,
          0.07406078279018402,
          0.6911618709564209,
          1.226993441581726,
          1.2092289924621582,
          1.5208730697631836,
          1.4245147705078125,
          0.9681956171989441
         ],
         "yaxis": "y3"
        },
        {
         "line": {
          "color": "#bcbd22",
          "width": 2
         },
         "name": "Necessity",
         "showlegend": false,
         "type": "scatter",
         "x": [
          0,
          1,
          2,
          3,
          4,
          5,
          6,
          7,
          8,
          9,
          10,
          11
         ],
         "xaxis": "x4",
         "y": [
          0.316963255405426,
          0.5976741909980774,
          0.2715440094470978,
          0.14134278893470764,
          0.2772185206413269,
          -0.22200000286102295,
          -0.6748265027999878,
          -0.6719267964363098,
          -0.6549573540687561,
          -0.644316554069519,
          -0.6067311763763428,
          -0.6014281511306763
         ],
         "yaxis": "y4"
        },
        {
         "line": {
          "color": "#9467bd",
          "width": 2
         },
         "name": "Sufficiency",
         "showlegend": false,
         "type": "scatter",
         "x": [
          0,
          1,
          2,
          3,
          4,
          5,
          6,
          7,
          8,
          9,
          10,
          11
         ],
         "xaxis": "x4",
         "y": [
          0,
          0.00010960896906908602,
          -0.003618749091401696,
          0.00030451882048510015,
          0.0022457123268395662,
          0.004688962362706661,
          1.0460028648376465,
          2.1285786628723145,
          1.8974660634994507,
          2.317225694656372,
          2.151287794113159,
          1.4672281742095947
         ],
         "yaxis": "y4"
        },
        {
         "line": {
          "color": "#bcbd22",
          "width": 2
         },
         "name": "Necessity",
         "showlegend": false,
         "type": "scatter",
         "x": [
          0,
          1,
          2,
          3,
          4,
          5,
          6,
          7,
          8,
          9,
          10,
          11
         ],
         "xaxis": "x5",
         "y": [
          0.1401422619819641,
          0.41773802042007446,
          0.011131620965898037,
          -0.06745943427085876,
          0.09483517706394196,
          -0.22705504298210144,
          -0.48255980014801025,
          -0.4843219518661499,
          -0.4778430759906769,
          -0.4723888039588928,
          -0.45525047183036804,
          -0.4543899595737457
         ],
         "yaxis": "y5"
        },
        {
         "line": {
          "color": "#9467bd",
          "width": 2
         },
         "name": "Sufficiency",
         "showlegend": false,
         "type": "scatter",
         "x": [
          0,
          1,
          2,
          3,
          4,
          5,
          6,
          7,
          8,
          9,
          10,
          11
         ],
         "xaxis": "x5",
         "y": [
          0,
          0.0041790856048464775,
          0.027145005762577057,
          0.03275879845023155,
          0.0505252443253994,
          0.051247745752334595,
          0.45101848244667053,
          0.7526034116744995,
          0.48839324712753296,
          0.7462775707244873,
          0.7209343314170837,
          0.1296422928571701
         ],
         "yaxis": "y5"
        },
        {
         "line": {
          "color": "#bcbd22",
          "width": 2
         },
         "name": "Necessity",
         "showlegend": false,
         "type": "scatter",
         "x": [
          0,
          1,
          2,
          3,
          4,
          5,
          6,
          7,
          8,
          9,
          10,
          11
         ],
         "xaxis": "x6",
         "y": [
          0.47686678171157837,
          0.7728961110115051,
          0.6264564394950867,
          0.34462833404541016,
          0.37985387444496155,
          -0.22188718616962433,
          -0.3937123417854309,
          -0.3831212818622589,
          -0.3916926980018616,
          -0.42234179377555847,
          -0.4510290324687958,
          -0.4645330607891083
         ],
         "yaxis": "y6"
        },
        {
         "line": {
          "color": "#9467bd",
          "width": 2
         },
         "name": "Sufficiency",
         "showlegend": false,
         "type": "scatter",
         "x": [
          0,
          1,
          2,
          3,
          4,
          5,
          6,
          7,
          8,
          9,
          10,
          11
         ],
         "xaxis": "x6",
         "y": [
          0,
          0.005733235739171505,
          0.012518947012722492,
          0.015191269107162952,
          0.021332085132598877,
          0.021365568041801453,
          0.047252021729946136,
          -0.006836700718849897,
          -0.0845961719751358,
          0.0178607739508152,
          0.0017397351330146194,
          -0.567243218421936
         ],
         "yaxis": "y6"
        },
        {
         "line": {
          "color": "#bcbd22",
          "width": 2
         },
         "name": "Necessity",
         "showlegend": false,
         "type": "scatter",
         "x": [
          0,
          1,
          2,
          3,
          4,
          5,
          6,
          7,
          8,
          9,
          10,
          11
         ],
         "xaxis": "x7",
         "y": [
          0.47686678171157837,
          0.7728961110115051,
          0.6264564394950867,
          0.34462833404541016,
          0.37985387444496155,
          -0.22188718616962433,
          -0.3937123417854309,
          -0.3831212818622589,
          -0.3916926980018616,
          -0.42234179377555847,
          -0.4510290324687958,
          -0.4645330607891083
         ],
         "yaxis": "y7"
        },
        {
         "line": {
          "color": "#9467bd",
          "width": 2
         },
         "name": "Sufficiency",
         "showlegend": false,
         "type": "scatter",
         "x": [
          0,
          1,
          2,
          3,
          4,
          5,
          6,
          7,
          8,
          9,
          10,
          11
         ],
         "xaxis": "x7",
         "y": [
          0,
          0.005733235739171505,
          0.012518947012722492,
          0.015191269107162952,
          0.021332085132598877,
          0.021365568041801453,
          0.047252021729946136,
          -0.006836700718849897,
          -0.0845961719751358,
          0.0178607739508152,
          0.0017397351330146194,
          -0.567243218421936
         ],
         "yaxis": "y7"
        },
        {
         "line": {
          "color": "#bcbd22",
          "width": 2
         },
         "name": "Necessity",
         "showlegend": false,
         "type": "scatter",
         "x": [
          0,
          1,
          2,
          3,
          4,
          5,
          6,
          7,
          8,
          9,
          10,
          11
         ],
         "xaxis": "x8",
         "y": [
          -0.13019761443138123,
          0.011943509802222252,
          -0.6405646800994873,
          -0.6816672682762146,
          -0.5216162204742432,
          -0.9165815114974976,
          -1.2101614475250244,
          -1.2058753967285156,
          -1.1945644617080688,
          -1.1969082355499268,
          -1.1462068557739258,
          -1.1527644395828247
         ],
         "yaxis": "y8"
        },
        {
         "line": {
          "color": "#9467bd",
          "width": 2
         },
         "name": "Sufficiency",
         "showlegend": false,
         "type": "scatter",
         "x": [
          0,
          1,
          2,
          3,
          4,
          5,
          6,
          7,
          8,
          9,
          10,
          11
         ],
         "xaxis": "x8",
         "y": [
          0,
          0.00012194315786473453,
          -0.041341401636600494,
          -0.03713599219918251,
          -0.04541337862610817,
          -0.04256469011306763,
          0.3433607518672943,
          0.9442231059074402,
          0.7096892595291138,
          1.1343108415603638,
          1.378768801689148,
          0.8238618969917297
         ],
         "yaxis": "y8"
        },
        {
         "line": {
          "color": "#bcbd22",
          "width": 2
         },
         "name": "Necessity",
         "showlegend": false,
         "type": "scatter",
         "x": [
          0,
          1,
          2,
          3,
          4,
          5,
          6,
          7,
          8,
          9,
          10,
          11
         ],
         "xaxis": "x9",
         "y": [
          -1.1784191131591797,
          -1.1025948524475098,
          -1.4675495624542236,
          -1.2566723823547363,
          -1.054027795791626,
          -1.304054856300354,
          -1.4070121049880981,
          -1.4171282052993774,
          -1.365226149559021,
          -1.3653881549835205,
          -1.3129127025604248,
          -1.3081002235412598
         ],
         "yaxis": "y9"
        },
        {
         "line": {
          "color": "#9467bd",
          "width": 2
         },
         "name": "Sufficiency",
         "showlegend": false,
         "type": "scatter",
         "x": [
          0,
          1,
          2,
          3,
          4,
          5,
          6,
          7,
          8,
          9,
          10,
          11
         ],
         "xaxis": "x9",
         "y": [
          0,
          -0.00925501249730587,
          -0.06797019392251968,
          -0.07530861347913742,
          -0.12096258997917175,
          -0.11791959404945374,
          -0.0161747969686985,
          0.16514696180820465,
          0.018658164888620377,
          -0.7251088619232178,
          -0.631401002407074,
          -1.0719271898269653
         ],
         "yaxis": "y9"
        },
        {
         "line": {
          "color": "#bcbd22",
          "width": 2
         },
         "name": "Necessity",
         "showlegend": false,
         "type": "scatter",
         "x": [
          0,
          1,
          2,
          3,
          4,
          5,
          6,
          7,
          8,
          9,
          10,
          11
         ],
         "xaxis": "x10",
         "y": [
          -0.5423792600631714,
          -0.4509117305278778,
          -0.43141400814056396,
          -0.4067348539829254,
          -0.32033318281173706,
          -0.22640222311019897,
          -0.35281407833099365,
          -0.3554503321647644,
          -0.3211837112903595,
          -0.3230106830596924,
          -0.2969595491886139,
          -0.2881031930446625
         ],
         "yaxis": "y10"
        },
        {
         "line": {
          "color": "#9467bd",
          "width": 2
         },
         "name": "Sufficiency",
         "showlegend": false,
         "type": "scatter",
         "x": [
          0,
          1,
          2,
          3,
          4,
          5,
          6,
          7,
          8,
          9,
          10,
          11
         ],
         "xaxis": "x10",
         "y": [
          0,
          -0.005699369590729475,
          -0.015290557406842709,
          -0.024090174585580826,
          -0.04386914521455765,
          -0.043094806373119354,
          0.0026913748588413,
          -0.4081214964389801,
          -0.4041208028793335,
          -0.8937801718711853,
          -0.9614574909210205,
          -1.2433795928955078
         ],
         "yaxis": "y10"
        },
        {
         "line": {
          "color": "#bcbd22",
          "width": 2
         },
         "name": "Necessity",
         "showlegend": false,
         "type": "scatter",
         "x": [
          0,
          1,
          2,
          3,
          4,
          5,
          6,
          7,
          8,
          9,
          10,
          11
         ],
         "xaxis": "x11",
         "y": [
          -0.41675233840942383,
          -0.2752847373485565,
          -0.40788429975509644,
          -0.43049028515815735,
          -0.4162239730358124,
          -0.6770771741867065,
          -0.7126359939575195,
          -0.7016542553901672,
          -0.7334128022193909,
          -0.7608820796012878,
          -0.8042435646057129,
          -0.8232945799827576
         ],
         "yaxis": "y11"
        },
        {
         "line": {
          "color": "#9467bd",
          "width": 2
         },
         "name": "Sufficiency",
         "showlegend": false,
         "type": "scatter",
         "x": [
          0,
          1,
          2,
          3,
          4,
          5,
          6,
          7,
          8,
          9,
          10,
          11
         ],
         "xaxis": "x11",
         "y": [
          0,
          0.005912399385124445,
          0.03931069001555443,
          0.04472338408231735,
          0.07857456058263779,
          0.07902690023183823,
          -0.04711121693253517,
          -0.12095854431390762,
          -0.15828090906143188,
          -0.12062700092792511,
          -0.1014995202422142,
          -0.5857270956039429
         ],
         "yaxis": "y11"
        },
        {
         "line": {
          "color": "#bcbd22",
          "width": 2
         },
         "name": "Necessity",
         "showlegend": false,
         "type": "scatter",
         "x": [
          0,
          1,
          2,
          3,
          4,
          5,
          6,
          7,
          8,
          9,
          10,
          11
         ],
         "xaxis": "x12",
         "y": [
          -0.9201867580413818,
          -0.740770161151886,
          -1.3131073713302612,
          -1.3346251249313354,
          -1.1488178968429565,
          -1.3162586688995361,
          -1.4704829454421997,
          -1.4763219356536865,
          -1.4878321886062622,
          -1.492121934890747,
          -1.493128776550293,
          -1.5124660730361938
         ],
         "yaxis": "y12"
        },
        {
         "line": {
          "color": "#9467bd",
          "width": 2
         },
         "name": "Sufficiency",
         "showlegend": false,
         "type": "scatter",
         "x": [
          0,
          1,
          2,
          3,
          4,
          5,
          6,
          7,
          8,
          9,
          10,
          11
         ],
         "xaxis": "x12",
         "y": [
          0,
          0.002812724793329835,
          0.005453851539641619,
          0.005491829011589289,
          0.006368997506797314,
          0.008480686694383621,
          -0.03826344758272171,
          -0.32094138860702515,
          -0.5830010175704956,
          -0.6661692261695862,
          -0.4463382363319397,
          -1.1806427240371704
         ],
         "yaxis": "y12"
        },
        {
         "line": {
          "color": "#bcbd22",
          "width": 2
         },
         "name": "Necessity",
         "showlegend": false,
         "type": "scatter",
         "x": [
          0,
          1,
          2,
          3,
          4,
          5,
          6,
          7,
          8,
          9,
          10,
          11
         ],
         "xaxis": "x13",
         "y": [
          -1.4959050416946411,
          -1.3991241455078125,
          -1.783358097076416,
          -1.6791682243347168,
          -1.3959848880767822,
          -1.6681562662124634,
          -1.5106958150863647,
          -1.5180158615112305,
          -1.5042612552642822,
          -1.4996846914291382,
          -1.4768368005752563,
          -1.4843733310699463
         ],
         "yaxis": "y13"
        },
        {
         "line": {
          "color": "#9467bd",
          "width": 2
         },
         "name": "Sufficiency",
         "showlegend": false,
         "type": "scatter",
         "x": [
          0,
          1,
          2,
          3,
          4,
          5,
          6,
          7,
          8,
          9,
          10,
          11
         ],
         "xaxis": "x13",
         "y": [
          0,
          -0.008782853372395039,
          -0.01970486156642437,
          -0.02330847829580307,
          -0.03278312832117081,
          -0.029199834913015366,
          -0.17561309039592743,
          -0.37950149178504944,
          -0.655191957950592,
          -1.4149800539016724,
          -1.103217601776123,
          -1.5172797441482544
         ],
         "yaxis": "y13"
        },
        {
         "line": {
          "color": "#bcbd22",
          "width": 2
         },
         "name": "Necessity",
         "showlegend": false,
         "type": "scatter",
         "x": [
          0,
          1,
          2,
          3,
          4,
          5,
          6,
          7,
          8,
          9,
          10,
          11
         ],
         "xaxis": "x14",
         "y": [
          -1.505963683128357,
          -1.4408284425735474,
          -1.9819083213806152,
          -1.7614763975143433,
          -1.4663567543029785,
          -1.4779102802276611,
          -1.23365318775177,
          -1.2355897426605225,
          -1.1987138986587524,
          -1.1910862922668457,
          -1.1261205673217773,
          -1.1150603294372559
         ],
         "yaxis": "y14"
        },
        {
         "line": {
          "color": "#9467bd",
          "width": 2
         },
         "name": "Sufficiency",
         "showlegend": false,
         "type": "scatter",
         "x": [
          0,
          1,
          2,
          3,
          4,
          5,
          6,
          7,
          8,
          9,
          10,
          11
         ],
         "xaxis": "x14",
         "y": [
          0,
          -0.015473154373466969,
          -0.10423749685287476,
          -0.11679460853338242,
          -0.1670389622449875,
          -0.16487592458724976,
          -0.6995288729667664,
          -0.9953686594963074,
          -1.3018518686294556,
          -2.2080130577087402,
          -1.601574420928955,
          -1.904473900794983
         ],
         "yaxis": "y14"
        },
        {
         "line": {
          "color": "#bcbd22",
          "width": 2
         },
         "name": "Necessity",
         "showlegend": false,
         "type": "scatter",
         "x": [
          0,
          1,
          2,
          3,
          4,
          5,
          6,
          7,
          8,
          9,
          10,
          11
         ],
         "xaxis": "x15",
         "y": [
          -1.7159478664398193,
          -1.7097456455230713,
          -2.1255292892456055,
          -1.9117578268051147,
          -1.6492658853530884,
          -1.677173376083374,
          -1.7528005838394165,
          -1.7619984149932861,
          -1.7244696617126465,
          -1.7169817686080933,
          -1.65021550655365,
          -1.6429325342178345
         ],
         "yaxis": "y15"
        },
        {
         "line": {
          "color": "#9467bd",
          "width": 2
         },
         "name": "Sufficiency",
         "showlegend": false,
         "type": "scatter",
         "x": [
          0,
          1,
          2,
          3,
          4,
          5,
          6,
          7,
          8,
          9,
          10,
          11
         ],
         "xaxis": "x15",
         "y": [
          0,
          -0.01422764454036951,
          -0.10677196830511093,
          -0.11873824149370193,
          -0.16784866154193878,
          -0.1647750735282898,
          -0.2972783148288727,
          -1.1379209756851196,
          -1.433417797088623,
          -2.517275333404541,
          -2.0082056522369385,
          -2.312124013900757
         ],
         "yaxis": "y15"
        }
       ],
       "layout": {
        "annotations": [
         {
          "font": {
           "size": 16
          },
          "showarrow": false,
          "text": "AII-3",
          "x": 0.08,
          "xanchor": "center",
          "xref": "paper",
          "y": 1,
          "yanchor": "bottom",
          "yref": "paper"
         },
         {
          "font": {
           "size": 16
          },
          "showarrow": false,
          "text": "IAI-3",
          "x": 0.29000000000000004,
          "xanchor": "center",
          "xref": "paper",
          "y": 1,
          "yanchor": "bottom",
          "yref": "paper"
         },
         {
          "font": {
           "size": 16
          },
          "showarrow": false,
          "text": "IAI-4",
          "x": 0.5,
          "xanchor": "center",
          "xref": "paper",
          "y": 1,
          "yanchor": "bottom",
          "yref": "paper"
         },
         {
          "font": {
           "size": 16
          },
          "showarrow": false,
          "text": "AAA-1",
          "x": 0.71,
          "xanchor": "center",
          "xref": "paper",
          "y": 1,
          "yanchor": "bottom",
          "yref": "paper"
         },
         {
          "font": {
           "size": 16
          },
          "showarrow": false,
          "text": "EAE-1",
          "x": 0.92,
          "xanchor": "center",
          "xref": "paper",
          "y": 1,
          "yanchor": "bottom",
          "yref": "paper"
         },
         {
          "font": {
           "size": 16
          },
          "showarrow": false,
          "text": "EIO-4",
          "x": 0.08,
          "xanchor": "center",
          "xref": "paper",
          "y": 0.6499999999999999,
          "yanchor": "bottom",
          "yref": "paper"
         },
         {
          "font": {
           "size": 16
          },
          "showarrow": false,
          "text": "EIO-3",
          "x": 0.29000000000000004,
          "xanchor": "center",
          "xref": "paper",
          "y": 0.6499999999999999,
          "yanchor": "bottom",
          "yref": "paper"
         },
         {
          "font": {
           "size": 16
          },
          "showarrow": false,
          "text": "AII-1",
          "x": 0.5,
          "xanchor": "center",
          "xref": "paper",
          "y": 0.6499999999999999,
          "yanchor": "bottom",
          "yref": "paper"
         },
         {
          "font": {
           "size": 16
          },
          "showarrow": false,
          "text": "AOO-2",
          "x": 0.71,
          "xanchor": "center",
          "xref": "paper",
          "y": 0.6499999999999999,
          "yanchor": "bottom",
          "yref": "paper"
         },
         {
          "font": {
           "size": 16
          },
          "showarrow": false,
          "text": "AEE-4",
          "x": 0.92,
          "xanchor": "center",
          "xref": "paper",
          "y": 0.6499999999999999,
          "yanchor": "bottom",
          "yref": "paper"
         },
         {
          "font": {
           "size": 16
          },
          "showarrow": false,
          "text": "OAO-3",
          "x": 0.08,
          "xanchor": "center",
          "xref": "paper",
          "y": 0.3,
          "yanchor": "bottom",
          "yref": "paper"
         },
         {
          "font": {
           "size": 16
          },
          "showarrow": false,
          "text": "EIO-1",
          "x": 0.29000000000000004,
          "xanchor": "center",
          "xref": "paper",
          "y": 0.3,
          "yanchor": "bottom",
          "yref": "paper"
         },
         {
          "font": {
           "size": 16
          },
          "showarrow": false,
          "text": "EIO-2",
          "x": 0.5,
          "xanchor": "center",
          "xref": "paper",
          "y": 0.3,
          "yanchor": "bottom",
          "yref": "paper"
         },
         {
          "font": {
           "size": 16
          },
          "showarrow": false,
          "text": "EAE-2",
          "x": 0.71,
          "xanchor": "center",
          "xref": "paper",
          "y": 0.3,
          "yanchor": "bottom",
          "yref": "paper"
         },
         {
          "font": {
           "size": 16
          },
          "showarrow": false,
          "text": "AEE-2",
          "x": 0.92,
          "xanchor": "center",
          "xref": "paper",
          "y": 0.3,
          "yanchor": "bottom",
          "yref": "paper"
         }
        ],
        "font": {
         "family": "Arial",
         "size": 20
        },
        "height": 800,
        "legend": {
         "font": {
          "size": 20
         },
         "orientation": "h",
         "x": 0.5,
         "xanchor": "center",
         "y": -0.2,
         "yanchor": "bottom"
        },
        "plot_bgcolor": "white",
        "shapes": [
         {
          "line": {
           "color": "#000000",
           "dash": "dash",
           "width": 1
          },
          "name": "Baseline",
          "type": "line",
          "x0": 0,
          "x1": 1,
          "xref": "x domain",
          "y0": 0.9720456600189209,
          "y1": 0.9720456600189209,
          "yref": "y"
         },
         {
          "line": {
           "color": "#000000",
           "dash": "dash",
           "width": 1
          },
          "type": "line",
          "x0": 0,
          "x1": 1,
          "xref": "x2 domain",
          "y0": 0.4753333330154419,
          "y1": 0.4753333330154419,
          "yref": "y2"
         },
         {
          "line": {
           "color": "#000000",
           "dash": "dash",
           "width": 1
          },
          "type": "line",
          "x0": 0,
          "x1": 1,
          "xref": "x3 domain",
          "y0": 0.4753333330154419,
          "y1": 0.4753333330154419,
          "yref": "y3"
         },
         {
          "line": {
           "color": "#000000",
           "dash": "dash",
           "width": 1
          },
          "type": "line",
          "x0": 0,
          "x1": 1,
          "xref": "x4 domain",
          "y0": 0.316963255405426,
          "y1": 0.316963255405426,
          "yref": "y4"
         },
         {
          "line": {
           "color": "#000000",
           "dash": "dash",
           "width": 1
          },
          "type": "line",
          "x0": 0,
          "x1": 1,
          "xref": "x5 domain",
          "y0": 0.1401422619819641,
          "y1": 0.1401422619819641,
          "yref": "y5"
         },
         {
          "line": {
           "color": "#000000",
           "dash": "dash",
           "width": 1
          },
          "type": "line",
          "x0": 0,
          "x1": 1,
          "xref": "x6 domain",
          "y0": 0.47686678171157837,
          "y1": 0.47686678171157837,
          "yref": "y6"
         },
         {
          "line": {
           "color": "#000000",
           "dash": "dash",
           "width": 1
          },
          "type": "line",
          "x0": 0,
          "x1": 1,
          "xref": "x7 domain",
          "y0": 0.47686678171157837,
          "y1": 0.47686678171157837,
          "yref": "y7"
         },
         {
          "line": {
           "color": "#000000",
           "dash": "dash",
           "width": 1
          },
          "type": "line",
          "x0": 0,
          "x1": 1,
          "xref": "x8 domain",
          "y0": -0.13019761443138123,
          "y1": -0.13019761443138123,
          "yref": "y8"
         },
         {
          "line": {
           "color": "#000000",
           "dash": "dash",
           "width": 1
          },
          "type": "line",
          "x0": 0,
          "x1": 1,
          "xref": "x9 domain",
          "y0": -1.1784191131591797,
          "y1": -1.1784191131591797,
          "yref": "y9"
         },
         {
          "line": {
           "color": "#000000",
           "dash": "dash",
           "width": 1
          },
          "type": "line",
          "x0": 0,
          "x1": 1,
          "xref": "x10 domain",
          "y0": -0.5423792600631714,
          "y1": -0.5423792600631714,
          "yref": "y10"
         },
         {
          "line": {
           "color": "#000000",
           "dash": "dash",
           "width": 1
          },
          "type": "line",
          "x0": 0,
          "x1": 1,
          "xref": "x11 domain",
          "y0": -0.41675233840942383,
          "y1": -0.41675233840942383,
          "yref": "y11"
         },
         {
          "line": {
           "color": "#000000",
           "dash": "dash",
           "width": 1
          },
          "type": "line",
          "x0": 0,
          "x1": 1,
          "xref": "x12 domain",
          "y0": -0.9201867580413818,
          "y1": -0.9201867580413818,
          "yref": "y12"
         },
         {
          "line": {
           "color": "#000000",
           "dash": "dash",
           "width": 1
          },
          "type": "line",
          "x0": 0,
          "x1": 1,
          "xref": "x13 domain",
          "y0": -1.4959050416946411,
          "y1": -1.4959050416946411,
          "yref": "y13"
         },
         {
          "line": {
           "color": "#000000",
           "dash": "dash",
           "width": 1
          },
          "type": "line",
          "x0": 0,
          "x1": 1,
          "xref": "x14 domain",
          "y0": -1.505963683128357,
          "y1": -1.505963683128357,
          "yref": "y14"
         },
         {
          "line": {
           "color": "#000000",
           "dash": "dash",
           "width": 1
          },
          "type": "line",
          "x0": 0,
          "x1": 1,
          "xref": "x15 domain",
          "y0": -1.7159478664398193,
          "y1": -1.7159478664398193,
          "yref": "y15"
         }
        ],
        "template": {
         "data": {
          "bar": [
           {
            "error_x": {
             "color": "#2a3f5f"
            },
            "error_y": {
             "color": "#2a3f5f"
            },
            "marker": {
             "line": {
              "color": "#E5ECF6",
              "width": 0.5
             },
             "pattern": {
              "fillmode": "overlay",
              "size": 10,
              "solidity": 0.2
             }
            },
            "type": "bar"
           }
          ],
          "barpolar": [
           {
            "marker": {
             "line": {
              "color": "#E5ECF6",
              "width": 0.5
             },
             "pattern": {
              "fillmode": "overlay",
              "size": 10,
              "solidity": 0.2
             }
            },
            "type": "barpolar"
           }
          ],
          "carpet": [
           {
            "aaxis": {
             "endlinecolor": "#2a3f5f",
             "gridcolor": "white",
             "linecolor": "white",
             "minorgridcolor": "white",
             "startlinecolor": "#2a3f5f"
            },
            "baxis": {
             "endlinecolor": "#2a3f5f",
             "gridcolor": "white",
             "linecolor": "white",
             "minorgridcolor": "white",
             "startlinecolor": "#2a3f5f"
            },
            "type": "carpet"
           }
          ],
          "choropleth": [
           {
            "colorbar": {
             "outlinewidth": 0,
             "ticks": ""
            },
            "type": "choropleth"
           }
          ],
          "contour": [
           {
            "colorbar": {
             "outlinewidth": 0,
             "ticks": ""
            },
            "colorscale": [
             [
              0,
              "#0d0887"
             ],
             [
              0.1111111111111111,
              "#46039f"
             ],
             [
              0.2222222222222222,
              "#7201a8"
             ],
             [
              0.3333333333333333,
              "#9c179e"
             ],
             [
              0.4444444444444444,
              "#bd3786"
             ],
             [
              0.5555555555555556,
              "#d8576b"
             ],
             [
              0.6666666666666666,
              "#ed7953"
             ],
             [
              0.7777777777777778,
              "#fb9f3a"
             ],
             [
              0.8888888888888888,
              "#fdca26"
             ],
             [
              1,
              "#f0f921"
             ]
            ],
            "type": "contour"
           }
          ],
          "contourcarpet": [
           {
            "colorbar": {
             "outlinewidth": 0,
             "ticks": ""
            },
            "type": "contourcarpet"
           }
          ],
          "heatmap": [
           {
            "colorbar": {
             "outlinewidth": 0,
             "ticks": ""
            },
            "colorscale": [
             [
              0,
              "#0d0887"
             ],
             [
              0.1111111111111111,
              "#46039f"
             ],
             [
              0.2222222222222222,
              "#7201a8"
             ],
             [
              0.3333333333333333,
              "#9c179e"
             ],
             [
              0.4444444444444444,
              "#bd3786"
             ],
             [
              0.5555555555555556,
              "#d8576b"
             ],
             [
              0.6666666666666666,
              "#ed7953"
             ],
             [
              0.7777777777777778,
              "#fb9f3a"
             ],
             [
              0.8888888888888888,
              "#fdca26"
             ],
             [
              1,
              "#f0f921"
             ]
            ],
            "type": "heatmap"
           }
          ],
          "heatmapgl": [
           {
            "colorbar": {
             "outlinewidth": 0,
             "ticks": ""
            },
            "colorscale": [
             [
              0,
              "#0d0887"
             ],
             [
              0.1111111111111111,
              "#46039f"
             ],
             [
              0.2222222222222222,
              "#7201a8"
             ],
             [
              0.3333333333333333,
              "#9c179e"
             ],
             [
              0.4444444444444444,
              "#bd3786"
             ],
             [
              0.5555555555555556,
              "#d8576b"
             ],
             [
              0.6666666666666666,
              "#ed7953"
             ],
             [
              0.7777777777777778,
              "#fb9f3a"
             ],
             [
              0.8888888888888888,
              "#fdca26"
             ],
             [
              1,
              "#f0f921"
             ]
            ],
            "type": "heatmapgl"
           }
          ],
          "histogram": [
           {
            "marker": {
             "pattern": {
              "fillmode": "overlay",
              "size": 10,
              "solidity": 0.2
             }
            },
            "type": "histogram"
           }
          ],
          "histogram2d": [
           {
            "colorbar": {
             "outlinewidth": 0,
             "ticks": ""
            },
            "colorscale": [
             [
              0,
              "#0d0887"
             ],
             [
              0.1111111111111111,
              "#46039f"
             ],
             [
              0.2222222222222222,
              "#7201a8"
             ],
             [
              0.3333333333333333,
              "#9c179e"
             ],
             [
              0.4444444444444444,
              "#bd3786"
             ],
             [
              0.5555555555555556,
              "#d8576b"
             ],
             [
              0.6666666666666666,
              "#ed7953"
             ],
             [
              0.7777777777777778,
              "#fb9f3a"
             ],
             [
              0.8888888888888888,
              "#fdca26"
             ],
             [
              1,
              "#f0f921"
             ]
            ],
            "type": "histogram2d"
           }
          ],
          "histogram2dcontour": [
           {
            "colorbar": {
             "outlinewidth": 0,
             "ticks": ""
            },
            "colorscale": [
             [
              0,
              "#0d0887"
             ],
             [
              0.1111111111111111,
              "#46039f"
             ],
             [
              0.2222222222222222,
              "#7201a8"
             ],
             [
              0.3333333333333333,
              "#9c179e"
             ],
             [
              0.4444444444444444,
              "#bd3786"
             ],
             [
              0.5555555555555556,
              "#d8576b"
             ],
             [
              0.6666666666666666,
              "#ed7953"
             ],
             [
              0.7777777777777778,
              "#fb9f3a"
             ],
             [
              0.8888888888888888,
              "#fdca26"
             ],
             [
              1,
              "#f0f921"
             ]
            ],
            "type": "histogram2dcontour"
           }
          ],
          "mesh3d": [
           {
            "colorbar": {
             "outlinewidth": 0,
             "ticks": ""
            },
            "type": "mesh3d"
           }
          ],
          "parcoords": [
           {
            "line": {
             "colorbar": {
              "outlinewidth": 0,
              "ticks": ""
             }
            },
            "type": "parcoords"
           }
          ],
          "pie": [
           {
            "automargin": true,
            "type": "pie"
           }
          ],
          "scatter": [
           {
            "fillpattern": {
             "fillmode": "overlay",
             "size": 10,
             "solidity": 0.2
            },
            "type": "scatter"
           }
          ],
          "scatter3d": [
           {
            "line": {
             "colorbar": {
              "outlinewidth": 0,
              "ticks": ""
             }
            },
            "marker": {
             "colorbar": {
              "outlinewidth": 0,
              "ticks": ""
             }
            },
            "type": "scatter3d"
           }
          ],
          "scattercarpet": [
           {
            "marker": {
             "colorbar": {
              "outlinewidth": 0,
              "ticks": ""
             }
            },
            "type": "scattercarpet"
           }
          ],
          "scattergeo": [
           {
            "marker": {
             "colorbar": {
              "outlinewidth": 0,
              "ticks": ""
             }
            },
            "type": "scattergeo"
           }
          ],
          "scattergl": [
           {
            "marker": {
             "colorbar": {
              "outlinewidth": 0,
              "ticks": ""
             }
            },
            "type": "scattergl"
           }
          ],
          "scattermapbox": [
           {
            "marker": {
             "colorbar": {
              "outlinewidth": 0,
              "ticks": ""
             }
            },
            "type": "scattermapbox"
           }
          ],
          "scatterpolar": [
           {
            "marker": {
             "colorbar": {
              "outlinewidth": 0,
              "ticks": ""
             }
            },
            "type": "scatterpolar"
           }
          ],
          "scatterpolargl": [
           {
            "marker": {
             "colorbar": {
              "outlinewidth": 0,
              "ticks": ""
             }
            },
            "type": "scatterpolargl"
           }
          ],
          "scatterternary": [
           {
            "marker": {
             "colorbar": {
              "outlinewidth": 0,
              "ticks": ""
             }
            },
            "type": "scatterternary"
           }
          ],
          "surface": [
           {
            "colorbar": {
             "outlinewidth": 0,
             "ticks": ""
            },
            "colorscale": [
             [
              0,
              "#0d0887"
             ],
             [
              0.1111111111111111,
              "#46039f"
             ],
             [
              0.2222222222222222,
              "#7201a8"
             ],
             [
              0.3333333333333333,
              "#9c179e"
             ],
             [
              0.4444444444444444,
              "#bd3786"
             ],
             [
              0.5555555555555556,
              "#d8576b"
             ],
             [
              0.6666666666666666,
              "#ed7953"
             ],
             [
              0.7777777777777778,
              "#fb9f3a"
             ],
             [
              0.8888888888888888,
              "#fdca26"
             ],
             [
              1,
              "#f0f921"
             ]
            ],
            "type": "surface"
           }
          ],
          "table": [
           {
            "cells": {
             "fill": {
              "color": "#EBF0F8"
             },
             "line": {
              "color": "white"
             }
            },
            "header": {
             "fill": {
              "color": "#C8D4E3"
             },
             "line": {
              "color": "white"
             }
            },
            "type": "table"
           }
          ]
         },
         "layout": {
          "annotationdefaults": {
           "arrowcolor": "#2a3f5f",
           "arrowhead": 0,
           "arrowwidth": 1
          },
          "autotypenumbers": "strict",
          "coloraxis": {
           "colorbar": {
            "outlinewidth": 0,
            "ticks": ""
           }
          },
          "colorscale": {
           "diverging": [
            [
             0,
             "#8e0152"
            ],
            [
             0.1,
             "#c51b7d"
            ],
            [
             0.2,
             "#de77ae"
            ],
            [
             0.3,
             "#f1b6da"
            ],
            [
             0.4,
             "#fde0ef"
            ],
            [
             0.5,
             "#f7f7f7"
            ],
            [
             0.6,
             "#e6f5d0"
            ],
            [
             0.7,
             "#b8e186"
            ],
            [
             0.8,
             "#7fbc41"
            ],
            [
             0.9,
             "#4d9221"
            ],
            [
             1,
             "#276419"
            ]
           ],
           "sequential": [
            [
             0,
             "#0d0887"
            ],
            [
             0.1111111111111111,
             "#46039f"
            ],
            [
             0.2222222222222222,
             "#7201a8"
            ],
            [
             0.3333333333333333,
             "#9c179e"
            ],
            [
             0.4444444444444444,
             "#bd3786"
            ],
            [
             0.5555555555555556,
             "#d8576b"
            ],
            [
             0.6666666666666666,
             "#ed7953"
            ],
            [
             0.7777777777777778,
             "#fb9f3a"
            ],
            [
             0.8888888888888888,
             "#fdca26"
            ],
            [
             1,
             "#f0f921"
            ]
           ],
           "sequentialminus": [
            [
             0,
             "#0d0887"
            ],
            [
             0.1111111111111111,
             "#46039f"
            ],
            [
             0.2222222222222222,
             "#7201a8"
            ],
            [
             0.3333333333333333,
             "#9c179e"
            ],
            [
             0.4444444444444444,
             "#bd3786"
            ],
            [
             0.5555555555555556,
             "#d8576b"
            ],
            [
             0.6666666666666666,
             "#ed7953"
            ],
            [
             0.7777777777777778,
             "#fb9f3a"
            ],
            [
             0.8888888888888888,
             "#fdca26"
            ],
            [
             1,
             "#f0f921"
            ]
           ]
          },
          "colorway": [
           "#636efa",
           "#EF553B",
           "#00cc96",
           "#ab63fa",
           "#FFA15A",
           "#19d3f3",
           "#FF6692",
           "#B6E880",
           "#FF97FF",
           "#FECB52"
          ],
          "font": {
           "color": "#2a3f5f"
          },
          "geo": {
           "bgcolor": "white",
           "lakecolor": "white",
           "landcolor": "#E5ECF6",
           "showlakes": true,
           "showland": true,
           "subunitcolor": "white"
          },
          "hoverlabel": {
           "align": "left"
          },
          "hovermode": "closest",
          "mapbox": {
           "style": "light"
          },
          "paper_bgcolor": "white",
          "plot_bgcolor": "#E5ECF6",
          "polar": {
           "angularaxis": {
            "gridcolor": "white",
            "linecolor": "white",
            "ticks": ""
           },
           "bgcolor": "#E5ECF6",
           "radialaxis": {
            "gridcolor": "white",
            "linecolor": "white",
            "ticks": ""
           }
          },
          "scene": {
           "xaxis": {
            "backgroundcolor": "#E5ECF6",
            "gridcolor": "white",
            "gridwidth": 2,
            "linecolor": "white",
            "showbackground": true,
            "ticks": "",
            "zerolinecolor": "white"
           },
           "yaxis": {
            "backgroundcolor": "#E5ECF6",
            "gridcolor": "white",
            "gridwidth": 2,
            "linecolor": "white",
            "showbackground": true,
            "ticks": "",
            "zerolinecolor": "white"
           },
           "zaxis": {
            "backgroundcolor": "#E5ECF6",
            "gridcolor": "white",
            "gridwidth": 2,
            "linecolor": "white",
            "showbackground": true,
            "ticks": "",
            "zerolinecolor": "white"
           }
          },
          "shapedefaults": {
           "line": {
            "color": "#2a3f5f"
           }
          },
          "ternary": {
           "aaxis": {
            "gridcolor": "white",
            "linecolor": "white",
            "ticks": ""
           },
           "baxis": {
            "gridcolor": "white",
            "linecolor": "white",
            "ticks": ""
           },
           "bgcolor": "#E5ECF6",
           "caxis": {
            "gridcolor": "white",
            "linecolor": "white",
            "ticks": ""
           }
          },
          "title": {
           "x": 0.05
          },
          "xaxis": {
           "automargin": true,
           "gridcolor": "white",
           "linecolor": "white",
           "ticks": "",
           "title": {
            "standoff": 15
           },
           "zerolinecolor": "white",
           "zerolinewidth": 2
          },
          "yaxis": {
           "automargin": true,
           "gridcolor": "white",
           "linecolor": "white",
           "ticks": "",
           "title": {
            "standoff": 15
           },
           "zerolinecolor": "white",
           "zerolinewidth": 2
          }
         }
        },
        "title": {
         "font": {
          "size": 24
         },
         "text": "",
         "x": 0.5,
         "xanchor": "center"
        },
        "width": 1000,
        "xaxis": {
         "anchor": "y",
         "domain": [
          0,
          0.16
         ],
         "dtick": 5,
         "linecolor": "black",
         "linewidth": 1,
         "matches": "x11",
         "mirror": true,
         "showline": true,
         "showticklabels": false,
         "tickfont": {
          "size": 12
         },
         "tickmode": "linear",
         "title": {
          "font": {
           "size": 14
          }
         }
        },
        "xaxis10": {
         "anchor": "y10",
         "domain": [
          0.8400000000000001,
          1
         ],
         "dtick": 5,
         "linecolor": "black",
         "linewidth": 1,
         "matches": "x15",
         "mirror": true,
         "showline": true,
         "showticklabels": false,
         "tickfont": {
          "size": 12
         },
         "tickmode": "linear",
         "title": {
          "font": {
           "size": 14
          }
         }
        },
        "xaxis11": {
         "anchor": "y11",
         "domain": [
          0,
          0.16
         ],
         "dtick": 5,
         "linecolor": "black",
         "linewidth": 1,
         "mirror": true,
         "showline": true,
         "tickfont": {
          "size": 12
         },
         "tickmode": "linear",
         "title": {
          "font": {
           "size": 14
          },
          "text": "Ablated (Added) Heads"
         }
        },
        "xaxis12": {
         "anchor": "y12",
         "domain": [
          0.21000000000000002,
          0.37
         ],
         "dtick": 5,
         "linecolor": "black",
         "linewidth": 1,
         "mirror": true,
         "showline": true,
         "tickfont": {
          "size": 12
         },
         "tickmode": "linear",
         "title": {
          "font": {
           "size": 14
          },
          "text": "Ablated (Added) Heads"
         }
        },
        "xaxis13": {
         "anchor": "y13",
         "domain": [
          0.42000000000000004,
          0.5800000000000001
         ],
         "dtick": 5,
         "linecolor": "black",
         "linewidth": 1,
         "mirror": true,
         "showline": true,
         "tickfont": {
          "size": 12
         },
         "tickmode": "linear",
         "title": {
          "font": {
           "size": 14
          },
          "text": "Ablated (Added) Heads"
         }
        },
        "xaxis14": {
         "anchor": "y14",
         "domain": [
          0.63,
          0.79
         ],
         "dtick": 5,
         "linecolor": "black",
         "linewidth": 1,
         "mirror": true,
         "showline": true,
         "tickfont": {
          "size": 12
         },
         "tickmode": "linear",
         "title": {
          "font": {
           "size": 14
          },
          "text": "Ablated (Added) Heads"
         }
        },
        "xaxis15": {
         "anchor": "y15",
         "domain": [
          0.8400000000000001,
          1
         ],
         "dtick": 5,
         "linecolor": "black",
         "linewidth": 1,
         "mirror": true,
         "showline": true,
         "tickfont": {
          "size": 12
         },
         "tickmode": "linear",
         "title": {
          "font": {
           "size": 14
          },
          "text": "Ablated (Added) Heads"
         }
        },
        "xaxis2": {
         "anchor": "y2",
         "domain": [
          0.21000000000000002,
          0.37
         ],
         "dtick": 5,
         "linecolor": "black",
         "linewidth": 1,
         "matches": "x12",
         "mirror": true,
         "showline": true,
         "showticklabels": false,
         "tickfont": {
          "size": 12
         },
         "tickmode": "linear",
         "title": {
          "font": {
           "size": 14
          }
         }
        },
        "xaxis3": {
         "anchor": "y3",
         "domain": [
          0.42000000000000004,
          0.5800000000000001
         ],
         "dtick": 5,
         "linecolor": "black",
         "linewidth": 1,
         "matches": "x13",
         "mirror": true,
         "showline": true,
         "showticklabels": false,
         "tickfont": {
          "size": 12
         },
         "tickmode": "linear",
         "title": {
          "font": {
           "size": 14
          }
         }
        },
        "xaxis4": {
         "anchor": "y4",
         "domain": [
          0.63,
          0.79
         ],
         "dtick": 5,
         "linecolor": "black",
         "linewidth": 1,
         "matches": "x14",
         "mirror": true,
         "showline": true,
         "showticklabels": false,
         "tickfont": {
          "size": 12
         },
         "tickmode": "linear",
         "title": {
          "font": {
           "size": 14
          }
         }
        },
        "xaxis5": {
         "anchor": "y5",
         "domain": [
          0.8400000000000001,
          1
         ],
         "dtick": 5,
         "linecolor": "black",
         "linewidth": 1,
         "matches": "x15",
         "mirror": true,
         "showline": true,
         "showticklabels": false,
         "tickfont": {
          "size": 12
         },
         "tickmode": "linear",
         "title": {
          "font": {
           "size": 14
          }
         }
        },
        "xaxis6": {
         "anchor": "y6",
         "domain": [
          0,
          0.16
         ],
         "dtick": 5,
         "linecolor": "black",
         "linewidth": 1,
         "matches": "x11",
         "mirror": true,
         "showline": true,
         "showticklabels": false,
         "tickfont": {
          "size": 12
         },
         "tickmode": "linear",
         "title": {
          "font": {
           "size": 14
          }
         }
        },
        "xaxis7": {
         "anchor": "y7",
         "domain": [
          0.21000000000000002,
          0.37
         ],
         "dtick": 5,
         "linecolor": "black",
         "linewidth": 1,
         "matches": "x12",
         "mirror": true,
         "showline": true,
         "showticklabels": false,
         "tickfont": {
          "size": 12
         },
         "tickmode": "linear",
         "title": {
          "font": {
           "size": 14
          }
         }
        },
        "xaxis8": {
         "anchor": "y8",
         "domain": [
          0.42000000000000004,
          0.5800000000000001
         ],
         "dtick": 5,
         "linecolor": "black",
         "linewidth": 1,
         "matches": "x13",
         "mirror": true,
         "showline": true,
         "showticklabels": false,
         "tickfont": {
          "size": 12
         },
         "tickmode": "linear",
         "title": {
          "font": {
           "size": 14
          }
         }
        },
        "xaxis9": {
         "anchor": "y9",
         "domain": [
          0.63,
          0.79
         ],
         "dtick": 5,
         "linecolor": "black",
         "linewidth": 1,
         "matches": "x14",
         "mirror": true,
         "showline": true,
         "showticklabels": false,
         "tickfont": {
          "size": 12
         },
         "tickmode": "linear",
         "title": {
          "font": {
           "size": 14
          }
         }
        },
        "yaxis": {
         "anchor": "x",
         "domain": [
          0.7,
          1
         ],
         "linecolor": "black",
         "linewidth": 1,
         "mirror": true,
         "showline": true,
         "tickfont": {
          "size": 12
         },
         "title": {
          "font": {
           "size": 14
          }
         }
        },
        "yaxis10": {
         "anchor": "x10",
         "domain": [
          0.35,
          0.6499999999999999
         ],
         "linecolor": "black",
         "linewidth": 1,
         "matches": "y6",
         "mirror": true,
         "showline": true,
         "showticklabels": false,
         "tickfont": {
          "size": 12
         },
         "title": {
          "font": {
           "size": 14
          },
          "text": "Mean Scores"
         }
        },
        "yaxis11": {
         "anchor": "x11",
         "domain": [
          0,
          0.3
         ],
         "linecolor": "black",
         "linewidth": 1,
         "mirror": true,
         "showline": true,
         "tickfont": {
          "size": 12
         },
         "title": {
          "font": {
           "size": 14
          }
         }
        },
        "yaxis12": {
         "anchor": "x12",
         "domain": [
          0,
          0.3
         ],
         "linecolor": "black",
         "linewidth": 1,
         "matches": "y11",
         "mirror": true,
         "showline": true,
         "showticklabels": false,
         "tickfont": {
          "size": 12
         },
         "title": {
          "font": {
           "size": 14
          }
         }
        },
        "yaxis13": {
         "anchor": "x13",
         "domain": [
          0,
          0.3
         ],
         "linecolor": "black",
         "linewidth": 1,
         "matches": "y11",
         "mirror": true,
         "showline": true,
         "showticklabels": false,
         "tickfont": {
          "size": 12
         },
         "title": {
          "font": {
           "size": 14
          }
         }
        },
        "yaxis14": {
         "anchor": "x14",
         "domain": [
          0,
          0.3
         ],
         "linecolor": "black",
         "linewidth": 1,
         "matches": "y11",
         "mirror": true,
         "showline": true,
         "showticklabels": false,
         "tickfont": {
          "size": 12
         },
         "title": {
          "font": {
           "size": 14
          }
         }
        },
        "yaxis15": {
         "anchor": "x15",
         "domain": [
          0,
          0.3
         ],
         "linecolor": "black",
         "linewidth": 1,
         "matches": "y11",
         "mirror": true,
         "showline": true,
         "showticklabels": false,
         "tickfont": {
          "size": 12
         },
         "title": {
          "font": {
           "size": 14
          },
          "text": "Mean Scores"
         }
        },
        "yaxis2": {
         "anchor": "x2",
         "domain": [
          0.7,
          1
         ],
         "linecolor": "black",
         "linewidth": 1,
         "matches": "y",
         "mirror": true,
         "showline": true,
         "showticklabels": false,
         "tickfont": {
          "size": 12
         },
         "title": {
          "font": {
           "size": 14
          }
         }
        },
        "yaxis3": {
         "anchor": "x3",
         "domain": [
          0.7,
          1
         ],
         "linecolor": "black",
         "linewidth": 1,
         "matches": "y",
         "mirror": true,
         "showline": true,
         "showticklabels": false,
         "tickfont": {
          "size": 12
         },
         "title": {
          "font": {
           "size": 14
          }
         }
        },
        "yaxis4": {
         "anchor": "x4",
         "domain": [
          0.7,
          1
         ],
         "linecolor": "black",
         "linewidth": 1,
         "matches": "y",
         "mirror": true,
         "showline": true,
         "showticklabels": false,
         "tickfont": {
          "size": 12
         },
         "title": {
          "font": {
           "size": 14
          }
         }
        },
        "yaxis5": {
         "anchor": "x5",
         "domain": [
          0.7,
          1
         ],
         "linecolor": "black",
         "linewidth": 1,
         "matches": "y",
         "mirror": true,
         "showline": true,
         "showticklabels": false,
         "tickfont": {
          "size": 12
         },
         "title": {
          "font": {
           "size": 14
          },
          "text": "Mean Scores"
         }
        },
        "yaxis6": {
         "anchor": "x6",
         "domain": [
          0.35,
          0.6499999999999999
         ],
         "linecolor": "black",
         "linewidth": 1,
         "mirror": true,
         "showline": true,
         "tickfont": {
          "size": 12
         },
         "title": {
          "font": {
           "size": 14
          }
         }
        },
        "yaxis7": {
         "anchor": "x7",
         "domain": [
          0.35,
          0.6499999999999999
         ],
         "linecolor": "black",
         "linewidth": 1,
         "matches": "y6",
         "mirror": true,
         "showline": true,
         "showticklabels": false,
         "tickfont": {
          "size": 12
         },
         "title": {
          "font": {
           "size": 14
          }
         }
        },
        "yaxis8": {
         "anchor": "x8",
         "domain": [
          0.35,
          0.6499999999999999
         ],
         "linecolor": "black",
         "linewidth": 1,
         "matches": "y6",
         "mirror": true,
         "showline": true,
         "showticklabels": false,
         "tickfont": {
          "size": 12
         },
         "title": {
          "font": {
           "size": 14
          }
         }
        },
        "yaxis9": {
         "anchor": "x9",
         "domain": [
          0.35,
          0.6499999999999999
         ],
         "linecolor": "black",
         "linewidth": 1,
         "matches": "y6",
         "mirror": true,
         "showline": true,
         "showticklabels": false,
         "tickfont": {
          "size": 12
         },
         "title": {
          "font": {
           "size": 14
          }
         }
        }
       }
      }
     },
     "metadata": {},
     "output_type": "display_data"
    }
   ],
   "source": [
    "pu.plot_ablation_syllogisms(mood_dics = mood_dics, save_path=image_dir / \"syllogism_ablation.png\", title=\"\",)"
   ]
  },
  {
   "cell_type": "code",
   "execution_count": null,
   "metadata": {},
   "outputs": [],
   "source": []
  }
 ],
 "metadata": {
  "accelerator": "GPU",
  "colab": {
   "gpuType": "L4",
   "machine_shape": "hm",
   "provenance": []
  },
  "kernelspec": {
   "display_name": "mechsyllogism",
   "language": "python",
   "name": "python3"
  },
  "language_info": {
   "codemirror_mode": {
    "name": "ipython",
    "version": 3
   },
   "file_extension": ".py",
   "mimetype": "text/x-python",
   "name": "python",
   "nbconvert_exporter": "python",
   "pygments_lexer": "ipython3",
   "version": "3.9.21"
  },
  "widgets": {
   "application/vnd.jupyter.widget-state+json": {
    "04ef4130edac4e19805114902c6f047d": {
     "model_module": "@jupyter-widgets/controls",
     "model_module_version": "1.5.0",
     "model_name": "DescriptionStyleModel",
     "state": {
      "_model_module": "@jupyter-widgets/controls",
      "_model_module_version": "1.5.0",
      "_model_name": "DescriptionStyleModel",
      "_view_count": null,
      "_view_module": "@jupyter-widgets/base",
      "_view_module_version": "1.2.0",
      "_view_name": "StyleView",
      "description_width": ""
     }
    },
    "0549de5fea7f43c5bae919e42514e88f": {
     "model_module": "@jupyter-widgets/controls",
     "model_module_version": "1.5.0",
     "model_name": "DescriptionStyleModel",
     "state": {
      "_model_module": "@jupyter-widgets/controls",
      "_model_module_version": "1.5.0",
      "_model_name": "DescriptionStyleModel",
      "_view_count": null,
      "_view_module": "@jupyter-widgets/base",
      "_view_module_version": "1.2.0",
      "_view_name": "StyleView",
      "description_width": ""
     }
    },
    "0a5ac1ac6c55452783252a7a5b3665eb": {
     "model_module": "@jupyter-widgets/controls",
     "model_module_version": "1.5.0",
     "model_name": "HTMLModel",
     "state": {
      "_dom_classes": [],
      "_model_module": "@jupyter-widgets/controls",
      "_model_module_version": "1.5.0",
      "_model_name": "HTMLModel",
      "_view_count": null,
      "_view_module": "@jupyter-widgets/controls",
      "_view_module_version": "1.5.0",
      "_view_name": "HTMLView",
      "description": "",
      "description_tooltip": null,
      "layout": "IPY_MODEL_7489ebacd06f46d8a81396c503e86db7",
      "placeholder": "​",
      "style": "IPY_MODEL_04ef4130edac4e19805114902c6f047d",
      "value": " 26.0/26.0 [00:00&lt;00:00, 1.96kB/s]"
     }
    },
    "10e9b5626eba404588d5d349909ec486": {
     "model_module": "@jupyter-widgets/controls",
     "model_module_version": "1.5.0",
     "model_name": "ProgressStyleModel",
     "state": {
      "_model_module": "@jupyter-widgets/controls",
      "_model_module_version": "1.5.0",
      "_model_name": "ProgressStyleModel",
      "_view_count": null,
      "_view_module": "@jupyter-widgets/base",
      "_view_module_version": "1.2.0",
      "_view_name": "StyleView",
      "bar_color": null,
      "description_width": ""
     }
    },
    "1475f0f84cad4d02aaac885f104e48d9": {
     "model_module": "@jupyter-widgets/base",
     "model_module_version": "1.2.0",
     "model_name": "LayoutModel",
     "state": {
      "_model_module": "@jupyter-widgets/base",
      "_model_module_version": "1.2.0",
      "_model_name": "LayoutModel",
      "_view_count": null,
      "_view_module": "@jupyter-widgets/base",
      "_view_module_version": "1.2.0",
      "_view_name": "LayoutView",
      "align_content": null,
      "align_items": null,
      "align_self": null,
      "border": null,
      "bottom": null,
      "display": null,
      "flex": null,
      "flex_flow": null,
      "grid_area": null,
      "grid_auto_columns": null,
      "grid_auto_flow": null,
      "grid_auto_rows": null,
      "grid_column": null,
      "grid_gap": null,
      "grid_row": null,
      "grid_template_areas": null,
      "grid_template_columns": null,
      "grid_template_rows": null,
      "height": null,
      "justify_content": null,
      "justify_items": null,
      "left": null,
      "margin": null,
      "max_height": null,
      "max_width": null,
      "min_height": null,
      "min_width": null,
      "object_fit": null,
      "object_position": null,
      "order": null,
      "overflow": null,
      "overflow_x": null,
      "overflow_y": null,
      "padding": null,
      "right": null,
      "top": null,
      "visibility": null,
      "width": null
     }
    },
    "162defd82a544996a9246503f1d87d8e": {
     "model_module": "@jupyter-widgets/base",
     "model_module_version": "1.2.0",
     "model_name": "LayoutModel",
     "state": {
      "_model_module": "@jupyter-widgets/base",
      "_model_module_version": "1.2.0",
      "_model_name": "LayoutModel",
      "_view_count": null,
      "_view_module": "@jupyter-widgets/base",
      "_view_module_version": "1.2.0",
      "_view_name": "LayoutView",
      "align_content": null,
      "align_items": null,
      "align_self": null,
      "border": null,
      "bottom": null,
      "display": null,
      "flex": null,
      "flex_flow": null,
      "grid_area": null,
      "grid_auto_columns": null,
      "grid_auto_flow": null,
      "grid_auto_rows": null,
      "grid_column": null,
      "grid_gap": null,
      "grid_row": null,
      "grid_template_areas": null,
      "grid_template_columns": null,
      "grid_template_rows": null,
      "height": null,
      "justify_content": null,
      "justify_items": null,
      "left": null,
      "margin": null,
      "max_height": null,
      "max_width": null,
      "min_height": null,
      "min_width": null,
      "object_fit": null,
      "object_position": null,
      "order": null,
      "overflow": null,
      "overflow_x": null,
      "overflow_y": null,
      "padding": null,
      "right": null,
      "top": null,
      "visibility": null,
      "width": null
     }
    },
    "179347415dc84f1ba67267d2cf808a3b": {
     "model_module": "@jupyter-widgets/controls",
     "model_module_version": "1.5.0",
     "model_name": "HBoxModel",
     "state": {
      "_dom_classes": [],
      "_model_module": "@jupyter-widgets/controls",
      "_model_module_version": "1.5.0",
      "_model_name": "HBoxModel",
      "_view_count": null,
      "_view_module": "@jupyter-widgets/controls",
      "_view_module_version": "1.5.0",
      "_view_name": "HBoxView",
      "box_style": "",
      "children": [
       "IPY_MODEL_40d1f18f0ac240dab72ed6c921f93e17",
       "IPY_MODEL_9782344c7d1e4287be6ede79db520a88",
       "IPY_MODEL_da1fa4aa225b48778d1e0f6196ce0323"
      ],
      "layout": "IPY_MODEL_7070592c7f694442aeb72acc40a4105e"
     }
    },
    "1810e9bf39a64d6e8bd795153bdab947": {
     "model_module": "@jupyter-widgets/controls",
     "model_module_version": "1.5.0",
     "model_name": "FloatProgressModel",
     "state": {
      "_dom_classes": [],
      "_model_module": "@jupyter-widgets/controls",
      "_model_module_version": "1.5.0",
      "_model_name": "FloatProgressModel",
      "_view_count": null,
      "_view_module": "@jupyter-widgets/controls",
      "_view_module_version": "1.5.0",
      "_view_name": "ProgressView",
      "bar_style": "success",
      "description": "",
      "description_tooltip": null,
      "layout": "IPY_MODEL_cea3622a112048889abf9790a36a3430",
      "max": 124,
      "min": 0,
      "orientation": "horizontal",
      "style": "IPY_MODEL_2e4d1feb03464831a39690cca8418e7b",
      "value": 124
     }
    },
    "1d8fa38139fd46a1b907e58c8f492cee": {
     "model_module": "@jupyter-widgets/controls",
     "model_module_version": "1.5.0",
     "model_name": "DescriptionStyleModel",
     "state": {
      "_model_module": "@jupyter-widgets/controls",
      "_model_module_version": "1.5.0",
      "_model_name": "DescriptionStyleModel",
      "_view_count": null,
      "_view_module": "@jupyter-widgets/base",
      "_view_module_version": "1.2.0",
      "_view_name": "StyleView",
      "description_width": ""
     }
    },
    "1efe288b09044c59a1a61567fea01381": {
     "model_module": "@jupyter-widgets/controls",
     "model_module_version": "1.5.0",
     "model_name": "HTMLModel",
     "state": {
      "_dom_classes": [],
      "_model_module": "@jupyter-widgets/controls",
      "_model_module_version": "1.5.0",
      "_model_name": "HTMLModel",
      "_view_count": null,
      "_view_module": "@jupyter-widgets/controls",
      "_view_module_version": "1.5.0",
      "_view_name": "HTMLView",
      "description": "",
      "description_tooltip": null,
      "layout": "IPY_MODEL_f0fe9f8a17e74f54924bc7daafc0e890",
      "placeholder": "​",
      "style": "IPY_MODEL_4aece1edc32649f7be3a032f09bec1d9",
      "value": "tokenizer.json: 100%"
     }
    },
    "1fabef23d47443efbc63e689389bf2f6": {
     "model_module": "@jupyter-widgets/controls",
     "model_module_version": "1.5.0",
     "model_name": "HTMLModel",
     "state": {
      "_dom_classes": [],
      "_model_module": "@jupyter-widgets/controls",
      "_model_module_version": "1.5.0",
      "_model_name": "HTMLModel",
      "_view_count": null,
      "_view_module": "@jupyter-widgets/controls",
      "_view_module_version": "1.5.0",
      "_view_name": "HTMLView",
      "description": "",
      "description_tooltip": null,
      "layout": "IPY_MODEL_622fcaa686cf4c0f8b6fdf6e0ab4fc06",
      "placeholder": "​",
      "style": "IPY_MODEL_5dc6671fcf844de5b5922a918fd064f2",
      "value": "merges.txt: 100%"
     }
    },
    "2086182957284546aa4866bbf38cb622": {
     "model_module": "@jupyter-widgets/controls",
     "model_module_version": "1.5.0",
     "model_name": "FloatProgressModel",
     "state": {
      "_dom_classes": [],
      "_model_module": "@jupyter-widgets/controls",
      "_model_module_version": "1.5.0",
      "_model_name": "FloatProgressModel",
      "_view_count": null,
      "_view_module": "@jupyter-widgets/controls",
      "_view_module_version": "1.5.0",
      "_view_name": "ProgressView",
      "bar_style": "success",
      "description": "",
      "description_tooltip": null,
      "layout": "IPY_MODEL_5547eb66254747ba97fa9ca97a6058de",
      "max": 456318,
      "min": 0,
      "orientation": "horizontal",
      "style": "IPY_MODEL_e7837e02d9ef4f8abf76415df685a193",
      "value": 456318
     }
    },
    "21a1664eed0a43699dd839eef5dfcdef": {
     "model_module": "@jupyter-widgets/controls",
     "model_module_version": "1.5.0",
     "model_name": "HTMLModel",
     "state": {
      "_dom_classes": [],
      "_model_module": "@jupyter-widgets/controls",
      "_model_module_version": "1.5.0",
      "_model_name": "HTMLModel",
      "_view_count": null,
      "_view_module": "@jupyter-widgets/controls",
      "_view_module_version": "1.5.0",
      "_view_name": "HTMLView",
      "description": "",
      "description_tooltip": null,
      "layout": "IPY_MODEL_f3ec5fb56caf4ba3a99e209736014428",
      "placeholder": "​",
      "style": "IPY_MODEL_1d8fa38139fd46a1b907e58c8f492cee",
      "value": " 1.36M/1.36M [00:00&lt;00:00, 3.15MB/s]"
     }
    },
    "25c788619b2c497d88e32e6e74697ef3": {
     "model_module": "@jupyter-widgets/base",
     "model_module_version": "1.2.0",
     "model_name": "LayoutModel",
     "state": {
      "_model_module": "@jupyter-widgets/base",
      "_model_module_version": "1.2.0",
      "_model_name": "LayoutModel",
      "_view_count": null,
      "_view_module": "@jupyter-widgets/base",
      "_view_module_version": "1.2.0",
      "_view_name": "LayoutView",
      "align_content": null,
      "align_items": null,
      "align_self": null,
      "border": null,
      "bottom": null,
      "display": null,
      "flex": null,
      "flex_flow": null,
      "grid_area": null,
      "grid_auto_columns": null,
      "grid_auto_flow": null,
      "grid_auto_rows": null,
      "grid_column": null,
      "grid_gap": null,
      "grid_row": null,
      "grid_template_areas": null,
      "grid_template_columns": null,
      "grid_template_rows": null,
      "height": null,
      "justify_content": null,
      "justify_items": null,
      "left": null,
      "margin": null,
      "max_height": null,
      "max_width": null,
      "min_height": null,
      "min_width": null,
      "object_fit": null,
      "object_position": null,
      "order": null,
      "overflow": null,
      "overflow_x": null,
      "overflow_y": null,
      "padding": null,
      "right": null,
      "top": null,
      "visibility": null,
      "width": null
     }
    },
    "2c035786cb5f43cab56db915ebde9cea": {
     "model_module": "@jupyter-widgets/base",
     "model_module_version": "1.2.0",
     "model_name": "LayoutModel",
     "state": {
      "_model_module": "@jupyter-widgets/base",
      "_model_module_version": "1.2.0",
      "_model_name": "LayoutModel",
      "_view_count": null,
      "_view_module": "@jupyter-widgets/base",
      "_view_module_version": "1.2.0",
      "_view_name": "LayoutView",
      "align_content": null,
      "align_items": null,
      "align_self": null,
      "border": null,
      "bottom": null,
      "display": null,
      "flex": null,
      "flex_flow": null,
      "grid_area": null,
      "grid_auto_columns": null,
      "grid_auto_flow": null,
      "grid_auto_rows": null,
      "grid_column": null,
      "grid_gap": null,
      "grid_row": null,
      "grid_template_areas": null,
      "grid_template_columns": null,
      "grid_template_rows": null,
      "height": null,
      "justify_content": null,
      "justify_items": null,
      "left": null,
      "margin": null,
      "max_height": null,
      "max_width": null,
      "min_height": null,
      "min_width": null,
      "object_fit": null,
      "object_position": null,
      "order": null,
      "overflow": null,
      "overflow_x": null,
      "overflow_y": null,
      "padding": null,
      "right": null,
      "top": null,
      "visibility": null,
      "width": null
     }
    },
    "2e4d1feb03464831a39690cca8418e7b": {
     "model_module": "@jupyter-widgets/controls",
     "model_module_version": "1.5.0",
     "model_name": "ProgressStyleModel",
     "state": {
      "_model_module": "@jupyter-widgets/controls",
      "_model_module_version": "1.5.0",
      "_model_name": "ProgressStyleModel",
      "_view_count": null,
      "_view_module": "@jupyter-widgets/base",
      "_view_module_version": "1.2.0",
      "_view_name": "StyleView",
      "bar_color": null,
      "description_width": ""
     }
    },
    "31733f0e8a6c41848b0fe6235bae9195": {
     "model_module": "@jupyter-widgets/controls",
     "model_module_version": "1.5.0",
     "model_name": "ProgressStyleModel",
     "state": {
      "_model_module": "@jupyter-widgets/controls",
      "_model_module_version": "1.5.0",
      "_model_name": "ProgressStyleModel",
      "_view_count": null,
      "_view_module": "@jupyter-widgets/base",
      "_view_module_version": "1.2.0",
      "_view_name": "StyleView",
      "bar_color": null,
      "description_width": ""
     }
    },
    "33cecec46ab14182840d3396303f229c": {
     "model_module": "@jupyter-widgets/base",
     "model_module_version": "1.2.0",
     "model_name": "LayoutModel",
     "state": {
      "_model_module": "@jupyter-widgets/base",
      "_model_module_version": "1.2.0",
      "_model_name": "LayoutModel",
      "_view_count": null,
      "_view_module": "@jupyter-widgets/base",
      "_view_module_version": "1.2.0",
      "_view_name": "LayoutView",
      "align_content": null,
      "align_items": null,
      "align_self": null,
      "border": null,
      "bottom": null,
      "display": null,
      "flex": null,
      "flex_flow": null,
      "grid_area": null,
      "grid_auto_columns": null,
      "grid_auto_flow": null,
      "grid_auto_rows": null,
      "grid_column": null,
      "grid_gap": null,
      "grid_row": null,
      "grid_template_areas": null,
      "grid_template_columns": null,
      "grid_template_rows": null,
      "height": null,
      "justify_content": null,
      "justify_items": null,
      "left": null,
      "margin": null,
      "max_height": null,
      "max_width": null,
      "min_height": null,
      "min_width": null,
      "object_fit": null,
      "object_position": null,
      "order": null,
      "overflow": null,
      "overflow_x": null,
      "overflow_y": null,
      "padding": null,
      "right": null,
      "top": null,
      "visibility": null,
      "width": null
     }
    },
    "3cb013ab69c74952af3fe8ec62e9240d": {
     "model_module": "@jupyter-widgets/base",
     "model_module_version": "1.2.0",
     "model_name": "LayoutModel",
     "state": {
      "_model_module": "@jupyter-widgets/base",
      "_model_module_version": "1.2.0",
      "_model_name": "LayoutModel",
      "_view_count": null,
      "_view_module": "@jupyter-widgets/base",
      "_view_module_version": "1.2.0",
      "_view_name": "LayoutView",
      "align_content": null,
      "align_items": null,
      "align_self": null,
      "border": null,
      "bottom": null,
      "display": null,
      "flex": null,
      "flex_flow": null,
      "grid_area": null,
      "grid_auto_columns": null,
      "grid_auto_flow": null,
      "grid_auto_rows": null,
      "grid_column": null,
      "grid_gap": null,
      "grid_row": null,
      "grid_template_areas": null,
      "grid_template_columns": null,
      "grid_template_rows": null,
      "height": null,
      "justify_content": null,
      "justify_items": null,
      "left": null,
      "margin": null,
      "max_height": null,
      "max_width": null,
      "min_height": null,
      "min_width": null,
      "object_fit": null,
      "object_position": null,
      "order": null,
      "overflow": null,
      "overflow_x": null,
      "overflow_y": null,
      "padding": null,
      "right": null,
      "top": null,
      "visibility": null,
      "width": null
     }
    },
    "3f751c0c58404c4c9157a41f6d4c6aa3": {
     "model_module": "@jupyter-widgets/controls",
     "model_module_version": "1.5.0",
     "model_name": "HBoxModel",
     "state": {
      "_dom_classes": [],
      "_model_module": "@jupyter-widgets/controls",
      "_model_module_version": "1.5.0",
      "_model_name": "HBoxModel",
      "_view_count": null,
      "_view_module": "@jupyter-widgets/controls",
      "_view_module_version": "1.5.0",
      "_view_name": "HBoxView",
      "box_style": "",
      "children": [
       "IPY_MODEL_1fabef23d47443efbc63e689389bf2f6",
       "IPY_MODEL_2086182957284546aa4866bbf38cb622",
       "IPY_MODEL_61f65572174e4fe58bee89e54804b9fb"
      ],
      "layout": "IPY_MODEL_2c035786cb5f43cab56db915ebde9cea"
     }
    },
    "40d1f18f0ac240dab72ed6c921f93e17": {
     "model_module": "@jupyter-widgets/controls",
     "model_module_version": "1.5.0",
     "model_name": "HTMLModel",
     "state": {
      "_dom_classes": [],
      "_model_module": "@jupyter-widgets/controls",
      "_model_module_version": "1.5.0",
      "_model_name": "HTMLModel",
      "_view_count": null,
      "_view_module": "@jupyter-widgets/controls",
      "_view_module_version": "1.5.0",
      "_view_name": "HTMLView",
      "description": "",
      "description_tooltip": null,
      "layout": "IPY_MODEL_af2f08e8e62d46648d2936fbdbd27f92",
      "placeholder": "​",
      "style": "IPY_MODEL_aa966b9d9b4d41528b60ccffd9e5ecf4",
      "value": "vocab.json: 100%"
     }
    },
    "4aece1edc32649f7be3a032f09bec1d9": {
     "model_module": "@jupyter-widgets/controls",
     "model_module_version": "1.5.0",
     "model_name": "DescriptionStyleModel",
     "state": {
      "_model_module": "@jupyter-widgets/controls",
      "_model_module_version": "1.5.0",
      "_model_name": "DescriptionStyleModel",
      "_view_count": null,
      "_view_module": "@jupyter-widgets/base",
      "_view_module_version": "1.2.0",
      "_view_name": "StyleView",
      "description_width": ""
     }
    },
    "4ce72097fd2d414bae15d314e84c1601": {
     "model_module": "@jupyter-widgets/base",
     "model_module_version": "1.2.0",
     "model_name": "LayoutModel",
     "state": {
      "_model_module": "@jupyter-widgets/base",
      "_model_module_version": "1.2.0",
      "_model_name": "LayoutModel",
      "_view_count": null,
      "_view_module": "@jupyter-widgets/base",
      "_view_module_version": "1.2.0",
      "_view_name": "LayoutView",
      "align_content": null,
      "align_items": null,
      "align_self": null,
      "border": null,
      "bottom": null,
      "display": null,
      "flex": null,
      "flex_flow": null,
      "grid_area": null,
      "grid_auto_columns": null,
      "grid_auto_flow": null,
      "grid_auto_rows": null,
      "grid_column": null,
      "grid_gap": null,
      "grid_row": null,
      "grid_template_areas": null,
      "grid_template_columns": null,
      "grid_template_rows": null,
      "height": null,
      "justify_content": null,
      "justify_items": null,
      "left": null,
      "margin": null,
      "max_height": null,
      "max_width": null,
      "min_height": null,
      "min_width": null,
      "object_fit": null,
      "object_position": null,
      "order": null,
      "overflow": null,
      "overflow_x": null,
      "overflow_y": null,
      "padding": null,
      "right": null,
      "top": null,
      "visibility": null,
      "width": null
     }
    },
    "50efcb39d43747c6a6b75d4f1a82a905": {
     "model_module": "@jupyter-widgets/controls",
     "model_module_version": "1.5.0",
     "model_name": "DescriptionStyleModel",
     "state": {
      "_model_module": "@jupyter-widgets/controls",
      "_model_module_version": "1.5.0",
      "_model_name": "DescriptionStyleModel",
      "_view_count": null,
      "_view_module": "@jupyter-widgets/base",
      "_view_module_version": "1.2.0",
      "_view_name": "StyleView",
      "description_width": ""
     }
    },
    "5122e29250c14689b0e3798d301bd8d9": {
     "model_module": "@jupyter-widgets/controls",
     "model_module_version": "1.5.0",
     "model_name": "FloatProgressModel",
     "state": {
      "_dom_classes": [],
      "_model_module": "@jupyter-widgets/controls",
      "_model_module_version": "1.5.0",
      "_model_name": "FloatProgressModel",
      "_view_count": null,
      "_view_module": "@jupyter-widgets/controls",
      "_view_module_version": "1.5.0",
      "_view_name": "ProgressView",
      "bar_style": "success",
      "description": "",
      "description_tooltip": null,
      "layout": "IPY_MODEL_162defd82a544996a9246503f1d87d8e",
      "max": 1355256,
      "min": 0,
      "orientation": "horizontal",
      "style": "IPY_MODEL_ed7d15352a7a4ff5acc67e2a70712074",
      "value": 1355256
     }
    },
    "5547eb66254747ba97fa9ca97a6058de": {
     "model_module": "@jupyter-widgets/base",
     "model_module_version": "1.2.0",
     "model_name": "LayoutModel",
     "state": {
      "_model_module": "@jupyter-widgets/base",
      "_model_module_version": "1.2.0",
      "_model_name": "LayoutModel",
      "_view_count": null,
      "_view_module": "@jupyter-widgets/base",
      "_view_module_version": "1.2.0",
      "_view_name": "LayoutView",
      "align_content": null,
      "align_items": null,
      "align_self": null,
      "border": null,
      "bottom": null,
      "display": null,
      "flex": null,
      "flex_flow": null,
      "grid_area": null,
      "grid_auto_columns": null,
      "grid_auto_flow": null,
      "grid_auto_rows": null,
      "grid_column": null,
      "grid_gap": null,
      "grid_row": null,
      "grid_template_areas": null,
      "grid_template_columns": null,
      "grid_template_rows": null,
      "height": null,
      "justify_content": null,
      "justify_items": null,
      "left": null,
      "margin": null,
      "max_height": null,
      "max_width": null,
      "min_height": null,
      "min_width": null,
      "object_fit": null,
      "object_position": null,
      "order": null,
      "overflow": null,
      "overflow_x": null,
      "overflow_y": null,
      "padding": null,
      "right": null,
      "top": null,
      "visibility": null,
      "width": null
     }
    },
    "58ebdce076cf468fa948d6dd7ff78232": {
     "model_module": "@jupyter-widgets/controls",
     "model_module_version": "1.5.0",
     "model_name": "HBoxModel",
     "state": {
      "_dom_classes": [],
      "_model_module": "@jupyter-widgets/controls",
      "_model_module_version": "1.5.0",
      "_model_name": "HBoxModel",
      "_view_count": null,
      "_view_module": "@jupyter-widgets/controls",
      "_view_module_version": "1.5.0",
      "_view_name": "HBoxView",
      "box_style": "",
      "children": [
       "IPY_MODEL_d2f07839e6c4415eb7a799e436a25410",
       "IPY_MODEL_e8263c1da2bd4b51aa2504ba63d9d19e",
       "IPY_MODEL_6c72a02d62be45dbae42bc5d9153094a"
      ],
      "layout": "IPY_MODEL_ec7d616c83594d0a862dc055c57fd28e"
     }
    },
    "5dc6671fcf844de5b5922a918fd064f2": {
     "model_module": "@jupyter-widgets/controls",
     "model_module_version": "1.5.0",
     "model_name": "DescriptionStyleModel",
     "state": {
      "_model_module": "@jupyter-widgets/controls",
      "_model_module_version": "1.5.0",
      "_model_name": "DescriptionStyleModel",
      "_view_count": null,
      "_view_module": "@jupyter-widgets/base",
      "_view_module_version": "1.2.0",
      "_view_name": "StyleView",
      "description_width": ""
     }
    },
    "61f65572174e4fe58bee89e54804b9fb": {
     "model_module": "@jupyter-widgets/controls",
     "model_module_version": "1.5.0",
     "model_name": "HTMLModel",
     "state": {
      "_dom_classes": [],
      "_model_module": "@jupyter-widgets/controls",
      "_model_module_version": "1.5.0",
      "_model_name": "HTMLModel",
      "_view_count": null,
      "_view_module": "@jupyter-widgets/controls",
      "_view_module_version": "1.5.0",
      "_view_name": "HTMLView",
      "description": "",
      "description_tooltip": null,
      "layout": "IPY_MODEL_fc0e190fef7f4f0cbf512f6b66274ce0",
      "placeholder": "​",
      "style": "IPY_MODEL_50efcb39d43747c6a6b75d4f1a82a905",
      "value": " 456k/456k [00:00&lt;00:00, 2.09MB/s]"
     }
    },
    "622fcaa686cf4c0f8b6fdf6e0ab4fc06": {
     "model_module": "@jupyter-widgets/base",
     "model_module_version": "1.2.0",
     "model_name": "LayoutModel",
     "state": {
      "_model_module": "@jupyter-widgets/base",
      "_model_module_version": "1.2.0",
      "_model_name": "LayoutModel",
      "_view_count": null,
      "_view_module": "@jupyter-widgets/base",
      "_view_module_version": "1.2.0",
      "_view_name": "LayoutView",
      "align_content": null,
      "align_items": null,
      "align_self": null,
      "border": null,
      "bottom": null,
      "display": null,
      "flex": null,
      "flex_flow": null,
      "grid_area": null,
      "grid_auto_columns": null,
      "grid_auto_flow": null,
      "grid_auto_rows": null,
      "grid_column": null,
      "grid_gap": null,
      "grid_row": null,
      "grid_template_areas": null,
      "grid_template_columns": null,
      "grid_template_rows": null,
      "height": null,
      "justify_content": null,
      "justify_items": null,
      "left": null,
      "margin": null,
      "max_height": null,
      "max_width": null,
      "min_height": null,
      "min_width": null,
      "object_fit": null,
      "object_position": null,
      "order": null,
      "overflow": null,
      "overflow_x": null,
      "overflow_y": null,
      "padding": null,
      "right": null,
      "top": null,
      "visibility": null,
      "width": null
     }
    },
    "6c72a02d62be45dbae42bc5d9153094a": {
     "model_module": "@jupyter-widgets/controls",
     "model_module_version": "1.5.0",
     "model_name": "HTMLModel",
     "state": {
      "_dom_classes": [],
      "_model_module": "@jupyter-widgets/controls",
      "_model_module_version": "1.5.0",
      "_model_name": "HTMLModel",
      "_view_count": null,
      "_view_module": "@jupyter-widgets/controls",
      "_view_module_version": "1.5.0",
      "_view_name": "HTMLView",
      "description": "",
      "description_tooltip": null,
      "layout": "IPY_MODEL_df5844b17e104330a194d81827e4794d",
      "placeholder": "​",
      "style": "IPY_MODEL_6f87853b23f3435baf6e6e970d5cf8be",
      "value": " 718/718 [00:00&lt;00:00, 64.8kB/s]"
     }
    },
    "6d384726355140329f3c9cec99f2b395": {
     "model_module": "@jupyter-widgets/controls",
     "model_module_version": "1.5.0",
     "model_name": "ProgressStyleModel",
     "state": {
      "_model_module": "@jupyter-widgets/controls",
      "_model_module_version": "1.5.0",
      "_model_name": "ProgressStyleModel",
      "_view_count": null,
      "_view_module": "@jupyter-widgets/base",
      "_view_module_version": "1.2.0",
      "_view_name": "StyleView",
      "bar_color": null,
      "description_width": ""
     }
    },
    "6f87853b23f3435baf6e6e970d5cf8be": {
     "model_module": "@jupyter-widgets/controls",
     "model_module_version": "1.5.0",
     "model_name": "DescriptionStyleModel",
     "state": {
      "_model_module": "@jupyter-widgets/controls",
      "_model_module_version": "1.5.0",
      "_model_name": "DescriptionStyleModel",
      "_view_count": null,
      "_view_module": "@jupyter-widgets/base",
      "_view_module_version": "1.2.0",
      "_view_name": "StyleView",
      "description_width": ""
     }
    },
    "7070592c7f694442aeb72acc40a4105e": {
     "model_module": "@jupyter-widgets/base",
     "model_module_version": "1.2.0",
     "model_name": "LayoutModel",
     "state": {
      "_model_module": "@jupyter-widgets/base",
      "_model_module_version": "1.2.0",
      "_model_name": "LayoutModel",
      "_view_count": null,
      "_view_module": "@jupyter-widgets/base",
      "_view_module_version": "1.2.0",
      "_view_name": "LayoutView",
      "align_content": null,
      "align_items": null,
      "align_self": null,
      "border": null,
      "bottom": null,
      "display": null,
      "flex": null,
      "flex_flow": null,
      "grid_area": null,
      "grid_auto_columns": null,
      "grid_auto_flow": null,
      "grid_auto_rows": null,
      "grid_column": null,
      "grid_gap": null,
      "grid_row": null,
      "grid_template_areas": null,
      "grid_template_columns": null,
      "grid_template_rows": null,
      "height": null,
      "justify_content": null,
      "justify_items": null,
      "left": null,
      "margin": null,
      "max_height": null,
      "max_width": null,
      "min_height": null,
      "min_width": null,
      "object_fit": null,
      "object_position": null,
      "order": null,
      "overflow": null,
      "overflow_x": null,
      "overflow_y": null,
      "padding": null,
      "right": null,
      "top": null,
      "visibility": null,
      "width": null
     }
    },
    "728352875c3649baa6cf7f0d6d89976a": {
     "model_module": "@jupyter-widgets/base",
     "model_module_version": "1.2.0",
     "model_name": "LayoutModel",
     "state": {
      "_model_module": "@jupyter-widgets/base",
      "_model_module_version": "1.2.0",
      "_model_name": "LayoutModel",
      "_view_count": null,
      "_view_module": "@jupyter-widgets/base",
      "_view_module_version": "1.2.0",
      "_view_name": "LayoutView",
      "align_content": null,
      "align_items": null,
      "align_self": null,
      "border": null,
      "bottom": null,
      "display": null,
      "flex": null,
      "flex_flow": null,
      "grid_area": null,
      "grid_auto_columns": null,
      "grid_auto_flow": null,
      "grid_auto_rows": null,
      "grid_column": null,
      "grid_gap": null,
      "grid_row": null,
      "grid_template_areas": null,
      "grid_template_columns": null,
      "grid_template_rows": null,
      "height": null,
      "justify_content": null,
      "justify_items": null,
      "left": null,
      "margin": null,
      "max_height": null,
      "max_width": null,
      "min_height": null,
      "min_width": null,
      "object_fit": null,
      "object_position": null,
      "order": null,
      "overflow": null,
      "overflow_x": null,
      "overflow_y": null,
      "padding": null,
      "right": null,
      "top": null,
      "visibility": null,
      "width": null
     }
    },
    "7489ebacd06f46d8a81396c503e86db7": {
     "model_module": "@jupyter-widgets/base",
     "model_module_version": "1.2.0",
     "model_name": "LayoutModel",
     "state": {
      "_model_module": "@jupyter-widgets/base",
      "_model_module_version": "1.2.0",
      "_model_name": "LayoutModel",
      "_view_count": null,
      "_view_module": "@jupyter-widgets/base",
      "_view_module_version": "1.2.0",
      "_view_name": "LayoutView",
      "align_content": null,
      "align_items": null,
      "align_self": null,
      "border": null,
      "bottom": null,
      "display": null,
      "flex": null,
      "flex_flow": null,
      "grid_area": null,
      "grid_auto_columns": null,
      "grid_auto_flow": null,
      "grid_auto_rows": null,
      "grid_column": null,
      "grid_gap": null,
      "grid_row": null,
      "grid_template_areas": null,
      "grid_template_columns": null,
      "grid_template_rows": null,
      "height": null,
      "justify_content": null,
      "justify_items": null,
      "left": null,
      "margin": null,
      "max_height": null,
      "max_width": null,
      "min_height": null,
      "min_width": null,
      "object_fit": null,
      "object_position": null,
      "order": null,
      "overflow": null,
      "overflow_x": null,
      "overflow_y": null,
      "padding": null,
      "right": null,
      "top": null,
      "visibility": null,
      "width": null
     }
    },
    "8a1b8930a65d47a2bda487042d92d54b": {
     "model_module": "@jupyter-widgets/controls",
     "model_module_version": "1.5.0",
     "model_name": "DescriptionStyleModel",
     "state": {
      "_model_module": "@jupyter-widgets/controls",
      "_model_module_version": "1.5.0",
      "_model_name": "DescriptionStyleModel",
      "_view_count": null,
      "_view_module": "@jupyter-widgets/base",
      "_view_module_version": "1.2.0",
      "_view_name": "StyleView",
      "description_width": ""
     }
    },
    "8f84e67ce76a4f009dc53961229a3f40": {
     "model_module": "@jupyter-widgets/controls",
     "model_module_version": "1.5.0",
     "model_name": "DescriptionStyleModel",
     "state": {
      "_model_module": "@jupyter-widgets/controls",
      "_model_module_version": "1.5.0",
      "_model_name": "DescriptionStyleModel",
      "_view_count": null,
      "_view_module": "@jupyter-widgets/base",
      "_view_module_version": "1.2.0",
      "_view_name": "StyleView",
      "description_width": ""
     }
    },
    "9019b75f46004013ac4c502878108597": {
     "model_module": "@jupyter-widgets/controls",
     "model_module_version": "1.5.0",
     "model_name": "HTMLModel",
     "state": {
      "_dom_classes": [],
      "_model_module": "@jupyter-widgets/controls",
      "_model_module_version": "1.5.0",
      "_model_name": "HTMLModel",
      "_view_count": null,
      "_view_module": "@jupyter-widgets/controls",
      "_view_module_version": "1.5.0",
      "_view_name": "HTMLView",
      "description": "",
      "description_tooltip": null,
      "layout": "IPY_MODEL_25c788619b2c497d88e32e6e74697ef3",
      "placeholder": "​",
      "style": "IPY_MODEL_d9e547160a0d4be1be8cc9af0baa5a0c",
      "value": "tokenizer_config.json: 100%"
     }
    },
    "92cc046da26347febf724c4e777a4d5d": {
     "model_module": "@jupyter-widgets/controls",
     "model_module_version": "1.5.0",
     "model_name": "HBoxModel",
     "state": {
      "_dom_classes": [],
      "_model_module": "@jupyter-widgets/controls",
      "_model_module_version": "1.5.0",
      "_model_name": "HBoxModel",
      "_view_count": null,
      "_view_module": "@jupyter-widgets/controls",
      "_view_module_version": "1.5.0",
      "_view_name": "HBoxView",
      "box_style": "",
      "children": [
       "IPY_MODEL_1efe288b09044c59a1a61567fea01381",
       "IPY_MODEL_5122e29250c14689b0e3798d301bd8d9",
       "IPY_MODEL_21a1664eed0a43699dd839eef5dfcdef"
      ],
      "layout": "IPY_MODEL_3cb013ab69c74952af3fe8ec62e9240d"
     }
    },
    "9782344c7d1e4287be6ede79db520a88": {
     "model_module": "@jupyter-widgets/controls",
     "model_module_version": "1.5.0",
     "model_name": "FloatProgressModel",
     "state": {
      "_dom_classes": [],
      "_model_module": "@jupyter-widgets/controls",
      "_model_module_version": "1.5.0",
      "_model_name": "FloatProgressModel",
      "_view_count": null,
      "_view_module": "@jupyter-widgets/controls",
      "_view_module_version": "1.5.0",
      "_view_name": "ProgressView",
      "bar_style": "success",
      "description": "",
      "description_tooltip": null,
      "layout": "IPY_MODEL_e7abbf03372d40af9ea192479e73603a",
      "max": 1042301,
      "min": 0,
      "orientation": "horizontal",
      "style": "IPY_MODEL_31733f0e8a6c41848b0fe6235bae9195",
      "value": 1042301
     }
    },
    "97ddff9129b34fbca679aeee70a6310c": {
     "model_module": "@jupyter-widgets/base",
     "model_module_version": "1.2.0",
     "model_name": "LayoutModel",
     "state": {
      "_model_module": "@jupyter-widgets/base",
      "_model_module_version": "1.2.0",
      "_model_name": "LayoutModel",
      "_view_count": null,
      "_view_module": "@jupyter-widgets/base",
      "_view_module_version": "1.2.0",
      "_view_name": "LayoutView",
      "align_content": null,
      "align_items": null,
      "align_self": null,
      "border": null,
      "bottom": null,
      "display": null,
      "flex": null,
      "flex_flow": null,
      "grid_area": null,
      "grid_auto_columns": null,
      "grid_auto_flow": null,
      "grid_auto_rows": null,
      "grid_column": null,
      "grid_gap": null,
      "grid_row": null,
      "grid_template_areas": null,
      "grid_template_columns": null,
      "grid_template_rows": null,
      "height": null,
      "justify_content": null,
      "justify_items": null,
      "left": null,
      "margin": null,
      "max_height": null,
      "max_width": null,
      "min_height": null,
      "min_width": null,
      "object_fit": null,
      "object_position": null,
      "order": null,
      "overflow": null,
      "overflow_x": null,
      "overflow_y": null,
      "padding": null,
      "right": null,
      "top": null,
      "visibility": null,
      "width": null
     }
    },
    "9c83aa96318445b3a705a27a4bf4f7b5": {
     "model_module": "@jupyter-widgets/controls",
     "model_module_version": "1.5.0",
     "model_name": "ProgressStyleModel",
     "state": {
      "_model_module": "@jupyter-widgets/controls",
      "_model_module_version": "1.5.0",
      "_model_name": "ProgressStyleModel",
      "_view_count": null,
      "_view_module": "@jupyter-widgets/base",
      "_view_module_version": "1.2.0",
      "_view_name": "StyleView",
      "bar_color": null,
      "description_width": ""
     }
    },
    "a0e2039b234c45d0a15f7c7dc2119288": {
     "model_module": "@jupyter-widgets/base",
     "model_module_version": "1.2.0",
     "model_name": "LayoutModel",
     "state": {
      "_model_module": "@jupyter-widgets/base",
      "_model_module_version": "1.2.0",
      "_model_name": "LayoutModel",
      "_view_count": null,
      "_view_module": "@jupyter-widgets/base",
      "_view_module_version": "1.2.0",
      "_view_name": "LayoutView",
      "align_content": null,
      "align_items": null,
      "align_self": null,
      "border": null,
      "bottom": null,
      "display": null,
      "flex": null,
      "flex_flow": null,
      "grid_area": null,
      "grid_auto_columns": null,
      "grid_auto_flow": null,
      "grid_auto_rows": null,
      "grid_column": null,
      "grid_gap": null,
      "grid_row": null,
      "grid_template_areas": null,
      "grid_template_columns": null,
      "grid_template_rows": null,
      "height": null,
      "justify_content": null,
      "justify_items": null,
      "left": null,
      "margin": null,
      "max_height": null,
      "max_width": null,
      "min_height": null,
      "min_width": null,
      "object_fit": null,
      "object_position": null,
      "order": null,
      "overflow": null,
      "overflow_x": null,
      "overflow_y": null,
      "padding": null,
      "right": null,
      "top": null,
      "visibility": null,
      "width": null
     }
    },
    "aa966b9d9b4d41528b60ccffd9e5ecf4": {
     "model_module": "@jupyter-widgets/controls",
     "model_module_version": "1.5.0",
     "model_name": "DescriptionStyleModel",
     "state": {
      "_model_module": "@jupyter-widgets/controls",
      "_model_module_version": "1.5.0",
      "_model_name": "DescriptionStyleModel",
      "_view_count": null,
      "_view_module": "@jupyter-widgets/base",
      "_view_module_version": "1.2.0",
      "_view_name": "StyleView",
      "description_width": ""
     }
    },
    "ad4ab812967846448fdfce651ccb7063": {
     "model_module": "@jupyter-widgets/base",
     "model_module_version": "1.2.0",
     "model_name": "LayoutModel",
     "state": {
      "_model_module": "@jupyter-widgets/base",
      "_model_module_version": "1.2.0",
      "_model_name": "LayoutModel",
      "_view_count": null,
      "_view_module": "@jupyter-widgets/base",
      "_view_module_version": "1.2.0",
      "_view_name": "LayoutView",
      "align_content": null,
      "align_items": null,
      "align_self": null,
      "border": null,
      "bottom": null,
      "display": null,
      "flex": null,
      "flex_flow": null,
      "grid_area": null,
      "grid_auto_columns": null,
      "grid_auto_flow": null,
      "grid_auto_rows": null,
      "grid_column": null,
      "grid_gap": null,
      "grid_row": null,
      "grid_template_areas": null,
      "grid_template_columns": null,
      "grid_template_rows": null,
      "height": null,
      "justify_content": null,
      "justify_items": null,
      "left": null,
      "margin": null,
      "max_height": null,
      "max_width": null,
      "min_height": null,
      "min_width": null,
      "object_fit": null,
      "object_position": null,
      "order": null,
      "overflow": null,
      "overflow_x": null,
      "overflow_y": null,
      "padding": null,
      "right": null,
      "top": null,
      "visibility": null,
      "width": null
     }
    },
    "af2f08e8e62d46648d2936fbdbd27f92": {
     "model_module": "@jupyter-widgets/base",
     "model_module_version": "1.2.0",
     "model_name": "LayoutModel",
     "state": {
      "_model_module": "@jupyter-widgets/base",
      "_model_module_version": "1.2.0",
      "_model_name": "LayoutModel",
      "_view_count": null,
      "_view_module": "@jupyter-widgets/base",
      "_view_module_version": "1.2.0",
      "_view_name": "LayoutView",
      "align_content": null,
      "align_items": null,
      "align_self": null,
      "border": null,
      "bottom": null,
      "display": null,
      "flex": null,
      "flex_flow": null,
      "grid_area": null,
      "grid_auto_columns": null,
      "grid_auto_flow": null,
      "grid_auto_rows": null,
      "grid_column": null,
      "grid_gap": null,
      "grid_row": null,
      "grid_template_areas": null,
      "grid_template_columns": null,
      "grid_template_rows": null,
      "height": null,
      "justify_content": null,
      "justify_items": null,
      "left": null,
      "margin": null,
      "max_height": null,
      "max_width": null,
      "min_height": null,
      "min_width": null,
      "object_fit": null,
      "object_position": null,
      "order": null,
      "overflow": null,
      "overflow_x": null,
      "overflow_y": null,
      "padding": null,
      "right": null,
      "top": null,
      "visibility": null,
      "width": null
     }
    },
    "b1fbf0dc5b6b4ca1ba4303f330112122": {
     "model_module": "@jupyter-widgets/controls",
     "model_module_version": "1.5.0",
     "model_name": "HBoxModel",
     "state": {
      "_dom_classes": [],
      "_model_module": "@jupyter-widgets/controls",
      "_model_module_version": "1.5.0",
      "_model_name": "HBoxModel",
      "_view_count": null,
      "_view_module": "@jupyter-widgets/controls",
      "_view_module_version": "1.5.0",
      "_view_name": "HBoxView",
      "box_style": "",
      "children": [
       "IPY_MODEL_b42a8c1873cd41ca84c74775f3bc3014",
       "IPY_MODEL_1810e9bf39a64d6e8bd795153bdab947",
       "IPY_MODEL_df2280b11cca4ae3a44ece30aa85fe8a"
      ],
      "layout": "IPY_MODEL_ff3e10a64e7c4fa690fbd4e1c62221c8"
     }
    },
    "b230a0231c3349b3b78463283b78cbaa": {
     "model_module": "@jupyter-widgets/controls",
     "model_module_version": "1.5.0",
     "model_name": "HBoxModel",
     "state": {
      "_dom_classes": [],
      "_model_module": "@jupyter-widgets/controls",
      "_model_module_version": "1.5.0",
      "_model_name": "HBoxModel",
      "_view_count": null,
      "_view_module": "@jupyter-widgets/controls",
      "_view_module_version": "1.5.0",
      "_view_name": "HBoxView",
      "box_style": "",
      "children": [
       "IPY_MODEL_9019b75f46004013ac4c502878108597",
       "IPY_MODEL_cda198e4dca048a283ba5a0db23ffe5f",
       "IPY_MODEL_0a5ac1ac6c55452783252a7a5b3665eb"
      ],
      "layout": "IPY_MODEL_b3103efc6a9a40df997b20da2c23488c"
     }
    },
    "b3103efc6a9a40df997b20da2c23488c": {
     "model_module": "@jupyter-widgets/base",
     "model_module_version": "1.2.0",
     "model_name": "LayoutModel",
     "state": {
      "_model_module": "@jupyter-widgets/base",
      "_model_module_version": "1.2.0",
      "_model_name": "LayoutModel",
      "_view_count": null,
      "_view_module": "@jupyter-widgets/base",
      "_view_module_version": "1.2.0",
      "_view_name": "LayoutView",
      "align_content": null,
      "align_items": null,
      "align_self": null,
      "border": null,
      "bottom": null,
      "display": null,
      "flex": null,
      "flex_flow": null,
      "grid_area": null,
      "grid_auto_columns": null,
      "grid_auto_flow": null,
      "grid_auto_rows": null,
      "grid_column": null,
      "grid_gap": null,
      "grid_row": null,
      "grid_template_areas": null,
      "grid_template_columns": null,
      "grid_template_rows": null,
      "height": null,
      "justify_content": null,
      "justify_items": null,
      "left": null,
      "margin": null,
      "max_height": null,
      "max_width": null,
      "min_height": null,
      "min_width": null,
      "object_fit": null,
      "object_position": null,
      "order": null,
      "overflow": null,
      "overflow_x": null,
      "overflow_y": null,
      "padding": null,
      "right": null,
      "top": null,
      "visibility": null,
      "width": null
     }
    },
    "b42a8c1873cd41ca84c74775f3bc3014": {
     "model_module": "@jupyter-widgets/controls",
     "model_module_version": "1.5.0",
     "model_name": "HTMLModel",
     "state": {
      "_dom_classes": [],
      "_model_module": "@jupyter-widgets/controls",
      "_model_module_version": "1.5.0",
      "_model_name": "HTMLModel",
      "_view_count": null,
      "_view_module": "@jupyter-widgets/controls",
      "_view_module_version": "1.5.0",
      "_view_name": "HTMLView",
      "description": "",
      "description_tooltip": null,
      "layout": "IPY_MODEL_4ce72097fd2d414bae15d314e84c1601",
      "placeholder": "​",
      "style": "IPY_MODEL_0549de5fea7f43c5bae919e42514e88f",
      "value": "generation_config.json: 100%"
     }
    },
    "b44ba17001474d0eb94a10aa703ae23e": {
     "model_module": "@jupyter-widgets/controls",
     "model_module_version": "1.5.0",
     "model_name": "FloatProgressModel",
     "state": {
      "_dom_classes": [],
      "_model_module": "@jupyter-widgets/controls",
      "_model_module_version": "1.5.0",
      "_model_name": "FloatProgressModel",
      "_view_count": null,
      "_view_module": "@jupyter-widgets/controls",
      "_view_module_version": "1.5.0",
      "_view_name": "ProgressView",
      "bar_style": "success",
      "description": "",
      "description_tooltip": null,
      "layout": "IPY_MODEL_97ddff9129b34fbca679aeee70a6310c",
      "max": 1519984962,
      "min": 0,
      "orientation": "horizontal",
      "style": "IPY_MODEL_6d384726355140329f3c9cec99f2b395",
      "value": 1519984962
     }
    },
    "c4f9ee72b5334cb7ac457ee2a6736b82": {
     "model_module": "@jupyter-widgets/controls",
     "model_module_version": "1.5.0",
     "model_name": "DescriptionStyleModel",
     "state": {
      "_model_module": "@jupyter-widgets/controls",
      "_model_module_version": "1.5.0",
      "_model_name": "DescriptionStyleModel",
      "_view_count": null,
      "_view_module": "@jupyter-widgets/base",
      "_view_module_version": "1.2.0",
      "_view_name": "StyleView",
      "description_width": ""
     }
    },
    "cda198e4dca048a283ba5a0db23ffe5f": {
     "model_module": "@jupyter-widgets/controls",
     "model_module_version": "1.5.0",
     "model_name": "FloatProgressModel",
     "state": {
      "_dom_classes": [],
      "_model_module": "@jupyter-widgets/controls",
      "_model_module_version": "1.5.0",
      "_model_name": "FloatProgressModel",
      "_view_count": null,
      "_view_module": "@jupyter-widgets/controls",
      "_view_module_version": "1.5.0",
      "_view_name": "ProgressView",
      "bar_style": "success",
      "description": "",
      "description_tooltip": null,
      "layout": "IPY_MODEL_d372cc34d5ce40c7ae3aeb53bf56e410",
      "max": 26,
      "min": 0,
      "orientation": "horizontal",
      "style": "IPY_MODEL_9c83aa96318445b3a705a27a4bf4f7b5",
      "value": 26
     }
    },
    "cea3622a112048889abf9790a36a3430": {
     "model_module": "@jupyter-widgets/base",
     "model_module_version": "1.2.0",
     "model_name": "LayoutModel",
     "state": {
      "_model_module": "@jupyter-widgets/base",
      "_model_module_version": "1.2.0",
      "_model_name": "LayoutModel",
      "_view_count": null,
      "_view_module": "@jupyter-widgets/base",
      "_view_module_version": "1.2.0",
      "_view_name": "LayoutView",
      "align_content": null,
      "align_items": null,
      "align_self": null,
      "border": null,
      "bottom": null,
      "display": null,
      "flex": null,
      "flex_flow": null,
      "grid_area": null,
      "grid_auto_columns": null,
      "grid_auto_flow": null,
      "grid_auto_rows": null,
      "grid_column": null,
      "grid_gap": null,
      "grid_row": null,
      "grid_template_areas": null,
      "grid_template_columns": null,
      "grid_template_rows": null,
      "height": null,
      "justify_content": null,
      "justify_items": null,
      "left": null,
      "margin": null,
      "max_height": null,
      "max_width": null,
      "min_height": null,
      "min_width": null,
      "object_fit": null,
      "object_position": null,
      "order": null,
      "overflow": null,
      "overflow_x": null,
      "overflow_y": null,
      "padding": null,
      "right": null,
      "top": null,
      "visibility": null,
      "width": null
     }
    },
    "d2aad0ee2e2d48fa91c1f9540e24b89e": {
     "model_module": "@jupyter-widgets/controls",
     "model_module_version": "1.5.0",
     "model_name": "HTMLModel",
     "state": {
      "_dom_classes": [],
      "_model_module": "@jupyter-widgets/controls",
      "_model_module_version": "1.5.0",
      "_model_name": "HTMLModel",
      "_view_count": null,
      "_view_module": "@jupyter-widgets/controls",
      "_view_module_version": "1.5.0",
      "_view_name": "HTMLView",
      "description": "",
      "description_tooltip": null,
      "layout": "IPY_MODEL_fcf18127c0fa4aee8994b6a351c8c6c0",
      "placeholder": "​",
      "style": "IPY_MODEL_fd7144e07cb4411785ecfa7d06c68b45",
      "value": "model.safetensors: 100%"
     }
    },
    "d2f07839e6c4415eb7a799e436a25410": {
     "model_module": "@jupyter-widgets/controls",
     "model_module_version": "1.5.0",
     "model_name": "HTMLModel",
     "state": {
      "_dom_classes": [],
      "_model_module": "@jupyter-widgets/controls",
      "_model_module_version": "1.5.0",
      "_model_name": "HTMLModel",
      "_view_count": null,
      "_view_module": "@jupyter-widgets/controls",
      "_view_module_version": "1.5.0",
      "_view_name": "HTMLView",
      "description": "",
      "description_tooltip": null,
      "layout": "IPY_MODEL_ad4ab812967846448fdfce651ccb7063",
      "placeholder": "​",
      "style": "IPY_MODEL_c4f9ee72b5334cb7ac457ee2a6736b82",
      "value": "config.json: 100%"
     }
    },
    "d372cc34d5ce40c7ae3aeb53bf56e410": {
     "model_module": "@jupyter-widgets/base",
     "model_module_version": "1.2.0",
     "model_name": "LayoutModel",
     "state": {
      "_model_module": "@jupyter-widgets/base",
      "_model_module_version": "1.2.0",
      "_model_name": "LayoutModel",
      "_view_count": null,
      "_view_module": "@jupyter-widgets/base",
      "_view_module_version": "1.2.0",
      "_view_name": "LayoutView",
      "align_content": null,
      "align_items": null,
      "align_self": null,
      "border": null,
      "bottom": null,
      "display": null,
      "flex": null,
      "flex_flow": null,
      "grid_area": null,
      "grid_auto_columns": null,
      "grid_auto_flow": null,
      "grid_auto_rows": null,
      "grid_column": null,
      "grid_gap": null,
      "grid_row": null,
      "grid_template_areas": null,
      "grid_template_columns": null,
      "grid_template_rows": null,
      "height": null,
      "justify_content": null,
      "justify_items": null,
      "left": null,
      "margin": null,
      "max_height": null,
      "max_width": null,
      "min_height": null,
      "min_width": null,
      "object_fit": null,
      "object_position": null,
      "order": null,
      "overflow": null,
      "overflow_x": null,
      "overflow_y": null,
      "padding": null,
      "right": null,
      "top": null,
      "visibility": null,
      "width": null
     }
    },
    "d9e547160a0d4be1be8cc9af0baa5a0c": {
     "model_module": "@jupyter-widgets/controls",
     "model_module_version": "1.5.0",
     "model_name": "DescriptionStyleModel",
     "state": {
      "_model_module": "@jupyter-widgets/controls",
      "_model_module_version": "1.5.0",
      "_model_name": "DescriptionStyleModel",
      "_view_count": null,
      "_view_module": "@jupyter-widgets/base",
      "_view_module_version": "1.2.0",
      "_view_name": "StyleView",
      "description_width": ""
     }
    },
    "da1fa4aa225b48778d1e0f6196ce0323": {
     "model_module": "@jupyter-widgets/controls",
     "model_module_version": "1.5.0",
     "model_name": "HTMLModel",
     "state": {
      "_dom_classes": [],
      "_model_module": "@jupyter-widgets/controls",
      "_model_module_version": "1.5.0",
      "_model_name": "HTMLModel",
      "_view_count": null,
      "_view_module": "@jupyter-widgets/controls",
      "_view_module_version": "1.5.0",
      "_view_name": "HTMLView",
      "description": "",
      "description_tooltip": null,
      "layout": "IPY_MODEL_a0e2039b234c45d0a15f7c7dc2119288",
      "placeholder": "​",
      "style": "IPY_MODEL_8a1b8930a65d47a2bda487042d92d54b",
      "value": " 1.04M/1.04M [00:00&lt;00:00, 4.77MB/s]"
     }
    },
    "ddfe0041c56d424492e4bdccacb17fe5": {
     "model_module": "@jupyter-widgets/base",
     "model_module_version": "1.2.0",
     "model_name": "LayoutModel",
     "state": {
      "_model_module": "@jupyter-widgets/base",
      "_model_module_version": "1.2.0",
      "_model_name": "LayoutModel",
      "_view_count": null,
      "_view_module": "@jupyter-widgets/base",
      "_view_module_version": "1.2.0",
      "_view_name": "LayoutView",
      "align_content": null,
      "align_items": null,
      "align_self": null,
      "border": null,
      "bottom": null,
      "display": null,
      "flex": null,
      "flex_flow": null,
      "grid_area": null,
      "grid_auto_columns": null,
      "grid_auto_flow": null,
      "grid_auto_rows": null,
      "grid_column": null,
      "grid_gap": null,
      "grid_row": null,
      "grid_template_areas": null,
      "grid_template_columns": null,
      "grid_template_rows": null,
      "height": null,
      "justify_content": null,
      "justify_items": null,
      "left": null,
      "margin": null,
      "max_height": null,
      "max_width": null,
      "min_height": null,
      "min_width": null,
      "object_fit": null,
      "object_position": null,
      "order": null,
      "overflow": null,
      "overflow_x": null,
      "overflow_y": null,
      "padding": null,
      "right": null,
      "top": null,
      "visibility": null,
      "width": null
     }
    },
    "df2280b11cca4ae3a44ece30aa85fe8a": {
     "model_module": "@jupyter-widgets/controls",
     "model_module_version": "1.5.0",
     "model_name": "HTMLModel",
     "state": {
      "_dom_classes": [],
      "_model_module": "@jupyter-widgets/controls",
      "_model_module_version": "1.5.0",
      "_model_name": "HTMLModel",
      "_view_count": null,
      "_view_module": "@jupyter-widgets/controls",
      "_view_module_version": "1.5.0",
      "_view_name": "HTMLView",
      "description": "",
      "description_tooltip": null,
      "layout": "IPY_MODEL_ddfe0041c56d424492e4bdccacb17fe5",
      "placeholder": "​",
      "style": "IPY_MODEL_8f84e67ce76a4f009dc53961229a3f40",
      "value": " 124/124 [00:00&lt;00:00, 9.94kB/s]"
     }
    },
    "df5844b17e104330a194d81827e4794d": {
     "model_module": "@jupyter-widgets/base",
     "model_module_version": "1.2.0",
     "model_name": "LayoutModel",
     "state": {
      "_model_module": "@jupyter-widgets/base",
      "_model_module_version": "1.2.0",
      "_model_name": "LayoutModel",
      "_view_count": null,
      "_view_module": "@jupyter-widgets/base",
      "_view_module_version": "1.2.0",
      "_view_name": "LayoutView",
      "align_content": null,
      "align_items": null,
      "align_self": null,
      "border": null,
      "bottom": null,
      "display": null,
      "flex": null,
      "flex_flow": null,
      "grid_area": null,
      "grid_auto_columns": null,
      "grid_auto_flow": null,
      "grid_auto_rows": null,
      "grid_column": null,
      "grid_gap": null,
      "grid_row": null,
      "grid_template_areas": null,
      "grid_template_columns": null,
      "grid_template_rows": null,
      "height": null,
      "justify_content": null,
      "justify_items": null,
      "left": null,
      "margin": null,
      "max_height": null,
      "max_width": null,
      "min_height": null,
      "min_width": null,
      "object_fit": null,
      "object_position": null,
      "order": null,
      "overflow": null,
      "overflow_x": null,
      "overflow_y": null,
      "padding": null,
      "right": null,
      "top": null,
      "visibility": null,
      "width": null
     }
    },
    "e7837e02d9ef4f8abf76415df685a193": {
     "model_module": "@jupyter-widgets/controls",
     "model_module_version": "1.5.0",
     "model_name": "ProgressStyleModel",
     "state": {
      "_model_module": "@jupyter-widgets/controls",
      "_model_module_version": "1.5.0",
      "_model_name": "ProgressStyleModel",
      "_view_count": null,
      "_view_module": "@jupyter-widgets/base",
      "_view_module_version": "1.2.0",
      "_view_name": "StyleView",
      "bar_color": null,
      "description_width": ""
     }
    },
    "e7abbf03372d40af9ea192479e73603a": {
     "model_module": "@jupyter-widgets/base",
     "model_module_version": "1.2.0",
     "model_name": "LayoutModel",
     "state": {
      "_model_module": "@jupyter-widgets/base",
      "_model_module_version": "1.2.0",
      "_model_name": "LayoutModel",
      "_view_count": null,
      "_view_module": "@jupyter-widgets/base",
      "_view_module_version": "1.2.0",
      "_view_name": "LayoutView",
      "align_content": null,
      "align_items": null,
      "align_self": null,
      "border": null,
      "bottom": null,
      "display": null,
      "flex": null,
      "flex_flow": null,
      "grid_area": null,
      "grid_auto_columns": null,
      "grid_auto_flow": null,
      "grid_auto_rows": null,
      "grid_column": null,
      "grid_gap": null,
      "grid_row": null,
      "grid_template_areas": null,
      "grid_template_columns": null,
      "grid_template_rows": null,
      "height": null,
      "justify_content": null,
      "justify_items": null,
      "left": null,
      "margin": null,
      "max_height": null,
      "max_width": null,
      "min_height": null,
      "min_width": null,
      "object_fit": null,
      "object_position": null,
      "order": null,
      "overflow": null,
      "overflow_x": null,
      "overflow_y": null,
      "padding": null,
      "right": null,
      "top": null,
      "visibility": null,
      "width": null
     }
    },
    "e8263c1da2bd4b51aa2504ba63d9d19e": {
     "model_module": "@jupyter-widgets/controls",
     "model_module_version": "1.5.0",
     "model_name": "FloatProgressModel",
     "state": {
      "_dom_classes": [],
      "_model_module": "@jupyter-widgets/controls",
      "_model_module_version": "1.5.0",
      "_model_name": "FloatProgressModel",
      "_view_count": null,
      "_view_module": "@jupyter-widgets/controls",
      "_view_module_version": "1.5.0",
      "_view_name": "ProgressView",
      "bar_style": "success",
      "description": "",
      "description_tooltip": null,
      "layout": "IPY_MODEL_728352875c3649baa6cf7f0d6d89976a",
      "max": 718,
      "min": 0,
      "orientation": "horizontal",
      "style": "IPY_MODEL_10e9b5626eba404588d5d349909ec486",
      "value": 718
     }
    },
    "ebed73a5ca29444f99d2ddc0e46d0949": {
     "model_module": "@jupyter-widgets/controls",
     "model_module_version": "1.5.0",
     "model_name": "HBoxModel",
     "state": {
      "_dom_classes": [],
      "_model_module": "@jupyter-widgets/controls",
      "_model_module_version": "1.5.0",
      "_model_name": "HBoxModel",
      "_view_count": null,
      "_view_module": "@jupyter-widgets/controls",
      "_view_module_version": "1.5.0",
      "_view_name": "HBoxView",
      "box_style": "",
      "children": [
       "IPY_MODEL_d2aad0ee2e2d48fa91c1f9540e24b89e",
       "IPY_MODEL_b44ba17001474d0eb94a10aa703ae23e",
       "IPY_MODEL_ff5a1c3848dc40689725f0ad4e0c3012"
      ],
      "layout": "IPY_MODEL_1475f0f84cad4d02aaac885f104e48d9"
     }
    },
    "ec7d616c83594d0a862dc055c57fd28e": {
     "model_module": "@jupyter-widgets/base",
     "model_module_version": "1.2.0",
     "model_name": "LayoutModel",
     "state": {
      "_model_module": "@jupyter-widgets/base",
      "_model_module_version": "1.2.0",
      "_model_name": "LayoutModel",
      "_view_count": null,
      "_view_module": "@jupyter-widgets/base",
      "_view_module_version": "1.2.0",
      "_view_name": "LayoutView",
      "align_content": null,
      "align_items": null,
      "align_self": null,
      "border": null,
      "bottom": null,
      "display": null,
      "flex": null,
      "flex_flow": null,
      "grid_area": null,
      "grid_auto_columns": null,
      "grid_auto_flow": null,
      "grid_auto_rows": null,
      "grid_column": null,
      "grid_gap": null,
      "grid_row": null,
      "grid_template_areas": null,
      "grid_template_columns": null,
      "grid_template_rows": null,
      "height": null,
      "justify_content": null,
      "justify_items": null,
      "left": null,
      "margin": null,
      "max_height": null,
      "max_width": null,
      "min_height": null,
      "min_width": null,
      "object_fit": null,
      "object_position": null,
      "order": null,
      "overflow": null,
      "overflow_x": null,
      "overflow_y": null,
      "padding": null,
      "right": null,
      "top": null,
      "visibility": null,
      "width": null
     }
    },
    "ed7d15352a7a4ff5acc67e2a70712074": {
     "model_module": "@jupyter-widgets/controls",
     "model_module_version": "1.5.0",
     "model_name": "ProgressStyleModel",
     "state": {
      "_model_module": "@jupyter-widgets/controls",
      "_model_module_version": "1.5.0",
      "_model_name": "ProgressStyleModel",
      "_view_count": null,
      "_view_module": "@jupyter-widgets/base",
      "_view_module_version": "1.2.0",
      "_view_name": "StyleView",
      "bar_color": null,
      "description_width": ""
     }
    },
    "f0fe9f8a17e74f54924bc7daafc0e890": {
     "model_module": "@jupyter-widgets/base",
     "model_module_version": "1.2.0",
     "model_name": "LayoutModel",
     "state": {
      "_model_module": "@jupyter-widgets/base",
      "_model_module_version": "1.2.0",
      "_model_name": "LayoutModel",
      "_view_count": null,
      "_view_module": "@jupyter-widgets/base",
      "_view_module_version": "1.2.0",
      "_view_name": "LayoutView",
      "align_content": null,
      "align_items": null,
      "align_self": null,
      "border": null,
      "bottom": null,
      "display": null,
      "flex": null,
      "flex_flow": null,
      "grid_area": null,
      "grid_auto_columns": null,
      "grid_auto_flow": null,
      "grid_auto_rows": null,
      "grid_column": null,
      "grid_gap": null,
      "grid_row": null,
      "grid_template_areas": null,
      "grid_template_columns": null,
      "grid_template_rows": null,
      "height": null,
      "justify_content": null,
      "justify_items": null,
      "left": null,
      "margin": null,
      "max_height": null,
      "max_width": null,
      "min_height": null,
      "min_width": null,
      "object_fit": null,
      "object_position": null,
      "order": null,
      "overflow": null,
      "overflow_x": null,
      "overflow_y": null,
      "padding": null,
      "right": null,
      "top": null,
      "visibility": null,
      "width": null
     }
    },
    "f3ec5fb56caf4ba3a99e209736014428": {
     "model_module": "@jupyter-widgets/base",
     "model_module_version": "1.2.0",
     "model_name": "LayoutModel",
     "state": {
      "_model_module": "@jupyter-widgets/base",
      "_model_module_version": "1.2.0",
      "_model_name": "LayoutModel",
      "_view_count": null,
      "_view_module": "@jupyter-widgets/base",
      "_view_module_version": "1.2.0",
      "_view_name": "LayoutView",
      "align_content": null,
      "align_items": null,
      "align_self": null,
      "border": null,
      "bottom": null,
      "display": null,
      "flex": null,
      "flex_flow": null,
      "grid_area": null,
      "grid_auto_columns": null,
      "grid_auto_flow": null,
      "grid_auto_rows": null,
      "grid_column": null,
      "grid_gap": null,
      "grid_row": null,
      "grid_template_areas": null,
      "grid_template_columns": null,
      "grid_template_rows": null,
      "height": null,
      "justify_content": null,
      "justify_items": null,
      "left": null,
      "margin": null,
      "max_height": null,
      "max_width": null,
      "min_height": null,
      "min_width": null,
      "object_fit": null,
      "object_position": null,
      "order": null,
      "overflow": null,
      "overflow_x": null,
      "overflow_y": null,
      "padding": null,
      "right": null,
      "top": null,
      "visibility": null,
      "width": null
     }
    },
    "fc0e190fef7f4f0cbf512f6b66274ce0": {
     "model_module": "@jupyter-widgets/base",
     "model_module_version": "1.2.0",
     "model_name": "LayoutModel",
     "state": {
      "_model_module": "@jupyter-widgets/base",
      "_model_module_version": "1.2.0",
      "_model_name": "LayoutModel",
      "_view_count": null,
      "_view_module": "@jupyter-widgets/base",
      "_view_module_version": "1.2.0",
      "_view_name": "LayoutView",
      "align_content": null,
      "align_items": null,
      "align_self": null,
      "border": null,
      "bottom": null,
      "display": null,
      "flex": null,
      "flex_flow": null,
      "grid_area": null,
      "grid_auto_columns": null,
      "grid_auto_flow": null,
      "grid_auto_rows": null,
      "grid_column": null,
      "grid_gap": null,
      "grid_row": null,
      "grid_template_areas": null,
      "grid_template_columns": null,
      "grid_template_rows": null,
      "height": null,
      "justify_content": null,
      "justify_items": null,
      "left": null,
      "margin": null,
      "max_height": null,
      "max_width": null,
      "min_height": null,
      "min_width": null,
      "object_fit": null,
      "object_position": null,
      "order": null,
      "overflow": null,
      "overflow_x": null,
      "overflow_y": null,
      "padding": null,
      "right": null,
      "top": null,
      "visibility": null,
      "width": null
     }
    },
    "fcf18127c0fa4aee8994b6a351c8c6c0": {
     "model_module": "@jupyter-widgets/base",
     "model_module_version": "1.2.0",
     "model_name": "LayoutModel",
     "state": {
      "_model_module": "@jupyter-widgets/base",
      "_model_module_version": "1.2.0",
      "_model_name": "LayoutModel",
      "_view_count": null,
      "_view_module": "@jupyter-widgets/base",
      "_view_module_version": "1.2.0",
      "_view_name": "LayoutView",
      "align_content": null,
      "align_items": null,
      "align_self": null,
      "border": null,
      "bottom": null,
      "display": null,
      "flex": null,
      "flex_flow": null,
      "grid_area": null,
      "grid_auto_columns": null,
      "grid_auto_flow": null,
      "grid_auto_rows": null,
      "grid_column": null,
      "grid_gap": null,
      "grid_row": null,
      "grid_template_areas": null,
      "grid_template_columns": null,
      "grid_template_rows": null,
      "height": null,
      "justify_content": null,
      "justify_items": null,
      "left": null,
      "margin": null,
      "max_height": null,
      "max_width": null,
      "min_height": null,
      "min_width": null,
      "object_fit": null,
      "object_position": null,
      "order": null,
      "overflow": null,
      "overflow_x": null,
      "overflow_y": null,
      "padding": null,
      "right": null,
      "top": null,
      "visibility": null,
      "width": null
     }
    },
    "fd7144e07cb4411785ecfa7d06c68b45": {
     "model_module": "@jupyter-widgets/controls",
     "model_module_version": "1.5.0",
     "model_name": "DescriptionStyleModel",
     "state": {
      "_model_module": "@jupyter-widgets/controls",
      "_model_module_version": "1.5.0",
      "_model_name": "DescriptionStyleModel",
      "_view_count": null,
      "_view_module": "@jupyter-widgets/base",
      "_view_module_version": "1.2.0",
      "_view_name": "StyleView",
      "description_width": ""
     }
    },
    "fed923aad3244c69b1a17ec51d8380cf": {
     "model_module": "@jupyter-widgets/controls",
     "model_module_version": "1.5.0",
     "model_name": "DescriptionStyleModel",
     "state": {
      "_model_module": "@jupyter-widgets/controls",
      "_model_module_version": "1.5.0",
      "_model_name": "DescriptionStyleModel",
      "_view_count": null,
      "_view_module": "@jupyter-widgets/base",
      "_view_module_version": "1.2.0",
      "_view_name": "StyleView",
      "description_width": ""
     }
    },
    "ff3e10a64e7c4fa690fbd4e1c62221c8": {
     "model_module": "@jupyter-widgets/base",
     "model_module_version": "1.2.0",
     "model_name": "LayoutModel",
     "state": {
      "_model_module": "@jupyter-widgets/base",
      "_model_module_version": "1.2.0",
      "_model_name": "LayoutModel",
      "_view_count": null,
      "_view_module": "@jupyter-widgets/base",
      "_view_module_version": "1.2.0",
      "_view_name": "LayoutView",
      "align_content": null,
      "align_items": null,
      "align_self": null,
      "border": null,
      "bottom": null,
      "display": null,
      "flex": null,
      "flex_flow": null,
      "grid_area": null,
      "grid_auto_columns": null,
      "grid_auto_flow": null,
      "grid_auto_rows": null,
      "grid_column": null,
      "grid_gap": null,
      "grid_row": null,
      "grid_template_areas": null,
      "grid_template_columns": null,
      "grid_template_rows": null,
      "height": null,
      "justify_content": null,
      "justify_items": null,
      "left": null,
      "margin": null,
      "max_height": null,
      "max_width": null,
      "min_height": null,
      "min_width": null,
      "object_fit": null,
      "object_position": null,
      "order": null,
      "overflow": null,
      "overflow_x": null,
      "overflow_y": null,
      "padding": null,
      "right": null,
      "top": null,
      "visibility": null,
      "width": null
     }
    },
    "ff5a1c3848dc40689725f0ad4e0c3012": {
     "model_module": "@jupyter-widgets/controls",
     "model_module_version": "1.5.0",
     "model_name": "HTMLModel",
     "state": {
      "_dom_classes": [],
      "_model_module": "@jupyter-widgets/controls",
      "_model_module_version": "1.5.0",
      "_model_name": "HTMLModel",
      "_view_count": null,
      "_view_module": "@jupyter-widgets/controls",
      "_view_module_version": "1.5.0",
      "_view_name": "HTMLView",
      "description": "",
      "description_tooltip": null,
      "layout": "IPY_MODEL_33cecec46ab14182840d3396303f229c",
      "placeholder": "​",
      "style": "IPY_MODEL_fed923aad3244c69b1a17ec51d8380cf",
      "value": " 1.52G/1.52G [00:04&lt;00:00, 285MB/s]"
     }
    }
   }
  }
 },
 "nbformat": 4,
 "nbformat_minor": 0
}
